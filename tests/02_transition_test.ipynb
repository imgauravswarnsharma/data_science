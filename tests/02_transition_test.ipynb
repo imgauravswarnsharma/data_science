{
 "cells": [
  {
   "cell_type": "code",
   "execution_count": 7,
   "id": "3fe019c4-8b69-4665-b651-aa2b6eb0cfcc",
   "metadata": {},
   "outputs": [
    {
     "ename": "ZeroDivisionError",
     "evalue": "integer division or modulo by zero",
     "output_type": "error",
     "traceback": [
      "\u001b[1;31m---------------------------------------------------------------------------\u001b[0m",
      "\u001b[1;31mZeroDivisionError\u001b[0m                         Traceback (most recent call last)",
      "Cell \u001b[1;32mIn[7], line 8\u001b[0m\n\u001b[0;32m      6\u001b[0m         count \u001b[38;5;241m=\u001b[39m count \u001b[38;5;241m+\u001b[39m\u001b[38;5;241m1\u001b[39m\n\u001b[0;32m      7\u001b[0m     \u001b[38;5;28;01mreturn\u001b[39;00m count\n\u001b[1;32m----> 8\u001b[0m \u001b[43mfunc\u001b[49m\u001b[43m(\u001b[49m\u001b[38;5;241;43m17\u001b[39;49m\u001b[43m,\u001b[49m\u001b[38;5;241;43m0\u001b[39;49m\u001b[43m)\u001b[49m\n",
      "Cell \u001b[1;32mIn[7], line 4\u001b[0m, in \u001b[0;36mfunc\u001b[1;34m(num1, num2)\u001b[0m\n\u001b[0;32m      2\u001b[0m count \u001b[38;5;241m=\u001b[39m \u001b[38;5;241m0\u001b[39m\n\u001b[0;32m      3\u001b[0m \u001b[38;5;28;01mwhile\u001b[39;00m num1\u001b[38;5;241m>\u001b[39m\u001b[38;5;241m=\u001b[39mnum2:\n\u001b[1;32m----> 4\u001b[0m     num1 \u001b[38;5;241m=\u001b[39m \u001b[43mnum1\u001b[49m\u001b[38;5;241;43m/\u001b[39;49m\u001b[38;5;241;43m/\u001b[39;49m\u001b[43mnum2\u001b[49m\n\u001b[0;32m      5\u001b[0m     \u001b[38;5;28mprint\u001b[39m(count)\n\u001b[0;32m      6\u001b[0m     count \u001b[38;5;241m=\u001b[39m count \u001b[38;5;241m+\u001b[39m\u001b[38;5;241m1\u001b[39m\n",
      "\u001b[1;31mZeroDivisionError\u001b[0m: integer division or modulo by zero"
     ]
    }
   ],
   "source": [
    "def func(num1 =1, num2 =1):\n",
    "    count = 0\n",
    "    while num1>=num2:\n",
    "        num1 = num1//num2\n",
    "        print(count)\n",
    "        count = count +1\n",
    "    return count\n",
    "func(17,0)"
   ]
  },
  {
   "cell_type": "code",
   "execution_count": 4,
   "id": "5797b420-df4c-4c9d-bf34-58a3ccc77ecf",
   "metadata": {},
   "outputs": [
    {
     "data": {
      "text/plain": [
       "3"
      ]
     },
     "execution_count": 4,
     "metadata": {},
     "output_type": "execute_result"
    }
   ],
   "source": [
    "16//5"
   ]
  },
  {
   "cell_type": "code",
   "execution_count": 5,
   "id": "2df9f6c6-8101-4e96-9e24-c0df708a627c",
   "metadata": {},
   "outputs": [
    {
     "data": {
      "text/plain": [
       "3"
      ]
     },
     "execution_count": 5,
     "metadata": {},
     "output_type": "execute_result"
    }
   ],
   "source": [
    "import math\n",
    "math.floor(16//5)"
   ]
  },
  {
   "cell_type": "code",
   "execution_count": null,
   "id": "65640086-66ae-46e8-bd17-2eae2c87fbef",
   "metadata": {},
   "outputs": [],
   "source": [
    "log(16)"
   ]
  },
  {
   "cell_type": "code",
   "execution_count": 8,
   "id": "ebae473e-9d88-4a2c-afcc-6281141cf1ee",
   "metadata": {},
   "outputs": [
    {
     "name": "stdout",
     "output_type": "stream",
     "text": [
      "third\n",
      "second\n",
      "first\n"
     ]
    }
   ],
   "source": [
    "def func_1():\n",
    "    print(\"third\")\n",
    "    func_2()\n",
    "def func_2():\n",
    "    print(\"second\")\n",
    "    func_3()\n",
    "def func_3():\n",
    "    print(\"first\")\n",
    "func_1()"
   ]
  },
  {
   "cell_type": "code",
   "execution_count": 11,
   "id": "6a5e1542-acbd-4540-b320-c8a8d1447852",
   "metadata": {},
   "outputs": [],
   "source": [
    "def func(L):\n",
    "    N = len(L)\n",
    "    i = 0\n",
    "    while i < N:\n",
    "        if L[i] != L[i+1]:\n",
    "            return False\n",
    "        i = i+1\n",
    "    return True\n"
   ]
  },
  {
   "cell_type": "code",
   "execution_count": 16,
   "id": "ec92c2eb-d271-4c92-a736-edd6acf97e61",
   "metadata": {},
   "outputs": [],
   "source": [
    "def func(L):\n",
    "    for i in range(1,len(L)):\n",
    "        if L[i-1]!= L[i]:\n",
    "            return False\n",
    "    return True"
   ]
  },
  {
   "cell_type": "code",
   "execution_count": 25,
   "id": "7affc63b-c6dc-4cf0-a163-26d3bfa3430a",
   "metadata": {},
   "outputs": [
    {
     "data": {
      "text/plain": [
       "True"
      ]
     },
     "execution_count": 25,
     "metadata": {},
     "output_type": "execute_result"
    }
   ],
   "source": [
    "L = [1,1,1,1,1]\n",
    "func(L)"
   ]
  },
  {
   "cell_type": "code",
   "execution_count": 21,
   "id": "0119b609-af1a-4674-8990-928112f46294",
   "metadata": {},
   "outputs": [],
   "source": [
    "def func(L):\n",
    "    return L.count(L[0]) == len(L)"
   ]
  },
  {
   "cell_type": "code",
   "execution_count": 34,
   "id": "d65b5e73-4cf1-4eb9-88fc-d743c3d13aa5",
   "metadata": {},
   "outputs": [],
   "source": [
    "def dot_product(L1,L2):\n",
    "    N = len(L2)-1\n",
    "    dot_sum=0\n",
    "    for i in range(N):\n",
    "        dot_sum = dot_sum + (L1[i]*L2[i])\n",
    "    return dot_sum"
   ]
  },
  {
   "cell_type": "code",
   "execution_count": 35,
   "id": "20e290be-ec9e-4b35-b6e4-8d1d4a8196f4",
   "metadata": {},
   "outputs": [
    {
     "data": {
      "text/plain": [
       "5"
      ]
     },
     "execution_count": 35,
     "metadata": {},
     "output_type": "execute_result"
    }
   ],
   "source": [
    "L1 = [1,2,3]\n",
    "L2 = [1,2,4]\n",
    "dot_product(L1,L2)"
   ]
  },
  {
   "cell_type": "code",
   "execution_count": 40,
   "id": "21dedf1f-d2e2-4982-80de-b336cdb65f89",
   "metadata": {},
   "outputs": [],
   "source": [
    "def do_x(M):\n",
    "    n = len(M)\n",
    "    m = len(M[0])\n",
    "    var_1 = M[0][0]\n",
    "    for i in range(n):\n",
    "        num= -1\n",
    "        for j in range(m):\n",
    "            if M[i][j]> num:\n",
    "                num = M[i][j]\n",
    "        if num>var_1:\n",
    "            var_1 = num\n",
    "    return var_1"
   ]
  },
  {
   "cell_type": "code",
   "execution_count": 45,
   "id": "eeb06ae3-35ce-49cd-9b75-ac48f23af927",
   "metadata": {},
   "outputs": [
    {
     "data": {
      "text/plain": [
       "10"
      ]
     },
     "execution_count": 45,
     "metadata": {},
     "output_type": "execute_result"
    }
   ],
   "source": [
    "M = [[1,2,3],[4,7,6],[9,1,2],[1,10,3]]\n",
    "do_x(M)"
   ]
  },
  {
   "cell_type": "code",
   "execution_count": null,
   "id": "76e899bc-0118-4455-ae55-f07737064987",
   "metadata": {},
   "outputs": [],
   "source": []
  },
  {
   "cell_type": "code",
   "execution_count": 54,
   "id": "37184163-ff64-4ea4-8e30-6f682d5e4ed3",
   "metadata": {},
   "outputs": [],
   "source": [
    "def count_upper(T):\n",
    "    for n in range(T):\n",
    "        A = input()\n",
    "        count = 0\n",
    "        for i in A:\n",
    "            if i.isupper():\n",
    "                count +=1\n",
    "        print(count)"
   ]
  },
  {
   "cell_type": "code",
   "execution_count": 55,
   "id": "0ebc6e1b-c0c8-44d1-95d9-bcb85f3efede",
   "metadata": {},
   "outputs": [
    {
     "name": "stdin",
     "output_type": "stream",
     "text": [
      " ACDqwe\n"
     ]
    },
    {
     "name": "stdout",
     "output_type": "stream",
     "text": [
      "3\n"
     ]
    },
    {
     "name": "stdin",
     "output_type": "stream",
     "text": [
      " ASfg\n"
     ]
    },
    {
     "name": "stdout",
     "output_type": "stream",
     "text": [
      "2\n"
     ]
    },
    {
     "name": "stdin",
     "output_type": "stream",
     "text": [
      " Afg\n"
     ]
    },
    {
     "name": "stdout",
     "output_type": "stream",
     "text": [
      "1\n"
     ]
    },
    {
     "name": "stdin",
     "output_type": "stream",
     "text": [
      " FGHF\n"
     ]
    },
    {
     "name": "stdout",
     "output_type": "stream",
     "text": [
      "4\n"
     ]
    },
    {
     "name": "stdin",
     "output_type": "stream",
     "text": [
      " SDWETR\n"
     ]
    },
    {
     "name": "stdout",
     "output_type": "stream",
     "text": [
      "6\n"
     ]
    }
   ],
   "source": [
    "A = \"ghbABCyj\"\n",
    "count_upper(5)"
   ]
  },
  {
   "cell_type": "code",
   "execution_count": 57,
   "id": "e25578b3-7d93-4ab0-b5d6-dd21bf78d074",
   "metadata": {},
   "outputs": [
    {
     "name": "stdin",
     "output_type": "stream",
     "text": [
      " 4\n",
      " 12\n",
      " 14\n",
      " 11\n",
      " 16\n"
     ]
    },
    {
     "name": "stdout",
     "output_type": "stream",
     "text": [
      "16 11\n"
     ]
    },
    {
     "data": {
      "text/plain": [
       "[12, 14, 11, 16]"
      ]
     },
     "execution_count": 57,
     "metadata": {},
     "output_type": "execute_result"
    }
   ],
   "source": [
    "N = input()\n",
    "N \n",
    "A = []\n",
    "for i in range(N):\n",
    "    X = int(input())\n",
    "    A.append(X)\n",
    "print(max(A), min(A))\n",
    "A"
   ]
  },
  {
   "cell_type": "code",
   "execution_count": 67,
   "id": "fa35791c-2d27-49ef-8e7a-5e5e56d8182a",
   "metadata": {},
   "outputs": [
    {
     "name": "stdin",
     "output_type": "stream",
     "text": [
      " 5 1 2 3 4 5\n"
     ]
    }
   ],
   "source": [
    "4 20 20 340 40 50 60 3"
   ]
  },
  {
   "cell_type": "code",
   "execution_count": 3,
   "id": "6b6198ff-6404-4136-a51d-ad6012a95410",
   "metadata": {},
   "outputs": [
    {
     "name": "stdin",
     "output_type": "stream",
     "text": [
      " 512345\n"
     ]
    },
    {
     "name": "stdout",
     "output_type": "stream",
     "text": [
      "['512345']\n",
      "[]\n"
     ]
    },
    {
     "ename": "ValueError",
     "evalue": "max() arg is an empty sequence",
     "output_type": "error",
     "traceback": [
      "\u001b[1;31m---------------------------------------------------------------------------\u001b[0m",
      "\u001b[1;31mValueError\u001b[0m                                Traceback (most recent call last)",
      "Cell \u001b[1;32mIn[3], line 12\u001b[0m\n\u001b[0;32m     10\u001b[0m     A\u001b[38;5;241m.\u001b[39mappend(x)\n\u001b[0;32m     11\u001b[0m \u001b[38;5;28mprint\u001b[39m(A)\n\u001b[1;32m---> 12\u001b[0m \u001b[38;5;28mprint\u001b[39m(\u001b[38;5;28;43mmax\u001b[39;49m\u001b[43m(\u001b[49m\u001b[43mA\u001b[49m\u001b[43m)\u001b[49m, \u001b[38;5;28mmin\u001b[39m(A))\n",
      "\u001b[1;31mValueError\u001b[0m: max() arg is an empty sequence"
     ]
    }
   ],
   "source": [
    "N = input()\n",
    "N = N.split(\" \")\n",
    "list1 = N\n",
    "A = []\n",
    "print(list1)\n",
    "min_x = float('inf')\n",
    "max_x = float('inf')\n",
    "for i in range(1,len(list1)):\n",
    "    x = int(list1[i])\n",
    "    A.append(x)\n",
    "print(A)\n",
    "print(max(A), min(A))"
   ]
  },
  {
   "cell_type": "code",
   "execution_count": 26,
   "id": "6393f6fe-83dc-4c31-a2c8-4d2e61e01ec6",
   "metadata": {},
   "outputs": [
    {
     "name": "stdin",
     "output_type": "stream",
     "text": [
      " 5 10 8 20 23 87 42 2\n"
     ]
    },
    {
     "name": "stdout",
     "output_type": "stream",
     "text": [
      "['5', '10', '8', '20', '23', '87', '42', '2']\n",
      "[10, 8, 20, 23, 87, 42, 2]\n",
      "87 2\n"
     ]
    }
   ],
   "source": [
    "N = input()\n",
    "N = N.split(\" \")\n",
    "list1 = N\n",
    "A = []\n",
    "print(list1)\n",
    "min_x = float('inf')\n",
    "max_x = float('inf')\n",
    "for i in range(1,len(list1)):\n",
    "    x = int(list1[i])\n",
    "    A.append(x)\n",
    "print(A)\n",
    "print(max(A), min(A))"
   ]
  },
  {
   "cell_type": "code",
   "execution_count": 17,
   "id": "8498bb90-1e03-401b-8986-ecfd6a753bae",
   "metadata": {},
   "outputs": [
    {
     "data": {
      "text/plain": [
       "8"
      ]
     },
     "execution_count": 17,
     "metadata": {},
     "output_type": "execute_result"
    }
   ],
   "source": [
    "type(list1)\n",
    "len(list1)\n",
    "#min(list1)"
   ]
  },
  {
   "cell_type": "code",
   "execution_count": 77,
   "id": "35a884b6-2df3-4eec-aa1d-e8db04aac8a8",
   "metadata": {},
   "outputs": [
    {
     "name": "stdin",
     "output_type": "stream",
     "text": [
      " 4 10 50 40 80\n"
     ]
    },
    {
     "name": "stdout",
     "output_type": "stream",
     "text": [
      "1\n",
      " \n",
      "0\n",
      "4\n",
      " \n",
      "0\n"
     ]
    }
   ],
   "source": [
    "N = input()\n",
    "N\n",
    "N = N[2:]\n",
    "list1 = []\n",
    "for i in N[0::2]:\n",
    "    print(i)"
   ]
  },
  {
   "cell_type": "code",
   "execution_count": 87,
   "id": "9377f27c-17db-486b-9a67-d86c1bd92854",
   "metadata": {},
   "outputs": [
    {
     "name": "stdin",
     "output_type": "stream",
     "text": [
      " 4 10 50 40 80\n"
     ]
    },
    {
     "data": {
      "text/plain": [
       "['4', ' ', '1', '0', ' ', '5', '0', ' ', '4', '0', ' ', '8', '0']"
      ]
     },
     "execution_count": 87,
     "metadata": {},
     "output_type": "execute_result"
    }
   ],
   "source": [
    "N = input()\n",
    "N.split(\" \")\n",
    "N = list(N)\n",
    "type(N)   \n",
    "N"
   ]
  },
  {
   "cell_type": "code",
   "execution_count": 96,
   "id": "b25cfdde-d7da-4fe1-9964-3ace1eca28d4",
   "metadata": {},
   "outputs": [
    {
     "name": "stdin",
     "output_type": "stream",
     "text": [
      " 4 10 20 30 40 5\n"
     ]
    }
   ],
   "source": [
    "N = input()\n",
    "N = N.split(\" \")\n"
   ]
  },
  {
   "cell_type": "code",
   "execution_count": null,
   "id": "4e24c66f-3cd6-471c-9674-c3552eff05d4",
   "metadata": {},
   "outputs": [],
   "source": []
  },
  {
   "cell_type": "code",
   "execution_count": 81,
   "id": "4469f191-ed30-419d-8ec8-0bac405e25f1",
   "metadata": {},
   "outputs": [
    {
     "name": "stdout",
     "output_type": "stream",
     "text": [
      " \n",
      "1\n",
      "0\n",
      " \n",
      "5\n",
      "0\n",
      " \n",
      "4\n",
      "0\n",
      " \n",
      "8\n",
      "0\n"
     ]
    }
   ],
   "source": [
    "for i in range(1, len(N)):\n",
    "    print(N[i])"
   ]
  },
  {
   "cell_type": "code",
   "execution_count": 71,
   "id": "7b92f6ff-b7b1-49f2-b8fe-08a2801673cc",
   "metadata": {},
   "outputs": [
    {
     "data": {
      "text/plain": [
       "[1, 2, 3, 4, 5]"
      ]
     },
     "execution_count": 71,
     "metadata": {},
     "output_type": "execute_result"
    }
   ],
   "source": [
    "list1"
   ]
  },
  {
   "cell_type": "code",
   "execution_count": 95,
   "id": "ead74bb3-aa89-4e3b-8f90-5feebb4df015",
   "metadata": {},
   "outputs": [
    {
     "name": "stdin",
     "output_type": "stream",
     "text": [
      " 2\n",
      " 46\n"
     ]
    },
    {
     "name": "stdout",
     "output_type": "stream",
     "text": [
      "10\n"
     ]
    },
    {
     "name": "stdin",
     "output_type": "stream",
     "text": [
      " 65\n"
     ]
    },
    {
     "name": "stdout",
     "output_type": "stream",
     "text": [
      "11\n"
     ]
    }
   ],
   "source": [
    "T = int(input())\n",
    "for n in range(T):\n",
    "    N  = input()\n",
    "    sum_x =0\n",
    "    for i in range(len(N)):\n",
    "        x = N[i]\n",
    "        x = int(x)\n",
    "        sum_x += x\n",
    "    print(sum_x)"
   ]
  }
 ],
 "metadata": {
  "kernelspec": {
   "display_name": "Python 3 (ipykernel)",
   "language": "python",
   "name": "python3"
  },
  "language_info": {
   "codemirror_mode": {
    "name": "ipython",
    "version": 3
   },
   "file_extension": ".py",
   "mimetype": "text/x-python",
   "name": "python",
   "nbconvert_exporter": "python",
   "pygments_lexer": "ipython3",
   "version": "3.9.12"
  },
  "widgets": {
   "application/vnd.jupyter.widget-state+json": {
    "state": {},
    "version_major": 2,
    "version_minor": 0
   }
  }
 },
 "nbformat": 4,
 "nbformat_minor": 5
}
