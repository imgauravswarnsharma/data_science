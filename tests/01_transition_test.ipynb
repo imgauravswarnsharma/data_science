{
 "cells": [
  {
   "cell_type": "markdown",
   "id": "f8de4881-178e-421f-8dc9-5c6a0e3142e5",
   "metadata": {},
   "source": [
    "# Transition Test Dec 22"
   ]
  },
  {
   "cell_type": "markdown",
   "id": "557c5bf3-a848-435e-9ec1-f3995c448595",
   "metadata": {},
   "source": [
    "### Question 1"
   ]
  },
  {
   "cell_type": "markdown",
   "id": "e382d0bc-8cd2-47b2-a907-54fbd46cdc93",
   "metadata": {},
   "source": [
    "    Write a program to input from the user a float value(A) representing the height of person. You have to print the category of that person.\n",
    "    \n",
    "    If the height is greater than or equal to 195 then that person is \"abnormal\".\n",
    "    If the height is in the range Of [165 -195) then that person is \"taller\".\n",
    "    If the height is in the range Of [150 -165) then that person is \"average\".\n",
    "    If the height is smaller than 150 then that person is a \"dwarf'.\n",
    "    \n",
    "    Input 1:\n",
    "    165\n",
    "    \n",
    "    Input 2:\n",
    "    205.8\n",
    "    \n",
    "    Input 3:\n",
    "    155\n",
    "\n",
    "    Output 1:\n",
    "    taller\n",
    "    \n",
    "    Output 2:\n",
    "    abnormal"
   ]
  },
  {
   "cell_type": "markdown",
   "id": "bb922e03-a026-4e9a-bf54-881e0cb92d71",
   "metadata": {
    "jp-MarkdownHeadingCollapsed": true,
    "tags": []
   },
   "source": [
    "#### Solution Submitted"
   ]
  },
  {
   "cell_type": "code",
   "execution_count": 2,
   "id": "6cff28fc-8eaa-4514-bff8-34c08aec00c8",
   "metadata": {},
   "outputs": [
    {
     "name": "stdin",
     "output_type": "stream",
     "text": [
      " 165.1\n"
     ]
    },
    {
     "name": "stdout",
     "output_type": "stream",
     "text": [
      "taller\n"
     ]
    }
   ],
   "source": [
    "A = float(input())\n",
    "if A >=195:\n",
    "    print(\"abnormal\")\n",
    "elif A>=165 and A<195:\n",
    "    print(\"taller\")\n",
    "elif A>=150 and A<165:\n",
    "    print(\"average\")\n",
    "else:\n",
    "    print(\"dwarf\")"
   ]
  },
  {
   "cell_type": "markdown",
   "id": "e13d5c4b-9a94-4282-a2af-1e4dd66d916f",
   "metadata": {},
   "source": [
    "### Question 2"
   ]
  },
  {
   "cell_type": "markdown",
   "id": "73cb68ef-1d9d-476f-8aaf-1b589462b99d",
   "metadata": {},
   "source": [
    "    Take an integer A as input and write a program to find the frequency of digit 1 in a A\n",
    "    \n",
    "    Input Format:\n",
    "    The first line indicates the number of the test cases\n",
    "    For each testcase a line contains an integer A\n",
    "    .\n",
    "    Output Format:\n",
    "    The frequency of digit 1 in integer format in a new line for each testcase.\n",
    "    \n",
    "    Input 1:\n",
    "    1\n",
    "    121234\n",
    "    \n",
    "    Input 2:\n",
    "    3\n",
    "    901002\n",
    "    300045\n",
    "    \n",
    "    Output I:\n",
    "    2\n",
    "    \n",
    "    Output 2:\n",
    "    1\n",
    "    3"
   ]
  },
  {
   "cell_type": "markdown",
   "id": "b1494433-1f18-4bd6-928a-1d5a265fe54e",
   "metadata": {
    "jp-MarkdownHeadingCollapsed": true,
    "tags": []
   },
   "source": [
    "#### Solution Submitted"
   ]
  },
  {
   "cell_type": "markdown",
   "id": "11ba1903-9874-4b0e-8460-06eb8b4e75f5",
   "metadata": {},
   "source": [
    "The submitted solution is using list as it storing all the inputs at once and printing outpur one by one for each input. Since it was not mentioned in question it was solved under the assumption that it is taking all inputs at once."
   ]
  },
  {
   "cell_type": "code",
   "execution_count": 9,
   "id": "03057e30-551f-4d31-b48e-6996e9561dc8",
   "metadata": {},
   "outputs": [
    {
     "name": "stdin",
     "output_type": "stream",
     "text": [
      " 2\n",
      " 3\n",
      " 411\n"
     ]
    },
    {
     "name": "stdout",
     "output_type": "stream",
     "text": [
      "0\n",
      "2\n"
     ]
    }
   ],
   "source": [
    "def main():\n",
    "    a = int(input())\n",
    "    num_list=[]\n",
    "    count=0\n",
    "    for i in range(1,a+1):\n",
    "        number = int(input())\n",
    "        num_list.append(number)\n",
    "    for i in range(len(num_list)):\n",
    "        count = 0\n",
    "        if num_list[i]!=0:\n",
    "            num = num_list[i]\n",
    "            while num!=0:\n",
    "                r = num%10\n",
    "                num = num//10\n",
    "                if r == 1:\n",
    "                    count +=1\n",
    "            print(count)\n",
    "        else:\n",
    "            print('0')\n",
    "\n",
    "    return 0\n",
    "\n",
    "if __name__ == '__main__':\n",
    "    main()"
   ]
  },
  {
   "cell_type": "markdown",
   "id": "07d30fd4-6c74-43c7-932a-56b1ea50136e",
   "metadata": {
    "tags": []
   },
   "source": [
    "#### Alternative approaches"
   ]
  },
  {
   "cell_type": "markdown",
   "id": "8d72e3a3-c890-4463-9db8-2dc6cbeb6542",
   "metadata": {},
   "source": [
    "Basic difference b/w the submitted solution and these approaches are that below solutions are printing output for each input then taking in the new input"
   ]
  },
  {
   "cell_type": "markdown",
   "id": "6ec34863-3666-4370-add4-98acd8ec193e",
   "metadata": {
    "jp-MarkdownHeadingCollapsed": true,
    "tags": []
   },
   "source": [
    "##### Using for loop using len. Very ineffecient approach for a string"
   ]
  },
  {
   "cell_type": "code",
   "execution_count": 19,
   "id": "cff928a0-0ef8-4f4f-90c4-c40dd0213763",
   "metadata": {},
   "outputs": [
    {
     "name": "stdin",
     "output_type": "stream",
     "text": [
      " 1\n",
      " 1000001\n"
     ]
    },
    {
     "name": "stdout",
     "output_type": "stream",
     "text": [
      "2\n"
     ]
    }
   ],
   "source": [
    "T = int(input()) \n",
    "\n",
    "for i in range(T):\n",
    "    A = int(input())\n",
    "    A = str(A)\n",
    "    count=0\n",
    "    for i in range(len(A)):\n",
    "        A = int(A)\n",
    "        if A!=0:\n",
    "            r = A%10\n",
    "            if r == 1:\n",
    "                count+=1\n",
    "            A = A//10\n",
    "    print(count)"
   ]
  },
  {
   "cell_type": "markdown",
   "id": "b9f113fa-2c22-4c7b-9bf5-487433486afe",
   "metadata": {
    "jp-MarkdownHeadingCollapsed": true,
    "tags": []
   },
   "source": [
    "##### Using for loop and using character of string as index and converting to int. More Effecient approach then prevoius one"
   ]
  },
  {
   "cell_type": "code",
   "execution_count": 14,
   "id": "7a6bea6e-b8f6-496e-8ab2-3c10003ee73b",
   "metadata": {},
   "outputs": [
    {
     "name": "stdin",
     "output_type": "stream",
     "text": [
      " 2\n",
      " 121\n"
     ]
    },
    {
     "name": "stdout",
     "output_type": "stream",
     "text": [
      "2\n"
     ]
    },
    {
     "name": "stdin",
     "output_type": "stream",
     "text": [
      " 455\n"
     ]
    },
    {
     "name": "stdout",
     "output_type": "stream",
     "text": [
      "0\n"
     ]
    }
   ],
   "source": [
    "T = int(input()) \n",
    "\n",
    "for i in range(T):\n",
    "    A = int(input())\n",
    "    A = str(A)\n",
    "    count=0\n",
    "    for i in A:\n",
    "        if int(i)==1:\n",
    "            count+=1\n",
    "    print(count)"
   ]
  },
  {
   "cell_type": "markdown",
   "id": "80fe1303-a14c-43fb-8bd6-be707ada413d",
   "metadata": {
    "jp-MarkdownHeadingCollapsed": true,
    "tags": []
   },
   "source": [
    "##### Using while loop"
   ]
  },
  {
   "cell_type": "code",
   "execution_count": null,
   "id": "d412863d-eb2d-4c31-8f05-c40f08a8ccf7",
   "metadata": {},
   "outputs": [
    {
     "name": "stdin",
     "output_type": "stream",
     "text": [
      " 2\n",
      " 121\n"
     ]
    },
    {
     "name": "stdout",
     "output_type": "stream",
     "text": [
      "2\n"
     ]
    },
    {
     "name": "stdin",
     "output_type": "stream",
     "text": [
      " 234\n"
     ]
    },
    {
     "name": "stdout",
     "output_type": "stream",
     "text": [
      "0\n"
     ]
    }
   ],
   "source": [
    "\n",
    "T = int(input()) \n",
    "\n",
    "for i in range(T):\n",
    "    A = int(input())\n",
    "    count=0\n",
    "    while A>0:\n",
    "        A = int(A)\n",
    "        r = A%10\n",
    "        if r == 1:\n",
    "            count+=1\n",
    "        A = A//10\n",
    "    print(count)"
   ]
  },
  {
   "cell_type": "code",
   "execution_count": null,
   "id": "3696b23b-2cb8-4c27-ba0d-6e475a7ae78c",
   "metadata": {},
   "outputs": [],
   "source": []
  },
  {
   "cell_type": "markdown",
   "id": "9bfc0749-faaf-4839-9cfe-2fbf960f2f7d",
   "metadata": {
    "tags": []
   },
   "source": [
    "### Question 3"
   ]
  },
  {
   "cell_type": "markdown",
   "id": "2df11ce0-c17c-482c-b504-d2e26849d1a4",
   "metadata": {},
   "source": [
    "    Take an integer A as input denoting the basic salary of an employee, you have to calculate the gross salary (in Rs.) with the help of the\n",
    "    below conditions:\n",
    "    If A <= Rs 10,000 then HRA= 20%, DA=80%\n",
    "    If A is between Rs 10,001 to Rs 20,000 then HRA- 25%, DA=90%\n",
    "    If A>= Rs 20,001 then HRA- 30%, DA- 95%\n",
    "\n",
    "    For a given basic salary(BS orA), HRA and DA, Gross Salary is given by:\n",
    "    Gross Salary = BS+ HRA+DA\n",
    "    \n",
    "    NOTE: As the gross salary can have any real value (floating point), you have to tell the floor value of the gross salary.\n",
    "    \n",
    "    Floor value of a floating point is the closest integer less than or equal to that value. For eg, Floor value of 2.91 is 2 .\n",
    "    \n",
    "    Input 1:\n",
    "    22000\n",
    "    Input 2:\n",
    "    100\n",
    "    \n",
    "    Output 1:\n",
    "    49500\n",
    "    Output 2:\n",
    "    200"
   ]
  },
  {
   "cell_type": "markdown",
   "id": "3806ef01-e109-4487-a3ec-6c49d3285ce2",
   "metadata": {
    "jp-MarkdownHeadingCollapsed": true,
    "tags": []
   },
   "source": [
    "#### Solution Submitted"
   ]
  },
  {
   "cell_type": "code",
   "execution_count": 4,
   "id": "3b4d7c8f-2ecf-475d-9a49-366cb2fde434",
   "metadata": {},
   "outputs": [
    {
     "name": "stdin",
     "output_type": "stream",
     "text": [
      " 22000\n"
     ]
    },
    {
     "name": "stdout",
     "output_type": "stream",
     "text": [
      "49500\n"
     ]
    }
   ],
   "source": [
    "import math\n",
    "a = int(input())\n",
    "if a <=10000:\n",
    "    hra = .2*a\n",
    "    da = .8*a\n",
    "elif a>=10001 and a<=20000:\n",
    "    hra = .25*a\n",
    "    da = 0.9*a\n",
    "else:\n",
    "    hra=.3*a\n",
    "    da = .95*a\n",
    "\n",
    "salary = math.floor(a+hra+da)\n",
    "print(salary)"
   ]
  },
  {
   "cell_type": "markdown",
   "id": "7400538e-74ab-43dc-aed1-ff04a6a94120",
   "metadata": {
    "jp-MarkdownHeadingCollapsed": true,
    "tags": []
   },
   "source": [
    "#### Alternative approach"
   ]
  },
  {
   "cell_type": "markdown",
   "id": "7c2c387b-8968-49ef-809b-2bdeb1e54220",
   "metadata": {},
   "source": [
    "floor function was not needed. Unneccsary complication could have simply used int and would have acheived the same result anyway"
   ]
  },
  {
   "cell_type": "code",
   "execution_count": 17,
   "id": "12252724-96c3-498f-b894-b98ed69a8674",
   "metadata": {},
   "outputs": [
    {
     "name": "stdin",
     "output_type": "stream",
     "text": [
      " 21871\n"
     ]
    },
    {
     "name": "stdout",
     "output_type": "stream",
     "text": [
      "49209\n"
     ]
    }
   ],
   "source": [
    "a = int(input())\n",
    "if a <=10000:\n",
    "    hra = .2*a\n",
    "    da = .8*a\n",
    "elif a>=10001 and a<=20000:\n",
    "    hra = .25*a\n",
    "    da = 0.9*a\n",
    "else:\n",
    "    hra=.3*a\n",
    "    da = .95*a\n",
    "\n",
    "salary = int(a+hra+da)\n",
    "print(salary)"
   ]
  },
  {
   "cell_type": "markdown",
   "id": "3e8604d2-b1b1-436a-80cb-6992ae1fa096",
   "metadata": {
    "jp-MarkdownHeadingCollapsed": true,
    "tags": []
   },
   "source": [
    "# Transition Test "
   ]
  },
  {
   "cell_type": "markdown",
   "id": "5b8a0f4c-8e6c-4439-a8dd-5747b538167c",
   "metadata": {
    "jp-MarkdownHeadingCollapsed": true,
    "tags": []
   },
   "source": [
    "### Question "
   ]
  },
  {
   "cell_type": "markdown",
   "id": "065ff3f5-7de7-4fbe-9c3b-2ac6e58f9be8",
   "metadata": {},
   "source": []
  },
  {
   "cell_type": "markdown",
   "id": "ab3593cd-26e1-4c7e-bdea-72875cb5912b",
   "metadata": {
    "tags": []
   },
   "source": [
    "#### Solution Submitted"
   ]
  },
  {
   "cell_type": "code",
   "execution_count": null,
   "id": "6fcdaf04-4b51-436d-a9f5-b98f4f852157",
   "metadata": {},
   "outputs": [],
   "source": []
  },
  {
   "cell_type": "markdown",
   "id": "7b496a37-5449-4be4-a077-28154b1d6c4f",
   "metadata": {
    "tags": []
   },
   "source": [
    "#### Alternative approach"
   ]
  },
  {
   "cell_type": "code",
   "execution_count": null,
   "id": "b2c31030-5eb4-40fb-aa93-56a3da782c0d",
   "metadata": {},
   "outputs": [],
   "source": []
  },
  {
   "cell_type": "markdown",
   "id": "a9fc8616-92b9-45bb-a953-bb4362cd6044",
   "metadata": {
    "jp-MarkdownHeadingCollapsed": true,
    "tags": []
   },
   "source": [
    "### Question "
   ]
  },
  {
   "cell_type": "markdown",
   "id": "9b3138b1-5de3-4b47-880e-fb2e290c6b53",
   "metadata": {},
   "source": []
  },
  {
   "cell_type": "markdown",
   "id": "9e3d8cb8-7ed4-46cf-9fea-147bb84993e5",
   "metadata": {
    "tags": []
   },
   "source": [
    "#### Solution Submitted"
   ]
  },
  {
   "cell_type": "code",
   "execution_count": null,
   "id": "6f67b4cb-6e27-4610-895b-81452011062f",
   "metadata": {},
   "outputs": [],
   "source": []
  },
  {
   "cell_type": "markdown",
   "id": "0e6a6586-ecb2-42b1-a2e2-e643df1f283b",
   "metadata": {
    "tags": []
   },
   "source": [
    "#### Alternative approach"
   ]
  },
  {
   "cell_type": "code",
   "execution_count": null,
   "id": "53005e6b-1953-4077-a590-4d67a18c29c4",
   "metadata": {},
   "outputs": [],
   "source": []
  },
  {
   "cell_type": "markdown",
   "id": "6c9adf97-88e0-43e8-b764-bb5b15d57de1",
   "metadata": {
    "jp-MarkdownHeadingCollapsed": true,
    "tags": []
   },
   "source": [
    "### Question "
   ]
  },
  {
   "cell_type": "markdown",
   "id": "f7d8168c-c708-40a0-afe1-e3d7734491ba",
   "metadata": {},
   "source": []
  },
  {
   "cell_type": "markdown",
   "id": "d7755089-5d4f-42c1-88ff-ca0b497b7816",
   "metadata": {
    "tags": []
   },
   "source": [
    "#### Solution Submitted"
   ]
  },
  {
   "cell_type": "code",
   "execution_count": null,
   "id": "2cfa2a6a-e308-46e6-8aa7-11dcace8c5a5",
   "metadata": {},
   "outputs": [],
   "source": []
  },
  {
   "cell_type": "markdown",
   "id": "ea21560c-ef11-44d5-9caa-35cb2123ed71",
   "metadata": {
    "tags": []
   },
   "source": [
    "#### Alternative approach"
   ]
  },
  {
   "cell_type": "code",
   "execution_count": null,
   "id": "51ab68eb-d04b-44ee-849c-a4dc199c1de9",
   "metadata": {},
   "outputs": [],
   "source": []
  }
 ],
 "metadata": {
  "kernelspec": {
   "display_name": "Python 3 (ipykernel)",
   "language": "python",
   "name": "python3"
  },
  "language_info": {
   "codemirror_mode": {
    "name": "ipython",
    "version": 3
   },
   "file_extension": ".py",
   "mimetype": "text/x-python",
   "name": "python",
   "nbconvert_exporter": "python",
   "pygments_lexer": "ipython3",
   "version": "3.10.6"
  },
  "widgets": {
   "application/vnd.jupyter.widget-state+json": {
    "state": {},
    "version_major": 2,
    "version_minor": 0
   }
  }
 },
 "nbformat": 4,
 "nbformat_minor": 5
}
