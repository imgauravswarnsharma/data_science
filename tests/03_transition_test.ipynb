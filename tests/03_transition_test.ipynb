{
 "cells": [
  {
   "cell_type": "markdown",
   "id": "aa665d56-2002-42a8-ba05-f45dfa73f7af",
   "metadata": {
    "tags": []
   },
   "source": [
    "# Transition Test Mar 22"
   ]
  },
  {
   "cell_type": "markdown",
   "id": "ec78aab3-2b3d-43da-8d45-9fc13190a14c",
   "metadata": {
    "tags": []
   },
   "source": [
    "#### Question 1: Num Mania"
   ]
  },
  {
   "cell_type": "markdown",
   "id": "9fa6c766-fed8-4d2d-b714-4e6bd6f2fb4d",
   "metadata": {},
   "source": [
    "    You are playing a Game called Num Mania. In this, you are given a string S and you compete with your friends to return the list of all numbers\n",
    "    in the string. While your other friends are solving manually. you have decided to write a python function. Complete the function to accomplish\n",
    "    this task.\n",
    "    Note: The string Will have no punctuation.\n",
    "\n",
    "    Input Format\n",
    "    String S\n",
    "\n",
    "    Output Format\n",
    "    List of Integers\n",
    "    The relative order of numbers in the list should be same as that in the string.\n",
    "    \n",
    "    Sample Input\n",
    "    I was born in 2000 1 am now 22 years old and have been 2 years into Data Science\n",
    "    \n",
    "    Sample Output\n",
    "    [2000, 22, 2]"
   ]
  },
  {
   "cell_type": "markdown",
   "id": "eac3517c-3740-4c2b-960d-91cc1f5b9236",
   "metadata": {
    "jp-MarkdownHeadingCollapsed": true,
    "tags": []
   },
   "source": [
    "##### Solution Submitted"
   ]
  },
  {
   "cell_type": "code",
   "execution_count": 1,
   "id": "47b36fdb-8a8f-4753-95c7-b17f7a773468",
   "metadata": {},
   "outputs": [
    {
     "name": "stdout",
     "output_type": "stream",
     "text": [
      "[2000, 22, 2]\n"
     ]
    }
   ],
   "source": [
    "def only_nums(sentence):\n",
    "    result = []\n",
    "    temp = ''\n",
    "    for i in sentence:\n",
    "        if ord(i) >= 48 and ord(i) <=57:\n",
    "            temp +=i\n",
    "        if i.isspace() and temp:\n",
    "            result.append(int(temp))\n",
    "            temp = ''\n",
    "    return result\n",
    "\n",
    "x = \"I was born in 2000 I am now 22 yeaers old amd 2 years\"\n",
    "print(only_nums(x))"
   ]
  },
  {
   "cell_type": "markdown",
   "id": "8a5b1ce4-3b8c-4182-88c2-bb35c0f13035",
   "metadata": {
    "jp-MarkdownHeadingCollapsed": true,
    "tags": []
   },
   "source": [
    "##### Exercise Solution"
   ]
  },
  {
   "cell_type": "code",
   "execution_count": 3,
   "id": "7ebb6121-1a14-4b4a-992d-87f95ac059ee",
   "metadata": {},
   "outputs": [
    {
     "name": "stdout",
     "output_type": "stream",
     "text": [
      "[2000, 22, 2]\n"
     ]
    }
   ],
   "source": [
    "def only_nums(sentence):\n",
    "    result = None\n",
    "    words = sentence. split()\n",
    "    result = [int(number) for number in words if not number. isalpha()]\n",
    "    return result\n",
    "\n",
    "x = \"I was born in 2000 I am now 22 yeaers old amd 2 years\"\n",
    "print(only_nums(x))"
   ]
  },
  {
   "cell_type": "markdown",
   "id": "563d23cd-f2fa-4c15-957d-827c125ff010",
   "metadata": {
    "tags": []
   },
   "source": [
    "#### Question 2: Busy Mathematician"
   ]
  },
  {
   "cell_type": "markdown",
   "id": "7f08e442-cbe2-4e89-aa59-2a35873c7611",
   "metadata": {},
   "source": [
    "    Being a Mathematician is a difficult task, You are busy With your  experiments and your student has asked you to convert some matrices to their transposed form. Being busy you have developed a python function to generate the answers.\n",
    "    \n",
    "    Given a matrix M, complete the python function to return the transposed form the matrix M.\n",
    "    \n",
    "    Input Format:\n",
    "    Space-separated values for the number of rows and columns respectively\n",
    "    Following each line denotes the elements of the respective row\n",
    "    Space-separated values of each element in the row\n",
    "    \n",
    "    Output Format:\n",
    "    The Transpose of the Matrix\n",
    "    \n",
    "    Example Input:\n",
    "    2 4\n",
    "    1 2 3 4\n",
    "    5 6 7 8\n",
    "    \n",
    "    Example Output:\n",
    "    [[1,5], [2, 61, [3, 7], [4,8]]"
   ]
  },
  {
   "cell_type": "markdown",
   "id": "5f01ad15-ad19-418a-a5fe-74f62a02cdf9",
   "metadata": {
    "jp-MarkdownHeadingCollapsed": true,
    "tags": []
   },
   "source": [
    "##### Solution Submitted"
   ]
  },
  {
   "cell_type": "code",
   "execution_count": 4,
   "id": "cc58c458-c242-4d2f-9cac-e64ebef918c5",
   "metadata": {},
   "outputs": [
    {
     "data": {
      "text/plain": [
       "[[1, 5], [2, 6], [3, 7], [4, 8]]"
      ]
     },
     "execution_count": 4,
     "metadata": {},
     "output_type": "execute_result"
    }
   ],
   "source": [
    "def transpose(matrix):\n",
    "    result = \"\"\n",
    "    result = [[matrix[j][i] for j in range(len(matrix))] for i in range(len(matrix[0]))]\n",
    "    return result\n",
    "\n",
    "x = [[1,2,3,4],[5,6,7,8]]\n",
    "transpose(x)"
   ]
  },
  {
   "cell_type": "markdown",
   "id": "c09e081d-6085-4311-91a6-24423e9dac22",
   "metadata": {
    "jp-MarkdownHeadingCollapsed": true,
    "tags": []
   },
   "source": [
    "##### Exercise Solution"
   ]
  },
  {
   "cell_type": "code",
   "execution_count": 6,
   "id": "eeeb2213-5de6-4ca0-b633-40863d16bec5",
   "metadata": {},
   "outputs": [
    {
     "data": {
      "text/plain": [
       "[[1, 5], [2, 6], [3, 7], [4, 8]]"
      ]
     },
     "execution_count": 6,
     "metadata": {},
     "output_type": "execute_result"
    }
   ],
   "source": [
    "def transpose (matrix) :\n",
    "    transpose = []\n",
    "    for i in range(len(matrix[0])):\n",
    "        transpose.append([row[i] for row in matrix])\n",
    "    return transpose\n",
    "\n",
    "x = [[1,2,3,4],[5,6,7,8]]\n",
    "transpose(x)"
   ]
  },
  {
   "cell_type": "markdown",
   "id": "db5f6bad-0fd4-4b4a-8126-2e2daa3be7a3",
   "metadata": {
    "tags": []
   },
   "source": [
    "### Question 3: Equal or smaller elements"
   ]
  },
  {
   "cell_type": "markdown",
   "id": "e67dd4c0-8353-49c0-940a-6c2493c08167",
   "metadata": {
    "tags": []
   },
   "source": [
    "    Given a sorted array A Of size N. Find the number Of elements that are less than or equal to B.\n",
    "    NOTE: Expected Time Complexity O(log N)\n",
    "    \n",
    "    Input Format:\n",
    "    Space separated values for elements in array A.\n",
    "    An integer B.\n",
    "    \n",
    "    Output Format:\n",
    "    Return an integer denoting the number of elements which are less than or equal to 3.\n",
    "    \n",
    "    Input 1:\n",
    "    A = [1, 3, 4, 4, 6]\n",
    "    B = 4\n",
    "    \n",
    "    Input 2:\n",
    "    A = [1, 2, 5, 5]\n",
    "    B = 3\n",
    "    \n",
    "    Output 1:\n",
    "    4\n",
    "    \n",
    "    Output 2:\n",
    "    2\n",
    "    \n",
    "    Example Explanation:\n",
    "    Explanation 1: 4 elements (1.3, 4, 4) are less than or equal to 4.\n",
    "    Explanation 2: 2 elements (1.2) are less than or equal to 3."
   ]
  },
  {
   "cell_type": "markdown",
   "id": "2363c51b-4f86-41bc-be0d-c3c9ba781811",
   "metadata": {
    "jp-MarkdownHeadingCollapsed": true,
    "tags": []
   },
   "source": [
    "##### Solution Submitted"
   ]
  },
  {
   "cell_type": "code",
   "execution_count": 7,
   "id": "f70e9b07-6e59-4414-a293-2ed04abdf5f5",
   "metadata": {},
   "outputs": [],
   "source": [
    "class Solution:\n",
    "    # @param A : list of integers\n",
    "    # @param B : integer\n",
    "    # @return an integer\n",
    "    def solve(self, A, B):\n",
    "        #YOUR CODE GOES HERE\n",
    "        start = 0\n",
    "        end = len(A)-1\n",
    "        result = 0\n",
    "        \n",
    "        while start < end:\n",
    "            mid = (start+end)//2\n",
    "            if A[mid] <=B:\n",
    "                start = mid +1\n",
    "                result = mid +1\n",
    "            elif A[mid]>B:\n",
    "                end = mid -1\n",
    "        \n",
    "        return result"
   ]
  }
 ],
 "metadata": {
  "kernelspec": {
   "display_name": "Python 3 (ipykernel)",
   "language": "python",
   "name": "python3"
  },
  "language_info": {
   "codemirror_mode": {
    "name": "ipython",
    "version": 3
   },
   "file_extension": ".py",
   "mimetype": "text/x-python",
   "name": "python",
   "nbconvert_exporter": "python",
   "pygments_lexer": "ipython3",
   "version": "3.9.12"
  },
  "widgets": {
   "application/vnd.jupyter.widget-state+json": {
    "state": {},
    "version_major": 2,
    "version_minor": 0
   }
  }
 },
 "nbformat": 4,
 "nbformat_minor": 5
}
