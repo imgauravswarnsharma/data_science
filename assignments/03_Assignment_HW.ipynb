{
 "cells": [
  {
   "cell_type": "markdown",
   "id": "1a79153b-1db7-45ba-95af-fd4f3c5a3609",
   "metadata": {
    "tags": []
   },
   "source": [
    "## Assignments"
   ]
  },
  {
   "cell_type": "markdown",
   "id": "f119cc07-7c10-4196-80f3-6c00524a5d3f",
   "metadata": {
    "tags": []
   },
   "source": [
    "### Day xx:"
   ]
  },
  {
   "cell_type": "markdown",
   "id": "e13508f7-bdbb-477e-85d5-146b7af2bea5",
   "metadata": {
    "tags": []
   },
   "source": [
    "#### Question x"
   ]
  },
  {
   "cell_type": "code",
   "execution_count": null,
   "id": "413ab5c2-1a1a-4353-b94b-ed10414be0a7",
   "metadata": {},
   "outputs": [],
   "source": []
  },
  {
   "cell_type": "markdown",
   "id": "5708c66a-6b04-4867-a588-398881e90166",
   "metadata": {
    "tags": []
   },
   "source": [
    "##### Solution Submitted"
   ]
  },
  {
   "cell_type": "code",
   "execution_count": null,
   "id": "1da49184-0b27-4700-ab98-ac9b68858c9a",
   "metadata": {},
   "outputs": [],
   "source": []
  },
  {
   "cell_type": "code",
   "execution_count": null,
   "id": "c1b2cb69-dfeb-41e5-875f-867f7abe28da",
   "metadata": {},
   "outputs": [],
   "source": [
    "# Output\n"
   ]
  },
  {
   "cell_type": "markdown",
   "id": "30e24849-def4-41b3-8e45-0eec4d3bf0de",
   "metadata": {
    "tags": []
   },
   "source": [
    "##### Full Solution"
   ]
  },
  {
   "cell_type": "code",
   "execution_count": null,
   "id": "910c5b25-9423-4ad5-be1b-13f3b29e604e",
   "metadata": {},
   "outputs": [],
   "source": []
  },
  {
   "cell_type": "code",
   "execution_count": null,
   "id": "eaf02fee-a6d1-41c6-b1d9-6aec05d79bc6",
   "metadata": {},
   "outputs": [],
   "source": [
    "# Output\n"
   ]
  },
  {
   "cell_type": "markdown",
   "id": "5ecc40e4-2797-45d7-bde4-4e5defb7d603",
   "metadata": {
    "tags": []
   },
   "source": [
    "### Day xx:"
   ]
  },
  {
   "cell_type": "markdown",
   "id": "2d44ec2c-a755-4110-853e-bd313ed66120",
   "metadata": {
    "tags": []
   },
   "source": [
    "#### Question x"
   ]
  },
  {
   "cell_type": "code",
   "execution_count": null,
   "id": "e90745c9-351a-4427-94b7-0147052116a0",
   "metadata": {},
   "outputs": [],
   "source": []
  },
  {
   "cell_type": "markdown",
   "id": "3d7aafdb-d4ad-49b8-8d12-c77769039f10",
   "metadata": {
    "tags": []
   },
   "source": [
    "##### Solution Submitted"
   ]
  },
  {
   "cell_type": "code",
   "execution_count": null,
   "id": "211835b0-b3cd-467c-8afa-6f282eb678fe",
   "metadata": {},
   "outputs": [],
   "source": []
  },
  {
   "cell_type": "code",
   "execution_count": null,
   "id": "376aaec7-2f07-4694-b22a-6d057e44d465",
   "metadata": {},
   "outputs": [],
   "source": [
    "# Output\n"
   ]
  },
  {
   "cell_type": "markdown",
   "id": "0de5364d-5e32-4680-b155-9eb0b17f63ab",
   "metadata": {
    "tags": []
   },
   "source": [
    "##### Full Solution"
   ]
  },
  {
   "cell_type": "code",
   "execution_count": null,
   "id": "60da6f68-c22d-45e5-be0a-7bb6a50162ad",
   "metadata": {},
   "outputs": [],
   "source": []
  },
  {
   "cell_type": "code",
   "execution_count": null,
   "id": "d4b8d48a-3dc7-4e58-8e28-6e651bce7a67",
   "metadata": {},
   "outputs": [],
   "source": [
    "# Output\n"
   ]
  },
  {
   "cell_type": "markdown",
   "id": "98eec0a6-a735-425c-ae27-5024eb4c673a",
   "metadata": {
    "tags": []
   },
   "source": [
    "### Day xx:"
   ]
  },
  {
   "cell_type": "markdown",
   "id": "68e5af30-f2b0-4dfb-82a5-af19120dc92d",
   "metadata": {
    "tags": []
   },
   "source": [
    "#### Question x"
   ]
  },
  {
   "cell_type": "code",
   "execution_count": null,
   "id": "b5e97365-f114-4732-bdfb-856fbdddf4b1",
   "metadata": {},
   "outputs": [],
   "source": []
  },
  {
   "cell_type": "markdown",
   "id": "ed342631-e6b8-49b0-bb6b-2b28c83674e4",
   "metadata": {
    "tags": []
   },
   "source": [
    "##### Solution Submitted"
   ]
  },
  {
   "cell_type": "code",
   "execution_count": null,
   "id": "bce9d066-81cb-4edc-96e1-16c050c9c52d",
   "metadata": {},
   "outputs": [],
   "source": []
  },
  {
   "cell_type": "code",
   "execution_count": null,
   "id": "2e59dad4-3265-4862-9de3-87c3e36cdf5b",
   "metadata": {},
   "outputs": [],
   "source": [
    "# Output\n"
   ]
  },
  {
   "cell_type": "markdown",
   "id": "e8611bf5-a7b3-400c-9996-68fddb60fba6",
   "metadata": {
    "tags": []
   },
   "source": [
    "##### Full Solution"
   ]
  },
  {
   "cell_type": "code",
   "execution_count": null,
   "id": "92d33c7f-23f1-44d4-8c69-04eaae1cf403",
   "metadata": {},
   "outputs": [],
   "source": []
  },
  {
   "cell_type": "code",
   "execution_count": null,
   "id": "ebde7b81-d1ac-485d-86f5-43c1d4474d65",
   "metadata": {},
   "outputs": [],
   "source": [
    "# Output\n"
   ]
  },
  {
   "cell_type": "markdown",
   "id": "92994c95-5e52-48b5-9ed3-34a4bfdc91b6",
   "metadata": {
    "tags": []
   },
   "source": [
    "### Day xx:"
   ]
  },
  {
   "cell_type": "markdown",
   "id": "7e4147f3-a0f2-447c-8723-6b6321e08ad0",
   "metadata": {
    "tags": []
   },
   "source": [
    "#### Question x"
   ]
  },
  {
   "cell_type": "code",
   "execution_count": null,
   "id": "f5df8971-4e68-43db-b6b5-00b444ab9bc0",
   "metadata": {},
   "outputs": [],
   "source": []
  },
  {
   "cell_type": "markdown",
   "id": "6121e86c-7cef-4b1d-a0c3-f7e9e4a90831",
   "metadata": {
    "tags": []
   },
   "source": [
    "##### Solution Submitted"
   ]
  },
  {
   "cell_type": "code",
   "execution_count": null,
   "id": "0e331ab8-8214-4e7f-aade-8edbbabeab17",
   "metadata": {},
   "outputs": [],
   "source": []
  },
  {
   "cell_type": "code",
   "execution_count": null,
   "id": "570f9805-c20a-4ced-938e-10ae0c3a0975",
   "metadata": {},
   "outputs": [],
   "source": [
    "# Output\n"
   ]
  },
  {
   "cell_type": "markdown",
   "id": "db06bab8-3d20-4e79-a7d0-8e893ff78431",
   "metadata": {
    "tags": []
   },
   "source": [
    "##### Full Solution"
   ]
  },
  {
   "cell_type": "code",
   "execution_count": null,
   "id": "fb8ef665-5f55-44e2-b1eb-b3f91db05e49",
   "metadata": {},
   "outputs": [],
   "source": []
  },
  {
   "cell_type": "code",
   "execution_count": null,
   "id": "38b18487-e04d-4c7c-b9b1-b98e647d8bd8",
   "metadata": {},
   "outputs": [],
   "source": [
    "# Output\n"
   ]
  },
  {
   "cell_type": "markdown",
   "id": "0a8b88f7-1ddc-47e5-9c19-e917afcbf244",
   "metadata": {
    "tags": []
   },
   "source": [
    "### Day xx:"
   ]
  },
  {
   "cell_type": "markdown",
   "id": "d522724b-abbc-4f76-b874-d7f18d6bb8f4",
   "metadata": {
    "tags": []
   },
   "source": [
    "#### Question x"
   ]
  },
  {
   "cell_type": "code",
   "execution_count": null,
   "id": "f5f4a216-3b8a-4e1d-b71e-d6ce86eb7b85",
   "metadata": {},
   "outputs": [],
   "source": []
  },
  {
   "cell_type": "markdown",
   "id": "33c23b77-d21c-43b0-b3d5-54c89154f7ac",
   "metadata": {
    "tags": []
   },
   "source": [
    "##### Solution Submitted"
   ]
  },
  {
   "cell_type": "code",
   "execution_count": null,
   "id": "b574a757-a70d-4daa-96bd-a875dbfef545",
   "metadata": {},
   "outputs": [],
   "source": []
  },
  {
   "cell_type": "code",
   "execution_count": null,
   "id": "2f8d61ef-8df1-4e4f-9abd-e07a90abdfd6",
   "metadata": {},
   "outputs": [],
   "source": [
    "# Output\n"
   ]
  },
  {
   "cell_type": "markdown",
   "id": "3cb18fc7-408f-4b22-8f35-991abd9ba823",
   "metadata": {
    "tags": []
   },
   "source": [
    "##### Full Solution"
   ]
  },
  {
   "cell_type": "code",
   "execution_count": null,
   "id": "51ebe2e2-de4c-4f88-9aa7-b68f3dec664a",
   "metadata": {},
   "outputs": [],
   "source": []
  },
  {
   "cell_type": "code",
   "execution_count": null,
   "id": "3f2a705d-f93e-4461-81f5-6eeb847bb921",
   "metadata": {},
   "outputs": [],
   "source": [
    "# Output\n"
   ]
  },
  {
   "cell_type": "markdown",
   "id": "ef34f3db-92e7-411b-8d16-843402f861b6",
   "metadata": {
    "tags": []
   },
   "source": [
    "### Day xx:"
   ]
  },
  {
   "cell_type": "markdown",
   "id": "96cfc124-aef2-4048-bde2-3ce3adec9fc2",
   "metadata": {
    "tags": []
   },
   "source": [
    "#### Question x"
   ]
  },
  {
   "cell_type": "code",
   "execution_count": null,
   "id": "2bf06e90-e668-4f73-b786-204fa81bf205",
   "metadata": {},
   "outputs": [],
   "source": []
  },
  {
   "cell_type": "markdown",
   "id": "dc20b113-ab68-43a1-bd4f-07233c06213c",
   "metadata": {
    "tags": []
   },
   "source": [
    "##### Solution Submitted"
   ]
  },
  {
   "cell_type": "code",
   "execution_count": null,
   "id": "e28a8d44-9068-42a5-af04-a938083443b0",
   "metadata": {},
   "outputs": [],
   "source": []
  },
  {
   "cell_type": "code",
   "execution_count": null,
   "id": "0a7ca8a0-fa30-4261-a826-fd685337139c",
   "metadata": {},
   "outputs": [],
   "source": [
    "# Output\n"
   ]
  },
  {
   "cell_type": "markdown",
   "id": "495d57ed-7bfc-476b-baa0-8515cd3950e2",
   "metadata": {
    "tags": []
   },
   "source": [
    "##### Full Solution"
   ]
  },
  {
   "cell_type": "code",
   "execution_count": null,
   "id": "88fee9ea-6f43-4663-840e-48c1cc422837",
   "metadata": {},
   "outputs": [],
   "source": []
  },
  {
   "cell_type": "code",
   "execution_count": null,
   "id": "40a86c10-e95c-4f35-aa8a-fd9b1f532b92",
   "metadata": {},
   "outputs": [],
   "source": [
    "# Output\n"
   ]
  },
  {
   "cell_type": "markdown",
   "id": "3288c71f-64bd-4760-8c45-356daa18910b",
   "metadata": {
    "tags": []
   },
   "source": [
    "## HW"
   ]
  },
  {
   "cell_type": "markdown",
   "id": "6d67e997-37c2-4d54-a912-9fef79403a51",
   "metadata": {
    "tags": []
   },
   "source": [
    "### Day xx:"
   ]
  },
  {
   "cell_type": "markdown",
   "id": "262ac0f5-4f56-4cde-b4b8-1c6af3d18b24",
   "metadata": {
    "tags": []
   },
   "source": [
    "#### Question x"
   ]
  },
  {
   "cell_type": "code",
   "execution_count": null,
   "id": "9cc615c4-3c68-4461-a3db-36b01040138a",
   "metadata": {},
   "outputs": [],
   "source": []
  },
  {
   "cell_type": "markdown",
   "id": "61264ab4-61a0-4b60-ae2c-87424d80dfc3",
   "metadata": {
    "tags": []
   },
   "source": [
    "##### Solution Submitted"
   ]
  },
  {
   "cell_type": "code",
   "execution_count": null,
   "id": "842e285e-2c39-46d2-a4d9-566b5d6ce34e",
   "metadata": {},
   "outputs": [],
   "source": []
  },
  {
   "cell_type": "code",
   "execution_count": null,
   "id": "3f46c1a6-7038-4b0b-8168-1c2398c3a4fe",
   "metadata": {},
   "outputs": [],
   "source": [
    "# Output\n"
   ]
  },
  {
   "cell_type": "markdown",
   "id": "f72e77d9-280c-4c70-88b7-51c90a6a1a23",
   "metadata": {
    "tags": []
   },
   "source": [
    "##### Full Solution"
   ]
  },
  {
   "cell_type": "code",
   "execution_count": null,
   "id": "b9ee71ca-591f-4a9c-99a0-158cf1b798e7",
   "metadata": {},
   "outputs": [],
   "source": []
  },
  {
   "cell_type": "code",
   "execution_count": null,
   "id": "84b30972-7899-4b30-aabb-eeffb810ce3c",
   "metadata": {},
   "outputs": [],
   "source": [
    "# Output\n"
   ]
  },
  {
   "cell_type": "markdown",
   "id": "5666890a-b5a6-4ee2-ad65-e9ddd9b1bd8c",
   "metadata": {
    "tags": []
   },
   "source": [
    "### Day xx:"
   ]
  },
  {
   "cell_type": "markdown",
   "id": "6ca479e9-315a-48f8-905a-2f3b07678230",
   "metadata": {
    "tags": []
   },
   "source": [
    "#### Question x"
   ]
  },
  {
   "cell_type": "code",
   "execution_count": null,
   "id": "0d813d1c-a901-4237-a3c8-f113ad9d8d7d",
   "metadata": {},
   "outputs": [],
   "source": []
  },
  {
   "cell_type": "markdown",
   "id": "af3b3f75-8899-4ae2-be88-f45835fa4926",
   "metadata": {
    "tags": []
   },
   "source": [
    "##### Solution Submitted"
   ]
  },
  {
   "cell_type": "code",
   "execution_count": null,
   "id": "c401d4dc-120b-4587-af6a-f714a791e803",
   "metadata": {},
   "outputs": [],
   "source": []
  },
  {
   "cell_type": "code",
   "execution_count": null,
   "id": "cc5a071e-6fbb-48cb-a178-fda0b31dd2b8",
   "metadata": {},
   "outputs": [],
   "source": [
    "# Output\n"
   ]
  },
  {
   "cell_type": "markdown",
   "id": "04ee3350-1faf-4d97-aafd-80ba08e5dd59",
   "metadata": {
    "tags": []
   },
   "source": [
    "##### Full Solution"
   ]
  },
  {
   "cell_type": "code",
   "execution_count": null,
   "id": "ae90426f-27ac-4a39-9db1-272431b41328",
   "metadata": {},
   "outputs": [],
   "source": []
  },
  {
   "cell_type": "code",
   "execution_count": null,
   "id": "663c6a9e-1317-406d-922d-43504454ed7d",
   "metadata": {},
   "outputs": [],
   "source": [
    "# Output\n"
   ]
  },
  {
   "cell_type": "markdown",
   "id": "9fe45bb9-244e-4d12-9e25-9e1ed1d1edf4",
   "metadata": {
    "tags": []
   },
   "source": [
    "### Day xx:"
   ]
  },
  {
   "cell_type": "markdown",
   "id": "977824b9-4c3b-4859-a51c-cf8dfca68397",
   "metadata": {
    "tags": []
   },
   "source": [
    "#### Question x"
   ]
  },
  {
   "cell_type": "code",
   "execution_count": null,
   "id": "b7da343e-0400-4544-adfa-4792446e6d93",
   "metadata": {},
   "outputs": [],
   "source": []
  },
  {
   "cell_type": "markdown",
   "id": "b59869a7-98e9-4153-a46d-8ef04b91448f",
   "metadata": {
    "tags": []
   },
   "source": [
    "##### Solution Submitted"
   ]
  },
  {
   "cell_type": "code",
   "execution_count": null,
   "id": "4ff5feb3-8427-4278-92fb-6392436913f6",
   "metadata": {},
   "outputs": [],
   "source": []
  },
  {
   "cell_type": "code",
   "execution_count": null,
   "id": "f43bf1b2-9f55-466f-963c-7fe967dc9348",
   "metadata": {},
   "outputs": [],
   "source": [
    "# Output\n"
   ]
  },
  {
   "cell_type": "markdown",
   "id": "89a3b18e-4237-49c6-84d3-28780e7b6df1",
   "metadata": {
    "tags": []
   },
   "source": [
    "##### Full Solution"
   ]
  },
  {
   "cell_type": "code",
   "execution_count": null,
   "id": "a8de14a0-79fc-4603-887c-1170f03db3cf",
   "metadata": {},
   "outputs": [],
   "source": []
  },
  {
   "cell_type": "code",
   "execution_count": null,
   "id": "1d8ce468-da36-4f85-b8fe-fe0c85f2671f",
   "metadata": {},
   "outputs": [],
   "source": [
    "# Output\n"
   ]
  },
  {
   "cell_type": "markdown",
   "id": "36d457e9-e604-4e74-9ae4-33c00f1c4193",
   "metadata": {
    "tags": []
   },
   "source": [
    "### Day xx:"
   ]
  },
  {
   "cell_type": "markdown",
   "id": "dac760fb-b6ea-4246-90e4-17dd6add017d",
   "metadata": {
    "tags": []
   },
   "source": [
    "#### Question x"
   ]
  },
  {
   "cell_type": "code",
   "execution_count": null,
   "id": "1bf4f54f-bc09-457f-810b-f03a87eaccfc",
   "metadata": {},
   "outputs": [],
   "source": []
  },
  {
   "cell_type": "markdown",
   "id": "47223e43-5dfc-437c-b965-f60124bb8f2f",
   "metadata": {
    "tags": []
   },
   "source": [
    "##### Solution Submitted"
   ]
  },
  {
   "cell_type": "code",
   "execution_count": null,
   "id": "b42af5fa-187e-4a25-bee7-3cb14d42a5ae",
   "metadata": {},
   "outputs": [],
   "source": []
  },
  {
   "cell_type": "code",
   "execution_count": null,
   "id": "9f622649-69ae-47d2-830c-1df112bd4be6",
   "metadata": {},
   "outputs": [],
   "source": [
    "# Output\n"
   ]
  },
  {
   "cell_type": "markdown",
   "id": "67ce1acd-affa-45c2-895d-ae90ff96679a",
   "metadata": {
    "tags": []
   },
   "source": [
    "##### Full Solution"
   ]
  },
  {
   "cell_type": "code",
   "execution_count": null,
   "id": "c1c62474-3f37-4c39-a40e-c7ad9a10fadd",
   "metadata": {},
   "outputs": [],
   "source": []
  },
  {
   "cell_type": "code",
   "execution_count": null,
   "id": "4219cff9-3e3a-43cf-a163-b00e5a6821f7",
   "metadata": {},
   "outputs": [],
   "source": [
    "# Output\n"
   ]
  },
  {
   "cell_type": "markdown",
   "id": "37ac357d-457a-4042-932e-605cda1a8c7c",
   "metadata": {
    "tags": []
   },
   "source": [
    "### Day xx:"
   ]
  },
  {
   "cell_type": "markdown",
   "id": "3a66e2df-f6e7-4106-be66-03de652c0f7d",
   "metadata": {
    "tags": []
   },
   "source": [
    "#### Question x"
   ]
  },
  {
   "cell_type": "code",
   "execution_count": null,
   "id": "ee6b70ff-c102-4e29-9a1c-a7c0f723b5f1",
   "metadata": {},
   "outputs": [],
   "source": []
  },
  {
   "cell_type": "markdown",
   "id": "0d5242b0-ec39-49b4-998c-8f95b7ee77db",
   "metadata": {
    "tags": []
   },
   "source": [
    "##### Solution Submitted"
   ]
  },
  {
   "cell_type": "code",
   "execution_count": null,
   "id": "c66f05a1-7e6f-4c9d-94c5-01406e1558e5",
   "metadata": {},
   "outputs": [],
   "source": []
  },
  {
   "cell_type": "code",
   "execution_count": null,
   "id": "47f7cdc8-512c-431c-89e8-a761c49ad9d2",
   "metadata": {},
   "outputs": [],
   "source": [
    "# Output\n"
   ]
  },
  {
   "cell_type": "markdown",
   "id": "66b65b0c-94d4-4f97-a154-6f92546d1763",
   "metadata": {
    "tags": []
   },
   "source": [
    "##### Full Solution"
   ]
  },
  {
   "cell_type": "code",
   "execution_count": null,
   "id": "97ae928a-5e00-45c3-8786-6588ed18145f",
   "metadata": {},
   "outputs": [],
   "source": []
  },
  {
   "cell_type": "code",
   "execution_count": null,
   "id": "041f0ce5-64e5-4441-b2f6-216d5df7e008",
   "metadata": {},
   "outputs": [],
   "source": [
    "# Output\n"
   ]
  },
  {
   "cell_type": "markdown",
   "id": "77ac1ba4-5d10-404e-8954-e31258ea3194",
   "metadata": {
    "tags": []
   },
   "source": [
    "### Day xx:"
   ]
  },
  {
   "cell_type": "markdown",
   "id": "d605c15d-e8b7-4887-9f83-979327932c87",
   "metadata": {
    "tags": []
   },
   "source": [
    "#### Question x"
   ]
  },
  {
   "cell_type": "code",
   "execution_count": null,
   "id": "757326dc-0a52-417e-a610-0553ef440c45",
   "metadata": {},
   "outputs": [],
   "source": []
  },
  {
   "cell_type": "markdown",
   "id": "4a1259e2-6de6-4ff8-98cc-fea8133e77a9",
   "metadata": {
    "tags": []
   },
   "source": [
    "##### Solution Submitted"
   ]
  },
  {
   "cell_type": "code",
   "execution_count": null,
   "id": "094b3b8f-f13e-4f63-a862-0c64d12a8eb3",
   "metadata": {},
   "outputs": [],
   "source": []
  },
  {
   "cell_type": "code",
   "execution_count": null,
   "id": "4686312c-179d-46a6-b497-db32771dafa6",
   "metadata": {},
   "outputs": [],
   "source": [
    "# Output\n"
   ]
  },
  {
   "cell_type": "markdown",
   "id": "3414dbfc-dd4e-454d-ab1f-593bf71fd957",
   "metadata": {
    "tags": []
   },
   "source": [
    "##### Full Solution"
   ]
  },
  {
   "cell_type": "code",
   "execution_count": null,
   "id": "fa412001-395d-4a02-bbeb-be51bf80b48d",
   "metadata": {},
   "outputs": [],
   "source": []
  },
  {
   "cell_type": "code",
   "execution_count": null,
   "id": "40f18eaa-54d1-4937-937e-b37797a71b2a",
   "metadata": {},
   "outputs": [],
   "source": [
    "# Output\n"
   ]
  }
 ],
 "metadata": {
  "kernelspec": {
   "display_name": "Python 3 (ipykernel)",
   "language": "python",
   "name": "python3"
  },
  "language_info": {
   "codemirror_mode": {
    "name": "ipython",
    "version": 3
   },
   "file_extension": ".py",
   "mimetype": "text/x-python",
   "name": "python",
   "nbconvert_exporter": "python",
   "pygments_lexer": "ipython3",
   "version": "3.9.12"
  },
  "widgets": {
   "application/vnd.jupyter.widget-state+json": {
    "state": {},
    "version_major": 2,
    "version_minor": 0
   }
  }
 },
 "nbformat": 4,
 "nbformat_minor": 5
}
