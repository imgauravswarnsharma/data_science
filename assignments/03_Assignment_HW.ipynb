{
 "cells": [
  {
   "cell_type": "markdown",
   "id": "1a79153b-1db7-45ba-95af-fd4f3c5a3609",
   "metadata": {
    "tags": []
   },
   "source": [
    "## Assignments"
   ]
  },
  {
   "cell_type": "markdown",
   "id": "b0b23078-9cf9-4b70-bae1-c41258033fd7",
   "metadata": {
    "jp-MarkdownHeadingCollapsed": true,
    "tags": []
   },
   "source": [
    "### Day 26 & 27: Refresher "
   ]
  },
  {
   "cell_type": "markdown",
   "id": "97040026-612f-4b3e-bf6c-f588e7aa3ecc",
   "metadata": {
    "jp-MarkdownHeadingCollapsed": true,
    "tags": []
   },
   "source": [
    "#### Day 26: Question 5"
   ]
  },
  {
   "cell_type": "markdown",
   "id": "c0924228-cf99-446a-9cad-4568ee5f7aed",
   "metadata": {},
   "source": [
    "    Given the nested if-else structure below, what will be the value of \"a\" after code execution completes\n",
    "\n",
    "    a = 4\n",
    "    b = -5\n",
    "    if a > 0:\n",
    "        if b < 0:\n",
    "            a = a - 2 \n",
    "        elif a > 5:\n",
    "            a = a - 4\n",
    "        else:\n",
    "            a = a + 3\n",
    "    else:\n",
    "        b = b + 2"
   ]
  },
  {
   "cell_type": "markdown",
   "id": "43a132c7-debc-4915-a36c-d9f143b23161",
   "metadata": {
    "jp-MarkdownHeadingCollapsed": true,
    "tags": []
   },
   "source": [
    "##### Solution"
   ]
  },
  {
   "cell_type": "markdown",
   "id": "9ee4f472-9ed3-49c8-8bef-7ca8c9c79441",
   "metadata": {},
   "source": [
    "2"
   ]
  },
  {
   "cell_type": "markdown",
   "id": "67f53116-79ef-4117-8613-3f408bf46dcb",
   "metadata": {
    "jp-MarkdownHeadingCollapsed": true,
    "tags": []
   },
   "source": [
    "#### Day 27: Question 4"
   ]
  },
  {
   "cell_type": "markdown",
   "id": "3948031c-024d-4d80-bb4a-034f98a496a4",
   "metadata": {},
   "source": [
    "    Write a program to find out if the given number n is a power of 2 or not. Print \"Yes\" if the number is power of two else print \"No\". Assume that 0 <= n <= 1018\n",
    "\n",
    "    Input Format:\n",
    "    The number n in integer format\n",
    "\n",
    "    Output Format:\n",
    "    Print \"Yes\" if true else \"No\" in string format.\n",
    "\n",
    "    Sample Input 1:\n",
    "    4\n",
    "\n",
    "    Sample Output 1:\n",
    "    Yes\n",
    "\n",
    "    Sample Input 2:\n",
    "    15\n",
    "\n",
    "    Sample Output 2:\n",
    "    No"
   ]
  },
  {
   "cell_type": "markdown",
   "id": "ef4edec7-e1f8-48a2-ba9b-b6fae6b4effd",
   "metadata": {
    "jp-MarkdownHeadingCollapsed": true,
    "tags": []
   },
   "source": [
    "##### Solution Submitted"
   ]
  },
  {
   "cell_type": "code",
   "execution_count": 72,
   "id": "d921d7f0-2462-4929-b263-4ee843b033b6",
   "metadata": {},
   "outputs": [
    {
     "name": "stdin",
     "output_type": "stream",
     "text": [
      " 16\n"
     ]
    },
    {
     "name": "stdout",
     "output_type": "stream",
     "text": [
      "Yes\n"
     ]
    }
   ],
   "source": [
    "x = int(input())\n",
    "\n",
    "while x> 0:\n",
    "    if n ==1:\n",
    "        print(\"Yes\")\n",
    "        break\n",
    "    elif n%2 ==0:\n",
    "        n //=2\n",
    "    else:\n",
    "        print(\"No\")\n",
    "        break"
   ]
  },
  {
   "cell_type": "code",
   "execution_count": 73,
   "id": "44cc080c-d29f-40d3-a6e0-ca7419c8df0d",
   "metadata": {},
   "outputs": [
    {
     "name": "stdin",
     "output_type": "stream",
     "text": [
      " 1\n"
     ]
    },
    {
     "name": "stdout",
     "output_type": "stream",
     "text": [
      "Yes\n"
     ]
    }
   ],
   "source": [
    "x = int(input())\n",
    "\n",
    "n = 1\n",
    "for i in range(1,x+1):\n",
    "    if n == x:\n",
    "        print(\"Yes\")\n",
    "        break\n",
    "    n *=2\n",
    "    if n>x:\n",
    "        print(\"No\")\n",
    "        break"
   ]
  },
  {
   "cell_type": "code",
   "execution_count": 67,
   "id": "f07a0415-2fc8-4359-a4ba-16ec05f2a795",
   "metadata": {},
   "outputs": [
    {
     "data": {
      "text/plain": [
       "2"
      ]
     },
     "execution_count": 67,
     "metadata": {},
     "output_type": "execute_result"
    }
   ],
   "source": [
    "1*2"
   ]
  },
  {
   "cell_type": "markdown",
   "id": "951761d8-b98c-4514-9a13-7784c96f01f1",
   "metadata": {
    "jp-MarkdownHeadingCollapsed": true,
    "tags": []
   },
   "source": [
    "#### Day 27: Question 6"
   ]
  },
  {
   "cell_type": "markdown",
   "id": "ecebc13f-48d4-45be-9c6d-733e906e113c",
   "metadata": {},
   "source": [
    "    What will be the output of the following code:\n",
    "\n",
    "    for i in range(1):\n",
    "        for j in range(2):\n",
    "            for k in range(1):\n",
    "                print(\"a\", end=\" \")\n",
    "            print(end=\"\")\n",
    "        print(\"c\")"
   ]
  },
  {
   "cell_type": "markdown",
   "id": "98b059e6-09da-43af-9b90-1dfb43a74a7b",
   "metadata": {
    "jp-MarkdownHeadingCollapsed": true,
    "tags": []
   },
   "source": [
    "##### Solution Submitted"
   ]
  },
  {
   "cell_type": "markdown",
   "id": "bc368df5-1b9b-41b0-80c8-3c72dcba8279",
   "metadata": {},
   "source": [
    "a a c"
   ]
  },
  {
   "cell_type": "markdown",
   "id": "6d6f85c4-cd21-429e-a3c1-59e22e43ac57",
   "metadata": {
    "jp-MarkdownHeadingCollapsed": true,
    "tags": []
   },
   "source": [
    "#### Day 27: Question 10"
   ]
  },
  {
   "cell_type": "markdown",
   "id": "a99df3b6-40a8-4701-afe3-fa6801d72efc",
   "metadata": {},
   "source": [
    "    Write a function to check whether a given number n as an input to the function is a perfect number or not. If the given integer is a perfect number return 1 else return 0.\n",
    "\n",
    "    Note: In number theory, a perfect number is a positive integer that is equal to the sum of its proper positive divisors, that is, the sum of its positive divisors excluding the number itself (also known as its aliquot sum).\n",
    "\n",
    "    Input Format:\n",
    "\n",
    "    The only argument to the function is an integer n.\n",
    "    Output Format:\n",
    "\n",
    "    Print out 1 if the number is perfect else 0 in integer format.\n",
    "    Sample Input:\n",
    "\n",
    "    6\n",
    "    Sample Output:\n",
    "\n",
    "    1\n",
    "    Sample Explanation:\n",
    "\n",
    "    Given number is 6. 1, 2, and 3 are its proper positive divisors, and 1 + 2 + 3 = 6. Equivalently, the number 6 is equal to half the sum of all its positive divisors: ( 1 + 2 + 3 + 6 ) / 2 = 6. Hence 6 is a perfect number."
   ]
  },
  {
   "cell_type": "markdown",
   "id": "65efba4e-486b-4d08-8199-8b7ca7e281d6",
   "metadata": {
    "jp-MarkdownHeadingCollapsed": true,
    "tags": []
   },
   "source": [
    "##### Solution Submitted"
   ]
  },
  {
   "cell_type": "code",
   "execution_count": 77,
   "id": "061f9204-f044-48a2-a653-d1103c84885a",
   "metadata": {},
   "outputs": [
    {
     "data": {
      "text/plain": [
       "1"
      ]
     },
     "execution_count": 77,
     "metadata": {},
     "output_type": "execute_result"
    }
   ],
   "source": [
    "def perfect_number(n):\n",
    "    sum_num = 0\n",
    "    for num in range(1,(n//2)+1):\n",
    "        if n%num ==0:\n",
    "            sum_num +=num\n",
    "    if sum_num == n:\n",
    "        return 1\n",
    "    return 0\n",
    "\n",
    "perfect_number(28)"
   ]
  },
  {
   "cell_type": "markdown",
   "id": "f119cc07-7c10-4196-80f3-6c00524a5d3f",
   "metadata": {
    "jp-MarkdownHeadingCollapsed": true,
    "tags": []
   },
   "source": [
    "### Day 28: Searching"
   ]
  },
  {
   "cell_type": "markdown",
   "id": "d16d9bf0-1f83-4d77-8d13-06896ad1ff6c",
   "metadata": {
    "jp-MarkdownHeadingCollapsed": true,
    "tags": []
   },
   "source": [
    "#### Question 3"
   ]
  },
  {
   "cell_type": "markdown",
   "id": "2093d7d3-c236-43e9-b1b5-bc97a83576d4",
   "metadata": {
    "jp-MarkdownHeadingCollapsed": true,
    "tags": []
   },
   "source": [
    "    Which of the statements aren’t true for linear search?\n",
    "    \n",
    "    a) The order of data doesn’t matter\n",
    "    b) The worst case time complexity is O(log n)\n",
    "    c) The best case complexity is constant time complexity\n",
    "    d) Linear search can be applied to only numerical values."
   ]
  },
  {
   "cell_type": "markdown",
   "id": "3069e2c0-1b33-4e56-8ae4-ffd2d3bc5f66",
   "metadata": {
    "jp-MarkdownHeadingCollapsed": true,
    "tags": []
   },
   "source": [
    "##### Solution"
   ]
  },
  {
   "cell_type": "markdown",
   "id": "c235d212-e7c7-4c62-b84e-b999f12dbd41",
   "metadata": {},
   "source": [
    "b & d are correct options"
   ]
  },
  {
   "cell_type": "markdown",
   "id": "51eb0461-cf9d-4d2c-a820-eb6b0f1fb38e",
   "metadata": {
    "jp-MarkdownHeadingCollapsed": true,
    "tags": []
   },
   "source": [
    "#### Question 4"
   ]
  },
  {
   "cell_type": "markdown",
   "id": "8bdea3ba-f60f-4d9d-b7eb-cc9821f4d8d3",
   "metadata": {
    "jp-MarkdownHeadingCollapsed": true,
    "tags": []
   },
   "source": [
    "    Given a python list data = [12, 23, 35, 42, 56], and key = 23. After how many iterations in the binary search, the key will be found?"
   ]
  },
  {
   "cell_type": "markdown",
   "id": "34e0f846-7683-437b-a382-47365561a063",
   "metadata": {
    "jp-MarkdownHeadingCollapsed": true,
    "tags": []
   },
   "source": [
    "##### Solution"
   ]
  },
  {
   "cell_type": "code",
   "execution_count": 82,
   "id": "d4aafe1a-0fb1-4115-8c98-b3bc1142a72f",
   "metadata": {},
   "outputs": [
    {
     "name": "stdout",
     "output_type": "stream",
     "text": [
      "0 2 5\n",
      "0 0 1\n",
      "1 1 1\n"
     ]
    },
    {
     "data": {
      "text/plain": [
       "(1, 3)"
      ]
     },
     "execution_count": 82,
     "metadata": {},
     "output_type": "execute_result"
    }
   ],
   "source": [
    "def binary_search(lst, x):\n",
    "    start = 0\n",
    "    end = len(lst)\n",
    "    i = 0    \n",
    "    \n",
    "    while start <= end:\n",
    "        i+=1\n",
    "        mid = start+end//2\n",
    "        print(start, mid, end)\n",
    "        \n",
    "        if lst[mid] == x:\n",
    "            return mid, i\n",
    "        if lst[mid] < x:\n",
    "            start = mid+1\n",
    "        if lst[mid] > x:\n",
    "            end = mid-1\n",
    "\n",
    "data = [12, 23, 35, 42, 56]\n",
    "binary_search(data, 23)"
   ]
  },
  {
   "cell_type": "markdown",
   "id": "0eb29965-c3ad-4c5c-9361-d353b5cd5f67",
   "metadata": {},
   "source": [
    "3"
   ]
  },
  {
   "cell_type": "markdown",
   "id": "b7360c22-6026-4ea9-a4c9-ac29ca85deb8",
   "metadata": {
    "jp-MarkdownHeadingCollapsed": true,
    "tags": []
   },
   "source": [
    "#### Question 5"
   ]
  },
  {
   "cell_type": "markdown",
   "id": "ffd77df0-9c38-4365-9940-e7d2d48435df",
   "metadata": {},
   "source": [
    "    Which of the following options is correct for binary search?\n",
    "    \n",
    "    a) The best-case time complexity is O(1)\n",
    "    b) The worst-case time complexity is O(n^2)\n",
    "    c) The data doesn’t need to be sorted for binary search to work\n",
    "    d) It is a type of divide and conquer algorithm"
   ]
  },
  {
   "cell_type": "markdown",
   "id": "c722b3b1-35c3-4a04-ba62-ff5d50d0e156",
   "metadata": {
    "jp-MarkdownHeadingCollapsed": true,
    "tags": []
   },
   "source": [
    "##### Solution"
   ]
  },
  {
   "cell_type": "markdown",
   "id": "6fbbf800-871b-41e5-9e3c-c2d2279bba27",
   "metadata": {},
   "source": [
    "a & d are correct options"
   ]
  },
  {
   "cell_type": "markdown",
   "id": "434c626b-f514-4603-b2f1-087a7b658dc0",
   "metadata": {
    "jp-MarkdownHeadingCollapsed": true,
    "tags": []
   },
   "source": [
    "#### Question 6"
   ]
  },
  {
   "cell_type": "markdown",
   "id": "ebc2ce69-c2d1-492a-af7c-54586229b307",
   "metadata": {
    "tags": []
   },
   "source": [
    "    Complete the following code with the correct option, for implementation of binary search using a while loop:\n",
    "\n",
    "    def bin_search(arr, key):\n",
    "      low = 0\n",
    "      high = len(arr) - 1\n",
    "      mid = 0\n",
    "      while ______:              #blank1\n",
    "        mid = ________           #blank2\n",
    "        if arr[mid] < key:\n",
    "          low = mid + 1\n",
    "        elif arr[mid] > key:\n",
    "          high = mid - 1\n",
    "        else:\n",
    "          return mid\n",
    "      return \"Element not found\"\n",
    "      \n",
    "    a) low < high, (high - low) // 2\n",
    "    b) low <= high, (high + low) / 2\n",
    "    c) low <= high, (high + low) // 2\n",
    "    d) low > high, (high + low) // 2"
   ]
  },
  {
   "cell_type": "markdown",
   "id": "56c7447b-3b09-4b42-b49c-629b6c3d28e1",
   "metadata": {
    "jp-MarkdownHeadingCollapsed": true,
    "tags": []
   },
   "source": [
    "##### Solution"
   ]
  },
  {
   "cell_type": "markdown",
   "id": "3a2a03d3-7ecc-4793-b696-201b53b11479",
   "metadata": {},
   "source": [
    "C "
   ]
  },
  {
   "cell_type": "markdown",
   "id": "e51e41e3-5720-4f5f-a0e5-52ab3192ff2f",
   "metadata": {
    "jp-MarkdownHeadingCollapsed": true,
    "tags": []
   },
   "source": [
    "#### Question 7"
   ]
  },
  {
   "cell_type": "markdown",
   "id": "d7ad5b16-d84e-4543-af20-43d68eda3ce5",
   "metadata": {},
   "source": [
    "    Which of the options is correct for the following code snippet?\n",
    "\n",
    "    def sentinelSearch(ar,target,n):\n",
    "      last = ar[n-1]\n",
    "      ar[n-1] = target\n",
    "      i = 0\n",
    "      while ar[i]!=target:\n",
    "        i+=1\n",
    "      ar[n-1] = last\n",
    "      if (i<n-1) or target==ar[n-1]:\n",
    "        return i\n",
    "      else:\n",
    "        return -1\n",
    "        \n",
    "    a) sentinelSearch([1,2,3,4,5],5,5) will return 4\n",
    "    b) sentinelSearch([1,2,3,4,5],5,5) will return -1\n",
    "    c) This function will always take more number of steps than the    linear search using for loop and if statement\n",
    "    d) This function will always take lesser numbers of steps than binary search"
   ]
  },
  {
   "cell_type": "markdown",
   "id": "60880629-17dc-44d5-a8d3-ae251607aaf9",
   "metadata": {
    "jp-MarkdownHeadingCollapsed": true,
    "tags": []
   },
   "source": [
    "##### Solution"
   ]
  },
  {
   "cell_type": "markdown",
   "id": "34dcaa2b-6846-43ca-bda5-8010b85ca5de",
   "metadata": {},
   "source": [
    "a"
   ]
  },
  {
   "cell_type": "markdown",
   "id": "6541c1c7-fd36-406b-825a-20b2eb1fd8c4",
   "metadata": {
    "jp-MarkdownHeadingCollapsed": true,
    "tags": []
   },
   "source": [
    "#### Question 8"
   ]
  },
  {
   "cell_type": "markdown",
   "id": "fd115f04-1f9c-4d05-82a8-e8af956ae2cc",
   "metadata": {},
   "source": [
    "    Choose the options which are correct about the following code snippet which was written to implement recursive binary search.\n",
    "\n",
    "    # key -> The value to search in the list\n",
    "    # values -> The list of Integers\n",
    "    # lower -> The lower index value\n",
    "    # upper -> The upper index value\n",
    "    def recur_search(key, values, lower, upper):\n",
    "      if (upper < lower):\n",
    "        return False\n",
    "\n",
    "      mid = (lower + upper) // 2\n",
    "\n",
    "      if (key == values[mid]):\n",
    "        return True;\n",
    "\n",
    "      elif (key < values[mid]):\n",
    "        recur_search(key, values, lower, mid - 1)\n",
    "\n",
    "      else: \n",
    "        recur_search(key, values, mid + 1, upper)\n",
    "\n",
    "      return False\n",
    "      \n",
    "      \n",
    "    a) recur_search(1, [1, 2, 3, 4, 5], 0, 4) will return True\n",
    "    b) recur_search(5, [1, 2, 3, 4, 5], 0, 4) will return True\n",
    "    c) recur_search(3, [1, 2, 3, 4, 5], 0, 4) will return True\n",
    "    d) recur_search(5, [1, 2, 3, 4, 5], 0, 4) will return False"
   ]
  },
  {
   "cell_type": "markdown",
   "id": "d9050fc8-059f-400c-b1c5-7ac43b44cf23",
   "metadata": {
    "jp-MarkdownHeadingCollapsed": true,
    "tags": []
   },
   "source": [
    "##### Solution"
   ]
  },
  {
   "cell_type": "markdown",
   "id": "3bd0b202-d23e-4739-ad43-6024bc81b0d8",
   "metadata": {},
   "source": [
    "c & d are True"
   ]
  },
  {
   "cell_type": "code",
   "execution_count": 115,
   "id": "c60707b9-0778-4287-8c80-11c5cb34289b",
   "metadata": {},
   "outputs": [
    {
     "name": "stdout",
     "output_type": "stream",
     "text": [
      "0 2 4\n",
      "[1, 2, 3, 4, 5]\n"
     ]
    },
    {
     "data": {
      "text/plain": [
       "True"
      ]
     },
     "execution_count": 115,
     "metadata": {},
     "output_type": "execute_result"
    }
   ],
   "source": [
    "def recur_search(key, values, lower, upper):\n",
    "    if (upper < lower):\n",
    "        return False\n",
    "\n",
    "    mid = (lower + upper) // 2\n",
    "    print(lower, mid, upper)\n",
    "    print(values)\n",
    "    if (key == values[mid]):\n",
    "        return True;\n",
    "    \n",
    "    elif (key < values[mid]):\n",
    "        recur_search(key, values, lower, mid - 1)\n",
    "    else: \n",
    "        recur_search(key, values, mid + 1, upper)\n",
    "    \n",
    "    return False\n",
    "\n",
    "#recur_search(1, [1, 2, 3, 4, 5], 0, 4)\n",
    "#recur_search(5, [1, 2, 3, 4, 5], 0, 4)\n",
    "recur_search(3, [1, 2, 3, 4, 5], 0, 4)"
   ]
  },
  {
   "cell_type": "markdown",
   "id": "98002c6e-0f6f-4af9-b3e5-549ba3e270e2",
   "metadata": {
    "jp-MarkdownHeadingCollapsed": true,
    "tags": []
   },
   "source": [
    "#### Question 9"
   ]
  },
  {
   "cell_type": "markdown",
   "id": "c540b5be-4347-492b-be3c-23321de92063",
   "metadata": {
    "jp-MarkdownHeadingCollapsed": true,
    "tags": []
   },
   "source": [
    "    Which of the following options is correct for searching an element using binary search?\n",
    "\n",
    "    A.  def bin_search(data, low, high, element):\n",
    "          mid = low + (high - low)//2\n",
    "          if low > high:\n",
    "            return -1\n",
    "          elif data[mid] == element:\n",
    "            return mid\n",
    "          elif data[mid] < element:\n",
    "            return bin_search(data, mid + 1, high, element)\n",
    "          else:\n",
    "            return bin_search(data, low, mid - 1, element)\n",
    "\n",
    "    B. def bin_search(data, low, high, element):\n",
    "         mid = low + (high + low)//2\n",
    "         if low > high:\n",
    "           return -1\n",
    "         elif data[mid] == element:\n",
    "           return mid\n",
    "         elif data[mid] < element:\n",
    "           return bin_search(data, mid - 1, high, element)\n",
    "         else:\n",
    "           return bin_search(data, low, mid + 1, element)\n",
    "\n",
    "    C.  def bin_search(data, low, high, element):\n",
    "          mid = low + (high - low)//2\n",
    "          if low > high:\n",
    "            return -1\n",
    "          elif data[mid] == element:\n",
    "            return mid\n",
    "          elif data[mid] < element:\n",
    "            return bin_search(data, mid, high, element)\n",
    "          else:\n",
    "            return bin_search(data, low, mid - 1, element)\n",
    "            \n",
    "    D. def bin_search(data, low, high, element):\n",
    "         mid = low + ((high - low)//2) + 1\n",
    "         if low > high:\n",
    "           return -1\n",
    "         elif data[mid] == element:\n",
    "           return mid\n",
    "         elif data[mid] < element:\n",
    "           return bin_search(data, mid, high, element)\n",
    "         else:\n",
    "           return bin_search(data, low, mid - 1, element)"
   ]
  },
  {
   "cell_type": "markdown",
   "id": "07cf85df-ebbc-4182-a939-1754955e57ff",
   "metadata": {
    "jp-MarkdownHeadingCollapsed": true,
    "tags": []
   },
   "source": [
    "##### Solution"
   ]
  },
  {
   "cell_type": "markdown",
   "id": "6bb9f411-7de0-4238-95cd-904c89133c77",
   "metadata": {},
   "source": [
    "A"
   ]
  },
  {
   "cell_type": "code",
   "execution_count": 109,
   "id": "4880fab1-d8d6-4881-9935-15ca30f2eeaa",
   "metadata": {},
   "outputs": [
    {
     "name": "stdout",
     "output_type": "stream",
     "text": [
      "0 2 5\n",
      "[1, 2, 3, 4, 6, 7]\n",
      "3 4 5\n",
      "[1, 2, 3, 4, 6, 7]\n"
     ]
    },
    {
     "data": {
      "text/plain": [
       "4"
      ]
     },
     "execution_count": 109,
     "metadata": {},
     "output_type": "execute_result"
    }
   ],
   "source": [
    "def bin_search(data, low, high, element):\n",
    "    mid = low + (high - low)//2\n",
    "    print(low, mid, high)\n",
    "    print(data)\n",
    "    if low > high:\n",
    "        return -1\n",
    "    elif data[mid] == element:\n",
    "        return mid\n",
    "    elif data[mid] < element:\n",
    "        return bin_search(data, mid + 1, high, element)\n",
    "    else:\n",
    "        return bin_search(data, low, mid - 1, element)\n",
    "    \n",
    "bin_search([1,2,3,4,6,7], 0, 5, 6)\n"
   ]
  },
  {
   "cell_type": "code",
   "execution_count": 104,
   "id": "e4cfa141-cf2d-4792-a2f2-4e071c63de6a",
   "metadata": {},
   "outputs": [
    {
     "data": {
      "text/plain": [
       "1"
      ]
     },
     "execution_count": 104,
     "metadata": {},
     "output_type": "execute_result"
    }
   ],
   "source": [
    "(5-3)//2"
   ]
  },
  {
   "cell_type": "markdown",
   "id": "e13508f7-bdbb-477e-85d5-146b7af2bea5",
   "metadata": {
    "jp-MarkdownHeadingCollapsed": true,
    "tags": []
   },
   "source": [
    "#### Question 10"
   ]
  },
  {
   "cell_type": "markdown",
   "id": "a5998b04-719f-4613-b3d4-78b6582d7d9e",
   "metadata": {
    "jp-MarkdownHeadingCollapsed": true,
    "tags": []
   },
   "source": [
    "##### Clean Solution"
   ]
  },
  {
   "cell_type": "code",
   "execution_count": 6,
   "id": "eaf02fee-a6d1-41c6-b1d9-6aec05d79bc6",
   "metadata": {},
   "outputs": [],
   "source": [
    "def solve(A, B):\n",
    "    start = 0\n",
    "    end = len(A)-1\n",
    "    count = 0\n",
    "    while start<=end:\n",
    "        mid = (start+end)//2\n",
    "        print(start, mid, end)\n",
    "        if A[mid]>B:\n",
    "            end = mid - 1\n",
    "        elif A[mid]<=B:\n",
    "            count = mid+1\n",
    "            start = mid +1\n",
    "    return count"
   ]
  },
  {
   "cell_type": "code",
   "execution_count": 7,
   "id": "32160d7a-ae63-4501-8504-e7e9047a9230",
   "metadata": {},
   "outputs": [
    {
     "name": "stdout",
     "output_type": "stream",
     "text": [
      "0 2 4\n",
      "3 3 4\n",
      "4 4 4\n"
     ]
    },
    {
     "data": {
      "text/plain": [
       "4"
      ]
     },
     "execution_count": 7,
     "metadata": {},
     "output_type": "execute_result"
    }
   ],
   "source": [
    "A = [1, 3, 4, 4, 6]\n",
    "B = 4\n",
    "solve(A,B)"
   ]
  },
  {
   "cell_type": "code",
   "execution_count": 8,
   "id": "3f433507-d415-49d4-92bb-21167966babb",
   "metadata": {},
   "outputs": [
    {
     "name": "stdout",
     "output_type": "stream",
     "text": [
      "0 3 7\n",
      "0 1 2\n",
      "0 0 0\n"
     ]
    },
    {
     "data": {
      "text/plain": [
       "0"
      ]
     },
     "execution_count": 8,
     "metadata": {},
     "output_type": "execute_result"
    }
   ],
   "source": [
    "A = [11, 33, 34, 43, 56, 66, 66, 76]\n",
    "B = 5\n",
    "solve(A,B)"
   ]
  },
  {
   "cell_type": "code",
   "execution_count": 9,
   "id": "30e008c2-3de7-460a-9bc8-34a168ef43d2",
   "metadata": {},
   "outputs": [
    {
     "name": "stdout",
     "output_type": "stream",
     "text": [
      "0 1 3\n",
      "2 2 3\n"
     ]
    },
    {
     "data": {
      "text/plain": [
       "2"
      ]
     },
     "execution_count": 9,
     "metadata": {},
     "output_type": "execute_result"
    }
   ],
   "source": [
    "A = [1, 2, 5, 5]\n",
    "B = 3\n",
    "solve(A,B)"
   ]
  },
  {
   "cell_type": "markdown",
   "id": "e5cadcb3-8236-4477-aae4-cfe1dfeb784e",
   "metadata": {},
   "source": [
    "    Given a sorted array A of size N. Find the number of elements that are less than or equal to B.\n",
    "\n",
    "    NOTE: Expected Time Complexity O(log N)\n",
    "\n",
    "    Input Format:\n",
    "    Space separated values for elements in array A.\n",
    "    An integer B.\n",
    "\n",
    "    Output Format:\n",
    "    Return an integer denoting the number of elements which are less than or equal to B.\n",
    "\n",
    "    Input 1:\n",
    "    A = [1, 3, 4, 4, 6]\n",
    "    B = 4\n",
    "\n",
    "    Input 2:\n",
    "    A = [1, 2, 5, 5]\n",
    "    B = 3\n",
    "\n",
    "    Output 1:\n",
    "    4\n",
    "\n",
    "    Output 2:\n",
    "    2\n",
    "\n",
    "    Example Explanation:\n",
    "    Explanation 1: 4 elements (1, 3, 4, 4) are less than or equal to 4.\n",
    "    Explanation 2: 2 elements (1, 2) are less than or equal to 3."
   ]
  },
  {
   "cell_type": "markdown",
   "id": "5708c66a-6b04-4867-a588-398881e90166",
   "metadata": {
    "jp-MarkdownHeadingCollapsed": true,
    "tags": []
   },
   "source": [
    "##### Solution Submitted"
   ]
  },
  {
   "cell_type": "code",
   "execution_count": 2,
   "id": "1da49184-0b27-4700-ab98-ac9b68858c9a",
   "metadata": {},
   "outputs": [],
   "source": [
    "def solve(A, B):\n",
    "    start = 0\n",
    "    end = len(A)-1\n",
    "    while start<=end:\n",
    "        mid = (start+end)//2\n",
    "        print(start, mid, end)\n",
    "        if A[end]<=B:\n",
    "            return end\n",
    "        elif A[start]>B:\n",
    "            return 0\n",
    "        if start == mid:\n",
    "            return end\n",
    "        if A[mid]>B:\n",
    "            end = mid\n",
    "        elif A[mid]<=B:\n",
    "            start = mid"
   ]
  },
  {
   "cell_type": "code",
   "execution_count": 3,
   "id": "c1b2cb69-dfeb-41e5-875f-867f7abe28da",
   "metadata": {},
   "outputs": [
    {
     "name": "stdout",
     "output_type": "stream",
     "text": [
      "0 2 4\n",
      "2 3 4\n",
      "3 3 4\n"
     ]
    },
    {
     "data": {
      "text/plain": [
       "4"
      ]
     },
     "execution_count": 3,
     "metadata": {},
     "output_type": "execute_result"
    }
   ],
   "source": [
    "A = [1, 3, 4, 4, 6]\n",
    "B = 4\n",
    "solve(A,B)"
   ]
  },
  {
   "cell_type": "code",
   "execution_count": 4,
   "id": "950fec9c-8bed-4bd9-ab71-1e4928c6d062",
   "metadata": {},
   "outputs": [
    {
     "name": "stdout",
     "output_type": "stream",
     "text": [
      "0 3 7\n"
     ]
    },
    {
     "data": {
      "text/plain": [
       "0"
      ]
     },
     "execution_count": 4,
     "metadata": {},
     "output_type": "execute_result"
    }
   ],
   "source": [
    "A = [11, 33, 34, 43, 56, 66, 66, 76]\n",
    "B = 5\n",
    "solve(A,B)"
   ]
  },
  {
   "cell_type": "code",
   "execution_count": 5,
   "id": "6a066e1a-f40d-4da8-a131-a11223c08869",
   "metadata": {},
   "outputs": [
    {
     "name": "stdout",
     "output_type": "stream",
     "text": [
      "0 1 3\n",
      "1 2 3\n",
      "1 1 2\n"
     ]
    },
    {
     "data": {
      "text/plain": [
       "2"
      ]
     },
     "execution_count": 5,
     "metadata": {},
     "output_type": "execute_result"
    }
   ],
   "source": [
    "A = [1, 2, 5, 5]\n",
    "B = 3\n",
    "solve(A,B)"
   ]
  },
  {
   "cell_type": "markdown",
   "id": "30e24849-def4-41b3-8e45-0eec4d3bf0de",
   "metadata": {
    "jp-MarkdownHeadingCollapsed": true,
    "tags": []
   },
   "source": [
    "##### Exercise Solution"
   ]
  },
  {
   "cell_type": "code",
   "execution_count": 10,
   "id": "910c5b25-9423-4ad5-be1b-13f3b29e604e",
   "metadata": {},
   "outputs": [],
   "source": [
    "  def solve(A, B):\n",
    "    n = len(A)\n",
    "    left = 0\n",
    "    right = n - 1\n",
    "    count = 0\n",
    "\n",
    "    while (left <= right):  \n",
    "        mid = int((right + left) / 2) \n",
    "      # Check if middle element is less than or equal to B\n",
    "        if (A[mid] <= B):  \n",
    "        # At least (mid + 1) elements are there whose values are less than or equal to key \n",
    "            count = mid + 1\n",
    "            left = mid + 1\n",
    "        # If B is smaller, ignore right half \n",
    "        else: \n",
    "            right = mid - 1\n",
    "    return count "
   ]
  },
  {
   "cell_type": "markdown",
   "id": "9249677b-d4d4-4226-897a-fc5ea0b809e2",
   "metadata": {
    "jp-MarkdownHeadingCollapsed": true,
    "tags": []
   },
   "source": [
    "#### Question 11"
   ]
  },
  {
   "cell_type": "markdown",
   "id": "7a4d9c84-2cd5-4f95-9cca-cb078c785838",
   "metadata": {},
   "source": [
    "    Given a sorted array A of size N and a target value B, return the index of the target in the list (0-based indexing) if the target is found.\n",
    "    If not found, return the index where it would be if it were inserted.\n",
    "\n",
    "    NOTE: You may assume no duplicates in the array. Users are expected to solve this in O(log(N)) time.\n",
    "\n",
    "    Input Format:\n",
    "    The first argument is an integer array A of size N.\n",
    "    The second argument is an integer B.\n",
    "    \n",
    "    Output Format:\n",
    "    Return an integer denoting the index of the target value.\n",
    "\n",
    "    Input 1:\n",
    "    A = [1, 3, 5, 6]\n",
    "    B = 5\n",
    "\n",
    "    Input 2:\n",
    "    A = [1]\n",
    "    B = 2\n",
    "\n",
    "    Output 1:\n",
    "    2 \n",
    "    Output 2:\n",
    "    1\n",
    "\n",
    "    Explanation 1: The target value 5 is present at index 2.\n",
    "    Explanation 2: The target value 2 is expected to be present at index 1."
   ]
  },
  {
   "cell_type": "markdown",
   "id": "a760f3f5-0f98-42af-a4ec-30e37696423f",
   "metadata": {
    "jp-MarkdownHeadingCollapsed": true,
    "tags": []
   },
   "source": [
    "##### Solution Submitted"
   ]
  },
  {
   "cell_type": "code",
   "execution_count": 11,
   "id": "897798ff-ee8f-4ea3-9978-d582cd2b2331",
   "metadata": {},
   "outputs": [],
   "source": [
    "def searchInsert(A, B):\n",
    "    #YOUR CODE GOES HERE\n",
    "    start = 0\n",
    "    end = len(A) -1\n",
    "    \n",
    "    while start<=end:\n",
    "        mid = (start+end)//2\n",
    "        \n",
    "        if A[mid] ==B:\n",
    "            return mid\n",
    "        elif A[mid]>B:\n",
    "            end = mid-1\n",
    "        else:\n",
    "            start = mid+1\n",
    "    return start"
   ]
  },
  {
   "cell_type": "code",
   "execution_count": 12,
   "id": "3a0316ef-1de2-4545-bae3-48e1018d9a96",
   "metadata": {},
   "outputs": [
    {
     "data": {
      "text/plain": [
       "2"
      ]
     },
     "execution_count": 12,
     "metadata": {},
     "output_type": "execute_result"
    }
   ],
   "source": [
    "A = [1, 3, 5, 6]\n",
    "B = 5\n",
    "searchInsert(A,B)"
   ]
  },
  {
   "cell_type": "code",
   "execution_count": 13,
   "id": "79635174-c3bf-4983-bdfa-9a764476baba",
   "metadata": {},
   "outputs": [
    {
     "data": {
      "text/plain": [
       "0"
      ]
     },
     "execution_count": 13,
     "metadata": {},
     "output_type": "execute_result"
    }
   ],
   "source": [
    "A = [11, 23, 45, 23, 43, 26]\n",
    "B = 3\n",
    "searchInsert(A,B)"
   ]
  },
  {
   "cell_type": "markdown",
   "id": "5ecc40e4-2797-45d7-bde4-4e5defb7d603",
   "metadata": {
    "jp-MarkdownHeadingCollapsed": true,
    "tags": []
   },
   "source": [
    "### Day 29: Sorting & TC - 1"
   ]
  },
  {
   "cell_type": "markdown",
   "id": "3da53be9-9838-4405-8320-10b33f7bec39",
   "metadata": {
    "jp-MarkdownHeadingCollapsed": true,
    "tags": []
   },
   "source": [
    "#### Question 1"
   ]
  },
  {
   "cell_type": "markdown",
   "id": "c9dae4f3-dd10-4bb1-a2f1-0d7de401ab50",
   "metadata": {},
   "source": [
    "    Generalize the formula for calculating the maximum number of comparisons in k iterations of bubble sort for an n-sized list?"
   ]
  },
  {
   "cell_type": "markdown",
   "id": "82e6104f-506b-46a4-b141-853b12ff0142",
   "metadata": {
    "jp-MarkdownHeadingCollapsed": true,
    "tags": []
   },
   "source": [
    "##### Solution"
   ]
  },
  {
   "cell_type": "markdown",
   "id": "1b8d7359-b8bd-400c-ad3d-1ffcde5aa23a",
   "metadata": {},
   "source": [
    "    For 1 pass, we have (n-1) comparisons; for 2 passes, it would be (n-2) comparisons. Similarly, for k passes, we will have (n-k) comparisions.  So, first element would be (n-1) and last element would be (n-k).  \n",
    "    Using the summation formula for AP i.e N/2(first element + last element) where N is no of terms, we get:  \n",
    "\n",
    "    = k/2((n-1) + (n-k))  \n",
    "    = (2kn - k^2 - k)/2"
   ]
  },
  {
   "cell_type": "markdown",
   "id": "25b844d9-bab3-4225-9695-49c625298021",
   "metadata": {
    "jp-MarkdownHeadingCollapsed": true,
    "tags": []
   },
   "source": [
    "#### Question 4"
   ]
  },
  {
   "cell_type": "markdown",
   "id": "87edf358-f222-411c-be01-a9b2628e8516",
   "metadata": {},
   "source": [
    "    What is the maximum number of iterations through the list that will be required to completely sort an n-sized list using bubble sort?"
   ]
  },
  {
   "cell_type": "markdown",
   "id": "812fbcf7-4dcd-48cb-8797-07930deb9adb",
   "metadata": {
    "jp-MarkdownHeadingCollapsed": true,
    "tags": []
   },
   "source": [
    "##### Solution"
   ]
  },
  {
   "cell_type": "markdown",
   "id": "c181bcda-410c-4487-97ba-ed5f1a97d927",
   "metadata": {},
   "source": [
    "n-1"
   ]
  },
  {
   "cell_type": "markdown",
   "id": "2d44ec2c-a755-4110-853e-bd313ed66120",
   "metadata": {
    "jp-MarkdownHeadingCollapsed": true,
    "tags": []
   },
   "source": [
    "#### Question 5"
   ]
  },
  {
   "cell_type": "markdown",
   "id": "9a92c155-d2f3-4a14-80ec-ce65ac8d845f",
   "metadata": {},
   "source": [
    "    Given an unsorted list of integers. Return the sum of the first and last elements of the list after sorting the first k elements of the list using Bubble Sort.\n",
    "\n",
    "\n",
    "    Input Format\n",
    "    Space separated values for Integers, arr\n",
    "    Value of k\n",
    "\n",
    "\n",
    "    Output Format\n",
    "    The required sum\n",
    "\n",
    "\n",
    "    Example Input\n",
    "    [64, 34, 25, 12, 22, 11, 90]\n",
    "    4\n",
    "\n",
    "\n",
    "    Example Output\n",
    "    102"
   ]
  },
  {
   "cell_type": "markdown",
   "id": "3d7aafdb-d4ad-49b8-8d12-c77769039f10",
   "metadata": {
    "jp-MarkdownHeadingCollapsed": true,
    "tags": []
   },
   "source": [
    "##### Solution Submitted"
   ]
  },
  {
   "cell_type": "code",
   "execution_count": 121,
   "id": "211835b0-b3cd-467c-8afa-6f282eb678fe",
   "metadata": {},
   "outputs": [],
   "source": [
    "def bubbleSort(arr,k):\n",
    "    for i in range(k):\n",
    "        flag = True\n",
    "        for j in range(k-i-1):\n",
    "            if arr[j] > arr[j+1]:\n",
    "                arr[j], arr[j+1] = arr[j+1], arr[j]\n",
    "    \n",
    "    return arr[0]+ arr[-1]"
   ]
  },
  {
   "cell_type": "code",
   "execution_count": 123,
   "id": "376aaec7-2f07-4694-b22a-6d057e44d465",
   "metadata": {},
   "outputs": [
    {
     "data": {
      "text/plain": [
       "102"
      ]
     },
     "execution_count": 123,
     "metadata": {},
     "output_type": "execute_result"
    }
   ],
   "source": [
    "# Output\n",
    "bubbleSort([64,34,25,12,22,11,90], 4)"
   ]
  },
  {
   "cell_type": "markdown",
   "id": "98eec0a6-a735-425c-ae27-5024eb4c673a",
   "metadata": {
    "jp-MarkdownHeadingCollapsed": true,
    "tags": []
   },
   "source": [
    "### Day 30: Sorting & TC - 2"
   ]
  },
  {
   "cell_type": "markdown",
   "id": "1070cb88-acc6-4db4-b4e5-710755577bc6",
   "metadata": {
    "jp-MarkdownHeadingCollapsed": true,
    "tags": []
   },
   "source": [
    "#### Question 2"
   ]
  },
  {
   "cell_type": "markdown",
   "id": "df25dd85-beab-49dc-8f68-789c3db583f8",
   "metadata": {},
   "source": [
    "    Upper bound for the number of swaps required to sort n numbers using selection sort?"
   ]
  },
  {
   "cell_type": "markdown",
   "id": "7ff081d1-6318-4bf9-af67-f18aa7fd0ad5",
   "metadata": {
    "jp-MarkdownHeadingCollapsed": true,
    "tags": []
   },
   "source": [
    "##### Solution"
   ]
  },
  {
   "cell_type": "markdown",
   "id": "fba173fa-3d34-4a1e-881e-6811043d31e3",
   "metadata": {},
   "source": [
    "n-1 swaps -- > O(n)"
   ]
  },
  {
   "cell_type": "markdown",
   "id": "68e5af30-f2b0-4dfb-82a5-af19120dc92d",
   "metadata": {
    "jp-MarkdownHeadingCollapsed": true,
    "tags": []
   },
   "source": [
    "#### Question 3"
   ]
  },
  {
   "cell_type": "markdown",
   "id": "f5cc8f78-7246-4486-ac7b-18b644da68c3",
   "metadata": {},
   "source": [
    "    Given a list of strings, use selection sort to sort these strings in lexicographical order.\n",
    "\n",
    "    Input Format:\n",
    "    space-separated strings \n",
    "\n",
    "    Output Format:\n",
    "    list of strings\n",
    "\n",
    "    Sample Input:\n",
    "    ['alpha', 'gamma', 'beta', 'delta'] \n",
    "    \n",
    "    Sample Output:\n",
    "    ['alpha', 'beta', 'delta', 'gamma']\n",
    "    \n",
    "    Sample explanation:\n",
    "    alpha is lexicographically smallest as it starts with 'a' and gamma is lexicographically largest as its initial character is 'g'."
   ]
  },
  {
   "cell_type": "markdown",
   "id": "ed342631-e6b8-49b0-bb6b-2b28c83674e4",
   "metadata": {
    "jp-MarkdownHeadingCollapsed": true,
    "tags": []
   },
   "source": [
    "##### Solution Submitted"
   ]
  },
  {
   "cell_type": "code",
   "execution_count": 3,
   "id": "bce9d066-81cb-4edc-96e1-16c050c9c52d",
   "metadata": {},
   "outputs": [
    {
     "data": {
      "text/plain": [
       "['Ram', 'Shyam', 'aaa', 'abcd', 'alpha', 'beta', 'delta']"
      ]
     },
     "execution_count": 3,
     "metadata": {},
     "output_type": "execute_result"
    }
   ],
   "source": [
    "def selectionSort(lis):\n",
    "    i = 0\n",
    "    for i in range(len(lis)-1):\n",
    "        index = i\n",
    "        for j in range(i+1, len(lis)):\n",
    "            if lis[j] < lis[index]:\n",
    "                index = j\n",
    "        if index != i:\n",
    "            lis[index], lis[i] = lis[i], lis[index]\n",
    "            \n",
    "    return lis\n",
    "y = ['alpha', 'abcd', 'beta',  'delta',  'aaa', 'Ram', 'Shyam']\n",
    "selectionSort(y)"
   ]
  },
  {
   "cell_type": "markdown",
   "id": "8aaf783e-08e9-44e6-a79c-f98463a50318",
   "metadata": {
    "jp-MarkdownHeadingCollapsed": true,
    "tags": []
   },
   "source": [
    "#### Question 4"
   ]
  },
  {
   "cell_type": "markdown",
   "id": "9b04e711-bd9a-422c-a00c-d5564e46515c",
   "metadata": {},
   "source": [
    "    The given list is arr = [3,5,7,14,15]. The number of passes on arr in selection sort after which the arr will be completely sorted are __________?"
   ]
  },
  {
   "cell_type": "markdown",
   "id": "56afebd5-f2b5-469b-8695-e1deafb68fbf",
   "metadata": {
    "jp-MarkdownHeadingCollapsed": true,
    "tags": []
   },
   "source": [
    "##### Solution"
   ]
  },
  {
   "cell_type": "markdown",
   "id": "0a26bcf4-e22a-4c17-8f31-b48568c26fe1",
   "metadata": {},
   "source": [
    "4"
   ]
  },
  {
   "cell_type": "markdown",
   "id": "91e07e72-8d81-4f87-ae19-4b31c9dd8fb6",
   "metadata": {
    "jp-MarkdownHeadingCollapsed": true,
    "tags": []
   },
   "source": [
    "#### Question 5"
   ]
  },
  {
   "cell_type": "markdown",
   "id": "4c84d649-c2f8-4dc1-9dfc-e0f499e69453",
   "metadata": {},
   "source": [
    "    What would be the maximum number of comparisons in the 3rd iteration of Insertion sort? The first iteration starts with the element with index = 1.\n",
    "\n",
    "    Note: n is the number of elements."
   ]
  },
  {
   "cell_type": "markdown",
   "id": "b2db46c8-cc52-4509-9c87-873a99ef7e0e",
   "metadata": {
    "jp-MarkdownHeadingCollapsed": true,
    "tags": []
   },
   "source": [
    "##### Solution"
   ]
  },
  {
   "cell_type": "markdown",
   "id": "39c9936b-eeab-4a2c-9271-17297cef03bf",
   "metadata": {},
   "source": [
    "3"
   ]
  },
  {
   "cell_type": "markdown",
   "id": "fba7f995-1797-4ce3-9fd3-99ab535215e3",
   "metadata": {
    "jp-MarkdownHeadingCollapsed": true,
    "tags": []
   },
   "source": [
    "#### Question 6"
   ]
  },
  {
   "cell_type": "markdown",
   "id": "3d7ee34a-da2a-48b3-8d22-4abab673a978",
   "metadata": {},
   "source": [
    "    Consider the code given below, which runs insertion sort:\n",
    "\n",
    "    def insertionSort(arr):\n",
    "      value=0\n",
    "      for i in range(1,len(arr)+1):\n",
    "        value=arr[i-1]\n",
    "        j=i-1\n",
    "        while(______________): #Fill the blank\n",
    "          arr[j]=arr[j-1]\n",
    "          j=j-1\n",
    "        arr[j]=value\n",
    "      return arr\n",
    "      \n",
    "    Which condition will correctly implement the while loop for insertion sort?"
   ]
  },
  {
   "cell_type": "markdown",
   "id": "aa7e0085-53e3-4fc1-a9b6-012861c5c62a",
   "metadata": {
    "jp-MarkdownHeadingCollapsed": true,
    "tags": []
   },
   "source": [
    "##### Solution"
   ]
  },
  {
   "cell_type": "markdown",
   "id": "d1e6c9fd-bd7f-465d-abca-dd914133d0f2",
   "metadata": {},
   "source": [
    "    (j > 0) and (arr[j-1] > value)"
   ]
  },
  {
   "cell_type": "markdown",
   "id": "cf024701",
   "metadata": {
    "jp-MarkdownHeadingCollapsed": true,
    "tags": []
   },
   "source": [
    "#### Question 8"
   ]
  },
  {
   "cell_type": "markdown",
   "id": "cb7ca441",
   "metadata": {},
   "source": [
    "    Given a list of numbers, perform k iterations of insertion sort on it and return the element present at the center.\n",
    "\n",
    "    Note:\n",
    "    For a list of length n, return the n//2th indexed element after applying k iterations of insertion sort.\n",
    "\n",
    "    Input Format\n",
    "    The first line contains space separated values of Integers, arr\n",
    "    The value of k\n",
    "\n",
    "    Output Format\n",
    "    The element at center after k iterations of insertion sort.\n",
    "\n",
    "    Example Input\n",
    "    12 11 13 5 6\n",
    "    2\n",
    "\n",
    "    Example Output\n",
    "    13\n",
    "\n",
    "    Example Explanation\n",
    "    The list after 2 iterations of insertion sort becomes [11, 12, 13, 5, 6]. So the central element is 13."
   ]
  },
  {
   "cell_type": "markdown",
   "id": "2350dc38",
   "metadata": {
    "jp-MarkdownHeadingCollapsed": true,
    "tags": []
   },
   "source": [
    "##### Solution Submitted"
   ]
  },
  {
   "cell_type": "code",
   "execution_count": 4,
   "id": "7eee5d80",
   "metadata": {},
   "outputs": [],
   "source": [
    "def insertionSort(arr,k):\n",
    "    for i in range(1,k+1):\n",
    "        index = i\n",
    "        for j in range(i-1, -1, -1):\n",
    "            if arr[j] < arr[index]:\n",
    "                break\n",
    "            if arr[j] > arr[index]:\n",
    "                arr[index], arr[j] = arr[j], arr[index]\n",
    "                index = j\n",
    "    res = arr[len(arr)//2]\n",
    "    \n",
    "    return res"
   ]
  },
  {
   "cell_type": "code",
   "execution_count": 5,
   "id": "e3a83419",
   "metadata": {},
   "outputs": [
    {
     "data": {
      "text/plain": [
       "7"
      ]
     },
     "execution_count": 5,
     "metadata": {},
     "output_type": "execute_result"
    }
   ],
   "source": [
    "y = [12, 4, 5, 7, 1, 32, 34]\n",
    "insertionSort(y,4)"
   ]
  },
  {
   "cell_type": "markdown",
   "id": "92994c95-5e52-48b5-9ed3-34a4bfdc91b6",
   "metadata": {
    "tags": []
   },
   "source": [
    "### Day xx:"
   ]
  },
  {
   "cell_type": "markdown",
   "id": "7e4147f3-a0f2-447c-8723-6b6321e08ad0",
   "metadata": {
    "tags": []
   },
   "source": [
    "#### Question x"
   ]
  },
  {
   "cell_type": "code",
   "execution_count": null,
   "id": "f5df8971-4e68-43db-b6b5-00b444ab9bc0",
   "metadata": {},
   "outputs": [],
   "source": []
  },
  {
   "cell_type": "markdown",
   "id": "6121e86c-7cef-4b1d-a0c3-f7e9e4a90831",
   "metadata": {
    "tags": []
   },
   "source": [
    "##### Solution Submitted"
   ]
  },
  {
   "cell_type": "code",
   "execution_count": null,
   "id": "0e331ab8-8214-4e7f-aade-8edbbabeab17",
   "metadata": {},
   "outputs": [],
   "source": []
  },
  {
   "cell_type": "code",
   "execution_count": null,
   "id": "570f9805-c20a-4ced-938e-10ae0c3a0975",
   "metadata": {},
   "outputs": [],
   "source": [
    "# Output\n"
   ]
  },
  {
   "cell_type": "markdown",
   "id": "db06bab8-3d20-4e79-a7d0-8e893ff78431",
   "metadata": {
    "tags": []
   },
   "source": [
    "##### Full Solution"
   ]
  },
  {
   "cell_type": "code",
   "execution_count": null,
   "id": "fb8ef665-5f55-44e2-b1eb-b3f91db05e49",
   "metadata": {},
   "outputs": [],
   "source": []
  },
  {
   "cell_type": "code",
   "execution_count": null,
   "id": "38b18487-e04d-4c7c-b9b1-b98e647d8bd8",
   "metadata": {},
   "outputs": [],
   "source": [
    "# Output\n"
   ]
  },
  {
   "cell_type": "markdown",
   "id": "0a8b88f7-1ddc-47e5-9c19-e917afcbf244",
   "metadata": {
    "tags": []
   },
   "source": [
    "### Day xx:"
   ]
  },
  {
   "cell_type": "markdown",
   "id": "d522724b-abbc-4f76-b874-d7f18d6bb8f4",
   "metadata": {
    "tags": []
   },
   "source": [
    "#### Question x"
   ]
  },
  {
   "cell_type": "code",
   "execution_count": null,
   "id": "f5f4a216-3b8a-4e1d-b71e-d6ce86eb7b85",
   "metadata": {},
   "outputs": [],
   "source": []
  },
  {
   "cell_type": "markdown",
   "id": "33c23b77-d21c-43b0-b3d5-54c89154f7ac",
   "metadata": {
    "tags": []
   },
   "source": [
    "##### Solution Submitted"
   ]
  },
  {
   "cell_type": "code",
   "execution_count": null,
   "id": "b574a757-a70d-4daa-96bd-a875dbfef545",
   "metadata": {},
   "outputs": [],
   "source": []
  },
  {
   "cell_type": "code",
   "execution_count": null,
   "id": "2f8d61ef-8df1-4e4f-9abd-e07a90abdfd6",
   "metadata": {},
   "outputs": [],
   "source": [
    "# Output\n"
   ]
  },
  {
   "cell_type": "markdown",
   "id": "3cb18fc7-408f-4b22-8f35-991abd9ba823",
   "metadata": {
    "tags": []
   },
   "source": [
    "##### Full Solution"
   ]
  },
  {
   "cell_type": "code",
   "execution_count": null,
   "id": "51ebe2e2-de4c-4f88-9aa7-b68f3dec664a",
   "metadata": {},
   "outputs": [],
   "source": []
  },
  {
   "cell_type": "code",
   "execution_count": null,
   "id": "3f2a705d-f93e-4461-81f5-6eeb847bb921",
   "metadata": {},
   "outputs": [],
   "source": [
    "# Output\n"
   ]
  },
  {
   "cell_type": "markdown",
   "id": "ef34f3db-92e7-411b-8d16-843402f861b6",
   "metadata": {
    "tags": []
   },
   "source": [
    "### Day xx:"
   ]
  },
  {
   "cell_type": "markdown",
   "id": "96cfc124-aef2-4048-bde2-3ce3adec9fc2",
   "metadata": {
    "tags": []
   },
   "source": [
    "#### Question x"
   ]
  },
  {
   "cell_type": "code",
   "execution_count": null,
   "id": "2bf06e90-e668-4f73-b786-204fa81bf205",
   "metadata": {},
   "outputs": [],
   "source": []
  },
  {
   "cell_type": "markdown",
   "id": "dc20b113-ab68-43a1-bd4f-07233c06213c",
   "metadata": {
    "tags": []
   },
   "source": [
    "##### Solution Submitted"
   ]
  },
  {
   "cell_type": "code",
   "execution_count": null,
   "id": "e28a8d44-9068-42a5-af04-a938083443b0",
   "metadata": {},
   "outputs": [],
   "source": []
  },
  {
   "cell_type": "code",
   "execution_count": null,
   "id": "0a7ca8a0-fa30-4261-a826-fd685337139c",
   "metadata": {},
   "outputs": [],
   "source": [
    "# Output\n"
   ]
  },
  {
   "cell_type": "markdown",
   "id": "495d57ed-7bfc-476b-baa0-8515cd3950e2",
   "metadata": {
    "tags": []
   },
   "source": [
    "##### Full Solution"
   ]
  },
  {
   "cell_type": "code",
   "execution_count": null,
   "id": "88fee9ea-6f43-4663-840e-48c1cc422837",
   "metadata": {},
   "outputs": [],
   "source": []
  },
  {
   "cell_type": "code",
   "execution_count": null,
   "id": "40a86c10-e95c-4f35-aa8a-fd9b1f532b92",
   "metadata": {},
   "outputs": [],
   "source": [
    "# Output\n"
   ]
  },
  {
   "cell_type": "markdown",
   "id": "3288c71f-64bd-4760-8c45-356daa18910b",
   "metadata": {
    "tags": []
   },
   "source": [
    "## HW"
   ]
  },
  {
   "cell_type": "markdown",
   "id": "6d67e997-37c2-4d54-a912-9fef79403a51",
   "metadata": {
    "tags": []
   },
   "source": [
    "### Day xx:"
   ]
  },
  {
   "cell_type": "markdown",
   "id": "262ac0f5-4f56-4cde-b4b8-1c6af3d18b24",
   "metadata": {
    "tags": []
   },
   "source": [
    "#### Question x"
   ]
  },
  {
   "cell_type": "code",
   "execution_count": null,
   "id": "9cc615c4-3c68-4461-a3db-36b01040138a",
   "metadata": {},
   "outputs": [],
   "source": []
  },
  {
   "cell_type": "markdown",
   "id": "61264ab4-61a0-4b60-ae2c-87424d80dfc3",
   "metadata": {
    "tags": []
   },
   "source": [
    "##### Solution Submitted"
   ]
  },
  {
   "cell_type": "code",
   "execution_count": null,
   "id": "842e285e-2c39-46d2-a4d9-566b5d6ce34e",
   "metadata": {},
   "outputs": [],
   "source": []
  },
  {
   "cell_type": "code",
   "execution_count": null,
   "id": "3f46c1a6-7038-4b0b-8168-1c2398c3a4fe",
   "metadata": {},
   "outputs": [],
   "source": [
    "# Output\n"
   ]
  },
  {
   "cell_type": "markdown",
   "id": "f72e77d9-280c-4c70-88b7-51c90a6a1a23",
   "metadata": {
    "tags": []
   },
   "source": [
    "##### Full Solution"
   ]
  },
  {
   "cell_type": "code",
   "execution_count": null,
   "id": "b9ee71ca-591f-4a9c-99a0-158cf1b798e7",
   "metadata": {},
   "outputs": [],
   "source": []
  },
  {
   "cell_type": "code",
   "execution_count": null,
   "id": "84b30972-7899-4b30-aabb-eeffb810ce3c",
   "metadata": {},
   "outputs": [],
   "source": [
    "# Output\n"
   ]
  },
  {
   "cell_type": "markdown",
   "id": "5666890a-b5a6-4ee2-ad65-e9ddd9b1bd8c",
   "metadata": {
    "tags": []
   },
   "source": [
    "### Day xx:"
   ]
  },
  {
   "cell_type": "markdown",
   "id": "6ca479e9-315a-48f8-905a-2f3b07678230",
   "metadata": {
    "tags": []
   },
   "source": [
    "#### Question x"
   ]
  },
  {
   "cell_type": "code",
   "execution_count": null,
   "id": "0d813d1c-a901-4237-a3c8-f113ad9d8d7d",
   "metadata": {},
   "outputs": [],
   "source": []
  },
  {
   "cell_type": "markdown",
   "id": "af3b3f75-8899-4ae2-be88-f45835fa4926",
   "metadata": {
    "tags": []
   },
   "source": [
    "##### Solution Submitted"
   ]
  },
  {
   "cell_type": "code",
   "execution_count": null,
   "id": "c401d4dc-120b-4587-af6a-f714a791e803",
   "metadata": {},
   "outputs": [],
   "source": []
  },
  {
   "cell_type": "code",
   "execution_count": null,
   "id": "cc5a071e-6fbb-48cb-a178-fda0b31dd2b8",
   "metadata": {},
   "outputs": [],
   "source": [
    "# Output\n"
   ]
  },
  {
   "cell_type": "markdown",
   "id": "04ee3350-1faf-4d97-aafd-80ba08e5dd59",
   "metadata": {
    "tags": []
   },
   "source": [
    "##### Full Solution"
   ]
  },
  {
   "cell_type": "code",
   "execution_count": null,
   "id": "ae90426f-27ac-4a39-9db1-272431b41328",
   "metadata": {},
   "outputs": [],
   "source": []
  },
  {
   "cell_type": "code",
   "execution_count": null,
   "id": "663c6a9e-1317-406d-922d-43504454ed7d",
   "metadata": {},
   "outputs": [],
   "source": [
    "# Output\n"
   ]
  },
  {
   "cell_type": "markdown",
   "id": "9fe45bb9-244e-4d12-9e25-9e1ed1d1edf4",
   "metadata": {
    "tags": []
   },
   "source": [
    "### Day xx:"
   ]
  },
  {
   "cell_type": "markdown",
   "id": "977824b9-4c3b-4859-a51c-cf8dfca68397",
   "metadata": {
    "tags": []
   },
   "source": [
    "#### Question x"
   ]
  },
  {
   "cell_type": "code",
   "execution_count": null,
   "id": "b7da343e-0400-4544-adfa-4792446e6d93",
   "metadata": {},
   "outputs": [],
   "source": []
  },
  {
   "cell_type": "markdown",
   "id": "b59869a7-98e9-4153-a46d-8ef04b91448f",
   "metadata": {
    "tags": []
   },
   "source": [
    "##### Solution Submitted"
   ]
  },
  {
   "cell_type": "code",
   "execution_count": null,
   "id": "4ff5feb3-8427-4278-92fb-6392436913f6",
   "metadata": {},
   "outputs": [],
   "source": []
  },
  {
   "cell_type": "code",
   "execution_count": null,
   "id": "f43bf1b2-9f55-466f-963c-7fe967dc9348",
   "metadata": {},
   "outputs": [],
   "source": [
    "# Output\n"
   ]
  },
  {
   "cell_type": "markdown",
   "id": "89a3b18e-4237-49c6-84d3-28780e7b6df1",
   "metadata": {
    "tags": []
   },
   "source": [
    "##### Full Solution"
   ]
  },
  {
   "cell_type": "code",
   "execution_count": null,
   "id": "a8de14a0-79fc-4603-887c-1170f03db3cf",
   "metadata": {},
   "outputs": [],
   "source": []
  },
  {
   "cell_type": "code",
   "execution_count": null,
   "id": "1d8ce468-da36-4f85-b8fe-fe0c85f2671f",
   "metadata": {},
   "outputs": [],
   "source": [
    "# Output\n"
   ]
  },
  {
   "cell_type": "markdown",
   "id": "36d457e9-e604-4e74-9ae4-33c00f1c4193",
   "metadata": {
    "tags": []
   },
   "source": [
    "### Day xx:"
   ]
  },
  {
   "cell_type": "markdown",
   "id": "dac760fb-b6ea-4246-90e4-17dd6add017d",
   "metadata": {
    "tags": []
   },
   "source": [
    "#### Question x"
   ]
  },
  {
   "cell_type": "code",
   "execution_count": null,
   "id": "1bf4f54f-bc09-457f-810b-f03a87eaccfc",
   "metadata": {},
   "outputs": [],
   "source": []
  },
  {
   "cell_type": "markdown",
   "id": "47223e43-5dfc-437c-b965-f60124bb8f2f",
   "metadata": {
    "tags": []
   },
   "source": [
    "##### Solution Submitted"
   ]
  },
  {
   "cell_type": "code",
   "execution_count": null,
   "id": "b42af5fa-187e-4a25-bee7-3cb14d42a5ae",
   "metadata": {},
   "outputs": [],
   "source": []
  },
  {
   "cell_type": "code",
   "execution_count": null,
   "id": "9f622649-69ae-47d2-830c-1df112bd4be6",
   "metadata": {},
   "outputs": [],
   "source": [
    "# Output\n"
   ]
  },
  {
   "cell_type": "markdown",
   "id": "67ce1acd-affa-45c2-895d-ae90ff96679a",
   "metadata": {
    "tags": []
   },
   "source": [
    "##### Full Solution"
   ]
  },
  {
   "cell_type": "code",
   "execution_count": null,
   "id": "c1c62474-3f37-4c39-a40e-c7ad9a10fadd",
   "metadata": {},
   "outputs": [],
   "source": []
  },
  {
   "cell_type": "code",
   "execution_count": null,
   "id": "4219cff9-3e3a-43cf-a163-b00e5a6821f7",
   "metadata": {},
   "outputs": [],
   "source": [
    "# Output\n"
   ]
  },
  {
   "cell_type": "markdown",
   "id": "37ac357d-457a-4042-932e-605cda1a8c7c",
   "metadata": {
    "tags": []
   },
   "source": [
    "### Day xx:"
   ]
  },
  {
   "cell_type": "markdown",
   "id": "3a66e2df-f6e7-4106-be66-03de652c0f7d",
   "metadata": {
    "tags": []
   },
   "source": [
    "#### Question x"
   ]
  },
  {
   "cell_type": "code",
   "execution_count": null,
   "id": "ee6b70ff-c102-4e29-9a1c-a7c0f723b5f1",
   "metadata": {},
   "outputs": [],
   "source": []
  },
  {
   "cell_type": "markdown",
   "id": "0d5242b0-ec39-49b4-998c-8f95b7ee77db",
   "metadata": {
    "tags": []
   },
   "source": [
    "##### Solution Submitted"
   ]
  },
  {
   "cell_type": "code",
   "execution_count": null,
   "id": "c66f05a1-7e6f-4c9d-94c5-01406e1558e5",
   "metadata": {},
   "outputs": [],
   "source": []
  },
  {
   "cell_type": "code",
   "execution_count": null,
   "id": "47f7cdc8-512c-431c-89e8-a761c49ad9d2",
   "metadata": {},
   "outputs": [],
   "source": [
    "# Output\n"
   ]
  },
  {
   "cell_type": "markdown",
   "id": "66b65b0c-94d4-4f97-a154-6f92546d1763",
   "metadata": {
    "tags": []
   },
   "source": [
    "##### Full Solution"
   ]
  },
  {
   "cell_type": "code",
   "execution_count": null,
   "id": "97ae928a-5e00-45c3-8786-6588ed18145f",
   "metadata": {},
   "outputs": [],
   "source": []
  },
  {
   "cell_type": "code",
   "execution_count": null,
   "id": "041f0ce5-64e5-4441-b2f6-216d5df7e008",
   "metadata": {},
   "outputs": [],
   "source": [
    "# Output\n"
   ]
  },
  {
   "cell_type": "markdown",
   "id": "77ac1ba4-5d10-404e-8954-e31258ea3194",
   "metadata": {
    "tags": []
   },
   "source": [
    "### Day xx:"
   ]
  },
  {
   "cell_type": "markdown",
   "id": "d605c15d-e8b7-4887-9f83-979327932c87",
   "metadata": {
    "tags": []
   },
   "source": [
    "#### Question x"
   ]
  },
  {
   "cell_type": "code",
   "execution_count": null,
   "id": "757326dc-0a52-417e-a610-0553ef440c45",
   "metadata": {},
   "outputs": [],
   "source": []
  },
  {
   "cell_type": "markdown",
   "id": "4a1259e2-6de6-4ff8-98cc-fea8133e77a9",
   "metadata": {
    "tags": []
   },
   "source": [
    "##### Solution Submitted"
   ]
  },
  {
   "cell_type": "code",
   "execution_count": null,
   "id": "094b3b8f-f13e-4f63-a862-0c64d12a8eb3",
   "metadata": {},
   "outputs": [],
   "source": []
  },
  {
   "cell_type": "code",
   "execution_count": null,
   "id": "4686312c-179d-46a6-b497-db32771dafa6",
   "metadata": {},
   "outputs": [],
   "source": [
    "# Output\n"
   ]
  },
  {
   "cell_type": "markdown",
   "id": "3414dbfc-dd4e-454d-ab1f-593bf71fd957",
   "metadata": {
    "tags": []
   },
   "source": [
    "##### Full Solution"
   ]
  },
  {
   "cell_type": "code",
   "execution_count": null,
   "id": "fa412001-395d-4a02-bbeb-be51bf80b48d",
   "metadata": {},
   "outputs": [],
   "source": []
  },
  {
   "cell_type": "code",
   "execution_count": null,
   "id": "40f18eaa-54d1-4937-937e-b37797a71b2a",
   "metadata": {},
   "outputs": [],
   "source": [
    "# Output\n"
   ]
  }
 ],
 "metadata": {
  "kernelspec": {
   "display_name": "Python 3 (ipykernel)",
   "language": "python",
   "name": "python3"
  },
  "language_info": {
   "codemirror_mode": {
    "name": "ipython",
    "version": 3
   },
   "file_extension": ".py",
   "mimetype": "text/x-python",
   "name": "python",
   "nbconvert_exporter": "python",
   "pygments_lexer": "ipython3",
   "version": "3.9.12"
  },
  "vscode": {
   "interpreter": {
    "hash": "935f14679552b7ed0d9a0235b9885cdb22dc837e42e90f9da9ac0cd3081692a0"
   }
  },
  "widgets": {
   "application/vnd.jupyter.widget-state+json": {
    "state": {},
    "version_major": 2,
    "version_minor": 0
   }
  }
 },
 "nbformat": 4,
 "nbformat_minor": 5
}
