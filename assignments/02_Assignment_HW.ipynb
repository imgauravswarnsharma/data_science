{
 "cells": [
  {
   "cell_type": "markdown",
   "id": "fc9beb48-b426-448a-8d8e-3015ce2d5df5",
   "metadata": {},
   "source": [
    "# Module 3"
   ]
  },
  {
   "cell_type": "markdown",
   "id": "3673c69a-5707-4b23-9ef9-0f5c5d335f61",
   "metadata": {
    "tags": []
   },
   "source": [
    "## Assignments"
   ]
  },
  {
   "cell_type": "markdown",
   "id": "7f75c12e-68d0-4ded-a548-407bdd08a836",
   "metadata": {
    "jp-MarkdownHeadingCollapsed": true,
    "tags": []
   },
   "source": [
    "### Day 13: Pattern Printing"
   ]
  },
  {
   "cell_type": "markdown",
   "id": "d8a007c3-fa9d-4533-aa0d-d7ef5bf497c1",
   "metadata": {
    "jp-MarkdownHeadingCollapsed": true,
    "tags": []
   },
   "source": [
    "#### Question 1"
   ]
  },
  {
   "cell_type": "markdown",
   "id": "2bf1edca-b89e-495f-baec-8fad42989a11",
   "metadata": {},
   "source": [
    "    Take an integer N as input, print the corresponding pattern for N.\n",
    "    For example if N = 5 then pattern will be like:\n",
    "\n",
    "    *   *\n",
    "    *   *\n",
    "    *   *\n",
    "    *   *\n",
    "    *   *"
   ]
  },
  {
   "cell_type": "markdown",
   "id": "8a18d1cc-6eb2-45ba-a3bc-7d6f47cceb44",
   "metadata": {
    "jp-MarkdownHeadingCollapsed": true,
    "tags": []
   },
   "source": [
    "##### Solution"
   ]
  },
  {
   "cell_type": "code",
   "execution_count": 30,
   "id": "1aaee5a8-f476-465a-ae84-fb68511f9129",
   "metadata": {},
   "outputs": [
    {
     "name": "stdin",
     "output_type": "stream",
     "text": [
      " 5\n"
     ]
    },
    {
     "name": "stdout",
     "output_type": "stream",
     "text": [
      "*   *\n",
      "*   *\n",
      "*   *\n",
      "*   *\n",
      "*   *\n"
     ]
    }
   ],
   "source": [
    "N = int(input())\n",
    "for i in range(1,N+1):\n",
    "    for j in range(1,N+1):\n",
    "        if j==1:\n",
    "            print(\"*\", end=\"\")\n",
    "        if j==2:\n",
    "            print(\" \"*(N-2), end=\"\")\n",
    "        if j==N:\n",
    "            print(\"*\", end=\"\\n\")"
   ]
  },
  {
   "cell_type": "markdown",
   "id": "dc9ec697-d3eb-4e32-b8c3-d8d537f3bb49",
   "metadata": {
    "jp-MarkdownHeadingCollapsed": true,
    "tags": []
   },
   "source": [
    "##### Optimized Approach"
   ]
  },
  {
   "cell_type": "code",
   "execution_count": 109,
   "id": "b0ac605e-6de2-4bd4-8341-cb112c6bbcb2",
   "metadata": {},
   "outputs": [
    {
     "name": "stdin",
     "output_type": "stream",
     "text": [
      " 5\n"
     ]
    },
    {
     "name": "stdout",
     "output_type": "stream",
     "text": [
      "*   *\n",
      "*   *\n",
      "*   *\n",
      "*   *\n",
      "*   *\n"
     ]
    }
   ],
   "source": [
    "N = int(input())\n",
    "for i in range(1,N+1):\n",
    "    for j in range(1):\n",
    "        print(\"*\", end=\"\")\n",
    "        print(\" \"*(N-2), end=\"\")\n",
    "        print(\"*\")"
   ]
  },
  {
   "cell_type": "markdown",
   "id": "5a410768-75cf-4df9-84d2-74eb170cdd58",
   "metadata": {
    "jp-MarkdownHeadingCollapsed": true,
    "tags": []
   },
   "source": [
    "#### Question 2"
   ]
  },
  {
   "cell_type": "markdown",
   "id": "9100ab8f-72d8-4022-9b90-805463decb21",
   "metadata": {},
   "source": [
    "    Take an integer N as input, print the corresponding pattern for N.\n",
    "    For example if N = 5 then pattern will be like:\n",
    "\n",
    "    *****\n",
    "    _****\n",
    "    __***\n",
    "    ___**\n",
    "    ____*\n",
    "    \n",
    "    Note : Here '_' represents space for explanation purpose only. You have to print space in your code."
   ]
  },
  {
   "cell_type": "markdown",
   "id": "8d26fa37-0107-421b-bb56-1400e612b80e",
   "metadata": {
    "jp-MarkdownHeadingCollapsed": true,
    "tags": []
   },
   "source": [
    "##### Solution"
   ]
  },
  {
   "cell_type": "code",
   "execution_count": 38,
   "id": "d5f96014-3f4b-4e10-bd6e-f91ed987d749",
   "metadata": {},
   "outputs": [
    {
     "name": "stdin",
     "output_type": "stream",
     "text": [
      " 5\n"
     ]
    },
    {
     "name": "stdout",
     "output_type": "stream",
     "text": [
      "*****\n",
      " ****\n",
      "  ***\n",
      "   **\n",
      "    *\n"
     ]
    }
   ],
   "source": [
    "N = int(input())\n",
    "for i in range(1,N+1): \n",
    "    for j in range(1):\n",
    "        print(\" \"*(i-1), end=\"\")\n",
    "        print(\"*\"*(N+1-i), end=\"\\n\")\n",
    "    "
   ]
  },
  {
   "cell_type": "markdown",
   "id": "460834af-3af8-4794-8028-c2278eb13344",
   "metadata": {
    "jp-MarkdownHeadingCollapsed": true,
    "tags": []
   },
   "source": [
    "#### Question 3"
   ]
  },
  {
   "cell_type": "markdown",
   "id": "76090e54-f8d2-4e9b-9774-86f5572d40e6",
   "metadata": {},
   "source": [
    "    Take an integer N, print the corresponding Full Pyramid pattern for N.\n",
    "\n",
    "    For example if N = 5 then pattern will be like:\n",
    "\n",
    "        * \n",
    "       * * \n",
    "      * * * \n",
    "     * * * * \n",
    "    * * * * * \n",
    "    \n",
    "    NOTE: There should be exactly one extra space after each * for each row."
   ]
  },
  {
   "cell_type": "markdown",
   "id": "1a838122-6a07-49e0-9237-4843e050fde2",
   "metadata": {
    "jp-MarkdownHeadingCollapsed": true,
    "tags": []
   },
   "source": [
    "##### Solution"
   ]
  },
  {
   "cell_type": "code",
   "execution_count": 3,
   "id": "c7b8dfed-fecc-4c8a-ba7c-a12dc1b63237",
   "metadata": {},
   "outputs": [
    {
     "name": "stdin",
     "output_type": "stream",
     "text": [
      " 5\n"
     ]
    },
    {
     "name": "stdout",
     "output_type": "stream",
     "text": [
      "    * \n",
      "   * * \n",
      "  * * * \n",
      " * * * * \n",
      "* * * * * \n"
     ]
    }
   ],
   "source": [
    "N = int(input())\n",
    "for i in range(1,N+1):\n",
    "    k=N-i+1\n",
    "    for j in range(1,2*N):\n",
    "        if j < k:\n",
    "            print(\" \", end=\"\")\n",
    "        if j>=k and j < k+i:\n",
    "            print(\"*\", end=\" \")\n",
    "    print()"
   ]
  },
  {
   "cell_type": "markdown",
   "id": "5ec746df-d12f-4c2d-a376-f4df2c798369",
   "metadata": {
    "jp-MarkdownHeadingCollapsed": true,
    "tags": []
   },
   "source": [
    "#### Question 4"
   ]
  },
  {
   "cell_type": "markdown",
   "id": "ec15f3b4-3731-4c16-8837-bfc3f9a5d81e",
   "metadata": {},
   "source": [
    "    Take an integer N as input, print the corresponding pattern for N.\n",
    "    For example if N = 5 then pattern will be like:\n",
    "\n",
    "    ____*\n",
    "    ___**\n",
    "    __***\n",
    "    _****\n",
    "    *****\n",
    "    \n",
    "    Note : Here '_' represents space for explanation purpose only. You have to print space in your code."
   ]
  },
  {
   "cell_type": "markdown",
   "id": "04b2be7b-487b-4d3f-b890-0de1087946f3",
   "metadata": {
    "jp-MarkdownHeadingCollapsed": true,
    "tags": []
   },
   "source": [
    "##### Solution"
   ]
  },
  {
   "cell_type": "code",
   "execution_count": 5,
   "id": "3fb861a9-d868-44f6-946e-7a551bafe931",
   "metadata": {},
   "outputs": [
    {
     "name": "stdin",
     "output_type": "stream",
     "text": [
      " 5\n"
     ]
    },
    {
     "name": "stdout",
     "output_type": "stream",
     "text": [
      "    *\n",
      "   **\n",
      "  ***\n",
      " ****\n",
      "*****\n"
     ]
    }
   ],
   "source": [
    "N = int(input())\n",
    "\n",
    "for i in range(1,N+1):\n",
    "    for j in range(1):\n",
    "        print(\" \"*(N-i), end=\"\")\n",
    "        print(\"*\"*i, end=\"\")\n",
    "    print()"
   ]
  },
  {
   "cell_type": "markdown",
   "id": "318d518c-0dac-4170-ae90-dc8a6553285d",
   "metadata": {
    "jp-MarkdownHeadingCollapsed": true,
    "tags": []
   },
   "source": [
    "##### One more Approach. Try more approaches as it comes into mind."
   ]
  },
  {
   "cell_type": "code",
   "execution_count": 7,
   "id": "b929437b-2db4-43cf-ae26-71e83c6cd4cc",
   "metadata": {},
   "outputs": [
    {
     "name": "stdin",
     "output_type": "stream",
     "text": [
      " 5\n"
     ]
    },
    {
     "name": "stdout",
     "output_type": "stream",
     "text": [
      "    *\n",
      "   **\n",
      "  ***\n",
      " ****\n",
      "*****\n"
     ]
    }
   ],
   "source": [
    "N = int(input())\n",
    "\n",
    "for i in range(1,N+1):\n",
    "    for j in range(1,N+1):\n",
    "        if j<=N-i:\n",
    "            print(\" \", end=\"\")\n",
    "        if j>N-i and j < N+1:\n",
    "            print(\"*\", end=\"\")\n",
    "    print()"
   ]
  },
  {
   "cell_type": "markdown",
   "id": "e2128fe0-17e9-4182-9f3a-e7bc1e13c965",
   "metadata": {
    "jp-MarkdownHeadingCollapsed": true,
    "tags": []
   },
   "source": [
    "#### Question 5"
   ]
  },
  {
   "cell_type": "markdown",
   "id": "aa0e94c0-74ce-425a-895a-ed8017f1dbc1",
   "metadata": {},
   "source": [
    "    Take an integer N as input, print the corresponding pattern for N.\n",
    "    For example if N = 5 then pattern will be like:\n",
    "\n",
    "    1\n",
    "    1_\n",
    "    1_3\n",
    "    1_3_\n",
    "    1_3_5"
   ]
  },
  {
   "cell_type": "markdown",
   "id": "25eded6b-2c6c-46ff-9767-2dc5c924fec0",
   "metadata": {
    "jp-MarkdownHeadingCollapsed": true,
    "tags": []
   },
   "source": [
    "##### Solution"
   ]
  },
  {
   "cell_type": "code",
   "execution_count": 10,
   "id": "4dfa3a90-d2c3-4745-9ab3-fe6b042e200a",
   "metadata": {},
   "outputs": [
    {
     "name": "stdin",
     "output_type": "stream",
     "text": [
      " 5\n"
     ]
    },
    {
     "name": "stdout",
     "output_type": "stream",
     "text": [
      "1\n",
      "1 \n",
      "1 3\n",
      "1 3 \n",
      "1 3 5\n"
     ]
    }
   ],
   "source": [
    "N = int(input())\n",
    "\n",
    "for i in range(1,N+1):\n",
    "    for j in range(1,i+1):\n",
    "        if j%2:\n",
    "            print(j, end=\"\")\n",
    "        if j%2==0:\n",
    "            print(\" \", end=\"\")\n",
    "    print()"
   ]
  },
  {
   "cell_type": "markdown",
   "id": "b9d4a986-8a34-4400-b555-f45950aab40d",
   "metadata": {
    "jp-MarkdownHeadingCollapsed": true,
    "tags": []
   },
   "source": [
    "#### Question 6"
   ]
  },
  {
   "cell_type": "markdown",
   "id": "91d157f3-ec36-4ad6-8893-78649ae8b559",
   "metadata": {},
   "source": [
    "    Given two integers N and M as inputs, print a rectangle of N * M stars.\n",
    "\n",
    "    For example if N = 3, M = 4 then pattern will be like:\n",
    "\n",
    "    ****\n",
    "    ****\n",
    "    ****"
   ]
  },
  {
   "cell_type": "markdown",
   "id": "aec0c582-755a-4735-8edc-51e5732b2742",
   "metadata": {
    "tags": []
   },
   "source": [
    "##### Solution"
   ]
  },
  {
   "cell_type": "code",
   "execution_count": 11,
   "id": "f3dd3752-1253-448c-ba94-68c45767649e",
   "metadata": {},
   "outputs": [
    {
     "name": "stdin",
     "output_type": "stream",
     "text": [
      " 3\n",
      " 4\n"
     ]
    },
    {
     "name": "stdout",
     "output_type": "stream",
     "text": [
      "****\n",
      "****\n",
      "****\n"
     ]
    }
   ],
   "source": [
    "N = int(input())\n",
    "M = int(input())\n",
    "\n",
    "for i in range(1,N+1):\n",
    "    for j in range(1,M+1):\n",
    "        print(\"*\",end=\"\")\n",
    "    print()"
   ]
  },
  {
   "cell_type": "markdown",
   "id": "19f8ca67-db61-4e95-88d1-beec9337b521",
   "metadata": {
    "jp-MarkdownHeadingCollapsed": true,
    "tags": []
   },
   "source": [
    "#### Question 7"
   ]
  },
  {
   "cell_type": "markdown",
   "id": "f0792ab0-3cbc-431f-826e-24b27363e10e",
   "metadata": {},
   "source": [
    "    Take an Integer N as input. Print an Inverse half pyramid of N lines using *.\n",
    "    For example for N = 5, the output should be the following pattern:-\n",
    "\n",
    "    *****\n",
    "    ****\n",
    "    ***\n",
    "    **\n",
    "    *\n",
    "    \n",
    "    Note: There should be no space after the last * in each line of the output."
   ]
  },
  {
   "cell_type": "markdown",
   "id": "29c30f8d-59d0-45d7-a0ce-97e5c54da006",
   "metadata": {
    "jp-MarkdownHeadingCollapsed": true,
    "tags": []
   },
   "source": [
    "##### Solution"
   ]
  },
  {
   "cell_type": "code",
   "execution_count": 13,
   "id": "93fb1765-9866-4725-8049-4af7f7d47f02",
   "metadata": {},
   "outputs": [
    {
     "name": "stdin",
     "output_type": "stream",
     "text": [
      " 5\n"
     ]
    },
    {
     "name": "stdout",
     "output_type": "stream",
     "text": [
      "*****\n",
      "****\n",
      "***\n",
      "**\n",
      "*\n"
     ]
    }
   ],
   "source": [
    "N = int(input())\n",
    "\n",
    "for i in range(1,N+1):\n",
    "    for j in range(N-i+1):\n",
    "        print(\"*\", end=\"\")\n",
    "    print()"
   ]
  },
  {
   "cell_type": "markdown",
   "id": "2f261548-f67c-4ec3-ab8b-efd04b7f103d",
   "metadata": {
    "jp-MarkdownHeadingCollapsed": true,
    "tags": []
   },
   "source": [
    "### Day 14: Functions 1"
   ]
  },
  {
   "cell_type": "markdown",
   "id": "a9df0cd7-a13e-4e4a-a2f4-6ada7b1f0534",
   "metadata": {
    "jp-MarkdownHeadingCollapsed": true,
    "tags": []
   },
   "source": [
    "#### Question 2"
   ]
  },
  {
   "cell_type": "markdown",
   "id": "b05d5d20-3165-4478-95bf-326c0c2ef27c",
   "metadata": {
    "tags": []
   },
   "source": [
    "    Given the temperature of a day in Degrees Celsius, convert this given temperature from Celsius to Fahrenheit. Write a program to do so. Round the output up to 2 decimal places\n",
    "\n",
    "    Note1:\n",
    "    Python : Use round(ans,2) to round up ans to two decimals\n",
    "\n",
    "    Note2:\n",
    "    You need not take input in this problem, you need to only implement the function provided.\n",
    "\n",
    "    Input Format:\n",
    "    First line has the number of test cases. For each test case there will be a single line \n",
    "    of input in float format representing the temperature.\n",
    "\n",
    "    Output Format:\n",
    "    Fahrenheit value in float format\n",
    "\n",
    "    Sample Input:\n",
    "    1  \n",
    "    36.8\n",
    "\n",
    "    Sample Output:\n",
    "    98.24"
   ]
  },
  {
   "cell_type": "markdown",
   "id": "33403c8a-d122-4ab9-9c40-91c2806d404c",
   "metadata": {
    "jp-MarkdownHeadingCollapsed": true,
    "tags": []
   },
   "source": [
    "##### Solution Submitted"
   ]
  },
  {
   "cell_type": "code",
   "execution_count": 65,
   "id": "1afa36e3-6ad5-454c-914d-650ea59d0219",
   "metadata": {},
   "outputs": [],
   "source": [
    "def celsius_farhen(Celsius):\n",
    "    ans = Celsius*9/5 + 32   \n",
    "    return round(ans,2)"
   ]
  },
  {
   "cell_type": "markdown",
   "id": "21a87c43-47fc-4f70-94e2-f9ac4cb378f4",
   "metadata": {
    "jp-MarkdownHeadingCollapsed": true,
    "tags": []
   },
   "source": [
    "##### Full Solution"
   ]
  },
  {
   "cell_type": "markdown",
   "id": "2096bfab-b171-459f-9376-e23df9e43b79",
   "metadata": {},
   "source": [
    "Below Code:  \n",
    "Whenever for loop runs it calls the 'celsius_farhen' functions and executes the already defined function. Since we are printing inside the functions so it prints the function each time for loops executes the iteration.\n",
    "\n",
    "return function is not really required since for loop will execute the function after each input and will print the output anyway until and unless we need to store the output of the last iteration for later use.\n",
    "\n",
    "'ans' variable doesn't need to be defined as '0' since it is locally defined inside function and hence every time loop executes the functions it attains a value as per formula but will lose the value as soon as execution moves out of the function."
   ]
  },
  {
   "cell_type": "code",
   "execution_count": 4,
   "id": "0ccf0b1c-f17a-4836-ad16-a5d046371ab6",
   "metadata": {},
   "outputs": [
    {
     "name": "stdin",
     "output_type": "stream",
     "text": [
      "Enter no of test cases:  3\n",
      "Enter temp in Celsius degree:  36.8\n"
     ]
    },
    {
     "name": "stdout",
     "output_type": "stream",
     "text": [
      "98.24\n"
     ]
    },
    {
     "name": "stdin",
     "output_type": "stream",
     "text": [
      "Enter temp in Celsius degree:  14.1\n"
     ]
    },
    {
     "name": "stdout",
     "output_type": "stream",
     "text": [
      "57.38\n"
     ]
    },
    {
     "name": "stdin",
     "output_type": "stream",
     "text": [
      "Enter temp in Celsius degree:  24\n"
     ]
    },
    {
     "name": "stdout",
     "output_type": "stream",
     "text": [
      "75.2\n"
     ]
    }
   ],
   "source": [
    "n = int(input(\"Enter no of test cases: \"))\n",
    "\n",
    "def celsius_farhen(Celsius):\n",
    "    #ans=0\n",
    "    ans = Celsius*9/5 + 32\n",
    "    print(round(ans,2))\n",
    "    #return round(ans,2)\n",
    "\n",
    "for i in range(n):\n",
    "    Celsius = float(input(\"Enter temp in Celsius degree: \"))\n",
    "    celsius_farhen(Celsius)"
   ]
  },
  {
   "cell_type": "markdown",
   "id": "a69c8311-00ed-4d88-b11b-217b9c205cf5",
   "metadata": {
    "jp-MarkdownHeadingCollapsed": true,
    "tags": []
   },
   "source": [
    "##### Alternative approaches"
   ]
  },
  {
   "cell_type": "markdown",
   "id": "8f885128-1138-4767-b953-14027e0b7f2e",
   "metadata": {},
   "source": [
    "Below Code: (Doubt)  \n",
    "Is it not possible to use function inside the print statement like printing the return function output?\n",
    "\n",
    "Variables would be outside of the function. So it won't exist but if we are returning and passing value to the fun arg and it generates output then shouln't same be true for print where only difference would be that print would also print the generated output? "
   ]
  },
  {
   "cell_type": "code",
   "execution_count": 2,
   "id": "57b3f149-3b3a-493a-a9aa-694179fe7200",
   "metadata": {},
   "outputs": [
    {
     "name": "stdin",
     "output_type": "stream",
     "text": [
      "Enter no of test cases:  3\n"
     ]
    },
    {
     "ename": "NameError",
     "evalue": "name 'Celsius' is not defined",
     "output_type": "error",
     "traceback": [
      "\u001b[1;31m---------------------------------------------------------------------------\u001b[0m",
      "\u001b[1;31mNameError\u001b[0m                                 Traceback (most recent call last)",
      "Cell \u001b[1;32mIn[2], line 9\u001b[0m\n\u001b[0;32m      7\u001b[0m     ans \u001b[38;5;241m=\u001b[39m Celsius\u001b[38;5;241m*\u001b[39m\u001b[38;5;241m9\u001b[39m\u001b[38;5;241m/\u001b[39m\u001b[38;5;241m5\u001b[39m \u001b[38;5;241m+\u001b[39m \u001b[38;5;241m32\u001b[39m\n\u001b[0;32m      8\u001b[0m     \u001b[38;5;28;01mreturn\u001b[39;00m \u001b[38;5;28mround\u001b[39m(ans,\u001b[38;5;241m2\u001b[39m)\n\u001b[1;32m----> 9\u001b[0m \u001b[38;5;28mprint\u001b[39m(celsius_farhen(\u001b[43mCelsius\u001b[49m))\n",
      "\u001b[1;31mNameError\u001b[0m: name 'Celsius' is not defined"
     ]
    }
   ],
   "source": [
    "n = int(input(\"Enter no of test cases: \"))\n",
    "\n",
    "for i in range(n):\n",
    "    def celsius_farhen(Celsius):\n",
    "        #ans=0\n",
    "        Celsius = float(input(\"Enter temp in Celsius degree: \"))\n",
    "        ans = Celsius*9/5 + 32\n",
    "        return round(ans,2)\n",
    "    print(celsius_farhen(Celsius))"
   ]
  },
  {
   "cell_type": "markdown",
   "id": "a499f545-63e0-4d84-8322-8d82c94386ff",
   "metadata": {},
   "source": [
    "Below Code:  (Doubt)  \n",
    "Here we are printing the function before it is returned hence the code should fail but it is not failing and executes succesfully. Though there is not any output.  \n",
    "\n",
    "Why it is not asking for input for temp since code shuld run correctly till that statement as per dry run?  \n",
    "Why it is not failing at print statement?\n"
   ]
  },
  {
   "cell_type": "code",
   "execution_count": 1,
   "id": "e32e4663-9a13-4329-b156-7ec21ae36bb1",
   "metadata": {},
   "outputs": [
    {
     "name": "stdin",
     "output_type": "stream",
     "text": [
      "Enter no of test cases:  3\n"
     ]
    }
   ],
   "source": [
    "n = int(input(\"Enter no of test cases: \"))\n",
    "\n",
    "for i in range(n):\n",
    "    def celsius_farhen(Celsius):\n",
    "        #ans=0\n",
    "        Celsius = float(input(\"Enter temp in Celsius degree: \"))\n",
    "        ans = Celsius*9/5 + 32\n",
    "        print(celsius_farhen(Celsius))\n",
    "        return round(ans,2)"
   ]
  },
  {
   "cell_type": "markdown",
   "id": "ff34eadb-e601-493a-be7a-1c06c235eed2",
   "metadata": {},
   "source": [
    "Below Code: (Doubt)  \n",
    "Here we have chnaged the above code print function. Now it should run and print but it is still not giving any output.\n",
    "\n",
    "Why print statement is not working?"
   ]
  },
  {
   "cell_type": "code",
   "execution_count": 1,
   "id": "17d58b32-f900-4e26-9a7b-aad76214965d",
   "metadata": {},
   "outputs": [
    {
     "name": "stdin",
     "output_type": "stream",
     "text": [
      "Enter no of test cases:  3\n"
     ]
    }
   ],
   "source": [
    "n = int(input(\"Enter no of test cases: \"))\n",
    "\n",
    "for i in range(n):\n",
    "    def celsius_farhen(Celsius):\n",
    "        #ans=0\n",
    "        Celsius = float(input(\"Enter temp in Celsius degree: \"))\n",
    "        ans = Celsius*9/5 + 32\n",
    "        print(round(ans,2))\n",
    "        #return round(ans,2)"
   ]
  },
  {
   "cell_type": "markdown",
   "id": "06dfc74b-66eb-425d-ad68-d156ec531d0b",
   "metadata": {
    "jp-MarkdownHeadingCollapsed": true,
    "tags": []
   },
   "source": [
    "#### Question 3"
   ]
  },
  {
   "cell_type": "markdown",
   "id": "13829200-ba6e-4201-98cf-1d21e59aa6dd",
   "metadata": {
    "tags": []
   },
   "source": [
    "    Write a function to calculate and return the area of a circle by using the radius of the circle given as a parameter.\n",
    "\n",
    "    Notes:\n",
    "    Round up the area to 2 decimal places. You can use the round() function.\n",
    "    Use pi as 3.14159.\n",
    "    You need not take input in this problem, you need to only implement the function provided.\n",
    "\n",
    "    Input Format:\n",
    "    The first line indicates the number of the test cases. \n",
    "    For each test case there will be one line of input in integer format representing radius.\n",
    "\n",
    "    Output Format:\n",
    "    Area in float format rounded upto 2 decimal places for each testcase.\n",
    "\n",
    "    Sample Input:\n",
    "    1  \n",
    "    5]\n",
    "    Sample Output:\n",
    "    78.54"
   ]
  },
  {
   "cell_type": "markdown",
   "id": "f6b17565-3a90-43ff-9cbc-75fb7ddc5491",
   "metadata": {
    "jp-MarkdownHeadingCollapsed": true,
    "tags": []
   },
   "source": [
    "##### Solution Submitted"
   ]
  },
  {
   "cell_type": "code",
   "execution_count": 2,
   "id": "8fa151b6-ab0e-4cfa-a3ec-6bb51188cb10",
   "metadata": {},
   "outputs": [],
   "source": [
    "def circle_area(r):\n",
    "    ans = 3.14159*(r**2)\n",
    "    return round(ans,2)"
   ]
  },
  {
   "cell_type": "markdown",
   "id": "9c52240a-2f3e-4b2b-a217-618839166f42",
   "metadata": {
    "jp-MarkdownHeadingCollapsed": true,
    "tags": []
   },
   "source": [
    "##### Full Solution"
   ]
  },
  {
   "cell_type": "code",
   "execution_count": 3,
   "id": "c01450a7-79da-4989-a930-ba5779b53bc6",
   "metadata": {},
   "outputs": [
    {
     "name": "stdin",
     "output_type": "stream",
     "text": [
      "Enter no of test cases:  2\n",
      "Enter the radius:  5\n"
     ]
    },
    {
     "name": "stdout",
     "output_type": "stream",
     "text": [
      "78.54\n"
     ]
    },
    {
     "name": "stdin",
     "output_type": "stream",
     "text": [
      "Enter the radius:  6\n"
     ]
    },
    {
     "name": "stdout",
     "output_type": "stream",
     "text": [
      "113.1\n"
     ]
    }
   ],
   "source": [
    "n = int(input(\"Enter no of test cases: \"))\n",
    "\n",
    "def circle_area(r):\n",
    "    ans = 3.14159*(r**2)\n",
    "    print(round(ans,2))\n",
    "\n",
    "for i in range(n):\n",
    "    r = int(input(\"Enter the radius: \"))\n",
    "    circle_area(r)    "
   ]
  },
  {
   "cell_type": "markdown",
   "id": "2c8e8313-f06a-4a3f-9fa2-a2581c56a46b",
   "metadata": {
    "jp-MarkdownHeadingCollapsed": true,
    "tags": []
   },
   "source": [
    "#### Question 4"
   ]
  },
  {
   "cell_type": "markdown",
   "id": "86593896-031e-4b29-9a00-a0f6e9c07e55",
   "metadata": {
    "tags": []
   },
   "source": [
    "    Given an integer n, write a program to print the sum of squares of first n natural numbers in integer format.\n",
    "\n",
    "    Note1:\n",
    "    The formula for the sum of squares of first n natural numbers is: n(n+1)(2n+1)/6\n",
    "    \n",
    "    Note2:\n",
    "    You need not take input in this problem, only implement the function provided.\n",
    "\n",
    "    Problem Constraints:\n",
    "    1 <= N <= 100\n",
    "\n",
    "    Input Format:\n",
    "    The first line indicates the number of test cases.\n",
    "    For each testcase there will be a single line of input with an integer representing n for that testcase.\n",
    "\n",
    "    Output Format:\n",
    "    Sum of squares of n natural numbers in integer format\n",
    "\n",
    "    Sample Input:\n",
    "    1\n",
    "    6\n",
    "\n",
    "    Sample Output:\n",
    "    91\n",
    "\n",
    "    Sample explanation:\n",
    "    According to the formula sum of first 6 natural numbers is 6*(6+1)(12+1)/6=91"
   ]
  },
  {
   "cell_type": "markdown",
   "id": "bbfc992d-1472-4fa7-b126-c1c89f8c39c4",
   "metadata": {
    "jp-MarkdownHeadingCollapsed": true,
    "tags": []
   },
   "source": [
    "##### Solution Submitted"
   ]
  },
  {
   "cell_type": "code",
   "execution_count": 108,
   "id": "7a677114-2310-4900-90e3-c6ad653dc458",
   "metadata": {},
   "outputs": [],
   "source": [
    "def sum_squares(n):\n",
    "    ans =  n*(n+1)*((2*n)+1)/6\n",
    "    return int(ans)"
   ]
  },
  {
   "cell_type": "markdown",
   "id": "419d8440-c56d-4a87-b965-26dc25b1597b",
   "metadata": {
    "jp-MarkdownHeadingCollapsed": true,
    "tags": []
   },
   "source": [
    "##### Full Solution"
   ]
  },
  {
   "cell_type": "code",
   "execution_count": 13,
   "id": "fc569f9a-ae9f-4eb8-a425-c1deabaa9984",
   "metadata": {},
   "outputs": [
    {
     "name": "stdin",
     "output_type": "stream",
     "text": [
      "Enter no of test cases:  2\n",
      "Enter the integer:  4\n"
     ]
    },
    {
     "name": "stdout",
     "output_type": "stream",
     "text": [
      "30\n"
     ]
    },
    {
     "name": "stdin",
     "output_type": "stream",
     "text": [
      "Enter the integer:  6\n"
     ]
    },
    {
     "name": "stdout",
     "output_type": "stream",
     "text": [
      "91\n"
     ]
    }
   ],
   "source": [
    "t = int(input(\"Enter no of test cases: \"))\n",
    "\n",
    "def sum_square(n):\n",
    "    ans =  n*(n+1)*((2*n)+1)/6\n",
    "    print (int(ans))\n",
    "    \n",
    "for i in range(t):\n",
    "    n = int(input(\"Enter the integer: \"))\n",
    "    sum_square(n)"
   ]
  },
  {
   "cell_type": "code",
   "execution_count": null,
   "id": "5a10ec87-5a8b-4bfb-a956-cce940279133",
   "metadata": {},
   "outputs": [],
   "source": []
  },
  {
   "cell_type": "markdown",
   "id": "8d921c65-5d9e-4627-8381-6015a252bb21",
   "metadata": {
    "jp-MarkdownHeadingCollapsed": true,
    "tags": []
   },
   "source": [
    "#### Question 5"
   ]
  },
  {
   "cell_type": "markdown",
   "id": "497dcaab-f084-4ba0-92f5-eb541254b55c",
   "metadata": {
    "tags": []
   },
   "source": [
    "What is the output of the following function call?\n",
    "\n",
    "    def 1f(num):\n",
    "        return num + 55\n",
    "    1f(5)\n",
    "    print(num)"
   ]
  },
  {
   "cell_type": "markdown",
   "id": "10ffb71a-791a-4207-b530-328673d37c8a",
   "metadata": {
    "jp-MarkdownHeadingCollapsed": true,
    "tags": []
   },
   "source": [
    "##### Solution Submitted"
   ]
  },
  {
   "cell_type": "code",
   "execution_count": null,
   "id": "94d2835a-0640-426e-a8b1-05ec51a4a843",
   "metadata": {},
   "outputs": [],
   "source": []
  },
  {
   "cell_type": "markdown",
   "id": "19d83857-56d5-4da0-860c-7636a3a54ccb",
   "metadata": {
    "tags": []
   },
   "source": [
    "##### Solution"
   ]
  },
  {
   "cell_type": "markdown",
   "id": "f7ef8600-e084-4283-a572-6a4182815307",
   "metadata": {},
   "source": [
    "Invalid function name. Hence will generate error."
   ]
  },
  {
   "cell_type": "markdown",
   "id": "c1cf9ae1-d66a-4955-a344-4057dfd6b952",
   "metadata": {
    "jp-MarkdownHeadingCollapsed": true,
    "tags": []
   },
   "source": [
    "#### Question 7"
   ]
  },
  {
   "cell_type": "markdown",
   "id": "76eb79ff-3f02-40a8-bc30-3b3eb1764f53",
   "metadata": {
    "tags": []
   },
   "source": [
    "    You are given a lowercase latin alphabetic character C. You have to tell whether it is a vowel or not.\n",
    "\n",
    "    Problem Constraints:\n",
    "    C ∈ ['a' - 'z']\n",
    "\n",
    "    Input Format:\n",
    "    The input consists of a single character C.\n",
    "\n",
    "    Output Format:\n",
    "    Return 1 if the given character is a vowel, else return 0.\n",
    "\n",
    "    Example Input 1:\n",
    "    a \n",
    "    \n",
    "    Example Onput 1:\n",
    "    1 \n",
    "    \n",
    "    Explanation:\n",
    "    since, 'a' is a vowel."
   ]
  },
  {
   "cell_type": "markdown",
   "id": "2bdd150a-9f94-4b0a-86d0-56ac71996674",
   "metadata": {
    "jp-MarkdownHeadingCollapsed": true,
    "tags": []
   },
   "source": [
    "##### Solution Submitted"
   ]
  },
  {
   "cell_type": "code",
   "execution_count": 41,
   "id": "1e47c83c-754f-49bd-8815-e96f67941fda",
   "metadata": {},
   "outputs": [],
   "source": [
    "def isvowel(C):\n",
    "    if C=='a' or C=='e' or C=='i' or C=='o' or C=='u':\n",
    "        print(\"1\")\n",
    "    else:\n",
    "        print(\"0\")\n",
    "    return ans"
   ]
  },
  {
   "cell_type": "markdown",
   "id": "a14b7ec1-9889-4515-99a2-34b1aef2c4e4",
   "metadata": {
    "jp-MarkdownHeadingCollapsed": true,
    "tags": []
   },
   "source": [
    "##### Full Solution "
   ]
  },
  {
   "cell_type": "code",
   "execution_count": 39,
   "id": "0e0746e0-7680-42e3-9eba-19d1e786cf94",
   "metadata": {},
   "outputs": [
    {
     "name": "stdin",
     "output_type": "stream",
     "text": [
      "Enter the alphabet:  a\n"
     ]
    },
    {
     "name": "stdout",
     "output_type": "stream",
     "text": [
      "1\n"
     ]
    }
   ],
   "source": [
    "C= input(\"Enter the alphabet: \")\n",
    "C= C.lower()     \n",
    "     \n",
    "def isVowel(C):\n",
    "     if C=='a' or C=='e' or C=='i' or C=='o' or C=='u':\n",
    "        print(\"1\")\n",
    "     else:\n",
    "        print(\"0\")\n",
    "\n",
    "isVowel(C)"
   ]
  },
  {
   "cell_type": "markdown",
   "id": "56c6588d-2159-4db1-89a2-ea08220e9085",
   "metadata": {
    "jp-MarkdownHeadingCollapsed": true,
    "tags": []
   },
   "source": [
    "### Day 15: Functions 2"
   ]
  },
  {
   "cell_type": "markdown",
   "id": "95c7bb96-913b-40c1-a694-fb3a5a8faa55",
   "metadata": {
    "jp-MarkdownHeadingCollapsed": true,
    "tags": []
   },
   "source": [
    "#### Question 1"
   ]
  },
  {
   "cell_type": "markdown",
   "id": "0e88ec80-ed69-4766-8a9e-b5973a64923b",
   "metadata": {},
   "source": [
    "    Given three integers, A, B and C. You have to find the number of days it will take to reach zero cases of Corona in a city.\n",
    "    A - Average cases recovered in a day of the corona.\n",
    "    B - Number of new cases of corona daily.\n",
    "    C - Current active cases of the corona.\n",
    "    \n",
    "    Return the minimum number of days it will take to reach 0 active cases of Covid.\n",
    "\n",
    "    Problem Constraints\n",
    "    1 <= B < A <= 5000\n",
    "    1 <= C <= 1000\n",
    "\n",
    "    Input Format\n",
    "    The first argument will be integer A, which denotes the recovered cases in a day.\n",
    "    The second argument will be integer B, which denotes the new cases in a day.\n",
    "    The third argument will be integer C, which denotes the currently active cases.\n",
    "\n",
    "    Output Format\n",
    "    Return an integer which denotes the minimum days to reach 0 cases.\n",
    "\n",
    "    Input 1:\n",
    "    A = 5\n",
    "    B = 3\n",
    "    C = 1\n",
    "\n",
    "    Output 1:\n",
    "    1"
   ]
  },
  {
   "cell_type": "markdown",
   "id": "9656bd94-5cdc-4eef-b20c-a8cb18f309b4",
   "metadata": {
    "jp-MarkdownHeadingCollapsed": true,
    "tags": []
   },
   "source": [
    "##### Solution Submitted"
   ]
  },
  {
   "cell_type": "code",
   "execution_count": 11,
   "id": "4cfb78a4-e6f6-4144-aba8-d5fbdd4613fa",
   "metadata": {},
   "outputs": [],
   "source": [
    "def solve(A, B, C):\n",
    "    count = 1\n",
    "    while C+(B-A)>0:\n",
    "        count +=1\n",
    "        C = C+(B-A)\n",
    "    return count"
   ]
  },
  {
   "cell_type": "code",
   "execution_count": 13,
   "id": "b99ea23b-075d-4c0a-bd08-cd834984fd18",
   "metadata": {},
   "outputs": [
    {
     "data": {
      "text/plain": [
       "9"
      ]
     },
     "execution_count": 13,
     "metadata": {},
     "output_type": "execute_result"
    }
   ],
   "source": [
    "solve(36,35,9)"
   ]
  },
  {
   "cell_type": "markdown",
   "id": "48131c87-3182-4015-9799-5938586549d6",
   "metadata": {
    "jp-MarkdownHeadingCollapsed": true,
    "tags": []
   },
   "source": [
    "#### Question 2"
   ]
  },
  {
   "cell_type": "markdown",
   "id": "aab3f157-5498-4a8c-babe-6b85074beef7",
   "metadata": {},
   "source": [
    "    You are given a function that takes an integer argument A. Return 1 if A is a perfect square otherwise return 0.\n",
    "\n",
    "    Problem Constraints\n",
    "    1 <= A <= 108\n",
    "\n",
    "    Input Format\n",
    "    First argument is an integer A.\n",
    "\n",
    "    Output Format\n",
    "    Return an integer (0 or 1) based upon the question.\n",
    "\n",
    "    Input 1:\n",
    "    A = 4\n",
    "\n",
    "    Input 2:\n",
    "    A = 1001\n",
    "\n",
    "    Output 1:\n",
    "    1\n",
    "\n",
    "    Output 2:\n",
    "    0"
   ]
  },
  {
   "cell_type": "markdown",
   "id": "3de65fa7-2a2b-49fe-97d1-a3ae562b0129",
   "metadata": {
    "jp-MarkdownHeadingCollapsed": true,
    "tags": []
   },
   "source": [
    "##### Solution Submitted"
   ]
  },
  {
   "cell_type": "code",
   "execution_count": 25,
   "id": "3330088a-074b-4e8f-9920-3baba74fc0ba",
   "metadata": {},
   "outputs": [],
   "source": [
    "def solve(A):\n",
    "    for i in range(1,A+1):\n",
    "        if i**2==A:\n",
    "            return 1\n",
    "        elif i**2>A:\n",
    "            return 0"
   ]
  },
  {
   "cell_type": "code",
   "execution_count": 27,
   "id": "870a9cc8-1b8f-42d7-894e-95a56108530b",
   "metadata": {},
   "outputs": [
    {
     "data": {
      "text/plain": [
       "1"
      ]
     },
     "execution_count": 27,
     "metadata": {},
     "output_type": "execute_result"
    }
   ],
   "source": [
    "solve(121)"
   ]
  },
  {
   "cell_type": "markdown",
   "id": "31fdfe00-3ffd-4d0b-96f4-2fbd3e251588",
   "metadata": {
    "jp-MarkdownHeadingCollapsed": true,
    "tags": []
   },
   "source": [
    "#### Question 3**"
   ]
  },
  {
   "cell_type": "markdown",
   "id": "2b82d7a8-c192-4746-b242-a82a500ccea7",
   "metadata": {},
   "source": [
    "    Given an integer A, find the rounded value of real number A/200.\n",
    "\n",
    "    Rounded value of a real number X is the integer which is nearest to X, with halfway cases rounded away from zero.\n",
    "\n",
    "    Some examples:\n",
    "    Rounded value of 2.4 = 2\n",
    "    Rounded value of 2.5 = 3\n",
    "    Rounded value of 2.6 = 3\n",
    "    Rounded value of 0.0 = 0\n",
    "    Rounded value of -2.4 = -2\n",
    "    Rounded value of -2.5 = -3\n",
    "    Rounded value of -2.6 = -3\n",
    "\n",
    "    Problem Constraints\n",
    "    -108 <= A <= 108\n",
    "\n",
    "    Input Format\n",
    "    First and only argument is an integer A.\n",
    "\n",
    "    Output Format\n",
    "    Return an integer denoting the rounded value of real number A / 200.\n",
    "\n",
    "    Input 1:\n",
    "    A = 500 \n",
    "\n",
    "    Output 1:\n",
    "    3"
   ]
  },
  {
   "cell_type": "markdown",
   "id": "2f1640d4-544a-448b-9231-aca7352b2c9d",
   "metadata": {
    "jp-MarkdownHeadingCollapsed": true,
    "tags": []
   },
   "source": [
    "##### Solution Submitted"
   ]
  },
  {
   "cell_type": "code",
   "execution_count": 16,
   "id": "811f5920-837f-414c-8179-55c8ae4cb481",
   "metadata": {},
   "outputs": [],
   "source": [
    "import math\n",
    "def solve(A):\n",
    "    A = A/200\n",
    "    if A>=0:\n",
    "        return math.floor(A+0.5)\n",
    "    elif A<0:\n",
    "        return math.ceil(A-0.5)"
   ]
  },
  {
   "cell_type": "code",
   "execution_count": 17,
   "id": "c290402f-47a2-441b-bfb8-c90e2e5c8f10",
   "metadata": {},
   "outputs": [
    {
     "data": {
      "text/plain": [
       "0"
      ]
     },
     "execution_count": 17,
     "metadata": {},
     "output_type": "execute_result"
    }
   ],
   "source": [
    "solve(0)"
   ]
  },
  {
   "cell_type": "code",
   "execution_count": 19,
   "id": "0338d915-5aa6-4bef-9732-6e64be32eee6",
   "metadata": {},
   "outputs": [
    {
     "data": {
      "text/plain": [
       "-3"
      ]
     },
     "execution_count": 19,
     "metadata": {},
     "output_type": "execute_result"
    }
   ],
   "source": [
    "solve(-500)"
   ]
  },
  {
   "cell_type": "markdown",
   "id": "02eae2c5-4dd4-4ba2-a2dd-ecd7998e3e05",
   "metadata": {
    "jp-MarkdownHeadingCollapsed": true,
    "tags": []
   },
   "source": [
    "#### Question 4"
   ]
  },
  {
   "cell_type": "markdown",
   "id": "b050d8c2-1fcf-449c-b006-0f8620bc3705",
   "metadata": {},
   "source": [
    "    Given a number A. Return square root of the number if it is perfect square otherwise return -1.\n",
    "\n",
    "    Problem Constraints\n",
    "    1 <= A <= 108\n",
    "\n",
    "    Input Format\n",
    "    First and the only argument is an integer A.\n",
    "\n",
    "    Output Format\n",
    "    Return an integer which is the square root of A if A is perfect square otherwise return -1.\n",
    "\n",
    "    Input 1:\n",
    "    A = 4\n",
    "\n",
    "    Input 2:\n",
    "    A = 1001\n",
    "\n",
    "    Output 1:\n",
    "    2\n",
    "\n",
    "    Output 2:\n",
    "    -1"
   ]
  },
  {
   "cell_type": "markdown",
   "id": "00decd43-00e0-454b-bfdd-8e652ed35f8c",
   "metadata": {
    "jp-MarkdownHeadingCollapsed": true,
    "tags": []
   },
   "source": [
    "##### Solution Submitted"
   ]
  },
  {
   "cell_type": "code",
   "execution_count": 21,
   "id": "21f1397c-f437-4598-a7be-61532ca3a7b4",
   "metadata": {},
   "outputs": [],
   "source": [
    "def solve(A):\n",
    "    for i in range(1,A+1):\n",
    "        if i**2==A:\n",
    "            return i\n",
    "        elif i**2>A:\n",
    "            return -1"
   ]
  },
  {
   "cell_type": "code",
   "execution_count": 22,
   "id": "27295b3f-de84-431f-9561-edf3732306c8",
   "metadata": {},
   "outputs": [
    {
     "data": {
      "text/plain": [
       "11"
      ]
     },
     "execution_count": 22,
     "metadata": {},
     "output_type": "execute_result"
    }
   ],
   "source": [
    "solve(121)"
   ]
  },
  {
   "cell_type": "markdown",
   "id": "e6d0343a-2a77-4d92-833c-4cb0566124ca",
   "metadata": {
    "jp-MarkdownHeadingCollapsed": true,
    "tags": []
   },
   "source": [
    "## Sample Cell"
   ]
  },
  {
   "cell_type": "markdown",
   "id": "daba2f2d-8724-4716-bf86-74d534df82c5",
   "metadata": {
    "tags": []
   },
   "source": [
    "### Day xx:"
   ]
  },
  {
   "cell_type": "markdown",
   "id": "a336a3aa-7086-4d48-b0f1-0ae7e23ee87c",
   "metadata": {},
   "source": [
    "#### Question x"
   ]
  },
  {
   "cell_type": "code",
   "execution_count": null,
   "id": "cab53fec-ab8d-4a41-b0a9-c3b650dea0bc",
   "metadata": {},
   "outputs": [],
   "source": []
  },
  {
   "cell_type": "markdown",
   "id": "6147d854-dc22-4f70-be21-e5a75b08db6e",
   "metadata": {},
   "source": [
    "##### Solution Submitted"
   ]
  },
  {
   "cell_type": "code",
   "execution_count": null,
   "id": "6198050e-6911-4e5e-b541-8145eebbdcb5",
   "metadata": {},
   "outputs": [],
   "source": []
  },
  {
   "cell_type": "markdown",
   "id": "45187c59-e50c-4479-a291-9c4c176e545b",
   "metadata": {},
   "source": [
    "##### Full Solution"
   ]
  },
  {
   "cell_type": "code",
   "execution_count": null,
   "id": "cc12c07c-82c7-4f33-8578-faa10c094b94",
   "metadata": {},
   "outputs": [],
   "source": []
  },
  {
   "cell_type": "code",
   "execution_count": 112,
   "id": "ff3be5db-b672-4845-b5ea-c7e67704d2c5",
   "metadata": {},
   "outputs": [],
   "source": [
    "# Output Cell\n"
   ]
  },
  {
   "cell_type": "markdown",
   "id": "430dcaa9-cf39-4d52-b16f-3e0e7dedda3d",
   "metadata": {
    "tags": []
   },
   "source": [
    "## HW"
   ]
  },
  {
   "cell_type": "markdown",
   "id": "c0e1c00f-06f4-4101-8ab9-b89882c730b6",
   "metadata": {
    "jp-MarkdownHeadingCollapsed": true,
    "tags": []
   },
   "source": [
    "### Day 13: Pattern Printing"
   ]
  },
  {
   "cell_type": "markdown",
   "id": "d29dae40-00b5-4d34-97f3-9835b46de75e",
   "metadata": {
    "jp-MarkdownHeadingCollapsed": true,
    "tags": []
   },
   "source": [
    "#### Question 1"
   ]
  },
  {
   "cell_type": "markdown",
   "id": "5fb59cf1-d56f-4a5c-a43d-e9e62f523011",
   "metadata": {},
   "source": [
    "Take an integer N as input, print the corresponding pattern for N.\n",
    "\n",
    "For example if N = 5 then pattern will be like:\n",
    "\n",
    "    ********** // 0 spaces\n",
    "\n",
    "    ****  **** // 2 spaces\n",
    "\n",
    "    ***    *** // 4 spaces\n",
    "\n",
    "    **      ** // 6 spaces\n",
    "\n",
    "    *        * // 8 spaces\n",
    "\n",
    "NOTE: Here '_' is used to represent spaces. You have to print spaces in your code."
   ]
  },
  {
   "cell_type": "markdown",
   "id": "41b6652a-6d5d-4710-8c60-f9c81b86f077",
   "metadata": {
    "jp-MarkdownHeadingCollapsed": true,
    "tags": []
   },
   "source": [
    "##### Solution"
   ]
  },
  {
   "cell_type": "code",
   "execution_count": 121,
   "id": "567a01ca-4c56-4d97-82ee-cd3bded34361",
   "metadata": {},
   "outputs": [
    {
     "name": "stdin",
     "output_type": "stream",
     "text": [
      " 5\n"
     ]
    },
    {
     "name": "stdout",
     "output_type": "stream",
     "text": [
      "**********\n",
      "****  ****\n",
      "***    ***\n",
      "**      **\n",
      "*        *\n"
     ]
    }
   ],
   "source": [
    "N = int(input())\n",
    "\n",
    "for i in range(0,N):\n",
    "    for j in range(1):\n",
    "        print(\"*\"*(N-i), end=\"\")\n",
    "        print(\" \"*(2*i), end=\"\")\n",
    "        print(\"*\"*(N-i), end=\"\")\n",
    "    print()\n",
    "        "
   ]
  },
  {
   "cell_type": "markdown",
   "id": "e243defa-e199-4de8-965a-4b4acc7fb954",
   "metadata": {
    "jp-MarkdownHeadingCollapsed": true,
    "tags": []
   },
   "source": [
    "#### Question 2 "
   ]
  },
  {
   "cell_type": "markdown",
   "id": "32c3b909-b23c-49b0-8bea-4dcfdf4f128c",
   "metadata": {},
   "source": [
    "Take an integer N as input, print the corresponding pattern for N.\n",
    "\n",
    "For example if N = 5 then pattern will be like:\n",
    "\n",
    "    *________* // 8 spaces\n",
    "\n",
    "    **______** // 6 spaces\n",
    "\n",
    "    ***____*** // 4 spaces\n",
    "\n",
    "    ****__**** // 2 spaces\n",
    "\n",
    "    ********** // 0 spaces\n",
    "NOTE: Here '_' is used to represent spaces. You have to print spaces in your code."
   ]
  },
  {
   "cell_type": "markdown",
   "id": "11d4ba3b-9700-478e-8bb7-39f501c290a1",
   "metadata": {
    "jp-MarkdownHeadingCollapsed": true,
    "tags": []
   },
   "source": [
    "##### Solution"
   ]
  },
  {
   "cell_type": "code",
   "execution_count": 126,
   "id": "d5b81b70-0ebf-425e-91ad-8ff4126f58e0",
   "metadata": {},
   "outputs": [
    {
     "name": "stdin",
     "output_type": "stream",
     "text": [
      " 5\n"
     ]
    },
    {
     "name": "stdout",
     "output_type": "stream",
     "text": [
      "*        *\n",
      "**      **\n",
      "***    ***\n",
      "****  ****\n",
      "**********\n"
     ]
    }
   ],
   "source": [
    "N = int(input())\n",
    "\n",
    "for i in range(1,N+1):\n",
    "    for j in range(1):\n",
    "        print(\"*\"*i, end=\"\")\n",
    "        print(\" \"*(2*(N-i)), end=\"\")\n",
    "        print(\"*\"*i, end=\"\")\n",
    "    print()"
   ]
  },
  {
   "cell_type": "markdown",
   "id": "1a7e810c-412c-4d68-9b79-e7ba8d5203eb",
   "metadata": {
    "jp-MarkdownHeadingCollapsed": true,
    "tags": []
   },
   "source": [
    "#### Question 3"
   ]
  },
  {
   "cell_type": "markdown",
   "id": "5191e2bf-75e5-4f18-9044-3c07811c98d5",
   "metadata": {},
   "source": [
    "Take an integer N as input, print the corresponding Half Diamond pattern with 2*N - 1 rows.\n",
    "\n",
    "For example if N = 5 then pattern will be like:\n",
    "\n",
    "    * \n",
    "    **\n",
    "    ***\n",
    "    ****\n",
    "    *****\n",
    "    ****\n",
    "    ***\n",
    "    **\n",
    "    *\n",
    "NOTE: There should be no spaces after any *"
   ]
  },
  {
   "cell_type": "markdown",
   "id": "08b599ed-4421-41c3-9a1a-78152c68dba3",
   "metadata": {
    "jp-MarkdownHeadingCollapsed": true,
    "tags": []
   },
   "source": [
    "##### Solution\n",
    "Approach 1"
   ]
  },
  {
   "cell_type": "code",
   "execution_count": 70,
   "id": "bf68708e-be69-4b79-b1bf-6383a2cf5fc3",
   "metadata": {},
   "outputs": [
    {
     "name": "stdin",
     "output_type": "stream",
     "text": [
      " 5\n"
     ]
    },
    {
     "name": "stdout",
     "output_type": "stream",
     "text": [
      "*\n",
      "**\n",
      "***\n",
      "****\n",
      "*****\n",
      "****\n",
      "***\n",
      "**\n",
      "*\n"
     ]
    }
   ],
   "source": [
    "N = int(input())\n",
    "\n",
    "for i in range(1,2*N):\n",
    "    for j in range(1):\n",
    "        if i<=N:\n",
    "            print(\"*\"*i, end=\"\")\n",
    "        if i>N and i<2*N:\n",
    "            print(\"*\"*(2*N-i), end=\"\")                        \n",
    "    print()\n",
    "            "
   ]
  },
  {
   "cell_type": "markdown",
   "id": "51c0b651-d43e-45b7-a907-cfcd35257161",
   "metadata": {
    "jp-MarkdownHeadingCollapsed": true,
    "tags": []
   },
   "source": [
    "##### Solution\n",
    "Approach 2"
   ]
  },
  {
   "cell_type": "code",
   "execution_count": 65,
   "id": "8ccc041e-142f-47fc-9df4-e39bfc519228",
   "metadata": {},
   "outputs": [
    {
     "name": "stdin",
     "output_type": "stream",
     "text": [
      " 5\n"
     ]
    },
    {
     "name": "stdout",
     "output_type": "stream",
     "text": [
      "*\n",
      "**\n",
      "***\n",
      "****\n",
      "*****\n",
      "****\n",
      "***\n",
      "**\n",
      "*\n"
     ]
    }
   ],
   "source": [
    "N = int(input())\n",
    "\n",
    "for i in range(1,N+1):\n",
    "    for j in range(1,i+1):\n",
    "            print(\"*\", end=\"\")\n",
    "    print()\n",
    "for i in range(N+1,2*N):\n",
    "    for j in range(2*N-i):\n",
    "        print(\"*\", end=\"\")\n",
    "    print()\n",
    "    "
   ]
  },
  {
   "cell_type": "markdown",
   "id": "e3cd9059-3b0b-4896-975c-6b39b62e522f",
   "metadata": {
    "jp-MarkdownHeadingCollapsed": true,
    "tags": []
   },
   "source": [
    "#### Question 4"
   ]
  },
  {
   "cell_type": "markdown",
   "id": "57a8dd08-fffe-4e1b-8873-5860793c5705",
   "metadata": {},
   "source": [
    "Take an integer N as input, print the corresponding pattern for N.\n",
    "\n",
    "For example if N = 5 then pattern will be like:\n",
    "\n",
    "    *****\n",
    "    *   *\n",
    "    *   *\n",
    "    *   *\n",
    "    *****\n",
    "Note : Except for the first line and the last line, every line will have N-2 spaces between the two stars."
   ]
  },
  {
   "cell_type": "markdown",
   "id": "150d9c4b-11a2-49d4-a47d-2b5e467c7a60",
   "metadata": {
    "jp-MarkdownHeadingCollapsed": true,
    "tags": []
   },
   "source": [
    "##### Solution\n",
    "Think of a more optimized approach than this"
   ]
  },
  {
   "cell_type": "code",
   "execution_count": 104,
   "id": "0934f8d5-51ef-4517-bdc2-ce1fb7a1a4e6",
   "metadata": {},
   "outputs": [
    {
     "name": "stdin",
     "output_type": "stream",
     "text": [
      " 5\n"
     ]
    },
    {
     "name": "stdout",
     "output_type": "stream",
     "text": [
      "*****\n",
      "*   *\n",
      "*   *\n",
      "*   *\n",
      "*****\n"
     ]
    }
   ],
   "source": [
    "N = int(input())\n",
    "\n",
    "for i in range(1,N+1):\n",
    "    for j in range(1):\n",
    "        if i==1:\n",
    "            print(\"*\"*N)\n",
    "            break\n",
    "        if i>1 and i<N:\n",
    "            print(\"*\", end=\"\")\n",
    "            print(\" \"*(N-2), end=\"\")\n",
    "            print(\"*\")\n",
    "            break\n",
    "        if i==N:\n",
    "            print(\"*\"*N)\n",
    "            break\n",
    "        \n",
    "        "
   ]
  },
  {
   "cell_type": "markdown",
   "id": "f32159bd-0a39-46c7-be01-f09dc8dbdf48",
   "metadata": {
    "jp-MarkdownHeadingCollapsed": true,
    "tags": []
   },
   "source": [
    "#### Question 5"
   ]
  },
  {
   "cell_type": "markdown",
   "id": "04ab8d9a-91f0-4774-a77e-772f8fe570eb",
   "metadata": {},
   "source": [
    "Given an integer N as input, print the corresponding Hollow Inverted Half Pyramid pattern for N.\n",
    "\n",
    "For example if N = 6 then pattern will be like:\n",
    "\n",
    "    ******\n",
    "    *   *\n",
    "    *  *\n",
    "    * *\n",
    "    **\n",
    "    *"
   ]
  },
  {
   "cell_type": "markdown",
   "id": "14929021-515c-456c-bacc-db5c4db86722",
   "metadata": {
    "jp-MarkdownHeadingCollapsed": true,
    "tags": []
   },
   "source": [
    "##### Solution"
   ]
  },
  {
   "cell_type": "code",
   "execution_count": 39,
   "id": "c1aa3ad0-a568-44b3-bed5-10ea6ec1de50",
   "metadata": {},
   "outputs": [
    {
     "name": "stdin",
     "output_type": "stream",
     "text": [
      " 6\n"
     ]
    },
    {
     "name": "stdout",
     "output_type": "stream",
     "text": [
      "******\n",
      "*   *\n",
      "*  *\n",
      "* *\n",
      "**\n",
      "*\n"
     ]
    }
   ],
   "source": [
    "N = int(input())\n",
    "\n",
    "for i in range(1,N+1):\n",
    "    for j in range(1,N+1):\n",
    "        if i==1:\n",
    "            print(\"*\", end=\"\")\n",
    "        if i>1:\n",
    "            if j==1:\n",
    "                print(\"*\", end=\"\")\n",
    "            if j>1 and j<=(N-i):\n",
    "                print(\" \", end=\"\")\n",
    "            if j==N-i:\n",
    "                print(\"*\", end=\"\")   \n",
    "    print()\n",
    "        \n",
    "    "
   ]
  },
  {
   "cell_type": "markdown",
   "id": "b15a5fed-0116-445d-930a-5adecda71de7",
   "metadata": {
    "jp-MarkdownHeadingCollapsed": true,
    "tags": []
   },
   "source": [
    "##### Alternative approach\n",
    "Using jump statement for i"
   ]
  },
  {
   "cell_type": "code",
   "execution_count": 40,
   "id": "acb0ce11-adcf-43c7-9093-5700745098f1",
   "metadata": {},
   "outputs": [
    {
     "name": "stdin",
     "output_type": "stream",
     "text": [
      " 6\n"
     ]
    },
    {
     "name": "stdout",
     "output_type": "stream",
     "text": [
      "******\n",
      "*   *\n",
      "*  *\n",
      "* *\n",
      "**\n",
      "*\n"
     ]
    }
   ],
   "source": [
    "N = int(input())\n",
    "\n",
    "for i in range(1,N+1):\n",
    "    for j in range(1,N+1):\n",
    "        if i==1:\n",
    "            print(\"*\", end=\"\")\n",
    "            continue\n",
    "        if j==1:\n",
    "            print(\"*\", end=\"\")\n",
    "        if j>1 and j<=(N-i):\n",
    "            print(\" \", end=\"\")\n",
    "        if j==N-i:\n",
    "            print(\"*\", end=\"\")\n",
    "    print() "
   ]
  },
  {
   "cell_type": "markdown",
   "id": "3903ef6d-580a-4490-8199-535dce39d624",
   "metadata": {
    "jp-MarkdownHeadingCollapsed": true,
    "tags": []
   },
   "source": [
    "#### Question 6"
   ]
  },
  {
   "cell_type": "markdown",
   "id": "feee180a-491b-4906-b830-0b82f37dc67b",
   "metadata": {},
   "source": [
    "Take an integer N as input, print the corresponding Full Numeric Pyramid pattern for N.\n",
    "\n",
    "For example if N = 5 then pattern will be like:\n",
    "\n",
    "    0 0 0 0 5 0 0 0 0 \n",
    "    0 0 0 4 8 12 0 0 0 \n",
    "    0 0 3 6 9 12 15 0 0\n",
    "    0 2 4 6 8 10 12 14 0\n",
    "    1 2 3 4 5 6 7 8 9 \n",
    "NOTE: There should be exactly one extra space after each number for each row."
   ]
  },
  {
   "cell_type": "markdown",
   "id": "072fbefe-a033-438e-b7a5-5893eb65f49e",
   "metadata": {
    "jp-MarkdownHeadingCollapsed": true,
    "tags": []
   },
   "source": [
    "##### Solution"
   ]
  },
  {
   "cell_type": "code",
   "execution_count": 6,
   "id": "6638f28d-7c3f-484c-947c-0b26521a0110",
   "metadata": {},
   "outputs": [
    {
     "name": "stdin",
     "output_type": "stream",
     "text": [
      " 5\n"
     ]
    },
    {
     "name": "stdout",
     "output_type": "stream",
     "text": [
      "0 0 0 0 5 0 0 0 0 \n",
      "0 0 0 4 8 12 0 0 0 \n",
      "0 0 3 6 9 12 15 0 0 \n",
      "0 2 4 6 8 10 12 14 0 \n",
      "1 2 3 4 5 6 7 8 9 \n"
     ]
    }
   ],
   "source": [
    "N = int(input())\n",
    "\n",
    "for i in range(N):\n",
    "    for j in range(1):\n",
    "        print(\"0 \"*(N-i-1), end=\"\")\n",
    "    k=1\n",
    "    while k<=(i*2+1):\n",
    "        print((N-i)*k, end=\" \")\n",
    "        k+=1\n",
    "    for j in range(1):\n",
    "        print(\"0 \"*(N-i-1), end=\"\")\n",
    "    print()  "
   ]
  },
  {
   "cell_type": "markdown",
   "id": "b2aebef8-241a-4424-893a-27f201b8d1f1",
   "metadata": {
    "jp-MarkdownHeadingCollapsed": true,
    "tags": []
   },
   "source": [
    "##### Alternative approaches"
   ]
  },
  {
   "cell_type": "markdown",
   "id": "87cec219-0f7b-4ef5-887a-94fb48b06175",
   "metadata": {},
   "source": [
    "Taking range from(1,N+1)"
   ]
  },
  {
   "cell_type": "code",
   "execution_count": 15,
   "id": "d99a75c1-8f07-482a-9d3f-3117a2f9d5e4",
   "metadata": {},
   "outputs": [
    {
     "name": "stdin",
     "output_type": "stream",
     "text": [
      " 5\n"
     ]
    },
    {
     "name": "stdout",
     "output_type": "stream",
     "text": [
      "0 0 0 0 5 0 0 0 0 \n",
      "0 0 0 4 8 12 0 0 0 \n",
      "0 0 3 6 9 12 15 0 0 \n",
      "0 2 4 6 8 10 12 14 0 \n",
      "1 2 3 4 5 6 7 8 9 \n"
     ]
    }
   ],
   "source": [
    "N = int(input())\n",
    "\n",
    "for i in range(1,N+1):\n",
    "    for j in range(1,N-i+1):\n",
    "        print(\"0 \", end=\"\")\n",
    "    for j in range(1,2*i):\n",
    "        print((N-i+1)*j, end=\" \")\n",
    "    for j in range(1,N-i+1):\n",
    "        print(\"0 \", end=\"\")\n",
    "\n",
    "    print()"
   ]
  },
  {
   "cell_type": "markdown",
   "id": "bdae09f4-7035-4fcf-a0bd-ccf6a19dce58",
   "metadata": {},
   "source": [
    "Taking range from (0, N)"
   ]
  },
  {
   "cell_type": "code",
   "execution_count": 26,
   "id": "1cd894fe-7c52-469b-9382-3f5acf49b761",
   "metadata": {},
   "outputs": [
    {
     "name": "stdin",
     "output_type": "stream",
     "text": [
      " 5\n"
     ]
    },
    {
     "name": "stdout",
     "output_type": "stream",
     "text": [
      "0 0 0 0 5 0 0 0 0 \n",
      "0 0 0 4 8 12 0 0 0 \n",
      "0 0 3 6 9 12 15 0 0 \n",
      "0 2 4 6 8 10 12 14 0 \n",
      "1 2 3 4 5 6 7 8 9 \n"
     ]
    }
   ],
   "source": [
    "N = int(input())\n",
    "\n",
    "for i in range(N):\n",
    "    for j in range(N-i-1):\n",
    "        print(\"0 \", end=\"\")\n",
    "    for j in range(2*i+1):\n",
    "        print((N-i)*(j+1), end=\" \")\n",
    "    for j in range(N-i-1):\n",
    "        print(\"0 \", end=\"\")\n",
    "    print()"
   ]
  },
  {
   "cell_type": "markdown",
   "id": "14f2f4d0-0bbc-4bf6-86ba-728cc743b6fa",
   "metadata": {
    "jp-MarkdownHeadingCollapsed": true,
    "tags": []
   },
   "source": [
    "#### Question 7"
   ]
  },
  {
   "cell_type": "markdown",
   "id": "20b00ef1-935a-41b1-bda3-ed7967a1de1e",
   "metadata": {},
   "source": [
    "Take an integer N as input, and print the corresponding Inverted Full Pyramid pattern for N.\n",
    "\n",
    "For example if N = 5 then pattern will be like:\n",
    "\n",
    "    * * * * * \n",
    "     * * * * \n",
    "      * * * \n",
    "       * *    \n",
    "        * \n",
    "NOTE: There should be exactly one extra space after each * for each row."
   ]
  },
  {
   "cell_type": "markdown",
   "id": "2a4c0160-e538-473b-915f-3f1bee61743f",
   "metadata": {
    "jp-MarkdownHeadingCollapsed": true,
    "tags": []
   },
   "source": [
    "##### Solution"
   ]
  },
  {
   "cell_type": "code",
   "execution_count": 130,
   "id": "5efce32c-d9b6-4642-967e-83ea10f9c5c5",
   "metadata": {},
   "outputs": [
    {
     "name": "stdin",
     "output_type": "stream",
     "text": [
      " 5\n"
     ]
    },
    {
     "name": "stdout",
     "output_type": "stream",
     "text": [
      "* * * * * \n",
      " * * * * \n",
      "  * * * \n",
      "   * * \n",
      "    * \n"
     ]
    }
   ],
   "source": [
    "N = int(input())\n",
    "\n",
    "for i in range(N):\n",
    "    for j in range(1):\n",
    "        print(\" \"*i, end=\"\")\n",
    "        print(\"* \"*(N-i), end=\"\")\n",
    "    print()"
   ]
  },
  {
   "cell_type": "markdown",
   "id": "d426a428-3533-4607-8966-ef52c43f881b",
   "metadata": {
    "jp-MarkdownHeadingCollapsed": true,
    "tags": []
   },
   "source": [
    "#### Question 8"
   ]
  },
  {
   "cell_type": "markdown",
   "id": "24055ba9-a45b-4b0d-85fe-93b6783e3357",
   "metadata": {},
   "source": [
    "Given an integer N as input, print the corresponding Full Numeric Pyramid pattern for N.\n",
    "\n",
    "For example if N = 5 then pattern will be like:\n",
    "\n",
    "    0 0 0 0 1 0 0 0 0 \n",
    "    0 0 0 2 3 2 0 0 0 \n",
    "    0 0 3 4 5 4 3 0 0\n",
    "    0 4 5 6 7 6 5 4 0\n",
    "    5 6 7 8 9 8 7 6 5 \n",
    "\n",
    "NOTE: There should be exactly one extra space after each number for each row."
   ]
  },
  {
   "cell_type": "markdown",
   "id": "de760677-52ca-4a43-8329-2445a3987782",
   "metadata": {
    "jp-MarkdownHeadingCollapsed": true,
    "tags": []
   },
   "source": [
    "##### Solution"
   ]
  },
  {
   "cell_type": "code",
   "execution_count": 12,
   "id": "7f088462-6a30-41a6-940b-a39af8bf3da6",
   "metadata": {},
   "outputs": [
    {
     "name": "stdin",
     "output_type": "stream",
     "text": [
      " 5\n"
     ]
    },
    {
     "name": "stdout",
     "output_type": "stream",
     "text": [
      "0 0 0 0 1 0 0 0 0 \n",
      "0 0 0 2 3 2 0 0 0 \n",
      "0 0 3 4 5 4 3 0 0 \n",
      "0 4 5 6 7 6 5 4 0 \n",
      "5 6 7 8 9 8 7 6 5 \n"
     ]
    }
   ],
   "source": [
    "N = int(input())\n",
    "\n",
    "for i in range(N):\n",
    "    for j in range(1):\n",
    "        print(\"0 \"*(N-i-1), end=\"\")\n",
    "        \n",
    "    m=i+1\n",
    "    while m<=(i*2+1):\n",
    "        print(m, end=\" \")\n",
    "        m+=1\n",
    "    m-=2\n",
    "    while m>=(i+1):\n",
    "        print(m, end=\" \")\n",
    "        m-=1\n",
    "        \n",
    "    for j in range(1):\n",
    "        print(\"0 \"*(N-i-1), end=\"\")\n",
    "    print()\n"
   ]
  },
  {
   "cell_type": "markdown",
   "id": "9f6ec308-d063-43cd-97d5-71ded3b8e7fc",
   "metadata": {
    "tags": []
   },
   "source": [
    "##### Alternative appraches using only for loop"
   ]
  },
  {
   "cell_type": "code",
   "execution_count": null,
   "id": "b7457dcd-818b-43a3-93ed-b683165d2f6b",
   "metadata": {},
   "outputs": [],
   "source": []
  },
  {
   "cell_type": "markdown",
   "id": "1814382e-4039-4d78-a611-3f931187f928",
   "metadata": {},
   "source": [
    "Using if-else inside for loop"
   ]
  },
  {
   "cell_type": "code",
   "execution_count": 34,
   "id": "8b500121-d518-4880-ba33-45dcfdde5f85",
   "metadata": {},
   "outputs": [
    {
     "name": "stdin",
     "output_type": "stream",
     "text": [
      " 5\n"
     ]
    },
    {
     "name": "stdout",
     "output_type": "stream",
     "text": [
      "0 0 0 0 1 0 0 0 0 \n",
      "0 0 0 2 3 2 0 0 0 \n",
      "0 0 3 4 5 4 3 0 0 \n",
      "0 4 5 6 7 6 5 4 0 \n",
      "5 6 7 8 9 8 7 6 5 \n"
     ]
    }
   ],
   "source": [
    "N = int(input())\n",
    "\n",
    "for i in range(1,N+1):\n",
    "    for j in range(1,N-i+1):\n",
    "        print(\"0 \", end=\"\")\n",
    "    k=i\n",
    "    for j in range(1,2*i):\n",
    "        if j<i:\n",
    "            print(k, end=\" \")\n",
    "            k+=1\n",
    "        else:\n",
    "            print(k,end=\" \")\n",
    "            k-=1\n",
    "    for j in range(1,N-i+1):\n",
    "        print(\"0 \", end=\"\")\n",
    "    \n",
    "            \n",
    "    print()"
   ]
  },
  {
   "cell_type": "markdown",
   "id": "9aefc20b-81e9-4eb8-aca0-1e03c33f5275",
   "metadata": {},
   "source": [
    "Using only for loop"
   ]
  },
  {
   "cell_type": "code",
   "execution_count": 33,
   "id": "a4cca4da-c13a-415d-b117-b75ee231b4c7",
   "metadata": {},
   "outputs": [
    {
     "name": "stdin",
     "output_type": "stream",
     "text": [
      " 5\n"
     ]
    },
    {
     "name": "stdout",
     "output_type": "stream",
     "text": [
      "0 0 0 0 1 0 0 0 0 \n",
      "0 0 0 2 3 2 0 0 0 \n",
      "0 0 3 4 5 4 3 0 0 \n",
      "0 4 5 6 7 6 5 4 0 \n",
      "5 6 7 8 9 8 7 6 5 \n"
     ]
    }
   ],
   "source": [
    "N = int(input())\n",
    "\n",
    "for i in range(1,N+1):\n",
    "    for j in range(1,N-i+1):\n",
    "        print(\"0 \", end=\"\")\n",
    "    k=i\n",
    "    for j in range(1,i):\n",
    "        print(k, end=\" \")\n",
    "        k+=1\n",
    "    for j in range(1, i+1):\n",
    "        print(k, end=\" \")\n",
    "        k-=1\n",
    "    for j in range(1,N-i+1):\n",
    "        print(\"0 \", end=\"\")\n",
    "    \n",
    "            \n",
    "    print()"
   ]
  },
  {
   "cell_type": "markdown",
   "id": "49769857-7307-419d-a27f-30c1e6a4297a",
   "metadata": {
    "tags": []
   },
   "source": [
    "### Day 14: Functions 1"
   ]
  },
  {
   "cell_type": "markdown",
   "id": "efd10a95-9102-4163-8525-afe0c4eafad0",
   "metadata": {
    "jp-MarkdownHeadingCollapsed": true,
    "tags": []
   },
   "source": [
    "#### Question 1"
   ]
  },
  {
   "cell_type": "markdown",
   "id": "78fdea1b-1273-4864-9699-1f4fa4b239e0",
   "metadata": {
    "tags": []
   },
   "source": [
    "    Write a program to print all Natural numbers from 1 to N and from N to 1 inclusive, where N is given as an argument.\n",
    "    \n",
    "    Note1: First print from 1 to N then in new line print again from N to 1\n",
    "    \n",
    "    Note2: You need not take input in this problem, you need to only implement the function provided.\n",
    "    \n",
    "    Note3: There is 1 line gap between two output lines and a space between numbers in same line.\n",
    "\n",
    "    Problem Constraints:\n",
    "    1 <= N <= 1000\n",
    "    \n",
    "    Input Format:\n",
    "    The first line indicates the number of test cases t\n",
    "    The next t lines will have different values of N according to testcases\n",
    "    \n",
    "    Output Format:\n",
    "    For each testcase there will be two lines of output:  \n",
    "    The first line is N space-separated integers from 1 to N.\n",
    "    The next line is N space-separated integers from N to 1.\n",
    "    \n",
    "    Sample Input:\n",
    "    1\n",
    "    5\n",
    "    \n",
    "    Sample Output:\n",
    "    1 2 3 4 5\n",
    "\n",
    "    5 4 3 2 1"
   ]
  },
  {
   "cell_type": "markdown",
   "id": "13c7246c-93e4-4413-908e-84ca2a5363fa",
   "metadata": {
    "jp-MarkdownHeadingCollapsed": true,
    "tags": []
   },
   "source": [
    "##### Solution Submitted"
   ]
  },
  {
   "cell_type": "code",
   "execution_count": 115,
   "id": "172c17f7-ffeb-493d-afd6-487eef422961",
   "metadata": {},
   "outputs": [],
   "source": [
    "def sequence(n):\n",
    "    for i in range(0,n):\n",
    "        print(i+1, end=\" \")\n",
    "    print(\"\\n\")\n",
    "    for i in range(0,n):\n",
    "        print(n-i, end=\" \")"
   ]
  },
  {
   "cell_type": "code",
   "execution_count": 116,
   "id": "3802dedd-ce8a-490c-bd62-69f97f4a550e",
   "metadata": {},
   "outputs": [
    {
     "name": "stdout",
     "output_type": "stream",
     "text": [
      "1 2 3 4 5 \n",
      "\n",
      "5 4 3 2 1 "
     ]
    }
   ],
   "source": [
    "# Output\n",
    "sequence(5)"
   ]
  },
  {
   "cell_type": "markdown",
   "id": "0ad03abe-9746-466c-91d3-173989c84ab4",
   "metadata": {
    "jp-MarkdownHeadingCollapsed": true,
    "tags": []
   },
   "source": [
    "#### Question 2"
   ]
  },
  {
   "cell_type": "markdown",
   "id": "bbb5a3e2-577a-45ef-965b-2cc96b4969c1",
   "metadata": {},
   "source": [
    "    Write a program to calculate the total amount if the principal amount, simple interest rate per annum, and time in the number of days are given. The simple interest rate per annum is provided as a percentage. Assuming that there are 365 days in a year, print the total amount rounded up to 2 decimal places.\n",
    "\n",
    "    Note 1: Use round(ans,2) to round up ans up to two decimals\n",
    "\n",
    "    Note 2: You need not take input in this problem, you need only to implement the function provided.\n",
    "\n",
    "    Input Format:\n",
    "    For each testcase there will be three lines of input as follows:  \n",
    "    The 3 lines have numbers  \n",
    "    The first line describes the time in number of days in int format \n",
    "    The second line describes the principal amount in float format\n",
    "    The third line describes the interest rate per annum in percentage in float format\n",
    "\n",
    "    Output Format:\n",
    "    Total amount in float format\n",
    "\n",
    "    Sample Input:\n",
    "    1  \n",
    "    789\n",
    "    10000.0\n",
    "    1.3\n",
    "\n",
    "    Sample Output:\n",
    "    10281.01"
   ]
  },
  {
   "cell_type": "markdown",
   "id": "06257603-58df-4113-9050-48f94158a513",
   "metadata": {
    "jp-MarkdownHeadingCollapsed": true,
    "tags": []
   },
   "source": [
    "##### Solution Submitted"
   ]
  },
  {
   "cell_type": "code",
   "execution_count": 73,
   "id": "d22847e7-599b-48b7-ae81-0176049eb3d6",
   "metadata": {},
   "outputs": [],
   "source": [
    "def simple_int(time,pa,ir):\n",
    "    ans = pa+((time/365)*pa*ir)/100\n",
    "    return round(ans,2)"
   ]
  },
  {
   "cell_type": "code",
   "execution_count": 74,
   "id": "1f6f5146-7f9a-4526-b4e5-29826890f30e",
   "metadata": {},
   "outputs": [
    {
     "data": {
      "text/plain": [
       "10281.01"
      ]
     },
     "execution_count": 74,
     "metadata": {},
     "output_type": "execute_result"
    }
   ],
   "source": [
    "simple_int(789,10000.0,1.3)"
   ]
  },
  {
   "cell_type": "markdown",
   "id": "224dc0fd-5e7a-4dc5-95cc-fa7d8d77d498",
   "metadata": {
    "jp-MarkdownHeadingCollapsed": true,
    "tags": []
   },
   "source": [
    "#### Question 3"
   ]
  },
  {
   "cell_type": "markdown",
   "id": "d1ff330d-818d-44f2-950a-a44dddc6172d",
   "metadata": {},
   "source": [
    "\n",
    "    Write a program that takes the cost price of a vehicle as an argument and returns the road tax, that the vehicle owner has to pay according to the following criteria:\n",
    "\n",
    "    Note1: Return the tax up to one decimal place. You can use round(tax,1)\n",
    "\n",
    "    Note2: You need not take input in this problem, you need to only implement the function provided.\n",
    "\n",
    "    Input Format:\n",
    "    The first line indicates the number of test cases. For each testcase there will be a single line of input representing the cost price.\n",
    "    \n",
    "    Output Format:\n",
    "    Return tax in float format.\n",
    "    \n",
    "    Sample Input:\n",
    "    1\n",
    "    25000\n",
    "    \n",
    "    Sample Output:\n",
    "    1250.0"
   ]
  },
  {
   "cell_type": "markdown",
   "id": "af3c3dc0-51d0-4507-bb8b-fb0ad958398b",
   "metadata": {
    "jp-MarkdownHeadingCollapsed": true,
    "tags": []
   },
   "source": [
    "##### Solution Submitted"
   ]
  },
  {
   "cell_type": "code",
   "execution_count": 75,
   "id": "2721e4de-458d-421c-b8fd-51eec428adae",
   "metadata": {},
   "outputs": [],
   "source": [
    "def road_tax(price):\n",
    "    if price>100000:\n",
    "        tax = 0.20*price\n",
    "    if price>75000 and price<=100000:\n",
    "        tax = 0.15*price\n",
    "    if price>50000 and price<=75000:\n",
    "        tax = 0.10*price\n",
    "    if price<50000:\n",
    "        tax = 0.05*price\n",
    "    return round(tax,1)"
   ]
  },
  {
   "cell_type": "code",
   "execution_count": 78,
   "id": "477bb550-926c-4570-a559-e83d6e91aca5",
   "metadata": {},
   "outputs": [
    {
     "data": {
      "text/plain": [
       "1250.0"
      ]
     },
     "execution_count": 78,
     "metadata": {},
     "output_type": "execute_result"
    }
   ],
   "source": [
    "road_tax(25000)"
   ]
  },
  {
   "cell_type": "markdown",
   "id": "b8d1b707-6b39-43d0-8b16-f64b4424b544",
   "metadata": {
    "jp-MarkdownHeadingCollapsed": true,
    "tags": []
   },
   "source": [
    "#### Question 5**"
   ]
  },
  {
   "cell_type": "markdown",
   "id": "2a65c373-818c-412e-b752-d188432ec434",
   "metadata": {},
   "source": [
    "\n",
    "    Write a function to print a pattern similar to the one shown in the sample using n which is given to you as an argument to a function. Here n defines the number of rows.\n",
    "\n",
    "    Note: There are no spaces between the stars in the first row, and there are no spaces at the end of each row.\n",
    "\n",
    "    Input Format:\n",
    "    The only argument to the function in an integer n.\n",
    "\n",
    "    Output Format:\n",
    "    Print Star Pattern in string format for each testcase.\n",
    "\n",
    "    Sample Input:\n",
    "    8\n",
    "\n",
    "    Sample Output:\n",
    "    ********\n",
    "    *     *\n",
    "    *    *\n",
    "    *   *\n",
    "    *  *\n",
    "    * *\n",
    "    **\n",
    "    *\n",
    "\n",
    "    Sample Explanation:\n",
    "    In the first row, (n=8) stars are printed. \n",
    "    In the second row, 2 stars are printed with 5 spaces between them. \n",
    "    This number of spaces keeps decreasing by 1 after the second row until the last row where the number of spaces becomes zero and only one star is printed."
   ]
  },
  {
   "cell_type": "markdown",
   "id": "b0e4b489-8a77-4bb6-8cdc-6265d1ea7964",
   "metadata": {
    "jp-MarkdownHeadingCollapsed": true,
    "tags": []
   },
   "source": [
    "##### Solution Submitted"
   ]
  },
  {
   "cell_type": "code",
   "execution_count": 106,
   "id": "7eebb2be-aea2-45b2-9b28-8bf3e4375b56",
   "metadata": {},
   "outputs": [],
   "source": [
    "def star(n):\n",
    "    for i in range(1,n+1):\n",
    "        for j in range(1,n+1):\n",
    "            if i==1:\n",
    "                print(\"*\", end=\"\")\n",
    "            if i>1:\n",
    "                if j==1:\n",
    "                    print(\"*\", end=\"\")\n",
    "                if j>1 and j<=(n-i):\n",
    "                    print(\" \", end=\"\")\n",
    "                if j==n-i:\n",
    "                    print(\"*\", end=\"\")   \n",
    "        print()"
   ]
  },
  {
   "cell_type": "code",
   "execution_count": 107,
   "id": "ef01ed1d-4cf9-47c9-8137-caefbdb77cd9",
   "metadata": {},
   "outputs": [
    {
     "name": "stdout",
     "output_type": "stream",
     "text": [
      "********\n",
      "*     *\n",
      "*    *\n",
      "*   *\n",
      "*  *\n",
      "* *\n",
      "**\n",
      "*\n"
     ]
    }
   ],
   "source": [
    "star(8)"
   ]
  },
  {
   "cell_type": "markdown",
   "id": "00a9ba25-a4ad-47d9-b248-111694d363b0",
   "metadata": {},
   "source": [
    "#### Question 6"
   ]
  },
  {
   "cell_type": "markdown",
   "id": "27847857-f8d8-4224-a173-4f43f8d8fa3a",
   "metadata": {},
   "source": [
    "    Write a function to check whether a given number n as an input to the function is a perfect number or not. If the given integer is a perfect number return 1 else return 0.\n",
    "\n",
    "    Note: In number theory, a perfect number is a positive integer that is equal to the sum of its proper positive divisors, that is, the sum of its positive divisors excluding the number itself (also known as its aliquot sum).\n",
    "\n",
    "    Input Format:\n",
    "    The only argument to the function is an integer n.\n",
    "    \n",
    "    Output Format:\n",
    "    Print out 1 if the number is perfect else 0 in integer format.\n",
    "    \n",
    "    Sample Input:\n",
    "    6\n",
    "    \n",
    "    Sample Output:\n",
    "    1\n",
    "    \n",
    "    Sample Explanation:\n",
    "    Given number is 6. 1, 2, and 3 are its proper positive divisors, and 1 + 2 + 3 = 6. Equivalently, the number 6 is equal to half the sum of all its positive divisors: ( 1 + 2 + 3 + 6 ) / 2 = 6. Hence 6 is a perfect number."
   ]
  },
  {
   "cell_type": "markdown",
   "id": "5e57af80-6ea7-4023-a420-62b256ca812d",
   "metadata": {
    "jp-MarkdownHeadingCollapsed": true,
    "tags": []
   },
   "source": [
    "##### Solution Submitted"
   ]
  },
  {
   "cell_type": "code",
   "execution_count": 122,
   "id": "84a24273-543f-4991-bb5a-4f78202429b8",
   "metadata": {},
   "outputs": [],
   "source": [
    "\n",
    "def perfect_number(n):\n",
    "    sum1=0\n",
    "    for i in range(1,n):\n",
    "        if n%i==0:\n",
    "            sum1+=i\n",
    "    if sum1==n:\n",
    "        return 1\n",
    "    else:\n",
    "        return 0"
   ]
  },
  {
   "cell_type": "code",
   "execution_count": 125,
   "id": "083d77c3-5dc6-4089-a163-ed08ef6fe24a",
   "metadata": {},
   "outputs": [
    {
     "data": {
      "text/plain": [
       "1"
      ]
     },
     "execution_count": 125,
     "metadata": {},
     "output_type": "execute_result"
    }
   ],
   "source": [
    "perfect_number(6)"
   ]
  },
  {
   "cell_type": "markdown",
   "id": "9fcbe2d7-5522-4199-b4a9-073b95e05afc",
   "metadata": {},
   "source": [
    "#### Question 7"
   ]
  },
  {
   "cell_type": "markdown",
   "id": "e3082418-d688-418f-8dd4-05771a7d7caf",
   "metadata": {},
   "source": [
    "    You are given a positive integer r denoting the radius of a sphere as a parameter. Write a program to calculate the volume of the sphere. The volume of a sphere having radius R is given by (4 * π * R3) / 3.\n",
    "\n",
    "    NOTE: Return the volume of the sphere up to two decimal places. You can use round().\n",
    "\n",
    "    NOTE2: Use pi as 22/7 (not math.pi).\n",
    "\n",
    "    Input Format:\n",
    "    The first line indicates the number of the test cases. For each testcase there will be one line of input:\n",
    "    The one line contains r in integer format.\n",
    "\n",
    "    Output Format:\n",
    "    The volume of the sphere in float format is printed for each testcase in a new line.\n",
    "\n",
    "    Sample Input:\n",
    "    1\n",
    "    8\n",
    "\n",
    "    Sample Output:\n",
    "    2145.52"
   ]
  },
  {
   "cell_type": "markdown",
   "id": "5d205a70-635a-41dc-b340-8e4d19666eeb",
   "metadata": {
    "jp-MarkdownHeadingCollapsed": true,
    "tags": []
   },
   "source": [
    "##### Solution Submitted"
   ]
  },
  {
   "cell_type": "code",
   "execution_count": 118,
   "id": "e167e2eb-28fe-41e2-b0d5-beca04e97056",
   "metadata": {},
   "outputs": [],
   "source": [
    "def volume_sphere(r):\n",
    "    pi = 22/7\n",
    "    Vol = (4*pi*r**3)/3\n",
    "    \n",
    "    return round(Vol,2)"
   ]
  },
  {
   "cell_type": "code",
   "execution_count": 119,
   "id": "d6d2c301-7a99-410f-b44d-d0f1e32ecd28",
   "metadata": {},
   "outputs": [
    {
     "data": {
      "text/plain": [
       "2145.52"
      ]
     },
     "execution_count": 119,
     "metadata": {},
     "output_type": "execute_result"
    }
   ],
   "source": [
    "#Output\n",
    "volume_sphere(8)"
   ]
  },
  {
   "cell_type": "markdown",
   "id": "ed36be4b-6b29-466b-a419-3a8e2279bbaa",
   "metadata": {},
   "source": [
    "### Day 15: Functions 2"
   ]
  },
  {
   "cell_type": "markdown",
   "id": "9635340f-87ee-428d-b8ac-80d24e009fe4",
   "metadata": {},
   "source": [
    "#### Question"
   ]
  },
  {
   "cell_type": "markdown",
   "id": "034ccf1b-90f4-4e70-989c-534719b97c62",
   "metadata": {
    "tags": []
   },
   "source": [
    "##### Solution Submitted"
   ]
  },
  {
   "cell_type": "code",
   "execution_count": null,
   "id": "81b61788-2efa-40ae-831e-64dd1802e8cf",
   "metadata": {},
   "outputs": [],
   "source": []
  },
  {
   "cell_type": "markdown",
   "id": "d8a3469d-42cb-4c44-86e1-b779060ca93c",
   "metadata": {},
   "source": [
    "#### Question"
   ]
  },
  {
   "cell_type": "markdown",
   "id": "46989218-da7c-46fe-b887-53a1169eb30e",
   "metadata": {
    "tags": []
   },
   "source": [
    "##### Solution Submitted"
   ]
  },
  {
   "cell_type": "code",
   "execution_count": null,
   "id": "22a61080-d5bf-4910-9f3d-d39759fac230",
   "metadata": {},
   "outputs": [],
   "source": []
  }
 ],
 "metadata": {
  "kernelspec": {
   "display_name": "Python 3 (ipykernel)",
   "language": "python",
   "name": "python3"
  },
  "language_info": {
   "codemirror_mode": {
    "name": "ipython",
    "version": 3
   },
   "file_extension": ".py",
   "mimetype": "text/x-python",
   "name": "python",
   "nbconvert_exporter": "python",
   "pygments_lexer": "ipython3",
   "version": "3.9.12"
  },
  "widgets": {
   "application/vnd.jupyter.widget-state+json": {
    "state": {},
    "version_major": 2,
    "version_minor": 0
   }
  }
 },
 "nbformat": 4,
 "nbformat_minor": 5
}
