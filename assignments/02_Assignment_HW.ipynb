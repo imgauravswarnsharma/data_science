{
 "cells": [
  {
   "cell_type": "markdown",
   "id": "fc9beb48-b426-448a-8d8e-3015ce2d5df5",
   "metadata": {},
   "source": [
    "# Module 3"
   ]
  },
  {
   "cell_type": "markdown",
   "id": "3673c69a-5707-4b23-9ef9-0f5c5d335f61",
   "metadata": {},
   "source": [
    "## Assignments"
   ]
  },
  {
   "cell_type": "markdown",
   "id": "7f75c12e-68d0-4ded-a548-407bdd08a836",
   "metadata": {
    "jp-MarkdownHeadingCollapsed": true,
    "tags": []
   },
   "source": [
    "### Day 13: Pattern Printing"
   ]
  },
  {
   "cell_type": "markdown",
   "id": "d8a007c3-fa9d-4533-aa0d-d7ef5bf497c1",
   "metadata": {
    "jp-MarkdownHeadingCollapsed": true,
    "tags": []
   },
   "source": [
    "#### Question 1"
   ]
  },
  {
   "cell_type": "markdown",
   "id": "2bf1edca-b89e-495f-baec-8fad42989a11",
   "metadata": {},
   "source": [
    "    Take an integer N as input, print the corresponding pattern for N.\n",
    "    For example if N = 5 then pattern will be like:\n",
    "\n",
    "    *   *\n",
    "    *   *\n",
    "    *   *\n",
    "    *   *\n",
    "    *   *"
   ]
  },
  {
   "cell_type": "markdown",
   "id": "8a18d1cc-6eb2-45ba-a3bc-7d6f47cceb44",
   "metadata": {
    "jp-MarkdownHeadingCollapsed": true,
    "tags": []
   },
   "source": [
    "##### Solution"
   ]
  },
  {
   "cell_type": "code",
   "execution_count": 30,
   "id": "1aaee5a8-f476-465a-ae84-fb68511f9129",
   "metadata": {},
   "outputs": [
    {
     "name": "stdin",
     "output_type": "stream",
     "text": [
      " 5\n"
     ]
    },
    {
     "name": "stdout",
     "output_type": "stream",
     "text": [
      "*   *\n",
      "*   *\n",
      "*   *\n",
      "*   *\n",
      "*   *\n"
     ]
    }
   ],
   "source": [
    "N = int(input())\n",
    "for i in range(1,N+1):\n",
    "    for j in range(1,N+1):\n",
    "        if j==1:\n",
    "            print(\"*\", end=\"\")\n",
    "        if j==2:\n",
    "            print(\" \"*(N-2), end=\"\")\n",
    "        if j==N:\n",
    "            print(\"*\", end=\"\\n\")"
   ]
  },
  {
   "cell_type": "markdown",
   "id": "dc9ec697-d3eb-4e32-b8c3-d8d537f3bb49",
   "metadata": {
    "jp-MarkdownHeadingCollapsed": true,
    "tags": []
   },
   "source": [
    "##### Optimized Approach"
   ]
  },
  {
   "cell_type": "code",
   "execution_count": 109,
   "id": "b0ac605e-6de2-4bd4-8341-cb112c6bbcb2",
   "metadata": {},
   "outputs": [
    {
     "name": "stdin",
     "output_type": "stream",
     "text": [
      " 5\n"
     ]
    },
    {
     "name": "stdout",
     "output_type": "stream",
     "text": [
      "*   *\n",
      "*   *\n",
      "*   *\n",
      "*   *\n",
      "*   *\n"
     ]
    }
   ],
   "source": [
    "N = int(input())\n",
    "for i in range(1,N+1):\n",
    "    for j in range(1):\n",
    "        print(\"*\", end=\"\")\n",
    "        print(\" \"*(N-2), end=\"\")\n",
    "        print(\"*\")"
   ]
  },
  {
   "cell_type": "markdown",
   "id": "5a410768-75cf-4df9-84d2-74eb170cdd58",
   "metadata": {
    "jp-MarkdownHeadingCollapsed": true,
    "tags": []
   },
   "source": [
    "#### Question 2"
   ]
  },
  {
   "cell_type": "markdown",
   "id": "9100ab8f-72d8-4022-9b90-805463decb21",
   "metadata": {},
   "source": [
    "    Take an integer N as input, print the corresponding pattern for N.\n",
    "    For example if N = 5 then pattern will be like:\n",
    "\n",
    "    *****\n",
    "    _****\n",
    "    __***\n",
    "    ___**\n",
    "    ____*\n",
    "    \n",
    "    Note : Here '_' represents space for explanation purpose only. You have to print space in your code."
   ]
  },
  {
   "cell_type": "markdown",
   "id": "8d26fa37-0107-421b-bb56-1400e612b80e",
   "metadata": {
    "jp-MarkdownHeadingCollapsed": true,
    "tags": []
   },
   "source": [
    "##### Solution"
   ]
  },
  {
   "cell_type": "code",
   "execution_count": 38,
   "id": "d5f96014-3f4b-4e10-bd6e-f91ed987d749",
   "metadata": {},
   "outputs": [
    {
     "name": "stdin",
     "output_type": "stream",
     "text": [
      " 5\n"
     ]
    },
    {
     "name": "stdout",
     "output_type": "stream",
     "text": [
      "*****\n",
      " ****\n",
      "  ***\n",
      "   **\n",
      "    *\n"
     ]
    }
   ],
   "source": [
    "N = int(input())\n",
    "for i in range(1,N+1): \n",
    "    for j in range(1):\n",
    "        print(\" \"*(i-1), end=\"\")\n",
    "        print(\"*\"*(N+1-i), end=\"\\n\")\n",
    "    "
   ]
  },
  {
   "cell_type": "markdown",
   "id": "460834af-3af8-4794-8028-c2278eb13344",
   "metadata": {
    "jp-MarkdownHeadingCollapsed": true,
    "tags": []
   },
   "source": [
    "#### Question 3"
   ]
  },
  {
   "cell_type": "markdown",
   "id": "76090e54-f8d2-4e9b-9774-86f5572d40e6",
   "metadata": {},
   "source": [
    "    Take an integer N, print the corresponding Full Pyramid pattern for N.\n",
    "\n",
    "    For example if N = 5 then pattern will be like:\n",
    "\n",
    "        * \n",
    "       * * \n",
    "      * * * \n",
    "     * * * * \n",
    "    * * * * * \n",
    "    \n",
    "    NOTE: There should be exactly one extra space after each * for each row."
   ]
  },
  {
   "cell_type": "markdown",
   "id": "1a838122-6a07-49e0-9237-4843e050fde2",
   "metadata": {
    "jp-MarkdownHeadingCollapsed": true,
    "tags": []
   },
   "source": [
    "##### Solution"
   ]
  },
  {
   "cell_type": "code",
   "execution_count": 3,
   "id": "c7b8dfed-fecc-4c8a-ba7c-a12dc1b63237",
   "metadata": {},
   "outputs": [
    {
     "name": "stdin",
     "output_type": "stream",
     "text": [
      " 5\n"
     ]
    },
    {
     "name": "stdout",
     "output_type": "stream",
     "text": [
      "    * \n",
      "   * * \n",
      "  * * * \n",
      " * * * * \n",
      "* * * * * \n"
     ]
    }
   ],
   "source": [
    "N = int(input())\n",
    "for i in range(1,N+1):\n",
    "    k=N-i+1\n",
    "    for j in range(1,2*N):\n",
    "        if j < k:\n",
    "            print(\" \", end=\"\")\n",
    "        if j>=k and j < k+i:\n",
    "            print(\"*\", end=\" \")\n",
    "    print()"
   ]
  },
  {
   "cell_type": "markdown",
   "id": "5ec746df-d12f-4c2d-a376-f4df2c798369",
   "metadata": {
    "jp-MarkdownHeadingCollapsed": true,
    "tags": []
   },
   "source": [
    "#### Question 4"
   ]
  },
  {
   "cell_type": "markdown",
   "id": "ec15f3b4-3731-4c16-8837-bfc3f9a5d81e",
   "metadata": {},
   "source": [
    "    Take an integer N as input, print the corresponding pattern for N.\n",
    "    For example if N = 5 then pattern will be like:\n",
    "\n",
    "    ____*\n",
    "    ___**\n",
    "    __***\n",
    "    _****\n",
    "    *****\n",
    "    \n",
    "    Note : Here '_' represents space for explanation purpose only. You have to print space in your code."
   ]
  },
  {
   "cell_type": "markdown",
   "id": "04b2be7b-487b-4d3f-b890-0de1087946f3",
   "metadata": {
    "jp-MarkdownHeadingCollapsed": true,
    "tags": []
   },
   "source": [
    "##### Solution"
   ]
  },
  {
   "cell_type": "code",
   "execution_count": 5,
   "id": "3fb861a9-d868-44f6-946e-7a551bafe931",
   "metadata": {},
   "outputs": [
    {
     "name": "stdin",
     "output_type": "stream",
     "text": [
      " 5\n"
     ]
    },
    {
     "name": "stdout",
     "output_type": "stream",
     "text": [
      "    *\n",
      "   **\n",
      "  ***\n",
      " ****\n",
      "*****\n"
     ]
    }
   ],
   "source": [
    "N = int(input())\n",
    "\n",
    "for i in range(1,N+1):\n",
    "    for j in range(1):\n",
    "        print(\" \"*(N-i), end=\"\")\n",
    "        print(\"*\"*i, end=\"\")\n",
    "    print()"
   ]
  },
  {
   "cell_type": "markdown",
   "id": "318d518c-0dac-4170-ae90-dc8a6553285d",
   "metadata": {
    "jp-MarkdownHeadingCollapsed": true,
    "tags": []
   },
   "source": [
    "##### One more Approach. Try more approaches as it comes into mind."
   ]
  },
  {
   "cell_type": "code",
   "execution_count": 7,
   "id": "b929437b-2db4-43cf-ae26-71e83c6cd4cc",
   "metadata": {},
   "outputs": [
    {
     "name": "stdin",
     "output_type": "stream",
     "text": [
      " 5\n"
     ]
    },
    {
     "name": "stdout",
     "output_type": "stream",
     "text": [
      "    *\n",
      "   **\n",
      "  ***\n",
      " ****\n",
      "*****\n"
     ]
    }
   ],
   "source": [
    "N = int(input())\n",
    "\n",
    "for i in range(1,N+1):\n",
    "    for j in range(1,N+1):\n",
    "        if j<=N-i:\n",
    "            print(\" \", end=\"\")\n",
    "        if j>N-i and j < N+1:\n",
    "            print(\"*\", end=\"\")\n",
    "    print()"
   ]
  },
  {
   "cell_type": "markdown",
   "id": "e2128fe0-17e9-4182-9f3a-e7bc1e13c965",
   "metadata": {
    "jp-MarkdownHeadingCollapsed": true,
    "tags": []
   },
   "source": [
    "#### Question 5"
   ]
  },
  {
   "cell_type": "markdown",
   "id": "aa0e94c0-74ce-425a-895a-ed8017f1dbc1",
   "metadata": {},
   "source": [
    "    Take an integer N as input, print the corresponding pattern for N.\n",
    "    For example if N = 5 then pattern will be like:\n",
    "\n",
    "    1\n",
    "    1_\n",
    "    1_3\n",
    "    1_3_\n",
    "    1_3_5"
   ]
  },
  {
   "cell_type": "markdown",
   "id": "25eded6b-2c6c-46ff-9767-2dc5c924fec0",
   "metadata": {
    "jp-MarkdownHeadingCollapsed": true,
    "tags": []
   },
   "source": [
    "##### Solution"
   ]
  },
  {
   "cell_type": "code",
   "execution_count": 10,
   "id": "4dfa3a90-d2c3-4745-9ab3-fe6b042e200a",
   "metadata": {},
   "outputs": [
    {
     "name": "stdin",
     "output_type": "stream",
     "text": [
      " 5\n"
     ]
    },
    {
     "name": "stdout",
     "output_type": "stream",
     "text": [
      "1\n",
      "1 \n",
      "1 3\n",
      "1 3 \n",
      "1 3 5\n"
     ]
    }
   ],
   "source": [
    "N = int(input())\n",
    "\n",
    "for i in range(1,N+1):\n",
    "    for j in range(1,i+1):\n",
    "        if j%2:\n",
    "            print(j, end=\"\")\n",
    "        if j%2==0:\n",
    "            print(\" \", end=\"\")\n",
    "    print()"
   ]
  },
  {
   "cell_type": "markdown",
   "id": "b9d4a986-8a34-4400-b555-f45950aab40d",
   "metadata": {
    "jp-MarkdownHeadingCollapsed": true,
    "tags": []
   },
   "source": [
    "#### Question 6"
   ]
  },
  {
   "cell_type": "markdown",
   "id": "91d157f3-ec36-4ad6-8893-78649ae8b559",
   "metadata": {},
   "source": [
    "    Given two integers N and M as inputs, print a rectangle of N * M stars.\n",
    "\n",
    "    For example if N = 3, M = 4 then pattern will be like:\n",
    "\n",
    "    ****\n",
    "    ****\n",
    "    ****"
   ]
  },
  {
   "cell_type": "markdown",
   "id": "aec0c582-755a-4735-8edc-51e5732b2742",
   "metadata": {
    "tags": []
   },
   "source": [
    "##### Solution"
   ]
  },
  {
   "cell_type": "code",
   "execution_count": 11,
   "id": "f3dd3752-1253-448c-ba94-68c45767649e",
   "metadata": {},
   "outputs": [
    {
     "name": "stdin",
     "output_type": "stream",
     "text": [
      " 3\n",
      " 4\n"
     ]
    },
    {
     "name": "stdout",
     "output_type": "stream",
     "text": [
      "****\n",
      "****\n",
      "****\n"
     ]
    }
   ],
   "source": [
    "N = int(input())\n",
    "M = int(input())\n",
    "\n",
    "for i in range(1,N+1):\n",
    "    for j in range(1,M+1):\n",
    "        print(\"*\",end=\"\")\n",
    "    print()"
   ]
  },
  {
   "cell_type": "markdown",
   "id": "19f8ca67-db61-4e95-88d1-beec9337b521",
   "metadata": {
    "jp-MarkdownHeadingCollapsed": true,
    "tags": []
   },
   "source": [
    "#### Question 7"
   ]
  },
  {
   "cell_type": "markdown",
   "id": "f0792ab0-3cbc-431f-826e-24b27363e10e",
   "metadata": {},
   "source": [
    "    Take an Integer N as input. Print an Inverse half pyramid of N lines using *.\n",
    "    For example for N = 5, the output should be the following pattern:-\n",
    "\n",
    "    *****\n",
    "    ****\n",
    "    ***\n",
    "    **\n",
    "    *\n",
    "    \n",
    "    Note: There should be no space after the last * in each line of the output."
   ]
  },
  {
   "cell_type": "markdown",
   "id": "29c30f8d-59d0-45d7-a0ce-97e5c54da006",
   "metadata": {
    "jp-MarkdownHeadingCollapsed": true,
    "tags": []
   },
   "source": [
    "##### Solution"
   ]
  },
  {
   "cell_type": "code",
   "execution_count": 13,
   "id": "93fb1765-9866-4725-8049-4af7f7d47f02",
   "metadata": {},
   "outputs": [
    {
     "name": "stdin",
     "output_type": "stream",
     "text": [
      " 5\n"
     ]
    },
    {
     "name": "stdout",
     "output_type": "stream",
     "text": [
      "*****\n",
      "****\n",
      "***\n",
      "**\n",
      "*\n"
     ]
    }
   ],
   "source": [
    "N = int(input())\n",
    "\n",
    "for i in range(1,N+1):\n",
    "    for j in range(N-i+1):\n",
    "        print(\"*\", end=\"\")\n",
    "    print()"
   ]
  },
  {
   "cell_type": "markdown",
   "id": "2f261548-f67c-4ec3-ab8b-efd04b7f103d",
   "metadata": {},
   "source": [
    "### Day 14: Functions 1"
   ]
  },
  {
   "cell_type": "markdown",
   "id": "b05d5d20-3165-4478-95bf-326c0c2ef27c",
   "metadata": {
    "tags": []
   },
   "source": [
    "#### Question 2\n",
    "\n",
    "    Given the temperature of a day in Degrees Celsius, convert this given temperature from Celsius to Fahrenheit. Write a program to do so. Round the output up to 2 decimal places\n",
    "\n",
    "    Note1:\n",
    "    Python : Use round(ans,2) to round up ans to two decimals\n",
    "\n",
    "    Note2:\n",
    "    You need not take input in this problem, you need to only implement the function provided.\n",
    "\n",
    "    Input Format:\n",
    "    First line has the number of test cases. For each test case there will be a single line \n",
    "    of input in float format representing the temperature.\n",
    "\n",
    "    Output Format:\n",
    "    Fahrenheit value in float format\n",
    "\n",
    "    Sample Input:\n",
    "    1  \n",
    "    36.8\n",
    "\n",
    "    Sample Output:\n",
    "    98.24"
   ]
  },
  {
   "cell_type": "markdown",
   "id": "33403c8a-d122-4ab9-9c40-91c2806d404c",
   "metadata": {
    "jp-MarkdownHeadingCollapsed": true,
    "tags": []
   },
   "source": [
    "##### Solution Submitted"
   ]
  },
  {
   "cell_type": "code",
   "execution_count": 65,
   "id": "1afa36e3-6ad5-454c-914d-650ea59d0219",
   "metadata": {},
   "outputs": [],
   "source": [
    "def celsius_farhen(Celsius):\n",
    "    ans = Celsius*9/5 + 32   \n",
    "    return round(ans,2)"
   ]
  },
  {
   "cell_type": "markdown",
   "id": "21a87c43-47fc-4f70-94e2-f9ac4cb378f4",
   "metadata": {
    "jp-MarkdownHeadingCollapsed": true,
    "tags": []
   },
   "source": [
    "##### Full Solution"
   ]
  },
  {
   "cell_type": "markdown",
   "id": "2096bfab-b171-459f-9376-e23df9e43b79",
   "metadata": {},
   "source": [
    "Below Code:  \n",
    "Whenever for loop runs it calls the 'celsius_farhen' functions and executes the already defined function. Since we are printing inside the functions so it prints the function each time for loops executes the iteration.\n",
    "\n",
    "return function is not really required since for loop will execute the function after each input and will print the output anyway until and unless we need to store the output of the last iteration for later use.\n",
    "\n",
    "'ans' variable doesn't need to be defined as '0' since it is locally defined inside function and hence every time loop executes the functions it attains a value as per formula but will lose the value as soon as execution moves out of the function."
   ]
  },
  {
   "cell_type": "code",
   "execution_count": 4,
   "id": "0ccf0b1c-f17a-4836-ad16-a5d046371ab6",
   "metadata": {},
   "outputs": [
    {
     "name": "stdin",
     "output_type": "stream",
     "text": [
      "Enter no of test cases:  3\n",
      "Enter temp in Celsius degree:  36.8\n"
     ]
    },
    {
     "name": "stdout",
     "output_type": "stream",
     "text": [
      "98.24\n"
     ]
    },
    {
     "name": "stdin",
     "output_type": "stream",
     "text": [
      "Enter temp in Celsius degree:  14.1\n"
     ]
    },
    {
     "name": "stdout",
     "output_type": "stream",
     "text": [
      "57.38\n"
     ]
    },
    {
     "name": "stdin",
     "output_type": "stream",
     "text": [
      "Enter temp in Celsius degree:  24\n"
     ]
    },
    {
     "name": "stdout",
     "output_type": "stream",
     "text": [
      "75.2\n"
     ]
    }
   ],
   "source": [
    "n = int(input(\"Enter no of test cases: \"))\n",
    "\n",
    "def celsius_farhen(Celsius):\n",
    "    #ans=0\n",
    "    ans = Celsius*9/5 + 32\n",
    "    print(round(ans,2))\n",
    "    #return round(ans,2)\n",
    "\n",
    "for i in range(n):\n",
    "    Celsius = float(input(\"Enter temp in Celsius degree: \"))\n",
    "    celsius_farhen(Celsius)"
   ]
  },
  {
   "cell_type": "markdown",
   "id": "a69c8311-00ed-4d88-b11b-217b9c205cf5",
   "metadata": {
    "jp-MarkdownHeadingCollapsed": true,
    "tags": []
   },
   "source": [
    "##### Alternative approaches"
   ]
  },
  {
   "cell_type": "markdown",
   "id": "8f885128-1138-4767-b953-14027e0b7f2e",
   "metadata": {},
   "source": [
    "Below Code: (Doubt)  \n",
    "Is it not possible to use function inside the print statement like printing the return function output?"
   ]
  },
  {
   "cell_type": "code",
   "execution_count": 2,
   "id": "57b3f149-3b3a-493a-a9aa-694179fe7200",
   "metadata": {},
   "outputs": [
    {
     "name": "stdin",
     "output_type": "stream",
     "text": [
      "Enter no of test cases:  3\n"
     ]
    },
    {
     "ename": "NameError",
     "evalue": "name 'Celsius' is not defined",
     "output_type": "error",
     "traceback": [
      "\u001b[1;31m---------------------------------------------------------------------------\u001b[0m",
      "\u001b[1;31mNameError\u001b[0m                                 Traceback (most recent call last)",
      "Cell \u001b[1;32mIn[2], line 9\u001b[0m\n\u001b[0;32m      7\u001b[0m     ans \u001b[38;5;241m=\u001b[39m Celsius\u001b[38;5;241m*\u001b[39m\u001b[38;5;241m9\u001b[39m\u001b[38;5;241m/\u001b[39m\u001b[38;5;241m5\u001b[39m \u001b[38;5;241m+\u001b[39m \u001b[38;5;241m32\u001b[39m\n\u001b[0;32m      8\u001b[0m     \u001b[38;5;28;01mreturn\u001b[39;00m \u001b[38;5;28mround\u001b[39m(ans,\u001b[38;5;241m2\u001b[39m)\n\u001b[1;32m----> 9\u001b[0m \u001b[38;5;28mprint\u001b[39m(celsius_farhen(\u001b[43mCelsius\u001b[49m))\n",
      "\u001b[1;31mNameError\u001b[0m: name 'Celsius' is not defined"
     ]
    }
   ],
   "source": [
    "n = int(input(\"Enter no of test cases: \"))\n",
    "\n",
    "for i in range(n):\n",
    "    def celsius_farhen(Celsius):\n",
    "        #ans=0\n",
    "        Celsius = float(input(\"Enter temp in Celsius degree: \"))\n",
    "        ans = Celsius*9/5 + 32\n",
    "        return round(ans,2)\n",
    "    print(celsius_farhen(Celsius))"
   ]
  },
  {
   "cell_type": "markdown",
   "id": "a499f545-63e0-4d84-8322-8d82c94386ff",
   "metadata": {},
   "source": [
    "Below Code:  (Doubt)  \n",
    "Here we are printing the function before it is returned hence the code should fail but it is not failing and executes succesfully. Though there is not any output.  \n",
    "\n",
    "Why it is not asking for input for temp since code shuld run correctly till that statement as per dry run?  \n",
    "Why it is not failing at print statement?\n"
   ]
  },
  {
   "cell_type": "code",
   "execution_count": 1,
   "id": "e32e4663-9a13-4329-b156-7ec21ae36bb1",
   "metadata": {},
   "outputs": [
    {
     "name": "stdin",
     "output_type": "stream",
     "text": [
      "Enter no of test cases:  3\n"
     ]
    }
   ],
   "source": [
    "n = int(input(\"Enter no of test cases: \"))\n",
    "\n",
    "for i in range(n):\n",
    "    def celsius_farhen(Celsius):\n",
    "        #ans=0\n",
    "        Celsius = float(input(\"Enter temp in Celsius degree: \"))\n",
    "        ans = Celsius*9/5 + 32\n",
    "        print(celsius_farhen(Celsius))\n",
    "        return round(ans,2)"
   ]
  },
  {
   "cell_type": "markdown",
   "id": "ff34eadb-e601-493a-be7a-1c06c235eed2",
   "metadata": {},
   "source": [
    "Below Code: (Doubt)  \n",
    "Here we have chnaged the above code print function. Now it should run and print but it is still not giving any output.\n",
    "\n",
    "Why print statement is not working?"
   ]
  },
  {
   "cell_type": "code",
   "execution_count": 1,
   "id": "17d58b32-f900-4e26-9a7b-aad76214965d",
   "metadata": {},
   "outputs": [
    {
     "name": "stdin",
     "output_type": "stream",
     "text": [
      "Enter no of test cases:  3\n"
     ]
    }
   ],
   "source": [
    "n = int(input(\"Enter no of test cases: \"))\n",
    "\n",
    "for i in range(n):\n",
    "    def celsius_farhen(Celsius):\n",
    "        #ans=0\n",
    "        Celsius = float(input(\"Enter temp in Celsius degree: \"))\n",
    "        ans = Celsius*9/5 + 32\n",
    "        print(round(ans,2))\n",
    "        #return round(ans,2)"
   ]
  },
  {
   "cell_type": "markdown",
   "id": "13829200-ba6e-4201-98cf-1d21e59aa6dd",
   "metadata": {
    "jp-MarkdownHeadingCollapsed": true,
    "tags": []
   },
   "source": [
    "#### Question 3\n",
    "    Write a function to calculate and return the area of a circle by using the radius of the circle given as a parameter.\n",
    "\n",
    "    Notes:\n",
    "    Round up the area to 2 decimal places. You can use the round() function.\n",
    "    Use pi as 3.14159.\n",
    "    You need not take input in this problem, you need to only implement the function provided.\n",
    "\n",
    "    Input Format:\n",
    "    The first line indicates the number of the test cases. \n",
    "    For each test case there will be one line of input in integer format representing radius.\n",
    "\n",
    "    Output Format:\n",
    "    Area in float format rounded upto 2 decimal places for each testcase.\n",
    "\n",
    "    Sample Input:\n",
    "    1  \n",
    "    5]\n",
    "    Sample Output:\n",
    "    78.54"
   ]
  },
  {
   "cell_type": "markdown",
   "id": "f6b17565-3a90-43ff-9cbc-75fb7ddc5491",
   "metadata": {
    "jp-MarkdownHeadingCollapsed": true,
    "tags": []
   },
   "source": [
    "##### Solution Submitted"
   ]
  },
  {
   "cell_type": "code",
   "execution_count": 2,
   "id": "8fa151b6-ab0e-4cfa-a3ec-6bb51188cb10",
   "metadata": {},
   "outputs": [],
   "source": [
    "def circle_area(r):\n",
    "    ans = 3.14159*(r**2)\n",
    "    return round(ans,2)"
   ]
  },
  {
   "cell_type": "markdown",
   "id": "9c52240a-2f3e-4b2b-a217-618839166f42",
   "metadata": {
    "jp-MarkdownHeadingCollapsed": true,
    "tags": []
   },
   "source": [
    "##### Full Solution"
   ]
  },
  {
   "cell_type": "code",
   "execution_count": 3,
   "id": "c01450a7-79da-4989-a930-ba5779b53bc6",
   "metadata": {},
   "outputs": [
    {
     "name": "stdin",
     "output_type": "stream",
     "text": [
      "Enter no of test cases:  2\n",
      "Enter the radius:  5\n"
     ]
    },
    {
     "name": "stdout",
     "output_type": "stream",
     "text": [
      "78.54\n"
     ]
    },
    {
     "name": "stdin",
     "output_type": "stream",
     "text": [
      "Enter the radius:  6\n"
     ]
    },
    {
     "name": "stdout",
     "output_type": "stream",
     "text": [
      "113.1\n"
     ]
    }
   ],
   "source": [
    "n = int(input(\"Enter no of test cases: \"))\n",
    "\n",
    "def circle_area(r):\n",
    "    ans = 3.14159*(r**2)\n",
    "    print(round(ans,2))\n",
    "\n",
    "for i in range(n):\n",
    "    r = int(input(\"Enter the radius: \"))\n",
    "    circle_area(r)    "
   ]
  },
  {
   "cell_type": "markdown",
   "id": "86593896-031e-4b29-9a00-a0f6e9c07e55",
   "metadata": {
    "jp-MarkdownHeadingCollapsed": true,
    "tags": []
   },
   "source": [
    "#### Question 4\n",
    "    Given an integer n, write a program to print the sum of squares of first n natural numbers in integer format.\n",
    "\n",
    "    Note1:\n",
    "    The formula for the sum of squares of first n natural numbers is: n(n+1)(2n+1)/6\n",
    "    \n",
    "    Note2:\n",
    "    You need not take input in this problem, only implement the function provided.\n",
    "\n",
    "    Problem Constraints:\n",
    "    1 <= N <= 100\n",
    "\n",
    "    Input Format:\n",
    "    The first line indicates the number of test cases.\n",
    "    For each testcase there will be a single line of input with an integer representing n for that testcase.\n",
    "\n",
    "    Output Format:\n",
    "    Sum of squares of n natural numbers in integer format\n",
    "\n",
    "    Sample Input:\n",
    "    1\n",
    "    6\n",
    "\n",
    "    Sample Output:\n",
    "    91\n",
    "\n",
    "    Sample explanation:\n",
    "    According to the formula sum of first 6 natural numbers is 6*(6+1)(12+1)/6=91"
   ]
  },
  {
   "cell_type": "markdown",
   "id": "10ffb71a-791a-4207-b530-328673d37c8a",
   "metadata": {
    "jp-MarkdownHeadingCollapsed": true,
    "tags": []
   },
   "source": [
    "##### Solution Submitted"
   ]
  },
  {
   "cell_type": "code",
   "execution_count": 40,
   "id": "e9d97a4c-50d7-4f8f-8b53-4c22f7b6def7",
   "metadata": {},
   "outputs": [],
   "source": [
    "def sum_squares(n):\n",
    "    ans =  n*(n+1)*((2*n)+1)/6\n",
    "    return int(ans)"
   ]
  },
  {
   "cell_type": "markdown",
   "id": "19d83857-56d5-4da0-860c-7636a3a54ccb",
   "metadata": {
    "jp-MarkdownHeadingCollapsed": true,
    "tags": []
   },
   "source": [
    "##### Full Solution"
   ]
  },
  {
   "cell_type": "code",
   "execution_count": 13,
   "id": "fc569f9a-ae9f-4eb8-a425-c1deabaa9984",
   "metadata": {},
   "outputs": [
    {
     "name": "stdin",
     "output_type": "stream",
     "text": [
      "Enter no of test cases:  2\n",
      "Enter the integer:  4\n"
     ]
    },
    {
     "name": "stdout",
     "output_type": "stream",
     "text": [
      "30\n"
     ]
    },
    {
     "name": "stdin",
     "output_type": "stream",
     "text": [
      "Enter the integer:  6\n"
     ]
    },
    {
     "name": "stdout",
     "output_type": "stream",
     "text": [
      "91\n"
     ]
    }
   ],
   "source": [
    "t = int(input(\"Enter no of test cases: \"))\n",
    "\n",
    "def sum_square(n):\n",
    "    ans =  n*(n+1)*((2*n)+1)/6\n",
    "    print (int(ans))\n",
    "    \n",
    "for i in range(t):\n",
    "    n = int(input(\"Enter the integer: \"))\n",
    "    sum_square(n)"
   ]
  },
  {
   "cell_type": "markdown",
   "id": "497dcaab-f084-4ba0-92f5-eb541254b55c",
   "metadata": {
    "jp-MarkdownHeadingCollapsed": true,
    "tags": []
   },
   "source": [
    "#### Question 5\n",
    "\n",
    "What is the output of the following function call?\n",
    "\n",
    "    def 1f(num):\n",
    "      return num + 55\n",
    "    1f(5)\n",
    "    print(num)"
   ]
  },
  {
   "cell_type": "markdown",
   "id": "e5a91850-7e6d-49a1-b857-354ce03b866a",
   "metadata": {
    "jp-MarkdownHeadingCollapsed": true,
    "tags": []
   },
   "source": [
    "##### Solution"
   ]
  },
  {
   "cell_type": "code",
   "execution_count": 5,
   "id": "2b5aa4b1-a3fd-473a-93cd-2fcf2121dcd8",
   "metadata": {},
   "outputs": [
    {
     "ename": "SyntaxError",
     "evalue": "invalid syntax (2441545484.py, line 1)",
     "output_type": "error",
     "traceback": [
      "\u001b[1;36m  Cell \u001b[1;32mIn[5], line 1\u001b[1;36m\u001b[0m\n\u001b[1;33m    Invalid function name. Hence will generate error.\u001b[0m\n\u001b[1;37m            ^\u001b[0m\n\u001b[1;31mSyntaxError\u001b[0m\u001b[1;31m:\u001b[0m invalid syntax\n"
     ]
    }
   ],
   "source": [
    "Invalid function name. Hence will generate error."
   ]
  },
  {
   "cell_type": "markdown",
   "id": "76eb79ff-3f02-40a8-bc30-3b3eb1764f53",
   "metadata": {
    "jp-MarkdownHeadingCollapsed": true,
    "tags": []
   },
   "source": [
    "#### Question 7\n",
    "\n",
    "    You are given a lowercase latin alphabetic character C. You have to tell whether it is a vowel or not.\n",
    "\n",
    "    Problem Constraints:\n",
    "    C ∈ ['a' - 'z']\n",
    "\n",
    "    Input Format:\n",
    "    The input consists of a single character C.\n",
    "\n",
    "    Output Format:\n",
    "    Return 1 if the given character is a vowel, else return 0.\n",
    "\n",
    "    Example Input 1:\n",
    "    a \n",
    "    \n",
    "    Example Onput 1:\n",
    "    1 \n",
    "    \n",
    "    Explanation:\n",
    "    since, 'a' is a vowel.\n"
   ]
  },
  {
   "cell_type": "markdown",
   "id": "2bdd150a-9f94-4b0a-86d0-56ac71996674",
   "metadata": {
    "jp-MarkdownHeadingCollapsed": true,
    "tags": []
   },
   "source": [
    "##### Solution Submitted"
   ]
  },
  {
   "cell_type": "code",
   "execution_count": 41,
   "id": "1e47c83c-754f-49bd-8815-e96f67941fda",
   "metadata": {},
   "outputs": [],
   "source": [
    "def isvowel(C):\n",
    "    if C=='a' or C=='e' or C=='i' or C=='o' or C=='u':\n",
    "        print(\"1\")\n",
    "    else:\n",
    "        print(\"0\")\n",
    "    return ans"
   ]
  },
  {
   "cell_type": "markdown",
   "id": "a14b7ec1-9889-4515-99a2-34b1aef2c4e4",
   "metadata": {
    "jp-MarkdownHeadingCollapsed": true,
    "tags": []
   },
   "source": [
    "##### Full Solution "
   ]
  },
  {
   "cell_type": "code",
   "execution_count": 39,
   "id": "0e0746e0-7680-42e3-9eba-19d1e786cf94",
   "metadata": {},
   "outputs": [
    {
     "name": "stdin",
     "output_type": "stream",
     "text": [
      "Enter the alphabet:  a\n"
     ]
    },
    {
     "name": "stdout",
     "output_type": "stream",
     "text": [
      "1\n"
     ]
    }
   ],
   "source": [
    "C= input(\"Enter the alphabet: \")\n",
    "C= C.lower()     \n",
    "     \n",
    "def isVowel(C):\n",
    "     if C=='a' or C=='e' or C=='i' or C=='o' or C=='u':\n",
    "        print(\"1\")\n",
    "     else:\n",
    "        print(\"0\")\n",
    "\n",
    "isVowel(C)"
   ]
  },
  {
   "cell_type": "markdown",
   "id": "430dcaa9-cf39-4d52-b16f-3e0e7dedda3d",
   "metadata": {
    "jp-MarkdownHeadingCollapsed": true,
    "tags": []
   },
   "source": [
    "## HW"
   ]
  },
  {
   "cell_type": "markdown",
   "id": "c0e1c00f-06f4-4101-8ab9-b89882c730b6",
   "metadata": {
    "tags": []
   },
   "source": [
    "### Day 13: Pattern Printing"
   ]
  },
  {
   "cell_type": "markdown",
   "id": "d29dae40-00b5-4d34-97f3-9835b46de75e",
   "metadata": {
    "tags": []
   },
   "source": [
    "#### Question 1"
   ]
  },
  {
   "cell_type": "markdown",
   "id": "5fb59cf1-d56f-4a5c-a43d-e9e62f523011",
   "metadata": {},
   "source": [
    "Take an integer N as input, print the corresponding pattern for N.\n",
    "\n",
    "For example if N = 5 then pattern will be like:\n",
    "\n",
    "    ********** // 0 spaces\n",
    "\n",
    "    ****  **** // 2 spaces\n",
    "\n",
    "    ***    *** // 4 spaces\n",
    "\n",
    "    **      ** // 6 spaces\n",
    "\n",
    "    *        * // 8 spaces\n",
    "\n",
    "NOTE: Here '_' is used to represent spaces. You have to print spaces in your code."
   ]
  },
  {
   "cell_type": "markdown",
   "id": "41b6652a-6d5d-4710-8c60-f9c81b86f077",
   "metadata": {
    "jp-MarkdownHeadingCollapsed": true,
    "tags": []
   },
   "source": [
    "##### Solution"
   ]
  },
  {
   "cell_type": "code",
   "execution_count": 121,
   "id": "567a01ca-4c56-4d97-82ee-cd3bded34361",
   "metadata": {},
   "outputs": [
    {
     "name": "stdin",
     "output_type": "stream",
     "text": [
      " 5\n"
     ]
    },
    {
     "name": "stdout",
     "output_type": "stream",
     "text": [
      "**********\n",
      "****  ****\n",
      "***    ***\n",
      "**      **\n",
      "*        *\n"
     ]
    }
   ],
   "source": [
    "N = int(input())\n",
    "\n",
    "for i in range(0,N):\n",
    "    for j in range(1):\n",
    "        print(\"*\"*(N-i), end=\"\")\n",
    "        print(\" \"*(2*i), end=\"\")\n",
    "        print(\"*\"*(N-i), end=\"\")\n",
    "    print()\n",
    "        "
   ]
  },
  {
   "cell_type": "markdown",
   "id": "e243defa-e199-4de8-965a-4b4acc7fb954",
   "metadata": {
    "jp-MarkdownHeadingCollapsed": true,
    "tags": []
   },
   "source": [
    "#### Question 2 "
   ]
  },
  {
   "cell_type": "markdown",
   "id": "32c3b909-b23c-49b0-8bea-4dcfdf4f128c",
   "metadata": {},
   "source": [
    "Take an integer N as input, print the corresponding pattern for N.\n",
    "\n",
    "For example if N = 5 then pattern will be like:\n",
    "\n",
    "    *________* // 8 spaces\n",
    "\n",
    "    **______** // 6 spaces\n",
    "\n",
    "    ***____*** // 4 spaces\n",
    "\n",
    "    ****__**** // 2 spaces\n",
    "\n",
    "    ********** // 0 spaces\n",
    "NOTE: Here '_' is used to represent spaces. You have to print spaces in your code."
   ]
  },
  {
   "cell_type": "markdown",
   "id": "11d4ba3b-9700-478e-8bb7-39f501c290a1",
   "metadata": {
    "jp-MarkdownHeadingCollapsed": true,
    "tags": []
   },
   "source": [
    "##### Solution"
   ]
  },
  {
   "cell_type": "code",
   "execution_count": 126,
   "id": "d5b81b70-0ebf-425e-91ad-8ff4126f58e0",
   "metadata": {},
   "outputs": [
    {
     "name": "stdin",
     "output_type": "stream",
     "text": [
      " 5\n"
     ]
    },
    {
     "name": "stdout",
     "output_type": "stream",
     "text": [
      "*        *\n",
      "**      **\n",
      "***    ***\n",
      "****  ****\n",
      "**********\n"
     ]
    }
   ],
   "source": [
    "N = int(input())\n",
    "\n",
    "for i in range(1,N+1):\n",
    "    for j in range(1):\n",
    "        print(\"*\"*i, end=\"\")\n",
    "        print(\" \"*(2*(N-i)), end=\"\")\n",
    "        print(\"*\"*i, end=\"\")\n",
    "    print()"
   ]
  },
  {
   "cell_type": "markdown",
   "id": "1a7e810c-412c-4d68-9b79-e7ba8d5203eb",
   "metadata": {
    "jp-MarkdownHeadingCollapsed": true,
    "tags": []
   },
   "source": [
    "#### Question 3"
   ]
  },
  {
   "cell_type": "markdown",
   "id": "5191e2bf-75e5-4f18-9044-3c07811c98d5",
   "metadata": {},
   "source": [
    "Take an integer N as input, print the corresponding Half Diamond pattern with 2*N - 1 rows.\n",
    "\n",
    "For example if N = 5 then pattern will be like:\n",
    "\n",
    "    * \n",
    "    **\n",
    "    ***\n",
    "    ****\n",
    "    *****\n",
    "    ****\n",
    "    ***\n",
    "    **\n",
    "    *\n",
    "NOTE: There should be no spaces after any *"
   ]
  },
  {
   "cell_type": "markdown",
   "id": "08b599ed-4421-41c3-9a1a-78152c68dba3",
   "metadata": {
    "jp-MarkdownHeadingCollapsed": true,
    "tags": []
   },
   "source": [
    "##### Solution\n",
    "Approach 1"
   ]
  },
  {
   "cell_type": "code",
   "execution_count": 70,
   "id": "bf68708e-be69-4b79-b1bf-6383a2cf5fc3",
   "metadata": {},
   "outputs": [
    {
     "name": "stdin",
     "output_type": "stream",
     "text": [
      " 5\n"
     ]
    },
    {
     "name": "stdout",
     "output_type": "stream",
     "text": [
      "*\n",
      "**\n",
      "***\n",
      "****\n",
      "*****\n",
      "****\n",
      "***\n",
      "**\n",
      "*\n"
     ]
    }
   ],
   "source": [
    "N = int(input())\n",
    "\n",
    "for i in range(1,2*N):\n",
    "    for j in range(1):\n",
    "        if i<=N:\n",
    "            print(\"*\"*i, end=\"\")\n",
    "        if i>N and i<2*N:\n",
    "            print(\"*\"*(2*N-i), end=\"\")                        \n",
    "    print()\n",
    "            "
   ]
  },
  {
   "cell_type": "markdown",
   "id": "51c0b651-d43e-45b7-a907-cfcd35257161",
   "metadata": {
    "jp-MarkdownHeadingCollapsed": true,
    "tags": []
   },
   "source": [
    "##### Solution\n",
    "Approach 2"
   ]
  },
  {
   "cell_type": "code",
   "execution_count": 65,
   "id": "8ccc041e-142f-47fc-9df4-e39bfc519228",
   "metadata": {},
   "outputs": [
    {
     "name": "stdin",
     "output_type": "stream",
     "text": [
      " 5\n"
     ]
    },
    {
     "name": "stdout",
     "output_type": "stream",
     "text": [
      "*\n",
      "**\n",
      "***\n",
      "****\n",
      "*****\n",
      "****\n",
      "***\n",
      "**\n",
      "*\n"
     ]
    }
   ],
   "source": [
    "N = int(input())\n",
    "\n",
    "for i in range(1,N+1):\n",
    "    for j in range(1,i+1):\n",
    "            print(\"*\", end=\"\")\n",
    "    print()\n",
    "for i in range(N+1,2*N):\n",
    "    for j in range(2*N-i):\n",
    "        print(\"*\", end=\"\")\n",
    "    print()\n",
    "    "
   ]
  },
  {
   "cell_type": "markdown",
   "id": "e3cd9059-3b0b-4896-975c-6b39b62e522f",
   "metadata": {
    "jp-MarkdownHeadingCollapsed": true,
    "tags": []
   },
   "source": [
    "#### Question 4"
   ]
  },
  {
   "cell_type": "markdown",
   "id": "57a8dd08-fffe-4e1b-8873-5860793c5705",
   "metadata": {},
   "source": [
    "Take an integer N as input, print the corresponding pattern for N.\n",
    "\n",
    "For example if N = 5 then pattern will be like:\n",
    "\n",
    "    *****\n",
    "    *   *\n",
    "    *   *\n",
    "    *   *\n",
    "    *****\n",
    "Note : Except for the first line and the last line, every line will have N-2 spaces between the two stars."
   ]
  },
  {
   "cell_type": "markdown",
   "id": "150d9c4b-11a2-49d4-a47d-2b5e467c7a60",
   "metadata": {
    "jp-MarkdownHeadingCollapsed": true,
    "tags": []
   },
   "source": [
    "##### Solution\n",
    "Think of a more optimized approach than this"
   ]
  },
  {
   "cell_type": "code",
   "execution_count": 104,
   "id": "0934f8d5-51ef-4517-bdc2-ce1fb7a1a4e6",
   "metadata": {},
   "outputs": [
    {
     "name": "stdin",
     "output_type": "stream",
     "text": [
      " 5\n"
     ]
    },
    {
     "name": "stdout",
     "output_type": "stream",
     "text": [
      "*****\n",
      "*   *\n",
      "*   *\n",
      "*   *\n",
      "*****\n"
     ]
    }
   ],
   "source": [
    "N = int(input())\n",
    "\n",
    "for i in range(1,N+1):\n",
    "    for j in range(1):\n",
    "        if i==1:\n",
    "            print(\"*\"*N)\n",
    "            break\n",
    "        if i>1 and i<N:\n",
    "            print(\"*\", end=\"\")\n",
    "            print(\" \"*(N-2), end=\"\")\n",
    "            print(\"*\")\n",
    "            break\n",
    "        if i==N:\n",
    "            print(\"*\"*N)\n",
    "            break\n",
    "        \n",
    "        "
   ]
  },
  {
   "cell_type": "markdown",
   "id": "f32159bd-0a39-46c7-be01-f09dc8dbdf48",
   "metadata": {
    "jp-MarkdownHeadingCollapsed": true,
    "tags": []
   },
   "source": [
    "#### Question 5"
   ]
  },
  {
   "cell_type": "markdown",
   "id": "04ab8d9a-91f0-4774-a77e-772f8fe570eb",
   "metadata": {},
   "source": [
    "Given an integer N as input, print the corresponding Hollow Inverted Half Pyramid pattern for N.\n",
    "\n",
    "For example if N = 6 then pattern will be like:\n",
    "\n",
    "    ******\n",
    "    *   *\n",
    "    *  *\n",
    "    * *\n",
    "    **\n",
    "    *"
   ]
  },
  {
   "cell_type": "markdown",
   "id": "14929021-515c-456c-bacc-db5c4db86722",
   "metadata": {
    "jp-MarkdownHeadingCollapsed": true,
    "tags": []
   },
   "source": [
    "##### Solution"
   ]
  },
  {
   "cell_type": "code",
   "execution_count": 39,
   "id": "c1aa3ad0-a568-44b3-bed5-10ea6ec1de50",
   "metadata": {},
   "outputs": [
    {
     "name": "stdin",
     "output_type": "stream",
     "text": [
      " 6\n"
     ]
    },
    {
     "name": "stdout",
     "output_type": "stream",
     "text": [
      "******\n",
      "*   *\n",
      "*  *\n",
      "* *\n",
      "**\n",
      "*\n"
     ]
    }
   ],
   "source": [
    "N = int(input())\n",
    "\n",
    "for i in range(1,N+1):\n",
    "    for j in range(1,N+1):\n",
    "        if i==1:\n",
    "            print(\"*\", end=\"\")\n",
    "        if i>1:\n",
    "            if j==1:\n",
    "                print(\"*\", end=\"\")\n",
    "            if j>1 and j<=(N-i):\n",
    "                print(\" \", end=\"\")\n",
    "            if j==N-i:\n",
    "                print(\"*\", end=\"\")   \n",
    "    print()\n",
    "        \n",
    "    "
   ]
  },
  {
   "cell_type": "markdown",
   "id": "b15a5fed-0116-445d-930a-5adecda71de7",
   "metadata": {
    "jp-MarkdownHeadingCollapsed": true,
    "tags": []
   },
   "source": [
    "##### Alternative approach\n",
    "Using jump statement for i"
   ]
  },
  {
   "cell_type": "code",
   "execution_count": 40,
   "id": "acb0ce11-adcf-43c7-9093-5700745098f1",
   "metadata": {},
   "outputs": [
    {
     "name": "stdin",
     "output_type": "stream",
     "text": [
      " 6\n"
     ]
    },
    {
     "name": "stdout",
     "output_type": "stream",
     "text": [
      "******\n",
      "*   *\n",
      "*  *\n",
      "* *\n",
      "**\n",
      "*\n"
     ]
    }
   ],
   "source": [
    "N = int(input())\n",
    "\n",
    "for i in range(1,N+1):\n",
    "    for j in range(1,N+1):\n",
    "        if i==1:\n",
    "            print(\"*\", end=\"\")\n",
    "            continue\n",
    "        if j==1:\n",
    "            print(\"*\", end=\"\")\n",
    "        if j>1 and j<=(N-i):\n",
    "            print(\" \", end=\"\")\n",
    "        if j==N-i:\n",
    "            print(\"*\", end=\"\")\n",
    "    print() "
   ]
  },
  {
   "cell_type": "markdown",
   "id": "3903ef6d-580a-4490-8199-535dce39d624",
   "metadata": {
    "jp-MarkdownHeadingCollapsed": true,
    "tags": []
   },
   "source": [
    "#### Question 6"
   ]
  },
  {
   "cell_type": "markdown",
   "id": "feee180a-491b-4906-b830-0b82f37dc67b",
   "metadata": {},
   "source": [
    "Take an integer N as input, print the corresponding Full Numeric Pyramid pattern for N.\n",
    "\n",
    "For example if N = 5 then pattern will be like:\n",
    "\n",
    "    0 0 0 0 5 0 0 0 0 \n",
    "    0 0 0 4 8 12 0 0 0 \n",
    "    0 0 3 6 9 12 15 0 0\n",
    "    0 2 4 6 8 10 12 14 0\n",
    "    1 2 3 4 5 6 7 8 9 \n",
    "NOTE: There should be exactly one extra space after each number for each row."
   ]
  },
  {
   "cell_type": "markdown",
   "id": "072fbefe-a033-438e-b7a5-5893eb65f49e",
   "metadata": {
    "jp-MarkdownHeadingCollapsed": true,
    "tags": []
   },
   "source": [
    "##### Solution"
   ]
  },
  {
   "cell_type": "code",
   "execution_count": 6,
   "id": "6638f28d-7c3f-484c-947c-0b26521a0110",
   "metadata": {},
   "outputs": [
    {
     "name": "stdin",
     "output_type": "stream",
     "text": [
      " 5\n"
     ]
    },
    {
     "name": "stdout",
     "output_type": "stream",
     "text": [
      "0 0 0 0 5 0 0 0 0 \n",
      "0 0 0 4 8 12 0 0 0 \n",
      "0 0 3 6 9 12 15 0 0 \n",
      "0 2 4 6 8 10 12 14 0 \n",
      "1 2 3 4 5 6 7 8 9 \n"
     ]
    }
   ],
   "source": [
    "N = int(input())\n",
    "\n",
    "for i in range(N):\n",
    "    for j in range(1):\n",
    "        print(\"0 \"*(N-i-1), end=\"\")\n",
    "    k=1\n",
    "    while k<=(i*2+1):\n",
    "        print((N-i)*k, end=\" \")\n",
    "        k+=1\n",
    "    for j in range(1):\n",
    "        print(\"0 \"*(N-i-1), end=\"\")\n",
    "    print()  "
   ]
  },
  {
   "cell_type": "markdown",
   "id": "b2aebef8-241a-4424-893a-27f201b8d1f1",
   "metadata": {
    "jp-MarkdownHeadingCollapsed": true,
    "tags": []
   },
   "source": [
    "##### Alternative approaches"
   ]
  },
  {
   "cell_type": "markdown",
   "id": "87cec219-0f7b-4ef5-887a-94fb48b06175",
   "metadata": {},
   "source": [
    "Taking range from(1,N+1)"
   ]
  },
  {
   "cell_type": "code",
   "execution_count": 15,
   "id": "d99a75c1-8f07-482a-9d3f-3117a2f9d5e4",
   "metadata": {},
   "outputs": [
    {
     "name": "stdin",
     "output_type": "stream",
     "text": [
      " 5\n"
     ]
    },
    {
     "name": "stdout",
     "output_type": "stream",
     "text": [
      "0 0 0 0 5 0 0 0 0 \n",
      "0 0 0 4 8 12 0 0 0 \n",
      "0 0 3 6 9 12 15 0 0 \n",
      "0 2 4 6 8 10 12 14 0 \n",
      "1 2 3 4 5 6 7 8 9 \n"
     ]
    }
   ],
   "source": [
    "N = int(input())\n",
    "\n",
    "for i in range(1,N+1):\n",
    "    for j in range(1,N-i+1):\n",
    "        print(\"0 \", end=\"\")\n",
    "    for j in range(1,2*i):\n",
    "        print((N-i+1)*j, end=\" \")\n",
    "    for j in range(1,N-i+1):\n",
    "        print(\"0 \", end=\"\")\n",
    "\n",
    "    print()"
   ]
  },
  {
   "cell_type": "markdown",
   "id": "bdae09f4-7035-4fcf-a0bd-ccf6a19dce58",
   "metadata": {},
   "source": [
    "Taking range from (0, N)"
   ]
  },
  {
   "cell_type": "code",
   "execution_count": 26,
   "id": "1cd894fe-7c52-469b-9382-3f5acf49b761",
   "metadata": {},
   "outputs": [
    {
     "name": "stdin",
     "output_type": "stream",
     "text": [
      " 5\n"
     ]
    },
    {
     "name": "stdout",
     "output_type": "stream",
     "text": [
      "0 0 0 0 5 0 0 0 0 \n",
      "0 0 0 4 8 12 0 0 0 \n",
      "0 0 3 6 9 12 15 0 0 \n",
      "0 2 4 6 8 10 12 14 0 \n",
      "1 2 3 4 5 6 7 8 9 \n"
     ]
    }
   ],
   "source": [
    "N = int(input())\n",
    "\n",
    "for i in range(N):\n",
    "    for j in range(N-i-1):\n",
    "        print(\"0 \", end=\"\")\n",
    "    for j in range(2*i+1):\n",
    "        print((N-i)*(j+1), end=\" \")\n",
    "    for j in range(N-i-1):\n",
    "        print(\"0 \", end=\"\")\n",
    "    print()"
   ]
  },
  {
   "cell_type": "markdown",
   "id": "14f2f4d0-0bbc-4bf6-86ba-728cc743b6fa",
   "metadata": {
    "jp-MarkdownHeadingCollapsed": true,
    "tags": []
   },
   "source": [
    "#### Question 7"
   ]
  },
  {
   "cell_type": "markdown",
   "id": "20b00ef1-935a-41b1-bda3-ed7967a1de1e",
   "metadata": {},
   "source": [
    "Take an integer N as input, and print the corresponding Inverted Full Pyramid pattern for N.\n",
    "\n",
    "For example if N = 5 then pattern will be like:\n",
    "\n",
    "    * * * * * \n",
    "     * * * * \n",
    "      * * * \n",
    "       * *    \n",
    "        * \n",
    "NOTE: There should be exactly one extra space after each * for each row."
   ]
  },
  {
   "cell_type": "markdown",
   "id": "2a4c0160-e538-473b-915f-3f1bee61743f",
   "metadata": {
    "jp-MarkdownHeadingCollapsed": true,
    "tags": []
   },
   "source": [
    "##### Solution"
   ]
  },
  {
   "cell_type": "code",
   "execution_count": 130,
   "id": "5efce32c-d9b6-4642-967e-83ea10f9c5c5",
   "metadata": {},
   "outputs": [
    {
     "name": "stdin",
     "output_type": "stream",
     "text": [
      " 5\n"
     ]
    },
    {
     "name": "stdout",
     "output_type": "stream",
     "text": [
      "* * * * * \n",
      " * * * * \n",
      "  * * * \n",
      "   * * \n",
      "    * \n"
     ]
    }
   ],
   "source": [
    "N = int(input())\n",
    "\n",
    "for i in range(N):\n",
    "    for j in range(1):\n",
    "        print(\" \"*i, end=\"\")\n",
    "        print(\"* \"*(N-i), end=\"\")\n",
    "    print()"
   ]
  },
  {
   "cell_type": "markdown",
   "id": "d426a428-3533-4607-8966-ef52c43f881b",
   "metadata": {
    "jp-MarkdownHeadingCollapsed": true,
    "tags": []
   },
   "source": [
    "#### Question 8"
   ]
  },
  {
   "cell_type": "markdown",
   "id": "24055ba9-a45b-4b0d-85fe-93b6783e3357",
   "metadata": {},
   "source": [
    "Given an integer N as input, print the corresponding Full Numeric Pyramid pattern for N.\n",
    "\n",
    "For example if N = 5 then pattern will be like:\n",
    "\n",
    "    0 0 0 0 1 0 0 0 0 \n",
    "    0 0 0 2 3 2 0 0 0 \n",
    "    0 0 3 4 5 4 3 0 0\n",
    "    0 4 5 6 7 6 5 4 0\n",
    "    5 6 7 8 9 8 7 6 5 \n",
    "\n",
    "NOTE: There should be exactly one extra space after each number for each row."
   ]
  },
  {
   "cell_type": "markdown",
   "id": "de760677-52ca-4a43-8329-2445a3987782",
   "metadata": {
    "jp-MarkdownHeadingCollapsed": true,
    "tags": []
   },
   "source": [
    "##### Solution"
   ]
  },
  {
   "cell_type": "code",
   "execution_count": 12,
   "id": "7f088462-6a30-41a6-940b-a39af8bf3da6",
   "metadata": {},
   "outputs": [
    {
     "name": "stdin",
     "output_type": "stream",
     "text": [
      " 5\n"
     ]
    },
    {
     "name": "stdout",
     "output_type": "stream",
     "text": [
      "0 0 0 0 1 0 0 0 0 \n",
      "0 0 0 2 3 2 0 0 0 \n",
      "0 0 3 4 5 4 3 0 0 \n",
      "0 4 5 6 7 6 5 4 0 \n",
      "5 6 7 8 9 8 7 6 5 \n"
     ]
    }
   ],
   "source": [
    "N = int(input())\n",
    "\n",
    "for i in range(N):\n",
    "    for j in range(1):\n",
    "        print(\"0 \"*(N-i-1), end=\"\")\n",
    "        \n",
    "    m=i+1\n",
    "    while m<=(i*2+1):\n",
    "        print(m, end=\" \")\n",
    "        m+=1\n",
    "    m-=2\n",
    "    while m>=(i+1):\n",
    "        print(m, end=\" \")\n",
    "        m-=1\n",
    "        \n",
    "    for j in range(1):\n",
    "        print(\"0 \"*(N-i-1), end=\"\")\n",
    "    print()\n"
   ]
  },
  {
   "cell_type": "markdown",
   "id": "9f6ec308-d063-43cd-97d5-71ded3b8e7fc",
   "metadata": {
    "jp-MarkdownHeadingCollapsed": true,
    "tags": []
   },
   "source": [
    "##### Alternative appraches using only for loop"
   ]
  },
  {
   "cell_type": "markdown",
   "id": "1814382e-4039-4d78-a611-3f931187f928",
   "metadata": {},
   "source": [
    "Using if-else inside for loop"
   ]
  },
  {
   "cell_type": "code",
   "execution_count": 34,
   "id": "8b500121-d518-4880-ba33-45dcfdde5f85",
   "metadata": {},
   "outputs": [
    {
     "name": "stdin",
     "output_type": "stream",
     "text": [
      " 5\n"
     ]
    },
    {
     "name": "stdout",
     "output_type": "stream",
     "text": [
      "0 0 0 0 1 0 0 0 0 \n",
      "0 0 0 2 3 2 0 0 0 \n",
      "0 0 3 4 5 4 3 0 0 \n",
      "0 4 5 6 7 6 5 4 0 \n",
      "5 6 7 8 9 8 7 6 5 \n"
     ]
    }
   ],
   "source": [
    "N = int(input())\n",
    "\n",
    "for i in range(1,N+1):\n",
    "    for j in range(1,N-i+1):\n",
    "        print(\"0 \", end=\"\")\n",
    "    k=i\n",
    "    for j in range(1,2*i):\n",
    "        if j<i:\n",
    "            print(k, end=\" \")\n",
    "            k+=1\n",
    "        else:\n",
    "            print(k,end=\" \")\n",
    "            k-=1\n",
    "    for j in range(1,N-i+1):\n",
    "        print(\"0 \", end=\"\")\n",
    "    \n",
    "            \n",
    "    print()"
   ]
  },
  {
   "cell_type": "markdown",
   "id": "9aefc20b-81e9-4eb8-aca0-1e03c33f5275",
   "metadata": {},
   "source": [
    "Using only for loop"
   ]
  },
  {
   "cell_type": "code",
   "execution_count": 33,
   "id": "a4cca4da-c13a-415d-b117-b75ee231b4c7",
   "metadata": {},
   "outputs": [
    {
     "name": "stdin",
     "output_type": "stream",
     "text": [
      " 5\n"
     ]
    },
    {
     "name": "stdout",
     "output_type": "stream",
     "text": [
      "0 0 0 0 1 0 0 0 0 \n",
      "0 0 0 2 3 2 0 0 0 \n",
      "0 0 3 4 5 4 3 0 0 \n",
      "0 4 5 6 7 6 5 4 0 \n",
      "5 6 7 8 9 8 7 6 5 \n"
     ]
    }
   ],
   "source": [
    "N = int(input())\n",
    "\n",
    "for i in range(1,N+1):\n",
    "    for j in range(1,N-i+1):\n",
    "        print(\"0 \", end=\"\")\n",
    "    k=i\n",
    "    for j in range(1,i):\n",
    "        print(k, end=\" \")\n",
    "        k+=1\n",
    "    for j in range(1, i+1):\n",
    "        print(k, end=\" \")\n",
    "        k-=1\n",
    "    for j in range(1,N-i+1):\n",
    "        print(\"0 \", end=\"\")\n",
    "    \n",
    "            \n",
    "    print()"
   ]
  }
 ],
 "metadata": {
  "kernelspec": {
   "display_name": "Python 3 (ipykernel)",
   "language": "python",
   "name": "python3"
  },
  "language_info": {
   "codemirror_mode": {
    "name": "ipython",
    "version": 3
   },
   "file_extension": ".py",
   "mimetype": "text/x-python",
   "name": "python",
   "nbconvert_exporter": "python",
   "pygments_lexer": "ipython3",
   "version": "3.9.12"
  },
  "widgets": {
   "application/vnd.jupyter.widget-state+json": {
    "state": {},
    "version_major": 2,
    "version_minor": 0
   }
  }
 },
 "nbformat": 4,
 "nbformat_minor": 5
}
