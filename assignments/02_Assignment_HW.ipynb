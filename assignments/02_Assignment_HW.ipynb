{
 "cells": [
  {
   "cell_type": "markdown",
   "id": "fc9beb48-b426-448a-8d8e-3015ce2d5df5",
   "metadata": {
    "tags": []
   },
   "source": [
    "# Module 3"
   ]
  },
  {
   "cell_type": "markdown",
   "id": "3673c69a-5707-4b23-9ef9-0f5c5d335f61",
   "metadata": {
    "tags": []
   },
   "source": [
    "## Assignments"
   ]
  },
  {
   "cell_type": "markdown",
   "id": "7f75c12e-68d0-4ded-a548-407bdd08a836",
   "metadata": {
    "jp-MarkdownHeadingCollapsed": true,
    "tags": []
   },
   "source": [
    "### Day 13: Pattern Printing**"
   ]
  },
  {
   "cell_type": "markdown",
   "id": "d8a007c3-fa9d-4533-aa0d-d7ef5bf497c1",
   "metadata": {
    "jp-MarkdownHeadingCollapsed": true,
    "tags": []
   },
   "source": [
    "#### Question 1"
   ]
  },
  {
   "cell_type": "markdown",
   "id": "2bf1edca-b89e-495f-baec-8fad42989a11",
   "metadata": {},
   "source": [
    "    Take an integer N as input, print the corresponding pattern for N.\n",
    "    For example if N = 5 then pattern will be like:\n",
    "\n",
    "    *   *\n",
    "    *   *\n",
    "    *   *\n",
    "    *   *\n",
    "    *   *"
   ]
  },
  {
   "cell_type": "markdown",
   "id": "8a18d1cc-6eb2-45ba-a3bc-7d6f47cceb44",
   "metadata": {
    "jp-MarkdownHeadingCollapsed": true,
    "tags": []
   },
   "source": [
    "##### Solution"
   ]
  },
  {
   "cell_type": "code",
   "execution_count": 7,
   "id": "1aaee5a8-f476-465a-ae84-fb68511f9129",
   "metadata": {},
   "outputs": [
    {
     "name": "stdin",
     "output_type": "stream",
     "text": [
      " 5\n"
     ]
    },
    {
     "name": "stdout",
     "output_type": "stream",
     "text": [
      "*   *\n",
      "*   *\n",
      "*   *\n",
      "*   *\n",
      "*   *\n"
     ]
    }
   ],
   "source": [
    "N = int(input())\n",
    "for i in range(1,N+1):\n",
    "    for j in range(1,N+1):\n",
    "        if j==1:\n",
    "            print(\"*\", end=\"\")\n",
    "        if j==2:\n",
    "            print(\" \"*(N-2), end=\"\")\n",
    "        if j==N:\n",
    "            print(\"*\", end=\"\\n\")"
   ]
  },
  {
   "cell_type": "markdown",
   "id": "dc9ec697-d3eb-4e32-b8c3-d8d537f3bb49",
   "metadata": {
    "jp-MarkdownHeadingCollapsed": true,
    "tags": []
   },
   "source": [
    "##### Optimized Approach"
   ]
  },
  {
   "cell_type": "code",
   "execution_count": 8,
   "id": "b0ac605e-6de2-4bd4-8341-cb112c6bbcb2",
   "metadata": {},
   "outputs": [
    {
     "name": "stdin",
     "output_type": "stream",
     "text": [
      " 5\n"
     ]
    },
    {
     "name": "stdout",
     "output_type": "stream",
     "text": [
      "*   *\n",
      "*   *\n",
      "*   *\n",
      "*   *\n",
      "*   *\n"
     ]
    }
   ],
   "source": [
    "N = int(input())\n",
    "for i in range(1,N+1):\n",
    "    for j in range(1):\n",
    "        print(\"*\", end=\"\")\n",
    "        print(\" \"*(N-2), end=\"\")\n",
    "        print(\"*\")"
   ]
  },
  {
   "cell_type": "markdown",
   "id": "5a410768-75cf-4df9-84d2-74eb170cdd58",
   "metadata": {
    "jp-MarkdownHeadingCollapsed": true,
    "tags": []
   },
   "source": [
    "#### Question 2"
   ]
  },
  {
   "cell_type": "markdown",
   "id": "9100ab8f-72d8-4022-9b90-805463decb21",
   "metadata": {},
   "source": [
    "    Take an integer N as input, print the corresponding pattern for N.\n",
    "    For example if N = 5 then pattern will be like:\n",
    "\n",
    "    *****\n",
    "    _****\n",
    "    __***\n",
    "    ___**\n",
    "    ____*\n",
    "    \n",
    "    Note : Here '_' represents space for explanation purpose only. You have to print space in your code."
   ]
  },
  {
   "cell_type": "markdown",
   "id": "8d26fa37-0107-421b-bb56-1400e612b80e",
   "metadata": {
    "jp-MarkdownHeadingCollapsed": true,
    "tags": []
   },
   "source": [
    "##### Solution"
   ]
  },
  {
   "cell_type": "code",
   "execution_count": 9,
   "id": "d5f96014-3f4b-4e10-bd6e-f91ed987d749",
   "metadata": {},
   "outputs": [
    {
     "name": "stdin",
     "output_type": "stream",
     "text": [
      " 5\n"
     ]
    },
    {
     "name": "stdout",
     "output_type": "stream",
     "text": [
      "*****\n",
      " ****\n",
      "  ***\n",
      "   **\n",
      "    *\n"
     ]
    }
   ],
   "source": [
    "N = int(input())\n",
    "for i in range(1,N+1): \n",
    "    for j in range(1):\n",
    "        print(\" \"*(i-1), end=\"\")\n",
    "        print(\"*\"*(N+1-i), end=\"\\n\")   "
   ]
  },
  {
   "cell_type": "markdown",
   "id": "460834af-3af8-4794-8028-c2278eb13344",
   "metadata": {
    "jp-MarkdownHeadingCollapsed": true,
    "tags": []
   },
   "source": [
    "#### Question 3"
   ]
  },
  {
   "cell_type": "markdown",
   "id": "76090e54-f8d2-4e9b-9774-86f5572d40e6",
   "metadata": {},
   "source": [
    "    Take an integer N, print the corresponding Full Pyramid pattern for N.\n",
    "\n",
    "    For example if N = 5 then pattern will be like:\n",
    "\n",
    "        * \n",
    "       * * \n",
    "      * * * \n",
    "     * * * * \n",
    "    * * * * * \n",
    "    \n",
    "    NOTE: There should be exactly one extra space after each * for each row."
   ]
  },
  {
   "cell_type": "markdown",
   "id": "1a838122-6a07-49e0-9237-4843e050fde2",
   "metadata": {
    "jp-MarkdownHeadingCollapsed": true,
    "tags": []
   },
   "source": [
    "##### Solution"
   ]
  },
  {
   "cell_type": "code",
   "execution_count": 10,
   "id": "c7b8dfed-fecc-4c8a-ba7c-a12dc1b63237",
   "metadata": {},
   "outputs": [
    {
     "name": "stdin",
     "output_type": "stream",
     "text": [
      " 5\n"
     ]
    },
    {
     "name": "stdout",
     "output_type": "stream",
     "text": [
      "    * \n",
      "   * * \n",
      "  * * * \n",
      " * * * * \n",
      "* * * * * \n"
     ]
    }
   ],
   "source": [
    "N = int(input())\n",
    "for i in range(1,N+1):\n",
    "    k=N-i+1\n",
    "    for j in range(1,2*N):\n",
    "        if j < k:\n",
    "            print(\" \", end=\"\")\n",
    "        if j>=k and j < k+i:\n",
    "            print(\"*\", end=\" \")\n",
    "    print()"
   ]
  },
  {
   "cell_type": "markdown",
   "id": "5ec746df-d12f-4c2d-a376-f4df2c798369",
   "metadata": {
    "jp-MarkdownHeadingCollapsed": true,
    "tags": []
   },
   "source": [
    "#### Question 4"
   ]
  },
  {
   "cell_type": "markdown",
   "id": "ec15f3b4-3731-4c16-8837-bfc3f9a5d81e",
   "metadata": {},
   "source": [
    "    Take an integer N as input, print the corresponding pattern for N.\n",
    "    For example if N = 5 then pattern will be like:\n",
    "\n",
    "    ____*\n",
    "    ___**\n",
    "    __***\n",
    "    _****\n",
    "    *****\n",
    "    \n",
    "    Note : Here '_' represents space for explanation purpose only. You have to print space in your code."
   ]
  },
  {
   "cell_type": "markdown",
   "id": "04b2be7b-487b-4d3f-b890-0de1087946f3",
   "metadata": {
    "jp-MarkdownHeadingCollapsed": true,
    "tags": []
   },
   "source": [
    "##### Solution"
   ]
  },
  {
   "cell_type": "code",
   "execution_count": 11,
   "id": "3fb861a9-d868-44f6-946e-7a551bafe931",
   "metadata": {},
   "outputs": [
    {
     "name": "stdin",
     "output_type": "stream",
     "text": [
      " 5\n"
     ]
    },
    {
     "name": "stdout",
     "output_type": "stream",
     "text": [
      "    *\n",
      "   **\n",
      "  ***\n",
      " ****\n",
      "*****\n"
     ]
    }
   ],
   "source": [
    "N = int(input())\n",
    "\n",
    "for i in range(1,N+1):\n",
    "    for j in range(1):\n",
    "        print(\" \"*(N-i), end=\"\")\n",
    "        print(\"*\"*i, end=\"\")\n",
    "    print()"
   ]
  },
  {
   "cell_type": "markdown",
   "id": "318d518c-0dac-4170-ae90-dc8a6553285d",
   "metadata": {
    "jp-MarkdownHeadingCollapsed": true,
    "tags": []
   },
   "source": [
    "##### One more Approach. Try more approaches as it comes into mind."
   ]
  },
  {
   "cell_type": "code",
   "execution_count": 12,
   "id": "b929437b-2db4-43cf-ae26-71e83c6cd4cc",
   "metadata": {},
   "outputs": [
    {
     "name": "stdin",
     "output_type": "stream",
     "text": [
      " 5\n"
     ]
    },
    {
     "name": "stdout",
     "output_type": "stream",
     "text": [
      "    *\n",
      "   **\n",
      "  ***\n",
      " ****\n",
      "*****\n"
     ]
    }
   ],
   "source": [
    "N = int(input())\n",
    "\n",
    "for i in range(1,N+1):\n",
    "    for j in range(1,N+1):\n",
    "        if j<=N-i:\n",
    "            print(\" \", end=\"\")\n",
    "        if j>N-i and j < N+1:\n",
    "            print(\"*\", end=\"\")\n",
    "    print()"
   ]
  },
  {
   "cell_type": "markdown",
   "id": "e2128fe0-17e9-4182-9f3a-e7bc1e13c965",
   "metadata": {
    "jp-MarkdownHeadingCollapsed": true,
    "tags": []
   },
   "source": [
    "#### Question 5"
   ]
  },
  {
   "cell_type": "markdown",
   "id": "aa0e94c0-74ce-425a-895a-ed8017f1dbc1",
   "metadata": {},
   "source": [
    "    Take an integer N as input, print the corresponding pattern for N.\n",
    "    For example if N = 5 then pattern will be like:\n",
    "\n",
    "    1\n",
    "    1_\n",
    "    1_3\n",
    "    1_3_\n",
    "    1_3_5"
   ]
  },
  {
   "cell_type": "markdown",
   "id": "25eded6b-2c6c-46ff-9767-2dc5c924fec0",
   "metadata": {
    "jp-MarkdownHeadingCollapsed": true,
    "tags": []
   },
   "source": [
    "##### Solution"
   ]
  },
  {
   "cell_type": "code",
   "execution_count": 13,
   "id": "4dfa3a90-d2c3-4745-9ab3-fe6b042e200a",
   "metadata": {},
   "outputs": [
    {
     "name": "stdin",
     "output_type": "stream",
     "text": [
      " 5\n"
     ]
    },
    {
     "name": "stdout",
     "output_type": "stream",
     "text": [
      "1\n",
      "1 \n",
      "1 3\n",
      "1 3 \n",
      "1 3 5\n"
     ]
    }
   ],
   "source": [
    "N = int(input())\n",
    "\n",
    "for i in range(1,N+1):\n",
    "    for j in range(1,i+1):\n",
    "        if j%2:\n",
    "            print(j, end=\"\")\n",
    "        if j%2==0:\n",
    "            print(\" \", end=\"\")\n",
    "    print()"
   ]
  },
  {
   "cell_type": "markdown",
   "id": "b9d4a986-8a34-4400-b555-f45950aab40d",
   "metadata": {
    "jp-MarkdownHeadingCollapsed": true,
    "tags": []
   },
   "source": [
    "#### Question 6"
   ]
  },
  {
   "cell_type": "markdown",
   "id": "91d157f3-ec36-4ad6-8893-78649ae8b559",
   "metadata": {},
   "source": [
    "    Given two integers N and M as inputs, print a rectangle of N * M stars.\n",
    "\n",
    "    For example if N = 3, M = 4 then pattern will be like:\n",
    "\n",
    "    ****\n",
    "    ****\n",
    "    ****"
   ]
  },
  {
   "cell_type": "markdown",
   "id": "aec0c582-755a-4735-8edc-51e5732b2742",
   "metadata": {
    "jp-MarkdownHeadingCollapsed": true,
    "tags": []
   },
   "source": [
    "##### Solution"
   ]
  },
  {
   "cell_type": "code",
   "execution_count": 14,
   "id": "f3dd3752-1253-448c-ba94-68c45767649e",
   "metadata": {},
   "outputs": [
    {
     "name": "stdin",
     "output_type": "stream",
     "text": [
      " 3\n",
      " 4\n"
     ]
    },
    {
     "name": "stdout",
     "output_type": "stream",
     "text": [
      "****\n",
      "****\n",
      "****\n"
     ]
    }
   ],
   "source": [
    "N = int(input())\n",
    "M = int(input())\n",
    "\n",
    "for i in range(1,N+1):\n",
    "    for j in range(1,M+1):\n",
    "        print(\"*\",end=\"\")\n",
    "    print()"
   ]
  },
  {
   "cell_type": "markdown",
   "id": "19f8ca67-db61-4e95-88d1-beec9337b521",
   "metadata": {
    "jp-MarkdownHeadingCollapsed": true,
    "tags": []
   },
   "source": [
    "#### Question 7"
   ]
  },
  {
   "cell_type": "markdown",
   "id": "f0792ab0-3cbc-431f-826e-24b27363e10e",
   "metadata": {},
   "source": [
    "    Take an Integer N as input. Print an Inverse half pyramid of N lines using *.\n",
    "    For example for N = 5, the output should be the following pattern:-\n",
    "\n",
    "    *****\n",
    "    ****\n",
    "    ***\n",
    "    **\n",
    "    *\n",
    "    \n",
    "    Note: There should be no space after the last * in each line of the output."
   ]
  },
  {
   "cell_type": "markdown",
   "id": "29c30f8d-59d0-45d7-a0ce-97e5c54da006",
   "metadata": {
    "jp-MarkdownHeadingCollapsed": true,
    "tags": []
   },
   "source": [
    "##### Solution"
   ]
  },
  {
   "cell_type": "code",
   "execution_count": 15,
   "id": "93fb1765-9866-4725-8049-4af7f7d47f02",
   "metadata": {},
   "outputs": [
    {
     "name": "stdin",
     "output_type": "stream",
     "text": [
      " 5\n"
     ]
    },
    {
     "name": "stdout",
     "output_type": "stream",
     "text": [
      "*****\n",
      "****\n",
      "***\n",
      "**\n",
      "*\n"
     ]
    }
   ],
   "source": [
    "N = int(input())\n",
    "\n",
    "for i in range(1,N+1):\n",
    "    for j in range(N-i+1):\n",
    "        print(\"*\", end=\"\")\n",
    "    print()"
   ]
  },
  {
   "cell_type": "markdown",
   "id": "2f261548-f67c-4ec3-ab8b-efd04b7f103d",
   "metadata": {
    "jp-MarkdownHeadingCollapsed": true,
    "tags": []
   },
   "source": [
    "### Day 14: Functions 1"
   ]
  },
  {
   "cell_type": "markdown",
   "id": "a9df0cd7-a13e-4e4a-a2f4-6ada7b1f0534",
   "metadata": {
    "jp-MarkdownHeadingCollapsed": true,
    "tags": []
   },
   "source": [
    "#### Question 2"
   ]
  },
  {
   "cell_type": "markdown",
   "id": "b05d5d20-3165-4478-95bf-326c0c2ef27c",
   "metadata": {
    "tags": []
   },
   "source": [
    "    Given the temperature of a day in Degrees Celsius, convert this given temperature from Celsius to Fahrenheit. Write a program to do so. Round the output up to 2 decimal places\n",
    "\n",
    "    Note1:\n",
    "    Python : Use round(ans,2) to round up ans to two decimals\n",
    "\n",
    "    Note2:\n",
    "    You need not take input in this problem, you need to only implement the function provided.\n",
    "\n",
    "    Input Format:\n",
    "    First line has the number of test cases. For each test case there will be a single line \n",
    "    of input in float format representing the temperature.\n",
    "\n",
    "    Output Format:\n",
    "    Fahrenheit value in float format\n",
    "\n",
    "    Sample Input:\n",
    "    1  \n",
    "    36.8\n",
    "\n",
    "    Sample Output:\n",
    "    98.24"
   ]
  },
  {
   "cell_type": "markdown",
   "id": "33403c8a-d122-4ab9-9c40-91c2806d404c",
   "metadata": {
    "jp-MarkdownHeadingCollapsed": true,
    "tags": []
   },
   "source": [
    "##### Solution Submitted"
   ]
  },
  {
   "cell_type": "code",
   "execution_count": 16,
   "id": "1afa36e3-6ad5-454c-914d-650ea59d0219",
   "metadata": {},
   "outputs": [],
   "source": [
    "def celsius_farhen(Celsius):\n",
    "    ans = Celsius*9/5 + 32   \n",
    "    return round(ans,2)"
   ]
  },
  {
   "cell_type": "markdown",
   "id": "a69c8311-00ed-4d88-b11b-217b9c205cf5",
   "metadata": {
    "jp-MarkdownHeadingCollapsed": true,
    "tags": []
   },
   "source": [
    "##### Alternative approaches"
   ]
  },
  {
   "cell_type": "markdown",
   "id": "e046d03a-cc40-4917-a6a4-07d2070d795a",
   "metadata": {},
   "source": [
    "Using Celsius as func arg"
   ]
  },
  {
   "cell_type": "code",
   "execution_count": 17,
   "id": "0ccf0b1c-f17a-4836-ad16-a5d046371ab6",
   "metadata": {},
   "outputs": [
    {
     "name": "stdin",
     "output_type": "stream",
     "text": [
      "Enter no of test cases:  2\n",
      "Enter temp in Celsius degree:  36.8\n"
     ]
    },
    {
     "name": "stdout",
     "output_type": "stream",
     "text": [
      "98.24\n"
     ]
    },
    {
     "name": "stdin",
     "output_type": "stream",
     "text": [
      "Enter temp in Celsius degree:  12\n"
     ]
    },
    {
     "name": "stdout",
     "output_type": "stream",
     "text": [
      "53.6\n"
     ]
    }
   ],
   "source": [
    "n = int(input(\"Enter no of test cases: \"))\n",
    "\n",
    "def celsius_farhen(Celsius):\n",
    "    ans = Celsius*9/5 + 32\n",
    "    print(round(ans,2))\n",
    "\n",
    "for i in range(n):\n",
    "    Celsius = float(input(\"Enter temp in Celsius degree: \"))\n",
    "    celsius_farhen(Celsius)"
   ]
  },
  {
   "cell_type": "markdown",
   "id": "046a2829-71dc-49fe-966d-a5132f48c4b6",
   "metadata": {},
   "source": [
    "Using n as func arg"
   ]
  },
  {
   "cell_type": "code",
   "execution_count": 18,
   "id": "fe3ce7c0-0c33-471d-8f98-488f2028b06d",
   "metadata": {},
   "outputs": [
    {
     "name": "stdin",
     "output_type": "stream",
     "text": [
      "Enter no of test cases:  2\n",
      "Enter temp in Celsius degree:  36.8\n"
     ]
    },
    {
     "name": "stdout",
     "output_type": "stream",
     "text": [
      "98.24\n"
     ]
    },
    {
     "name": "stdin",
     "output_type": "stream",
     "text": [
      "Enter temp in Celsius degree:  12\n"
     ]
    },
    {
     "name": "stdout",
     "output_type": "stream",
     "text": [
      "53.6\n"
     ]
    }
   ],
   "source": [
    "n = int(input(\"Enter no of test cases: \"))\n",
    "\n",
    "for i in range(n):\n",
    "    def celsius_farhen(n):\n",
    "        Celsius = float(input(\"Enter temp in Celsius degree: \"))\n",
    "        ans = Celsius*9/5 + 32\n",
    "        return round(ans,2)\n",
    "    print(celsius_farhen(n))"
   ]
  },
  {
   "cell_type": "markdown",
   "id": "260d2f99-8e5b-4a46-a37a-660e4e960f62",
   "metadata": {},
   "source": [
    "Using no arg"
   ]
  },
  {
   "cell_type": "code",
   "execution_count": 20,
   "id": "3a6f3dfd-bae2-46c4-bfdd-282b02f5038f",
   "metadata": {},
   "outputs": [
    {
     "name": "stdin",
     "output_type": "stream",
     "text": [
      "Enter no of test cases:  2\n",
      "Enter temp in Celsius degree:  36.8\n"
     ]
    },
    {
     "name": "stdout",
     "output_type": "stream",
     "text": [
      "98.24\n"
     ]
    },
    {
     "name": "stdin",
     "output_type": "stream",
     "text": [
      "Enter temp in Celsius degree:  12\n"
     ]
    },
    {
     "name": "stdout",
     "output_type": "stream",
     "text": [
      "53.6\n"
     ]
    }
   ],
   "source": [
    " n = int(input(\"Enter no of test cases: \"))\n",
    "\n",
    "for i in range(n):\n",
    "    def celsius_farhen():\n",
    "        #ans=0\n",
    "        Celsius = float(input(\"Enter temp in Celsius degree: \"))\n",
    "        ans = Celsius*9/5 + 32\n",
    "        return round(ans,2)\n",
    "    print(celsius_farhen())"
   ]
  },
  {
   "cell_type": "markdown",
   "id": "06dfc74b-66eb-425d-ad68-d156ec531d0b",
   "metadata": {
    "jp-MarkdownHeadingCollapsed": true,
    "tags": []
   },
   "source": [
    "#### Question 3"
   ]
  },
  {
   "cell_type": "markdown",
   "id": "13829200-ba6e-4201-98cf-1d21e59aa6dd",
   "metadata": {
    "tags": []
   },
   "source": [
    "    Write a function to calculate and return the area of a circle by using the radius of the circle given as a parameter.\n",
    "\n",
    "    Notes:\n",
    "    Round up the area to 2 decimal places. You can use the round() function.\n",
    "    Use pi as 3.14159.\n",
    "    You need not take input in this problem, you need to only implement the function provided.\n",
    "\n",
    "    Input Format:\n",
    "    The first line indicates the number of the test cases. \n",
    "    For each test case there will be one line of input in integer format representing radius.\n",
    "\n",
    "    Output Format:\n",
    "    Area in float format rounded upto 2 decimal places for each testcase.\n",
    "\n",
    "    Sample Input:\n",
    "    1  \n",
    "    5]\n",
    "    Sample Output:\n",
    "    78.54"
   ]
  },
  {
   "cell_type": "markdown",
   "id": "f6b17565-3a90-43ff-9cbc-75fb7ddc5491",
   "metadata": {
    "jp-MarkdownHeadingCollapsed": true,
    "tags": []
   },
   "source": [
    "##### Solution Submitted"
   ]
  },
  {
   "cell_type": "code",
   "execution_count": 21,
   "id": "8fa151b6-ab0e-4cfa-a3ec-6bb51188cb10",
   "metadata": {},
   "outputs": [],
   "source": [
    "def circle_area(r):\n",
    "    ans = 3.14159*(r**2)\n",
    "    return round(ans,2)"
   ]
  },
  {
   "cell_type": "markdown",
   "id": "9c52240a-2f3e-4b2b-a217-618839166f42",
   "metadata": {
    "jp-MarkdownHeadingCollapsed": true,
    "tags": []
   },
   "source": [
    "##### Full Solution"
   ]
  },
  {
   "cell_type": "code",
   "execution_count": 22,
   "id": "c01450a7-79da-4989-a930-ba5779b53bc6",
   "metadata": {},
   "outputs": [
    {
     "name": "stdin",
     "output_type": "stream",
     "text": [
      "Enter no of test cases:  2\n",
      "Enter the radius:  5\n"
     ]
    },
    {
     "name": "stdout",
     "output_type": "stream",
     "text": [
      "78.54\n"
     ]
    },
    {
     "name": "stdin",
     "output_type": "stream",
     "text": [
      "Enter the radius:  6\n"
     ]
    },
    {
     "name": "stdout",
     "output_type": "stream",
     "text": [
      "113.1\n"
     ]
    }
   ],
   "source": [
    "n = int(input(\"Enter no of test cases: \"))\n",
    "\n",
    "def circle_area(r):\n",
    "    ans = 3.14159*(r**2)\n",
    "    print(round(ans,2))\n",
    "\n",
    "for i in range(n):\n",
    "    r = int(input(\"Enter the radius: \"))\n",
    "    circle_area(r)    "
   ]
  },
  {
   "cell_type": "markdown",
   "id": "2c8e8313-f06a-4a3f-9fa2-a2581c56a46b",
   "metadata": {
    "jp-MarkdownHeadingCollapsed": true,
    "tags": []
   },
   "source": [
    "#### Question 4"
   ]
  },
  {
   "cell_type": "markdown",
   "id": "86593896-031e-4b29-9a00-a0f6e9c07e55",
   "metadata": {
    "tags": []
   },
   "source": [
    "    Given an integer n, write a program to print the sum of squares of first n natural numbers in integer format.\n",
    "\n",
    "    Note1:\n",
    "    The formula for the sum of squares of first n natural numbers is: n(n+1)(2n+1)/6\n",
    "    \n",
    "    Note2:\n",
    "    You need not take input in this problem, only implement the function provided.\n",
    "\n",
    "    Problem Constraints:\n",
    "    1 <= N <= 100\n",
    "\n",
    "    Input Format:\n",
    "    The first line indicates the number of test cases.\n",
    "    For each testcase there will be a single line of input with an integer representing n for that testcase.\n",
    "\n",
    "    Output Format:\n",
    "    Sum of squares of n natural numbers in integer format\n",
    "\n",
    "    Sample Input:\n",
    "    1\n",
    "    6\n",
    "\n",
    "    Sample Output:\n",
    "    91\n",
    "\n",
    "    Sample explanation:\n",
    "    According to the formula sum of first 6 natural numbers is 6*(6+1)(12+1)/6=91"
   ]
  },
  {
   "cell_type": "markdown",
   "id": "bbfc992d-1472-4fa7-b126-c1c89f8c39c4",
   "metadata": {
    "jp-MarkdownHeadingCollapsed": true,
    "tags": []
   },
   "source": [
    "##### Solution Submitted"
   ]
  },
  {
   "cell_type": "code",
   "execution_count": 23,
   "id": "7a677114-2310-4900-90e3-c6ad653dc458",
   "metadata": {},
   "outputs": [],
   "source": [
    "def sum_squares(n):\n",
    "    ans =  n*(n+1)*((2*n)+1)/6\n",
    "    return int(ans)"
   ]
  },
  {
   "cell_type": "markdown",
   "id": "419d8440-c56d-4a87-b965-26dc25b1597b",
   "metadata": {
    "jp-MarkdownHeadingCollapsed": true,
    "tags": []
   },
   "source": [
    "##### Full Solution"
   ]
  },
  {
   "cell_type": "code",
   "execution_count": 24,
   "id": "fc569f9a-ae9f-4eb8-a425-c1deabaa9984",
   "metadata": {},
   "outputs": [
    {
     "name": "stdin",
     "output_type": "stream",
     "text": [
      "Enter no of test cases:  2\n",
      "Enter the integer:  6\n"
     ]
    },
    {
     "name": "stdout",
     "output_type": "stream",
     "text": [
      "91\n"
     ]
    },
    {
     "name": "stdin",
     "output_type": "stream",
     "text": [
      "Enter the integer:  10\n"
     ]
    },
    {
     "name": "stdout",
     "output_type": "stream",
     "text": [
      "385\n"
     ]
    }
   ],
   "source": [
    "t = int(input(\"Enter no of test cases: \"))\n",
    "\n",
    "def sum_square(n):\n",
    "    ans =  n*(n+1)*((2*n)+1)/6\n",
    "    print (int(ans))\n",
    "    \n",
    "for i in range(t):\n",
    "    n = int(input(\"Enter the integer: \"))\n",
    "    sum_square(n)"
   ]
  },
  {
   "cell_type": "markdown",
   "id": "8d921c65-5d9e-4627-8381-6015a252bb21",
   "metadata": {
    "jp-MarkdownHeadingCollapsed": true,
    "tags": []
   },
   "source": [
    "#### Question 5"
   ]
  },
  {
   "cell_type": "markdown",
   "id": "497dcaab-f084-4ba0-92f5-eb541254b55c",
   "metadata": {
    "tags": []
   },
   "source": [
    "What is the output of the following function call?\n",
    "\n",
    "    def 1f(num):\n",
    "        return num + 55\n",
    "    1f(5)\n",
    "    print(num)"
   ]
  },
  {
   "cell_type": "markdown",
   "id": "10ffb71a-791a-4207-b530-328673d37c8a",
   "metadata": {
    "jp-MarkdownHeadingCollapsed": true,
    "tags": []
   },
   "source": [
    "##### Solution Submitted"
   ]
  },
  {
   "cell_type": "code",
   "execution_count": null,
   "id": "94d2835a-0640-426e-a8b1-05ec51a4a843",
   "metadata": {},
   "outputs": [],
   "source": []
  },
  {
   "cell_type": "markdown",
   "id": "19d83857-56d5-4da0-860c-7636a3a54ccb",
   "metadata": {
    "tags": []
   },
   "source": [
    "##### Solution"
   ]
  },
  {
   "cell_type": "markdown",
   "id": "f7ef8600-e084-4283-a572-6a4182815307",
   "metadata": {},
   "source": [
    "Invalid function name. Hence will generate error."
   ]
  },
  {
   "cell_type": "markdown",
   "id": "c1cf9ae1-d66a-4955-a344-4057dfd6b952",
   "metadata": {
    "jp-MarkdownHeadingCollapsed": true,
    "tags": []
   },
   "source": [
    "#### Question 7"
   ]
  },
  {
   "cell_type": "markdown",
   "id": "76eb79ff-3f02-40a8-bc30-3b3eb1764f53",
   "metadata": {
    "tags": []
   },
   "source": [
    "    You are given a lowercase latin alphabetic character C. You have to tell whether it is a vowel or not.\n",
    "\n",
    "    Problem Constraints:\n",
    "    C ∈ ['a' - 'z']\n",
    "\n",
    "    Input Format:\n",
    "    The input consists of a single character C.\n",
    "\n",
    "    Output Format:\n",
    "    Return 1 if the given character is a vowel, else return 0.\n",
    "\n",
    "    Example Input 1:\n",
    "    a \n",
    "    \n",
    "    Example Onput 1:\n",
    "    1 \n",
    "    \n",
    "    Explanation:\n",
    "    since, 'a' is a vowel."
   ]
  },
  {
   "cell_type": "markdown",
   "id": "2bdd150a-9f94-4b0a-86d0-56ac71996674",
   "metadata": {
    "jp-MarkdownHeadingCollapsed": true,
    "tags": []
   },
   "source": [
    "##### Solution Submitted"
   ]
  },
  {
   "cell_type": "code",
   "execution_count": 27,
   "id": "1e47c83c-754f-49bd-8815-e96f67941fda",
   "metadata": {},
   "outputs": [],
   "source": [
    "def isvowel(C):\n",
    "    if C=='a' or C=='e' or C=='i' or C=='o' or C=='u':\n",
    "        print(\"1\")\n",
    "    else:\n",
    "        print(\"0\")\n",
    "    return ans"
   ]
  },
  {
   "cell_type": "markdown",
   "id": "a14b7ec1-9889-4515-99a2-34b1aef2c4e4",
   "metadata": {
    "jp-MarkdownHeadingCollapsed": true,
    "tags": []
   },
   "source": [
    "##### Full Solution "
   ]
  },
  {
   "cell_type": "code",
   "execution_count": 26,
   "id": "0e0746e0-7680-42e3-9eba-19d1e786cf94",
   "metadata": {},
   "outputs": [
    {
     "name": "stdin",
     "output_type": "stream",
     "text": [
      "Enter the alphabet:  A\n"
     ]
    },
    {
     "name": "stdout",
     "output_type": "stream",
     "text": [
      "1\n"
     ]
    }
   ],
   "source": [
    "C= input(\"Enter the alphabet: \")\n",
    "C= C.lower()     \n",
    "     \n",
    "def isVowel(C):\n",
    "     if C=='a' or C=='e' or C=='i' or C=='o' or C=='u':\n",
    "        print(\"1\")\n",
    "     else:\n",
    "        print(\"0\")\n",
    "\n",
    "isVowel(C)"
   ]
  },
  {
   "cell_type": "markdown",
   "id": "56c6588d-2159-4db1-89a2-ea08220e9085",
   "metadata": {
    "tags": []
   },
   "source": [
    "### Day 15: Functions 2"
   ]
  },
  {
   "cell_type": "markdown",
   "id": "95c7bb96-913b-40c1-a694-fb3a5a8faa55",
   "metadata": {
    "jp-MarkdownHeadingCollapsed": true,
    "tags": []
   },
   "source": [
    "#### Question 1"
   ]
  },
  {
   "cell_type": "markdown",
   "id": "0e88ec80-ed69-4766-8a9e-b5973a64923b",
   "metadata": {},
   "source": [
    "    Given three integers, A, B and C. You have to find the number of days it will take to reach zero cases of Corona in a city.\n",
    "    A - Average cases recovered in a day of the corona.\n",
    "    B - Number of new cases of corona daily.\n",
    "    C - Current active cases of the corona.\n",
    "    \n",
    "    Return the minimum number of days it will take to reach 0 active cases of Covid.\n",
    "\n",
    "    Problem Constraints\n",
    "    1 <= B < A <= 5000\n",
    "    1 <= C <= 1000\n",
    "\n",
    "    Input Format\n",
    "    The first argument will be integer A, which denotes the recovered cases in a day.\n",
    "    The second argument will be integer B, which denotes the new cases in a day.\n",
    "    The third argument will be integer C, which denotes the currently active cases.\n",
    "\n",
    "    Output Format\n",
    "    Return an integer which denotes the minimum days to reach 0 cases.\n",
    "\n",
    "    Input 1:\n",
    "    A = 5\n",
    "    B = 3\n",
    "    C = 1\n",
    "\n",
    "    Output 1:\n",
    "    1"
   ]
  },
  {
   "cell_type": "markdown",
   "id": "9656bd94-5cdc-4eef-b20c-a8cb18f309b4",
   "metadata": {
    "jp-MarkdownHeadingCollapsed": true,
    "tags": []
   },
   "source": [
    "##### Solution Submitted"
   ]
  },
  {
   "cell_type": "code",
   "execution_count": 28,
   "id": "4cfb78a4-e6f6-4144-aba8-d5fbdd4613fa",
   "metadata": {},
   "outputs": [],
   "source": [
    "def solve(A, B, C):\n",
    "    count = 1\n",
    "    while C+(B-A)>0:\n",
    "        count +=1\n",
    "        C = C+(B-A)\n",
    "    return count"
   ]
  },
  {
   "cell_type": "code",
   "execution_count": 29,
   "id": "b99ea23b-075d-4c0a-bd08-cd834984fd18",
   "metadata": {},
   "outputs": [
    {
     "data": {
      "text/plain": [
       "9"
      ]
     },
     "execution_count": 29,
     "metadata": {},
     "output_type": "execute_result"
    }
   ],
   "source": [
    "solve(36,35,9)"
   ]
  },
  {
   "cell_type": "markdown",
   "id": "48131c87-3182-4015-9799-5938586549d6",
   "metadata": {
    "jp-MarkdownHeadingCollapsed": true,
    "tags": []
   },
   "source": [
    "#### Question 2"
   ]
  },
  {
   "cell_type": "markdown",
   "id": "aab3f157-5498-4a8c-babe-6b85074beef7",
   "metadata": {},
   "source": [
    "    You are given a function that takes an integer argument A. Return 1 if A is a perfect square otherwise return 0.\n",
    "\n",
    "    Problem Constraints\n",
    "    1 <= A <= 108\n",
    "\n",
    "    Input Format\n",
    "    First argument is an integer A.\n",
    "\n",
    "    Output Format\n",
    "    Return an integer (0 or 1) based upon the question.\n",
    "\n",
    "    Input 1:\n",
    "    A = 4\n",
    "\n",
    "    Input 2:\n",
    "    A = 1001\n",
    "\n",
    "    Output 1:\n",
    "    1\n",
    "\n",
    "    Output 2:\n",
    "    0"
   ]
  },
  {
   "cell_type": "markdown",
   "id": "3de65fa7-2a2b-49fe-97d1-a3ae562b0129",
   "metadata": {
    "jp-MarkdownHeadingCollapsed": true,
    "tags": []
   },
   "source": [
    "##### Solution Submitted"
   ]
  },
  {
   "cell_type": "code",
   "execution_count": 30,
   "id": "3330088a-074b-4e8f-9920-3baba74fc0ba",
   "metadata": {},
   "outputs": [],
   "source": [
    "def solve(A):\n",
    "    for i in range(1,A+1):\n",
    "        if i**2==A:\n",
    "            return 1\n",
    "        elif i**2>A:\n",
    "            return 0"
   ]
  },
  {
   "cell_type": "code",
   "execution_count": 31,
   "id": "870a9cc8-1b8f-42d7-894e-95a56108530b",
   "metadata": {},
   "outputs": [
    {
     "data": {
      "text/plain": [
       "1"
      ]
     },
     "execution_count": 31,
     "metadata": {},
     "output_type": "execute_result"
    }
   ],
   "source": [
    "solve(121)"
   ]
  },
  {
   "cell_type": "markdown",
   "id": "31fdfe00-3ffd-4d0b-96f4-2fbd3e251588",
   "metadata": {
    "jp-MarkdownHeadingCollapsed": true,
    "tags": []
   },
   "source": [
    "#### Question 3**"
   ]
  },
  {
   "cell_type": "markdown",
   "id": "2b82d7a8-c192-4746-b242-a82a500ccea7",
   "metadata": {},
   "source": [
    "    Given an integer A, find the rounded value of real number A/200.\n",
    "\n",
    "    Rounded value of a real number X is the integer which is nearest to X, with halfway cases rounded away from zero.\n",
    "\n",
    "    Some examples:\n",
    "    Rounded value of 2.4 = 2\n",
    "    Rounded value of 2.5 = 3\n",
    "    Rounded value of 2.6 = 3\n",
    "    Rounded value of 0.0 = 0\n",
    "    Rounded value of -2.4 = -2\n",
    "    Rounded value of -2.5 = -3\n",
    "    Rounded value of -2.6 = -3\n",
    "\n",
    "    Problem Constraints\n",
    "    -108 <= A <= 108\n",
    "\n",
    "    Input Format\n",
    "    First and only argument is an integer A.\n",
    "\n",
    "    Output Format\n",
    "    Return an integer denoting the rounded value of real number A / 200.\n",
    "\n",
    "    Input 1:\n",
    "    A = 500 \n",
    "\n",
    "    Output 1:\n",
    "    3"
   ]
  },
  {
   "cell_type": "markdown",
   "id": "2f1640d4-544a-448b-9231-aca7352b2c9d",
   "metadata": {
    "jp-MarkdownHeadingCollapsed": true,
    "tags": []
   },
   "source": [
    "##### Solution Submitted"
   ]
  },
  {
   "cell_type": "code",
   "execution_count": 32,
   "id": "811f5920-837f-414c-8179-55c8ae4cb481",
   "metadata": {},
   "outputs": [],
   "source": [
    "import math\n",
    "def solve(A):\n",
    "    A = A/200\n",
    "    if A>=0:\n",
    "        return math.floor(A+0.5)\n",
    "    elif A<0:\n",
    "        return math.ceil(A-0.5)"
   ]
  },
  {
   "cell_type": "code",
   "execution_count": 33,
   "id": "c290402f-47a2-441b-bfb8-c90e2e5c8f10",
   "metadata": {},
   "outputs": [
    {
     "data": {
      "text/plain": [
       "0"
      ]
     },
     "execution_count": 33,
     "metadata": {},
     "output_type": "execute_result"
    }
   ],
   "source": [
    "solve(0)"
   ]
  },
  {
   "cell_type": "code",
   "execution_count": 34,
   "id": "0338d915-5aa6-4bef-9732-6e64be32eee6",
   "metadata": {},
   "outputs": [
    {
     "data": {
      "text/plain": [
       "-3"
      ]
     },
     "execution_count": 34,
     "metadata": {},
     "output_type": "execute_result"
    }
   ],
   "source": [
    "solve(-500)"
   ]
  },
  {
   "cell_type": "markdown",
   "id": "02eae2c5-4dd4-4ba2-a2dd-ecd7998e3e05",
   "metadata": {
    "jp-MarkdownHeadingCollapsed": true,
    "tags": []
   },
   "source": [
    "#### Question 4"
   ]
  },
  {
   "cell_type": "markdown",
   "id": "b050d8c2-1fcf-449c-b006-0f8620bc3705",
   "metadata": {},
   "source": [
    "    Given a number A. Return square root of the number if it is perfect square otherwise return -1.\n",
    "\n",
    "    Problem Constraints\n",
    "    1 <= A <= 108\n",
    "\n",
    "    Input Format\n",
    "    First and the only argument is an integer A.\n",
    "\n",
    "    Output Format\n",
    "    Return an integer which is the square root of A if A is perfect square otherwise return -1.\n",
    "\n",
    "    Input 1:\n",
    "    A = 4\n",
    "\n",
    "    Input 2:\n",
    "    A = 1001\n",
    "\n",
    "    Output 1:\n",
    "    2\n",
    "\n",
    "    Output 2:\n",
    "    -1"
   ]
  },
  {
   "cell_type": "markdown",
   "id": "00decd43-00e0-454b-bfdd-8e652ed35f8c",
   "metadata": {
    "jp-MarkdownHeadingCollapsed": true,
    "tags": []
   },
   "source": [
    "##### Solution Submitted"
   ]
  },
  {
   "cell_type": "code",
   "execution_count": 35,
   "id": "21f1397c-f437-4598-a7be-61532ca3a7b4",
   "metadata": {},
   "outputs": [],
   "source": [
    "def solve(A):\n",
    "    for i in range(1,A+1):\n",
    "        if i**2==A:\n",
    "            return i\n",
    "        elif i**2>A:\n",
    "            return -1"
   ]
  },
  {
   "cell_type": "code",
   "execution_count": 36,
   "id": "27295b3f-de84-431f-9561-edf3732306c8",
   "metadata": {},
   "outputs": [
    {
     "data": {
      "text/plain": [
       "11"
      ]
     },
     "execution_count": 36,
     "metadata": {},
     "output_type": "execute_result"
    }
   ],
   "source": [
    "solve(121)"
   ]
  },
  {
   "cell_type": "markdown",
   "id": "e386588b-9a7f-4042-8262-a6ccd153153e",
   "metadata": {
    "tags": []
   },
   "source": [
    "### Day 16: Lists - 1D"
   ]
  },
  {
   "cell_type": "markdown",
   "id": "c6e339cc-7886-4841-a19e-65c362d453a6",
   "metadata": {
    "jp-MarkdownHeadingCollapsed": true,
    "tags": []
   },
   "source": [
    "#### Question 1"
   ]
  },
  {
   "cell_type": "markdown",
   "id": "a37792a1-af4d-425f-8226-ec02c24c2998",
   "metadata": {},
   "source": [
    "    Write a program to find the difference between the sum of all even elements and the sum of all odd elements from the given list.\n",
    "\n",
    "    Input Format:\n",
    "    A list containing integers.\n",
    "    \n",
    "    Output Format:\n",
    "    The difference of the even and odd elements sum in integer format.\n",
    "    \n",
    "    Sample Input:\n",
    "    56 63 87 24 32 13 15 19 44 52\n",
    "    \n",
    "    Sample Output:\n",
    "    11\n",
    "    \n",
    "    Sample explanation:\n",
    "    The sum of even elements is: 56 + 24 + 32 + 44 + 52 = 208. \n",
    "    The sum of odd elements is: 63 + 87 + 13 + 15 + 19 = 197. \n",
    "    Difference between even elements and odd elements sum is 208 - 197 = 11."
   ]
  },
  {
   "cell_type": "markdown",
   "id": "61001235-9d86-4ad5-93ef-05da546b0183",
   "metadata": {
    "jp-MarkdownHeadingCollapsed": true,
    "tags": []
   },
   "source": [
    "##### Solution Submitted"
   ]
  },
  {
   "cell_type": "code",
   "execution_count": 37,
   "id": "988a5dee-6021-4f49-a188-b7bb08bc5cd1",
   "metadata": {},
   "outputs": [],
   "source": [
    "a = [56,63,87,24,32,13,15,19,44,52]\n",
    "\n",
    "def even_odd(lst):\n",
    "    sum_even= 0\n",
    "    sum_odd = 0\n",
    "    diff = 0\n",
    "    for i in range(len(lst)):\n",
    "        if lst[i]%2==0:\n",
    "            sum_even+=lst[i]\n",
    "        if lst[i]%2!=0:\n",
    "            sum_odd+=lst[i]\n",
    "    diff=sum_even - sum_odd\n",
    "    return diff            "
   ]
  },
  {
   "cell_type": "code",
   "execution_count": 38,
   "id": "7582be5f-13a4-47d8-8b1c-c26bb8a34b5c",
   "metadata": {},
   "outputs": [
    {
     "data": {
      "text/plain": [
       "11"
      ]
     },
     "execution_count": 38,
     "metadata": {},
     "output_type": "execute_result"
    }
   ],
   "source": [
    "even_odd(a)"
   ]
  },
  {
   "cell_type": "markdown",
   "id": "8eec0a8c-302e-41f4-9f05-02affc821a6b",
   "metadata": {
    "jp-MarkdownHeadingCollapsed": true,
    "tags": []
   },
   "source": [
    "#### Question 2"
   ]
  },
  {
   "cell_type": "markdown",
   "id": "12f95a53-242d-4dec-8cba-2202bcc3fb3f",
   "metadata": {},
   "source": [
    "    Write a program to print sum of elements of the input array A of size N.\n",
    "    Input Format\n",
    "    A list of length N\n",
    "\n",
    "    Output Format\n",
    "    A single integer containing sum of elements from the input array.\n",
    "\n",
    "    Input 1:\n",
    "    5 1 2 3 4 5\n",
    "\n",
    "    Output 1:\n",
    "    15"
   ]
  },
  {
   "cell_type": "markdown",
   "id": "14ae6e57-ec61-424e-8656-c237983d7da8",
   "metadata": {
    "jp-MarkdownHeadingCollapsed": true,
    "tags": []
   },
   "source": [
    "##### Solution Submitted"
   ]
  },
  {
   "cell_type": "code",
   "execution_count": 39,
   "id": "ac26fa42-c05e-4666-85f1-8f76ab6f1e66",
   "metadata": {},
   "outputs": [],
   "source": [
    "X = [1, 2, 3, 4, 5]\n",
    "\n",
    "def calculate_sum(input_list):           \n",
    "    SUM = 0\n",
    "    for i in input_list:\n",
    "        SUM+=i\n",
    "    return SUM\n",
    "      "
   ]
  },
  {
   "cell_type": "code",
   "execution_count": 40,
   "id": "bfb708c6-d9ba-4d31-93e6-3f608cc36201",
   "metadata": {},
   "outputs": [
    {
     "data": {
      "text/plain": [
       "15"
      ]
     },
     "execution_count": 40,
     "metadata": {},
     "output_type": "execute_result"
    }
   ],
   "source": [
    "calculate_sum(X)"
   ]
  },
  {
   "cell_type": "markdown",
   "id": "ec6a7555-d2cd-4577-b517-c7ed81f2fe06",
   "metadata": {
    "tags": []
   },
   "source": [
    "### Day 17: List Slicing**"
   ]
  },
  {
   "cell_type": "markdown",
   "id": "2cebee5b-e01d-408f-8d60-85cd2b17fd25",
   "metadata": {
    "jp-MarkdownHeadingCollapsed": true,
    "tags": []
   },
   "source": [
    "#### Question 1"
   ]
  },
  {
   "cell_type": "markdown",
   "id": "f0bb68cd-629a-4206-8d16-ec1bd39b2b9d",
   "metadata": {},
   "source": [
    "    Write a program that returns the list of elements that are present in the given list and are divisible by 5 and 7.\n",
    "\n",
    "    Input Format:\n",
    "    The only argument is the given list of elements\n",
    "    \n",
    "    Output Format:\n",
    "    Return a list consisiting of the elements that are divisible by 5 and 7 from the given list.\n",
    "    \n",
    "    Sample Input:\n",
    "    [23, 34, 25, 35, 66, 70, 14]\n",
    "    \n",
    "    Sample Output:\n",
    "    [35, 70]\n",
    "    \n",
    "    Sample explanation:\n",
    "    Only 35 and 70 are divisible by 5 and 7 from the list [23,34,25,35,66,70,14] \n",
    "    therefore the list consisting of only these two elements is returned."
   ]
  },
  {
   "cell_type": "markdown",
   "id": "7feba95b-995b-420d-ae5d-67eb26f1594b",
   "metadata": {
    "jp-MarkdownHeadingCollapsed": true,
    "tags": []
   },
   "source": [
    "##### Solution Submitted"
   ]
  },
  {
   "cell_type": "code",
   "execution_count": 41,
   "id": "d277c6d4-55e7-4862-8990-f92e75ab53e7",
   "metadata": {},
   "outputs": [],
   "source": [
    "def divisible(lst):\n",
    "    elements = []\n",
    "    for i in lst:\n",
    "        if i%5==0 and i%7==0:\n",
    "            elements.append(i)\n",
    "    return elements"
   ]
  },
  {
   "cell_type": "code",
   "execution_count": 42,
   "id": "3f21117b-629c-470a-af0d-ba69060d6d36",
   "metadata": {},
   "outputs": [
    {
     "data": {
      "text/plain": [
       "[35, 70]"
      ]
     },
     "execution_count": 42,
     "metadata": {},
     "output_type": "execute_result"
    }
   ],
   "source": [
    "# Output\n",
    "lst =[23, 34, 25, 35, 66, 70, 14]\n",
    "divisible(lst)"
   ]
  },
  {
   "cell_type": "markdown",
   "id": "409f2697-0380-4bf6-84c2-b1b07d0e871c",
   "metadata": {
    "tags": []
   },
   "source": [
    "#### Question 2**"
   ]
  },
  {
   "cell_type": "markdown",
   "id": "b791f1a4-ed4d-4933-9433-bdb630bfb131",
   "metadata": {},
   "source": [
    "    You are given an integer array A. You have to find the second largest element/value in the array or report that no such element exists.\n",
    "\n",
    "    Problem Constraints\n",
    "    1 <= |A| <= 105\n",
    "    0 <= A[i] <= 109\n",
    "\n",
    "    Input Format\n",
    "    The first argument is an integer array A.\n",
    "\n",
    "    Output Format\n",
    "    Return the second largest element. If no such element exist then return -1.\n",
    "\n",
    "    Input 1:\n",
    "     A = [2, 1, 2] \n",
    "     \n",
    "    Input 2:\n",
    "     A = [2]\n",
    "\n",
    "    Output 1:\n",
    "     1 \n",
    "     \n",
    "    Output 2:\n",
    "     -1 \n",
    "\n",
    "    Explanation 1:\n",
    "\n",
    "     First largest element = 2\n",
    "     Second largest element = 1\n",
    "    Explanation 2:\n",
    "\n",
    "     There is no second largest element in the array."
   ]
  },
  {
   "cell_type": "markdown",
   "id": "85f51ad7-cf0d-43e4-8654-db766d8ddfe1",
   "metadata": {
    "tags": []
   },
   "source": [
    "##### Solution Submitted"
   ]
  },
  {
   "cell_type": "code",
   "execution_count": 57,
   "id": "66fd14c6-d3fe-4385-886f-0101f3f786a4",
   "metadata": {},
   "outputs": [],
   "source": [
    "def solve(A):\n",
    "    if len(A)==1:\n",
    "        return -1\n",
    "    \n",
    "    if A[0]>=A[1]:\n",
    "        X = A[0]\n",
    "        Y = A[1]\n",
    "    else:\n",
    "        X = A[1]\n",
    "        Y = A[0]    \n",
    "    for i in range(len(A)):\n",
    "        if A[i]>X:\n",
    "            Y = X\n",
    "            X = A[i]\n",
    "        elif A[i]<X:\n",
    "            if X==Y:\n",
    "                Y =A[i]\n",
    "            elif A[i]>Y:\n",
    "                Y = A[i]\n",
    "    if X ==Y:\n",
    "        return -1\n",
    "    return Y"
   ]
  },
  {
   "cell_type": "code",
   "execution_count": 60,
   "id": "0ace4723-9588-4bc0-a93a-9ebd0e961b50",
   "metadata": {},
   "outputs": [
    {
     "data": {
      "text/plain": [
       "-2"
      ]
     },
     "execution_count": 60,
     "metadata": {},
     "output_type": "execute_result"
    }
   ],
   "source": [
    "# Output\n",
    "A = [ 10, 10, 9, 8, 1 ]\n",
    "#A = [4,2,3,7,2,5,6,5,8]\n",
    "#A = [2,1,3,5,4,3] \n",
    "#A = [4]\n",
    "#A = [ 13, 7, 16, 18, 14, 17, 18, 8, 10 ]\n",
    "#A=[4,4,4,4]\n",
    "A = [ 13, 7, 16, -5, -3,-4,-6,-5,-5, 18, 14, 17, 18,-2, 8, 10 ]\n",
    "A =[-5,-7,-8,-2,-5,-1,-3]\n",
    "solve(A)"
   ]
  },
  {
   "cell_type": "markdown",
   "id": "7cb7ff57-2abe-43fd-8d87-3cd68cc025b7",
   "metadata": {
    "tags": []
   },
   "source": [
    "##### Alternative Approach"
   ]
  },
  {
   "cell_type": "code",
   "execution_count": null,
   "id": "fa4481ef-2a5b-44ba-88c9-7c644cfb6383",
   "metadata": {},
   "outputs": [],
   "source": [
    "def second_largest(A):\n",
    "    "
   ]
  },
  {
   "cell_type": "markdown",
   "id": "ad71c5dc-3bc2-436a-9a80-dd86b2559a8b",
   "metadata": {},
   "source": [
    "Alternatively, we can use problem constraints also to solve it. But in that case it will not be valid for negative values"
   ]
  },
  {
   "cell_type": "markdown",
   "id": "d8eed372-47ef-4ec5-adce-bf44a6714f79",
   "metadata": {
    "tags": []
   },
   "source": [
    "#### Question 3"
   ]
  },
  {
   "cell_type": "markdown",
   "id": "319a085f-847a-485d-b5c5-35ce2f265f59",
   "metadata": {},
   "source": [
    "    Given array A, find the difference between the maximum and minimum element of the array. Return the difference between the maximum and minimum element of the array.\n",
    "\n",
    "    Input Format\n",
    "    Single line input containing space seprated integers.\n",
    "    The first value in input is the length of the array A.\n",
    "    The following integers after the first number are the elements of the array A.\n",
    "\n",
    "    Output Format\n",
    "    Return an integer, which denotes the difference between maximum and minimum element of the array.\n",
    "\n",
    "    Input 1:\n",
    "    4 1 9 10 3\n",
    "\n",
    "    Output 1:\n",
    "    9\n",
    "\n",
    "    Explanation 1:\n",
    "    Maximum element of the array A is 10 and minimum element of the array A is 1.\n",
    "    So, difference will be 9."
   ]
  },
  {
   "cell_type": "markdown",
   "id": "31cbd9ac-ba56-4fa3-b585-3ec7388c379e",
   "metadata": {
    "jp-MarkdownHeadingCollapsed": true,
    "tags": []
   },
   "source": [
    "##### Solution Submitted"
   ]
  },
  {
   "cell_type": "code",
   "execution_count": 45,
   "id": "b16344dd-8572-4ce6-9287-c25fc3f3b73b",
   "metadata": {},
   "outputs": [],
   "source": [
    "def solve(A):\n",
    "    MAX=A[0]\n",
    "    MIN= A[0]\n",
    "    for i in range(len(A)):\n",
    "        if A[i] > MAX:\n",
    "            MAX= A[i]\n",
    "        if A[i] < MIN:\n",
    "            MIN = A[i]\n",
    "    return MAX-MIN         "
   ]
  },
  {
   "cell_type": "code",
   "execution_count": 46,
   "id": "28d81277-06a1-4087-83d2-f4c7b0dc5f45",
   "metadata": {},
   "outputs": [
    {
     "data": {
      "text/plain": [
       "9"
      ]
     },
     "execution_count": 46,
     "metadata": {},
     "output_type": "execute_result"
    }
   ],
   "source": [
    "# Output\n",
    "A = [ 1, 9, 10, 3]\n",
    "solve(A)"
   ]
  },
  {
   "cell_type": "markdown",
   "id": "4d902bcc-969b-48a9-b2e0-af60802e1a98",
   "metadata": {
    "jp-MarkdownHeadingCollapsed": true,
    "tags": []
   },
   "source": [
    "#### Question 4"
   ]
  },
  {
   "cell_type": "markdown",
   "id": "b9a46832-b151-4808-819a-0295bbb5e3c3",
   "metadata": {},
   "source": [
    "    Which of the options adds the elements 'Dhoni' and 'Virat' to the end of the given list?\n",
    "\n",
    "    players = ['Jadeja','Rahul','Rohit'].\n",
    "    \n",
    "    So, the resultant list will be players = ['Jadeja','Rahul','Rohit','Dhoni','Virat'].\n",
    "    \n",
    "    Options:\n",
    "    players+='Dhoni Virat'\n",
    "    players[len(players):] = ['Dhoni', 'Virat']\n",
    "    players[-1:] = ['Dhoni', 'Virat']\n",
    "    players+=['Dhoni', 'Virat']"
   ]
  },
  {
   "cell_type": "markdown",
   "id": "f4a653e3-6f7d-415d-8b28-0e64a8cf7e93",
   "metadata": {
    "jp-MarkdownHeadingCollapsed": true,
    "tags": []
   },
   "source": [
    "##### Solution"
   ]
  },
  {
   "cell_type": "code",
   "execution_count": 47,
   "id": "02fac758-2104-4ad1-aef2-ec4045a79619",
   "metadata": {},
   "outputs": [],
   "source": [
    "players = ['Jadeja','Rahul','Rohit']"
   ]
  },
  {
   "cell_type": "code",
   "execution_count": 48,
   "id": "8b43b331-3e2c-4ea2-b174-d668c13c54b1",
   "metadata": {},
   "outputs": [
    {
     "data": {
      "text/plain": [
       "['Jadeja',\n",
       " 'Rahul',\n",
       " 'Rohit',\n",
       " 'D',\n",
       " 'h',\n",
       " 'o',\n",
       " 'n',\n",
       " 'i',\n",
       " ' ',\n",
       " 'V',\n",
       " 'i',\n",
       " 'r',\n",
       " 'a',\n",
       " 't']"
      ]
     },
     "execution_count": 48,
     "metadata": {},
     "output_type": "execute_result"
    }
   ],
   "source": [
    "players = ['Jadeja','Rahul','Rohit']\n",
    "players+='Dhoni Virat'\n",
    "players"
   ]
  },
  {
   "cell_type": "code",
   "execution_count": 49,
   "id": "3c5421f4-4037-401e-995b-9189773269fd",
   "metadata": {},
   "outputs": [
    {
     "data": {
      "text/plain": [
       "['Jadeja', 'Rahul', 'Rohit', 'Dhoni', 'Virat']"
      ]
     },
     "execution_count": 49,
     "metadata": {},
     "output_type": "execute_result"
    }
   ],
   "source": [
    "players = ['Jadeja','Rahul','Rohit']\n",
    "players[len(players):] = ['Dhoni', 'Virat']\n",
    "players"
   ]
  },
  {
   "cell_type": "code",
   "execution_count": 50,
   "id": "64ad0867-795c-4940-9b31-3c3f561b86f3",
   "metadata": {},
   "outputs": [
    {
     "data": {
      "text/plain": [
       "['Jadeja', 'Rahul', 'Dhoni', 'Virat']"
      ]
     },
     "execution_count": 50,
     "metadata": {},
     "output_type": "execute_result"
    }
   ],
   "source": [
    "players = ['Jadeja','Rahul','Rohit']\n",
    "players[-1:] = ['Dhoni', 'Virat']\n",
    "players"
   ]
  },
  {
   "cell_type": "code",
   "execution_count": 51,
   "id": "4323201e-0b1e-4347-83e3-0b53756228e3",
   "metadata": {},
   "outputs": [
    {
     "data": {
      "text/plain": [
       "['Jadeja', 'Rahul', 'Rohit', 'Dhoni', 'Virat']"
      ]
     },
     "execution_count": 51,
     "metadata": {},
     "output_type": "execute_result"
    }
   ],
   "source": [
    "players = ['Jadeja','Rahul','Rohit']\n",
    "players+=['Dhoni', 'Virat']\n",
    "players"
   ]
  },
  {
   "cell_type": "markdown",
   "id": "5d8d6996-3bc6-48fc-9dcf-b7450cbdd91c",
   "metadata": {
    "jp-MarkdownHeadingCollapsed": true,
    "tags": []
   },
   "source": [
    "#### Question 6"
   ]
  },
  {
   "cell_type": "markdown",
   "id": "279dba09-388a-4a51-9b44-bf4b402a04fe",
   "metadata": {},
   "source": [
    "    What does creating a slice of an object do in Python?\n",
    "    \n",
    "    It creates a new object that contains the result of the slice.\n",
    "    It modifies the existing object such that becomes equal to the result of the slice.\n",
    "    It prints the object after slicing it.\n",
    "    None of the above."
   ]
  },
  {
   "cell_type": "markdown",
   "id": "6c1630ea-149f-4fb1-8dd7-22a37e55947f",
   "metadata": {
    "jp-MarkdownHeadingCollapsed": true,
    "tags": []
   },
   "source": [
    "##### Solution"
   ]
  },
  {
   "cell_type": "markdown",
   "id": "0d88d7d1-ce58-4802-aadb-f2926aa7523f",
   "metadata": {},
   "source": [
    "It creates a new object that contains the result of the slice."
   ]
  },
  {
   "cell_type": "markdown",
   "id": "5b158f1d-05c9-4cf7-bc20-742cd205518e",
   "metadata": {
    "tags": []
   },
   "source": [
    "### Day 19: List 2D"
   ]
  },
  {
   "cell_type": "markdown",
   "id": "f1321c42-0728-4c5b-b28a-d8edb7eb84ea",
   "metadata": {
    "tags": []
   },
   "source": [
    "#### Question 1"
   ]
  },
  {
   "cell_type": "markdown",
   "id": "04367b9c-2828-411c-ac07-9e80959c0631",
   "metadata": {},
   "source": [
    "    You are given a matrix A and and an integer B, you have to perform scalar multiplication of matrix A with an integer B.\n",
    "\n",
    "    Input Format\n",
    "    First argument is 2D array of integers A representing matrix.\n",
    "    Second argument is an integer B.\n",
    "\n",
    "    Output Format\n",
    "    You have to return a 2D array of integers after doing required operations.\n",
    "\n",
    "    Input 1:\n",
    "    A = [[1, 2, 3],[4, 5, 6],[7, 8, 9]]\n",
    "    B = 2 \n",
    "\n",
    "    Output 1:\n",
    "    [[2, 4, 6], [8, 10, 12], [14, 16, 18]]"
   ]
  },
  {
   "cell_type": "markdown",
   "id": "1fdb8618-ccd8-467e-a711-7d4853b14a01",
   "metadata": {
    "jp-MarkdownHeadingCollapsed": true,
    "tags": []
   },
   "source": [
    "##### Solution Submitted"
   ]
  },
  {
   "cell_type": "code",
   "execution_count": null,
   "id": "b883e674-cbe7-448a-90c3-a8bacd4bc755",
   "metadata": {},
   "outputs": [],
   "source": [
    "def solve(A,B):\n",
    "    for i in range(len(A)):\n",
    "        for j in range(len(A[0])):\n",
    "            A[i][j] = A[i][j]*B\n",
    "    return A       "
   ]
  },
  {
   "cell_type": "markdown",
   "id": "e18fa16a-ba3c-4280-9471-e356a7d3a12d",
   "metadata": {
    "jp-MarkdownHeadingCollapsed": true,
    "tags": []
   },
   "source": [
    "##### Solution with input"
   ]
  },
  {
   "cell_type": "code",
   "execution_count": 7,
   "id": "5f8606f1-d860-42e4-afcb-b9cf0cd4f528",
   "metadata": {},
   "outputs": [],
   "source": [
    "def solve(B,x,y):\n",
    "    A =[]\n",
    "    for i in range(x):\n",
    "        list_i = []\n",
    "        for j in range(y):\n",
    "            n = int(input())\n",
    "            list_i.append(n)\n",
    "        A.insert(i,list_i)    \n",
    "        print(A)\n",
    "    \n",
    "    for i in range(len(A)):\n",
    "        for j in range(len(A[0])):\n",
    "            A[i][j] = A[i][j]*B\n",
    "    return A "
   ]
  },
  {
   "cell_type": "code",
   "execution_count": 8,
   "id": "23187139-e860-45ab-b87f-b211f01779bd",
   "metadata": {},
   "outputs": [
    {
     "name": "stdin",
     "output_type": "stream",
     "text": [
      " 1\n",
      " 2\n",
      " 3\n"
     ]
    },
    {
     "name": "stdout",
     "output_type": "stream",
     "text": [
      "[[1, 2, 3]]\n"
     ]
    },
    {
     "name": "stdin",
     "output_type": "stream",
     "text": [
      " 4\n",
      " 5\n",
      " 6\n"
     ]
    },
    {
     "name": "stdout",
     "output_type": "stream",
     "text": [
      "[[1, 2, 3], [4, 5, 6]]\n"
     ]
    },
    {
     "name": "stdin",
     "output_type": "stream",
     "text": [
      " 7\n",
      " 8\n",
      " 9\n"
     ]
    },
    {
     "name": "stdout",
     "output_type": "stream",
     "text": [
      "[[1, 2, 3], [4, 5, 6], [7, 8, 9]]\n"
     ]
    },
    {
     "data": {
      "text/plain": [
       "[[2, 4, 6], [8, 10, 12], [14, 16, 18]]"
      ]
     },
     "execution_count": 8,
     "metadata": {},
     "output_type": "execute_result"
    }
   ],
   "source": [
    "solve(2,3,3)"
   ]
  },
  {
   "cell_type": "markdown",
   "id": "f7a84b2a-ba64-48d9-a61d-4f51b016a328",
   "metadata": {
    "jp-MarkdownHeadingCollapsed": true,
    "tags": []
   },
   "source": [
    "#### Question 3**"
   ]
  },
  {
   "cell_type": "markdown",
   "id": "61b32fe2-fdf4-491c-b188-9f38b78292c4",
   "metadata": {},
   "source": [
    "    You are given two matrices A & B of equal dimensions and you have to check whether two matrices are equal or not.\n",
    "\n",
    "    NOTE: Both matrices are equal if A[i][j] == B[i][j] for all i and j in the given range.\n",
    "\n",
    "    Input Format\n",
    "    First argument is vector of vector of integers representing matrix A.\n",
    "    Second argument is vector of vector of integers representing matrix B.\n",
    "\n",
    "    Output Format\n",
    "    Return 1 if both matrices are equal or return 0.\n",
    "\n",
    "    Input 1:\n",
    "    A = [[1, 2, 3],[4, 5, 6],[7, 8, 9]]\n",
    "    B = [[1, 2, 3],[4, 5, 6],[7, 8, 9]]\n",
    "\n",
    "    Input 2:\n",
    "    A = [[1, 2, 3],[4, 5, 6],[7, 8, 9]]\n",
    "    B = [[1, 2, 3],[7, 8, 9],[4, 5, 6]]\n",
    "\n",
    "\n",
    "    Output 1:\n",
    "    1\n",
    "    Output 2:\n",
    "    0"
   ]
  },
  {
   "cell_type": "markdown",
   "id": "0ef95e98-fb3f-4f94-a4d9-7c2adc93ba1a",
   "metadata": {
    "jp-MarkdownHeadingCollapsed": true,
    "tags": []
   },
   "source": [
    "##### Solution Submitted"
   ]
  },
  {
   "cell_type": "code",
   "execution_count": 9,
   "id": "d967e742-bd38-497c-b40a-4eb7f7a75fa0",
   "metadata": {},
   "outputs": [],
   "source": [
    "def solve(A, B):\n",
    "    for i in range(len(A)):\n",
    "        for j in range(len(A[0])):\n",
    "            if A[i][j] != B[i][j]:\n",
    "                return 0\n",
    "    return 1"
   ]
  },
  {
   "cell_type": "code",
   "execution_count": 10,
   "id": "b8fb0eac-45a2-437d-8408-abe72a61001c",
   "metadata": {},
   "outputs": [
    {
     "data": {
      "text/plain": [
       "1"
      ]
     },
     "execution_count": 10,
     "metadata": {},
     "output_type": "execute_result"
    }
   ],
   "source": [
    "A = [[1, 2, 3],[4, 5, 6],[7, 8, 9]]\n",
    "B = [[1, 2, 3],[4, 5, 6],[7, 8, 9]]\n",
    "\n",
    "solve(A,B)"
   ]
  },
  {
   "cell_type": "code",
   "execution_count": 11,
   "id": "5c54f7a3-3635-45fc-9604-ca64c8726343",
   "metadata": {},
   "outputs": [
    {
     "data": {
      "text/plain": [
       "0"
      ]
     },
     "execution_count": 11,
     "metadata": {},
     "output_type": "execute_result"
    }
   ],
   "source": [
    "A = [[1, 2, 3],[4, 5, 6],[7, 8, 9]]\n",
    "B = [[1, 2, 3],[7, 8, 9],[4, 5, 6]]\n",
    "\n",
    "solve(A,B)"
   ]
  },
  {
   "cell_type": "markdown",
   "id": "bc22ed42-8a32-40e1-af70-1fe4c2e63168",
   "metadata": {
    "jp-MarkdownHeadingCollapsed": true,
    "tags": []
   },
   "source": [
    "#### Question 4"
   ]
  },
  {
   "cell_type": "markdown",
   "id": "33d11735-529b-4e41-a8d0-eebb81694ab2",
   "metadata": {},
   "source": [
    "    You are given a 2D integer matrix A, return a 1D integer array containing row-wise sums of original matrix.\n",
    "\n",
    "    Input Format\n",
    "    First argument A is a 2D array of integers.(2D matrix).\n",
    "\n",
    "    Output Format\n",
    "    Return an array conatining row-wise sums of original matrix.\n",
    "\n",
    "    Input 1:\n",
    "    [1,2,3,4]\n",
    "    [5,6,7,8]\n",
    "    [9,2,3,4]\n",
    "\n",
    "    Output 1:\n",
    "    [10,26,18]\n",
    "\n",
    "    Explanation 1\n",
    "    Row 1 = 1+2+3+4 = 10\n",
    "    Row 2 = 5+6+7+8 = 26\n",
    "    Row 3 = 9+2+3+4 = 18"
   ]
  },
  {
   "cell_type": "markdown",
   "id": "3d4abb24-0599-407f-9764-464f4f161edc",
   "metadata": {
    "jp-MarkdownHeadingCollapsed": true,
    "tags": []
   },
   "source": [
    "##### Solution Submitted"
   ]
  },
  {
   "cell_type": "code",
   "execution_count": 37,
   "id": "bdcfba36-ea53-4a75-976e-ffef1edc7aea",
   "metadata": {},
   "outputs": [],
   "source": [
    "def solve(A):\n",
    "    X = []\n",
    "    for i in range(len(A)):\n",
    "        sum_x=0\n",
    "        for j in range(len(A[0])):\n",
    "            sum_x += A[i][j]\n",
    "        X.append(sum_x)\n",
    "    return X"
   ]
  },
  {
   "cell_type": "code",
   "execution_count": 38,
   "id": "5b6f99ef-2e39-4408-b7e8-6b68376c4ce9",
   "metadata": {},
   "outputs": [
    {
     "data": {
      "text/plain": [
       "[10, 26, 18]"
      ]
     },
     "execution_count": 38,
     "metadata": {},
     "output_type": "execute_result"
    }
   ],
   "source": [
    "m = [[1, 2, 3, 4], [5, 6, 7, 8], [9, 2, 3, 4]]\n",
    "solve(m)"
   ]
  },
  {
   "cell_type": "markdown",
   "id": "60a793e0-33e4-415f-a284-5ac6f7af2ac6",
   "metadata": {
    "jp-MarkdownHeadingCollapsed": true,
    "tags": []
   },
   "source": [
    "##### Solution with input"
   ]
  },
  {
   "cell_type": "code",
   "execution_count": 39,
   "id": "15e4efaf-4a8e-4c7d-b9bc-2d1a2dc83ee9",
   "metadata": {},
   "outputs": [],
   "source": [
    "def solve(x,y):\n",
    "    A =[]\n",
    "    for i in range(x):\n",
    "        list_i = []\n",
    "        for j in range(y):\n",
    "            n = int(input())\n",
    "            list_i.append(n)\n",
    "        A.insert(i,list_i)    \n",
    "        print(A)\n",
    "        \n",
    "    X = []\n",
    "    for i in range(len(A)):\n",
    "        sum_x=0\n",
    "        for j in range(len(A[0])):\n",
    "            sum_x += A[i][j]\n",
    "        X.append(sum_x)\n",
    "    return X"
   ]
  },
  {
   "cell_type": "code",
   "execution_count": 40,
   "id": "a2ba4815-d48e-4d00-9739-77d549619e44",
   "metadata": {},
   "outputs": [
    {
     "name": "stdin",
     "output_type": "stream",
     "text": [
      " 1\n",
      " 2\n",
      " 3\n",
      " 4\n"
     ]
    },
    {
     "name": "stdout",
     "output_type": "stream",
     "text": [
      "[[1, 2, 3, 4]]\n"
     ]
    },
    {
     "name": "stdin",
     "output_type": "stream",
     "text": [
      " 5\n",
      " 6\n",
      " 7\n",
      " 8\n"
     ]
    },
    {
     "name": "stdout",
     "output_type": "stream",
     "text": [
      "[[1, 2, 3, 4], [5, 6, 7, 8]]\n"
     ]
    },
    {
     "name": "stdin",
     "output_type": "stream",
     "text": [
      " 9\n",
      " 2\n",
      " 3\n",
      " 4\n"
     ]
    },
    {
     "name": "stdout",
     "output_type": "stream",
     "text": [
      "[[1, 2, 3, 4], [5, 6, 7, 8], [9, 2, 3, 4]]\n"
     ]
    },
    {
     "data": {
      "text/plain": [
       "[10, 26, 18]"
      ]
     },
     "execution_count": 40,
     "metadata": {},
     "output_type": "execute_result"
    }
   ],
   "source": [
    "solve(3,4)"
   ]
  },
  {
   "cell_type": "markdown",
   "id": "a2878043-a1d6-462b-a403-81ce7b674a98",
   "metadata": {
    "jp-MarkdownHeadingCollapsed": true,
    "tags": []
   },
   "source": [
    "### Day 20: Strings 1"
   ]
  },
  {
   "cell_type": "markdown",
   "id": "8d9e982e-bebc-462b-a880-a267e8a57900",
   "metadata": {
    "jp-MarkdownHeadingCollapsed": true,
    "tags": []
   },
   "source": [
    "#### Question 3 "
   ]
  },
  {
   "cell_type": "markdown",
   "id": "fc8e369b-2d26-4fe2-8ef7-f2c7639d4a16",
   "metadata": {},
   "source": [
    "    You are given lowercase string (A) and you have to tell the count of vowels and consonants in it.\n",
    "\n",
    "    Input Format\n",
    "    First and only argument containing a lowercase string A.\n",
    "\n",
    "    Output Format\n",
    "    You have to return an array of two elements representing count of vowels and consonants in the input string respectively.\n",
    "\n",
    "    Input 1:\n",
    "    interviewbit\n",
    "\n",
    "    Output 1:\n",
    "    [5 7]"
   ]
  },
  {
   "cell_type": "markdown",
   "id": "671ac7bd-51f0-4df9-a29b-8b49716e4cf1",
   "metadata": {
    "jp-MarkdownHeadingCollapsed": true,
    "tags": []
   },
   "source": [
    "##### Solution Submitted"
   ]
  },
  {
   "cell_type": "code",
   "execution_count": 4,
   "id": "b12b1d23-0b71-464f-8d4a-1c1ff5de6c59",
   "metadata": {},
   "outputs": [],
   "source": [
    "def solve(A):\n",
    "    A = A.lower()\n",
    "    count_vowel = 0\n",
    "    count_consonant = 0\n",
    "    for i in A:\n",
    "        if i ==\"a\" or i ==\"e\" or i==\"i\" or i ==\"o\" or i ==\"u\":\n",
    "            count_vowel +=1\n",
    "        else:\n",
    "            count_consonant +=1\n",
    "    return [count_vowel, count_consonant]\n",
    "            "
   ]
  },
  {
   "cell_type": "code",
   "execution_count": 6,
   "id": "8561a4b4-7eb6-4a86-b979-fa8528f713fd",
   "metadata": {},
   "outputs": [
    {
     "data": {
      "text/plain": [
       "[5, 7]"
      ]
     },
     "execution_count": 6,
     "metadata": {},
     "output_type": "execute_result"
    }
   ],
   "source": [
    "A = \"interviewbit\"\n",
    "solve(A)"
   ]
  },
  {
   "cell_type": "markdown",
   "id": "f6256bc0-c034-4076-abbb-50402349051e",
   "metadata": {
    "jp-MarkdownHeadingCollapsed": true,
    "tags": []
   },
   "source": [
    "##### Solution with input"
   ]
  },
  {
   "cell_type": "code",
   "execution_count": 8,
   "id": "cc2684fa-cbc5-4611-806f-4f3d7aa7ce0c",
   "metadata": {},
   "outputs": [],
   "source": [
    "def solve():\n",
    "    A = input()\n",
    "    A = A.lower()\n",
    "    count_vowel = 0\n",
    "    count_consonant = 0\n",
    "    for i in A:\n",
    "        if i ==\"a\" or i ==\"e\" or i==\"i\" or i ==\"o\" or i ==\"u\":\n",
    "            count_vowel +=1\n",
    "        else:\n",
    "            count_consonant +=1\n",
    "    return [count_vowel, count_consonant]"
   ]
  },
  {
   "cell_type": "code",
   "execution_count": 9,
   "id": "46492897-ccfe-43b6-a348-0a94b9e9240c",
   "metadata": {},
   "outputs": [
    {
     "name": "stdin",
     "output_type": "stream",
     "text": [
      " interviewbit\n"
     ]
    },
    {
     "data": {
      "text/plain": [
       "[5, 7]"
      ]
     },
     "execution_count": 9,
     "metadata": {},
     "output_type": "execute_result"
    }
   ],
   "source": [
    "solve()"
   ]
  },
  {
   "cell_type": "markdown",
   "id": "a53f26da-619c-4f19-94ee-09fcbc0fdada",
   "metadata": {
    "jp-MarkdownHeadingCollapsed": true,
    "tags": []
   },
   "source": [
    "#### Question 4"
   ]
  },
  {
   "cell_type": "markdown",
   "id": "54361e8b-6600-4e3e-9fa5-b477c47ff6c7",
   "metadata": {},
   "source": [
    "    You are given lowercase string (A) and you have to return after reversing that.\n",
    "\n",
    "    Input 1:\n",
    "    interviewbit\n",
    "\n",
    "    Output 1:\n",
    "    tibweivretni"
   ]
  },
  {
   "cell_type": "markdown",
   "id": "192d1eeb-60ad-4577-9154-387fc24979f5",
   "metadata": {
    "jp-MarkdownHeadingCollapsed": true,
    "tags": []
   },
   "source": [
    "##### Solution Submitted"
   ]
  },
  {
   "cell_type": "code",
   "execution_count": 10,
   "id": "5b6c6253-f9f9-4ed1-bed6-6ba05fc82e03",
   "metadata": {},
   "outputs": [],
   "source": [
    "def solve(A):\n",
    "    return A[::-1]"
   ]
  },
  {
   "cell_type": "code",
   "execution_count": 12,
   "id": "0c5be56d-1dac-4a4e-a7ca-08e18c22479c",
   "metadata": {},
   "outputs": [
    {
     "data": {
      "text/plain": [
       "'tibweivretni'"
      ]
     },
     "execution_count": 12,
     "metadata": {},
     "output_type": "execute_result"
    }
   ],
   "source": [
    "A = \"interviewbit\"\n",
    "solve(A)"
   ]
  },
  {
   "cell_type": "markdown",
   "id": "b2ca2407-2e13-4888-83f0-861b8c9c6070",
   "metadata": {
    "jp-MarkdownHeadingCollapsed": true,
    "tags": []
   },
   "source": [
    "##### Solution with input"
   ]
  },
  {
   "cell_type": "code",
   "execution_count": 13,
   "id": "68718988-73fa-438c-988f-99f6aeb5f985",
   "metadata": {},
   "outputs": [],
   "source": [
    "def solve():\n",
    "    A = input()\n",
    "    return A[::-1]"
   ]
  },
  {
   "cell_type": "code",
   "execution_count": 15,
   "id": "6ca8eced-3629-4159-9297-808018175a1b",
   "metadata": {},
   "outputs": [
    {
     "name": "stdin",
     "output_type": "stream",
     "text": [
      " interviewbit\n"
     ]
    },
    {
     "data": {
      "text/plain": [
       "'tibweivretni'"
      ]
     },
     "execution_count": 15,
     "metadata": {},
     "output_type": "execute_result"
    }
   ],
   "source": [
    "solve()"
   ]
  },
  {
   "cell_type": "markdown",
   "id": "e10364e6-9162-428d-a772-faae79a648ab",
   "metadata": {
    "jp-MarkdownHeadingCollapsed": true,
    "tags": []
   },
   "source": [
    "### Day 21: Strings 2"
   ]
  },
  {
   "cell_type": "markdown",
   "id": "fc8f1e60-b2b4-4e38-a44e-7790a69e60e7",
   "metadata": {
    "jp-MarkdownHeadingCollapsed": true,
    "tags": []
   },
   "source": [
    "#### Question 1"
   ]
  },
  {
   "cell_type": "markdown",
   "id": "0d552aa7-71e0-4002-8168-e41e9c1d1690",
   "metadata": {},
   "source": [
    "    You are given a character string A, having length N and an integer ASCII code B.\n",
    "\n",
    "    You have to tell the leftmost occurrence of the character having ASCII code equal to B, in A or report that it does not exist.\n",
    "\n",
    "    Problem Constraints\n",
    "    1 <= N <= 105\n",
    "    A[i] ∈ ['a'-'z']\n",
    "    97 <= B <= 122\n",
    "\n",
    "    Input Format\n",
    "    First argument is a character string A.\n",
    "    Second argument is an integer B.\n",
    "\n",
    "    Output Format\n",
    "    If there exists an occurrence, return the leftmost index(0 - based), else return -1.\n",
    "\n",
    "    Input 1:\n",
    "     A = \"aabbcc\"\n",
    "     B = 98 \n",
    "     \n",
    "    Output 1:\n",
    "     2\n",
    "     \n",
    "    Input 2:\n",
    "     A = \"abc\"\n",
    "     B = 100\n",
    "     \n",
    "    Output 2:\n",
    "     -1 \n",
    "\n",
    "    Explanation 1:\n",
    "     Character having ASCII code equal to 98 = 'b' \n",
    "     Leftmost index of character 'b' in \"aabbcc\" is 2.\n",
    "     \n",
    "    Explanation 2:\n",
    "     Character having ASCII code equal to 100 = 'd'\n",
    "     Character 'd' is not present in \"abc\"."
   ]
  },
  {
   "cell_type": "markdown",
   "id": "4aecbd40-6dd7-4dc9-8280-a37b3848b815",
   "metadata": {
    "jp-MarkdownHeadingCollapsed": true,
    "tags": []
   },
   "source": [
    "##### Solution Submitted"
   ]
  },
  {
   "cell_type": "code",
   "execution_count": 10,
   "id": "3c7965f7-b941-47f9-8dc6-187d1b055209",
   "metadata": {},
   "outputs": [],
   "source": [
    "def solve(A,B):\n",
    "    for i in range(len(A)):\n",
    "        if A[i] == chr(B):\n",
    "            return i\n",
    "    return -1\n",
    "            "
   ]
  },
  {
   "cell_type": "code",
   "execution_count": 11,
   "id": "c0b9f61b-1699-4cbb-bac0-efb9b25619d4",
   "metadata": {},
   "outputs": [
    {
     "data": {
      "text/plain": [
       "2"
      ]
     },
     "execution_count": 11,
     "metadata": {},
     "output_type": "execute_result"
    }
   ],
   "source": [
    "A = \"aabbcc\"\n",
    "solve(A, 98)"
   ]
  },
  {
   "cell_type": "markdown",
   "id": "26b3587a-22d9-43ae-bb68-5c0e79697d94",
   "metadata": {
    "jp-MarkdownHeadingCollapsed": true,
    "tags": []
   },
   "source": [
    "##### Solution with input"
   ]
  },
  {
   "cell_type": "code",
   "execution_count": 56,
   "id": "4049c9ed-b922-40c8-beee-0c0d508dcecb",
   "metadata": {},
   "outputs": [],
   "source": [
    "def solve():\n",
    "    A = input(\"Enter the string: \")\n",
    "    B = int(input(\"Enter the ASCII Code Integer(97-122): \"))\n",
    "    for i in range(len(A)):\n",
    "        if A[i]==chr(B):\n",
    "            print(f\"Index of {chr(B)} is: {i}\")\n",
    "            return i\n",
    "    return -1"
   ]
  },
  {
   "cell_type": "code",
   "execution_count": 57,
   "id": "99364bbc-5255-4aa7-8bb6-e320d904886d",
   "metadata": {},
   "outputs": [
    {
     "name": "stdin",
     "output_type": "stream",
     "text": [
      "Enter the string:  asdwqer\n",
      "Enter the ASCII Code Integer(97-122):  101\n"
     ]
    },
    {
     "name": "stdout",
     "output_type": "stream",
     "text": [
      "Index of e is: 5\n"
     ]
    },
    {
     "data": {
      "text/plain": [
       "5"
      ]
     },
     "execution_count": 57,
     "metadata": {},
     "output_type": "execute_result"
    }
   ],
   "source": [
    "solve()"
   ]
  },
  {
   "cell_type": "markdown",
   "id": "4581861b-03a7-43f2-a420-edfd271d47f3",
   "metadata": {
    "jp-MarkdownHeadingCollapsed": true,
    "tags": []
   },
   "source": [
    "#### Question 3"
   ]
  },
  {
   "cell_type": "markdown",
   "id": "a834a4ae-9761-446d-b0a6-ec2b8e13f52b",
   "metadata": {},
   "source": [
    "    You are given a character string A and two integer ASCII codes B and C.\n",
    "\n",
    "    You have to find and replace all the occurrences of the character having ASCII code equal to B with character having ASCII code equal to C and return the resultant string.\n",
    "\n",
    "    Problem Constraints\n",
    "    1 <= N <= 105\n",
    "    A[i] ∈ ['a'-'z']\n",
    "    97 <= B, C <= 122\n",
    "\n",
    "    Input Format\n",
    "    First argument is a character string A.\n",
    "    Second argument is an integer B.\n",
    "    Third argument is an integer C.\n",
    "    \n",
    "    Output Format\n",
    "    Return the resultant string after replacing the character(s).\n",
    "\n",
    "    Input 1:\n",
    "     A = \"aabbccbb\"\n",
    "     B = 98 \n",
    "     C = 100\n",
    "     \n",
    "    Output 1:\n",
    "     aaddccdd\n",
    "     \n",
    "    Input 2:\n",
    "     A = \"abc\"\n",
    "     B = 100\n",
    "     C = 97\n",
    "     \n",
    "    Output 2:\n",
    "     abc \n",
    "\n",
    "    Explanation 1:\n",
    "     Character having ASCII code equal to 98 = 'b' \n",
    "     Character having ASCII code equal to 100 = 'd'\n",
    "     Character 'b' occurs at positions 3, 4, 7 and 8 in \"aabbaabb\".\n",
    "     After replacing the characters, string becomes \"aaddaadd\"."
   ]
  },
  {
   "cell_type": "markdown",
   "id": "1ceea702-3ed5-4f40-9c13-db53798d5eae",
   "metadata": {
    "jp-MarkdownHeadingCollapsed": true,
    "tags": []
   },
   "source": [
    "##### Solution Submitted"
   ]
  },
  {
   "cell_type": "code",
   "execution_count": 1,
   "id": "39a8c700-6942-4de0-8173-6a9ca054b1f7",
   "metadata": {},
   "outputs": [],
   "source": [
    "def solve(A,B,C):\n",
    "    return A.replace(chr(B), chr(C))"
   ]
  },
  {
   "cell_type": "code",
   "execution_count": 9,
   "id": "b8455e07-4573-4ff8-8893-91b90192712a",
   "metadata": {},
   "outputs": [
    {
     "data": {
      "text/plain": [
       "'aaddccdd'"
      ]
     },
     "execution_count": 9,
     "metadata": {},
     "output_type": "execute_result"
    }
   ],
   "source": [
    "A = \"aabbccbb\"\n",
    "solve(A,98,100)"
   ]
  },
  {
   "cell_type": "markdown",
   "id": "0b06d2ca-a132-4450-a3e1-803b3537b748",
   "metadata": {
    "jp-MarkdownHeadingCollapsed": true,
    "tags": []
   },
   "source": [
    "##### Solution with input and custom replace"
   ]
  },
  {
   "cell_type": "code",
   "execution_count": 64,
   "id": "6f50ccc8-6cad-4702-823f-70e3b9d37791",
   "metadata": {},
   "outputs": [],
   "source": [
    "def solve():\n",
    "    A = input(\"Enter the string: \")\n",
    "    A = A.lower()\n",
    "    B = int(input(\"Enter the ASCII Code Integer which is to be replaced(097-122): \"))\n",
    "    C = int(input(\"Enter the ASCII Code Integer which will replace the old value: \"))\n",
    "    print(f\"All instances of {chr(B)} will be replaced with {chr(C)} in input string\")\n",
    "    X = \"\"        \n",
    "    for i in range(len(A)):\n",
    "        if A[i] == chr(B):\n",
    "            X += chr(C)\n",
    "        else:\n",
    "            X += A[i]\n",
    "    return X         "
   ]
  },
  {
   "cell_type": "code",
   "execution_count": 65,
   "id": "18d5cab4-44df-4e60-a364-3a30a90f2026",
   "metadata": {},
   "outputs": [
    {
     "name": "stdin",
     "output_type": "stream",
     "text": [
      "Enter the string:  aabbccbb\n",
      "Enter the ASCII Code Integer which is to be replaced(097-122):  98\n",
      "Enter the ASCII Code Integer which will replace the old value:  100\n"
     ]
    },
    {
     "name": "stdout",
     "output_type": "stream",
     "text": [
      "All instances of b will be replaced with d in input string\n"
     ]
    },
    {
     "data": {
      "text/plain": [
       "'aaddccdd'"
      ]
     },
     "execution_count": 65,
     "metadata": {},
     "output_type": "execute_result"
    }
   ],
   "source": [
    "solve()"
   ]
  },
  {
   "cell_type": "markdown",
   "id": "901609af-eadc-4731-9ad2-554728e823da",
   "metadata": {
    "jp-MarkdownHeadingCollapsed": true,
    "tags": []
   },
   "source": [
    "#### Question 4"
   ]
  },
  {
   "cell_type": "markdown",
   "id": "72f3eab0-5092-4e07-853a-265a339cebd5",
   "metadata": {},
   "source": [
    "    Given the input date in DD/MM/YYYY format as a string, write a function that returns the converted date in the string formats MM/DD/YYYY and YYYY/MM/DD and return the new date formats.\n",
    "\n",
    "    Input Format:\n",
    "    First input line will have the number of test cases. There will be a single line of input for each\n",
    "    testcase which will consist of date in the string format DD/MM/YYYY. \n",
    "    \n",
    "    Output Format:\n",
    "    Resultant date formats in string formats MM/DD/YYYY and YYYY/MM/DD\n",
    "    \n",
    "    Sample Input:\n",
    "    1\n",
    "    \"08/12/1998\"\n",
    "    \n",
    "    Sample Output:\n",
    "    12/08/1998\n",
    "    1998/12/08"
   ]
  },
  {
   "cell_type": "markdown",
   "id": "47d35be2-a70e-4980-9ad5-1e690af4b78f",
   "metadata": {
    "jp-MarkdownHeadingCollapsed": true,
    "tags": []
   },
   "source": [
    "##### Solution Submitted"
   ]
  },
  {
   "cell_type": "code",
   "execution_count": 37,
   "id": "5cfd5f91-1d1f-45cf-bcfc-2fd2ae1d2a29",
   "metadata": {},
   "outputs": [],
   "source": [
    "def date_format(date):\n",
    "    date_yymmdd = \"/\".join(date.split(\"/\")[::-1])\n",
    "    date_mmddyy = \"/\".join(date.split(\"/\")[-2::-1] + date.split(\"/\")[-1::])\n",
    "    return date_mmddyy, date_yymmdd  "
   ]
  },
  {
   "cell_type": "code",
   "execution_count": 36,
   "id": "d7c50284-5305-4839-9a91-6824e5662f85",
   "metadata": {},
   "outputs": [
    {
     "name": "stdin",
     "output_type": "stream",
     "text": [
      " 1\n"
     ]
    },
    {
     "name": "stdout",
     "output_type": "stream",
     "text": [
      "12/08/1998\n",
      "1998/12/08\n"
     ]
    },
    {
     "data": {
      "text/plain": [
       "('12/08/1998', '1998/12/08')"
      ]
     },
     "execution_count": 36,
     "metadata": {},
     "output_type": "execute_result"
    }
   ],
   "source": [
    "date = \"08/12/1998\"\n",
    "date_format(date)"
   ]
  },
  {
   "cell_type": "markdown",
   "id": "0d03d366-1f5e-45c8-b660-a642444b2460",
   "metadata": {
    "jp-MarkdownHeadingCollapsed": true,
    "tags": []
   },
   "source": [
    "##### Solution with input"
   ]
  },
  {
   "cell_type": "code",
   "execution_count": 50,
   "id": "6e61c7b5-0673-427b-94d5-8e3a79e3c98f",
   "metadata": {},
   "outputs": [],
   "source": [
    "def date_format():\n",
    "    n = int(input())\n",
    "    for i in range(n):\n",
    "        date = input(\"Enter the date: \")\n",
    "        date_yy_mm_dd = date.split(\"/\")\n",
    "        date_yy_mm_dd = date_yy_mm_dd[::-1]\n",
    "        date_yy_mm_dd = \"/\".join(date_yy_mm_dd)\n",
    "        \n",
    "        date_mm_dd_yy = date.split(\"/\")\n",
    "        date_mm_dd_yy = date_mm_dd_yy[-2::-1] + date_mm_dd_yy[-1::]\n",
    "        date_mm_dd_yy = \"/\".join(date_mm_dd_yy)\n",
    "        \n",
    "    return date_mm_dd_yy, date_yy_mm_dd"
   ]
  },
  {
   "cell_type": "code",
   "execution_count": 51,
   "id": "39db1f90-555f-4282-8866-9a1223f40e4e",
   "metadata": {},
   "outputs": [
    {
     "name": "stdin",
     "output_type": "stream",
     "text": [
      " 2\n",
      "Enter the date:  08/12/1998\n",
      "Enter the date:  01/12/2000\n"
     ]
    },
    {
     "data": {
      "text/plain": [
       "('12/01/2000', '2000/12/01')"
      ]
     },
     "execution_count": 51,
     "metadata": {},
     "output_type": "execute_result"
    }
   ],
   "source": [
    "date_format()"
   ]
  },
  {
   "cell_type": "markdown",
   "id": "18d9fe12-d136-433c-b206-6673c62257f3",
   "metadata": {
    "jp-MarkdownHeadingCollapsed": true,
    "tags": []
   },
   "source": [
    "### Day 22: Tuples + Sets"
   ]
  },
  {
   "cell_type": "markdown",
   "id": "f411db02-a498-4a76-b8ff-78ac6532fd18",
   "metadata": {
    "jp-MarkdownHeadingCollapsed": true,
    "tags": []
   },
   "source": [
    "#### Question 1 "
   ]
  },
  {
   "cell_type": "markdown",
   "id": "d5f9c3a6-3727-4c2b-be54-2e8fe5f7333c",
   "metadata": {},
   "source": [
    "    Write a function to search for a given element elem in the tuple tup and return its index. Return -1 if elem is not present in tup.\n",
    "\n",
    "    Input Format:\n",
    "    The first line consists of tuple.\n",
    "    The second line consists of an element for which index is required to be returned.\n",
    "    \n",
    "    Output Format:\n",
    "    Return the index value in integer format.\n",
    "    \n",
    "    Sample Input:\n",
    "    (10, 20, 30, 40, 50)\n",
    "    30\n",
    "    \n",
    "    Sample Output:\n",
    "    2\n",
    "    \n",
    "    Sample explanation:\n",
    "    30 is present at index 2, therefore 2 is returned."
   ]
  },
  {
   "cell_type": "markdown",
   "id": "23031069-e42c-4e2c-88ca-c0e7055a13b3",
   "metadata": {
    "jp-MarkdownHeadingCollapsed": true,
    "tags": []
   },
   "source": [
    "##### Solution Submitted"
   ]
  },
  {
   "cell_type": "code",
   "execution_count": 74,
   "id": "95036e50-26b8-42d2-842d-6891ca4e185e",
   "metadata": {},
   "outputs": [],
   "source": [
    "def get_index(tup, elem):\n",
    "    for i in range(len(tup)):\n",
    "        if tup[i] == elem:\n",
    "            return i\n",
    "    return -1"
   ]
  },
  {
   "cell_type": "code",
   "execution_count": 76,
   "id": "8ed36bc7-4d08-44b2-89d4-c21daee94c0c",
   "metadata": {},
   "outputs": [
    {
     "data": {
      "text/plain": [
       "2"
      ]
     },
     "execution_count": 76,
     "metadata": {},
     "output_type": "execute_result"
    }
   ],
   "source": [
    "a = (10, 20, 30, 40, 50)\n",
    "elem = 30\n",
    "get_index(a, elem)"
   ]
  },
  {
   "cell_type": "markdown",
   "id": "2cf95a42-5749-413c-95e1-aa56071d02f0",
   "metadata": {
    "jp-MarkdownHeadingCollapsed": true,
    "tags": []
   },
   "source": [
    "#### Question 2"
   ]
  },
  {
   "cell_type": "markdown",
   "id": "1bf4ad16-898a-4a6a-98c3-70658e7039a1",
   "metadata": {},
   "source": [
    "    Write a program to divide a given tuple into two tuples that contain even and odd indexed elements of the original tuple. Print both these tuples in the given output format.\n",
    "\n",
    "    Input Format:\n",
    "    The input contains a tuple as an argument to the function.\n",
    "    \n",
    "    Output Format:\n",
    "    Print two tuples one for odd indexed elements and another for even indexed elements in the following format:\n",
    "    Odd: (....)\n",
    "    Even: (....)\n",
    "    \n",
    "    Sample Input:\n",
    "    1\n",
    "    (10, 8, 5, 2, 10, 15, 10, 8, 5, 8, 8, 2)\n",
    "    \n",
    "    Sample Output:\n",
    "    Odd: (10, 5, 10, 10, 5, 8)\n",
    "    Even: (8, 2, 15, 8, 8, 2)"
   ]
  },
  {
   "cell_type": "markdown",
   "id": "109e547e-a9bd-4d8e-b6d8-3095b9dda86d",
   "metadata": {
    "jp-MarkdownHeadingCollapsed": true,
    "tags": []
   },
   "source": [
    "##### Solution Submitted"
   ]
  },
  {
   "cell_type": "code",
   "execution_count": 88,
   "id": "96eaecad-5ca7-409b-84cb-675ffb4d1cd0",
   "metadata": {},
   "outputs": [],
   "source": [
    "def odd_even_split_tuple(tup):\n",
    "    even = []\n",
    "    odd = []\n",
    "    for i in range(len(tup)):\n",
    "        if i%2==0:\n",
    "            even.append(tup[i])\n",
    "        else:\n",
    "            odd.append(tup[i])\n",
    "    print(f\"Odd: {tuple(even)}\")\n",
    "    print(f\"Even: {tuple(odd)}\")   "
   ]
  },
  {
   "cell_type": "code",
   "execution_count": 89,
   "id": "3599df01-8e19-48bc-b01b-50dbcdbd887f",
   "metadata": {},
   "outputs": [
    {
     "name": "stdout",
     "output_type": "stream",
     "text": [
      "Odd: (10, 5, 10, 10, 5, 8)\n",
      "Even: (8, 2, 15, 8, 8, 2)\n"
     ]
    }
   ],
   "source": [
    "a = (10, 8, 5, 2, 10, 15, 10, 8, 5, 8, 8, 2)\n",
    "odd_even_split_tuple(a)"
   ]
  },
  {
   "cell_type": "markdown",
   "id": "103b2097-8d76-4007-b201-5d839cca8408",
   "metadata": {
    "jp-MarkdownHeadingCollapsed": true,
    "tags": []
   },
   "source": [
    "#### Question 5"
   ]
  },
  {
   "cell_type": "markdown",
   "id": "cf877590-8cc0-4c1b-a72d-e558b559c27a",
   "metadata": {},
   "source": [
    "    Write a function to print out the frequency of all the unique elements present in a given tuple.\n",
    "\n",
    "    Input Format:\n",
    "    The one input line consists of a tuple.\n",
    "    \n",
    "    Output Format:\n",
    "    Unique elements and their frequencies are expected to be printed as follows:\n",
    "    unique_element1 : freq1\n",
    "    unique_element2 : freq2\n",
    "    .\n",
    "    .\n",
    "    Sample Input:\n",
    "    (10, 8, 5, 2, 10, 15, 10, 8, 5, 8, 8, 2)\n",
    "    \n",
    "    Sample Output:\n",
    "    10 : 3\n",
    "    8 : 4\n",
    "    5 : 2\n",
    "    2 : 2\n",
    "    15 : 1"
   ]
  },
  {
   "cell_type": "markdown",
   "id": "19b8d6be-d598-424c-87bf-8cf651e087ac",
   "metadata": {
    "jp-MarkdownHeadingCollapsed": true,
    "tags": []
   },
   "source": [
    "##### Solution Submitted"
   ]
  },
  {
   "cell_type": "code",
   "execution_count": 105,
   "id": "7c4f64c5-3183-4279-aecb-e01ca1db3f77",
   "metadata": {},
   "outputs": [],
   "source": [
    "def unique_count(tup):\n",
    "    new_list = []\n",
    "    for i in tup:\n",
    "        if i not in new_list:\n",
    "            new_list.append(i)\n",
    "    for i in new_list:\n",
    "        count = 0\n",
    "        for j in tup:\n",
    "            if i == j:\n",
    "                count +=1\n",
    "        print(f\"{i} : {count}\")"
   ]
  },
  {
   "cell_type": "code",
   "execution_count": 106,
   "id": "d86f2b93-e403-4d7b-9e7b-63c1f64ca470",
   "metadata": {},
   "outputs": [
    {
     "name": "stdout",
     "output_type": "stream",
     "text": [
      "10: 3\n",
      "8: 4\n",
      "5: 2\n",
      "2: 2\n",
      "15: 1\n"
     ]
    }
   ],
   "source": [
    "a =(10, 8, 5, 2, 10, 15, 10, 8, 5, 8, 8, 2)\n",
    "unique_count(a)"
   ]
  },
  {
   "cell_type": "markdown",
   "id": "313bd36d-f643-4964-a0ee-9830d27694f6",
   "metadata": {
    "tags": []
   },
   "source": [
    "### Day 23: Dictionary"
   ]
  },
  {
   "cell_type": "markdown",
   "id": "ff974bb2-ecad-4a9d-99c9-5e34d4809879",
   "metadata": {
    "tags": []
   },
   "source": [
    "#### Question 1"
   ]
  },
  {
   "cell_type": "markdown",
   "id": "bb3fd3fe-17d4-4b2f-a1c4-a7b1ecc31bde",
   "metadata": {},
   "source": [
    "    Given an input string, write a program to count the frequency of each character in the string. Map the characters and their respective frequency into a dictionary and return that dictionary.\n",
    "\n",
    "    Note: In the back-end, we are just checking the items in the dictionary, not the order therefore True will be printed if the returned dictionary has the same items as expected otherwise False will be printed.\n",
    "\n",
    "    Input Format:\n",
    "    The first and the only arguement to the function is a string.\n",
    "    \n",
    "    Output Format:\n",
    "    Returned output must be in a dictionary format. The keys must be the unique characters in the string, and the values should \n",
    "    be the frequency of those characters in the given string.\n",
    "    \n",
    "    Sample Input:\n",
    "    ABC\n",
    "    \n",
    "    Sample Output:\n",
    "    {'A': 1, 'B': 1, 'C': 1}\n",
    "    \n",
    "    Output Explanation:\n",
    "    In the string 'ABC', there are three unique characters: 'A', 'B', and 'C'. \n",
    "    They occur once in the string and hence their count values are 1."
   ]
  },
  {
   "cell_type": "markdown",
   "id": "768a661e-79d6-45ab-bac2-9b2b042ef788",
   "metadata": {
    "jp-MarkdownHeadingCollapsed": true,
    "tags": []
   },
   "source": [
    "##### Solution Submitted"
   ]
  },
  {
   "cell_type": "code",
   "execution_count": 1,
   "id": "a9b61ed8-6462-4cb6-a73b-ea606a3c52b1",
   "metadata": {},
   "outputs": [],
   "source": [
    "def dict_freq(str1):\n",
    "    set1 = set(str1)\n",
    "    dict_1 = {}\n",
    "    for i in set1:\n",
    "        dict_1[i] = str1.count(i)\n",
    "    return dict_1"
   ]
  },
  {
   "cell_type": "code",
   "execution_count": 3,
   "id": "595b5730-ed20-4dfd-85a8-887064da6272",
   "metadata": {},
   "outputs": [
    {
     "data": {
      "text/plain": [
       "{'B': 1, 'A': 1, 'C': 1}"
      ]
     },
     "execution_count": 3,
     "metadata": {},
     "output_type": "execute_result"
    }
   ],
   "source": [
    "str1 = \"ABC\"\n",
    "dict_freq(str1)"
   ]
  },
  {
   "cell_type": "markdown",
   "id": "ee10dc07-440e-443b-b4cf-bc5933db9867",
   "metadata": {
    "jp-MarkdownHeadingCollapsed": true,
    "tags": []
   },
   "source": [
    "##### Solution with inputs"
   ]
  },
  {
   "cell_type": "code",
   "execution_count": 13,
   "id": "a05b3693-d0d5-4ee7-a149-89ad8b5fffd8",
   "metadata": {},
   "outputs": [],
   "source": [
    "def dict_freq1():\n",
    "    n = input()\n",
    "    set_n = set(n)\n",
    "    dict_n = {}\n",
    "    for i in set_n:\n",
    "        dict_n[i] = n.count(i)\n",
    "    return dict_n"
   ]
  },
  {
   "cell_type": "code",
   "execution_count": 14,
   "id": "14729b0d-b20b-4983-9bc8-f6e6c5cde5dc",
   "metadata": {},
   "outputs": [
    {
     "name": "stdin",
     "output_type": "stream",
     "text": [
      " ABC\n"
     ]
    },
    {
     "data": {
      "text/plain": [
       "{'B': 1, 'A': 1, 'C': 1}"
      ]
     },
     "execution_count": 14,
     "metadata": {},
     "output_type": "execute_result"
    }
   ],
   "source": [
    "dict_freq1()"
   ]
  },
  {
   "cell_type": "markdown",
   "id": "1d301cae-ee5e-4227-9fa1-57a65a8f9c02",
   "metadata": {
    "jp-MarkdownHeadingCollapsed": true,
    "tags": []
   },
   "source": [
    "#### Question 2"
   ]
  },
  {
   "cell_type": "markdown",
   "id": "972b9887-b784-4410-a240-b60524170b9a",
   "metadata": {},
   "source": [
    "    Given a dictionary, find the sum of values of every key in the dictionary.\n",
    "\n",
    "    Input Format:\n",
    "    The input contains two lines.\n",
    "    The first line has space-separated string values which are the keys of the dictionary.\n",
    "    The second line has space-separated integer numbers which are the values of the dictionary.\n",
    "    \n",
    "    Output Format:\n",
    "    Print the sum of the values of the items as an integer.\n",
    "    \n",
    "    Sample Input:\n",
    "    x y z\n",
    "    25 25 50\n",
    "    \n",
    "    Sample Output:\n",
    "    100\n",
    "    \n",
    "    Output Explanation:\n",
    "    The dictionary has three key-value pairs having values 25, 25, and 50. Hence their sum, 25+25+50 = 100 should be printed."
   ]
  },
  {
   "cell_type": "markdown",
   "id": "dba1f583-af72-4d80-82ac-f9d5cbc565c9",
   "metadata": {
    "jp-MarkdownHeadingCollapsed": true,
    "tags": []
   },
   "source": [
    "##### Solution Submitted"
   ]
  },
  {
   "cell_type": "code",
   "execution_count": 23,
   "id": "35169b5e-5e93-4117-81b3-d991603d766c",
   "metadata": {},
   "outputs": [],
   "source": [
    "def returnSum(dict):\n",
    "    sum = 0\n",
    "    for i in dict.values():\n",
    "        sum +=i\n",
    "    print (sum)"
   ]
  },
  {
   "cell_type": "code",
   "execution_count": 26,
   "id": "d26cc02b-0015-4f80-8138-1cd3f09d9d90",
   "metadata": {},
   "outputs": [
    {
     "name": "stdout",
     "output_type": "stream",
     "text": [
      "100\n"
     ]
    }
   ],
   "source": [
    "n = {\"x\":25,\"y\":25,\"z\":50}\n",
    "returnSum(n)"
   ]
  },
  {
   "cell_type": "markdown",
   "id": "5cc18670-a569-436b-9873-77e29e40331e",
   "metadata": {
    "jp-MarkdownHeadingCollapsed": true,
    "tags": []
   },
   "source": [
    "#### Question 5"
   ]
  },
  {
   "cell_type": "markdown",
   "id": "3f8c3b13-1e8f-4484-99bf-fc6125c24f12",
   "metadata": {},
   "source": [
    "What will be the output of the following Python code?\n",
    "\n",
    "    dict1 = {'age': 35, 'name': 'abc', 'salary': 45000}\n",
    "\n",
    "    val = dict1['age']\n",
    "\n",
    "    if val in dict1:\n",
    "        print('This is a member of the dictionary')\n",
    "    else:\n",
    "        print('This is not a member of the dictionary')"
   ]
  },
  {
   "cell_type": "markdown",
   "id": "115be761-b694-4c3a-816e-4e692892fc9f",
   "metadata": {
    "jp-MarkdownHeadingCollapsed": true,
    "tags": []
   },
   "source": [
    "##### Solution Submitted"
   ]
  },
  {
   "cell_type": "markdown",
   "id": "8b301874-4507-4c94-8527-6b30f098160b",
   "metadata": {},
   "source": [
    "value of ket age from dict1 is assigned to val hence not true"
   ]
  },
  {
   "cell_type": "markdown",
   "id": "1e783535-120d-44c8-ba43-e8f3a4ce2456",
   "metadata": {
    "jp-MarkdownHeadingCollapsed": true,
    "tags": []
   },
   "source": [
    "#### Question 6"
   ]
  },
  {
   "cell_type": "markdown",
   "id": "edf7ce84-6be9-447a-931b-fe0332d11a67",
   "metadata": {},
   "source": [
    "Consider the following dictionary:\n",
    "\n",
    "    dict = {5: 'a', 10: 'b', 15: 'c'}\n",
    "    \n",
    "Below are two statements with the corresponding output written just on the right of them. Which option represents the correct booleans about the correctness of code and output pairings?\n",
    "\n",
    "    print(dict[0])            Key Error\n",
    "    print(dict.get(0))        'a'"
   ]
  },
  {
   "cell_type": "markdown",
   "id": "e7bc6694-8a76-4659-aad0-09e0589d926b",
   "metadata": {
    "jp-MarkdownHeadingCollapsed": true,
    "tags": []
   },
   "source": [
    "##### Solution Submitted"
   ]
  },
  {
   "cell_type": "markdown",
   "id": "b949769f-fe2a-4a17-b440-1fd80d8dcc35",
   "metadata": {},
   "source": [
    "1st statment wil lgenerat Key Error and 2nd will return none data type"
   ]
  },
  {
   "cell_type": "markdown",
   "id": "ca14005e-2f0a-4958-b360-a40d7e69016b",
   "metadata": {
    "jp-MarkdownHeadingCollapsed": true,
    "tags": []
   },
   "source": [
    "#### Question 7"
   ]
  },
  {
   "cell_type": "markdown",
   "id": "54afc751-2824-49bf-a691-922280165436",
   "metadata": {},
   "source": [
    "Which option correctly represents abc, if the following python code is executed?\n",
    "\n",
    "    abc = {}\n",
    "    abc[1] = 1\n",
    "    abc['1'] = 2\n",
    "    abc[1] = abc[1] + 1"
   ]
  },
  {
   "cell_type": "markdown",
   "id": "91c71d84-4a0f-4b21-a451-32c739b04426",
   "metadata": {
    "jp-MarkdownHeadingCollapsed": true,
    "tags": []
   },
   "source": [
    "##### Solution Submitted"
   ]
  },
  {
   "cell_type": "markdown",
   "id": "38f35091-ec2d-4c0b-89a7-3f80ea18e70f",
   "metadata": {},
   "source": [
    "value of abc[1] is 1 which is again added to 1"
   ]
  },
  {
   "cell_type": "markdown",
   "id": "430dcaa9-cf39-4d52-b16f-3e0e7dedda3d",
   "metadata": {
    "tags": []
   },
   "source": [
    "## HW"
   ]
  },
  {
   "cell_type": "markdown",
   "id": "c0e1c00f-06f4-4101-8ab9-b89882c730b6",
   "metadata": {
    "jp-MarkdownHeadingCollapsed": true,
    "tags": []
   },
   "source": [
    "### Day 13: Pattern Printing**"
   ]
  },
  {
   "cell_type": "markdown",
   "id": "d29dae40-00b5-4d34-97f3-9835b46de75e",
   "metadata": {
    "jp-MarkdownHeadingCollapsed": true,
    "tags": []
   },
   "source": [
    "#### Question 1"
   ]
  },
  {
   "cell_type": "markdown",
   "id": "5fb59cf1-d56f-4a5c-a43d-e9e62f523011",
   "metadata": {},
   "source": [
    "Take an integer N as input, print the corresponding pattern for N.\n",
    "\n",
    "For example if N = 5 then pattern will be like:\n",
    "\n",
    "    ********** // 0 spaces\n",
    "\n",
    "    ****  **** // 2 spaces\n",
    "\n",
    "    ***    *** // 4 spaces\n",
    "\n",
    "    **      ** // 6 spaces\n",
    "\n",
    "    *        * // 8 spaces\n",
    "\n",
    "NOTE: Here '_' is used to represent spaces. You have to print spaces in your code."
   ]
  },
  {
   "cell_type": "markdown",
   "id": "41b6652a-6d5d-4710-8c60-f9c81b86f077",
   "metadata": {
    "jp-MarkdownHeadingCollapsed": true,
    "tags": []
   },
   "source": [
    "##### Solution"
   ]
  },
  {
   "cell_type": "code",
   "execution_count": 52,
   "id": "567a01ca-4c56-4d97-82ee-cd3bded34361",
   "metadata": {},
   "outputs": [
    {
     "name": "stdin",
     "output_type": "stream",
     "text": [
      " 5\n"
     ]
    },
    {
     "name": "stdout",
     "output_type": "stream",
     "text": [
      "**********\n",
      "****  ****\n",
      "***    ***\n",
      "**      **\n",
      "*        *\n"
     ]
    }
   ],
   "source": [
    "N = int(input())\n",
    "\n",
    "for i in range(0,N):\n",
    "    for j in range(1):\n",
    "        print(\"*\"*(N-i), end=\"\")\n",
    "        print(\" \"*(2*i), end=\"\")\n",
    "        print(\"*\"*(N-i), end=\"\")\n",
    "    print()        "
   ]
  },
  {
   "cell_type": "markdown",
   "id": "e243defa-e199-4de8-965a-4b4acc7fb954",
   "metadata": {
    "jp-MarkdownHeadingCollapsed": true,
    "tags": []
   },
   "source": [
    "#### Question 2 "
   ]
  },
  {
   "cell_type": "markdown",
   "id": "32c3b909-b23c-49b0-8bea-4dcfdf4f128c",
   "metadata": {},
   "source": [
    "Take an integer N as input, print the corresponding pattern for N.\n",
    "\n",
    "For example if N = 5 then pattern will be like:\n",
    "\n",
    "    *________* // 8 spaces\n",
    "\n",
    "    **______** // 6 spaces\n",
    "\n",
    "    ***____*** // 4 spaces\n",
    "\n",
    "    ****__**** // 2 spaces\n",
    "\n",
    "    ********** // 0 spaces\n",
    "NOTE: Here '_' is used to represent spaces. You have to print spaces in your code."
   ]
  },
  {
   "cell_type": "markdown",
   "id": "11d4ba3b-9700-478e-8bb7-39f501c290a1",
   "metadata": {
    "jp-MarkdownHeadingCollapsed": true,
    "tags": []
   },
   "source": [
    "##### Solution"
   ]
  },
  {
   "cell_type": "code",
   "execution_count": 53,
   "id": "d5b81b70-0ebf-425e-91ad-8ff4126f58e0",
   "metadata": {},
   "outputs": [
    {
     "name": "stdin",
     "output_type": "stream",
     "text": [
      " 5\n"
     ]
    },
    {
     "name": "stdout",
     "output_type": "stream",
     "text": [
      "*        *\n",
      "**      **\n",
      "***    ***\n",
      "****  ****\n",
      "**********\n"
     ]
    }
   ],
   "source": [
    "N = int(input())\n",
    "\n",
    "for i in range(1,N+1):\n",
    "    for j in range(1):\n",
    "        print(\"*\"*i, end=\"\")\n",
    "        print(\" \"*(2*(N-i)), end=\"\")\n",
    "        print(\"*\"*i, end=\"\")\n",
    "    print()"
   ]
  },
  {
   "cell_type": "markdown",
   "id": "1a7e810c-412c-4d68-9b79-e7ba8d5203eb",
   "metadata": {
    "jp-MarkdownHeadingCollapsed": true,
    "tags": []
   },
   "source": [
    "#### Question 3"
   ]
  },
  {
   "cell_type": "markdown",
   "id": "5191e2bf-75e5-4f18-9044-3c07811c98d5",
   "metadata": {},
   "source": [
    "Take an integer N as input, print the corresponding Half Diamond pattern with 2*N - 1 rows.\n",
    "\n",
    "For example if N = 5 then pattern will be like:\n",
    "\n",
    "    * \n",
    "    **\n",
    "    ***\n",
    "    ****\n",
    "    *****\n",
    "    ****\n",
    "    ***\n",
    "    **\n",
    "    *\n",
    "NOTE: There should be no spaces after any *"
   ]
  },
  {
   "cell_type": "markdown",
   "id": "08b599ed-4421-41c3-9a1a-78152c68dba3",
   "metadata": {
    "jp-MarkdownHeadingCollapsed": true,
    "tags": []
   },
   "source": [
    "##### Solution\n",
    "Approach 1"
   ]
  },
  {
   "cell_type": "code",
   "execution_count": 54,
   "id": "bf68708e-be69-4b79-b1bf-6383a2cf5fc3",
   "metadata": {},
   "outputs": [
    {
     "name": "stdin",
     "output_type": "stream",
     "text": [
      " 5\n"
     ]
    },
    {
     "name": "stdout",
     "output_type": "stream",
     "text": [
      "*\n",
      "**\n",
      "***\n",
      "****\n",
      "*****\n",
      "****\n",
      "***\n",
      "**\n",
      "*\n"
     ]
    }
   ],
   "source": [
    "N = int(input())\n",
    "\n",
    "for i in range(1,2*N):\n",
    "    for j in range(1):\n",
    "        if i<=N:\n",
    "            print(\"*\"*i, end=\"\")\n",
    "        if i>N and i<2*N:\n",
    "            print(\"*\"*(2*N-i), end=\"\")                        \n",
    "    print()            "
   ]
  },
  {
   "cell_type": "markdown",
   "id": "51c0b651-d43e-45b7-a907-cfcd35257161",
   "metadata": {
    "jp-MarkdownHeadingCollapsed": true,
    "tags": []
   },
   "source": [
    "##### Solution\n",
    "Approach 2"
   ]
  },
  {
   "cell_type": "code",
   "execution_count": 55,
   "id": "8ccc041e-142f-47fc-9df4-e39bfc519228",
   "metadata": {},
   "outputs": [
    {
     "name": "stdin",
     "output_type": "stream",
     "text": [
      " 5\n"
     ]
    },
    {
     "name": "stdout",
     "output_type": "stream",
     "text": [
      "*\n",
      "**\n",
      "***\n",
      "****\n",
      "*****\n",
      "****\n",
      "***\n",
      "**\n",
      "*\n"
     ]
    }
   ],
   "source": [
    "N = int(input())\n",
    "\n",
    "for i in range(1,N+1):\n",
    "    for j in range(1,i+1):\n",
    "            print(\"*\", end=\"\")\n",
    "    print()\n",
    "for i in range(N+1,2*N):\n",
    "    for j in range(2*N-i):\n",
    "        print(\"*\", end=\"\")\n",
    "    print() "
   ]
  },
  {
   "cell_type": "markdown",
   "id": "e3cd9059-3b0b-4896-975c-6b39b62e522f",
   "metadata": {
    "jp-MarkdownHeadingCollapsed": true,
    "tags": []
   },
   "source": [
    "#### Question 4"
   ]
  },
  {
   "cell_type": "markdown",
   "id": "57a8dd08-fffe-4e1b-8873-5860793c5705",
   "metadata": {},
   "source": [
    "Take an integer N as input, print the corresponding pattern for N.\n",
    "\n",
    "For example if N = 5 then pattern will be like:\n",
    "\n",
    "    *****\n",
    "    *   *\n",
    "    *   *\n",
    "    *   *\n",
    "    *****\n",
    "Note : Except for the first line and the last line, every line will have N-2 spaces between the two stars."
   ]
  },
  {
   "cell_type": "markdown",
   "id": "150d9c4b-11a2-49d4-a47d-2b5e467c7a60",
   "metadata": {
    "jp-MarkdownHeadingCollapsed": true,
    "tags": []
   },
   "source": [
    "##### Solution\n",
    "Think of a more optimized approach than this"
   ]
  },
  {
   "cell_type": "code",
   "execution_count": 56,
   "id": "0934f8d5-51ef-4517-bdc2-ce1fb7a1a4e6",
   "metadata": {},
   "outputs": [
    {
     "name": "stdin",
     "output_type": "stream",
     "text": [
      " 5\n"
     ]
    },
    {
     "name": "stdout",
     "output_type": "stream",
     "text": [
      "*****\n",
      "*   *\n",
      "*   *\n",
      "*   *\n",
      "*****\n"
     ]
    }
   ],
   "source": [
    "N = int(input())\n",
    "\n",
    "for i in range(1,N+1):\n",
    "    for j in range(1):\n",
    "        if i==1:\n",
    "            print(\"*\"*N)\n",
    "            break\n",
    "        if i>1 and i<N:\n",
    "            print(\"*\", end=\"\")\n",
    "            print(\" \"*(N-2), end=\"\")\n",
    "            print(\"*\")\n",
    "            break\n",
    "        if i==N:\n",
    "            print(\"*\"*N)\n",
    "            break\n",
    "        \n",
    "        "
   ]
  },
  {
   "cell_type": "markdown",
   "id": "f32159bd-0a39-46c7-be01-f09dc8dbdf48",
   "metadata": {
    "jp-MarkdownHeadingCollapsed": true,
    "tags": []
   },
   "source": [
    "#### Question 5"
   ]
  },
  {
   "cell_type": "markdown",
   "id": "04ab8d9a-91f0-4774-a77e-772f8fe570eb",
   "metadata": {},
   "source": [
    "Given an integer N as input, print the corresponding Hollow Inverted Half Pyramid pattern for N.\n",
    "\n",
    "For example if N = 6 then pattern will be like:\n",
    "\n",
    "    ******\n",
    "    *   *\n",
    "    *  *\n",
    "    * *\n",
    "    **\n",
    "    *"
   ]
  },
  {
   "cell_type": "markdown",
   "id": "14929021-515c-456c-bacc-db5c4db86722",
   "metadata": {
    "jp-MarkdownHeadingCollapsed": true,
    "tags": []
   },
   "source": [
    "##### Solution"
   ]
  },
  {
   "cell_type": "code",
   "execution_count": 57,
   "id": "c1aa3ad0-a568-44b3-bed5-10ea6ec1de50",
   "metadata": {},
   "outputs": [
    {
     "name": "stdin",
     "output_type": "stream",
     "text": [
      " 5\n"
     ]
    },
    {
     "name": "stdout",
     "output_type": "stream",
     "text": [
      "*****\n",
      "*  *\n",
      "* *\n",
      "**\n",
      "*\n"
     ]
    }
   ],
   "source": [
    "N = int(input())\n",
    "\n",
    "for i in range(1,N+1):\n",
    "    for j in range(1,N+1):\n",
    "        if i==1:\n",
    "            print(\"*\", end=\"\")\n",
    "        if i>1:\n",
    "            if j==1:\n",
    "                print(\"*\", end=\"\")\n",
    "            if j>1 and j<=(N-i):\n",
    "                print(\" \", end=\"\")\n",
    "            if j==N-i:\n",
    "                print(\"*\", end=\"\")   \n",
    "    print()"
   ]
  },
  {
   "cell_type": "markdown",
   "id": "b15a5fed-0116-445d-930a-5adecda71de7",
   "metadata": {
    "jp-MarkdownHeadingCollapsed": true,
    "tags": []
   },
   "source": [
    "##### Alternative approach\n",
    "Using jump statement for i"
   ]
  },
  {
   "cell_type": "code",
   "execution_count": 58,
   "id": "acb0ce11-adcf-43c7-9093-5700745098f1",
   "metadata": {},
   "outputs": [
    {
     "name": "stdin",
     "output_type": "stream",
     "text": [
      " 5\n"
     ]
    },
    {
     "name": "stdout",
     "output_type": "stream",
     "text": [
      "*****\n",
      "*  *\n",
      "* *\n",
      "**\n",
      "*\n"
     ]
    }
   ],
   "source": [
    "N = int(input())\n",
    "\n",
    "for i in range(1,N+1):\n",
    "    for j in range(1,N+1):\n",
    "        if i==1:\n",
    "            print(\"*\", end=\"\")\n",
    "            continue\n",
    "        if j==1:\n",
    "            print(\"*\", end=\"\")\n",
    "        if j>1 and j<=(N-i):\n",
    "            print(\" \", end=\"\")\n",
    "        if j==N-i:\n",
    "            print(\"*\", end=\"\")\n",
    "    print() "
   ]
  },
  {
   "cell_type": "markdown",
   "id": "3903ef6d-580a-4490-8199-535dce39d624",
   "metadata": {
    "jp-MarkdownHeadingCollapsed": true,
    "tags": []
   },
   "source": [
    "#### Question 6"
   ]
  },
  {
   "cell_type": "markdown",
   "id": "feee180a-491b-4906-b830-0b82f37dc67b",
   "metadata": {},
   "source": [
    "Take an integer N as input, print the corresponding Full Numeric Pyramid pattern for N.\n",
    "\n",
    "For example if N = 5 then pattern will be like:\n",
    "\n",
    "    0 0 0 0 5 0 0 0 0 \n",
    "    0 0 0 4 8 12 0 0 0 \n",
    "    0 0 3 6 9 12 15 0 0\n",
    "    0 2 4 6 8 10 12 14 0\n",
    "    1 2 3 4 5 6 7 8 9 \n",
    "NOTE: There should be exactly one extra space after each number for each row."
   ]
  },
  {
   "cell_type": "markdown",
   "id": "072fbefe-a033-438e-b7a5-5893eb65f49e",
   "metadata": {
    "jp-MarkdownHeadingCollapsed": true,
    "tags": []
   },
   "source": [
    "##### Solution"
   ]
  },
  {
   "cell_type": "code",
   "execution_count": 59,
   "id": "6638f28d-7c3f-484c-947c-0b26521a0110",
   "metadata": {},
   "outputs": [
    {
     "name": "stdin",
     "output_type": "stream",
     "text": [
      " 5\n"
     ]
    },
    {
     "name": "stdout",
     "output_type": "stream",
     "text": [
      "0 0 0 0 5 0 0 0 0 \n",
      "0 0 0 4 8 12 0 0 0 \n",
      "0 0 3 6 9 12 15 0 0 \n",
      "0 2 4 6 8 10 12 14 0 \n",
      "1 2 3 4 5 6 7 8 9 \n"
     ]
    }
   ],
   "source": [
    "N = int(input())\n",
    "\n",
    "for i in range(N):\n",
    "    for j in range(1):\n",
    "        print(\"0 \"*(N-i-1), end=\"\")\n",
    "    k=1\n",
    "    while k<=(i*2+1):\n",
    "        print((N-i)*k, end=\" \")\n",
    "        k+=1\n",
    "    for j in range(1):\n",
    "        print(\"0 \"*(N-i-1), end=\"\")\n",
    "    print()  "
   ]
  },
  {
   "cell_type": "markdown",
   "id": "b2aebef8-241a-4424-893a-27f201b8d1f1",
   "metadata": {
    "jp-MarkdownHeadingCollapsed": true,
    "tags": []
   },
   "source": [
    "##### Alternative approaches"
   ]
  },
  {
   "cell_type": "markdown",
   "id": "87cec219-0f7b-4ef5-887a-94fb48b06175",
   "metadata": {},
   "source": [
    "Taking range from(1,N+1)"
   ]
  },
  {
   "cell_type": "code",
   "execution_count": 60,
   "id": "d99a75c1-8f07-482a-9d3f-3117a2f9d5e4",
   "metadata": {},
   "outputs": [
    {
     "name": "stdin",
     "output_type": "stream",
     "text": [
      " 5\n"
     ]
    },
    {
     "name": "stdout",
     "output_type": "stream",
     "text": [
      "0 0 0 0 5 0 0 0 0 \n",
      "0 0 0 4 8 12 0 0 0 \n",
      "0 0 3 6 9 12 15 0 0 \n",
      "0 2 4 6 8 10 12 14 0 \n",
      "1 2 3 4 5 6 7 8 9 \n"
     ]
    }
   ],
   "source": [
    "N = int(input())\n",
    "\n",
    "for i in range(1,N+1):\n",
    "    for j in range(1,N-i+1):\n",
    "        print(\"0 \", end=\"\")\n",
    "    for j in range(1,2*i):\n",
    "        print((N-i+1)*j, end=\" \")\n",
    "    for j in range(1,N-i+1):\n",
    "        print(\"0 \", end=\"\")\n",
    "\n",
    "    print()"
   ]
  },
  {
   "cell_type": "markdown",
   "id": "bdae09f4-7035-4fcf-a0bd-ccf6a19dce58",
   "metadata": {},
   "source": [
    "Taking range from (0, N)"
   ]
  },
  {
   "cell_type": "code",
   "execution_count": 1,
   "id": "708222ec-1d29-441f-b10c-43430c5aefd0",
   "metadata": {},
   "outputs": [
    {
     "name": "stdin",
     "output_type": "stream",
     "text": [
      " 5\n"
     ]
    },
    {
     "name": "stdout",
     "output_type": "stream",
     "text": [
      "0 0 0 0 5 0 0 0 0 \n",
      "0 0 0 4 8 12 0 0 0 \n",
      "0 0 3 6 9 12 15 0 0 \n",
      "0 2 4 6 8 10 12 14 0 \n",
      "1 2 3 4 5 6 7 8 9 \n"
     ]
    }
   ],
   "source": [
    "N = int(input())\n",
    "\n",
    "for i in range(N):\n",
    "    for j in range(N-i-1):\n",
    "        print(\"0 \", end=\"\")\n",
    "    for j in range(2*i+1):\n",
    "        print((N-i)*(j+1), end=\" \")\n",
    "    for j in range(N-i-1):\n",
    "        print(\"0 \", end=\"\")\n",
    "    print()"
   ]
  },
  {
   "cell_type": "markdown",
   "id": "14f2f4d0-0bbc-4bf6-86ba-728cc743b6fa",
   "metadata": {
    "jp-MarkdownHeadingCollapsed": true,
    "tags": []
   },
   "source": [
    "#### Question 7"
   ]
  },
  {
   "cell_type": "markdown",
   "id": "20b00ef1-935a-41b1-bda3-ed7967a1de1e",
   "metadata": {},
   "source": [
    "Take an integer N as input, and print the corresponding Inverted Full Pyramid pattern for N.\n",
    "\n",
    "For example if N = 5 then pattern will be like:\n",
    "\n",
    "    * * * * * \n",
    "     * * * * \n",
    "      * * * \n",
    "       * *    \n",
    "        * \n",
    "NOTE: There should be exactly one extra space after each * for each row."
   ]
  },
  {
   "cell_type": "markdown",
   "id": "2a4c0160-e538-473b-915f-3f1bee61743f",
   "metadata": {
    "jp-MarkdownHeadingCollapsed": true,
    "tags": []
   },
   "source": [
    "##### Solution"
   ]
  },
  {
   "cell_type": "code",
   "execution_count": 2,
   "id": "5efce32c-d9b6-4642-967e-83ea10f9c5c5",
   "metadata": {},
   "outputs": [
    {
     "name": "stdin",
     "output_type": "stream",
     "text": [
      " 5\n"
     ]
    },
    {
     "name": "stdout",
     "output_type": "stream",
     "text": [
      "* * * * * \n",
      " * * * * \n",
      "  * * * \n",
      "   * * \n",
      "    * \n"
     ]
    }
   ],
   "source": [
    "N = int(input())\n",
    "\n",
    "for i in range(N):\n",
    "    for j in range(1):\n",
    "        print(\" \"*i, end=\"\")\n",
    "        print(\"* \"*(N-i), end=\"\")\n",
    "    print()"
   ]
  },
  {
   "cell_type": "markdown",
   "id": "d426a428-3533-4607-8966-ef52c43f881b",
   "metadata": {
    "jp-MarkdownHeadingCollapsed": true,
    "tags": []
   },
   "source": [
    "#### Question 8**"
   ]
  },
  {
   "cell_type": "markdown",
   "id": "24055ba9-a45b-4b0d-85fe-93b6783e3357",
   "metadata": {},
   "source": [
    "Given an integer N as input, print the corresponding Full Numeric Pyramid pattern for N.\n",
    "\n",
    "For example if N = 5 then pattern will be like:\n",
    "\n",
    "    0 0 0 0 1 0 0 0 0 \n",
    "    0 0 0 2 3 2 0 0 0 \n",
    "    0 0 3 4 5 4 3 0 0\n",
    "    0 4 5 6 7 6 5 4 0\n",
    "    5 6 7 8 9 8 7 6 5 \n",
    "\n",
    "NOTE: There should be exactly one extra space after each number for each row."
   ]
  },
  {
   "cell_type": "markdown",
   "id": "de760677-52ca-4a43-8329-2445a3987782",
   "metadata": {
    "jp-MarkdownHeadingCollapsed": true,
    "tags": []
   },
   "source": [
    "##### Solution"
   ]
  },
  {
   "cell_type": "code",
   "execution_count": 4,
   "id": "7f088462-6a30-41a6-940b-a39af8bf3da6",
   "metadata": {},
   "outputs": [
    {
     "name": "stdin",
     "output_type": "stream",
     "text": [
      " 5\n"
     ]
    },
    {
     "name": "stdout",
     "output_type": "stream",
     "text": [
      "0 0 0 0 1 0 0 0 0 \n",
      "0 0 0 2 3 2 0 0 0 \n",
      "0 0 3 4 5 4 3 0 0 \n",
      "0 4 5 6 7 6 5 4 0 \n",
      "5 6 7 8 9 8 7 6 5 \n"
     ]
    }
   ],
   "source": [
    "N = int(input())\n",
    "\n",
    "for i in range(N):\n",
    "    for j in range(1):\n",
    "        print(\"0 \"*(N-i-1), end=\"\")\n",
    "        \n",
    "    m=i+1\n",
    "    while m<=(i*2+1):\n",
    "        print(m, end=\" \")\n",
    "        m+=1\n",
    "    m-=2\n",
    "    while m>=(i+1):\n",
    "        print(m, end=\" \")\n",
    "        m-=1\n",
    "        \n",
    "    for j in range(1):\n",
    "        print(\"0 \"*(N-i-1), end=\"\")\n",
    "    print()"
   ]
  },
  {
   "cell_type": "markdown",
   "id": "9f6ec308-d063-43cd-97d5-71ded3b8e7fc",
   "metadata": {
    "jp-MarkdownHeadingCollapsed": true,
    "tags": []
   },
   "source": [
    "##### Alternative approaches"
   ]
  },
  {
   "cell_type": "markdown",
   "id": "1814382e-4039-4d78-a611-3f931187f928",
   "metadata": {},
   "source": [
    "Using if-else inside for loop"
   ]
  },
  {
   "cell_type": "code",
   "execution_count": 6,
   "id": "8b500121-d518-4880-ba33-45dcfdde5f85",
   "metadata": {},
   "outputs": [
    {
     "name": "stdin",
     "output_type": "stream",
     "text": [
      " 5\n"
     ]
    },
    {
     "name": "stdout",
     "output_type": "stream",
     "text": [
      "0 0 0 0 1 0 0 0 0 \n",
      "0 0 0 2 3 2 0 0 0 \n",
      "0 0 3 4 5 4 3 0 0 \n",
      "0 4 5 6 7 6 5 4 0 \n",
      "5 6 7 8 9 8 7 6 5 \n"
     ]
    }
   ],
   "source": [
    "N = int(input())\n",
    "\n",
    "for i in range(1,N+1):\n",
    "    for j in range(1,N-i+1):\n",
    "        print(\"0 \", end=\"\")\n",
    "    k=i\n",
    "    for j in range(1,2*i):\n",
    "        if j<i:\n",
    "            print(k, end=\" \")\n",
    "            k+=1\n",
    "        else:\n",
    "            print(k,end=\" \")\n",
    "            k-=1\n",
    "    for j in range(1,N-i+1):\n",
    "        print(\"0 \", end=\"\")\n",
    "               \n",
    "    print()"
   ]
  },
  {
   "cell_type": "markdown",
   "id": "9aefc20b-81e9-4eb8-aca0-1e03c33f5275",
   "metadata": {},
   "source": [
    "Using only for loop"
   ]
  },
  {
   "cell_type": "code",
   "execution_count": 7,
   "id": "a4cca4da-c13a-415d-b117-b75ee231b4c7",
   "metadata": {},
   "outputs": [
    {
     "name": "stdin",
     "output_type": "stream",
     "text": [
      " 5\n"
     ]
    },
    {
     "name": "stdout",
     "output_type": "stream",
     "text": [
      "0 0 0 0 1 0 0 0 0 \n",
      "0 0 0 2 3 2 0 0 0 \n",
      "0 0 3 4 5 4 3 0 0 \n",
      "0 4 5 6 7 6 5 4 0 \n",
      "5 6 7 8 9 8 7 6 5 \n"
     ]
    }
   ],
   "source": [
    "N = int(input())\n",
    "\n",
    "for i in range(1,N+1):\n",
    "    for j in range(1,N-i+1):\n",
    "        print(\"0 \", end=\"\")\n",
    "    k=i\n",
    "    for j in range(1,i):\n",
    "        print(k, end=\" \")\n",
    "        k+=1\n",
    "    for j in range(1, i+1):\n",
    "        print(k, end=\" \")\n",
    "        k-=1\n",
    "    for j in range(1,N-i+1):\n",
    "        print(\"0 \", end=\"\")\n",
    "              \n",
    "    print()"
   ]
  },
  {
   "cell_type": "markdown",
   "id": "49769857-7307-419d-a27f-30c1e6a4297a",
   "metadata": {
    "jp-MarkdownHeadingCollapsed": true,
    "tags": []
   },
   "source": [
    "### Day 14: Functions 1"
   ]
  },
  {
   "cell_type": "markdown",
   "id": "efd10a95-9102-4163-8525-afe0c4eafad0",
   "metadata": {
    "jp-MarkdownHeadingCollapsed": true,
    "tags": []
   },
   "source": [
    "#### Question 1"
   ]
  },
  {
   "cell_type": "markdown",
   "id": "78fdea1b-1273-4864-9699-1f4fa4b239e0",
   "metadata": {
    "tags": []
   },
   "source": [
    "    Write a program to print all Natural numbers from 1 to N and from N to 1 inclusive, where N is given as an argument.\n",
    "    \n",
    "    Note1: First print from 1 to N then in new line print again from N to 1\n",
    "    \n",
    "    Note2: You need not take input in this problem, you need to only implement the function provided.\n",
    "    \n",
    "    Note3: There is 1 line gap between two output lines and a space between numbers in same line.\n",
    "\n",
    "    Problem Constraints:\n",
    "    1 <= N <= 1000\n",
    "    \n",
    "    Input Format:\n",
    "    The first line indicates the number of test cases t\n",
    "    The next t lines will have different values of N according to testcases\n",
    "    \n",
    "    Output Format:\n",
    "    For each testcase there will be two lines of output:  \n",
    "    The first line is N space-separated integers from 1 to N.\n",
    "    The next line is N space-separated integers from N to 1.\n",
    "    \n",
    "    Sample Input:\n",
    "    1\n",
    "    5\n",
    "    \n",
    "    Sample Output:\n",
    "    1 2 3 4 5\n",
    "\n",
    "    5 4 3 2 1"
   ]
  },
  {
   "cell_type": "markdown",
   "id": "13c7246c-93e4-4413-908e-84ca2a5363fa",
   "metadata": {
    "jp-MarkdownHeadingCollapsed": true,
    "tags": []
   },
   "source": [
    "##### Solution Submitted"
   ]
  },
  {
   "cell_type": "code",
   "execution_count": 8,
   "id": "172c17f7-ffeb-493d-afd6-487eef422961",
   "metadata": {},
   "outputs": [],
   "source": [
    "def sequence(n):\n",
    "    for i in range(0,n):\n",
    "        print(i+1, end=\" \")\n",
    "    print(\"\\n\")\n",
    "    for i in range(0,n):\n",
    "        print(n-i, end=\" \")"
   ]
  },
  {
   "cell_type": "code",
   "execution_count": 9,
   "id": "3802dedd-ce8a-490c-bd62-69f97f4a550e",
   "metadata": {},
   "outputs": [
    {
     "name": "stdout",
     "output_type": "stream",
     "text": [
      "1 2 3 4 5 \n",
      "\n",
      "5 4 3 2 1 "
     ]
    }
   ],
   "source": [
    "# Output\n",
    "sequence(5)"
   ]
  },
  {
   "cell_type": "markdown",
   "id": "0ad03abe-9746-466c-91d3-173989c84ab4",
   "metadata": {
    "jp-MarkdownHeadingCollapsed": true,
    "tags": []
   },
   "source": [
    "#### Question 2"
   ]
  },
  {
   "cell_type": "markdown",
   "id": "bbb5a3e2-577a-45ef-965b-2cc96b4969c1",
   "metadata": {},
   "source": [
    "    Write a program to calculate the total amount if the principal amount, simple interest rate per annum, and time in the number of days are given. The simple interest rate per annum is provided as a percentage. Assuming that there are 365 days in a year, print the total amount rounded up to 2 decimal places.\n",
    "\n",
    "    Note 1: Use round(ans,2) to round up ans up to two decimals\n",
    "\n",
    "    Note 2: You need not take input in this problem, you need only to implement the function provided.\n",
    "\n",
    "    Input Format:\n",
    "    For each testcase there will be three lines of input as follows:  \n",
    "    The 3 lines have numbers  \n",
    "    The first line describes the time in number of days in int format \n",
    "    The second line describes the principal amount in float format\n",
    "    The third line describes the interest rate per annum in percentage in float format\n",
    "\n",
    "    Output Format:\n",
    "    Total amount in float format\n",
    "\n",
    "    Sample Input:\n",
    "    1  \n",
    "    789\n",
    "    10000.0\n",
    "    1.3\n",
    "\n",
    "    Sample Output:\n",
    "    10281.01"
   ]
  },
  {
   "cell_type": "markdown",
   "id": "06257603-58df-4113-9050-48f94158a513",
   "metadata": {
    "jp-MarkdownHeadingCollapsed": true,
    "tags": []
   },
   "source": [
    "##### Solution Submitted"
   ]
  },
  {
   "cell_type": "code",
   "execution_count": 10,
   "id": "d22847e7-599b-48b7-ae81-0176049eb3d6",
   "metadata": {},
   "outputs": [],
   "source": [
    "def simple_int(time,pa,ir):\n",
    "    ans = pa+((time/365)*pa*ir)/100\n",
    "    return round(ans,2)"
   ]
  },
  {
   "cell_type": "code",
   "execution_count": 11,
   "id": "1f6f5146-7f9a-4526-b4e5-29826890f30e",
   "metadata": {},
   "outputs": [
    {
     "data": {
      "text/plain": [
       "10281.01"
      ]
     },
     "execution_count": 11,
     "metadata": {},
     "output_type": "execute_result"
    }
   ],
   "source": [
    "simple_int(789,10000.0,1.3)"
   ]
  },
  {
   "cell_type": "markdown",
   "id": "224dc0fd-5e7a-4dc5-95cc-fa7d8d77d498",
   "metadata": {
    "jp-MarkdownHeadingCollapsed": true,
    "tags": []
   },
   "source": [
    "#### Question 3"
   ]
  },
  {
   "cell_type": "markdown",
   "id": "d1ff330d-818d-44f2-950a-a44dddc6172d",
   "metadata": {},
   "source": [
    "\n",
    "    Write a program that takes the cost price of a vehicle as an argument and returns the road tax, that the vehicle owner has to pay according to the following criteria:\n",
    "\n",
    "    Note1: Return the tax up to one decimal place. You can use round(tax,1)\n",
    "\n",
    "    Note2: You need not take input in this problem, you need to only implement the function provided.\n",
    "\n",
    "    Input Format:\n",
    "    The first line indicates the number of test cases. For each testcase there will be a single line of input representing the cost price.\n",
    "    \n",
    "    Output Format:\n",
    "    Return tax in float format.\n",
    "    \n",
    "    Sample Input:\n",
    "    1\n",
    "    25000\n",
    "    \n",
    "    Sample Output:\n",
    "    1250.0"
   ]
  },
  {
   "cell_type": "markdown",
   "id": "af3c3dc0-51d0-4507-bb8b-fb0ad958398b",
   "metadata": {
    "jp-MarkdownHeadingCollapsed": true,
    "tags": []
   },
   "source": [
    "##### Solution Submitted"
   ]
  },
  {
   "cell_type": "code",
   "execution_count": 12,
   "id": "2721e4de-458d-421c-b8fd-51eec428adae",
   "metadata": {},
   "outputs": [],
   "source": [
    "def road_tax(price):\n",
    "    if price>100000:\n",
    "        tax = 0.20*price\n",
    "    if price>75000 and price<=100000:\n",
    "        tax = 0.15*price\n",
    "    if price>50000 and price<=75000:\n",
    "        tax = 0.10*price\n",
    "    if price<50000:\n",
    "        tax = 0.05*price\n",
    "    return round(tax,1)"
   ]
  },
  {
   "cell_type": "code",
   "execution_count": 13,
   "id": "477bb550-926c-4570-a559-e83d6e91aca5",
   "metadata": {},
   "outputs": [
    {
     "data": {
      "text/plain": [
       "1250.0"
      ]
     },
     "execution_count": 13,
     "metadata": {},
     "output_type": "execute_result"
    }
   ],
   "source": [
    "road_tax(25000)"
   ]
  },
  {
   "cell_type": "markdown",
   "id": "b8d1b707-6b39-43d0-8b16-f64b4424b544",
   "metadata": {
    "jp-MarkdownHeadingCollapsed": true,
    "tags": []
   },
   "source": [
    "#### Question 5**"
   ]
  },
  {
   "cell_type": "markdown",
   "id": "2a65c373-818c-412e-b752-d188432ec434",
   "metadata": {},
   "source": [
    "\n",
    "    Write a function to print a pattern similar to the one shown in the sample using n which is given to you as an argument to a function. Here n defines the number of rows.\n",
    "\n",
    "    Note: There are no spaces between the stars in the first row, and there are no spaces at the end of each row.\n",
    "\n",
    "    Input Format:\n",
    "    The only argument to the function in an integer n.\n",
    "\n",
    "    Output Format:\n",
    "    Print Star Pattern in string format for each testcase.\n",
    "\n",
    "    Sample Input:\n",
    "    8\n",
    "\n",
    "    Sample Output:\n",
    "    ********\n",
    "    *     *\n",
    "    *    *\n",
    "    *   *\n",
    "    *  *\n",
    "    * *\n",
    "    **\n",
    "    *\n",
    "\n",
    "    Sample Explanation:\n",
    "    In the first row, (n=8) stars are printed. \n",
    "    In the second row, 2 stars are printed with 5 spaces between them. \n",
    "    This number of spaces keeps decreasing by 1 after the second row until the last row where the number of spaces becomes zero and only one star is printed."
   ]
  },
  {
   "cell_type": "markdown",
   "id": "b0e4b489-8a77-4bb6-8cdc-6265d1ea7964",
   "metadata": {
    "jp-MarkdownHeadingCollapsed": true,
    "tags": []
   },
   "source": [
    "##### Solution Submitted"
   ]
  },
  {
   "cell_type": "code",
   "execution_count": 14,
   "id": "7eebb2be-aea2-45b2-9b28-8bf3e4375b56",
   "metadata": {},
   "outputs": [],
   "source": [
    "def star(n):\n",
    "    for i in range(1,n+1):\n",
    "        for j in range(1,n+1):\n",
    "            if i==1:\n",
    "                print(\"*\", end=\"\")\n",
    "            if i>1:\n",
    "                if j==1:\n",
    "                    print(\"*\", end=\"\")\n",
    "                if j>1 and j<=(n-i):\n",
    "                    print(\" \", end=\"\")\n",
    "                if j==n-i:\n",
    "                    print(\"*\", end=\"\")   \n",
    "        print()"
   ]
  },
  {
   "cell_type": "code",
   "execution_count": 15,
   "id": "ef01ed1d-4cf9-47c9-8137-caefbdb77cd9",
   "metadata": {},
   "outputs": [
    {
     "name": "stdout",
     "output_type": "stream",
     "text": [
      "********\n",
      "*     *\n",
      "*    *\n",
      "*   *\n",
      "*  *\n",
      "* *\n",
      "**\n",
      "*\n"
     ]
    }
   ],
   "source": [
    "star(8)"
   ]
  },
  {
   "cell_type": "markdown",
   "id": "00a9ba25-a4ad-47d9-b248-111694d363b0",
   "metadata": {
    "jp-MarkdownHeadingCollapsed": true,
    "tags": []
   },
   "source": [
    "#### Question 6"
   ]
  },
  {
   "cell_type": "markdown",
   "id": "27847857-f8d8-4224-a173-4f43f8d8fa3a",
   "metadata": {},
   "source": [
    "    Write a function to check whether a given number n as an input to the function is a perfect number or not. If the given integer is a perfect number return 1 else return 0.\n",
    "\n",
    "    Note: In number theory, a perfect number is a positive integer that is equal to the sum of its proper positive divisors, that is, the sum of its positive divisors excluding the number itself (also known as its aliquot sum).\n",
    "\n",
    "    Input Format:\n",
    "    The only argument to the function is an integer n.\n",
    "    \n",
    "    Output Format:\n",
    "    Print out 1 if the number is perfect else 0 in integer format.\n",
    "    \n",
    "    Sample Input:\n",
    "    6\n",
    "    \n",
    "    Sample Output:\n",
    "    1\n",
    "    \n",
    "    Sample Explanation:\n",
    "    Given number is 6. 1, 2, and 3 are its proper positive divisors, and 1 + 2 + 3 = 6. Equivalently, the number 6 is equal to half the sum of all its positive divisors: ( 1 + 2 + 3 + 6 ) / 2 = 6. Hence 6 is a perfect number."
   ]
  },
  {
   "cell_type": "markdown",
   "id": "5e57af80-6ea7-4023-a420-62b256ca812d",
   "metadata": {
    "jp-MarkdownHeadingCollapsed": true,
    "tags": []
   },
   "source": [
    "##### Solution Submitted"
   ]
  },
  {
   "cell_type": "code",
   "execution_count": 16,
   "id": "84a24273-543f-4991-bb5a-4f78202429b8",
   "metadata": {},
   "outputs": [],
   "source": [
    "def perfect_number(n):\n",
    "    sum1=0\n",
    "    for i in range(1,n):\n",
    "        if n%i==0:\n",
    "            sum1+=i\n",
    "    if sum1==n:\n",
    "        return 1\n",
    "    else:\n",
    "        return 0"
   ]
  },
  {
   "cell_type": "code",
   "execution_count": 17,
   "id": "083d77c3-5dc6-4089-a163-ed08ef6fe24a",
   "metadata": {},
   "outputs": [
    {
     "data": {
      "text/plain": [
       "1"
      ]
     },
     "execution_count": 17,
     "metadata": {},
     "output_type": "execute_result"
    }
   ],
   "source": [
    "perfect_number(6)"
   ]
  },
  {
   "cell_type": "markdown",
   "id": "9fcbe2d7-5522-4199-b4a9-073b95e05afc",
   "metadata": {
    "jp-MarkdownHeadingCollapsed": true,
    "tags": []
   },
   "source": [
    "#### Question 7"
   ]
  },
  {
   "cell_type": "markdown",
   "id": "e3082418-d688-418f-8dd4-05771a7d7caf",
   "metadata": {},
   "source": [
    "    You are given a positive integer r denoting the radius of a sphere as a parameter. Write a program to calculate the volume of the sphere. The volume of a sphere having radius R is given by (4 * π * R3) / 3.\n",
    "\n",
    "    NOTE: Return the volume of the sphere up to two decimal places. You can use round().\n",
    "\n",
    "    NOTE2: Use pi as 22/7 (not math.pi).\n",
    "\n",
    "    Input Format:\n",
    "    The first line indicates the number of the test cases. For each testcase there will be one line of input:\n",
    "    The one line contains r in integer format.\n",
    "\n",
    "    Output Format:\n",
    "    The volume of the sphere in float format is printed for each testcase in a new line.\n",
    "\n",
    "    Sample Input:\n",
    "    1\n",
    "    8\n",
    "\n",
    "    Sample Output:\n",
    "    2145.52"
   ]
  },
  {
   "cell_type": "markdown",
   "id": "5d205a70-635a-41dc-b340-8e4d19666eeb",
   "metadata": {
    "jp-MarkdownHeadingCollapsed": true,
    "tags": []
   },
   "source": [
    "##### Solution Submitted"
   ]
  },
  {
   "cell_type": "code",
   "execution_count": 18,
   "id": "e167e2eb-28fe-41e2-b0d5-beca04e97056",
   "metadata": {},
   "outputs": [],
   "source": [
    "def volume_sphere(r):\n",
    "    pi = 22/7\n",
    "    Vol = (4*pi*r**3)/3\n",
    "    \n",
    "    return round(Vol,2)"
   ]
  },
  {
   "cell_type": "code",
   "execution_count": 19,
   "id": "d6d2c301-7a99-410f-b44d-d0f1e32ecd28",
   "metadata": {},
   "outputs": [
    {
     "data": {
      "text/plain": [
       "2145.52"
      ]
     },
     "execution_count": 19,
     "metadata": {},
     "output_type": "execute_result"
    }
   ],
   "source": [
    "#Output\n",
    "volume_sphere(8)"
   ]
  },
  {
   "cell_type": "markdown",
   "id": "ed36be4b-6b29-466b-a419-3a8e2279bbaa",
   "metadata": {
    "jp-MarkdownHeadingCollapsed": true,
    "tags": []
   },
   "source": [
    "### Day 15: Functions 2"
   ]
  },
  {
   "cell_type": "markdown",
   "id": "9635340f-87ee-428d-b8ac-80d24e009fe4",
   "metadata": {
    "jp-MarkdownHeadingCollapsed": true,
    "tags": []
   },
   "source": [
    "#### Question 1"
   ]
  },
  {
   "cell_type": "markdown",
   "id": "f759fd2f-da32-4088-b199-d14f4312133f",
   "metadata": {},
   "source": [
    "    Given the height (A) and weight (B) of a person as input in centimetres and kilograms.\n",
    "\n",
    "    Find the BMI of that person and the classification of the user based on their BMI.\n",
    "\n",
    "    Print Underweight if BMI < 18.5\n",
    "    Print Normal weight if BMI lies in the range [18.5, 24.9]\n",
    "    Print Overweight if BMI lies in the range (24.9, 29.9]\n",
    "    Print Obese if BMI is greater than 29.9\n",
    "    If x is the weight in kilograms and y is the height in metres.\n",
    "\n",
    "    Then, BMI is calculated as x/(y*y).\n",
    "\n",
    "    Problem Constraints -\n",
    "    1 <= A <= 180\n",
    "    1 <= B <= 120\n",
    "\n",
    "    Input Format -\n",
    "    The first line contains the height of the person in centimetres.\n",
    "    The second line of the input contains the weight of the person in kilograms.\n",
    "\n",
    "    Output Format -\n",
    "    The first line of the output contains the classification of a person based on the BMI value.\n",
    "    The second line of the output contains the BMI value of the person.\n",
    "\n",
    "    Input 1:\n",
    "    101\n",
    "    29\n",
    "\n",
    "    Input 2:\n",
    "    129\n",
    "    31\n",
    "\n",
    "    Output 1:\n",
    "    Overweight\n",
    "    28.4\n",
    "\n",
    "    Output 2:\n",
    "    Normal\n",
    "    18.6"
   ]
  },
  {
   "cell_type": "markdown",
   "id": "034ccf1b-90f4-4e70-989c-534719b97c62",
   "metadata": {
    "jp-MarkdownHeadingCollapsed": true,
    "tags": []
   },
   "source": [
    "##### Solution Submitted"
   ]
  },
  {
   "cell_type": "code",
   "execution_count": 20,
   "id": "81b61788-2efa-40ae-831e-64dd1802e8cf",
   "metadata": {},
   "outputs": [
    {
     "name": "stdin",
     "output_type": "stream",
     "text": [
      " 24\n",
      " 56\n"
     ]
    },
    {
     "name": "stdout",
     "output_type": "stream",
     "text": [
      "Obese\n",
      "972.2\n"
     ]
    }
   ],
   "source": [
    "A = int(input())\n",
    "B = int(input())\n",
    "\n",
    "def bmi():\n",
    "    BMI = round(B/((A*A)/10000),1)\n",
    "    return BMI\n",
    "if bmi()<18.5:\n",
    "    print(\"Underweight\")\n",
    "    print(bmi())\n",
    "elif bmi()>=18.5 and bmi()<24.9:\n",
    "    print(\"Normal weight\")\n",
    "    print(bmi())\n",
    "elif bmi()>=24.9 and bmi()<29.9:\n",
    "    print(\"Overweight\")\n",
    "    print(bmi())\n",
    "else:\n",
    "    print(\"Obese\")\n",
    "    print(bmi())"
   ]
  },
  {
   "cell_type": "code",
   "execution_count": 21,
   "id": "5a73837a-abf6-4f51-9f83-b7a926e61ac5",
   "metadata": {},
   "outputs": [
    {
     "name": "stdin",
     "output_type": "stream",
     "text": [
      " 24\n",
      " 56\n"
     ]
    },
    {
     "name": "stdout",
     "output_type": "stream",
     "text": [
      "Obese\n",
      "972.2\n"
     ]
    }
   ],
   "source": [
    "A = int(input())\n",
    "B = int(input())\n",
    "\n",
    "def bmi(A,B):\n",
    "    BMI = round(B/((A*A)/10000),1)\n",
    "    return BMI\n",
    "if bmi(A,B)<18.5:\n",
    "    print(\"Underweight\")\n",
    "    print(bmi(A,B))\n",
    "elif bmi(A,B)>=18.5 and bmi(A,B)<24.9:\n",
    "    print(\"Normal weight\")\n",
    "    print(bmi(A,B))\n",
    "elif bmi(A,B)>=24.9 and bmi(A,B)<29.9:\n",
    "    print(\"Overweight\")\n",
    "    print(bmi(A,B))\n",
    "else:\n",
    "    print(\"Obese\")\n",
    "    print(bmi(A,B))"
   ]
  },
  {
   "cell_type": "code",
   "execution_count": 22,
   "id": "49542e8c-bee5-4a56-a8ea-a529999c7a32",
   "metadata": {},
   "outputs": [
    {
     "data": {
      "text/plain": [
       "972.2"
      ]
     },
     "execution_count": 22,
     "metadata": {},
     "output_type": "execute_result"
    }
   ],
   "source": [
    "# Output\n",
    "bmi(A,B)"
   ]
  },
  {
   "cell_type": "markdown",
   "id": "d8a3469d-42cb-4c44-86e1-b779060ca93c",
   "metadata": {
    "jp-MarkdownHeadingCollapsed": true,
    "tags": []
   },
   "source": [
    "#### Question 11"
   ]
  },
  {
   "cell_type": "markdown",
   "id": "836054d6-72f8-4bcb-909b-3544585bc6b3",
   "metadata": {},
   "source": [
    "    Will the following program output \"hello world\"?\n",
    "    \n",
    "    def foo():\n",
    "        x = \"hello world\"\n",
    "\n",
    "    foo()\n",
    "    print(x)"
   ]
  },
  {
   "cell_type": "markdown",
   "id": "46989218-da7c-46fe-b887-53a1169eb30e",
   "metadata": {
    "jp-MarkdownHeadingCollapsed": true,
    "tags": []
   },
   "source": [
    "##### Solution"
   ]
  },
  {
   "cell_type": "markdown",
   "id": "1689a203-24de-4684-93d8-bd172ae575b1",
   "metadata": {},
   "source": [
    "x is not defined outside the function"
   ]
  },
  {
   "cell_type": "markdown",
   "id": "82993368-7e09-4fbf-ae29-53edec2dd93e",
   "metadata": {
    "jp-MarkdownHeadingCollapsed": true,
    "tags": []
   },
   "source": [
    "#### Question 12"
   ]
  },
  {
   "cell_type": "markdown",
   "id": "72c24df1-016a-4e24-ac12-1ffbad6906d7",
   "metadata": {},
   "source": [
    "    What does the following program print?\n",
    "\n",
    "\n",
    "    x = \"global\"\n",
    "\n",
    "    def foo():\n",
    "        global x\n",
    "        print(x, end=\",\")\n",
    "        x = \"local\"\n",
    "        print(x, end=\",\")\n",
    "\n",
    "    foo()\n",
    "    print(x, end=\"\")\n"
   ]
  },
  {
   "cell_type": "markdown",
   "id": "015226cd-d1d1-44af-bc3d-25d834369884",
   "metadata": {
    "jp-MarkdownHeadingCollapsed": true,
    "tags": []
   },
   "source": [
    "##### Solution"
   ]
  },
  {
   "cell_type": "markdown",
   "id": "e449c043-acdf-436d-8889-448e60a7dd07",
   "metadata": {},
   "source": [
    "since we are using global inside the function hence all the operations will now affect the global value"
   ]
  },
  {
   "cell_type": "markdown",
   "id": "723e24e0-9b13-460d-96db-caf399a04b0e",
   "metadata": {
    "tags": []
   },
   "source": [
    "### Day 16: Lists - 1D"
   ]
  },
  {
   "cell_type": "markdown",
   "id": "eefe723d-d9ff-4161-a93a-7dd414b6e0bc",
   "metadata": {
    "jp-MarkdownHeadingCollapsed": true,
    "tags": []
   },
   "source": [
    "#### Question 1"
   ]
  },
  {
   "cell_type": "markdown",
   "id": "9fdf233c-75d9-4586-81ad-37cbbaab3b02",
   "metadata": {},
   "source": [
    "    Write a function to check if the input list has consecutive duplicate elements or not.\n",
    "    Return True if there are consecutive duplicate elements in the list else return False.\n",
    "\n",
    "    Here by consecutive duplicates, we mean duplicates that are present at consecutive indices in the array\n",
    "\n",
    "    Input Format:\n",
    "    An integer array A as the function argument.\n",
    "    \n",
    "    Output Format:\n",
    "    Return True or False\n",
    "    \n",
    "    Sample Input:\n",
    "    1\n",
    "    4\n",
    "    1 2 3 3\n",
    "    \n",
    "    Sample Output:\n",
    "    True\n",
    "    Sample Explanation:\n",
    "\n",
    "    As there are 3 3 in the list i.e. at indices 2 and 3, there True is returned.\n"
   ]
  },
  {
   "cell_type": "markdown",
   "id": "773ca009-74e1-4944-9a9e-d66338f7bfd0",
   "metadata": {
    "jp-MarkdownHeadingCollapsed": true,
    "tags": []
   },
   "source": [
    "##### Solution Submitted"
   ]
  },
  {
   "cell_type": "code",
   "execution_count": 23,
   "id": "a8247342-e28a-4059-9e53-0967ecb29eb0",
   "metadata": {},
   "outputs": [],
   "source": [
    "def duplicate(ls,n):\n",
    "    \n",
    "    for i in range(n-1):\n",
    "        if ls[i]==ls[i+1]:\n",
    "            return True\n",
    "    return False"
   ]
  },
  {
   "cell_type": "code",
   "execution_count": 24,
   "id": "0c791804-7a5a-44f6-a991-e5e81b35fd5d",
   "metadata": {},
   "outputs": [],
   "source": [
    "ls = [1, 2, 3, 3]\n",
    "n=4"
   ]
  },
  {
   "cell_type": "code",
   "execution_count": 25,
   "id": "1ba26a9b-1d2c-4b44-947f-c4be6bedbaac",
   "metadata": {},
   "outputs": [
    {
     "data": {
      "text/plain": [
       "True"
      ]
     },
     "execution_count": 25,
     "metadata": {},
     "output_type": "execute_result"
    }
   ],
   "source": [
    "duplicate(ls,n)"
   ]
  },
  {
   "cell_type": "markdown",
   "id": "bbd8ce26-b764-48eb-9d39-ac80d73a7829",
   "metadata": {
    "jp-MarkdownHeadingCollapsed": true,
    "tags": []
   },
   "source": [
    "#### Question 2"
   ]
  },
  {
   "cell_type": "markdown",
   "id": "d69b34fa-7db3-4e86-8c4e-80e1623e4abd",
   "metadata": {},
   "source": [
    "    Write a program for a given integer x and a list ls to return the first multiple of x that occurs in the list, and if there isn’t any multiple of x in the list then return -1.\n",
    "\n",
    "    Input Format:\n",
    "    The first input to the function is a list ls and the second input is the integer x.\n",
    "    \n",
    "    Output Format:\n",
    "    Return the multiple of x from the list in integer format, else return -1.\n",
    "    \n",
    "    Sample Input:\n",
    "    1\n",
    "    4\n",
    "    2 1 2 4 3 5\n",
    "    \n",
    "    Sample Output:\n",
    "    4\n",
    "    \n",
    "    Sample explanation:\n",
    "    In the list, the first element that is a multiple of 4 is 4."
   ]
  },
  {
   "cell_type": "markdown",
   "id": "200b9c03-cd15-4a2e-a713-0299b5a800e3",
   "metadata": {
    "jp-MarkdownHeadingCollapsed": true,
    "tags": []
   },
   "source": [
    "##### Solution Submitted"
   ]
  },
  {
   "cell_type": "code",
   "execution_count": 26,
   "id": "57961e8a-b8ca-4e9e-be22-c22af27f65f1",
   "metadata": {},
   "outputs": [],
   "source": [
    "def first_multiple(ls,x):\n",
    "    for i in ls:\n",
    "        if i%x==0:\n",
    "            return i\n",
    "    return -1"
   ]
  },
  {
   "cell_type": "code",
   "execution_count": 27,
   "id": "208f5e53-9621-4793-951a-8106b8f619cc",
   "metadata": {},
   "outputs": [],
   "source": [
    "ls = [2,1,2,4,3,5]\n",
    "x=4"
   ]
  },
  {
   "cell_type": "code",
   "execution_count": 28,
   "id": "f004e6b9-d2d6-47c8-869b-1afbb694e1f6",
   "metadata": {},
   "outputs": [
    {
     "data": {
      "text/plain": [
       "4"
      ]
     },
     "execution_count": 28,
     "metadata": {},
     "output_type": "execute_result"
    }
   ],
   "source": [
    "first_multiple(ls,x)"
   ]
  },
  {
   "cell_type": "markdown",
   "id": "fef7779b-d760-4310-b5fb-4965d97fe7a7",
   "metadata": {
    "tags": []
   },
   "source": [
    "### Day 17: List Slicing**"
   ]
  },
  {
   "cell_type": "markdown",
   "id": "56fa5a8e-6c1f-4d45-96fa-132992d97ddc",
   "metadata": {
    "jp-MarkdownHeadingCollapsed": true,
    "tags": []
   },
   "source": [
    "#### Question 1"
   ]
  },
  {
   "cell_type": "markdown",
   "id": "7ce362c6-6fcb-4c57-8787-429a05dd27bf",
   "metadata": {},
   "source": [
    "    Given a sorted integer array A, and an integer B. Find the first and last index of B in A.\n",
    "    It is guaranteed that B exists in A. Return an array C of size 2, where C[0] is the first index of B in A and C[1] is the last index of B in A.\n",
    "\n",
    "    Note - Indexing of A starts from 0. If the element only exists once, the values of both elements in the C list should be the same.\n",
    "\n",
    "    Input Format\n",
    "    The first argument is an array A.\n",
    "    The second argument is an integer B.\n",
    "\n",
    "    Output Format\n",
    "    An integer array C of size 2.\n",
    "\n",
    "    Input 1:\n",
    "    A = [-2, -2, 4, 4, 8, 9]\n",
    "    B = 4\n",
    "    Input 2:\n",
    "    A = [1, 9, 9, 9, 10, 21]\n",
    "    B = 9\n",
    "\n",
    "    Output 1:\n",
    "    C =  [2, 3]\n",
    "    Output 2:\n",
    "    C = [1, 3]\n",
    "\n",
    "    Explanation 1:\n",
    "    A[2] and A[3] are equal to 4.\n",
    "    Explanation 2:\n",
    "    A[1], A[2] and A[3] are equal to 9."
   ]
  },
  {
   "cell_type": "markdown",
   "id": "b5e27f02-17ad-4291-a17b-0b8e2214d30a",
   "metadata": {
    "jp-MarkdownHeadingCollapsed": true,
    "tags": []
   },
   "source": [
    "##### Solution Submitted"
   ]
  },
  {
   "cell_type": "code",
   "execution_count": 29,
   "id": "f453313e-9935-4c45-8112-bb78655801fe",
   "metadata": {},
   "outputs": [],
   "source": [
    "def solve(A, B):\n",
    "    C = []\n",
    "    X = []\n",
    "    for i in range(len(A)):\n",
    "        if A[i]==B:\n",
    "            X.append(i)\n",
    "    C = X[:1]+X[-1:]       \n",
    "    \n",
    "    return C      "
   ]
  },
  {
   "cell_type": "code",
   "execution_count": 30,
   "id": "3e07d2d6-db77-4ade-8118-f4207d625532",
   "metadata": {},
   "outputs": [
    {
     "data": {
      "text/plain": [
       "[1, 3]"
      ]
     },
     "execution_count": 30,
     "metadata": {},
     "output_type": "execute_result"
    }
   ],
   "source": [
    "# Output\n",
    "A = [-2, -2, 4, 4, 8, 9]\n",
    "B = 4\n",
    "A = [1, 9, 9, 9, 10, 21]\n",
    "B = 9\n",
    "solve(A, B)"
   ]
  },
  {
   "cell_type": "markdown",
   "id": "2757018a-74b8-4caf-9214-1f2b5b4a0e59",
   "metadata": {
    "jp-MarkdownHeadingCollapsed": true,
    "tags": []
   },
   "source": [
    "##### Alternative Solution"
   ]
  },
  {
   "cell_type": "code",
   "execution_count": 31,
   "id": "b285cc10-7360-4211-b18e-b76d21aa794f",
   "metadata": {},
   "outputs": [],
   "source": [
    "def solve(A, B):\n",
    "    index_1 = None\n",
    "    index_2 = None\n",
    "    for i in range(len(A)):\n",
    "        # We got the first index with value equal to B\n",
    "        if (A[i] == B) and (index_1 == None):\n",
    "            index_1 = i\n",
    "            index_2 = i\n",
    "        elif (A[i] == B) and (index_1 is not None):\n",
    "            index_2 = i\n",
    "    return [index_1, index_2]"
   ]
  },
  {
   "cell_type": "code",
   "execution_count": 32,
   "id": "9dc4ef3e-1d08-4e2b-9bd1-551268322366",
   "metadata": {},
   "outputs": [
    {
     "data": {
      "text/plain": [
       "[1, 3]"
      ]
     },
     "execution_count": 32,
     "metadata": {},
     "output_type": "execute_result"
    }
   ],
   "source": [
    "# Output\n",
    "A = [-2, -2, 4, 4, 8, 9]\n",
    "B = 4\n",
    "A = [1, 9, 9, 9, 10, 21]\n",
    "B = 9\n",
    "solve(A, B)"
   ]
  },
  {
   "cell_type": "markdown",
   "id": "d2ed1d2b-0db2-4599-95a4-9a5e705b78b4",
   "metadata": {
    "tags": []
   },
   "source": [
    "#### Question 2**"
   ]
  },
  {
   "cell_type": "markdown",
   "id": "39167afa-1866-4ab1-9121-eaf3fd9c6c9b",
   "metadata": {},
   "source": [
    "    You are given a sorted array of A and an integer B. Return an array of size 2, where the first element is the ceil of B and the second element is the floor of B.\n",
    "\n",
    "    Ceil is the largest number greater than or equal to B and is present in the array A.\n",
    "    Floor is the largest number smaller than or equal to B and is present in the array A.\n",
    "\n",
    "    Input Format\n",
    "    The input contains two lines.\n",
    "    The first line contains space separated integers. The first value in this line is the number of elements N in the array after which N integers denoting elements of the array follow.\n",
    "    The second line contains a single integer.\n",
    "\n",
    "    Output Format\n",
    "    An integer array C of size 2.\n",
    "\n",
    "    Input 1:\n",
    "    -2 4 4 8 9\n",
    "    0\n",
    "    Input 2:\n",
    "    1 3 9 21\n",
    "    9\n",
    "\n",
    "    Output 1:\n",
    "    4 -2\n",
    "    Output 2:\n",
    "    9 9\n",
    "\n",
    "    Explanation 1:\n",
    "    Just greater or equal element than 0 in A is 4 and\n",
    "    just smaller or equal element than 0 is A is -2.\n",
    "    Explanation 2:\n",
    "    Ceil and floor of 9 will be 9 itself as 9 is present in the array."
   ]
  },
  {
   "cell_type": "markdown",
   "id": "0a3dd330-cec6-4305-9899-c5ce45cde5cb",
   "metadata": {
    "tags": []
   },
   "source": [
    "##### Solution Submitted"
   ]
  },
  {
   "cell_type": "code",
   "execution_count": 29,
   "id": "7513b545-51a0-40f0-8d26-354ba6a18d6b",
   "metadata": {},
   "outputs": [],
   "source": [
    " def solve(A, B):\n",
    "        X = B\n",
    "        Y = B\n",
    "        for i in A:\n",
    "            if i >= B:\n",
    "                ceil_diff = i-B\n",
    "            if i<=B:\n",
    "                floor_diff = B-i              \n",
    "                \n",
    "        for i in range(len(A)):\n",
    "            if A[i]>=B:\n",
    "                if ceil_diff >= A[i]-B:\n",
    "                    ceil_diff = A[i]-B\n",
    "                    X = A[i]\n",
    "            \n",
    "            if A[i]<=B:\n",
    "                if floor_diff >= B - A[i]:\n",
    "                    floor = B-A[i]\n",
    "                    Y = A[i]\n",
    "        return(X,Y)"
   ]
  },
  {
   "cell_type": "code",
   "execution_count": 21,
   "id": "9d1502a9-ca10-438f-9b62-92fe64607a28",
   "metadata": {},
   "outputs": [
    {
     "data": {
      "text/plain": [
       "[9, 9]"
      ]
     },
     "execution_count": 21,
     "metadata": {},
     "output_type": "execute_result"
    }
   ],
   "source": [
    "# Output\n",
    "A = [1,3,9,21]\n",
    "B = 9\n",
    "solve(A, B)"
   ]
  },
  {
   "cell_type": "code",
   "execution_count": 30,
   "id": "52360b50-8897-4cd6-b811-cfb68a2d15f6",
   "metadata": {},
   "outputs": [
    {
     "data": {
      "text/plain": [
       "(9, 9)"
      ]
     },
     "execution_count": 30,
     "metadata": {},
     "output_type": "execute_result"
    }
   ],
   "source": [
    "# Output\n",
    "A = [1,3,22,9,21,22]\n",
    "B = 9\n",
    "solve(A, B)"
   ]
  },
  {
   "cell_type": "code",
   "execution_count": 4,
   "id": "892b7fb9-e148-49d6-a3ee-43041ae9410d",
   "metadata": {},
   "outputs": [
    {
     "data": {
      "text/plain": [
       "[5, 2]"
      ]
     },
     "execution_count": 4,
     "metadata": {},
     "output_type": "execute_result"
    }
   ],
   "source": [
    "A = [ -10, -10, -7, -5, -3, -2, -1, 1, 1, 1, 2, 5, 5, 8, 10 ]\n",
    "B = 4\n",
    "solve(A, B)"
   ]
  },
  {
   "cell_type": "markdown",
   "id": "4871fce2-0f6a-4caa-b876-83cccde2ed41",
   "metadata": {
    "tags": []
   },
   "source": [
    "##### Alternative Solution"
   ]
  },
  {
   "cell_type": "markdown",
   "id": "52165c30-c710-4940-a7cf-ce7324248eba",
   "metadata": {},
   "source": [
    "Below Code: (Doubt)\n",
    "\n",
    "No idea what is happeining below down here?"
   ]
  },
  {
   "cell_type": "code",
   "execution_count": 27,
   "id": "e07c11d4-e41f-4bf0-883c-66c21a073300",
   "metadata": {},
   "outputs": [],
   "source": [
    " def solve(A, B):\n",
    "        n = len(A)\n",
    "        ans = [-1]*2\n",
    "        # Iterating over the array\n",
    "        for x in A:\n",
    "            if x <= B:\n",
    "                ans[1] = x\n",
    "            if x >= B:\n",
    "                ans[0] = x\n",
    "                break\n",
    "        return ans"
   ]
  },
  {
   "cell_type": "code",
   "execution_count": 16,
   "id": "bf14c26a-8127-4438-aa09-cd06fdb5a0b4",
   "metadata": {},
   "outputs": [
    {
     "data": {
      "text/plain": [
       "[22, 3]"
      ]
     },
     "execution_count": 18,
     "metadata": {},
     "output_type": "execute_result"
    }
   ],
   "source": [
    "# Output\n",
    "A = [1,3,9,21,22]\n",
    "B = 9\n",
    "solve(A, B)"
   ]
  },
  {
   "cell_type": "code",
   "execution_count": 1,
   "id": "3cdc50bc-12a0-45c5-8d30-1ea489643709",
   "metadata": {},
   "outputs": [
    {
     "data": {
      "text/plain": [
       "[-1, -1]"
      ]
     },
     "execution_count": 1,
     "metadata": {},
     "output_type": "execute_result"
    }
   ],
   "source": [
    "ans = [-1]*2\n",
    "ans"
   ]
  },
  {
   "cell_type": "markdown",
   "id": "657e6275-a3b4-42ea-aeb7-02906f1125e3",
   "metadata": {
    "tags": []
   },
   "source": [
    "#### Question 3**"
   ]
  },
  {
   "cell_type": "markdown",
   "id": "6e9a61f2-32ec-4551-99e4-65ab0b32604f",
   "metadata": {},
   "source": [
    "    Given an integer array A, find the inverse of the array A and return it. All the elements of the given array are distinct and elements of the array lie in the range [0, |A|).\n",
    "\n",
    "    The inverse of the array means the array elements are swapped with their corresponding indices.\n",
    "\n",
    "    For example, Let's say we have an array A = [2, 0, 1], the inverse of A would be [1, 2, 0].\n",
    "\n",
    "    Since 2 is at index 0 in A, we shift the element 2 to the index of element 0 in the original list A.\n",
    "    Since 0 is at index 1 in A, we shift the element 0 to the index of element 1 in the original list A.\n",
    "    Since 1 is at index 2 in A, we shift the element 1 to the index of element 2 in the original list A.\n",
    "    This gives us the inverse of the list which is [1, 2, 0]\n",
    "\n",
    "    Problem Constraints\n",
    "    1 <= |A| <= 105\n",
    "    0 <= A[i] < |A| (All elements are distinct)\n",
    "\n",
    "    Input Format\n",
    "    The first and the only argument is an array A.\n",
    "\n",
    "    Output Format\n",
    "    Return an array which is the inverse of the given array A.\n",
    "\n",
    "    Example Input\n",
    "    Input 1:\n",
    "    A = [2, 0, 1]\n",
    "    Input 2:\n",
    "    A = [3, 1, 0, 2]\n",
    "\n",
    "    Example Output\n",
    "    Output 1:\n",
    "    [1, 2, 0]\n",
    "    Output 2:\n",
    "    [2, 1, 3, 0]\n",
    "\n",
    "    Example Explanation\n",
    "    Explanation 1:\n",
    "    Index of 0 is 1, index of 1 is 2 and index of 2 is 0.\n",
    "    Explanation 2:\n",
    "    Index of 0 is 2, index of 1 is 1, index of 2 is 3 and index of 3 is 0."
   ]
  },
  {
   "cell_type": "markdown",
   "id": "b183ca5a-411e-4b42-a67d-f2c6228678de",
   "metadata": {
    "tags": []
   },
   "source": [
    "##### Solution Submitted"
   ]
  },
  {
   "cell_type": "code",
   "execution_count": 57,
   "id": "b8115921-a20f-4403-86ec-bb6b939d2203",
   "metadata": {},
   "outputs": [],
   "source": [
    "def inverse_array(A):\n",
    "    C=[]\n",
    "    for i in range(len(A)):\n",
    "            print(f\"Index: {A[i]}, Element: {i}\")\n",
    "            C.insert(A[i],i)\n",
    "            print(C)\n",
    "    return C"
   ]
  },
  {
   "cell_type": "code",
   "execution_count": 63,
   "id": "f0fc677e-ee06-4615-b1f9-e4346e64b7e3",
   "metadata": {},
   "outputs": [],
   "source": [
    "def inverse_array(A):\n",
    "    C=[]\n",
    "    print(C)\n",
    "    for i in range(len(A)):\n",
    "            print(f\"Index: {A[i]}, Element: {i}\")\n",
    "            C.insert(A[i],i)\n",
    "            print(C)\n",
    "    return C"
   ]
  },
  {
   "cell_type": "code",
   "execution_count": null,
   "id": "71b5a2f0-5198-45d5-b974-adbbbc917d81",
   "metadata": {},
   "outputs": [],
   "source": [
    "A = [ 9, 11, 0, 4, 13, 8, 6, 7, 5, 14, 3, 1, 2, 10, 12]\n",
    "inverse_array(A)"
   ]
  },
  {
   "cell_type": "code",
   "execution_count": 64,
   "id": "bbca7e40-79cd-4855-a850-07f73b637492",
   "metadata": {},
   "outputs": [
    {
     "name": "stdout",
     "output_type": "stream",
     "text": [
      "[0, 0, 0, 0]\n",
      "Index: 3, Element: 0\n",
      "[0, 0, 0, 0, 0]\n",
      "Index: 1, Element: 1\n",
      "[0, 1, 0, 0, 0, 0]\n",
      "Index: 0, Element: 2\n",
      "[2, 0, 1, 0, 0, 0, 0]\n",
      "Index: 2, Element: 3\n",
      "[2, 0, 3, 1, 0, 0, 0, 0]\n"
     ]
    },
    {
     "data": {
      "text/plain": [
       "[2, 0, 3, 1, 0, 0, 0, 0]"
      ]
     },
     "execution_count": 64,
     "metadata": {},
     "output_type": "execute_result"
    }
   ],
   "source": [
    "A = [3, 1, 0, 2]\n",
    "inverse_array(A)"
   ]
  },
  {
   "cell_type": "code",
   "execution_count": 52,
   "id": "36ac67de-11ec-4c97-89eb-5cc688cb2de5",
   "metadata": {},
   "outputs": [
    {
     "data": {
      "text/plain": [
       "[1, 0]"
      ]
     },
     "execution_count": 52,
     "metadata": {},
     "output_type": "execute_result"
    }
   ],
   "source": [
    "A = [1,0]\n",
    "inverse_array(A)"
   ]
  },
  {
   "cell_type": "code",
   "execution_count": 41,
   "id": "35270aed-a9f3-44e4-9681-2240ef37152b",
   "metadata": {},
   "outputs": [
    {
     "data": {
      "text/plain": [
       "[3,\n",
       " 11,\n",
       " 20,\n",
       " 4,\n",
       " 35,\n",
       " 16,\n",
       " 17,\n",
       " 1,\n",
       " 23,\n",
       " 6,\n",
       " 28,\n",
       " 7,\n",
       " 31,\n",
       " 30,\n",
       " 36,\n",
       " 42,\n",
       " 18,\n",
       " 26,\n",
       " 32,\n",
       " 9,\n",
       " 39,\n",
       " 13,\n",
       " 12,\n",
       " 41,\n",
       " 40,\n",
       " 10,\n",
       " 2,\n",
       " 15,\n",
       " 8,\n",
       " 5,\n",
       " 22,\n",
       " 37,\n",
       " 33,\n",
       " 38,\n",
       " 29,\n",
       " 25,\n",
       " 19,\n",
       " 27,\n",
       " 24,\n",
       " 14,\n",
       " 34,\n",
       " 0,\n",
       " 21]"
      ]
     },
     "execution_count": 41,
     "metadata": {},
     "output_type": "execute_result"
    }
   ],
   "source": [
    "A = [ 22, 7, 29, 12, 31, 39, 24, 11, 21, 38, 15, 1, 4, 41, 18, 28, 14, 40, 36, 33, 5, 23, 3, 13, 17, 27, 34, 10, 42, 20, 0, 35, 19, 9, 2, 37, 32, 25, 6, 16, 26, 30, 8]\n",
    "inverse_array(A)"
   ]
  },
  {
   "cell_type": "markdown",
   "id": "12511ac4-8f70-48aa-bfe0-3dfea2caa1c7",
   "metadata": {},
   "source": [
    "30 11 34 22 12 20 38 1 42 33 27 7 3 23 16 10 39 24 14 32 29 8 0 21 6 37 40 25 15 2 41 4 36 19 26 31 18 35 9 5 17 13 28 "
   ]
  },
  {
   "cell_type": "code",
   "execution_count": null,
   "id": "ac707d35-ab37-4b46-9ac7-c456e9efeb32",
   "metadata": {},
   "outputs": [],
   "source": [
    "inverse_array(A)"
   ]
  },
  {
   "cell_type": "markdown",
   "id": "ea7f190b-5591-4e7b-885a-c4f9fd642931",
   "metadata": {
    "tags": []
   },
   "source": [
    "##### Alternative Solution\n",
    "Below Code is giving wrong output. For eg: A = [3, 1, 0, 2] shall give the output of [2, 1, 3, 0] but instead it outputs [2, 3, 1, 0]. But during dry run I am able to get the desired output. So as per dry run this code is correct. Fill the gap in logic during dry run."
   ]
  },
  {
   "cell_type": "code",
   "execution_count": 38,
   "id": "531540ec-7cab-43f1-b0b6-9a2269ba50a6",
   "metadata": {},
   "outputs": [],
   "source": [
    "def inverse_array(A):\n",
    "    C=[]\n",
    "    for i in range(len(A)):\n",
    "        for j in range(len(A)):\n",
    "            if i == A[j]:\n",
    "                C.insert(j,A[i])\n",
    "    return C"
   ]
  },
  {
   "cell_type": "code",
   "execution_count": 39,
   "id": "22083a1b-1330-4ed1-96b6-4d8d508ba812",
   "metadata": {},
   "outputs": [
    {
     "data": {
      "text/plain": [
       "[2, 3, 1, 0]"
      ]
     },
     "execution_count": 39,
     "metadata": {},
     "output_type": "execute_result"
    }
   ],
   "source": [
    "A = [3, 1, 0, 2]\n",
    "inverse_array(A)"
   ]
  },
  {
   "cell_type": "code",
   "execution_count": 40,
   "id": "b204201d-ec00-44ae-96b7-e8b9333727dd",
   "metadata": {},
   "outputs": [
    {
     "data": {
      "text/plain": [
       "[1, 2, 0]"
      ]
     },
     "execution_count": 40,
     "metadata": {},
     "output_type": "execute_result"
    }
   ],
   "source": [
    "# Output\n",
    "A = [2, 0, 1]\n",
    "inverse_array(A)"
   ]
  },
  {
   "cell_type": "code",
   "execution_count": 41,
   "id": "219f48f8-9883-4f81-b629-ff0d2a951a0a",
   "metadata": {},
   "outputs": [
    {
     "data": {
      "text/plain": [
       "[0, 1]"
      ]
     },
     "execution_count": 41,
     "metadata": {},
     "output_type": "execute_result"
    }
   ],
   "source": [
    "A = [1,0]\n",
    "inverse_array(A)"
   ]
  },
  {
   "cell_type": "code",
   "execution_count": 47,
   "id": "94b5d2f8-96c2-430e-b572-a01d92bd26f3",
   "metadata": {},
   "outputs": [
    {
     "data": {
      "text/plain": [
       "[3,\n",
       " 22,\n",
       " 20,\n",
       " 11,\n",
       " 35,\n",
       " 16,\n",
       " 7,\n",
       " 4,\n",
       " 29,\n",
       " 17,\n",
       " 6,\n",
       " 12,\n",
       " 31,\n",
       " 30,\n",
       " 39,\n",
       " 23,\n",
       " 1,\n",
       " 24,\n",
       " 26,\n",
       " 28,\n",
       " 21,\n",
       " 42,\n",
       " 32,\n",
       " 38,\n",
       " 9,\n",
       " 15,\n",
       " 36,\n",
       " 41,\n",
       " 8,\n",
       " 18,\n",
       " 14,\n",
       " 40,\n",
       " 2,\n",
       " 13,\n",
       " 33,\n",
       " 5,\n",
       " 10,\n",
       " 37,\n",
       " 27,\n",
       " 34,\n",
       " 25,\n",
       " 0,\n",
       " 19]"
      ]
     },
     "execution_count": 47,
     "metadata": {},
     "output_type": "execute_result"
    }
   ],
   "source": [
    "A = [ 22, 7, 29, 12, 31, 39, 24, 11, 21, 38, 15, 1, 4, 41, 18, 28, 14, 40, 36, 33, 5, 23, 3, 13, 17, 27, 34, 10, 42, 20, 0, 35, 19, 9, 2, 37, 32, 25, 6, 16, 26, 30, 8]\n",
    "inverse_array(A)"
   ]
  },
  {
   "cell_type": "markdown",
   "id": "451e2f8d-b7ef-4111-ab9e-a884662a4a92",
   "metadata": {
    "jp-MarkdownHeadingCollapsed": true,
    "tags": []
   },
   "source": [
    "#### Question 4"
   ]
  },
  {
   "cell_type": "markdown",
   "id": "54268250-8cda-47a4-b0d0-3a87132b2447",
   "metadata": {},
   "source": [
    "    For a given list list1, which of the following methods are true for checking if the element 6 is present in the list?\n",
    "\n",
    "    list1=[2,12,45,6,8,32,17]\n",
    "\n",
    "    a) for i in list1:\n",
    "         if(i==6):\n",
    "           print('Element exists')\n",
    "           \n",
    "    b) if(list1.where(6)):\n",
    "         print('Element exists')\n",
    "         \n",
    "    c)e_count = list1.count(6)          #Use shift+tab to adjust the indentation of the statements of if-else block. It shouldn't give indentation error.\n",
    "      if e_count > 0:\n",
    "        print(\"Yes, 6 exists in list\")\n",
    "      else:\n",
    "        print(\"No, 6 does not exists in list\")\n",
    "        \n",
    "    d) if (6 in list1):\n",
    "         print('Element exists')"
   ]
  },
  {
   "cell_type": "markdown",
   "id": "fbbf3cd1-4245-4d17-ae65-5839d4496033",
   "metadata": {
    "jp-MarkdownHeadingCollapsed": true,
    "tags": []
   },
   "source": [
    "##### Solution Submitted"
   ]
  },
  {
   "cell_type": "code",
   "execution_count": 48,
   "id": "575fa61e-11c0-43c5-b6e1-826dfacf92d3",
   "metadata": {},
   "outputs": [],
   "source": [
    "list1=[2,12,45,6,8,32,17]"
   ]
  },
  {
   "cell_type": "code",
   "execution_count": 49,
   "id": "db8766b6-c2b8-4d31-81f9-f286a4f87a3a",
   "metadata": {},
   "outputs": [
    {
     "name": "stdout",
     "output_type": "stream",
     "text": [
      "Element exists\n"
     ]
    }
   ],
   "source": [
    "for i in list1:\n",
    "     if(i==6):\n",
    "       print('Element exists')"
   ]
  },
  {
   "cell_type": "code",
   "execution_count": 50,
   "id": "63fffdf2-d4e9-4e7f-9351-ce11790aad47",
   "metadata": {},
   "outputs": [
    {
     "ename": "AttributeError",
     "evalue": "'list' object has no attribute 'where'",
     "output_type": "error",
     "traceback": [
      "\u001b[1;31m---------------------------------------------------------------------------\u001b[0m",
      "\u001b[1;31mAttributeError\u001b[0m                            Traceback (most recent call last)",
      "Cell \u001b[1;32mIn[50], line 1\u001b[0m\n\u001b[1;32m----> 1\u001b[0m \u001b[38;5;28;01mif\u001b[39;00m(\u001b[43mlist1\u001b[49m\u001b[38;5;241;43m.\u001b[39;49m\u001b[43mwhere\u001b[49m(\u001b[38;5;241m6\u001b[39m)):\n\u001b[0;32m      2\u001b[0m      \u001b[38;5;28mprint\u001b[39m(\u001b[38;5;124m'\u001b[39m\u001b[38;5;124mElement exists\u001b[39m\u001b[38;5;124m'\u001b[39m)\n",
      "\u001b[1;31mAttributeError\u001b[0m: 'list' object has no attribute 'where'"
     ]
    }
   ],
   "source": [
    "if(list1.where(6)):\n",
    "     print('Element exists')"
   ]
  },
  {
   "cell_type": "code",
   "execution_count": 51,
   "id": "7fea3010-5394-45af-ad23-babc9c1e270d",
   "metadata": {},
   "outputs": [
    {
     "name": "stdout",
     "output_type": "stream",
     "text": [
      "Yes, 6 exists in list\n"
     ]
    }
   ],
   "source": [
    "e_count = list1.count(6)          #Use shift+tab to adjust the indentation of the statements of if-else block. It shouldn't give indentation error.\n",
    "if e_count > 0:\n",
    "    print(\"Yes, 6 exists in list\")\n",
    "else:\n",
    "    print(\"No, 6 does not exists in list\")"
   ]
  },
  {
   "cell_type": "code",
   "execution_count": 52,
   "id": "d58d8437-c6a6-4824-9d1c-1ea9b75e8a42",
   "metadata": {},
   "outputs": [
    {
     "name": "stdout",
     "output_type": "stream",
     "text": [
      "Element exists\n"
     ]
    }
   ],
   "source": [
    "if (6 in list1):\n",
    "    print('Element exists')"
   ]
  },
  {
   "cell_type": "markdown",
   "id": "23eb987a-723b-429c-b73c-4c1189fd2c66",
   "metadata": {
    "jp-MarkdownHeadingCollapsed": true,
    "tags": []
   },
   "source": [
    "#### Question 6"
   ]
  },
  {
   "cell_type": "markdown",
   "id": "d1472ceb-e78a-4ceb-9446-650f31b6916f",
   "metadata": {},
   "source": [
    "    Given an array A, check if it is sorted in non decreasing order or not.\n",
    "\n",
    "    Input Format\n",
    "    The first and only argument contains an integer array A.\n",
    "\n",
    "    Output Format\n",
    "    Return 1 if array is sorted else return 0.\n",
    "\n",
    "    Input 1:\n",
    "     A = [1, 2, 2] \n",
    "    Input 2:\n",
    "     A = [1, 2, 1] \n",
    "\n",
    "\n",
    "    Output 1:\n",
    "     1\n",
    "    Output 2:\n",
    "     0\n",
    "\n",
    "    Explanation 1:\n",
    "    We can see that the array elements are in non-decreasing order.\n",
    "    Explanation 2:\n",
    "    Second element is greater than the third element thus array is not non-decreasing, hence not sorted."
   ]
  },
  {
   "cell_type": "markdown",
   "id": "a48d9a9a-c9d1-4f6a-81f1-98e2ff6d0756",
   "metadata": {
    "jp-MarkdownHeadingCollapsed": true,
    "tags": []
   },
   "source": [
    "##### Solution Submitted"
   ]
  },
  {
   "cell_type": "code",
   "execution_count": 53,
   "id": "7f31d29a-bc66-4760-b416-62a0691c5c71",
   "metadata": {},
   "outputs": [],
   "source": [
    "def solve(A):\n",
    "    for i in range(len(A)-1):\n",
    "        if A[i]<=A[i+1]:\n",
    "            pass\n",
    "        else:\n",
    "            return 0\n",
    "    return 1"
   ]
  },
  {
   "cell_type": "code",
   "execution_count": 54,
   "id": "3fa081db-5083-4543-8c58-6e2e10d60970",
   "metadata": {},
   "outputs": [
    {
     "data": {
      "text/plain": [
       "1"
      ]
     },
     "execution_count": 54,
     "metadata": {},
     "output_type": "execute_result"
    }
   ],
   "source": [
    "# Output\n",
    "A = [1, 2, 2]\n",
    "solve(A)"
   ]
  },
  {
   "cell_type": "markdown",
   "id": "b8000660-8479-462e-913d-e0f0de519de1",
   "metadata": {
    "jp-MarkdownHeadingCollapsed": true,
    "tags": []
   },
   "source": [
    "#### Question 7"
   ]
  },
  {
   "cell_type": "markdown",
   "id": "a1e763a9-9d49-4d41-b8f8-49ad50c7a7ab",
   "metadata": {},
   "source": [
    "    What does the following slice return?\n",
    "    [1, 2, 3][:-1]"
   ]
  },
  {
   "cell_type": "markdown",
   "id": "5775bb66-4eb5-4d1d-aa9b-2c385bfb1e05",
   "metadata": {
    "jp-MarkdownHeadingCollapsed": true,
    "tags": []
   },
   "source": [
    "##### Solution Submitted"
   ]
  },
  {
   "cell_type": "code",
   "execution_count": 56,
   "id": "ba112148-1f55-4c55-812b-43037a975011",
   "metadata": {},
   "outputs": [
    {
     "data": {
      "text/plain": [
       "[1, 2]"
      ]
     },
     "execution_count": 56,
     "metadata": {},
     "output_type": "execute_result"
    }
   ],
   "source": [
    "[1, 2, 3][:-1]      "
   ]
  },
  {
   "cell_type": "markdown",
   "id": "04a08ecf-60c0-45ce-99b6-1b87ae96b6b2",
   "metadata": {
    "jp-MarkdownHeadingCollapsed": true,
    "tags": []
   },
   "source": [
    "#### Question 8*"
   ]
  },
  {
   "cell_type": "markdown",
   "id": "8ab25fe5-578d-4579-a799-429e8c31c727",
   "metadata": {},
   "source": [
    "    Modify the value of variable w, x, y and z such that the program outputs [8, 6, 4]:\n",
    "\n",
    "    w = None  # <- Change this\n",
    "    x = None  # <- Change this\n",
    "    y = None  # <- Change this\n",
    "    z = None  # <- Change this\n",
    "\n",
    "    lst = [1, 2, 3, 4, 5, 6, 7, 8, 9, 10]\n",
    "\n",
    "    first_slice = lst[::z]\n",
    "    second_slice = first_slice[:y]\n",
    "    third_slice = second_slice[x:]\n",
    "    last_slice = third_slice[::w]\n",
    "\n",
    "    print(last_slice)"
   ]
  },
  {
   "cell_type": "markdown",
   "id": "d0a57243-eb96-4290-9b76-d8247c1615f8",
   "metadata": {
    "jp-MarkdownHeadingCollapsed": true,
    "tags": []
   },
   "source": [
    "##### Solution Submitted"
   ]
  },
  {
   "cell_type": "code",
   "execution_count": 1,
   "id": "91285203-0367-46b3-8f6c-c91a4220c167",
   "metadata": {},
   "outputs": [
    {
     "name": "stdout",
     "output_type": "stream",
     "text": [
      "[8, 6, 4]\n"
     ]
    }
   ],
   "source": [
    "w = 2 \n",
    "x = 2  \n",
    "y = -3  \n",
    "z = -1 \n",
    "\n",
    "lst = [1, 2, 3, 4, 5, 6, 7, 8, 9, 10]\n",
    "\n",
    "first_slice = lst[::z]\n",
    "second_slice = first_slice[:y]\n",
    "third_slice = second_slice[x:]\n",
    "last_slice = third_slice[::w]\n",
    "\n",
    "print(last_slice)"
   ]
  },
  {
   "cell_type": "markdown",
   "id": "1fc3f903-b583-42bc-8c42-583e437327c3",
   "metadata": {
    "jp-MarkdownHeadingCollapsed": true,
    "tags": []
   },
   "source": [
    "### Day 21: Strings2"
   ]
  },
  {
   "cell_type": "markdown",
   "id": "e604278a-2d00-4cc9-bbbf-2f798ae1d409",
   "metadata": {
    "jp-MarkdownHeadingCollapsed": true,
    "tags": []
   },
   "source": [
    "#### Question 1"
   ]
  },
  {
   "cell_type": "markdown",
   "id": "1ccf311e-674d-4344-8841-7a5534c97616",
   "metadata": {},
   "source": [
    "Match the string operations in column A with their correct output from column B with respect to string s.\n",
    "\n",
    "    s = \"My PO Box number is 310\"\n",
    "    print(s.isalnum())\n",
    "    print(s.islower())                    True\n",
    "    print(s.startswith('My P'))           False\n",
    "    print(s.isspace())"
   ]
  },
  {
   "cell_type": "markdown",
   "id": "a5ffa121-6179-488f-bf8f-186203854d1a",
   "metadata": {
    "jp-MarkdownHeadingCollapsed": true,
    "tags": []
   },
   "source": [
    "##### Solution"
   ]
  },
  {
   "cell_type": "markdown",
   "id": "fc273ba1-48a4-45bd-806f-9093df52f9ae",
   "metadata": {},
   "source": [
    "isalnum returns True if all characters in string are alphanumeric so on and so forth.\n"
   ]
  },
  {
   "cell_type": "markdown",
   "id": "701a79a3-9d62-41da-9585-35ffbfeeadf6",
   "metadata": {
    "jp-MarkdownHeadingCollapsed": true,
    "tags": []
   },
   "source": [
    "### Day 22: Tuples + Sets"
   ]
  },
  {
   "cell_type": "markdown",
   "id": "8dc438fe-4ce7-45df-8f05-529e067ff57f",
   "metadata": {
    "jp-MarkdownHeadingCollapsed": true,
    "tags": []
   },
   "source": [
    "#### Question 5"
   ]
  },
  {
   "cell_type": "markdown",
   "id": "705f3596-a362-4620-a761-a203b7a4a694",
   "metadata": {},
   "source": [
    "Given two sentences, write a program to return the sum of the total number of unique words from each sentence.\n",
    "\n",
    "    Input Format:\n",
    "    The first line indicates the number of test cases.There will be two lines of inputs for each test cases as following:\n",
    "    The two lines consist of two sentences in string format.\n",
    "\n",
    "    Output Format:\n",
    "    The number of unique words from the sentences in integer format.\n",
    "\n",
    "    Sample Input:\n",
    "    1\n",
    "    in data analysis we use data and process it further to create better interpreted data\n",
    "    more and more data will be passively collected\n",
    "\n",
    "    Sample Output:\n",
    "    20\n",
    "\n",
    "    Sample explanation:\n",
    "    {'use', 'process', 'create', 'better', 'analysis', 'in', 'it', 'further', 'and', 'we', 'data', 'interpreted', 'to'} \n",
    "    represent the 13 unique words from sentence1 and {'collected', 'more', 'be', 'and', 'data', 'passively', 'will'} \n",
    "    represent the 7 unique words from sentence2. Therefore 13 + 7 = 20 is returned.\n",
    "\n",
    "    Note:\n",
    "    If a word is present in both sentences it should be counted separately for both sentences."
   ]
  },
  {
   "cell_type": "markdown",
   "id": "fbca2e4a-6bf3-4f3e-8efa-681c97b415ad",
   "metadata": {
    "jp-MarkdownHeadingCollapsed": true,
    "tags": []
   },
   "source": [
    "##### Solution"
   ]
  },
  {
   "cell_type": "code",
   "execution_count": 131,
   "id": "331023ce-8722-4b4d-8ce2-80983444682e",
   "metadata": {},
   "outputs": [],
   "source": [
    "def set_operation(sent1,sent2):\n",
    "    list1 = sent1.split(\" \")\n",
    "    list2 = sent2.split(\" \")\n",
    "    list1 = set(list1)\n",
    "    list2 = set(list2)\n",
    "    return len(list1)+ len(list2)"
   ]
  },
  {
   "cell_type": "code",
   "execution_count": 122,
   "id": "553836a4-1908-4128-8d8f-2b231290ce3a",
   "metadata": {},
   "outputs": [],
   "source": [
    "a = \"in data analysis we use data and process it further to create better interpreted data\"\n",
    "b = \"more and more data will be passively collected\""
   ]
  },
  {
   "cell_type": "code",
   "execution_count": 132,
   "id": "0dc39cfb-968d-4c6f-b836-523d287ea229",
   "metadata": {},
   "outputs": [
    {
     "data": {
      "text/plain": [
       "20"
      ]
     },
     "execution_count": 132,
     "metadata": {},
     "output_type": "execute_result"
    }
   ],
   "source": [
    "set_operation(a,b)"
   ]
  },
  {
   "cell_type": "markdown",
   "id": "7a13843d-f70b-4fd8-822b-62d4d8df0703",
   "metadata": {
    "jp-MarkdownHeadingCollapsed": true,
    "tags": []
   },
   "source": [
    "#### Question 7"
   ]
  },
  {
   "cell_type": "markdown",
   "id": "b01213ab-77ba-4806-8dbd-cceb87d5fc95",
   "metadata": {},
   "source": [
    "What is the output of the following program?\n",
    "\n",
    "    set1 = {1, 2, 4}\n",
    "    set2 = {4, 5, 6}\n",
    "    print(len(set1 + set2))"
   ]
  },
  {
   "cell_type": "markdown",
   "id": "5de236b9-b6a9-4fb3-a483-0361add97ab8",
   "metadata": {},
   "source": [
    "##### Solution"
   ]
  },
  {
   "cell_type": "code",
   "execution_count": null,
   "id": "dd9da4af-b2b2-4f28-9596-bb4dc064b28e",
   "metadata": {},
   "outputs": [],
   "source": []
  },
  {
   "cell_type": "markdown",
   "id": "e6d0343a-2a77-4d92-833c-4cb0566124ca",
   "metadata": {
    "jp-MarkdownHeadingCollapsed": true,
    "tags": []
   },
   "source": [
    "## Sample Cell"
   ]
  },
  {
   "cell_type": "markdown",
   "id": "daba2f2d-8724-4716-bf86-74d534df82c5",
   "metadata": {
    "tags": []
   },
   "source": [
    "### Day xx:"
   ]
  },
  {
   "cell_type": "markdown",
   "id": "a336a3aa-7086-4d48-b0f1-0ae7e23ee87c",
   "metadata": {
    "tags": []
   },
   "source": [
    "#### Question x"
   ]
  },
  {
   "cell_type": "code",
   "execution_count": null,
   "id": "cab53fec-ab8d-4a41-b0a9-c3b650dea0bc",
   "metadata": {},
   "outputs": [],
   "source": []
  },
  {
   "cell_type": "markdown",
   "id": "6147d854-dc22-4f70-be21-e5a75b08db6e",
   "metadata": {
    "tags": []
   },
   "source": [
    "##### Solution Submitted"
   ]
  },
  {
   "cell_type": "code",
   "execution_count": null,
   "id": "6198050e-6911-4e5e-b541-8145eebbdcb5",
   "metadata": {},
   "outputs": [],
   "source": []
  },
  {
   "cell_type": "code",
   "execution_count": null,
   "id": "cc3ae6b1-a127-488d-b215-21e1d8e09bbf",
   "metadata": {},
   "outputs": [],
   "source": [
    "# Output\n"
   ]
  },
  {
   "cell_type": "markdown",
   "id": "45187c59-e50c-4479-a291-9c4c176e545b",
   "metadata": {
    "tags": []
   },
   "source": [
    "##### Full Solution"
   ]
  },
  {
   "cell_type": "code",
   "execution_count": null,
   "id": "cc12c07c-82c7-4f33-8578-faa10c094b94",
   "metadata": {},
   "outputs": [],
   "source": []
  },
  {
   "cell_type": "code",
   "execution_count": null,
   "id": "ff3be5db-b672-4845-b5ea-c7e67704d2c5",
   "metadata": {},
   "outputs": [],
   "source": [
    "# Output\n"
   ]
  }
 ],
 "metadata": {
  "kernelspec": {
   "display_name": "Python 3 (ipykernel)",
   "language": "python",
   "name": "python3"
  },
  "language_info": {
   "codemirror_mode": {
    "name": "ipython",
    "version": 3
   },
   "file_extension": ".py",
   "mimetype": "text/x-python",
   "name": "python",
   "nbconvert_exporter": "python",
   "pygments_lexer": "ipython3",
   "version": "3.9.12"
  },
  "widgets": {
   "application/vnd.jupyter.widget-state+json": {
    "state": {},
    "version_major": 2,
    "version_minor": 0
   }
  }
 },
 "nbformat": 4,
 "nbformat_minor": 5
}
