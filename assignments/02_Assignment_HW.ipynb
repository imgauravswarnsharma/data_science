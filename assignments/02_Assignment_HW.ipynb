{
 "cells": [
  {
   "cell_type": "markdown",
   "id": "fc9beb48-b426-448a-8d8e-3015ce2d5df5",
   "metadata": {},
   "source": [
    "# Module 3"
   ]
  },
  {
   "cell_type": "markdown",
   "id": "3673c69a-5707-4b23-9ef9-0f5c5d335f61",
   "metadata": {},
   "source": [
    "## Assignments"
   ]
  },
  {
   "cell_type": "markdown",
   "id": "7f75c12e-68d0-4ded-a548-407bdd08a836",
   "metadata": {},
   "source": [
    "### Day 13: Pattern Printing"
   ]
  },
  {
   "cell_type": "markdown",
   "id": "d8a007c3-fa9d-4533-aa0d-d7ef5bf497c1",
   "metadata": {
    "jp-MarkdownHeadingCollapsed": true,
    "tags": []
   },
   "source": [
    "#### Question 1"
   ]
  },
  {
   "cell_type": "markdown",
   "id": "2bf1edca-b89e-495f-baec-8fad42989a11",
   "metadata": {},
   "source": [
    "    Take an integer N as input, print the corresponding pattern for N.\n",
    "    For example if N = 5 then pattern will be like:\n",
    "\n",
    "    *   *\n",
    "    *   *\n",
    "    *   *\n",
    "    *   *\n",
    "    *   *"
   ]
  },
  {
   "cell_type": "markdown",
   "id": "8a18d1cc-6eb2-45ba-a3bc-7d6f47cceb44",
   "metadata": {
    "jp-MarkdownHeadingCollapsed": true,
    "tags": []
   },
   "source": [
    "##### Solution"
   ]
  },
  {
   "cell_type": "code",
   "execution_count": 30,
   "id": "1aaee5a8-f476-465a-ae84-fb68511f9129",
   "metadata": {},
   "outputs": [
    {
     "name": "stdin",
     "output_type": "stream",
     "text": [
      " 5\n"
     ]
    },
    {
     "name": "stdout",
     "output_type": "stream",
     "text": [
      "*   *\n",
      "*   *\n",
      "*   *\n",
      "*   *\n",
      "*   *\n"
     ]
    }
   ],
   "source": [
    "N = int(input())\n",
    "for i in range(1,N+1):\n",
    "    for j in range(1,N+1):\n",
    "        if j==1:\n",
    "            print(\"*\", end=\"\")\n",
    "        if j==2:\n",
    "            print(\" \"*(N-2), end=\"\")\n",
    "        if j==N:\n",
    "            print(\"*\", end=\"\\n\")"
   ]
  },
  {
   "cell_type": "markdown",
   "id": "dc9ec697-d3eb-4e32-b8c3-d8d537f3bb49",
   "metadata": {
    "jp-MarkdownHeadingCollapsed": true,
    "tags": []
   },
   "source": [
    "##### Optimized Approach"
   ]
  },
  {
   "cell_type": "code",
   "execution_count": 33,
   "id": "b0ac605e-6de2-4bd4-8341-cb112c6bbcb2",
   "metadata": {},
   "outputs": [
    {
     "name": "stdin",
     "output_type": "stream",
     "text": [
      " 3\n"
     ]
    },
    {
     "name": "stdout",
     "output_type": "stream",
     "text": [
      "*   *\n",
      "*   *\n",
      "*   *\n"
     ]
    }
   ],
   "source": [
    "## Not Correct Approach. We only nedd N-2 spaces. Try again later\n",
    "\n",
    "N = int(input())\n",
    "for i in range(1,N+1):\n",
    "    for j in range(1,N+1):\n",
    "        if j==1:\n",
    "            print(\"*\", end=\"\")\n",
    "        if j>1 or j<N:\n",
    "            print(\" \", end=\"\")\n",
    "        if j==N:\n",
    "            print(\"*\", end=\"\\n\")"
   ]
  },
  {
   "cell_type": "markdown",
   "id": "5a410768-75cf-4df9-84d2-74eb170cdd58",
   "metadata": {
    "jp-MarkdownHeadingCollapsed": true,
    "tags": []
   },
   "source": [
    "#### Question 2"
   ]
  },
  {
   "cell_type": "markdown",
   "id": "9100ab8f-72d8-4022-9b90-805463decb21",
   "metadata": {},
   "source": [
    "    Take an integer N as input, print the corresponding pattern for N.\n",
    "    For example if N = 5 then pattern will be like:\n",
    "\n",
    "    *****\n",
    "    _****\n",
    "    __***\n",
    "    ___**\n",
    "    ____*\n",
    "    \n",
    "    Note : Here '_' represents space for explanation purpose only. You have to print space in your code."
   ]
  },
  {
   "cell_type": "markdown",
   "id": "8d26fa37-0107-421b-bb56-1400e612b80e",
   "metadata": {},
   "source": [
    "##### Solution"
   ]
  },
  {
   "cell_type": "code",
   "execution_count": 38,
   "id": "d5f96014-3f4b-4e10-bd6e-f91ed987d749",
   "metadata": {},
   "outputs": [
    {
     "name": "stdin",
     "output_type": "stream",
     "text": [
      " 5\n"
     ]
    },
    {
     "name": "stdout",
     "output_type": "stream",
     "text": [
      "*****\n",
      " ****\n",
      "  ***\n",
      "   **\n",
      "    *\n"
     ]
    }
   ],
   "source": [
    "N = int(input())\n",
    "for i in range(1,N+1): \n",
    "    for j in range(1):\n",
    "        print(\" \"*(i-1), end=\"\")\n",
    "        print(\"*\"*(N+1-i), end=\"\\n\")\n",
    "    "
   ]
  },
  {
   "cell_type": "markdown",
   "id": "460834af-3af8-4794-8028-c2278eb13344",
   "metadata": {
    "jp-MarkdownHeadingCollapsed": true,
    "tags": []
   },
   "source": [
    "#### Question 3"
   ]
  },
  {
   "cell_type": "markdown",
   "id": "76090e54-f8d2-4e9b-9774-86f5572d40e6",
   "metadata": {},
   "source": [
    "    Take an integer N, print the corresponding Full Pyramid pattern for N.\n",
    "\n",
    "    For example if N = 5 then pattern will be like:\n",
    "\n",
    "        * \n",
    "       * * \n",
    "      * * * \n",
    "     * * * * \n",
    "    * * * * * \n",
    "    \n",
    "    NOTE: There should be exactly one extra space after each * for each row."
   ]
  },
  {
   "cell_type": "markdown",
   "id": "1a838122-6a07-49e0-9237-4843e050fde2",
   "metadata": {
    "jp-MarkdownHeadingCollapsed": true,
    "tags": []
   },
   "source": [
    "##### Solution"
   ]
  },
  {
   "cell_type": "code",
   "execution_count": 3,
   "id": "c7b8dfed-fecc-4c8a-ba7c-a12dc1b63237",
   "metadata": {},
   "outputs": [
    {
     "name": "stdin",
     "output_type": "stream",
     "text": [
      " 5\n"
     ]
    },
    {
     "name": "stdout",
     "output_type": "stream",
     "text": [
      "    * \n",
      "   * * \n",
      "  * * * \n",
      " * * * * \n",
      "* * * * * \n"
     ]
    }
   ],
   "source": [
    "N = int(input())\n",
    "for i in range(1,N+1):\n",
    "    k=N-i+1\n",
    "    for j in range(1,2*N):\n",
    "        if j < k:\n",
    "            print(\" \", end=\"\")\n",
    "        if j>=k and j < k+i:\n",
    "            print(\"*\", end=\" \")\n",
    "    print()"
   ]
  },
  {
   "cell_type": "markdown",
   "id": "5ec746df-d12f-4c2d-a376-f4df2c798369",
   "metadata": {
    "jp-MarkdownHeadingCollapsed": true,
    "tags": []
   },
   "source": [
    "#### Question 4"
   ]
  },
  {
   "cell_type": "markdown",
   "id": "ec15f3b4-3731-4c16-8837-bfc3f9a5d81e",
   "metadata": {},
   "source": [
    "    Take an integer N as input, print the corresponding pattern for N.\n",
    "    For example if N = 5 then pattern will be like:\n",
    "\n",
    "    ____*\n",
    "    ___**\n",
    "    __***\n",
    "    _****\n",
    "    *****\n",
    "    \n",
    "    Note : Here '_' represents space for explanation purpose only. You have to print space in your code."
   ]
  },
  {
   "cell_type": "markdown",
   "id": "04b2be7b-487b-4d3f-b890-0de1087946f3",
   "metadata": {
    "jp-MarkdownHeadingCollapsed": true,
    "tags": []
   },
   "source": [
    "##### Solution"
   ]
  },
  {
   "cell_type": "code",
   "execution_count": 5,
   "id": "3fb861a9-d868-44f6-946e-7a551bafe931",
   "metadata": {},
   "outputs": [
    {
     "name": "stdin",
     "output_type": "stream",
     "text": [
      " 5\n"
     ]
    },
    {
     "name": "stdout",
     "output_type": "stream",
     "text": [
      "    *\n",
      "   **\n",
      "  ***\n",
      " ****\n",
      "*****\n"
     ]
    }
   ],
   "source": [
    "N = int(input())\n",
    "\n",
    "for i in range(1,N+1):\n",
    "    for j in range(1):\n",
    "        print(\" \"*(N-i), end=\"\")\n",
    "        print(\"*\"*i, end=\"\")\n",
    "    print()"
   ]
  },
  {
   "cell_type": "markdown",
   "id": "318d518c-0dac-4170-ae90-dc8a6553285d",
   "metadata": {
    "jp-MarkdownHeadingCollapsed": true,
    "tags": []
   },
   "source": [
    "##### One more Approach. Try more approaches as it comes into mind."
   ]
  },
  {
   "cell_type": "code",
   "execution_count": 7,
   "id": "b929437b-2db4-43cf-ae26-71e83c6cd4cc",
   "metadata": {},
   "outputs": [
    {
     "name": "stdin",
     "output_type": "stream",
     "text": [
      " 5\n"
     ]
    },
    {
     "name": "stdout",
     "output_type": "stream",
     "text": [
      "    *\n",
      "   **\n",
      "  ***\n",
      " ****\n",
      "*****\n"
     ]
    }
   ],
   "source": [
    "N = int(input())\n",
    "\n",
    "for i in range(1,N+1):\n",
    "    for j in range(1,N+1):\n",
    "        if j<=N-i:\n",
    "            print(\" \", end=\"\")\n",
    "        if j>N-i and j < N+1:\n",
    "            print(\"*\", end=\"\")\n",
    "    print()"
   ]
  },
  {
   "cell_type": "markdown",
   "id": "e2128fe0-17e9-4182-9f3a-e7bc1e13c965",
   "metadata": {
    "jp-MarkdownHeadingCollapsed": true,
    "tags": []
   },
   "source": [
    "#### Question 5"
   ]
  },
  {
   "cell_type": "markdown",
   "id": "aa0e94c0-74ce-425a-895a-ed8017f1dbc1",
   "metadata": {},
   "source": [
    "    Take an integer N as input, print the corresponding pattern for N.\n",
    "    For example if N = 5 then pattern will be like:\n",
    "\n",
    "    1\n",
    "    1_\n",
    "    1_3\n",
    "    1_3_\n",
    "    1_3_5"
   ]
  },
  {
   "cell_type": "markdown",
   "id": "25eded6b-2c6c-46ff-9767-2dc5c924fec0",
   "metadata": {
    "jp-MarkdownHeadingCollapsed": true,
    "tags": []
   },
   "source": [
    "##### Solution"
   ]
  },
  {
   "cell_type": "code",
   "execution_count": 10,
   "id": "4dfa3a90-d2c3-4745-9ab3-fe6b042e200a",
   "metadata": {},
   "outputs": [
    {
     "name": "stdin",
     "output_type": "stream",
     "text": [
      " 5\n"
     ]
    },
    {
     "name": "stdout",
     "output_type": "stream",
     "text": [
      "1\n",
      "1 \n",
      "1 3\n",
      "1 3 \n",
      "1 3 5\n"
     ]
    }
   ],
   "source": [
    "N = int(input())\n",
    "\n",
    "for i in range(1,N+1):\n",
    "    for j in range(1,i+1):\n",
    "        if j%2:\n",
    "            print(j, end=\"\")\n",
    "        if j%2==0:\n",
    "            print(\" \", end=\"\")\n",
    "    print()"
   ]
  },
  {
   "cell_type": "markdown",
   "id": "b9d4a986-8a34-4400-b555-f45950aab40d",
   "metadata": {
    "jp-MarkdownHeadingCollapsed": true,
    "tags": []
   },
   "source": [
    "#### Question 6"
   ]
  },
  {
   "cell_type": "markdown",
   "id": "91d157f3-ec36-4ad6-8893-78649ae8b559",
   "metadata": {},
   "source": [
    "    Given two integers N and M as inputs, print a rectangle of N * M stars.\n",
    "\n",
    "    For example if N = 3, M = 4 then pattern will be like:\n",
    "\n",
    "    ****\n",
    "    ****\n",
    "    ****"
   ]
  },
  {
   "cell_type": "markdown",
   "id": "aec0c582-755a-4735-8edc-51e5732b2742",
   "metadata": {
    "jp-MarkdownHeadingCollapsed": true,
    "tags": []
   },
   "source": [
    "##### Solution"
   ]
  },
  {
   "cell_type": "code",
   "execution_count": 11,
   "id": "f3dd3752-1253-448c-ba94-68c45767649e",
   "metadata": {},
   "outputs": [
    {
     "name": "stdin",
     "output_type": "stream",
     "text": [
      " 3\n",
      " 4\n"
     ]
    },
    {
     "name": "stdout",
     "output_type": "stream",
     "text": [
      "****\n",
      "****\n",
      "****\n"
     ]
    }
   ],
   "source": [
    "N = int(input())\n",
    "M = int(input())\n",
    "\n",
    "for i in range(1,N+1):\n",
    "    for j in range(1,M+1):\n",
    "        print(\"*\",end=\"\")\n",
    "    print()"
   ]
  },
  {
   "cell_type": "markdown",
   "id": "19f8ca67-db61-4e95-88d1-beec9337b521",
   "metadata": {
    "jp-MarkdownHeadingCollapsed": true,
    "tags": []
   },
   "source": [
    "#### Question 7"
   ]
  },
  {
   "cell_type": "markdown",
   "id": "f0792ab0-3cbc-431f-826e-24b27363e10e",
   "metadata": {},
   "source": [
    "    Take an Integer N as input. Print an Inverse half pyramid of N lines using *.\n",
    "    For example for N = 5, the output should be the following pattern:-\n",
    "\n",
    "    *****\n",
    "    ****\n",
    "    ***\n",
    "    **\n",
    "    *\n",
    "    \n",
    "    Note: There should be no space after the last * in each line of the output."
   ]
  },
  {
   "cell_type": "markdown",
   "id": "c52d8048-d08d-4735-b136-e72c528638e6",
   "metadata": {
    "jp-MarkdownHeadingCollapsed": true,
    "tags": []
   },
   "source": [
    "##### Solution"
   ]
  },
  {
   "cell_type": "code",
   "execution_count": 13,
   "id": "93fb1765-9866-4725-8049-4af7f7d47f02",
   "metadata": {},
   "outputs": [
    {
     "name": "stdin",
     "output_type": "stream",
     "text": [
      " 5\n"
     ]
    },
    {
     "name": "stdout",
     "output_type": "stream",
     "text": [
      "*****\n",
      "****\n",
      "***\n",
      "**\n",
      "*\n"
     ]
    }
   ],
   "source": [
    "N = int(input())\n",
    "\n",
    "for i in range(1,N+1):\n",
    "    for j in range(N-i+1):\n",
    "        print(\"*\", end=\"\")\n",
    "    print()"
   ]
  },
  {
   "cell_type": "markdown",
   "id": "430dcaa9-cf39-4d52-b16f-3e0e7dedda3d",
   "metadata": {},
   "source": [
    "## HW"
   ]
  },
  {
   "cell_type": "markdown",
   "id": "c0e1c00f-06f4-4101-8ab9-b89882c730b6",
   "metadata": {},
   "source": [
    "### Day 13: Pattern Printing"
   ]
  },
  {
   "cell_type": "markdown",
   "id": "d29dae40-00b5-4d34-97f3-9835b46de75e",
   "metadata": {
    "tags": []
   },
   "source": [
    "#### Question"
   ]
  },
  {
   "cell_type": "code",
   "execution_count": null,
   "id": "5ffea77a-5b86-4f92-83f8-904505ffd75f",
   "metadata": {},
   "outputs": [],
   "source": [
    "    "
   ]
  }
 ],
 "metadata": {
  "kernelspec": {
   "display_name": "Python 3 (ipykernel)",
   "language": "python",
   "name": "python3"
  },
  "language_info": {
   "codemirror_mode": {
    "name": "ipython",
    "version": 3
   },
   "file_extension": ".py",
   "mimetype": "text/x-python",
   "name": "python",
   "nbconvert_exporter": "python",
   "pygments_lexer": "ipython3",
   "version": "3.10.6"
  }
 },
 "nbformat": 4,
 "nbformat_minor": 5
}
