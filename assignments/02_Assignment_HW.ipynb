{
 "cells": [
  {
   "cell_type": "markdown",
   "id": "fc9beb48-b426-448a-8d8e-3015ce2d5df5",
   "metadata": {},
   "source": [
    "# Module 3"
   ]
  },
  {
   "cell_type": "markdown",
   "id": "3673c69a-5707-4b23-9ef9-0f5c5d335f61",
   "metadata": {},
   "source": [
    "## Assignments"
   ]
  },
  {
   "cell_type": "markdown",
   "id": "7f75c12e-68d0-4ded-a548-407bdd08a836",
   "metadata": {},
   "source": [
    "### Day 13: Pattern Printing"
   ]
  },
  {
   "cell_type": "markdown",
   "id": "d8a007c3-fa9d-4533-aa0d-d7ef5bf497c1",
   "metadata": {
    "tags": []
   },
   "source": [
    "#### Question 1"
   ]
  },
  {
   "cell_type": "markdown",
   "id": "2bf1edca-b89e-495f-baec-8fad42989a11",
   "metadata": {},
   "source": [
    "    Take an integer N as input, print the corresponding pattern for N.\n",
    "    For example if N = 5 then pattern will be like:\n",
    "\n",
    "    *   *\n",
    "    *   *\n",
    "    *   *\n",
    "    *   *\n",
    "    *   *"
   ]
  },
  {
   "cell_type": "markdown",
   "id": "8a18d1cc-6eb2-45ba-a3bc-7d6f47cceb44",
   "metadata": {
    "jp-MarkdownHeadingCollapsed": true,
    "tags": []
   },
   "source": [
    "##### Solution"
   ]
  },
  {
   "cell_type": "code",
   "execution_count": 30,
   "id": "1aaee5a8-f476-465a-ae84-fb68511f9129",
   "metadata": {},
   "outputs": [
    {
     "name": "stdin",
     "output_type": "stream",
     "text": [
      " 5\n"
     ]
    },
    {
     "name": "stdout",
     "output_type": "stream",
     "text": [
      "*   *\n",
      "*   *\n",
      "*   *\n",
      "*   *\n",
      "*   *\n"
     ]
    }
   ],
   "source": [
    "N = int(input())\n",
    "for i in range(1,N+1):\n",
    "    for j in range(1,N+1):\n",
    "        if j==1:\n",
    "            print(\"*\", end=\"\")\n",
    "        if j==2:\n",
    "            print(\" \"*(N-2), end=\"\")\n",
    "        if j==N:\n",
    "            print(\"*\", end=\"\\n\")"
   ]
  },
  {
   "cell_type": "markdown",
   "id": "dc9ec697-d3eb-4e32-b8c3-d8d537f3bb49",
   "metadata": {
    "jp-MarkdownHeadingCollapsed": true,
    "tags": []
   },
   "source": [
    "##### Optimized Approach"
   ]
  },
  {
   "cell_type": "code",
   "execution_count": 109,
   "id": "b0ac605e-6de2-4bd4-8341-cb112c6bbcb2",
   "metadata": {},
   "outputs": [
    {
     "name": "stdin",
     "output_type": "stream",
     "text": [
      " 5\n"
     ]
    },
    {
     "name": "stdout",
     "output_type": "stream",
     "text": [
      "*   *\n",
      "*   *\n",
      "*   *\n",
      "*   *\n",
      "*   *\n"
     ]
    }
   ],
   "source": [
    "N = int(input())\n",
    "for i in range(1,N+1):\n",
    "    for j in range(1):\n",
    "        print(\"*\", end=\"\")\n",
    "        print(\" \"*(N-2), end=\"\")\n",
    "        print(\"*\")"
   ]
  },
  {
   "cell_type": "markdown",
   "id": "5a410768-75cf-4df9-84d2-74eb170cdd58",
   "metadata": {
    "tags": []
   },
   "source": [
    "#### Question 2"
   ]
  },
  {
   "cell_type": "markdown",
   "id": "9100ab8f-72d8-4022-9b90-805463decb21",
   "metadata": {},
   "source": [
    "    Take an integer N as input, print the corresponding pattern for N.\n",
    "    For example if N = 5 then pattern will be like:\n",
    "\n",
    "    *****\n",
    "    _****\n",
    "    __***\n",
    "    ___**\n",
    "    ____*\n",
    "    \n",
    "    Note : Here '_' represents space for explanation purpose only. You have to print space in your code."
   ]
  },
  {
   "cell_type": "markdown",
   "id": "8d26fa37-0107-421b-bb56-1400e612b80e",
   "metadata": {
    "jp-MarkdownHeadingCollapsed": true,
    "tags": []
   },
   "source": [
    "##### Solution"
   ]
  },
  {
   "cell_type": "code",
   "execution_count": 38,
   "id": "d5f96014-3f4b-4e10-bd6e-f91ed987d749",
   "metadata": {},
   "outputs": [
    {
     "name": "stdin",
     "output_type": "stream",
     "text": [
      " 5\n"
     ]
    },
    {
     "name": "stdout",
     "output_type": "stream",
     "text": [
      "*****\n",
      " ****\n",
      "  ***\n",
      "   **\n",
      "    *\n"
     ]
    }
   ],
   "source": [
    "N = int(input())\n",
    "for i in range(1,N+1): \n",
    "    for j in range(1):\n",
    "        print(\" \"*(i-1), end=\"\")\n",
    "        print(\"*\"*(N+1-i), end=\"\\n\")\n",
    "    "
   ]
  },
  {
   "cell_type": "markdown",
   "id": "460834af-3af8-4794-8028-c2278eb13344",
   "metadata": {
    "tags": []
   },
   "source": [
    "#### Question 3"
   ]
  },
  {
   "cell_type": "markdown",
   "id": "76090e54-f8d2-4e9b-9774-86f5572d40e6",
   "metadata": {},
   "source": [
    "    Take an integer N, print the corresponding Full Pyramid pattern for N.\n",
    "\n",
    "    For example if N = 5 then pattern will be like:\n",
    "\n",
    "        * \n",
    "       * * \n",
    "      * * * \n",
    "     * * * * \n",
    "    * * * * * \n",
    "    \n",
    "    NOTE: There should be exactly one extra space after each * for each row."
   ]
  },
  {
   "cell_type": "markdown",
   "id": "1a838122-6a07-49e0-9237-4843e050fde2",
   "metadata": {
    "tags": []
   },
   "source": [
    "##### Solution"
   ]
  },
  {
   "cell_type": "code",
   "execution_count": 3,
   "id": "c7b8dfed-fecc-4c8a-ba7c-a12dc1b63237",
   "metadata": {},
   "outputs": [
    {
     "name": "stdin",
     "output_type": "stream",
     "text": [
      " 5\n"
     ]
    },
    {
     "name": "stdout",
     "output_type": "stream",
     "text": [
      "    * \n",
      "   * * \n",
      "  * * * \n",
      " * * * * \n",
      "* * * * * \n"
     ]
    }
   ],
   "source": [
    "N = int(input())\n",
    "for i in range(1,N+1):\n",
    "    k=N-i+1\n",
    "    for j in range(1,2*N):\n",
    "        if j < k:\n",
    "            print(\" \", end=\"\")\n",
    "        if j>=k and j < k+i:\n",
    "            print(\"*\", end=\" \")\n",
    "    print()"
   ]
  },
  {
   "cell_type": "markdown",
   "id": "5ec746df-d12f-4c2d-a376-f4df2c798369",
   "metadata": {
    "tags": []
   },
   "source": [
    "#### Question 4"
   ]
  },
  {
   "cell_type": "markdown",
   "id": "ec15f3b4-3731-4c16-8837-bfc3f9a5d81e",
   "metadata": {},
   "source": [
    "    Take an integer N as input, print the corresponding pattern for N.\n",
    "    For example if N = 5 then pattern will be like:\n",
    "\n",
    "    ____*\n",
    "    ___**\n",
    "    __***\n",
    "    _****\n",
    "    *****\n",
    "    \n",
    "    Note : Here '_' represents space for explanation purpose only. You have to print space in your code."
   ]
  },
  {
   "cell_type": "markdown",
   "id": "04b2be7b-487b-4d3f-b890-0de1087946f3",
   "metadata": {
    "tags": []
   },
   "source": [
    "##### Solution"
   ]
  },
  {
   "cell_type": "code",
   "execution_count": 5,
   "id": "3fb861a9-d868-44f6-946e-7a551bafe931",
   "metadata": {},
   "outputs": [
    {
     "name": "stdin",
     "output_type": "stream",
     "text": [
      " 5\n"
     ]
    },
    {
     "name": "stdout",
     "output_type": "stream",
     "text": [
      "    *\n",
      "   **\n",
      "  ***\n",
      " ****\n",
      "*****\n"
     ]
    }
   ],
   "source": [
    "N = int(input())\n",
    "\n",
    "for i in range(1,N+1):\n",
    "    for j in range(1):\n",
    "        print(\" \"*(N-i), end=\"\")\n",
    "        print(\"*\"*i, end=\"\")\n",
    "    print()"
   ]
  },
  {
   "cell_type": "markdown",
   "id": "318d518c-0dac-4170-ae90-dc8a6553285d",
   "metadata": {
    "jp-MarkdownHeadingCollapsed": true,
    "tags": []
   },
   "source": [
    "##### One more Approach. Try more approaches as it comes into mind."
   ]
  },
  {
   "cell_type": "code",
   "execution_count": 7,
   "id": "b929437b-2db4-43cf-ae26-71e83c6cd4cc",
   "metadata": {},
   "outputs": [
    {
     "name": "stdin",
     "output_type": "stream",
     "text": [
      " 5\n"
     ]
    },
    {
     "name": "stdout",
     "output_type": "stream",
     "text": [
      "    *\n",
      "   **\n",
      "  ***\n",
      " ****\n",
      "*****\n"
     ]
    }
   ],
   "source": [
    "N = int(input())\n",
    "\n",
    "for i in range(1,N+1):\n",
    "    for j in range(1,N+1):\n",
    "        if j<=N-i:\n",
    "            print(\" \", end=\"\")\n",
    "        if j>N-i and j < N+1:\n",
    "            print(\"*\", end=\"\")\n",
    "    print()"
   ]
  },
  {
   "cell_type": "markdown",
   "id": "e2128fe0-17e9-4182-9f3a-e7bc1e13c965",
   "metadata": {
    "tags": []
   },
   "source": [
    "#### Question 5"
   ]
  },
  {
   "cell_type": "markdown",
   "id": "aa0e94c0-74ce-425a-895a-ed8017f1dbc1",
   "metadata": {},
   "source": [
    "    Take an integer N as input, print the corresponding pattern for N.\n",
    "    For example if N = 5 then pattern will be like:\n",
    "\n",
    "    1\n",
    "    1_\n",
    "    1_3\n",
    "    1_3_\n",
    "    1_3_5"
   ]
  },
  {
   "cell_type": "markdown",
   "id": "25eded6b-2c6c-46ff-9767-2dc5c924fec0",
   "metadata": {
    "jp-MarkdownHeadingCollapsed": true,
    "tags": []
   },
   "source": [
    "##### Solution"
   ]
  },
  {
   "cell_type": "code",
   "execution_count": 10,
   "id": "4dfa3a90-d2c3-4745-9ab3-fe6b042e200a",
   "metadata": {},
   "outputs": [
    {
     "name": "stdin",
     "output_type": "stream",
     "text": [
      " 5\n"
     ]
    },
    {
     "name": "stdout",
     "output_type": "stream",
     "text": [
      "1\n",
      "1 \n",
      "1 3\n",
      "1 3 \n",
      "1 3 5\n"
     ]
    }
   ],
   "source": [
    "N = int(input())\n",
    "\n",
    "for i in range(1,N+1):\n",
    "    for j in range(1,i+1):\n",
    "        if j%2:\n",
    "            print(j, end=\"\")\n",
    "        if j%2==0:\n",
    "            print(\" \", end=\"\")\n",
    "    print()"
   ]
  },
  {
   "cell_type": "markdown",
   "id": "b9d4a986-8a34-4400-b555-f45950aab40d",
   "metadata": {
    "tags": []
   },
   "source": [
    "#### Question 6"
   ]
  },
  {
   "cell_type": "markdown",
   "id": "91d157f3-ec36-4ad6-8893-78649ae8b559",
   "metadata": {},
   "source": [
    "    Given two integers N and M as inputs, print a rectangle of N * M stars.\n",
    "\n",
    "    For example if N = 3, M = 4 then pattern will be like:\n",
    "\n",
    "    ****\n",
    "    ****\n",
    "    ****"
   ]
  },
  {
   "cell_type": "markdown",
   "id": "aec0c582-755a-4735-8edc-51e5732b2742",
   "metadata": {
    "jp-MarkdownHeadingCollapsed": true,
    "tags": []
   },
   "source": [
    "##### Solution"
   ]
  },
  {
   "cell_type": "code",
   "execution_count": 11,
   "id": "f3dd3752-1253-448c-ba94-68c45767649e",
   "metadata": {},
   "outputs": [
    {
     "name": "stdin",
     "output_type": "stream",
     "text": [
      " 3\n",
      " 4\n"
     ]
    },
    {
     "name": "stdout",
     "output_type": "stream",
     "text": [
      "****\n",
      "****\n",
      "****\n"
     ]
    }
   ],
   "source": [
    "N = int(input())\n",
    "M = int(input())\n",
    "\n",
    "for i in range(1,N+1):\n",
    "    for j in range(1,M+1):\n",
    "        print(\"*\",end=\"\")\n",
    "    print()"
   ]
  },
  {
   "cell_type": "markdown",
   "id": "19f8ca67-db61-4e95-88d1-beec9337b521",
   "metadata": {
    "tags": []
   },
   "source": [
    "#### Question 7"
   ]
  },
  {
   "cell_type": "markdown",
   "id": "f0792ab0-3cbc-431f-826e-24b27363e10e",
   "metadata": {},
   "source": [
    "    Take an Integer N as input. Print an Inverse half pyramid of N lines using *.\n",
    "    For example for N = 5, the output should be the following pattern:-\n",
    "\n",
    "    *****\n",
    "    ****\n",
    "    ***\n",
    "    **\n",
    "    *\n",
    "    \n",
    "    Note: There should be no space after the last * in each line of the output."
   ]
  },
  {
   "cell_type": "markdown",
   "id": "c52d8048-d08d-4735-b136-e72c528638e6",
   "metadata": {
    "jp-MarkdownHeadingCollapsed": true,
    "tags": []
   },
   "source": [
    "##### Solution"
   ]
  },
  {
   "cell_type": "code",
   "execution_count": 13,
   "id": "93fb1765-9866-4725-8049-4af7f7d47f02",
   "metadata": {},
   "outputs": [
    {
     "name": "stdin",
     "output_type": "stream",
     "text": [
      " 5\n"
     ]
    },
    {
     "name": "stdout",
     "output_type": "stream",
     "text": [
      "*****\n",
      "****\n",
      "***\n",
      "**\n",
      "*\n"
     ]
    }
   ],
   "source": [
    "N = int(input())\n",
    "\n",
    "for i in range(1,N+1):\n",
    "    for j in range(N-i+1):\n",
    "        print(\"*\", end=\"\")\n",
    "    print()"
   ]
  },
  {
   "cell_type": "markdown",
   "id": "430dcaa9-cf39-4d52-b16f-3e0e7dedda3d",
   "metadata": {},
   "source": [
    "## HW"
   ]
  },
  {
   "cell_type": "markdown",
   "id": "c0e1c00f-06f4-4101-8ab9-b89882c730b6",
   "metadata": {
    "tags": []
   },
   "source": [
    "### Day 13: Pattern Printing"
   ]
  },
  {
   "cell_type": "markdown",
   "id": "d29dae40-00b5-4d34-97f3-9835b46de75e",
   "metadata": {
    "tags": []
   },
   "source": [
    "#### Question 1"
   ]
  },
  {
   "cell_type": "markdown",
   "id": "5fb59cf1-d56f-4a5c-a43d-e9e62f523011",
   "metadata": {},
   "source": [
    "Take an integer N as input, print the corresponding pattern for N.\n",
    "\n",
    "For example if N = 5 then pattern will be like:\n",
    "\n",
    "    ********** // 0 spaces\n",
    "\n",
    "    ****  **** // 2 spaces\n",
    "\n",
    "    ***    *** // 4 spaces\n",
    "\n",
    "    **      ** // 6 spaces\n",
    "\n",
    "    *        * // 8 spaces\n",
    "\n",
    "NOTE: Here '_' is used to represent spaces. You have to print spaces in your code."
   ]
  },
  {
   "cell_type": "markdown",
   "id": "41b6652a-6d5d-4710-8c60-f9c81b86f077",
   "metadata": {
    "jp-MarkdownHeadingCollapsed": true,
    "tags": []
   },
   "source": [
    "##### Solution"
   ]
  },
  {
   "cell_type": "code",
   "execution_count": 121,
   "id": "567a01ca-4c56-4d97-82ee-cd3bded34361",
   "metadata": {},
   "outputs": [
    {
     "name": "stdin",
     "output_type": "stream",
     "text": [
      " 5\n"
     ]
    },
    {
     "name": "stdout",
     "output_type": "stream",
     "text": [
      "**********\n",
      "****  ****\n",
      "***    ***\n",
      "**      **\n",
      "*        *\n"
     ]
    }
   ],
   "source": [
    "N = int(input())\n",
    "\n",
    "for i in range(0,N):\n",
    "    for j in range(1):\n",
    "        print(\"*\"*(N-i), end=\"\")\n",
    "        print(\" \"*(2*i), end=\"\")\n",
    "        print(\"*\"*(N-i), end=\"\")\n",
    "    print()\n",
    "        "
   ]
  },
  {
   "cell_type": "markdown",
   "id": "e243defa-e199-4de8-965a-4b4acc7fb954",
   "metadata": {
    "tags": []
   },
   "source": [
    "#### Question 2 "
   ]
  },
  {
   "cell_type": "markdown",
   "id": "32c3b909-b23c-49b0-8bea-4dcfdf4f128c",
   "metadata": {},
   "source": [
    "Take an integer N as input, print the corresponding pattern for N.\n",
    "\n",
    "For example if N = 5 then pattern will be like:\n",
    "\n",
    "    *________* // 8 spaces\n",
    "\n",
    "    **______** // 6 spaces\n",
    "\n",
    "    ***____*** // 4 spaces\n",
    "\n",
    "    ****__**** // 2 spaces\n",
    "\n",
    "    ********** // 0 spaces\n",
    "NOTE: Here '_' is used to represent spaces. You have to print spaces in your code."
   ]
  },
  {
   "cell_type": "markdown",
   "id": "11d4ba3b-9700-478e-8bb7-39f501c290a1",
   "metadata": {
    "jp-MarkdownHeadingCollapsed": true,
    "tags": []
   },
   "source": [
    "##### Solution"
   ]
  },
  {
   "cell_type": "code",
   "execution_count": 126,
   "id": "d5b81b70-0ebf-425e-91ad-8ff4126f58e0",
   "metadata": {},
   "outputs": [
    {
     "name": "stdin",
     "output_type": "stream",
     "text": [
      " 5\n"
     ]
    },
    {
     "name": "stdout",
     "output_type": "stream",
     "text": [
      "*        *\n",
      "**      **\n",
      "***    ***\n",
      "****  ****\n",
      "**********\n"
     ]
    }
   ],
   "source": [
    "N = int(input())\n",
    "\n",
    "for i in range(1,N+1):\n",
    "    for j in range(1):\n",
    "        print(\"*\"*i, end=\"\")\n",
    "        print(\" \"*(2*(N-i)), end=\"\")\n",
    "        print(\"*\"*i, end=\"\")\n",
    "    print()"
   ]
  },
  {
   "cell_type": "markdown",
   "id": "1a7e810c-412c-4d68-9b79-e7ba8d5203eb",
   "metadata": {
    "jp-MarkdownHeadingCollapsed": true,
    "tags": []
   },
   "source": [
    "#### Question 3"
   ]
  },
  {
   "cell_type": "markdown",
   "id": "5191e2bf-75e5-4f18-9044-3c07811c98d5",
   "metadata": {},
   "source": [
    "Take an integer N as input, print the corresponding Half Diamond pattern with 2*N - 1 rows.\n",
    "\n",
    "For example if N = 5 then pattern will be like:\n",
    "\n",
    "    * \n",
    "    **\n",
    "    ***\n",
    "    ****\n",
    "    *****\n",
    "    ****\n",
    "    ***\n",
    "    **\n",
    "    *\n",
    "NOTE: There should be no spaces after any *"
   ]
  },
  {
   "cell_type": "markdown",
   "id": "08b599ed-4421-41c3-9a1a-78152c68dba3",
   "metadata": {
    "jp-MarkdownHeadingCollapsed": true,
    "tags": []
   },
   "source": [
    "##### Solution\n",
    "Approach 1"
   ]
  },
  {
   "cell_type": "code",
   "execution_count": 70,
   "id": "bf68708e-be69-4b79-b1bf-6383a2cf5fc3",
   "metadata": {},
   "outputs": [
    {
     "name": "stdin",
     "output_type": "stream",
     "text": [
      " 5\n"
     ]
    },
    {
     "name": "stdout",
     "output_type": "stream",
     "text": [
      "*\n",
      "**\n",
      "***\n",
      "****\n",
      "*****\n",
      "****\n",
      "***\n",
      "**\n",
      "*\n"
     ]
    }
   ],
   "source": [
    "N = int(input())\n",
    "\n",
    "for i in range(1,2*N):\n",
    "    for j in range(1):\n",
    "        if i<=N:\n",
    "            print(\"*\"*i, end=\"\")\n",
    "        if i>N and i<2*N:\n",
    "            print(\"*\"*(2*N-i), end=\"\")                        \n",
    "    print()\n",
    "            "
   ]
  },
  {
   "cell_type": "markdown",
   "id": "51c0b651-d43e-45b7-a907-cfcd35257161",
   "metadata": {
    "jp-MarkdownHeadingCollapsed": true,
    "tags": []
   },
   "source": [
    "##### Solution\n",
    "Approach 2"
   ]
  },
  {
   "cell_type": "code",
   "execution_count": 65,
   "id": "8ccc041e-142f-47fc-9df4-e39bfc519228",
   "metadata": {},
   "outputs": [
    {
     "name": "stdin",
     "output_type": "stream",
     "text": [
      " 5\n"
     ]
    },
    {
     "name": "stdout",
     "output_type": "stream",
     "text": [
      "*\n",
      "**\n",
      "***\n",
      "****\n",
      "*****\n",
      "****\n",
      "***\n",
      "**\n",
      "*\n"
     ]
    }
   ],
   "source": [
    "N = int(input())\n",
    "\n",
    "for i in range(1,N+1):\n",
    "    for j in range(1,i+1):\n",
    "            print(\"*\", end=\"\")\n",
    "    print()\n",
    "for i in range(N+1,2*N):\n",
    "    for j in range(2*N-i):\n",
    "        print(\"*\", end=\"\")\n",
    "    print()\n",
    "    "
   ]
  },
  {
   "cell_type": "markdown",
   "id": "e3cd9059-3b0b-4896-975c-6b39b62e522f",
   "metadata": {
    "tags": []
   },
   "source": [
    "#### Question 4"
   ]
  },
  {
   "cell_type": "markdown",
   "id": "57a8dd08-fffe-4e1b-8873-5860793c5705",
   "metadata": {},
   "source": [
    "Take an integer N as input, print the corresponding pattern for N.\n",
    "\n",
    "For example if N = 5 then pattern will be like:\n",
    "\n",
    "    *****\n",
    "    *   *\n",
    "    *   *\n",
    "    *   *\n",
    "    *****\n",
    "Note : Except for the first line and the last line, every line will have N-2 spaces between the two stars."
   ]
  },
  {
   "cell_type": "markdown",
   "id": "150d9c4b-11a2-49d4-a47d-2b5e467c7a60",
   "metadata": {
    "jp-MarkdownHeadingCollapsed": true,
    "tags": []
   },
   "source": [
    "##### Solution\n",
    "Think of a more optimized approach than this"
   ]
  },
  {
   "cell_type": "code",
   "execution_count": 104,
   "id": "0934f8d5-51ef-4517-bdc2-ce1fb7a1a4e6",
   "metadata": {},
   "outputs": [
    {
     "name": "stdin",
     "output_type": "stream",
     "text": [
      " 5\n"
     ]
    },
    {
     "name": "stdout",
     "output_type": "stream",
     "text": [
      "*****\n",
      "*   *\n",
      "*   *\n",
      "*   *\n",
      "*****\n"
     ]
    }
   ],
   "source": [
    "N = int(input())\n",
    "\n",
    "for i in range(1,N+1):\n",
    "    for j in range(1):\n",
    "        if i==1:\n",
    "            print(\"*\"*N)\n",
    "            break\n",
    "        if i>1 and i<N:\n",
    "            print(\"*\", end=\"\")\n",
    "            print(\" \"*(N-2), end=\"\")\n",
    "            print(\"*\")\n",
    "            break\n",
    "        if i==N:\n",
    "            print(\"*\"*N)\n",
    "            break\n",
    "        \n",
    "        "
   ]
  },
  {
   "cell_type": "markdown",
   "id": "f32159bd-0a39-46c7-be01-f09dc8dbdf48",
   "metadata": {
    "tags": []
   },
   "source": [
    "#### Question 5"
   ]
  },
  {
   "cell_type": "markdown",
   "id": "04ab8d9a-91f0-4774-a77e-772f8fe570eb",
   "metadata": {},
   "source": [
    "Given an integer N as input, print the corresponding Hollow Inverted Half Pyramid pattern for N.\n",
    "\n",
    "For example if N = 6 then pattern will be like:\n",
    "\n",
    "    ******\n",
    "    *   *\n",
    "    *  *\n",
    "    * *\n",
    "    **\n",
    "    *"
   ]
  },
  {
   "cell_type": "markdown",
   "id": "14929021-515c-456c-bacc-db5c4db86722",
   "metadata": {
    "tags": []
   },
   "source": [
    "##### Solution"
   ]
  },
  {
   "cell_type": "code",
   "execution_count": null,
   "id": "2334d60c-b5d0-4ea6-b91a-75871a5c6565",
   "metadata": {},
   "outputs": [],
   "source": [
    "# Try a simpler approach than below\n",
    "N = int(input())\n",
    "\n",
    "for i in range(N):\n",
    "    for j in range(N):\n",
    "        if i==0:\n",
    "            print(\"*\", end=\"\")\n",
    "            \n",
    "    "
   ]
  },
  {
   "cell_type": "code",
   "execution_count": 139,
   "id": "acb0ce11-adcf-43c7-9093-5700745098f1",
   "metadata": {},
   "outputs": [
    {
     "name": "stdin",
     "output_type": "stream",
     "text": [
      " 6\n"
     ]
    },
    {
     "name": "stdout",
     "output_type": "stream",
     "text": [
      "******\n",
      "*   *\n",
      "*  *\n",
      "* *\n",
      "**\n",
      "*"
     ]
    }
   ],
   "source": [
    "N = int(input())\n",
    "\n",
    "for i in range(1,N+1):\n",
    "    for j in range(1,N+1):\n",
    "        if i==1:\n",
    "            print(\"*\"*N)\n",
    "            break\n",
    "        if j==1:\n",
    "            print(\"*\", end=\"\")\n",
    "        if j>1 and j<=(N-i):\n",
    "            print(\" \", end=\"\")\n",
    "        if j==N-i:\n",
    "            print(\"*\")\n",
    "        \n",
    "    "
   ]
  },
  {
   "cell_type": "markdown",
   "id": "3903ef6d-580a-4490-8199-535dce39d624",
   "metadata": {
    "tags": []
   },
   "source": [
    "#### Question 6"
   ]
  },
  {
   "cell_type": "markdown",
   "id": "feee180a-491b-4906-b830-0b82f37dc67b",
   "metadata": {},
   "source": [
    "Take an integer N as input, print the corresponding Full Numeric Pyramid pattern for N.\n",
    "\n",
    "For example if N = 5 then pattern will be like:\n",
    "\n",
    "    0 0 0 0 5 0 0 0 0 \n",
    "    0 0 0 4 8 12 0 0 0 \n",
    "    0 0 3 6 9 12 15 0 0\n",
    "    0 2 4 6 8 10 12 14 0\n",
    "    1 2 3 4 5 6 7 8 9 \n",
    "NOTE: There should be exactly one extra space after each number for each row."
   ]
  },
  {
   "cell_type": "markdown",
   "id": "072fbefe-a033-438e-b7a5-5893eb65f49e",
   "metadata": {
    "tags": []
   },
   "source": [
    "##### Solution"
   ]
  },
  {
   "cell_type": "code",
   "execution_count": 6,
   "id": "6638f28d-7c3f-484c-947c-0b26521a0110",
   "metadata": {},
   "outputs": [
    {
     "name": "stdin",
     "output_type": "stream",
     "text": [
      " 5\n"
     ]
    },
    {
     "name": "stdout",
     "output_type": "stream",
     "text": [
      "0 0 0 0 5 0 0 0 0 \n",
      "0 0 0 4 8 12 0 0 0 \n",
      "0 0 3 6 9 12 15 0 0 \n",
      "0 2 4 6 8 10 12 14 0 \n",
      "1 2 3 4 5 6 7 8 9 \n"
     ]
    }
   ],
   "source": [
    "N = int(input())\n",
    "\n",
    "for i in range(N):\n",
    "    for j in range(1):\n",
    "        print(\"0 \"*(N-i-1), end=\"\")\n",
    "    k=1\n",
    "    while k<=(i*2+1):\n",
    "        print((N-i)*k, end=\" \")\n",
    "        k+=1\n",
    "    for j in range(1):\n",
    "        print(\"0 \"*(N-i-1), end=\"\")\n",
    "    print()  "
   ]
  },
  {
   "cell_type": "markdown",
   "id": "b2aebef8-241a-4424-893a-27f201b8d1f1",
   "metadata": {},
   "source": [
    "##### Try with j loop repetition and better approach"
   ]
  },
  {
   "cell_type": "code",
   "execution_count": null,
   "id": "d99a75c1-8f07-482a-9d3f-3117a2f9d5e4",
   "metadata": {},
   "outputs": [],
   "source": []
  },
  {
   "cell_type": "markdown",
   "id": "14f2f4d0-0bbc-4bf6-86ba-728cc743b6fa",
   "metadata": {
    "tags": []
   },
   "source": [
    "#### Question 7"
   ]
  },
  {
   "cell_type": "markdown",
   "id": "20b00ef1-935a-41b1-bda3-ed7967a1de1e",
   "metadata": {},
   "source": [
    "Take an integer N as input, and print the corresponding Inverted Full Pyramid pattern for N.\n",
    "\n",
    "For example if N = 5 then pattern will be like:\n",
    "\n",
    "    * * * * * \n",
    "     * * * * \n",
    "      * * * \n",
    "       * *    \n",
    "        * \n",
    "NOTE: There should be exactly one extra space after each * for each row."
   ]
  },
  {
   "cell_type": "markdown",
   "id": "2a4c0160-e538-473b-915f-3f1bee61743f",
   "metadata": {
    "tags": []
   },
   "source": [
    "##### Solution"
   ]
  },
  {
   "cell_type": "code",
   "execution_count": 130,
   "id": "5efce32c-d9b6-4642-967e-83ea10f9c5c5",
   "metadata": {},
   "outputs": [
    {
     "name": "stdin",
     "output_type": "stream",
     "text": [
      " 5\n"
     ]
    },
    {
     "name": "stdout",
     "output_type": "stream",
     "text": [
      "* * * * * \n",
      " * * * * \n",
      "  * * * \n",
      "   * * \n",
      "    * \n"
     ]
    }
   ],
   "source": [
    "N = int(input())\n",
    "\n",
    "for i in range(N):\n",
    "    for j in range(1):\n",
    "        print(\" \"*i, end=\"\")\n",
    "        print(\"* \"*(N-i), end=\"\")\n",
    "    print()"
   ]
  },
  {
   "cell_type": "markdown",
   "id": "d426a428-3533-4607-8966-ef52c43f881b",
   "metadata": {
    "tags": []
   },
   "source": [
    "#### Question 8"
   ]
  },
  {
   "cell_type": "markdown",
   "id": "24055ba9-a45b-4b0d-85fe-93b6783e3357",
   "metadata": {},
   "source": [
    "Given an integer N as input, print the corresponding Full Numeric Pyramid pattern for N.\n",
    "\n",
    "For example if N = 5 then pattern will be like:\n",
    "\n",
    "    0 0 0 0 1 0 0 0 0 \n",
    "    0 0 0 2 3 2 0 0 0 \n",
    "    0 0 3 4 5 4 3 0 0\n",
    "    0 4 5 6 7 6 5 4 0\n",
    "    5 6 7 8 9 8 7 6 5 \n",
    "\n",
    "NOTE: There should be exactly one extra space after each number for each row."
   ]
  },
  {
   "cell_type": "markdown",
   "id": "de760677-52ca-4a43-8329-2445a3987782",
   "metadata": {
    "tags": []
   },
   "source": [
    "##### Solution"
   ]
  },
  {
   "cell_type": "code",
   "execution_count": 12,
   "id": "7f088462-6a30-41a6-940b-a39af8bf3da6",
   "metadata": {},
   "outputs": [
    {
     "name": "stdin",
     "output_type": "stream",
     "text": [
      " 5\n"
     ]
    },
    {
     "name": "stdout",
     "output_type": "stream",
     "text": [
      "0 0 0 0 1 0 0 0 0 \n",
      "0 0 0 2 3 2 0 0 0 \n",
      "0 0 3 4 5 4 3 0 0 \n",
      "0 4 5 6 7 6 5 4 0 \n",
      "5 6 7 8 9 8 7 6 5 \n"
     ]
    }
   ],
   "source": [
    "N = int(input())\n",
    "\n",
    "for i in range(N):\n",
    "    for j in range(1):\n",
    "        print(\"0 \"*(N-i-1), end=\"\")\n",
    "        \n",
    "    m=i+1\n",
    "    while m<=(i*2+1):\n",
    "        print(m, end=\" \")\n",
    "        m+=1\n",
    "    m-=2\n",
    "    while m>=(i+1):\n",
    "        print(m, end=\" \")\n",
    "        m-=1\n",
    "        \n",
    "    for j in range(1):\n",
    "        print(\"0 \"*(N-i-1), end=\"\")\n",
    "    print()\n"
   ]
  },
  {
   "cell_type": "code",
   "execution_count": null,
   "id": "e14b8864-6d9b-464c-82a4-46da42e9ba45",
   "metadata": {},
   "outputs": [],
   "source": [
    "    k=1\n",
    "    m=i\n",
    "    while m<=(i*2+1):\n",
    "        print(m, end=\" \")\n",
    "        m+=1"
   ]
  }
 ],
 "metadata": {
  "kernelspec": {
   "display_name": "Python 3 (ipykernel)",
   "language": "python",
   "name": "python3"
  },
  "language_info": {
   "codemirror_mode": {
    "name": "ipython",
    "version": 3
   },
   "file_extension": ".py",
   "mimetype": "text/x-python",
   "name": "python",
   "nbconvert_exporter": "python",
   "pygments_lexer": "ipython3",
   "version": "3.10.6"
  },
  "widgets": {
   "application/vnd.jupyter.widget-state+json": {
    "state": {},
    "version_major": 2,
    "version_minor": 0
   }
  }
 },
 "nbformat": 4,
 "nbformat_minor": 5
}
