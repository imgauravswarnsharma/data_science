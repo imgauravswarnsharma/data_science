{
 "cells": [
  {
   "cell_type": "markdown",
   "id": "1c9c6ea0-b0d0-4e80-a7d7-154c419245a9",
   "metadata": {
    "tags": []
   },
   "source": [
    "## Assignments"
   ]
  },
  {
   "cell_type": "markdown",
   "id": "bc85abb2-1cf9-4762-9a50-1ccf157f54f6",
   "metadata": {
    "tags": []
   },
   "source": [
    "### Day 36: OOPS - 1"
   ]
  },
  {
   "cell_type": "markdown",
   "id": "9f83197d-4ddb-4663-b5dc-21b430617d65",
   "metadata": {
    "jp-MarkdownHeadingCollapsed": true,
    "tags": []
   },
   "source": [
    "#### Question 2"
   ]
  },
  {
   "cell_type": "markdown",
   "id": "14f9f1c0-6cfa-4014-a4ff-efb816a51ede",
   "metadata": {},
   "source": [
    "    When name \"Vishal\" is assigned to object p1 of the Person class in the above code snippet, what did self refer to, in line x?\n",
    "    \n",
    "            class Person:\n",
    "                def __init__(self, Name):\n",
    "                    self.name = Name             #line x\n",
    "                def get_person_name(self):\n",
    "                    return self.name\n",
    "                p1=Person(\"Vishal\")\n",
    "    \n"
   ]
  },
  {
   "cell_type": "markdown",
   "id": "9214cb72-19ba-48c8-ab8a-b3ed060f5f39",
   "metadata": {
    "jp-MarkdownHeadingCollapsed": true,
    "tags": []
   },
   "source": [
    "##### Solution"
   ]
  },
  {
   "cell_type": "markdown",
   "id": "672afc38-c5b0-48a3-b58c-237625527822",
   "metadata": {},
   "source": [
    "object 'p1'"
   ]
  },
  {
   "cell_type": "markdown",
   "id": "7e565f3c-9477-43ff-8d52-0ca70c0e6a91",
   "metadata": {
    "jp-MarkdownHeadingCollapsed": true,
    "tags": []
   },
   "source": [
    "#### Question 3"
   ]
  },
  {
   "cell_type": "markdown",
   "id": "845df60b-2dcc-4961-ae80-e2819cc14efd",
   "metadata": {},
   "source": [
    "    What will be the output of the following code snippet:\n",
    "\n",
    "            class People():\n",
    "                def __init__(self, name):\n",
    "                    self.name = name\n",
    "\n",
    "                def get_name(self):\n",
    "                    print(self.name)\n",
    "\n",
    "            person1 = People(\"John\")\n",
    "            person2 = People(\"Mary\")\n",
    "            person1.get_name()"
   ]
  },
  {
   "cell_type": "markdown",
   "id": "76efd345-cc63-48ef-a459-904a079f46d1",
   "metadata": {
    "jp-MarkdownHeadingCollapsed": true,
    "tags": []
   },
   "source": [
    "##### Solution Submitted"
   ]
  },
  {
   "cell_type": "markdown",
   "id": "0c6d3843-367b-460c-8681-b671e31df807",
   "metadata": {},
   "source": [
    "John"
   ]
  },
  {
   "cell_type": "markdown",
   "id": "c7d42acc-a583-4f2e-89ba-87213503b22c",
   "metadata": {
    "tags": []
   },
   "source": [
    "#### Question 4"
   ]
  },
  {
   "cell_type": "markdown",
   "id": "f111939c-6749-4aee-8efb-284e615454de",
   "metadata": {},
   "source": [
    "    What will be the output of the following Python code?\n",
    "\n",
    "            class fruits:\n",
    "                def __init__(self, price):\n",
    "                    self.price = price\n",
    "\n",
    "            obj=fruits(50)\n",
    "            obj.quantity=10\n",
    "            obj.bags=2\n",
    "\n",
    "            print(obj.quantity+len(obj.__dict__))"
   ]
  },
  {
   "cell_type": "markdown",
   "id": "a1332428-bc10-4380-9dd4-b1310cffa719",
   "metadata": {
    "jp-MarkdownHeadingCollapsed": true,
    "tags": []
   },
   "source": [
    "##### Solution Submitted"
   ]
  },
  {
   "cell_type": "markdown",
   "id": "44f46dd2-6a17-496f-89a0-96350a1f25aa",
   "metadata": {},
   "source": [
    "13"
   ]
  },
  {
   "cell_type": "code",
   "execution_count": null,
   "id": "c71251ae-097b-43d4-bd89-aadde9384371",
   "metadata": {},
   "outputs": [],
   "source": [
    "# Output\n"
   ]
  },
  {
   "cell_type": "markdown",
   "id": "ea4974fc-496f-4703-a1c6-7b804d19292d",
   "metadata": {
    "tags": []
   },
   "source": [
    "#### Question 5"
   ]
  },
  {
   "cell_type": "markdown",
   "id": "66b2b762-6bdf-410c-a0c8-e8e21aa0f59b",
   "metadata": {},
   "source": [
    "    What will be the output of the following code snippet:\n",
    "\n",
    "    class Player:\n",
    "        # class variables\n",
    "        club = 'United'\n",
    "        sport = 'Football'\n",
    "\n",
    "        def __init__(self, name):\n",
    "            # Instance variable\n",
    "            self.name = name\n",
    "\n",
    "        def show(self):\n",
    "            print('Name:', self.name, 'Club:', self.club, 'Sports:', self.sport, end=\" \")\n",
    "\n",
    "    p1 = Player('Sanjay')\n",
    "    p1.club = 'Real Madrid'\n",
    "    p1.show()\n",
    "\n",
    "    p2 = Player('Ravi')\n",
    "    p2.sport = 'Tennis'\n",
    "    p2.show()"
   ]
  },
  {
   "cell_type": "markdown",
   "id": "ff20ef59-e506-4a6b-9bdb-0ef6c0f5bc06",
   "metadata": {
    "jp-MarkdownHeadingCollapsed": true,
    "tags": []
   },
   "source": [
    "##### Solution Submitted"
   ]
  },
  {
   "cell_type": "markdown",
   "id": "320308e2-1d9d-4670-b58f-4f8f11130636",
   "metadata": {},
   "source": [
    "Name: Sanjay Club: Real Madrid Sports: Football Name: Ravi Club: United Sports: Tennis"
   ]
  },
  {
   "cell_type": "markdown",
   "id": "a0c43300-11ea-4d2f-97a5-5465175761bf",
   "metadata": {
    "tags": []
   },
   "source": [
    "#### Question 6"
   ]
  },
  {
   "cell_type": "markdown",
   "id": "912f1b32-6943-45ba-9d8b-b56b13cbd85d",
   "metadata": {},
   "source": [
    "    Create a class Bill and initialize it with the details: previous and current meter readings. Create a function total_bill() inside the Bill class which returns the total bill based on the following criteria:\n",
    "\n",
    "    1. For the first 100 units consumed: 3.5 rs/unit\n",
    "    2. For the next 100 units consumed: 5 rs/unit\n",
    "    3. For remaining units consumed: 8 rs/unit\n",
    "    4. Meter Charges: 150 rs (It's included only once but is mandatory)\n",
    "\n",
    "    Example input:\n",
    "    200 650\n",
    "    \n",
    "    Example output:\n",
    "    3000.0\n",
    "    \n",
    "    Example explanation:\n",
    "    previous_read= 200\n",
    "    current_read= 650\n",
    "    Unit_consumed= 650-200 = 450\n",
    "    total_bill = 100*3.5 + 100*5 + 250*8 + 150(meter charges)= 3000.0 (output will be float)"
   ]
  },
  {
   "cell_type": "markdown",
   "id": "1db58b32-80b5-4fc4-8158-614e877cd9ce",
   "metadata": {
    "tags": []
   },
   "source": [
    "##### Solution Submitted"
   ]
  },
  {
   "cell_type": "code",
   "execution_count": 26,
   "id": "d6971be2-9814-4903-987e-c0173af088e4",
   "metadata": {},
   "outputs": [],
   "source": [
    "class Bill():\n",
    "\n",
    "    def __init__(self, prev_read, cur_read):\n",
    "        #YOUR CODE GOESS HERE\n",
    "        self.prev_read = prev_read\n",
    "        self.cur_read = cur_read\n",
    "        \n",
    "    def total_bill(self):\n",
    "        total=0.0\n",
    "        #YOUR CODE GOESS HERE\n",
    "        consumption = self.cur_read - self.prev_read\n",
    "        if consumption <= 100:\n",
    "            total = consumption*3.5+150\n",
    "        elif consumption <= 200:\n",
    "            total = 100*3.5 + (consumption-100)*5 + 150\n",
    "        else:\n",
    "            total = 100*3.5 + 100*5 + (consumption -200)*8 + 150\n",
    "        \n",
    "        return total"
   ]
  },
  {
   "cell_type": "code",
   "execution_count": 29,
   "id": "8479afda-bec1-4b2c-86e4-03aa9ffcb7d9",
   "metadata": {},
   "outputs": [],
   "source": [
    "# Output\n",
    "x = Bill(200, 650)"
   ]
  },
  {
   "cell_type": "code",
   "execution_count": 30,
   "id": "d00196c5-ca6f-4258-b1e6-9e8da5d32ea8",
   "metadata": {},
   "outputs": [
    {
     "data": {
      "text/plain": [
       "3000.0"
      ]
     },
     "execution_count": 30,
     "metadata": {},
     "output_type": "execute_result"
    }
   ],
   "source": [
    "x.total_bill()"
   ]
  },
  {
   "cell_type": "markdown",
   "id": "c6ba858d-fc95-4cc9-ad41-893599e5fb04",
   "metadata": {
    "tags": []
   },
   "source": [
    "#### Question 7"
   ]
  },
  {
   "cell_type": "markdown",
   "id": "fe044a9f-1436-449a-846a-06b1e5b026a9",
   "metadata": {},
   "source": [
    "    Create a class Student and initialize it with the following class variables:\n",
    "    \n",
    "    marks in subject 1\n",
    "    credit of subject 1\n",
    "    marks in subject 2\n",
    "    credit of subject 2\n",
    "\n",
    "    Create a function gradepointaverage() for the Student class which computes the GPA rounded to two decimals, based on the following criteria of points in a subject :\n",
    "\n",
    "    1. If marks>=90:10 points\n",
    "    2. If 90>marks>=75: 9 points\n",
    "    3. If 75>marks>=60: 8 points\n",
    "    4. If 60>marks>=45: 7 points\n",
    "    5. If marks<45: 0 points\n",
    "\n",
    "    GPA = (pointsinsubject1 ∗ creditofsubject1 + pointsinsubject2 ∗ creditofsubject2) / (creditofsubject1 + creditofsubject2)\n",
    "\n",
    "    The points in a subject should be calculated according to the criteria mentioned in the question.\n",
    "    Also, implement a special zero case to handle when credits of both subjects are 0, return \"Zero credits for both subjects\".\n",
    "\n",
    "    Input Format\n",
    "    Class Student takes input in the form (marks1,marks2,credits1,credits2)\n",
    "\n",
    "    Output Format\n",
    "    GPA value\n",
    "\n",
    "    Example Input\n",
    "    (85, 76, 3, 4)\n",
    "\n",
    "    Example Output\n",
    "    9.0"
   ]
  },
  {
   "cell_type": "markdown",
   "id": "7135d174-ac9b-41ef-aaa3-aa63b7f22fae",
   "metadata": {
    "jp-MarkdownHeadingCollapsed": true,
    "tags": []
   },
   "source": [
    "##### Solution Submitted"
   ]
  },
  {
   "cell_type": "code",
   "execution_count": 47,
   "id": "060c07ea-a09a-416a-adb3-3ccdadc0619b",
   "metadata": {},
   "outputs": [],
   "source": [
    "class Student():\n",
    "    \n",
    "    def __init__(self, marks1,marks2,credits1, credits2):\n",
    "        #YOUR CODE GOES HERE\n",
    "        self.marks1 = marks1\n",
    "        self.marks2 = marks2\n",
    "        self.credits1 = credits1\n",
    "        self.credits2 = credits2\n",
    "    \n",
    "    def grade_point_average(self):\n",
    "        gpa=0\n",
    "        if self.marks1 >= 90:\n",
    "            points1 = 10\n",
    "        elif self.marks1 >= 75:\n",
    "            points1 = 9\n",
    "        elif self.marks1 >= 60:\n",
    "            points1 = 8\n",
    "        elif self.marks1 >=45:\n",
    "            points1 = 7\n",
    "        else:\n",
    "            points1 = 0\n",
    "        \n",
    "        \n",
    "        #YOUR CODE GOES HERE\n",
    "        if self.marks2 >= 90:\n",
    "            points2 = 10\n",
    "        elif self.marks2 >= 75:\n",
    "            points2 = 9\n",
    "        elif self.marks2 >= 60:\n",
    "            points2 = 8\n",
    "        elif self.marks2 >=45:\n",
    "            points2 = 7\n",
    "        else:\n",
    "            points2 = 0\n",
    "        gpa = (points1*self.credits1 + points2*self.credits2)/(self.credits1+self.credits2)\n",
    "        \n",
    "        if gpa == 0:\n",
    "            return \"Zero credits for both subjects\"\n",
    "    \n",
    "        return gpa"
   ]
  },
  {
   "cell_type": "code",
   "execution_count": 50,
   "id": "3e846853-779e-47d3-86f3-0ebf2b77738f",
   "metadata": {},
   "outputs": [],
   "source": [
    "# Output\n",
    "x = Student(0,0,3,4)"
   ]
  },
  {
   "cell_type": "code",
   "execution_count": 51,
   "id": "869a8d94-1eab-47e8-b0c5-79b3db9f2683",
   "metadata": {},
   "outputs": [
    {
     "data": {
      "text/plain": [
       "'Zero credits for both subjects'"
      ]
     },
     "execution_count": 51,
     "metadata": {},
     "output_type": "execute_result"
    }
   ],
   "source": [
    "x.grade_point_average()"
   ]
  },
  {
   "cell_type": "markdown",
   "id": "2eb26d3f-d37f-4e3a-b0c4-7bb9723b948c",
   "metadata": {
    "tags": []
   },
   "source": [
    "### Day 37: OOPS - 2"
   ]
  },
  {
   "cell_type": "markdown",
   "id": "f33912bb-c55e-4d40-9d9b-64daa9cbb5ad",
   "metadata": {
    "tags": []
   },
   "source": [
    "#### Question 2"
   ]
  },
  {
   "cell_type": "markdown",
   "id": "4692baef-1400-4ea0-8c56-c4193463df2c",
   "metadata": {},
   "source": [
    "    Complete the classes Smaller and Larger.\n",
    "\n",
    "    Smaller class gets instantiated when the argument of the function (a:string) has a length smaller than 6 otherwise Larger is instantiated.\n",
    "    Both the classes have the same two methods, display() printing the type of a (class), and\n",
    "    evaluate() printing the number of vowels if the Name is Smaller otherwise it prints the number of consonants.\n",
    "\n",
    "    Input Format\n",
    "    For each testcase there will be a single line of input which will be a string.\n",
    "\n",
    "    Output Format\n",
    "    For each testcase there will be two lines of outputs. First line will write the type of object and second line will print the output of evaluate() according to the object type.\n",
    "\n",
    "    Example Input\n",
    "    \"aman\"\n",
    "    \n",
    "    Example Output\n",
    "    The type of Name is smaller\n",
    "    2\n",
    "\n",
    "    Example Explanation\n",
    "    Since the length of \"aman\" is 4 which is smaller than 6, therefore, it will be called with Smaller class and in the second line evaluate() will print the frequency of vowels in the Name."
   ]
  },
  {
   "cell_type": "markdown",
   "id": "e3afe878-e2f8-4fbc-845e-a9e3c7a35e52",
   "metadata": {
    "tags": []
   },
   "source": [
    "##### Solution Submitted"
   ]
  },
  {
   "cell_type": "code",
   "execution_count": null,
   "id": "8c8dbd7c-f425-4976-9fe9-4336006dc76d",
   "metadata": {},
   "outputs": [],
   "source": [
    "class Smaller:\n",
    "    def __init__(self,a):\n",
    "        self.string=a\n",
    "    \n",
    "    def display(self):\n",
    "        print(\"The type of Name is smaller\")\n",
    "    \n",
    "    def evaluate(self):\n",
    "        ans=0\n",
    "        \n",
    "        # YOUR CODE GOES HERE\n",
    "        print(ans)\n",
    "        \n",
    "class Larger:\n",
    "    def __init__(self,a):\n",
    "        self.string=a\n",
    "    \n",
    "    def display(self):\n",
    "        print(\"The type of Name is larger\")\n",
    "    \n",
    "    def evaluate(self):\n",
    "        ans=0\n",
    "        \n",
    "        # YOUR CODE GOES HERE\n",
    "        print(ans)\n",
    "\n",
    "def main(a):\n",
    "    '''\n",
    "    input a is string\n",
    "    '''\n",
    "    if len(a)<6:\n",
    "        obj=smaller(a)\n",
    "        obj.display()\n",
    "        obj.evaluate()\n",
    "    else:\n",
    "        obj=larger(a)\n",
    "        obj.display()\n",
    "        obj.evaluate()\n",
    "    "
   ]
  },
  {
   "cell_type": "code",
   "execution_count": null,
   "id": "132de2c4-372d-4a77-b545-e2bc7b837429",
   "metadata": {},
   "outputs": [],
   "source": [
    "# Output\n"
   ]
  },
  {
   "cell_type": "markdown",
   "id": "cd2248f6-905c-4ad1-954f-8164c5ce56bb",
   "metadata": {
    "tags": []
   },
   "source": [
    "#### Question x"
   ]
  },
  {
   "cell_type": "markdown",
   "id": "c5254f79-802a-4472-99c2-70141aeb67a5",
   "metadata": {},
   "source": []
  },
  {
   "cell_type": "markdown",
   "id": "928bb02a-42c3-48fe-81fd-d091f3b60c6d",
   "metadata": {
    "tags": []
   },
   "source": [
    "##### Solution Submitted"
   ]
  },
  {
   "cell_type": "code",
   "execution_count": null,
   "id": "010df301-052b-4821-9184-3fa1c2ecea91",
   "metadata": {},
   "outputs": [],
   "source": []
  },
  {
   "cell_type": "code",
   "execution_count": null,
   "id": "1b662f9b-35d1-443e-8eda-674e914c5f05",
   "metadata": {},
   "outputs": [],
   "source": [
    "# Output\n"
   ]
  },
  {
   "cell_type": "markdown",
   "id": "ab2ad615-b06b-45d7-b486-714d56554b46",
   "metadata": {
    "tags": []
   },
   "source": [
    "#### Question x"
   ]
  },
  {
   "cell_type": "markdown",
   "id": "4275cca0-353f-410b-9244-0cd36e1cf7ac",
   "metadata": {},
   "source": []
  },
  {
   "cell_type": "markdown",
   "id": "952502c0-8e87-4674-a8a2-39799a7fb5d8",
   "metadata": {
    "tags": []
   },
   "source": [
    "##### Solution Submitted"
   ]
  },
  {
   "cell_type": "code",
   "execution_count": null,
   "id": "d60c9343-0544-4849-86b2-ebfd06edd07b",
   "metadata": {},
   "outputs": [],
   "source": []
  },
  {
   "cell_type": "code",
   "execution_count": null,
   "id": "a4980370-1086-4ab2-8eec-acf99e0f0790",
   "metadata": {},
   "outputs": [],
   "source": [
    "# Output\n"
   ]
  },
  {
   "cell_type": "markdown",
   "id": "50ce706e-bff9-47f4-9fac-087403b79e76",
   "metadata": {
    "tags": []
   },
   "source": [
    "#### Question x"
   ]
  },
  {
   "cell_type": "markdown",
   "id": "0755738a-c55b-4d07-980e-81d90cd6c739",
   "metadata": {},
   "source": []
  },
  {
   "cell_type": "markdown",
   "id": "41fbc85b-b256-4f70-9460-d514677576a0",
   "metadata": {
    "tags": []
   },
   "source": [
    "##### Solution Submitted"
   ]
  },
  {
   "cell_type": "code",
   "execution_count": null,
   "id": "8e712180-463f-4993-952c-dc7f4139fdac",
   "metadata": {},
   "outputs": [],
   "source": []
  },
  {
   "cell_type": "code",
   "execution_count": null,
   "id": "fcc88b00-f084-431f-be16-db123b2c4d0b",
   "metadata": {},
   "outputs": [],
   "source": [
    "# Output\n"
   ]
  },
  {
   "cell_type": "markdown",
   "id": "4489a028-7085-453c-981b-55398f7cdc2e",
   "metadata": {
    "tags": []
   },
   "source": [
    "#### Question x"
   ]
  },
  {
   "cell_type": "markdown",
   "id": "a8a75d13-dbd3-4e7e-a855-ba000ccc3d39",
   "metadata": {},
   "source": []
  },
  {
   "cell_type": "markdown",
   "id": "b0838416-68c0-4f91-a61e-d2abe68138fd",
   "metadata": {
    "tags": []
   },
   "source": [
    "##### Solution Submitted"
   ]
  },
  {
   "cell_type": "code",
   "execution_count": null,
   "id": "7b6281ff-281b-4240-97ba-8a082e0ef4ba",
   "metadata": {},
   "outputs": [],
   "source": []
  },
  {
   "cell_type": "code",
   "execution_count": null,
   "id": "dd1909f6-5eb9-4b25-bb92-a6e564aeba33",
   "metadata": {},
   "outputs": [],
   "source": [
    "# Output\n"
   ]
  },
  {
   "cell_type": "markdown",
   "id": "a347add4-3d09-4ce7-9e1a-eeaad42a1a32",
   "metadata": {
    "tags": []
   },
   "source": [
    "#### Question x"
   ]
  },
  {
   "cell_type": "markdown",
   "id": "e0a469ce-b9b0-41dd-9ef4-0954c1b198ee",
   "metadata": {},
   "source": []
  },
  {
   "cell_type": "markdown",
   "id": "0fff0141-a8d2-45d2-b5e6-2c790761e6f2",
   "metadata": {
    "tags": []
   },
   "source": [
    "##### Solution Submitted"
   ]
  },
  {
   "cell_type": "code",
   "execution_count": null,
   "id": "d23e7ec1-6725-46c6-8dad-474ce9610e80",
   "metadata": {},
   "outputs": [],
   "source": []
  },
  {
   "cell_type": "code",
   "execution_count": null,
   "id": "aa6e9a76-7532-479e-abc2-9b5d8ecf3691",
   "metadata": {},
   "outputs": [],
   "source": [
    "# Output\n"
   ]
  },
  {
   "cell_type": "markdown",
   "id": "e7c9bd0e-9634-47b6-a21d-92d2f2f06210",
   "metadata": {
    "tags": []
   },
   "source": [
    "### Day 38:"
   ]
  },
  {
   "cell_type": "markdown",
   "id": "dbf64272-13e6-4102-b373-a27eccc4ac83",
   "metadata": {
    "tags": []
   },
   "source": [
    "#### Question x"
   ]
  },
  {
   "cell_type": "markdown",
   "id": "ac35c6f2-107c-491c-b185-cf40ffc81f0c",
   "metadata": {},
   "source": []
  },
  {
   "cell_type": "markdown",
   "id": "86e603df-6c66-425e-ba4d-5e01e532d86a",
   "metadata": {
    "tags": []
   },
   "source": [
    "##### Solution Submitted"
   ]
  },
  {
   "cell_type": "code",
   "execution_count": null,
   "id": "30cc1582-d440-432e-88b8-20db8b59c3ba",
   "metadata": {},
   "outputs": [],
   "source": []
  },
  {
   "cell_type": "code",
   "execution_count": null,
   "id": "08b22e27-072f-4411-b15b-8e8397ec0196",
   "metadata": {},
   "outputs": [],
   "source": [
    "# Output\n"
   ]
  },
  {
   "cell_type": "markdown",
   "id": "c1c0fbef-8195-4199-a14d-9360b0947713",
   "metadata": {
    "jp-MarkdownHeadingCollapsed": true,
    "tags": []
   },
   "source": [
    "### Day xx:"
   ]
  },
  {
   "cell_type": "markdown",
   "id": "2771d3af-38e7-460a-a90d-79ddfa67f083",
   "metadata": {
    "tags": []
   },
   "source": [
    "#### Question x"
   ]
  },
  {
   "cell_type": "markdown",
   "id": "2cb05da3-1fa5-4be9-a5c4-a44c32d0bd09",
   "metadata": {},
   "source": []
  },
  {
   "cell_type": "markdown",
   "id": "e08dad51-156f-4bdd-8e7e-5f262048946f",
   "metadata": {
    "tags": []
   },
   "source": [
    "##### Solution Submitted"
   ]
  },
  {
   "cell_type": "code",
   "execution_count": null,
   "id": "c602a21f-4721-4221-a6d3-4661999ba770",
   "metadata": {},
   "outputs": [],
   "source": []
  },
  {
   "cell_type": "code",
   "execution_count": null,
   "id": "8632f4a7-1ba4-49c0-aac4-ad8f431b9e09",
   "metadata": {},
   "outputs": [],
   "source": [
    "# Output\n"
   ]
  },
  {
   "cell_type": "markdown",
   "id": "1561f4d2-8745-46ae-a9ba-75b68764d9c0",
   "metadata": {
    "jp-MarkdownHeadingCollapsed": true,
    "tags": []
   },
   "source": [
    "### Day xx:"
   ]
  },
  {
   "cell_type": "markdown",
   "id": "36c315bd-6d97-4ca8-ae68-902380fde1aa",
   "metadata": {
    "tags": []
   },
   "source": [
    "#### Question x"
   ]
  },
  {
   "cell_type": "markdown",
   "id": "d3eb13bb-8971-48cf-bdba-d14a744b454f",
   "metadata": {},
   "source": []
  },
  {
   "cell_type": "markdown",
   "id": "45a9b1de-e5da-4337-9043-0f1e64f10fe8",
   "metadata": {
    "tags": []
   },
   "source": [
    "##### Solution Submitted"
   ]
  },
  {
   "cell_type": "code",
   "execution_count": null,
   "id": "69201467-c5ac-4365-81fb-afdca94b07e1",
   "metadata": {},
   "outputs": [],
   "source": []
  },
  {
   "cell_type": "code",
   "execution_count": null,
   "id": "ec530ee6-da70-4ae3-af90-f1e5a0a04378",
   "metadata": {},
   "outputs": [],
   "source": [
    "# Output\n"
   ]
  },
  {
   "cell_type": "markdown",
   "id": "c580d400-c07b-4906-b619-5033967bde8d",
   "metadata": {
    "jp-MarkdownHeadingCollapsed": true,
    "tags": []
   },
   "source": [
    "### Day xx:"
   ]
  },
  {
   "cell_type": "markdown",
   "id": "99f1f477-f070-4e60-b358-a23760f09d02",
   "metadata": {
    "tags": []
   },
   "source": [
    "#### Question x"
   ]
  },
  {
   "cell_type": "markdown",
   "id": "08cd41c1-01fe-4276-8654-18b7169f0ac5",
   "metadata": {},
   "source": []
  },
  {
   "cell_type": "markdown",
   "id": "3e6713fa-a0b9-4974-a150-d5b2676bce2a",
   "metadata": {
    "tags": []
   },
   "source": [
    "##### Solution Submitted"
   ]
  },
  {
   "cell_type": "code",
   "execution_count": null,
   "id": "51e93750-3c0e-4165-bbcd-4f6d4c0fcaa4",
   "metadata": {},
   "outputs": [],
   "source": []
  },
  {
   "cell_type": "code",
   "execution_count": null,
   "id": "3b59a045-d50e-49bb-9ceb-6191f00181b4",
   "metadata": {},
   "outputs": [],
   "source": [
    "# Output\n"
   ]
  },
  {
   "cell_type": "markdown",
   "id": "dfe51129-dd40-4d0f-980d-6e1b23b648b4",
   "metadata": {
    "jp-MarkdownHeadingCollapsed": true,
    "tags": []
   },
   "source": [
    "### Day xx:"
   ]
  },
  {
   "cell_type": "markdown",
   "id": "a22b0f4d-1f5b-4486-b3a5-af49cb11351e",
   "metadata": {
    "tags": []
   },
   "source": [
    "#### Question x"
   ]
  },
  {
   "cell_type": "markdown",
   "id": "2362f292-075f-42b5-a6ce-56901391e67a",
   "metadata": {},
   "source": []
  },
  {
   "cell_type": "markdown",
   "id": "a4a37110-169c-4faa-9877-0aefccbd6b62",
   "metadata": {
    "tags": []
   },
   "source": [
    "##### Solution Submitted"
   ]
  },
  {
   "cell_type": "code",
   "execution_count": null,
   "id": "2ab34a51-87a7-4550-bc69-7173de8cc81a",
   "metadata": {},
   "outputs": [],
   "source": []
  },
  {
   "cell_type": "code",
   "execution_count": null,
   "id": "1ecfc9e0-9cf2-4407-b5db-9da87c236cc2",
   "metadata": {},
   "outputs": [],
   "source": [
    "# Output\n"
   ]
  },
  {
   "cell_type": "markdown",
   "id": "9dade4e8-4956-43cf-91bf-6c047b7d405b",
   "metadata": {
    "tags": []
   },
   "source": [
    "## HW"
   ]
  },
  {
   "cell_type": "markdown",
   "id": "2e55b6de-70c7-4c0e-aba6-5e661edd534c",
   "metadata": {
    "jp-MarkdownHeadingCollapsed": true,
    "tags": []
   },
   "source": [
    "### Day 36: OOPS 1"
   ]
  },
  {
   "cell_type": "markdown",
   "id": "3b9519aa-4d3a-47de-ac8d-d67c4ea8018e",
   "metadata": {
    "jp-MarkdownHeadingCollapsed": true,
    "tags": []
   },
   "source": [
    "#### Question 1"
   ]
  },
  {
   "cell_type": "markdown",
   "id": "14961c58-80d9-417a-8990-c2313fce4f3c",
   "metadata": {},
   "source": [
    "    Construct a class Rectangle that represents a rectangle.\n",
    "    \n",
    "    The class should support the following functionalities:-\n",
    "    perimeter() -> returns the perimeter of the rectangle\n",
    "    area() -> returns the area of the rectangle\n",
    "    \n",
    "    Input format:\n",
    "    First argument A is an integer representing the number of testcases.\n",
    "    For each case, x (length) and y (breadth) are taken as input in new line.\n",
    "    \n",
    "    Output format:\n",
    "    The perimeter and area of the constructed rectangle are printed.\n",
    "    \n",
    "    Sample Input:\n",
    "    1 # number of cases\n",
    "    1 # radius of first case\n",
    "    2 # radius of second case\n",
    "    \n",
    "    Sample output:\n",
    "    4 #perimeter of rectangle\n",
    "    1 #area of rectangle"
   ]
  },
  {
   "cell_type": "markdown",
   "id": "fd349808-2b7b-4a56-b8ca-2d31e28bc598",
   "metadata": {
    "jp-MarkdownHeadingCollapsed": true,
    "tags": []
   },
   "source": [
    "##### Solution Submitted"
   ]
  },
  {
   "cell_type": "code",
   "execution_count": 8,
   "id": "75af8c0f-179e-4657-93ef-f980a8ce0829",
   "metadata": {},
   "outputs": [],
   "source": [
    "class Rectangle:\n",
    "    # Define properties here\n",
    "    \n",
    "    # Define constructor here\n",
    "    def __init__(self, x, y):\n",
    "        self.x = x\n",
    "        self.y = y\n",
    "\n",
    "    def perimeter(self):\n",
    "        # Complete the function\n",
    "        p = 2*self.x + 2*self.y\n",
    "        return p\n",
    "    \n",
    "    def area(self):\n",
    "        # Complete the function\n",
    "        return self.x * self.y\n",
    "         \n",
    "# Rectangle a = new Rectangle(2, 3)  // Length = 2, Breadth = 3\n",
    "# a.perimeter() // Should give 10\n",
    "# a.area() // Should give 6"
   ]
  },
  {
   "cell_type": "code",
   "execution_count": 9,
   "id": "f174116b-c3d1-4ebb-8e13-fc9f3654b8eb",
   "metadata": {},
   "outputs": [],
   "source": [
    "# Output\n",
    "x = Rectangle(4,6)"
   ]
  },
  {
   "cell_type": "code",
   "execution_count": 10,
   "id": "23437542-4f5e-49da-86e3-5fdbfcc7525e",
   "metadata": {},
   "outputs": [
    {
     "data": {
      "text/plain": [
       "20"
      ]
     },
     "execution_count": 10,
     "metadata": {},
     "output_type": "execute_result"
    }
   ],
   "source": [
    "x.perimeter()"
   ]
  },
  {
   "cell_type": "code",
   "execution_count": 11,
   "id": "9a0e18c1-8aa2-47ba-8e76-e788ec8ba83f",
   "metadata": {},
   "outputs": [
    {
     "data": {
      "text/plain": [
       "24"
      ]
     },
     "execution_count": 11,
     "metadata": {},
     "output_type": "execute_result"
    }
   ],
   "source": [
    "x.area()"
   ]
  },
  {
   "cell_type": "markdown",
   "id": "900a8242-05bf-4f93-8497-e2a6384a3466",
   "metadata": {
    "jp-MarkdownHeadingCollapsed": true,
    "tags": []
   },
   "source": [
    "#### Question 2"
   ]
  },
  {
   "cell_type": "markdown",
   "id": "b8a8f1d6-aa94-4370-8844-6be240abad65",
   "metadata": {},
   "source": [
    "    Construct a class Circle that represents a Circle.\n",
    "\n",
    "    The class should support the following functionalities:-\n",
    "    perimeter() -> returns the perimeter of the circle\n",
    "    area() -> returns the area of the circle\n",
    "\n",
    "    Note: Assume Π (pi) = 3.14 for calculations.\n",
    "\n",
    "    Input Format:\n",
    "    First argument A is an integer representing the number of testcases.\n",
    "    For each case, the radius r is taken as input in new line.\n",
    "    \n",
    "    Output Format:\n",
    "    The perimeter and area of the constructed circle is printed.\n",
    "    \n",
    "    Sample Input:\n",
    "    2     # number of cases\n",
    "    1     # radius of first case\n",
    "    2     # radius of second case\n",
    "    \n",
    "    Sample output:\n",
    "    6.28     #perimeter of first case\n",
    "    3.14     #area of first case\n",
    "    12.56    #perimeter of second case\n",
    "    12.56    #area of second case"
   ]
  },
  {
   "cell_type": "markdown",
   "id": "400f6172-9e7b-4ef4-88fe-ff5fe3cdc80d",
   "metadata": {
    "jp-MarkdownHeadingCollapsed": true,
    "tags": []
   },
   "source": [
    "##### Solution Submitted"
   ]
  },
  {
   "cell_type": "code",
   "execution_count": 12,
   "id": "aae6ce42-104a-4e23-8dc8-605ef94ae490",
   "metadata": {},
   "outputs": [],
   "source": [
    "class Circle:\n",
    "    # Define properties here\n",
    "    pi = 3.14\n",
    "    # Define constructor here\n",
    "    def __init__(self, radius):\n",
    "        self.radius = radius\n",
    "\n",
    "    def perimeter(self):\n",
    "        # Complete the function\n",
    "        p = 2*self.pi*self.radius\n",
    "        return p\n",
    "    \n",
    "    def area(self):\n",
    "        # Complete the function\n",
    "        return 3.14*(self.radius**2)\n",
    "           \n",
    "# a = new Circle(3)  // Radius = 3\n",
    "# a.perimeter() // 18.84\n",
    "# a.area() // 28.26"
   ]
  },
  {
   "cell_type": "code",
   "execution_count": 13,
   "id": "03bdce57-b28d-4160-85d0-374c4266e3fd",
   "metadata": {},
   "outputs": [],
   "source": [
    "x = Circle(3)"
   ]
  },
  {
   "cell_type": "code",
   "execution_count": 14,
   "id": "b9b975f5-0736-463b-8b4c-1974325b4fc7",
   "metadata": {},
   "outputs": [
    {
     "data": {
      "text/plain": [
       "18.84"
      ]
     },
     "execution_count": 14,
     "metadata": {},
     "output_type": "execute_result"
    }
   ],
   "source": [
    "x.perimeter()"
   ]
  },
  {
   "cell_type": "code",
   "execution_count": 15,
   "id": "e11eadbd-cd19-48a3-ba9a-74c9f483d8b2",
   "metadata": {},
   "outputs": [
    {
     "data": {
      "text/plain": [
       "28.26"
      ]
     },
     "execution_count": 15,
     "metadata": {},
     "output_type": "execute_result"
    }
   ],
   "source": [
    "x.area()"
   ]
  },
  {
   "cell_type": "markdown",
   "id": "752ebc90-d230-4803-9d6a-4a333b28ef48",
   "metadata": {
    "jp-MarkdownHeadingCollapsed": true,
    "tags": []
   },
   "source": [
    "### Day 39: Functional Programming 2"
   ]
  },
  {
   "cell_type": "markdown",
   "id": "b54e8a9d-ef46-4d65-9d55-8e26b04e2590",
   "metadata": {
    "tags": []
   },
   "source": [
    "#### Question x"
   ]
  },
  {
   "cell_type": "markdown",
   "id": "c752bfc3-24ff-4812-9a74-adde0ac0e6bf",
   "metadata": {},
   "source": []
  },
  {
   "cell_type": "markdown",
   "id": "f3c62b45-b7ab-488d-8109-0728af980e7b",
   "metadata": {
    "tags": []
   },
   "source": [
    "##### Solution Submitted"
   ]
  },
  {
   "cell_type": "code",
   "execution_count": null,
   "id": "3731e045-84f4-488f-b2de-adee36f11fbe",
   "metadata": {},
   "outputs": [],
   "source": []
  },
  {
   "cell_type": "code",
   "execution_count": null,
   "id": "d647a929-10fc-460f-b36f-38ccdee24ad3",
   "metadata": {},
   "outputs": [],
   "source": [
    "# Output\n"
   ]
  },
  {
   "cell_type": "markdown",
   "id": "50f2f9fc-cf9d-4ae0-9eea-c51ff4b5bd6a",
   "metadata": {
    "tags": []
   },
   "source": [
    "#### Question x"
   ]
  },
  {
   "cell_type": "markdown",
   "id": "fb98fbb9-40a6-4492-88e6-1788c679a97a",
   "metadata": {},
   "source": []
  },
  {
   "cell_type": "markdown",
   "id": "46f9730d-c5ea-4090-b0fb-14a3e3883e57",
   "metadata": {
    "tags": []
   },
   "source": [
    "##### Solution Submitted"
   ]
  },
  {
   "cell_type": "code",
   "execution_count": null,
   "id": "d6c4eda7-ba6b-465f-b34a-b9eca3ca593e",
   "metadata": {},
   "outputs": [],
   "source": []
  },
  {
   "cell_type": "code",
   "execution_count": null,
   "id": "d155663c-a7ff-48d7-9f5f-2d1b7f69e26a",
   "metadata": {},
   "outputs": [],
   "source": [
    "# Output\n"
   ]
  },
  {
   "cell_type": "markdown",
   "id": "91986a74-a009-4b99-a572-0b1f49cb61bc",
   "metadata": {
    "jp-MarkdownHeadingCollapsed": true,
    "tags": []
   },
   "source": [
    "### Day 43:"
   ]
  },
  {
   "cell_type": "markdown",
   "id": "c8f28dde-7785-4bb0-933c-54d63b80997e",
   "metadata": {
    "tags": []
   },
   "source": [
    "#### Question x"
   ]
  },
  {
   "cell_type": "markdown",
   "id": "f6bacb37-09db-4627-9793-bc8220752667",
   "metadata": {},
   "source": []
  },
  {
   "cell_type": "markdown",
   "id": "7d43c922-5fed-4bf7-ba3e-5d97f68090c8",
   "metadata": {
    "tags": []
   },
   "source": [
    "##### Solution Submitted"
   ]
  },
  {
   "cell_type": "code",
   "execution_count": null,
   "id": "ae09717f-bed5-4b9e-ad59-be945cda03c9",
   "metadata": {},
   "outputs": [],
   "source": []
  },
  {
   "cell_type": "code",
   "execution_count": null,
   "id": "c2b06e7e-01ba-4328-9431-0c080dce536a",
   "metadata": {},
   "outputs": [],
   "source": [
    "# Output\n"
   ]
  },
  {
   "cell_type": "markdown",
   "id": "7f3d9349-97ca-4b8e-848a-48edbaaf9724",
   "metadata": {
    "jp-MarkdownHeadingCollapsed": true,
    "tags": []
   },
   "source": [
    "### Day xx:"
   ]
  },
  {
   "cell_type": "markdown",
   "id": "dcd96b99-1e33-4aad-838a-e8993c8c8c58",
   "metadata": {
    "tags": []
   },
   "source": [
    "#### Question x"
   ]
  },
  {
   "cell_type": "markdown",
   "id": "3ae4cb3f-66f3-4112-ba2f-ab5e22145e0b",
   "metadata": {},
   "source": []
  },
  {
   "cell_type": "markdown",
   "id": "32484fa6-004e-4a8a-99ba-ddcfb215c762",
   "metadata": {
    "tags": []
   },
   "source": [
    "##### Solution Submitted"
   ]
  },
  {
   "cell_type": "code",
   "execution_count": null,
   "id": "4e0f8244-718b-4e58-a970-b9610ccb9371",
   "metadata": {},
   "outputs": [],
   "source": []
  },
  {
   "cell_type": "code",
   "execution_count": null,
   "id": "eb668f01-be2f-4a18-a5ac-70d7467b22f4",
   "metadata": {},
   "outputs": [],
   "source": [
    "# Output\n"
   ]
  }
 ],
 "metadata": {
  "kernelspec": {
   "display_name": "Python 3 (ipykernel)",
   "language": "python",
   "name": "python3"
  },
  "language_info": {
   "codemirror_mode": {
    "name": "ipython",
    "version": 3
   },
   "file_extension": ".py",
   "mimetype": "text/x-python",
   "name": "python",
   "nbconvert_exporter": "python",
   "pygments_lexer": "ipython3",
   "version": "3.9.12"
  },
  "widgets": {
   "application/vnd.jupyter.widget-state+json": {
    "state": {},
    "version_major": 2,
    "version_minor": 0
   }
  }
 },
 "nbformat": 4,
 "nbformat_minor": 5
}
