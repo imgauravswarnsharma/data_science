{
 "cells": [
  {
   "cell_type": "markdown",
   "id": "1c9c6ea0-b0d0-4e80-a7d7-154c419245a9",
   "metadata": {
    "tags": []
   },
   "source": [
    "## Assignments"
   ]
  },
  {
   "cell_type": "markdown",
   "id": "bc85abb2-1cf9-4762-9a50-1ccf157f54f6",
   "metadata": {
    "tags": []
   },
   "source": [
    "### Day 36: OOPS - 1"
   ]
  },
  {
   "cell_type": "markdown",
   "id": "9f83197d-4ddb-4663-b5dc-21b430617d65",
   "metadata": {
    "jp-MarkdownHeadingCollapsed": true,
    "tags": []
   },
   "source": [
    "#### Question 2"
   ]
  },
  {
   "cell_type": "markdown",
   "id": "14f9f1c0-6cfa-4014-a4ff-efb816a51ede",
   "metadata": {},
   "source": [
    "    When name \"Vishal\" is assigned to object p1 of the Person class in the above code snippet, what did self refer to, in line x?\n",
    "    \n",
    "            class Person:\n",
    "                def __init__(self, Name):\n",
    "                    self.name = Name             #line x\n",
    "                def get_person_name(self):\n",
    "                    return self.name\n",
    "                p1=Person(\"Vishal\")\n",
    "    \n"
   ]
  },
  {
   "cell_type": "markdown",
   "id": "9214cb72-19ba-48c8-ab8a-b3ed060f5f39",
   "metadata": {
    "jp-MarkdownHeadingCollapsed": true,
    "tags": []
   },
   "source": [
    "##### Solution"
   ]
  },
  {
   "cell_type": "markdown",
   "id": "672afc38-c5b0-48a3-b58c-237625527822",
   "metadata": {},
   "source": [
    "object 'p1'"
   ]
  },
  {
   "cell_type": "markdown",
   "id": "7e565f3c-9477-43ff-8d52-0ca70c0e6a91",
   "metadata": {
    "jp-MarkdownHeadingCollapsed": true,
    "tags": []
   },
   "source": [
    "#### Question 3"
   ]
  },
  {
   "cell_type": "markdown",
   "id": "845df60b-2dcc-4961-ae80-e2819cc14efd",
   "metadata": {},
   "source": [
    "    What will be the output of the following code snippet:\n",
    "\n",
    "            class People():\n",
    "                def __init__(self, name):\n",
    "                    self.name = name\n",
    "\n",
    "                def get_name(self):\n",
    "                    print(self.name)\n",
    "\n",
    "            person1 = People(\"John\")\n",
    "            person2 = People(\"Mary\")\n",
    "            person1.get_name()"
   ]
  },
  {
   "cell_type": "markdown",
   "id": "76efd345-cc63-48ef-a459-904a079f46d1",
   "metadata": {
    "jp-MarkdownHeadingCollapsed": true,
    "tags": []
   },
   "source": [
    "##### Solution Submitted"
   ]
  },
  {
   "cell_type": "markdown",
   "id": "0c6d3843-367b-460c-8681-b671e31df807",
   "metadata": {},
   "source": [
    "    John"
   ]
  },
  {
   "cell_type": "markdown",
   "id": "c7d42acc-a583-4f2e-89ba-87213503b22c",
   "metadata": {
    "jp-MarkdownHeadingCollapsed": true,
    "tags": []
   },
   "source": [
    "#### Question 4**"
   ]
  },
  {
   "cell_type": "markdown",
   "id": "f111939c-6749-4aee-8efb-284e615454de",
   "metadata": {},
   "source": [
    "    What will be the output of the following Python code?\n",
    "\n",
    "            class fruits:\n",
    "                def __init__(self, price):\n",
    "                    self.price = price\n",
    "\n",
    "            obj=fruits(50)\n",
    "            obj.quantity=10\n",
    "            obj.bags=2\n",
    "\n",
    "            print(obj.quantity+len(obj.__dict__))"
   ]
  },
  {
   "cell_type": "markdown",
   "id": "a1332428-bc10-4380-9dd4-b1310cffa719",
   "metadata": {
    "jp-MarkdownHeadingCollapsed": true,
    "tags": []
   },
   "source": [
    "##### Solution Submitted"
   ]
  },
  {
   "cell_type": "markdown",
   "id": "44f46dd2-6a17-496f-89a0-96350a1f25aa",
   "metadata": {},
   "source": [
    "13"
   ]
  },
  {
   "cell_type": "code",
   "execution_count": 138,
   "id": "65b49817-7e62-4918-80d1-ac127b0677ad",
   "metadata": {},
   "outputs": [],
   "source": [
    "class fruits:\n",
    "    def __init__(self, price):\n",
    "        self.price = price\n",
    "\n",
    "obj=fruits(50)\n",
    "obj.quantity=10\n",
    "obj.bags=2"
   ]
  },
  {
   "cell_type": "markdown",
   "id": "8f3e29a9-667f-492e-9e88-1396e7c3002a",
   "metadata": {},
   "source": [
    "* **__dict**__ is a dunder which gives all the attributes defined for an object"
   ]
  },
  {
   "cell_type": "code",
   "execution_count": 137,
   "id": "8b45b288-937b-4d43-bb9f-eeeca0629d97",
   "metadata": {},
   "outputs": [
    {
     "data": {
      "text/plain": [
       "{'price': 50, 'quantity': 10, 'bags': 2}"
      ]
     },
     "execution_count": 137,
     "metadata": {},
     "output_type": "execute_result"
    }
   ],
   "source": [
    "# __dict__ is a dunder which gives\n",
    "# all the attributes defined for an object.\n",
    "\n",
    "obj.__dict__"
   ]
  },
  {
   "cell_type": "code",
   "execution_count": 136,
   "id": "e08f6703-4ae7-4d40-b3af-eb81e2e5f343",
   "metadata": {},
   "outputs": [
    {
     "data": {
      "text/plain": [
       "3"
      ]
     },
     "execution_count": 136,
     "metadata": {},
     "output_type": "execute_result"
    }
   ],
   "source": [
    "# So, len of dict will give the number of attributes\n",
    "# of that object.\n",
    "\n",
    "len(obj.__dict__)"
   ]
  },
  {
   "cell_type": "code",
   "execution_count": 135,
   "id": "2ed414b1-0a30-43ac-a99d-b4c500ba0b6d",
   "metadata": {},
   "outputs": [
    {
     "name": "stdout",
     "output_type": "stream",
     "text": [
      "13\n"
     ]
    }
   ],
   "source": [
    " print(obj.quantity+len(obj.__dict__))"
   ]
  },
  {
   "cell_type": "markdown",
   "id": "ea4974fc-496f-4703-a1c6-7b804d19292d",
   "metadata": {
    "jp-MarkdownHeadingCollapsed": true,
    "tags": []
   },
   "source": [
    "#### Question 5"
   ]
  },
  {
   "cell_type": "markdown",
   "id": "66b2b762-6bdf-410c-a0c8-e8e21aa0f59b",
   "metadata": {},
   "source": [
    "    What will be the output of the following code snippet:\n",
    "\n",
    "    class Player:\n",
    "        # class variables\n",
    "        club = 'United'\n",
    "        sport = 'Football'\n",
    "\n",
    "        def __init__(self, name):\n",
    "            # Instance variable\n",
    "            self.name = name\n",
    "\n",
    "        def show(self):\n",
    "            print('Name:', self.name, 'Club:', self.club, 'Sports:', self.sport, end=\" \")\n",
    "\n",
    "    p1 = Player('Sanjay')\n",
    "    p1.club = 'Real Madrid'\n",
    "    p1.show()\n",
    "\n",
    "    p2 = Player('Ravi')\n",
    "    p2.sport = 'Tennis'\n",
    "    p2.show()"
   ]
  },
  {
   "cell_type": "markdown",
   "id": "ff20ef59-e506-4a6b-9bdb-0ef6c0f5bc06",
   "metadata": {
    "jp-MarkdownHeadingCollapsed": true,
    "tags": []
   },
   "source": [
    "##### Solution Submitted"
   ]
  },
  {
   "cell_type": "markdown",
   "id": "320308e2-1d9d-4670-b58f-4f8f11130636",
   "metadata": {},
   "source": [
    "    Name: Sanjay Club: Real Madrid Sports: Football Name: Ravi Club: United Sports: Tennis"
   ]
  },
  {
   "cell_type": "markdown",
   "id": "a0c43300-11ea-4d2f-97a5-5465175761bf",
   "metadata": {
    "jp-MarkdownHeadingCollapsed": true,
    "tags": []
   },
   "source": [
    "#### Question 6"
   ]
  },
  {
   "cell_type": "markdown",
   "id": "912f1b32-6943-45ba-9d8b-b56b13cbd85d",
   "metadata": {},
   "source": [
    "    Create a class Bill and initialize it with the details: previous and current meter readings. Create a function total_bill() inside the Bill class which returns the total bill based on the following criteria:\n",
    "\n",
    "    1. For the first 100 units consumed: 3.5 rs/unit\n",
    "    2. For the next 100 units consumed: 5 rs/unit\n",
    "    3. For remaining units consumed: 8 rs/unit\n",
    "    4. Meter Charges: 150 rs (It's included only once but is mandatory)\n",
    "\n",
    "    Example input:\n",
    "    200 650\n",
    "    \n",
    "    Example output:\n",
    "    3000.0\n",
    "    \n",
    "    Example explanation:\n",
    "    previous_read= 200\n",
    "    current_read= 650\n",
    "    Unit_consumed= 650-200 = 450\n",
    "    total_bill = 100*3.5 + 100*5 + 250*8 + 150(meter charges)= 3000.0 (output will be float)"
   ]
  },
  {
   "cell_type": "markdown",
   "id": "1db58b32-80b5-4fc4-8158-614e877cd9ce",
   "metadata": {
    "jp-MarkdownHeadingCollapsed": true,
    "tags": []
   },
   "source": [
    "##### Solution Submitted"
   ]
  },
  {
   "cell_type": "code",
   "execution_count": 26,
   "id": "d6971be2-9814-4903-987e-c0173af088e4",
   "metadata": {},
   "outputs": [],
   "source": [
    "class Bill():\n",
    "\n",
    "    def __init__(self, prev_read, cur_read):\n",
    "        #YOUR CODE GOESS HERE\n",
    "        self.prev_read = prev_read\n",
    "        self.cur_read = cur_read\n",
    "        \n",
    "    def total_bill(self):\n",
    "        total=0.0\n",
    "        #YOUR CODE GOESS HERE\n",
    "        consumption = self.cur_read - self.prev_read\n",
    "        if consumption <= 100:\n",
    "            total = consumption*3.5+150\n",
    "        elif consumption <= 200:\n",
    "            total = 100*3.5 + (consumption-100)*5 + 150\n",
    "        else:\n",
    "            total = 100*3.5 + 100*5 + (consumption -200)*8 + 150\n",
    "        \n",
    "        return total"
   ]
  },
  {
   "cell_type": "code",
   "execution_count": 29,
   "id": "8479afda-bec1-4b2c-86e4-03aa9ffcb7d9",
   "metadata": {},
   "outputs": [],
   "source": [
    "# Output\n",
    "x = Bill(200, 650)"
   ]
  },
  {
   "cell_type": "code",
   "execution_count": 30,
   "id": "d00196c5-ca6f-4258-b1e6-9e8da5d32ea8",
   "metadata": {},
   "outputs": [
    {
     "data": {
      "text/plain": [
       "3000.0"
      ]
     },
     "execution_count": 30,
     "metadata": {},
     "output_type": "execute_result"
    }
   ],
   "source": [
    "x.total_bill()"
   ]
  },
  {
   "cell_type": "markdown",
   "id": "c6ba858d-fc95-4cc9-ad41-893599e5fb04",
   "metadata": {
    "jp-MarkdownHeadingCollapsed": true,
    "tags": []
   },
   "source": [
    "#### Question 7"
   ]
  },
  {
   "cell_type": "markdown",
   "id": "fe044a9f-1436-449a-846a-06b1e5b026a9",
   "metadata": {},
   "source": [
    "    Create a class Student and initialize it with the following class variables:\n",
    "    \n",
    "    marks in subject 1\n",
    "    credit of subject 1\n",
    "    marks in subject 2\n",
    "    credit of subject 2\n",
    "\n",
    "    Create a function gradepointaverage() for the Student class which computes the GPA rounded to two decimals, based on the following criteria of points in a subject :\n",
    "\n",
    "    1. If marks>=90:10 points\n",
    "    2. If 90>marks>=75: 9 points\n",
    "    3. If 75>marks>=60: 8 points\n",
    "    4. If 60>marks>=45: 7 points\n",
    "    5. If marks<45: 0 points\n",
    "\n",
    "    GPA = (pointsinsubject1 ∗ creditofsubject1 + pointsinsubject2 ∗ creditofsubject2) / (creditofsubject1 + creditofsubject2)\n",
    "\n",
    "    The points in a subject should be calculated according to the criteria mentioned in the question.\n",
    "    Also, implement a special zero case to handle when credits of both subjects are 0, return \"Zero credits for both subjects\".\n",
    "\n",
    "    Input Format\n",
    "    Class Student takes input in the form (marks1,marks2,credits1,credits2)\n",
    "\n",
    "    Output Format\n",
    "    GPA value\n",
    "\n",
    "    Example Input\n",
    "    (85, 76, 3, 4)\n",
    "\n",
    "    Example Output\n",
    "    9.0"
   ]
  },
  {
   "cell_type": "markdown",
   "id": "7135d174-ac9b-41ef-aaa3-aa63b7f22fae",
   "metadata": {
    "tags": []
   },
   "source": [
    "##### Solution Submitted"
   ]
  },
  {
   "cell_type": "code",
   "execution_count": 56,
   "id": "060c07ea-a09a-416a-adb3-3ccdadc0619b",
   "metadata": {},
   "outputs": [],
   "source": [
    "class Student():\n",
    "    \n",
    "    def __init__(self, marks1,marks2,credits1, credits2):\n",
    "        #YOUR CODE GOES HERE\n",
    "        self.marks1 = marks1\n",
    "        self.marks2 = marks2\n",
    "        self.credits1 = credits1\n",
    "        self.credits2 = credits2\n",
    "    \n",
    "    def grade_point_average(self):\n",
    "        gpa=0\n",
    "        \n",
    "        #YOUR CODE GOES HERE\n",
    "        if self.marks1 >= 90:\n",
    "            points1 = 10\n",
    "        elif self.marks1 >= 75:\n",
    "            points1 = 9\n",
    "        elif self.marks1 >= 60:\n",
    "            points1 = 8\n",
    "        elif self.marks1 >=45:\n",
    "            points1 = 7\n",
    "        else:\n",
    "            points1 = 0\n",
    "\n",
    "        if self.marks2 >= 90:\n",
    "            points2 = 10\n",
    "        elif self.marks2 >= 75:\n",
    "            points2 = 9\n",
    "        elif self.marks2 >= 60:\n",
    "            points2 = 8\n",
    "        elif self.marks2 >=45:\n",
    "            points2 = 7\n",
    "        else:\n",
    "            points2 = 0\n",
    "        try:\n",
    "            gpa = round((points1*self.credits1 + points2*self.credits2)/(self.credits1+self.credits2),2)\n",
    "            return gpa\n",
    "        except:\n",
    "            return \"Zero credits for both subjects\""
   ]
  },
  {
   "cell_type": "code",
   "execution_count": 57,
   "id": "3e846853-779e-47d3-86f3-0ebf2b77738f",
   "metadata": {},
   "outputs": [],
   "source": [
    "# Output\n",
    "x = Student(0,0,3,4)"
   ]
  },
  {
   "cell_type": "code",
   "execution_count": 58,
   "id": "869a8d94-1eab-47e8-b0c5-79b3db9f2683",
   "metadata": {},
   "outputs": [
    {
     "data": {
      "text/plain": [
       "0.0"
      ]
     },
     "execution_count": 58,
     "metadata": {},
     "output_type": "execute_result"
    }
   ],
   "source": [
    "x.grade_point_average()"
   ]
  },
  {
   "cell_type": "markdown",
   "id": "a9a48fe2-ca43-4fbd-9eac-cd554956fa07",
   "metadata": {
    "jp-MarkdownHeadingCollapsed": true,
    "tags": []
   },
   "source": [
    "##### Better Approach"
   ]
  },
  {
   "cell_type": "code",
   "execution_count": 146,
   "id": "5fe91c4e-c1a6-4769-9e6f-9b5af790645b",
   "metadata": {},
   "outputs": [],
   "source": [
    "class Student:\n",
    "    def __init__(self, marks1, marks2, credit1, credit2):\n",
    "        self.marks1 = marks1\n",
    "        self.marks2 = marks2\n",
    "        self.credit1 = credit1\n",
    "        self.credit2 = credit2\n",
    "    \n",
    "    def get_points(self, marks):\n",
    "        if marks >= 90:\n",
    "            return 10\n",
    "        elif marks <90 and marks >=75:\n",
    "            return 9\n",
    "        elif marks <75 and marks >= 60:\n",
    "            return 8\n",
    "        elif marks < 60 and marks >= 45:\n",
    "            return 7\n",
    "        elif marks < 45:\n",
    "            return 0\n",
    "    \n",
    "    def grade_point_average(self):\n",
    "        if self.credit1 == 0 and self.credit2 == 0:\n",
    "            return \"Zero credits for both subjects\"\n",
    "        else:\n",
    "            self.points1  = self.get_points(self.marks1)\n",
    "            self.points2  = self.get_points(self.marks2)\n",
    "\n",
    "        cgpa = ((self.points1*self.credit1) + (self.points2*self.credit2))/(self.credit1 + self.credit2)\n",
    "\n",
    "        return round(cgpa,2)"
   ]
  },
  {
   "cell_type": "code",
   "execution_count": 147,
   "id": "9157f6ef-976c-4135-8846-c877c630f8b8",
   "metadata": {},
   "outputs": [],
   "source": [
    "# Output\n",
    "x = Student(0,0,3,4)"
   ]
  },
  {
   "cell_type": "code",
   "execution_count": 148,
   "id": "ad58dfbd-0a92-4e47-8520-da76a68aec45",
   "metadata": {},
   "outputs": [
    {
     "data": {
      "text/plain": [
       "0.0"
      ]
     },
     "execution_count": 148,
     "metadata": {},
     "output_type": "execute_result"
    }
   ],
   "source": [
    "x.grade_point_average()"
   ]
  },
  {
   "cell_type": "markdown",
   "id": "2eb26d3f-d37f-4e3a-b0c4-7bb9723b948c",
   "metadata": {
    "tags": []
   },
   "source": [
    "### Day 37: OOPS - 2"
   ]
  },
  {
   "cell_type": "markdown",
   "id": "f33912bb-c55e-4d40-9d9b-64daa9cbb5ad",
   "metadata": {
    "jp-MarkdownHeadingCollapsed": true,
    "tags": []
   },
   "source": [
    "#### Question 2"
   ]
  },
  {
   "cell_type": "markdown",
   "id": "4692baef-1400-4ea0-8c56-c4193463df2c",
   "metadata": {},
   "source": [
    "    Complete the classes Smaller and Larger.\n",
    "\n",
    "    Smaller class gets instantiated when the argument of the function (a:string) has a length smaller than 6 otherwise Larger is instantiated.\n",
    "    Both the classes have the same two methods, display() printing the type of a (class), and\n",
    "    evaluate() printing the number of vowels if the Name is Smaller otherwise it prints the number of consonants.\n",
    "\n",
    "    Input Format\n",
    "    For each testcase there will be a single line of input which will be a string.\n",
    "\n",
    "    Output Format\n",
    "    For each testcase there will be two lines of outputs. First line will write the type of object and second line will print the output of evaluate() according to the object type.\n",
    "\n",
    "    Example Input\n",
    "    \"aman\"\n",
    "    \n",
    "    Example Output\n",
    "    The type of Name is smaller\n",
    "    2\n",
    "\n",
    "    Example Explanation\n",
    "    Since the length of \"aman\" is 4 which is smaller than 6, therefore, it will be called with Smaller class and in the second line evaluate() will print the frequency of vowels in the Name."
   ]
  },
  {
   "cell_type": "markdown",
   "id": "e3afe878-e2f8-4fbc-845e-a9e3c7a35e52",
   "metadata": {
    "jp-MarkdownHeadingCollapsed": true,
    "tags": []
   },
   "source": [
    "##### Solution Submitted"
   ]
  },
  {
   "cell_type": "code",
   "execution_count": 7,
   "id": "b60886e0-9ea7-419e-8871-d6e23aeceefb",
   "metadata": {},
   "outputs": [],
   "source": [
    "class Smaller:\n",
    "    def __init__(self,a):\n",
    "        self.string = a\n",
    "    \n",
    "    def display(self):\n",
    "        print(\"The type of Name is smaller\")\n",
    "    \n",
    "    def evaluate(self):\n",
    "        ans=0\n",
    "        vowel = ['a', 'e', 'i', 'o', 'u']\n",
    "        # YOUR CODE GOES HERE\n",
    "        for i in self.string:\n",
    "            if i.lower() in vowel:\n",
    "                ans +=1\n",
    "        print(ans)\n",
    "        \n",
    "class Larger:\n",
    "    def __init__(self,a):\n",
    "        self.string = a\n",
    "    \n",
    "    def display(self):\n",
    "        print(\"The type of Name is larger\")\n",
    "    \n",
    "    def evaluate(self):\n",
    "        ans=0\n",
    "        vowel = ['a', 'e', 'i', 'o', 'u']\n",
    "        # YOUR CODE GOES HERE\n",
    "        for i in self.string:\n",
    "            if i.lower() not in vowel:\n",
    "                ans +=1\n",
    "        print(ans)\n",
    "\n",
    "def main(a):\n",
    "    '''\n",
    "    input a is string\n",
    "    '''\n",
    "    if len(a)<6:\n",
    "        obj=Smaller(a)\n",
    "        obj.display()\n",
    "        obj.evaluate()\n",
    "    else:\n",
    "        obj=Larger(a)\n",
    "        obj.display()\n",
    "        obj.evaluate()"
   ]
  },
  {
   "cell_type": "code",
   "execution_count": 8,
   "id": "132de2c4-372d-4a77-b545-e2bc7b837429",
   "metadata": {},
   "outputs": [
    {
     "name": "stdout",
     "output_type": "stream",
     "text": [
      "The type of Name is smaller\n",
      "2\n"
     ]
    }
   ],
   "source": [
    "# Output\n",
    "x = main(\"aman\")"
   ]
  },
  {
   "cell_type": "code",
   "execution_count": 9,
   "id": "45a3e991-f501-41ad-9fd4-0261de27450d",
   "metadata": {},
   "outputs": [
    {
     "name": "stdout",
     "output_type": "stream",
     "text": [
      "The type of Name is larger\n",
      "6\n"
     ]
    }
   ],
   "source": [
    "x = main(\"amanrathore\")"
   ]
  },
  {
   "cell_type": "markdown",
   "id": "cd2248f6-905c-4ad1-954f-8164c5ce56bb",
   "metadata": {
    "jp-MarkdownHeadingCollapsed": true,
    "tags": []
   },
   "source": [
    "#### Question 3"
   ]
  },
  {
   "cell_type": "markdown",
   "id": "c5254f79-802a-4472-99c2-70141aeb67a5",
   "metadata": {},
   "source": [
    "    You are already given a class Machine_Learning with its constructor and a number of methods. You have to define a class Supervised which will inherit the MachineLearning class with the following data members and methods:\n",
    "\n",
    "    Data Members:\n",
    "    1. name: string\n",
    "    2. category: string\n",
    "\n",
    "    Methods:\n",
    "    1. Constructor: Initialize the data member and call the parent class constructor\n",
    "    2. getname(): Returns the data member name.\n",
    "    3. getcategory(): Returns the data member breed.\n",
    "    4. type(): Prints 'Supervised Learning Algorithm'.\n",
    "\n",
    "    You also have to define a class Unsupervised which will also inherit the MachineLearning class with the same data members and methods as in Supervised, but the type() will have to print Unsupervised Learning Algorithm for this class.\n",
    "\n",
    "    Input Format:\n",
    "    4 strings each in a new line. First two strings are name and category for Supervised class object and the last two are for Unsupervised class object.\n",
    "    \n",
    "    Output Format:\n",
    "    Name of class is printed for the two instantiated objects.\n",
    "    Category of class is printed for the two instantiated objects.\n",
    "    type() of class is printed for the two instantiated objects.\n",
    "    \n",
    "    Sample Input:\n",
    "    Logistic Regression\n",
    "    Classification Algo\n",
    "    k-Means\n",
    "    Clustering Algo\n",
    "    \n",
    "    Sample output:\n",
    "    Name: Logistic Regression\n",
    "    Category: Classification Algo\n",
    "    Supervised Learning Algorithm\n",
    "    Name: k-Means\n",
    "    Category: Clustering Algo\n",
    "    Unsupervised Learning Algorithm\n",
    "    \n",
    "    Sample's Explanation:\n",
    "    For Linear Regression, Classification Algo the type of class is supervised therefore it's printed after its name and category. For k-Means, Clustering Algo the type of class is supervised therefore it's printed after its name and category."
   ]
  },
  {
   "cell_type": "markdown",
   "id": "928bb02a-42c3-48fe-81fd-d091f3b60c6d",
   "metadata": {
    "jp-MarkdownHeadingCollapsed": true,
    "tags": []
   },
   "source": [
    "##### Solution Submitted"
   ]
  },
  {
   "cell_type": "code",
   "execution_count": 122,
   "id": "010df301-052b-4821-9184-3fa1c2ecea91",
   "metadata": {},
   "outputs": [],
   "source": [
    "class MachineLearning:\n",
    "    def __init__(self,name,category):\n",
    "        self.name = name\n",
    "        self.category = category\n",
    "        \n",
    "    def getname(self):\n",
    "        return self.name\n",
    "        \n",
    "    def getcategory(self):\n",
    "        return self.category\n",
    "        \n",
    "    def print(self):\n",
    "        print(\"Name:\",self.name)\n",
    "        print(\"Category:\",self.category)\n",
    "\n",
    "class Supervised(MachineLearning):\n",
    "    def __init__(self,name,category):\n",
    "        #YOUR CODE GOES HERE\n",
    "        super().__init__(name, category)\n",
    "        \n",
    "    def type(self):\n",
    "        #YOUR CODE GOES HERE\n",
    "        MachineLearning.print(self)\n",
    "        print(\"Supervised Learning Algorithm\")\n",
    "\n",
    "class Unsupervised(MachineLearning):\n",
    "    def __init__(self,name,category):\n",
    "        #YOUR CODE GOES HERE\n",
    "        super().__init__(name, category)\n",
    "    \n",
    "    def type(self):\n",
    "        #YOUR CODE GOES HERE\n",
    "        MachineLearning.print(self)\n",
    "        print(\"Unsupervised Learning Algorithm\")\n",
    "\n",
    "def mlAnalogy(a,b,c,d):\n",
    "    '''\n",
    "    input=> a,b = name and category for Supervised class\n",
    "            c,d = name and category for Unsupervised class\n",
    "    output=> type() is called for both classes in the end, it should first print the Name and Category then the type of class in new lines\n",
    "    '''\n",
    "\n",
    "    obj1=Supervised(a,b)\n",
    "    obj1.type()\n",
    "    obj2=Unsupervised(c,d)\n",
    "    obj2.type()\n",
    "\n",
    "    return None"
   ]
  },
  {
   "cell_type": "code",
   "execution_count": 123,
   "id": "1b662f9b-35d1-443e-8eda-674e914c5f05",
   "metadata": {},
   "outputs": [
    {
     "name": "stdout",
     "output_type": "stream",
     "text": [
      "Name: Logistic Regression\n",
      "Category: Classification Algo\n",
      "Supervised Learning Algorithm\n",
      "Name: k-Means\n",
      "Category: Clustering Algo\n",
      "Unsupervised Learning Algorithm\n"
     ]
    }
   ],
   "source": [
    "# Output\n",
    "x = mlAnalogy(\"Logistic Regression\", \"Classification Algo\", \"k-Means\", \"Clustering Algo\")"
   ]
  },
  {
   "cell_type": "markdown",
   "id": "271bb942-9e31-49fe-b075-26e5523c77bc",
   "metadata": {
    "jp-MarkdownHeadingCollapsed": true,
    "tags": []
   },
   "source": [
    "##### Exercise Solution"
   ]
  },
  {
   "cell_type": "code",
   "execution_count": 126,
   "id": "adde8491-4333-4f27-b01b-de40ddb0e3d5",
   "metadata": {},
   "outputs": [],
   "source": [
    "class MachineLearning:\n",
    "    def __init__(self,name,category):\n",
    "        self.name=name\n",
    "        self.category=category\n",
    "\n",
    "    def getname(self):\n",
    "        return self.name\n",
    "\n",
    "    def getcategory(self):\n",
    "        return self.category\n",
    "\n",
    "    def print(self):\n",
    "        print(\"Name:\",self.name)\n",
    "        print(\"Category:\",self.category)\n",
    "\n",
    "class Supervised(MachineLearning):\n",
    "\n",
    "    def __init__(self,name,category):\n",
    "        super().__init__(name,category)\n",
    "\n",
    "    def type(self):\n",
    "        super().print()\n",
    "        print(\"Supervised Learning Algorithm\")\n",
    "\n",
    "class Unsupervised(MachineLearning):\n",
    "    def __init__(self,name,category):\n",
    "        super().__init__(name,category)\n",
    "    def type(self):\n",
    "        super().print()\n",
    "        print(\"Unsupervised Learning Algorithm\")\n",
    "\n",
    "def mlAnalogy(a,b,c,d):\n",
    "    '''input=> a,b = name and category for Supervised class\n",
    "             c,d = name and category for Unsupervised class\n",
    "     output=> type() is called for both classes in the end, it should first print the Name and Category then the type of class in new lines\n",
    "    '''\n",
    "\n",
    "    obj1=Supervised(a,b)\n",
    "    obj1.type()\n",
    "    obj2=Unsupervised(c,d)\n",
    "    obj2.type()\n",
    "\n",
    "    return None"
   ]
  },
  {
   "cell_type": "code",
   "execution_count": 127,
   "id": "a89007f5-4b08-480f-b923-20e4f03d2ee6",
   "metadata": {},
   "outputs": [
    {
     "name": "stdout",
     "output_type": "stream",
     "text": [
      "Name: Logistic Regression\n",
      "Category: Classification Algo\n",
      "Supervised Learning Algorithm\n",
      "Name: k-Means\n",
      "Category: Clustering Algo\n",
      "Unsupervised Learning Algorithm\n"
     ]
    }
   ],
   "source": [
    "# Output\n",
    "x = mlAnalogy(\"Logistic Regression\", \"Classification Algo\", \"k-Means\", \"Clustering Algo\")"
   ]
  },
  {
   "cell_type": "markdown",
   "id": "ab2ad615-b06b-45d7-b486-714d56554b46",
   "metadata": {
    "jp-MarkdownHeadingCollapsed": true,
    "tags": []
   },
   "source": [
    "#### Question 4**"
   ]
  },
  {
   "cell_type": "markdown",
   "id": "4275cca0-353f-410b-9244-0cd36e1cf7ac",
   "metadata": {},
   "source": [
    "    What will be the output of the following code snippet?\n",
    "\n",
    "    class solution:\n",
    "      def initial(self,sets):\n",
    "        return self.final(sets)\n",
    "\n",
    "      def final(self, sets):\n",
    "        return list(map(lambda x: ((x**3)%2==0,x**3),sets))\n",
    "\n",
    "    print(solution().initial([4,5,6]))"
   ]
  },
  {
   "cell_type": "markdown",
   "id": "952502c0-8e87-4674-a8a2-39799a7fb5d8",
   "metadata": {
    "jp-MarkdownHeadingCollapsed": true,
    "tags": []
   },
   "source": [
    "##### Solution Submitted"
   ]
  },
  {
   "cell_type": "markdown",
   "id": "0858479f-51aa-41e5-b141-d35b22c68860",
   "metadata": {},
   "source": [
    "    [(True, 64), (False, 125), (True, 216)]"
   ]
  },
  {
   "cell_type": "markdown",
   "id": "50ce706e-bff9-47f4-9fac-087403b79e76",
   "metadata": {
    "jp-MarkdownHeadingCollapsed": true,
    "tags": []
   },
   "source": [
    "#### Question 5**"
   ]
  },
  {
   "cell_type": "markdown",
   "id": "0755738a-c55b-4d07-980e-81d90cd6c739",
   "metadata": {},
   "source": [
    "    Given the following block of code, what will be the expected output?\n",
    "\n",
    "    class Student:\n",
    "        def __init__(self,roll,marks):\n",
    "            self.roll = roll\n",
    "            self.marks = marks\n",
    "        def display(self):\n",
    "            print('Roll:', self.roll,'Marks:',self.marks, end=\" \")\n",
    "\n",
    "    student1 = Student(34,'A')\n",
    "    student1.age = 17\n",
    "    print(student1.display(), 'Age:',student1.age)"
   ]
  },
  {
   "cell_type": "markdown",
   "id": "41fbc85b-b256-4f70-9460-d514677576a0",
   "metadata": {
    "jp-MarkdownHeadingCollapsed": true,
    "tags": []
   },
   "source": [
    "##### Solution Submitted"
   ]
  },
  {
   "cell_type": "markdown",
   "id": "370a2472-3cbb-4a8e-bf63-7fa9e32c01d6",
   "metadata": {},
   "source": [
    "        Roll: 34 Marks: A None Age: 17"
   ]
  },
  {
   "cell_type": "markdown",
   "id": "8fef3154-3a79-459c-b213-dbc6238040e8",
   "metadata": {
    "jp-MarkdownHeadingCollapsed": true,
    "tags": []
   },
   "source": [
    "###### Logic"
   ]
  },
  {
   "cell_type": "code",
   "execution_count": 155,
   "id": "d44ce31e-85ff-45f5-969a-8df1abc57d8b",
   "metadata": {},
   "outputs": [],
   "source": [
    "class Student:\n",
    "    def __init__(self,roll,marks):\n",
    "        self.roll = roll\n",
    "        self.marks = marks\n",
    "    def display(self):\n",
    "        print('Roll:', self.roll,'Marks:',self.marks, end=\" \")\n",
    "\n",
    "student1 = Student(34,'A')\n",
    "student1.age = 17"
   ]
  },
  {
   "cell_type": "markdown",
   "id": "afaa8083-009f-4d34-b298-936bdd4b4407",
   "metadata": {},
   "source": [
    "Let's break this question in simpler pieces.\n",
    "So if we call the display method, it will print the Roll No and Marks expected as per print statement inside the display method. We have verified that below. \n",
    "Basically, it is just printing."
   ]
  },
  {
   "cell_type": "code",
   "execution_count": 154,
   "id": "9cf00d8a-e48c-4316-9e3b-68c5db86c01c",
   "metadata": {},
   "outputs": [
    {
     "name": "stdout",
     "output_type": "stream",
     "text": [
      "Roll: 34 Marks: A "
     ]
    }
   ],
   "source": [
    "ans = student1.display()"
   ]
  },
  {
   "cell_type": "markdown",
   "id": "1f78dbc6-1501-4094-8c5e-f0de11974f4a",
   "metadata": {},
   "source": [
    "Since, in display method, we are printing but we never returned anything for the method, so in that case if we try to print the method itself it will return None (In literal sense, we are not returning anything).\n",
    "\n",
    "Printing the output of method itself."
   ]
  },
  {
   "cell_type": "code",
   "execution_count": 157,
   "id": "777b03bf-0d56-4c86-b2b5-7772ef9663fd",
   "metadata": {},
   "outputs": [
    {
     "name": "stdout",
     "output_type": "stream",
     "text": [
      "None\n"
     ]
    }
   ],
   "source": [
    "print(ans)"
   ]
  },
  {
   "cell_type": "markdown",
   "id": "333d4593-8a83-4e7b-a8a9-0fa4bab6e45a",
   "metadata": {},
   "source": [
    "Let's say we are returning something for the method then if we try to print that method then it shall be able to print particular output.\n",
    "\n",
    "So in below case, we should be able to print Test if we try to print the method itself. We are able to to do the same below.\n",
    "\n",
    "Now, logic should be clear. To print output of a function, function should have a output!"
   ]
  },
  {
   "cell_type": "code",
   "execution_count": 160,
   "id": "10be72b0-ecac-45d7-9ff6-25b52e48c844",
   "metadata": {},
   "outputs": [
    {
     "name": "stdout",
     "output_type": "stream",
     "text": [
      "Roll: 34 Marks: A Test Age: 17\n"
     ]
    }
   ],
   "source": [
    "class Student:\n",
    "    def __init__(self,roll,marks):\n",
    "        self.roll = roll\n",
    "        self.marks = marks\n",
    "    def display(self):\n",
    "        print('Roll:', self.roll,'Marks:',self.marks, end=\" \")\n",
    "        return \"Test\"\n",
    "\n",
    "student1 = Student(34,'A')\n",
    "student1.age = 17\n",
    "\n",
    "print(student1.display(), 'Age:',student1.age)"
   ]
  },
  {
   "cell_type": "markdown",
   "id": "a347add4-3d09-4ce7-9e1a-eeaad42a1a32",
   "metadata": {
    "jp-MarkdownHeadingCollapsed": true,
    "tags": []
   },
   "source": [
    "#### Question 7"
   ]
  },
  {
   "cell_type": "markdown",
   "id": "e0a469ce-b9b0-41dd-9ef4-0954c1b198ee",
   "metadata": {},
   "source": [
    "    What is the output of the following code snippet?\n",
    "\n",
    "    class football:\n",
    "        final_res= 'lose'\n",
    "        def __init__(self,name,score):\n",
    "            self.name = name\n",
    "            self.score = score\n",
    "            self.final_res = 'lose'\n",
    "\n",
    "        def calc(self, winning_score):\n",
    "            if self.score>winning_score:\n",
    "                self.final_res='win'\n",
    "    match = football('Juventus',3)\n",
    "    match.calc(2)\n",
    "    print(football.final_res, match.final_res)"
   ]
  },
  {
   "cell_type": "markdown",
   "id": "0fff0141-a8d2-45d2-b5e6-2c790761e6f2",
   "metadata": {
    "jp-MarkdownHeadingCollapsed": true,
    "tags": []
   },
   "source": [
    "##### Solution Submitted"
   ]
  },
  {
   "cell_type": "markdown",
   "id": "e17a9386-9664-475c-a2f8-bc2e403670a9",
   "metadata": {},
   "source": [
    "lose win"
   ]
  },
  {
   "cell_type": "markdown",
   "id": "e7c9bd0e-9634-47b6-a21d-92d2f2f06210",
   "metadata": {
    "tags": []
   },
   "source": [
    "### Day 38: Coordinate Geometry"
   ]
  },
  {
   "cell_type": "markdown",
   "id": "dbf64272-13e6-4102-b373-a27eccc4ac83",
   "metadata": {
    "tags": []
   },
   "source": [
    "#### Question 1"
   ]
  },
  {
   "cell_type": "markdown",
   "id": "ac35c6f2-107c-491c-b185-cf40ffc81f0c",
   "metadata": {},
   "source": [
    "    What will be the gradient of the line joining the points (1,6) and (5,7)?"
   ]
  },
  {
   "cell_type": "markdown",
   "id": "86e603df-6c66-425e-ba4d-5e01e532d86a",
   "metadata": {
    "tags": []
   },
   "source": [
    "##### Solution Submitted"
   ]
  },
  {
   "cell_type": "markdown",
   "id": "10018e50-c417-4a69-a9b9-e812680ff42e",
   "metadata": {},
   "source": [
    "    Slope of a line is y/x,hence,\n",
    "     = 1/4 \n"
   ]
  },
  {
   "cell_type": "markdown",
   "id": "39891900-a6b9-4da2-a5d6-20c60b3070b8",
   "metadata": {
    "tags": []
   },
   "source": [
    "#### Question 2"
   ]
  },
  {
   "cell_type": "markdown",
   "id": "2c9f699e-b66d-4cd1-9406-e4fd622b482c",
   "metadata": {},
   "source": [
    "    The p-th norm (“p” is an integer and p>=1) of a vector X having n- dimensions.\n",
    "    \n",
    "    Suppose you are given a vector A = (2,3,4,1,5). Find the 2nd Norm of the vector X."
   ]
  },
  {
   "cell_type": "markdown",
   "id": "469cca2a-5159-49d5-95fd-ee0d7fd74812",
   "metadata": {
    "tags": []
   },
   "source": [
    "##### Solution Submitted"
   ]
  },
  {
   "cell_type": "markdown",
   "id": "25ecc699-032f-4119-aaf8-726df49db505",
   "metadata": {},
   "source": [
    "    2nd norm of vector x is nothing but Eucledian distance. Hence, Calculating Eucledian distance:\n",
    "\n",
    "    = (|2|^2 +|3|^2 + |4|^2 + |1|^2 + |5|^2))^1/2 \n",
    "    = 7.42"
   ]
  },
  {
   "cell_type": "markdown",
   "id": "5fc8257f-d0cb-405d-8b8f-444f7c9972fc",
   "metadata": {
    "tags": []
   },
   "source": [
    "#### Question 3"
   ]
  },
  {
   "cell_type": "markdown",
   "id": "1d33868f-7306-4a80-abf7-520b9bd3a6c6",
   "metadata": {},
   "source": [
    "    If the points A(1, 2), O(0, 0) and C(a, b) are collinear, then slopes are"
   ]
  },
  {
   "cell_type": "markdown",
   "id": "e55374b4-e25c-44a6-a17a-15f3a7c085c0",
   "metadata": {
    "jp-MarkdownHeadingCollapsed": true,
    "tags": []
   },
   "source": [
    "##### Solution Submitted"
   ]
  },
  {
   "cell_type": "markdown",
   "id": "0969c30f-ffc6-486a-a8d5-f0513f81c9e6",
   "metadata": {},
   "source": [
    "\n",
    "    A(1, 2) = (x1, y1)\n",
    "    O(0, 0) = (x2, y2)\n",
    "    C(a, b) = (x3, y3)\n",
    "\n",
    "    If three points are collinear, then the slope of the lines joining any of these 2 points will be same.\n",
    "\n",
    "    Slope of AO = Slope of OC\n",
    "\n",
    "    (0 - 2)/(0 - 1) = (b - 0)/(a - 0)\n",
    "\n",
    "    2/1 = b/a\n",
    "\n",
    "    Therefore, 2a = b"
   ]
  },
  {
   "cell_type": "markdown",
   "id": "d498ecf3-b0d8-41f6-9343-4d834764ae09",
   "metadata": {
    "tags": []
   },
   "source": [
    "#### Question 4"
   ]
  },
  {
   "cell_type": "markdown",
   "id": "cc86997f-c320-4248-a5f2-056989680032",
   "metadata": {},
   "source": [
    "    You and your friend live close to each other. Your friend is an architect and trying to create a route for your neighborhood. He remembers his house coordinates (3,2) but forgot the x-coordinate for your house (x,-1). The Euclidean distance between you and your friend's houses is known to be 5 units.\n",
    "\n",
    "    What will be the equation of the line(s) that pass through both of your houses?\n",
    "\n",
    "    Note: The equation of line formed with slope m and passing through point (x1,y1) is given by (y-y1) = m(x-x1)\n",
    "    \n",
    "    a) 3x + 4y - 17 = 0\n",
    "    b) 3x - 4y - 1 = 0\n",
    "    c) 3x - 4y + 1 = 0\n",
    "    d) 3y - 4x - 1 = 0"
   ]
  },
  {
   "cell_type": "markdown",
   "id": "11d14a25-7d9b-4fc0-b732-c44295fa4c7f",
   "metadata": {
    "tags": []
   },
   "source": [
    "##### Solution Submitted"
   ]
  },
  {
   "cell_type": "markdown",
   "id": "ab4032c3-cffe-4e38-9a98-3292ec5dbd45",
   "metadata": {},
   "source": [
    "option b & c"
   ]
  },
  {
   "cell_type": "markdown",
   "id": "595377bf-d136-43b6-9f6d-b47c7c87fe2c",
   "metadata": {},
   "source": [
    "    Distance = 5 units\n",
    "    √(3-x)2 + (2+1)2 = 5\n",
    "\n",
    "    Squaring both sides\n",
    "    (x2 + 9 - 6x + 9) = 25\n",
    "    x2 -6x - 7 = 0\n",
    "\n",
    "    Solving the Quadratic Equation\n",
    "    x = 7,-1\n",
    "\n",
    "    We use the formula\n",
    "    (y-y1) = ((y2-y1)/(x2-x1)).(x-x1) where m = (y2-y1)/(x2-x1)\n",
    "\n",
    "    Equation of lines:\n",
    "    for x = 7\n",
    "\n",
    "    y - 2 = 3/-4(x-3)\n",
    "    -4y + 8 = 3x - 9\n",
    "    3x + 4y - 17 = 0\n",
    "\n",
    "    For x = -1\n",
    "    y - 2 = 3/4(x-3)\n",
    "    4y - 8 = 3x - 9\n",
    "    3x - 4y - 1 =0"
   ]
  },
  {
   "cell_type": "markdown",
   "id": "9e3d2879-3502-417a-ad26-b0e44d7d32be",
   "metadata": {
    "tags": []
   },
   "source": [
    "#### Question 5"
   ]
  },
  {
   "cell_type": "markdown",
   "id": "ffb19565-c227-40a3-b405-92cea2646530",
   "metadata": {},
   "source": [
    "    You teach a class of students. You plan to make a pair where you want to pair 2 of your students who live closest to each other. The map along with the coordinates of each student's house is available to you. Can you find the students whom you can pair? You are given 2 lists containing the students name and locations. Manhattan Distance will be used to calculate the distance between 2 points.\n",
    "\n",
    "    Manhattan Distance between 2 points (x1,y1) and (x2,y2) is given by |x1-x2| + |y1-y2|.\n",
    "\n",
    "    Input Format\n",
    "    Name list containing names of all the students\n",
    "    Location containing the locations in the form of (x,y) of the students\n",
    "\n",
    "    Output Format\n",
    "    [Student1, Student2] Name of students to pair in a list\n",
    "\n",
    "    Example Input\n",
    "    names = [“Adam”,”Millie”,”Jacob”,Michael”,”Maxine”]\n",
    "    loc = [(1,2),(5,4),(0,3),(2,3),(0,0)]\n",
    "\n",
    "    Example Output\n",
    "    [‘Adam’,‘Jacob’]"
   ]
  },
  {
   "cell_type": "markdown",
   "id": "66cf3e43-f75a-4717-9e37-ebc18f0910ab",
   "metadata": {
    "tags": []
   },
   "source": [
    "##### Solution Submitted"
   ]
  },
  {
   "cell_type": "code",
   "execution_count": 1,
   "id": "40a024fb-8a92-47ed-9737-8e390200010b",
   "metadata": {},
   "outputs": [],
   "source": [
    "def nearestStudents(names,loc):\n",
    "    '''\n",
    "    input:\n",
    "\tnames -> names of students\n",
    "\tloc -> coordinates of each students\n",
    "\t\n",
    "\toutput:\n",
    "\treturn the nearest students name \n",
    "\t'''\n",
    "    distance = 9999999\n",
    "    result = []\n",
    "\t# Your code starts here\n",
    "    for i in range(len(names)):\n",
    "        for j in range(i+1,len(names)):\n",
    "            temp = abs(loc[i][0] - loc[j][0]) + abs(loc[i][1] - abs(loc[j][1]))\n",
    "            if temp < distance:\n",
    "                distance = temp\n",
    "                result = []\n",
    "                result += names[i], names[j]\n",
    "    return result\n",
    "\t# code ends here\n",
    "    return None\n"
   ]
  },
  {
   "cell_type": "code",
   "execution_count": 3,
   "id": "d8fcc1ca-e7b8-4b24-9940-4cfae4b45fe7",
   "metadata": {},
   "outputs": [],
   "source": [
    "names = [\"Adam\", \"Millie\", \"Jacob\", \"Michael\", \"Maxine\"]\n",
    "loc = [(1,2),(5,4),(0,3),(2,3),(0,0)]"
   ]
  },
  {
   "cell_type": "code",
   "execution_count": 4,
   "id": "20563f4c-9605-4203-802b-f48c880b7fa7",
   "metadata": {},
   "outputs": [
    {
     "data": {
      "text/plain": [
       "['Adam', 'Jacob']"
      ]
     },
     "execution_count": 4,
     "metadata": {},
     "output_type": "execute_result"
    }
   ],
   "source": [
    "nearestStudents(names, loc)"
   ]
  },
  {
   "cell_type": "markdown",
   "id": "4f4f0f8f-a331-4aa3-8619-b49378dca2fc",
   "metadata": {
    "tags": []
   },
   "source": [
    "#### Question x"
   ]
  },
  {
   "cell_type": "markdown",
   "id": "a32de263-c088-4338-99c6-7a0851d01602",
   "metadata": {},
   "source": []
  },
  {
   "cell_type": "markdown",
   "id": "674a7fff-0fee-4bba-a73c-35d3386490a2",
   "metadata": {
    "tags": []
   },
   "source": [
    "##### Solution Submitted"
   ]
  },
  {
   "cell_type": "code",
   "execution_count": null,
   "id": "4278786a-dd1b-42b3-8486-378f987c8926",
   "metadata": {},
   "outputs": [],
   "source": []
  },
  {
   "cell_type": "code",
   "execution_count": null,
   "id": "2a6503c9-e5c9-4bb3-9c28-d93031a5e0d2",
   "metadata": {},
   "outputs": [],
   "source": [
    "# Output\n"
   ]
  },
  {
   "cell_type": "markdown",
   "id": "4d8f8fcb-e758-4202-bcae-bc85d541ce6e",
   "metadata": {
    "tags": []
   },
   "source": [
    "#### Question x"
   ]
  },
  {
   "cell_type": "markdown",
   "id": "11023018-2d46-42a6-ba26-8630c147df68",
   "metadata": {},
   "source": []
  },
  {
   "cell_type": "markdown",
   "id": "52d71d88-35b9-4951-8a35-b2095fc88127",
   "metadata": {
    "tags": []
   },
   "source": [
    "##### Solution Submitted"
   ]
  },
  {
   "cell_type": "code",
   "execution_count": null,
   "id": "ec3a3595-9d92-423d-ac23-0e7b63093214",
   "metadata": {},
   "outputs": [],
   "source": []
  },
  {
   "cell_type": "code",
   "execution_count": null,
   "id": "88d8939e-9697-447f-9418-b10d01e590d4",
   "metadata": {},
   "outputs": [],
   "source": [
    "# Output\n"
   ]
  },
  {
   "cell_type": "markdown",
   "id": "86127037-a42e-4b61-96f3-b45b747ce315",
   "metadata": {
    "tags": []
   },
   "source": [
    "#### Question x"
   ]
  },
  {
   "cell_type": "markdown",
   "id": "dc8d2fc0-5477-4391-8d89-7be4915ce71e",
   "metadata": {},
   "source": []
  },
  {
   "cell_type": "markdown",
   "id": "28f7f974-6575-4010-ae39-97f9a7895cb8",
   "metadata": {
    "tags": []
   },
   "source": [
    "##### Solution Submitted"
   ]
  },
  {
   "cell_type": "code",
   "execution_count": null,
   "id": "7408d12c-0076-4863-876c-872482bbe47c",
   "metadata": {},
   "outputs": [],
   "source": []
  },
  {
   "cell_type": "code",
   "execution_count": null,
   "id": "4cda1065-c8c3-4c83-a784-3e692f319002",
   "metadata": {},
   "outputs": [],
   "source": [
    "# Output\n"
   ]
  },
  {
   "cell_type": "markdown",
   "id": "4ce5cc45-27d8-47bc-ba68-2215ff0e11bc",
   "metadata": {
    "tags": []
   },
   "source": [
    "#### Question x"
   ]
  },
  {
   "cell_type": "markdown",
   "id": "1c8d7350-3d81-4d63-b4ea-6fd0b4b0e7b9",
   "metadata": {},
   "source": []
  },
  {
   "cell_type": "markdown",
   "id": "ce644228-28d4-4419-ac64-95d584b999ca",
   "metadata": {
    "tags": []
   },
   "source": [
    "##### Solution Submitted"
   ]
  },
  {
   "cell_type": "code",
   "execution_count": null,
   "id": "c4a8bc07-71f7-43cf-9116-c7b2c9d6afd0",
   "metadata": {},
   "outputs": [],
   "source": []
  },
  {
   "cell_type": "code",
   "execution_count": null,
   "id": "9d1b6a48-bacb-4faf-b4b4-5b9d70817d3b",
   "metadata": {},
   "outputs": [],
   "source": [
    "# Output\n"
   ]
  },
  {
   "cell_type": "markdown",
   "id": "c1c0fbef-8195-4199-a14d-9360b0947713",
   "metadata": {
    "tags": []
   },
   "source": [
    "### Day 39: Functional Programming - 1"
   ]
  },
  {
   "cell_type": "markdown",
   "id": "2771d3af-38e7-460a-a90d-79ddfa67f083",
   "metadata": {
    "tags": []
   },
   "source": [
    "#### Question x"
   ]
  },
  {
   "cell_type": "markdown",
   "id": "2cb05da3-1fa5-4be9-a5c4-a44c32d0bd09",
   "metadata": {},
   "source": []
  },
  {
   "cell_type": "markdown",
   "id": "e08dad51-156f-4bdd-8e7e-5f262048946f",
   "metadata": {
    "tags": []
   },
   "source": [
    "##### Solution Submitted"
   ]
  },
  {
   "cell_type": "code",
   "execution_count": null,
   "id": "c602a21f-4721-4221-a6d3-4661999ba770",
   "metadata": {},
   "outputs": [],
   "source": []
  },
  {
   "cell_type": "code",
   "execution_count": null,
   "id": "8632f4a7-1ba4-49c0-aac4-ad8f431b9e09",
   "metadata": {},
   "outputs": [],
   "source": [
    "# Output\n"
   ]
  },
  {
   "cell_type": "markdown",
   "id": "1561f4d2-8745-46ae-a9ba-75b68764d9c0",
   "metadata": {
    "jp-MarkdownHeadingCollapsed": true,
    "tags": []
   },
   "source": [
    "### Day 40: Functional Programming - 2"
   ]
  },
  {
   "cell_type": "markdown",
   "id": "36c315bd-6d97-4ca8-ae68-902380fde1aa",
   "metadata": {
    "tags": []
   },
   "source": [
    "#### Question x"
   ]
  },
  {
   "cell_type": "markdown",
   "id": "d3eb13bb-8971-48cf-bdba-d14a744b454f",
   "metadata": {},
   "source": []
  },
  {
   "cell_type": "markdown",
   "id": "45a9b1de-e5da-4337-9043-0f1e64f10fe8",
   "metadata": {
    "tags": []
   },
   "source": [
    "##### Solution Submitted"
   ]
  },
  {
   "cell_type": "code",
   "execution_count": null,
   "id": "69201467-c5ac-4365-81fb-afdca94b07e1",
   "metadata": {},
   "outputs": [],
   "source": []
  },
  {
   "cell_type": "code",
   "execution_count": null,
   "id": "ec530ee6-da70-4ae3-af90-f1e5a0a04378",
   "metadata": {},
   "outputs": [],
   "source": [
    "# Output\n"
   ]
  },
  {
   "cell_type": "markdown",
   "id": "c580d400-c07b-4906-b619-5033967bde8d",
   "metadata": {
    "jp-MarkdownHeadingCollapsed": true,
    "tags": []
   },
   "source": [
    "### Day xx:"
   ]
  },
  {
   "cell_type": "markdown",
   "id": "99f1f477-f070-4e60-b358-a23760f09d02",
   "metadata": {
    "tags": []
   },
   "source": [
    "#### Question x"
   ]
  },
  {
   "cell_type": "markdown",
   "id": "08cd41c1-01fe-4276-8654-18b7169f0ac5",
   "metadata": {},
   "source": []
  },
  {
   "cell_type": "markdown",
   "id": "3e6713fa-a0b9-4974-a150-d5b2676bce2a",
   "metadata": {
    "tags": []
   },
   "source": [
    "##### Solution Submitted"
   ]
  },
  {
   "cell_type": "code",
   "execution_count": null,
   "id": "51e93750-3c0e-4165-bbcd-4f6d4c0fcaa4",
   "metadata": {},
   "outputs": [],
   "source": []
  },
  {
   "cell_type": "code",
   "execution_count": null,
   "id": "3b59a045-d50e-49bb-9ceb-6191f00181b4",
   "metadata": {},
   "outputs": [],
   "source": [
    "# Output\n"
   ]
  },
  {
   "cell_type": "markdown",
   "id": "dfe51129-dd40-4d0f-980d-6e1b23b648b4",
   "metadata": {
    "jp-MarkdownHeadingCollapsed": true,
    "tags": []
   },
   "source": [
    "### Day xx:"
   ]
  },
  {
   "cell_type": "markdown",
   "id": "a22b0f4d-1f5b-4486-b3a5-af49cb11351e",
   "metadata": {
    "tags": []
   },
   "source": [
    "#### Question x"
   ]
  },
  {
   "cell_type": "markdown",
   "id": "2362f292-075f-42b5-a6ce-56901391e67a",
   "metadata": {},
   "source": []
  },
  {
   "cell_type": "markdown",
   "id": "a4a37110-169c-4faa-9877-0aefccbd6b62",
   "metadata": {
    "tags": []
   },
   "source": [
    "##### Solution Submitted"
   ]
  },
  {
   "cell_type": "code",
   "execution_count": null,
   "id": "2ab34a51-87a7-4550-bc69-7173de8cc81a",
   "metadata": {},
   "outputs": [],
   "source": []
  },
  {
   "cell_type": "code",
   "execution_count": null,
   "id": "1ecfc9e0-9cf2-4407-b5db-9da87c236cc2",
   "metadata": {},
   "outputs": [],
   "source": [
    "# Output\n"
   ]
  },
  {
   "cell_type": "markdown",
   "id": "9dade4e8-4956-43cf-91bf-6c047b7d405b",
   "metadata": {
    "tags": []
   },
   "source": [
    "## HW"
   ]
  },
  {
   "cell_type": "markdown",
   "id": "2e55b6de-70c7-4c0e-aba6-5e661edd534c",
   "metadata": {
    "tags": []
   },
   "source": [
    "### Day 36: OOPS 1"
   ]
  },
  {
   "cell_type": "markdown",
   "id": "3b9519aa-4d3a-47de-ac8d-d67c4ea8018e",
   "metadata": {
    "jp-MarkdownHeadingCollapsed": true,
    "tags": []
   },
   "source": [
    "#### Question 1"
   ]
  },
  {
   "cell_type": "markdown",
   "id": "14961c58-80d9-417a-8990-c2313fce4f3c",
   "metadata": {},
   "source": [
    "    Construct a class Rectangle that represents a rectangle.\n",
    "    \n",
    "    The class should support the following functionalities:-\n",
    "    perimeter() -> returns the perimeter of the rectangle\n",
    "    area() -> returns the area of the rectangle\n",
    "    \n",
    "    Input format:\n",
    "    First argument A is an integer representing the number of testcases.\n",
    "    For each case, x (length) and y (breadth) are taken as input in new line.\n",
    "    \n",
    "    Output format:\n",
    "    The perimeter and area of the constructed rectangle are printed.\n",
    "    \n",
    "    Sample Input:\n",
    "    1 # number of cases\n",
    "    1 # radius of first case\n",
    "    2 # radius of second case\n",
    "    \n",
    "    Sample output:\n",
    "    4 #perimeter of rectangle\n",
    "    1 #area of rectangle"
   ]
  },
  {
   "cell_type": "markdown",
   "id": "fd349808-2b7b-4a56-b8ca-2d31e28bc598",
   "metadata": {
    "jp-MarkdownHeadingCollapsed": true,
    "tags": []
   },
   "source": [
    "##### Solution Submitted"
   ]
  },
  {
   "cell_type": "code",
   "execution_count": 8,
   "id": "75af8c0f-179e-4657-93ef-f980a8ce0829",
   "metadata": {},
   "outputs": [],
   "source": [
    "class Rectangle:\n",
    "    # Define properties here\n",
    "    \n",
    "    # Define constructor here\n",
    "    def __init__(self, x, y):\n",
    "        self.x = x\n",
    "        self.y = y\n",
    "\n",
    "    def perimeter(self):\n",
    "        # Complete the function\n",
    "        p = 2*self.x + 2*self.y\n",
    "        return p\n",
    "    \n",
    "    def area(self):\n",
    "        # Complete the function\n",
    "        return self.x * self.y\n",
    "         \n",
    "# Rectangle a = new Rectangle(2, 3)  // Length = 2, Breadth = 3\n",
    "# a.perimeter() // Should give 10\n",
    "# a.area() // Should give 6"
   ]
  },
  {
   "cell_type": "code",
   "execution_count": 9,
   "id": "f174116b-c3d1-4ebb-8e13-fc9f3654b8eb",
   "metadata": {},
   "outputs": [],
   "source": [
    "# Output\n",
    "x = Rectangle(4,6)"
   ]
  },
  {
   "cell_type": "code",
   "execution_count": 10,
   "id": "23437542-4f5e-49da-86e3-5fdbfcc7525e",
   "metadata": {},
   "outputs": [
    {
     "data": {
      "text/plain": [
       "20"
      ]
     },
     "execution_count": 10,
     "metadata": {},
     "output_type": "execute_result"
    }
   ],
   "source": [
    "x.perimeter()"
   ]
  },
  {
   "cell_type": "code",
   "execution_count": 11,
   "id": "9a0e18c1-8aa2-47ba-8e76-e788ec8ba83f",
   "metadata": {},
   "outputs": [
    {
     "data": {
      "text/plain": [
       "24"
      ]
     },
     "execution_count": 11,
     "metadata": {},
     "output_type": "execute_result"
    }
   ],
   "source": [
    "x.area()"
   ]
  },
  {
   "cell_type": "markdown",
   "id": "900a8242-05bf-4f93-8497-e2a6384a3466",
   "metadata": {
    "jp-MarkdownHeadingCollapsed": true,
    "tags": []
   },
   "source": [
    "#### Question 2"
   ]
  },
  {
   "cell_type": "markdown",
   "id": "b8a8f1d6-aa94-4370-8844-6be240abad65",
   "metadata": {},
   "source": [
    "    Construct a class Circle that represents a Circle.\n",
    "\n",
    "    The class should support the following functionalities:-\n",
    "    perimeter() -> returns the perimeter of the circle\n",
    "    area() -> returns the area of the circle\n",
    "\n",
    "    Note: Assume Π (pi) = 3.14 for calculations.\n",
    "\n",
    "    Input Format:\n",
    "    First argument A is an integer representing the number of testcases.\n",
    "    For each case, the radius r is taken as input in new line.\n",
    "    \n",
    "    Output Format:\n",
    "    The perimeter and area of the constructed circle is printed.\n",
    "    \n",
    "    Sample Input:\n",
    "    2     # number of cases\n",
    "    1     # radius of first case\n",
    "    2     # radius of second case\n",
    "    \n",
    "    Sample output:\n",
    "    6.28     #perimeter of first case\n",
    "    3.14     #area of first case\n",
    "    12.56    #perimeter of second case\n",
    "    12.56    #area of second case"
   ]
  },
  {
   "cell_type": "markdown",
   "id": "400f6172-9e7b-4ef4-88fe-ff5fe3cdc80d",
   "metadata": {
    "jp-MarkdownHeadingCollapsed": true,
    "tags": []
   },
   "source": [
    "##### Solution Submitted"
   ]
  },
  {
   "cell_type": "code",
   "execution_count": 12,
   "id": "aae6ce42-104a-4e23-8dc8-605ef94ae490",
   "metadata": {},
   "outputs": [],
   "source": [
    "class Circle:\n",
    "    # Define properties here\n",
    "    pi = 3.14\n",
    "    # Define constructor here\n",
    "    def __init__(self, radius):\n",
    "        self.radius = radius\n",
    "\n",
    "    def perimeter(self):\n",
    "        # Complete the function\n",
    "        p = 2*self.pi*self.radius\n",
    "        return p\n",
    "    \n",
    "    def area(self):\n",
    "        # Complete the function\n",
    "        return 3.14*(self.radius**2)\n",
    "           \n",
    "# a = new Circle(3)  // Radius = 3\n",
    "# a.perimeter() // 18.84\n",
    "# a.area() // 28.26"
   ]
  },
  {
   "cell_type": "code",
   "execution_count": 13,
   "id": "03bdce57-b28d-4160-85d0-374c4266e3fd",
   "metadata": {},
   "outputs": [],
   "source": [
    "x = Circle(3)"
   ]
  },
  {
   "cell_type": "code",
   "execution_count": 14,
   "id": "b9b975f5-0736-463b-8b4c-1974325b4fc7",
   "metadata": {},
   "outputs": [
    {
     "data": {
      "text/plain": [
       "18.84"
      ]
     },
     "execution_count": 14,
     "metadata": {},
     "output_type": "execute_result"
    }
   ],
   "source": [
    "x.perimeter()"
   ]
  },
  {
   "cell_type": "code",
   "execution_count": 15,
   "id": "e11eadbd-cd19-48a3-ba9a-74c9f483d8b2",
   "metadata": {},
   "outputs": [
    {
     "data": {
      "text/plain": [
       "28.26"
      ]
     },
     "execution_count": 15,
     "metadata": {},
     "output_type": "execute_result"
    }
   ],
   "source": [
    "x.area()"
   ]
  },
  {
   "cell_type": "markdown",
   "id": "752ebc90-d230-4803-9d6a-4a333b28ef48",
   "metadata": {
    "jp-MarkdownHeadingCollapsed": true,
    "tags": []
   },
   "source": [
    "### Day 39: Functional Programming 2"
   ]
  },
  {
   "cell_type": "markdown",
   "id": "b54e8a9d-ef46-4d65-9d55-8e26b04e2590",
   "metadata": {
    "tags": []
   },
   "source": [
    "#### Question x"
   ]
  },
  {
   "cell_type": "markdown",
   "id": "c752bfc3-24ff-4812-9a74-adde0ac0e6bf",
   "metadata": {},
   "source": []
  },
  {
   "cell_type": "markdown",
   "id": "f3c62b45-b7ab-488d-8109-0728af980e7b",
   "metadata": {
    "tags": []
   },
   "source": [
    "##### Solution Submitted"
   ]
  },
  {
   "cell_type": "code",
   "execution_count": null,
   "id": "3731e045-84f4-488f-b2de-adee36f11fbe",
   "metadata": {},
   "outputs": [],
   "source": []
  },
  {
   "cell_type": "code",
   "execution_count": null,
   "id": "d647a929-10fc-460f-b36f-38ccdee24ad3",
   "metadata": {},
   "outputs": [],
   "source": [
    "# Output\n"
   ]
  },
  {
   "cell_type": "markdown",
   "id": "50f2f9fc-cf9d-4ae0-9eea-c51ff4b5bd6a",
   "metadata": {
    "tags": []
   },
   "source": [
    "#### Question x"
   ]
  },
  {
   "cell_type": "markdown",
   "id": "fb98fbb9-40a6-4492-88e6-1788c679a97a",
   "metadata": {},
   "source": []
  },
  {
   "cell_type": "markdown",
   "id": "46f9730d-c5ea-4090-b0fb-14a3e3883e57",
   "metadata": {
    "tags": []
   },
   "source": [
    "##### Solution Submitted"
   ]
  },
  {
   "cell_type": "code",
   "execution_count": null,
   "id": "d6c4eda7-ba6b-465f-b34a-b9eca3ca593e",
   "metadata": {},
   "outputs": [],
   "source": []
  },
  {
   "cell_type": "code",
   "execution_count": null,
   "id": "d155663c-a7ff-48d7-9f5f-2d1b7f69e26a",
   "metadata": {},
   "outputs": [],
   "source": [
    "# Output\n"
   ]
  },
  {
   "cell_type": "markdown",
   "id": "91986a74-a009-4b99-a572-0b1f49cb61bc",
   "metadata": {
    "jp-MarkdownHeadingCollapsed": true,
    "tags": []
   },
   "source": [
    "### Day 43:"
   ]
  },
  {
   "cell_type": "markdown",
   "id": "c8f28dde-7785-4bb0-933c-54d63b80997e",
   "metadata": {
    "tags": []
   },
   "source": [
    "#### Question x"
   ]
  },
  {
   "cell_type": "markdown",
   "id": "f6bacb37-09db-4627-9793-bc8220752667",
   "metadata": {},
   "source": []
  },
  {
   "cell_type": "markdown",
   "id": "7d43c922-5fed-4bf7-ba3e-5d97f68090c8",
   "metadata": {
    "tags": []
   },
   "source": [
    "##### Solution Submitted"
   ]
  },
  {
   "cell_type": "code",
   "execution_count": null,
   "id": "ae09717f-bed5-4b9e-ad59-be945cda03c9",
   "metadata": {},
   "outputs": [],
   "source": []
  },
  {
   "cell_type": "code",
   "execution_count": null,
   "id": "c2b06e7e-01ba-4328-9431-0c080dce536a",
   "metadata": {},
   "outputs": [],
   "source": [
    "# Output\n"
   ]
  },
  {
   "cell_type": "markdown",
   "id": "7f3d9349-97ca-4b8e-848a-48edbaaf9724",
   "metadata": {
    "jp-MarkdownHeadingCollapsed": true,
    "tags": []
   },
   "source": [
    "### Day xx:"
   ]
  },
  {
   "cell_type": "markdown",
   "id": "dcd96b99-1e33-4aad-838a-e8993c8c8c58",
   "metadata": {
    "tags": []
   },
   "source": [
    "#### Question x"
   ]
  },
  {
   "cell_type": "markdown",
   "id": "3ae4cb3f-66f3-4112-ba2f-ab5e22145e0b",
   "metadata": {},
   "source": []
  },
  {
   "cell_type": "markdown",
   "id": "32484fa6-004e-4a8a-99ba-ddcfb215c762",
   "metadata": {
    "tags": []
   },
   "source": [
    "##### Solution Submitted"
   ]
  },
  {
   "cell_type": "code",
   "execution_count": null,
   "id": "4e0f8244-718b-4e58-a970-b9610ccb9371",
   "metadata": {},
   "outputs": [],
   "source": []
  },
  {
   "cell_type": "code",
   "execution_count": null,
   "id": "eb668f01-be2f-4a18-a5ac-70d7467b22f4",
   "metadata": {},
   "outputs": [],
   "source": [
    "# Output\n"
   ]
  }
 ],
 "metadata": {
  "kernelspec": {
   "display_name": "Python 3 (ipykernel)",
   "language": "python",
   "name": "python3"
  },
  "language_info": {
   "codemirror_mode": {
    "name": "ipython",
    "version": 3
   },
   "file_extension": ".py",
   "mimetype": "text/x-python",
   "name": "python",
   "nbconvert_exporter": "python",
   "pygments_lexer": "ipython3",
   "version": "3.9.12"
  },
  "widgets": {
   "application/vnd.jupyter.widget-state+json": {
    "state": {},
    "version_major": 2,
    "version_minor": 0
   }
  }
 },
 "nbformat": 4,
 "nbformat_minor": 5
}
