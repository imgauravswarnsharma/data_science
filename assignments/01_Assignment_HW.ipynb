{
 "cells": [
  {
   "cell_type": "markdown",
   "id": "81a7a511-8ef1-4679-abab-b84b3f577683",
   "metadata": {
    "tags": []
   },
   "source": [
    "# Module 2"
   ]
  },
  {
   "cell_type": "markdown",
   "id": "59e858ca-4521-4367-a7f5-4c8a7bc881e9",
   "metadata": {
    "tags": []
   },
   "source": [
    "## Assignment"
   ]
  },
  {
   "cell_type": "markdown",
   "id": "9e48e450-5669-439c-bf4d-1f2e67398816",
   "metadata": {
    "jp-MarkdownHeadingCollapsed": true,
    "tags": []
   },
   "source": [
    "### Day 6: Control Statments 1"
   ]
  },
  {
   "cell_type": "markdown",
   "id": "aa01e2fa-235d-444d-8eaf-40afee07486d",
   "metadata": {
    "jp-MarkdownHeadingCollapsed": true,
    "tags": []
   },
   "source": [
    "#### Question 6"
   ]
  },
  {
   "cell_type": "markdown",
   "id": "da4e0d89-9a08-497d-b236-706fca59c48a",
   "metadata": {
    "tags": []
   },
   "source": [
    "    What will be the output of the following code:\n",
    "\n",
    "    x = 2\n",
    "    if x==2:\n",
    "        x = 3\n",
    "    x = 4\n",
    "    else:\n",
    "        x = 5\n",
    "    print(x)"
   ]
  },
  {
   "cell_type": "markdown",
   "id": "e99dfd05-2784-471f-9bd2-bddde916e3b9",
   "metadata": {
    "tags": []
   },
   "source": [
    "### Day 7: Control Statments 2"
   ]
  },
  {
   "cell_type": "markdown",
   "id": "35fbe9c8-1b0f-4e71-9c7e-90513a411a3f",
   "metadata": {
    "tags": []
   },
   "source": [
    "#### Question 5"
   ]
  },
  {
   "cell_type": "markdown",
   "id": "9eacb628-d08a-42dd-aaa2-d32413ed7476",
   "metadata": {
    "jp-MarkdownHeadingCollapsed": true,
    "tags": []
   },
   "source": [
    "    Given an integer A representing an year, Return 1 if it is a leap year else return 0.\n",
    "\n",
    "    A year is leap year if the following conditions are satisfied:\n",
    "\n",
    "    Year is multiple of 400.\n",
    "    Else the year is multiple of 4 and not multiple of 100.\n",
    "\n",
    "    Input Format\n",
    "    First and only argument is an integer A\n",
    "\n",
    "    Output Format\n",
    "    Return 1 if it is a leap year else return 0\n",
    "\n",
    "    Example Input\n",
    "    Input 1\n",
    "    A = 2020\n",
    "     \n",
    "    Input 2:\n",
    "    A = 1999\n",
    "\n",
    "    Example Output\n",
    "    Output 1\n",
    "     1\n",
    "    Output 2:\n",
    "     0"
   ]
  },
  {
   "cell_type": "markdown",
   "id": "c5ec8f8c-e65e-439e-94b5-a4d87512e5c4",
   "metadata": {
    "tags": []
   },
   "source": [
    "##### Solution"
   ]
  },
  {
   "cell_type": "code",
   "execution_count": 6,
   "id": "e0126cb4-3dd3-424a-bda5-25d37153831b",
   "metadata": {},
   "outputs": [
    {
     "name": "stdin",
     "output_type": "stream",
     "text": [
      " 1996\n"
     ]
    },
    {
     "name": "stdout",
     "output_type": "stream",
     "text": [
      "1\n"
     ]
    }
   ],
   "source": [
    "A = int(input())\n",
    "if A % 400 == 0:\n",
    "    print(\"1\")\n",
    "elif A % 4 == 0 and A %100 !=0:\n",
    "    print(\"1\")\n",
    "else:\n",
    "    print(\"0\")"
   ]
  },
  {
   "cell_type": "markdown",
   "id": "ea4e62d0-e94e-4d07-ad9a-69f3a00ebc63",
   "metadata": {
    "jp-MarkdownHeadingCollapsed": true,
    "tags": []
   },
   "source": [
    "#### Question 6"
   ]
  },
  {
   "cell_type": "markdown",
   "id": "6930cf34-23d4-4bca-9d55-14a6252bebae",
   "metadata": {
    "tags": []
   },
   "source": [
    "    if False:                                     \n",
    "        print(\"Artificial Intelligence\")\n",
    "    elif True:                                     \n",
    "        print(\"Machine Learning\")\n",
    "    elif True:                                     \n",
    "        print(\"Data Science\")\n",
    "    else:                                         \n",
    "        print(\"Deep Learning\") "
   ]
  },
  {
   "cell_type": "code",
   "execution_count": null,
   "id": "58e6f6ea-bc65-491d-9f4a-0a262137d52c",
   "metadata": {},
   "outputs": [],
   "source": []
  },
  {
   "cell_type": "markdown",
   "id": "8360c300-2ee1-4bb1-93ae-f64ee2462cfb",
   "metadata": {
    "jp-MarkdownHeadingCollapsed": true,
    "tags": []
   },
   "source": [
    "#### Question 9"
   ]
  },
  {
   "cell_type": "markdown",
   "id": "7f761f16-d56c-4ef8-b9dd-b40196f46174",
   "metadata": {},
   "source": [
    "    Replace __1__ and __2__ with 'and'/'or' to get the the desired output\n",
    "\n",
    "    if (a==b __1__ a==c) and b==c:\n",
    "      print(\"equilateral\")\n",
    "    elif a==b __2__ b==c or c==a:\n",
    "      print(\"isosceles\")\n",
    "    else:\n",
    "      print('scalene')"
   ]
  },
  {
   "cell_type": "code",
   "execution_count": null,
   "id": "763b6a63-d7bc-4458-9029-c49933c4e12d",
   "metadata": {},
   "outputs": [],
   "source": []
  },
  {
   "cell_type": "markdown",
   "id": "2109f874-51ea-4e96-914d-9ed31cd2fa3f",
   "metadata": {
    "tags": []
   },
   "source": [
    "### Day 8: While Loops"
   ]
  },
  {
   "cell_type": "markdown",
   "id": "e3de4222-e8aa-4e30-83eb-3d729a9155e0",
   "metadata": {
    "tags": []
   },
   "source": [
    "#### Question 1"
   ]
  },
  {
   "cell_type": "markdown",
   "id": "39ad490a-6a66-41da-aa27-ab9089e1ed9c",
   "metadata": {},
   "source": [
    "Given two numbers A and B. Print the floor of A/B."
   ]
  },
  {
   "cell_type": "markdown",
   "id": "42857e12-577b-469e-aa51-8177b1acc8c6",
   "metadata": {
    "jp-MarkdownHeadingCollapsed": true,
    "tags": []
   },
   "source": [
    "##### Solution"
   ]
  },
  {
   "cell_type": "code",
   "execution_count": null,
   "id": "fcc196ff-2a6a-4ee9-bc1e-8bc9ddd20e3a",
   "metadata": {},
   "outputs": [],
   "source": []
  },
  {
   "cell_type": "markdown",
   "id": "a300873d-ed22-4e6a-b24a-c132dedd54ed",
   "metadata": {
    "jp-MarkdownHeadingCollapsed": true,
    "tags": []
   },
   "source": [
    "#### Question 5"
   ]
  },
  {
   "cell_type": "markdown",
   "id": "69bf6c66-41d6-48ad-8653-890e2bf6a239",
   "metadata": {},
   "source": [
    "How many times will the following loop run?\n",
    "\n",
    "    c = 0\n",
    "    while c<=10:\n",
    "        print(c)\n",
    "        if c%2:\n",
    "           c-=1\n",
    "        else:\n",
    "           c+=1"
   ]
  },
  {
   "cell_type": "markdown",
   "id": "254f84f0-8fda-43ef-9d8d-a938412b68f5",
   "metadata": {
    "jp-MarkdownHeadingCollapsed": true,
    "tags": []
   },
   "source": [
    "##### Solution"
   ]
  },
  {
   "cell_type": "markdown",
   "id": "eaa24b7b-67c4-43e5-bc9c-876699369836",
   "metadata": {},
   "source": [
    "    When c is odd it is reduced and hence becomes even.\n",
    "    When c is even it is increased and hence becomes odd.\n",
    "    So first when c is 0, first if statement evaluates to True. This would decrease c by 1.\n",
    "    Then in the next iteration the condition inside the else statement would execute making c zero.\n",
    "    Now this will run infinitely. So this is the case of an infinite loop."
   ]
  },
  {
   "cell_type": "markdown",
   "id": "59c25edb-55e8-4bf9-b3c2-1a292c4c1587",
   "metadata": {
    "jp-MarkdownHeadingCollapsed": true,
    "tags": []
   },
   "source": [
    "#### Question 7"
   ]
  },
  {
   "cell_type": "markdown",
   "id": "5e555b45-d693-4d67-9495-6111f28885d7",
   "metadata": {},
   "source": [
    "    Given a number A. Print all perfect squares less than or equal to A."
   ]
  },
  {
   "cell_type": "markdown",
   "id": "12bb88ef-6750-4b7f-8058-3c5e4988d742",
   "metadata": {
    "jp-MarkdownHeadingCollapsed": true,
    "tags": []
   },
   "source": [
    "##### Solution"
   ]
  },
  {
   "cell_type": "code",
   "execution_count": null,
   "id": "1c7b0c59-99ec-4aa1-8564-89d1bda1316e",
   "metadata": {},
   "outputs": [],
   "source": []
  },
  {
   "cell_type": "markdown",
   "id": "b65959d4-8b6f-439f-ba1e-83c4a44696e5",
   "metadata": {
    "tags": []
   },
   "source": [
    "### Day 9: For Loops"
   ]
  },
  {
   "cell_type": "markdown",
   "id": "42599f13-4223-4622-835b-0af78c75be51",
   "metadata": {
    "jp-MarkdownHeadingCollapsed": true,
    "tags": []
   },
   "source": [
    "#### Question 3"
   ]
  },
  {
   "cell_type": "markdown",
   "id": "cf56e3bc-37d0-4093-bb5f-8495c41f46a0",
   "metadata": {},
   "source": [
    "    What would be the output of the following code ?\n",
    "    \n",
    "    Infinite loop\n",
    "    0\n",
    "    0 1\n",
    "    0 2\n",
    "    --------\n",
    "    \n",
    "    x = 1\n",
    "    for i in range(x):\n",
    "        x=x+1\n",
    "        print(i, end= \" \")"
   ]
  },
  {
   "cell_type": "markdown",
   "id": "6eda8b46-f287-4496-93b7-e1b9cf8dde4c",
   "metadata": {},
   "source": [
    "### Day 11: Nested Loops"
   ]
  },
  {
   "cell_type": "markdown",
   "id": "f391fc6a-81e4-4445-8857-86e55ab943f9",
   "metadata": {
    "jp-MarkdownHeadingCollapsed": true,
    "tags": []
   },
   "source": [
    "#### Question 1"
   ]
  },
  {
   "cell_type": "markdown",
   "id": "7201dcec-16bf-4295-982e-727382683e62",
   "metadata": {},
   "source": [
    "    Write a program that accepts T numbers(N) from the user and find reverse of the given number(N).\n",
    "\n",
    "    Input 1:\n",
    "    2\n",
    "    101\n",
    "    105\n",
    "    \n",
    "    Input 2:\n",
    "    1\n",
    "    100\n",
    "\n",
    "    Output 1:\n",
    "    101\n",
    "    501\n",
    "    \n",
    "    Output 2:\n",
    "    1"
   ]
  },
  {
   "cell_type": "markdown",
   "id": "6fbfb970-935e-4c6d-94b4-cbcbe502e4e3",
   "metadata": {
    "jp-MarkdownHeadingCollapsed": true,
    "tags": []
   },
   "source": [
    "##### Solution\n",
    "Try to think of more alternative apporaches and try them"
   ]
  },
  {
   "cell_type": "code",
   "execution_count": 76,
   "id": "fa423351-4591-4124-9412-d6e5a741f535",
   "metadata": {},
   "outputs": [
    {
     "name": "stdin",
     "output_type": "stream",
     "text": [
      " 2\n",
      " 101\n"
     ]
    },
    {
     "name": "stdout",
     "output_type": "stream",
     "text": [
      "101\n"
     ]
    },
    {
     "name": "stdin",
     "output_type": "stream",
     "text": [
      " 105\n"
     ]
    },
    {
     "name": "stdout",
     "output_type": "stream",
     "text": [
      "501\n"
     ]
    }
   ],
   "source": [
    "T = int(input())\n",
    "for i in range(T):\n",
    "    num = int(input())\n",
    "    reverse=\"\"\n",
    "    while num!=0:\n",
    "        reverse = reverse+str(num%10)\n",
    "        num=num//10\n",
    "    reverse=int(reverse)\n",
    "    print(reverse) "
   ]
  },
  {
   "cell_type": "markdown",
   "id": "a24ec9af-e351-4dee-a80c-e33295acbb75",
   "metadata": {
    "jp-MarkdownHeadingCollapsed": true,
    "tags": []
   },
   "source": [
    "#### Question 2"
   ]
  },
  {
   "cell_type": "markdown",
   "id": "920583ec-0d8f-4c9f-b92e-cb78efe47e66",
   "metadata": {},
   "source": [
    "    Take an integer A as input, determine whether it is palindromic or not.\n",
    "\n",
    "    A palindrome integer is an integer X for which reverse(X) = X where reverse(X) is X with its digits reversed. For e.g., reverse(123) = 321. Note : There will be no zeros at the start of a number.\n",
    "\n",
    "    Input 1:\n",
    "     120 \n",
    "    Input 2:\n",
    "     1001 \n",
    "\n",
    "    Output 1:\n",
    "     No \n",
    "    Output 2:\n",
    "     Yes "
   ]
  },
  {
   "cell_type": "markdown",
   "id": "6cb18cc2-23df-4ed9-a826-941758d54d58",
   "metadata": {
    "jp-MarkdownHeadingCollapsed": true,
    "tags": []
   },
   "source": [
    "##### Solution\n",
    "Try to think of more alternative apporaches and try them"
   ]
  },
  {
   "cell_type": "code",
   "execution_count": 93,
   "id": "370bb80f-5593-4b87-b87e-c614a401793a",
   "metadata": {},
   "outputs": [
    {
     "name": "stdin",
     "output_type": "stream",
     "text": [
      " 131\n"
     ]
    },
    {
     "name": "stdout",
     "output_type": "stream",
     "text": [
      "Yes\n"
     ]
    }
   ],
   "source": [
    "A = int(input())\n",
    "num = A\n",
    "reverse=\"\"\n",
    "while A!=0:\n",
    "    reverse = reverse+str(A%10)\n",
    "    A=A//10\n",
    "reverse=int(reverse)\n",
    "if num == reverse:\n",
    "    print(\"Yes\")\n",
    "else:\n",
    "    print(\"No\")"
   ]
  },
  {
   "cell_type": "markdown",
   "id": "e316b8f2-94d5-47e3-86df-17f6563fdade",
   "metadata": {
    "jp-MarkdownHeadingCollapsed": true,
    "tags": []
   },
   "source": [
    "#### Question 4"
   ]
  },
  {
   "cell_type": "markdown",
   "id": "3431ef49-52e0-4cf3-927b-fb689a0cdc17",
   "metadata": {},
   "source": [
    "    Write a program to input an integer T which represents the number of test cases. For each test case input two integers A and B in two different lines. For each pair of A and B print the HCF of the given two numbers.\n",
    "\n",
    "    Input Format\n",
    "    ------------\n",
    "    The first line of input contains T which means number of test cases.\n",
    "    Next 2T lines contains input A and B for each testcase.\n",
    "    First line of each testcase contain an integer A and second line of the testcase contains input B.\n",
    "\n",
    "    Input 1:\n",
    "    2\n",
    "    15\n",
    "    105 \n",
    "    24\n",
    "    36\n",
    "\n",
    "    Output 1:\n",
    "    15\n",
    "    12\n"
   ]
  },
  {
   "cell_type": "markdown",
   "id": "da055f23-2e77-44a7-8f7e-5921d74a462c",
   "metadata": {
    "tags": []
   },
   "source": [
    "##### Solution\n",
    "Try to think of more alternative apporaches and try them"
   ]
  },
  {
   "cell_type": "code",
   "execution_count": 107,
   "id": "2dc8ccde-3aec-42ed-8963-4dccd0d343fa",
   "metadata": {},
   "outputs": [
    {
     "name": "stdin",
     "output_type": "stream",
     "text": [
      " 2\n",
      " 15\n",
      " 105\n"
     ]
    },
    {
     "name": "stdout",
     "output_type": "stream",
     "text": [
      "15\n"
     ]
    },
    {
     "name": "stdin",
     "output_type": "stream",
     "text": [
      " 24\n",
      " 36\n"
     ]
    },
    {
     "name": "stdout",
     "output_type": "stream",
     "text": [
      "12\n"
     ]
    }
   ],
   "source": [
    "T = int(input())\n",
    "\n",
    "for i in range(T):\n",
    "    A = int(input())\n",
    "    B = int(input())\n",
    "    gcd_max = min(A,B)\n",
    "    for j in range(gcd_max,0,-1):\n",
    "        if A%j==0 and B%j==0:\n",
    "            print(j)\n",
    "            break"
   ]
  },
  {
   "cell_type": "markdown",
   "id": "793c2c02-4bc3-4f69-b185-22c46b753caa",
   "metadata": {
    "tags": []
   },
   "source": [
    "#### Question 6"
   ]
  },
  {
   "cell_type": "markdown",
   "id": "8d7c880a-33f5-48c6-a44f-e203b7fa26ed",
   "metadata": {},
   "source": [
    "    Write a program to input an integer T and then for each test case input two integers A and B in two different lines and then print T lines containing Least Common Multiple (LCM) of two given 2 numbers A and B.\n",
    "\n",
    "    LCM of two integers is the smallest positive integer divisible by both.\n",
    "\n",
    "    Input Format\n",
    "    The first line contains T which means number of test cases.\n",
    "\n",
    "    Next 2T lines contains input A and B for each testcase.\n",
    "    First line of each testcase contain an integer A and second line of the testcase contains input B.\n",
    "\n",
    "    Input 1:\n",
    "    3\n",
    "    2\n",
    "    3\n",
    "    9\n",
    "    6\n",
    "    2\n",
    "    6\n",
    "\n",
    "    Output 1:\n",
    "    6\n",
    "    18\n",
    "    6"
   ]
  },
  {
   "cell_type": "markdown",
   "id": "9aadd4c5-8415-4c27-a27d-f3333d0c9312",
   "metadata": {
    "tags": []
   },
   "source": [
    "##### Solution\n",
    "Try to think of more alternative apporaches and try them"
   ]
  },
  {
   "cell_type": "code",
   "execution_count": 5,
   "id": "f509aafd-1b50-45fd-a06c-cd27597eb5e4",
   "metadata": {},
   "outputs": [
    {
     "name": "stdin",
     "output_type": "stream",
     "text": [
      " 3\n",
      " 2\n",
      " 3\n"
     ]
    },
    {
     "name": "stdout",
     "output_type": "stream",
     "text": [
      "6\n"
     ]
    },
    {
     "name": "stdin",
     "output_type": "stream",
     "text": [
      " 9\n",
      " 6\n"
     ]
    },
    {
     "name": "stdout",
     "output_type": "stream",
     "text": [
      "18\n"
     ]
    },
    {
     "name": "stdin",
     "output_type": "stream",
     "text": [
      " 2\n",
      " 6\n"
     ]
    },
    {
     "name": "stdout",
     "output_type": "stream",
     "text": [
      "6\n"
     ]
    }
   ],
   "source": [
    "T = int(input())\n",
    "\n",
    "for i in range(T):\n",
    "    A = int(input())\n",
    "    B = int(input())\n",
    "    lcm_min = max(A,B)\n",
    "    lcm_max = A*B\n",
    "    for j in range(lcm_min,lcm_max+1,lcm_min):\n",
    "        if j%A==0 and j%B==0:\n",
    "            print(j)\n",
    "            break"
   ]
  },
  {
   "cell_type": "markdown",
   "id": "4d064e7a-adee-4977-83f8-7622f67b7f60",
   "metadata": {
    "tags": []
   },
   "source": [
    "## HW"
   ]
  },
  {
   "cell_type": "markdown",
   "id": "347c801e-ad0d-4f74-a334-66e17f925086",
   "metadata": {
    "jp-MarkdownHeadingCollapsed": true,
    "tags": []
   },
   "source": [
    "### Day 7: Control Statments 2\n"
   ]
  },
  {
   "cell_type": "markdown",
   "id": "ad478157-d95d-426a-b81a-3af50370b930",
   "metadata": {
    "jp-MarkdownHeadingCollapsed": true,
    "tags": []
   },
   "source": [
    "#### Question 3"
   ]
  },
  {
   "cell_type": "markdown",
   "id": "a901af11-f375-488d-84b5-80df69660744",
   "metadata": {},
   "source": [
    "    Write a program to input from user an integer(A) representing the rating of a person on a platform.\n",
    "\n",
    "    You have to print the category of that person.\n",
    "\n",
    "    If the rating is greater than or equal to 2100 then that person is \"grand master\".\n",
    "    If the rating is greater than or equal to 1900 then that person is \"candidate master\".\n",
    "    If the rating is greater than or equal to 1600 then that person is \"expert\".\n",
    "    If the rating is greater than or equal to 1400 then that person is \"pupil\".\n",
    "    If the rating is smaller than 1400 then that person is \"newbie\".\n",
    "    NOTE: Print all the chars of the category of the person in lowercase if rating is odd otherwise print in UPPERCASE\n",
    "\n",
    "    Problem Constraints\n",
    "    1000 <= A <= 2500\n",
    "\n",
    "    Input Format\n",
    "    One line containing an integerA.\n",
    "\n",
    "    Output Format\n",
    "    A string representing the category of the person.\n",
    "\n",
    "    Example Input\n",
    "    Input 1:\n",
    "    1659\n",
    "    \n",
    "    Input 2:\n",
    "    2100\n",
    "\n",
    "    Example Output\n",
    "    Output 1:\n",
    "    expert\n",
    "    \n",
    "    Output 2:\n",
    "    GRAND MASTER"
   ]
  },
  {
   "cell_type": "markdown",
   "id": "f0db3eb9-0df8-45bd-9928-e38ce77f5918",
   "metadata": {
    "jp-MarkdownHeadingCollapsed": true,
    "tags": []
   },
   "source": [
    "##### Solution\n",
    "Try other efficient approaches apart from conditional statements like functions, tuples, lists or dictonary."
   ]
  },
  {
   "cell_type": "code",
   "execution_count": null,
   "id": "336ed7fe-90d7-47a8-acec-b36d93cc6c5a",
   "metadata": {},
   "outputs": [],
   "source": [
    "A = int(input())\n",
    "if A%2!=0:\n",
    "    if A >= 2100:\n",
    "        print(\"grand master\")\n",
    "    elif A>=1900:\n",
    "        print(\"candidate master\")\n",
    "    elif A>=1600:\n",
    "        print(\"expert\")\n",
    "    elif A>=1400:\n",
    "        print(\"pupil\")\n",
    "    else:\n",
    "        print(\"newbie\")\n",
    "else:\n",
    "    if A >= 2100:\n",
    "        print(\"grand master\".upper())\n",
    "    elif A>=1900:\n",
    "        print(\"candidate master\".upper())\n",
    "    elif A>=1600:\n",
    "        print(\"expert\".upper())\n",
    "    elif A>=1400:\n",
    "        print(\"pupil\".upper())\n",
    "    else:\n",
    "        print(\"newbie\".upper())\n"
   ]
  },
  {
   "cell_type": "markdown",
   "id": "b2b86262-1363-46cf-9d6f-60b9cdc8ac83",
   "metadata": {
    "jp-MarkdownHeadingCollapsed": true,
    "tags": []
   },
   "source": [
    "#### Question 4"
   ]
  },
  {
   "cell_type": "markdown",
   "id": "e8005910-bc6e-42fb-81f2-03f54fa46a6d",
   "metadata": {},
   "source": [
    "    Write a program to input an integer(A) from user and print the Ath month of the year.\n",
    "\n",
    "    Months list: {January, February, March, April, May, June, July, August, September, October, November, December}\n",
    "\n",
    "    Problem Constraints\n",
    "    1 <= A <= 12\n",
    "\n",
    "    Input Format\n",
    "    One line containing an integer integer A.\n",
    "\n",
    "    Output Format\n",
    "    One line containing the Ath month of the year.\n",
    "\n",
    "    Example Input\n",
    "    Input 1:\n",
    "    1\n",
    "    \n",
    "    Input 2:\n",
    "    6\n",
    "    \n",
    "    Example Output\n",
    "    Output 1:\n",
    "    January\n",
    "    \n",
    "    Output 2:\n",
    "    June"
   ]
  },
  {
   "cell_type": "markdown",
   "id": "4fb391c3-baa5-401a-a376-939a5de42a3d",
   "metadata": {
    "jp-MarkdownHeadingCollapsed": true,
    "tags": []
   },
   "source": [
    "##### Solution\n",
    "Try other efficient approaches apart from conditional statements like functions, tuples, lists or dictonary."
   ]
  },
  {
   "cell_type": "code",
   "execution_count": null,
   "id": "d5e57f02-60e9-4f98-8b3d-c0cc8cee94e1",
   "metadata": {},
   "outputs": [],
   "source": [
    "x = int(input())\n",
    "if x==1:\n",
    "    print(\"January\")\n",
    "elif x==2:\n",
    "    print(\"February\")\n",
    "elif x==3:\n",
    "    print(\"March\")\n",
    "elif x==4:\n",
    "    print(\"April\")\n",
    "elif x==5:\n",
    "    print(\" May\")\n",
    "elif x==6:\n",
    "    print(\"June\")\n",
    "elif x==7:\n",
    "    print(\"July\")\n",
    "elif x==8:\n",
    "    print(\"August\")\n",
    "elif x==9:\n",
    "    print(\"September\")\n",
    "elif x==10:\n",
    "    print(\" October\")\n",
    "elif x==11:\n",
    "    print(\"November\")\n",
    "elif x==12:\n",
    "    print(\"December\")\n",
    "else:\n",
    "    print(\"Invalid Input\")"
   ]
  },
  {
   "cell_type": "markdown",
   "id": "49f006b4-69a9-4f85-a86d-cfd08e3e0fec",
   "metadata": {
    "jp-MarkdownHeadingCollapsed": true,
    "tags": []
   },
   "source": [
    "#### Question 5"
   ]
  },
  {
   "cell_type": "markdown",
   "id": "d1bf7c36-6d97-49ac-b254-146dfa71adc9",
   "metadata": {},
   "source": [
    "    You are given an integer A.\n",
    "\n",
    "    You have to tell how many days are there in the month denoted by A in a non-leap year.\n",
    "\n",
    "    Months are denoted as follows:\n",
    "    January : 1\n",
    "    February : 2\n",
    "    March : 3\n",
    "    April : 4\n",
    "    May : 5\n",
    "    June : 6\n",
    "    July : 7\n",
    "    August : 8\n",
    "    September : 9\n",
    "    October : 10\n",
    "    November : 11\n",
    "    December : 12\n",
    "\n",
    "    Problem Constraints\n",
    "    1 <= A <= 12\n",
    "\n",
    "    Input Format\n",
    "    The input contains a single integer A.\n",
    "\n",
    "    Output Format\n",
    "    Print a single integer denoting the number of days on a single line.\n",
    "\n",
    "    Example Input\n",
    "    Input 1:\n",
    "     1 \n",
    "     \n",
    "    Input 2:\n",
    "     11 \n",
    "\n",
    "    Example Output\n",
    "    Output 1:\n",
    "     31 \n",
    "     \n",
    "    Output 2:\n",
    "     30 \n"
   ]
  },
  {
   "cell_type": "markdown",
   "id": "8817b040-d89d-453c-833c-f1efcd1c5f82",
   "metadata": {
    "jp-MarkdownHeadingCollapsed": true,
    "tags": []
   },
   "source": [
    "##### Solution\n",
    "Try other efficient approaches apart from conditional statements like functions, tuples, lists or dictonary."
   ]
  },
  {
   "cell_type": "code",
   "execution_count": 1,
   "id": "25f71762-cf02-4283-8e35-450f7e6e1b1b",
   "metadata": {},
   "outputs": [
    {
     "name": "stdin",
     "output_type": "stream",
     "text": [
      " 11\n"
     ]
    },
    {
     "name": "stdout",
     "output_type": "stream",
     "text": [
      "30\n"
     ]
    }
   ],
   "source": [
    "x = int(input())\n",
    "if x==1:\n",
    "    print(\"31\")\n",
    "elif x==2:\n",
    "    print(\"28\")\n",
    "elif x==3:\n",
    "    print(\"31\")\n",
    "elif x==4:\n",
    "    print(\"30\")\n",
    "elif x==5:\n",
    "    print(\"31\")\n",
    "elif x==6:\n",
    "    print(\"30\")\n",
    "elif x==7:\n",
    "    print(\"31\")\n",
    "elif x==8:\n",
    "    print(\"31\")\n",
    "elif x==9:\n",
    "    print(\"30\")\n",
    "elif x==10:\n",
    "    print(\" 31\")\n",
    "elif x==11:\n",
    "    print(\"30\")\n",
    "elif x==12:\n",
    "    print(\"31\")\n",
    "else:\n",
    "    print(\"Invalid Input\")"
   ]
  },
  {
   "cell_type": "markdown",
   "id": "c1643624-c477-4675-a359-4a963a789222",
   "metadata": {
    "tags": []
   },
   "source": [
    "### Day 8: While Loops"
   ]
  },
  {
   "cell_type": "markdown",
   "id": "fbbccd3c-c155-4239-95d2-271d4d70a89f",
   "metadata": {
    "jp-MarkdownHeadingCollapsed": true,
    "tags": []
   },
   "source": [
    "#### Question 1"
   ]
  },
  {
   "cell_type": "markdown",
   "id": "a106c087-4cae-4142-b8c1-402d41a4f10f",
   "metadata": {},
   "source": [
    "    You are given two integers A and B. You have to find the value of AB using while loop."
   ]
  },
  {
   "cell_type": "markdown",
   "id": "11a1ca33-6c77-4d7a-9ca3-e16c9d63f674",
   "metadata": {
    "jp-MarkdownHeadingCollapsed": true,
    "tags": []
   },
   "source": [
    "##### Solution"
   ]
  },
  {
   "cell_type": "code",
   "execution_count": 7,
   "id": "04189f98-ed13-4448-8601-ddc6171de83b",
   "metadata": {},
   "outputs": [
    {
     "name": "stdin",
     "output_type": "stream",
     "text": [
      " 3\n",
      " 4\n"
     ]
    },
    {
     "name": "stdout",
     "output_type": "stream",
     "text": [
      "81\n"
     ]
    }
   ],
   "source": [
    "A = int(input())\n",
    "B = int(input())\n",
    "\n",
    "#simplest approach\n",
    "#print(A**B)\n",
    "\n",
    "## Using while loop\n",
    "i=2\n",
    "multiplier=A\n",
    "while i<=B:\n",
    "    A=A*multiplier\n",
    "    i+=1\n",
    "print(A)"
   ]
  },
  {
   "cell_type": "markdown",
   "id": "18bc6510-8346-4b64-8f75-8b3bf8721f5e",
   "metadata": {
    "jp-MarkdownHeadingCollapsed": true,
    "tags": []
   },
   "source": [
    "#### Question 2"
   ]
  },
  {
   "cell_type": "markdown",
   "id": "e8e405fb-5bc8-4898-8fe2-d359575648e5",
   "metadata": {},
   "source": [
    "    Take a number A as input, print its multiplication table having the first 10 multiples.\n",
    "\n",
    "    Input Format\n",
    "    First line contains a single integer A.\n",
    "\n",
    "    Output Format\n",
    "    Print 10 lines, ith line containing ith multiple.\n",
    "\n",
    "\n",
    "    Example Input\n",
    "    Input 1:\n",
    "     2 \n",
    "\n",
    "    Example Output\n",
    "    Output 1:\n",
    "\n",
    "     2 * 1 = 2 \n",
    "     2 * 2 = 4 \n",
    "     2 * 3 = 6 \n",
    "     2 * 4 = 8 \n",
    "     2 * 5 = 10 \n",
    "     2 * 6 = 12 \n",
    "     2 * 7 = 14 \n",
    "     2 * 8 = 16 \n",
    "     2 * 9 = 18 \n",
    "     2 * 10 = 20 "
   ]
  },
  {
   "cell_type": "markdown",
   "id": "0552a59a-afc1-414c-aeb3-757a536dee02",
   "metadata": {
    "jp-MarkdownHeadingCollapsed": true,
    "tags": []
   },
   "source": [
    "##### Solution"
   ]
  },
  {
   "cell_type": "code",
   "execution_count": 14,
   "id": "6b1b29c6-49db-4178-b50e-7b8a19174edb",
   "metadata": {},
   "outputs": [
    {
     "name": "stdin",
     "output_type": "stream",
     "text": [
      " 3\n"
     ]
    },
    {
     "name": "stdout",
     "output_type": "stream",
     "text": [
      "3 * 1 = 3\n",
      "3 * 2 = 6\n",
      "3 * 3 = 9\n",
      "3 * 4 = 12\n",
      "3 * 5 = 15\n",
      "3 * 6 = 18\n",
      "3 * 7 = 21\n",
      "3 * 8 = 24\n",
      "3 * 9 = 27\n",
      "3 * 10 = 30\n"
     ]
    }
   ],
   "source": [
    "A = int(input())\n",
    "i=1\n",
    "while (i<=10):\n",
    "    print(A,\"*\",i,\"=\",A*i)\n",
    "    i+=1"
   ]
  },
  {
   "cell_type": "code",
   "execution_count": 11,
   "id": "6e36550e-65f0-41df-8fe6-87d2827d38db",
   "metadata": {},
   "outputs": [
    {
     "name": "stdin",
     "output_type": "stream",
     "text": [
      " 2\n"
     ]
    },
    {
     "name": "stdout",
     "output_type": "stream",
     "text": [
      "2 * 1 = 2\n",
      "2 * 2 = 4\n",
      "2 * 3 = 6\n",
      "2 * 4 = 8\n",
      "2 * 5 = 10\n",
      "2 * 6 = 12\n",
      "2 * 7 = 14\n",
      "2 * 8 = 16\n",
      "2 * 9 = 18\n",
      "2 * 10 = 20\n"
     ]
    }
   ],
   "source": [
    "#using f-string\n",
    "A = int(input())\n",
    "for i in range(1,11):\n",
    "    print(f\"{A} * {i} = {A*i}\")"
   ]
  },
  {
   "cell_type": "markdown",
   "id": "7c073121-f2bb-4720-9de7-242065649652",
   "metadata": {
    "jp-MarkdownHeadingCollapsed": true,
    "tags": []
   },
   "source": [
    "#### Question 4"
   ]
  },
  {
   "cell_type": "markdown",
   "id": "d9d4ffd8-98f0-43e2-bcf1-285bbcc738a5",
   "metadata": {},
   "source": [
    "    Take T (number of test cases) as input.\n",
    "    For each test case, take integer N as input and Print the count of digits of that number.\n",
    "\n",
    "    Note: No of digits for number 0 is considered as 1.\n",
    "\n",
    "    Input 2:\n",
    "    2\n",
    "    100\n",
    "    10101\n",
    "\n",
    "    Output 2:\n",
    "    3\n",
    "    5"
   ]
  },
  {
   "cell_type": "markdown",
   "id": "37d73504-70ab-4743-b73b-c65a79f117ea",
   "metadata": {},
   "source": [
    "##### Solution"
   ]
  },
  {
   "cell_type": "code",
   "execution_count": 18,
   "id": "66b87994-2018-4ba9-8d30-2d325a70b383",
   "metadata": {},
   "outputs": [
    {
     "name": "stdin",
     "output_type": "stream",
     "text": [
      " 2\n",
      " 455\n"
     ]
    },
    {
     "name": "stdout",
     "output_type": "stream",
     "text": [
      "3\n"
     ]
    },
    {
     "name": "stdin",
     "output_type": "stream",
     "text": [
      " 34\n"
     ]
    },
    {
     "name": "stdout",
     "output_type": "stream",
     "text": [
      "2\n"
     ]
    }
   ],
   "source": [
    "T = int(input())\n",
    "i=1\n",
    "while(i<=T):\n",
    "    n = int(input())\n",
    "    n = str(n)\n",
    "    i+=1\n",
    "    print(len(n))"
   ]
  },
  {
   "cell_type": "markdown",
   "id": "cf0ee198-5917-4bbc-892f-e57ba69ceaf3",
   "metadata": {
    "jp-MarkdownHeadingCollapsed": true,
    "tags": []
   },
   "source": [
    "#### Question 5"
   ]
  },
  {
   "cell_type": "markdown",
   "id": "464c5ac4-3d66-456a-b412-8f2bb993794a",
   "metadata": {},
   "source": [
    "    Take T (number of test cases) as input.\n",
    "    For each test case, take integer N as input and Print the sum of digits of that number.\n",
    "\n",
    "    Input 1:\n",
    "    2\n",
    "    5\n",
    "    1001\n",
    "\n",
    "    Output 2:\n",
    "    6\n",
    "    23"
   ]
  },
  {
   "cell_type": "markdown",
   "id": "ed3fcdc0-a293-409e-8e59-5e227d105e76",
   "metadata": {
    "jp-MarkdownHeadingCollapsed": true,
    "tags": []
   },
   "source": [
    "##### Solution"
   ]
  },
  {
   "cell_type": "code",
   "execution_count": 39,
   "id": "69105217-dc03-42d2-bcb1-860cd5bc66b2",
   "metadata": {},
   "outputs": [
    {
     "name": "stdin",
     "output_type": "stream",
     "text": [
      " 3\n",
      " 454\n"
     ]
    },
    {
     "name": "stdout",
     "output_type": "stream",
     "text": [
      "13\n"
     ]
    },
    {
     "name": "stdin",
     "output_type": "stream",
     "text": [
      " 2\n"
     ]
    },
    {
     "name": "stdout",
     "output_type": "stream",
     "text": [
      "2\n"
     ]
    },
    {
     "name": "stdin",
     "output_type": "stream",
     "text": [
      " 789\n"
     ]
    },
    {
     "name": "stdout",
     "output_type": "stream",
     "text": [
      "24\n"
     ]
    }
   ],
   "source": [
    "T = int(input())\n",
    "i=0\n",
    "while(i<T):\n",
    "    N = int(input())\n",
    "    N = str(N)\n",
    "    j=0\n",
    "    sum_num=0\n",
    "    while j < len(N):\n",
    "        num = N[j]\n",
    "        num = int(num)\n",
    "        sum_num += num\n",
    "        j +=1\n",
    "    i+=1\n",
    "    print(sum_num)"
   ]
  },
  {
   "cell_type": "markdown",
   "id": "1cc7609e-b63d-4d7f-bf99-fc9fd3a5cbc7",
   "metadata": {
    "jp-MarkdownHeadingCollapsed": true,
    "tags": []
   },
   "source": [
    "##### Alternative appraoch"
   ]
  },
  {
   "cell_type": "code",
   "execution_count": 49,
   "id": "4cd891fe-e2cc-451d-a581-90096e1c8690",
   "metadata": {},
   "outputs": [
    {
     "name": "stdin",
     "output_type": "stream",
     "text": [
      " 2\n",
      " 43\n"
     ]
    },
    {
     "name": "stdout",
     "output_type": "stream",
     "text": [
      "7\n"
     ]
    },
    {
     "name": "stdin",
     "output_type": "stream",
     "text": [
      " 658\n"
     ]
    },
    {
     "name": "stdout",
     "output_type": "stream",
     "text": [
      "19\n"
     ]
    }
   ],
   "source": [
    "T = int(input())\n",
    "i=0\n",
    "while(i<T):\n",
    "    N = int(input())\n",
    "    sum_num=0\n",
    "    while (N!=0):\n",
    "        sum_num += (N%10)\n",
    "        N= N//10\n",
    "    i+=1\n",
    "    print(sum_num)"
   ]
  },
  {
   "cell_type": "markdown",
   "id": "a90022c7-16e9-4894-ab5d-fe6c063908cc",
   "metadata": {
    "tags": []
   },
   "source": [
    "##### Try to think of more approaches"
   ]
  },
  {
   "cell_type": "markdown",
   "id": "0db3998e-b7db-435e-9b74-595f6e9f8bc0",
   "metadata": {
    "tags": []
   },
   "source": [
    "### Day 9: For Loops"
   ]
  },
  {
   "cell_type": "markdown",
   "id": "f8d7ee80-0c06-46c5-a573-e62a7110e1be",
   "metadata": {
    "jp-MarkdownHeadingCollapsed": true,
    "tags": []
   },
   "source": [
    "#### Question 1"
   ]
  },
  {
   "cell_type": "markdown",
   "id": "4681a69d-2216-414e-b3a9-8b2a60730846",
   "metadata": {},
   "source": [
    "    Fill in the missing piece of code to get the value of ‘a’ as 5.\n",
    "\n",
    "    a = 0\n",
    "    while True:\n",
    "        ___________\n",
    "        if a == 5:\n",
    "            break\n",
    "\n",
    "    A.\n",
    "    a = a+1\n",
    "    a %= 5\n",
    "    a += 1\n",
    "\n",
    "    B.\n",
    "    a = a + 2\n",
    "    a %= 5\n",
    "    a += 1\n",
    "\n",
    "    C.\n",
    "    a = a + 1\n",
    "    a %= 5\n",
    "    a += 2\n",
    "\n",
    "    D.\n",
    "    a = a + 5\n",
    "    a %= 5\n",
    "    a += 5"
   ]
  },
  {
   "cell_type": "markdown",
   "id": "0efe09a2-eb60-48a1-94b9-948ae0509210",
   "metadata": {
    "tags": []
   },
   "source": [
    "##### Solution"
   ]
  },
  {
   "cell_type": "markdown",
   "id": "811899ba-8caf-420f-9a21-b1b1a22c084b",
   "metadata": {},
   "source": [
    "ABCD all options will suffice. Run manually if confused"
   ]
  },
  {
   "cell_type": "markdown",
   "id": "1af0d530-eb9c-44a6-8966-64c085a7ee00",
   "metadata": {},
   "source": [
    "###"
   ]
  }
 ],
 "metadata": {
  "kernelspec": {
   "display_name": "Python 3 (ipykernel)",
   "language": "python",
   "name": "python3"
  },
  "language_info": {
   "codemirror_mode": {
    "name": "ipython",
    "version": 3
   },
   "file_extension": ".py",
   "mimetype": "text/x-python",
   "name": "python",
   "nbconvert_exporter": "python",
   "pygments_lexer": "ipython3",
   "version": "3.10.6"
  },
  "widgets": {
   "application/vnd.jupyter.widget-state+json": {
    "state": {},
    "version_major": 2,
    "version_minor": 0
   }
  }
 },
 "nbformat": 4,
 "nbformat_minor": 5
}
