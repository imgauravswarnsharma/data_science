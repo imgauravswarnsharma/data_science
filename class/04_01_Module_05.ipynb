{
 "cells": [
  {
   "cell_type": "markdown",
   "id": "27193d8f-ecbd-4bd3-a6a5-5022ca3e410d",
   "metadata": {
    "jp-MarkdownHeadingCollapsed": true,
    "tags": []
   },
   "source": [
    "# Programming Paradigm\n",
    "Set of ideals and guidelines"
   ]
  },
  {
   "cell_type": "markdown",
   "id": "78940e70-7d2d-45c6-8e82-9aa3dbbebf85",
   "metadata": {},
   "source": [
    "    Programming paradigms are different ways or styles in which a given program or programming language can be organized. Each paradigm consists of certain structures, features, and opinions about how common programming problems should be tackled.\n"
   ]
  },
  {
   "cell_type": "markdown",
   "id": "be584100-d71e-4388-895a-c52e223a5eae",
   "metadata": {},
   "source": [
    "Different types of programming paradigms:\n",
    "* _Imperative programming_\n",
    "* _Object-Oriented Programming_\n",
    "* _Functional Programming_\n",
    "* etc...."
   ]
  },
  {
   "cell_type": "markdown",
   "id": "bd457d18-03a8-4872-99ba-59f58034ab9f",
   "metadata": {
    "jp-MarkdownHeadingCollapsed": true,
    "tags": []
   },
   "source": [
    "##### Imperative Porgramming\n",
    "Very crude, simplistic and detailed in nature describing each step"
   ]
  },
  {
   "cell_type": "markdown",
   "id": "d45892e3-e428-4dc7-867c-c86c223006c9",
   "metadata": {},
   "source": [
    "    Let's say we want to bake a cake. Then imperative program may look something like this.\n",
    "        1- Pour flour in a bowl\n",
    "        2- Pour a couple eggs in the same bowl\n",
    "        3- Pour some milk in the same bowl\n",
    "        4- Mix the ingredients\n",
    "        5- Pour the mix in a mold\n",
    "        6- Cook for 35 minutes\n",
    "        7- Let chill"
   ]
  },
  {
   "cell_type": "markdown",
   "id": "424b5528-c5af-41ca-9fe1-d86ca0ade711",
   "metadata": {
    "jp-MarkdownHeadingCollapsed": true,
    "tags": []
   },
   "source": [
    "##### OOPS\n",
    "structures everything as collection of classes and objects where object is the smallest entity and all the computations are performed on objects only."
   ]
  },
  {
   "cell_type": "markdown",
   "id": "3c131095-f3be-49c3-b60c-e8ea65c29784",
   "metadata": {},
   "source": [
    "    Let's say we want to bake the above cake in OOP style, it might look like this.\n",
    "            \n",
    "        // Create the two classes corresponding to each entity\n",
    "        class Cook {\n",
    "            constructor constructor (name) {\n",
    "            this.name = name\n",
    "            }\n",
    "\n",
    "            mixAndBake() {\n",
    "                - Mix the ingredients\n",
    "                - Pour the mix in a mold\n",
    "                - Cook for 35 minutes\n",
    "            }\n",
    "        }\n",
    "        \n",
    "            class AssistantCook {\n",
    "                constructor (name) {\n",
    "                    this.name = name\n",
    "            }\n",
    "\n",
    "            pourIngredients() {\n",
    "                - Pour flour in a bowl\n",
    "                - Pour a couple eggs in the same bowl\n",
    "                - Pour some milk in the same bowl\n",
    "            }\n",
    "\n",
    "        chillTheCake() {\n",
    "            - Let chill\n",
    "            }\n",
    "        }\n",
    "\n",
    "        // Instantiate an object from each class\n",
    "        const Frank = new Cook('Frank')\n",
    "        const Anthony = new AssistantCook('Anthony')\n",
    "\n",
    "        // Call the corresponding methods from each instance\n",
    "        Anthony.pourIngredients()\n",
    "        Frank.mixAndBake()\n",
    "        Anthony.chillTheCake()"
   ]
  },
  {
   "cell_type": "markdown",
   "id": "4f16aa9b-8438-46a1-bcd7-1d96f505afa5",
   "metadata": {
    "tags": []
   },
   "source": [
    "# OOPS\n",
    "structures everything as collection of classes and objects where object is the smallest entity and all the computations are performed on objects only."
   ]
  },
  {
   "cell_type": "markdown",
   "id": "759e96be-32f2-4904-8d51-40e7fcc2b88c",
   "metadata": {
    "jp-MarkdownHeadingCollapsed": true,
    "tags": []
   },
   "source": [
    "### Intro"
   ]
  },
  {
   "cell_type": "markdown",
   "id": "50a6a7e1-09f7-4534-b094-63d2adda8375",
   "metadata": {
    "tags": []
   },
   "source": [
    "OOPS --> **Classes** (**Properties**, **Methods**) --> **Objects**"
   ]
  },
  {
   "cell_type": "markdown",
   "id": "2ee29701-8491-425b-aa98-4ae4973c0324",
   "metadata": {
    "jp-MarkdownHeadingCollapsed": true,
    "tags": []
   },
   "source": [
    "##### 4 Pillars of OOPS"
   ]
  },
  {
   "cell_type": "markdown",
   "id": "0da38d2a-7031-49ae-ac85-39a0bf5b959b",
   "metadata": {},
   "source": [
    "* **Encapsulation:** putting(grouping) common info together.\n",
    "\n",
    "        Example: Class itself is simplest example of encapsulation. Dicts are another example. \n",
    "        \n",
    "* **Abstraction:** Hiding unnecessary info(code).\n",
    "* **Inheritence:** Inheritance is the capability of one class to derive or inherit the properties from another class. \n",
    "* **Polymorphism:** Polymorphism simply means having many forms. \n",
    "\n",
    "        Example: 4+5 will return 9 but 'a'+'b' will return 'ab'. Same operator  but showing different properties for different datatype. This behaviour is polymorphism."
   ]
  },
  {
   "cell_type": "markdown",
   "id": "b3f709eb-76e5-4d0f-826e-e73df084b8e8",
   "metadata": {
    "tags": []
   },
   "source": [
    "##### Class"
   ]
  },
  {
   "cell_type": "markdown",
   "id": "4f3f1100-5560-4c18-a536-5ffedda8bf81",
   "metadata": {},
   "source": [
    "* A Class is a template or blueprint from which objects are created. \n",
    "* It is a collection of objects.\n",
    "* It is a logical entity that contains some properties and methods. \n",
    "* Classes contains all the common info.\n",
    "* By convention, class follows CamelCase Naming.\n",
    "* Class info are always public and can be accessed using the dot (.) operator. Eg: Myclass.Myvariable"
   ]
  },
  {
   "cell_type": "markdown",
   "id": "9c073e20-278f-46c7-8f3f-c7cdc57b2bb9",
   "metadata": {},
   "source": [
    "* Class consists of: \n",
    "    * **Properties (Variables)**\n",
    "    * **Methods (Functions)** "
   ]
  },
  {
   "cell_type": "code",
   "execution_count": null,
   "id": "3d417b41-744b-4064-bf0c-e25c6c08e840",
   "metadata": {},
   "outputs": [],
   "source": [
    "# Creating an empty class\n",
    "\n",
    "class DemoClass:\n",
    "    pass  "
   ]
  },
  {
   "cell_type": "markdown",
   "id": "7c0a50dc-9b33-4ff0-ab7e-81af803a9ff2",
   "metadata": {
    "tags": []
   },
   "source": [
    "##### Objects"
   ]
  },
  {
   "cell_type": "markdown",
   "id": "79d6604a-5562-4ced-8906-b1ebca9217a8",
   "metadata": {},
   "source": [
    "* Objects are instances of classes.\n",
    "* Objects contains unique info and can also access the commomn info from the class."
   ]
  },
  {
   "cell_type": "code",
   "execution_count": null,
   "id": "819939e9-398b-409c-a1c1-43723f49769a",
   "metadata": {},
   "outputs": [],
   "source": [
    "#instantiate a class or create an object of a class\n",
    "\n",
    "obj1 = DemoClass()"
   ]
  },
  {
   "cell_type": "markdown",
   "id": "dc0f9421-f142-473c-95fb-55439f992c44",
   "metadata": {},
   "source": [
    "Basically, obj1 is a variable or object of type TestClass, and, we can verify it with the type function."
   ]
  },
  {
   "cell_type": "code",
   "execution_count": null,
   "id": "da8b4470-3d45-424c-8511-2e518bd6dea5",
   "metadata": {},
   "outputs": [
    {
     "data": {
      "text/plain": [
       "__main__.DemoClass"
      ]
     },
     "execution_count": 25,
     "metadata": {},
     "output_type": "execute_result"
    }
   ],
   "source": [
    "type(obj1)"
   ]
  },
  {
   "cell_type": "markdown",
   "id": "161a6a88-cdf7-4c10-8683-e0e30fee485f",
   "metadata": {},
   "source": [
    "Adding an property or variable directly inside a class\n",
    "\n",
    "**obj_name.var_name = value**"
   ]
  },
  {
   "cell_type": "code",
   "execution_count": null,
   "id": "dd07c725-9f9a-4794-989e-39e25e34e328",
   "metadata": {},
   "outputs": [],
   "source": [
    "## Adding an property or variable directly inside a class\n",
    "# obj_name.var_name = value\n",
    "\n",
    "obj1.name = 'Gaurav'"
   ]
  },
  {
   "cell_type": "markdown",
   "id": "14d63ad1-a6b4-4369-bf57-145993b746c0",
   "metadata": {},
   "source": [
    "There is an issue with the above approach. Instead of keeping info inside the blueprint, we are rather keeping info in objects directly. This creates a problem that we will have to add value in the object again and again, and, in essence defeating the purpose of classes. To overcome this, we wil use init method"
   ]
  },
  {
   "cell_type": "markdown",
   "id": "985ae11e-1ce6-4a12-99d1-133e851eaa38",
   "metadata": {
    "tags": []
   },
   "source": [
    "##### methods\n",
    "Function created inside a class is called method"
   ]
  },
  {
   "cell_type": "code",
   "execution_count": null,
   "id": "90fe04c4-ca49-42ac-8986-6eccfd36854f",
   "metadata": {},
   "outputs": [],
   "source": [
    "# hello is the method here without any arguments\n",
    "class Student:\n",
    "    def hello():\n",
    "        print(\"Hello!\")"
   ]
  },
  {
   "cell_type": "markdown",
   "id": "2f102cc6-072e-4471-b83a-6a19aff67911",
   "metadata": {
    "tags": []
   },
   "source": [
    "### Class Method"
   ]
  },
  {
   "cell_type": "markdown",
   "id": "41c6836d-cfe3-48f9-a6e2-82b1a1dba74b",
   "metadata": {
    "tags": []
   },
   "source": [
    "If there is a method inside class, we can call function directly using class name.\n",
    "\n",
    "**class_name.obj_name**"
   ]
  },
  {
   "cell_type": "code",
   "execution_count": null,
   "id": "9dd66256-551d-4f8c-a167-d0d119e368ae",
   "metadata": {},
   "outputs": [],
   "source": [
    "# hello is the method here\n",
    "class Student:\n",
    "    def hello():\n",
    "        print(\"Hello!\")"
   ]
  },
  {
   "cell_type": "code",
   "execution_count": null,
   "id": "7d89cab0-cc57-4b4d-9733-992367bc7f98",
   "metadata": {},
   "outputs": [
    {
     "name": "stdout",
     "output_type": "stream",
     "text": [
      "Hello!\n"
     ]
    }
   ],
   "source": [
    "# Calling function directly using class name\n",
    "# class_name.obj_name\n",
    "\n",
    "Student.hello()"
   ]
  },
  {
   "cell_type": "markdown",
   "id": "a88e3ef0-039e-4e8a-9ce1-fdcc1674ea7a",
   "metadata": {
    "tags": []
   },
   "source": [
    "### Instance method"
   ]
  },
  {
   "cell_type": "markdown",
   "id": "b4aba9a4-1ee3-40b4-b5fd-957deafcba47",
   "metadata": {},
   "source": [
    "Calling the function using object"
   ]
  },
  {
   "cell_type": "code",
   "execution_count": null,
   "id": "5805a60f-428b-4340-82ec-475440d2709c",
   "metadata": {},
   "outputs": [
    {
     "ename": "TypeError",
     "evalue": "hello() takes 0 positional arguments but 1 was given",
     "output_type": "error",
     "traceback": [
      "\u001b[1;31m--------------------------------------------------------------------------\u001b[0m",
      "\u001b[1;31mTypeError\u001b[0m                                Traceback (most recent call last)",
      "Cell \u001b[1;32mIn[40], line 3\u001b[0m\n\u001b[0;32m      1\u001b[0m a \u001b[38;5;241m=\u001b[39m Student()\n\u001b[0;32m      2\u001b[0m \u001b[38;5;66;03m# Calling function using object\u001b[39;00m\n\u001b[1;32m----> 3\u001b[0m \u001b[43ma\u001b[49m\u001b[38;5;241;43m.\u001b[39;49m\u001b[43mhello\u001b[49m\u001b[43m(\u001b[49m\u001b[43m)\u001b[49m\n",
      "\u001b[1;31mTypeError\u001b[0m: hello() takes 0 positional arguments but 1 was given"
     ]
    }
   ],
   "source": [
    "a = Student()\n",
    "# Calling function using object\n",
    "a.hello()"
   ]
  },
  {
   "cell_type": "markdown",
   "id": "f9a8715f-fc94-44b2-b44a-22d4efd24aa9",
   "metadata": {
    "tags": []
   },
   "source": [
    "##### Q: Why did the call to function via object failed above?"
   ]
  },
  {
   "cell_type": "markdown",
   "id": "9d92c89e-5ea7-4988-9230-bb405854f698",
   "metadata": {
    "tags": []
   },
   "source": [
    "##### Explanation"
   ]
  },
  {
   "cell_type": "markdown",
   "id": "3c2538f7-ae90-4c57-bafd-8e516be314ee",
   "metadata": {},
   "source": [
    "* It fails when we call the function by object becoz whenever a python method is called using the object of that class an argument is automatically passed to it which is reference to the current object.\n",
    "* Python does this conversion automatically. \n",
    "* _obj.func_name()_ is converted to  _Class_name.func_name(obj)_ by python automatically.\n",
    "   * **obj.func_name() = Class_name.func_name(obj)**\n",
    "\n",
    "             So, basically, 'a.hello()' is converted to 'Student.hello(a)''"
   ]
  },
  {
   "cell_type": "markdown",
   "id": "073d3b8a-f15e-4892-a65d-3f63f280793f",
   "metadata": {},
   "source": [
    "##### Resolution"
   ]
  },
  {
   "cell_type": "markdown",
   "id": "8dddf4b8-6b53-4cdf-b284-503bc4ae0a32",
   "metadata": {},
   "source": [
    "***Note the argument '*a*' inside hello function in the converted format and since our func takes no argument, python throws this positional argument error***.  \n",
    "\n",
    "* Hence to resolve this issue, we will always use an argument inside a method.\n",
    "* By convention, ' ***self*** ' named variable is used for this.\n"
   ]
  },
  {
   "cell_type": "markdown",
   "id": "5f0df146-b0c2-454f-affc-d9b94feb8c95",
   "metadata": {},
   "source": [
    "#### self"
   ]
  },
  {
   "cell_type": "markdown",
   "id": "1096a7da-5066-4796-9c00-757c6a94fec0",
   "metadata": {},
   "source": [
    "* It is not a keyword so any variable name can be used instead of self.\n",
    "* By convention, ' ***self*** ' named variable is used for this."
   ]
  },
  {
   "cell_type": "markdown",
   "id": "b7f22bed-98fe-4234-bb4c-3dd67a8ee72d",
   "metadata": {},
   "source": [
    "To resolve the error of positional argument, we will add self to the above code and then call the function by object to verify."
   ]
  },
  {
   "cell_type": "code",
   "execution_count": null,
   "id": "076bb001-8f27-40c7-9fe5-dfddddcff0c2",
   "metadata": {},
   "outputs": [],
   "source": [
    "class Student:\n",
    "    def hello(self):\n",
    "        print(\"Hello!\")"
   ]
  },
  {
   "cell_type": "code",
   "execution_count": null,
   "id": "874b84c4-389b-4670-aafb-2a0095ca010f",
   "metadata": {},
   "outputs": [
    {
     "name": "stdout",
     "output_type": "stream",
     "text": [
      "Hello!\n"
     ]
    }
   ],
   "source": [
    "a = Student()\n",
    "# Calling function using object\n",
    "a.hello()"
   ]
  },
  {
   "cell_type": "code",
   "execution_count": null,
   "id": "f14ab0fd-4931-4069-ae7e-05d1a691af8e",
   "metadata": {},
   "outputs": [
    {
     "name": "stdout",
     "output_type": "stream",
     "text": [
      "Hello!\n"
     ]
    }
   ],
   "source": [
    "Student.hello(a)"
   ]
  },
  {
   "cell_type": "markdown",
   "id": "42e60112-9e50-442d-9a80-db07ad29339a",
   "metadata": {},
   "source": [
    "##### Verifying the conversion"
   ]
  },
  {
   "cell_type": "markdown",
   "id": "31e7960c-3fbc-4fae-9c44-98d51270e45e",
   "metadata": {},
   "source": [
    "Lets verify the auto conversion, that self arugment is nothing but a reference to the current objection being done by python."
   ]
  },
  {
   "cell_type": "code",
   "execution_count": null,
   "id": "7d250d8f-e1c7-4b2d-a6e0-290fa41b5a6e",
   "metadata": {},
   "outputs": [],
   "source": [
    "class Student:\n",
    "    def hello(self):\n",
    "        print(id(self))"
   ]
  },
  {
   "cell_type": "code",
   "execution_count": null,
   "id": "cfe2657d-c85e-4911-a63e-69700e424128",
   "metadata": {},
   "outputs": [
    {
     "name": "stdout",
     "output_type": "stream",
     "text": [
      "1851913942256\n"
     ]
    }
   ],
   "source": [
    "a = Student()\n",
    "a.hello() # After Conversion: Student.hello(a)"
   ]
  },
  {
   "cell_type": "code",
   "execution_count": null,
   "id": "33ecbc09-8d64-453c-a386-8c1ebfd05bde",
   "metadata": {},
   "outputs": [
    {
     "data": {
      "text/plain": [
       "1851913942256"
      ]
     },
     "execution_count": 51,
     "metadata": {},
     "output_type": "execute_result"
    }
   ],
   "source": [
    "id(a)"
   ]
  },
  {
   "cell_type": "markdown",
   "id": "efc062b2-49e5-4956-82b7-33927834b5d2",
   "metadata": {},
   "source": [
    "When printing the id of self we are getting the same memory address for a as well as self. Thus, conclusively proving that conversion indeed is being done behind the curtains by python."
   ]
  },
  {
   "cell_type": "markdown",
   "id": "5c7d81a5-a37e-41f1-a3ee-f2a203cf9faf",
   "metadata": {},
   "source": [
    "***Note: Class method will no longer work on this function bcoz now it requires an argument and hence can only be called by the objects of the class.****"
   ]
  },
  {
   "cell_type": "markdown",
   "id": "50b1b6b7-9a56-49a4-8493-e2d7aaff6c2a",
   "metadata": {},
   "source": [
    "Lets verify it by calling the function by Class method. Now it should not work"
   ]
  },
  {
   "cell_type": "code",
   "execution_count": null,
   "id": "1db0308e-6eaa-4005-ad99-43a6578e01b2",
   "metadata": {},
   "outputs": [
    {
     "ename": "TypeError",
     "evalue": "hello() missing 1 required positional argument: 'self'",
     "output_type": "error",
     "traceback": [
      "\u001b[1;31m--------------------------------------------------------------------------\u001b[0m",
      "\u001b[1;31mTypeError\u001b[0m                                Traceback (most recent call last)",
      "Cell \u001b[1;32mIn[52], line 1\u001b[0m\n\u001b[1;32m----> 1\u001b[0m \u001b[43mStudent\u001b[49m\u001b[38;5;241;43m.\u001b[39;49m\u001b[43mhello\u001b[49m\u001b[43m(\u001b[49m\u001b[43m)\u001b[49m\n",
      "\u001b[1;31mTypeError\u001b[0m: hello() missing 1 required positional argument: 'self'"
     ]
    }
   ],
   "source": [
    "Student.hello()"
   ]
  },
  {
   "cell_type": "markdown",
   "id": "87cd595e-0e13-4907-b72c-54e00e4e4dd0",
   "metadata": {},
   "source": [
    "But once the argument is passed to the class method, then it will work bcoz then class and instance method are essentially identical after the conversion of self."
   ]
  },
  {
   "cell_type": "code",
   "execution_count": null,
   "id": "a0dfb338-5fa6-41ab-9652-348ef12e7b16",
   "metadata": {},
   "outputs": [
    {
     "name": "stdout",
     "output_type": "stream",
     "text": [
      "1851913942256\n"
     ]
    }
   ],
   "source": [
    "Student.hello(a)     \n"
   ]
  },
  {
   "cell_type": "markdown",
   "id": "d283e8f2-9c43-491c-8c98-8bc5bcf730f7",
   "metadata": {
    "tags": []
   },
   "source": [
    "### __init__"
   ]
  },
  {
   "cell_type": "markdown",
   "id": "f329c221-7659-4378-9a3f-b04b26f2a4e2",
   "metadata": {
    "tags": []
   },
   "source": [
    "* It is an initalizer method(function).\n",
    "* Python automatically runs the __init__ function whenever the object is instatinated/created.\n",
    "* It is a magic method or dunder."
   ]
  },
  {
   "cell_type": "markdown",
   "id": "d4e2b4da-62d0-47fc-b41c-ec231ebd4627",
   "metadata": {},
   "source": [
    "While creating a Student, “Gaurav” is passed as an argument, this argument will be passed to the __init__ method to initialize the object. The keyword self represents the instance of a class and binds the attributes with the given arguments. Similarly, many objects of the *Student* class can be created by passing different names as arguments."
   ]
  },
  {
   "cell_type": "code",
   "execution_count": null,
   "id": "ee036d99-cfa9-485e-a453-e42efb4c1305",
   "metadata": {},
   "outputs": [],
   "source": [
    "class Student:\n",
    "    def __init__(self, input_name):\n",
    "        self.name = input_name"
   ]
  },
  {
   "cell_type": "code",
   "execution_count": null,
   "id": "4543cd8c-6b93-44b4-b120-942cfb0c1767",
   "metadata": {},
   "outputs": [
    {
     "data": {
      "text/plain": [
       "'Gaurav'"
      ]
     },
     "execution_count": 73,
     "metadata": {},
     "output_type": "execute_result"
    }
   ],
   "source": [
    "a = Student(\"Gaurav\")\n",
    "a.name"
   ]
  },
  {
   "cell_type": "markdown",
   "id": "f1fb097a-97dd-4ff9-929b-c1de1da1581b",
   "metadata": {},
   "source": [
    "***Note: We are not specifying the func above, only class bcoz init function will auto initalize whenever an object is created.***"
   ]
  },
  {
   "cell_type": "markdown",
   "id": "7b056c7a-c7ff-4518-a9d5-dda3d2b04cc3",
   "metadata": {},
   "source": [
    "### Class Variables & Instance Variables"
   ]
  },
  {
   "cell_type": "markdown",
   "id": "dd633f12-b1b5-49c0-b78a-7e6083ef36c0",
   "metadata": {},
   "source": [
    "* Class variables are common info.\n",
    "* Instance variables are defined on object and is accessible only to the instance of that specific object.\n",
    "* Class and instance variables both are accessible from an object."
   ]
  },
  {
   "cell_type": "markdown",
   "id": "1d191dc9-821d-46fe-bde0-ddf9effebc02",
   "metadata": {},
   "source": [
    "* Class variables shows different behaviour for mutable and immutable variables.\n",
    "  * **Mutable Variable**: Class variable is itself modified\n",
    "  * **Immutable Variable**: A new instance variable is created just for that object."
   ]
  },
  {
   "cell_type": "markdown",
   "id": "946c7e7b-6b42-4542-bac6-d3bb87bad73b",
   "metadata": {},
   "source": [
    "#### Immutable Class Variable"
   ]
  },
  {
   "cell_type": "markdown",
   "id": "8d1f75d9-90e2-49ae-9df1-231aaae11541",
   "metadata": {
    "tags": []
   },
   "source": [
    "##### Before Modification:  Class Variables"
   ]
  },
  {
   "cell_type": "code",
   "execution_count": 110,
   "id": "e244cbf5-56d1-4c6e-870f-49a7366947df",
   "metadata": {},
   "outputs": [],
   "source": [
    "class Dog:\n",
    "    #kind is the class variable here\n",
    "    breed = \"Moghulhound\"    \n",
    "    def __init__(self, name):\n",
    "        #all the variables defined inside here are instance variables\n",
    "        self.name = name"
   ]
  },
  {
   "cell_type": "code",
   "execution_count": 111,
   "id": "b731e888-8162-4482-878a-51d1332b575d",
   "metadata": {},
   "outputs": [],
   "source": [
    "d1 = Dog(\"Tuffy\")\n",
    "d2 = Dog(\"Sheru\")"
   ]
  },
  {
   "cell_type": "markdown",
   "id": "ad426257-e205-4b9a-a65d-bc13cd46ed7e",
   "metadata": {},
   "source": [
    "When we check the attributes of class by object for *d1*, *d2* and *Dog* repsectively, names of the object as defined for *d1* and *d2*, while, it throws error for *Dog* since *name* is instance variable and is not defined for class.  \n",
    "\n",
    "For *breed*, we get class variable as output in all cases since class variable is always accessible to all in that class."
   ]
  },
  {
   "cell_type": "code",
   "execution_count": 112,
   "id": "7074f1b8-8681-47e3-ab72-a30bb0d87036",
   "metadata": {},
   "outputs": [
    {
     "data": {
      "text/plain": [
       "'Tuffy'"
      ]
     },
     "execution_count": 112,
     "metadata": {},
     "output_type": "execute_result"
    }
   ],
   "source": [
    "d1.name "
   ]
  },
  {
   "cell_type": "code",
   "execution_count": 113,
   "id": "b925305d-fde5-4c3d-b2ff-41725e905ab8",
   "metadata": {},
   "outputs": [
    {
     "data": {
      "text/plain": [
       "'Moghulhound'"
      ]
     },
     "execution_count": 113,
     "metadata": {},
     "output_type": "execute_result"
    }
   ],
   "source": [
    "d1.breed"
   ]
  },
  {
   "cell_type": "code",
   "execution_count": 114,
   "id": "ae8191c3-4b25-41d0-9f3e-7dcfabfc079a",
   "metadata": {},
   "outputs": [
    {
     "data": {
      "text/plain": [
       "'Sheru'"
      ]
     },
     "execution_count": 114,
     "metadata": {},
     "output_type": "execute_result"
    }
   ],
   "source": [
    "d2.name"
   ]
  },
  {
   "cell_type": "code",
   "execution_count": 115,
   "id": "9cf042b6-c82f-478d-a9ee-aa9a7f5bcf56",
   "metadata": {},
   "outputs": [
    {
     "data": {
      "text/plain": [
       "'Moghulhound'"
      ]
     },
     "execution_count": 115,
     "metadata": {},
     "output_type": "execute_result"
    }
   ],
   "source": [
    "d2.breed"
   ]
  },
  {
   "cell_type": "code",
   "execution_count": 116,
   "id": "2254a8d7-9ca0-4d0f-bdbe-d5dfd4eaf83b",
   "metadata": {},
   "outputs": [
    {
     "data": {
      "text/plain": [
       "'Moghulhound'"
      ]
     },
     "execution_count": 116,
     "metadata": {},
     "output_type": "execute_result"
    }
   ],
   "source": [
    "Dog.breed"
   ]
  },
  {
   "cell_type": "code",
   "execution_count": 117,
   "id": "f100022e-486a-4432-b773-dec5a5fc9e0b",
   "metadata": {},
   "outputs": [
    {
     "ename": "AttributeError",
     "evalue": "type object 'Dog' has no attribute 'name'",
     "output_type": "error",
     "traceback": [
      "\u001b[1;31m--------------------------------------------------------------------------\u001b[0m",
      "\u001b[1;31mAttributeError\u001b[0m                           Traceback (most recent call last)",
      "Cell \u001b[1;32mIn[117], line 1\u001b[0m\n\u001b[1;32m----> 1\u001b[0m \u001b[43mDog\u001b[49m\u001b[38;5;241;43m.\u001b[39;49m\u001b[43mname\u001b[49m\n",
      "\u001b[1;31mAttributeError\u001b[0m: type object 'Dog' has no attribute 'name'"
     ]
    }
   ],
   "source": [
    "Dog.name"
   ]
  },
  {
   "cell_type": "markdown",
   "id": "1680e9fb-6e75-441c-b56c-0848ac47f028",
   "metadata": {},
   "source": [
    "##### After Modification: Class Variables"
   ]
  },
  {
   "cell_type": "markdown",
   "id": "804fc291-03fe-4a33-8ae4-36141c40a688",
   "metadata": {},
   "source": [
    "Now we assign value *'Hutch wala Dog'* to object '*d1*', so as expected '*d1.breed*' returns new assigned value as output.  \n",
    "\n",
    "But for '*d2*' and '*Dog*', it still returns class variable as output, because, class variable is of immutable data type(string), hence, new instance variable '*Hutch wala Dog*' was created for object '*d1*' only."
   ]
  },
  {
   "cell_type": "code",
   "execution_count": 118,
   "id": "a599a54c-a8dc-42f5-9f8d-37f2dcf48a26",
   "metadata": {},
   "outputs": [],
   "source": [
    "d1.breed = \"Hutch wala Dog!\""
   ]
  },
  {
   "cell_type": "code",
   "execution_count": 119,
   "id": "82e973ba-11ea-4f05-b0b8-b706c163d706",
   "metadata": {},
   "outputs": [
    {
     "data": {
      "text/plain": [
       "'Hutch wala Dog!'"
      ]
     },
     "execution_count": 119,
     "metadata": {},
     "output_type": "execute_result"
    }
   ],
   "source": [
    "d1.breed"
   ]
  },
  {
   "cell_type": "code",
   "execution_count": 120,
   "id": "79195c8e-3988-463c-8e8b-9c52c8066cc7",
   "metadata": {},
   "outputs": [
    {
     "data": {
      "text/plain": [
       "'Moghulhound'"
      ]
     },
     "execution_count": 120,
     "metadata": {},
     "output_type": "execute_result"
    }
   ],
   "source": [
    "d2.breed"
   ]
  },
  {
   "cell_type": "code",
   "execution_count": 121,
   "id": "430a502e-56d6-47dc-b4ca-6589c6e6effe",
   "metadata": {},
   "outputs": [
    {
     "data": {
      "text/plain": [
       "'Moghulhound'"
      ]
     },
     "execution_count": 121,
     "metadata": {},
     "output_type": "execute_result"
    }
   ],
   "source": [
    "Dog.breed"
   ]
  },
  {
   "cell_type": "markdown",
   "id": "c89b0c5c-c50a-4ca6-aa8a-f993e9ee0c83",
   "metadata": {},
   "source": [
    "#### Mutable Class Variable"
   ]
  },
  {
   "cell_type": "code",
   "execution_count": 122,
   "id": "c7c632c1-0dbc-4c6a-820e-ea1de2024093",
   "metadata": {},
   "outputs": [],
   "source": [
    "class Dog:\n",
    "    #tricks is the class variable here\n",
    "    tricks = []\n",
    "       \n",
    "    def __init__(self, name):\n",
    "        self.name = name\n",
    "    def teach_tricks(self, trick):\n",
    "        self.tricks.append(trick)"
   ]
  },
  {
   "cell_type": "markdown",
   "id": "19b92c73-8242-4000-b895-9b7f4151d828",
   "metadata": {},
   "source": [
    "##### Before Modification:  Class Variables"
   ]
  },
  {
   "cell_type": "markdown",
   "id": "07156707-c371-4c76-a2d3-2c7758a9f09a",
   "metadata": {},
   "source": [
    "As expected, we get empty list as output for objects '*d1*' and '*d2*' as well as for class '*Dog*', since the class variable is an empty list."
   ]
  },
  {
   "cell_type": "code",
   "execution_count": 123,
   "id": "e3b7e5c1-df33-412c-af13-003e29a89246",
   "metadata": {},
   "outputs": [],
   "source": [
    "d1 = Dog(\"Tuffy\")\n",
    "d2 = Dog(\"Sheru\")"
   ]
  },
  {
   "cell_type": "code",
   "execution_count": 124,
   "id": "0ad1c284-cb18-451c-a5d2-c47e9539bcec",
   "metadata": {},
   "outputs": [
    {
     "data": {
      "text/plain": [
       "[]"
      ]
     },
     "execution_count": 124,
     "metadata": {},
     "output_type": "execute_result"
    }
   ],
   "source": [
    "d1.tricks"
   ]
  },
  {
   "cell_type": "code",
   "execution_count": 125,
   "id": "14371b7a-4e4c-4411-8921-f290998f3a3b",
   "metadata": {},
   "outputs": [
    {
     "data": {
      "text/plain": [
       "[]"
      ]
     },
     "execution_count": 125,
     "metadata": {},
     "output_type": "execute_result"
    }
   ],
   "source": [
    "d2.tricks"
   ]
  },
  {
   "cell_type": "code",
   "execution_count": 126,
   "id": "eb35b8a4-7d18-48c8-b694-949f90c26ad4",
   "metadata": {},
   "outputs": [
    {
     "data": {
      "text/plain": [
       "[]"
      ]
     },
     "execution_count": 126,
     "metadata": {},
     "output_type": "execute_result"
    }
   ],
   "source": [
    "Dog.tricks"
   ]
  },
  {
   "cell_type": "markdown",
   "id": "1d874ebc-4302-4200-96f9-e82031357f12",
   "metadata": {},
   "source": [
    "##### After Modification: Class Variables"
   ]
  },
  {
   "cell_type": "markdown",
   "id": "0af5aae5-a92c-46f6-a0a6-029f7251cec2",
   "metadata": {},
   "source": [
    "After assigning new values to class variables for object '*d1*', we get a list with expected values as output for '*d1*'.  \n",
    "\n",
    "But, when we check 'd2' and 'Dog', we again get the list with modified values as output, because, class variable is a mutable data type(list), it will change the existing class variable, which is accessible to all the objects in that class."
   ]
  },
  {
   "cell_type": "code",
   "execution_count": 127,
   "id": "82e7ae03-4731-4b02-baea-b49249c0bf75",
   "metadata": {},
   "outputs": [],
   "source": [
    "d1.teach_tricks(\"Jump\")"
   ]
  },
  {
   "cell_type": "code",
   "execution_count": 128,
   "id": "d9c1d4ef-6cb7-496a-b1ab-5fae1812b66f",
   "metadata": {},
   "outputs": [],
   "source": [
    "d1.teach_tricks(\"Sit\")"
   ]
  },
  {
   "cell_type": "code",
   "execution_count": 129,
   "id": "557099dd-fd37-4f00-91bb-37d18c381a2b",
   "metadata": {},
   "outputs": [
    {
     "data": {
      "text/plain": [
       "['Jump', 'Sit']"
      ]
     },
     "execution_count": 129,
     "metadata": {},
     "output_type": "execute_result"
    }
   ],
   "source": [
    "d1.tricks"
   ]
  },
  {
   "cell_type": "code",
   "execution_count": 130,
   "id": "a5909b5a-6fa1-47bc-ba5b-ac61bde0507a",
   "metadata": {},
   "outputs": [
    {
     "data": {
      "text/plain": [
       "['Jump', 'Sit']"
      ]
     },
     "execution_count": 130,
     "metadata": {},
     "output_type": "execute_result"
    }
   ],
   "source": [
    "d2.tricks"
   ]
  },
  {
   "cell_type": "code",
   "execution_count": 131,
   "id": "82b66719-fb73-4fd9-991a-7e2ebaea884f",
   "metadata": {},
   "outputs": [
    {
     "data": {
      "text/plain": [
       "['Jump', 'Sit']"
      ]
     },
     "execution_count": 131,
     "metadata": {},
     "output_type": "execute_result"
    }
   ],
   "source": [
    "Dog.tricks"
   ]
  },
  {
   "cell_type": "markdown",
   "id": "b9c82ba4-8dc2-4e38-9d62-b8fc6805aedc",
   "metadata": {
    "tags": []
   },
   "source": [
    "### Magic Methods/ Dunders"
   ]
  },
  {
   "cell_type": "markdown",
   "id": "b9e96ab1-e009-4f7b-956d-5bf5a9b65be0",
   "metadata": {},
   "source": [
    "Method names that have leading and trailing doublescores are resrved methods by python for special uses.\n",
    "https://rszalski.github.io/magicmethods/\n",
    "https://docs.python.org/3/reference/datamodel.html"
   ]
  },
  {
   "cell_type": "markdown",
   "id": "c314ea65-1481-454a-9e7a-d311a2d71891",
   "metadata": {},
   "source": [
    "By default, objects prints the name of the class along with the id of the object. But more often than not we would rather prefer to print the attributes of object. \n",
    "\n",
    "To accomplish this, we can use existing dunder str method. In similar fashion, there are hundreds of dunder that can be used for performing different actions. "
   ]
  },
  {
   "cell_type": "code",
   "execution_count": 135,
   "id": "bd866278-8a48-4f6b-a872-c5b047973704",
   "metadata": {},
   "outputs": [],
   "source": [
    "class Car:\n",
    "    def __init__(self, name, milaege):\n",
    "        self.name = name\n",
    "        self.milaege = milaege"
   ]
  },
  {
   "cell_type": "code",
   "execution_count": 136,
   "id": "17f27124-2dbb-4066-92d3-6b62c5562b6e",
   "metadata": {},
   "outputs": [],
   "source": [
    "c1 = Car(\"Nexon\", 13)\n",
    "c2 = Car(\"Altroz\", 14)"
   ]
  },
  {
   "cell_type": "code",
   "execution_count": 137,
   "id": "468bd56e-124a-4687-85af-e952860930e6",
   "metadata": {},
   "outputs": [
    {
     "name": "stdout",
     "output_type": "stream",
     "text": [
      "<__main__.Car object at 0x000001AF30642820>\n"
     ]
    }
   ],
   "source": [
    "print(c1)"
   ]
  },
  {
   "cell_type": "markdown",
   "id": "39ff2081-935e-42ba-9152-ce55d90888b7",
   "metadata": {},
   "source": [
    "#### __str__"
   ]
  },
  {
   "cell_type": "markdown",
   "id": "d3445758-3298-40d6-b78f-6187a362a203",
   "metadata": {},
   "source": [
    "str method will return a printable string representation of any user defined class.  \n",
    "\n",
    "As opposed to above, we are now able to print the attributes of the object as desired using the *str* dunder."
   ]
  },
  {
   "cell_type": "code",
   "execution_count": 11,
   "id": "1c8fdded-5166-42e5-9f3a-04150d33ad9b",
   "metadata": {},
   "outputs": [],
   "source": [
    "class Car:\n",
    "    def __init__(self, name, milaege):\n",
    "        self.name = name\n",
    "        self.milaege = milaege\n",
    "        \n",
    "    def __str__(self):\n",
    "        return f\"{self.name} -> {self.milaege}\""
   ]
  },
  {
   "cell_type": "code",
   "execution_count": 12,
   "id": "bbff178f-30bd-4301-b9e9-5c4b1deb679e",
   "metadata": {},
   "outputs": [],
   "source": [
    "c1 = Car(\"Nexon\", 13)\n",
    "c2 = Car(\"Altroz\", 14)"
   ]
  },
  {
   "cell_type": "code",
   "execution_count": 13,
   "id": "8ea6cf50-2e0c-4656-9d9a-4283b97fbb44",
   "metadata": {},
   "outputs": [
    {
     "name": "stdout",
     "output_type": "stream",
     "text": [
      "Nexon -> 13\n"
     ]
    }
   ],
   "source": [
    "print(c1)"
   ]
  },
  {
   "cell_type": "code",
   "execution_count": 14,
   "id": "56d516d2-8e77-4d4b-ae21-e9a621596360",
   "metadata": {},
   "outputs": [
    {
     "name": "stdout",
     "output_type": "stream",
     "text": [
      "Altroz -> 14\n"
     ]
    }
   ],
   "source": [
    "print(c2)"
   ]
  },
  {
   "cell_type": "markdown",
   "id": "0874c436-861d-4ce0-8592-affe180aa458",
   "metadata": {},
   "source": [
    "But let's say, we want to add these two strings, then it will not work and throw error as shown below. "
   ]
  },
  {
   "cell_type": "code",
   "execution_count": 15,
   "id": "4a469d30-85ea-4aca-87dd-2330a171bc07",
   "metadata": {},
   "outputs": [
    {
     "ename": "TypeError",
     "evalue": "unsupported operand type(s) for +: 'Car' and 'Car'",
     "output_type": "error",
     "traceback": [
      "\u001b[1;31m--------------------------------------------------------------------------\u001b[0m",
      "\u001b[1;31mTypeError\u001b[0m                                Traceback (most recent call last)",
      "Cell \u001b[1;32mIn[15], line 1\u001b[0m\n\u001b[1;32m----> 1\u001b[0m \u001b[43mc1\u001b[49m\u001b[43m \u001b[49m\u001b[38;5;241;43m+\u001b[39;49m\u001b[43m \u001b[49m\u001b[43mc2\u001b[49m\n",
      "\u001b[1;31mTypeError\u001b[0m: unsupported operand type(s) for +: 'Car' and 'Car'"
     ]
    }
   ],
   "source": [
    "c1 + c2"
   ]
  },
  {
   "cell_type": "markdown",
   "id": "f2ad59f7-aead-49a5-a239-363c023c0254",
   "metadata": {},
   "source": [
    "Basically, what is happening here is that '+' operator looks for add dunder, since, it is not available, it will throw up error.\n",
    "c1 + c2 gets converted into something like this:  \n",
    "\n",
    "    c1.__add__(c2) where add is the dunder method and c1 c2 are objects"
   ]
  },
  {
   "cell_type": "markdown",
   "id": "d36bbae7-78b9-44cd-84e9-88598d4ad06a",
   "metadata": {},
   "source": [
    "#### __add__"
   ]
  },
  {
   "cell_type": "markdown",
   "id": "fbe37b05-a233-4997-be48-5374aac91ff8",
   "metadata": {},
   "source": [
    "Now, here we have defined add dunder method."
   ]
  },
  {
   "cell_type": "code",
   "execution_count": 17,
   "id": "ea9e4e38-8f30-4d93-baab-63a7c836080c",
   "metadata": {},
   "outputs": [],
   "source": [
    "class Car:\n",
    "    def __init__(self, name, milaege):\n",
    "        self.name = name\n",
    "        self.milaege = milaege\n",
    "    \n",
    "    def __add__(self, other):\n",
    "        return self.name + other.name"
   ]
  },
  {
   "cell_type": "code",
   "execution_count": 18,
   "id": "79102f81-05b8-41c8-890c-144a35dece42",
   "metadata": {},
   "outputs": [],
   "source": [
    "c1 = Car(\"Nexon\", 13)\n",
    "c2 = Car(\"Altroz\", 14)"
   ]
  },
  {
   "cell_type": "code",
   "execution_count": 19,
   "id": "465c3ea4-350e-47ed-bf5b-9a5eebda4b03",
   "metadata": {},
   "outputs": [
    {
     "data": {
      "text/plain": [
       "'NexonAltroz'"
      ]
     },
     "execution_count": 19,
     "metadata": {},
     "output_type": "execute_result"
    }
   ],
   "source": [
    "c1 + c2"
   ]
  },
  {
   "cell_type": "markdown",
   "id": "2fe492de-4291-40d3-8ef7-1c0fdf356854",
   "metadata": {},
   "source": [
    "#### gt"
   ]
  },
  {
   "cell_type": "markdown",
   "id": "f163a10d-81cd-428b-84c5-76b53805e3f8",
   "metadata": {},
   "source": [
    "gt is the dunder method for greater than."
   ]
  },
  {
   "cell_type": "code",
   "execution_count": 20,
   "id": "2b3e9e08-4668-4da6-89f9-1c716ccbf44d",
   "metadata": {},
   "outputs": [],
   "source": [
    "class Car:\n",
    "    def __init__(self, name, milaege):\n",
    "        self.name = name\n",
    "        self.milaege = milaege\n",
    "        \n",
    "    def __str__(self):\n",
    "        return f\"{self.name} -> {self.milaege}\"\n",
    "    \n",
    "    def __add__(self, other):\n",
    "        return self.name + other.name\n",
    "    \n",
    "    def __gt__(self, other):\n",
    "        return self.milaege > other.milaege"
   ]
  },
  {
   "cell_type": "code",
   "execution_count": 21,
   "id": "202716e8-cc5c-49e5-b7c0-3a3b0c6a46d3",
   "metadata": {},
   "outputs": [],
   "source": [
    "c1 = Car(\"Nexon\", 13)\n",
    "c2 = Car(\"Altroz\", 14)"
   ]
  },
  {
   "cell_type": "code",
   "execution_count": 22,
   "id": "1e062643-7ee2-4c23-ad2a-2d9d78acce63",
   "metadata": {},
   "outputs": [
    {
     "data": {
      "text/plain": [
       "False"
      ]
     },
     "execution_count": 22,
     "metadata": {},
     "output_type": "execute_result"
    }
   ],
   "source": [
    "c1 > c2"
   ]
  },
  {
   "cell_type": "markdown",
   "id": "15fcafc4-813b-410e-8612-f30172145fac",
   "metadata": {},
   "source": [
    "and there anre many more dunders to explore for all kinds of operations"
   ]
  },
  {
   "cell_type": "markdown",
   "id": "15062ebd-10bc-4e85-be6c-71fc00a091d8",
   "metadata": {},
   "source": [
    "### Access Modifiers"
   ]
  },
  {
   "cell_type": "markdown",
   "id": "ecd63e30-27ef-4c58-a5cc-6718fe1edabd",
   "metadata": {},
   "source": [
    "Python uses ‘_’ symbol to determine the access control for a specific data member or a member function of a class. Access specifiers in Python have an important role to play in securing data from unauthorized access and in preventing it from being exploited."
   ]
  },
  {
   "cell_type": "markdown",
   "id": "7dda81e3-755e-4e55-b016-46c795cb023d",
   "metadata": {},
   "source": [
    "A Class in Python has three types of access modifiers:\n",
    "* **Public Access Modifier (Public Variables)**\n",
    "* **Private Access Modifier (Private Variables)**"
   ]
  },
  {
   "cell_type": "markdown",
   "id": "95b96d3d-9957-4473-8712-558414062a51",
   "metadata": {},
   "source": [
    "#### Public Variables"
   ]
  },
  {
   "cell_type": "markdown",
   "id": "803bdf89-0607-49a9-9040-b505c4accda2",
   "metadata": {},
   "source": [
    "* The members of a class that are declared public are easily accessible from any part of the program.\n",
    "* All data members and member functions of a class are public by default."
   ]
  },
  {
   "cell_type": "markdown",
   "id": "892bd942-e535-469c-b8f7-d6d4facb997b",
   "metadata": {},
   "source": [
    "Lets say we create a class '*BankAccount*'. We withdraw or deposit money an accordingly change the balance in BankAccount. So, if we try to access balance variable from outside the class it is accessible."
   ]
  },
  {
   "cell_type": "code",
   "execution_count": 58,
   "id": "557338ce-ea91-4ee5-b094-7226e7a118c1",
   "metadata": {},
   "outputs": [],
   "source": [
    "class BankAccount:\n",
    "    def __init__(self, initial_balance):\n",
    "        self.balance = initial_balance # __balance is a public variable\n",
    "        \n",
    "    def withdraw(self, amount):\n",
    "        self.balance -= amount\n",
    "        \n",
    "    def deposit(self, amount):\n",
    "        self.balance += amount"
   ]
  },
  {
   "cell_type": "code",
   "execution_count": 59,
   "id": "e518878d-343c-465b-a3b2-79f90b9ffed9",
   "metadata": {},
   "outputs": [],
   "source": [
    "b1 = BankAccount(10000)"
   ]
  },
  {
   "cell_type": "code",
   "execution_count": 61,
   "id": "bb3a13cc-f8eb-4b5f-b412-025eabd9887e",
   "metadata": {},
   "outputs": [
    {
     "data": {
      "text/plain": [
       "10000"
      ]
     },
     "execution_count": 61,
     "metadata": {},
     "output_type": "execute_result"
    }
   ],
   "source": [
    "# Accessing public variable via object from outside the class\n",
    "b1.balance"
   ]
  },
  {
   "cell_type": "code",
   "execution_count": 62,
   "id": "d86ee313-7ff8-42ce-a1b1-98c43e44c066",
   "metadata": {},
   "outputs": [],
   "source": [
    "b1.deposit(5000)"
   ]
  },
  {
   "cell_type": "code",
   "execution_count": 63,
   "id": "29aceb25-7df3-4cfe-92ec-7793c5e3864a",
   "metadata": {},
   "outputs": [],
   "source": [
    "b1.withdraw(15000)"
   ]
  },
  {
   "cell_type": "code",
   "execution_count": 64,
   "id": "43425c5d-64cf-4b21-b707-ee706e8da0ef",
   "metadata": {},
   "outputs": [
    {
     "data": {
      "text/plain": [
       "0"
      ]
     },
     "execution_count": 64,
     "metadata": {},
     "output_type": "execute_result"
    }
   ],
   "source": [
    "b1.balance"
   ]
  },
  {
   "cell_type": "code",
   "execution_count": 67,
   "id": "4b8832e8-6401-415d-910d-cfbe8b1976b6",
   "metadata": {},
   "outputs": [],
   "source": [
    "# Modifying the variable directly\n",
    "b1.balance = 12345678909876678909876543212345678987654321"
   ]
  },
  {
   "cell_type": "markdown",
   "id": "89748e0d-a9e5-42db-acf6-2b2fbf8ac2b5",
   "metadata": {},
   "source": [
    "#### Private Variables"
   ]
  },
  {
   "cell_type": "markdown",
   "id": "b7b2b005-3668-4cf6-b4ae-a47f93a73843",
   "metadata": {},
   "source": [
    "* The members of a class that are declared private are accessible within the class only, private access modifier is the most secure access modifier. \n",
    "* Data members of a class are declared private by adding a double underscore ‘__’ symbol before the data member of that class. "
   ]
  },
  {
   "cell_type": "markdown",
   "id": "7fb4511b-5942-416c-8f1a-243c0fab374b",
   "metadata": {},
   "source": [
    "**Note: There is no such thing as truly private in python. Python emulates the partial private behaviour due to name mangling.**"
   ]
  },
  {
   "cell_type": "markdown",
   "id": "330cda7c-c966-4d86-83fc-358ca13c1442",
   "metadata": {},
   "source": [
    "We have created the identical '*BankAccount*'  class as above but here we will use private varaible for balance variable.  \n",
    "\n",
    "Now if we try to access balance variable outside the class\n",
    " it will throw up error because now the variables are priate, hence, not accessible outside the class."
   ]
  },
  {
   "cell_type": "code",
   "execution_count": 72,
   "id": "46a34b61-c0e8-41bf-a3f5-8ff638247141",
   "metadata": {},
   "outputs": [],
   "source": [
    "class BankAccount:\n",
    "    def __init__(self, initial_balance):\n",
    "        self.__balance = initial_balance # __balance is a private variable\n",
    "        \n",
    "    def withdraw(self, amount):\n",
    "        self.__balance -= amount\n",
    "        \n",
    "    def deposit(self, amount):\n",
    "        self.__balance += amount"
   ]
  },
  {
   "cell_type": "code",
   "execution_count": 73,
   "id": "0a5d9fc8-a82b-44f6-82a3-dafa31acc489",
   "metadata": {},
   "outputs": [],
   "source": [
    "b1 = BankAccount(10000)"
   ]
  },
  {
   "cell_type": "code",
   "execution_count": 74,
   "id": "3b68a9d7-2289-4f93-a95a-d7a856b1367d",
   "metadata": {},
   "outputs": [
    {
     "ename": "AttributeError",
     "evalue": "'BankAccount' object has no attribute '__balance'",
     "output_type": "error",
     "traceback": [
      "\u001b[1;31m--------------------------------------------------------------------------\u001b[0m",
      "\u001b[1;31mAttributeError\u001b[0m                           Traceback (most recent call last)",
      "Cell \u001b[1;32mIn[74], line 2\u001b[0m\n\u001b[0;32m      1\u001b[0m \u001b[38;5;66;03m# Accessing the private varaible from outside the class\u001b[39;00m\n\u001b[1;32m----> 2\u001b[0m \u001b[43mb1\u001b[49m\u001b[38;5;241;43m.\u001b[39;49m\u001b[43m__balance\u001b[49m\n",
      "\u001b[1;31mAttributeError\u001b[0m: 'BankAccount' object has no attribute '__balance'"
     ]
    }
   ],
   "source": [
    "# Accessing the private varaible from outside the class\n",
    "b1.__balance"
   ]
  },
  {
   "cell_type": "markdown",
   "id": "61547e9e-ca6b-486d-b31b-b0b248e171d7",
   "metadata": {},
   "source": [
    "**Note: So, now to access the balalnce we will define a show_balalnce method which will return the balance accessing the private varaible from inside the class.**"
   ]
  },
  {
   "cell_type": "code",
   "execution_count": 78,
   "id": "d15163fc-8ab5-4dad-b550-64f01367384d",
   "metadata": {},
   "outputs": [],
   "source": [
    "class BankAccount:\n",
    "    def __init__(self, initial_balance):\n",
    "        self.__balance = initial_balance # __balance is a private variable\n",
    "        \n",
    "    def withdraw(self, amount):\n",
    "        self.__balance -= amount\n",
    "        \n",
    "    def deposit(self, amount):\n",
    "        self.__balance += amount\n",
    "        \n",
    "    def show_balance(self):\n",
    "        return f\"Balance = {self.__balance}\"\n"
   ]
  },
  {
   "cell_type": "code",
   "execution_count": 80,
   "id": "00640991-3b75-4884-91f1-c9ae89697ed9",
   "metadata": {},
   "outputs": [],
   "source": [
    "b1 = BankAccount(10000)"
   ]
  },
  {
   "cell_type": "code",
   "execution_count": 81,
   "id": "5d6b106b-d613-4ada-87d3-84748d47a16d",
   "metadata": {},
   "outputs": [
    {
     "data": {
      "text/plain": [
       "'Balance = 10000'"
      ]
     },
     "execution_count": 81,
     "metadata": {},
     "output_type": "execute_result"
    }
   ],
   "source": [
    "b1.show_balance()"
   ]
  },
  {
   "cell_type": "markdown",
   "id": "9231ad6e-a2fd-4df2-a2ae-a84a6314b7f8",
   "metadata": {},
   "source": [
    "**Caution: Even though we are not able to access the private variable. We are able to modify the balance below.**\n",
    "\n",
    "#### **How is this possible??!!**"
   ]
  },
  {
   "cell_type": "code",
   "execution_count": 82,
   "id": "bddeae0c-e23f-402b-a215-10039986811a",
   "metadata": {},
   "outputs": [],
   "source": [
    "b1.__balance = 123456654321345678987654321234567897654321"
   ]
  },
  {
   "cell_type": "code",
   "execution_count": 83,
   "id": "806f6d07-3e97-4a3d-a170-7b9aa2a9d1e4",
   "metadata": {},
   "outputs": [
    {
     "data": {
      "text/plain": [
       "123456654321345678987654321234567897654321"
      ]
     },
     "execution_count": 83,
     "metadata": {},
     "output_type": "execute_result"
    }
   ],
   "source": [
    "b1.__balance"
   ]
  },
  {
   "cell_type": "markdown",
   "id": "d25759a1-b745-47c4-a79d-ef036d22be19",
   "metadata": {},
   "source": [
    "Even though *b1.__balance* is now accessible and is returning the modified value, but, when we check the balance via *show_balance* method it still shows the correct balance and is not modified."
   ]
  },
  {
   "cell_type": "code",
   "execution_count": 84,
   "id": "3085d48b-e850-41ee-a63f-0538e701e808",
   "metadata": {},
   "outputs": [
    {
     "data": {
      "text/plain": [
       "'Balance = 10000'"
      ]
     },
     "execution_count": 84,
     "metadata": {},
     "output_type": "execute_result"
    }
   ],
   "source": [
    "b1.show_balance()"
   ]
  },
  {
   "cell_type": "markdown",
   "id": "9e7bcaac-33b4-4333-9b53-d77609d6c699",
   "metadata": {},
   "source": [
    "Reason why it is happening is called ***Name Mangling***."
   ]
  },
  {
   "cell_type": "markdown",
   "id": "3638d2dc-1aa9-4fb5-a238-832fe72b4470",
   "metadata": {},
   "source": [
    "#### Name Mangling"
   ]
  },
  {
   "cell_type": "markdown",
   "id": "df1da006-d42b-4fdf-949a-db878880cfe4",
   "metadata": {},
   "source": [
    "So, in python whenever a private variable is created:\n",
    "\n",
    "* Instead of creating that variable, python automatically creates a variable by the name following the below format:  \n",
    "\n",
    "    ***_ClassName_PrivateVariableName***'\n",
    "\n",
    "* In essence, python is not actually creating a private variable but rather auto converting the name of variable into the specified format, and, hence, emulating the private variable behaviour."
   ]
  },
  {
   "cell_type": "markdown",
   "id": "7a6ea52f-5def-49ef-8c76-dfda1eb5b3a0",
   "metadata": {},
   "source": [
    "So, b1.__balance is actually converted by python into b1_BankAccount.__balance.  \n",
    "\n",
    "#### ***b1.__balance -->  b1_BankAccount.__balance***"
   ]
  },
  {
   "cell_type": "markdown",
   "id": "c1dd3176-8e53-433d-9dde-b312b6d83020",
   "metadata": {},
   "source": [
    "##### Question:\n",
    "    So, in reality, __balance was never even created inside the class. So then how can we even access and generate output from b1.__balance as happening above?\n",
    "\n",
    "##### Explanation\n",
    "    What we accessed was not the original variable, but rather a new instance variable got created when we assigned value to it. So this variable is in no way connected to our private variable inside the class."
   ]
  },
  {
   "cell_type": "markdown",
   "id": "60a9f697-bed8-4fdd-9dc3-a91678c4c270",
   "metadata": {
    "tags": []
   },
   "source": [
    "##### Accessing the private variable\n",
    "    Now coming to our private variable, so, to actually access the variable, we will have to use the variable name created after name mangling conversion.\n"
   ]
  },
  {
   "cell_type": "markdown",
   "id": "4c828424-55c9-44ce-b71a-91c4d07a2246",
   "metadata": {},
   "source": [
    "***b1_BankAccount.__balance***"
   ]
  },
  {
   "cell_type": "code",
   "execution_count": 85,
   "id": "9ac0425e-f840-49f4-8b56-442526c3435b",
   "metadata": {},
   "outputs": [
    {
     "data": {
      "text/plain": [
       "10000"
      ]
     },
     "execution_count": 85,
     "metadata": {},
     "output_type": "execute_result"
    }
   ],
   "source": [
    "# Accessing private variable after Name mangling the variable\n",
    "b1._BankAccount__balance"
   ]
  },
  {
   "cell_type": "markdown",
   "id": "c523e01f-741c-4a96-93ce-560b662c738f",
   "metadata": {},
   "source": [
    "Lets verify that if we are actually able to access and perform actions on the private variable."
   ]
  },
  {
   "cell_type": "code",
   "execution_count": 87,
   "id": "031d79a3-1193-4e05-8e9f-40947b3e58f7",
   "metadata": {},
   "outputs": [],
   "source": [
    "b1._BankAccount__balance = 0"
   ]
  },
  {
   "cell_type": "code",
   "execution_count": 88,
   "id": "2b70cdb9-ae66-4031-8989-391394acbe5f",
   "metadata": {},
   "outputs": [
    {
     "data": {
      "text/plain": [
       "'Balance = 0'"
      ]
     },
     "execution_count": 88,
     "metadata": {},
     "output_type": "execute_result"
    }
   ],
   "source": [
    "b1.show_balance()"
   ]
  },
  {
   "cell_type": "markdown",
   "id": "2a47e6ef-10eb-483a-998a-8c2c3b4b2208",
   "metadata": {},
   "source": [
    "As seen above, once the correct variable name is given, we are actually able to access and modify the private variable like any other variable."
   ]
  },
  {
   "cell_type": "markdown",
   "id": "72e973e4-20c0-4d2f-817e-49b61614a2d1",
   "metadata": {},
   "source": [
    "### Inheritence"
   ]
  },
  {
   "cell_type": "markdown",
   "id": "2ff82591-ab80-40bb-a6cd-2e40b3eb2394",
   "metadata": {},
   "source": [
    "Inheritance allows us to create a new class from an existing class."
   ]
  },
  {
   "cell_type": "markdown",
   "id": "60443d0c-e5fc-4cfd-9d60-e6b86b833931",
   "metadata": {},
   "source": [
    "#### Mutli-Level Inheritence"
   ]
  },
  {
   "cell_type": "markdown",
   "id": "08fe624c-b97c-4972-96ba-78c3b4db14fc",
   "metadata": {},
   "source": [
    "Here, inhertience is passing from a parent class to child classes and so on and so forth.\n",
    "\n",
    "For eg: '*SchoolMember*'' is the parent class. We create two more classes '*Student* & '*Staff*' both of which will take '*SchoolMember*'' as its parent class. Then again another child class '*Teacher*' is created whose parent class will be '*Staff*'."
   ]
  },
  {
   "cell_type": "code",
   "execution_count": 103,
   "id": "d5f8084f-9c4d-43d6-80b8-410517ad6976",
   "metadata": {},
   "outputs": [],
   "source": [
    "class SchoolMember:\n",
    "    def __init__(self, name):\n",
    "        self.name = name\n",
    "        \n",
    "class Student(SchoolMember): #Inheriting from Parent Class 'SchoolMember'\n",
    "    def __init__(self, name, age):\n",
    "        self.age = age\n",
    "        \n",
    "class Staff(SchoolMember):\n",
    "    def __init__(self, name, salary):\n",
    "        self.salary = salary\n",
    "        \n",
    "class Teacher(Staff):\n",
    "    def __init__(self, name, salary, department):\n",
    "        self.department = department\n",
    "        "
   ]
  },
  {
   "cell_type": "code",
   "execution_count": 104,
   "id": "f4172243-9da2-45ee-b6ac-d2a0e65432ab",
   "metadata": {},
   "outputs": [],
   "source": [
    "t1 = Teacher(\"Gaurav\", 30000, \"Computer Science\")"
   ]
  },
  {
   "cell_type": "code",
   "execution_count": 105,
   "id": "29fabc35-acf4-418b-8050-0a8a04be3ee3",
   "metadata": {},
   "outputs": [
    {
     "data": {
      "text/plain": [
       "'Computer Science'"
      ]
     },
     "execution_count": 105,
     "metadata": {},
     "output_type": "execute_result"
    }
   ],
   "source": [
    "t1.department"
   ]
  },
  {
   "cell_type": "code",
   "execution_count": 106,
   "id": "345bd528-60ac-4e79-ac52-00e4516b5e74",
   "metadata": {},
   "outputs": [
    {
     "ename": "AttributeError",
     "evalue": "'Teacher' object has no attribute 'name'",
     "output_type": "error",
     "traceback": [
      "\u001b[1;31m--------------------------------------------------------------------------\u001b[0m",
      "\u001b[1;31mAttributeError\u001b[0m                           Traceback (most recent call last)",
      "Cell \u001b[1;32mIn[106], line 1\u001b[0m\n\u001b[1;32m----> 1\u001b[0m \u001b[43mt1\u001b[49m\u001b[38;5;241;43m.\u001b[39;49m\u001b[43mname\u001b[49m\n",
      "\u001b[1;31mAttributeError\u001b[0m: 'Teacher' object has no attribute 'name'"
     ]
    }
   ],
   "source": [
    "t1.name"
   ]
  },
  {
   "cell_type": "code",
   "execution_count": 107,
   "id": "16e0d9d6-2451-4ca0-b8e3-3380c75df3d4",
   "metadata": {},
   "outputs": [
    {
     "ename": "AttributeError",
     "evalue": "'Teacher' object has no attribute 'salary'",
     "output_type": "error",
     "traceback": [
      "\u001b[1;31m--------------------------------------------------------------------------\u001b[0m",
      "\u001b[1;31mAttributeError\u001b[0m                           Traceback (most recent call last)",
      "Cell \u001b[1;32mIn[107], line 1\u001b[0m\n\u001b[1;32m----> 1\u001b[0m \u001b[43mt1\u001b[49m\u001b[38;5;241;43m.\u001b[39;49m\u001b[43msalary\u001b[49m\n",
      "\u001b[1;31mAttributeError\u001b[0m: 'Teacher' object has no attribute 'salary'"
     ]
    }
   ],
   "source": [
    "t1.salary"
   ]
  },
  {
   "cell_type": "markdown",
   "id": "bc8e354c-a96f-42ad-b600-817ff8760b46",
   "metadata": {},
   "source": [
    "##### Question:\n",
    "    So, above here when we call the 'department' attribute it returns the expected output but for name and salary it fails. So Why did it fail below?\n",
    "\n",
    "##### Explanation\n",
    "\n",
    "    As we know, an instance variable is created when 'init' method is called and 'init' method is created when the object of that class is created.\n",
    "\n",
    "    So, when we create object 't1' for class 'teacher', it calls the 'init' method for class 'Teacher' which in turns creates the instance variable for attribute 'department' using 'init'. So, department returns the expected output.\n",
    "\n",
    "    Since, no object was created for the class 'Staff' and 'SchoolMemeber', hence, no 'init' method was called on them and ,hence, in return no instance variable was created. So utlimately, python never finds the relevant classes and its attributes since it was never called.\n",
    "\n",
    "##### Calling the init method of parent class or using super method\n",
    "\n",
    "    As explained above, we need to call the relevant classes for the attributes of parent class. We can do it manually or we can use super method. Both achieve the same outcome.\n",
    "\n",
    "    For example, for 'teacher' class we need to call init function of its parent class 'staff' and so on and so forth as shown below."
   ]
  },
  {
   "cell_type": "markdown",
   "id": "63c94744-6da8-491d-9f85-471061162420",
   "metadata": {},
   "source": [
    "**Staff.__init__(self, name, salary)**  \n",
    "or  \n",
    "**super().__init__(name, salary)**"
   ]
  },
  {
   "cell_type": "markdown",
   "id": "3445b029-0ef2-467d-a4be-3f80b5a619ea",
   "metadata": {},
   "source": [
    "##### super"
   ]
  },
  {
   "cell_type": "code",
   "execution_count": 108,
   "id": "85eebf50-e7d2-4185-bd5f-af8aaf656925",
   "metadata": {},
   "outputs": [],
   "source": [
    "class SchoolMember:\n",
    "    def __init__(self, name):\n",
    "        self.name = name\n",
    "        \n",
    "class Student(SchoolMember):\n",
    "    def __init__(self, name, age):\n",
    "        self.age = age\n",
    "        \n",
    "        super().__init__(name)\n",
    "        \n",
    "class Staff(SchoolMember):\n",
    "    def __init__(self, name, salary):\n",
    "        self.salary = salary\n",
    "        \n",
    "        super().__init__(name)\n",
    "        \n",
    "class Teacher(Staff):\n",
    "    def __init__(self, name, salary, department):\n",
    "        self.department = department\n",
    "        # Calling parent class manually\n",
    "        # Staff.__init__(self, name, salary) \n",
    "        \n",
    "        # Calling using super method\n",
    "        super().__init__(name, salary) "
   ]
  },
  {
   "cell_type": "code",
   "execution_count": 109,
   "id": "1e0115cf-c0dc-42f5-bec8-7bbdcc0f3723",
   "metadata": {},
   "outputs": [],
   "source": [
    "t1 = Teacher(\"Super_Gaurav\", 20000, \"CSE\")"
   ]
  },
  {
   "cell_type": "code",
   "execution_count": 110,
   "id": "c27ac3de-4492-42f5-9550-e0ef327c5b89",
   "metadata": {},
   "outputs": [
    {
     "data": {
      "text/plain": [
       "'CSE'"
      ]
     },
     "execution_count": 110,
     "metadata": {},
     "output_type": "execute_result"
    }
   ],
   "source": [
    "t1.department"
   ]
  },
  {
   "cell_type": "code",
   "execution_count": 111,
   "id": "31f8fa0c-204b-4425-af3d-0470bf4f965e",
   "metadata": {},
   "outputs": [
    {
     "data": {
      "text/plain": [
       "'Super_Gaurav'"
      ]
     },
     "execution_count": 111,
     "metadata": {},
     "output_type": "execute_result"
    }
   ],
   "source": [
    "t1.name"
   ]
  },
  {
   "cell_type": "code",
   "execution_count": 112,
   "id": "84db71da-88d4-4718-b825-90ff91bab9d6",
   "metadata": {},
   "outputs": [
    {
     "data": {
      "text/plain": [
       "20000"
      ]
     },
     "execution_count": 112,
     "metadata": {},
     "output_type": "execute_result"
    }
   ],
   "source": [
    "t1.salary"
   ]
  },
  {
   "cell_type": "markdown",
   "id": "524ccce7-5036-49fb-b3d9-ce1540190dd1",
   "metadata": {},
   "source": [
    "#### Multiple Inhertience"
   ]
  },
  {
   "cell_type": "markdown",
   "id": "30b9ab03-3743-4ed0-a34c-58ffed551a6c",
   "metadata": {},
   "source": [
    "In multiple inheritence, child class inherits from multiple parent classes."
   ]
  },
  {
   "cell_type": "markdown",
   "id": "6e2d232e-67a6-4d8b-a1ce-db3712fcc24e",
   "metadata": {},
   "source": [
    "Example of mulitple inhertitence:"
   ]
  },
  {
   "cell_type": "code",
   "execution_count": 121,
   "id": "043dabf9-01fe-4fc0-8191-c021676239b4",
   "metadata": {},
   "outputs": [],
   "source": [
    "class A:\n",
    "    pass\n",
    "\n",
    "class B:\n",
    "    pass\n",
    "\n",
    "class C(A, B):\n",
    "    pass"
   ]
  },
  {
   "cell_type": "markdown",
   "id": "d2f68235-17db-454a-8d05-584c74a52047",
   "metadata": {},
   "source": [
    "##### MRO"
   ]
  },
  {
   "cell_type": "markdown",
   "id": "542586ad-9db0-4034-8ff3-e6347e6e1269",
   "metadata": {},
   "source": [
    "* Multiple Inheritence follows **MRO**.\n",
    "* MRO stands for **Method Resolution Order**.\n",
    "* Rules for MRO:\n",
    "  * Go to the first leg first and then second.\n",
    "  * Go to the parent leg when all child legs are considered and exhausted.\n",
    "* To print MRO of any class, ***__mro***__ parameter is used.  \n",
    "***ClassName.*** ***__mro***__"
   ]
  },
  {
   "cell_type": "code",
   "execution_count": 123,
   "id": "8fcd23b4-a7bd-48fa-b745-7b416d27807a",
   "metadata": {},
   "outputs": [
    {
     "data": {
      "text/plain": [
       "(__main__.C, __main__.A, __main__.B, object)"
      ]
     },
     "execution_count": 123,
     "metadata": {},
     "output_type": "execute_result"
    }
   ],
   "source": [
    "C.__mro__ # classname.__mro__"
   ]
  },
  {
   "cell_type": "markdown",
   "id": "b1752287-512c-413f-82a1-31f395e4d74b",
   "metadata": {},
   "source": [
    "#### Diamond Inheritence (V.V.I)\n",
    "\n",
    "Mix of Multi-Level & Mutiple Inheritence"
   ]
  },
  {
   "cell_type": "code",
   "execution_count": 125,
   "id": "7934f5a5-f0c4-4928-865b-7411b4e1c845",
   "metadata": {},
   "outputs": [],
   "source": [
    "'''\n",
    "What is the value of class E for method x?\n",
    "'''\n",
    "\n",
    "class A:\n",
    "    x = 10\n",
    "\n",
    "class B(A):\n",
    "    pass\n",
    "\n",
    "class C(B):\n",
    "    pass\n",
    "    \n",
    "class D(A):\n",
    "    x = 5\n",
    "    \n",
    "class E(C, D):\n",
    "    pass"
   ]
  },
  {
   "cell_type": "code",
   "execution_count": 126,
   "id": "657ca97c-8052-4fb8-96c3-0b87a5aff5d3",
   "metadata": {},
   "outputs": [],
   "source": [
    "e = E()"
   ]
  },
  {
   "cell_type": "code",
   "execution_count": 127,
   "id": "e5d38c7f-9a7a-474c-b19c-f1ea199d7164",
   "metadata": {},
   "outputs": [
    {
     "data": {
      "text/plain": [
       "(__main__.E, __main__.C, __main__.B, __main__.D, __main__.A, object)"
      ]
     },
     "execution_count": 127,
     "metadata": {},
     "output_type": "execute_result"
    }
   ],
   "source": [
    "E.__mro__"
   ]
  },
  {
   "cell_type": "code",
   "execution_count": 128,
   "id": "06e32065-5dfd-4ca7-bdb1-2bdf40de35ef",
   "metadata": {},
   "outputs": [
    {
     "data": {
      "text/plain": [
       "5"
      ]
     },
     "execution_count": 128,
     "metadata": {},
     "output_type": "execute_result"
    }
   ],
   "source": [
    "e.x"
   ]
  }
 ],
 "metadata": {
  "kernelspec": {
   "display_name": "Python 3 (ipykernel)",
   "language": "python",
   "name": "python3"
  },
  "language_info": {
   "codemirror_mode": {
    "name": "ipython",
    "version": 3
   },
   "file_extension": ".py",
   "mimetype": "text/x-python",
   "name": "python",
   "nbconvert_exporter": "python",
   "pygments_lexer": "ipython3",
   "version": "3.9.12"
  },
  "widgets": {
   "application/vnd.jupyter.widget-state+json": {
    "state": {},
    "version_major": 2,
    "version_minor": 0
   }
  }
 },
 "nbformat": 4,
 "nbformat_minor": 5
}
