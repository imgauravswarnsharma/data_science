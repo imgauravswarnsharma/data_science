{
 "cells": [
  {
   "cell_type": "markdown",
   "id": "27193d8f-ecbd-4bd3-a6a5-5022ca3e410d",
   "metadata": {
    "tags": []
   },
   "source": [
    "# Programming Paradigm\n",
    "* ***Set of ideals and guidelines***"
   ]
  },
  {
   "cell_type": "markdown",
   "id": "78940e70-7d2d-45c6-8e82-9aa3dbbebf85",
   "metadata": {},
   "source": [
    "    Programming paradigms are different ways or styles in which a given program or programming language can be organized. Each paradigm consists of certain structures, features, and opinions about how common programming problems should be tackled.\n"
   ]
  },
  {
   "cell_type": "markdown",
   "id": "be584100-d71e-4388-895a-c52e223a5eae",
   "metadata": {},
   "source": [
    "Different types of programming paradigms:\n",
    "* _Imperative programming_\n",
    "* _Object-Oriented Programming_\n",
    "* _Functional Programming_\n",
    "* etc...."
   ]
  },
  {
   "cell_type": "markdown",
   "id": "bd457d18-03a8-4872-99ba-59f58034ab9f",
   "metadata": {
    "jp-MarkdownHeadingCollapsed": true,
    "tags": []
   },
   "source": [
    "##### Imperative Porgramming\n",
    "Very crude, simplistic and detailed in nature describing each step"
   ]
  },
  {
   "cell_type": "markdown",
   "id": "d45892e3-e428-4dc7-867c-c86c223006c9",
   "metadata": {},
   "source": [
    "    Let's say we want to bake a cake. Then imperative program may look something like this.\n",
    "        1- Pour flour in a bowl\n",
    "        2- Pour a couple eggs in the same bowl\n",
    "        3- Pour some milk in the same bowl\n",
    "        4- Mix the ingredients\n",
    "        5- Pour the mix in a mold\n",
    "        6- Cook for 35 minutes\n",
    "        7- Let chill"
   ]
  },
  {
   "cell_type": "markdown",
   "id": "424b5528-c5af-41ca-9fe1-d86ca0ade711",
   "metadata": {
    "tags": []
   },
   "source": [
    "##### OOPS\n",
    "structures everything as collection of classes and objects where object is the smallest entity and all the computations are performed on objects only."
   ]
  },
  {
   "cell_type": "markdown",
   "id": "3c131095-f3be-49c3-b60c-e8ea65c29784",
   "metadata": {},
   "source": [
    "    Let's say we want to bake the above cake in OOP style, it might look like this.\n",
    "            \n",
    "        // Create the two classes corresponding to each entity\n",
    "        class Cook {\n",
    "            constructor constructor (name) {\n",
    "            this.name = name\n",
    "            }\n",
    "\n",
    "            mixAndBake() {\n",
    "                - Mix the ingredients\n",
    "                - Pour the mix in a mold\n",
    "                - Cook for 35 minutes\n",
    "            }\n",
    "        }\n",
    "        \n",
    "            class AssistantCook {\n",
    "                constructor (name) {\n",
    "                    this.name = name\n",
    "            }\n",
    "\n",
    "            pourIngredients() {\n",
    "                - Pour flour in a bowl\n",
    "                - Pour a couple eggs in the same bowl\n",
    "                - Pour some milk in the same bowl\n",
    "            }\n",
    "\n",
    "        chillTheCake() {\n",
    "            - Let chill\n",
    "            }\n",
    "        }\n",
    "\n",
    "        // Instantiate an object from each class\n",
    "        const Frank = new Cook('Frank')\n",
    "        const Anthony = new AssistantCook('Anthony')\n",
    "\n",
    "        // Call the corresponding methods from each instance\n",
    "        Anthony.pourIngredients()\n",
    "        Frank.mixAndBake()\n",
    "        Anthony.chillTheCake()"
   ]
  },
  {
   "cell_type": "code",
   "execution_count": null,
   "id": "d5f8084f-9c4d-43d6-80b8-410517ad6976",
   "metadata": {},
   "outputs": [],
   "source": []
  },
  {
   "cell_type": "markdown",
   "id": "c468d685-e5b3-4180-991a-1d1719bc586f",
   "metadata": {
    "jp-MarkdownHeadingCollapsed": true,
    "tags": []
   },
   "source": [
    "# Functional Programming"
   ]
  },
  {
   "cell_type": "code",
   "execution_count": null,
   "id": "7d5ca07a-c10a-47e3-b645-fc1e05a520d2",
   "metadata": {},
   "outputs": [],
   "source": []
  },
  {
   "cell_type": "markdown",
   "id": "919f830c-5d10-4abd-8e17-b48662fda9f3",
   "metadata": {
    "tags": []
   },
   "source": [
    "## Theory"
   ]
  },
  {
   "cell_type": "code",
   "execution_count": null,
   "id": "4193b625-b66f-450e-ad02-eeb00848955f",
   "metadata": {},
   "outputs": [],
   "source": []
  },
  {
   "cell_type": "markdown",
   "id": "cf2093e5-604f-448f-98ed-07b69b9bc233",
   "metadata": {
    "tags": []
   },
   "source": [
    "## Questions"
   ]
  },
  {
   "cell_type": "markdown",
   "id": "8a936f0d-01a6-4511-b094-70ff8a392574",
   "metadata": {
    "tags": []
   },
   "source": [
    "### Question 1"
   ]
  },
  {
   "cell_type": "markdown",
   "id": "1d739604-85dd-48f5-9eb5-58f48296364d",
   "metadata": {},
   "source": []
  },
  {
   "cell_type": "markdown",
   "id": "ed05f3c9-ab68-4146-a5f3-a2251acc47d8",
   "metadata": {
    "jp-MarkdownHeadingCollapsed": true,
    "tags": []
   },
   "source": [
    "##### Solution"
   ]
  },
  {
   "cell_type": "markdown",
   "id": "7810e3e4-8103-43c1-ba19-b5c472c0ddd6",
   "metadata": {
    "jp-MarkdownHeadingCollapsed": true,
    "tags": []
   },
   "source": [
    "# Co-ordinate Geometry"
   ]
  },
  {
   "cell_type": "markdown",
   "id": "c5331cd2-e221-4b19-a8f7-1cdb3f21b1a6",
   "metadata": {
    "jp-MarkdownHeadingCollapsed": true,
    "tags": []
   },
   "source": [
    "## Theory"
   ]
  },
  {
   "cell_type": "markdown",
   "id": "92c37b51-f7c7-4407-928b-a6bd1e5e263b",
   "metadata": {
    "tags": []
   },
   "source": [
    "## Questions"
   ]
  },
  {
   "cell_type": "markdown",
   "id": "66325d7f-050f-4904-90b9-7ce366d4d877",
   "metadata": {
    "tags": []
   },
   "source": [
    "### Question 1"
   ]
  },
  {
   "cell_type": "markdown",
   "id": "2a845354-3207-47a1-9bf4-d0f349f7fac7",
   "metadata": {},
   "source": []
  },
  {
   "cell_type": "markdown",
   "id": "7f64f95a-3f98-4071-922f-a23426d27352",
   "metadata": {
    "jp-MarkdownHeadingCollapsed": true,
    "tags": []
   },
   "source": [
    "##### Solution"
   ]
  },
  {
   "cell_type": "markdown",
   "id": "8ce7ed9f-0383-4756-99a7-69563594ed5c",
   "metadata": {
    "jp-MarkdownHeadingCollapsed": true,
    "tags": []
   },
   "source": [
    "# File Handling"
   ]
  },
  {
   "cell_type": "markdown",
   "id": "10c89a36-77a5-4e6b-9fa2-bc73f5b89790",
   "metadata": {
    "jp-MarkdownHeadingCollapsed": true,
    "tags": []
   },
   "source": [
    "## Theory"
   ]
  },
  {
   "cell_type": "markdown",
   "id": "86dc913a-ae8f-4465-9dc8-df086083cf56",
   "metadata": {
    "tags": []
   },
   "source": [
    "## Questions"
   ]
  },
  {
   "cell_type": "markdown",
   "id": "dcdc111a-bf98-42fc-b79d-33a1aab2c6bc",
   "metadata": {
    "tags": []
   },
   "source": [
    "### Question 1"
   ]
  },
  {
   "cell_type": "markdown",
   "id": "070cc5cc-e73f-42dd-81f0-665047a3a7d2",
   "metadata": {},
   "source": []
  },
  {
   "cell_type": "markdown",
   "id": "b0430b39-73c0-4b86-8d90-1afa62c4c152",
   "metadata": {
    "jp-MarkdownHeadingCollapsed": true,
    "tags": []
   },
   "source": [
    "##### Solution"
   ]
  },
  {
   "cell_type": "markdown",
   "id": "3220b420-aa9b-49b2-a665-f8b67268a7f5",
   "metadata": {
    "jp-MarkdownHeadingCollapsed": true,
    "tags": []
   },
   "source": [
    "# Modules"
   ]
  },
  {
   "cell_type": "markdown",
   "id": "67767221-ce47-4bab-8813-33e6336e84fe",
   "metadata": {
    "jp-MarkdownHeadingCollapsed": true,
    "tags": []
   },
   "source": [
    "## Theory"
   ]
  },
  {
   "cell_type": "markdown",
   "id": "b6626955-db07-43c8-aa9c-ecc05f752796",
   "metadata": {
    "tags": []
   },
   "source": [
    "## Questions"
   ]
  },
  {
   "cell_type": "markdown",
   "id": "4e56834a-f8d6-4518-9847-d3ee21f8cd7c",
   "metadata": {
    "tags": []
   },
   "source": [
    "### Question 1"
   ]
  },
  {
   "cell_type": "markdown",
   "id": "a7d61556-d5f6-4ba4-93a3-ccbc92476bad",
   "metadata": {},
   "source": []
  },
  {
   "cell_type": "markdown",
   "id": "5d2e7dc3-801a-4cab-ad15-a0988bd00e2b",
   "metadata": {
    "jp-MarkdownHeadingCollapsed": true,
    "tags": []
   },
   "source": [
    "##### Solution"
   ]
  }
 ],
 "metadata": {
  "kernelspec": {
   "display_name": "Python 3 (ipykernel)",
   "language": "python",
   "name": "python3"
  },
  "language_info": {
   "codemirror_mode": {
    "name": "ipython",
    "version": 3
   },
   "file_extension": ".py",
   "mimetype": "text/x-python",
   "name": "python",
   "nbconvert_exporter": "python",
   "pygments_lexer": "ipython3",
   "version": "3.9.12"
  },
  "widgets": {
   "application/vnd.jupyter.widget-state+json": {
    "state": {},
    "version_major": 2,
    "version_minor": 0
   }
  }
 },
 "nbformat": 4,
 "nbformat_minor": 5
}
