{
 "cells": [
  {
   "cell_type": "markdown",
   "id": "27193d8f-ecbd-4bd3-a6a5-5022ca3e410d",
   "metadata": {
    "jp-MarkdownHeadingCollapsed": true,
    "tags": []
   },
   "source": [
    "# Programming Paradigm\n",
    "Set of ideals and guidelines"
   ]
  },
  {
   "cell_type": "markdown",
   "id": "78940e70-7d2d-45c6-8e82-9aa3dbbebf85",
   "metadata": {},
   "source": [
    "    Programming paradigms are different ways or styles in which a given program or programming language can be organized. Each paradigm consists of certain structures, features, and opinions about how common programming problems should be tackled.\n"
   ]
  },
  {
   "cell_type": "markdown",
   "id": "be584100-d71e-4388-895a-c52e223a5eae",
   "metadata": {},
   "source": [
    "Different types of programming paradigms:\n",
    "* _Imperative programming_\n",
    "* _Object-Oriented Programming_\n",
    "* _Functional Programming_\n",
    "* etc...."
   ]
  },
  {
   "cell_type": "markdown",
   "id": "bd457d18-03a8-4872-99ba-59f58034ab9f",
   "metadata": {
    "jp-MarkdownHeadingCollapsed": true,
    "tags": []
   },
   "source": [
    "##### Imperative Porgramming\n",
    "Very crude, simplistic and detailed in nature describing each step"
   ]
  },
  {
   "cell_type": "markdown",
   "id": "d45892e3-e428-4dc7-867c-c86c223006c9",
   "metadata": {},
   "source": [
    "    Let's say we want to bake a cake. Then imperative program may look something like this.\n",
    "        1- Pour flour in a bowl\n",
    "        2- Pour a couple eggs in the same bowl\n",
    "        3- Pour some milk in the same bowl\n",
    "        4- Mix the ingredients\n",
    "        5- Pour the mix in a mold\n",
    "        6- Cook for 35 minutes\n",
    "        7- Let chill"
   ]
  },
  {
   "cell_type": "markdown",
   "id": "424b5528-c5af-41ca-9fe1-d86ca0ade711",
   "metadata": {
    "jp-MarkdownHeadingCollapsed": true,
    "tags": []
   },
   "source": [
    "##### OOPS\n",
    "structures everything as collection of classes and objects where object is the smallest entity and all the computations are performed on objects only."
   ]
  },
  {
   "cell_type": "markdown",
   "id": "3c131095-f3be-49c3-b60c-e8ea65c29784",
   "metadata": {},
   "source": [
    "    Let's say we want to bake the above cake in OOP style, it might look like this.\n",
    "            \n",
    "        // Create the two classes corresponding to each entity\n",
    "        class Cook {\n",
    "            constructor constructor (name) {\n",
    "            this.name = name\n",
    "            }\n",
    "\n",
    "            mixAndBake() {\n",
    "                - Mix the ingredients\n",
    "                - Pour the mix in a mold\n",
    "                - Cook for 35 minutes\n",
    "            }\n",
    "        }\n",
    "        \n",
    "            class AssistantCook {\n",
    "                constructor (name) {\n",
    "                    this.name = name\n",
    "            }\n",
    "\n",
    "            pourIngredients() {\n",
    "                - Pour flour in a bowl\n",
    "                - Pour a couple eggs in the same bowl\n",
    "                - Pour some milk in the same bowl\n",
    "            }\n",
    "\n",
    "        chillTheCake() {\n",
    "            - Let chill\n",
    "            }\n",
    "        }\n",
    "\n",
    "        // Instantiate an object from each class\n",
    "        const Frank = new Cook('Frank')\n",
    "        const Anthony = new AssistantCook('Anthony')\n",
    "\n",
    "        // Call the corresponding methods from each instance\n",
    "        Anthony.pourIngredients()\n",
    "        Frank.mixAndBake()\n",
    "        Anthony.chillTheCake()"
   ]
  },
  {
   "cell_type": "markdown",
   "id": "4f16aa9b-8438-46a1-bcd7-1d96f505afa5",
   "metadata": {
    "tags": []
   },
   "source": [
    "# OOPS\n",
    "structures everything as collection of classes and objects where object is the smallest entity and all the computations are performed on objects only."
   ]
  },
  {
   "cell_type": "markdown",
   "id": "759e96be-32f2-4904-8d51-40e7fcc2b88c",
   "metadata": {
    "jp-MarkdownHeadingCollapsed": true,
    "tags": []
   },
   "source": [
    "### Intro"
   ]
  },
  {
   "cell_type": "markdown",
   "id": "50a6a7e1-09f7-4534-b094-63d2adda8375",
   "metadata": {
    "tags": []
   },
   "source": [
    "OOPS --> **Classes** (**Properties**, **Methods**) --> **Objects**"
   ]
  },
  {
   "cell_type": "markdown",
   "id": "2ee29701-8491-425b-aa98-4ae4973c0324",
   "metadata": {
    "jp-MarkdownHeadingCollapsed": true,
    "tags": []
   },
   "source": [
    "##### 4 Pillars of OOPS"
   ]
  },
  {
   "cell_type": "markdown",
   "id": "0da38d2a-7031-49ae-ac85-39a0bf5b959b",
   "metadata": {},
   "source": [
    "* **Encapsulation:** putting(grouping) common info together.\n",
    "\n",
    "        Example: Class itself is simplest example of encapsulation. Dicts are another example. \n",
    "        \n",
    "* **Abstraction:** Hiding unnecessary info(code).\n",
    "* **Inheritence:** Inheritance is the capability of one class to derive or inherit the properties from another class. \n",
    "* **Polymorphism:** Polymorphism simply means having many forms. \n",
    "\n",
    "        Example: 4+5 will return 9 but 'a'+'b' will return 'ab'. Same operator  but showing different properties for different datatype. This behaviour is polymorphism."
   ]
  },
  {
   "cell_type": "markdown",
   "id": "b3f709eb-76e5-4d0f-826e-e73df084b8e8",
   "metadata": {
    "tags": []
   },
   "source": [
    "##### Class"
   ]
  },
  {
   "cell_type": "markdown",
   "id": "4f3f1100-5560-4c18-a536-5ffedda8bf81",
   "metadata": {},
   "source": [
    "* A Class is a template or blueprint from which objects are created. \n",
    "* It is a collection of objects.\n",
    "* It is a logical entity that contains some properties and methods. \n",
    "* Classes contains all the common info.\n",
    "* By convention, class follows CamelCase Naming.\n",
    "* Class info are always public and can be accessed using the dot (.) operator. Eg: Myclass.Myvariable"
   ]
  },
  {
   "cell_type": "markdown",
   "id": "9c073e20-278f-46c7-8f3f-c7cdc57b2bb9",
   "metadata": {},
   "source": [
    "* Class consists of: \n",
    "    * **Properties (Variables)**\n",
    "    * **Methods (Functions)** "
   ]
  },
  {
   "cell_type": "code",
   "execution_count": null,
   "id": "3d417b41-744b-4064-bf0c-e25c6c08e840",
   "metadata": {},
   "outputs": [],
   "source": [
    "# Creating an empty class\n",
    "\n",
    "class DemoClass:\n",
    "    pass  "
   ]
  },
  {
   "cell_type": "markdown",
   "id": "7c0a50dc-9b33-4ff0-ab7e-81af803a9ff2",
   "metadata": {
    "tags": []
   },
   "source": [
    "##### Objects"
   ]
  },
  {
   "cell_type": "markdown",
   "id": "79d6604a-5562-4ced-8906-b1ebca9217a8",
   "metadata": {},
   "source": [
    "* Objects are instances of classes.\n",
    "* Objects contains unique info and can also access the commomn info from the class."
   ]
  },
  {
   "cell_type": "code",
   "execution_count": null,
   "id": "819939e9-398b-409c-a1c1-43723f49769a",
   "metadata": {},
   "outputs": [],
   "source": [
    "#instantiate a class or create an object of a class\n",
    "\n",
    "obj1 = DemoClass()"
   ]
  },
  {
   "cell_type": "markdown",
   "id": "dc0f9421-f142-473c-95fb-55439f992c44",
   "metadata": {},
   "source": [
    "Basically, obj1 is a variable or object of type TestClass, and, we can verify it with the type function."
   ]
  },
  {
   "cell_type": "code",
   "execution_count": null,
   "id": "da8b4470-3d45-424c-8511-2e518bd6dea5",
   "metadata": {},
   "outputs": [
    {
     "data": {
      "text/plain": [
       "__main__.DemoClass"
      ]
     },
     "execution_count": 25,
     "metadata": {},
     "output_type": "execute_result"
    }
   ],
   "source": [
    "type(obj1)"
   ]
  },
  {
   "cell_type": "markdown",
   "id": "161a6a88-cdf7-4c10-8683-e0e30fee485f",
   "metadata": {},
   "source": [
    "Adding an property or variable directly inside a class\n",
    "\n",
    "**obj_name.var_name = value**"
   ]
  },
  {
   "cell_type": "code",
   "execution_count": null,
   "id": "dd07c725-9f9a-4794-989e-39e25e34e328",
   "metadata": {},
   "outputs": [],
   "source": [
    "## Adding an property or variable directly inside a class\n",
    "# obj_name.var_name = value\n",
    "\n",
    "obj1.name = 'Gaurav'"
   ]
  },
  {
   "cell_type": "markdown",
   "id": "14d63ad1-a6b4-4369-bf57-145993b746c0",
   "metadata": {},
   "source": [
    "There is an issue with the above approach. Instead of keeping info inside the blueprint, we are rather keeping info in objects directly. This creates a problem that we will have to add value in the object again and again, and, in essence defeating the purpose of classes. To overcome this, we wil use init method"
   ]
  },
  {
   "cell_type": "markdown",
   "id": "985ae11e-1ce6-4a12-99d1-133e851eaa38",
   "metadata": {
    "tags": []
   },
   "source": [
    "##### methods\n",
    "Function created inside a class is called method"
   ]
  },
  {
   "cell_type": "code",
   "execution_count": null,
   "id": "90fe04c4-ca49-42ac-8986-6eccfd36854f",
   "metadata": {},
   "outputs": [],
   "source": [
    "# hello is the method here without any arguments\n",
    "class Student:\n",
    "    def hello():\n",
    "        print(\"Hello!\")"
   ]
  },
  {
   "cell_type": "markdown",
   "id": "2f102cc6-072e-4471-b83a-6a19aff67911",
   "metadata": {
    "tags": []
   },
   "source": [
    "### Class Method"
   ]
  },
  {
   "cell_type": "markdown",
   "id": "41c6836d-cfe3-48f9-a6e2-82b1a1dba74b",
   "metadata": {
    "tags": []
   },
   "source": [
    "If there is a method inside class, we can call function directly using class name.\n",
    "\n",
    "**class_name.obj_name**"
   ]
  },
  {
   "cell_type": "code",
   "execution_count": null,
   "id": "9dd66256-551d-4f8c-a167-d0d119e368ae",
   "metadata": {},
   "outputs": [],
   "source": [
    "# hello is the method here\n",
    "class Student:\n",
    "    def hello():\n",
    "        print(\"Hello!\")"
   ]
  },
  {
   "cell_type": "code",
   "execution_count": null,
   "id": "7d89cab0-cc57-4b4d-9733-992367bc7f98",
   "metadata": {},
   "outputs": [
    {
     "name": "stdout",
     "output_type": "stream",
     "text": [
      "Hello!\n"
     ]
    }
   ],
   "source": [
    "# Calling function directly using class name\n",
    "# class_name.obj_name\n",
    "\n",
    "Student.hello()"
   ]
  },
  {
   "cell_type": "markdown",
   "id": "a88e3ef0-039e-4e8a-9ce1-fdcc1674ea7a",
   "metadata": {
    "tags": []
   },
   "source": [
    "### Instance method"
   ]
  },
  {
   "cell_type": "markdown",
   "id": "b4aba9a4-1ee3-40b4-b5fd-957deafcba47",
   "metadata": {},
   "source": [
    "Calling the function using object"
   ]
  },
  {
   "cell_type": "code",
   "execution_count": null,
   "id": "5805a60f-428b-4340-82ec-475440d2709c",
   "metadata": {},
   "outputs": [
    {
     "ename": "TypeError",
     "evalue": "hello() takes 0 positional arguments but 1 was given",
     "output_type": "error",
     "traceback": [
      "\u001b[1;31m--------------------------------------------------------------------------\u001b[0m",
      "\u001b[1;31mTypeError\u001b[0m                                Traceback (most recent call last)",
      "Cell \u001b[1;32mIn[40], line 3\u001b[0m\n\u001b[0;32m      1\u001b[0m a \u001b[38;5;241m=\u001b[39m Student()\n\u001b[0;32m      2\u001b[0m \u001b[38;5;66;03m# Calling function using object\u001b[39;00m\n\u001b[1;32m----> 3\u001b[0m \u001b[43ma\u001b[49m\u001b[38;5;241;43m.\u001b[39;49m\u001b[43mhello\u001b[49m\u001b[43m(\u001b[49m\u001b[43m)\u001b[49m\n",
      "\u001b[1;31mTypeError\u001b[0m: hello() takes 0 positional arguments but 1 was given"
     ]
    }
   ],
   "source": [
    "a = Student()\n",
    "# Calling function using object\n",
    "a.hello()"
   ]
  },
  {
   "cell_type": "markdown",
   "id": "f9a8715f-fc94-44b2-b44a-22d4efd24aa9",
   "metadata": {
    "tags": []
   },
   "source": [
    "##### Q: Why did the call to function via object failed above?"
   ]
  },
  {
   "cell_type": "markdown",
   "id": "9d92c89e-5ea7-4988-9230-bb405854f698",
   "metadata": {
    "tags": []
   },
   "source": [
    "##### Explanation"
   ]
  },
  {
   "cell_type": "markdown",
   "id": "3c2538f7-ae90-4c57-bafd-8e516be314ee",
   "metadata": {},
   "source": [
    "* It fails when we call the function by object becoz whenever a python method is called using the object of that class an argument is automatically passed to it which is reference to the current object.\n",
    "* Python does this conversion automatically. \n",
    "* _obj.func_name()_ is converted to  _Class_name.func_name(obj)_ by python automatically.\n",
    "   * **obj.func_name() = Class_name.func_name(obj)**\n",
    "\n",
    "             So, basically, 'a.hello()' is converted to 'Student.hello(a)''"
   ]
  },
  {
   "cell_type": "markdown",
   "id": "073d3b8a-f15e-4892-a65d-3f63f280793f",
   "metadata": {},
   "source": [
    "##### Resolution"
   ]
  },
  {
   "cell_type": "markdown",
   "id": "8dddf4b8-6b53-4cdf-b284-503bc4ae0a32",
   "metadata": {},
   "source": [
    "***Note the argument '*a*' inside hello function in the converted format and since our func takes no argument, python throws this positional argument error***.  \n",
    "\n",
    "* Hence to resolve this issue, we will always use an argument inside a method.\n",
    "* By convention, ' ***self*** ' named variable is used for this.\n"
   ]
  },
  {
   "cell_type": "markdown",
   "id": "5f0df146-b0c2-454f-affc-d9b94feb8c95",
   "metadata": {},
   "source": [
    "#### self"
   ]
  },
  {
   "cell_type": "markdown",
   "id": "1096a7da-5066-4796-9c00-757c6a94fec0",
   "metadata": {},
   "source": [
    "* It is not a keyword so any variable name can be used instead of self.\n",
    "* By convention, ' ***self*** ' named variable is used for this."
   ]
  },
  {
   "cell_type": "markdown",
   "id": "b7f22bed-98fe-4234-bb4c-3dd67a8ee72d",
   "metadata": {},
   "source": [
    "To resolve the error of positional argument, we will add self to the above code and then call the function by object to verify."
   ]
  },
  {
   "cell_type": "code",
   "execution_count": null,
   "id": "076bb001-8f27-40c7-9fe5-dfddddcff0c2",
   "metadata": {},
   "outputs": [],
   "source": [
    "class Student:\n",
    "    def hello(self):\n",
    "        print(\"Hello!\")"
   ]
  },
  {
   "cell_type": "code",
   "execution_count": null,
   "id": "874b84c4-389b-4670-aafb-2a0095ca010f",
   "metadata": {},
   "outputs": [
    {
     "name": "stdout",
     "output_type": "stream",
     "text": [
      "Hello!\n"
     ]
    }
   ],
   "source": [
    "a = Student()\n",
    "# Calling function using object\n",
    "a.hello()"
   ]
  },
  {
   "cell_type": "code",
   "execution_count": null,
   "id": "f14ab0fd-4931-4069-ae7e-05d1a691af8e",
   "metadata": {},
   "outputs": [
    {
     "name": "stdout",
     "output_type": "stream",
     "text": [
      "Hello!\n"
     ]
    }
   ],
   "source": [
    "Student.hello(a)"
   ]
  },
  {
   "cell_type": "markdown",
   "id": "42e60112-9e50-442d-9a80-db07ad29339a",
   "metadata": {},
   "source": [
    "##### Verifying the conversion"
   ]
  },
  {
   "cell_type": "markdown",
   "id": "31e7960c-3fbc-4fae-9c44-98d51270e45e",
   "metadata": {},
   "source": [
    "Lets verify the auto conversion, that self arugment is nothing but a reference to the current objection being done by python."
   ]
  },
  {
   "cell_type": "code",
   "execution_count": null,
   "id": "7d250d8f-e1c7-4b2d-a6e0-290fa41b5a6e",
   "metadata": {},
   "outputs": [],
   "source": [
    "class Student:\n",
    "    def hello(self):\n",
    "        print(id(self))"
   ]
  },
  {
   "cell_type": "code",
   "execution_count": null,
   "id": "cfe2657d-c85e-4911-a63e-69700e424128",
   "metadata": {},
   "outputs": [
    {
     "name": "stdout",
     "output_type": "stream",
     "text": [
      "1851913942256\n"
     ]
    }
   ],
   "source": [
    "a = Student()\n",
    "a.hello() # After Conversion: Student.hello(a)"
   ]
  },
  {
   "cell_type": "code",
   "execution_count": null,
   "id": "33ecbc09-8d64-453c-a386-8c1ebfd05bde",
   "metadata": {},
   "outputs": [
    {
     "data": {
      "text/plain": [
       "1851913942256"
      ]
     },
     "execution_count": 51,
     "metadata": {},
     "output_type": "execute_result"
    }
   ],
   "source": [
    "id(a)"
   ]
  },
  {
   "cell_type": "markdown",
   "id": "efc062b2-49e5-4956-82b7-33927834b5d2",
   "metadata": {},
   "source": [
    "When printing the id of self we are getting the same memory address for a as well as self. Thus, conclusively proving that conversion indeed is being done behind the curtains by python."
   ]
  },
  {
   "cell_type": "markdown",
   "id": "5c7d81a5-a37e-41f1-a3ee-f2a203cf9faf",
   "metadata": {},
   "source": [
    "***Note: Class method will no longer work on this function bcoz now it requires an argument and hence can only be called by the objects of the class.****"
   ]
  },
  {
   "cell_type": "markdown",
   "id": "50b1b6b7-9a56-49a4-8493-e2d7aaff6c2a",
   "metadata": {},
   "source": [
    "Lets verify it by calling the function by Class method. Now it should not work"
   ]
  },
  {
   "cell_type": "code",
   "execution_count": null,
   "id": "1db0308e-6eaa-4005-ad99-43a6578e01b2",
   "metadata": {},
   "outputs": [
    {
     "ename": "TypeError",
     "evalue": "hello() missing 1 required positional argument: 'self'",
     "output_type": "error",
     "traceback": [
      "\u001b[1;31m--------------------------------------------------------------------------\u001b[0m",
      "\u001b[1;31mTypeError\u001b[0m                                Traceback (most recent call last)",
      "Cell \u001b[1;32mIn[52], line 1\u001b[0m\n\u001b[1;32m----> 1\u001b[0m \u001b[43mStudent\u001b[49m\u001b[38;5;241;43m.\u001b[39;49m\u001b[43mhello\u001b[49m\u001b[43m(\u001b[49m\u001b[43m)\u001b[49m\n",
      "\u001b[1;31mTypeError\u001b[0m: hello() missing 1 required positional argument: 'self'"
     ]
    }
   ],
   "source": [
    "Student.hello()"
   ]
  },
  {
   "cell_type": "markdown",
   "id": "87cd595e-0e13-4907-b72c-54e00e4e4dd0",
   "metadata": {},
   "source": [
    "But once the argument is passed to the class method, then it will work bcoz then class and instance method are essentially identical after the conversion of self."
   ]
  },
  {
   "cell_type": "code",
   "execution_count": null,
   "id": "a0dfb338-5fa6-41ab-9652-348ef12e7b16",
   "metadata": {},
   "outputs": [
    {
     "name": "stdout",
     "output_type": "stream",
     "text": [
      "1851913942256\n"
     ]
    }
   ],
   "source": [
    "Student.hello(a)     \n"
   ]
  },
  {
   "cell_type": "markdown",
   "id": "d283e8f2-9c43-491c-8c98-8bc5bcf730f7",
   "metadata": {
    "tags": []
   },
   "source": [
    "### __init__"
   ]
  },
  {
   "cell_type": "markdown",
   "id": "f329c221-7659-4378-9a3f-b04b26f2a4e2",
   "metadata": {
    "tags": []
   },
   "source": [
    "* It is an initalizer method(function).\n",
    "* Python automatically runs the __init__ function whenever the object is instatinated/created.\n",
    "* It is a magic method or dunder."
   ]
  },
  {
   "cell_type": "markdown",
   "id": "d4e2b4da-62d0-47fc-b41c-ec231ebd4627",
   "metadata": {},
   "source": [
    "While creating a Student, “Gaurav” is passed as an argument, this argument will be passed to the __init__ method to initialize the object. The keyword self represents the instance of a class and binds the attributes with the given arguments. Similarly, many objects of the *Student* class can be created by passing different names as arguments."
   ]
  },
  {
   "cell_type": "code",
   "execution_count": null,
   "id": "ee036d99-cfa9-485e-a453-e42efb4c1305",
   "metadata": {},
   "outputs": [],
   "source": [
    "class Student:\n",
    "    def __init__(self, input_name):\n",
    "        self.name = input_name"
   ]
  },
  {
   "cell_type": "code",
   "execution_count": null,
   "id": "4543cd8c-6b93-44b4-b120-942cfb0c1767",
   "metadata": {},
   "outputs": [
    {
     "data": {
      "text/plain": [
       "'Gaurav'"
      ]
     },
     "execution_count": 73,
     "metadata": {},
     "output_type": "execute_result"
    }
   ],
   "source": [
    "a = Student(\"Gaurav\")\n",
    "a.name"
   ]
  },
  {
   "cell_type": "markdown",
   "id": "f1fb097a-97dd-4ff9-929b-c1de1da1581b",
   "metadata": {},
   "source": [
    "***Note: We are not specifying the func above, only class bcoz init function will auto initalize whenever an object is created.***"
   ]
  },
  {
   "cell_type": "markdown",
   "id": "72e973e4-20c0-4d2f-817e-49b61614a2d1",
   "metadata": {},
   "source": [
    "### Inheritence"
   ]
  },
  {
   "cell_type": "code",
   "execution_count": null,
   "id": "9a3b448b-6190-4151-b834-51f1dcd670c4",
   "metadata": {},
   "outputs": [],
   "source": []
  },
  {
   "cell_type": "code",
   "execution_count": null,
   "id": "2d7e2ba5-549f-4644-92db-7022b66700e0",
   "metadata": {},
   "outputs": [],
   "source": []
  },
  {
   "cell_type": "code",
   "execution_count": null,
   "id": "86f01aa3-3a40-414a-8cb1-95d27a0bf9ca",
   "metadata": {},
   "outputs": [],
   "source": []
  },
  {
   "cell_type": "code",
   "execution_count": null,
   "id": "d5f8084f-9c4d-43d6-80b8-410517ad6976",
   "metadata": {},
   "outputs": [],
   "source": []
  },
  {
   "cell_type": "markdown",
   "id": "c468d685-e5b3-4180-991a-1d1719bc586f",
   "metadata": {
    "jp-MarkdownHeadingCollapsed": true,
    "tags": []
   },
   "source": [
    "# Functional Programming"
   ]
  },
  {
   "cell_type": "code",
   "execution_count": null,
   "id": "7d5ca07a-c10a-47e3-b645-fc1e05a520d2",
   "metadata": {},
   "outputs": [],
   "source": []
  },
  {
   "cell_type": "markdown",
   "id": "919f830c-5d10-4abd-8e17-b48662fda9f3",
   "metadata": {
    "tags": []
   },
   "source": [
    "## Theory"
   ]
  },
  {
   "cell_type": "code",
   "execution_count": null,
   "id": "4193b625-b66f-450e-ad02-eeb00848955f",
   "metadata": {},
   "outputs": [],
   "source": []
  },
  {
   "cell_type": "markdown",
   "id": "cf2093e5-604f-448f-98ed-07b69b9bc233",
   "metadata": {
    "tags": []
   },
   "source": [
    "## Questions"
   ]
  },
  {
   "cell_type": "markdown",
   "id": "8a936f0d-01a6-4511-b094-70ff8a392574",
   "metadata": {
    "tags": []
   },
   "source": [
    "### Question 1"
   ]
  },
  {
   "cell_type": "markdown",
   "id": "1d739604-85dd-48f5-9eb5-58f48296364d",
   "metadata": {},
   "source": []
  },
  {
   "cell_type": "markdown",
   "id": "ed05f3c9-ab68-4146-a5f3-a2251acc47d8",
   "metadata": {
    "jp-MarkdownHeadingCollapsed": true,
    "tags": []
   },
   "source": [
    "##### Solution"
   ]
  },
  {
   "cell_type": "markdown",
   "id": "7810e3e4-8103-43c1-ba19-b5c472c0ddd6",
   "metadata": {
    "jp-MarkdownHeadingCollapsed": true,
    "tags": []
   },
   "source": [
    "# Co-ordinate Geometry"
   ]
  },
  {
   "cell_type": "markdown",
   "id": "c5331cd2-e221-4b19-a8f7-1cdb3f21b1a6",
   "metadata": {
    "jp-MarkdownHeadingCollapsed": true,
    "tags": []
   },
   "source": [
    "## Theory"
   ]
  },
  {
   "cell_type": "markdown",
   "id": "92c37b51-f7c7-4407-928b-a6bd1e5e263b",
   "metadata": {
    "tags": []
   },
   "source": [
    "## Questions"
   ]
  },
  {
   "cell_type": "markdown",
   "id": "66325d7f-050f-4904-90b9-7ce366d4d877",
   "metadata": {
    "tags": []
   },
   "source": [
    "### Question 1"
   ]
  },
  {
   "cell_type": "markdown",
   "id": "2a845354-3207-47a1-9bf4-d0f349f7fac7",
   "metadata": {},
   "source": []
  },
  {
   "cell_type": "markdown",
   "id": "7f64f95a-3f98-4071-922f-a23426d27352",
   "metadata": {
    "jp-MarkdownHeadingCollapsed": true,
    "tags": []
   },
   "source": [
    "##### Solution"
   ]
  },
  {
   "cell_type": "markdown",
   "id": "8ce7ed9f-0383-4756-99a7-69563594ed5c",
   "metadata": {
    "jp-MarkdownHeadingCollapsed": true,
    "tags": []
   },
   "source": [
    "# File Handling"
   ]
  },
  {
   "cell_type": "markdown",
   "id": "10c89a36-77a5-4e6b-9fa2-bc73f5b89790",
   "metadata": {
    "jp-MarkdownHeadingCollapsed": true,
    "tags": []
   },
   "source": [
    "## Theory"
   ]
  },
  {
   "cell_type": "markdown",
   "id": "86dc913a-ae8f-4465-9dc8-df086083cf56",
   "metadata": {
    "tags": []
   },
   "source": [
    "## Questions"
   ]
  },
  {
   "cell_type": "markdown",
   "id": "dcdc111a-bf98-42fc-b79d-33a1aab2c6bc",
   "metadata": {
    "tags": []
   },
   "source": [
    "### Question 1"
   ]
  },
  {
   "cell_type": "markdown",
   "id": "070cc5cc-e73f-42dd-81f0-665047a3a7d2",
   "metadata": {},
   "source": []
  },
  {
   "cell_type": "markdown",
   "id": "b0430b39-73c0-4b86-8d90-1afa62c4c152",
   "metadata": {
    "jp-MarkdownHeadingCollapsed": true,
    "tags": []
   },
   "source": [
    "##### Solution"
   ]
  },
  {
   "cell_type": "markdown",
   "id": "3220b420-aa9b-49b2-a665-f8b67268a7f5",
   "metadata": {
    "jp-MarkdownHeadingCollapsed": true,
    "tags": []
   },
   "source": [
    "# Modules"
   ]
  },
  {
   "cell_type": "markdown",
   "id": "67767221-ce47-4bab-8813-33e6336e84fe",
   "metadata": {
    "jp-MarkdownHeadingCollapsed": true,
    "tags": []
   },
   "source": [
    "## Theory"
   ]
  },
  {
   "cell_type": "markdown",
   "id": "b6626955-db07-43c8-aa9c-ecc05f752796",
   "metadata": {
    "tags": []
   },
   "source": [
    "## Questions"
   ]
  },
  {
   "cell_type": "markdown",
   "id": "4e56834a-f8d6-4518-9847-d3ee21f8cd7c",
   "metadata": {
    "tags": []
   },
   "source": [
    "### Question 1"
   ]
  },
  {
   "cell_type": "markdown",
   "id": "a7d61556-d5f6-4ba4-93a3-ccbc92476bad",
   "metadata": {},
   "source": []
  },
  {
   "cell_type": "markdown",
   "id": "5d2e7dc3-801a-4cab-ad15-a0988bd00e2b",
   "metadata": {
    "jp-MarkdownHeadingCollapsed": true,
    "tags": []
   },
   "source": [
    "##### Solution"
   ]
  }
 ],
 "metadata": {
  "kernelspec": {
   "display_name": "Python 3 (ipykernel)",
   "language": "python",
   "name": "python3"
  },
  "language_info": {
   "codemirror_mode": {
    "name": "ipython",
    "version": 3
   },
   "file_extension": ".py",
   "mimetype": "text/x-python",
   "name": "python",
   "nbconvert_exporter": "python",
   "pygments_lexer": "ipython3",
   "version": "3.9.12"
  },
  "widgets": {
   "application/vnd.jupyter.widget-state+json": {
    "state": {},
    "version_major": 2,
    "version_minor": 0
   }
  }
 },
 "nbformat": 4,
 "nbformat_minor": 5
}
