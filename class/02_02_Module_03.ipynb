{
 "cells": [
  {
   "cell_type": "markdown",
   "id": "8245c24b-6569-45bd-8936-ad74e9e8f4a9",
   "metadata": {
    "tags": []
   },
   "source": [
    "# Mutability & Immutability \n",
    "An object whose internal state can be changed is mutable and vice-versa."
   ]
  },
  {
   "cell_type": "markdown",
   "id": "0008c677-215c-44aa-9529-9fa23b2c4f8c",
   "metadata": {
    "jp-MarkdownHeadingCollapsed": true,
    "tags": []
   },
   "source": [
    "### Mutable"
   ]
  },
  {
   "cell_type": "markdown",
   "id": "a2c59f81-6df5-4d68-8ef1-c811d3105437",
   "metadata": {},
   "source": [
    "    Mutable is when something is changeable or has the ability to change. In Python, ‘mutable’ is the ability of objects to change their values. These are often the objects that store a collection of data."
   ]
  },
  {
   "cell_type": "markdown",
   "id": "70f5c807-1d1a-47b6-aa00-4b057ea0288f",
   "metadata": {
    "jp-MarkdownHeadingCollapsed": true,
    "tags": []
   },
   "source": [
    "### Immutable"
   ]
  },
  {
   "cell_type": "markdown",
   "id": "f6d6c0f6-f372-4c7e-85fe-eafbc9e45ad3",
   "metadata": {},
   "source": [
    "Immutable is the when no change is possible over time. In Python, if the value of an object cannot be changed over time, then it is known as immutable. Once created, the value of these objects is permanent."
   ]
  },
  {
   "cell_type": "markdown",
   "id": "f8b6b8df-5cca-4628-bf9d-a855942f5560",
   "metadata": {
    "jp-MarkdownHeadingCollapsed": true,
    "tags": []
   },
   "source": [
    "### Lists of Mutable and Immutable Objects"
   ]
  },
  {
   "cell_type": "markdown",
   "id": "86e7c291-36e5-4408-9240-aac1b1170226",
   "metadata": {},
   "source": [
    "- Objects of built-in type that are mutable are:\n",
    "    - Lists\n",
    "    - Sets\n",
    "    - Dictionaries\n",
    "    - User-Defined Classes (dependent upon the user to define characterstics)"
   ]
  },
  {
   "cell_type": "markdown",
   "id": "24071524-b501-448b-9880-d76101aae783",
   "metadata": {},
   "source": [
    "- Objects of built-in type that are immutable are:\n",
    "    - Numbers (Integer, Float, Boolean, Complex, Rational)\n",
    "    - Strings\n",
    "    - Tuples\n",
    "    - Frozen Sets\n",
    "    - User-Defined Classes (dependent upon the user to define characterstics)"
   ]
  },
  {
   "cell_type": "markdown",
   "id": "8b638abd-d5e3-4853-800a-0135bfe43b42",
   "metadata": {
    "jp-MarkdownHeadingCollapsed": true,
    "tags": []
   },
   "source": [
    "### Objects in Python"
   ]
  },
  {
   "cell_type": "markdown",
   "id": "80f67b5e-5458-47fa-aa86-3c69a12ca8b1",
   "metadata": {},
   "source": [
    "- In Python, everything is treated as an object. Every object has these three attributes:\n",
    "    - **Identity** – This refers to the address that the object refers to in the computer’s memory.\n",
    "    - **Type** – This refers to the kind of object that is created. For example- integer, list, string etc.\n",
    "    - **Value** – This refers to the value stored by the object. For example – List=[1,2,3] would hold the numbers 1,2 and 3\n",
    "\n",
    "While ID and Type cannot be changed once it’s created, values can be changed for Mutable objects."
   ]
  },
  {
   "cell_type": "markdown",
   "id": "f6d84ab9-b483-49da-9d48-7e4a29721631",
   "metadata": {
    "jp-MarkdownHeadingCollapsed": true,
    "tags": []
   },
   "source": [
    "### Mutable Objects in Python"
   ]
  },
  {
   "cell_type": "markdown",
   "id": "782ad29f-3124-4618-a378-d788bd2df9d8",
   "metadata": {},
   "source": [
    "\n",
    "\n",
    "    # Printing the elements from the list cities, separated by a comma & space\n",
    "    for city in cities:\n",
    "            print(city, end=’, ’)\n",
    "\n",
    "    Output [1]: Delhi, Mumbai, Kolkata\n",
    "\n",
    "    #Printing the location of the object created in the memory address in hexadecimal format\n",
    "    print(hex(id(cities)))\n",
    "\n",
    "    Output [2]: 0x1691d7de8c8\n",
    "\n",
    "    #Adding a new city to the list cities\n",
    "    cities.append(‘Chennai’)\n",
    "\n",
    "    #Printing the elements from the list cities, separated by a comma & space\n",
    "    for city in cities:\n",
    "        print(city, end=’, ’)\n",
    "\n",
    "    Output [3]: Delhi, Mumbai, Kolkata, Chennai\n",
    "\n",
    "    #Printing the location of the object created in the memory address in hexadecimal format\n",
    "    print(hex(id(cities)))\n",
    "\n",
    "    Output [4]: 0x1691d7de8c8"
   ]
  },
  {
   "cell_type": "markdown",
   "id": "687d4c1e-efb9-41c0-86b7-8c52e2c89cf8",
   "metadata": {},
   "source": [
    "    The above example shows us that we were able to change the internal state of the object ‘cities’ by adding one more city ‘Chennai’ to it, yet, the memory address of the object did not change. This confirms that we did not create a new object, rather, the same object was changed or mutated. Hence, we can say that the object which is a type of list with reference variable name ‘cities’ is a MUTABLE OBJECT.\n",
    "\n",
    "    Let us now discuss the term IMMUTABLE. Considering that we understood what mutable stands for, it is obvious that the definition of immutable will have ‘NOT’ included in it. Here is the simplest definition of immutable– An object whose internal state can NOT be changed is IMMUTABLE\n",
    "\n",
    "    Again, if you try and concentrate on different error messages, you have encountered, thrown by the respective IDE; you use you would be able to identify the immutable objects in Python. For instance, consider the below code & associated error message with it, while trying to change the value of a Tuple at index 0."
   ]
  },
  {
   "cell_type": "markdown",
   "id": "9e572a8a-155e-4772-bc37-b5b931c4dceb",
   "metadata": {},
   "source": [
    "    #Creating a Tuple with variable name ‘foo’\n",
    "    foo = (1, 2)\n",
    "\n",
    "    #Changing the index[0] value from 1 to 3\n",
    "    foo[0] = 3\n",
    "\n",
    "    TypeError: 'tuple' object does not support item assignment"
   ]
  },
  {
   "cell_type": "markdown",
   "id": "b41cfa28-ed4e-4bb9-aa3c-41c3882df599",
   "metadata": {
    "jp-MarkdownHeadingCollapsed": true,
    "tags": []
   },
   "source": [
    "### Immutable Objects in Python"
   ]
  },
  {
   "cell_type": "markdown",
   "id": "97ba5fa3-d8e5-4a1c-b1ec-f0556a61252c",
   "metadata": {},
   "source": [
    "    #Creating a Tuple which contains English name of weekdays\n",
    "    weekdays = ‘Sunday’, ‘Monday’, ‘Tuesday’, ‘Wednesday’, ‘Thursday’, ‘Friday’, ‘Saturday’\n",
    "\n",
    "    # Printing the elements of tuple weekdays\n",
    "    print(weekdays)\n",
    "\n",
    "    Output [1]:  (‘Sunday’, ‘Monday’, ‘Tuesday’, ‘Wednesday’, ‘Thursday’, ‘Friday’, ‘Saturday’)\n",
    "\n",
    "    #Printing the location of the object created in the memory address in hexadecimal format\n",
    "    print(hex(id(weekdays)))\n",
    "\n",
    "    Output [2]: 0x1691cc35090\n",
    "\n",
    "    #tuples are immutable, so you cannot add new elements, hence, using merge of tuples with the # + operator to add a new imaginary day in the tuple ‘weekdays’\n",
    "    weekdays  +=  ‘Pythonday’,\n",
    "\n",
    "    #Printing the elements of tuple weekdays\n",
    "    print(weekdays)\n",
    "\n",
    "    Output [3]: (‘Sunday’, ‘Monday’, ‘Tuesday’, ‘Wednesday’, ‘Thursday’, ‘Friday’, ‘Saturday’, ‘Pythonday’)\n",
    "\n",
    "    #Printing the location of the object created in the memory address in hexadecimal format\n",
    "    print(hex(id(weekdays)))\n",
    "\n",
    "    Output [4]: 0x1691cc8ad68"
   ]
  },
  {
   "cell_type": "markdown",
   "id": "fd711616-50a9-4348-8f07-5d191de90651",
   "metadata": {},
   "source": [
    "    This above example shows that we were able to use the same variable name that is referencing an object which is a type of tuple with seven elements in it. However, the ID or the memory location of the old & new tuple is not the same. We were not able to change the internal state of the object ‘weekdays’. The Python program manager created a new object in the memory address and the variable name ‘weekdays’ started referencing the new object with eight elements in it. Hence, we can say that the object which is a type of tuple with reference variable name ‘weekdays’ is an IMMUTABLE OBJECT."
   ]
  },
  {
   "cell_type": "markdown",
   "id": "64dcbe83-0630-4bd4-8520-6cfbfc655145",
   "metadata": {
    "jp-MarkdownHeadingCollapsed": true,
    "tags": []
   },
   "source": [
    "### Where to use Mutable and immutable objects?"
   ]
  },
  {
   "cell_type": "markdown",
   "id": "521dcc97-54c7-49b3-aa81-220ec7892b96",
   "metadata": {},
   "source": [
    "    Mutable objects can be used where you want to allow for any updates. For example, you have a list of employee names in your organizations, and that needs to be updated every time a new member is hired. You can create a mutable list, and it can be updated easily.\n",
    "\n",
    "    Immutability offers a lot of useful applications to different sensitive tasks we do in a network centred environment where we allow for parallel processing. By creating immutable objects, you seal the values and ensure that no threads can invoke overwrite/update to your data. This is also useful in situations where you would like to write a piece of code that cannot be modified. For example, a debug code that attempts to find the value of an immutable object.\n",
    "\n",
    "    Watch outs: Non transitive nature of Immutability:\n",
    "\n",
    "    In the above code, you can see that the object ‘person’ is immutable since it is a type of tuple. However, it has two lists as it’s elements, and we can change the state of lists (lists being mutable). So, here we did not change the object reference inside the Tuple, but the referenced object was mutated."
   ]
  },
  {
   "cell_type": "markdown",
   "id": "7f7ee786-751c-44a2-a657-78697b7e2b90",
   "metadata": {
    "jp-MarkdownHeadingCollapsed": true,
    "tags": []
   },
   "source": [
    "### Immutable Object containing Mutable Objects"
   ]
  },
  {
   "cell_type": "markdown",
   "id": "83c97b82-cefb-4ed6-b0af-8df886de4b5a",
   "metadata": {},
   "source": [
    "    OK! Now we do understand what mutable & immutable objects in Python are. Let’s go ahead and discuss the combination of these two and explore the possibilities. Let’s discuss, as to how will it behave if you have an immutable object which contains the mutable object(s)? Or vice versa?"
   ]
  },
  {
   "cell_type": "markdown",
   "id": "6ae5a4d4-9530-4822-b672-0d1eff587815",
   "metadata": {},
   "source": [
    "    #creating a tuple (immutable object) which contains 2 lists(mutable) as it’s elements\n",
    "    #The elements (lists) contains the name, age & gender\n",
    "    person = (['Ayaan', 5, 'Male'], ['Aaradhya', 8, 'Female'])\n",
    "\n",
    "    #printing the tuple\n",
    "    print(person)\n",
    "\n",
    "    Output [1]: (['Ayaan', 5, 'Male'], ['Aaradhya', 8, 'Female'])\n",
    "\n",
    "    #printing the location of the object created in the memory address in hexadecimal format\n",
    "    print(hex(id(person)))\n",
    "\n",
    "    Output [2]: 0x1691ef47f88\n",
    "\n",
    "    #Changing the age for the 1st element. Selecting 1st element of tuple by using indexing [0] then \n",
    "    #2nd element of the list by using indexing [1] and assigning a new value for age as 4\n",
    "    person[0][1] = 4\n",
    "\n",
    "    #printing the updated tuple\n",
    "    print(person)\n",
    "\n",
    "    Output [3]: (['Ayaan', 4, 'Male'], ['Aaradhya', 8, 'Female'])\n",
    "\n",
    "    #printing the location of the object created in the memory address in hexadecimal format\n",
    "    print(hex(id(person)))\n",
    "\n",
    "    Output [4]: 0x1691ef47f88"
   ]
  },
  {
   "cell_type": "markdown",
   "id": "28d8a463-2f58-445e-9128-d5d914982fef",
   "metadata": {
    "jp-MarkdownHeadingCollapsed": true,
    "tags": []
   },
   "source": [
    "### Mutable Object containing Immutable Objects"
   ]
  },
  {
   "cell_type": "markdown",
   "id": "08cf507e-3b86-45a5-89c6-0182479d1da3",
   "metadata": {},
   "source": [
    "    #creating a list (mutable object) which contains tuples(immutable) as it’s elements\n",
    "    list1 = [(1, 2, 3), (4, 5, 6)]\n",
    "\n",
    "    #printing the list\n",
    "    print(list1)\n",
    "\n",
    "    Output [1]: [(1, 2, 3), (4, 5, 6)]\n",
    "\n",
    "    #printing the location of the object created in the memory address in hexadecimal format\n",
    "    print(hex(id(list1)))\n",
    "\n",
    "    Output [2]: 0x1691d5b13c8\n",
    "\n",
    "    #changing object reference at index 0\n",
    "    list1[0] = (7, 8, 9)\n",
    "\n",
    "    #printing the list\n",
    "    Output [3]: [(7, 8, 9), (4, 5, 6)]\n",
    "\n",
    "    #printing the location of the object created in the memory address in hexadecimal format\n",
    "    print(hex(id(list1)))\n",
    "\n",
    "    Output [4]: 0x1691d5b13c8\n",
    "\n"
   ]
  },
  {
   "cell_type": "markdown",
   "id": "885e55a4-5566-4ab0-85b5-a761edcaaaa1",
   "metadata": {},
   "source": [
    "    As an individual, it completely depends upon you and your requirements as to what kind of data structure you would like to create with a combination of mutable & immutable objects. I hope that this information will help you while deciding the type of object you would like to select going forward."
   ]
  },
  {
   "cell_type": "markdown",
   "id": "1dd80ffb-35de-4a57-850f-fe8ebbf41d28",
   "metadata": {
    "jp-MarkdownHeadingCollapsed": true,
    "tags": []
   },
   "source": [
    "### CAVIATE"
   ]
  },
  {
   "cell_type": "markdown",
   "id": "f4b9c2d0-a987-443e-aa42-338021bb5f5d",
   "metadata": {},
   "source": [
    "    Before I end our discussion on IMMUTABILITY, allow me to use the word  ‘CAVITE’ when we discuss the String and Integers. There is an exception, and you may see some surprising results while checking the truthiness  for immutability.  \n",
    "\n",
    "    For instance:"
   ]
  },
  {
   "cell_type": "markdown",
   "id": "658da0da-c598-493a-9fa4-ee5e2d89c1d1",
   "metadata": {},
   "source": [
    "    #creating an object of integer type with value 10 and reference variable name ‘x’\n",
    "    x = 10\n",
    "\n",
    "    #printing the value of ‘x’\n",
    "    print(x)\n",
    "\n",
    "    Output [1]: 10\n",
    "\n",
    "    #Printing the location of the object created in the memory address in hexadecimal format\n",
    "    print(hex(id(x)))\n",
    "\n",
    "    Output [2]: 0x538fb560\n",
    "\n",
    "    #creating an object of integer type with value 10 and reference variable name ‘y’\n",
    "    y = 10\n",
    "\n",
    "    #printing the value of ‘y’\n",
    "    print(y)\n",
    "\n",
    "    Output [3]: 10\n",
    "\n",
    "    #Printing the location of the object created in the memory address in hexadecimal format\n",
    "    print(hex(id(y)))\n",
    "\n",
    "    Output [4]: 0x538fb560"
   ]
  },
  {
   "cell_type": "markdown",
   "id": "51728404-cf41-4e5a-ba1d-9660f08b7a30",
   "metadata": {},
   "source": [
    "    As per our discussion and understanding, so far, the memory address for x & y should have been different, since, 10 is an instance of Integer class which is immutable. However, as shown in the above code, it has the same memory address. This is not something that we expected. It seems that what we have understood and discussed, has an exception as well"
   ]
  },
  {
   "cell_type": "markdown",
   "id": "435f7f50-b665-4337-b709-ed37e0340842",
   "metadata": {
    "jp-MarkdownHeadingCollapsed": true,
    "tags": []
   },
   "source": [
    "### Immutability of Tuple"
   ]
  },
  {
   "cell_type": "markdown",
   "id": "4302da9c-d689-4a02-90c0-4f9d924843d6",
   "metadata": {},
   "source": [
    "    Tuples are immutable and hence cannot have any changes in them once they are created in Python. This is because they support the same sequence operations as strings. We all know that strings are immutable. The index operator will select an element from a tuple just like in a string. Hence, they are immutable."
   ]
  },
  {
   "cell_type": "markdown",
   "id": "1920f2a0-ab50-418b-8017-7705035457d7",
   "metadata": {
    "jp-MarkdownHeadingCollapsed": true,
    "tags": []
   },
   "source": [
    "### Exceptions in immutability"
   ]
  },
  {
   "cell_type": "markdown",
   "id": "19b64dfa-2c62-482a-bedf-31f854076843",
   "metadata": {},
   "source": [
    "    Like all, there are exceptions in the immutability in python too. Not all immutable objects are really mutable. This will lead to a lot of doubts in your mind. Let us just take an example to understand this.\n",
    "\n",
    "    Consider a tuple ‘tup’.\n",
    "\n",
    "    Now, if we consider tuple **tup = (‘GreatLearning’,[4,3,1,2])**;\n",
    "\n",
    "    We see that the tuple has elements of different data types. The first element here is a string which as we all know is immutable in nature. The second element is a list which we all know is mutable. Now, we all know that the tuple itself is an immutable data type. It cannot change its contents. But, the list inside it can change its contents. So, the value of the Immutable objects cannot be changed but its constituent objects can change its value."
   ]
  },
  {
   "cell_type": "markdown",
   "id": "954a87ba-f1a8-42ab-9afc-e2d42a587b1e",
   "metadata": {},
   "source": [
    "### Comparison Table"
   ]
  },
  {
   "cell_type": "markdown",
   "id": "19bd0313-f1da-460a-aaa3-49fb867841fc",
   "metadata": {},
   "source": [
    "|Object  |Type |Mutability |Indexing |Item Assignment   |Iterable |Function Support  |Data Types |\n",
    "---------|-----|-----------|---------|------------------|---------|------------------|-----------|\n",
    "|Lists|\tMutable\t|Yes|\tYes\t|Yes|\tYes(count,append..)\t|Heterogenous|\n",
    "|Strings |Immutable\t|Yes |\tNo\t|Yes |\tYes (split,join,replace..) |\tChar only|\n",
    "|Tuples\t |Immutable\t|Yes |\tNo |\tYes |\tNo (supports concatenation b/w lists) |\tHeterogenous\n",
    "|Sets\t |Mutable\t|No\t|No\t|Yes |\tNo (add, remove, update & Set Operations) |\tHeterogenous (immutable data types)\n",
    "|Dicts\t |Mutable\t|Yes (from 3.7) |Yes |Yes(keys, values, items) |No |Keys: Heterogenous  (immutable data types), Values: any python object"
   ]
  }
 ],
 "metadata": {
  "kernelspec": {
   "display_name": "Python 3 (ipykernel)",
   "language": "python",
   "name": "python3"
  },
  "language_info": {
   "codemirror_mode": {
    "name": "ipython",
    "version": 3
   },
   "file_extension": ".py",
   "mimetype": "text/x-python",
   "name": "python",
   "nbconvert_exporter": "python",
   "pygments_lexer": "ipython3",
   "version": "3.9.12"
  },
  "widgets": {
   "application/vnd.jupyter.widget-state+json": {
    "state": {},
    "version_major": 2,
    "version_minor": 0
   }
  }
 },
 "nbformat": 4,
 "nbformat_minor": 5
}
