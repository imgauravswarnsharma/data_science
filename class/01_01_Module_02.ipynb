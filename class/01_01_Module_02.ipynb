{
 "cells": [
  {
   "cell_type": "markdown",
   "id": "d78d5c85-edda-4111-88d5-bceaecf214b0",
   "metadata": {
    "jp-MarkdownHeadingCollapsed": true,
    "tags": []
   },
   "source": [
    "# Data Types"
   ]
  },
  {
   "cell_type": "code",
   "execution_count": 1,
   "id": "aa98acc7-54ac-44b5-8b2b-384335e64d8c",
   "metadata": {},
   "outputs": [
    {
     "name": "stdout",
     "output_type": "stream",
     "text": [
      "45\n"
     ]
    }
   ],
   "source": [
    "print(45)"
   ]
  },
  {
   "cell_type": "code",
   "execution_count": 2,
   "id": "90ab1e23-be5b-43b8-8d13-2d7740c62917",
   "metadata": {},
   "outputs": [
    {
     "name": "stdout",
     "output_type": "stream",
     "text": [
      "<class 'int'>\n"
     ]
    }
   ],
   "source": [
    "print(type(45))"
   ]
  },
  {
   "cell_type": "code",
   "execution_count": 3,
   "id": "da076374-cdcb-46f0-bd71-37a5bf2a6716",
   "metadata": {},
   "outputs": [
    {
     "name": "stdout",
     "output_type": "stream",
     "text": [
      "45.0\n"
     ]
    }
   ],
   "source": [
    "print(45.0)"
   ]
  },
  {
   "cell_type": "code",
   "execution_count": 4,
   "id": "fe4b8815-10ea-40af-aacd-12f5d041504c",
   "metadata": {},
   "outputs": [
    {
     "name": "stdout",
     "output_type": "stream",
     "text": [
      "<class 'float'>\n"
     ]
    }
   ],
   "source": [
    "print(type(45.0))"
   ]
  },
  {
   "cell_type": "code",
   "execution_count": 5,
   "id": "6e23af7a-cfc0-4614-939b-31b3a8ed5fde",
   "metadata": {},
   "outputs": [
    {
     "name": "stdout",
     "output_type": "stream",
     "text": [
      "This is String\n"
     ]
    }
   ],
   "source": [
    "print(\"This is String\")"
   ]
  },
  {
   "cell_type": "code",
   "execution_count": 6,
   "id": "e93f6f91-5e28-484e-876c-6566eb43e49d",
   "metadata": {},
   "outputs": [
    {
     "name": "stdout",
     "output_type": "stream",
     "text": [
      "<class 'str'>\n"
     ]
    }
   ],
   "source": [
    "print(type(\"This is String\"))"
   ]
  },
  {
   "cell_type": "code",
   "execution_count": 7,
   "id": "759bbc6a-6718-436a-a618-4ee92d250e65",
   "metadata": {},
   "outputs": [
    {
     "name": "stdout",
     "output_type": "stream",
     "text": [
      " \n"
     ]
    }
   ],
   "source": [
    "print(\" \")\n",
    "# This is a string with whitespaces"
   ]
  },
  {
   "cell_type": "code",
   "execution_count": 8,
   "id": "814ed54b-ca5a-4713-8f06-2628f39bbaa5",
   "metadata": {},
   "outputs": [
    {
     "name": "stdout",
     "output_type": "stream",
     "text": [
      "<class 'str'>\n"
     ]
    }
   ],
   "source": [
    "print(type(\" \"))"
   ]
  },
  {
   "cell_type": "code",
   "execution_count": 9,
   "id": "f89a8b83-857c-470e-93da-836034754bd1",
   "metadata": {},
   "outputs": [
    {
     "name": "stdout",
     "output_type": "stream",
     "text": [
      "True\n"
     ]
    }
   ],
   "source": [
    "print(True)\n",
    "# This is boolean"
   ]
  },
  {
   "cell_type": "code",
   "execution_count": 10,
   "id": "8fc0498c-81be-4a0c-bed0-f46721715212",
   "metadata": {},
   "outputs": [
    {
     "name": "stdout",
     "output_type": "stream",
     "text": [
      "<class 'bool'>\n"
     ]
    }
   ],
   "source": [
    "print(type(True))"
   ]
  },
  {
   "cell_type": "code",
   "execution_count": 11,
   "id": "e9e5b57c-19bb-413b-b5d2-5ff018ded96c",
   "metadata": {},
   "outputs": [
    {
     "name": "stdout",
     "output_type": "stream",
     "text": [
      "False\n"
     ]
    }
   ],
   "source": [
    "print(False)"
   ]
  },
  {
   "cell_type": "code",
   "execution_count": 12,
   "id": "15c2ced1-3f54-41a7-996a-90e18cfa7190",
   "metadata": {},
   "outputs": [
    {
     "name": "stdout",
     "output_type": "stream",
     "text": [
      "<class 'bool'>\n"
     ]
    }
   ],
   "source": [
    "print(type(False))"
   ]
  },
  {
   "cell_type": "code",
   "execution_count": 22,
   "id": "2980e716-50ac-4d43-b05a-be1bdb49f8c4",
   "metadata": {},
   "outputs": [
    {
     "name": "stdout",
     "output_type": "stream",
     "text": [
      "None\n"
     ]
    }
   ],
   "source": [
    "print(None)\n",
    "# represents emptiness in python. Completely different datatype representing emptiness"
   ]
  },
  {
   "cell_type": "markdown",
   "id": "209464e9-bf0c-452b-ae69-da62df6c69f9",
   "metadata": {},
   "source": [
    "represents empty in python. Completely different datatype representing emptiness"
   ]
  },
  {
   "cell_type": "code",
   "execution_count": 23,
   "id": "bfc99879-fd68-457d-a521-6e0c36bf5ce0",
   "metadata": {},
   "outputs": [
    {
     "name": "stdout",
     "output_type": "stream",
     "text": [
      "<class 'NoneType'>\n"
     ]
    }
   ],
   "source": [
    "print(type(None))"
   ]
  },
  {
   "cell_type": "markdown",
   "id": "39b0bb4a-3355-438b-b198-29bec26aabbf",
   "metadata": {},
   "source": [
    "+ **Invalid Variable name**  \n",
    "123_a = 5  \n",
    "\n",
    "\n",
    "+ **Valid Variable name**  \n",
    "a_123 = 5  \n",
    "_123 = 5\n",
    "\n",
    "* Any symbol other than _ is invalid for varaible name."
   ]
  },
  {
   "cell_type": "code",
   "execution_count": 29,
   "id": "6b1d3ce4-b00a-479b-a8a2-944d4502f56f",
   "metadata": {},
   "outputs": [
    {
     "ename": "SyntaxError",
     "evalue": "invalid decimal literal (2371112013.py, line 1)",
     "output_type": "error",
     "traceback": [
      "\u001b[0;36m  Cell \u001b[0;32mIn [29], line 1\u001b[0;36m\u001b[0m\n\u001b[0;31m    123_a = 5\u001b[0m\n\u001b[0m       ^\u001b[0m\n\u001b[0;31mSyntaxError\u001b[0m\u001b[0;31m:\u001b[0m invalid decimal literal\n"
     ]
    }
   ],
   "source": [
    "123_a = 5"
   ]
  },
  {
   "cell_type": "code",
   "execution_count": 31,
   "id": "0a9fcd4c-aaf1-4bd2-a5d4-f1d9b49b45c5",
   "metadata": {},
   "outputs": [],
   "source": [
    "a_123 = 5"
   ]
  },
  {
   "cell_type": "markdown",
   "id": "b5e2a986-a42f-4061-8817-0b7e2bfd893c",
   "metadata": {
    "tags": []
   },
   "source": [
    "# Operators"
   ]
  },
  {
   "cell_type": "markdown",
   "id": "4c8df8e4-ab16-4141-addb-37a65bd33189",
   "metadata": {
    "jp-MarkdownHeadingCollapsed": true,
    "tags": []
   },
   "source": [
    "## Truthy or Falsy Values"
   ]
  },
  {
   "cell_type": "markdown",
   "id": "abb3b14e-8b79-4cf1-a2ac-57d77e18820c",
   "metadata": {},
   "source": [
    "* All non-zero numbers are truthy values\n",
    "* All non-empty strings are truthy values\n",
    "* 0 is falsy\n",
    "* None is falsy\n",
    "* empty string is falsy"
   ]
  },
  {
   "cell_type": "markdown",
   "id": "5791703b-0fd2-40f3-a8a7-dfa65821a095",
   "metadata": {
    "jp-MarkdownHeadingCollapsed": true,
    "tags": []
   },
   "source": [
    "### Examples"
   ]
  },
  {
   "cell_type": "code",
   "execution_count": 36,
   "id": "45480f17-1344-4f22-b4e7-fbb26c845641",
   "metadata": {},
   "outputs": [
    {
     "data": {
      "text/plain": [
       "False"
      ]
     },
     "execution_count": 36,
     "metadata": {},
     "output_type": "execute_result"
    }
   ],
   "source": [
    "bool(\"\")"
   ]
  },
  {
   "cell_type": "code",
   "execution_count": 37,
   "id": "5583825b-e121-4f45-a810-c9ccdd99a15f",
   "metadata": {
    "tags": []
   },
   "outputs": [
    {
     "data": {
      "text/plain": [
       "False"
      ]
     },
     "execution_count": 37,
     "metadata": {},
     "output_type": "execute_result"
    }
   ],
   "source": [
    "bool(None)"
   ]
  },
  {
   "cell_type": "code",
   "execution_count": 32,
   "id": "1aecbfd2-b70e-4d5b-9302-9ebdd17fa96f",
   "metadata": {
    "tags": []
   },
   "outputs": [
    {
     "data": {
      "text/plain": [
       "False"
      ]
     },
     "execution_count": 32,
     "metadata": {},
     "output_type": "execute_result"
    }
   ],
   "source": [
    "bool(0)"
   ]
  },
  {
   "cell_type": "code",
   "execution_count": 33,
   "id": "f39cf6d7-63ac-4d36-93fc-731344b8f955",
   "metadata": {},
   "outputs": [
    {
     "data": {
      "text/plain": [
       "False"
      ]
     },
     "execution_count": 33,
     "metadata": {},
     "output_type": "execute_result"
    }
   ],
   "source": [
    "bool(0.0)"
   ]
  },
  {
   "cell_type": "markdown",
   "id": "b8f96cb0-38ad-45f8-bf4b-da644dd44302",
   "metadata": {
    "tags": []
   },
   "source": [
    "## Logical Operators"
   ]
  },
  {
   "cell_type": "markdown",
   "id": "c7e71072-ea4a-411f-b572-dced886a4c69",
   "metadata": {
    "jp-MarkdownHeadingCollapsed": true,
    "tags": []
   },
   "source": [
    "### Precedence of Operators\n",
    "    not(Highest)\n",
    "    and\n",
    "    or (Lowest)\n",
    "* Move from left to right as per precedence"
   ]
  },
  {
   "cell_type": "code",
   "execution_count": 39,
   "id": "ea57da69-1535-441c-a299-1f5e3cb22c3f",
   "metadata": {},
   "outputs": [
    {
     "name": "stdout",
     "output_type": "stream",
     "text": [
      "52\n"
     ]
    }
   ],
   "source": [
    "a=25 and 52\n",
    "print(a)\n",
    "\n",
    "##Shortcircuiting happening"
   ]
  },
  {
   "cell_type": "markdown",
   "id": "f8f369e1-ba3f-4741-ae27-7307e2e6dead",
   "metadata": {
    "jp-MarkdownHeadingCollapsed": true,
    "tags": []
   },
   "source": [
    "# Control Statements"
   ]
  },
  {
   "cell_type": "markdown",
   "id": "56405feb-dae4-4237-b9cf-40336c1698cc",
   "metadata": {},
   "source": [
    "\n",
    "    # these lines will aways run\n",
    "\n",
    "    if True:\n",
    "        # these lines will run if condition is true\n",
    "        #statement 2\n",
    "        ..\n",
    "        #statement n\n",
    "    else:\n",
    "            # these lines will run if condition is false\n",
    "        #statement 2\n",
    "        ..\n",
    "        #statement n\n",
    "\n",
    "    # these lines will aways run"
   ]
  },
  {
   "cell_type": "markdown",
   "id": "48f40de5-fd77-49b8-bc87-827593681f03",
   "metadata": {
    "jp-MarkdownHeadingCollapsed": true,
    "tags": []
   },
   "source": [
    "## Questions "
   ]
  },
  {
   "cell_type": "markdown",
   "id": "01e258d7-125b-4213-9ef4-055ce8b63811",
   "metadata": {
    "jp-MarkdownHeadingCollapsed": true,
    "tags": []
   },
   "source": [
    "#### Question 1\n",
    "    1. Take an integer as input from the user.\n",
    "    2. Calculate the cube of that input.\n",
    "    3. If result > 50 print \"Massive Number\" else print \"Small Number\"\n",
    "    4. After this print \"Code is complete!\""
   ]
  },
  {
   "cell_type": "code",
   "execution_count": 53,
   "id": "48f1327b-d650-498a-977d-5ff30fb6d654",
   "metadata": {},
   "outputs": [
    {
     "name": "stdin",
     "output_type": "stream",
     "text": [
      " 9\n"
     ]
    },
    {
     "name": "stdout",
     "output_type": "stream",
     "text": [
      "Massive Number\n",
      "Code is complete!\n"
     ]
    }
   ],
   "source": [
    "x = int(input())\n",
    "c = x**3\n",
    "if c > 50:\n",
    "    print(\"Massive Number\")\n",
    "else:\n",
    "    print(\"Small Number\")\n",
    "print(\"Code is complete!\")"
   ]
  },
  {
   "cell_type": "markdown",
   "id": "c267ad35-eb9f-4073-9e9e-0e471f30d634",
   "metadata": {
    "jp-MarkdownHeadingCollapsed": true,
    "tags": []
   },
   "source": [
    "#### Question 2\n",
    "    1. Take Password input from the user.\n",
    "    2. Take another input to verify password.\n",
    "    3. If both inputs are same -> \"Password matches! :)\"  \n",
    "    Otherwise, print \"Password mismatch, try again! :(\""
   ]
  },
  {
   "cell_type": "code",
   "execution_count": 47,
   "id": "2c7c9f2a-0040-4494-8377-81d98e79fb10",
   "metadata": {},
   "outputs": [
    {
     "name": "stdin",
     "output_type": "stream",
     "text": [
      "Enter Password:  qwerty\n",
      "Confirm Password:  qwerty\n"
     ]
    },
    {
     "name": "stdout",
     "output_type": "stream",
     "text": [
      "Password matched!\n"
     ]
    }
   ],
   "source": [
    "x = input(\"Enter Password: \")\n",
    "x1 = input(\"Confirm Password: \")\n",
    "if x == x1:\n",
    "    print(\"Password matched!\")\n",
    "else:\n",
    "    print(\"password mismatch! try again!\")"
   ]
  },
  {
   "cell_type": "markdown",
   "id": "28797e10-95eb-4a0a-88e6-1d442c61a7e9",
   "metadata": {
    "jp-MarkdownHeadingCollapsed": true,
    "tags": []
   },
   "source": [
    "#### Question 3\n",
    "    1. Take an amount as input from the user.\n",
    "    2. You only have 200 and 500 Rs Notes in the ATM. For one transaction,\n",
    "        you can only dispatch notes of a single type.\n",
    "    3. Given the amount - \n",
    "        - \"Dispatching Cash!\" if it can be dispatched.\n",
    "        - \"Denomination not available!\" if it can not be dispatched."
   ]
  },
  {
   "cell_type": "code",
   "execution_count": 56,
   "id": "63cd53a5-2c2f-45bf-be22-55e8fd6f4e74",
   "metadata": {},
   "outputs": [
    {
     "name": "stdin",
     "output_type": "stream",
     "text": [
      " 700\n"
     ]
    },
    {
     "name": "stdout",
     "output_type": "stream",
     "text": [
      "Denomination not available!\n"
     ]
    }
   ],
   "source": [
    "N = int(input())\n",
    "if N%200==0 or N%500==0:\n",
    "    print(\"Dispatching Cash!\")\n",
    "else:\n",
    "    print(\"Denomination not available!\")"
   ]
  },
  {
   "cell_type": "markdown",
   "id": "9cde68a2-5698-4991-bc3d-c522ca2524d1",
   "metadata": {
    "jp-MarkdownHeadingCollapsed": true,
    "tags": []
   },
   "source": [
    "#### Question 4\n",
    "    1. Take an integer as input.\n",
    "    2. Print whether the integer is positive or not."
   ]
  },
  {
   "cell_type": "code",
   "execution_count": 60,
   "id": "aade1e1c-70c5-4564-8305-23c701b5c314",
   "metadata": {},
   "outputs": [
    {
     "name": "stdin",
     "output_type": "stream",
     "text": [
      " 0\n"
     ]
    },
    {
     "name": "stdout",
     "output_type": "stream",
     "text": [
      "ZERO!\n"
     ]
    }
   ],
   "source": [
    "number = int(input())\n",
    "\n",
    "if number > 0:\n",
    "    print(\"Positive\")\n",
    "elif number == 0:\n",
    "    print(\"ZERO!\")\n",
    "else:\n",
    "    print(\"Negative\")"
   ]
  },
  {
   "cell_type": "markdown",
   "id": "6022966b-442a-4414-9c09-312bbc57addf",
   "metadata": {
    "jp-MarkdownHeadingCollapsed": true,
    "tags": []
   },
   "source": [
    "#### Question 5\n",
    "    Take a non-negative single digit number as int input.\n",
    "    If num**5 % 50 + 20 - 6 is > 15\n",
    "    then print(\"BLACK\") else print(\"BLUE\").\n",
    "\n",
    "    Note - Reject any inputs which are not single digit or positive\n"
   ]
  },
  {
   "cell_type": "code",
   "execution_count": 79,
   "id": "7c659785-a8db-4211-9a30-93af1abd428b",
   "metadata": {},
   "outputs": [
    {
     "name": "stdin",
     "output_type": "stream",
     "text": [
      " 10\n"
     ]
    },
    {
     "name": "stdout",
     "output_type": "stream",
     "text": [
      "Input rejected\n"
     ]
    }
   ],
   "source": [
    "x = int(input())\n",
    "if x>=0 and x<10:\n",
    "    if x**5%50+20-6 > 15:\n",
    "        print(\"BLACK\")\n",
    "    else:\n",
    "        print(\"Blue\")\n",
    "else:\n",
    "    print(\"Input rejected\")\n"
   ]
  },
  {
   "cell_type": "markdown",
   "id": "68631ca1-c645-471a-81c2-a216265c64c8",
   "metadata": {
    "jp-MarkdownHeadingCollapsed": true,
    "tags": []
   },
   "source": [
    "#### Question 6\n",
    "    Take in a string as input and if the entered language is \"Python\",\n",
    "    print(\"Great Choice\") else print(\"Think Again?\")"
   ]
  },
  {
   "cell_type": "code",
   "execution_count": 80,
   "id": "8c66f2f1-e4ae-4f88-b34c-204b1e13eff4",
   "metadata": {},
   "outputs": [
    {
     "name": "stdin",
     "output_type": "stream",
     "text": [
      " PYTHON\n"
     ]
    },
    {
     "name": "stdout",
     "output_type": "stream",
     "text": [
      "Great choice\n"
     ]
    }
   ],
   "source": [
    "x = input()\n",
    "x = x.lower()\n",
    "if x.lower() == \"python\":\n",
    "    print(\"Great choice\")\n",
    "else:\n",
    "    print(\"Think again?\")"
   ]
  },
  {
   "cell_type": "markdown",
   "id": "2c4e1d25-1f6c-4576-bad5-a02a77881ff5",
   "metadata": {
    "jp-MarkdownHeadingCollapsed": true,
    "tags": []
   },
   "source": [
    "#### Question 7\n",
    "    Feedback System - Take string feedback from a user.\n",
    "    Now,\n",
    "        If any the feedback is provided,\n",
    "            print(\"Thank you for providing the feedback\").\n",
    "        If feedback is \"Super\", \"Great\", \"Fantastic\", \"Awesome\",\n",
    "            print(\"Thank you so much!\")\n",
    "\n",
    "    Example ->\n",
    "    INPUT - Super\n",
    "    OUTPUT -\n",
    "    Thank you for providing feedback\n",
    "    Thank you so much!"
   ]
  },
  {
   "cell_type": "code",
   "execution_count": 84,
   "id": "ec4d9743-dae9-4750-8588-836004416193",
   "metadata": {},
   "outputs": [
    {
     "name": "stdin",
     "output_type": "stream",
     "text": [
      " SUPER\n"
     ]
    },
    {
     "name": "stdout",
     "output_type": "stream",
     "text": [
      "Thank you for your feedback\n",
      "Super thanks!\n"
     ]
    }
   ],
   "source": [
    "x = input()\n",
    "x =x.lower()\n",
    "if x == \"\":\n",
    "    print(\"Please provide feedback\")\n",
    "else:\n",
    "    print(\"Thank you for your feedback\")\n",
    "    \n",
    "    if x == \"super\" or x == \"great\" or x == \"fantastic\" or x == \"awesome\":\n",
    "        print(\"Super thanks!\")\n"
   ]
  },
  {
   "cell_type": "code",
   "execution_count": 87,
   "id": "d890b5c3-4f85-4165-8d13-fbaf35601328",
   "metadata": {},
   "outputs": [
    {
     "name": "stdin",
     "output_type": "stream",
     "text": [
      " 678\n"
     ]
    },
    {
     "name": "stdout",
     "output_type": "stream",
     "text": [
      "Thank you for providing feedback\n"
     ]
    }
   ],
   "source": [
    "'''\n",
    "Using Truthy or Falsy Concept\n",
    "'''\n",
    "\n",
    "x = input()\n",
    "x = x.lower()\n",
    "\n",
    "if not x: # true if feedback empty else false\n",
    "    print(\"Please provide feedback next time :)\")\n",
    "else:\n",
    "    print(\"Thank you for providing feedback\")\n",
    "    \n",
    "    if x == \"super\" or x == \"fantastic\" or x == \"great\":\n",
    "        print(\"Thank you so much :)\")"
   ]
  },
  {
   "cell_type": "markdown",
   "id": "23af5e81-0685-4f9f-a370-4b8bc9efc97a",
   "metadata": {
    "jp-MarkdownHeadingCollapsed": true,
    "tags": []
   },
   "source": [
    "# Control Statements 2"
   ]
  },
  {
   "cell_type": "markdown",
   "id": "edee71ec-6314-4f20-a560-b506b89a0083",
   "metadata": {},
   "source": [
    "**Stricter conditions must always be executed first or first condtion will get executed first and later condtions will not be evaluted.**\n",
    "\n",
    "For eg: A> 30 and A> 50. Then A>50 must be evaluted first or A>30 will get evaluted first if order is wrong and will give wrong output."
   ]
  },
  {
   "cell_type": "markdown",
   "id": "bf70acd8-5fbe-44a2-9f86-72021e882af3",
   "metadata": {
    "jp-MarkdownHeadingCollapsed": true,
    "tags": []
   },
   "source": [
    "## Questions"
   ]
  },
  {
   "cell_type": "markdown",
   "id": "5221d21c-612f-49bd-a144-3262f1f9bcbe",
   "metadata": {
    "jp-MarkdownHeadingCollapsed": true,
    "tags": []
   },
   "source": [
    "### Question 1\n",
    "\n",
    "    1. Take an integer input n\n",
    "    2. If N is a multiple of 3 -> print FIZZ\n",
    "    3. If N is a multiple of 5 -> print BUZZ\n",
    "    4. If N is a multiple of both 3 and 5 -> FIZZBUZZ\n",
    "\n",
    "    Otherwise print nothing.\n"
   ]
  },
  {
   "cell_type": "code",
   "execution_count": 8,
   "id": "9060f7ec-a0e0-49d0-895b-cb2f69ca56cb",
   "metadata": {},
   "outputs": [
    {
     "name": "stdin",
     "output_type": "stream",
     "text": [
      " 15\n"
     ]
    },
    {
     "name": "stdout",
     "output_type": "stream",
     "text": [
      "FIZZBUZZ\n"
     ]
    }
   ],
   "source": [
    "N = int(input())\n",
    "if N%3==0 and N%5==0:\n",
    "    print(\"FIZZBUZZ\")\n",
    "elif N%3==0:\n",
    "    print(\"FIZZ\")\n",
    "elif N%5==0:\n",
    "    print(\"BUZZ\")\n",
    "else:\n",
    "    print(\"\")"
   ]
  },
  {
   "cell_type": "code",
   "execution_count": 14,
   "id": "0176b25d-c052-4fb1-b478-f3cafe54a084",
   "metadata": {},
   "outputs": [
    {
     "name": "stdin",
     "output_type": "stream",
     "text": [
      " 15\n"
     ]
    },
    {
     "name": "stdout",
     "output_type": "stream",
     "text": [
      "FIZZBUZZ\n",
      "FIZZ\n",
      "BUZZ\n"
     ]
    }
   ],
   "source": [
    "##Pay attention to the output where it is multiple of both 3 & 5. Seperate if loops will get executed sepreately but ifelse loop will move out of loop once its get executed.\n",
    "\n",
    "N = int(input())\n",
    "if N%3==0 and N%5==0:\n",
    "    print(\"FIZZBUZZ\")\n",
    "if N%3==0:\n",
    "    print(\"FIZZ\")\n",
    "if N%5==0:\n",
    "    print(\"BUZZ\")\n",
    "else:\n",
    "    print(\"\")"
   ]
  },
  {
   "cell_type": "markdown",
   "id": "736c555a-19c8-4052-a881-592d753b6dd2",
   "metadata": {
    "jp-MarkdownHeadingCollapsed": true,
    "tags": []
   },
   "source": [
    "### Question 2\n",
    "\n",
    "    What will be the output of the following code?\n",
    "\n",
    "    a = 50\n",
    "    if a > 40:\n",
    "        print(\"A\")\n",
    "    if a > 30:\n",
    "        print(\"B\")\n",
    "    if a > 20:\n",
    "        print(\"C\")\n"
   ]
  },
  {
   "cell_type": "code",
   "execution_count": 9,
   "id": "62c1135c-5a0d-44d5-a2b1-96ed336a09d6",
   "metadata": {},
   "outputs": [
    {
     "name": "stdout",
     "output_type": "stream",
     "text": [
      "A\n",
      "B\n",
      "C\n"
     ]
    }
   ],
   "source": [
    "a = 50\n",
    "if a > 40:\n",
    "    print(\"A\")\n",
    "if a > 30:\n",
    "    print(\"B\")\n",
    "if a > 20:\n",
    "    print(\"C\")"
   ]
  },
  {
   "cell_type": "markdown",
   "id": "e669f621-c0a4-4dfd-8293-d048dde76adb",
   "metadata": {},
   "source": [
    "In the same question if elif condition was used it would have printed A and moved out of the loop so pay attention to the logic of conditions and use accordingly."
   ]
  },
  {
   "cell_type": "markdown",
   "id": "fba86b63-4f53-48e6-82b6-ab97fd982bfc",
   "metadata": {
    "jp-MarkdownHeadingCollapsed": true,
    "tags": []
   },
   "source": [
    "### Question 3\n",
    "\n",
    "    Take in three inputs from a user which are marks in english, maths and science.\n",
    "    Assign streams according to the following criteria.\n",
    "    - if science > 90 or marks in all subjects are greater than equal to 75 -> Science\n",
    "    - if marks in all subjects are greater than 60 -> Commerce\n",
    "    - if marks in any are less than or equal to 60 -> Humanities\n"
   ]
  },
  {
   "cell_type": "code",
   "execution_count": 15,
   "id": "59129c92-4aa2-4f11-be9a-07e769936b4f",
   "metadata": {},
   "outputs": [
    {
     "name": "stdin",
     "output_type": "stream",
     "text": [
      "Enter your English Marks:  90\n",
      "Enter your Maths Marks:  70\n",
      "Enter your Science Marks:  85\n"
     ]
    },
    {
     "name": "stdout",
     "output_type": "stream",
     "text": [
      "Your Stream is Commerce\n"
     ]
    }
   ],
   "source": [
    "English = int(input(\"Enter your English Marks: \"))\n",
    "Maths = int(input(\"Enter your Maths Marks: \"))\n",
    "Science = int(input(\"Enter your Science Marks: \"))\n",
    "\n",
    "if Science > 90 or (Science >= 75 and Maths >= 75 and English >=75):\n",
    "    print(\"Your Stream is Science\")\n",
    "elif Science >= 60 and Maths >= 60 and English >=60:\n",
    "    print(\"Your Stream is Commerce\")\n",
    "else:\n",
    "    print(\"Your Stream is Humanities\")"
   ]
  },
  {
   "cell_type": "markdown",
   "id": "19c6e6ee-d1f4-43e4-84ed-d29a7b4819c6",
   "metadata": {
    "tags": []
   },
   "source": [
    "### Bonus Questions"
   ]
  },
  {
   "cell_type": "markdown",
   "id": "cd15b755-82f5-4410-b137-29c1e10ef53e",
   "metadata": {
    "tags": []
   },
   "source": [
    "#### HW - Q1\n",
    "    1. Build a meter system for an auto. Take into two inputs. \n",
    "    Kilometers Travelled and Stall Time (in minutes). Rate List -\n",
    "    - First 10 kms - Rs 10 per Km\n",
    "    - Next 40 kms - Rs 9 per Km\n",
    "    - Next 100 kms - Rs 8 per Km\n",
    "    - Any leftover km count - Rs. 6 per Km\n",
    "\n",
    "    - Rs 5 extra for every minute of Stall Time."
   ]
  },
  {
   "cell_type": "code",
   "execution_count": 16,
   "id": "01523e69-742a-469c-9dbc-6c681d27d6b8",
   "metadata": {},
   "outputs": [
    {
     "name": "stdin",
     "output_type": "stream",
     "text": [
      " 120\n",
      " 5\n"
     ]
    },
    {
     "name": "stdout",
     "output_type": "stream",
     "text": [
      "1045\n"
     ]
    }
   ],
   "source": [
    "km = int(input())\n",
    "time = int(input())\n",
    "\n",
    "bill=0\n",
    "\n",
    "if km<=10:\n",
    "    bill = (km*10)+(time*5)\n",
    "elif km<=50:\n",
    "    bill = 100+(km-10)*9+(time*5)\n",
    "elif km<=150:\n",
    "    bill = 100+360+(km-50)*8+(time*5)\n",
    "else:\n",
    "    bill = 460+800+(km-150)*6+(time*5)\n",
    "    \n",
    "print(bill)\n",
    "    \n",
    "    "
   ]
  },
  {
   "cell_type": "markdown",
   "id": "89f75a12-db4e-49df-a075-24b132cb9db8",
   "metadata": {
    "jp-MarkdownHeadingCollapsed": true,
    "tags": []
   },
   "source": [
    " #### HW -Q2   \n",
    "    2. Generate electricity bill using the following rate card.\n",
    "    Take units consumed as input -\n",
    "    - If < 100 units -> Free\n",
    "    - If >= 100 units and < 200 units -> Rs 2 per unit\n",
    "    - If >= 200 units -> Rs 5 per unit"
   ]
  },
  {
   "cell_type": "code",
   "execution_count": 18,
   "id": "a4dda376-17b1-4687-8ec1-4e9a484c69dc",
   "metadata": {},
   "outputs": [
    {
     "name": "stdin",
     "output_type": "stream",
     "text": [
      " 500\n"
     ]
    },
    {
     "name": "stdout",
     "output_type": "stream",
     "text": [
      "Bill is 2500\n"
     ]
    }
   ],
   "source": [
    "units = int(input())\n",
    "if units < 100:\n",
    "    print(\"Bill is free!\")\n",
    "elif units>=100 and units <=200:\n",
    "    print(\"Bill is\", units*2)\n",
    "else:\n",
    "    print(\"Bill is\", units*5)"
   ]
  },
  {
   "cell_type": "markdown",
   "id": "03bd0565-37db-46dc-bccd-ea2f3b4a360e",
   "metadata": {
    "jp-MarkdownHeadingCollapsed": true,
    "tags": []
   },
   "source": [
    "## Short-Circuiting"
   ]
  },
  {
   "cell_type": "markdown",
   "id": "27f0685a-e13c-44ac-96ab-810e74c8549c",
   "metadata": {
    "jp-MarkdownHeadingCollapsed": true,
    "tags": []
   },
   "source": [
    "### Theory"
   ]
  },
  {
   "cell_type": "markdown",
   "id": "30267704-33a3-4e83-9a59-027ec010fd2e",
   "metadata": {
    "jp-MarkdownHeadingCollapsed": true,
    "tags": []
   },
   "source": [
    "In short circuiting, depending upon the logical operators and the outputs of operators(Truthy or Falsy) and will evalaute the statement accordingly.\n",
    "\n",
    "#### OR condition\n",
    "--------------\n",
    "    First Value Truthy --> First Value  \n",
    "    Second Value Truthy --> Second Value\n",
    "\n",
    "* **Truthy or any value**: Will output the truthy value and will not even evaluate the 2nd value. \n",
    "* **Falsy or any value**: Will output the 2nd value since 1st value is falsy.\n",
    "\n",
    "#### AND condition\n",
    "-----------\n",
    "    First Value Truthy --> Second Value\n",
    "    Second Value Truthy --> First Value\n",
    "    \n",
    "* **Truthy and any value**: If first value is truthy then operation will move to 2nd value due to and operator and will return second value as output.\n",
    "* **Falsy and any value**: Will output the 1st value and exit the operation since 1st value is already falsy so \"and\" condition will always be falsy now."
   ]
  },
  {
   "cell_type": "markdown",
   "id": "89bf65d2-ff4c-43b2-81a3-0d9721ef15f1",
   "metadata": {
    "jp-MarkdownHeadingCollapsed": true,
    "tags": []
   },
   "source": [
    "### Examples"
   ]
  },
  {
   "cell_type": "code",
   "execution_count": 21,
   "id": "b4184221-fb48-41d8-ad18-a0c44ad9bc58",
   "metadata": {},
   "outputs": [
    {
     "data": {
      "text/plain": [
       "5"
      ]
     },
     "execution_count": 21,
     "metadata": {},
     "output_type": "execute_result"
    }
   ],
   "source": [
    "5 or True"
   ]
  },
  {
   "cell_type": "code",
   "execution_count": 22,
   "id": "d25e0222-2966-4afa-a394-894c6c410958",
   "metadata": {},
   "outputs": [
    {
     "data": {
      "text/plain": [
       "7"
      ]
     },
     "execution_count": 22,
     "metadata": {},
     "output_type": "execute_result"
    }
   ],
   "source": [
    "0 or 7"
   ]
  },
  {
   "cell_type": "code",
   "execution_count": 23,
   "id": "b6657dcf-c702-4b65-82a8-170741dc9af2",
   "metadata": {},
   "outputs": [
    {
     "data": {
      "text/plain": [
       "True"
      ]
     },
     "execution_count": 23,
     "metadata": {},
     "output_type": "execute_result"
    }
   ],
   "source": [
    "True or 0"
   ]
  },
  {
   "cell_type": "code",
   "execution_count": 24,
   "id": "4e6c56e5-f3c3-4974-8e4a-3cef690c644e",
   "metadata": {},
   "outputs": [
    {
     "data": {
      "text/plain": [
       "True"
      ]
     },
     "execution_count": 24,
     "metadata": {},
     "output_type": "execute_result"
    }
   ],
   "source": [
    "1 and True"
   ]
  },
  {
   "cell_type": "code",
   "execution_count": 25,
   "id": "be03294d-2b98-41da-9382-86b3472236de",
   "metadata": {},
   "outputs": [
    {
     "data": {
      "text/plain": [
       "0"
      ]
     },
     "execution_count": 25,
     "metadata": {},
     "output_type": "execute_result"
    }
   ],
   "source": [
    "0 and True"
   ]
  },
  {
   "cell_type": "code",
   "execution_count": 26,
   "id": "b69bcdc1-4260-48af-8f06-3426a25f252d",
   "metadata": {},
   "outputs": [
    {
     "data": {
      "text/plain": [
       "0"
      ]
     },
     "execution_count": 26,
     "metadata": {},
     "output_type": "execute_result"
    }
   ],
   "source": [
    "1 and 0"
   ]
  },
  {
   "cell_type": "code",
   "execution_count": 28,
   "id": "d769789c-6a9a-42c0-9b17-cfab7db508f5",
   "metadata": {},
   "outputs": [
    {
     "data": {
      "text/plain": [
       "1"
      ]
     },
     "execution_count": 28,
     "metadata": {},
     "output_type": "execute_result"
    }
   ],
   "source": [
    "0 or 1"
   ]
  },
  {
   "cell_type": "code",
   "execution_count": 29,
   "id": "544fd5ae-b1a5-4c89-868d-c9d07286fe94",
   "metadata": {},
   "outputs": [
    {
     "data": {
      "text/plain": [
       "1"
      ]
     },
     "execution_count": 29,
     "metadata": {},
     "output_type": "execute_result"
    }
   ],
   "source": [
    "True and 1"
   ]
  },
  {
   "cell_type": "code",
   "execution_count": 34,
   "id": "a8cc4252-52a8-4353-be7a-7c2dbd13f1e3",
   "metadata": {},
   "outputs": [
    {
     "data": {
      "text/plain": [
       "True"
      ]
     },
     "execution_count": 34,
     "metadata": {},
     "output_type": "execute_result"
    }
   ],
   "source": [
    "True and False or True and True"
   ]
  },
  {
   "cell_type": "markdown",
   "id": "72f7891a-3500-411a-95b2-f2d91d3e002b",
   "metadata": {
    "jp-MarkdownHeadingCollapsed": true,
    "tags": []
   },
   "source": [
    "### Pattern Printingm"
   ]
  },
  {
   "cell_type": "code",
   "execution_count": 5,
   "id": "8e8bc693-8a96-4ca9-92d5-c92ce096c456",
   "metadata": {},
   "outputs": [
    {
     "name": "stdin",
     "output_type": "stream",
     "text": [
      " 4\n"
     ]
    },
    {
     "name": "stdout",
     "output_type": "stream",
     "text": [
      "*\n",
      "**\n",
      "***\n",
      "****\n"
     ]
    }
   ],
   "source": [
    "n = int(input())\n",
    "\n",
    "for i in range(n):\n",
    "    for j in range(i+1):\n",
    "        print('*',end = \"\")\n",
    "    print()"
   ]
  },
  {
   "cell_type": "code",
   "execution_count": null,
   "id": "97f79751-5edf-4e22-96f8-919aa0e348b5",
   "metadata": {},
   "outputs": [],
   "source": []
  },
  {
   "cell_type": "code",
   "execution_count": 15,
   "id": "f02301b3-4134-4744-ac82-999c478e6d83",
   "metadata": {},
   "outputs": [
    {
     "name": "stdin",
     "output_type": "stream",
     "text": [
      " 4\n"
     ]
    },
    {
     "name": "stdout",
     "output_type": "stream",
     "text": [
      "1\n",
      "12\n",
      "123\n",
      "1234\n"
     ]
    }
   ],
   "source": [
    "n = int(input())\n",
    "for i in range(1,n+1):\n",
    "    for j in range(1,i+1):\n",
    "        print(j, end=\"\")\n",
    "    print()"
   ]
  },
  {
   "cell_type": "code",
   "execution_count": 23,
   "id": "08a2cc7d-77ed-4478-aa25-16e46bc4e180",
   "metadata": {},
   "outputs": [
    {
     "name": "stdin",
     "output_type": "stream",
     "text": [
      " 4\n"
     ]
    },
    {
     "name": "stdout",
     "output_type": "stream",
     "text": [
      "*\n",
      "***\n",
      "*****\n",
      "*******\n"
     ]
    }
   ],
   "source": [
    "n = int(input())\n",
    "for i in range(n):\n",
    "    for j in range(-i, i+1):\n",
    "        print('*',end='')\n",
    "    print()\n",
    "\n"
   ]
  },
  {
   "cell_type": "code",
   "execution_count": null,
   "id": "63be022f-3591-4af0-aee5-d356704b29c0",
   "metadata": {},
   "outputs": [],
   "source": [
    "I have a specific Q regarding one question with Test that happened"
   ]
  },
  {
   "cell_type": "code",
   "execution_count": 21,
   "id": "65f810b1-dc70-4e41-88e6-d4b5d5937104",
   "metadata": {},
   "outputs": [
    {
     "name": "stdin",
     "output_type": "stream",
     "text": [
      " 6\n"
     ]
    },
    {
     "name": "stdout",
     "output_type": "stream",
     "text": [
      "\n",
      "*\n",
      "*2\n",
      "*2*\n",
      "*2*4\n",
      "*2*4*\n"
     ]
    }
   ],
   "source": [
    "n = int(input())\n",
    "\n",
    "for i in range(n):\n",
    "    for j in range(1,i+1):\n",
    "        if j%2!=0:\n",
    "            print(\"*\", end=\"\")\n",
    "        else:\n",
    "            print(j, end=\"\")\n",
    "    print()"
   ]
  },
  {
   "cell_type": "code",
   "execution_count": 33,
   "id": "9befc0c7-9dd3-4b54-8da6-0f00c63bc8eb",
   "metadata": {},
   "outputs": [
    {
     "ename": "IndentationError",
     "evalue": "unindent does not match any outer indentation level (<tokenize>, line 7)",
     "output_type": "error",
     "traceback": [
      "\u001b[0;36m  File \u001b[0;32m<tokenize>:7\u001b[0;36m\u001b[0m\n\u001b[0;31m    else:\u001b[0m\n\u001b[0m    ^\u001b[0m\n\u001b[0;31mIndentationError\u001b[0m\u001b[0;31m:\u001b[0m unindent does not match any outer indentation level\n"
     ]
    }
   ],
   "source": [
    " n = int(input())\n",
    "\n",
    "for i in range(n):\n",
    "    for j in range(i+1):\n",
    "        if i%2==0:\n",
    "            print('*',end = \"\")\n",
    "         else:\n",
    "            print(\" \", end=\"\")\n",
    "        print()"
   ]
  },
  {
   "cell_type": "code",
   "execution_count": 39,
   "id": "f4e8468d-6e01-4c41-b749-139942862b6e",
   "metadata": {},
   "outputs": [
    {
     "name": "stdin",
     "output_type": "stream",
     "text": [
      " 6\n"
     ]
    },
    {
     "name": "stdout",
     "output_type": "stream",
     "text": [
      "******\n",
      "*****\n",
      "****\n",
      "***\n",
      "**\n",
      "*\n"
     ]
    }
   ],
   "source": [
    "n = int(input())\n",
    "\n",
    "for i in range(n,0,-1):\n",
    "    for j in range(i):\n",
    "        print('*',end = \"\")\n",
    "    print()"
   ]
  },
  {
   "cell_type": "code",
   "execution_count": 41,
   "id": "fa5248ab-f0d9-4a31-9de8-e47e0530bde4",
   "metadata": {},
   "outputs": [
    {
     "name": "stdout",
     "output_type": "stream",
     "text": [
      "21\n"
     ]
    }
   ],
   "source": [
    "print(sum(range(0, 7)))"
   ]
  },
  {
   "cell_type": "markdown",
   "id": "6ef01498-d1e8-4d4e-a0ca-a89001c01d71",
   "metadata": {
    "jp-MarkdownHeadingCollapsed": true,
    "tags": []
   },
   "source": [
    "# While Loops"
   ]
  },
  {
   "cell_type": "markdown",
   "id": "eb7e30eb-acd9-480f-983e-5140d34dc83f",
   "metadata": {},
   "source": [
    "* All while loops consist of 3 steps:\n",
    "    * Initalization of value\n",
    "    * Condition definition\n",
    "    * Updation of value"
   ]
  },
  {
   "cell_type": "markdown",
   "id": "2cb7862b-86e8-418e-98a1-8ec588dffb0d",
   "metadata": {
    "jp-MarkdownHeadingCollapsed": true,
    "tags": []
   },
   "source": [
    "## Questions"
   ]
  },
  {
   "cell_type": "markdown",
   "id": "e327abdb-6f80-4347-b0a8-559c9130c500",
   "metadata": {
    "tags": []
   },
   "source": [
    "### Question 1\n",
    "\n",
    "Take an input from the user and print alternate numbers from from 1 to input.  \n",
    "Input will be a positive number > 1.  \n",
    "  \n",
    "INPUT - 7  \n",
    "OUTPUT - 1 3 5 7  \n",
    "\n",
    "Print the above output in reverse too  \n",
    "OUTPUT - 7 5 3 1"
   ]
  },
  {
   "cell_type": "code",
   "execution_count": 7,
   "id": "78a0c66a-0bdf-4101-af64-a2360ceb5647",
   "metadata": {},
   "outputs": [
    {
     "name": "stdin",
     "output_type": "stream",
     "text": [
      " 9\n"
     ]
    },
    {
     "name": "stdout",
     "output_type": "stream",
     "text": [
      "1 3 5 7 9 "
     ]
    }
   ],
   "source": [
    "x = int(input())\n",
    "i=1\n",
    "while i<=x:\n",
    "    print(i, end=\" \")\n",
    "    i+=2"
   ]
  },
  {
   "cell_type": "markdown",
   "id": "ceff794f-6c20-4cf1-85ae-f0499e521d9d",
   "metadata": {},
   "source": [
    "Printing the same in reverse "
   ]
  },
  {
   "cell_type": "code",
   "execution_count": 10,
   "id": "842fc32f-4823-4716-8c95-ea317cdd8129",
   "metadata": {},
   "outputs": [
    {
     "name": "stdin",
     "output_type": "stream",
     "text": [
      " 9\n"
     ]
    },
    {
     "name": "stdout",
     "output_type": "stream",
     "text": [
      "9 7 5 3 1 "
     ]
    }
   ],
   "source": [
    "x = int(input())\n",
    "i=1\n",
    "while i<=x:\n",
    "    print(x-i+1, end=\" \")\n",
    "    i+=2"
   ]
  },
  {
   "cell_type": "markdown",
   "id": "20cbfb68-d47c-4f04-8ebb-c6507663bf18",
   "metadata": {
    "jp-MarkdownHeadingCollapsed": true,
    "tags": []
   },
   "source": [
    "### Question 2\n",
    "\n",
    "Take an input from the user and print alternate numbers from from 1 to input.  \n",
    "If number is > 1 -> Print as required.  \n",
    "Else print \"Number is smaller than 1!\"  \n",
    "\n",
    "INPUT - 7  \n",
    "OUTPUT - 1 3 5 7\n",
    "\n",
    "INPUT - -5  \n",
    "OUTPUT - Number is smaller than or equal to 1!"
   ]
  },
  {
   "cell_type": "code",
   "execution_count": 23,
   "id": "43d38673-955d-4317-8748-ab612b47b326",
   "metadata": {},
   "outputs": [
    {
     "name": "stdin",
     "output_type": "stream",
     "text": [
      " 0\n"
     ]
    },
    {
     "name": "stdout",
     "output_type": "stream",
     "text": [
      "Number is smaller than 1!\n"
     ]
    }
   ],
   "source": [
    "x = int(input())\n",
    "i=1\n",
    "if x>=1:\n",
    "    while i<=x:\n",
    "        print(i, end=\" \")\n",
    "        i+=2\n",
    "else:\n",
    "    print(\"Number is smaller than 1!\" )"
   ]
  },
  {
   "cell_type": "markdown",
   "id": "3f5f03b2-2351-4ca2-8f46-322a33ebf9be",
   "metadata": {
    "jp-MarkdownHeadingCollapsed": true,
    "tags": []
   },
   "source": [
    "### Question 3\n",
    "\n",
    "Take two inputs from user for start and end integer values.  \n",
    "Print every third number starting at start till end (end included)."
   ]
  },
  {
   "cell_type": "code",
   "execution_count": 31,
   "id": "58a2458d-e358-46ec-a827-9bd4cb4c7604",
   "metadata": {},
   "outputs": [
    {
     "name": "stdin",
     "output_type": "stream",
     "text": [
      " 3\n",
      " 13\n"
     ]
    },
    {
     "name": "stdout",
     "output_type": "stream",
     "text": [
      "3 6 9 12 "
     ]
    }
   ],
   "source": [
    "x = int(input())\n",
    "y = int(input())\n",
    "i=x\n",
    "\n",
    "while i<=y:\n",
    "    print(i, end=\" \")\n",
    "    i+=3"
   ]
  },
  {
   "cell_type": "markdown",
   "id": "bdf057af-f9bb-4a56-862a-f369af044447",
   "metadata": {
    "jp-MarkdownHeadingCollapsed": true,
    "tags": []
   },
   "source": [
    "### Question 4  \n",
    "\n",
    "Take an input from user for start and end values.\n",
    "Print all even numbers between them. (start and end included)  \n",
    "\n",
    "INPUT - \n",
    "3\n",
    "7\n",
    "\n",
    "OUTPUT - 4 6\n",
    "\n",
    "Optmize it as much as possible. Very Very Important concept"
   ]
  },
  {
   "cell_type": "code",
   "execution_count": 2,
   "id": "648b7886-baf0-49b2-8212-df95a2cd654e",
   "metadata": {},
   "outputs": [
    {
     "name": "stdin",
     "output_type": "stream",
     "text": [
      " 2\n",
      " 10\n"
     ]
    },
    {
     "name": "stdout",
     "output_type": "stream",
     "text": [
      "2 4 6 8 10 "
     ]
    }
   ],
   "source": [
    "x = int(input())\n",
    "y = int(input())\n",
    "while x<=y:\n",
    "    if x%2==0:\n",
    "        print(x, end=\" \")\n",
    "    x+=1"
   ]
  },
  {
   "cell_type": "markdown",
   "id": "d5b0194b-e3ee-4f8b-bea7-adb03abd0f79",
   "metadata": {},
   "source": [
    "#### Optimization (Very Very Important)  \n",
    "Optimising this code further"
   ]
  },
  {
   "cell_type": "code",
   "execution_count": 4,
   "id": "df0cd434-0a30-486b-9953-22ad7d2fbf4d",
   "metadata": {},
   "outputs": [
    {
     "name": "stdin",
     "output_type": "stream",
     "text": [
      " 3\n",
      " 10\n"
     ]
    },
    {
     "name": "stdout",
     "output_type": "stream",
     "text": [
      "4 6 8 10 "
     ]
    }
   ],
   "source": [
    "x = int(input())\n",
    "y = int(input())\n",
    "\n",
    "if x%2==0:\n",
    "    x=x\n",
    "else:\n",
    "    x+=1\n",
    "while x<=y:\n",
    "    print(x, end = \" \")\n",
    "    x+=2\n",
    "        "
   ]
  },
  {
   "cell_type": "markdown",
   "id": "2c49f1d0-284b-4237-a29a-e7b533dab0bd",
   "metadata": {
    "jp-MarkdownHeadingCollapsed": true,
    "tags": []
   },
   "source": [
    "### Question 5  \n",
    "\n",
    "Take a number input from user.\n",
    "Print its multiplication table till 10th multiple.\n",
    "\n",
    "INPUT - 7  \n",
    "OUTPUT - 7 14 21 28 35 42 49 56 63 70"
   ]
  },
  {
   "cell_type": "code",
   "execution_count": 33,
   "id": "66b7030c-ebac-48ea-8c68-174c4c0c0547",
   "metadata": {},
   "outputs": [
    {
     "name": "stdin",
     "output_type": "stream",
     "text": [
      " 6\n"
     ]
    },
    {
     "name": "stdout",
     "output_type": "stream",
     "text": [
      "6 12 18 24 30 36 42 48 54 60 "
     ]
    }
   ],
   "source": [
    "x = int(input())\n",
    "i=1\n",
    "\n",
    "while i<=10:\n",
    "    print(x*i, end=\" \")\n",
    "    i+=1"
   ]
  },
  {
   "cell_type": "markdown",
   "id": "e0d38424-55d3-49c7-ac59-feda2a980410",
   "metadata": {
    "jp-MarkdownHeadingCollapsed": true,
    "tags": []
   },
   "source": [
    "### Question 6  \n",
    "\n",
    "Take an integer input from user. This is the number of test cases. (count)  \n",
    "Take int for each count from the user.  \n",
    "Print multiplication table of that integer.\n",
    "\n",
    "\n",
    "INPUT - 3\n",
    "\n",
    "OUTPUT - \n",
    "Please input number 1 - 2  \n",
    "Multiplication table - 2 4 6 8 10 12 14 16 18 20\n",
    "\n",
    "Plese input number 2 -  \n",
    "Multiplication table - 1 2 3 4 5 6 7 8 9 10\n",
    "\n",
    "Please input number 3 - 5  \n",
    "Multiplication table - 5 10 15 20 25 30 35 40 45 50"
   ]
  },
  {
   "cell_type": "code",
   "execution_count": 17,
   "id": "97cc49f6-bb99-409e-9833-276692a69a68",
   "metadata": {},
   "outputs": [
    {
     "name": "stdin",
     "output_type": "stream",
     "text": [
      "Input the number of test cases:  3\n"
     ]
    },
    {
     "name": "stdout",
     "output_type": "stream",
     "text": [
      "\n"
     ]
    },
    {
     "name": "stdin",
     "output_type": "stream",
     "text": [
      "Plese input a number:  4\n"
     ]
    },
    {
     "name": "stdout",
     "output_type": "stream",
     "text": [
      "4 8 12 16 20 24 28 32 36 40 "
     ]
    },
    {
     "name": "stdin",
     "output_type": "stream",
     "text": [
      "Plese input a number:  6\n"
     ]
    },
    {
     "name": "stdout",
     "output_type": "stream",
     "text": [
      "6 12 18 24 30 36 42 48 54 60 "
     ]
    },
    {
     "name": "stdin",
     "output_type": "stream",
     "text": [
      "Plese input a number:  8\n"
     ]
    },
    {
     "name": "stdout",
     "output_type": "stream",
     "text": [
      "8 16 24 32 40 48 56 64 72 80 "
     ]
    }
   ],
   "source": [
    "test_case = int(input(\"Input the number of test cases: \"))\n",
    "print()\n",
    "i=1\n",
    "while i<=test_case:\n",
    "    multiple = int(input(\"Plese input a number: \"))\n",
    "    x=1\n",
    "    while x<11:\n",
    "        print(multiple*x, end=\" \")\n",
    "        x+=1\n",
    "    i+=1\n",
    "    "
   ]
  },
  {
   "cell_type": "markdown",
   "id": "35400dce-3936-4408-bc2c-bad0333c6b18",
   "metadata": {
    "jp-MarkdownHeadingCollapsed": true,
    "tags": []
   },
   "source": [
    "# For Loops"
   ]
  },
  {
   "cell_type": "markdown",
   "id": "9558ec0c-c701-4b68-908b-8aa85612221b",
   "metadata": {
    "tags": []
   },
   "source": [
    "* i is iterator and range() is iterable.\n",
    "* strings cal also be used as iterable in  \n",
    "\n",
    "##### Difference b/w if, while and for loop?\n",
    "\n",
    "* If condition will execute once if the condtion is statisfied.\n",
    "* While loop will keep executing till the condition is false.\n",
    "* for loop will execute as per the range of iterable.\n",
    "\n"
   ]
  },
  {
   "cell_type": "markdown",
   "id": "090f8fb6-4dca-4826-846a-1e758c1cae49",
   "metadata": {
    "jp-MarkdownHeadingCollapsed": true,
    "tags": []
   },
   "source": [
    "## Questions"
   ]
  },
  {
   "cell_type": "markdown",
   "id": "dc1475b5-1646-4d54-ae77-0dc4bbf8d1a2",
   "metadata": {
    "jp-MarkdownHeadingCollapsed": true,
    "tags": []
   },
   "source": [
    "### Question 1\n",
    "\n",
    "Print all numbers from 1 to N using a for loop. N included.  \n",
    "Take N as input from the user."
   ]
  },
  {
   "cell_type": "code",
   "execution_count": 3,
   "id": "7b5e8d02-ca5f-43f3-802a-e831a85cb3df",
   "metadata": {},
   "outputs": [
    {
     "name": "stdin",
     "output_type": "stream",
     "text": [
      " 5\n"
     ]
    },
    {
     "name": "stdout",
     "output_type": "stream",
     "text": [
      "1 2 3 4 5 "
     ]
    }
   ],
   "source": [
    "N = int(input())\n",
    "\n",
    "for i in range(1,N+1):\n",
    "    print(i, end=\" \")"
   ]
  },
  {
   "cell_type": "markdown",
   "id": "6256d88e-4e64-446b-863e-29a2f1d45420",
   "metadata": {
    "jp-MarkdownHeadingCollapsed": true,
    "tags": []
   },
   "source": [
    "### Question 2\n",
    "\n",
    "Take N as input from the user.  \n",
    "Calculate the sum of all numbers from 1 to N. (N included)"
   ]
  },
  {
   "cell_type": "code",
   "execution_count": 27,
   "id": "23c56568-dedc-4ebc-9836-566a95873e77",
   "metadata": {},
   "outputs": [
    {
     "name": "stdin",
     "output_type": "stream",
     "text": [
      " 5\n"
     ]
    },
    {
     "name": "stdout",
     "output_type": "stream",
     "text": [
      "15\n"
     ]
    }
   ],
   "source": [
    "N = int(input())\n",
    "\n",
    "add = 0\n",
    "\n",
    "for i in range(1,N+1):\n",
    "    add+=i\n",
    "print(add)"
   ]
  },
  {
   "cell_type": "markdown",
   "id": "90000be4-ba27-42ee-8349-bdc64878f9a0",
   "metadata": {
    "jp-MarkdownHeadingCollapsed": true,
    "tags": []
   },
   "source": [
    "### Question 3\n",
    "Take N an input from the user.  \n",
    "Calculate the product of all numbers from 1 to N. (N included)"
   ]
  },
  {
   "cell_type": "code",
   "execution_count": 12,
   "id": "36c6891b-25b6-4aeb-8a4c-300c260b0920",
   "metadata": {},
   "outputs": [
    {
     "name": "stdin",
     "output_type": "stream",
     "text": [
      " 4\n"
     ]
    },
    {
     "name": "stdout",
     "output_type": "stream",
     "text": [
      "24\n"
     ]
    }
   ],
   "source": [
    "N = int(input())\n",
    "product = 1\n",
    "for i in range(1,N+1):\n",
    "    product*=i\n",
    "print(product)"
   ]
  },
  {
   "cell_type": "markdown",
   "id": "b4d063c5-3798-4a79-bdd8-b5078bcdc4a7",
   "metadata": {
    "jp-MarkdownHeadingCollapsed": true,
    "tags": []
   },
   "source": [
    "### Question 4\n",
    "\n",
    "Take N as input from the user.  \n",
    "Calculate the product of all even numbers between 1 and N.   \n",
    "Both included."
   ]
  },
  {
   "cell_type": "code",
   "execution_count": 15,
   "id": "3bb2f923-ae8f-4144-8e82-2e934c8ceb70",
   "metadata": {},
   "outputs": [
    {
     "name": "stdin",
     "output_type": "stream",
     "text": [
      " 6\n"
     ]
    },
    {
     "name": "stdout",
     "output_type": "stream",
     "text": [
      "48\n"
     ]
    }
   ],
   "source": [
    "N = int(input())\n",
    "product = 1\n",
    "for i in range(2,N+1,2):\n",
    "    product*=i\n",
    "print(product)"
   ]
  },
  {
   "cell_type": "markdown",
   "id": "1bfc8896-96d2-4bd4-b5e7-91f90d7e5574",
   "metadata": {
    "jp-MarkdownHeadingCollapsed": true,
    "tags": []
   },
   "source": [
    "### Question 5\n",
    "Take start and end as input from the user.  \n",
    "Calculate the product of all even numbers between start and end.  \n",
    "Both included."
   ]
  },
  {
   "cell_type": "code",
   "execution_count": 21,
   "id": "57233881-e718-46b3-82b3-25565231bdf2",
   "metadata": {},
   "outputs": [
    {
     "name": "stdin",
     "output_type": "stream",
     "text": [
      " 2\n",
      " 6\n"
     ]
    },
    {
     "name": "stdout",
     "output_type": "stream",
     "text": [
      "48\n"
     ]
    }
   ],
   "source": [
    "start = int(input())\n",
    "end = int(input())\n",
    "product = 1\n",
    "if start % 2==0:\n",
    "    start=start\n",
    "else:\n",
    "    start+=1\n",
    "for i in range(start,end+1,2):\n",
    "    product*=i\n",
    "print(product)\n"
   ]
  },
  {
   "cell_type": "markdown",
   "id": "dbb67587-9428-4b1e-8794-c9beb712ecc0",
   "metadata": {
    "jp-MarkdownHeadingCollapsed": true,
    "tags": []
   },
   "source": [
    "### Question 6\n",
    "Print all the numbers from an input N to 1 in reverse order. 1 included.  \n",
    "N > 1 -> Given"
   ]
  },
  {
   "cell_type": "code",
   "execution_count": 24,
   "id": "5dfb9afa-9dd4-4dc4-9b9f-60c6a599f8dd",
   "metadata": {},
   "outputs": [
    {
     "name": "stdin",
     "output_type": "stream",
     "text": [
      " 5\n"
     ]
    },
    {
     "name": "stdout",
     "output_type": "stream",
     "text": [
      "5 4 3 2 1 "
     ]
    }
   ],
   "source": [
    "N = int(input())\n",
    "for i in range(N,0,-1):\n",
    "    print(i, end=\" \")"
   ]
  },
  {
   "cell_type": "markdown",
   "id": "75cf966c-3539-42a7-bfed-06483a1a1177",
   "metadata": {
    "jp-MarkdownHeadingCollapsed": true,
    "tags": []
   },
   "source": [
    "### Question 7\n",
    "Print all the numbers from an input N to 1 in reverse order. 1 included.  \n",
    "Without using a negative jump!"
   ]
  },
  {
   "cell_type": "code",
   "execution_count": 26,
   "id": "e14d6fec-ba5c-44f3-92a7-25b395b0cdc7",
   "metadata": {},
   "outputs": [
    {
     "name": "stdin",
     "output_type": "stream",
     "text": [
      " 5\n"
     ]
    },
    {
     "name": "stdout",
     "output_type": "stream",
     "text": [
      "5 4 3 2 1 "
     ]
    }
   ],
   "source": [
    "N = int(input())\n",
    "for i in range(1,N+1):\n",
    "    print(N+1-i, end=\" \")"
   ]
  },
  {
   "cell_type": "markdown",
   "id": "2e226d55-70d9-4b6c-8b57-2ee49de4577f",
   "metadata": {
    "jp-MarkdownHeadingCollapsed": true,
    "tags": []
   },
   "source": [
    "##### Alternative approach discussed by Bipin  \n",
    "\n",
    "*Very Very Interesting*. Try to explore alternative approaches first by self"
   ]
  },
  {
   "cell_type": "code",
   "execution_count": 28,
   "id": "9743dca0-a966-4b08-9bd3-f72d2256a3b5",
   "metadata": {},
   "outputs": [
    {
     "name": "stdin",
     "output_type": "stream",
     "text": [
      " 5\n"
     ]
    },
    {
     "name": "stdout",
     "output_type": "stream",
     "text": [
      "5 4 3 2 1 "
     ]
    }
   ],
   "source": [
    "N = int(input())\n",
    "for i in range(-N,0):\n",
    "    print(-i, end=\" \")"
   ]
  },
  {
   "cell_type": "markdown",
   "id": "21f0a71d-b2d3-42c2-8bf8-e5ebbb523963",
   "metadata": {
    "tags": []
   },
   "source": [
    "# Nested Loops & Jump Statements"
   ]
  },
  {
   "cell_type": "markdown",
   "id": "213bb4c6-ab3b-4aea-b283-d80e569754a4",
   "metadata": {
    "jp-MarkdownHeadingCollapsed": true,
    "tags": []
   },
   "source": [
    "### Jump Statements Theory and Examples"
   ]
  },
  {
   "cell_type": "markdown",
   "id": "9e738920-0b5f-4749-b6e7-6815db1ca02f",
   "metadata": {},
   "source": [
    "* pass simply acts as a placeholder or filler.\n",
    "* continue will push the code to next iteration.\n",
    "* break will stop the iteration and move to next block or loop.\n",
    "        \n",
    "        For eg: you want to fill the body of a block so that syntax error does not happens.\n",
    "        for i in range(5):\n",
    "                if i==3:\n",
    "                    pass\n",
    "                print(i, end=\" \")\n",
    "        \n",
    "        #Nothing will happen here"
   ]
  },
  {
   "cell_type": "code",
   "execution_count": 27,
   "id": "78071181-e8f5-4c15-a713-0e22bcd6f268",
   "metadata": {},
   "outputs": [
    {
     "name": "stdout",
     "output_type": "stream",
     "text": [
      "0 1 2 3 4 "
     ]
    }
   ],
   "source": [
    "'''\n",
    "For eg PASS: you want to fill the body of a block so \n",
    "that syntax error does not happens.\n",
    "'''\n",
    "\n",
    "for i in range(5):\n",
    "    if i==3:\n",
    "        pass\n",
    "    print(i, end=\" \")\n",
    "    \n",
    "#Nothing will happen here\n",
    "        "
   ]
  },
  {
   "cell_type": "code",
   "execution_count": 26,
   "id": "c75b5586-4246-4802-b815-9deb50c09e38",
   "metadata": {},
   "outputs": [
    {
     "name": "stdout",
     "output_type": "stream",
     "text": [
      "0 1 2 \n",
      "\n",
      "This is continue block execution example for reference for i==3. \n",
      "If there was nothing in the execution block before continue it would have simply moved to next iteration 4 and would not have printed anything for i==3.\n",
      "\n",
      "4 5 6 "
     ]
    }
   ],
   "source": [
    "'''\n",
    "For eg continue: to move to the next iteration\n",
    "'''\n",
    "\n",
    "for i in range(7):\n",
    "    if i==3:\n",
    "        print(\"\\n\\nThis is continue block execution example for reference for i==3. \\nIf there was nothing in the execution block before continue it would have simply moved to next iteration 4 and would not have printed anything for i==3.\", end=\"\\n\\n\")\n",
    "        continue\n",
    "        print(\"no execution after continue\")\n",
    "    print(i, end=\" \")\n",
    "    \n",
    "#will skip and move to next iteration"
   ]
  },
  {
   "cell_type": "code",
   "execution_count": 31,
   "id": "d8f099b2-6dc0-42dd-bc18-34f0de684dd9",
   "metadata": {},
   "outputs": [
    {
     "name": "stdout",
     "output_type": "stream",
     "text": [
      "0 1 2 \n",
      "\n",
      "This is break block execution example for reference for i==3. \n",
      "If there was nothing in the execution block before break it would have simply exited out of loop. It will not execute any iterations and will move out of loop after i==3 ending the operation there.\n",
      "\n"
     ]
    }
   ],
   "source": [
    "'''\n",
    "For eg break: It will stop all the iterations for that block and \n",
    "will move out of loop or block\n",
    "'''\n",
    "\n",
    "for i in range(7):\n",
    "    if i==3:\n",
    "        print(\"\\n\\nThis is break block execution example for reference for i==3. \\nIf there was nothing in the execution block before break it would have simply exited out of loop. It will not execute any iterations and will move out of loop after i==3 ending the operation there.\", end=\"\\n\\n\")\n",
    "        break\n",
    "        print(\"no execution after continue\")\n",
    "    print(i, end=\" \")\n",
    "    \n",
    "#will skip and move to next iteration"
   ]
  },
  {
   "cell_type": "markdown",
   "id": "575a8803-d9db-43e2-bc5d-9e9099ec0908",
   "metadata": {
    "jp-MarkdownHeadingCollapsed": true,
    "tags": []
   },
   "source": [
    "## Questions"
   ]
  },
  {
   "cell_type": "markdown",
   "id": "d7d0899d-12c3-44f6-8af3-136dee68f15d",
   "metadata": {
    "tags": []
   },
   "source": [
    "### Question 1\n",
    "\n",
    "    Write a loop to print the following numbers -> 1,4,7,10,13,16"
   ]
  },
  {
   "cell_type": "code",
   "execution_count": 35,
   "id": "9b90456c-ac0c-4675-a96e-6a89b82d81ea",
   "metadata": {},
   "outputs": [
    {
     "name": "stdout",
     "output_type": "stream",
     "text": [
      "1, 4, 7, 10, 13, 16"
     ]
    }
   ],
   "source": [
    "for i in range(1,17,3):\n",
    "    if i==16:\n",
    "        print(i, end =\"\")\n",
    "        continue\n",
    "    print(i, end = \", \")\n",
    "    "
   ]
  },
  {
   "cell_type": "markdown",
   "id": "187df45f-dac1-4442-8872-bfbe77bc5c0d",
   "metadata": {
    "jp-MarkdownHeadingCollapsed": true,
    "tags": []
   },
   "source": [
    "### Question 2\n",
    "\n",
    "    Write a loop to print the following numbers ->\n",
    "    1,1,3,7,13,21,31,43"
   ]
  },
  {
   "cell_type": "code",
   "execution_count": 23,
   "id": "976407f2-41bc-4cb9-b84d-73b4db868a22",
   "metadata": {},
   "outputs": [
    {
     "name": "stdout",
     "output_type": "stream",
     "text": [
      "1,1,3,7,13,21,31,43\n"
     ]
    }
   ],
   "source": [
    "num = 1\n",
    "for i in range(44):\n",
    "    num = num+2*i\n",
    "    if num == 1:\n",
    "         print(num, end=\",\")\n",
    "    if num<43:\n",
    "        print(num, end=\",\")\n",
    "    else:\n",
    "        print(num)\n",
    "        break"
   ]
  },
  {
   "cell_type": "markdown",
   "id": "dfadba59-f4f1-4053-b2fa-13729f420c6d",
   "metadata": {
    "jp-MarkdownHeadingCollapsed": true,
    "tags": []
   },
   "source": [
    "##### In above solution used unncessary if condition so optimizing it further below"
   ]
  },
  {
   "cell_type": "code",
   "execution_count": 26,
   "id": "48e97532-613c-4e67-86e5-4e70d105ed40",
   "metadata": {},
   "outputs": [
    {
     "name": "stdout",
     "output_type": "stream",
     "text": [
      "1,1,3,7,13,21,31,43\n"
     ]
    }
   ],
   "source": [
    "num = 1\n",
    "for i in range(44):\n",
    "    if num<43:\n",
    "        print(num, end=\",\")\n",
    "        num = num+2*i\n",
    "    else:\n",
    "        print(num)\n",
    "        break"
   ]
  },
  {
   "cell_type": "markdown",
   "id": "c5f4f27a-9852-4d1c-b124-5df563070048",
   "metadata": {
    "jp-MarkdownHeadingCollapsed": true,
    "tags": []
   },
   "source": [
    "##### Bipin's approach"
   ]
  },
  {
   "cell_type": "code",
   "execution_count": 37,
   "id": "a01f1107-a5f8-47eb-991a-15d983df4d3c",
   "metadata": {},
   "outputs": [
    {
     "name": "stdout",
     "output_type": "stream",
     "text": [
      "1,3,7,13,21,31,43"
     ]
    }
   ],
   "source": [
    "num = 1\n",
    "i=1\n",
    "while num<=43:\n",
    "    if num==43:\n",
    "        print(num, end=\"\")\n",
    "    else:\n",
    "        print(num, end=\",\")\n",
    "    num = num+2*i\n",
    "    i+=1"
   ]
  },
  {
   "cell_type": "markdown",
   "id": "d74f8b13-7178-4bdf-8928-66dc694e2713",
   "metadata": {
    "jp-MarkdownHeadingCollapsed": true,
    "tags": []
   },
   "source": [
    "### Question 3\n",
    "\n",
    "    Write a program that continuously asks the user to provide an input number.\n",
    "    The program should stop only when the user provides 5.\n",
    "    Once the user provides 5. The program should print the number of times an input was provided.\n",
    "    Assume that user always provides a number!\n",
    "\n",
    "    Example ->\n",
    "    10\n",
    "    12\n",
    "    3\n",
    "    4\n",
    "    6\n",
    "    7\n",
    "    1\n",
    "    0\n",
    "    101\n",
    "    5\n",
    "    You Provided 10 inputs!"
   ]
  },
  {
   "cell_type": "markdown",
   "id": "f5d5b30a-493a-4e8d-bfdc-c7e04e9c99f9",
   "metadata": {
    "jp-MarkdownHeadingCollapsed": true,
    "tags": []
   },
   "source": [
    "##### My approach"
   ]
  },
  {
   "cell_type": "code",
   "execution_count": 52,
   "id": "04ebc45f-ae58-4356-9147-a226e59e9fdb",
   "metadata": {},
   "outputs": [
    {
     "name": "stdin",
     "output_type": "stream",
     "text": [
      " 5\n"
     ]
    },
    {
     "name": "stdout",
     "output_type": "stream",
     "text": [
      "You have 1 numbers\n"
     ]
    }
   ],
   "source": [
    "count = 1\n",
    "while int(input())!=5:\n",
    "    count = count+1\n",
    "print(\"You have\", count, 'numbers')"
   ]
  },
  {
   "cell_type": "code",
   "execution_count": 50,
   "id": "58d44ccd-03ec-4d6b-a99d-208e05811a2c",
   "metadata": {},
   "outputs": [
    {
     "name": "stdin",
     "output_type": "stream",
     "text": [
      " 3\n",
      " 6\n",
      " 5\n"
     ]
    },
    {
     "name": "stdout",
     "output_type": "stream",
     "text": [
      "You provided 3 inputs!\n"
     ]
    }
   ],
   "source": [
    "x = int(input())\n",
    "count = 1\n",
    "while x!=5:\n",
    "    x = int(input())\n",
    "    count +=1\n",
    "print(\"You provided\",count,\"inputs!\")"
   ]
  },
  {
   "cell_type": "markdown",
   "id": "e66f7ac9-f363-4f40-a316-639d7ef52f97",
   "metadata": {
    "jp-MarkdownHeadingCollapsed": true,
    "tags": []
   },
   "source": [
    "##### Bipin's approach"
   ]
  },
  {
   "cell_type": "code",
   "execution_count": 48,
   "id": "d1635d60-2c6b-4e3a-8af7-ad3327e5f486",
   "metadata": {},
   "outputs": [
    {
     "name": "stdin",
     "output_type": "stream",
     "text": [
      " 3\n",
      " 6\n",
      " 5\n"
     ]
    },
    {
     "name": "stdout",
     "output_type": "stream",
     "text": [
      "You provided 3 inputs!\n"
     ]
    }
   ],
   "source": [
    "count = 0\n",
    "\n",
    "while True:\n",
    "    number = int(input())\n",
    "    count += 1\n",
    "    \n",
    "    if number == 5:\n",
    "        break\n",
    "        \n",
    "print(\"You provided\", count, \"inputs!\")"
   ]
  },
  {
   "cell_type": "code",
   "execution_count": 49,
   "id": "7e34b55c-9f78-4af8-8998-e2f488917e61",
   "metadata": {},
   "outputs": [
    {
     "name": "stdin",
     "output_type": "stream",
     "text": [
      " 3\n",
      " 6\n",
      " 5\n"
     ]
    },
    {
     "name": "stdout",
     "output_type": "stream",
     "text": [
      "You provided 3 inputs!\n"
     ]
    }
   ],
   "source": [
    "\n",
    "count = 0\n",
    "number = 0\n",
    "\n",
    "while number != 5:\n",
    "    number = int(input())\n",
    "    count += 1\n",
    "        \n",
    "print(\"You provided\", count, \"inputs!\")"
   ]
  },
  {
   "cell_type": "markdown",
   "id": "2acc396a-9452-4faf-aadc-5dbf3651737c",
   "metadata": {
    "jp-MarkdownHeadingCollapsed": true,
    "tags": []
   },
   "source": [
    "### Question 4\n",
    "\n",
    "    Write a program to print NxN matrix of \"*\"\n",
    "\n",
    "    Input - 4\n",
    "    Output - \n",
    "    ****\n",
    "    ****\n",
    "    ****\n",
    "    ****"
   ]
  },
  {
   "cell_type": "markdown",
   "id": "eea39170-2b5e-491a-a046-9f4160e0783c",
   "metadata": {
    "jp-MarkdownHeadingCollapsed": true,
    "tags": []
   },
   "source": [
    "##### My approaches"
   ]
  },
  {
   "cell_type": "code",
   "execution_count": 5,
   "id": "a716a7fd-d94e-4484-9b99-e790aa2935fd",
   "metadata": {},
   "outputs": [
    {
     "name": "stdin",
     "output_type": "stream",
     "text": [
      " 4\n"
     ]
    },
    {
     "name": "stdout",
     "output_type": "stream",
     "text": [
      "****\n",
      "****\n",
      "****\n",
      "****\n"
     ]
    }
   ],
   "source": [
    "x = int(input())\n",
    "for i in range(1,x+1):\n",
    "    print(\"*\"*x, end=\"\")\n",
    "    print()  "
   ]
  },
  {
   "cell_type": "code",
   "execution_count": 7,
   "id": "d9c7271f-5d55-4d2d-bac7-9c520d387b06",
   "metadata": {},
   "outputs": [
    {
     "name": "stdin",
     "output_type": "stream",
     "text": [
      " 4\n"
     ]
    },
    {
     "name": "stdout",
     "output_type": "stream",
     "text": [
      "****\n",
      "****\n",
      "****\n",
      "****\n"
     ]
    }
   ],
   "source": [
    "x = int(input())\n",
    "i = 1\n",
    "while i <=4:\n",
    "    for l in range(x):\n",
    "        print('*', end=\"\")\n",
    "    i+=1\n",
    "    print()"
   ]
  },
  {
   "cell_type": "markdown",
   "id": "4eb004b1-1595-4761-8c7d-e82d5460e2de",
   "metadata": {
    "jp-MarkdownHeadingCollapsed": true,
    "tags": []
   },
   "source": [
    "##### Bipin approach"
   ]
  },
  {
   "cell_type": "code",
   "execution_count": 6,
   "id": "42504665-b290-4509-9a07-87c8a3d35eea",
   "metadata": {},
   "outputs": [
    {
     "name": "stdin",
     "output_type": "stream",
     "text": [
      " 4\n"
     ]
    },
    {
     "name": "stdout",
     "output_type": "stream",
     "text": [
      "\n",
      "****\n",
      "****\n",
      "****\n",
      "****"
     ]
    }
   ],
   "source": [
    "N = int(input())\n",
    "for i in range(N):\n",
    "    print()\n",
    "    for j in range(N):\n",
    "        print(\"*\",end=\"\")"
   ]
  },
  {
   "cell_type": "markdown",
   "id": "41aadb2d-db38-4f2f-98ec-71391d5f563e",
   "metadata": {
    "tags": []
   },
   "source": [
    "### Question 5\n",
    "\n",
    "    Find GCD of 2 numbers"
   ]
  },
  {
   "cell_type": "markdown",
   "id": "8862f6f8-034f-4da1-9876-8446e0613dd9",
   "metadata": {
    "jp-MarkdownHeadingCollapsed": true,
    "tags": []
   },
   "source": [
    "##### My approaches"
   ]
  },
  {
   "cell_type": "code",
   "execution_count": 5,
   "id": "dbc0aa20-6c76-4730-8dfd-c31ba75b5b83",
   "metadata": {},
   "outputs": [
    {
     "name": "stdin",
     "output_type": "stream",
     "text": [
      " 3\n",
      " 12\n"
     ]
    },
    {
     "name": "stdout",
     "output_type": "stream",
     "text": [
      "3\n"
     ]
    }
   ],
   "source": [
    "A = int(input())\n",
    "B = int(input())\n",
    "if A < B:\n",
    "    N = A\n",
    "else:\n",
    "    N = B\n",
    "multiple = 1 \n",
    "for i in range (1,N+1):\n",
    "    if A % i ==0 and B % i ==0:\n",
    "        X = i\n",
    "        \n",
    "print(X)"
   ]
  },
  {
   "cell_type": "code",
   "execution_count": 24,
   "id": "eba43fe6-1906-425b-8f24-47df2d82e618",
   "metadata": {},
   "outputs": [
    {
     "name": "stdin",
     "output_type": "stream",
     "text": [
      " 8\n",
      " 36\n"
     ]
    },
    {
     "name": "stdout",
     "output_type": "stream",
     "text": [
      "GCD for 8 and 36 : 4\n"
     ]
    }
   ],
   "source": [
    "x = int(input())\n",
    "y = int(input())\n",
    "gcd_max = min(x,y)\n",
    "for i in range(gcd_max, 0, -1):\n",
    "    if x%i==0 and y%i == 0:\n",
    "        print(\"GCD for\",x,\"and\",y,\":\", i )\n",
    "        break"
   ]
  },
  {
   "cell_type": "markdown",
   "id": "7a7bf47b-6bb1-4380-a6d5-7c60d397d888",
   "metadata": {
    "jp-MarkdownHeadingCollapsed": true,
    "tags": []
   },
   "source": [
    "### Question 6\n",
    "\n",
    "    Find LCM of 2 numbers"
   ]
  },
  {
   "cell_type": "code",
   "execution_count": 33,
   "id": "06fc1f39-8d37-451d-b2db-93dac850a229",
   "metadata": {},
   "outputs": [
    {
     "name": "stdin",
     "output_type": "stream",
     "text": [
      " 6\n",
      " 7\n"
     ]
    },
    {
     "name": "stdout",
     "output_type": "stream",
     "text": [
      "LCM for 6 and 7 : 42\n"
     ]
    }
   ],
   "source": [
    "x = int(input())\n",
    "y = int(input())\n",
    "lcm_min = max(x,y)\n",
    "lcm_max = x*y\n",
    "for i in range(lcm_min, lcm_max+1):\n",
    "    if i%x==0 and i%y == 0:\n",
    "        print(\"LCM for\",x,\"and\",y,\":\", i )\n",
    "        break"
   ]
  },
  {
   "cell_type": "markdown",
   "id": "a7895df6-aefb-4dc7-95bf-cab29b6e0cd9",
   "metadata": {
    "jp-MarkdownHeadingCollapsed": true,
    "tags": []
   },
   "source": [
    "##### Optimized approach"
   ]
  },
  {
   "cell_type": "code",
   "execution_count": 2,
   "id": "eb381d37-3b05-4aaa-99eb-014b00ffecdc",
   "metadata": {},
   "outputs": [
    {
     "name": "stdin",
     "output_type": "stream",
     "text": [
      " 8\n",
      " 48\n"
     ]
    },
    {
     "name": "stdout",
     "output_type": "stream",
     "text": [
      "LCM for 8 and 48 : 48\n"
     ]
    }
   ],
   "source": [
    "x = int(input())\n",
    "y = int(input())\n",
    "lcm_min = max(x,y)\n",
    "lcm_max = x*y\n",
    "for i in range(lcm_min, lcm_max+1, lcm_min):\n",
    "    if i%x==0 and i%y == 0:\n",
    "        print(\"LCM for\",x,\"and\",y,\":\", i )\n",
    "        break"
   ]
  },
  {
   "cell_type": "markdown",
   "id": "cbf0078f-34fd-4ddb-afd7-422d90926b36",
   "metadata": {
    "jp-MarkdownHeadingCollapsed": true,
    "tags": []
   },
   "source": [
    "### Question 7    \n",
    "    \n",
    "    Print the following pattern - \n",
    "    *\n",
    "    **\n",
    "    ***\n",
    "    ****\n",
    "    ***** \n",
    "    (INPUT = 5)\n",
    "    Input will be provided for number of rows."
   ]
  },
  {
   "cell_type": "markdown",
   "id": "3e09718f-1f97-42e1-9178-460e981d4c2d",
   "metadata": {},
   "source": [
    "##### My approaches"
   ]
  },
  {
   "cell_type": "code",
   "execution_count": 30,
   "id": "9335bbad-ca56-47d0-9cf2-d5c2e60a0b08",
   "metadata": {},
   "outputs": [
    {
     "name": "stdin",
     "output_type": "stream",
     "text": [
      " 4\n"
     ]
    },
    {
     "name": "stdout",
     "output_type": "stream",
     "text": [
      "\n",
      "*\n",
      "**\n",
      "***\n",
      "****"
     ]
    }
   ],
   "source": [
    "x = int(input())\n",
    "for i in range(1,x+1):\n",
    "    print()\n",
    "    print(\"*\"*i, end=\"\")"
   ]
  },
  {
   "cell_type": "code",
   "execution_count": 29,
   "id": "31780c76-d4af-428c-9d20-5b8ef910a157",
   "metadata": {},
   "outputs": [
    {
     "name": "stdin",
     "output_type": "stream",
     "text": [
      " 4\n"
     ]
    },
    {
     "name": "stdout",
     "output_type": "stream",
     "text": [
      "\n",
      "*\n",
      "**\n",
      "***\n",
      "****"
     ]
    }
   ],
   "source": [
    "N = int(input())\n",
    "for i in range(1,N+1):\n",
    "    print()\n",
    "    for j in range(i):\n",
    "        print(\"*\",end=\"\") "
   ]
  },
  {
   "cell_type": "markdown",
   "id": "4f331fed-a11e-452c-8a6b-97c7e7d3474f",
   "metadata": {
    "jp-MarkdownHeadingCollapsed": true,
    "tags": []
   },
   "source": [
    "### Question 8\n",
    "\n",
    "    Write a program to print a multiplication table till an input N.\n",
    "\n",
    "    Input - 3\n",
    "\n",
    "    Output - \n",
    "    1 2 3 4 5 6 7 8 9 10\n",
    "    2 4 6 8 10 12 14 16 18 20\n",
    "    3 6 9 12 15 18 21 24 27 30"
   ]
  },
  {
   "cell_type": "code",
   "execution_count": 36,
   "id": "32473b6f-82bf-42bb-81ac-304eb5d293a1",
   "metadata": {},
   "outputs": [
    {
     "name": "stdin",
     "output_type": "stream",
     "text": [
      " 3\n"
     ]
    },
    {
     "name": "stdout",
     "output_type": "stream",
     "text": [
      "1 2 3 4 5 6 7 8 9 10 \n",
      "2 4 6 8 10 12 14 16 18 20 \n",
      "3 6 9 12 15 18 21 24 27 30 \n"
     ]
    }
   ],
   "source": [
    "x = int(input())\n",
    "n = 1\n",
    "while n<=x:\n",
    "    for i in range(1,11):\n",
    "        print(n*i, end=\" \")\n",
    "    print()\n",
    "    n+=1\n",
    "    "
   ]
  },
  {
   "cell_type": "code",
   "execution_count": 40,
   "id": "03015fbe-2ce4-4fb6-8fa9-d6b8298f5695",
   "metadata": {},
   "outputs": [
    {
     "name": "stdin",
     "output_type": "stream",
     "text": [
      " 3\n"
     ]
    },
    {
     "name": "stdout",
     "output_type": "stream",
     "text": [
      "1 2 3 4 5 6 7 8 9 10 \n",
      "2 4 6 8 10 12 14 16 18 20 \n",
      "3 6 9 12 15 18 21 24 27 30 \n"
     ]
    }
   ],
   "source": [
    "x = int(input())\n",
    "for i in range(1,x+1):\n",
    "    for j in range(1,11):\n",
    "        print(i*j, end=\" \")\n",
    "    print()"
   ]
  }
 ],
 "metadata": {
  "kernelspec": {
   "display_name": "Python 3 (ipykernel)",
   "language": "python",
   "name": "python3"
  },
  "language_info": {
   "codemirror_mode": {
    "name": "ipython",
    "version": 3
   },
   "file_extension": ".py",
   "mimetype": "text/x-python",
   "name": "python",
   "nbconvert_exporter": "python",
   "pygments_lexer": "ipython3",
   "version": "3.9.12"
  },
  "widgets": {
   "application/vnd.jupyter.widget-state+json": {
    "state": {},
    "version_major": 2,
    "version_minor": 0
   }
  }
 },
 "nbformat": 4,
 "nbformat_minor": 5
}
