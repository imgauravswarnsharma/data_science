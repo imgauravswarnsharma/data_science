{
 "cells": [
  {
   "cell_type": "markdown",
   "id": "d5dc841c-9709-40ec-81e3-29785501c0a2",
   "metadata": {
    "tags": []
   },
   "source": [
    "# Functional Programming"
   ]
  },
  {
   "cell_type": "markdown",
   "id": "a5867713-8103-4901-a24d-cd179c36dcfe",
   "metadata": {
    "tags": []
   },
   "source": [
    "## Theory"
   ]
  },
  {
   "cell_type": "markdown",
   "id": "68cc7346-0bb9-4cd1-8de1-00e01b8e072e",
   "metadata": {},
   "source": [
    "* In mathematics, we use pure functions.\n",
    "* Pure functions means that same input always generates same output i.e if f(x) = a and f(x) = b, then, a = b.\n",
    "* Functions are FCCs (First-Class Citizens) in python.\n",
    "* Functions can be treated as objects like everything else in python.\n",
    "* Functions can be stored in data strcutures like lists, dicts, hash tables etc.\n",
    "* Functions can be stored in variables too."
   ]
  },
  {
   "cell_type": "markdown",
   "id": "b9c17765-aac5-4d83-b280-ad6927540aa6",
   "metadata": {
    "tags": []
   },
   "source": [
    "##### Functions can be stored in data structures or variables (V.V.I)"
   ]
  },
  {
   "cell_type": "markdown",
   "id": "754b1d86-68d5-4528-83c8-939931d0c5f5",
   "metadata": {},
   "source": [
    "Here we store function print as an element of list and when we access that element it works like a function not as a value and prints the string. "
   ]
  },
  {
   "cell_type": "code",
   "execution_count": 144,
   "id": "05f5085a-e7a8-4a9d-9242-53243b958776",
   "metadata": {},
   "outputs": [],
   "source": [
    "a = [print, 56, 78, \"random\"]"
   ]
  },
  {
   "cell_type": "code",
   "execution_count": 145,
   "id": "ba9d46f9-4444-469a-a8cb-352eab37a087",
   "metadata": {},
   "outputs": [
    {
     "name": "stdout",
     "output_type": "stream",
     "text": [
      "Hell yeah! print worked as a function and printed this. AWESOME!!!\n"
     ]
    }
   ],
   "source": [
    "a[0](\"Hell yeah! print worked as a function and printed this. AWESOME!!!\")"
   ]
  },
  {
   "cell_type": "markdown",
   "id": "9ca7c9c1-c1eb-4454-a2ce-6638f84f5320",
   "metadata": {},
   "source": [
    "Here we are storing the print function as an value of key print_x. When we access the print func via its key, it works just like we expected print function to do and prints the string."
   ]
  },
  {
   "cell_type": "code",
   "execution_count": 68,
   "id": "b2676b5a-60dd-4aaa-a41a-348c6c9ad706",
   "metadata": {},
   "outputs": [],
   "source": [
    "x = {\n",
    "    \"print_x\": print\n",
    "}"
   ]
  },
  {
   "cell_type": "code",
   "execution_count": 69,
   "id": "6b2d787a-4a64-4637-bd4f-91f2d0691549",
   "metadata": {},
   "outputs": [
    {
     "name": "stdout",
     "output_type": "stream",
     "text": [
      "Isn't this awesome..?\n"
     ]
    }
   ],
   "source": [
    "x[\"print_x\"](\"Isn't this awesome..?\")"
   ]
  },
  {
   "cell_type": "markdown",
   "id": "cc9739b7-39cd-402a-b9c5-76cfcf2d97ad",
   "metadata": {
    "tags": []
   },
   "source": [
    "## Higher Order Functions\n",
    "    function which generates another function as an output (value)."
   ]
  },
  {
   "cell_type": "code",
   "execution_count": 48,
   "id": "eadca668-47b5-487c-b1fb-93e0de3c46ca",
   "metadata": {},
   "outputs": [],
   "source": [
    "# Example of Higher Order Functions\n",
    "\n",
    "def gen_exp(n):\n",
    "    def exp(x):\n",
    "        return x**n\n",
    "    \n",
    "    return exp"
   ]
  },
  {
   "cell_type": "markdown",
   "id": "937ff971-ed4c-4afb-a546-5deef58214ea",
   "metadata": {},
   "source": [
    "    So, when we call gen_exp(5), n becomes 5. So during the execution of this function call, exp(x) returns x**5. So it means, exp(x) becomes x**5.\n",
    "\n",
    "    Now, when we move to the next statement i.e return exp and executes it will return exp. exp is nothing here but a function name, that is a variable which holds the entire function (the inner nested function) [refer to lambda function format, Same concept is used there also], so when we return exp we are simply returning the entire body of the function.  \n",
    "\n",
    "    Hence, Z = exp."
   ]
  },
  {
   "cell_type": "code",
   "execution_count": 49,
   "id": "7240b485-0836-46e8-a37f-bef523c3b2ad",
   "metadata": {},
   "outputs": [],
   "source": [
    "Z = gen_exp(5)"
   ]
  },
  {
   "cell_type": "code",
   "execution_count": 50,
   "id": "f1eb9dea-39b9-4764-9cef-e8f1367659c1",
   "metadata": {},
   "outputs": [
    {
     "data": {
      "text/plain": [
       "function"
      ]
     },
     "execution_count": 50,
     "metadata": {},
     "output_type": "execute_result"
    }
   ],
   "source": [
    "type(Z)"
   ]
  },
  {
   "cell_type": "code",
   "execution_count": 52,
   "id": "2900b76c-47c3-4d01-be56-c3a2606d5500",
   "metadata": {},
   "outputs": [
    {
     "data": {
      "text/plain": [
       "243"
      ]
     },
     "execution_count": 52,
     "metadata": {},
     "output_type": "execute_result"
    }
   ],
   "source": [
    "Z(3)"
   ]
  },
  {
   "cell_type": "markdown",
   "id": "80cd60c7-603d-44bb-9f4b-947c40707333",
   "metadata": {
    "tags": []
   },
   "source": [
    "### Decorators"
   ]
  },
  {
   "cell_type": "markdown",
   "id": "49ac84c0-cf54-45c9-b8a7-f20da91a4183",
   "metadata": {},
   "source": [
    "* Decorators allow us to wrap another function in order to extend the behaviour of the wrapped function, without permanently modifying it.\n",
    "* Decorators are a special use case of higher order functions.\n",
    "* They return function as an output and as well as also accepts another function as an argument."
   ]
  },
  {
   "cell_type": "markdown",
   "id": "7e78f5ae-3ad2-47ea-aeb7-478ef2f8abae",
   "metadata": {},
   "source": [
    "##### Example"
   ]
  },
  {
   "cell_type": "code",
   "execution_count": 54,
   "id": "03682897-271d-4182-88d8-598def3e9669",
   "metadata": {},
   "outputs": [],
   "source": [
    "def pretty(func):\n",
    "    def wrapper():\n",
    "        print(\"-\"*20) # any amount of logic\n",
    "        func()\n",
    "        print(\"-\"*20) # any amount of logic\n",
    "        \n",
    "    return wrapper"
   ]
  },
  {
   "cell_type": "code",
   "execution_count": 55,
   "id": "9451f4e1-d7a5-4cca-9df2-5c11258b12e9",
   "metadata": {},
   "outputs": [],
   "source": [
    "def say_hello():\n",
    "    print(\"Hello!\")\n",
    "    \n",
    "def say_amazing():\n",
    "    print(\"AMAZING!\")"
   ]
  },
  {
   "cell_type": "code",
   "execution_count": 57,
   "id": "7a6f1c74-7f23-43ab-9c2b-7383cef4f026",
   "metadata": {},
   "outputs": [],
   "source": [
    "def say_bye():\n",
    "    print(\"Bye!\")"
   ]
  },
  {
   "cell_type": "code",
   "execution_count": 59,
   "id": "3671faa3-951f-4485-bc1f-b86c7df79ce5",
   "metadata": {},
   "outputs": [
    {
     "name": "stdout",
     "output_type": "stream",
     "text": [
      "--------------------\n",
      "Hello!\n",
      "--------------------\n"
     ]
    }
   ],
   "source": [
    "hello_pretty = pretty(say_hello)\n",
    "hello_pretty()"
   ]
  },
  {
   "cell_type": "code",
   "execution_count": 61,
   "id": "641eda03-c6db-484f-b7c6-a922c28bd992",
   "metadata": {},
   "outputs": [
    {
     "name": "stdout",
     "output_type": "stream",
     "text": [
      "--------------------\n",
      "Bye!\n",
      "--------------------\n"
     ]
    }
   ],
   "source": [
    "bye_pretty = pretty(say_bye)\n",
    "bye_pretty()"
   ]
  }
 ],
 "metadata": {
  "kernelspec": {
   "display_name": "Python 3 (ipykernel)",
   "language": "python",
   "name": "python3"
  },
  "language_info": {
   "codemirror_mode": {
    "name": "ipython",
    "version": 3
   },
   "file_extension": ".py",
   "mimetype": "text/x-python",
   "name": "python",
   "nbconvert_exporter": "python",
   "pygments_lexer": "ipython3",
   "version": "3.9.12"
  },
  "widgets": {
   "application/vnd.jupyter.widget-state+json": {
    "state": {},
    "version_major": 2,
    "version_minor": 0
   }
  }
 },
 "nbformat": 4,
 "nbformat_minor": 5
}
