{
 "cells": [
  {
   "cell_type": "markdown",
   "id": "d5dc841c-9709-40ec-81e3-29785501c0a2",
   "metadata": {
    "tags": []
   },
   "source": [
    "# Functional Programming"
   ]
  },
  {
   "cell_type": "markdown",
   "id": "a5867713-8103-4901-a24d-cd179c36dcfe",
   "metadata": {
    "tags": []
   },
   "source": [
    "## Theory"
   ]
  },
  {
   "cell_type": "markdown",
   "id": "68cc7346-0bb9-4cd1-8de1-00e01b8e072e",
   "metadata": {},
   "source": [
    "* In mathematics, we use pure functions.\n",
    "* Pure functions means that same input always generates same output i.e if f(x) = a and f(x) = b, then, a = b.\n",
    "* Functions are FCCs (First-Class Citizens) in python.\n",
    "* Functions can be treated as objects like everything else in python.\n",
    "* Functions can be stored in data strcutures like lists, dicts, hash tables etc.\n",
    "* Functions can be stored in variables too."
   ]
  },
  {
   "cell_type": "markdown",
   "id": "b9c17765-aac5-4d83-b280-ad6927540aa6",
   "metadata": {
    "tags": []
   },
   "source": [
    "##### Functions can be stored in data structures or variables (V.V.I)"
   ]
  },
  {
   "cell_type": "markdown",
   "id": "754b1d86-68d5-4528-83c8-939931d0c5f5",
   "metadata": {},
   "source": [
    "Here we store function print as an element of list and when we access that element it works like a function not as a value and prints the string. "
   ]
  },
  {
   "cell_type": "code",
   "execution_count": 144,
   "id": "05f5085a-e7a8-4a9d-9242-53243b958776",
   "metadata": {},
   "outputs": [],
   "source": [
    "a = [print, 56, 78, \"random\"]"
   ]
  },
  {
   "cell_type": "code",
   "execution_count": 145,
   "id": "ba9d46f9-4444-469a-a8cb-352eab37a087",
   "metadata": {},
   "outputs": [
    {
     "name": "stdout",
     "output_type": "stream",
     "text": [
      "Hell yeah! print worked as a function and printed this. AWESOME!!!\n"
     ]
    }
   ],
   "source": [
    "a[0](\"Hell yeah! print worked as a function and printed this. AWESOME!!!\")"
   ]
  },
  {
   "cell_type": "markdown",
   "id": "9ca7c9c1-c1eb-4454-a2ce-6638f84f5320",
   "metadata": {},
   "source": [
    "Here we are storing the print function as an value of key print_x. When we access the print func via its key, it works just like we expected print function to do and prints the string."
   ]
  },
  {
   "cell_type": "code",
   "execution_count": 68,
   "id": "b2676b5a-60dd-4aaa-a41a-348c6c9ad706",
   "metadata": {},
   "outputs": [],
   "source": [
    "x = {\n",
    "    \"print_x\": print\n",
    "}"
   ]
  },
  {
   "cell_type": "code",
   "execution_count": 69,
   "id": "6b2d787a-4a64-4637-bd4f-91f2d0691549",
   "metadata": {},
   "outputs": [
    {
     "name": "stdout",
     "output_type": "stream",
     "text": [
      "Isn't this awesome..?\n"
     ]
    }
   ],
   "source": [
    "x[\"print_x\"](\"Isn't this awesome..?\")"
   ]
  },
  {
   "cell_type": "markdown",
   "id": "cc9739b7-39cd-402a-b9c5-76cfcf2d97ad",
   "metadata": {
    "tags": []
   },
   "source": [
    "## Higher Order Functions\n",
    "    function which generates another function as an output (value)."
   ]
  },
  {
   "cell_type": "code",
   "execution_count": 48,
   "id": "eadca668-47b5-487c-b1fb-93e0de3c46ca",
   "metadata": {},
   "outputs": [],
   "source": [
    "# Example of Higher Order Functions\n",
    "\n",
    "def gen_exp(n):\n",
    "    def exp(x):\n",
    "        return x**n\n",
    "    \n",
    "    return exp"
   ]
  },
  {
   "cell_type": "markdown",
   "id": "937ff971-ed4c-4afb-a546-5deef58214ea",
   "metadata": {},
   "source": [
    "    So, when we call gen_exp(5), n becomes 5. So during the execution of this function call, exp(x) returns x**5. So it means, exp(x) becomes x**5.\n",
    "\n",
    "    Now, when we move to the next statement i.e return exp and executes it will return exp. exp is nothing here but a function name, that is a variable which holds the entire function (the inner nested function) [refer to lambda function format, Same concept is used there also], so when we return exp we are simply returning the entire body of the function.  \n",
    "\n",
    "    Hence, Z = exp."
   ]
  },
  {
   "cell_type": "code",
   "execution_count": 49,
   "id": "7240b485-0836-46e8-a37f-bef523c3b2ad",
   "metadata": {},
   "outputs": [],
   "source": [
    "Z = gen_exp(5)"
   ]
  },
  {
   "cell_type": "code",
   "execution_count": 50,
   "id": "f1eb9dea-39b9-4764-9cef-e8f1367659c1",
   "metadata": {},
   "outputs": [
    {
     "data": {
      "text/plain": [
       "function"
      ]
     },
     "execution_count": 50,
     "metadata": {},
     "output_type": "execute_result"
    }
   ],
   "source": [
    "type(Z)"
   ]
  },
  {
   "cell_type": "code",
   "execution_count": 52,
   "id": "2900b76c-47c3-4d01-be56-c3a2606d5500",
   "metadata": {},
   "outputs": [
    {
     "data": {
      "text/plain": [
       "243"
      ]
     },
     "execution_count": 52,
     "metadata": {},
     "output_type": "execute_result"
    }
   ],
   "source": [
    "Z(3)"
   ]
  },
  {
   "cell_type": "markdown",
   "id": "80cd60c7-603d-44bb-9f4b-947c40707333",
   "metadata": {
    "tags": []
   },
   "source": [
    "### Decorators"
   ]
  },
  {
   "cell_type": "markdown",
   "id": "49ac84c0-cf54-45c9-b8a7-f20da91a4183",
   "metadata": {},
   "source": [
    "* Decorators allow us to wrap another function in order to extend the behaviour of the wrapped function, without permanently modifying it.\n",
    "* Decorators are a special use case of higher order functions.\n",
    "* They return function as an output and as well as also accepts another function as an argument."
   ]
  },
  {
   "cell_type": "markdown",
   "id": "7e78f5ae-3ad2-47ea-aeb7-478ef2f8abae",
   "metadata": {},
   "source": [
    "##### Example"
   ]
  },
  {
   "cell_type": "code",
   "execution_count": 54,
   "id": "03682897-271d-4182-88d8-598def3e9669",
   "metadata": {},
   "outputs": [],
   "source": [
    "def pretty(func):\n",
    "    def wrapper():\n",
    "        print(\"-\"*20) # any amount of logic\n",
    "        func()\n",
    "        print(\"-\"*20) # any amount of logic\n",
    "        \n",
    "    return wrapper"
   ]
  },
  {
   "cell_type": "code",
   "execution_count": 55,
   "id": "9451f4e1-d7a5-4cca-9df2-5c11258b12e9",
   "metadata": {},
   "outputs": [],
   "source": [
    "def say_hello():\n",
    "    print(\"Hello!\")\n",
    "    \n",
    "def say_amazing():\n",
    "    print(\"AMAZING!\")"
   ]
  },
  {
   "cell_type": "code",
   "execution_count": 57,
   "id": "7a6f1c74-7f23-43ab-9c2b-7383cef4f026",
   "metadata": {},
   "outputs": [],
   "source": [
    "def say_bye():\n",
    "    print(\"Bye!\")"
   ]
  },
  {
   "cell_type": "code",
   "execution_count": 59,
   "id": "3671faa3-951f-4485-bc1f-b86c7df79ce5",
   "metadata": {},
   "outputs": [
    {
     "name": "stdout",
     "output_type": "stream",
     "text": [
      "--------------------\n",
      "Hello!\n",
      "--------------------\n"
     ]
    }
   ],
   "source": [
    "hello_pretty = pretty(say_hello)\n",
    "hello_pretty()"
   ]
  },
  {
   "cell_type": "code",
   "execution_count": 61,
   "id": "641eda03-c6db-484f-b7c6-a922c28bd992",
   "metadata": {},
   "outputs": [
    {
     "name": "stdout",
     "output_type": "stream",
     "text": [
      "--------------------\n",
      "Bye!\n",
      "--------------------\n"
     ]
    }
   ],
   "source": [
    "bye_pretty = pretty(say_bye)\n",
    "bye_pretty()"
   ]
  },
  {
   "cell_type": "markdown",
   "id": "84c387dd-a168-4814-a7ee-1c34cd202e66",
   "metadata": {},
   "source": [
    "## Functions"
   ]
  },
  {
   "cell_type": "markdown",
   "id": "62d67e7c-c5f7-4f4a-8dda-2b78b418aff1",
   "metadata": {},
   "source": [
    "### Lambda Functions\n",
    "\n",
    "`lambda` keyword is used to define an anonymous single expression function in Python."
   ]
  },
  {
   "cell_type": "markdown",
   "id": "6e32b69a-819d-40fc-b407-a1b9c2c47d95",
   "metadata": {},
   "source": [
    "https://www.geeksforgeeks.org/python-lambda-anonymous-functions-filter-map-reduce/"
   ]
  },
  {
   "cell_type": "markdown",
   "id": "93703d91-e87b-4b9a-a015-def5410253b0",
   "metadata": {},
   "source": [
    "* This function can have any number of arguments but only one expression, which is evaluated and returned.\n",
    "\n",
    "* One is free to use lambda functions wherever function objects are required.\n",
    "* You need to keep in your knowledge that lambda functions are syntactically restricted to a single expression.\n",
    "* It has various uses in particular fields of programming, besides other types of expressions in functions.\n",
    "\n",
    "                Syntax -> lambda arguments: expression"
   ]
  },
  {
   "cell_type": "markdown",
   "id": "4ddcdb08-e7e2-4135-ba04-8c59fa995383",
   "metadata": {},
   "source": [
    "With lambda function   |  Without lambda function\n",
    "----------------------|---------------\n",
    "Supports single line statements that returns some value.\t| Supports any number of lines inside a function block\n",
    "Good for performing short operations/data manipulations.\t| Good for any cases that require multiple lines of code.\n",
    "Using lambda function can sometime reduce the readability of code.\t| We can use comments and function descriptions for easy readability."
   ]
  },
  {
   "cell_type": "markdown",
   "id": "ede89697-8f2f-459e-bc4e-db4c2a071519",
   "metadata": {},
   "source": [
    "##### Simple function without using lambda"
   ]
  },
  {
   "cell_type": "code",
   "execution_count": 24,
   "id": "efa25312-67dc-4613-830e-89e18eedcf9e",
   "metadata": {},
   "outputs": [
    {
     "data": {
      "text/plain": [
       "'\\nkey_word fun_name(argument):\\nreturn return_value\\n'"
      ]
     },
     "execution_count": 24,
     "metadata": {},
     "output_type": "execute_result"
    }
   ],
   "source": [
    "def square(a):\n",
    "    return a**2\n",
    "\n",
    "# Pseudo code or Syntax\n",
    "'''\n",
    "key_word func_name(argument):\n",
    "return return_value\n",
    "'''"
   ]
  },
  {
   "cell_type": "code",
   "execution_count": 25,
   "id": "7b306d98-3c10-465b-9e6a-b2bdcdf79b91",
   "metadata": {},
   "outputs": [
    {
     "data": {
      "text/plain": [
       "16"
      ]
     },
     "execution_count": 25,
     "metadata": {},
     "output_type": "execute_result"
    }
   ],
   "source": [
    "square(4)"
   ]
  },
  {
   "cell_type": "markdown",
   "id": "7d874ea1-975e-48bf-873c-7dc073a2784e",
   "metadata": {},
   "source": [
    "##### Simple function using lambda"
   ]
  },
  {
   "cell_type": "code",
   "execution_count": 27,
   "id": "c98bbd59-b42d-402a-b3ae-f4f198762006",
   "metadata": {},
   "outputs": [
    {
     "data": {
      "text/plain": [
       "'\\nfun_name = key_word argument: return_value\\n'"
      ]
     },
     "execution_count": 27,
     "metadata": {},
     "output_type": "execute_result"
    }
   ],
   "source": [
    "square_ = lambda a : a**2\n",
    "\n",
    "# Pseudo code or Syntax\n",
    "'''\n",
    "func_name = key_word argument: return_value\n",
    "'''"
   ]
  },
  {
   "cell_type": "code",
   "execution_count": 28,
   "id": "4fc70598-d517-48c6-952d-d2c1269942b2",
   "metadata": {},
   "outputs": [
    {
     "data": {
      "text/plain": [
       "16"
      ]
     },
     "execution_count": 28,
     "metadata": {},
     "output_type": "execute_result"
    }
   ],
   "source": [
    "square_(4)"
   ]
  },
  {
   "cell_type": "code",
   "execution_count": 40,
   "id": "9a52e795-2405-4de1-97d8-d5e038a23c10",
   "metadata": {},
   "outputs": [
    {
     "data": {
      "text/plain": [
       "function"
      ]
     },
     "execution_count": 40,
     "metadata": {},
     "output_type": "execute_result"
    }
   ],
   "source": [
    "type(square_)"
   ]
  },
  {
   "cell_type": "markdown",
   "id": "ad0a778a-7678-472e-80b3-66b7e85204b4",
   "metadata": {},
   "source": [
    "##### Lambda can also take multiple arguments as inputs"
   ]
  },
  {
   "cell_type": "code",
   "execution_count": 31,
   "id": "e85e3747-a44b-4766-a421-819e4716b8a9",
   "metadata": {},
   "outputs": [
    {
     "data": {
      "text/plain": [
       "'randomstrings'"
      ]
     },
     "execution_count": 31,
     "metadata": {},
     "output_type": "execute_result"
    }
   ],
   "source": [
    "# Accepting multiple arguments\n",
    "concat = lambda x, y: x + y \n",
    "concat(\"random\", \"strings\")"
   ]
  },
  {
   "cell_type": "markdown",
   "id": "5ba5df7c-ef40-4713-8790-c4661863f90a",
   "metadata": {},
   "source": [
    "##### Lambda also accepts ternary operator within the body."
   ]
  },
  {
   "cell_type": "code",
   "execution_count": 32,
   "id": "d4f365ff-602a-4ca0-ae8b-28e3721460e6",
   "metadata": {},
   "outputs": [],
   "source": [
    "max_2 = lambda x, y: x if x > y else y"
   ]
  },
  {
   "cell_type": "code",
   "execution_count": 36,
   "id": "eb7b3e58-501d-47d4-b040-52296a578ac3",
   "metadata": {},
   "outputs": [
    {
     "data": {
      "text/plain": [
       "11"
      ]
     },
     "execution_count": 36,
     "metadata": {},
     "output_type": "execute_result"
    }
   ],
   "source": [
    "max_2(11, 7)"
   ]
  },
  {
   "cell_type": "markdown",
   "id": "9500d95e-c4e5-4c0d-8317-f30c51d38483",
   "metadata": {
    "tags": []
   },
   "source": [
    "##### Anonymous Functions\n",
    "* Complete function body without a name.\n",
    "* They are usually one time functions."
   ]
  },
  {
   "cell_type": "code",
   "execution_count": 37,
   "id": "ccf839f2-a990-44e5-9fb5-96d63d086ae9",
   "metadata": {},
   "outputs": [
    {
     "data": {
      "text/plain": [
       "343"
      ]
     },
     "execution_count": 37,
     "metadata": {},
     "output_type": "execute_result"
    }
   ],
   "source": [
    "# Anonymous Functions\n",
    "\n",
    "(lambda x: x**3)(7)"
   ]
  },
  {
   "cell_type": "markdown",
   "id": "84569a9a-ee6d-4ba1-a137-29d8077d7786",
   "metadata": {},
   "source": [
    "##### Lambda Function with List Comprehension"
   ]
  },
  {
   "cell_type": "code",
   "execution_count": 143,
   "id": "c8e2d48d-4024-449b-a126-b35af06dc504",
   "metadata": {},
   "outputs": [
    {
     "name": "stdout",
     "output_type": "stream",
     "text": [
      "10\n",
      "20\n",
      "30\n",
      "40\n"
     ]
    }
   ],
   "source": [
    "\n",
    "is_even_list = [lambda arg=x: arg * 10 for x in range(1, 5)]\n",
    " \n",
    "# iterate on each lambda function\n",
    "# and invoke the function to get the calculated value\n",
    "\n",
    "for item in is_even_list:\n",
    "    print(item())"
   ]
  },
  {
   "cell_type": "markdown",
   "id": "7a1f3f64-4c76-45f1-a232-3ddf7035d0b1",
   "metadata": {},
   "source": [
    "### Sorted"
   ]
  },
  {
   "cell_type": "code",
   "execution_count": 150,
   "id": "8bb5bd89-922f-4eed-92f4-f8ff46f54a75",
   "metadata": {},
   "outputs": [
    {
     "data": {
      "text/plain": [
       "\u001b[1;31mSignature:\u001b[0m \u001b[0msorted\u001b[0m\u001b[1;33m(\u001b[0m\u001b[0miterable\u001b[0m\u001b[1;33m,\u001b[0m \u001b[1;33m/\u001b[0m\u001b[1;33m,\u001b[0m \u001b[1;33m*\u001b[0m\u001b[1;33m,\u001b[0m \u001b[0mkey\u001b[0m\u001b[1;33m=\u001b[0m\u001b[1;32mNone\u001b[0m\u001b[1;33m,\u001b[0m \u001b[0mreverse\u001b[0m\u001b[1;33m=\u001b[0m\u001b[1;32mFalse\u001b[0m\u001b[1;33m)\u001b[0m\u001b[1;33m\u001b[0m\u001b[1;33m\u001b[0m\u001b[0m\n",
       "\u001b[1;31mDocstring:\u001b[0m\n",
       "Return a new list containing all items from the iterable in ascending order.\n",
       "\n",
       "A custom key function can be supplied to customize the sort order, and the\n",
       "reverse flag can be set to request the result in descending order.\n",
       "\u001b[1;31mType:\u001b[0m      builtin_function_or_method\n"
      ]
     },
     "metadata": {},
     "output_type": "display_data"
    }
   ],
   "source": [
    "sorted?"
   ]
  },
  {
   "cell_type": "markdown",
   "id": "126ea426-6720-4437-8a18-0b55f6234155",
   "metadata": {
    "tags": []
   },
   "source": [
    "#### Question 1"
   ]
  },
  {
   "cell_type": "markdown",
   "id": "95a6030d-a107-4741-ac43-1a3d618e176f",
   "metadata": {},
   "source": [
    "Sort the below list.\n",
    "\n",
    "        students = [\n",
    "        {\"name\": \"A\", \"marks\": 60},\n",
    "        {\"name\": \"B\", \"marks\": 90},\n",
    "        {\"name\": \"C\", \"marks\": 50},\n",
    "        {\"name\": \"D\", \"marks\": 80},\n",
    "        {\"name\": \"E\", \"marks\": 70}\n",
    "    ]\n",
    "Note: Use Lambda"
   ]
  },
  {
   "cell_type": "markdown",
   "id": "5a4e147a-9eb9-4843-8587-2409fcdcac8f",
   "metadata": {
    "tags": []
   },
   "source": [
    "##### Using sorted with lambda"
   ]
  },
  {
   "cell_type": "code",
   "execution_count": 6,
   "id": "693b6d74-187d-41ca-8334-19c7ad3fe028",
   "metadata": {},
   "outputs": [],
   "source": [
    "students = [\n",
    "    {\"name\": \"A\", \"marks\": 60},\n",
    "    {\"name\": \"B\", \"marks\": 90},\n",
    "    {\"name\": \"C\", \"marks\": 50},\n",
    "    {\"name\": \"D\", \"marks\": 80},\n",
    "    {\"name\": \"E\", \"marks\": 70}\n",
    "]"
   ]
  },
  {
   "cell_type": "code",
   "execution_count": 7,
   "id": "1fb98028-6b91-41d6-852e-7a0891f64d7a",
   "metadata": {},
   "outputs": [
    {
     "ename": "TypeError",
     "evalue": "'<' not supported between instances of 'dict' and 'dict'",
     "output_type": "error",
     "traceback": [
      "\u001b[1;31m---------------------------------------------------------------------------\u001b[0m",
      "\u001b[1;31mTypeError\u001b[0m                                 Traceback (most recent call last)",
      "Cell \u001b[1;32mIn[7], line 1\u001b[0m\n\u001b[1;32m----> 1\u001b[0m \u001b[38;5;28;43msorted\u001b[39;49m\u001b[43m(\u001b[49m\u001b[43mstudents\u001b[49m\u001b[43m)\u001b[49m\n",
      "\u001b[1;31mTypeError\u001b[0m: '<' not supported between instances of 'dict' and 'dict'"
     ]
    }
   ],
   "source": [
    "sorted(students)"
   ]
  },
  {
   "cell_type": "markdown",
   "id": "85cf218a-a344-4866-a30b-bc5ffd48af30",
   "metadata": {},
   "source": [
    "    So what went wrong here?\n",
    "\n",
    "Isue:\n",
    "    \n",
    "    So when we are trying to sort the list using sorted functions, it finds that each element in the list contains a dictionary. It is not possible to compare b/w two seeprate dictionaries since there is no reference point. \n",
    "\n",
    "Resolution:\n",
    "\n",
    "    We need to sepecify any particular key or values as reference point for comnparison b/w dicts of list. Let's say we choose marks as the key to comapre, so now it shalle be sorted as per values of maarks in all the dicts of list. If we check the docstring of sorted functions, it is clearly mentioned that it takes as custom functions as arguments. So basically, we can define a custom function and use it as key."
   ]
  },
  {
   "cell_type": "code",
   "execution_count": 38,
   "id": "20999f62-f916-4487-ae1f-f3c728e8f6ca",
   "metadata": {},
   "outputs": [
    {
     "data": {
      "text/plain": [
       "\u001b[1;31mSignature:\u001b[0m \u001b[0msorted\u001b[0m\u001b[1;33m(\u001b[0m\u001b[0miterable\u001b[0m\u001b[1;33m,\u001b[0m \u001b[1;33m/\u001b[0m\u001b[1;33m,\u001b[0m \u001b[1;33m*\u001b[0m\u001b[1;33m,\u001b[0m \u001b[0mkey\u001b[0m\u001b[1;33m=\u001b[0m\u001b[1;32mNone\u001b[0m\u001b[1;33m,\u001b[0m \u001b[0mreverse\u001b[0m\u001b[1;33m=\u001b[0m\u001b[1;32mFalse\u001b[0m\u001b[1;33m)\u001b[0m\u001b[1;33m\u001b[0m\u001b[1;33m\u001b[0m\u001b[0m\n",
       "\u001b[1;31mDocstring:\u001b[0m\n",
       "Return a new list containing all items from the iterable in ascending order.\n",
       "\n",
       "A custom key function can be supplied to customize the sort order, and the\n",
       "reverse flag can be set to request the result in descending order.\n",
       "\u001b[1;31mType:\u001b[0m      builtin_function_or_method\n"
      ]
     },
     "metadata": {},
     "output_type": "display_data"
    }
   ],
   "source": [
    "sorted?"
   ]
  },
  {
   "cell_type": "markdown",
   "id": "b58e5461-07cb-49d9-a2e1-1eeed081bb75",
   "metadata": {},
   "source": [
    "* In lambda, argument represents one element of the input data structure.\n",
    "\n",
    "So, basically, in this case, x represents the dict of the list in each iteration of sorted."
   ]
  },
  {
   "cell_type": "code",
   "execution_count": 39,
   "id": "e050e243-8fb5-4f34-9259-a995c91ec82c",
   "metadata": {},
   "outputs": [
    {
     "data": {
      "text/plain": [
       "[{'name': 'C', 'marks': 50},\n",
       " {'name': 'A', 'marks': 60},\n",
       " {'name': 'E', 'marks': 70},\n",
       " {'name': 'D', 'marks': 80},\n",
       " {'name': 'B', 'marks': 90}]"
      ]
     },
     "execution_count": 39,
     "metadata": {},
     "output_type": "execute_result"
    }
   ],
   "source": [
    "sorted(students, key = lambda x: x[\"marks\"])"
   ]
  },
  {
   "cell_type": "code",
   "execution_count": 16,
   "id": "4afe1b68-7f65-42bc-886c-de9bfd4ac452",
   "metadata": {},
   "outputs": [
    {
     "data": {
      "text/plain": [
       "<function __main__.<lambda>(marks)>"
      ]
     },
     "execution_count": 16,
     "metadata": {},
     "output_type": "execute_result"
    }
   ],
   "source": [
    "x"
   ]
  },
  {
   "cell_type": "markdown",
   "id": "d9a3575b-384e-4a1a-beb1-760378420b3b",
   "metadata": {
    "tags": []
   },
   "source": [
    "### Map"
   ]
  },
  {
   "cell_type": "code",
   "execution_count": 71,
   "id": "9ac0d140-8fc7-4d18-bfd7-94d80435fe49",
   "metadata": {},
   "outputs": [
    {
     "data": {
      "text/plain": [
       "\u001b[1;31mInit signature:\u001b[0m \u001b[0mmap\u001b[0m\u001b[1;33m(\u001b[0m\u001b[0mself\u001b[0m\u001b[1;33m,\u001b[0m \u001b[1;33m/\u001b[0m\u001b[1;33m,\u001b[0m \u001b[1;33m*\u001b[0m\u001b[0margs\u001b[0m\u001b[1;33m,\u001b[0m \u001b[1;33m**\u001b[0m\u001b[0mkwargs\u001b[0m\u001b[1;33m)\u001b[0m\u001b[1;33m\u001b[0m\u001b[1;33m\u001b[0m\u001b[0m\n",
       "\u001b[1;31mDocstring:\u001b[0m     \n",
       "map(func, *iterables) --> map object\n",
       "\n",
       "Make an iterator that computes the function using arguments from\n",
       "each of the iterables.  Stops when the shortest iterable is exhausted.\n",
       "\u001b[1;31mType:\u001b[0m           type\n",
       "\u001b[1;31mSubclasses:\u001b[0m     \n"
      ]
     },
     "metadata": {},
     "output_type": "display_data"
    }
   ],
   "source": [
    "map?"
   ]
  },
  {
   "cell_type": "markdown",
   "id": "d53c2e9b-cd84-4730-b4e2-11a8d606bb0b",
   "metadata": {},
   "source": [
    "#### Question 2"
   ]
  },
  {
   "cell_type": "markdown",
   "id": "3bc79d07-176f-408a-9407-2c33a4f37177",
   "metadata": {},
   "source": [
    "    Map a list of heights to a list of T-Shirt sizes!\n",
    "    heights -> [150, 165, 182, 140, 155, 170]\n",
    "\n",
    "    h <= 150 -> S\n",
    "    h > 150 and h <= 180 -> M\n",
    "    h > 180 -> L\n",
    "\n",
    "    output -> [S, M, L, S, M, M]"
   ]
  },
  {
   "cell_type": "markdown",
   "id": "cb4265dd-22bb-42a8-b682-502a81db62a8",
   "metadata": {
    "jp-MarkdownHeadingCollapsed": true,
    "tags": []
   },
   "source": [
    "##### Using map with lambda"
   ]
  },
  {
   "cell_type": "code",
   "execution_count": 81,
   "id": "201befee-2d18-4e53-8b39-9edc4cb3847b",
   "metadata": {},
   "outputs": [
    {
     "data": {
      "text/plain": [
       "['S', 'M', 'L', 'S']"
      ]
     },
     "execution_count": 81,
     "metadata": {},
     "output_type": "execute_result"
    }
   ],
   "source": [
    "h = [150, 165, 182, 140]\n",
    "list(map(lambda x: \"S\" if x <= 150 else \"M\" if x > 150 and x <= 180 else \"L\", h))"
   ]
  },
  {
   "cell_type": "markdown",
   "id": "b5fe1fbb-4eca-4002-8346-0decaa009047",
   "metadata": {
    "jp-MarkdownHeadingCollapsed": true,
    "tags": []
   },
   "source": [
    "##### Using map with function"
   ]
  },
  {
   "cell_type": "code",
   "execution_count": 75,
   "id": "29a15c27-2676-45ed-9fbe-85a206bb039e",
   "metadata": {},
   "outputs": [],
   "source": [
    "def height_to_size(h):\n",
    "    if h <= 150:\n",
    "        return \"S\"\n",
    "    elif h> 150 and h<=180:\n",
    "        return \"M\"\n",
    "    else:\n",
    "        return \"L\""
   ]
  },
  {
   "cell_type": "code",
   "execution_count": 76,
   "id": "786a045e-b5f8-4e17-b051-feb57c356404",
   "metadata": {},
   "outputs": [],
   "source": [
    "h = [150, 165, 182, 140]\n",
    "\n",
    "x = list(map(height_to_size, h))"
   ]
  },
  {
   "cell_type": "code",
   "execution_count": 77,
   "id": "42e1e579-7e55-4016-8ba5-826429ccd2c2",
   "metadata": {},
   "outputs": [
    {
     "data": {
      "text/plain": [
       "['S', 'M', 'L', 'S']"
      ]
     },
     "execution_count": 77,
     "metadata": {},
     "output_type": "execute_result"
    }
   ],
   "source": [
    "x"
   ]
  },
  {
   "cell_type": "markdown",
   "id": "7599fd8b-2d43-4c0e-8463-e6987615a977",
   "metadata": {},
   "source": [
    "#### Question3"
   ]
  },
  {
   "cell_type": "markdown",
   "id": "0c1ad6b0-7e57-47a3-b7b3-32fbe71d3c07",
   "metadata": {},
   "source": [
    "    Generate a list returning if both the values in the lists are equal.\n",
    "    A = [0,0,1,1,0]\n",
    "    B = [1,0,0,1,1]\n",
    "\n",
    "    Output -> [False, True, False, True, False]"
   ]
  },
  {
   "cell_type": "markdown",
   "id": "ded22e71-8eeb-4548-a14a-e336de12bf4c",
   "metadata": {
    "jp-MarkdownHeadingCollapsed": true,
    "tags": []
   },
   "source": [
    "##### Solution"
   ]
  },
  {
   "cell_type": "code",
   "execution_count": 82,
   "id": "b3e0316e-1ffc-4c6b-95c5-82d697e65124",
   "metadata": {},
   "outputs": [],
   "source": [
    "A = [0, 0 , 1, 1, 0]\n",
    "B = [1, 0 , 0, 1, 1]"
   ]
  },
  {
   "cell_type": "code",
   "execution_count": 87,
   "id": "d4408606-3f4d-4d23-a470-e4fd3cd539c7",
   "metadata": {},
   "outputs": [
    {
     "data": {
      "text/plain": [
       "[False, True, False, True, False]"
      ]
     },
     "execution_count": 87,
     "metadata": {},
     "output_type": "execute_result"
    }
   ],
   "source": [
    "X = list(map(lambda x, y: x==y, A, B))\n",
    "X"
   ]
  },
  {
   "cell_type": "markdown",
   "id": "75199fd0-b268-471d-a835-6c6a0e5069d2",
   "metadata": {},
   "source": [
    "### Filter"
   ]
  },
  {
   "cell_type": "code",
   "execution_count": 92,
   "id": "3839daf8-a454-4c1b-b7c1-fb9c1bc91f1e",
   "metadata": {},
   "outputs": [
    {
     "data": {
      "text/plain": [
       "\u001b[1;31mInit signature:\u001b[0m \u001b[0mfilter\u001b[0m\u001b[1;33m(\u001b[0m\u001b[0mself\u001b[0m\u001b[1;33m,\u001b[0m \u001b[1;33m/\u001b[0m\u001b[1;33m,\u001b[0m \u001b[1;33m*\u001b[0m\u001b[0margs\u001b[0m\u001b[1;33m,\u001b[0m \u001b[1;33m**\u001b[0m\u001b[0mkwargs\u001b[0m\u001b[1;33m)\u001b[0m\u001b[1;33m\u001b[0m\u001b[1;33m\u001b[0m\u001b[0m\n",
       "\u001b[1;31mDocstring:\u001b[0m     \n",
       "filter(function or None, iterable) --> filter object\n",
       "\n",
       "Return an iterator yielding those items of iterable for which function(item)\n",
       "is true. If function is None, return the items that are true.\n",
       "\u001b[1;31mType:\u001b[0m           type\n",
       "\u001b[1;31mSubclasses:\u001b[0m     \n"
      ]
     },
     "metadata": {},
     "output_type": "display_data"
    }
   ],
   "source": [
    "filter?"
   ]
  },
  {
   "cell_type": "markdown",
   "id": "ef5df88b-418f-437d-9d82-bbe427606f46",
   "metadata": {},
   "source": [
    "##### Example"
   ]
  },
  {
   "cell_type": "code",
   "execution_count": 88,
   "id": "dcc13f85-d46e-44f1-89a3-c280c05d3105",
   "metadata": {},
   "outputs": [],
   "source": [
    "a = [1, 2, 3, 4, 5, 6, 7, 8, 9, 10]"
   ]
  },
  {
   "cell_type": "code",
   "execution_count": 89,
   "id": "60ca0c3e-6ec7-4a5d-b757-47ce5d37adaa",
   "metadata": {},
   "outputs": [],
   "source": [
    "f = list(filter(lambda x: x % 2 == 1, a))"
   ]
  },
  {
   "cell_type": "code",
   "execution_count": 90,
   "id": "88769a65-f4b5-4861-9e8b-d3f8e1a83d51",
   "metadata": {},
   "outputs": [
    {
     "data": {
      "text/plain": [
       "[1, 3, 5, 7, 9]"
      ]
     },
     "execution_count": 90,
     "metadata": {},
     "output_type": "execute_result"
    }
   ],
   "source": [
    "f"
   ]
  },
  {
   "cell_type": "markdown",
   "id": "b1e76ffd-2ad7-499b-84eb-414b3a0f6520",
   "metadata": {},
   "source": [
    "### Reduce"
   ]
  },
  {
   "cell_type": "code",
   "execution_count": 96,
   "id": "03d2704d-2c99-4751-9799-93948f209a13",
   "metadata": {},
   "outputs": [
    {
     "data": {
      "text/plain": [
       "\u001b[1;31mDocstring:\u001b[0m\n",
       "reduce(function, sequence[, initial]) -> value\n",
       "\n",
       "Apply a function of two arguments cumulatively to the items of a sequence,\n",
       "from left to right, so as to reduce the sequence to a single value.\n",
       "For example, reduce(lambda x, y: x+y, [1, 2, 3, 4, 5]) calculates\n",
       "((((1+2)+3)+4)+5).  If initial is present, it is placed before the items\n",
       "of the sequence in the calculation, and serves as a default when the\n",
       "sequence is empty.\n",
       "\u001b[1;31mType:\u001b[0m      builtin_function_or_method\n"
      ]
     },
     "metadata": {},
     "output_type": "display_data"
    }
   ],
   "source": [
    "reduce?"
   ]
  },
  {
   "cell_type": "markdown",
   "id": "b266af87-6b9a-460f-9770-7776856ad4bb",
   "metadata": {},
   "source": [
    "##### Example 1"
   ]
  },
  {
   "cell_type": "code",
   "execution_count": 95,
   "id": "7f92641e-8d0c-4174-822e-6db2424accc9",
   "metadata": {},
   "outputs": [],
   "source": [
    "from functools import reduce"
   ]
  },
  {
   "cell_type": "code",
   "execution_count": 97,
   "id": "0e4fe17c-f4af-47ba-afdf-8f66e927f3b5",
   "metadata": {},
   "outputs": [],
   "source": [
    "a = [1, 2, 3, 4, 5]"
   ]
  },
  {
   "cell_type": "code",
   "execution_count": 98,
   "id": "234a489d-c28d-413b-b274-324ea4119e7a",
   "metadata": {},
   "outputs": [],
   "source": [
    "result = reduce(lambda x, y: x + y, a)"
   ]
  },
  {
   "cell_type": "code",
   "execution_count": 99,
   "id": "378b1e82-f37e-454a-b15b-dd77a9e9588b",
   "metadata": {},
   "outputs": [
    {
     "data": {
      "text/plain": [
       "15"
      ]
     },
     "execution_count": 99,
     "metadata": {},
     "output_type": "execute_result"
    }
   ],
   "source": [
    "result"
   ]
  },
  {
   "cell_type": "markdown",
   "id": "50556308-19cd-4590-90df-8bb4028a4fb6",
   "metadata": {},
   "source": [
    "##### Example 2"
   ]
  },
  {
   "cell_type": "code",
   "execution_count": 100,
   "id": "65e5a589-19a0-4d58-afd7-c937a17813a2",
   "metadata": {},
   "outputs": [
    {
     "data": {
      "text/plain": [
       "True"
      ]
     },
     "execution_count": 100,
     "metadata": {},
     "output_type": "execute_result"
    }
   ],
   "source": [
    "a = list(range(1, 11))\n",
    "b = reversed(a)\n",
    "\n",
    "reduce(lambda x, y: x * y, a) == reduce(lambda x, y: x * y, b)"
   ]
  },
  {
   "cell_type": "markdown",
   "id": "d28eb08b-5648-4f8f-9d79-81e05af7c9c3",
   "metadata": {},
   "source": [
    "##### Example 3"
   ]
  },
  {
   "cell_type": "markdown",
   "id": "d36ec1db-bc55-4d38-a896-2c654050c0a4",
   "metadata": {},
   "source": [
    "Concatenation using reduce"
   ]
  },
  {
   "cell_type": "code",
   "execution_count": 152,
   "id": "48cfb46f-f61e-435d-8b56-087b917dc1de",
   "metadata": {},
   "outputs": [],
   "source": [
    "a = [\"this\", \"is\", \"so\", \"cooolllll!!!\"]"
   ]
  },
  {
   "cell_type": "code",
   "execution_count": 153,
   "id": "6ab25cb5-d224-42e9-9b10-8c718ac5e59a",
   "metadata": {},
   "outputs": [
    {
     "data": {
      "text/plain": [
       "'this is so cooolllll!!!'"
      ]
     },
     "execution_count": 153,
     "metadata": {},
     "output_type": "execute_result"
    }
   ],
   "source": [
    "from functools import reduce\n",
    "reduce(lambda x, y: f\"{x} {y}\", a)"
   ]
  },
  {
   "cell_type": "markdown",
   "id": "1c9fede3-0d08-444b-b200-bfbb25215579",
   "metadata": {},
   "source": [
    "##### Example 4"
   ]
  },
  {
   "cell_type": "markdown",
   "id": "1f4e8454-c586-4620-81dd-b12d435bea19",
   "metadata": {},
   "source": [
    "Finding max of element"
   ]
  },
  {
   "cell_type": "code",
   "execution_count": 154,
   "id": "4e68b2c7-a158-49c6-8cbf-a9d4d89ebe1e",
   "metadata": {},
   "outputs": [],
   "source": [
    "a = [10, 20, 5, 18, 50, 90, 70, 65]"
   ]
  },
  {
   "cell_type": "code",
   "execution_count": 155,
   "id": "fe90a0eb-1d3d-4f92-bc59-057d08c7f703",
   "metadata": {},
   "outputs": [
    {
     "data": {
      "text/plain": [
       "90"
      ]
     },
     "execution_count": 155,
     "metadata": {},
     "output_type": "execute_result"
    }
   ],
   "source": [
    "reduce(lambda x, y: x if x > y else y, a)"
   ]
  },
  {
   "cell_type": "code",
   "execution_count": 157,
   "id": "1bd7a51c-640c-4bd6-98e0-8f6fd09cc186",
   "metadata": {},
   "outputs": [
    {
     "name": "stdout",
     "output_type": "stream",
     "text": [
      "Currently comparing 10 and 20\n",
      "Currently comparing 20 and 5\n",
      "Currently comparing 20 and 18\n",
      "Currently comparing 20 and 50\n",
      "Currently comparing 50 and 90\n",
      "Currently comparing 90 and 70\n",
      "Currently comparing 90 and 65\n"
     ]
    },
    {
     "data": {
      "text/plain": [
       "90"
      ]
     },
     "execution_count": 157,
     "metadata": {},
     "output_type": "execute_result"
    }
   ],
   "source": [
    "def reduction_visualisation(x, y):\n",
    "    print(f\"Currently comparing {x} and {y}\")\n",
    "    \n",
    "    return x if x > y else y\n",
    "\n",
    "reduce(reduction_visualisation, a)"
   ]
  },
  {
   "cell_type": "markdown",
   "id": "e6a3ecf8-a94f-40f6-a92f-4a73f4fcba84",
   "metadata": {},
   "source": [
    "### Zip"
   ]
  },
  {
   "cell_type": "code",
   "execution_count": 93,
   "id": "a1ec286a-3938-40fe-9a5c-6a330c560e75",
   "metadata": {},
   "outputs": [
    {
     "data": {
      "text/plain": [
       "\u001b[1;31mInit signature:\u001b[0m \u001b[0mzip\u001b[0m\u001b[1;33m(\u001b[0m\u001b[0mself\u001b[0m\u001b[1;33m,\u001b[0m \u001b[1;33m/\u001b[0m\u001b[1;33m,\u001b[0m \u001b[1;33m*\u001b[0m\u001b[0margs\u001b[0m\u001b[1;33m,\u001b[0m \u001b[1;33m**\u001b[0m\u001b[0mkwargs\u001b[0m\u001b[1;33m)\u001b[0m\u001b[1;33m\u001b[0m\u001b[1;33m\u001b[0m\u001b[0m\n",
       "\u001b[1;31mDocstring:\u001b[0m     \n",
       "zip(*iterables) --> A zip object yielding tuples until an input is exhausted.\n",
       "\n",
       "   >>> list(zip('abcdefg', range(3), range(4)))\n",
       "   [('a', 0, 0), ('b', 1, 1), ('c', 2, 2)]\n",
       "\n",
       "The zip object yields n-length tuples, where n is the number of iterables\n",
       "passed as positional arguments to zip().  The i-th element in every tuple\n",
       "comes from the i-th iterable argument to zip().  This continues until the\n",
       "shortest argument is exhausted.\n",
       "\u001b[1;31mType:\u001b[0m           type\n",
       "\u001b[1;31mSubclasses:\u001b[0m     \n"
      ]
     },
     "metadata": {},
     "output_type": "display_data"
    }
   ],
   "source": [
    "zip?"
   ]
  },
  {
   "cell_type": "code",
   "execution_count": 149,
   "id": "c09a71d8-c320-4637-98ff-84ea21a1692f",
   "metadata": {},
   "outputs": [
    {
     "data": {
      "text/plain": [
       "<zip at 0x1a7ea2c65c0>"
      ]
     },
     "execution_count": 149,
     "metadata": {},
     "output_type": "execute_result"
    }
   ],
   "source": [
    "a = [1, 2, 3, 4, 5, 6, 7, 8, 9, 10]\n",
    "b = [\"a\", \"b\", \"c\", \"d\", \"e\"]\n",
    "zip(a, b)"
   ]
  },
  {
   "cell_type": "markdown",
   "id": "a6a216d3-f47f-44e4-b0b8-0997434bbbe2",
   "metadata": {},
   "source": [
    "##### Zipping as a list"
   ]
  },
  {
   "cell_type": "code",
   "execution_count": 108,
   "id": "2618d2f8-517b-4a54-bec2-84a99d69a415",
   "metadata": {},
   "outputs": [],
   "source": [
    "result = list(zip(a, b))"
   ]
  },
  {
   "cell_type": "code",
   "execution_count": 109,
   "id": "132cccbb-fd6e-428e-8687-1405de2b438c",
   "metadata": {},
   "outputs": [
    {
     "data": {
      "text/plain": [
       "[(1, 'a'), (2, 'b'), (3, 'c'), (4, 'd')]"
      ]
     },
     "execution_count": 109,
     "metadata": {},
     "output_type": "execute_result"
    }
   ],
   "source": [
    "result"
   ]
  },
  {
   "cell_type": "markdown",
   "id": "f493fdf5-af72-40e8-9fff-f1e803e02ea2",
   "metadata": {},
   "source": [
    "##### Zipping as a dictionary"
   ]
  },
  {
   "cell_type": "code",
   "execution_count": 110,
   "id": "5adb600a-e479-4b24-b979-766abcc2a525",
   "metadata": {},
   "outputs": [
    {
     "data": {
      "text/plain": [
       "{1: 'a', 2: 'b', 3: 'c', 4: 'd'}"
      ]
     },
     "execution_count": 110,
     "metadata": {},
     "output_type": "execute_result"
    }
   ],
   "source": [
    "dict(zip(a, b))"
   ]
  },
  {
   "cell_type": "markdown",
   "id": "cea9dfad-ce4e-4c64-9820-2cc6de76f6ca",
   "metadata": {},
   "source": [
    "##### Zipping till the shortest argument i.e `d` is exhausted"
   ]
  },
  {
   "cell_type": "code",
   "execution_count": 105,
   "id": "72e9d3c1-b800-4fcd-92f4-0388c03f3a53",
   "metadata": {},
   "outputs": [],
   "source": [
    "a = [1, 2, 3, 4]\n",
    "b = [\"a\", \"b\", \"c\", \"d\", \"e\"]\n",
    "c = [True, False, False, True, True, True]\n",
    "d = [5.6, 2.2, 1.3]"
   ]
  },
  {
   "cell_type": "code",
   "execution_count": 106,
   "id": "07eb7a43-495b-4fb8-a2de-fe06808534cd",
   "metadata": {},
   "outputs": [
    {
     "data": {
      "text/plain": [
       "[(1, 'a', True, 5.6), (2, 'b', False, 2.2), (3, 'c', False, 1.3)]"
      ]
     },
     "execution_count": 106,
     "metadata": {},
     "output_type": "execute_result"
    }
   ],
   "source": [
    "list(zip(a, b, c, d))"
   ]
  },
  {
   "cell_type": "markdown",
   "id": "41e5af2a-f62f-4547-bddb-a0bbd7cc181d",
   "metadata": {},
   "source": [
    "### *Args and **Kwargs\n",
    "\n",
    "* Special Symbols used to pass  variable number of arguments to a function in Python\n",
    "* Syntax: ***positional -> args -> keyworded -> kwargs***"
   ]
  },
  {
   "cell_type": "markdown",
   "id": "aa7e5782-ac8b-43e4-9c3d-021fc5f5148c",
   "metadata": {},
   "source": [
    "* `*args` (Non-Keyword Arguments)  \n",
    "* `**kwargs` (Keyword Arguments)"
   ]
  },
  {
   "cell_type": "markdown",
   "id": "b39d3a76-ab07-4105-bad6-c98f9cf18a49",
   "metadata": {},
   "source": [
    "***Note:*** “We use the “wildcard” or “*” notation like this – `*args` OR `**kwargs` – as our function’s argument when we have doubts about the number of  arguments we should pass in a function.” "
   ]
  },
  {
   "cell_type": "markdown",
   "id": "1ddebcd5-e284-4ea8-a9d1-051f48afe5de",
   "metadata": {},
   "source": [
    "#### *args"
   ]
  },
  {
   "cell_type": "markdown",
   "id": "4560096d-077b-499e-8212-11b7928702e6",
   "metadata": {},
   "source": [
    "##### Example"
   ]
  },
  {
   "cell_type": "markdown",
   "id": "62d52df6-d95b-4834-9949-814aa70a8c4b",
   "metadata": {},
   "source": [
    "Consider the following example. This is a simple function that takes two arguments and returns their sum.  \n",
    "\n",
    "This function works fine, but it’s limited to only two arguments. "
   ]
  },
  {
   "cell_type": "code",
   "execution_count": 158,
   "id": "6acc4d24-b181-4f0d-b1c9-f0c35c243b51",
   "metadata": {},
   "outputs": [],
   "source": [
    "def my_sum(a, b):\n",
    "    return a + b"
   ]
  },
  {
   "cell_type": "code",
   "execution_count": 160,
   "id": "0b3b94eb-8f79-4479-b6d0-6030489ddd90",
   "metadata": {},
   "outputs": [
    {
     "data": {
      "text/plain": [
       "5"
      ]
     },
     "execution_count": 160,
     "metadata": {},
     "output_type": "execute_result"
    }
   ],
   "source": [
    "my_sum(2, 3)"
   ]
  },
  {
   "cell_type": "markdown",
   "id": "3e616218-a31e-4d1f-b023-ce68f3cfc192",
   "metadata": {},
   "source": [
    "What if you need to sum a varying number of arguments, where the specific number of arguments passed is only determined at runtime? Wouldn’t it be great to create a function that could sum all the integers passed to it, no matter how many there are?"
   ]
  },
  {
   "cell_type": "markdown",
   "id": "891993e5-5f86-44da-a2e7-9f04598d3b58",
   "metadata": {},
   "source": [
    "Here `my_sum` function will take minimum 2 arguments but max arguments would be unlimited where all the extra arguments will be part of non-keyword argument variable.  \n",
    "\n",
    "We verify the same by printing the arguments of the function below. When only 2 args are passed, `args` is an empty tuple but when more than two args are passed then all the remaining arguments are part of args tuple."
   ]
  },
  {
   "cell_type": "code",
   "execution_count": 180,
   "id": "37e558d6-e341-40d5-b069-cc2a462fe92d",
   "metadata": {},
   "outputs": [],
   "source": [
    "def my_sum_args(a, b, *args):\n",
    "    print(a)\n",
    "    print(b)\n",
    "    print(args)"
   ]
  },
  {
   "cell_type": "markdown",
   "id": "a2896d1a-2b38-4bba-bbdc-6a271d40c57b",
   "metadata": {},
   "source": [
    "###### Empty tuple"
   ]
  },
  {
   "cell_type": "code",
   "execution_count": 182,
   "id": "b676f34d-abff-4411-963b-2477e120eab1",
   "metadata": {},
   "outputs": [
    {
     "name": "stdout",
     "output_type": "stream",
     "text": [
      "2\n",
      "3\n",
      "()\n"
     ]
    }
   ],
   "source": [
    "my_sum_args(2,3)"
   ]
  },
  {
   "cell_type": "markdown",
   "id": "afe5b9b3-e9a0-49c0-8f83-19f2d65bcccc",
   "metadata": {},
   "source": [
    "###### Tuple with data"
   ]
  },
  {
   "cell_type": "code",
   "execution_count": 171,
   "id": "9d4b8bcf-9a6b-49c9-b3e1-3cbfc7d27685",
   "metadata": {},
   "outputs": [
    {
     "name": "stdout",
     "output_type": "stream",
     "text": [
      "2\n",
      "3\n",
      "(5, 9, 1)\n"
     ]
    }
   ],
   "source": [
    "my_sum_args(2, 3, 5, 9, 1)"
   ]
  },
  {
   "cell_type": "markdown",
   "id": "068beb6e-6076-475c-beee-d66f2bf4504b",
   "metadata": {},
   "source": [
    "Now, let's return the sum by using args"
   ]
  },
  {
   "cell_type": "code",
   "execution_count": 174,
   "id": "92f621ba-7dc5-4b69-8081-3f88c3258fc4",
   "metadata": {},
   "outputs": [],
   "source": [
    "def my_sum(a, b, *any_variable_name):\n",
    "    return a + b + sum(any_variable_name)"
   ]
  },
  {
   "cell_type": "code",
   "execution_count": 175,
   "id": "42596aea-0413-41b3-96a4-6a72a8dc0aef",
   "metadata": {},
   "outputs": [
    {
     "data": {
      "text/plain": [
       "20"
      ]
     },
     "execution_count": 175,
     "metadata": {},
     "output_type": "execute_result"
    }
   ],
   "source": [
    "my_sum(2, 3, 5, 9, 1)"
   ]
  },
  {
   "cell_type": "markdown",
   "id": "8808f66c-916c-4197-950a-9381aaf275ae",
   "metadata": {},
   "source": [
    "We don't even need the first two arguments `a'` & `b`if we are using *args. We can simply define the function as follows using args only."
   ]
  },
  {
   "cell_type": "code",
   "execution_count": 183,
   "id": "1beda804-88dd-4421-8a37-99b69f9fe6a3",
   "metadata": {},
   "outputs": [
    {
     "data": {
      "text/plain": [
       "20"
      ]
     },
     "execution_count": 183,
     "metadata": {},
     "output_type": "execute_result"
    }
   ],
   "source": [
    "def my_sum(*var):\n",
    "    result = 0\n",
    "    for x in var:\n",
    "        result += x\n",
    "    return result\n",
    "\n",
    "my_sum(2, 3, 5, 9, 1)"
   ]
  },
  {
   "cell_type": "markdown",
   "id": "56e0c9a6-31e1-43ea-9ed4-855ef0f70c3e",
   "metadata": {},
   "source": [
    "##### Unpacking into args"
   ]
  },
  {
   "cell_type": "markdown",
   "id": "2bab9a56-2f7d-4f42-a175-91f793607fd8",
   "metadata": {},
   "source": [
    "We can unpack any number of values in a list by using args."
   ]
  },
  {
   "cell_type": "code",
   "execution_count": 179,
   "id": "827a6387-ff41-47a1-8c2e-9a83e7b27a53",
   "metadata": {},
   "outputs": [],
   "source": [
    "def random():\n",
    "    return 200, 300, 400, 500, 600\n",
    "\n",
    "a, b, *c = random()"
   ]
  },
  {
   "cell_type": "code",
   "execution_count": 184,
   "id": "d5d0bebb-a632-45d3-b6a4-fdd49a1041b1",
   "metadata": {},
   "outputs": [
    {
     "data": {
      "text/plain": [
       "200"
      ]
     },
     "execution_count": 184,
     "metadata": {},
     "output_type": "execute_result"
    }
   ],
   "source": [
    "a"
   ]
  },
  {
   "cell_type": "code",
   "execution_count": 185,
   "id": "f985f7f5-63b0-4dde-b370-440d7253a6c8",
   "metadata": {},
   "outputs": [
    {
     "data": {
      "text/plain": [
       "300"
      ]
     },
     "execution_count": 185,
     "metadata": {},
     "output_type": "execute_result"
    }
   ],
   "source": [
    "b"
   ]
  },
  {
   "cell_type": "code",
   "execution_count": 186,
   "id": "b3808bd0-1f2a-4af7-bd56-52a74241b205",
   "metadata": {},
   "outputs": [
    {
     "data": {
      "text/plain": [
       "[400, 500, 600]"
      ]
     },
     "execution_count": 186,
     "metadata": {},
     "output_type": "execute_result"
    }
   ],
   "source": [
    "c"
   ]
  },
  {
   "cell_type": "markdown",
   "id": "2cfbf276-28a0-46bd-8d53-f2b0399ba144",
   "metadata": {},
   "source": [
    "#### **kwargs"
   ]
  },
  {
   "cell_type": "markdown",
   "id": "2a91cacd-3f98-40be-8806-2f73bc060034",
   "metadata": {},
   "source": [
    "##### Example 1"
   ]
  },
  {
   "cell_type": "code",
   "execution_count": 193,
   "id": "e35629c1-6ae4-4163-b8e3-b1867da8356c",
   "metadata": {},
   "outputs": [
    {
     "name": "stdout",
     "output_type": "stream",
     "text": [
      "{'banana': 5, 'mango': 7, 'apple': 8} <class 'dict'>\n"
     ]
    }
   ],
   "source": [
    "def total_fruits(**kwargs):\n",
    "    print(kwargs, type(kwargs))\n",
    "\n",
    "\n",
    "total_fruits(banana=5, mango=7, apple=8)"
   ]
  },
  {
   "cell_type": "markdown",
   "id": "c373e765-92f9-4b14-9f1a-1ca91dc31556",
   "metadata": {},
   "source": [
    "##### Example 2"
   ]
  },
  {
   "cell_type": "markdown",
   "id": "e2d06875-bd9d-4e73-a00d-d222c11fee51",
   "metadata": {},
   "source": [
    "Let's say we are creating a profile of an person where we need to enter name, age and gender details. We can do  that by simply creating a dictionary as shown below."
   ]
  },
  {
   "cell_type": "code",
   "execution_count": 188,
   "id": "c8c70de5-eef8-4b66-aa84-d38068a94ce7",
   "metadata": {},
   "outputs": [],
   "source": [
    "def create_person(name, age, gender):\n",
    "    Person = {\n",
    "        \"name\": name,\n",
    "        \"age\": age,\n",
    "        \"gender\": gender\n",
    "    }\n",
    "    \n",
    "    return Person"
   ]
  },
  {
   "cell_type": "code",
   "execution_count": 189,
   "id": "6c152322-dcca-48ad-82f4-8c5e7783bebd",
   "metadata": {},
   "outputs": [
    {
     "data": {
      "text/plain": [
       "{'name': 'Gaurav', 'age': 5000, 'gender': 'Male'}"
      ]
     },
     "execution_count": 189,
     "metadata": {},
     "output_type": "execute_result"
    }
   ],
   "source": [
    "create_person(name = \"Gaurav\", age = 5000, gender = \"Male\")"
   ]
  },
  {
   "cell_type": "markdown",
   "id": "e074b855-8481-4417-8dd9-a23191f47da8",
   "metadata": {},
   "source": [
    "Now let's say we have not finalised all the details that need to be furnished for person profile and we will add that on the go. This extra can't be accomodated aobe but if we introduce kwargs as an argument we can insert all the extra info as required as shown below."
   ]
  },
  {
   "cell_type": "code",
   "execution_count": 191,
   "id": "de03a50a-622e-4b53-8c20-6965b2068b16",
   "metadata": {},
   "outputs": [],
   "source": [
    "def create_person(name, age, gender, **extra_info):\n",
    "    Person = {\n",
    "        \"name\": name,\n",
    "        \"age\": age,\n",
    "        \"gender\": gender\n",
    "    }\n",
    "    \n",
    "    Person.update(extra_info)\n",
    "    \n",
    "    return Person"
   ]
  },
  {
   "cell_type": "code",
   "execution_count": 192,
   "id": "4bd918aa-ca86-48fa-bd3a-84c022c2274c",
   "metadata": {},
   "outputs": [
    {
     "data": {
      "text/plain": [
       "{'name': 'Gaurav',\n",
       " 'age': 5000,\n",
       " 'gender': 'Male',\n",
       " 'subject': ['Computer Science', 'Physics'],\n",
       " 'height': 182,\n",
       " 'weight': False}"
      ]
     },
     "execution_count": 192,
     "metadata": {},
     "output_type": "execute_result"
    }
   ],
   "source": [
    "create_person(name = \"Gaurav\", age = 5000, gender = \"Male\", subject = [\"Computer Science\", \"Physics\"], height = 182, weight = False)"
   ]
  },
  {
   "cell_type": "markdown",
   "id": "369ffee0-bdc9-4aca-8a19-08b30bca1a07",
   "metadata": {
    "tags": []
   },
   "source": [
    "# File Handling"
   ]
  },
  {
   "cell_type": "markdown",
   "id": "e1b6539e-7a19-4760-800d-8d5d2f54cd71",
   "metadata": {},
   "source": [
    "* File Created --> Encoding (ASCII) --> Binary Conversion --> Saved in Secondary Memory\n",
    "* Readling file simultaneously allowed but writing simultaneously is not allowed. \n",
    "* To avoid simultaneous writes, locks are applied on the target file, until the files are closed locks are not released.\n",
    "* In python, it is imperative to close all the opened files actiely to avoid any unintended issues."
   ]
  },
  {
   "cell_type": "markdown",
   "id": "2cd7c3ee-53d3-4b94-8d07-9413544e736f",
   "metadata": {},
   "source": [
    "## <center>Working with Files</center>"
   ]
  },
  {
   "cell_type": "markdown",
   "id": "1f7e75d8-5413-424b-a959-dec56953537c",
   "metadata": {
    "tags": []
   },
   "source": [
    "#### File Access Modes\n",
    "\n",
    ">Access modes govern the type of operations possible in the opened file. It refers to how the file will be used once its opened. These modes also define the location of the File Handle in the file. File handle is like a cursor, which defines from where the data has to be read or written in the file. There are 6 access modes in python.\n",
    "\n",
    "- **Read Only (‘r’)** : Open text file for reading. The handle is positioned at the beginning of the file. If the file does not exists, raises I/O error. This is also the default mode in which file is opened.\n",
    "\n",
    "\n",
    "- **Read and Write (‘r+’)** : Open the file for reading and writing. The handle is positioned at the beginning of the file. Raises I/O error if the file does not exists.\n",
    "\n",
    "\n",
    "- **Write Only (‘w’)** : Open the file for writing. For existing file, the data is truncated and over-written. The handle is positioned at the beginning of the file. Creates the file if the file does not exists.\n",
    "\n",
    "\n",
    "- **Write and Read (‘w+’)** : Open the file for reading and writing. For existing file, data is truncated and over-written. The handle is positioned at the beginning of the file.\n",
    "\n",
    "\n",
    "- **Append Only (‘a’)** : Open the file for writing. The file is created if it does not exist. The handle is positioned at the end of the file. The data being written will be inserted at the end, after the existing data.\n",
    "\n",
    "\n",
    "- **Append and Read (‘a+’)** : Open the file for reading and writing. The file is created if it does not exist. The handle is positioned at the end of the file. The data being written will be inserted at the end, after the existing data."
   ]
  },
  {
   "cell_type": "markdown",
   "id": "10229ba6-9d86-438a-a4c2-0ed3d172172c",
   "metadata": {
    "tags": []
   },
   "source": [
    "Mode | Read | Write | Create New File* | Truncate \n",
    "-----|------|-------|------------------|-------\n",
    "r    | Yes  | No    | No               | No\n",
    "w    | No   | Yes   | Yes              | Yes\n",
    "a    | No   | Yes   | Yes              | No\n",
    "r+   | Yes  | Yes   | No               | No\n",
    "w+   | Yes  | Yes   | Yes              | Yes\n",
    "a+   | Yes  | Yes   | Yes              | No\n",
    "\n",
    "                *Creates a new file if it doesn't exist"
   ]
  },
  {
   "cell_type": "markdown",
   "id": "a28fc54b-0273-4061-a110-1067fe6f0112",
   "metadata": {
    "tags": []
   },
   "source": [
    "### Opening a file"
   ]
  },
  {
   "cell_type": "markdown",
   "id": "2e7b89e5-2be1-44f7-9547-fb5a6a29bcb5",
   "metadata": {},
   "source": [
    "Currently sample.txt doesn't exists. we can check this by going to the same file location via file explorer. Hence, it throws error."
   ]
  },
  {
   "cell_type": "code",
   "execution_count": 1,
   "id": "ac48ce59-9862-4a7d-84e8-232f56194634",
   "metadata": {},
   "outputs": [
    {
     "ename": "FileNotFoundError",
     "evalue": "[Errno 2] No such file or directory: 'sample.txt'",
     "output_type": "error",
     "traceback": [
      "\u001b[1;31m---------------------------------------------------------------------------\u001b[0m",
      "\u001b[1;31mFileNotFoundError\u001b[0m                         Traceback (most recent call last)",
      "Cell \u001b[1;32mIn[1], line 1\u001b[0m\n\u001b[1;32m----> 1\u001b[0m f \u001b[38;5;241m=\u001b[39m  \u001b[38;5;28;43mopen\u001b[39;49m\u001b[43m(\u001b[49m\u001b[38;5;124;43m\"\u001b[39;49m\u001b[38;5;124;43msample.txt\u001b[39;49m\u001b[38;5;124;43m\"\u001b[39;49m\u001b[43m)\u001b[49m\n",
      "File \u001b[1;32m~\\miniconda3\\lib\\site-packages\\IPython\\core\\interactiveshell.py:282\u001b[0m, in \u001b[0;36m_modified_open\u001b[1;34m(file, *args, **kwargs)\u001b[0m\n\u001b[0;32m    275\u001b[0m \u001b[38;5;28;01mif\u001b[39;00m file \u001b[38;5;129;01min\u001b[39;00m {\u001b[38;5;241m0\u001b[39m, \u001b[38;5;241m1\u001b[39m, \u001b[38;5;241m2\u001b[39m}:\n\u001b[0;32m    276\u001b[0m     \u001b[38;5;28;01mraise\u001b[39;00m \u001b[38;5;167;01mValueError\u001b[39;00m(\n\u001b[0;32m    277\u001b[0m         \u001b[38;5;124mf\u001b[39m\u001b[38;5;124m\"\u001b[39m\u001b[38;5;124mIPython won\u001b[39m\u001b[38;5;124m'\u001b[39m\u001b[38;5;124mt let you open fd=\u001b[39m\u001b[38;5;132;01m{\u001b[39;00mfile\u001b[38;5;132;01m}\u001b[39;00m\u001b[38;5;124m by default \u001b[39m\u001b[38;5;124m\"\u001b[39m\n\u001b[0;32m    278\u001b[0m         \u001b[38;5;124m\"\u001b[39m\u001b[38;5;124mas it is likely to crash IPython. If you know what you are doing, \u001b[39m\u001b[38;5;124m\"\u001b[39m\n\u001b[0;32m    279\u001b[0m         \u001b[38;5;124m\"\u001b[39m\u001b[38;5;124myou can use builtins\u001b[39m\u001b[38;5;124m'\u001b[39m\u001b[38;5;124m open.\u001b[39m\u001b[38;5;124m\"\u001b[39m\n\u001b[0;32m    280\u001b[0m     )\n\u001b[1;32m--> 282\u001b[0m \u001b[38;5;28;01mreturn\u001b[39;00m io_open(file, \u001b[38;5;241m*\u001b[39margs, \u001b[38;5;241m*\u001b[39m\u001b[38;5;241m*\u001b[39mkwargs)\n",
      "\u001b[1;31mFileNotFoundError\u001b[0m: [Errno 2] No such file or directory: 'sample.txt'"
     ]
    }
   ],
   "source": [
    " f =  open(\"sample.txt\")"
   ]
  },
  {
   "cell_type": "markdown",
   "id": "88fc4f97-3507-4630-a667-d9e050c3297b",
   "metadata": {},
   "source": [
    "Now, we will try to open this file in w+ mode, so if the file doesn't exists, then it will be created but if the file had already existed then it would have been truncated (so be careful)!!"
   ]
  },
  {
   "cell_type": "code",
   "execution_count": 3,
   "id": "c8fe17aa-9a04-4703-b2de-d27f0a266ab9",
   "metadata": {},
   "outputs": [],
   "source": [
    " f =  open(\"sample.txt\", \"w+\")"
   ]
  },
  {
   "cell_type": "code",
   "execution_count": 4,
   "id": "0fa6550e-d4bb-4294-ae58-7829e9242417",
   "metadata": {},
   "outputs": [
    {
     "data": {
      "text/plain": [
       "_io.TextIOWrapper"
      ]
     },
     "execution_count": 4,
     "metadata": {},
     "output_type": "execute_result"
    }
   ],
   "source": [
    "type(f)"
   ]
  },
  {
   "cell_type": "markdown",
   "id": "00e7faa8-b4f4-4fb9-a2bf-c5db66e54f0e",
   "metadata": {},
   "source": [
    "**Never forget to close an opened file!!**"
   ]
  },
  {
   "cell_type": "code",
   "execution_count": 5,
   "id": "bb7cce51-543f-43a1-9e1b-5a08ad089f0f",
   "metadata": {},
   "outputs": [],
   "source": [
    "f.close()"
   ]
  },
  {
   "cell_type": "markdown",
   "id": "4c6fa59f-5b98-4094-a44f-f9be8ebd38e9",
   "metadata": {},
   "source": [
    "#### Opening multiple files at once"
   ]
  },
  {
   "cell_type": "code",
   "execution_count": 6,
   "id": "4716c4ff-b052-4d88-a6ab-30df1b557c4b",
   "metadata": {},
   "outputs": [],
   "source": [
    " f =  open(\"sample.txt\", \"w+\")\n",
    "f1 = open(\"sample1.txt\", \"w+\")"
   ]
  },
  {
   "cell_type": "code",
   "execution_count": 7,
   "id": "57e27110-cca2-4635-97ce-272284091147",
   "metadata": {},
   "outputs": [],
   "source": [
    "f.close()\n",
    "f1.close()"
   ]
  },
  {
   "cell_type": "markdown",
   "id": "f63b4461-7de3-4b0d-8a04-f6a44e254d91",
   "metadata": {
    "tags": []
   },
   "source": [
    "### Writing to a file\n",
    "\n",
    "- write\n",
    "- writelines"
   ]
  },
  {
   "cell_type": "code",
   "execution_count": 9,
   "id": "95a47007-4a6e-4591-86e1-2872814cbded",
   "metadata": {},
   "outputs": [],
   "source": [
    "file = open(\"sample.txt\", \"w+\")"
   ]
  },
  {
   "cell_type": "code",
   "execution_count": 10,
   "id": "8b6ec6cf-8f5b-4d80-a8e5-3c7bcd087da1",
   "metadata": {},
   "outputs": [
    {
     "data": {
      "text/plain": [
       "52"
      ]
     },
     "execution_count": 10,
     "metadata": {},
     "output_type": "execute_result"
    }
   ],
   "source": [
    "file.write(\"Hi! This is a sample file to test the file handling.\")"
   ]
  },
  {
   "cell_type": "markdown",
   "id": "48086853-25a0-4fa5-adbb-e3c6015b2527",
   "metadata": {},
   "source": [
    "Now, if we check the sample.txt in file explorer. It will still show up as 0B in size. file will not be saved until and unless it is closed."
   ]
  },
  {
   "cell_type": "code",
   "execution_count": 11,
   "id": "24f619b6-9ef7-4a1b-94d5-172b307f9358",
   "metadata": {},
   "outputs": [],
   "source": [
    "file.close()"
   ]
  },
  {
   "cell_type": "markdown",
   "id": "43e09ebc-2a89-4b40-88da-953c2390fd38",
   "metadata": {},
   "source": [
    "#### Writing multiple strings to files"
   ]
  },
  {
   "cell_type": "code",
   "execution_count": 39,
   "id": "ef0502e0-3bf3-407d-b069-ec1c8828e571",
   "metadata": {},
   "outputs": [],
   "source": [
    "file1 = open(\"sample1.txt\", \"w+\")"
   ]
  },
  {
   "cell_type": "code",
   "execution_count": 40,
   "id": "73d693bb-749d-40a2-acac-69b41bf50328",
   "metadata": {},
   "outputs": [],
   "source": [
    "file1.writelines([\n",
    "    \"This is Line 1 inputed as 1st element of list. \\n\",\n",
    "    \"This is the 2nd sample input line inserted using writelines. \\n\",\n",
    "    \"Sample Line 3 \\n\"\n",
    "])"
   ]
  },
  {
   "cell_type": "code",
   "execution_count": 41,
   "id": "f03760d7-7ffe-4479-bd64-68b412d92f12",
   "metadata": {},
   "outputs": [],
   "source": [
    "file1.close()"
   ]
  },
  {
   "cell_type": "markdown",
   "id": "28ab8ad0-cfcf-41f9-a790-82c8efa3701a",
   "metadata": {},
   "source": [
    "### Reading from a file\n",
    "- read\n",
    "- readline\n",
    "- readlines"
   ]
  },
  {
   "cell_type": "markdown",
   "id": "1d859442-a444-4d54-bcc0-bc177d9d807a",
   "metadata": {},
   "source": [
    "#### Cursor"
   ]
  },
  {
   "cell_type": "code",
   "execution_count": 42,
   "id": "80473392-a3f6-4ee5-b89a-fd48898a38f4",
   "metadata": {},
   "outputs": [],
   "source": [
    "file1 = open(\"sample1.txt\", \"r+\")"
   ]
  },
  {
   "cell_type": "markdown",
   "id": "8d6cbdf5-750a-476a-8cc6-7cb946771e76",
   "metadata": {},
   "source": [
    "#### Reading the whole file at once"
   ]
  },
  {
   "cell_type": "code",
   "execution_count": 43,
   "id": "a7dfe6d4-655f-49f9-9aa7-8f9d717032a5",
   "metadata": {},
   "outputs": [
    {
     "data": {
      "text/plain": [
       "'This is Line 1 inputed as 1st element of list. \\nThis is the 2nd sample input line inserted using writelines. \\nSample Line 3 \\n'"
      ]
     },
     "execution_count": 43,
     "metadata": {},
     "output_type": "execute_result"
    }
   ],
   "source": [
    "file1.read()"
   ]
  },
  {
   "cell_type": "code",
   "execution_count": 45,
   "id": "0ce6cdd8-9ae1-40aa-9edb-631d88218cc8",
   "metadata": {},
   "outputs": [],
   "source": [
    "file1.close()"
   ]
  },
  {
   "cell_type": "markdown",
   "id": "b3bf9e53-7cbf-4d3c-bfba-6fdfee7780cb",
   "metadata": {},
   "source": [
    "#### Reading single line at a time"
   ]
  },
  {
   "cell_type": "code",
   "execution_count": 46,
   "id": "f482235a-313d-43e6-9be8-51a9f14ea19d",
   "metadata": {},
   "outputs": [],
   "source": [
    "file1 = open(\"sample1.txt\", \"r+\")"
   ]
  },
  {
   "cell_type": "code",
   "execution_count": 47,
   "id": "01f2e6b8-e1ff-40ab-ae05-b79c9d172d93",
   "metadata": {},
   "outputs": [
    {
     "data": {
      "text/plain": [
       "'This is Line 1 inputed as 1st element of list. \\n'"
      ]
     },
     "execution_count": 47,
     "metadata": {},
     "output_type": "execute_result"
    }
   ],
   "source": [
    "file1.readline()"
   ]
  },
  {
   "cell_type": "code",
   "execution_count": 48,
   "id": "df414e23-bda1-4628-b630-d345595b130f",
   "metadata": {},
   "outputs": [
    {
     "data": {
      "text/plain": [
       "'This is the 2nd sample input line inserted using writelines. \\n'"
      ]
     },
     "execution_count": 48,
     "metadata": {},
     "output_type": "execute_result"
    }
   ],
   "source": [
    "file1.readline()"
   ]
  },
  {
   "cell_type": "code",
   "execution_count": 49,
   "id": "d5bd4771-4f0e-45d9-9fa4-569a3eb14140",
   "metadata": {},
   "outputs": [
    {
     "data": {
      "text/plain": [
       "'Sample Line 3 \\n'"
      ]
     },
     "execution_count": 49,
     "metadata": {},
     "output_type": "execute_result"
    }
   ],
   "source": [
    "file1.readline()"
   ]
  },
  {
   "cell_type": "code",
   "execution_count": 50,
   "id": "85c74b93-e959-4329-b983-023213030f8d",
   "metadata": {},
   "outputs": [
    {
     "data": {
      "text/plain": [
       "''"
      ]
     },
     "execution_count": 50,
     "metadata": {},
     "output_type": "execute_result"
    }
   ],
   "source": [
    "file1.readline()"
   ]
  },
  {
   "cell_type": "code",
   "execution_count": 51,
   "id": "d5a9c55f-204f-4148-9fff-d73db7762fee",
   "metadata": {},
   "outputs": [],
   "source": [
    "file1.close()"
   ]
  },
  {
   "cell_type": "markdown",
   "id": "d574953e-2e43-4d98-a10b-6c6fc3e8583a",
   "metadata": {},
   "source": [
    "#### Readling multiple strings at once"
   ]
  },
  {
   "cell_type": "markdown",
   "id": "afa8daae-da2b-43e0-946a-b22059c73937",
   "metadata": {},
   "source": [
    "This function is basically the inverse of writelines. Here, we are readinbg multiple strings and storing it in a list."
   ]
  },
  {
   "cell_type": "code",
   "execution_count": 52,
   "id": "9af5f2d7-1114-4969-b975-fb72cbb2572f",
   "metadata": {},
   "outputs": [],
   "source": [
    "file1 = open(\"sample1.txt\", \"r+\")"
   ]
  },
  {
   "cell_type": "code",
   "execution_count": 53,
   "id": "34671f7b-d79a-43a5-89da-8e6ed6642948",
   "metadata": {},
   "outputs": [
    {
     "data": {
      "text/plain": [
       "['This is Line 1 inputed as 1st element of list. \\n',\n",
       " 'This is the 2nd sample input line inserted using writelines. \\n',\n",
       " 'Sample Line 3 \\n']"
      ]
     },
     "execution_count": 53,
     "metadata": {},
     "output_type": "execute_result"
    }
   ],
   "source": [
    "file1.readlines()"
   ]
  },
  {
   "cell_type": "code",
   "execution_count": 54,
   "id": "518e786d-4c8c-4165-a1a8-663b1232e7a8",
   "metadata": {},
   "outputs": [],
   "source": [
    "file1.close()"
   ]
  },
  {
   "cell_type": "markdown",
   "id": "9952d159-1136-422d-8a9c-5f2a1eeec2da",
   "metadata": {},
   "source": [
    "##### Example"
   ]
  },
  {
   "cell_type": "code",
   "execution_count": 55,
   "id": "f52100b2-dd3c-474c-899e-08d6f0e74dec",
   "metadata": {},
   "outputs": [],
   "source": [
    "file = open(\"long_sample.txt\", \"w+\")"
   ]
  },
  {
   "cell_type": "code",
   "execution_count": 56,
   "id": "d1f1d764-ec3b-461e-b0e9-34c6d445a3d6",
   "metadata": {},
   "outputs": [
    {
     "data": {
      "text/plain": [
       "1227"
      ]
     },
     "execution_count": 56,
     "metadata": {},
     "output_type": "execute_result"
    }
   ],
   "source": [
    "file.write(\"What is Lorem Ipsum?\\nLorem Ipsum is simply dummy text of the printing and typesetting industry. Lorem Ipsum has been the industry's standard dummy text ever since the 1500s, when an unknown printer took a galley of type and scrambled it to make a type specimen book. It has survived not only five centuries, but also the leap into electronic typesetting, remaining essentially unchanged. It was popularised in the 1960s with the release of Letraset sheets containing Lorem Ipsum passages, and more recently with desktop publishing software like Aldus PageMaker including versions of Lorem Ipsum.\\nWhy do we use it?\\nIt is a long established fact that a reader will be distracted by the readable content of a page when looking at its layout. The point of using Lorem Ipsum is that it has a more-or-less normal distribution of letters, as opposed to using 'Content here, content here', making it look like readable English. Many desktop publishing packages and web page editors now use Lorem Ipsum as their default model text, and a search for 'lorem ipsum' will uncover many web sites still in their infancy. Various versions have evolved over the years, sometimes by accident, sometimes on purpose (injected humour and the like).\")"
   ]
  },
  {
   "cell_type": "code",
   "execution_count": 57,
   "id": "1d54f91f-8f64-4da6-9f2a-ca1f7c881978",
   "metadata": {},
   "outputs": [],
   "source": [
    "file.close()"
   ]
  },
  {
   "cell_type": "code",
   "execution_count": 58,
   "id": "1a177a7f-0fa7-4e74-9221-89a222c7c7e9",
   "metadata": {},
   "outputs": [],
   "source": [
    "file = open(\"long_sample.txt\", \"r+\")"
   ]
  },
  {
   "cell_type": "code",
   "execution_count": 59,
   "id": "103e7fb2-2be2-4455-a393-95b84f062ee5",
   "metadata": {},
   "outputs": [
    {
     "data": {
      "text/plain": [
       "['What is Lorem Ipsum?\\n',\n",
       " \"Lorem Ipsum is simply dummy text of the printing and typesetting industry. Lorem Ipsum has been the industry's standard dummy text ever since the 1500s, when an unknown printer took a galley of type and scrambled it to make a type specimen book. It has survived not only five centuries, but also the leap into electronic typesetting, remaining essentially unchanged. It was popularised in the 1960s with the release of Letraset sheets containing Lorem Ipsum passages, and more recently with desktop publishing software like Aldus PageMaker including versions of Lorem Ipsum.\\n\",\n",
       " 'Why do we use it?\\n',\n",
       " \"It is a long established fact that a reader will be distracted by the readable content of a page when looking at its layout. The point of using Lorem Ipsum is that it has a more-or-less normal distribution of letters, as opposed to using 'Content here, content here', making it look like readable English. Many desktop publishing packages and web page editors now use Lorem Ipsum as their default model text, and a search for 'lorem ipsum' will uncover many web sites still in their infancy. Various versions have evolved over the years, sometimes by accident, sometimes on purpose (injected humour and the like).\"]"
      ]
     },
     "execution_count": 59,
     "metadata": {},
     "output_type": "execute_result"
    }
   ],
   "source": [
    "file.readlines()"
   ]
  },
  {
   "cell_type": "code",
   "execution_count": 60,
   "id": "e5ad44ee-9cbb-44f3-a757-32c02183b8a8",
   "metadata": {},
   "outputs": [],
   "source": [
    "file.close()"
   ]
  },
  {
   "cell_type": "markdown",
   "id": "afc27afd-849e-4fc9-a8aa-5630030e57a0",
   "metadata": {},
   "source": [
    "##### Issues: \n",
    "    One of the issues with readlines is that it loads the entire file in memory at once which can be problematic if the file size is very large.\n",
    "\n",
    "##### Solution:\n",
    "\n",
    "    To overcome this, we read the file line by line using readline rocess the file one line at a time."
   ]
  },
  {
   "cell_type": "markdown",
   "id": "4003ad83-5781-4146-96a9-b8f64b2145fb",
   "metadata": {},
   "source": [
    "#### Reading multiple lines efficiently"
   ]
  },
  {
   "cell_type": "code",
   "execution_count": 61,
   "id": "cc2ed1f1-7e15-41c6-a98d-24039a6966b8",
   "metadata": {},
   "outputs": [],
   "source": [
    "file = open(\"long_sample.txt\", \"r+\")"
   ]
  },
  {
   "cell_type": "code",
   "execution_count": 62,
   "id": "93519309-a259-47ec-bd3d-d3434074bdc3",
   "metadata": {},
   "outputs": [
    {
     "name": "stdout",
     "output_type": "stream",
     "text": [
      "What is Lorem Ipsum?\n",
      "Lorem Ipsum is simply dummy text of the printing and typesetting industry. Lorem Ipsum has been the industry's standard dummy text ever since the 1500s, when an unknown printer took a galley of type and scrambled it to make a type specimen book. It has survived not only five centuries, but also the leap into electronic typesetting, remaining essentially unchanged. It was popularised in the 1960s with the release of Letraset sheets containing Lorem Ipsum passages, and more recently with desktop publishing software like Aldus PageMaker including versions of Lorem Ipsum.\n",
      "Why do we use it?\n",
      "It is a long established fact that a reader will be distracted by the readable content of a page when looking at its layout. The point of using Lorem Ipsum is that it has a more-or-less normal distribution of letters, as opposed to using 'Content here, content here', making it look like readable English. Many desktop publishing packages and web page editors now use Lorem Ipsum as their default model text, and a search for 'lorem ipsum' will uncover many web sites still in their infancy. Various versions have evolved over the years, sometimes by accident, sometimes on purpose (injected humour and the like)."
     ]
    }
   ],
   "source": [
    "buffer = file.readline()\n",
    "\n",
    "while buffer:\n",
    "    print(buffer, end = \"\")\n",
    "    buffer = file.readline()"
   ]
  },
  {
   "cell_type": "code",
   "execution_count": 63,
   "id": "9f77b7cd-3012-4508-886c-9fec13b5316b",
   "metadata": {},
   "outputs": [],
   "source": [
    "file.close()"
   ]
  },
  {
   "cell_type": "markdown",
   "id": "5ba5dc52-eae5-4280-a567-091ed175c23a",
   "metadata": {},
   "source": [
    "#### Reading specific number of characters"
   ]
  },
  {
   "cell_type": "code",
   "execution_count": 65,
   "id": "57c1c15f-8ab3-42b7-a303-abb4f0e37139",
   "metadata": {},
   "outputs": [],
   "source": [
    "file = open(\"long_sample.txt\", \"r+\")"
   ]
  },
  {
   "cell_type": "code",
   "execution_count": 66,
   "id": "082b008a-d0a8-44c4-94c2-e329708a3c14",
   "metadata": {},
   "outputs": [
    {
     "name": "stdout",
     "output_type": "stream",
     "text": [
      "What is Lorem Ipsum?\n",
      "Lorem Ipsum is simply dummy t\n",
      "ext of the printing and typesetting industry. Lore\n",
      "m Ipsum has been the industry's standard dummy tex\n",
      "t ever since the 1500s, when an unknown printer to\n",
      "ok a galley of type and scrambled it to make a typ\n",
      "e specimen book. It has survived not only five cen\n",
      "turies, but also the leap into electronic typesett\n",
      "ing, remaining essentially unchanged. It was popul\n",
      "arised in the 1960s with the release of Letraset s\n",
      "heets containing Lorem Ipsum passages, and more re\n",
      "cently with desktop publishing software like Aldus\n",
      " PageMaker including versions of Lorem Ipsum.\n",
      "Why \n",
      "do we use it?\n",
      "It is a long established fact that a\n",
      " reader will be distracted by the readable content\n",
      " of a page when looking at its layout. The point o\n",
      "f using Lorem Ipsum is that it has a more-or-less \n",
      "normal distribution of letters, as opposed to usin\n",
      "g 'Content here, content here', making it look lik\n",
      "e readable English. Many desktop publishing packag\n",
      "es and web page editors now use Lorem Ipsum as the\n",
      "ir default model text, and a search for 'lorem ips\n",
      "um' will uncover many web sites still in their inf\n",
      "ancy. Various versions have evolved over the years\n",
      ", sometimes by accident, sometimes on purpose (inj\n",
      "ected humour and the like).\n"
     ]
    }
   ],
   "source": [
    "while True:\n",
    "    chunk = file.read(50) # number of characters\n",
    "    \n",
    "    if not chunk:\n",
    "        break\n",
    "        \n",
    "    print(chunk)"
   ]
  },
  {
   "cell_type": "code",
   "execution_count": 67,
   "id": "f6465060-de87-4a69-a03e-ff18210f1f13",
   "metadata": {},
   "outputs": [],
   "source": [
    "file.close()"
   ]
  },
  {
   "cell_type": "markdown",
   "id": "471cd946-8b54-47dd-871e-4976996b9949",
   "metadata": {
    "tags": []
   },
   "source": [
    "### Moving the cursor\n",
    "\n",
    "- seek(n) : takes the file read handle to the nth byte from the beginning."
   ]
  },
  {
   "cell_type": "markdown",
   "id": "c93eef4b-8109-49cb-ad41-b147b33eb2e6",
   "metadata": {},
   "source": [
    "Everytime we read the file, cursor moves to the end of that position till where the file has been read."
   ]
  },
  {
   "cell_type": "code",
   "execution_count": 70,
   "id": "4d4db286-6a0b-44ab-a855-fb1edbd2416b",
   "metadata": {},
   "outputs": [],
   "source": [
    "file = open(\"sample1.txt\", \"r+\")"
   ]
  },
  {
   "cell_type": "code",
   "execution_count": 71,
   "id": "10e3e69b-2a52-4e6e-b154-5b46b2d1b2cd",
   "metadata": {},
   "outputs": [
    {
     "data": {
      "text/plain": [
       "'This is Line 1 inputed as 1st element of list. \\nThis is the 2nd sample input line inserted using writelines. \\nSample Line 3 \\n'"
      ]
     },
     "execution_count": 71,
     "metadata": {},
     "output_type": "execute_result"
    }
   ],
   "source": [
    "file.read()"
   ]
  },
  {
   "cell_type": "code",
   "execution_count": 72,
   "id": "293a9f3b-a939-4f1a-8be3-11a227ed1c36",
   "metadata": {},
   "outputs": [
    {
     "data": {
      "text/plain": [
       "''"
      ]
     },
     "execution_count": 72,
     "metadata": {},
     "output_type": "execute_result"
    }
   ],
   "source": [
    "file.read()"
   ]
  },
  {
   "cell_type": "markdown",
   "id": "0c8ec46e-19bc-45db-befc-495c860dcdb9",
   "metadata": {},
   "source": [
    "seek will move the cursor to the specified position."
   ]
  },
  {
   "cell_type": "code",
   "execution_count": 78,
   "id": "fb1701ab-2383-454a-b56e-0040db68aa98",
   "metadata": {},
   "outputs": [
    {
     "data": {
      "text/plain": [
       "0"
      ]
     },
     "execution_count": 78,
     "metadata": {},
     "output_type": "execute_result"
    }
   ],
   "source": [
    "file.seek(0)"
   ]
  },
  {
   "cell_type": "code",
   "execution_count": 79,
   "id": "021adbac-627b-4bab-8296-3c36330b85a1",
   "metadata": {},
   "outputs": [
    {
     "data": {
      "text/plain": [
       "'This is Line 1 inputed as 1st element of list. \\nThis is the 2nd sample input line inserted using writelines. \\nSample Line 3 \\n'"
      ]
     },
     "execution_count": 79,
     "metadata": {},
     "output_type": "execute_result"
    }
   ],
   "source": [
    "file.read()"
   ]
  },
  {
   "cell_type": "markdown",
   "id": "0fa427d5-6988-4dab-b841-f4898c15b3e4",
   "metadata": {},
   "source": [
    "Here we are mvoing the cursor to 0th position and then reading from the 0th position till 40th position."
   ]
  },
  {
   "cell_type": "code",
   "execution_count": 82,
   "id": "88aed895-cf8d-4fb9-88ad-177d4035bf01",
   "metadata": {},
   "outputs": [
    {
     "data": {
      "text/plain": [
       "'This is Line 1 inputed as 1st element of'"
      ]
     },
     "execution_count": 82,
     "metadata": {},
     "output_type": "execute_result"
    }
   ],
   "source": [
    "#Here we are mvoing the cursor to 0th position and then reading from the 0th position till 40th position.\n",
    "file.seek(0)\n",
    "file.read(40)"
   ]
  },
  {
   "cell_type": "code",
   "execution_count": 83,
   "id": "be08918e-fee0-47b8-ad9d-bb8dd713e3f3",
   "metadata": {},
   "outputs": [],
   "source": [
    "file.close()"
   ]
  },
  {
   "cell_type": "markdown",
   "id": "4e6c82ca-867b-4a1f-9901-90fe7cb67f62",
   "metadata": {
    "tags": []
   },
   "source": [
    "### Smarter way of opening files...\n",
    "\n",
    "With the \"with\" statement, you get better syntax and exceptions handling. \n",
    "\n",
    "\"The with statement simplifies exception handling by encapsulating common\n",
    "preparation and cleanup tasks.\"\n",
    "\n",
    "In addition, it will automatically close the file. The with statement provides\n",
    "a way for ensuring that a clean-up is always used.\n"
   ]
  },
  {
   "cell_type": "code",
   "execution_count": 84,
   "id": "db62141c-f2f1-4502-900d-29cae1e0fa8a",
   "metadata": {},
   "outputs": [
    {
     "name": "stdout",
     "output_type": "stream",
     "text": [
      "Hi! This i\n",
      " file to test the file handling.\n"
     ]
    }
   ],
   "source": [
    "with open(\"sample.txt\", \"r+\") as f1:\n",
    "    print(f1.read(10))\n",
    "    f1.seek(20)\n",
    "    print(f1.read())\n",
    "    \n",
    "# File is automatically closed"
   ]
  },
  {
   "cell_type": "markdown",
   "id": "54ca1f37-b521-49fe-84d9-a7a97f12cf0c",
   "metadata": {},
   "source": [
    "##### Appending in the file"
   ]
  },
  {
   "cell_type": "code",
   "execution_count": 85,
   "id": "47d758d4-371f-456c-8d79-61f75172660a",
   "metadata": {},
   "outputs": [],
   "source": [
    "with open(\"sample.txt\", \"a+\") as file:\n",
    "    file.write(\"YEH HAI EXTRA APPENDED INFO!!!\")"
   ]
  },
  {
   "cell_type": "code",
   "execution_count": 86,
   "id": "2d9a6adf-3a83-43a0-9035-d7467adbc88f",
   "metadata": {},
   "outputs": [
    {
     "name": "stdout",
     "output_type": "stream",
     "text": [
      "Hi! This is a sample file to test the file handling.YEH HAI EXTRA APPENDED INFO!!!\n"
     ]
    }
   ],
   "source": [
    "with open(\"sample.txt\", \"r+\") as f1:\n",
    "    print(f1.read())"
   ]
  },
  {
   "cell_type": "markdown",
   "id": "39b2cdbb-85f8-422d-bbef-04dd27e5938e",
   "metadata": {
    "tags": []
   },
   "source": [
    "# Exceptions & Modules"
   ]
  },
  {
   "cell_type": "markdown",
   "id": "cea61275-2cb5-4b60-9bdc-9124a5b90636",
   "metadata": {
    "tags": []
   },
   "source": [
    "### Theory"
   ]
  },
  {
   "cell_type": "markdown",
   "id": "85c83538-3efc-4c56-8ba7-2eb797c577fd",
   "metadata": {},
   "source": [
    "* An error is an issue in a program that prevents the program from completing its task. In comparison, an exception is a condition that interrupts the normal flow of the program. Both errors and exceptions are a type of runtime error, which means they occur during the execution of a program. "
   ]
  },
  {
   "cell_type": "markdown",
   "id": "cf1d5e07-0fc2-4a77-ab20-c166647e64c1",
   "metadata": {},
   "source": [
    "* Two types of Error occurs in python:\n",
    "    * Syntax Errors: When the proper syntax of the language is not followed then a syntax error is thrown.\n",
    "    * Logical Errors(Exceptions): When in the runtime an error that occurs after passing the syntax test is called exception or logical type."
   ]
  },
  {
   "cell_type": "markdown",
   "id": "78939dbf-dbf6-41e1-b321-6c7196df46d1",
   "metadata": {
    "tags": []
   },
   "source": [
    "#### Built-in Errors"
   ]
  },
  {
   "cell_type": "markdown",
   "id": "f8427d52-2151-4307-8e92-7d76a4755946",
   "metadata": {},
   "source": [
    "Pre-defined built-in errors in python. "
   ]
  },
  {
   "cell_type": "code",
   "execution_count": 96,
   "id": "4530066e-9a76-498d-bd0d-01a4d220fafe",
   "metadata": {},
   "outputs": [
    {
     "name": "stdout",
     "output_type": "stream",
     "text": [
      "ArithmeticError\n",
      "AssertionError\n",
      "AttributeError\n",
      "BlockingIOError\n",
      "BrokenPipeError\n",
      "BufferError\n",
      "ChildProcessError\n",
      "ConnectionAbortedError\n",
      "ConnectionError\n",
      "ConnectionRefusedError\n",
      "ConnectionResetError\n",
      "EOFError\n",
      "EnvironmentError\n",
      "FileExistsError\n",
      "FileNotFoundError\n",
      "FloatingPointError\n",
      "IOError\n",
      "ImportError\n",
      "IndentationError\n",
      "IndexError\n",
      "InterruptedError\n",
      "IsADirectoryError\n",
      "KeyError\n",
      "LookupError\n",
      "MemoryError\n",
      "ModuleNotFoundError\n",
      "NameError\n",
      "NotADirectoryError\n",
      "NotImplementedError\n",
      "OSError\n",
      "OverflowError\n",
      "PermissionError\n",
      "ProcessLookupError\n",
      "RecursionError\n",
      "ReferenceError\n",
      "RuntimeError\n",
      "SyntaxError\n",
      "SystemError\n",
      "TabError\n",
      "TimeoutError\n",
      "TypeError\n",
      "UnboundLocalError\n",
      "UnicodeDecodeError\n",
      "UnicodeEncodeError\n",
      "UnicodeError\n",
      "UnicodeTranslateError\n",
      "ValueError\n",
      "WindowsError\n",
      "ZeroDivisionError\n"
     ]
    }
   ],
   "source": [
    "for i in dir(__builtins__):\n",
    "    if \"Error\" in i:\n",
    "        print(i)"
   ]
  },
  {
   "cell_type": "markdown",
   "id": "e2609c5f-790e-4982-a189-adf47d949bf3",
   "metadata": {},
   "source": [
    "##### Some built-in exceptions with descriptions:"
   ]
  },
  {
   "cell_type": "markdown",
   "id": "3ea78e4f-4d20-4fc1-b524-712e73fbf46b",
   "metadata": {},
   "source": [
    "Exception   |     Description     |\n",
    "------------|---------------------|\n",
    "**AssertionError** | raised when the assert statement fails.\n",
    "**EOFError** | raised when the input() function meets the end-of-file condition.\n",
    "**AttributeError** | raised when the attribute assignment or reference fails.\n",
    "**TabError** | raised when the indentations consist of inconsistent tabs or spaces. \n",
    "**ImportError** | raised when importing the module fails. \n",
    "**IndexError**|  occurs when the index of a sequence is out of range\n",
    "**KeyboardInterrupt** | raised when the user inputs interrupt keys (Ctrl + C or Delete).\n",
    "**RuntimeError** | occurs when an error does not fall into any category. \n",
    "**NameError**|  raised when a variable is not found in the local or global scope. \n",
    "**MemoryError** | raised when programs run out of memory. \n",
    "**ValueError** | occurs when the operation or function receives an argument with the right type but the wrong value. \n",
    "**ZeroDivisionError**|  raised when you divide a value or variable with zero. \n",
    "**SyntaxError** | raised by the parser when the Python syntax is wrong. \n",
    "**IndentationError** | occurs when there is a wrong indentation.\n",
    "**SystemError** | raised when the interpreter detects an internal error."
   ]
  },
  {
   "cell_type": "markdown",
   "id": "43786f95-67d8-48f0-8107-0288154db5cd",
   "metadata": {
    "tags": []
   },
   "source": [
    "#### Python Exception Hierarchy"
   ]
  },
  {
   "cell_type": "markdown",
   "id": "963e74a3-96fa-45f7-a020-444299ac458a",
   "metadata": {},
   "source": [
    "* All exception classes are derived from the BaseException class.\n",
    "* The code can run built in exceptions, or we can also raise these exceptions in the code.\n",
    "* User can derive their own exception from the Exception class, or from any other child class of Exception class."
   ]
  },
  {
   "cell_type": "markdown",
   "id": "97380d98-ab77-4e03-8e79-8988192de147",
   "metadata": {},
   "source": [
    "The Python Exception Hierarchy is like below:\n",
    "* BaseException\n",
    "* Exception\n",
    "    * ArithmeticError\n",
    "        * FloatingPointError\n",
    "        * OverflowError\n",
    "        * ZeroDivisionError\n",
    "    * AssertionError\n",
    "    * AttributeError\n",
    "    * BufferError\n",
    "    * EOFError\n",
    "    * ImportError\n",
    "        * ModuleNotFoundError\n",
    "    * LookupError\n",
    "        * IndexError\n",
    "        * KeyError\n",
    "    * MemoryError\n",
    "    * NameError\n",
    "        * UnboundLocalError\n",
    "    * OSError\n",
    "        * BlockingIOError\n",
    "        * ChildProcessError\n",
    "        * ConnectionError\n",
    "            * BrokenPipeError\n",
    "            * ConnectionAbortedError\n",
    "            * ConnectionRefusedError\n",
    "            * ConnectionResetError\n",
    "    * FileExistsError\n",
    "    * FileNotFoundError\n",
    "    * InterruptedError\n",
    "    * IsADirectoryError\n",
    "    * NotADirectoryError\n",
    "    * PermissionError\n",
    "    * ProcessLookupError\n",
    "    * TimeoutError\n",
    "* ReferenceError\n",
    "* RuntimeError\n",
    "    * NotImplementedError\n",
    "    * RecursionError\n",
    "* StopIteration\n",
    "* StopAsyncIteration\n",
    "* SyntaxError\n",
    "    * IndentationError\n",
    "        * TabError\n",
    "* SystemError\n",
    "* TypeError\n",
    "* ValueError\n",
    "    * UnicodeError\n",
    "        * UnicodeDecodeError\n",
    "        * UnicodeEncodeError\n",
    "        * UnicodeTranslateError\n",
    "* Warning\n",
    "    * BytesWarning\n",
    "    * DeprecationWarning\n",
    "    * FutureWarning\n",
    "    * ImportWarning\n",
    "    * PendingDeprecationWarning\n",
    "    * ResourceWarning\n",
    "    * RuntimeWarning\n",
    "    * SyntaxWarning\n",
    "    * UnicodeWarning\n",
    "    * UserWarning\n",
    "* GeneratorExit\n",
    "* KeyboardInterrupt\n",
    "* SystemExit"
   ]
  },
  {
   "cell_type": "markdown",
   "id": "91bf54c4-4e2b-4515-a2f2-c1cfbd46519a",
   "metadata": {
    "tags": []
   },
   "source": [
    "#### Example of syntax error"
   ]
  },
  {
   "cell_type": "code",
   "execution_count": 94,
   "id": "45f59b76-b275-4f60-8133-8b6237598db2",
   "metadata": {},
   "outputs": [
    {
     "ename": "SyntaxError",
     "evalue": "invalid syntax (284357100.py, line 3)",
     "output_type": "error",
     "traceback": [
      "\u001b[1;36m  Cell \u001b[1;32mIn[94], line 3\u001b[1;36m\u001b[0m\n\u001b[1;33m    if(amount>2999)\u001b[0m\n\u001b[1;37m                   ^\u001b[0m\n\u001b[1;31mSyntaxError\u001b[0m\u001b[1;31m:\u001b[0m invalid syntax\n"
     ]
    }
   ],
   "source": [
    "amount = 10000\n",
    "\n",
    "if(amount>2999)\n",
    "    print(\"Syntax error will happen\")"
   ]
  },
  {
   "cell_type": "markdown",
   "id": "1e21db9f-a379-4b4b-bfa9-687fca5fd2c0",
   "metadata": {
    "tags": []
   },
   "source": [
    "#### Example of Exceptions(Logical Error)"
   ]
  },
  {
   "cell_type": "markdown",
   "id": "cd7c7e0b-2f97-47ad-b46c-d509ab7e7346",
   "metadata": {},
   "source": [
    "##### Zero Division Error"
   ]
  },
  {
   "cell_type": "code",
   "execution_count": 1,
   "id": "0c2a5367-d4ef-442a-852e-20c020daaa6a",
   "metadata": {},
   "outputs": [
    {
     "ename": "ZeroDivisionError",
     "evalue": "division by zero",
     "output_type": "error",
     "traceback": [
      "\u001b[0;31m---------------------------------------------------------------------------\u001b[0m",
      "\u001b[0;31mZeroDivisionError\u001b[0m                         Traceback (most recent call last)",
      "\u001b[0;32m/var/folders/nn/c52y0d3j0gq59dpsswchkt2r0000gn/T/ipykernel_2936/1455669704.py\u001b[0m in \u001b[0;36m<module>\u001b[0;34m\u001b[0m\n\u001b[0;32m----> 1\u001b[0;31m \u001b[0;36m1\u001b[0m \u001b[0;34m/\u001b[0m \u001b[0;36m0\u001b[0m\u001b[0;34m\u001b[0m\u001b[0;34m\u001b[0m\u001b[0m\n\u001b[0m",
      "\u001b[0;31mZeroDivisionError\u001b[0m: division by zero"
     ]
    }
   ],
   "source": [
    "1 / 0"
   ]
  },
  {
   "cell_type": "markdown",
   "id": "ccc9d820-558f-4f29-93ce-2d499c7da3fe",
   "metadata": {},
   "source": [
    "##### Name Error"
   ]
  },
  {
   "cell_type": "code",
   "execution_count": 2,
   "id": "d2474d50-cd05-44bf-afda-d39f8d679fa4",
   "metadata": {},
   "outputs": [
    {
     "ename": "NameError",
     "evalue": "name 'var' is not defined",
     "output_type": "error",
     "traceback": [
      "\u001b[0;31m---------------------------------------------------------------------------\u001b[0m",
      "\u001b[0;31mNameError\u001b[0m                                 Traceback (most recent call last)",
      "\u001b[0;32m/var/folders/nn/c52y0d3j0gq59dpsswchkt2r0000gn/T/ipykernel_2936/2734745701.py\u001b[0m in \u001b[0;36m<module>\u001b[0;34m\u001b[0m\n\u001b[0;32m----> 1\u001b[0;31m \u001b[0mprint\u001b[0m\u001b[0;34m(\u001b[0m\u001b[0mvar\u001b[0m\u001b[0;34m)\u001b[0m\u001b[0;34m\u001b[0m\u001b[0;34m\u001b[0m\u001b[0m\n\u001b[0m",
      "\u001b[0;31mNameError\u001b[0m: name 'var' is not defined"
     ]
    }
   ],
   "source": [
    "print(var)"
   ]
  },
  {
   "cell_type": "markdown",
   "id": "2233ebfe-bd8c-4874-b5fe-9fca779bdaf8",
   "metadata": {},
   "source": [
    "##### Indentation Error"
   ]
  },
  {
   "cell_type": "code",
   "execution_count": 3,
   "id": "fdc8cd93-5afc-4e37-9de8-e1cd1ba22b2e",
   "metadata": {},
   "outputs": [
    {
     "ename": "IndentationError",
     "evalue": "expected an indented block (3614531987.py, line 1)",
     "output_type": "error",
     "traceback": [
      "\u001b[0;36m  File \u001b[0;32m\"/var/folders/nn/c52y0d3j0gq59dpsswchkt2r0000gn/T/ipykernel_2936/3614531987.py\"\u001b[0;36m, line \u001b[0;32m1\u001b[0m\n\u001b[0;31m    if 573:\u001b[0m\n\u001b[0m           ^\u001b[0m\n\u001b[0;31mIndentationError\u001b[0m\u001b[0;31m:\u001b[0m expected an indented block\n"
     ]
    }
   ],
   "source": [
    "if 573:"
   ]
  },
  {
   "cell_type": "markdown",
   "id": "d912dd90-59b9-4244-af25-4052dd96b76d",
   "metadata": {
    "tags": []
   },
   "source": [
    "##### Attribute Error"
   ]
  },
  {
   "cell_type": "code",
   "execution_count": 4,
   "id": "d7f9ef17-0880-40a5-a6c7-ce2927b6ac63",
   "metadata": {},
   "outputs": [
    {
     "ename": "AttributeError",
     "evalue": "'str' object has no attribute 'sort'",
     "output_type": "error",
     "traceback": [
      "\u001b[0;31m---------------------------------------------------------------------------\u001b[0m",
      "\u001b[0;31mAttributeError\u001b[0m                            Traceback (most recent call last)",
      "\u001b[0;32m/var/folders/nn/c52y0d3j0gq59dpsswchkt2r0000gn/T/ipykernel_2936/2691597495.py\u001b[0m in \u001b[0;36m<module>\u001b[0;34m\u001b[0m\n\u001b[0;32m----> 1\u001b[0;31m \u001b[0;34m\"random\"\u001b[0m\u001b[0;34m.\u001b[0m\u001b[0msort\u001b[0m\u001b[0;34m(\u001b[0m\u001b[0;34m)\u001b[0m\u001b[0;34m\u001b[0m\u001b[0;34m\u001b[0m\u001b[0m\n\u001b[0m",
      "\u001b[0;31mAttributeError\u001b[0m: 'str' object has no attribute 'sort'"
     ]
    }
   ],
   "source": [
    "\"random\".sort()"
   ]
  },
  {
   "cell_type": "markdown",
   "id": "abe069da-3393-4525-b185-7669fe3c3aa4",
   "metadata": {},
   "source": [
    "### Error Handling"
   ]
  },
  {
   "cell_type": "markdown",
   "id": "5ffd5a48-e0d4-4f36-9761-46a575d05835",
   "metadata": {},
   "source": [
    "There are four functions as part of error handling in python:\n",
    "* **Try:** This block will test the excepted error to occur\n",
    "* **Except:**  Here you can handle the error\n",
    "* **Else:** If there is no exception then this block will be executed\n",
    "* **Finally:** Finally block always gets executed either exception is generated or not"
   ]
  },
  {
   "cell_type": "markdown",
   "id": "570e062b-c1c8-45fc-be3e-16f3e56461d8",
   "metadata": {},
   "source": [
    "#### try and except statement"
   ]
  },
  {
   "cell_type": "markdown",
   "id": "e37df2b4-af37-4694-ba5c-7f8dc5b6935b",
   "metadata": {},
   "source": [
    "The most simple way of handling exceptions in Python is by using the `try` and `except` block.\n",
    "* Run the code under the `try` statement.\n",
    "* When an exception is raised, execute the code under the `except` statement.  \n",
    "\n",
    "Instead of stopping at error or exception, our code will move on to alternative solutions. "
   ]
  },
  {
   "cell_type": "markdown",
   "id": "b1b06a74-e105-4fbe-a3ac-853674875606",
   "metadata": {},
   "source": [
    "##### Simple Examples"
   ]
  },
  {
   "cell_type": "code",
   "execution_count": 103,
   "id": "e427c5a1-e453-4573-90cc-668310df836d",
   "metadata": {},
   "outputs": [
    {
     "name": "stdout",
     "output_type": "stream",
     "text": [
      "An exception has occurred!\n"
     ]
    }
   ],
   "source": [
    "try:\n",
    "    print(x)\n",
    "except:\n",
    "    print(\"An exception has occurred!\")"
   ]
  },
  {
   "cell_type": "code",
   "execution_count": 99,
   "id": "6d992e24-7c8a-47bb-8bef-f7fc2b80afb2",
   "metadata": {},
   "outputs": [],
   "source": [
    "def weird_function(a):\n",
    "    return a / 0"
   ]
  },
  {
   "cell_type": "code",
   "execution_count": 118,
   "id": "701afb80-b0c1-4cbf-9001-a6457b588635",
   "metadata": {},
   "outputs": [
    {
     "name": "stdout",
     "output_type": "stream",
     "text": [
      "Sample Error Message: Error Occurred\n"
     ]
    }
   ],
   "source": [
    "try: # standard code\n",
    "    weird_function(5)\n",
    "    \n",
    "except: # this runs if an error occurs in the try block\n",
    "    print(\"Sample Error Message: Error Occurred\")"
   ]
  },
  {
   "cell_type": "markdown",
   "id": "956356bb-15d1-48d3-9e47-72a49d055102",
   "metadata": {},
   "source": [
    "##### Mutiple except Statement Example"
   ]
  },
  {
   "cell_type": "markdown",
   "id": "52b8924a-5b16-42c1-bae0-f77d6bf2a9f4",
   "metadata": {},
   "source": [
    "Using  multiple `except` statements for handling multiple types of exceptions. In below code,\n",
    "\n",
    "* If a ZeroDivisionError exception is raised, the program will print \"You cannot divide a value with zero.\"\n",
    "* For the ValueError exception, it will print \"I need digits to divide not characters!\"\n",
    "* For everything else, it will simply print the error message by python. We can also provide custom output here if we want.\n",
    "\n",
    "It allows us to write flexible code that can handle multiple exceptions at a time without breaking. "
   ]
  },
  {
   "cell_type": "code",
   "execution_count": 139,
   "id": "13e1834b-cca5-4000-a2d2-b9029b79dbb5",
   "metadata": {},
   "outputs": [
    {
     "name": "stdout",
     "output_type": "stream",
     "text": [
      "Current element - 2\n",
      "\n",
      "Result = 2.5\n",
      "--------------------\n",
      "Current element - 0\n",
      "\n",
      "You cannot divide a value with zero!\n",
      "--------------------\n",
      "Current element - hello\n",
      "\n",
      "I need digits to divide not characters!\n",
      "--------------------\n",
      "Current element - None\n",
      "\n",
      "Python Error Message: int() argument must be a string, a bytes-like object or a number, not 'NoneType'!\n",
      "Custom Error message: Something else went wrong\n",
      "--------------------\n"
     ]
    }
   ],
   "source": [
    "lst = [2, 0, \"hello\", None]\n",
    "\n",
    "for element in lst:\n",
    "    try:\n",
    "        print(f\"Current element - {element}\")\n",
    "        print()\n",
    "        result = 5 / int(element)\n",
    "        print(f\"Result = {result}\")\n",
    "        \n",
    "    except ZeroDivisionError as z:\n",
    "        print(\"You cannot divide a value with zero!\")\n",
    "        \n",
    "    except ValueError as v:\n",
    "        print(\"I need digits to divide not characters!\")\n",
    "        \n",
    "    except Exception as e:\n",
    "        print(f\"Python Error Message: {e}!\")\n",
    "        print(\"Custom Error message: Something else went wrong\")\n",
    "        \n",
    "    print(\"-\"*20)"
   ]
  },
  {
   "cell_type": "markdown",
   "id": "b9accd20-2b39-4d1f-83f4-346e5fc92b58",
   "metadata": {},
   "source": [
    "#### try with else clause"
   ]
  },
  {
   "cell_type": "markdown",
   "id": "887afd77-307a-4216-9aa3-5e9bf24a4405",
   "metadata": {},
   "source": [
    "* When the `try` statement does not raise an exception, code enters into the `else` block. \n",
    "* It is the remedy or a fallback option when you expect a part of your script will produce an exception. \n",
    "* It is generally used in a brief setup or verification section where you don't want certain errors to hide.  \n",
    "\n",
    "**Note**: In the try-except block, you can use the `else` only after all the `except` statements."
   ]
  },
  {
   "cell_type": "code",
   "execution_count": 125,
   "id": "10183742-ed00-48f0-b68d-ef5fa88dae20",
   "metadata": {},
   "outputs": [
    {
     "name": "stdout",
     "output_type": "stream",
     "text": [
      "try\n",
      "else:  If exception does not occur, this block will execute!\n"
     ]
    }
   ],
   "source": [
    "try:\n",
    "    print(\"try\")\n",
    "except:\n",
    "    print(\"except: If exception occurs, this block will execute!\")\n",
    "else:\n",
    "    print(\"else:  If exception does not occur, this block will execute!\")"
   ]
  },
  {
   "cell_type": "markdown",
   "id": "f9aa3768-bf6c-44a2-8c76-f6c34aff35b1",
   "metadata": {},
   "source": [
    "##### finally"
   ]
  },
  {
   "cell_type": "markdown",
   "id": "f32130e9-0156-47a3-83cb-a7f0ee00fd86",
   "metadata": {},
   "source": [
    "* The `finally` keyword in the try-except block is always executed, irrespective of whether there is an exception or not. \n",
    "* In simple words, the `finally` block of code is run after the try, except, the else block is final. \n",
    "* It is quite useful in cleaning up resources and closing the object, especially closing the files.\n",
    "\n",
    "**Note:** Code in 'finally' block is always run no matter what."
   ]
  },
  {
   "cell_type": "code",
   "execution_count": 127,
   "id": "af28f575-9508-4463-93c6-c116cc224c60",
   "metadata": {},
   "outputs": [
    {
     "name": "stdout",
     "output_type": "stream",
     "text": [
      "try\n",
      "except: If exception occurs, this block will execute!\n",
      "finally: this block will always execute irrespective of above!\n"
     ]
    }
   ],
   "source": [
    "try:\n",
    "    print(\"try\")\n",
    "    1 / 0\n",
    "except:\n",
    "    print(\"except: If exception occurs, this block will execute!\")\n",
    "else:\n",
    "    print(\"else: If exception does not occur, this block will execute!\")\n",
    "finally:\n",
    "    print(\"finally: this block will always execute irrespective of above!\")"
   ]
  },
  {
   "cell_type": "markdown",
   "id": "b9afff54-23c5-461e-b93a-b075084d9ed7",
   "metadata": {},
   "source": [
    "### Raising Error message"
   ]
  },
  {
   "cell_type": "markdown",
   "id": "7bdf8174-04fc-4806-a25e-83d56a5c3236",
   "metadata": {},
   "source": [
    "We can also raise any random built-in Python exception if the condition is met. In our case, we have raised a generic “Exception” with the error message."
   ]
  },
  {
   "cell_type": "code",
   "execution_count": 142,
   "id": "17a542e7-b82f-4d22-b946-75fd6d8dbcab",
   "metadata": {},
   "outputs": [
    {
     "ename": "Exception",
     "evalue": "Please add a value lower than 1,000",
     "output_type": "error",
     "traceback": [
      "\u001b[1;31m---------------------------------------------------------------------------\u001b[0m",
      "\u001b[1;31mException\u001b[0m                                 Traceback (most recent call last)",
      "Cell \u001b[1;32mIn[142], line 5\u001b[0m\n\u001b[0;32m      1\u001b[0m value \u001b[38;5;241m=\u001b[39m \u001b[38;5;241m1200\u001b[39m\n\u001b[0;32m      3\u001b[0m \u001b[38;5;28;01mif\u001b[39;00m value \u001b[38;5;241m>\u001b[39m \u001b[38;5;241m1_000\u001b[39m:   \n\u001b[0;32m      4\u001b[0m     \u001b[38;5;66;03m# raise the Exception\u001b[39;00m\n\u001b[1;32m----> 5\u001b[0m     \u001b[38;5;28;01mraise\u001b[39;00m \u001b[38;5;167;01mException\u001b[39;00m(\u001b[38;5;124m\"\u001b[39m\u001b[38;5;124mPlease add a value lower than 1,000\u001b[39m\u001b[38;5;124m\"\u001b[39m)\n\u001b[0;32m      6\u001b[0m \u001b[38;5;28;01melse\u001b[39;00m:\n\u001b[0;32m      7\u001b[0m     \u001b[38;5;28mprint\u001b[39m(\u001b[38;5;124m\"\u001b[39m\u001b[38;5;124mCongratulations! You are the winner!!\u001b[39m\u001b[38;5;124m\"\u001b[39m)\n",
      "\u001b[1;31mException\u001b[0m: Please add a value lower than 1,000"
     ]
    }
   ],
   "source": [
    "value = 1200\n",
    "\n",
    "if value > 1_000:   \n",
    "    # raise the Exception\n",
    "    raise Exception(\"Please add a value lower than 1,000\")\n",
    "else:\n",
    "    print(\"Congratulations! You are the winner!!\")"
   ]
  },
  {
   "cell_type": "code",
   "execution_count": 141,
   "id": "2002718b-812c-4210-9216-7e2a87dad1e0",
   "metadata": {},
   "outputs": [
    {
     "name": "stdout",
     "output_type": "stream",
     "text": [
      "Congratulations! You are the winner!!\n"
     ]
    }
   ],
   "source": [
    "value = 800\n",
    "\n",
    "if value > 1_000:   \n",
    "    # raise the Exception\n",
    "    raise Exception(\"Please add a value lower than 1,000\")\n",
    "else:\n",
    "    print(\"Congratulations! You are the winner!!\")"
   ]
  }
 ],
 "metadata": {
  "kernelspec": {
   "display_name": "Python 3 (ipykernel)",
   "language": "python",
   "name": "python3"
  },
  "language_info": {
   "codemirror_mode": {
    "name": "ipython",
    "version": 3
   },
   "file_extension": ".py",
   "mimetype": "text/x-python",
   "name": "python",
   "nbconvert_exporter": "python",
   "pygments_lexer": "ipython3",
   "version": "3.9.12"
  },
  "widgets": {
   "application/vnd.jupyter.widget-state+json": {
    "state": {},
    "version_major": 2,
    "version_minor": 0
   }
  }
 },
 "nbformat": 4,
 "nbformat_minor": 5
}
