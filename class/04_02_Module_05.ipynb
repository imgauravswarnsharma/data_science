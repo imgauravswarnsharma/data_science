{
 "cells": [
  {
   "cell_type": "markdown",
   "id": "d5dc841c-9709-40ec-81e3-29785501c0a2",
   "metadata": {
    "tags": []
   },
   "source": [
    "# Functional Programming"
   ]
  },
  {
   "cell_type": "markdown",
   "id": "a5867713-8103-4901-a24d-cd179c36dcfe",
   "metadata": {
    "tags": []
   },
   "source": [
    "## Theory"
   ]
  },
  {
   "cell_type": "markdown",
   "id": "68cc7346-0bb9-4cd1-8de1-00e01b8e072e",
   "metadata": {},
   "source": [
    "* In mathematics, we use pure functions.\n",
    "* Pure functions means that same input always generates same output i.e if f(x) = a and f(x) = b, then, a = b.\n",
    "* Functions are FCCs (First-Class Citizens) in python.\n",
    "* Functions can be treated as objects like everything else in python.\n",
    "* Functions can be stored in data strcutures like lists, dicts, hash tables etc.\n",
    "* Functions can be stored in variables too."
   ]
  },
  {
   "cell_type": "markdown",
   "id": "b9c17765-aac5-4d83-b280-ad6927540aa6",
   "metadata": {
    "tags": []
   },
   "source": [
    "##### Functions can be stored in data structures or variables (V.V.I)"
   ]
  },
  {
   "cell_type": "markdown",
   "id": "754b1d86-68d5-4528-83c8-939931d0c5f5",
   "metadata": {},
   "source": [
    "Here we store function print as an element of list and when we access that element it works like a function not as a value and prints the string. "
   ]
  },
  {
   "cell_type": "code",
   "execution_count": 144,
   "id": "05f5085a-e7a8-4a9d-9242-53243b958776",
   "metadata": {},
   "outputs": [],
   "source": [
    "a = [print, 56, 78, \"random\"]"
   ]
  },
  {
   "cell_type": "code",
   "execution_count": 145,
   "id": "ba9d46f9-4444-469a-a8cb-352eab37a087",
   "metadata": {},
   "outputs": [
    {
     "name": "stdout",
     "output_type": "stream",
     "text": [
      "Hell yeah! print worked as a function and printed this. AWESOME!!!\n"
     ]
    }
   ],
   "source": [
    "a[0](\"Hell yeah! print worked as a function and printed this. AWESOME!!!\")"
   ]
  },
  {
   "cell_type": "markdown",
   "id": "9ca7c9c1-c1eb-4454-a2ce-6638f84f5320",
   "metadata": {},
   "source": [
    "Here we are storing the print function as an value of key print_x. When we access the print func via its key, it works just like we expected print function to do and prints the string."
   ]
  },
  {
   "cell_type": "code",
   "execution_count": 68,
   "id": "b2676b5a-60dd-4aaa-a41a-348c6c9ad706",
   "metadata": {},
   "outputs": [],
   "source": [
    "x = {\n",
    "    \"print_x\": print\n",
    "}"
   ]
  },
  {
   "cell_type": "code",
   "execution_count": 69,
   "id": "6b2d787a-4a64-4637-bd4f-91f2d0691549",
   "metadata": {},
   "outputs": [
    {
     "name": "stdout",
     "output_type": "stream",
     "text": [
      "Isn't this awesome..?\n"
     ]
    }
   ],
   "source": [
    "x[\"print_x\"](\"Isn't this awesome..?\")"
   ]
  },
  {
   "cell_type": "markdown",
   "id": "cc9739b7-39cd-402a-b9c5-76cfcf2d97ad",
   "metadata": {
    "tags": []
   },
   "source": [
    "## Higher Order Functions\n",
    "    function which generates another function as an output (value)."
   ]
  },
  {
   "cell_type": "code",
   "execution_count": 48,
   "id": "eadca668-47b5-487c-b1fb-93e0de3c46ca",
   "metadata": {},
   "outputs": [],
   "source": [
    "# Example of Higher Order Functions\n",
    "\n",
    "def gen_exp(n):\n",
    "    def exp(x):\n",
    "        return x**n\n",
    "    \n",
    "    return exp"
   ]
  },
  {
   "cell_type": "markdown",
   "id": "937ff971-ed4c-4afb-a546-5deef58214ea",
   "metadata": {},
   "source": [
    "    So, when we call gen_exp(5), n becomes 5. So during the execution of this function call, exp(x) returns x**5. So it means, exp(x) becomes x**5.\n",
    "\n",
    "    Now, when we move to the next statement i.e return exp and executes it will return exp. exp is nothing here but a function name, that is a variable which holds the entire function (the inner nested function) [refer to lambda function format, Same concept is used there also], so when we return exp we are simply returning the entire body of the function.  \n",
    "\n",
    "    Hence, Z = exp."
   ]
  },
  {
   "cell_type": "code",
   "execution_count": 49,
   "id": "7240b485-0836-46e8-a37f-bef523c3b2ad",
   "metadata": {},
   "outputs": [],
   "source": [
    "Z = gen_exp(5)"
   ]
  },
  {
   "cell_type": "code",
   "execution_count": 50,
   "id": "f1eb9dea-39b9-4764-9cef-e8f1367659c1",
   "metadata": {},
   "outputs": [
    {
     "data": {
      "text/plain": [
       "function"
      ]
     },
     "execution_count": 50,
     "metadata": {},
     "output_type": "execute_result"
    }
   ],
   "source": [
    "type(Z)"
   ]
  },
  {
   "cell_type": "code",
   "execution_count": 52,
   "id": "2900b76c-47c3-4d01-be56-c3a2606d5500",
   "metadata": {},
   "outputs": [
    {
     "data": {
      "text/plain": [
       "243"
      ]
     },
     "execution_count": 52,
     "metadata": {},
     "output_type": "execute_result"
    }
   ],
   "source": [
    "Z(3)"
   ]
  },
  {
   "cell_type": "markdown",
   "id": "80cd60c7-603d-44bb-9f4b-947c40707333",
   "metadata": {
    "tags": []
   },
   "source": [
    "### Decorators"
   ]
  },
  {
   "cell_type": "markdown",
   "id": "49ac84c0-cf54-45c9-b8a7-f20da91a4183",
   "metadata": {},
   "source": [
    "* Decorators allow us to wrap another function in order to extend the behaviour of the wrapped function, without permanently modifying it.\n",
    "* Decorators are a special use case of higher order functions.\n",
    "* They return function as an output and as well as also accepts another function as an argument."
   ]
  },
  {
   "cell_type": "markdown",
   "id": "7e78f5ae-3ad2-47ea-aeb7-478ef2f8abae",
   "metadata": {},
   "source": [
    "##### Example"
   ]
  },
  {
   "cell_type": "code",
   "execution_count": 54,
   "id": "03682897-271d-4182-88d8-598def3e9669",
   "metadata": {},
   "outputs": [],
   "source": [
    "def pretty(func):\n",
    "    def wrapper():\n",
    "        print(\"-\"*20) # any amount of logic\n",
    "        func()\n",
    "        print(\"-\"*20) # any amount of logic\n",
    "        \n",
    "    return wrapper"
   ]
  },
  {
   "cell_type": "code",
   "execution_count": 55,
   "id": "9451f4e1-d7a5-4cca-9df2-5c11258b12e9",
   "metadata": {},
   "outputs": [],
   "source": [
    "def say_hello():\n",
    "    print(\"Hello!\")\n",
    "    \n",
    "def say_amazing():\n",
    "    print(\"AMAZING!\")"
   ]
  },
  {
   "cell_type": "code",
   "execution_count": 57,
   "id": "7a6f1c74-7f23-43ab-9c2b-7383cef4f026",
   "metadata": {},
   "outputs": [],
   "source": [
    "def say_bye():\n",
    "    print(\"Bye!\")"
   ]
  },
  {
   "cell_type": "code",
   "execution_count": 59,
   "id": "3671faa3-951f-4485-bc1f-b86c7df79ce5",
   "metadata": {},
   "outputs": [
    {
     "name": "stdout",
     "output_type": "stream",
     "text": [
      "--------------------\n",
      "Hello!\n",
      "--------------------\n"
     ]
    }
   ],
   "source": [
    "hello_pretty = pretty(say_hello)\n",
    "hello_pretty()"
   ]
  },
  {
   "cell_type": "code",
   "execution_count": 61,
   "id": "641eda03-c6db-484f-b7c6-a922c28bd992",
   "metadata": {},
   "outputs": [
    {
     "name": "stdout",
     "output_type": "stream",
     "text": [
      "--------------------\n",
      "Bye!\n",
      "--------------------\n"
     ]
    }
   ],
   "source": [
    "bye_pretty = pretty(say_bye)\n",
    "bye_pretty()"
   ]
  },
  {
   "cell_type": "markdown",
   "id": "84c387dd-a168-4814-a7ee-1c34cd202e66",
   "metadata": {},
   "source": [
    "## Functions"
   ]
  },
  {
   "cell_type": "markdown",
   "id": "62d67e7c-c5f7-4f4a-8dda-2b78b418aff1",
   "metadata": {},
   "source": [
    "### Lambda Functions\n",
    "\n",
    "`lambda` keyword is used to define an anonymous single expression function in Python."
   ]
  },
  {
   "cell_type": "markdown",
   "id": "6e32b69a-819d-40fc-b407-a1b9c2c47d95",
   "metadata": {},
   "source": [
    "https://www.geeksforgeeks.org/python-lambda-anonymous-functions-filter-map-reduce/"
   ]
  },
  {
   "cell_type": "markdown",
   "id": "93703d91-e87b-4b9a-a015-def5410253b0",
   "metadata": {},
   "source": [
    "* This function can have any number of arguments but only one expression, which is evaluated and returned.\n",
    "\n",
    "* One is free to use lambda functions wherever function objects are required.\n",
    "* You need to keep in your knowledge that lambda functions are syntactically restricted to a single expression.\n",
    "* It has various uses in particular fields of programming, besides other types of expressions in functions.\n",
    "\n",
    "                Syntax -> lambda arguments: expression"
   ]
  },
  {
   "cell_type": "markdown",
   "id": "4ddcdb08-e7e2-4135-ba04-8c59fa995383",
   "metadata": {},
   "source": [
    "With lambda function   |  Without lambda function\n",
    "----------------------|---------------\n",
    "Supports single line statements that returns some value.\t| Supports any number of lines inside a function block\n",
    "Good for performing short operations/data manipulations.\t| Good for any cases that require multiple lines of code.\n",
    "Using lambda function can sometime reduce the readability of code.\t| We can use comments and function descriptions for easy readability."
   ]
  },
  {
   "cell_type": "markdown",
   "id": "ede89697-8f2f-459e-bc4e-db4c2a071519",
   "metadata": {},
   "source": [
    "##### Simple function without using lambda"
   ]
  },
  {
   "cell_type": "code",
   "execution_count": 24,
   "id": "efa25312-67dc-4613-830e-89e18eedcf9e",
   "metadata": {},
   "outputs": [
    {
     "data": {
      "text/plain": [
       "'\\nkey_word fun_name(argument):\\nreturn return_value\\n'"
      ]
     },
     "execution_count": 24,
     "metadata": {},
     "output_type": "execute_result"
    }
   ],
   "source": [
    "def square(a):\n",
    "    return a**2\n",
    "\n",
    "# Pseudo code or Syntax\n",
    "'''\n",
    "key_word func_name(argument):\n",
    "return return_value\n",
    "'''"
   ]
  },
  {
   "cell_type": "code",
   "execution_count": 25,
   "id": "7b306d98-3c10-465b-9e6a-b2bdcdf79b91",
   "metadata": {},
   "outputs": [
    {
     "data": {
      "text/plain": [
       "16"
      ]
     },
     "execution_count": 25,
     "metadata": {},
     "output_type": "execute_result"
    }
   ],
   "source": [
    "square(4)"
   ]
  },
  {
   "cell_type": "markdown",
   "id": "7d874ea1-975e-48bf-873c-7dc073a2784e",
   "metadata": {},
   "source": [
    "##### Simple function using lambda"
   ]
  },
  {
   "cell_type": "code",
   "execution_count": 27,
   "id": "c98bbd59-b42d-402a-b3ae-f4f198762006",
   "metadata": {},
   "outputs": [
    {
     "data": {
      "text/plain": [
       "'\\nfun_name = key_word argument: return_value\\n'"
      ]
     },
     "execution_count": 27,
     "metadata": {},
     "output_type": "execute_result"
    }
   ],
   "source": [
    "square_ = lambda a : a**2\n",
    "\n",
    "# Pseudo code or Syntax\n",
    "'''\n",
    "func_name = key_word argument: return_value\n",
    "'''"
   ]
  },
  {
   "cell_type": "code",
   "execution_count": 28,
   "id": "4fc70598-d517-48c6-952d-d2c1269942b2",
   "metadata": {},
   "outputs": [
    {
     "data": {
      "text/plain": [
       "16"
      ]
     },
     "execution_count": 28,
     "metadata": {},
     "output_type": "execute_result"
    }
   ],
   "source": [
    "square_(4)"
   ]
  },
  {
   "cell_type": "code",
   "execution_count": 40,
   "id": "9a52e795-2405-4de1-97d8-d5e038a23c10",
   "metadata": {},
   "outputs": [
    {
     "data": {
      "text/plain": [
       "function"
      ]
     },
     "execution_count": 40,
     "metadata": {},
     "output_type": "execute_result"
    }
   ],
   "source": [
    "type(square_)"
   ]
  },
  {
   "cell_type": "markdown",
   "id": "ad0a778a-7678-472e-80b3-66b7e85204b4",
   "metadata": {},
   "source": [
    "##### Lambda can also take multiple arguments as inputs"
   ]
  },
  {
   "cell_type": "code",
   "execution_count": 31,
   "id": "e85e3747-a44b-4766-a421-819e4716b8a9",
   "metadata": {},
   "outputs": [
    {
     "data": {
      "text/plain": [
       "'randomstrings'"
      ]
     },
     "execution_count": 31,
     "metadata": {},
     "output_type": "execute_result"
    }
   ],
   "source": [
    "# Accepting multiple arguments\n",
    "concat = lambda x, y: x + y \n",
    "concat(\"random\", \"strings\")"
   ]
  },
  {
   "cell_type": "markdown",
   "id": "5ba5df7c-ef40-4713-8790-c4661863f90a",
   "metadata": {},
   "source": [
    "##### Lambda also accepts ternary operator within the body."
   ]
  },
  {
   "cell_type": "code",
   "execution_count": 32,
   "id": "d4f365ff-602a-4ca0-ae8b-28e3721460e6",
   "metadata": {},
   "outputs": [],
   "source": [
    "max_2 = lambda x, y: x if x > y else y"
   ]
  },
  {
   "cell_type": "code",
   "execution_count": 36,
   "id": "eb7b3e58-501d-47d4-b040-52296a578ac3",
   "metadata": {},
   "outputs": [
    {
     "data": {
      "text/plain": [
       "11"
      ]
     },
     "execution_count": 36,
     "metadata": {},
     "output_type": "execute_result"
    }
   ],
   "source": [
    "max_2(11, 7)"
   ]
  },
  {
   "cell_type": "markdown",
   "id": "9500d95e-c4e5-4c0d-8317-f30c51d38483",
   "metadata": {
    "tags": []
   },
   "source": [
    "##### Anonymous Functions\n",
    "* Complete function body without a name.\n",
    "* They are usually one time functions."
   ]
  },
  {
   "cell_type": "code",
   "execution_count": 37,
   "id": "ccf839f2-a990-44e5-9fb5-96d63d086ae9",
   "metadata": {},
   "outputs": [
    {
     "data": {
      "text/plain": [
       "343"
      ]
     },
     "execution_count": 37,
     "metadata": {},
     "output_type": "execute_result"
    }
   ],
   "source": [
    "# Anonymous Functions\n",
    "\n",
    "(lambda x: x**3)(7)"
   ]
  },
  {
   "cell_type": "markdown",
   "id": "84569a9a-ee6d-4ba1-a137-29d8077d7786",
   "metadata": {},
   "source": [
    "##### Lambda Function with List Comprehension"
   ]
  },
  {
   "cell_type": "code",
   "execution_count": 143,
   "id": "c8e2d48d-4024-449b-a126-b35af06dc504",
   "metadata": {},
   "outputs": [
    {
     "name": "stdout",
     "output_type": "stream",
     "text": [
      "10\n",
      "20\n",
      "30\n",
      "40\n"
     ]
    }
   ],
   "source": [
    "\n",
    "is_even_list = [lambda arg=x: arg * 10 for x in range(1, 5)]\n",
    " \n",
    "# iterate on each lambda function\n",
    "# and invoke the function to get the calculated value\n",
    "\n",
    "for item in is_even_list:\n",
    "    print(item())"
   ]
  },
  {
   "cell_type": "markdown",
   "id": "7a1f3f64-4c76-45f1-a232-3ddf7035d0b1",
   "metadata": {},
   "source": [
    "### Sorted"
   ]
  },
  {
   "cell_type": "code",
   "execution_count": 150,
   "id": "8bb5bd89-922f-4eed-92f4-f8ff46f54a75",
   "metadata": {},
   "outputs": [
    {
     "data": {
      "text/plain": [
       "\u001b[1;31mSignature:\u001b[0m \u001b[0msorted\u001b[0m\u001b[1;33m(\u001b[0m\u001b[0miterable\u001b[0m\u001b[1;33m,\u001b[0m \u001b[1;33m/\u001b[0m\u001b[1;33m,\u001b[0m \u001b[1;33m*\u001b[0m\u001b[1;33m,\u001b[0m \u001b[0mkey\u001b[0m\u001b[1;33m=\u001b[0m\u001b[1;32mNone\u001b[0m\u001b[1;33m,\u001b[0m \u001b[0mreverse\u001b[0m\u001b[1;33m=\u001b[0m\u001b[1;32mFalse\u001b[0m\u001b[1;33m)\u001b[0m\u001b[1;33m\u001b[0m\u001b[1;33m\u001b[0m\u001b[0m\n",
       "\u001b[1;31mDocstring:\u001b[0m\n",
       "Return a new list containing all items from the iterable in ascending order.\n",
       "\n",
       "A custom key function can be supplied to customize the sort order, and the\n",
       "reverse flag can be set to request the result in descending order.\n",
       "\u001b[1;31mType:\u001b[0m      builtin_function_or_method\n"
      ]
     },
     "metadata": {},
     "output_type": "display_data"
    }
   ],
   "source": [
    "sorted?"
   ]
  },
  {
   "cell_type": "markdown",
   "id": "126ea426-6720-4437-8a18-0b55f6234155",
   "metadata": {
    "tags": []
   },
   "source": [
    "#### Question 1"
   ]
  },
  {
   "cell_type": "markdown",
   "id": "95a6030d-a107-4741-ac43-1a3d618e176f",
   "metadata": {},
   "source": [
    "Sort the below list.\n",
    "\n",
    "        students = [\n",
    "        {\"name\": \"A\", \"marks\": 60},\n",
    "        {\"name\": \"B\", \"marks\": 90},\n",
    "        {\"name\": \"C\", \"marks\": 50},\n",
    "        {\"name\": \"D\", \"marks\": 80},\n",
    "        {\"name\": \"E\", \"marks\": 70}\n",
    "    ]\n",
    "Note: Use Lambda"
   ]
  },
  {
   "cell_type": "markdown",
   "id": "5a4e147a-9eb9-4843-8587-2409fcdcac8f",
   "metadata": {
    "jp-MarkdownHeadingCollapsed": true,
    "tags": []
   },
   "source": [
    "##### Using sorted with lambda"
   ]
  },
  {
   "cell_type": "code",
   "execution_count": 6,
   "id": "693b6d74-187d-41ca-8334-19c7ad3fe028",
   "metadata": {},
   "outputs": [],
   "source": [
    "students = [\n",
    "    {\"name\": \"A\", \"marks\": 60},\n",
    "    {\"name\": \"B\", \"marks\": 90},\n",
    "    {\"name\": \"C\", \"marks\": 50},\n",
    "    {\"name\": \"D\", \"marks\": 80},\n",
    "    {\"name\": \"E\", \"marks\": 70}\n",
    "]"
   ]
  },
  {
   "cell_type": "code",
   "execution_count": 7,
   "id": "1fb98028-6b91-41d6-852e-7a0891f64d7a",
   "metadata": {},
   "outputs": [
    {
     "ename": "TypeError",
     "evalue": "'<' not supported between instances of 'dict' and 'dict'",
     "output_type": "error",
     "traceback": [
      "\u001b[1;31m---------------------------------------------------------------------------\u001b[0m",
      "\u001b[1;31mTypeError\u001b[0m                                 Traceback (most recent call last)",
      "Cell \u001b[1;32mIn[7], line 1\u001b[0m\n\u001b[1;32m----> 1\u001b[0m \u001b[38;5;28;43msorted\u001b[39;49m\u001b[43m(\u001b[49m\u001b[43mstudents\u001b[49m\u001b[43m)\u001b[49m\n",
      "\u001b[1;31mTypeError\u001b[0m: '<' not supported between instances of 'dict' and 'dict'"
     ]
    }
   ],
   "source": [
    "sorted(students)"
   ]
  },
  {
   "cell_type": "markdown",
   "id": "85cf218a-a344-4866-a30b-bc5ffd48af30",
   "metadata": {},
   "source": [
    "    So what went wrong here?\n",
    "\n",
    "Isue:\n",
    "    \n",
    "    So when we are trying to sort the list using sorted functions, it finds that each element in the list contains a dictionary. It is not possible to compare b/w two seeprate dictionaries since there is no reference point. \n",
    "\n",
    "Resolution:\n",
    "\n",
    "    We need to sepecify any particular key or values as reference point for comnparison b/w dicts of list. Let's say we choose marks as the key to comapre, so now it shalle be sorted as per values of maarks in all the dicts of list. If we check the docstring of sorted functions, it is clearly mentioned that it takes as custom functions as arguments. So basically, we can define a custom function and use it as key."
   ]
  },
  {
   "cell_type": "code",
   "execution_count": 38,
   "id": "20999f62-f916-4487-ae1f-f3c728e8f6ca",
   "metadata": {},
   "outputs": [
    {
     "data": {
      "text/plain": [
       "\u001b[1;31mSignature:\u001b[0m \u001b[0msorted\u001b[0m\u001b[1;33m(\u001b[0m\u001b[0miterable\u001b[0m\u001b[1;33m,\u001b[0m \u001b[1;33m/\u001b[0m\u001b[1;33m,\u001b[0m \u001b[1;33m*\u001b[0m\u001b[1;33m,\u001b[0m \u001b[0mkey\u001b[0m\u001b[1;33m=\u001b[0m\u001b[1;32mNone\u001b[0m\u001b[1;33m,\u001b[0m \u001b[0mreverse\u001b[0m\u001b[1;33m=\u001b[0m\u001b[1;32mFalse\u001b[0m\u001b[1;33m)\u001b[0m\u001b[1;33m\u001b[0m\u001b[1;33m\u001b[0m\u001b[0m\n",
       "\u001b[1;31mDocstring:\u001b[0m\n",
       "Return a new list containing all items from the iterable in ascending order.\n",
       "\n",
       "A custom key function can be supplied to customize the sort order, and the\n",
       "reverse flag can be set to request the result in descending order.\n",
       "\u001b[1;31mType:\u001b[0m      builtin_function_or_method\n"
      ]
     },
     "metadata": {},
     "output_type": "display_data"
    }
   ],
   "source": [
    "sorted?"
   ]
  },
  {
   "cell_type": "markdown",
   "id": "b58e5461-07cb-49d9-a2e1-1eeed081bb75",
   "metadata": {},
   "source": [
    "* In lambda, argument represents one element of the input data structure.\n",
    "\n",
    "So, basically, in this case, x represents the dict of the list in each iteration of sorted."
   ]
  },
  {
   "cell_type": "code",
   "execution_count": 39,
   "id": "e050e243-8fb5-4f34-9259-a995c91ec82c",
   "metadata": {},
   "outputs": [
    {
     "data": {
      "text/plain": [
       "[{'name': 'C', 'marks': 50},\n",
       " {'name': 'A', 'marks': 60},\n",
       " {'name': 'E', 'marks': 70},\n",
       " {'name': 'D', 'marks': 80},\n",
       " {'name': 'B', 'marks': 90}]"
      ]
     },
     "execution_count": 39,
     "metadata": {},
     "output_type": "execute_result"
    }
   ],
   "source": [
    "sorted(students, key = lambda x: x[\"marks\"])"
   ]
  },
  {
   "cell_type": "code",
   "execution_count": 16,
   "id": "4afe1b68-7f65-42bc-886c-de9bfd4ac452",
   "metadata": {},
   "outputs": [
    {
     "data": {
      "text/plain": [
       "<function __main__.<lambda>(marks)>"
      ]
     },
     "execution_count": 16,
     "metadata": {},
     "output_type": "execute_result"
    }
   ],
   "source": [
    "x"
   ]
  },
  {
   "cell_type": "markdown",
   "id": "d9a3575b-384e-4a1a-beb1-760378420b3b",
   "metadata": {
    "tags": []
   },
   "source": [
    "### Maps"
   ]
  },
  {
   "cell_type": "code",
   "execution_count": 71,
   "id": "9ac0d140-8fc7-4d18-bfd7-94d80435fe49",
   "metadata": {},
   "outputs": [
    {
     "data": {
      "text/plain": [
       "\u001b[1;31mInit signature:\u001b[0m \u001b[0mmap\u001b[0m\u001b[1;33m(\u001b[0m\u001b[0mself\u001b[0m\u001b[1;33m,\u001b[0m \u001b[1;33m/\u001b[0m\u001b[1;33m,\u001b[0m \u001b[1;33m*\u001b[0m\u001b[0margs\u001b[0m\u001b[1;33m,\u001b[0m \u001b[1;33m**\u001b[0m\u001b[0mkwargs\u001b[0m\u001b[1;33m)\u001b[0m\u001b[1;33m\u001b[0m\u001b[1;33m\u001b[0m\u001b[0m\n",
       "\u001b[1;31mDocstring:\u001b[0m     \n",
       "map(func, *iterables) --> map object\n",
       "\n",
       "Make an iterator that computes the function using arguments from\n",
       "each of the iterables.  Stops when the shortest iterable is exhausted.\n",
       "\u001b[1;31mType:\u001b[0m           type\n",
       "\u001b[1;31mSubclasses:\u001b[0m     \n"
      ]
     },
     "metadata": {},
     "output_type": "display_data"
    }
   ],
   "source": [
    "map?"
   ]
  },
  {
   "cell_type": "markdown",
   "id": "d53c2e9b-cd84-4730-b4e2-11a8d606bb0b",
   "metadata": {},
   "source": [
    "#### Question 2"
   ]
  },
  {
   "cell_type": "markdown",
   "id": "3bc79d07-176f-408a-9407-2c33a4f37177",
   "metadata": {},
   "source": [
    "    Map a list of heights to a list of T-Shirt sizes!\n",
    "    heights -> [150, 165, 182, 140, 155, 170]\n",
    "\n",
    "    h <= 150 -> S\n",
    "    h > 150 and h <= 180 -> M\n",
    "    h > 180 -> L\n",
    "\n",
    "    output -> [S, M, L, S, M, M]"
   ]
  },
  {
   "cell_type": "markdown",
   "id": "cb4265dd-22bb-42a8-b682-502a81db62a8",
   "metadata": {
    "jp-MarkdownHeadingCollapsed": true,
    "tags": []
   },
   "source": [
    "##### Using map with lambda"
   ]
  },
  {
   "cell_type": "code",
   "execution_count": 81,
   "id": "201befee-2d18-4e53-8b39-9edc4cb3847b",
   "metadata": {},
   "outputs": [
    {
     "data": {
      "text/plain": [
       "['S', 'M', 'L', 'S']"
      ]
     },
     "execution_count": 81,
     "metadata": {},
     "output_type": "execute_result"
    }
   ],
   "source": [
    "h = [150, 165, 182, 140]\n",
    "list(map(lambda x: \"S\" if x <= 150 else \"M\" if x > 150 and x <= 180 else \"L\", h))"
   ]
  },
  {
   "cell_type": "markdown",
   "id": "b5fe1fbb-4eca-4002-8346-0decaa009047",
   "metadata": {
    "jp-MarkdownHeadingCollapsed": true,
    "tags": []
   },
   "source": [
    "##### Using map with function"
   ]
  },
  {
   "cell_type": "code",
   "execution_count": 75,
   "id": "29a15c27-2676-45ed-9fbe-85a206bb039e",
   "metadata": {},
   "outputs": [],
   "source": [
    "def height_to_size(h):\n",
    "    if h <= 150:\n",
    "        return \"S\"\n",
    "    elif h> 150 and h<=180:\n",
    "        return \"M\"\n",
    "    else:\n",
    "        return \"L\""
   ]
  },
  {
   "cell_type": "code",
   "execution_count": 76,
   "id": "786a045e-b5f8-4e17-b051-feb57c356404",
   "metadata": {},
   "outputs": [],
   "source": [
    "h = [150, 165, 182, 140]\n",
    "\n",
    "x = list(map(height_to_size, h))"
   ]
  },
  {
   "cell_type": "code",
   "execution_count": 77,
   "id": "42e1e579-7e55-4016-8ba5-826429ccd2c2",
   "metadata": {},
   "outputs": [
    {
     "data": {
      "text/plain": [
       "['S', 'M', 'L', 'S']"
      ]
     },
     "execution_count": 77,
     "metadata": {},
     "output_type": "execute_result"
    }
   ],
   "source": [
    "x"
   ]
  },
  {
   "cell_type": "markdown",
   "id": "7599fd8b-2d43-4c0e-8463-e6987615a977",
   "metadata": {},
   "source": [
    "#### Question3"
   ]
  },
  {
   "cell_type": "markdown",
   "id": "0c1ad6b0-7e57-47a3-b7b3-32fbe71d3c07",
   "metadata": {},
   "source": [
    "    A = [0,0,1,1,0]\n",
    "    B = [1,0,0,1,1]\n",
    "\n",
    "    Output -> [False, True, False, True, False]"
   ]
  },
  {
   "cell_type": "markdown",
   "id": "ded22e71-8eeb-4548-a14a-e336de12bf4c",
   "metadata": {
    "jp-MarkdownHeadingCollapsed": true,
    "tags": []
   },
   "source": [
    "##### Solution"
   ]
  },
  {
   "cell_type": "code",
   "execution_count": 82,
   "id": "b3e0316e-1ffc-4c6b-95c5-82d697e65124",
   "metadata": {},
   "outputs": [],
   "source": [
    "A = [0, 0 , 1, 1, 0]\n",
    "B = [1, 0 , 0, 1, 1]"
   ]
  },
  {
   "cell_type": "code",
   "execution_count": 87,
   "id": "d4408606-3f4d-4d23-a470-e4fd3cd539c7",
   "metadata": {},
   "outputs": [
    {
     "data": {
      "text/plain": [
       "[False, True, False, True, False]"
      ]
     },
     "execution_count": 87,
     "metadata": {},
     "output_type": "execute_result"
    }
   ],
   "source": [
    "X = list(map(lambda x, y: x==y, A, B))\n",
    "X"
   ]
  },
  {
   "cell_type": "markdown",
   "id": "75199fd0-b268-471d-a835-6c6a0e5069d2",
   "metadata": {},
   "source": [
    "### Filters"
   ]
  },
  {
   "cell_type": "code",
   "execution_count": 92,
   "id": "3839daf8-a454-4c1b-b7c1-fb9c1bc91f1e",
   "metadata": {},
   "outputs": [
    {
     "data": {
      "text/plain": [
       "\u001b[1;31mInit signature:\u001b[0m \u001b[0mfilter\u001b[0m\u001b[1;33m(\u001b[0m\u001b[0mself\u001b[0m\u001b[1;33m,\u001b[0m \u001b[1;33m/\u001b[0m\u001b[1;33m,\u001b[0m \u001b[1;33m*\u001b[0m\u001b[0margs\u001b[0m\u001b[1;33m,\u001b[0m \u001b[1;33m**\u001b[0m\u001b[0mkwargs\u001b[0m\u001b[1;33m)\u001b[0m\u001b[1;33m\u001b[0m\u001b[1;33m\u001b[0m\u001b[0m\n",
       "\u001b[1;31mDocstring:\u001b[0m     \n",
       "filter(function or None, iterable) --> filter object\n",
       "\n",
       "Return an iterator yielding those items of iterable for which function(item)\n",
       "is true. If function is None, return the items that are true.\n",
       "\u001b[1;31mType:\u001b[0m           type\n",
       "\u001b[1;31mSubclasses:\u001b[0m     \n"
      ]
     },
     "metadata": {},
     "output_type": "display_data"
    }
   ],
   "source": [
    "filter?"
   ]
  },
  {
   "cell_type": "code",
   "execution_count": 88,
   "id": "dcc13f85-d46e-44f1-89a3-c280c05d3105",
   "metadata": {},
   "outputs": [],
   "source": [
    "a = [1, 2, 3, 4, 5, 6, 7, 8, 9, 10]"
   ]
  },
  {
   "cell_type": "code",
   "execution_count": 89,
   "id": "60ca0c3e-6ec7-4a5d-b757-47ce5d37adaa",
   "metadata": {},
   "outputs": [],
   "source": [
    "f = list(filter(lambda x: x % 2 == 1, a))"
   ]
  },
  {
   "cell_type": "code",
   "execution_count": 90,
   "id": "88769a65-f4b5-4861-9e8b-d3f8e1a83d51",
   "metadata": {},
   "outputs": [
    {
     "data": {
      "text/plain": [
       "[1, 3, 5, 7, 9]"
      ]
     },
     "execution_count": 90,
     "metadata": {},
     "output_type": "execute_result"
    }
   ],
   "source": [
    "f"
   ]
  },
  {
   "cell_type": "markdown",
   "id": "b1e76ffd-2ad7-499b-84eb-414b3a0f6520",
   "metadata": {},
   "source": [
    "### Reduce"
   ]
  },
  {
   "cell_type": "code",
   "execution_count": 95,
   "id": "7f92641e-8d0c-4174-822e-6db2424accc9",
   "metadata": {},
   "outputs": [],
   "source": [
    "from functools import reduce"
   ]
  },
  {
   "cell_type": "code",
   "execution_count": 96,
   "id": "03d2704d-2c99-4751-9799-93948f209a13",
   "metadata": {},
   "outputs": [
    {
     "data": {
      "text/plain": [
       "\u001b[1;31mDocstring:\u001b[0m\n",
       "reduce(function, sequence[, initial]) -> value\n",
       "\n",
       "Apply a function of two arguments cumulatively to the items of a sequence,\n",
       "from left to right, so as to reduce the sequence to a single value.\n",
       "For example, reduce(lambda x, y: x+y, [1, 2, 3, 4, 5]) calculates\n",
       "((((1+2)+3)+4)+5).  If initial is present, it is placed before the items\n",
       "of the sequence in the calculation, and serves as a default when the\n",
       "sequence is empty.\n",
       "\u001b[1;31mType:\u001b[0m      builtin_function_or_method\n"
      ]
     },
     "metadata": {},
     "output_type": "display_data"
    }
   ],
   "source": [
    "reduce?"
   ]
  },
  {
   "cell_type": "code",
   "execution_count": 97,
   "id": "0e4fe17c-f4af-47ba-afdf-8f66e927f3b5",
   "metadata": {},
   "outputs": [],
   "source": [
    "a = [1, 2, 3, 4, 5]"
   ]
  },
  {
   "cell_type": "code",
   "execution_count": 98,
   "id": "234a489d-c28d-413b-b274-324ea4119e7a",
   "metadata": {},
   "outputs": [],
   "source": [
    "result = reduce(lambda x, y: x + y, a)"
   ]
  },
  {
   "cell_type": "code",
   "execution_count": 99,
   "id": "378b1e82-f37e-454a-b15b-dd77a9e9588b",
   "metadata": {},
   "outputs": [
    {
     "data": {
      "text/plain": [
       "15"
      ]
     },
     "execution_count": 99,
     "metadata": {},
     "output_type": "execute_result"
    }
   ],
   "source": [
    "result"
   ]
  },
  {
   "cell_type": "code",
   "execution_count": 100,
   "id": "65e5a589-19a0-4d58-afd7-c937a17813a2",
   "metadata": {},
   "outputs": [
    {
     "data": {
      "text/plain": [
       "True"
      ]
     },
     "execution_count": 100,
     "metadata": {},
     "output_type": "execute_result"
    }
   ],
   "source": [
    "a = list(range(1, 11))\n",
    "b = reversed(a)\n",
    "\n",
    "reduce(lambda x, y: x * y, a) == reduce(lambda x, y: x * y, b)"
   ]
  },
  {
   "cell_type": "markdown",
   "id": "e6a3ecf8-a94f-40f6-a92f-4a73f4fcba84",
   "metadata": {},
   "source": [
    "### Zip"
   ]
  },
  {
   "cell_type": "code",
   "execution_count": 93,
   "id": "a1ec286a-3938-40fe-9a5c-6a330c560e75",
   "metadata": {},
   "outputs": [
    {
     "data": {
      "text/plain": [
       "\u001b[1;31mInit signature:\u001b[0m \u001b[0mzip\u001b[0m\u001b[1;33m(\u001b[0m\u001b[0mself\u001b[0m\u001b[1;33m,\u001b[0m \u001b[1;33m/\u001b[0m\u001b[1;33m,\u001b[0m \u001b[1;33m*\u001b[0m\u001b[0margs\u001b[0m\u001b[1;33m,\u001b[0m \u001b[1;33m**\u001b[0m\u001b[0mkwargs\u001b[0m\u001b[1;33m)\u001b[0m\u001b[1;33m\u001b[0m\u001b[1;33m\u001b[0m\u001b[0m\n",
       "\u001b[1;31mDocstring:\u001b[0m     \n",
       "zip(*iterables) --> A zip object yielding tuples until an input is exhausted.\n",
       "\n",
       "   >>> list(zip('abcdefg', range(3), range(4)))\n",
       "   [('a', 0, 0), ('b', 1, 1), ('c', 2, 2)]\n",
       "\n",
       "The zip object yields n-length tuples, where n is the number of iterables\n",
       "passed as positional arguments to zip().  The i-th element in every tuple\n",
       "comes from the i-th iterable argument to zip().  This continues until the\n",
       "shortest argument is exhausted.\n",
       "\u001b[1;31mType:\u001b[0m           type\n",
       "\u001b[1;31mSubclasses:\u001b[0m     \n"
      ]
     },
     "metadata": {},
     "output_type": "display_data"
    }
   ],
   "source": [
    "zip?"
   ]
  },
  {
   "cell_type": "code",
   "execution_count": 149,
   "id": "c09a71d8-c320-4637-98ff-84ea21a1692f",
   "metadata": {},
   "outputs": [
    {
     "data": {
      "text/plain": [
       "<zip at 0x1a7ea2c65c0>"
      ]
     },
     "execution_count": 149,
     "metadata": {},
     "output_type": "execute_result"
    }
   ],
   "source": [
    "a = [1, 2, 3, 4, 5, 6, 7, 8, 9, 10]\n",
    "b = [\"a\", \"b\", \"c\", \"d\", \"e\"]\n",
    "zip(a, b)"
   ]
  },
  {
   "cell_type": "markdown",
   "id": "a6a216d3-f47f-44e4-b0b8-0997434bbbe2",
   "metadata": {},
   "source": [
    "##### Zipping as a list"
   ]
  },
  {
   "cell_type": "code",
   "execution_count": 108,
   "id": "2618d2f8-517b-4a54-bec2-84a99d69a415",
   "metadata": {},
   "outputs": [],
   "source": [
    "result = list(zip(a, b))"
   ]
  },
  {
   "cell_type": "code",
   "execution_count": 109,
   "id": "132cccbb-fd6e-428e-8687-1405de2b438c",
   "metadata": {},
   "outputs": [
    {
     "data": {
      "text/plain": [
       "[(1, 'a'), (2, 'b'), (3, 'c'), (4, 'd')]"
      ]
     },
     "execution_count": 109,
     "metadata": {},
     "output_type": "execute_result"
    }
   ],
   "source": [
    "result"
   ]
  },
  {
   "cell_type": "markdown",
   "id": "f493fdf5-af72-40e8-9fff-f1e803e02ea2",
   "metadata": {},
   "source": [
    "##### Zipping as a dictionary"
   ]
  },
  {
   "cell_type": "code",
   "execution_count": 110,
   "id": "5adb600a-e479-4b24-b979-766abcc2a525",
   "metadata": {},
   "outputs": [
    {
     "data": {
      "text/plain": [
       "{1: 'a', 2: 'b', 3: 'c', 4: 'd'}"
      ]
     },
     "execution_count": 110,
     "metadata": {},
     "output_type": "execute_result"
    }
   ],
   "source": [
    "dict(zip(a, b))"
   ]
  },
  {
   "cell_type": "markdown",
   "id": "cea9dfad-ce4e-4c64-9820-2cc6de76f6ca",
   "metadata": {},
   "source": [
    "##### Zipping till the shortest argument i.e `d` is exhausted"
   ]
  },
  {
   "cell_type": "code",
   "execution_count": 105,
   "id": "72e9d3c1-b800-4fcd-92f4-0388c03f3a53",
   "metadata": {},
   "outputs": [],
   "source": [
    "a = [1, 2, 3, 4]\n",
    "b = [\"a\", \"b\", \"c\", \"d\", \"e\"]\n",
    "c = [True, False, False, True, True, True]\n",
    "d = [5.6, 2.2, 1.3]"
   ]
  },
  {
   "cell_type": "code",
   "execution_count": 106,
   "id": "07eb7a43-495b-4fb8-a2de-fe06808534cd",
   "metadata": {},
   "outputs": [
    {
     "data": {
      "text/plain": [
       "[(1, 'a', True, 5.6), (2, 'b', False, 2.2), (3, 'c', False, 1.3)]"
      ]
     },
     "execution_count": 106,
     "metadata": {},
     "output_type": "execute_result"
    }
   ],
   "source": [
    "list(zip(a, b, c, d))"
   ]
  },
  {
   "cell_type": "markdown",
   "id": "41e5af2a-f62f-4547-bddb-a0bbd7cc181d",
   "metadata": {},
   "source": [
    "#### Args and Kwargs"
   ]
  },
  {
   "cell_type": "code",
   "execution_count": null,
   "id": "3cfd5d08-e061-4c86-841b-cd90d55cb16f",
   "metadata": {},
   "outputs": [],
   "source": []
  },
  {
   "cell_type": "code",
   "execution_count": null,
   "id": "897dbb9d-1d43-4b2b-a28c-4216de85db2a",
   "metadata": {},
   "outputs": [],
   "source": []
  },
  {
   "cell_type": "code",
   "execution_count": null,
   "id": "4cfba928-85df-47ca-9087-d48633e8a3a8",
   "metadata": {},
   "outputs": [],
   "source": []
  },
  {
   "cell_type": "code",
   "execution_count": null,
   "id": "6acc4d24-b181-4f0d-b1c9-f0c35c243b51",
   "metadata": {},
   "outputs": [],
   "source": []
  },
  {
   "cell_type": "code",
   "execution_count": null,
   "id": "0b3b94eb-8f79-4479-b6d0-6030489ddd90",
   "metadata": {},
   "outputs": [],
   "source": []
  },
  {
   "cell_type": "code",
   "execution_count": null,
   "id": "9ca4183e-07fd-4eb0-abfb-c79fc3455378",
   "metadata": {},
   "outputs": [],
   "source": []
  }
 ],
 "metadata": {
  "kernelspec": {
   "display_name": "Python 3 (ipykernel)",
   "language": "python",
   "name": "python3"
  },
  "language_info": {
   "codemirror_mode": {
    "name": "ipython",
    "version": 3
   },
   "file_extension": ".py",
   "mimetype": "text/x-python",
   "name": "python",
   "nbconvert_exporter": "python",
   "pygments_lexer": "ipython3",
   "version": "3.9.12"
  },
  "widgets": {
   "application/vnd.jupyter.widget-state+json": {
    "state": {},
    "version_major": 2,
    "version_minor": 0
   }
  }
 },
 "nbformat": 4,
 "nbformat_minor": 5
}
