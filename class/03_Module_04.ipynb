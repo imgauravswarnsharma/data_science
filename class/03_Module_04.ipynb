{
 "cells": [
  {
   "cell_type": "markdown",
   "id": "e59da923-dc0a-4fa2-b2bb-389162aeaacf",
   "metadata": {},
   "source": [
    "# Topic"
   ]
  },
  {
   "cell_type": "markdown",
   "id": "ba996423-5d78-4ef0-82a0-46926e8f4b98",
   "metadata": {
    "jp-MarkdownHeadingCollapsed": true,
    "tags": []
   },
   "source": [
    "## Theory"
   ]
  },
  {
   "cell_type": "markdown",
   "id": "e0319be4-3c28-4e98-b6d3-dadcd4ef0ae2",
   "metadata": {
    "tags": []
   },
   "source": [
    "## Questions"
   ]
  },
  {
   "cell_type": "markdown",
   "id": "c5407b0b-4787-4fbb-a7a7-625dddd4f415",
   "metadata": {
    "tags": []
   },
   "source": [
    "### Question 1"
   ]
  },
  {
   "cell_type": "markdown",
   "id": "6ce5de81-d7fe-4677-8b30-bad381c77524",
   "metadata": {},
   "source": []
  },
  {
   "cell_type": "markdown",
   "id": "f0c5f9f0-0381-4184-b7f2-ca86a699cad9",
   "metadata": {
    "jp-MarkdownHeadingCollapsed": true,
    "tags": []
   },
   "source": [
    "##### Solution"
   ]
  },
  {
   "cell_type": "markdown",
   "id": "d1ae3436-0746-487b-a95a-923d6380ec15",
   "metadata": {},
   "source": [
    "# Topic"
   ]
  },
  {
   "cell_type": "markdown",
   "id": "3da5a7c4-56e5-487d-92d7-5f39f54ac860",
   "metadata": {
    "jp-MarkdownHeadingCollapsed": true,
    "tags": []
   },
   "source": [
    "## Theory"
   ]
  },
  {
   "cell_type": "markdown",
   "id": "cd55112e-fa56-4222-8e99-d972f803b3fd",
   "metadata": {
    "tags": []
   },
   "source": [
    "## Questions"
   ]
  },
  {
   "cell_type": "markdown",
   "id": "29776b1c-937f-4a58-95f5-d14079cd56c8",
   "metadata": {
    "tags": []
   },
   "source": [
    "### Question 1"
   ]
  },
  {
   "cell_type": "markdown",
   "id": "fd29e921-2a34-43d5-bbd8-e9ba6c409f78",
   "metadata": {},
   "source": []
  },
  {
   "cell_type": "markdown",
   "id": "8f35f8fb-f16c-4898-8fbc-2d983d38cbab",
   "metadata": {
    "jp-MarkdownHeadingCollapsed": true,
    "tags": []
   },
   "source": [
    "##### Solution"
   ]
  },
  {
   "cell_type": "markdown",
   "id": "34fc44a4-2f57-403c-aaab-89561cb83e50",
   "metadata": {},
   "source": [
    "# Topic"
   ]
  },
  {
   "cell_type": "markdown",
   "id": "0e1ffeec-2498-4908-9ff5-8b1a2fbd2985",
   "metadata": {
    "jp-MarkdownHeadingCollapsed": true,
    "tags": []
   },
   "source": [
    "## Theory"
   ]
  },
  {
   "cell_type": "markdown",
   "id": "1e37a86a-3269-41d1-9eb2-0713912574b5",
   "metadata": {
    "tags": []
   },
   "source": [
    "## Questions"
   ]
  },
  {
   "cell_type": "markdown",
   "id": "f2228c86-4ea8-4b8b-9268-e18ee6ec007e",
   "metadata": {
    "tags": []
   },
   "source": [
    "### Question 1"
   ]
  },
  {
   "cell_type": "markdown",
   "id": "59c8ae65-cc74-4444-a006-b908fc36b50e",
   "metadata": {},
   "source": []
  },
  {
   "cell_type": "markdown",
   "id": "31de5040-9f40-4aac-901f-0cad768e5e56",
   "metadata": {
    "jp-MarkdownHeadingCollapsed": true,
    "tags": []
   },
   "source": [
    "##### Solution"
   ]
  },
  {
   "cell_type": "markdown",
   "id": "18121a19-7fde-494f-90aa-b42a39d172e0",
   "metadata": {},
   "source": [
    "# Topic"
   ]
  },
  {
   "cell_type": "markdown",
   "id": "e6a25349-0f32-4bdd-a9ac-3bbbfc8f249d",
   "metadata": {
    "jp-MarkdownHeadingCollapsed": true,
    "tags": []
   },
   "source": [
    "## Theory"
   ]
  },
  {
   "cell_type": "markdown",
   "id": "d617e402-6fec-4798-8ad1-49e608b9aecd",
   "metadata": {
    "tags": []
   },
   "source": [
    "## Questions"
   ]
  },
  {
   "cell_type": "markdown",
   "id": "c84d01e1-49fb-4bce-92a5-afeabbff79b2",
   "metadata": {
    "tags": []
   },
   "source": [
    "### Question 1"
   ]
  },
  {
   "cell_type": "markdown",
   "id": "d4399417-7653-4c61-bdd9-589ba04cd4ca",
   "metadata": {},
   "source": []
  },
  {
   "cell_type": "markdown",
   "id": "26407a14-e320-4529-94e9-d7a865cebfbc",
   "metadata": {
    "jp-MarkdownHeadingCollapsed": true,
    "tags": []
   },
   "source": [
    "##### Solution"
   ]
  },
  {
   "cell_type": "markdown",
   "id": "f8721369-a643-414c-9cfb-7fdbf12bf808",
   "metadata": {},
   "source": [
    "# Topic"
   ]
  },
  {
   "cell_type": "markdown",
   "id": "0d04b3ae-f0e8-48b5-979f-e1e2664f0362",
   "metadata": {
    "jp-MarkdownHeadingCollapsed": true,
    "tags": []
   },
   "source": [
    "## Theory"
   ]
  },
  {
   "cell_type": "markdown",
   "id": "23f1be25-a2fc-4e55-a942-dd2ee8f2629a",
   "metadata": {
    "tags": []
   },
   "source": [
    "## Questions"
   ]
  },
  {
   "cell_type": "markdown",
   "id": "3985e503-2511-4919-a558-17b8fb7f066c",
   "metadata": {
    "tags": []
   },
   "source": [
    "### Question 1"
   ]
  },
  {
   "cell_type": "markdown",
   "id": "2b4bdfca-03d9-4591-9f72-33aa4b697fa5",
   "metadata": {},
   "source": []
  },
  {
   "cell_type": "markdown",
   "id": "10ca70ee-6748-4c4c-91b3-c6f1c8d75b13",
   "metadata": {
    "jp-MarkdownHeadingCollapsed": true,
    "tags": []
   },
   "source": [
    "##### Solution"
   ]
  },
  {
   "cell_type": "markdown",
   "id": "25555a1a-0123-47b9-9d78-578c295f427f",
   "metadata": {},
   "source": [
    "# Topic"
   ]
  }
 ],
 "metadata": {
  "kernelspec": {
   "display_name": "Python 3 (ipykernel)",
   "language": "python",
   "name": "python3"
  },
  "language_info": {
   "codemirror_mode": {
    "name": "ipython",
    "version": 3
   },
   "file_extension": ".py",
   "mimetype": "text/x-python",
   "name": "python",
   "nbconvert_exporter": "python",
   "pygments_lexer": "ipython3",
   "version": "3.9.12"
  },
  "widgets": {
   "application/vnd.jupyter.widget-state+json": {
    "state": {},
    "version_major": 2,
    "version_minor": 0
   }
  }
 },
 "nbformat": 4,
 "nbformat_minor": 5
}
