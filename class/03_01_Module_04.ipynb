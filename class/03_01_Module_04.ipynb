{
 "cells": [
  {
   "cell_type": "markdown",
   "id": "e59da923-dc0a-4fa2-b2bb-389162aeaacf",
   "metadata": {
    "tags": []
   },
   "source": [
    "# Python Refresher"
   ]
  },
  {
   "cell_type": "markdown",
   "id": "f73bd2ca-f90d-4ea6-81c3-265d9b7052e1",
   "metadata": {
    "jp-MarkdownHeadingCollapsed": true,
    "tags": []
   },
   "source": [
    "## Theory"
   ]
  },
  {
   "cell_type": "markdown",
   "id": "1eb9683c-9c2e-46ed-ae3a-5729c881f651",
   "metadata": {},
   "source": [
    "* Everything in Python is an object.\n",
    "* **FCC**(First class citizens are special data ) --> int, float, str\n",
    "* Lists, Sets & Dicts are mutables.\n",
    "* Immutable objects changes memory address every time value is changed for the same varaibles/objects.\n",
    "* **Value Caching**: If two variables have same values then they share the same memory address by using pointers. Value caching makes python more memory efficient."
   ]
  },
  {
   "cell_type": "markdown",
   "id": "0861291a-6d7b-484d-a91c-b419d2b5c671",
   "metadata": {
    "jp-MarkdownHeadingCollapsed": true,
    "tags": []
   },
   "source": [
    "##### Everything in Python is an object."
   ]
  },
  {
   "cell_type": "code",
   "execution_count": 5,
   "id": "3765fde6-fece-46cb-9ce6-3e13c3dee474",
   "metadata": {},
   "outputs": [
    {
     "data": {
      "text/plain": [
       "True"
      ]
     },
     "execution_count": 5,
     "metadata": {},
     "output_type": "execute_result"
    }
   ],
   "source": [
    "a = 5\n",
    "isinstance(a,int)"
   ]
  },
  {
   "cell_type": "code",
   "execution_count": 6,
   "id": "5bdac097-cfc1-4e9b-82ce-4afddb774def",
   "metadata": {},
   "outputs": [
    {
     "data": {
      "text/plain": [
       "True"
      ]
     },
     "execution_count": 6,
     "metadata": {},
     "output_type": "execute_result"
    }
   ],
   "source": [
    "isinstance(a,object)"
   ]
  },
  {
   "cell_type": "markdown",
   "id": "1c0271ac-4fc1-4e20-a29d-fc322795fed5",
   "metadata": {
    "jp-MarkdownHeadingCollapsed": true,
    "tags": []
   },
   "source": [
    "#### Value Caching"
   ]
  },
  {
   "cell_type": "code",
   "execution_count": 11,
   "id": "76ed04aa-e853-4795-9830-92881e5ab6b1",
   "metadata": {},
   "outputs": [
    {
     "data": {
      "text/plain": [
       "2702019553712"
      ]
     },
     "execution_count": 11,
     "metadata": {},
     "output_type": "execute_result"
    }
   ],
   "source": [
    "# Memory address of variable 'a'\n",
    "id(a)"
   ]
  },
  {
   "cell_type": "code",
   "execution_count": 8,
   "id": "703f1f4e-6662-4fca-98ed-edfed4a8f23f",
   "metadata": {},
   "outputs": [],
   "source": [
    "b = 5"
   ]
  },
  {
   "cell_type": "code",
   "execution_count": 12,
   "id": "06c18203-0ace-43ba-9c7c-4e946b887120",
   "metadata": {},
   "outputs": [
    {
     "data": {
      "text/plain": [
       "True"
      ]
     },
     "execution_count": 12,
     "metadata": {},
     "output_type": "execute_result"
    }
   ],
   "source": [
    "# a & b share same memory address and\n",
    "#varaibles are just acting as pointers\n",
    "id(a) == id(b)"
   ]
  },
  {
   "cell_type": "markdown",
   "id": "3fa8f73a-6a10-435d-a87e-23520e9dfffe",
   "metadata": {
    "jp-MarkdownHeadingCollapsed": true,
    "tags": []
   },
   "source": [
    "#### Iteration Protocol\n",
    "* iter() and next()"
   ]
  },
  {
   "cell_type": "code",
   "execution_count": 13,
   "id": "aeb23f4d-0ddd-4bd7-a2fb-7ed0dc312f2b",
   "metadata": {},
   "outputs": [],
   "source": [
    "a = \"python\""
   ]
  },
  {
   "cell_type": "code",
   "execution_count": 14,
   "id": "d549f158-40d8-473d-98b3-42ab918d8e5d",
   "metadata": {},
   "outputs": [
    {
     "data": {
      "text/plain": [
       "<str_iterator at 0x27521dacbb0>"
      ]
     },
     "execution_count": 14,
     "metadata": {},
     "output_type": "execute_result"
    }
   ],
   "source": [
    "it = iter(a) # passing an iterable to the iter function will return an iterator\n",
    "it"
   ]
  },
  {
   "cell_type": "code",
   "execution_count": 15,
   "id": "24d5fd05-acfe-4a10-baf1-b91091e380fd",
   "metadata": {},
   "outputs": [
    {
     "data": {
      "text/plain": [
       "'p'"
      ]
     },
     "execution_count": 15,
     "metadata": {},
     "output_type": "execute_result"
    }
   ],
   "source": [
    "next(it)"
   ]
  },
  {
   "cell_type": "code",
   "execution_count": 16,
   "id": "b15b06f0-d2bb-4147-a763-b733f5960f13",
   "metadata": {},
   "outputs": [
    {
     "data": {
      "text/plain": [
       "'y'"
      ]
     },
     "execution_count": 16,
     "metadata": {},
     "output_type": "execute_result"
    }
   ],
   "source": [
    "next(it)"
   ]
  },
  {
   "cell_type": "markdown",
   "id": "cfc019a0-b967-4643-b184-9a7f35454033",
   "metadata": {
    "jp-MarkdownHeadingCollapsed": true,
    "tags": []
   },
   "source": [
    "#### List Comprehension"
   ]
  },
  {
   "cell_type": "markdown",
   "id": "4664257f-fe95-43fa-bf56-65184086d63e",
   "metadata": {
    "tags": []
   },
   "source": [
    "* List moves in reverse direction wrt format as compared to traditional loops.\n",
    "* Format Structure of LC : Output --> Operations --> Loops\n",
    "* For Nested Loops format structure: Output -> Operations -> Inner Loops -> Outerloops  \n",
    "***Caveat***\n",
    "* If there are multiples loops in a LC and is not in nested structure then LC format will change for loops. Format : Output -> Operations -> Outer Loops -> Inner loops\n"
   ]
  },
  {
   "cell_type": "code",
   "execution_count": 2,
   "id": "16d31397-1ef2-4ead-ac20-8d7f120a9094",
   "metadata": {},
   "outputs": [
    {
     "data": {
      "text/plain": [
       "[1, 4, 9, 16, 25]"
      ]
     },
     "execution_count": 2,
     "metadata": {},
     "output_type": "execute_result"
    }
   ],
   "source": [
    "#Output -> Operations -> Loops as shown below\n",
    "result = [i**2 for i in range(1,6)]\n",
    "result"
   ]
  },
  {
   "cell_type": "markdown",
   "id": "497ca434-874c-4bca-ae8e-2a8b1e663392",
   "metadata": {},
   "source": [
    "    Let's say we want the output:  \n",
    "    [(\"A\", 1), (\"A\", 2), (\"B\", 1), (\"B\", 2)]  \n",
    "\n",
    "* LC format will change for nested loops and non-nested loops for the same output as discussed above and shown below. In non-nested loops, the format will move from outer to inner rather than inner to outer loops."
   ]
  },
  {
   "cell_type": "code",
   "execution_count": 3,
   "id": "ab71392b-0ea6-4409-b903-7913191018d8",
   "metadata": {},
   "outputs": [
    {
     "data": {
      "text/plain": [
       "[[('A', 1), ('A', 2)], [('B', 1), ('B', 2)]]"
      ]
     },
     "execution_count": 3,
     "metadata": {},
     "output_type": "execute_result"
    }
   ],
   "source": [
    "# Nested loop format: Output -> Operations -> Inner Loops -> Outerloops\n",
    "\n",
    "result = [[(char,num) for num in [1,2]] for char in ['A','B']]\n",
    "result"
   ]
  },
  {
   "cell_type": "code",
   "execution_count": 4,
   "id": "353d0c56-489e-4815-803a-223de50b6c8b",
   "metadata": {},
   "outputs": [
    {
     "data": {
      "text/plain": [
       "[('A', 1), ('A', 2), ('B', 1), ('B', 2)]"
      ]
     },
     "execution_count": 4,
     "metadata": {},
     "output_type": "execute_result"
    }
   ],
   "source": [
    "# Output -> Operations -> Outer Loops -> Inner loops\n",
    "\n",
    "result = [(char,num) for char in ['A','B'] for num in [1,2]]\n",
    "result"
   ]
  },
  {
   "cell_type": "markdown",
   "id": "2a5572f6-49ea-4801-9de4-b1791f1693ab",
   "metadata": {
    "jp-MarkdownHeadingCollapsed": true,
    "tags": []
   },
   "source": [
    "#### Tuple Comprehension"
   ]
  },
  {
   "cell_type": "markdown",
   "id": "4adcb471-35ec-4dfa-b2db-7bce13431af4",
   "metadata": {},
   "source": [
    "In case of tuples, list comprehension will return a generator hence type conversion will be needed to change it to tuple"
   ]
  },
  {
   "cell_type": "code",
   "execution_count": 36,
   "id": "56a4ece0-9965-4517-9541-009eec505562",
   "metadata": {},
   "outputs": [
    {
     "data": {
      "text/plain": [
       "<generator object <genexpr> at 0x000002752395F6D0>"
      ]
     },
     "execution_count": 36,
     "metadata": {},
     "output_type": "execute_result"
    }
   ],
   "source": [
    "a = (i for i in range(1,6))\n",
    "a"
   ]
  },
  {
   "cell_type": "code",
   "execution_count": 37,
   "id": "643a626d-1658-4d18-924d-b9499bea0b89",
   "metadata": {},
   "outputs": [
    {
     "data": {
      "text/plain": [
       "(1, 2, 3, 4, 5)"
      ]
     },
     "execution_count": 37,
     "metadata": {},
     "output_type": "execute_result"
    }
   ],
   "source": [
    "a = tuple(a)\n",
    "a"
   ]
  },
  {
   "cell_type": "markdown",
   "id": "c6e443ae-10f3-47ce-9e4a-8c5603c1c32c",
   "metadata": {
    "tags": []
   },
   "source": [
    "## Questions"
   ]
  },
  {
   "cell_type": "markdown",
   "id": "acc07630-f777-46ed-8256-3c111f53e4c6",
   "metadata": {
    "jp-MarkdownHeadingCollapsed": true,
    "tags": []
   },
   "source": [
    "### Question 1\n",
    "    Print the multiplication table till 10 using a single line of python code.\n",
    "\n",
    "    1 2 3 4 5 6 7 8 9 10\n",
    "    2 4 6 8 10 12 14 16 18 20\n",
    "    .\n",
    "    .\n",
    "    .\n",
    "    10 20 30 40 50 60 70 80 90 100"
   ]
  },
  {
   "cell_type": "code",
   "execution_count": 30,
   "id": "f1905fb6-17a0-42b4-a26c-4f0015d4be6d",
   "metadata": {},
   "outputs": [],
   "source": [
    "result = [[num*i for i in range(1,11)] for num in range(1,6)]"
   ]
  },
  {
   "cell_type": "code",
   "execution_count": 31,
   "id": "3ca8afba-2606-46ac-bfde-f142879f34df",
   "metadata": {},
   "outputs": [
    {
     "data": {
      "text/plain": [
       "[[1, 2, 3, 4, 5, 6, 7, 8, 9, 10],\n",
       " [2, 4, 6, 8, 10, 12, 14, 16, 18, 20],\n",
       " [3, 6, 9, 12, 15, 18, 21, 24, 27, 30],\n",
       " [4, 8, 12, 16, 20, 24, 28, 32, 36, 40],\n",
       " [5, 10, 15, 20, 25, 30, 35, 40, 45, 50]]"
      ]
     },
     "execution_count": 31,
     "metadata": {},
     "output_type": "execute_result"
    }
   ],
   "source": [
    "result"
   ]
  },
  {
   "cell_type": "code",
   "execution_count": 9,
   "id": "84f3ff4d-8af7-46f7-99c0-c0a93c3ba4e6",
   "metadata": {},
   "outputs": [
    {
     "data": {
      "text/plain": [
       "[2, 4, 6, 8, 10, 12, 14, 16, 18, 20]"
      ]
     },
     "execution_count": 9,
     "metadata": {},
     "output_type": "execute_result"
    }
   ],
   "source": [
    "result"
   ]
  },
  {
   "cell_type": "markdown",
   "id": "a8573d81-7251-4756-8bf6-10738a44576b",
   "metadata": {},
   "source": [
    "### Question 2\n",
    "\n",
    "    Encryption - We have 26 letters in the english alphabet.\n",
    "    Let's say I place a mirror between letters M and N splitting the alphabet into two mirrored sides.\n",
    "\n",
    "    Given a word, produce the mirror image of that word.\n",
    "\n",
    "    INPUT - \"acy\"\n",
    "    OUTPUT - \"zxb\"\n",
    "\n",
    "    EXPLANATION ->\n",
    "    \"a\" -> \"z\"\n",
    "    \"c\" -> \"x\"\n",
    "    \"y\" -> \"b\""
   ]
  },
  {
   "cell_type": "code",
   "execution_count": null,
   "id": "6cbd9602-2ec0-41a9-97ee-81f81a67e7fc",
   "metadata": {},
   "outputs": [],
   "source": []
  },
  {
   "cell_type": "code",
   "execution_count": null,
   "id": "cef41599-4f9c-4c28-bfee-07e54bb07b3b",
   "metadata": {},
   "outputs": [],
   "source": []
  },
  {
   "cell_type": "markdown",
   "id": "af80f607-f00c-4ed1-a65e-3037a2c2a584",
   "metadata": {
    "tags": []
   },
   "source": [
    "## HW"
   ]
  },
  {
   "cell_type": "markdown",
   "id": "0b8461d4-63c7-4c74-ac7a-d463dfcefc8c",
   "metadata": {},
   "source": [
    "    Why does the following insertion of value 0 at [0][0] index replicates in all the rows instead of a single insertion?\n",
    "\n",
    "    board = [[\"\"]*3]*3\n",
    "    board[0][0] = \"0\""
   ]
  },
  {
   "cell_type": "markdown",
   "id": "57f22452-d447-4b30-8b0f-df71f2c8abb2",
   "metadata": {
    "jp-MarkdownHeadingCollapsed": true,
    "tags": []
   },
   "source": [
    "##### Solution"
   ]
  },
  {
   "cell_type": "markdown",
   "id": "14957be2-b7ab-4bd9-86ed-1f95bdd9651e",
   "metadata": {},
   "source": [
    "Lists are mutable but values stored in the list are immutable, so, python can not change immutables and hence create a new reference to the object when you updatre an item within the list. Shared id has been show below for different list rows of list."
   ]
  },
  {
   "cell_type": "code",
   "execution_count": 39,
   "id": "ac7503d3-ed5f-46a4-9fac-0603cc2c6b7c",
   "metadata": {},
   "outputs": [
    {
     "data": {
      "text/plain": [
       "[['', '', ''], ['', '', ''], ['', '', '']]"
      ]
     },
     "execution_count": 39,
     "metadata": {},
     "output_type": "execute_result"
    }
   ],
   "source": [
    "board = [[\"\"]*3]*3\n",
    "board"
   ]
  },
  {
   "cell_type": "code",
   "execution_count": 40,
   "id": "d2db49dc-70b0-4cd5-ab5f-2fc0ffe08685",
   "metadata": {},
   "outputs": [
    {
     "data": {
      "text/plain": [
       "[['0', '', ''], ['0', '', ''], ['0', '', '']]"
      ]
     },
     "execution_count": 40,
     "metadata": {},
     "output_type": "execute_result"
    }
   ],
   "source": [
    "board[0][0] = \"0\"\n",
    "board"
   ]
  },
  {
   "cell_type": "code",
   "execution_count": 41,
   "id": "3058e014-3c8f-4741-846d-68d605abbaad",
   "metadata": {},
   "outputs": [
    {
     "name": "stdout",
     "output_type": "stream",
     "text": [
      "2702131893952\n",
      "2702131893952\n",
      "2702131893952\n"
     ]
    }
   ],
   "source": [
    "for i in range(3):\n",
    "    print(id(board[i]))"
   ]
  },
  {
   "cell_type": "markdown",
   "id": "e84e7c43-10c9-40e6-a4d9-90ded6f7d14c",
   "metadata": {},
   "source": [
    "# Python Refresher 2"
   ]
  },
  {
   "cell_type": "markdown",
   "id": "ba996423-5d78-4ef0-82a0-46926e8f4b98",
   "metadata": {
    "tags": []
   },
   "source": [
    "## Theory"
   ]
  },
  {
   "cell_type": "code",
   "execution_count": null,
   "id": "b49a6efc-d357-4092-a2c1-403ad4613eb5",
   "metadata": {},
   "outputs": [],
   "source": []
  },
  {
   "cell_type": "markdown",
   "id": "e0319be4-3c28-4e98-b6d3-dadcd4ef0ae2",
   "metadata": {
    "tags": []
   },
   "source": [
    "## Questions"
   ]
  },
  {
   "cell_type": "markdown",
   "id": "c5407b0b-4787-4fbb-a7a7-625dddd4f415",
   "metadata": {
    "tags": []
   },
   "source": [
    "### Question 1"
   ]
  },
  {
   "cell_type": "markdown",
   "id": "f0c5f9f0-0381-4184-b7f2-ca86a699cad9",
   "metadata": {
    "jp-MarkdownHeadingCollapsed": true,
    "tags": []
   },
   "source": [
    "##### Solution"
   ]
  },
  {
   "cell_type": "markdown",
   "id": "d1ae3436-0746-487b-a95a-923d6380ec15",
   "metadata": {},
   "source": [
    "# Topic"
   ]
  },
  {
   "cell_type": "markdown",
   "id": "3da5a7c4-56e5-487d-92d7-5f39f54ac860",
   "metadata": {
    "jp-MarkdownHeadingCollapsed": true,
    "tags": []
   },
   "source": [
    "## Theory"
   ]
  },
  {
   "cell_type": "markdown",
   "id": "cd55112e-fa56-4222-8e99-d972f803b3fd",
   "metadata": {
    "tags": []
   },
   "source": [
    "## Questions"
   ]
  },
  {
   "cell_type": "markdown",
   "id": "29776b1c-937f-4a58-95f5-d14079cd56c8",
   "metadata": {
    "tags": []
   },
   "source": [
    "### Question 1"
   ]
  },
  {
   "cell_type": "markdown",
   "id": "fd29e921-2a34-43d5-bbd8-e9ba6c409f78",
   "metadata": {},
   "source": []
  },
  {
   "cell_type": "markdown",
   "id": "8f35f8fb-f16c-4898-8fbc-2d983d38cbab",
   "metadata": {
    "jp-MarkdownHeadingCollapsed": true,
    "tags": []
   },
   "source": [
    "##### Solution"
   ]
  },
  {
   "cell_type": "markdown",
   "id": "34fc44a4-2f57-403c-aaab-89561cb83e50",
   "metadata": {},
   "source": [
    "# Topic"
   ]
  },
  {
   "cell_type": "markdown",
   "id": "0e1ffeec-2498-4908-9ff5-8b1a2fbd2985",
   "metadata": {
    "jp-MarkdownHeadingCollapsed": true,
    "tags": []
   },
   "source": [
    "## Theory"
   ]
  },
  {
   "cell_type": "markdown",
   "id": "1e37a86a-3269-41d1-9eb2-0713912574b5",
   "metadata": {
    "tags": []
   },
   "source": [
    "## Questions"
   ]
  },
  {
   "cell_type": "markdown",
   "id": "f2228c86-4ea8-4b8b-9268-e18ee6ec007e",
   "metadata": {
    "tags": []
   },
   "source": [
    "### Question 1"
   ]
  },
  {
   "cell_type": "markdown",
   "id": "59c8ae65-cc74-4444-a006-b908fc36b50e",
   "metadata": {},
   "source": []
  },
  {
   "cell_type": "markdown",
   "id": "31de5040-9f40-4aac-901f-0cad768e5e56",
   "metadata": {
    "jp-MarkdownHeadingCollapsed": true,
    "tags": []
   },
   "source": [
    "##### Solution"
   ]
  },
  {
   "cell_type": "markdown",
   "id": "18121a19-7fde-494f-90aa-b42a39d172e0",
   "metadata": {},
   "source": [
    "# Topic"
   ]
  },
  {
   "cell_type": "markdown",
   "id": "e6a25349-0f32-4bdd-a9ac-3bbbfc8f249d",
   "metadata": {
    "jp-MarkdownHeadingCollapsed": true,
    "tags": []
   },
   "source": [
    "## Theory"
   ]
  },
  {
   "cell_type": "markdown",
   "id": "d617e402-6fec-4798-8ad1-49e608b9aecd",
   "metadata": {
    "tags": []
   },
   "source": [
    "## Questions"
   ]
  },
  {
   "cell_type": "markdown",
   "id": "c84d01e1-49fb-4bce-92a5-afeabbff79b2",
   "metadata": {
    "tags": []
   },
   "source": [
    "### Question 1"
   ]
  },
  {
   "cell_type": "markdown",
   "id": "d4399417-7653-4c61-bdd9-589ba04cd4ca",
   "metadata": {},
   "source": []
  },
  {
   "cell_type": "markdown",
   "id": "26407a14-e320-4529-94e9-d7a865cebfbc",
   "metadata": {
    "jp-MarkdownHeadingCollapsed": true,
    "tags": []
   },
   "source": [
    "##### Solution"
   ]
  },
  {
   "cell_type": "markdown",
   "id": "f8721369-a643-414c-9cfb-7fdbf12bf808",
   "metadata": {},
   "source": [
    "# Topic"
   ]
  },
  {
   "cell_type": "markdown",
   "id": "0d04b3ae-f0e8-48b5-979f-e1e2664f0362",
   "metadata": {
    "jp-MarkdownHeadingCollapsed": true,
    "tags": []
   },
   "source": [
    "## Theory"
   ]
  },
  {
   "cell_type": "markdown",
   "id": "23f1be25-a2fc-4e55-a942-dd2ee8f2629a",
   "metadata": {
    "tags": []
   },
   "source": [
    "## Questions"
   ]
  },
  {
   "cell_type": "markdown",
   "id": "3985e503-2511-4919-a558-17b8fb7f066c",
   "metadata": {
    "tags": []
   },
   "source": [
    "### Question 1"
   ]
  },
  {
   "cell_type": "markdown",
   "id": "2b4bdfca-03d9-4591-9f72-33aa4b697fa5",
   "metadata": {},
   "source": []
  },
  {
   "cell_type": "markdown",
   "id": "10ca70ee-6748-4c4c-91b3-c6f1c8d75b13",
   "metadata": {
    "jp-MarkdownHeadingCollapsed": true,
    "tags": []
   },
   "source": [
    "##### Solution"
   ]
  },
  {
   "cell_type": "markdown",
   "id": "25555a1a-0123-47b9-9d78-578c295f427f",
   "metadata": {},
   "source": [
    "# Topic"
   ]
  }
 ],
 "metadata": {
  "kernelspec": {
   "display_name": "Python 3 (ipykernel)",
   "language": "python",
   "name": "python3"
  },
  "language_info": {
   "codemirror_mode": {
    "name": "ipython",
    "version": 3
   },
   "file_extension": ".py",
   "mimetype": "text/x-python",
   "name": "python",
   "nbconvert_exporter": "python",
   "pygments_lexer": "ipython3",
   "version": "3.9.12"
  },
  "vscode": {
   "interpreter": {
    "hash": "935f14679552b7ed0d9a0235b9885cdb22dc837e42e90f9da9ac0cd3081692a0"
   }
  },
  "widgets": {
   "application/vnd.jupyter.widget-state+json": {
    "state": {},
    "version_major": 2,
    "version_minor": 0
   }
  }
 },
 "nbformat": 4,
 "nbformat_minor": 5
}
