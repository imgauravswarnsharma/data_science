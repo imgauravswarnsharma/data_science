{
 "cells": [
  {
   "cell_type": "markdown",
   "id": "e59da923-dc0a-4fa2-b2bb-389162aeaacf",
   "metadata": {
    "jp-MarkdownHeadingCollapsed": true,
    "tags": []
   },
   "source": [
    "# Python Refresher"
   ]
  },
  {
   "cell_type": "markdown",
   "id": "f73bd2ca-f90d-4ea6-81c3-265d9b7052e1",
   "metadata": {
    "jp-MarkdownHeadingCollapsed": true,
    "tags": []
   },
   "source": [
    "## Theory"
   ]
  },
  {
   "cell_type": "markdown",
   "id": "1eb9683c-9c2e-46ed-ae3a-5729c881f651",
   "metadata": {},
   "source": [
    "* Everything in Python is an object.\n",
    "* **FCC**(First class citizens are special data ) --> int, float, str\n",
    "* Lists, Sets & Dicts are mutables.\n",
    "* Immutable objects changes memory address every time value is changed for the same varaibles/objects.\n",
    "* **Value Caching**: If two variables have same values then they share the same memory address by using pointers. Value caching makes python more memory efficient."
   ]
  },
  {
   "cell_type": "markdown",
   "id": "0861291a-6d7b-484d-a91c-b419d2b5c671",
   "metadata": {
    "jp-MarkdownHeadingCollapsed": true,
    "tags": []
   },
   "source": [
    "##### Everything in Python is an object."
   ]
  },
  {
   "cell_type": "code",
   "execution_count": 5,
   "id": "3765fde6-fece-46cb-9ce6-3e13c3dee474",
   "metadata": {},
   "outputs": [
    {
     "data": {
      "text/plain": [
       "True"
      ]
     },
     "execution_count": 5,
     "metadata": {},
     "output_type": "execute_result"
    }
   ],
   "source": [
    "a = 5\n",
    "isinstance(a,int)"
   ]
  },
  {
   "cell_type": "code",
   "execution_count": 6,
   "id": "5bdac097-cfc1-4e9b-82ce-4afddb774def",
   "metadata": {},
   "outputs": [
    {
     "data": {
      "text/plain": [
       "True"
      ]
     },
     "execution_count": 6,
     "metadata": {},
     "output_type": "execute_result"
    }
   ],
   "source": [
    "isinstance(a,object)"
   ]
  },
  {
   "cell_type": "markdown",
   "id": "1c0271ac-4fc1-4e20-a29d-fc322795fed5",
   "metadata": {
    "jp-MarkdownHeadingCollapsed": true,
    "tags": []
   },
   "source": [
    "#### Value Caching"
   ]
  },
  {
   "cell_type": "code",
   "execution_count": 11,
   "id": "76ed04aa-e853-4795-9830-92881e5ab6b1",
   "metadata": {},
   "outputs": [
    {
     "data": {
      "text/plain": [
       "2702019553712"
      ]
     },
     "execution_count": 11,
     "metadata": {},
     "output_type": "execute_result"
    }
   ],
   "source": [
    "# Memory address of variable 'a'\n",
    "id(a)"
   ]
  },
  {
   "cell_type": "code",
   "execution_count": 8,
   "id": "703f1f4e-6662-4fca-98ed-edfed4a8f23f",
   "metadata": {},
   "outputs": [],
   "source": [
    "b = 5"
   ]
  },
  {
   "cell_type": "code",
   "execution_count": 12,
   "id": "06c18203-0ace-43ba-9c7c-4e946b887120",
   "metadata": {},
   "outputs": [
    {
     "data": {
      "text/plain": [
       "True"
      ]
     },
     "execution_count": 12,
     "metadata": {},
     "output_type": "execute_result"
    }
   ],
   "source": [
    "# a & b share same memory address and\n",
    "#varaibles are just acting as pointers\n",
    "id(a) == id(b)"
   ]
  },
  {
   "cell_type": "markdown",
   "id": "3fa8f73a-6a10-435d-a87e-23520e9dfffe",
   "metadata": {
    "jp-MarkdownHeadingCollapsed": true,
    "tags": []
   },
   "source": [
    "#### Iteration Protocol\n",
    "* iter() and next()"
   ]
  },
  {
   "cell_type": "code",
   "execution_count": 13,
   "id": "aeb23f4d-0ddd-4bd7-a2fb-7ed0dc312f2b",
   "metadata": {},
   "outputs": [],
   "source": [
    "a = \"python\""
   ]
  },
  {
   "cell_type": "code",
   "execution_count": 14,
   "id": "d549f158-40d8-473d-98b3-42ab918d8e5d",
   "metadata": {},
   "outputs": [
    {
     "data": {
      "text/plain": [
       "<str_iterator at 0x27521dacbb0>"
      ]
     },
     "execution_count": 14,
     "metadata": {},
     "output_type": "execute_result"
    }
   ],
   "source": [
    "it = iter(a) # passing an iterable to the iter function will return an iterator\n",
    "it"
   ]
  },
  {
   "cell_type": "code",
   "execution_count": 15,
   "id": "24d5fd05-acfe-4a10-baf1-b91091e380fd",
   "metadata": {},
   "outputs": [
    {
     "data": {
      "text/plain": [
       "'p'"
      ]
     },
     "execution_count": 15,
     "metadata": {},
     "output_type": "execute_result"
    }
   ],
   "source": [
    "next(it)"
   ]
  },
  {
   "cell_type": "code",
   "execution_count": 16,
   "id": "b15b06f0-d2bb-4147-a763-b733f5960f13",
   "metadata": {},
   "outputs": [
    {
     "data": {
      "text/plain": [
       "'y'"
      ]
     },
     "execution_count": 16,
     "metadata": {},
     "output_type": "execute_result"
    }
   ],
   "source": [
    "next(it)"
   ]
  },
  {
   "cell_type": "markdown",
   "id": "cfc019a0-b967-4643-b184-9a7f35454033",
   "metadata": {
    "jp-MarkdownHeadingCollapsed": true,
    "tags": []
   },
   "source": [
    "#### List Comprehension"
   ]
  },
  {
   "cell_type": "markdown",
   "id": "4664257f-fe95-43fa-bf56-65184086d63e",
   "metadata": {
    "tags": []
   },
   "source": [
    "* List moves in reverse direction wrt format as compared to traditional loops.\n",
    "* Format Structure of LC : Output --> Operations --> Loops\n",
    "* For Nested Loops format structure: Output -> Operations -> Inner Loops -> Outerloops  \n",
    "***Caveat***\n",
    "* If there are multiples loops in a LC and is not in nested structure then LC format will change for loops. Format : Output -> Operations -> Outer Loops -> Inner loops\n"
   ]
  },
  {
   "cell_type": "code",
   "execution_count": 2,
   "id": "16d31397-1ef2-4ead-ac20-8d7f120a9094",
   "metadata": {},
   "outputs": [
    {
     "data": {
      "text/plain": [
       "[1, 4, 9, 16, 25]"
      ]
     },
     "execution_count": 2,
     "metadata": {},
     "output_type": "execute_result"
    }
   ],
   "source": [
    "#Output -> Operations -> Loops as shown below\n",
    "result = [i**2 for i in range(1,6)]\n",
    "result"
   ]
  },
  {
   "cell_type": "markdown",
   "id": "497ca434-874c-4bca-ae8e-2a8b1e663392",
   "metadata": {},
   "source": [
    "    Let's say we want the output:  \n",
    "    [(\"A\", 1), (\"A\", 2), (\"B\", 1), (\"B\", 2)]  \n",
    "\n",
    "* LC format will change for nested loops and non-nested loops for the same output as discussed above and shown below. In non-nested loops, the format will move from outer to inner rather than inner to outer loops."
   ]
  },
  {
   "cell_type": "code",
   "execution_count": 3,
   "id": "ab71392b-0ea6-4409-b903-7913191018d8",
   "metadata": {},
   "outputs": [
    {
     "data": {
      "text/plain": [
       "[[('A', 1), ('A', 2)], [('B', 1), ('B', 2)]]"
      ]
     },
     "execution_count": 3,
     "metadata": {},
     "output_type": "execute_result"
    }
   ],
   "source": [
    "# Nested loop format: Output -> Operations -> Inner Loops -> Outerloops\n",
    "\n",
    "result = [[(char,num) for num in [1,2]] for char in ['A','B']]\n",
    "result"
   ]
  },
  {
   "cell_type": "code",
   "execution_count": 4,
   "id": "353d0c56-489e-4815-803a-223de50b6c8b",
   "metadata": {},
   "outputs": [
    {
     "data": {
      "text/plain": [
       "[('A', 1), ('A', 2), ('B', 1), ('B', 2)]"
      ]
     },
     "execution_count": 4,
     "metadata": {},
     "output_type": "execute_result"
    }
   ],
   "source": [
    "# Output -> Operations -> Outer Loops -> Inner loops\n",
    "\n",
    "result = [(char,num) for char in ['A','B'] for num in [1,2]]\n",
    "result"
   ]
  },
  {
   "cell_type": "markdown",
   "id": "2a5572f6-49ea-4801-9de4-b1791f1693ab",
   "metadata": {
    "jp-MarkdownHeadingCollapsed": true,
    "tags": []
   },
   "source": [
    "#### Tuple Comprehension"
   ]
  },
  {
   "cell_type": "markdown",
   "id": "4adcb471-35ec-4dfa-b2db-7bce13431af4",
   "metadata": {},
   "source": [
    "In case of tuples, list comprehension will return a generator hence type conversion will be needed to change it to tuple"
   ]
  },
  {
   "cell_type": "code",
   "execution_count": 36,
   "id": "56a4ece0-9965-4517-9541-009eec505562",
   "metadata": {},
   "outputs": [
    {
     "data": {
      "text/plain": [
       "<generator object <genexpr> at 0x000002752395F6D0>"
      ]
     },
     "execution_count": 36,
     "metadata": {},
     "output_type": "execute_result"
    }
   ],
   "source": [
    "a = (i for i in range(1,6))\n",
    "a"
   ]
  },
  {
   "cell_type": "code",
   "execution_count": 37,
   "id": "643a626d-1658-4d18-924d-b9499bea0b89",
   "metadata": {},
   "outputs": [
    {
     "data": {
      "text/plain": [
       "(1, 2, 3, 4, 5)"
      ]
     },
     "execution_count": 37,
     "metadata": {},
     "output_type": "execute_result"
    }
   ],
   "source": [
    "a = tuple(a)\n",
    "a"
   ]
  },
  {
   "cell_type": "markdown",
   "id": "c6e443ae-10f3-47ce-9e4a-8c5603c1c32c",
   "metadata": {
    "jp-MarkdownHeadingCollapsed": true,
    "tags": []
   },
   "source": [
    "## Questions"
   ]
  },
  {
   "cell_type": "markdown",
   "id": "acc07630-f777-46ed-8256-3c111f53e4c6",
   "metadata": {
    "jp-MarkdownHeadingCollapsed": true,
    "tags": []
   },
   "source": [
    "### Question 1\n",
    "    Print the multiplication table till 10 using a single line of python code.\n",
    "\n",
    "    1 2 3 4 5 6 7 8 9 10\n",
    "    2 4 6 8 10 12 14 16 18 20\n",
    "    .\n",
    "    .\n",
    "    .\n",
    "    10 20 30 40 50 60 70 80 90 100"
   ]
  },
  {
   "cell_type": "code",
   "execution_count": 30,
   "id": "f1905fb6-17a0-42b4-a26c-4f0015d4be6d",
   "metadata": {},
   "outputs": [],
   "source": [
    "result = [[num*i for i in range(1,11)] for num in range(1,6)]"
   ]
  },
  {
   "cell_type": "code",
   "execution_count": 31,
   "id": "3ca8afba-2606-46ac-bfde-f142879f34df",
   "metadata": {},
   "outputs": [
    {
     "data": {
      "text/plain": [
       "[[1, 2, 3, 4, 5, 6, 7, 8, 9, 10],\n",
       " [2, 4, 6, 8, 10, 12, 14, 16, 18, 20],\n",
       " [3, 6, 9, 12, 15, 18, 21, 24, 27, 30],\n",
       " [4, 8, 12, 16, 20, 24, 28, 32, 36, 40],\n",
       " [5, 10, 15, 20, 25, 30, 35, 40, 45, 50]]"
      ]
     },
     "execution_count": 31,
     "metadata": {},
     "output_type": "execute_result"
    }
   ],
   "source": [
    "result"
   ]
  },
  {
   "cell_type": "code",
   "execution_count": 9,
   "id": "84f3ff4d-8af7-46f7-99c0-c0a93c3ba4e6",
   "metadata": {},
   "outputs": [
    {
     "data": {
      "text/plain": [
       "[2, 4, 6, 8, 10, 12, 14, 16, 18, 20]"
      ]
     },
     "execution_count": 9,
     "metadata": {},
     "output_type": "execute_result"
    }
   ],
   "source": [
    "result"
   ]
  },
  {
   "cell_type": "markdown",
   "id": "a8573d81-7251-4756-8bf6-10738a44576b",
   "metadata": {
    "jp-MarkdownHeadingCollapsed": true,
    "tags": []
   },
   "source": [
    "### Question 2\n",
    "\n",
    "    Encryption - We have 26 letters in the english alphabet.\n",
    "    Let's say I place a mirror between letters M and N splitting the alphabet into two mirrored sides.\n",
    "\n",
    "    Given a word, produce the mirror image of that word.\n",
    "\n",
    "    INPUT - \"acy\"\n",
    "    OUTPUT - \"zxb\"\n",
    "\n",
    "    EXPLANATION ->\n",
    "    \"a\" -> \"z\"\n",
    "    \"c\" -> \"x\"\n",
    "    \"y\" -> \"b\""
   ]
  },
  {
   "cell_type": "code",
   "execution_count": 22,
   "id": "6cbd9602-2ec0-41a9-97ee-81f81a67e7fc",
   "metadata": {},
   "outputs": [],
   "source": [
    "def mirror(x):\n",
    "    result = \"\"\n",
    "    for i in x:\n",
    "        if ord(i) not in range(97,123):\n",
    "            result +=i\n",
    "        else:\n",
    "            char = chr(ord(\"z\") - (ord(i) - ord(\"a\")))\n",
    "            result +=char\n",
    "    return result"
   ]
  },
  {
   "cell_type": "code",
   "execution_count": 23,
   "id": "cef41599-4f9c-4c28-bfee-07e54bb07b3b",
   "metadata": {},
   "outputs": [
    {
     "data": {
      "text/plain": [
       "'zxb'"
      ]
     },
     "execution_count": 23,
     "metadata": {},
     "output_type": "execute_result"
    }
   ],
   "source": [
    "mirror(\"acy\")"
   ]
  },
  {
   "cell_type": "markdown",
   "id": "01c29f34-3389-4fd3-81e0-17f4f2eb7f4d",
   "metadata": {
    "jp-MarkdownHeadingCollapsed": true,
    "tags": []
   },
   "source": [
    "### Question 3\n",
    "    Marvel v/s DC - There are a total of 50 people in a class numbered from 1 to 50.\n",
    "    You will get two lists as input. \n",
    "        - One would contain list of all numbers who are Marvel fans\n",
    "        - Other would contain list of all numbers who are DC fans\n",
    "\n",
    "    Output -> \n",
    "    1. List of all people who are not a fan of either Marvel or DC\n",
    "    2. List of all the people who are a fan of both."
   ]
  },
  {
   "cell_type": "code",
   "execution_count": 18,
   "id": "64c3a5d0-7651-4e12-80e1-37503c99687d",
   "metadata": {},
   "outputs": [],
   "source": [
    "def marvel_dc_combo(x,y):\n",
    "    combo = set(range(1,51))\n",
    "    nofans = set(combo)-set(x)-set(y)\n",
    "    bothfans = set(x) & set(y)\n",
    "    return list(nofans), list(bothfans)"
   ]
  },
  {
   "cell_type": "code",
   "execution_count": 21,
   "id": "32927093-b751-404c-910a-27cee9d23818",
   "metadata": {},
   "outputs": [
    {
     "data": {
      "text/plain": [
       "([2,\n",
       "  3,\n",
       "  6,\n",
       "  8,\n",
       "  9,\n",
       "  11,\n",
       "  13,\n",
       "  17,\n",
       "  21,\n",
       "  23,\n",
       "  24,\n",
       "  26,\n",
       "  28,\n",
       "  29,\n",
       "  30,\n",
       "  34,\n",
       "  37,\n",
       "  38,\n",
       "  40,\n",
       "  42,\n",
       "  43,\n",
       "  44,\n",
       "  46,\n",
       "  47,\n",
       "  48],\n",
       " [4, 5])"
      ]
     },
     "execution_count": 21,
     "metadata": {},
     "output_type": "execute_result"
    }
   ],
   "source": [
    "x = [1,4,5,10,15,16,18,19,20,25,31,32,33,36,39,41,49,50]\n",
    "y = [4,5,7,12,14,22,27,35,45]\n",
    "\n",
    "marvel_dc_combo(x,y)"
   ]
  },
  {
   "cell_type": "markdown",
   "id": "6819ac8f-8265-43d0-8a19-2d4339c24bd9",
   "metadata": {
    "jp-MarkdownHeadingCollapsed": true,
    "tags": []
   },
   "source": [
    "### Question 4 \n",
    "\n",
    "    Ultimate Palindrome - Given a number as input return True if ultimate palindrome else False.\n",
    "        - Palindrome ( 767, 7657567 )\n",
    "        - Prime Number"
   ]
  },
  {
   "cell_type": "code",
   "execution_count": 33,
   "id": "9fbe0c07-98ef-47dc-81cf-a640c233678d",
   "metadata": {},
   "outputs": [],
   "source": [
    "def is_prime(x):\n",
    "    for i in range(2,int(x**0.5)+1):\n",
    "        if x%i == 0:\n",
    "            return False\n",
    "    return True\n",
    "def is_ultimate_palindrome(x):\n",
    "    if is_prime(x):\n",
    "        if str(x) == str(x)[::-1]:\n",
    "            return True\n",
    "    return False\n",
    "    "
   ]
  },
  {
   "cell_type": "code",
   "execution_count": 36,
   "id": "a6297965-a033-4d60-81dd-43efce567c18",
   "metadata": {},
   "outputs": [
    {
     "data": {
      "text/plain": [
       "True"
      ]
     },
     "execution_count": 36,
     "metadata": {},
     "output_type": "execute_result"
    }
   ],
   "source": [
    "is_ultimate_palindrome(727)"
   ]
  },
  {
   "cell_type": "markdown",
   "id": "af80f607-f00c-4ed1-a65e-3037a2c2a584",
   "metadata": {
    "jp-MarkdownHeadingCollapsed": true,
    "tags": []
   },
   "source": [
    "## HW"
   ]
  },
  {
   "cell_type": "markdown",
   "id": "0b8461d4-63c7-4c74-ac7a-d463dfcefc8c",
   "metadata": {
    "jp-MarkdownHeadingCollapsed": true,
    "tags": []
   },
   "source": [
    "### HW 1\n",
    "    Why does the following insertion of value 0 at [0][0] index replicates in all the rows instead of a single insertion?\n",
    "\n",
    "    board = [[\"\"]*3]*3\n",
    "    board[0][0] = \"0\""
   ]
  },
  {
   "cell_type": "markdown",
   "id": "57f22452-d447-4b30-8b0f-df71f2c8abb2",
   "metadata": {
    "jp-MarkdownHeadingCollapsed": true,
    "tags": []
   },
   "source": [
    "##### Solution"
   ]
  },
  {
   "cell_type": "markdown",
   "id": "14957be2-b7ab-4bd9-86ed-1f95bdd9651e",
   "metadata": {},
   "source": [
    "Lists are mutable but values stored in the list are immutable, so, python can not change immutables and hence create a new reference to the object when you updatre an item within the list. Shared id has been show below for different list rows of list."
   ]
  },
  {
   "cell_type": "code",
   "execution_count": 39,
   "id": "ac7503d3-ed5f-46a4-9fac-0603cc2c6b7c",
   "metadata": {},
   "outputs": [
    {
     "data": {
      "text/plain": [
       "[['', '', ''], ['', '', ''], ['', '', '']]"
      ]
     },
     "execution_count": 39,
     "metadata": {},
     "output_type": "execute_result"
    }
   ],
   "source": [
    "board = [[\"\"]*3]*3\n",
    "board"
   ]
  },
  {
   "cell_type": "code",
   "execution_count": 40,
   "id": "d2db49dc-70b0-4cd5-ab5f-2fc0ffe08685",
   "metadata": {},
   "outputs": [
    {
     "data": {
      "text/plain": [
       "[['0', '', ''], ['0', '', ''], ['0', '', '']]"
      ]
     },
     "execution_count": 40,
     "metadata": {},
     "output_type": "execute_result"
    }
   ],
   "source": [
    "board[0][0] = \"0\"\n",
    "board"
   ]
  },
  {
   "cell_type": "code",
   "execution_count": 41,
   "id": "3058e014-3c8f-4741-846d-68d605abbaad",
   "metadata": {},
   "outputs": [
    {
     "name": "stdout",
     "output_type": "stream",
     "text": [
      "2702131893952\n",
      "2702131893952\n",
      "2702131893952\n"
     ]
    }
   ],
   "source": [
    "for i in range(3):\n",
    "    print(id(board[i]))"
   ]
  },
  {
   "cell_type": "markdown",
   "id": "bc9c11aa-bcb4-4b54-bdc5-9dbdc918168b",
   "metadata": {
    "jp-MarkdownHeadingCollapsed": true,
    "tags": []
   },
   "source": [
    "### HW 2\n",
    "    Reverse a number without using strings"
   ]
  },
  {
   "cell_type": "markdown",
   "id": "3a38c19e-243d-4a9e-a42c-043d3ea91219",
   "metadata": {
    "jp-MarkdownHeadingCollapsed": true,
    "tags": []
   },
   "source": [
    "##### Solution"
   ]
  },
  {
   "cell_type": "code",
   "execution_count": 42,
   "id": "87ac7100-f227-428e-9883-d0a6e84b5bf1",
   "metadata": {},
   "outputs": [],
   "source": [
    "def num_reverse(x):\n",
    "    new_num = 0\n",
    "    while x!=0:\n",
    "        num = x%10\n",
    "        new_num = new_num*10+num\n",
    "        x //=10\n",
    "    print(new_num)      "
   ]
  },
  {
   "cell_type": "code",
   "execution_count": 43,
   "id": "54101390-4eaf-4807-9d1d-d93583303026",
   "metadata": {},
   "outputs": [
    {
     "name": "stdout",
     "output_type": "stream",
     "text": [
      "987\n"
     ]
    }
   ],
   "source": [
    "num_reverse(789)"
   ]
  },
  {
   "cell_type": "markdown",
   "id": "e84e7c43-10c9-40e6-a4d9-90ded6f7d14c",
   "metadata": {
    "jp-MarkdownHeadingCollapsed": true,
    "tags": []
   },
   "source": [
    "# Searching"
   ]
  },
  {
   "cell_type": "markdown",
   "id": "ba996423-5d78-4ef0-82a0-46926e8f4b98",
   "metadata": {
    "jp-MarkdownHeadingCollapsed": true,
    "tags": []
   },
   "source": [
    "## Theory"
   ]
  },
  {
   "cell_type": "markdown",
   "id": "c0fa7e85-29e6-407a-8a5a-7ddfafed5ba0",
   "metadata": {
    "jp-MarkdownHeadingCollapsed": true,
    "tags": []
   },
   "source": [
    "### Linear Search"
   ]
  },
  {
   "cell_type": "markdown",
   "id": "933aa485-a95d-4bac-bc31-d73b97b8e047",
   "metadata": {},
   "source": [
    "* Best Case TC    : O(1)\n",
    "* Average Case TC : O(N)\n",
    "* Worst Case TC   : O(N)\n",
    "* Space Complexity: O(1)"
   ]
  },
  {
   "cell_type": "markdown",
   "id": "3c9b9cea-704b-4dad-962d-7bd686a36c75",
   "metadata": {},
   "source": [
    "* Number of swaps in Best Case: 1\n",
    "* Number of swaps in Average Case: N/2 + N/(N+1)\n",
    "* Number of swaps in Worst Case: N"
   ]
  },
  {
   "cell_type": "markdown",
   "id": "58d73344-7bb7-49e5-ae6a-f8587a74d26b",
   "metadata": {},
   "source": [
    "#### Linear Search Q    \n",
    "    Given a list of elements and a target element;\n",
    "        - return the index of the target if the target is present in the list\n",
    "        - else return -1\n",
    "\n",
    "    EXAMPLE - \n",
    "    Input - \n",
    "    l = [10, 20, 30, 40, 50]\n",
    "    target = 40\n",
    "\n",
    "    Output - 3"
   ]
  },
  {
   "cell_type": "markdown",
   "id": "f8235816-127c-4c7b-b5ac-839ed8c3117b",
   "metadata": {
    "tags": []
   },
   "source": [
    "##### Solution"
   ]
  },
  {
   "cell_type": "code",
   "execution_count": 11,
   "id": "c86f8653-6624-4b56-a8ef-bc25d966eec2",
   "metadata": {},
   "outputs": [],
   "source": [
    "def linear_search(listed, element):\n",
    "    for i in range(len(listed)):\n",
    "        if listed[i] == element:\n",
    "            return i\n",
    "    return \"Element not found in the list\""
   ]
  },
  {
   "cell_type": "code",
   "execution_count": 12,
   "id": "d6e071bf-d8f4-47fa-98c7-2d8015140aa3",
   "metadata": {},
   "outputs": [
    {
     "data": {
      "text/plain": [
       "'Element not found in the list'"
      ]
     },
     "execution_count": 12,
     "metadata": {},
     "output_type": "execute_result"
    }
   ],
   "source": [
    "l = [10, 20, 30, 40, 50]\n",
    "target = 4\n",
    "linear_search(l, target)"
   ]
  },
  {
   "cell_type": "markdown",
   "id": "662bfcf7-9dd8-45d1-b464-84bc814111d3",
   "metadata": {
    "tags": []
   },
   "source": [
    "##### Enumeration"
   ]
  },
  {
   "cell_type": "markdown",
   "id": "bf25defd-95e5-4c7f-ace3-ab376e98ad91",
   "metadata": {},
   "source": [
    "enumurate returns the index and the value of list as tuples"
   ]
  },
  {
   "cell_type": "code",
   "execution_count": 13,
   "id": "6bc03216-ed43-4f5e-b959-fd675275307d",
   "metadata": {},
   "outputs": [
    {
     "data": {
      "text/plain": [
       "<enumerate at 0x2b881d91b80>"
      ]
     },
     "execution_count": 13,
     "metadata": {},
     "output_type": "execute_result"
    }
   ],
   "source": [
    "x = [10, 20, 30, 40, 50]\n",
    "enumrated_x = enumerate(x)\n",
    "enumrated_x"
   ]
  },
  {
   "cell_type": "code",
   "execution_count": 14,
   "id": "b87e6dcc-8bf1-4ebe-b189-e5a12870c77e",
   "metadata": {},
   "outputs": [
    {
     "data": {
      "text/plain": [
       "[(0, 10), (1, 20), (2, 30), (3, 40), (4, 50)]"
      ]
     },
     "execution_count": 14,
     "metadata": {},
     "output_type": "execute_result"
    }
   ],
   "source": [
    "list(enumrated_x)"
   ]
  },
  {
   "cell_type": "markdown",
   "id": "0f1e381d-11f0-4a3a-8f0d-c12353ac4cac",
   "metadata": {
    "tags": []
   },
   "source": [
    "##### Above Linear search using enumerate function"
   ]
  },
  {
   "cell_type": "code",
   "execution_count": 15,
   "id": "8eeff027-200b-4aa6-b9eb-34f8938eed6a",
   "metadata": {},
   "outputs": [],
   "source": [
    "def linear_search_enumerated(a, target):\n",
    "    for index, value in enumerate(a):\n",
    "        if value == target:\n",
    "            return index\n",
    "        \n",
    "    return -1"
   ]
  },
  {
   "cell_type": "code",
   "execution_count": 17,
   "id": "7276ae05-7604-4222-a49c-e43286e01f49",
   "metadata": {},
   "outputs": [
    {
     "data": {
      "text/plain": [
       "3"
      ]
     },
     "execution_count": 17,
     "metadata": {},
     "output_type": "execute_result"
    }
   ],
   "source": [
    "l = [10, 20, 30, 40, 50]\n",
    "target = 40\n",
    "linear_search_enumerated(l, target)"
   ]
  },
  {
   "cell_type": "markdown",
   "id": "968feeea-76a5-4c14-b57b-dd3444bc7e7e",
   "metadata": {
    "jp-MarkdownHeadingCollapsed": true,
    "tags": []
   },
   "source": [
    "### Binary Search\n",
    "* Only works on sorted data structures\n",
    "* For duplicate values, algo is unstable since it can return any of the repeating occurences."
   ]
  },
  {
   "cell_type": "markdown",
   "id": "09e6d2b9-847d-4ab3-a2a0-0d1d42b5dd6a",
   "metadata": {},
   "source": [
    "* Best Case TC    : O(1)\n",
    "* Average Case TC : O(logN)\n",
    "* Worst Case TC   : O(logN)\n",
    "* Space Complexity: O(1) for iterative, O(logN) for recursive"
   ]
  },
  {
   "cell_type": "code",
   "execution_count": 26,
   "id": "f5a0a6e7-9ce6-4064-b983-ac614b383a1d",
   "metadata": {},
   "outputs": [],
   "source": [
    "def binary_search(l, element):\n",
    "    start = 0\n",
    "    end = len(l)-1\n",
    "    \n",
    "    while start<=end:\n",
    "        mid = (start+end)//2\n",
    "        print(start, mid, end)\n",
    "        if element == l[mid]:\n",
    "            return mid\n",
    "        elif element < l[mid]:\n",
    "            end = mid-1\n",
    "        elif element > l[mid]:\n",
    "            start = mid+1  "
   ]
  },
  {
   "cell_type": "code",
   "execution_count": 27,
   "id": "e47b321a-48af-40f0-be5e-fec7e07b9cbf",
   "metadata": {},
   "outputs": [
    {
     "name": "stdout",
     "output_type": "stream",
     "text": [
      "0 4 9\n",
      "0 1 3\n",
      "0 0 0\n"
     ]
    },
    {
     "data": {
      "text/plain": [
       "0"
      ]
     },
     "execution_count": 27,
     "metadata": {},
     "output_type": "execute_result"
    }
   ],
   "source": [
    "a = [10, 20, 30, 40, 50, 60, 70, 80, 90, 100]\n",
    "binary_search(a, 10)"
   ]
  },
  {
   "cell_type": "markdown",
   "id": "d1ae3436-0746-487b-a95a-923d6380ec15",
   "metadata": {},
   "source": [
    "# Sorting and TC\n",
    "* Analysis on?\n",
    "    * Time (CPU): Measured in Operations per second    \n",
    "    * Space (Memory) \n",
    "* TC takes precedence over space optimization considering the cost factor."
   ]
  },
  {
   "cell_type": "markdown",
   "id": "3da5a7c4-56e5-487d-92d7-5f39f54ac860",
   "metadata": {
    "jp-MarkdownHeadingCollapsed": true,
    "tags": []
   },
   "source": [
    "## Time Complexity"
   ]
  },
  {
   "cell_type": "markdown",
   "id": "82c81281-a193-4e91-9a3a-3a51ef878cef",
   "metadata": {
    "jp-MarkdownHeadingCollapsed": true,
    "tags": []
   },
   "source": [
    "### Cost Function\n",
    "* Cost Function = No. of operations if the function is executed  \n",
    "* O(): Elimnate factos and any lower degree polynomial terms from Cost function and it gives worst-TC.\n",
    "* Omega(): It is the most optimized TC of an algo. I t gives best TC."
   ]
  },
  {
   "cell_type": "code",
   "execution_count": 2,
   "id": "3ac43682-a4f8-4386-ade8-79cd1ae901fa",
   "metadata": {},
   "outputs": [
    {
     "data": {
      "text/plain": [
       "'\\nCost Function = Number of operations if the function is executed.\\n\\nCost(foo()) = 3 (constant)\\n'"
      ]
     },
     "execution_count": 2,
     "metadata": {},
     "output_type": "execute_result"
    }
   ],
   "source": [
    "# Example 1\n",
    "\n",
    "def foo():\n",
    "    x = 1 # 1 operation\n",
    "    y = 2 # 2 operation\n",
    "    z = 3 # 3 operation\n",
    "    \n",
    "'''\n",
    "Cost Function = Number of operations if the function is executed.\n",
    "\n",
    "Cost(foo()) = 3 (constant)\n",
    "'''"
   ]
  },
  {
   "cell_type": "code",
   "execution_count": 3,
   "id": "e7623476-6d3c-4896-996f-166654b63ed8",
   "metadata": {},
   "outputs": [
    {
     "data": {
      "text/plain": [
       "'\\nfoo(5) -> 3\\nfoo(5000) -> 3\\nfo0(5000000) -> 3\\n\\nCost(foo()) = 3 (constant)\\n'"
      ]
     },
     "execution_count": 3,
     "metadata": {},
     "output_type": "execute_result"
    }
   ],
   "source": [
    "# Example 2\n",
    "\n",
    "def foo(n):\n",
    "    x = 1\n",
    "    y = 2\n",
    "    z = 3\n",
    "    \n",
    "'''\n",
    "foo(5) -> 3\n",
    "foo(5000) -> 3\n",
    "fo0(5000000) -> 3\n",
    "\n",
    "Cost(foo()) = 3 (constant)\n",
    "'''"
   ]
  },
  {
   "cell_type": "code",
   "execution_count": 4,
   "id": "fa3b9bd0-11b4-4885-81dc-8a90a7f971ba",
   "metadata": {},
   "outputs": [
    {
     "data": {
      "text/plain": [
       "'\\nCost(foo()) = n (linear)\\n'"
      ]
     },
     "execution_count": 4,
     "metadata": {},
     "output_type": "execute_result"
    }
   ],
   "source": [
    "# Example 3\n",
    "\n",
    "def foo(n):\n",
    "    for i in range(n):\n",
    "        print(i) # n operations\n",
    "        \n",
    "'''\n",
    "Cost(foo()) = n (linear)\n",
    "'''"
   ]
  },
  {
   "cell_type": "code",
   "execution_count": 5,
   "id": "966a3bc5-54c6-4e4a-9b18-f85a28835d20",
   "metadata": {},
   "outputs": [
    {
     "data": {
      "text/plain": [
       "'\\nCost(foo()) = n + 2\\n'"
      ]
     },
     "execution_count": 5,
     "metadata": {},
     "output_type": "execute_result"
    }
   ],
   "source": [
    "# Example 4\n",
    "\n",
    "def foo(n):\n",
    "    x = 2\n",
    "    y = 3\n",
    "    \n",
    "    for i in range(n):\n",
    "        print(i)\n",
    "        \n",
    "'''\n",
    "Cost(foo()) = n + 2\n",
    "'''"
   ]
  },
  {
   "cell_type": "code",
   "execution_count": 6,
   "id": "cfaf2627-52d7-4d98-ae18-5c902d2c6cf4",
   "metadata": {},
   "outputs": [
    {
     "data": {
      "text/plain": [
       "'\\nCost(foo()) = n^2 (exponential)\\n'"
      ]
     },
     "execution_count": 6,
     "metadata": {},
     "output_type": "execute_result"
    }
   ],
   "source": [
    "# Example 5\n",
    "\n",
    "def foo(n):\n",
    "    for i in range(n):\n",
    "        for j in range(n):\n",
    "            print(i*j) # n*n operations\n",
    "            \n",
    "'''\n",
    "Cost(foo()) = n^2 (exponential)\n",
    "'''"
   ]
  },
  {
   "cell_type": "code",
   "execution_count": 8,
   "id": "647088d4-6eea-4876-b106-c78d13eb1e1a",
   "metadata": {},
   "outputs": [
    {
     "data": {
      "text/plain": [
       "'\\nCost(foo()) = n^2 + n + 1\\nWorst TC = O(n^2)\\n'"
      ]
     },
     "execution_count": 8,
     "metadata": {},
     "output_type": "execute_result"
    }
   ],
   "source": [
    "# Example 6\n",
    "\n",
    "def foo(n):\n",
    "    for i in range(n):\n",
    "        for j in range(n):\n",
    "            print(i*j) # n*n operations\n",
    "            \n",
    "    for k in range(n):\n",
    "        print(k) # n operations\n",
    "        \n",
    "    print(\"WOW!!\") # 1 operation\n",
    "    \n",
    "'''\n",
    "Cost(foo()) = n^2 + n + 1\n",
    "Worst TC = O(n^2)\n",
    "'''"
   ]
  },
  {
   "cell_type": "markdown",
   "id": "6d250767-a934-4e53-a7cd-bc33e125a758",
   "metadata": {
    "tags": []
   },
   "source": [
    "## Sorting"
   ]
  },
  {
   "cell_type": "markdown",
   "id": "206781d5-dede-441f-abd9-ba4047bba2eb",
   "metadata": {
    "tags": []
   },
   "source": [
    "Online compiler for Code Visualization. Only use in case where you are absolutely failing to debug or dry run the code manually.  \n",
    "https://pythontutor.com/python-debugger.html#mode=edit"
   ]
  },
  {
   "cell_type": "markdown",
   "id": "9af6a344-e971-4d69-8a7b-6be1a42130b2",
   "metadata": {
    "tags": []
   },
   "source": [
    "### Bubble Sorting\n",
    "* Cost Func: **n(n+1)/2**  <-- Sum of n natural numbers (AP)\n",
    "* Worst TC: **O(n^2)**\n",
    "* Best TC: **O(n)**"
   ]
  },
  {
   "cell_type": "markdown",
   "id": "518d93e4-fb82-47c0-a445-e95e737a9caa",
   "metadata": {
    "jp-MarkdownHeadingCollapsed": true,
    "tags": []
   },
   "source": [
    "#### Standard Bubble Sort (Non optimized)"
   ]
  },
  {
   "cell_type": "code",
   "execution_count": 34,
   "id": "6e4cb6fd-ad0a-4977-8519-6ca56c153be6",
   "metadata": {},
   "outputs": [
    {
     "name": "stdout",
     "output_type": "stream",
     "text": [
      "Loop ran 36 times with 6 swaps!\n"
     ]
    },
    {
     "data": {
      "text/plain": [
       "([1, 2, 3, 4, 5, 7, 8, 9, 10], (36, 6))"
      ]
     },
     "execution_count": 34,
     "metadata": {},
     "output_type": "execute_result"
    }
   ],
   "source": [
    "def bubble_sort(x):\n",
    "    iterations = 0\n",
    "    swaps = 0\n",
    "    \n",
    "    for i in range(len(x)):\n",
    "        for j in range(len(x)-i-1):\n",
    "            iterations +=1\n",
    "            if x[j]>x[j+1]:\n",
    "                swaps +=1\n",
    "                x[j], x[j+1] = x[j+1], x[j]\n",
    "    print(f\"Loop ran {iterations} times with {swaps} swaps!\")\n",
    "    return x, (iterations, swaps)\n",
    "\n",
    "x = [5, 1, 2, 4, 7, 3, 8, 9, 10]\n",
    "bubble_sort(x)"
   ]
  },
  {
   "cell_type": "markdown",
   "id": "9e573e04-0bb9-4c8f-abee-1230ae15cec1",
   "metadata": {
    "tags": []
   },
   "source": [
    "##### Standard Bubble Sort Visual (Non optimized)"
   ]
  },
  {
   "cell_type": "markdown",
   "id": "2a159c07-6a9a-4afc-97e1-598abafa3ac5",
   "metadata": {
    "jp-MarkdownHeadingCollapsed": true,
    "tags": []
   },
   "source": [
    "* A point to note is that the list is iterated by **(2,2)** iterations as shown below but algo keeps on sorting till **(4,0)** iterations indicating there is further room for optimizations.  \n",
    "* Optimized bubble sort will stop at **(3,1)** iterations for the below visualization."
   ]
  },
  {
   "cell_type": "code",
   "execution_count": 38,
   "id": "fcaddb0c-8c52-4959-b7a0-7f8d32749b48",
   "metadata": {},
   "outputs": [],
   "source": [
    "def bubble_sort_visual(x):\n",
    "    iterations = 0\n",
    "    swaps = 0\n",
    "    \n",
    "    print(\"-\"*25)\n",
    "    print(x)\n",
    "    print(\"-\"*25)\n",
    "    for i in range(len(x)):\n",
    "        for j in range(len(x) - i - 1):\n",
    "            iterations +=1\n",
    "            if x[j] > x[j+1]:\n",
    "                swaps +=1\n",
    "                x[j], x[j+1] = x[j+1], x[j]    \n",
    "            print(f\"{(i,j)}\\t{x}\")     \n",
    "        print(\"-\"*25)\n",
    "        print(x)\n",
    "        print(\"-\"*25)\n",
    "    print()\n",
    "    print(f\"Loop ran {iterations} times with {swaps} swaps!\")\n",
    "    return x, (iterations, swaps)"
   ]
  },
  {
   "cell_type": "code",
   "execution_count": 39,
   "id": "1f68067e-7bde-4cd0-8177-0796341361e9",
   "metadata": {},
   "outputs": [
    {
     "name": "stdout",
     "output_type": "stream",
     "text": [
      "-------------------------\n",
      "[5, 1, 2, 4, 7, 3, 8, 9, 10]\n",
      "-------------------------\n",
      "(0, 0)\t[1, 5, 2, 4, 7, 3, 8, 9, 10]\n",
      "(0, 1)\t[1, 2, 5, 4, 7, 3, 8, 9, 10]\n",
      "(0, 2)\t[1, 2, 4, 5, 7, 3, 8, 9, 10]\n",
      "(0, 3)\t[1, 2, 4, 5, 7, 3, 8, 9, 10]\n",
      "(0, 4)\t[1, 2, 4, 5, 3, 7, 8, 9, 10]\n",
      "(0, 5)\t[1, 2, 4, 5, 3, 7, 8, 9, 10]\n",
      "(0, 6)\t[1, 2, 4, 5, 3, 7, 8, 9, 10]\n",
      "(0, 7)\t[1, 2, 4, 5, 3, 7, 8, 9, 10]\n",
      "-------------------------\n",
      "[1, 2, 4, 5, 3, 7, 8, 9, 10]\n",
      "-------------------------\n",
      "(1, 0)\t[1, 2, 4, 5, 3, 7, 8, 9, 10]\n",
      "(1, 1)\t[1, 2, 4, 5, 3, 7, 8, 9, 10]\n",
      "(1, 2)\t[1, 2, 4, 5, 3, 7, 8, 9, 10]\n",
      "(1, 3)\t[1, 2, 4, 3, 5, 7, 8, 9, 10]\n",
      "(1, 4)\t[1, 2, 4, 3, 5, 7, 8, 9, 10]\n",
      "(1, 5)\t[1, 2, 4, 3, 5, 7, 8, 9, 10]\n",
      "(1, 6)\t[1, 2, 4, 3, 5, 7, 8, 9, 10]\n",
      "-------------------------\n",
      "[1, 2, 4, 3, 5, 7, 8, 9, 10]\n",
      "-------------------------\n",
      "(2, 0)\t[1, 2, 4, 3, 5, 7, 8, 9, 10]\n",
      "(2, 1)\t[1, 2, 4, 3, 5, 7, 8, 9, 10]\n",
      "(2, 2)\t[1, 2, 3, 4, 5, 7, 8, 9, 10]\n",
      "(2, 3)\t[1, 2, 3, 4, 5, 7, 8, 9, 10]\n",
      "(2, 4)\t[1, 2, 3, 4, 5, 7, 8, 9, 10]\n",
      "(2, 5)\t[1, 2, 3, 4, 5, 7, 8, 9, 10]\n",
      "-------------------------\n",
      "[1, 2, 3, 4, 5, 7, 8, 9, 10]\n",
      "-------------------------\n",
      "(3, 0)\t[1, 2, 3, 4, 5, 7, 8, 9, 10]\n",
      "(3, 1)\t[1, 2, 3, 4, 5, 7, 8, 9, 10]\n",
      "(3, 2)\t[1, 2, 3, 4, 5, 7, 8, 9, 10]\n",
      "(3, 3)\t[1, 2, 3, 4, 5, 7, 8, 9, 10]\n",
      "(3, 4)\t[1, 2, 3, 4, 5, 7, 8, 9, 10]\n",
      "-------------------------\n",
      "[1, 2, 3, 4, 5, 7, 8, 9, 10]\n",
      "-------------------------\n",
      "(4, 0)\t[1, 2, 3, 4, 5, 7, 8, 9, 10]\n",
      "(4, 1)\t[1, 2, 3, 4, 5, 7, 8, 9, 10]\n",
      "(4, 2)\t[1, 2, 3, 4, 5, 7, 8, 9, 10]\n",
      "(4, 3)\t[1, 2, 3, 4, 5, 7, 8, 9, 10]\n",
      "-------------------------\n",
      "[1, 2, 3, 4, 5, 7, 8, 9, 10]\n",
      "-------------------------\n",
      "(5, 0)\t[1, 2, 3, 4, 5, 7, 8, 9, 10]\n",
      "(5, 1)\t[1, 2, 3, 4, 5, 7, 8, 9, 10]\n",
      "(5, 2)\t[1, 2, 3, 4, 5, 7, 8, 9, 10]\n",
      "-------------------------\n",
      "[1, 2, 3, 4, 5, 7, 8, 9, 10]\n",
      "-------------------------\n",
      "(6, 0)\t[1, 2, 3, 4, 5, 7, 8, 9, 10]\n",
      "(6, 1)\t[1, 2, 3, 4, 5, 7, 8, 9, 10]\n",
      "-------------------------\n",
      "[1, 2, 3, 4, 5, 7, 8, 9, 10]\n",
      "-------------------------\n",
      "(7, 0)\t[1, 2, 3, 4, 5, 7, 8, 9, 10]\n",
      "-------------------------\n",
      "[1, 2, 3, 4, 5, 7, 8, 9, 10]\n",
      "-------------------------\n",
      "-------------------------\n",
      "[1, 2, 3, 4, 5, 7, 8, 9, 10]\n",
      "-------------------------\n",
      "\n",
      "Loop ran 36 times with 6 swaps!\n"
     ]
    },
    {
     "data": {
      "text/plain": [
       "([1, 2, 3, 4, 5, 7, 8, 9, 10], (36, 6))"
      ]
     },
     "execution_count": 39,
     "metadata": {},
     "output_type": "execute_result"
    }
   ],
   "source": [
    "x = [5, 1, 2, 4, 7, 3, 8, 9, 10]\n",
    "\n",
    "bubble_sort_visual(x)"
   ]
  },
  {
   "cell_type": "markdown",
   "id": "93252073-c5e1-4412-b80c-c0c085fc49a8",
   "metadata": {
    "jp-MarkdownHeadingCollapsed": true,
    "tags": []
   },
   "source": [
    "#### Bubble Sort (Optimized)"
   ]
  },
  {
   "cell_type": "code",
   "execution_count": 40,
   "id": "9a8746dd-bb6c-4d33-8155-7174582a4eae",
   "metadata": {},
   "outputs": [
    {
     "name": "stdout",
     "output_type": "stream",
     "text": [
      "Loop ran 26 times with 6 swaps!\n"
     ]
    },
    {
     "data": {
      "text/plain": [
       "([1, 2, 3, 4, 5, 7, 8, 9, 10], (26, 6))"
      ]
     },
     "execution_count": 40,
     "metadata": {},
     "output_type": "execute_result"
    }
   ],
   "source": [
    "def bubble_sort_optimized(x):\n",
    "    iterations = 0\n",
    "    swaps = 0\n",
    "    \n",
    "    for i in range(len(x)):\n",
    "        sorted = True\n",
    "        for j in range(len(x)-i-1):\n",
    "            iterations +=1\n",
    "            if x[j]>x[j+1]:\n",
    "                swaps +=1\n",
    "                x[j], x[j+1] = x[j+1], x[j]\n",
    "                sorted = False\n",
    "        if sorted:\n",
    "            break\n",
    "    print(f\"Loop ran {iterations} times with {swaps} swaps!\")\n",
    "    return x, (iterations, swaps)\n",
    "\n",
    "x = [5, 1, 2, 4, 7, 3, 8, 9, 10]\n",
    "bubble_sort_optimized(x)"
   ]
  },
  {
   "cell_type": "markdown",
   "id": "b2cbebf3-df3e-4c35-8df2-d3371c26c127",
   "metadata": {
    "tags": []
   },
   "source": [
    "##### Bubble Sort (Optimized) Visual"
   ]
  },
  {
   "cell_type": "code",
   "execution_count": 41,
   "id": "ab67ffdf-256c-4c81-8cc3-bc8fe9c31bdb",
   "metadata": {},
   "outputs": [],
   "source": [
    "def bubble_sort_optimized_visual(x):\n",
    "    iterations = 0\n",
    "    swaps = 0\n",
    "\n",
    "    print(\"-\"*25)\n",
    "    print(x)\n",
    "    print(\"-\"*25)  \n",
    "    for i in range(len(x)):\n",
    "        no_swaps = True\n",
    "        for j in range(len(x)-i-1):\n",
    "            iterations +=1\n",
    "            if x[j]>x[j+1]:\n",
    "                swaps +=1\n",
    "                x[j], x[j+1] = x[j+1], x[j]\n",
    "                no_swaps = False\n",
    "            print(f\"{i},{j}\\t{x}\")  \n",
    "        if no_swaps:\n",
    "            break\n",
    "        print(\"-\"*25)\n",
    "        print(x)\n",
    "        print(\"-\"*25)\n",
    "    print()\n",
    "    print(f\"Loop ran {iterations} times with {swaps} swaps!\")\n",
    "    return x, (iterations, swaps)"
   ]
  },
  {
   "cell_type": "code",
   "execution_count": 42,
   "id": "af8ea46a-e764-4e4c-8fd3-fbc3e8d406f6",
   "metadata": {},
   "outputs": [
    {
     "name": "stdout",
     "output_type": "stream",
     "text": [
      "-------------------------\n",
      "[5, 1, 2, 4, 7, 3, 8, 9, 10]\n",
      "-------------------------\n",
      "0,0\t[1, 5, 2, 4, 7, 3, 8, 9, 10]\n",
      "0,1\t[1, 2, 5, 4, 7, 3, 8, 9, 10]\n",
      "0,2\t[1, 2, 4, 5, 7, 3, 8, 9, 10]\n",
      "0,3\t[1, 2, 4, 5, 7, 3, 8, 9, 10]\n",
      "0,4\t[1, 2, 4, 5, 3, 7, 8, 9, 10]\n",
      "0,5\t[1, 2, 4, 5, 3, 7, 8, 9, 10]\n",
      "0,6\t[1, 2, 4, 5, 3, 7, 8, 9, 10]\n",
      "0,7\t[1, 2, 4, 5, 3, 7, 8, 9, 10]\n",
      "-------------------------\n",
      "[1, 2, 4, 5, 3, 7, 8, 9, 10]\n",
      "-------------------------\n",
      "1,0\t[1, 2, 4, 5, 3, 7, 8, 9, 10]\n",
      "1,1\t[1, 2, 4, 5, 3, 7, 8, 9, 10]\n",
      "1,2\t[1, 2, 4, 5, 3, 7, 8, 9, 10]\n",
      "1,3\t[1, 2, 4, 3, 5, 7, 8, 9, 10]\n",
      "1,4\t[1, 2, 4, 3, 5, 7, 8, 9, 10]\n",
      "1,5\t[1, 2, 4, 3, 5, 7, 8, 9, 10]\n",
      "1,6\t[1, 2, 4, 3, 5, 7, 8, 9, 10]\n",
      "-------------------------\n",
      "[1, 2, 4, 3, 5, 7, 8, 9, 10]\n",
      "-------------------------\n",
      "2,0\t[1, 2, 4, 3, 5, 7, 8, 9, 10]\n",
      "2,1\t[1, 2, 4, 3, 5, 7, 8, 9, 10]\n",
      "2,2\t[1, 2, 3, 4, 5, 7, 8, 9, 10]\n",
      "2,3\t[1, 2, 3, 4, 5, 7, 8, 9, 10]\n",
      "2,4\t[1, 2, 3, 4, 5, 7, 8, 9, 10]\n",
      "2,5\t[1, 2, 3, 4, 5, 7, 8, 9, 10]\n",
      "-------------------------\n",
      "[1, 2, 3, 4, 5, 7, 8, 9, 10]\n",
      "-------------------------\n",
      "3,0\t[1, 2, 3, 4, 5, 7, 8, 9, 10]\n",
      "3,1\t[1, 2, 3, 4, 5, 7, 8, 9, 10]\n",
      "3,2\t[1, 2, 3, 4, 5, 7, 8, 9, 10]\n",
      "3,3\t[1, 2, 3, 4, 5, 7, 8, 9, 10]\n",
      "3,4\t[1, 2, 3, 4, 5, 7, 8, 9, 10]\n",
      "\n",
      "Loop ran 26 times with 6 swaps!\n"
     ]
    },
    {
     "data": {
      "text/plain": [
       "([1, 2, 3, 4, 5, 7, 8, 9, 10], (26, 6))"
      ]
     },
     "execution_count": 42,
     "metadata": {},
     "output_type": "execute_result"
    }
   ],
   "source": [
    "x = [5, 1, 2, 4, 7, 3, 8, 9, 10]\n",
    "\n",
    "bubble_sort_optimized_visual(x)"
   ]
  },
  {
   "cell_type": "markdown",
   "id": "c316655c-1f2f-494f-aba3-caee513aed41",
   "metadata": {},
   "source": [
    "### Selection Sort\n",
    "* Cost Func: **n(n-1)/2**\n",
    "* Worst TC: **O(n^2)**\n",
    "* Best TC: **O(n^2)**"
   ]
  },
  {
   "cell_type": "markdown",
   "id": "59727cab-a40c-4c86-8b6e-dfdd38e2805e",
   "metadata": {},
   "source": [
    "In the ith iteration, look for ith smallest element and place it at the ith position"
   ]
  },
  {
   "cell_type": "markdown",
   "id": "27b62634-e03b-4319-9c14-818dd4bdfa3f",
   "metadata": {
    "tags": []
   },
   "source": [
    "#### Standard Selection sort"
   ]
  },
  {
   "cell_type": "markdown",
   "id": "b505a60f-8e3d-4c5a-86bf-bbb7d2bad6c4",
   "metadata": {},
   "source": [
    "* This is the standard selection sort algo. Here value of i s being swapped with current min(which has taken the value of j) at the end of every iternal loop. Since we are only swapping the values at end of every internal loop the swapping is with the absolute min value for that range and so no of swappings are less. But due to this, we can not break the loop early hence causing more no of iterations which can be further optimized with bi-directional selection sort or mixing different algo with selection sort. The same has been done with 2nd appraoch(my) shown below. "
   ]
  },
  {
   "cell_type": "code",
   "execution_count": 43,
   "id": "9af953d3-244f-421b-a916-d8715d825c1f",
   "metadata": {},
   "outputs": [
    {
     "data": {
      "text/plain": [
       "[1, 2, 3, 4, 5, 7, 8, 9, 10]"
      ]
     },
     "execution_count": 43,
     "metadata": {},
     "output_type": "execute_result"
    }
   ],
   "source": [
    "def selection_sort(x):\n",
    "    for i in range(len(x) - 1):\n",
    "        current_min = i       \n",
    "        for j in range(i + 1, len(x)):\n",
    "            if x[current_min] > x[j]:\n",
    "                current_min = j\n",
    "        if current_min != i:\n",
    "            x[current_min], x[i] = x[i], x[current_min]\n",
    "    return x\n",
    "\n",
    "x = [5, 1, 2, 4, 7, 3, 8, 9, 10]\n",
    "selection_sort(x)"
   ]
  },
  {
   "cell_type": "markdown",
   "id": "c3aafe7e-3fe2-4aa8-99fc-e78a71c924a2",
   "metadata": {
    "tags": []
   },
   "source": [
    "##### Standard Selection Sort Visual"
   ]
  },
  {
   "cell_type": "code",
   "execution_count": 44,
   "id": "7b30fb6d-24d8-42ac-9bef-25382594af3c",
   "metadata": {},
   "outputs": [],
   "source": [
    "def selection_sort_visual(x):\n",
    "    iterations = 0\n",
    "    swaps = 0\n",
    "    \n",
    "    print(\"-\"*25)\n",
    "    print(x)\n",
    "    print(\"-\"*25)\n",
    "    for i in range(len(x) - 1):\n",
    "        current_min = i       \n",
    "        for j in range(i + 1, len(x)):\n",
    "            iterations +=1\n",
    "            if x[current_min] > x[j]:\n",
    "                current_min = j          \n",
    "        if current_min != i:\n",
    "            swaps +=1\n",
    "            x[current_min], x[i] = x[i], x[current_min]\n",
    "            print(f\"{i},{current_min}\\t{x}\")\n",
    "    print(\"-\"*25)\n",
    "    print(x)\n",
    "    print(\"-\"*25)\n",
    "    print()\n",
    "    print(f\"Loop ran {iterations} times with {swaps} swaps!\")\n",
    "    return x, (iterations, swaps)"
   ]
  },
  {
   "cell_type": "code",
   "execution_count": 45,
   "id": "e4b79c22-8651-4266-9eee-06e0671711b8",
   "metadata": {},
   "outputs": [
    {
     "name": "stdout",
     "output_type": "stream",
     "text": [
      "-------------------------\n",
      "[5, 1, 2, 4, 7, 3, 8, 9, 10]\n",
      "-------------------------\n",
      "0,1\t[1, 5, 2, 4, 7, 3, 8, 9, 10]\n",
      "1,2\t[1, 2, 5, 4, 7, 3, 8, 9, 10]\n",
      "2,5\t[1, 2, 3, 4, 7, 5, 8, 9, 10]\n",
      "4,5\t[1, 2, 3, 4, 5, 7, 8, 9, 10]\n",
      "-------------------------\n",
      "[1, 2, 3, 4, 5, 7, 8, 9, 10]\n",
      "-------------------------\n",
      "\n",
      "Loop ran 36 times with 4 swaps!\n"
     ]
    },
    {
     "data": {
      "text/plain": [
       "([1, 2, 3, 4, 5, 7, 8, 9, 10], (36, 4))"
      ]
     },
     "execution_count": 45,
     "metadata": {},
     "output_type": "execute_result"
    }
   ],
   "source": [
    "x = [5, 1, 2, 4, 7, 3, 8, 9, 10]\n",
    "\n",
    "selection_sort_visual(x)"
   ]
  },
  {
   "cell_type": "markdown",
   "id": "db80ffe5-8250-48e1-aa2c-4f3688b5ebeb",
   "metadata": {
    "jp-MarkdownHeadingCollapsed": true,
    "tags": []
   },
   "source": [
    "#### My approach"
   ]
  },
  {
   "cell_type": "markdown",
   "id": "b9033dcd-0705-468a-bcd9-378ad5f348bb",
   "metadata": {},
   "source": [
    "* Here the no of iterations decreases as compared to standard selection sort but no of swaps increases."
   ]
  },
  {
   "cell_type": "code",
   "execution_count": 56,
   "id": "a1129e9a-85ef-4992-9866-1e5f57c0d2a9",
   "metadata": {},
   "outputs": [
    {
     "data": {
      "text/plain": [
       "[1, 2, 3, 4, 5, 7, 8, 9, 10]"
      ]
     },
     "execution_count": 56,
     "metadata": {},
     "output_type": "execute_result"
    }
   ],
   "source": [
    "def my_selection_sort(x):\n",
    "    for i in range(len(x)-1):\n",
    "        no_swaps = True\n",
    "        for j in range(i+1,len(x)):\n",
    "            if x[j] < x[i]:\n",
    "                no_swaps = False\n",
    "                x[i],x[j] = x[j],x[i]\n",
    "        if no_swaps:\n",
    "            break\n",
    "    return x\n",
    "\n",
    "x = [5, 1, 2, 4, 7, 3, 8, 9, 10]\n",
    "my_selection_sort(x)"
   ]
  },
  {
   "cell_type": "markdown",
   "id": "df50b9f1-78ad-4527-858a-3408a0dec5c9",
   "metadata": {
    "jp-MarkdownHeadingCollapsed": true,
    "tags": []
   },
   "source": [
    "##### My approach Visuals"
   ]
  },
  {
   "cell_type": "code",
   "execution_count": 51,
   "id": "d3c4c961-9207-4b29-959c-113e0c9c0c57",
   "metadata": {},
   "outputs": [],
   "source": [
    "def selection_sort_my_visual(x):\n",
    "    iterations = 0\n",
    "    swaps = 0\n",
    "       \n",
    "    print(\"-\"*25)\n",
    "    print(x)\n",
    "    print(\"-\"*25)\n",
    "    for i in range(len(x)-1):\n",
    "        no_swaps = True\n",
    "        for j in range(i+1,len(x)):\n",
    "            iterations += 1\n",
    "            if x[j] < x[i]:\n",
    "                no_swaps = False\n",
    "                swaps += 1\n",
    "                x[i],x[j] = x[j],x[i]\n",
    "                print(f\"{(i,j)}\\t{x}\")\n",
    "        if no_swaps:\n",
    "            print()\n",
    "            print(f\"Broken at ({i}, {j})\")\n",
    "            break\n",
    "    print(\"-\"*25)\n",
    "    print(x)\n",
    "    print(\"-\"*25)\n",
    "    print()\n",
    "    print(f\"Loop ran {iterations} times with {swaps} swaps!\")\n",
    "    return x, (iterations, swaps)"
   ]
  },
  {
   "cell_type": "code",
   "execution_count": 52,
   "id": "93dd0d39-2a67-4009-a95b-746204a662a0",
   "metadata": {},
   "outputs": [
    {
     "name": "stdout",
     "output_type": "stream",
     "text": [
      "-------------------------\n",
      "[5, 1, 2, 4, 7, 3, 8, 9, 10]\n",
      "-------------------------\n",
      "(0, 1)\t[1, 5, 2, 4, 7, 3, 8, 9, 10]\n",
      "(1, 2)\t[1, 2, 5, 4, 7, 3, 8, 9, 10]\n",
      "(2, 3)\t[1, 2, 4, 5, 7, 3, 8, 9, 10]\n",
      "(2, 5)\t[1, 2, 3, 5, 7, 4, 8, 9, 10]\n",
      "(3, 5)\t[1, 2, 3, 4, 7, 5, 8, 9, 10]\n",
      "(4, 5)\t[1, 2, 3, 4, 5, 7, 8, 9, 10]\n",
      "\n",
      "Broken at (5, 8)\n",
      "-------------------------\n",
      "[1, 2, 3, 4, 5, 7, 8, 9, 10]\n",
      "-------------------------\n",
      "\n",
      "Loop ran 33 times with 6 swaps!\n"
     ]
    },
    {
     "data": {
      "text/plain": [
       "([1, 2, 3, 4, 5, 7, 8, 9, 10], (33, 6))"
      ]
     },
     "execution_count": 52,
     "metadata": {},
     "output_type": "execute_result"
    }
   ],
   "source": [
    "x = [5, 1, 2, 4, 7, 3, 8, 9, 10]\n",
    "\n",
    "selection_sort_my_visual(x)"
   ]
  },
  {
   "cell_type": "markdown",
   "id": "f2d3356c-6ffb-42a7-9875-24dbe0e9101d",
   "metadata": {
    "jp-MarkdownHeadingCollapsed": true,
    "tags": []
   },
   "source": [
    "#### My Optimized approach"
   ]
  },
  {
   "cell_type": "markdown",
   "id": "41b113db-a9b0-48b3-a527-aac400ac5b2d",
   "metadata": {},
   "source": [
    "* In this approach I am assigning the min value from the beggining of index via selection sort and sort max value from the end of the list via bubble sort. So this is not a purely selection sort.\n",
    "* Combo of bi-directional selection and bubble sort, apparently, it is called cocktail_shaker_sort!"
   ]
  },
  {
   "cell_type": "code",
   "execution_count": 53,
   "id": "fbc452d1-6c7d-4915-a5e6-cd3e6f81bead",
   "metadata": {},
   "outputs": [
    {
     "data": {
      "text/plain": [
       "[1, 2, 3, 4, 5, 7, 8, 9, 10]"
      ]
     },
     "execution_count": 53,
     "metadata": {},
     "output_type": "execute_result"
    }
   ],
   "source": [
    "def selection_cocktail_shaker_sort(x):\n",
    "    for i in range(len(x)-1):\n",
    "        no_swaps = True\n",
    "        min_x = i\n",
    "        for j in range(len(x)-1, i, -1):\n",
    "            max_x = j\n",
    "            if x[j] < x[min_x]:\n",
    "                x[i], x[j] = x[j], x[i]\n",
    "                no_swaps = False\n",
    "            if x[j-1] > x[j]:\n",
    "                x[j-1], x[j] = x[j], x[j-1]\n",
    "                no_swaps = False\n",
    "        if no_swaps:\n",
    "            break          \n",
    "    return x\n",
    "\n",
    "x = [5, 1, 2, 4, 7, 3, 8, 9, 10]\n",
    "selection_cocktail_shaker_sort(x)"
   ]
  },
  {
   "cell_type": "markdown",
   "id": "2681d134-6393-4699-9738-70d641a123fa",
   "metadata": {
    "jp-MarkdownHeadingCollapsed": true,
    "tags": []
   },
   "source": [
    "##### My optimized approach visual"
   ]
  },
  {
   "cell_type": "code",
   "execution_count": 57,
   "id": "ff6526d2-891a-4853-9ce4-42929fd3031a",
   "metadata": {},
   "outputs": [],
   "source": [
    "def selection_cocktail_shaker_sort(x):\n",
    "    iterations = 0\n",
    "    swaps = 0\n",
    "    \n",
    "    print(\"-\"*25)\n",
    "    print(x)\n",
    "    print(\"-\"*25)\n",
    "    for i in range(len(x)-1):\n",
    "        no_swaps = True\n",
    "        min_x = i\n",
    "        for j in range(len(x)-1, i, -1):\n",
    "            iterations +=1\n",
    "            max_x = j\n",
    "            if x[j] < x[min_x]:\n",
    "                swaps +=1\n",
    "                x[i], x[j] = x[j], x[i]\n",
    "                no_swaps = False\n",
    "            if x[j-1] > x[j]:\n",
    "                swaps +=1\n",
    "                x[j-1], x[j] = x[j], x[j-1]\n",
    "                no_swaps = False\n",
    "            print(f\"{i},{j}\\t{x}\")\n",
    "        if no_swaps:\n",
    "            break          \n",
    "        print(\"-\"*25)\n",
    "        print(x)\n",
    "        print(\"-\"*25)\n",
    "    print()\n",
    "    print(f\"Loop ran {iterations} times with {swaps} swaps!\")\n",
    "    return x, (iterations, swaps)"
   ]
  },
  {
   "cell_type": "code",
   "execution_count": 58,
   "id": "bda6384e-df9f-40e0-b282-4b20fb6663cb",
   "metadata": {},
   "outputs": [
    {
     "name": "stdout",
     "output_type": "stream",
     "text": [
      "-------------------------\n",
      "[5, 1, 2, 4, 7, 3, 8, 9, 10]\n",
      "-------------------------\n",
      "0,8\t[5, 1, 2, 4, 7, 3, 8, 9, 10]\n",
      "0,7\t[5, 1, 2, 4, 7, 3, 8, 9, 10]\n",
      "0,6\t[5, 1, 2, 4, 7, 3, 8, 9, 10]\n",
      "0,5\t[3, 1, 2, 4, 5, 7, 8, 9, 10]\n",
      "0,4\t[3, 1, 2, 4, 5, 7, 8, 9, 10]\n",
      "0,3\t[3, 1, 2, 4, 5, 7, 8, 9, 10]\n",
      "0,2\t[2, 1, 3, 4, 5, 7, 8, 9, 10]\n",
      "0,1\t[1, 2, 3, 4, 5, 7, 8, 9, 10]\n",
      "-------------------------\n",
      "[1, 2, 3, 4, 5, 7, 8, 9, 10]\n",
      "-------------------------\n",
      "1,8\t[1, 2, 3, 4, 5, 7, 8, 9, 10]\n",
      "1,7\t[1, 2, 3, 4, 5, 7, 8, 9, 10]\n",
      "1,6\t[1, 2, 3, 4, 5, 7, 8, 9, 10]\n",
      "1,5\t[1, 2, 3, 4, 5, 7, 8, 9, 10]\n",
      "1,4\t[1, 2, 3, 4, 5, 7, 8, 9, 10]\n",
      "1,3\t[1, 2, 3, 4, 5, 7, 8, 9, 10]\n",
      "1,2\t[1, 2, 3, 4, 5, 7, 8, 9, 10]\n",
      "\n",
      "Loop ran 15 times with 4 swaps!\n"
     ]
    },
    {
     "data": {
      "text/plain": [
       "([1, 2, 3, 4, 5, 7, 8, 9, 10], (15, 4))"
      ]
     },
     "execution_count": 58,
     "metadata": {},
     "output_type": "execute_result"
    }
   ],
   "source": [
    "x = [5, 1, 2, 4, 7, 3, 8, 9, 10]\n",
    "\n",
    "selection_cocktail_shaker_sort(x)"
   ]
  },
  {
   "cell_type": "markdown",
   "id": "339e4919-e012-4f71-aca9-90153ced9ea5",
   "metadata": {
    "jp-MarkdownHeadingCollapsed": true,
    "tags": []
   },
   "source": [
    "#### Standard bidirectional Sort"
   ]
  },
  {
   "cell_type": "code",
   "execution_count": 55,
   "id": "ca2c3cd1-4a29-4290-afaa-99b954174648",
   "metadata": {},
   "outputs": [
    {
     "data": {
      "text/plain": [
       "[1, 2, 3, 4, 5, 7, 8, 9, 10]"
      ]
     },
     "execution_count": 55,
     "metadata": {},
     "output_type": "execute_result"
    }
   ],
   "source": [
    "def bidirectional_selection_sort(arr):\n",
    "    n = len(arr)\n",
    "    for i in range(n//2):\n",
    "        min_index = i\n",
    "        max_index = n-i-1\n",
    "        for j in range(i+1, n-i):\n",
    "            if arr[j] < arr[min_index]:\n",
    "                min_index = j\n",
    "            if arr[j] > arr[max_index]:\n",
    "                max_index = j\n",
    "        if min_index != i:\n",
    "            arr[i], arr[min_index] = arr[min_index], arr[i]\n",
    "            if max_index == i:\n",
    "                max_index = min_index\n",
    "        if max_index != n-i-1:\n",
    "            arr[n-i-1], arr[max_index] = arr[max_index], arr[n-i-1]\n",
    "            if min_index == n-i-1:\n",
    "                min_index = max_index\n",
    "    return arr\n",
    "\n",
    "x = [5, 1, 2, 4, 7, 3, 8, 9, 10]\n",
    "bidirectional_selection_sort(x)"
   ]
  },
  {
   "cell_type": "markdown",
   "id": "dfdce432-0adf-4e0d-905f-02fcddb6c662",
   "metadata": {
    "jp-MarkdownHeadingCollapsed": true,
    "tags": []
   },
   "source": [
    "##### Bidirectional Selection Sort Visual"
   ]
  },
  {
   "cell_type": "code",
   "execution_count": 64,
   "id": "a111dfb4-81b4-411a-8b58-f771c8f9225b",
   "metadata": {},
   "outputs": [],
   "source": [
    "def bidirectional_selection_sort_visual(arr):\n",
    "    iterations = 0\n",
    "    swaps = 0\n",
    "    n = len(arr)\n",
    "    \n",
    "    print(\"-\"*25)\n",
    "    print(x)\n",
    "    print(\"-\"*25)\n",
    "    for i in range(n//2):\n",
    "        min_index = i\n",
    "        max_index = n-i-1\n",
    "        for j in range(i+1, n-i):\n",
    "            iterations +=1\n",
    "            if arr[j] < arr[min_index]:\n",
    "                min_index = j\n",
    "            if arr[j] > arr[max_index]:\n",
    "                max_index = j\n",
    "        if min_index != i:\n",
    "            swaps +=1\n",
    "            arr[i], arr[min_index] = arr[min_index], arr[i]\n",
    "            print(f\"{(i, j)}\\t{arr}\")\n",
    "            if max_index == i:\n",
    "                max_index = min_index\n",
    "        if max_index != n-i-1:\n",
    "            swaps+=1\n",
    "            arr[n-i-1], arr[max_index] = arr[max_index], arr[n-i-1]\n",
    "            print(f\"{(i, j)}\\t{arr}\")\n",
    "            if min_index == n-i-1:\n",
    "                min_index = max_index\n",
    "    print(\"-\"*25)\n",
    "    print(x)\n",
    "    print(\"-\"*25)\n",
    "    print()\n",
    "    print(f\"Loop ran {iterations} times with {swaps} swaps!\")\n",
    "    return arr, (iterations, swaps)"
   ]
  },
  {
   "cell_type": "code",
   "execution_count": 65,
   "id": "f5383c96-ac65-467a-8ec1-cc374271ee40",
   "metadata": {},
   "outputs": [
    {
     "name": "stdout",
     "output_type": "stream",
     "text": [
      "-------------------------\n",
      "[5, 1, 2, 4, 7, 3, 8, 9, 10]\n",
      "-------------------------\n",
      "(0, 8)\t[1, 5, 2, 4, 7, 3, 8, 9, 10]\n",
      "(1, 7)\t[1, 2, 5, 4, 7, 3, 8, 9, 10]\n",
      "(2, 6)\t[1, 2, 3, 4, 7, 5, 8, 9, 10]\n",
      "(3, 5)\t[1, 2, 3, 4, 5, 7, 8, 9, 10]\n",
      "-------------------------\n",
      "[1, 2, 3, 4, 5, 7, 8, 9, 10]\n",
      "-------------------------\n",
      "\n",
      "Loop ran 20 times with 4 swaps!\n"
     ]
    },
    {
     "data": {
      "text/plain": [
       "([1, 2, 3, 4, 5, 7, 8, 9, 10], (20, 4))"
      ]
     },
     "execution_count": 65,
     "metadata": {},
     "output_type": "execute_result"
    }
   ],
   "source": [
    "x = [5, 1, 2, 4, 7, 3, 8, 9, 10]\n",
    "\n",
    "bidirectional_selection_sort_visual(x)"
   ]
  },
  {
   "cell_type": "markdown",
   "id": "dcb2a022-6f9f-488d-a8a1-098bb54c4def",
   "metadata": {
    "jp-MarkdownHeadingCollapsed": true,
    "tags": []
   },
   "source": [
    "#### Recursive Selection Sort"
   ]
  },
  {
   "cell_type": "markdown",
   "id": "b773956e-db38-4fe1-beb9-5f643b09d915",
   "metadata": {},
   "source": [
    "* This is same as standard selection sort but done recursively."
   ]
  },
  {
   "cell_type": "code",
   "execution_count": 63,
   "id": "0c18c3bd-a1c6-4a09-83e7-cbe9870aabca",
   "metadata": {},
   "outputs": [
    {
     "data": {
      "text/plain": [
       "([1, 2, 3, 4, 5, 7, 8, 9, 10], 36, 8)"
      ]
     },
     "execution_count": 63,
     "metadata": {},
     "output_type": "execute_result"
    }
   ],
   "source": [
    "def recursive_selection_sort(x, swaps=0, iterations=0):\n",
    "    if len(x) <= 1:\n",
    "        return x, swaps, iterations\n",
    "    \n",
    "    min_x = 0\n",
    "    for i in range(1, len(x)):\n",
    "        swaps += 1\n",
    "        if x[i] < x[min_x]:\n",
    "            min_x = i\n",
    "            \n",
    "    x[0], x[min_x] = x[min_x], x[0]\n",
    "    iterations += 1\n",
    "    sorted_x, swaps, iterations = recursive_selection_sort(x[1:], swaps, iterations)\n",
    "    sorted_x.insert(0, x[0])\n",
    "\n",
    "    return sorted_x, swaps, iterations\n",
    "\n",
    "x = [5, 1, 2, 4, 7, 3, 8, 9, 10]\n",
    "recursive_selection_sort(x)"
   ]
  },
  {
   "cell_type": "markdown",
   "id": "ac6d2d01-a090-4859-96f7-e9a152c15999",
   "metadata": {},
   "source": [
    "### Insertion Sort"
   ]
  },
  {
   "cell_type": "markdown",
   "id": "7be53546-a447-48a2-8736-5798fe07c950",
   "metadata": {},
   "source": [
    "#### Standard Insertion Sort"
   ]
  },
  {
   "cell_type": "code",
   "execution_count": 86,
   "id": "6a6eaf67-b661-4c32-ac85-dc300833a3a8",
   "metadata": {},
   "outputs": [
    {
     "data": {
      "text/plain": [
       "[1, 2, 3, 4, 5, 7, 8, 9, 10]"
      ]
     },
     "execution_count": 86,
     "metadata": {},
     "output_type": "execute_result"
    }
   ],
   "source": [
    "def insertion_sort(x):\n",
    "    for i in range(1,len(x)):\n",
    "        index = i\n",
    "        for j in range(i-1, -1, -1):\n",
    "            if x[index]> x[j]:\n",
    "                break\n",
    "            if x[index] < x[j]:\n",
    "                x[index], x[j] = x[j], x[index]\n",
    "                index = j\n",
    "    return x\n",
    "x = [5, 1, 2, 4, 7, 3, 8, 9, 10]\n",
    "insertion_sort(x)"
   ]
  },
  {
   "cell_type": "markdown",
   "id": "392456e6-0833-48b6-9a92-647c2bd4b165",
   "metadata": {},
   "source": [
    "##### Standard Insertion Sort Visual"
   ]
  },
  {
   "cell_type": "code",
   "execution_count": 91,
   "id": "6c572ee3-eb94-4040-9dab-b6c6ead20c18",
   "metadata": {},
   "outputs": [],
   "source": [
    "def insertion_sort_visual(x):\n",
    "    iterations = 0\n",
    "    insertions = 0\n",
    "    \n",
    "    print(\"-\"*25)\n",
    "    print(x)\n",
    "    print(\"-\"*25)\n",
    "    for i in range(1,len(x)):\n",
    "        index = i\n",
    "        for j in range(i-1, -1, -1):\n",
    "            iterations +=1\n",
    "            if x[index]> x[j]:\n",
    "                break\n",
    "            if x[index] < x[j]:\n",
    "                insertions +=1\n",
    "                x[index], x[j] = x[j], x[index]\n",
    "                index = j\n",
    "                print(f\"{i},{j}\\t{x}\")\n",
    "    print(\"-\"*25)\n",
    "    print(x)\n",
    "    print(\"-\"*25)\n",
    "    print()\n",
    "    print(f\"Loop ran {iterations} times with {insertions} insertions!\")            \n",
    "    return x, (iterations, insertions)"
   ]
  },
  {
   "cell_type": "code",
   "execution_count": 92,
   "id": "24feaae6-eab2-4477-83eb-a31c51b067ed",
   "metadata": {},
   "outputs": [
    {
     "name": "stdout",
     "output_type": "stream",
     "text": [
      "-------------------------\n",
      "[5, 1, 2, 4, 7, 3, 8, 9, 10]\n",
      "-------------------------\n",
      "1,0\t[1, 5, 2, 4, 7, 3, 8, 9, 10]\n",
      "2,1\t[1, 2, 5, 4, 7, 3, 8, 9, 10]\n",
      "3,2\t[1, 2, 4, 5, 7, 3, 8, 9, 10]\n",
      "5,4\t[1, 2, 4, 5, 3, 7, 8, 9, 10]\n",
      "5,3\t[1, 2, 4, 3, 5, 7, 8, 9, 10]\n",
      "5,2\t[1, 2, 3, 4, 5, 7, 8, 9, 10]\n",
      "-------------------------\n",
      "[1, 2, 3, 4, 5, 7, 8, 9, 10]\n",
      "-------------------------\n",
      "\n",
      "Loop ran 13 times with 6 insertions!\n"
     ]
    },
    {
     "data": {
      "text/plain": [
       "([1, 2, 3, 4, 5, 7, 8, 9, 10], (13, 6))"
      ]
     },
     "execution_count": 92,
     "metadata": {},
     "output_type": "execute_result"
    }
   ],
   "source": [
    "x = [5, 1, 2, 4, 7, 3, 8, 9, 10]\n",
    "insertion_sort_visual(x)"
   ]
  },
  {
   "cell_type": "markdown",
   "id": "cd55112e-fa56-4222-8e99-d972f803b3fd",
   "metadata": {
    "tags": []
   },
   "source": [
    "## Questions"
   ]
  },
  {
   "cell_type": "markdown",
   "id": "29776b1c-937f-4a58-95f5-d14079cd56c8",
   "metadata": {
    "tags": []
   },
   "source": [
    "### Question 1"
   ]
  },
  {
   "cell_type": "markdown",
   "id": "fd29e921-2a34-43d5-bbd8-e9ba6c409f78",
   "metadata": {},
   "source": []
  },
  {
   "cell_type": "markdown",
   "id": "8f35f8fb-f16c-4898-8fbc-2d983d38cbab",
   "metadata": {
    "jp-MarkdownHeadingCollapsed": true,
    "tags": []
   },
   "source": [
    "##### Solution"
   ]
  },
  {
   "cell_type": "markdown",
   "id": "34fc44a4-2f57-403c-aaab-89561cb83e50",
   "metadata": {},
   "source": [
    "# Topic"
   ]
  },
  {
   "cell_type": "markdown",
   "id": "0e1ffeec-2498-4908-9ff5-8b1a2fbd2985",
   "metadata": {
    "jp-MarkdownHeadingCollapsed": true,
    "tags": []
   },
   "source": [
    "## Theory"
   ]
  },
  {
   "cell_type": "markdown",
   "id": "1e37a86a-3269-41d1-9eb2-0713912574b5",
   "metadata": {
    "tags": []
   },
   "source": [
    "## Questions"
   ]
  },
  {
   "cell_type": "markdown",
   "id": "f2228c86-4ea8-4b8b-9268-e18ee6ec007e",
   "metadata": {
    "tags": []
   },
   "source": [
    "### Question 1"
   ]
  },
  {
   "cell_type": "markdown",
   "id": "59c8ae65-cc74-4444-a006-b908fc36b50e",
   "metadata": {},
   "source": []
  },
  {
   "cell_type": "markdown",
   "id": "31de5040-9f40-4aac-901f-0cad768e5e56",
   "metadata": {
    "jp-MarkdownHeadingCollapsed": true,
    "tags": []
   },
   "source": [
    "##### Solution"
   ]
  },
  {
   "cell_type": "markdown",
   "id": "18121a19-7fde-494f-90aa-b42a39d172e0",
   "metadata": {},
   "source": [
    "# Topic"
   ]
  },
  {
   "cell_type": "markdown",
   "id": "e6a25349-0f32-4bdd-a9ac-3bbbfc8f249d",
   "metadata": {
    "jp-MarkdownHeadingCollapsed": true,
    "tags": []
   },
   "source": [
    "## Theory"
   ]
  },
  {
   "cell_type": "markdown",
   "id": "d617e402-6fec-4798-8ad1-49e608b9aecd",
   "metadata": {
    "tags": []
   },
   "source": [
    "## Questions"
   ]
  },
  {
   "cell_type": "markdown",
   "id": "c84d01e1-49fb-4bce-92a5-afeabbff79b2",
   "metadata": {
    "tags": []
   },
   "source": [
    "### Question 1"
   ]
  },
  {
   "cell_type": "markdown",
   "id": "d4399417-7653-4c61-bdd9-589ba04cd4ca",
   "metadata": {},
   "source": []
  },
  {
   "cell_type": "markdown",
   "id": "26407a14-e320-4529-94e9-d7a865cebfbc",
   "metadata": {
    "jp-MarkdownHeadingCollapsed": true,
    "tags": []
   },
   "source": [
    "##### Solution"
   ]
  },
  {
   "cell_type": "markdown",
   "id": "f8721369-a643-414c-9cfb-7fdbf12bf808",
   "metadata": {},
   "source": [
    "# Topic"
   ]
  },
  {
   "cell_type": "markdown",
   "id": "0d04b3ae-f0e8-48b5-979f-e1e2664f0362",
   "metadata": {
    "jp-MarkdownHeadingCollapsed": true,
    "tags": []
   },
   "source": [
    "## Theory"
   ]
  },
  {
   "cell_type": "markdown",
   "id": "23f1be25-a2fc-4e55-a942-dd2ee8f2629a",
   "metadata": {
    "tags": []
   },
   "source": [
    "## Questions"
   ]
  },
  {
   "cell_type": "markdown",
   "id": "3985e503-2511-4919-a558-17b8fb7f066c",
   "metadata": {
    "tags": []
   },
   "source": [
    "### Question 1"
   ]
  },
  {
   "cell_type": "markdown",
   "id": "2b4bdfca-03d9-4591-9f72-33aa4b697fa5",
   "metadata": {},
   "source": []
  },
  {
   "cell_type": "markdown",
   "id": "10ca70ee-6748-4c4c-91b3-c6f1c8d75b13",
   "metadata": {
    "jp-MarkdownHeadingCollapsed": true,
    "tags": []
   },
   "source": [
    "##### Solution"
   ]
  },
  {
   "cell_type": "markdown",
   "id": "25555a1a-0123-47b9-9d78-578c295f427f",
   "metadata": {},
   "source": [
    "# Topic"
   ]
  }
 ],
 "metadata": {
  "kernelspec": {
   "display_name": "Python 3 (ipykernel)",
   "language": "python",
   "name": "python3"
  },
  "language_info": {
   "codemirror_mode": {
    "name": "ipython",
    "version": 3
   },
   "file_extension": ".py",
   "mimetype": "text/x-python",
   "name": "python",
   "nbconvert_exporter": "python",
   "pygments_lexer": "ipython3",
   "version": "3.9.12"
  },
  "vscode": {
   "interpreter": {
    "hash": "935f14679552b7ed0d9a0235b9885cdb22dc837e42e90f9da9ac0cd3081692a0"
   }
  },
  "widgets": {
   "application/vnd.jupyter.widget-state+json": {
    "state": {},
    "version_major": 2,
    "version_minor": 0
   }
  }
 },
 "nbformat": 4,
 "nbformat_minor": 5
}
