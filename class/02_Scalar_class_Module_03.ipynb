{
 "cells": [
  {
   "cell_type": "markdown",
   "id": "71746041-26ae-482f-8939-9e4f55388014",
   "metadata": {
    "tags": []
   },
   "source": [
    "# Pattern Printing"
   ]
  },
  {
   "cell_type": "markdown",
   "id": "3521bcb9-6371-47b8-b906-ebffa4316548",
   "metadata": {
    "jp-MarkdownHeadingCollapsed": true,
    "tags": []
   },
   "source": [
    "## Questions"
   ]
  },
  {
   "cell_type": "markdown",
   "id": "4a3825df-b335-47fd-a9c0-c16a910a8f44",
   "metadata": {
    "jp-MarkdownHeadingCollapsed": true,
    "tags": []
   },
   "source": [
    "### Question 1\n",
    "\n",
    "    Print the following pattern:\n",
    "    n = 5\n",
    "\n",
    "    *\n",
    "    **\n",
    "    ***\n",
    "    ****\n",
    "    *****"
   ]
  },
  {
   "cell_type": "code",
   "execution_count": 10,
   "id": "fde98387-4752-43fe-9e2d-e4202952455b",
   "metadata": {},
   "outputs": [
    {
     "name": "stdout",
     "output_type": "stream",
     "text": [
      " 5\n",
      "*\n",
      "**\n",
      "***\n",
      "****\n",
      "*****\n"
     ]
    }
   ],
   "source": [
    "x = int(input())\n",
    "for i in range(1,x+1):\n",
    "    for j in range(1,i+1):\n",
    "         print(\"*\", end=\"\")\n",
    "    print()"
   ]
  },
  {
   "cell_type": "markdown",
   "id": "2c17f12c-caad-4b8d-868c-bcdfde449f3c",
   "metadata": {
    "jp-MarkdownHeadingCollapsed": true,
    "tags": []
   },
   "source": [
    "### Question 2\n",
    "\n",
    "    print the following pattern:\n",
    "    n=5\n",
    "    \n",
    "    1\n",
    "    12\n",
    "    123\n",
    "    1234\n",
    "    12345"
   ]
  },
  {
   "cell_type": "code",
   "execution_count": 14,
   "id": "906c292e-2d7b-4d9e-a1f7-d1c8f989bd03",
   "metadata": {
    "tags": []
   },
   "outputs": [
    {
     "name": "stdout",
     "output_type": "stream",
     "text": [
      " 5\n",
      "1\n",
      "12\n",
      "123\n",
      "1234\n",
      "12345\n"
     ]
    }
   ],
   "source": [
    "x = int(input())\n",
    "for i in range(1,x+1):\n",
    "    for j in range(1,i+1):\n",
    "         print(j, end=\"\")\n",
    "    print()"
   ]
  },
  {
   "cell_type": "code",
   "execution_count": 16,
   "id": "0d7f3342-e8e3-49f8-bc6d-f225c3442a5f",
   "metadata": {},
   "outputs": [
    {
     "name": "stdout",
     "output_type": "stream",
     "text": [
      " 5\n",
      "\n",
      "1\n",
      "12\n",
      "123\n",
      "1234\n",
      "12345\n"
     ]
    }
   ],
   "source": [
    "x = int(input())\n",
    "for i in range(x+1):\n",
    "    for j in range(i):\n",
    "         print(j+1, end=\"\")\n",
    "    print()"
   ]
  },
  {
   "cell_type": "markdown",
   "id": "42f11244-2915-45b7-ad0b-23a2fc1041d9",
   "metadata": {
    "jp-MarkdownHeadingCollapsed": true,
    "tags": []
   },
   "source": [
    "### Question 3\n",
    "    print the following pattern:\n",
    "    n=5\n",
    "    \n",
    "    *\n",
    "    *2\n",
    "    *2*\n",
    "    *2*4\n",
    "    *2*4*"
   ]
  },
  {
   "cell_type": "code",
   "execution_count": 21,
   "id": "70505bed-7bc1-42c9-97aa-6dfb23443125",
   "metadata": {},
   "outputs": [
    {
     "name": "stdout",
     "output_type": "stream",
     "text": [
      " 5\n",
      "*\n",
      "*2\n",
      "*2*\n",
      "*2*4\n",
      "*2*4*\n"
     ]
    }
   ],
   "source": [
    "x = int(input())\n",
    "for i in range(1,x+1):\n",
    "    for j in range(1,i+1):\n",
    "        if j%2:\n",
    "            print(\"*\", end=\"\")\n",
    "        else:\n",
    "            print(j, end=\"\")\n",
    "    print()"
   ]
  },
  {
   "cell_type": "markdown",
   "id": "9edab4cd-cc55-428d-bb3e-93799334f296",
   "metadata": {
    "jp-MarkdownHeadingCollapsed": true,
    "tags": []
   },
   "source": [
    "### Question 4\n",
    "    print the following pattern:\n",
    "    n=5\n",
    "    Blanks before * are empty spaces\n",
    "    \n",
    "        *\n",
    "       **\n",
    "      ***\n",
    "     ****\n",
    "    *****\n",
    "    \n",
    "    Blanks before * are empty spaces"
   ]
  },
  {
   "cell_type": "code",
   "execution_count": 25,
   "id": "848ea322-55e2-4fe2-a8e3-b09229cc0522",
   "metadata": {},
   "outputs": [
    {
     "name": "stdout",
     "output_type": "stream",
     "text": [
      " 5\n",
      "    *\n",
      "   **\n",
      "  ***\n",
      " ****\n",
      "*****\n"
     ]
    }
   ],
   "source": [
    "n = int(input())\n",
    "for i in range(1,n+1):\n",
    "    for j in range(1,n-i+1):\n",
    "        print(\" \", end=\"\")\n",
    "    for j in range(n-i+1,n+1):\n",
    "        print(\"*\", end=\"\")\n",
    "    print()"
   ]
  },
  {
   "cell_type": "markdown",
   "id": "728993ab-6caf-47b7-a453-4f7b95fd30cf",
   "metadata": {
    "jp-MarkdownHeadingCollapsed": true,
    "tags": []
   },
   "source": [
    "### Question 5\n",
    "    print the following pattern:\n",
    "    n=5\n",
    "    \n",
    "    *****\n",
    "    ****\n",
    "    ***\n",
    "    **\n",
    "    *"
   ]
  },
  {
   "cell_type": "code",
   "execution_count": 28,
   "id": "911f0ed5-2c65-4349-9f85-635580c4dc56",
   "metadata": {},
   "outputs": [
    {
     "name": "stdout",
     "output_type": "stream",
     "text": [
      " 5\n",
      "*****\n",
      "****\n",
      "***\n",
      "**\n",
      "*\n"
     ]
    }
   ],
   "source": [
    "n = int(input())\n",
    "for i in range(n,0,-1):\n",
    "    for j in range(i,0,-1):\n",
    "        print(\"*\", end=\"\")\n",
    "    print()"
   ]
  },
  {
   "cell_type": "markdown",
   "id": "9fef8e19-493a-4eba-a6ca-20bf9fdb9d68",
   "metadata": {
    "jp-MarkdownHeadingCollapsed": true,
    "tags": []
   },
   "source": [
    "## HW"
   ]
  },
  {
   "cell_type": "markdown",
   "id": "fe6c069e-1216-4d01-98fe-308328a70c9a",
   "metadata": {},
   "source": [
    "Beyond the scope of this class for now. Attempt after 2D List completion or explore and try. Refer to Notion notebook or Lecture Notebook for pattern in question."
   ]
  },
  {
   "cell_type": "markdown",
   "id": "6fdb03b0-dd02-4432-a0f3-678eb9e6ca35",
   "metadata": {},
   "source": [
    "# Functions"
   ]
  },
  {
   "cell_type": "markdown",
   "id": "5807e109-0b75-4e86-96e7-b637c7dd9f9e",
   "metadata": {},
   "source": [
    "* Functions with multiple arguments will always take values as per the order  of the arguments.\n",
    "* No of values must match with no of arguments.\n",
    "* Use Docstring to explain the functions or code.\n",
    "* help(function) will print the docstring for that function.\n",
    "* If no value is returned in function then it will return None.\n",
    "* print only displays. It never generates an actual output. Use return function for that.\n",
    "* return is the last statement that executes in a function. Functioning very similar to break."
   ]
  },
  {
   "cell_type": "markdown",
   "id": "b19f3c92-90e5-425a-ab1e-0c6e6855660f",
   "metadata": {
    "jp-MarkdownHeadingCollapsed": true,
    "tags": []
   },
   "source": [
    "### Docstring"
   ]
  },
  {
   "cell_type": "code",
   "execution_count": 51,
   "id": "dce3eca3-2c3f-4bbf-a0c0-75db4055f377",
   "metadata": {},
   "outputs": [],
   "source": [
    "def demo_add(a,b):\n",
    "    '''\n",
    "    This is a demo function doing summation and showcasing the\n",
    "    docstring use-case.\n",
    "    \n",
    "    :param a,b int: Two numbers(arguments) which are to be added\n",
    "    \n",
    "    :return sum int: Sum of a & b \n",
    "    '''\n",
    "    sum = a+b\n",
    "    return sum"
   ]
  },
  {
   "cell_type": "code",
   "execution_count": 52,
   "id": "eb785189-5c0b-46d3-8ce3-8c66c1e3ee17",
   "metadata": {},
   "outputs": [
    {
     "data": {
      "text/plain": [
       "10"
      ]
     },
     "execution_count": 52,
     "metadata": {},
     "output_type": "execute_result"
    }
   ],
   "source": [
    "demo_add(4,6)"
   ]
  },
  {
   "cell_type": "code",
   "execution_count": 53,
   "id": "79174ace-a397-4cb4-aed6-0c2e48c8e9de",
   "metadata": {},
   "outputs": [
    {
     "name": "stdout",
     "output_type": "stream",
     "text": [
      "Help on function demo_add in module __main__:\n",
      "\n",
      "demo_add(a, b)\n",
      "    This is a demo function doing summation and showcasing the\n",
      "    docstring use-case.\n",
      "    \n",
      "    :param a,b int: Two numbers(arguments) which are to be added\n",
      "    \n",
      "    :return sum int: Sum of a & b\n",
      "\n"
     ]
    }
   ],
   "source": [
    "help(demo_add)"
   ]
  },
  {
   "cell_type": "code",
   "execution_count": 54,
   "id": "d010af4b-e5ae-427d-a286-32fcf9b5dc76",
   "metadata": {},
   "outputs": [],
   "source": [
    "def add_two(a, b):\n",
    "    '''\n",
    "    Arguments - \n",
    "    a: Int or String\n",
    "    b: Int or String\n",
    "    \n",
    "    Note - Please do not enter mixed data types i.e. both integers or both strings\n",
    "    \n",
    "    Output - \n",
    "    Str + Str -> Concatenation\n",
    "    Int + Int -> Addition\n",
    "    '''\n",
    "    \n",
    "    result = a + b\n",
    "    print(result)"
   ]
  },
  {
   "cell_type": "code",
   "execution_count": 55,
   "id": "d4ee3141-c54d-46eb-8701-f1098def19ad",
   "metadata": {},
   "outputs": [
    {
     "name": "stdout",
     "output_type": "stream",
     "text": [
      "Help on function add_two in module __main__:\n",
      "\n",
      "add_two(a, b)\n",
      "    Arguments - \n",
      "    a: Int or String\n",
      "    b: Int or String\n",
      "    \n",
      "    Note - Please do not enter mixed data types i.e. both integers or both strings\n",
      "    \n",
      "    Output - \n",
      "    Str + Str -> Concatenation\n",
      "    Int + Int -> Addition\n",
      "\n"
     ]
    }
   ],
   "source": [
    "help(add_two)"
   ]
  },
  {
   "cell_type": "markdown",
   "id": "ed6ce9cf",
   "metadata": {},
   "source": [
    "## Questions"
   ]
  },
  {
   "cell_type": "markdown",
   "id": "339d4752",
   "metadata": {
    "jp-MarkdownHeadingCollapsed": true,
    "tags": []
   },
   "source": [
    "### Question 1\n",
    "\n",
    "Write a piece of code which prints \"Making Tea\" five times."
   ]
  },
  {
   "cell_type": "markdown",
   "id": "4d3a03ec-f01a-499b-95ec-8daee6a59349",
   "metadata": {},
   "source": [
    "loop inside the function"
   ]
  },
  {
   "cell_type": "code",
   "execution_count": 3,
   "id": "2e384ff1",
   "metadata": {},
   "outputs": [],
   "source": [
    "def Making_Tea():\n",
    "    for i in range(5):\n",
    "        print(\"Make  Chai\")"
   ]
  },
  {
   "cell_type": "code",
   "execution_count": 4,
   "id": "60c74563",
   "metadata": {},
   "outputs": [
    {
     "name": "stdout",
     "output_type": "stream",
     "text": [
      "Make  Chai\n",
      "Make  Chai\n",
      "Make  Chai\n",
      "Make  Chai\n",
      "Make  Chai\n"
     ]
    }
   ],
   "source": [
    "Making_Tea()"
   ]
  },
  {
   "cell_type": "markdown",
   "id": "b26607e0-1274-4969-9572-1772aef53c06",
   "metadata": {},
   "source": [
    "function inside the loop"
   ]
  },
  {
   "cell_type": "code",
   "execution_count": 17,
   "id": "4e96f0c4-791d-4a57-a10e-61a49f607494",
   "metadata": {},
   "outputs": [
    {
     "name": "stdout",
     "output_type": "stream",
     "text": [
      "Make Tea\n",
      "Make Tea\n",
      "Make Tea\n",
      "Make Tea\n",
      "Make Tea\n"
     ]
    }
   ],
   "source": [
    "for i in range(5):\n",
    "    def Making_Tea1():\n",
    "        print(\"Make Tea\")\n",
    "    Making_Tea1()"
   ]
  },
  {
   "cell_type": "markdown",
   "id": "b4d93d20-e865-430a-914a-900ca5eba1fb",
   "metadata": {
    "tags": []
   },
   "source": [
    "### Question 2 \n",
    "#### Sheldon Knock\n",
    "\n",
    "Write a function to print \"knock knock knock, {name}\"  3 times"
   ]
  },
  {
   "cell_type": "code",
   "execution_count": 36,
   "id": "b71ded0d",
   "metadata": {},
   "outputs": [
    {
     "name": "stdin",
     "output_type": "stream",
     "text": [
      "Enter the name:  Penny\n"
     ]
    }
   ],
   "source": [
    "name = input(\"Enter the name: \")\n",
    "\n",
    "def sheldon_knock(name):\n",
    "    for i in range(3):\n",
    "        print(\"Knock! Knock! Knock! \", name,\"!!\", sep=\"\")"
   ]
  },
  {
   "cell_type": "code",
   "execution_count": 37,
   "id": "652e51e8",
   "metadata": {},
   "outputs": [
    {
     "name": "stdout",
     "output_type": "stream",
     "text": [
      "Knock! Knock! Knock! Penny!!\n",
      "Knock! Knock! Knock! Penny!!\n",
      "Knock! Knock! Knock! Penny!!\n"
     ]
    }
   ],
   "source": [
    "sheldon_knock(name)"
   ]
  },
  {
   "cell_type": "code",
   "execution_count": 38,
   "id": "18b989da-36e7-429b-97ec-e5a191318f6d",
   "metadata": {},
   "outputs": [],
   "source": [
    "def sheldon_knock(name):\n",
    "    for i in range(3):\n",
    "        print(\"Knock! Knock! Knock! \", name,\"!!\", sep=\"\")"
   ]
  },
  {
   "cell_type": "code",
   "execution_count": 41,
   "id": "5dc75c3a-19af-4ed0-b164-bf048987ea0f",
   "metadata": {},
   "outputs": [
    {
     "name": "stdout",
     "output_type": "stream",
     "text": [
      "Knock! Knock! Knock! Howard!!\n",
      "Knock! Knock! Knock! Howard!!\n",
      "Knock! Knock! Knock! Howard!!\n"
     ]
    }
   ],
   "source": [
    "name = \"Howard\"\n",
    "sheldon_knock(name)"
   ]
  },
  {
   "cell_type": "code",
   "execution_count": null,
   "id": "e208094e-8a1f-4820-a791-bd839b6a4d3d",
   "metadata": {},
   "outputs": [],
   "source": []
  }
 ],
 "metadata": {
  "kernelspec": {
   "display_name": "Python 3 (ipykernel)",
   "language": "python",
   "name": "python3"
  },
  "language_info": {
   "codemirror_mode": {
    "name": "ipython",
    "version": 3
   },
   "file_extension": ".py",
   "mimetype": "text/x-python",
   "name": "python",
   "nbconvert_exporter": "python",
   "pygments_lexer": "ipython3",
   "version": "3.9.12"
  },
  "vscode": {
   "interpreter": {
    "hash": "935f14679552b7ed0d9a0235b9885cdb22dc837e42e90f9da9ac0cd3081692a0"
   }
  },
  "widgets": {
   "application/vnd.jupyter.widget-state+json": {
    "state": {},
    "version_major": 2,
    "version_minor": 0
   }
  }
 },
 "nbformat": 4,
 "nbformat_minor": 5
}
