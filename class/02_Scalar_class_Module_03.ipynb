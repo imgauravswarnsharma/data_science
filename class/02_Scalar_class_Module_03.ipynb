{
 "cells": [
  {
   "cell_type": "markdown",
   "id": "71746041-26ae-482f-8939-9e4f55388014",
   "metadata": {
    "tags": []
   },
   "source": [
    "# Pattern Printing"
   ]
  },
  {
   "cell_type": "markdown",
   "id": "3521bcb9-6371-47b8-b906-ebffa4316548",
   "metadata": {
    "tags": []
   },
   "source": [
    "### Questions"
   ]
  },
  {
   "cell_type": "markdown",
   "id": "4a3825df-b335-47fd-a9c0-c16a910a8f44",
   "metadata": {
    "jp-MarkdownHeadingCollapsed": true,
    "tags": []
   },
   "source": [
    "##### Question 1\n",
    "\n",
    "    Print the following pattern:\n",
    "    n = 5\n",
    "\n",
    "    *\n",
    "    **\n",
    "    ***\n",
    "    ****\n",
    "    *****"
   ]
  },
  {
   "cell_type": "code",
   "execution_count": 10,
   "id": "fde98387-4752-43fe-9e2d-e4202952455b",
   "metadata": {},
   "outputs": [
    {
     "name": "stdin",
     "output_type": "stream",
     "text": [
      " 5\n"
     ]
    },
    {
     "name": "stdout",
     "output_type": "stream",
     "text": [
      "*\n",
      "**\n",
      "***\n",
      "****\n",
      "*****\n"
     ]
    }
   ],
   "source": [
    "x = int(input())\n",
    "for i in range(1,x+1):\n",
    "    for j in range(1,i+1):\n",
    "         print(\"*\", end=\"\")\n",
    "    print()"
   ]
  },
  {
   "cell_type": "markdown",
   "id": "2c17f12c-caad-4b8d-868c-bcdfde449f3c",
   "metadata": {
    "jp-MarkdownHeadingCollapsed": true,
    "tags": []
   },
   "source": [
    "##### Question 2\n",
    "\n",
    "    print the following pattern:\n",
    "    n=5\n",
    "    \n",
    "    1\n",
    "    12\n",
    "    123\n",
    "    1234\n",
    "    12345"
   ]
  },
  {
   "cell_type": "code",
   "execution_count": 14,
   "id": "906c292e-2d7b-4d9e-a1f7-d1c8f989bd03",
   "metadata": {
    "tags": []
   },
   "outputs": [
    {
     "name": "stdin",
     "output_type": "stream",
     "text": [
      " 5\n"
     ]
    },
    {
     "name": "stdout",
     "output_type": "stream",
     "text": [
      "1\n",
      "12\n",
      "123\n",
      "1234\n",
      "12345\n"
     ]
    }
   ],
   "source": [
    "x = int(input())\n",
    "for i in range(1,x+1):\n",
    "    for j in range(1,i+1):\n",
    "         print(j, end=\"\")\n",
    "    print()"
   ]
  },
  {
   "cell_type": "code",
   "execution_count": 16,
   "id": "0d7f3342-e8e3-49f8-bc6d-f225c3442a5f",
   "metadata": {},
   "outputs": [
    {
     "name": "stdin",
     "output_type": "stream",
     "text": [
      " 5\n"
     ]
    },
    {
     "name": "stdout",
     "output_type": "stream",
     "text": [
      "\n",
      "1\n",
      "12\n",
      "123\n",
      "1234\n",
      "12345\n"
     ]
    }
   ],
   "source": [
    "x = int(input())\n",
    "for i in range(x+1):\n",
    "    for j in range(i):\n",
    "         print(j+1, end=\"\")\n",
    "    print()"
   ]
  },
  {
   "cell_type": "markdown",
   "id": "42f11244-2915-45b7-ad0b-23a2fc1041d9",
   "metadata": {
    "jp-MarkdownHeadingCollapsed": true,
    "tags": []
   },
   "source": [
    "##### Question 3\n",
    "    print the following pattern:\n",
    "    n=5\n",
    "    \n",
    "    *\n",
    "    *2\n",
    "    *2*\n",
    "    *2*4\n",
    "    *2*4*"
   ]
  },
  {
   "cell_type": "code",
   "execution_count": 21,
   "id": "70505bed-7bc1-42c9-97aa-6dfb23443125",
   "metadata": {},
   "outputs": [
    {
     "name": "stdin",
     "output_type": "stream",
     "text": [
      " 5\n"
     ]
    },
    {
     "name": "stdout",
     "output_type": "stream",
     "text": [
      "*\n",
      "*2\n",
      "*2*\n",
      "*2*4\n",
      "*2*4*\n"
     ]
    }
   ],
   "source": [
    "x = int(input())\n",
    "for i in range(1,x+1):\n",
    "    for j in range(1,i+1):\n",
    "        if j%2:\n",
    "            print(\"*\", end=\"\")\n",
    "        else:\n",
    "            print(j, end=\"\")\n",
    "    print()"
   ]
  },
  {
   "cell_type": "markdown",
   "id": "9edab4cd-cc55-428d-bb3e-93799334f296",
   "metadata": {
    "jp-MarkdownHeadingCollapsed": true,
    "tags": []
   },
   "source": [
    "##### Question 4\n",
    "    print the following pattern:\n",
    "    n=5\n",
    "    Blanks before * are empty spaces\n",
    "    \n",
    "        *\n",
    "       **\n",
    "      ***\n",
    "     ****\n",
    "    *****\n",
    "    \n",
    "    Blanks before * are empty spaces"
   ]
  },
  {
   "cell_type": "code",
   "execution_count": 25,
   "id": "848ea322-55e2-4fe2-a8e3-b09229cc0522",
   "metadata": {},
   "outputs": [
    {
     "name": "stdin",
     "output_type": "stream",
     "text": [
      " 5\n"
     ]
    },
    {
     "name": "stdout",
     "output_type": "stream",
     "text": [
      "    *\n",
      "   **\n",
      "  ***\n",
      " ****\n",
      "*****\n"
     ]
    }
   ],
   "source": [
    "n = int(input())\n",
    "for i in range(1,n+1):\n",
    "    for j in range(1,n-i+1):\n",
    "        print(\" \", end=\"\")\n",
    "    for j in range(n-i+1,n+1):\n",
    "        print(\"*\", end=\"\")\n",
    "    print()"
   ]
  },
  {
   "cell_type": "markdown",
   "id": "728993ab-6caf-47b7-a453-4f7b95fd30cf",
   "metadata": {
    "jp-MarkdownHeadingCollapsed": true,
    "tags": []
   },
   "source": [
    "##### Question 5\n",
    "    print the following pattern:\n",
    "    n=5\n",
    "    \n",
    "    *****\n",
    "    ****\n",
    "    ***\n",
    "    **\n",
    "    *"
   ]
  },
  {
   "cell_type": "code",
   "execution_count": 28,
   "id": "911f0ed5-2c65-4349-9f85-635580c4dc56",
   "metadata": {},
   "outputs": [
    {
     "name": "stdin",
     "output_type": "stream",
     "text": [
      " 5\n"
     ]
    },
    {
     "name": "stdout",
     "output_type": "stream",
     "text": [
      "*****\n",
      "****\n",
      "***\n",
      "**\n",
      "*\n"
     ]
    }
   ],
   "source": [
    "n = int(input())\n",
    "for i in range(n,0,-1):\n",
    "    for j in range(i,0,-1):\n",
    "        print(\"*\", end=\"\")\n",
    "    print()"
   ]
  },
  {
   "cell_type": "markdown",
   "id": "9fef8e19-493a-4eba-a6ca-20bf9fdb9d68",
   "metadata": {},
   "source": [
    "##### HW"
   ]
  },
  {
   "cell_type": "markdown",
   "id": "fe6c069e-1216-4d01-98fe-308328a70c9a",
   "metadata": {},
   "source": [
    "Beyond the scope of this class for now. Attempt after 2D List completion or explore and try. Refer to Notion notebook or Lecture Notebook for pattern in question."
   ]
  },
  {
   "cell_type": "code",
   "execution_count": null,
   "id": "6fdb03b0-dd02-4432-a0f3-678eb9e6ca35",
   "metadata": {},
   "outputs": [],
   "source": []
  }
 ],
 "metadata": {
  "kernelspec": {
   "display_name": "Python 3 (ipykernel)",
   "language": "python",
   "name": "python3"
  },
  "language_info": {
   "codemirror_mode": {
    "name": "ipython",
    "version": 3
   },
   "file_extension": ".py",
   "mimetype": "text/x-python",
   "name": "python",
   "nbconvert_exporter": "python",
   "pygments_lexer": "ipython3",
   "version": "3.10.6"
  },
  "widgets": {
   "application/vnd.jupyter.widget-state+json": {
    "state": {},
    "version_major": 2,
    "version_minor": 0
   }
  }
 },
 "nbformat": 4,
 "nbformat_minor": 5
}
