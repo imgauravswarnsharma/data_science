{
 "cells": [
  {
   "cell_type": "markdown",
   "id": "71746041-26ae-482f-8939-9e4f55388014",
   "metadata": {
    "tags": []
   },
   "source": [
    "# Pattern Printing"
   ]
  },
  {
   "cell_type": "markdown",
   "id": "3521bcb9-6371-47b8-b906-ebffa4316548",
   "metadata": {
    "jp-MarkdownHeadingCollapsed": true,
    "tags": []
   },
   "source": [
    "## Questions"
   ]
  },
  {
   "cell_type": "markdown",
   "id": "4a3825df-b335-47fd-a9c0-c16a910a8f44",
   "metadata": {
    "jp-MarkdownHeadingCollapsed": true,
    "tags": []
   },
   "source": [
    "### Question 1\n",
    "\n",
    "    Print the following pattern:\n",
    "    n = 5\n",
    "\n",
    "    *\n",
    "    **\n",
    "    ***\n",
    "    ****\n",
    "    *****"
   ]
  },
  {
   "cell_type": "code",
   "execution_count": 10,
   "id": "fde98387-4752-43fe-9e2d-e4202952455b",
   "metadata": {},
   "outputs": [
    {
     "name": "stdout",
     "output_type": "stream",
     "text": [
      " 5\n",
      "*\n",
      "**\n",
      "***\n",
      "****\n",
      "*****\n"
     ]
    }
   ],
   "source": [
    "x = int(input())\n",
    "for i in range(1,x+1):\n",
    "    for j in range(1,i+1):\n",
    "         print(\"*\", end=\"\")\n",
    "    print()"
   ]
  },
  {
   "cell_type": "markdown",
   "id": "2c17f12c-caad-4b8d-868c-bcdfde449f3c",
   "metadata": {
    "jp-MarkdownHeadingCollapsed": true,
    "tags": []
   },
   "source": [
    "### Question 2\n",
    "\n",
    "    print the following pattern:\n",
    "    n=5\n",
    "    \n",
    "    1\n",
    "    12\n",
    "    123\n",
    "    1234\n",
    "    12345"
   ]
  },
  {
   "cell_type": "code",
   "execution_count": 14,
   "id": "906c292e-2d7b-4d9e-a1f7-d1c8f989bd03",
   "metadata": {
    "tags": []
   },
   "outputs": [
    {
     "name": "stdout",
     "output_type": "stream",
     "text": [
      " 5\n",
      "1\n",
      "12\n",
      "123\n",
      "1234\n",
      "12345\n"
     ]
    }
   ],
   "source": [
    "x = int(input())\n",
    "for i in range(1,x+1):\n",
    "    for j in range(1,i+1):\n",
    "         print(j, end=\"\")\n",
    "    print()"
   ]
  },
  {
   "cell_type": "code",
   "execution_count": 16,
   "id": "0d7f3342-e8e3-49f8-bc6d-f225c3442a5f",
   "metadata": {},
   "outputs": [
    {
     "name": "stdout",
     "output_type": "stream",
     "text": [
      " 5\n",
      "\n",
      "1\n",
      "12\n",
      "123\n",
      "1234\n",
      "12345\n"
     ]
    }
   ],
   "source": [
    "x = int(input())\n",
    "for i in range(x+1):\n",
    "    for j in range(i):\n",
    "         print(j+1, end=\"\")\n",
    "    print()"
   ]
  },
  {
   "cell_type": "markdown",
   "id": "42f11244-2915-45b7-ad0b-23a2fc1041d9",
   "metadata": {
    "jp-MarkdownHeadingCollapsed": true,
    "tags": []
   },
   "source": [
    "### Question 3\n",
    "    print the following pattern:\n",
    "    n=5\n",
    "    \n",
    "    *\n",
    "    *2\n",
    "    *2*\n",
    "    *2*4\n",
    "    *2*4*"
   ]
  },
  {
   "cell_type": "code",
   "execution_count": 21,
   "id": "70505bed-7bc1-42c9-97aa-6dfb23443125",
   "metadata": {},
   "outputs": [
    {
     "name": "stdout",
     "output_type": "stream",
     "text": [
      " 5\n",
      "*\n",
      "*2\n",
      "*2*\n",
      "*2*4\n",
      "*2*4*\n"
     ]
    }
   ],
   "source": [
    "x = int(input())\n",
    "for i in range(1,x+1):\n",
    "    for j in range(1,i+1):\n",
    "        if j%2:\n",
    "            print(\"*\", end=\"\")\n",
    "        else:\n",
    "            print(j, end=\"\")\n",
    "    print()"
   ]
  },
  {
   "cell_type": "markdown",
   "id": "9edab4cd-cc55-428d-bb3e-93799334f296",
   "metadata": {
    "jp-MarkdownHeadingCollapsed": true,
    "tags": []
   },
   "source": [
    "### Question 4\n",
    "    print the following pattern:\n",
    "    n=5\n",
    "    Blanks before * are empty spaces\n",
    "    \n",
    "        *\n",
    "       **\n",
    "      ***\n",
    "     ****\n",
    "    *****\n",
    "    \n",
    "    Blanks before * are empty spaces"
   ]
  },
  {
   "cell_type": "code",
   "execution_count": 25,
   "id": "848ea322-55e2-4fe2-a8e3-b09229cc0522",
   "metadata": {},
   "outputs": [
    {
     "name": "stdout",
     "output_type": "stream",
     "text": [
      " 5\n",
      "    *\n",
      "   **\n",
      "  ***\n",
      " ****\n",
      "*****\n"
     ]
    }
   ],
   "source": [
    "n = int(input())\n",
    "for i in range(1,n+1):\n",
    "    for j in range(1,n-i+1):\n",
    "        print(\" \", end=\"\")\n",
    "    for j in range(n-i+1,n+1):\n",
    "        print(\"*\", end=\"\")\n",
    "    print()"
   ]
  },
  {
   "cell_type": "markdown",
   "id": "728993ab-6caf-47b7-a453-4f7b95fd30cf",
   "metadata": {
    "jp-MarkdownHeadingCollapsed": true,
    "tags": []
   },
   "source": [
    "### Question 5\n",
    "    print the following pattern:\n",
    "    n=5\n",
    "    \n",
    "    *****\n",
    "    ****\n",
    "    ***\n",
    "    **\n",
    "    *"
   ]
  },
  {
   "cell_type": "code",
   "execution_count": 28,
   "id": "911f0ed5-2c65-4349-9f85-635580c4dc56",
   "metadata": {},
   "outputs": [
    {
     "name": "stdout",
     "output_type": "stream",
     "text": [
      " 5\n",
      "*****\n",
      "****\n",
      "***\n",
      "**\n",
      "*\n"
     ]
    }
   ],
   "source": [
    "n = int(input())\n",
    "for i in range(n,0,-1):\n",
    "    for j in range(i,0,-1):\n",
    "        print(\"*\", end=\"\")\n",
    "    print()"
   ]
  },
  {
   "cell_type": "markdown",
   "id": "9fef8e19-493a-4eba-a6ca-20bf9fdb9d68",
   "metadata": {
    "tags": []
   },
   "source": [
    "## HW"
   ]
  },
  {
   "cell_type": "markdown",
   "id": "fe6c069e-1216-4d01-98fe-308328a70c9a",
   "metadata": {},
   "source": [
    "Beyond the scope of this class for now. Attempt after 2D List completion or explore and try. Refer to Notion notebook or Lecture Notebook for pattern in question."
   ]
  },
  {
   "cell_type": "markdown",
   "id": "10cd408c-84c1-4ec2-8936-faaeb474c838",
   "metadata": {},
   "source": [
    " Print the following Pattern for n>0 :  \n",
    " For eg: n=5\n",
    " \n",
    "    5 5 5 5 5\n",
    "    5 4 4 4 5\n",
    "    5 4 3 4 5\n",
    "    5 4 4 4 5\n",
    "    5 5 5 5 5\n",
    "    \n",
    "n=6\n",
    "\n",
    "    6 6 6 6 6 6\n",
    "    6 5 5 5 5 6\n",
    "    6 5 4 4 5 6\n",
    "    6 5 4 4 5 6\n",
    "    6 5 5 5 5 6\n",
    "    6 6 6 6 6 6"
   ]
  },
  {
   "cell_type": "code",
   "execution_count": 86,
   "id": "53fa9607-9210-4b1a-b9c7-482677c7ba7d",
   "metadata": {},
   "outputs": [
    {
     "name": "stdin",
     "output_type": "stream",
     "text": [
      "Enter the integer for grid size:  9\n"
     ]
    }
   ],
   "source": [
    "n = int(input(\"Enter the integer for grid size: \"))"
   ]
  },
  {
   "cell_type": "code",
   "execution_count": 10,
   "id": "d49b779c-713b-46fe-844b-7b318840b172",
   "metadata": {},
   "outputs": [
    {
     "name": "stdin",
     "output_type": "stream",
     "text": [
      "Enter the integer for grid size:  9\n"
     ]
    },
    {
     "name": "stdout",
     "output_type": "stream",
     "text": [
      "\n",
      "9 9 9 9 9 9 9 9 9 \n",
      "9 8 8 8 8 8 8 8 9 \n",
      "9 8 7 7 7 7 7 8 9 \n",
      "9 8 7 6 6 6 7 8 9 \n",
      "9 8 7 6 5 6 7 8 9 \n",
      "9 8 7 6 6 6 7 8 9 \n",
      "9 8 7 7 7 7 7 8 9 \n",
      "9 8 8 8 8 8 8 8 9 \n",
      "9 9 9 9 9 9 9 9 9 "
     ]
    }
   ],
   "source": [
    "n = int(input(\"Enter the integer for grid size: \"))\n",
    "\n",
    "import math\n",
    "ceil_n = math.ceil(n/2)\n",
    "for i in range(n):\n",
    "    print()\n",
    "    temp=n\n",
    "    for j in range(n):\n",
    "        if i>=0 and i<ceil_n:\n",
    "            if j>=0 and j<ceil_n:\n",
    "                print(temp, end=\" \")\n",
    "                if temp>n-i:\n",
    "                    temp-=1\n",
    "            elif j==ceil_n:\n",
    "                if temp==ceil_n:\n",
    "                    temp +=1\n",
    "                    print(temp, end=\" \")\n",
    "                else:\n",
    "                    print(temp, end=\" \")\n",
    "                    #\n",
    "            elif j>ceil_n and j<n:\n",
    "                if j < n-i:\n",
    "                    print(temp, end=\" \")\n",
    "                else:\n",
    "                    temp +=1\n",
    "                    print(temp, end=\" \")\n",
    "        #\n",
    "        elif i>= ceil_n and i<n:\n",
    "            if j>=0 and j<ceil_n:\n",
    "                if temp > i+1:\n",
    "                    print(temp, end=\" \")\n",
    "                    temp-=1                    \n",
    "                else:\n",
    "                    print(temp, end=\" \")\n",
    "            elif j>=ceil_n and j<=n:\n",
    "                if j < i:\n",
    "                    print(temp, end=\" \")\n",
    "                elif j >=i:\n",
    "                    print(temp, end=\" \")\n",
    "                    temp +=1           "
   ]
  },
  {
   "cell_type": "code",
   "execution_count": 5,
   "id": "8e223477-bd31-495d-b92d-8d592c3a3ac8",
   "metadata": {},
   "outputs": [
    {
     "name": "stdin",
     "output_type": "stream",
     "text": [
      "Enter the integer for grid size:  9\n"
     ]
    }
   ],
   "source": []
  },
  {
   "cell_type": "code",
   "execution_count": 19,
   "id": "9f60654d-b4b1-4250-9bba-a29dc529b4eb",
   "metadata": {},
   "outputs": [
    {
     "name": "stdin",
     "output_type": "stream",
     "text": [
      "Enter the integer for grid size:  5\n"
     ]
    },
    {
     "ename": "IndexError",
     "evalue": "list assignment index out of range",
     "output_type": "error",
     "traceback": [
      "\u001b[1;31m------------------------------------------------------------------------\u001b[0m",
      "\u001b[1;31mIndexError\u001b[0m                             Traceback (most recent call last)",
      "Cell \u001b[1;32mIn[19], line 9\u001b[0m\n\u001b[0;32m      7\u001b[0m     a[j]\u001b[38;5;241m=\u001b[39mtemp_n\n\u001b[0;32m      8\u001b[0m \u001b[38;5;28;01melse\u001b[39;00m:\n\u001b[1;32m----> 9\u001b[0m     a[j]\u001b[38;5;241m=\u001b[39mtemp_n\n\u001b[0;32m     10\u001b[0m     temp_n\u001b[38;5;241m-\u001b[39m\u001b[38;5;241m=\u001b[39m\u001b[38;5;241m1\u001b[39m\n",
      "\u001b[1;31mIndexError\u001b[0m: list assignment index out of range"
     ]
    }
   ],
   "source": [
    "n = int(input(\"Enter the integer for grid size: \"))\n",
    "a=[]*n\n",
    "for i in range(n):\n",
    "    temp_n = n\n",
    "    for j in range(n):\n",
    "        if temp_n>n-i:\n",
    "            a[j]=temp_n\n",
    "        else:\n",
    "            a[j]=temp_n\n",
    "            temp_n-=1\n",
    "        "
   ]
  },
  {
   "cell_type": "code",
   "execution_count": 4,
   "id": "7154d348-8fd6-4150-82cc-31e2f2cae6eb",
   "metadata": {},
   "outputs": [
    {
     "data": {
      "text/plain": [
       "3"
      ]
     },
     "execution_count": 4,
     "metadata": {},
     "output_type": "execute_result"
    }
   ],
   "source": [
    "ceil_n"
   ]
  },
  {
   "cell_type": "code",
   "execution_count": 21,
   "id": "33f3aa50-c0ef-4915-acad-2d299fb392f0",
   "metadata": {},
   "outputs": [
    {
     "ename": "SyntaxError",
     "evalue": "invalid syntax (3926977913.py, line 1)",
     "output_type": "error",
     "traceback": [
      "\u001b[1;36m  Cell \u001b[1;32mIn[21], line 1\u001b[1;36m\u001b[0m\n\u001b[1;33m    len(a[])\u001b[0m\n\u001b[1;37m          ^\u001b[0m\n\u001b[1;31mSyntaxError\u001b[0m\u001b[1;31m:\u001b[0m invalid syntax\n"
     ]
    }
   ],
   "source": []
  },
  {
   "cell_type": "markdown",
   "id": "6fdb03b0-dd02-4432-a0f3-678eb9e6ca35",
   "metadata": {
    "jp-MarkdownHeadingCollapsed": true,
    "tags": []
   },
   "source": [
    "# Functions 1"
   ]
  },
  {
   "cell_type": "markdown",
   "id": "5807e109-0b75-4e86-96e7-b637c7dd9f9e",
   "metadata": {},
   "source": [
    "* Functions with multiple arguments will always take values as per the order  of the arguments.\n",
    "* No of values must match with no of arguments.\n",
    "* Use Docstring to explain the functions or code.\n",
    "* help(function) will print the docstring for that function.\n",
    "* If no value is returned in function then it will return None.\n",
    "* print only displays the output. It never generates an actual output. Use return function for that.\n",
    "* return is the last statement that executes in a function. Functioning very similar to break.\n",
    "* If there is no return in a function then it will return None."
   ]
  },
  {
   "cell_type": "markdown",
   "id": "b19f3c92-90e5-425a-ab1e-0c6e6855660f",
   "metadata": {
    "jp-MarkdownHeadingCollapsed": true,
    "tags": []
   },
   "source": [
    "### Docstring"
   ]
  },
  {
   "cell_type": "code",
   "execution_count": 51,
   "id": "dce3eca3-2c3f-4bbf-a0c0-75db4055f377",
   "metadata": {},
   "outputs": [],
   "source": [
    "def demo_add(a,b):\n",
    "    '''\n",
    "    This is a demo function doing summation and showcasing the\n",
    "    docstring use-case.\n",
    "    \n",
    "    :param a,b int: Two numbers(arguments) which are to be added\n",
    "    \n",
    "    :return sum int: Sum of a & b \n",
    "    '''\n",
    "    sum = a+b\n",
    "    return sum"
   ]
  },
  {
   "cell_type": "code",
   "execution_count": 52,
   "id": "eb785189-5c0b-46d3-8ce3-8c66c1e3ee17",
   "metadata": {},
   "outputs": [
    {
     "data": {
      "text/plain": [
       "10"
      ]
     },
     "execution_count": 52,
     "metadata": {},
     "output_type": "execute_result"
    }
   ],
   "source": [
    "demo_add(4,6)"
   ]
  },
  {
   "cell_type": "code",
   "execution_count": 53,
   "id": "79174ace-a397-4cb4-aed6-0c2e48c8e9de",
   "metadata": {},
   "outputs": [
    {
     "name": "stdout",
     "output_type": "stream",
     "text": [
      "Help on function demo_add in module __main__:\n",
      "\n",
      "demo_add(a, b)\n",
      "    This is a demo function doing summation and showcasing the\n",
      "    docstring use-case.\n",
      "    \n",
      "    :param a,b int: Two numbers(arguments) which are to be added\n",
      "    \n",
      "    :return sum int: Sum of a & b\n",
      "\n"
     ]
    }
   ],
   "source": [
    "help(demo_add)"
   ]
  },
  {
   "cell_type": "code",
   "execution_count": 54,
   "id": "d010af4b-e5ae-427d-a286-32fcf9b5dc76",
   "metadata": {},
   "outputs": [],
   "source": [
    "def add_two(a, b):\n",
    "    '''\n",
    "    Arguments - \n",
    "    a: Int or String\n",
    "    b: Int or String\n",
    "    \n",
    "    Note - Please do not enter mixed data types i.e. both integers or both strings\n",
    "    \n",
    "    Output - \n",
    "    Str + Str -> Concatenation\n",
    "    Int + Int -> Addition\n",
    "    '''\n",
    "    \n",
    "    result = a + b\n",
    "    print(result)"
   ]
  },
  {
   "cell_type": "code",
   "execution_count": 55,
   "id": "d4ee3141-c54d-46eb-8701-f1098def19ad",
   "metadata": {},
   "outputs": [
    {
     "name": "stdout",
     "output_type": "stream",
     "text": [
      "Help on function add_two in module __main__:\n",
      "\n",
      "add_two(a, b)\n",
      "    Arguments - \n",
      "    a: Int or String\n",
      "    b: Int or String\n",
      "    \n",
      "    Note - Please do not enter mixed data types i.e. both integers or both strings\n",
      "    \n",
      "    Output - \n",
      "    Str + Str -> Concatenation\n",
      "    Int + Int -> Addition\n",
      "\n"
     ]
    }
   ],
   "source": [
    "help(add_two)"
   ]
  },
  {
   "cell_type": "markdown",
   "id": "ed6ce9cf",
   "metadata": {
    "tags": []
   },
   "source": [
    "## Questions"
   ]
  },
  {
   "cell_type": "markdown",
   "id": "339d4752",
   "metadata": {
    "jp-MarkdownHeadingCollapsed": true,
    "tags": []
   },
   "source": [
    "### Question 1\n",
    "\n",
    "Write a piece of code which prints \"Making Tea\" five times."
   ]
  },
  {
   "cell_type": "markdown",
   "id": "4d3a03ec-f01a-499b-95ec-8daee6a59349",
   "metadata": {},
   "source": [
    "loop inside the function"
   ]
  },
  {
   "cell_type": "code",
   "execution_count": 3,
   "id": "2e384ff1",
   "metadata": {},
   "outputs": [],
   "source": [
    "def Making_Tea():\n",
    "    for i in range(5):\n",
    "        print(\"Make  Chai\")"
   ]
  },
  {
   "cell_type": "code",
   "execution_count": 4,
   "id": "60c74563",
   "metadata": {},
   "outputs": [
    {
     "name": "stdout",
     "output_type": "stream",
     "text": [
      "Make  Chai\n",
      "Make  Chai\n",
      "Make  Chai\n",
      "Make  Chai\n",
      "Make  Chai\n"
     ]
    }
   ],
   "source": [
    "Making_Tea()"
   ]
  },
  {
   "cell_type": "markdown",
   "id": "b26607e0-1274-4969-9572-1772aef53c06",
   "metadata": {},
   "source": [
    "function inside the loop"
   ]
  },
  {
   "cell_type": "code",
   "execution_count": 17,
   "id": "4e96f0c4-791d-4a57-a10e-61a49f607494",
   "metadata": {},
   "outputs": [
    {
     "name": "stdout",
     "output_type": "stream",
     "text": [
      "Make Tea\n",
      "Make Tea\n",
      "Make Tea\n",
      "Make Tea\n",
      "Make Tea\n"
     ]
    }
   ],
   "source": [
    "for i in range(5):\n",
    "    def Making_Tea1():\n",
    "        print(\"Make Tea\")\n",
    "    Making_Tea1()"
   ]
  },
  {
   "cell_type": "markdown",
   "id": "b4d93d20-e865-430a-914a-900ca5eba1fb",
   "metadata": {
    "jp-MarkdownHeadingCollapsed": true,
    "tags": []
   },
   "source": [
    "### Question 2 \n",
    "#### Sheldon Knock\n",
    "\n",
    "Write a function to print \"knock knock knock, {name}\"  3 times"
   ]
  },
  {
   "cell_type": "code",
   "execution_count": 36,
   "id": "b71ded0d",
   "metadata": {},
   "outputs": [
    {
     "name": "stdin",
     "output_type": "stream",
     "text": [
      "Enter the name:  Penny\n"
     ]
    }
   ],
   "source": [
    "name = input(\"Enter the name: \")\n",
    "\n",
    "def sheldon_knock(name):\n",
    "    for i in range(3):\n",
    "        print(\"Knock! Knock! Knock! \", name,\"!!\", sep=\"\")"
   ]
  },
  {
   "cell_type": "code",
   "execution_count": 37,
   "id": "652e51e8",
   "metadata": {},
   "outputs": [
    {
     "name": "stdout",
     "output_type": "stream",
     "text": [
      "Knock! Knock! Knock! Penny!!\n",
      "Knock! Knock! Knock! Penny!!\n",
      "Knock! Knock! Knock! Penny!!\n"
     ]
    }
   ],
   "source": [
    "sheldon_knock(name)"
   ]
  },
  {
   "cell_type": "code",
   "execution_count": 38,
   "id": "18b989da-36e7-429b-97ec-e5a191318f6d",
   "metadata": {},
   "outputs": [],
   "source": [
    "def sheldon_knock(name):\n",
    "    for i in range(3):\n",
    "        print(\"Knock! Knock! Knock! \", name,\"!!\", sep=\"\")"
   ]
  },
  {
   "cell_type": "code",
   "execution_count": 41,
   "id": "5dc75c3a-19af-4ed0-b164-bf048987ea0f",
   "metadata": {},
   "outputs": [
    {
     "name": "stdout",
     "output_type": "stream",
     "text": [
      "Knock! Knock! Knock! Howard!!\n",
      "Knock! Knock! Knock! Howard!!\n",
      "Knock! Knock! Knock! Howard!!\n"
     ]
    }
   ],
   "source": [
    "name = \"Howard\"\n",
    "sheldon_knock(name)"
   ]
  },
  {
   "cell_type": "markdown",
   "id": "700cbb54-f095-4c33-bb75-e065ef00ca8a",
   "metadata": {
    "jp-MarkdownHeadingCollapsed": true,
    "tags": []
   },
   "source": [
    "# Functions 2"
   ]
  },
  {
   "cell_type": "markdown",
   "id": "039fb44a-58ad-4312-9b36-81b864a3134d",
   "metadata": {
    "jp-MarkdownHeadingCollapsed": true,
    "tags": []
   },
   "source": [
    "### Args"
   ]
  },
  {
   "cell_type": "markdown",
   "id": "daaceafc-ef90-40b4-b7a4-21fad5e31199",
   "metadata": {
    "jp-MarkdownHeadingCollapsed": true,
    "tags": []
   },
   "source": [
    "#### Keyworded and Positional Args"
   ]
  },
  {
   "cell_type": "code",
   "execution_count": 13,
   "id": "f9682c99-a567-4cdb-be4e-0baf773a98a7",
   "metadata": {},
   "outputs": [],
   "source": [
    "def arg_demo(arg1, arg2, arg3):\n",
    "    print(arg1, arg2, arg3)"
   ]
  },
  {
   "cell_type": "markdown",
   "id": "266f0b08-b39a-4e1e-8440-5b131beb4d35",
   "metadata": {},
   "source": [
    "* Positional arg's values must follow the order of the args."
   ]
  },
  {
   "cell_type": "code",
   "execution_count": 18,
   "id": "c09bf018-aba0-4ce6-bd57-a8dbeee5880e",
   "metadata": {},
   "outputs": [
    {
     "name": "stdout",
     "output_type": "stream",
     "text": [
      "value1 value2 value3\n"
     ]
    }
   ],
   "source": [
    "arg_demo(\"value1\", \"value2\", \"value3\")\n",
    "#This is positional arg demo"
   ]
  },
  {
   "cell_type": "markdown",
   "id": "17dd9a55-7f62-471a-b117-a47272df3c8b",
   "metadata": {},
   "source": [
    "* With keyword args you don't necessarily need to follow the order of args."
   ]
  },
  {
   "cell_type": "code",
   "execution_count": 19,
   "id": "e8537624-d45e-4536-84d5-ebc15c4a9ec9",
   "metadata": {},
   "outputs": [
    {
     "name": "stdout",
     "output_type": "stream",
     "text": [
      "value3 value2 value3\n"
     ]
    }
   ],
   "source": [
    "arg_demo(arg2=\"value2\", arg1=\"value3\", arg3=\"value3\")\n",
    "#This is Keyworded arg demo"
   ]
  },
  {
   "cell_type": "markdown",
   "id": "7b9f7611-bc21-44ec-ba89-b6956b6392ef",
   "metadata": {},
   "source": [
    "* positional args after keyworded args is not allowed."
   ]
  },
  {
   "cell_type": "code",
   "execution_count": 27,
   "id": "e1b4a39a-2a97-4d2a-b6b9-e370d5b1d2ef",
   "metadata": {},
   "outputs": [
    {
     "ename": "SyntaxError",
     "evalue": "positional argument follows keyword argument (3555017215.py, line 1)",
     "output_type": "error",
     "traceback": [
      "\u001b[1;36m  Cell \u001b[1;32mIn[27], line 1\u001b[1;36m\u001b[0m\n\u001b[1;33m    arg_demo(arg2=\"value2\", arg1=\"value3\", \"value3\")\u001b[0m\n\u001b[1;37m                                                   ^\u001b[0m\n\u001b[1;31mSyntaxError\u001b[0m\u001b[1;31m:\u001b[0m positional argument follows keyword argument\n"
     ]
    }
   ],
   "source": [
    "arg_demo(arg2=\"value2\", arg1=\"value3\", \"value3\")\n",
    "#value 3 kis keyword arg following positional args, hence not allowed"
   ]
  },
  {
   "cell_type": "markdown",
   "id": "78724830-5191-4e6f-823a-bc90bf33d79d",
   "metadata": {},
   "source": [
    "* Keyworded args after positional arg is allowed. But there shouldn't be any duplication or conflicting values. "
   ]
  },
  {
   "cell_type": "code",
   "execution_count": 28,
   "id": "ed9d4f5e-f740-4bf3-b290-ca2b66360f1d",
   "metadata": {},
   "outputs": [
    {
     "name": "stdout",
     "output_type": "stream",
     "text": [
      "value2 value3 value3\n"
     ]
    }
   ],
   "source": [
    "arg_demo(\"value2\", arg2=\"value3\", arg3=\"value3\")\n",
    "#keywordrd args follows positional args without any duplication of\n",
    "#arguments."
   ]
  },
  {
   "cell_type": "code",
   "execution_count": 29,
   "id": "64bbd310-9aef-47a9-8420-50f340f41fbf",
   "metadata": {},
   "outputs": [
    {
     "ename": "TypeError",
     "evalue": "arg_demo() got multiple values for argument 'arg1'",
     "output_type": "error",
     "traceback": [
      "\u001b[1;31m---------------------------------------------------------------------------\u001b[0m",
      "\u001b[1;31mTypeError\u001b[0m                                 Traceback (most recent call last)",
      "Cell \u001b[1;32mIn[29], line 1\u001b[0m\n\u001b[1;32m----> 1\u001b[0m \u001b[43marg_demo\u001b[49m\u001b[43m(\u001b[49m\u001b[38;5;124;43m\"\u001b[39;49m\u001b[38;5;124;43mvalue2\u001b[39;49m\u001b[38;5;124;43m\"\u001b[39;49m\u001b[43m,\u001b[49m\u001b[43m \u001b[49m\u001b[43marg1\u001b[49m\u001b[38;5;241;43m=\u001b[39;49m\u001b[38;5;124;43m\"\u001b[39;49m\u001b[38;5;124;43mvalue3\u001b[39;49m\u001b[38;5;124;43m\"\u001b[39;49m\u001b[43m,\u001b[49m\u001b[43m \u001b[49m\u001b[43marg3\u001b[49m\u001b[38;5;241;43m=\u001b[39;49m\u001b[38;5;124;43m\"\u001b[39;49m\u001b[38;5;124;43mvalue3\u001b[39;49m\u001b[38;5;124;43m\"\u001b[39;49m\u001b[43m)\u001b[49m\n",
      "\u001b[1;31mTypeError\u001b[0m: arg_demo() got multiple values for argument 'arg1'"
     ]
    }
   ],
   "source": [
    "arg_demo(\"value2\", arg1=\"value3\", arg3=\"value3\")\n",
    "#Duplication of arg1 in keyworded arg after postional arg.\n",
    "#hence not allowed"
   ]
  },
  {
   "cell_type": "markdown",
   "id": "e8338403-e583-4511-9727-d420ddf99001",
   "metadata": {
    "jp-MarkdownHeadingCollapsed": true,
    "tags": []
   },
   "source": [
    "#### Default args (Optional args)"
   ]
  },
  {
   "cell_type": "markdown",
   "id": "6afc9183-368f-4487-83a1-b779b42b6a4a",
   "metadata": {},
   "source": [
    "* args which have already defined values are optional arguments.\n",
    "* If optional arg is not provided then it wll take the default value\n",
    "* default args must always defined at the end. Hence, non-default args must not follow default args."
   ]
  },
  {
   "cell_type": "code",
   "execution_count": 31,
   "id": "2d2f3e7b-2e31-462f-b7d6-f267c0418685",
   "metadata": {},
   "outputs": [],
   "source": [
    "def arg_demo(arg1, arg2, arg3=\"default\"):\n",
    "    print(arg1, arg2, arg3)"
   ]
  },
  {
   "cell_type": "code",
   "execution_count": 33,
   "id": "3071bfe6-aa96-4a86-9631-dd9f5bea885a",
   "metadata": {},
   "outputs": [
    {
     "name": "stdout",
     "output_type": "stream",
     "text": [
      "value2 value3 default\n"
     ]
    }
   ],
   "source": [
    "arg_demo(\"value2\", \"value3\")\n",
    "# will print the default value of arg3 if not provided"
   ]
  },
  {
   "cell_type": "markdown",
   "id": "8c5c0ad3-c88a-4a54-be20-e298f4f3814b",
   "metadata": {
    "tags": []
   },
   "source": [
    "#### Scope"
   ]
  },
  {
   "cell_type": "markdown",
   "id": "d4d7c7fc-9f7b-4e6e-8f76-2a21a200270f",
   "metadata": {},
   "source": [
    "* Once global varaible is declared then any execution on the varaible will affect and modify it globally too."
   ]
  },
  {
   "cell_type": "code",
   "execution_count": 42,
   "id": "524483cd-e13c-473e-bb8d-0919ed30d49e",
   "metadata": {},
   "outputs": [
    {
     "name": "stdout",
     "output_type": "stream",
     "text": [
      "20\n",
      "20\n"
     ]
    }
   ],
   "source": [
    "a = 10\n",
    "\n",
    "def random():\n",
    "    global a\n",
    "    a =20\n",
    "    print(a)\n",
    "\n",
    "random()\n",
    "print(a)"
   ]
  },
  {
   "cell_type": "markdown",
   "id": "26460691-f096-4bef-a8f2-01faa1727426",
   "metadata": {},
   "source": [
    "* Once local variable is declared then you can not invoke global variable inside the function"
   ]
  },
  {
   "cell_type": "code",
   "execution_count": 43,
   "id": "e971dce4-85eb-4cc8-9a39-581321377b07",
   "metadata": {},
   "outputs": [
    {
     "ename": "SyntaxError",
     "evalue": "name 'a' is assigned to before global declaration (3231489549.py, line 5)",
     "output_type": "error",
     "traceback": [
      "\u001b[1;36m  Cell \u001b[1;32mIn[43], line 5\u001b[1;36m\u001b[0m\n\u001b[1;33m    global a\u001b[0m\n\u001b[1;37m    ^\u001b[0m\n\u001b[1;31mSyntaxError\u001b[0m\u001b[1;31m:\u001b[0m name 'a' is assigned to before global declaration\n"
     ]
    }
   ],
   "source": [
    "a = 10\n",
    "\n",
    "def random():\n",
    "    a=20\n",
    "    global a\n",
    "    print(a)\n",
    "\n",
    "random()    "
   ]
  },
  {
   "cell_type": "markdown",
   "id": "c0145de3-f828-4dbd-badd-e06089503941",
   "metadata": {
    "jp-MarkdownHeadingCollapsed": true,
    "tags": []
   },
   "source": [
    "## Questions"
   ]
  },
  {
   "cell_type": "markdown",
   "id": "169c2e7f-e3c6-444e-a76f-15f4d09d6112",
   "metadata": {
    "jp-MarkdownHeadingCollapsed": true,
    "tags": []
   },
   "source": [
    "### Question 1\n",
    "\n",
    "    create a date printing function -\n",
    "    Should take 4 arguments -> day, month, year and style\n",
    "    \n",
    "    Styling Logic —\n",
    "    style -> O -> d/m/y\n",
    "    style 1 -> m/d/y\n",
    "    style -> any other value -> Invalid Style\n",
    "\n",
    "    default style is O.\n"
   ]
  },
  {
   "cell_type": "code",
   "execution_count": 44,
   "id": "34ad2855-3c83-40fc-b911-2d532339cdfc",
   "metadata": {},
   "outputs": [
    {
     "name": "stdout",
     "output_type": "stream",
     "text": [
      "1/12/1997\n"
     ]
    }
   ],
   "source": [
    "def date_print(d, m, y, style=0):\n",
    "    if style==0:\n",
    "        print(d,m,y, sep=\"/\")\n",
    "    elif style==1:\n",
    "         print(m,d,y, sep=\"/\")\n",
    "    else:\n",
    "        print(\"Invalid\")\n",
    "\n",
    "date_print(1,12,1997,0)"
   ]
  },
  {
   "cell_type": "markdown",
   "id": "20eacb1d-6d17-481b-ad92-a1eb19d9cde8",
   "metadata": {
    "jp-MarkdownHeadingCollapsed": true,
    "tags": []
   },
   "source": [
    "# Lists 1D"
   ]
  },
  {
   "cell_type": "markdown",
   "id": "93728f75-6938-4124-bf21-5cf15ca24214",
   "metadata": {},
   "source": [
    "* Lists are mutable"
   ]
  },
  {
   "cell_type": "code",
   "execution_count": 119,
   "id": "656afd85-73e3-40e5-a138-edacd4a4338b",
   "metadata": {},
   "outputs": [],
   "source": [
    "a = [1,3,4,5]"
   ]
  },
  {
   "cell_type": "code",
   "execution_count": 120,
   "id": "3281b1e9-43ec-49ff-a9df-750252aef782",
   "metadata": {},
   "outputs": [
    {
     "data": {
      "text/plain": [
       "[1, 3, 4, 5]"
      ]
     },
     "execution_count": 120,
     "metadata": {},
     "output_type": "execute_result"
    }
   ],
   "source": [
    "a"
   ]
  },
  {
   "cell_type": "code",
   "execution_count": 121,
   "id": "61c81f8b-cfe8-45bd-998c-b8473dc63daa",
   "metadata": {},
   "outputs": [],
   "source": [
    "a[0]=2 #changing the value of index 0"
   ]
  },
  {
   "cell_type": "code",
   "execution_count": 122,
   "id": "4a2dbcc1-429f-487e-beb5-d14aca561a39",
   "metadata": {},
   "outputs": [
    {
     "data": {
      "text/plain": [
       "[2, 3, 4, 5]"
      ]
     },
     "execution_count": 122,
     "metadata": {},
     "output_type": "execute_result"
    }
   ],
   "source": [
    "a"
   ]
  },
  {
   "cell_type": "code",
   "execution_count": 3,
   "id": "652b223b-00cc-48d9-b12b-16a17a75984d",
   "metadata": {},
   "outputs": [],
   "source": [
    "runs_virat = [67,54,12,34,77,89,101,123]"
   ]
  },
  {
   "cell_type": "code",
   "execution_count": 4,
   "id": "062fea82-fbae-46dd-b5d3-2aa7cc39c3b8",
   "metadata": {},
   "outputs": [
    {
     "data": {
      "text/plain": [
       "67"
      ]
     },
     "execution_count": 4,
     "metadata": {},
     "output_type": "execute_result"
    }
   ],
   "source": [
    "# Accessing value of a list by its index\n",
    "#If position is n then index in n-1. Pay attention to the language of \n",
    "#Ques.\n",
    "\n",
    "#Position is 1. Index is 0\n",
    "runs_virat[0]"
   ]
  },
  {
   "cell_type": "code",
   "execution_count": 5,
   "id": "dac2156c-0ad6-4021-aea8-5d95b6d7b299",
   "metadata": {},
   "outputs": [
    {
     "data": {
      "text/plain": [
       "8"
      ]
     },
     "execution_count": 5,
     "metadata": {},
     "output_type": "execute_result"
    }
   ],
   "source": [
    "#To get number of values in a list\n",
    "len(runs_virat)"
   ]
  },
  {
   "cell_type": "markdown",
   "id": "b2571840-823b-46e9-a7a5-83ea9c466cd4",
   "metadata": {
    "jp-MarkdownHeadingCollapsed": true,
    "tags": []
   },
   "source": [
    "#### Negative Indexing"
   ]
  },
  {
   "cell_type": "code",
   "execution_count": 6,
   "id": "e1521c1d-7681-418b-91ad-320dcb852c77",
   "metadata": {},
   "outputs": [
    {
     "data": {
      "text/plain": [
       "123"
      ]
     },
     "execution_count": 6,
     "metadata": {},
     "output_type": "execute_result"
    }
   ],
   "source": [
    "#Accessing the value of the list using negative Indexing\n",
    "runs_virat[-1]"
   ]
  },
  {
   "cell_type": "code",
   "execution_count": 7,
   "id": "5b20a117-9ff7-4d5b-bc58-deb204cab0a9",
   "metadata": {},
   "outputs": [
    {
     "data": {
      "text/plain": [
       "67"
      ]
     },
     "execution_count": 7,
     "metadata": {},
     "output_type": "execute_result"
    }
   ],
   "source": [
    "runs_virat[-len(runs_virat)]"
   ]
  },
  {
   "cell_type": "markdown",
   "id": "f8a78517-5577-428f-ba79-8f86676b5d26",
   "metadata": {
    "jp-MarkdownHeadingCollapsed": true,
    "tags": []
   },
   "source": [
    "####  Index\n",
    "* Returns the index position of first occurence of value"
   ]
  },
  {
   "cell_type": "code",
   "execution_count": 22,
   "id": "2445a179-bb6d-4db1-a09e-00d15c25cceb",
   "metadata": {},
   "outputs": [
    {
     "data": {
      "text/plain": [
       "3"
      ]
     },
     "execution_count": 22,
     "metadata": {},
     "output_type": "execute_result"
    }
   ],
   "source": [
    "runs = [67,54,34,12,77,89,101,123,12]\n",
    "runs.index(12)"
   ]
  },
  {
   "cell_type": "markdown",
   "id": "8ce7a8ba-ead8-405f-ab99-bb5055d1fbd2",
   "metadata": {
    "jp-MarkdownHeadingCollapsed": true,
    "tags": []
   },
   "source": [
    "#### Count\n",
    "* Returns the no of occurence of element in a list"
   ]
  },
  {
   "cell_type": "code",
   "execution_count": 23,
   "id": "9c9b5cf3-05e9-4612-9921-745d224a6ccb",
   "metadata": {},
   "outputs": [
    {
     "data": {
      "text/plain": [
       "2"
      ]
     },
     "execution_count": 23,
     "metadata": {},
     "output_type": "execute_result"
    }
   ],
   "source": [
    "runs.count(12)"
   ]
  },
  {
   "cell_type": "markdown",
   "id": "ef827480-aefa-4ac8-b54d-7ff16d744a39",
   "metadata": {
    "jp-MarkdownHeadingCollapsed": true,
    "tags": []
   },
   "source": [
    "#### Append\n",
    "* Adds an element to the end of the list"
   ]
  },
  {
   "cell_type": "code",
   "execution_count": null,
   "id": "2e79c2c7-fa65-4355-9fd1-06254fa4b151",
   "metadata": {},
   "outputs": [],
   "source": []
  },
  {
   "cell_type": "code",
   "execution_count": 39,
   "id": "c925f743-d0d3-4d0e-a358-37a832fd80eb",
   "metadata": {},
   "outputs": [],
   "source": [
    "runs = [67,54,12,34,77,89,101,123]\n",
    "runs.append(71)"
   ]
  },
  {
   "cell_type": "code",
   "execution_count": 40,
   "id": "c8c2f3de-809e-4d16-8b35-0eacb83771f5",
   "metadata": {},
   "outputs": [
    {
     "data": {
      "text/plain": [
       "[67, 54, 12, 34, 77, 89, 101, 123, 71]"
      ]
     },
     "execution_count": 40,
     "metadata": {},
     "output_type": "execute_result"
    }
   ],
   "source": [
    "runs"
   ]
  },
  {
   "cell_type": "markdown",
   "id": "7d5b1d04-b4fb-416e-8548-fdf9fbf80888",
   "metadata": {
    "tags": []
   },
   "source": [
    "#### Insert\n",
    "* Adds an element to a list at any index\n",
    "* Changes the index of the list's values by one after the insertion position."
   ]
  },
  {
   "cell_type": "code",
   "execution_count": 41,
   "id": "e2a5b97f-9dae-45a7-ad2d-ad947ab536cd",
   "metadata": {},
   "outputs": [],
   "source": [
    "#Adding a value at 1 index\n",
    "runs.insert(1,15)"
   ]
  },
  {
   "cell_type": "code",
   "execution_count": 42,
   "id": "69a749b1-044e-4e4b-84b1-7ff6fbc356f8",
   "metadata": {},
   "outputs": [
    {
     "data": {
      "text/plain": [
       "[67, 15, 54, 12, 34, 77, 89, 101, 123, 71]"
      ]
     },
     "execution_count": 42,
     "metadata": {},
     "output_type": "execute_result"
    }
   ],
   "source": [
    "runs"
   ]
  },
  {
   "cell_type": "markdown",
   "id": "e6363d8c-d538-48ec-b9be-1ed2e0c442e2",
   "metadata": {
    "tags": []
   },
   "source": [
    "#### Extend\n",
    "* Adding multiple elements to the end of the list simultaneously "
   ]
  },
  {
   "cell_type": "code",
   "execution_count": 43,
   "id": "e1a06447-bc48-42bf-86fc-5f61f590acc7",
   "metadata": {},
   "outputs": [],
   "source": [
    "runs_4=[1,2,3,4]\n",
    "runs.extend(runs_4)"
   ]
  },
  {
   "cell_type": "code",
   "execution_count": 44,
   "id": "5764d254-8400-4969-adf9-26143c8b3aba",
   "metadata": {},
   "outputs": [
    {
     "data": {
      "text/plain": [
       "[67, 15, 54, 12, 34, 77, 89, 101, 123, 71, 1, 2, 3, 4]"
      ]
     },
     "execution_count": 44,
     "metadata": {},
     "output_type": "execute_result"
    }
   ],
   "source": [
    "runs"
   ]
  },
  {
   "cell_type": "code",
   "execution_count": 49,
   "id": "d4ae556f-f691-4f7b-8a0c-2484d5bc20bc",
   "metadata": {},
   "outputs": [],
   "source": [
    "# Concatenating two lists. Same as Extend.\n",
    "runs = [67,54,12,34,77,89,101,123]\n",
    "runs = runs + [56,99]"
   ]
  },
  {
   "cell_type": "code",
   "execution_count": 50,
   "id": "2a026363-9ac4-4e5f-abed-00adf750012a",
   "metadata": {},
   "outputs": [
    {
     "data": {
      "text/plain": [
       "[67, 54, 12, 34, 77, 89, 101, 123, 56, 99]"
      ]
     },
     "execution_count": 50,
     "metadata": {},
     "output_type": "execute_result"
    }
   ],
   "source": [
    "runs"
   ]
  },
  {
   "cell_type": "code",
   "execution_count": 51,
   "id": "55a01e34-cbd1-4a52-8a4e-6226dfc2edf7",
   "metadata": {},
   "outputs": [
    {
     "data": {
      "text/plain": [
       "[1, 2, 3, 4, 5, 6]"
      ]
     },
     "execution_count": 51,
     "metadata": {},
     "output_type": "execute_result"
    }
   ],
   "source": [
    "[1,2,3]+[4,5,6]"
   ]
  },
  {
   "cell_type": "markdown",
   "id": "3ca82771-be23-4367-9da7-9c272406a64a",
   "metadata": {
    "tags": []
   },
   "source": [
    "#### Delete\n",
    "* Pop by the undex and remove by the value\n",
    "##### Pop\n",
    "* Removes an element using an index - last by default\n",
    "##### remove\n",
    "* Delete an elemnt using a value\n",
    "* In case of duplicate values, it will remove the first occurence only\n",
    "* It does not return the deleted value"
   ]
  },
  {
   "cell_type": "markdown",
   "id": "d42ecf69-e006-4dde-abb9-ef9f0070e35b",
   "metadata": {},
   "source": [
    "pop and remove"
   ]
  },
  {
   "cell_type": "code",
   "execution_count": 103,
   "id": "e0661742-35f4-42ec-b341-d49e257daa8c",
   "metadata": {},
   "outputs": [
    {
     "data": {
      "text/plain": [
       "[67, 54, 12, 34, 77, 89, 101, 123, 56, 99]"
      ]
     },
     "execution_count": 103,
     "metadata": {},
     "output_type": "execute_result"
    }
   ],
   "source": [
    "runs"
   ]
  },
  {
   "cell_type": "code",
   "execution_count": 104,
   "id": "66e759fa-3785-46fc-9544-6c61d986b535",
   "metadata": {},
   "outputs": [
    {
     "data": {
      "text/plain": [
       "99"
      ]
     },
     "execution_count": 104,
     "metadata": {},
     "output_type": "execute_result"
    }
   ],
   "source": [
    "#Removing the last element i.e. 99\n",
    "runs.pop()"
   ]
  },
  {
   "cell_type": "code",
   "execution_count": 105,
   "id": "e0b2baaf-3c58-42cf-bf0e-0195c38f2710",
   "metadata": {},
   "outputs": [
    {
     "data": {
      "text/plain": [
       "[67, 54, 12, 34, 77, 89, 101, 123, 56]"
      ]
     },
     "execution_count": 105,
     "metadata": {},
     "output_type": "execute_result"
    }
   ],
   "source": [
    "runs"
   ]
  },
  {
   "cell_type": "code",
   "execution_count": 106,
   "id": "f5c34181-7632-4316-a191-5cd76a4df69b",
   "metadata": {},
   "outputs": [],
   "source": [
    "runs.remove(67)"
   ]
  },
  {
   "cell_type": "code",
   "execution_count": 107,
   "id": "ab40ab1b-f22a-4323-8234-8d7a529b9e86",
   "metadata": {},
   "outputs": [
    {
     "data": {
      "text/plain": [
       "[54, 12, 34, 77, 89, 101, 123, 56]"
      ]
     },
     "execution_count": 107,
     "metadata": {},
     "output_type": "execute_result"
    }
   ],
   "source": [
    "runs"
   ]
  },
  {
   "cell_type": "code",
   "execution_count": 110,
   "id": "83ac4635-9386-49e4-b0a9-6757ed661446",
   "metadata": {},
   "outputs": [
    {
     "data": {
      "text/plain": [
       "[7, 8, 7]"
      ]
     },
     "execution_count": 110,
     "metadata": {},
     "output_type": "execute_result"
    }
   ],
   "source": [
    "remove_list=[7,7,8,7]\n",
    "remove_list.remove(7) #Will remove only the first occurence\n",
    "remove_list"
   ]
  },
  {
   "cell_type": "code",
   "execution_count": null,
   "id": "5695b300-246e-4983-b1d9-3091996a8810",
   "metadata": {},
   "outputs": [],
   "source": []
  },
  {
   "cell_type": "markdown",
   "id": "9fe0c450-626c-4302-8e48-11af609e700f",
   "metadata": {
    "jp-MarkdownHeadingCollapsed": true,
    "tags": []
   },
   "source": [
    "## Questions"
   ]
  },
  {
   "cell_type": "markdown",
   "id": "210189fa-6a67-48c2-89e3-764ba335a91d",
   "metadata": {
    "jp-MarkdownHeadingCollapsed": true,
    "tags": []
   },
   "source": [
    "### Question 1\n",
    "    Print total Of runs scored by Virat Odd numbered matches."
   ]
  },
  {
   "cell_type": "code",
   "execution_count": 78,
   "id": "e3c098fb-9f74-4060-92d2-924fddb95db3",
   "metadata": {},
   "outputs": [
    {
     "name": "stdout",
     "output_type": "stream",
     "text": [
      "257\n"
     ]
    }
   ],
   "source": [
    "sum=0\n",
    "for i in range(0,len(runs_virat),2):\n",
    "    sum+=runs_virat[i]\n",
    "print(sum)"
   ]
  },
  {
   "cell_type": "markdown",
   "id": "e0de32c4-782c-4af4-89bf-b3ab2c200801",
   "metadata": {
    "tags": []
   },
   "source": [
    "### Question 2\n",
    "    runs virat = [67, 54, 12, 34, 77, 89, 101, 123]\n",
    "    In runs_virat, Calculate:\n",
    "    sum, avg, max and min runs without using any internal functions.\n",
    "    You can use the length function."
   ]
  },
  {
   "cell_type": "code",
   "execution_count": 79,
   "id": "ae7e4c0c-5999-4fc4-8a27-4071a74e9138",
   "metadata": {},
   "outputs": [
    {
     "name": "stdout",
     "output_type": "stream",
     "text": [
      "557\n",
      "69.625\n",
      "123\n",
      "12\n"
     ]
    }
   ],
   "source": [
    "runs_virat = [67,54,12,34,77,89,101,123]\n",
    "sum1 = 0\n",
    "avg1 = 0\n",
    "max1 = runs_virat[0]\n",
    "min1= runs_virat[0]\n",
    "\n",
    "for i in range(len(runs_virat)):\n",
    "    sum1 += runs_virat[i]\n",
    "    avg1 = sum1/len(runs_virat)\n",
    "\n",
    "    if max1 < runs_virat[i]:\n",
    "        max1 = runs_virat[i]\n",
    "    if min1 > runs_virat[i]:\n",
    "        min1 = runs_virat[i]\n",
    "        \n",
    "print(sum1)\n",
    "print(avg1)\n",
    "print(max1)\n",
    "print(min1)"
   ]
  },
  {
   "cell_type": "markdown",
   "id": "b7ab8b15-fe70-4729-9550-0da33be6dd22",
   "metadata": {
    "jp-MarkdownHeadingCollapsed": true,
    "tags": []
   },
   "source": [
    "##### Using custom functions"
   ]
  },
  {
   "cell_type": "code",
   "execution_count": 80,
   "id": "4947c192-612e-4201-8869-89ac4c548bb8",
   "metadata": {},
   "outputs": [],
   "source": [
    "def custom_len(a):\n",
    "    n=0\n",
    "    for i in a:\n",
    "        n+=1       \n",
    "    return n"
   ]
  },
  {
   "cell_type": "code",
   "execution_count": 81,
   "id": "ec9e2435-0bcc-4666-90e9-5f7266a73449",
   "metadata": {},
   "outputs": [
    {
     "data": {
      "text/plain": [
       "8"
      ]
     },
     "execution_count": 81,
     "metadata": {},
     "output_type": "execute_result"
    }
   ],
   "source": [
    "custom_len(runs_virat)"
   ]
  },
  {
   "cell_type": "code",
   "execution_count": 82,
   "id": "80d4b273-af4f-4e99-8c96-6bc79bcb98c6",
   "metadata": {},
   "outputs": [],
   "source": [
    "def custom_sum(a):\n",
    "    sum_list=0\n",
    "    \n",
    "    for i in a:\n",
    "        sum_list +=i\n",
    "    return sum_list"
   ]
  },
  {
   "cell_type": "code",
   "execution_count": 83,
   "id": "2dcd594a-b93b-48c0-a949-23136e708057",
   "metadata": {},
   "outputs": [
    {
     "data": {
      "text/plain": [
       "557"
      ]
     },
     "execution_count": 83,
     "metadata": {},
     "output_type": "execute_result"
    }
   ],
   "source": [
    "custom_sum(runs_virat)"
   ]
  },
  {
   "cell_type": "code",
   "execution_count": 84,
   "id": "9782f410-2158-45d5-9c02-c5acc879d36f",
   "metadata": {},
   "outputs": [],
   "source": [
    "def custom_avg(a):\n",
    "    avg = custom_sum(a)/custom_len(a)\n",
    "    return avg"
   ]
  },
  {
   "cell_type": "code",
   "execution_count": 85,
   "id": "2b4c159a-7ad9-4144-b6da-cf54180a1267",
   "metadata": {},
   "outputs": [
    {
     "data": {
      "text/plain": [
       "69.625"
      ]
     },
     "execution_count": 85,
     "metadata": {},
     "output_type": "execute_result"
    }
   ],
   "source": [
    "custom_avg(runs_virat)"
   ]
  },
  {
   "cell_type": "code",
   "execution_count": 86,
   "id": "d49e817a-5828-4a71-94ef-cf9f77a46d7b",
   "metadata": {},
   "outputs": [],
   "source": [
    "def custom_max(a):\n",
    "    max_value = a[0]\n",
    "    for i in range (1,len(a)):\n",
    "        if a[i]> max_value:\n",
    "            max_value=a[i]\n",
    "    return max_value"
   ]
  },
  {
   "cell_type": "code",
   "execution_count": 87,
   "id": "ad9583ce-c7a8-46b8-a632-91d8a2b1f625",
   "metadata": {},
   "outputs": [
    {
     "data": {
      "text/plain": [
       "123"
      ]
     },
     "execution_count": 87,
     "metadata": {},
     "output_type": "execute_result"
    }
   ],
   "source": [
    "custom_max(runs_virat)"
   ]
  },
  {
   "cell_type": "code",
   "execution_count": 88,
   "id": "9349b97c-9135-4e91-87f1-1d7757abe049",
   "metadata": {},
   "outputs": [],
   "source": [
    "def custom_min(a):\n",
    "    min_value = a[0]\n",
    "    for i in range (1,len(a)):\n",
    "        if a[i]< min_value:\n",
    "            min_value=a[i]\n",
    "    return min_value"
   ]
  },
  {
   "cell_type": "code",
   "execution_count": 89,
   "id": "e0b4c684-34fd-4db4-914c-0f8c5e4a306d",
   "metadata": {},
   "outputs": [
    {
     "data": {
      "text/plain": [
       "12"
      ]
     },
     "execution_count": 89,
     "metadata": {},
     "output_type": "execute_result"
    }
   ],
   "source": [
    "custom_min(runs_virat)"
   ]
  },
  {
   "cell_type": "markdown",
   "id": "bc516a07-c9d8-428f-a374-3ca7de2f1b6f",
   "metadata": {
    "jp-MarkdownHeadingCollapsed": true,
    "tags": []
   },
   "source": [
    "### Question 3\n",
    "Print average Of runs scored by Virat in Even numbered matches."
   ]
  },
  {
   "cell_type": "code",
   "execution_count": 102,
   "id": "e53bb2a5-2b26-4674-a3f1-c66cc89d9ce0",
   "metadata": {},
   "outputs": [
    {
     "name": "stdout",
     "output_type": "stream",
     "text": [
      "64.25\n"
     ]
    }
   ],
   "source": [
    "sum_e=0\n",
    "count=0\n",
    "for i in range(0,len(runs_virat),2):\n",
    "        sum_e+=runs_virat[i]\n",
    "        count+=1\n",
    "print(sum_e/count)"
   ]
  },
  {
   "cell_type": "markdown",
   "id": "b4578172-d9a2-4454-b4b0-389851ed7504",
   "metadata": {
    "tags": []
   },
   "source": [
    "# List Slicing"
   ]
  },
  {
   "cell_type": "markdown",
   "id": "66c3867d-3cbf-4585-a9b0-e494d29a9872",
   "metadata": {
    "jp-MarkdownHeadingCollapsed": true,
    "tags": []
   },
   "source": [
    "## Theory"
   ]
  },
  {
   "cell_type": "markdown",
   "id": "9bf39b1e-fb5f-4e6c-9534-575b8687ce17",
   "metadata": {
    "tags": []
   },
   "source": [
    "* start: end: steps/jumps\n",
    "* Positive index values and negative index values can be used together. Indexing is not mathmatical!\n",
    "* step sign decides the direction of jump."
   ]
  },
  {
   "cell_type": "markdown",
   "id": "06866e81-1891-482a-8aee-42ac848d6144",
   "metadata": {
    "tags": []
   },
   "source": [
    "####  Default Values in List Slicing"
   ]
  },
  {
   "cell_type": "markdown",
   "id": "9d991cc7-0ef0-45e8-ba66-6e759104e56e",
   "metadata": {},
   "source": [
    "##### Jump Size is Positive\n",
    "* start = 0, end = end of list, jump = 1\n",
    "* List --> [ : : 1]"
   ]
  },
  {
   "cell_type": "markdown",
   "id": "c3fd08fc-eb38-4e12-9110-2ab9d9829399",
   "metadata": {},
   "source": [
    "##### Jump Size is Negative"
   ]
  },
  {
   "cell_type": "markdown",
   "id": "a83a3ded-c5ad-42c1-979e-e0fe36ca6dc7",
   "metadata": {},
   "source": [
    "* start = len(list), end = start of list , jump = -1\n",
    "* Reverse List --> [ : : -1]"
   ]
  },
  {
   "cell_type": "markdown",
   "id": "546f3618-1e99-4358-9fb5-9787dc3f8579",
   "metadata": {
    "jp-MarkdownHeadingCollapsed": true,
    "tags": []
   },
   "source": [
    "## Questions"
   ]
  },
  {
   "cell_type": "markdown",
   "id": "8a2212f0-19f8-4468-bfe1-4c153f44393c",
   "metadata": {
    "jp-MarkdownHeadingCollapsed": true,
    "tags": []
   },
   "source": [
    "### Question 1 \n",
    "Print runs in odd numbered matches"
   ]
  },
  {
   "cell_type": "code",
   "execution_count": 124,
   "id": "b3d3736e-f1ab-4e83-91ec-3c740deb1b95",
   "metadata": {},
   "outputs": [],
   "source": [
    "runs = [62,85,71,10,12,101,122,99,81,55]"
   ]
  },
  {
   "cell_type": "code",
   "execution_count": 125,
   "id": "226fd528-cb11-427b-8d7c-94a793af1330",
   "metadata": {},
   "outputs": [
    {
     "name": "stdout",
     "output_type": "stream",
     "text": [
      "62 71 12 122 81 "
     ]
    }
   ],
   "source": [
    "for i in range(0,len(runs),2):\n",
    "        print(runs[i], end=\" \")"
   ]
  },
  {
   "cell_type": "markdown",
   "id": "ab13adfe-46ca-4500-a596-a1f362b8a81d",
   "metadata": {
    "jp-MarkdownHeadingCollapsed": true,
    "tags": []
   },
   "source": [
    "### Question 2\n",
    "\n",
    "    Given a list of all runs, make a new list of all runs made in odd numberd matches"
   ]
  },
  {
   "cell_type": "code",
   "execution_count": 128,
   "id": "e9ec39f5-f161-44dd-af47-542c923fd176",
   "metadata": {},
   "outputs": [],
   "source": [
    "run = []\n",
    "for i in range(0,len(runs),2):\n",
    "        run.append(runs[i])"
   ]
  },
  {
   "cell_type": "code",
   "execution_count": 129,
   "id": "06fea29e-f710-40a1-acbd-2b456b9ac031",
   "metadata": {},
   "outputs": [
    {
     "data": {
      "text/plain": [
       "[62, 71, 12, 122, 81]"
      ]
     },
     "execution_count": 129,
     "metadata": {},
     "output_type": "execute_result"
    }
   ],
   "source": [
    "run"
   ]
  },
  {
   "cell_type": "markdown",
   "id": "8f80a61d-c6e9-4b29-9a9c-8b00c8efe93f",
   "metadata": {
    "jp-MarkdownHeadingCollapsed": true,
    "tags": []
   },
   "source": [
    "### Question 3\n",
    "    Create a list of runs made in the last 5 matches\n",
    "    runs = [62,85,71,10,12,101,122,99,81,55]"
   ]
  },
  {
   "cell_type": "code",
   "execution_count": 132,
   "id": "4c78a6a4-a2e0-45e2-b982-b52abee1dd1a",
   "metadata": {},
   "outputs": [],
   "source": [
    "run = []\n",
    "for i in range(len(runs)-5,len(runs),1):\n",
    "        run.append(runs[i])"
   ]
  },
  {
   "cell_type": "code",
   "execution_count": 133,
   "id": "0727d6ba-7c43-4ca1-b51b-d08e5bfe26e7",
   "metadata": {},
   "outputs": [
    {
     "data": {
      "text/plain": [
       "[101, 122, 99, 81, 55]"
      ]
     },
     "execution_count": 133,
     "metadata": {},
     "output_type": "execute_result"
    }
   ],
   "source": [
    "run"
   ]
  },
  {
   "cell_type": "markdown",
   "id": "02c15092-8620-4d7e-bb1f-c02702dc655f",
   "metadata": {},
   "source": [
    "##### Alternative approach"
   ]
  },
  {
   "cell_type": "code",
   "execution_count": 136,
   "id": "c17209ad-4fa9-48eb-bdb3-00c67a407eea",
   "metadata": {},
   "outputs": [],
   "source": [
    "run = []\n",
    "for i in range(-5,0):\n",
    "        run.append(runs[i])"
   ]
  },
  {
   "cell_type": "code",
   "execution_count": 137,
   "id": "a30f56e5-464d-49da-91e9-9cc4c129e928",
   "metadata": {},
   "outputs": [
    {
     "data": {
      "text/plain": [
       "[101, 122, 99, 81, 55]"
      ]
     },
     "execution_count": 137,
     "metadata": {},
     "output_type": "execute_result"
    }
   ],
   "source": [
    "run"
   ]
  },
  {
   "cell_type": "markdown",
   "id": "6f30e37e-2be0-4f80-8fd2-22a4190c9cea",
   "metadata": {
    "jp-MarkdownHeadingCollapsed": true,
    "tags": []
   },
   "source": [
    "### Question 4\n",
    "    Create a list of runs made from the third match to the 7th match"
   ]
  },
  {
   "cell_type": "code",
   "execution_count": 138,
   "id": "2dca5034-fccc-450b-83e7-e9014340a5eb",
   "metadata": {},
   "outputs": [],
   "source": [
    "run = []\n",
    "for i in range(2,7):\n",
    "        run.append(runs[i])"
   ]
  },
  {
   "cell_type": "code",
   "execution_count": 139,
   "id": "257ec710-e278-4f5e-8917-fbe696a88e4f",
   "metadata": {},
   "outputs": [
    {
     "data": {
      "text/plain": [
       "[71, 10, 12, 101, 122]"
      ]
     },
     "execution_count": 139,
     "metadata": {},
     "output_type": "execute_result"
    }
   ],
   "source": [
    "run"
   ]
  },
  {
   "cell_type": "markdown",
   "id": "aad1e152-df6a-4361-8d2a-5aff7296145a",
   "metadata": {
    "jp-MarkdownHeadingCollapsed": true,
    "tags": []
   },
   "source": [
    "## Slicing"
   ]
  },
  {
   "cell_type": "code",
   "execution_count": 53,
   "id": "5557c768-e6e9-474e-833f-9b1d579da974",
   "metadata": {},
   "outputs": [
    {
     "data": {
      "text/plain": [
       "[71, 10, 12, 101, 122]"
      ]
     },
     "execution_count": 53,
     "metadata": {},
     "output_type": "execute_result"
    }
   ],
   "source": [
    "runs[2:7]"
   ]
  },
  {
   "cell_type": "markdown",
   "id": "1c8a27d4-4fed-464c-bee5-60888faac8a8",
   "metadata": {},
   "source": [
    "    a = [10,20,30,40,50,60,70,80,90,100]\n",
    "\n",
    "    1. a[3:5] \n",
    "    2. a[:8] \n",
    "    3. a[:] \n",
    "    4. a[7:] \n",
    "    5. a[-2:-5:-1] \n",
    "    6. a[-2:-7] \n",
    "    7. a[:-5] \n",
    "    8. a[-2:] \n",
    "    9. a[-8:5] \n",
    "    10. a[-8:5:-1]"
   ]
  },
  {
   "cell_type": "code",
   "execution_count": 140,
   "id": "3edf6c47-b8f2-401a-8178-9cf37d1c5b71",
   "metadata": {},
   "outputs": [],
   "source": [
    "a = [10,20,30,40,50,60,70,80,90,100]"
   ]
  },
  {
   "cell_type": "code",
   "execution_count": 141,
   "id": "8cf3913d-c791-4ca4-9b74-9954f383c339",
   "metadata": {},
   "outputs": [
    {
     "data": {
      "text/plain": [
       "[40, 50]"
      ]
     },
     "execution_count": 141,
     "metadata": {},
     "output_type": "execute_result"
    }
   ],
   "source": [
    " a[3:5]"
   ]
  },
  {
   "cell_type": "code",
   "execution_count": 142,
   "id": "3847bdd3-8fe7-4f03-8079-5b595ec3d910",
   "metadata": {},
   "outputs": [
    {
     "data": {
      "text/plain": [
       "[10, 20, 30, 40, 50, 60, 70, 80]"
      ]
     },
     "execution_count": 142,
     "metadata": {},
     "output_type": "execute_result"
    }
   ],
   "source": [
    "a[:8]"
   ]
  },
  {
   "cell_type": "code",
   "execution_count": 148,
   "id": "59f18223-4e80-4ce8-9c77-ec6c956ebbd0",
   "metadata": {},
   "outputs": [
    {
     "data": {
      "text/plain": [
       "[10, 20, 30, 40, 50, 60, 70, 80, 90, 100]"
      ]
     },
     "execution_count": 148,
     "metadata": {},
     "output_type": "execute_result"
    }
   ],
   "source": [
    "a[:]"
   ]
  },
  {
   "cell_type": "code",
   "execution_count": 149,
   "id": "bf696f17-5ffe-4e1d-b3dc-96078b0b9981",
   "metadata": {},
   "outputs": [
    {
     "data": {
      "text/plain": [
       "[80, 90, 100]"
      ]
     },
     "execution_count": 149,
     "metadata": {},
     "output_type": "execute_result"
    }
   ],
   "source": [
    "a[7:]"
   ]
  },
  {
   "cell_type": "code",
   "execution_count": 150,
   "id": "49498475-4ae7-4849-9f02-8120491c3eec",
   "metadata": {},
   "outputs": [
    {
     "data": {
      "text/plain": [
       "[90, 80, 70]"
      ]
     },
     "execution_count": 150,
     "metadata": {},
     "output_type": "execute_result"
    }
   ],
   "source": [
    "a[-2:-5:-1]"
   ]
  },
  {
   "cell_type": "code",
   "execution_count": 151,
   "id": "939cc2b0-cb7b-412a-b85f-f6bd514afbee",
   "metadata": {},
   "outputs": [
    {
     "data": {
      "text/plain": [
       "[]"
      ]
     },
     "execution_count": 151,
     "metadata": {},
     "output_type": "execute_result"
    }
   ],
   "source": [
    "a[-2:-7]"
   ]
  },
  {
   "cell_type": "code",
   "execution_count": 154,
   "id": "2271478e-1a51-4a76-aad4-a0dce4fac050",
   "metadata": {},
   "outputs": [
    {
     "data": {
      "text/plain": [
       "[10, 20, 30, 40, 50]"
      ]
     },
     "execution_count": 154,
     "metadata": {},
     "output_type": "execute_result"
    }
   ],
   "source": [
    "a[:-5]"
   ]
  },
  {
   "cell_type": "code",
   "execution_count": 155,
   "id": "b8a1075c-31e8-4a26-b91d-d1c273860363",
   "metadata": {},
   "outputs": [
    {
     "data": {
      "text/plain": [
       "[90, 100]"
      ]
     },
     "execution_count": 155,
     "metadata": {},
     "output_type": "execute_result"
    }
   ],
   "source": [
    "a[-2:]"
   ]
  },
  {
   "cell_type": "code",
   "execution_count": 156,
   "id": "c0b924f1-1a2d-4afa-b2ba-c0772c72e724",
   "metadata": {},
   "outputs": [
    {
     "data": {
      "text/plain": [
       "[30, 40, 50]"
      ]
     },
     "execution_count": 156,
     "metadata": {},
     "output_type": "execute_result"
    }
   ],
   "source": [
    "a[-8:5]"
   ]
  },
  {
   "cell_type": "code",
   "execution_count": 157,
   "id": "55c18123-b978-4807-8e03-03f6918c79d2",
   "metadata": {},
   "outputs": [
    {
     "data": {
      "text/plain": [
       "[]"
      ]
     },
     "execution_count": 157,
     "metadata": {},
     "output_type": "execute_result"
    }
   ],
   "source": [
    "a[-8:5:-1]"
   ]
  },
  {
   "cell_type": "markdown",
   "id": "7e137493-86c9-412c-a1b1-a87989f7b667",
   "metadata": {
    "tags": []
   },
   "source": [
    "# Lists - 2D"
   ]
  },
  {
   "cell_type": "markdown",
   "id": "847dc35e-e5d7-41ca-bbd9-c8009cb28371",
   "metadata": {
    "jp-MarkdownHeadingCollapsed": true,
    "tags": []
   },
   "source": [
    "## Theory"
   ]
  },
  {
   "cell_type": "markdown",
   "id": "d4b873f3-11fa-45a6-9bb9-781dab9655f2",
   "metadata": {},
   "source": [
    "* Lists are heterogenous\n",
    "* 2D Lists can have nested lists inside\n",
    "* Set of elements is representing columns.\n",
    "* Elements 1 from all lists will be form column 1 and soon and so forth.\n",
    "* 1,2,3,4 below represents columns 1 of matrix 4X3(ColumnsXrows).\n",
    "* To call a particular nested list, we will call list by indexes. For eg: lists_2d[0].\n",
    "* To call an nested element, we will call index of nested list with the index of elements of list. For eg: list_2d[0][0]\n",
    "* To call an nested element of n: list_2d[0][0][0]......n\n",
    "* No of rows = len(a)\n",
    "* No of columns = len(a[0])"
   ]
  },
  {
   "cell_type": "markdown",
   "id": "93be0077-6f12-46d7-8af8-0862a3621f93",
   "metadata": {},
   "source": [
    "    rows = len(list_2d)\n",
    "    columns= len(list_2d[0])"
   ]
  },
  {
   "cell_type": "code",
   "execution_count": 1,
   "id": "a20965af-d22b-424f-a779-0746400e5de0",
   "metadata": {},
   "outputs": [],
   "source": [
    "list_2d = [[1,2,3,4],[5,6,7,8],[9,10,11,12]]"
   ]
  },
  {
   "cell_type": "code",
   "execution_count": 44,
   "id": "45a5f46a-053f-4942-9cd7-af6e9116aa4a",
   "metadata": {},
   "outputs": [
    {
     "data": {
      "text/plain": [
       "[[1, 2, 3, 4], [5, 6, 7, 8], [9, 10, 11, 12]]"
      ]
     },
     "execution_count": 44,
     "metadata": {},
     "output_type": "execute_result"
    }
   ],
   "source": [
    "list_2d"
   ]
  },
  {
   "cell_type": "code",
   "execution_count": 46,
   "id": "95c5f30b-06cc-4e75-8d9d-993dcae62480",
   "metadata": {},
   "outputs": [
    {
     "data": {
      "text/plain": [
       "[1, 2, 3, 4]"
      ]
     },
     "execution_count": 46,
     "metadata": {},
     "output_type": "execute_result"
    }
   ],
   "source": [
    "list_2d[0]"
   ]
  },
  {
   "cell_type": "code",
   "execution_count": 47,
   "id": "5b74b1a4-76d2-49e1-8943-2f36f796bb8e",
   "metadata": {},
   "outputs": [
    {
     "data": {
      "text/plain": [
       "1"
      ]
     },
     "execution_count": 47,
     "metadata": {},
     "output_type": "execute_result"
    }
   ],
   "source": [
    "list_2d[0][0]"
   ]
  },
  {
   "cell_type": "code",
   "execution_count": 49,
   "id": "60b6f918-f3a4-422b-a3df-5c0ab5122f97",
   "metadata": {},
   "outputs": [],
   "source": [
    "rows = len(list_2d)\n",
    "columns= len(list_2d[0])"
   ]
  },
  {
   "cell_type": "code",
   "execution_count": 2,
   "id": "5deeec82-895f-45d3-83ea-2126f16ed1f9",
   "metadata": {},
   "outputs": [
    {
     "data": {
      "text/plain": [
       "3"
      ]
     },
     "execution_count": 2,
     "metadata": {},
     "output_type": "execute_result"
    }
   ],
   "source": [
    "len(list_2d)"
   ]
  },
  {
   "cell_type": "code",
   "execution_count": 3,
   "id": "d16cb432-6bd4-484f-9f85-86a5c64d8c8d",
   "metadata": {},
   "outputs": [
    {
     "data": {
      "text/plain": [
       "4"
      ]
     },
     "execution_count": 3,
     "metadata": {},
     "output_type": "execute_result"
    }
   ],
   "source": [
    "len(list_2d[0])"
   ]
  },
  {
   "cell_type": "markdown",
   "id": "b029ea9a-ef5f-4934-8c1d-8eb71d17a075",
   "metadata": {
    "tags": []
   },
   "source": [
    "## Questions"
   ]
  },
  {
   "cell_type": "markdown",
   "id": "c74f146f-37a6-4a32-a3bb-6b0d2289cb9f",
   "metadata": {
    "jp-MarkdownHeadingCollapsed": true,
    "tags": []
   },
   "source": [
    "### Question 1 \n",
    "    Rotate a given list by 1 element.\n",
    "    \n",
    "    INPUT = [1,2,3,4,5]\n",
    "    OUTPUT = [5,1,2,3,4]"
   ]
  },
  {
   "cell_type": "markdown",
   "id": "1c1252bd-1e1e-45d7-8776-f574efb2f894",
   "metadata": {
    "jp-MarkdownHeadingCollapsed": true,
    "tags": []
   },
   "source": [
    "##### Simplest Solutions"
   ]
  },
  {
   "cell_type": "code",
   "execution_count": 8,
   "id": "bc25d159-41de-42e0-9b12-4f65e7b6422d",
   "metadata": {},
   "outputs": [
    {
     "data": {
      "text/plain": [
       "[5, 1, 2, 3, 4]"
      ]
     },
     "execution_count": 8,
     "metadata": {},
     "output_type": "execute_result"
    }
   ],
   "source": [
    "a = [1,2,3,4,5]\n",
    "b = a[-1]\n",
    "b = [b]+a[:-1]\n",
    "b"
   ]
  },
  {
   "cell_type": "code",
   "execution_count": 10,
   "id": "8ce6e60c-d7b5-4113-8ba9-85a4c768e9a0",
   "metadata": {},
   "outputs": [
    {
     "data": {
      "text/plain": [
       "[5, 1, 2, 3, 4]"
      ]
     },
     "execution_count": 10,
     "metadata": {},
     "output_type": "execute_result"
    }
   ],
   "source": [
    "a = [1,2,3,4,5]\n",
    "b = [a[-1]]+a[:-1]\n",
    "b"
   ]
  },
  {
   "cell_type": "markdown",
   "id": "ff04824d-eca5-474f-84de-ad5e5e6f70c8",
   "metadata": {
    "jp-MarkdownHeadingCollapsed": true,
    "tags": []
   },
   "source": [
    "##### Using Insert"
   ]
  },
  {
   "cell_type": "code",
   "execution_count": 62,
   "id": "f37b30bc-0f5a-4de6-9ecf-58d45c818397",
   "metadata": {},
   "outputs": [
    {
     "data": {
      "text/plain": [
       "[5, 1, 2, 3, 4]"
      ]
     },
     "execution_count": 62,
     "metadata": {},
     "output_type": "execute_result"
    }
   ],
   "source": [
    "a = [1,2,3,4,5]\n",
    "b = a[:-1]\n",
    "b.insert(0,a[-1])\n",
    "b"
   ]
  },
  {
   "cell_type": "markdown",
   "id": "de21c1da-1088-4870-b27d-41d699c4edf0",
   "metadata": {},
   "source": [
    "pop can also be used"
   ]
  },
  {
   "cell_type": "markdown",
   "id": "0963cb1d-afda-4cb6-a07c-7cad53729757",
   "metadata": {
    "jp-MarkdownHeadingCollapsed": true,
    "tags": []
   },
   "source": [
    "##### Fancy Solution"
   ]
  },
  {
   "cell_type": "code",
   "execution_count": 64,
   "id": "1d00eddc-7a61-40d6-b9fb-77fbb1cbcb3e",
   "metadata": {},
   "outputs": [],
   "source": [
    "def list_rotate(x):\n",
    "    \n",
    "    last_x = a[-1]\n",
    "    exclude_lastx = a[:-1]\n",
    "    rotated_list = [last_x]+exclude_lastx\n",
    "    \n",
    "    return rotated_list"
   ]
  },
  {
   "cell_type": "code",
   "execution_count": 65,
   "id": "c92b14ee-a41e-4965-9f8c-f70b67bd8dcf",
   "metadata": {},
   "outputs": [
    {
     "data": {
      "text/plain": [
       "[5, 1, 2, 3, 4]"
      ]
     },
     "execution_count": 65,
     "metadata": {},
     "output_type": "execute_result"
    }
   ],
   "source": [
    "a = [1,2,3,4,5]\n",
    "list_rotate(a)"
   ]
  },
  {
   "cell_type": "markdown",
   "id": "3f1f8a2b-90ec-4146-a04f-cd0366bf08d4",
   "metadata": {
    "tags": []
   },
   "source": [
    "### Question 2\n",
    "    Take a 3x3 matrix as input from the user.\n",
    "\n",
    "    Given this matrix - \n",
    "    1. Calculate the sum of all elements in the matrix\n",
    "    2. Calculate and print sum of each row\n",
    "    3. Calculate and print sum of each column"
   ]
  },
  {
   "cell_type": "code",
   "execution_count": 52,
   "id": "eb92f2d5-443d-4fd0-b0f6-1aa6ddcc3ffd",
   "metadata": {},
   "outputs": [],
   "source": [
    "def matrix(x,y):\n",
    "    list_n =[]\n",
    "    for i in range(x):\n",
    "        list_i = []\n",
    "        for j in range(y):\n",
    "            n = int(input())\n",
    "            list_i.append(n)\n",
    "        list_n.insert(i,list_i)    \n",
    "    return list_n\n",
    "\n",
    "def sum_matrix(a):        \n",
    "    sum_matrix = 0\n",
    "    for i in range(len(a)):\n",
    "        for j in range(len(a[0])):\n",
    "            sum_matrix +=a[i][j]\n",
    "    print(sum_matrix)\n",
    "\n",
    "def sum_row(a):\n",
    "    for i in range(len(a)):\n",
    "        sum_row = 0\n",
    "        for j in range(len(a[0])):\n",
    "            sum_row +=a[i][j]\n",
    "        print(sum_row)\n",
    "\n",
    "def sum_col(a):\n",
    "    \n",
    "    for i in range(len(a[0])):\n",
    "        sum_col = 0\n",
    "        for j in range(len(a)):\n",
    "            sum_col +=a[j][i]\n",
    "        print(sum_col)"
   ]
  },
  {
   "cell_type": "code",
   "execution_count": 53,
   "id": "f300aa22-858a-4dba-9db3-9870c6f529e9",
   "metadata": {},
   "outputs": [
    {
     "name": "stdout",
     "output_type": "stream",
     "text": [
      "21\n",
      "6\n",
      "15\n",
      "5\n",
      "7\n",
      "9\n"
     ]
    }
   ],
   "source": [
    "a = [[1, 2, 3], [4, 5, 6]]\n",
    "sum_matrix(a)\n",
    "sum_row(a)\n",
    "sum_col(a)"
   ]
  },
  {
   "cell_type": "code",
   "execution_count": 54,
   "id": "b2ee8df4-2827-4f99-bc48-06309dde3087",
   "metadata": {},
   "outputs": [
    {
     "name": "stdout",
     "output_type": "stream",
     "text": [
      "Row_Sum 0 6\n",
      "Col_Sum 2 12\n",
      "Row_Sum 1 15\n",
      "Col_Sum 2 26\n",
      "Row_Sum 2 24\n",
      "Col_Sum 2 33\n",
      "45\n"
     ]
    }
   ],
   "source": [
    "a = [[1,2,3],[4,5,6],[7,8,9]]\n",
    "\n",
    "sum1=0\n",
    "for i in range(len(a)):\n",
    "    col_sum=0\n",
    "    row_sum=0\n",
    "    for j in range(len(a[i])):\n",
    "        sum1+=a[i][j]\n",
    "        row_sum +=a[i][j]\n",
    "        for x in range(i,len(a)):\n",
    "            if j == x:\n",
    "                col_sum+=a[i][j]\n",
    "        col_sum += a[i][j]\n",
    "    print(\"Row_Sum\",i,row_sum)\n",
    "    print(\"Col_Sum\",j, col_sum)\n",
    "print(sum1)"
   ]
  },
  {
   "cell_type": "code",
   "execution_count": 27,
   "id": "3293d612-56c1-4969-b19e-506cf83f256a",
   "metadata": {},
   "outputs": [],
   "source": [
    "a = [[1, 2, 3], [4, 5, 6]]\n",
    "def sum_matrix(a):        \n",
    "    sum_matrix = 0\n",
    "    for i in range(len(a)):\n",
    "        for j in range(len(a[0])):\n",
    "            sum_matrix +=a[i][j]\n",
    "    print(sum_matrix)"
   ]
  },
  {
   "cell_type": "code",
   "execution_count": 34,
   "id": "918a039e-95da-47d0-83da-ad9cf2013edd",
   "metadata": {},
   "outputs": [
    {
     "name": "stdin",
     "output_type": "stream",
     "text": [
      " 1\n",
      " 2\n",
      " 3\n",
      " 4\n",
      " 5\n",
      " 6\n",
      " 7\n",
      " 8\n",
      " 9\n",
      " 10\n",
      " 11\n",
      " 12\n"
     ]
    },
    {
     "name": "stdout",
     "output_type": "stream",
     "text": [
      "78\n"
     ]
    }
   ],
   "source": [
    "sum_matrix(matrix(3,4))"
   ]
  },
  {
   "cell_type": "code",
   "execution_count": 25,
   "id": "2fc37168-0edd-4f23-b12d-5c73ffcdffd4",
   "metadata": {},
   "outputs": [],
   "source": [
    "def sum_matrix(x,y):\n",
    "    list_n =[]\n",
    "    for i in range(x):\n",
    "        list_i = []\n",
    "        for j in range(y):\n",
    "            n = int(input())\n",
    "            list_i.append(n)\n",
    "        list_n.insert(i,list_i)\n",
    "        \n",
    "    sum_matrix = 0\n",
    "    for i in range(a[x]):\n",
    "        for j in range(a[i][y]):\n",
    "            sum_matrix +=a[i][j]\n",
    "    print(sum_matrix)"
   ]
  },
  {
   "cell_type": "code",
   "execution_count": 32,
   "id": "b4403327-f4d7-402e-a7aa-bc23e2f41095",
   "metadata": {},
   "outputs": [
    {
     "name": "stdin",
     "output_type": "stream",
     "text": [
      " 1\n",
      " 2\n",
      " 3\n",
      " 4\n",
      " 5\n",
      " 6\n",
      " 7\n",
      " 8\n",
      " 9\n"
     ]
    },
    {
     "data": {
      "text/plain": [
       "[[1, 2, 3], [4, 5, 6], [7, 8, 9]]"
      ]
     },
     "execution_count": 32,
     "metadata": {},
     "output_type": "execute_result"
    }
   ],
   "source": [
    "matrix(3,3)"
   ]
  },
  {
   "cell_type": "code",
   "execution_count": 21,
   "id": "82eea97b-b856-4cbb-b23f-0204573c412b",
   "metadata": {},
   "outputs": [],
   "source": [
    "a = [[1, 2, 3], [4, 5, 6]]"
   ]
  },
  {
   "cell_type": "markdown",
   "id": "f8782456-7d03-44af-ba70-6a549587158e",
   "metadata": {},
   "source": [
    "### HW"
   ]
  },
  {
   "cell_type": "markdown",
   "id": "ad9c578b-64d4-43a5-a471-656d0714b508",
   "metadata": {
    "tags": []
   },
   "source": [
    "### HW 1\n",
    "    Rotate a given list by n element.\n",
    "\n",
    "    INPUT - \n",
    "    a = [1,2,3,4,5]\n",
    "    n = 7\n",
    "\n",
    "    OUTPUT = [4,5,1,2,3]"
   ]
  },
  {
   "cell_type": "markdown",
   "id": "6fbf4702-88db-4b6b-8140-b0f0dc5c45d1",
   "metadata": {
    "jp-MarkdownHeadingCollapsed": true,
    "tags": []
   },
   "source": [
    "##### Solution without input"
   ]
  },
  {
   "cell_type": "code",
   "execution_count": 16,
   "id": "4c405163-e5dd-4137-8fb0-378cfd9fa41a",
   "metadata": {},
   "outputs": [],
   "source": [
    "def list_rotate_n(a,n):\n",
    "    for i in range(n):\n",
    "        a = a[-1:]+a[:-1]\n",
    "        \n",
    "    return a"
   ]
  },
  {
   "cell_type": "code",
   "execution_count": 17,
   "id": "4456a6ab-bf8d-47c4-89e1-dca51cd7cce0",
   "metadata": {},
   "outputs": [
    {
     "data": {
      "text/plain": [
       "[4, 5, 1, 2, 3]"
      ]
     },
     "execution_count": 17,
     "metadata": {},
     "output_type": "execute_result"
    }
   ],
   "source": [
    "x = [1,2,3,4,5]\n",
    "list_rotate_n(x, 7)"
   ]
  },
  {
   "cell_type": "markdown",
   "id": "4011cc53-b854-4a90-98f4-01e659aa3d36",
   "metadata": {
    "tags": []
   },
   "source": [
    "##### Solution with input"
   ]
  },
  {
   "cell_type": "code",
   "execution_count": 18,
   "id": "49bc37d1-e402-4a8b-9055-980baaf3229c",
   "metadata": {},
   "outputs": [],
   "source": [
    "def list_rotate_n():\n",
    "    input_list =[]\n",
    "    N = int(input(\"Enter the no of elements of the list: \"))\n",
    "    \n",
    "    n= int(input(\"Enter the no for element rotation: \"))\n",
    "    for i in range(N):\n",
    "        input_n = int(input(\"Enter the values of element for the list: \"))\n",
    "        input_list.append(input_n)\n",
    "    \n",
    "    for i in range(n):\n",
    "        input_list = input_list[-1:]+input_list[:-1]\n",
    "    \n",
    "    return input_list "
   ]
  },
  {
   "cell_type": "code",
   "execution_count": 19,
   "id": "d3898de7-ea37-4527-80b1-712e7247f4dd",
   "metadata": {},
   "outputs": [
    {
     "name": "stdin",
     "output_type": "stream",
     "text": [
      "Enter the no of elements of the list:  5\n",
      "Enter the no for element rotation:  7\n",
      "Enter the values of element for the list:  1\n",
      "Enter the values of element for the list:  2\n",
      "Enter the values of element for the list:  3\n",
      "Enter the values of element for the list:  4\n",
      "Enter the values of element for the list:  5\n"
     ]
    },
    {
     "data": {
      "text/plain": [
       "[4, 5, 1, 2, 3]"
      ]
     },
     "execution_count": 19,
     "metadata": {},
     "output_type": "execute_result"
    }
   ],
   "source": [
    "list_rotate_n()"
   ]
  },
  {
   "cell_type": "code",
   "execution_count": 29,
   "id": "570bf2b7-5015-49da-9aad-2bfdf38c7f72",
   "metadata": {},
   "outputs": [],
   "source": [
    "A = [1,2,3,4,5]"
   ]
  },
  {
   "cell_type": "code",
   "execution_count": 30,
   "id": "ca910243-ad31-412c-981c-4a1560d88e4d",
   "metadata": {},
   "outputs": [],
   "source": [
    "B = A.pop()"
   ]
  },
  {
   "cell_type": "code",
   "execution_count": 36,
   "id": "7dbd9978-0caa-4293-8066-66cd57eeab27",
   "metadata": {},
   "outputs": [
    {
     "data": {
      "text/plain": [
       "[5, 1, 2, 3, 4]"
      ]
     },
     "execution_count": 36,
     "metadata": {},
     "output_type": "execute_result"
    }
   ],
   "source": [
    "C =[]\n",
    "C.insert(0, B)\n",
    "C+A"
   ]
  },
  {
   "cell_type": "markdown",
   "id": "e2804a3b-91cb-4ede-b2a9-21c8ae72cbdf",
   "metadata": {},
   "source": [
    "## HW 2\n",
    "    Take two matrices as input and calculate the sum of two matrices.\n",
    "    Take a matrix as input and calculate transpose."
   ]
  },
  {
   "cell_type": "code",
   "execution_count": null,
   "id": "37c51cf7-e98c-4500-8e4e-99737b04aeb3",
   "metadata": {},
   "outputs": [],
   "source": []
  },
  {
   "cell_type": "markdown",
   "id": "c4946cc5-673a-4dce-9a58-81e24f87065b",
   "metadata": {},
   "source": [
    "# Strings"
   ]
  },
  {
   "cell_type": "code",
   "execution_count": 4,
   "id": "893334d2-3ac7-42b6-8bc9-2c5145ce7129",
   "metadata": {},
   "outputs": [
    {
     "name": "stdin",
     "output_type": "stream",
     "text": [
      " rat\n"
     ]
    },
    {
     "name": "stdout",
     "output_type": "stream",
     "text": [
      "r\n",
      "\n",
      "a\n",
      "\n",
      "t\n",
      "\n"
     ]
    }
   ],
   "source": [
    "n = input()\n",
    "for i in n:\n",
    "    print(f\"{i}\\n\")"
   ]
  },
  {
   "cell_type": "code",
   "execution_count": 13,
   "id": "e5bf4e19-cb51-46b0-8ce7-efdd8396d481",
   "metadata": {},
   "outputs": [
    {
     "name": "stdin",
     "output_type": "stream",
     "text": [
      " rat\n"
     ]
    },
    {
     "ename": "TypeError",
     "evalue": "unsupported operand type(s) for -: 'str' and 'int'",
     "output_type": "error",
     "traceback": [
      "\u001b[1;31m---------------------------------------------------------------------------\u001b[0m",
      "\u001b[1;31mTypeError\u001b[0m                                 Traceback (most recent call last)",
      "Cell \u001b[1;32mIn[13], line 2\u001b[0m\n\u001b[0;32m      1\u001b[0m n \u001b[38;5;241m=\u001b[39m \u001b[38;5;28minput\u001b[39m()\n\u001b[1;32m----> 2\u001b[0m \u001b[38;5;28mprint\u001b[39m(\u001b[38;5;124mf\u001b[39m\u001b[38;5;124m\"\u001b[39m\u001b[38;5;132;01m{\u001b[39;00mn[\u001b[38;5;241m0\u001b[39m]\u001b[38;5;132;01m}\u001b[39;00m\u001b[38;5;124m,\u001b[39m\u001b[38;5;132;01m{\u001b[39;00mn[\u001b[38;5;28mlen\u001b[39m(n\u001b[38;5;241m-\u001b[39m\u001b[38;5;241m1\u001b[39m):]\u001b[38;5;132;01m}\u001b[39;00m\u001b[38;5;124m\"\u001b[39m)\n",
      "\u001b[1;31mTypeError\u001b[0m: unsupported operand type(s) for -: 'str' and 'int'"
     ]
    }
   ],
   "source": [
    "n = input()\n",
    "print(f\"{n[0]},{n[len(n-1):]}\")"
   ]
  },
  {
   "cell_type": "code",
   "execution_count": 10,
   "id": "1856da50-852c-4759-85aa-3451ae89fc0c",
   "metadata": {},
   "outputs": [
    {
     "name": "stdin",
     "output_type": "stream",
     "text": [
      " rat\n"
     ]
    },
    {
     "ename": "TypeError",
     "evalue": "unsupported operand type(s) for -: 'str' and 'int'",
     "output_type": "error",
     "traceback": [
      "\u001b[1;31m---------------------------------------------------------------------------\u001b[0m",
      "\u001b[1;31mTypeError\u001b[0m                                 Traceback (most recent call last)",
      "Cell \u001b[1;32mIn[10], line 3\u001b[0m\n\u001b[0;32m      1\u001b[0m n \u001b[38;5;241m=\u001b[39m \u001b[38;5;28minput\u001b[39m()\n\u001b[0;32m      2\u001b[0m \u001b[38;5;28;01mfor\u001b[39;00m i \u001b[38;5;129;01min\u001b[39;00m n:\n\u001b[1;32m----> 3\u001b[0m     \u001b[38;5;28mprint\u001b[39m(\u001b[38;5;124mf\u001b[39m\u001b[38;5;124m\"\u001b[39m\u001b[38;5;132;01m{\u001b[39;00mi[\u001b[38;5;241m0\u001b[39m]\u001b[38;5;132;01m}\u001b[39;00m\u001b[38;5;124m,\u001b[39m\u001b[38;5;132;01m{\u001b[39;00mi[\u001b[38;5;28mlen\u001b[39m(n\u001b[38;5;241m-\u001b[39m\u001b[38;5;241m1\u001b[39m)]\u001b[38;5;132;01m}\u001b[39;00m\u001b[38;5;124m\"\u001b[39m)\n",
      "\u001b[1;31mTypeError\u001b[0m: unsupported operand type(s) for -: 'str' and 'int'"
     ]
    }
   ],
   "source": [
    "n = input()\n",
    "for i in n:\n",
    "    print(f\"{i[0]},{i[len(n-1)]}\")"
   ]
  },
  {
   "cell_type": "code",
   "execution_count": 19,
   "id": "821f8ceb-2ffc-4f67-8fa5-d7fcd993c564",
   "metadata": {},
   "outputs": [
    {
     "ename": "SyntaxError",
     "evalue": "invalid syntax (1937980092.py, line 7)",
     "output_type": "error",
     "traceback": [
      "\u001b[1;36m  Cell \u001b[1;32mIn[19], line 7\u001b[1;36m\u001b[0m\n\u001b[1;33m    if\u001b[0m\n\u001b[1;37m      ^\u001b[0m\n\u001b[1;31mSyntaxError\u001b[0m\u001b[1;31m:\u001b[0m invalid syntax\n"
     ]
    }
   ],
   "source": [
    "n = input()\n",
    "for i in range(len(n)):\n",
    "    if n[i] == n[len(n-i)]:\n",
    "        pass\n",
    "    else:\n",
    "        return -1\n",
    "    if"
   ]
  },
  {
   "cell_type": "code",
   "execution_count": 24,
   "id": "6beef707-b1e2-46a8-8eb3-dcc4db7a0eb4",
   "metadata": {},
   "outputs": [
    {
     "name": "stdin",
     "output_type": "stream",
     "text": [
      " ERa\n"
     ]
    }
   ],
   "source": [
    "n = input()\n",
    "for i in n:\n",
    "    if n.isupper()== n:\n",
    "        print(i)"
   ]
  },
  {
   "cell_type": "code",
   "execution_count": 26,
   "id": "1d6d0df6-20f1-4107-b3fd-0709f70d54ca",
   "metadata": {},
   "outputs": [
    {
     "name": "stdin",
     "output_type": "stream",
     "text": [
      " 65\n"
     ]
    },
    {
     "ename": "TypeError",
     "evalue": "'int' object is not iterable",
     "output_type": "error",
     "traceback": [
      "\u001b[1;31m---------------------------------------------------------------------------\u001b[0m",
      "\u001b[1;31mTypeError\u001b[0m                                 Traceback (most recent call last)",
      "Cell \u001b[1;32mIn[26], line 2\u001b[0m\n\u001b[0;32m      1\u001b[0m n \u001b[38;5;241m=\u001b[39m \u001b[38;5;28mint\u001b[39m(\u001b[38;5;28minput\u001b[39m())\n\u001b[1;32m----> 2\u001b[0m \u001b[38;5;28;01mfor\u001b[39;00m i \u001b[38;5;129;01min\u001b[39;00m n:\n\u001b[0;32m      3\u001b[0m     \u001b[38;5;28mprint\u001b[39m(\u001b[38;5;28mchr\u001b[39m(i))\n",
      "\u001b[1;31mTypeError\u001b[0m: 'int' object is not iterable"
     ]
    }
   ],
   "source": [
    "for i in range n:\n",
    "a = int(input())\n",
    "n = int(input())\n",
    "for i in n:\n",
    "    print(chr(i))"
   ]
  },
  {
   "cell_type": "code",
   "execution_count": 25,
   "id": "e1c265d1-7382-423e-8860-6a2447bd068c",
   "metadata": {},
   "outputs": [
    {
     "data": {
      "text/plain": [
       "'A'"
      ]
     },
     "execution_count": 25,
     "metadata": {},
     "output_type": "execute_result"
    }
   ],
   "source": [
    "chr(65)"
   ]
  }
 ],
 "metadata": {
  "kernelspec": {
   "display_name": "Python 3 (ipykernel)",
   "language": "python",
   "name": "python3"
  },
  "language_info": {
   "codemirror_mode": {
    "name": "ipython",
    "version": 3
   },
   "file_extension": ".py",
   "mimetype": "text/x-python",
   "name": "python",
   "nbconvert_exporter": "python",
   "pygments_lexer": "ipython3",
   "version": "3.9.12"
  },
  "vscode": {
   "interpreter": {
    "hash": "935f14679552b7ed0d9a0235b9885cdb22dc837e42e90f9da9ac0cd3081692a0"
   }
  },
  "widgets": {
   "application/vnd.jupyter.widget-state+json": {
    "state": {},
    "version_major": 2,
    "version_minor": 0
   }
  }
 },
 "nbformat": 4,
 "nbformat_minor": 5
}
