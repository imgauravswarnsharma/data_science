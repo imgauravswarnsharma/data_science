{
 "cells": [
  {
   "cell_type": "markdown",
   "id": "71746041-26ae-482f-8939-9e4f55388014",
   "metadata": {
    "tags": []
   },
   "source": [
    "# Pattern Printing"
   ]
  },
  {
   "cell_type": "markdown",
   "id": "3521bcb9-6371-47b8-b906-ebffa4316548",
   "metadata": {
    "jp-MarkdownHeadingCollapsed": true,
    "tags": []
   },
   "source": [
    "## Questions"
   ]
  },
  {
   "cell_type": "markdown",
   "id": "4a3825df-b335-47fd-a9c0-c16a910a8f44",
   "metadata": {
    "jp-MarkdownHeadingCollapsed": true,
    "tags": []
   },
   "source": [
    "### Question 1\n",
    "\n",
    "    Print the following pattern:\n",
    "    n = 5\n",
    "\n",
    "    *\n",
    "    **\n",
    "    ***\n",
    "    ****\n",
    "    *****"
   ]
  },
  {
   "cell_type": "code",
   "execution_count": 10,
   "id": "fde98387-4752-43fe-9e2d-e4202952455b",
   "metadata": {},
   "outputs": [
    {
     "name": "stdout",
     "output_type": "stream",
     "text": [
      " 5\n",
      "*\n",
      "**\n",
      "***\n",
      "****\n",
      "*****\n"
     ]
    }
   ],
   "source": [
    "x = int(input())\n",
    "for i in range(1,x+1):\n",
    "    for j in range(1,i+1):\n",
    "         print(\"*\", end=\"\")\n",
    "    print()"
   ]
  },
  {
   "cell_type": "markdown",
   "id": "2c17f12c-caad-4b8d-868c-bcdfde449f3c",
   "metadata": {
    "jp-MarkdownHeadingCollapsed": true,
    "tags": []
   },
   "source": [
    "### Question 2\n",
    "\n",
    "    print the following pattern:\n",
    "    n=5\n",
    "    \n",
    "    1\n",
    "    12\n",
    "    123\n",
    "    1234\n",
    "    12345"
   ]
  },
  {
   "cell_type": "code",
   "execution_count": 14,
   "id": "906c292e-2d7b-4d9e-a1f7-d1c8f989bd03",
   "metadata": {
    "tags": []
   },
   "outputs": [
    {
     "name": "stdout",
     "output_type": "stream",
     "text": [
      " 5\n",
      "1\n",
      "12\n",
      "123\n",
      "1234\n",
      "12345\n"
     ]
    }
   ],
   "source": [
    "x = int(input())\n",
    "for i in range(1,x+1):\n",
    "    for j in range(1,i+1):\n",
    "         print(j, end=\"\")\n",
    "    print()"
   ]
  },
  {
   "cell_type": "code",
   "execution_count": 16,
   "id": "0d7f3342-e8e3-49f8-bc6d-f225c3442a5f",
   "metadata": {},
   "outputs": [
    {
     "name": "stdout",
     "output_type": "stream",
     "text": [
      " 5\n",
      "\n",
      "1\n",
      "12\n",
      "123\n",
      "1234\n",
      "12345\n"
     ]
    }
   ],
   "source": [
    "x = int(input())\n",
    "for i in range(x+1):\n",
    "    for j in range(i):\n",
    "         print(j+1, end=\"\")\n",
    "    print()"
   ]
  },
  {
   "cell_type": "markdown",
   "id": "42f11244-2915-45b7-ad0b-23a2fc1041d9",
   "metadata": {
    "jp-MarkdownHeadingCollapsed": true,
    "tags": []
   },
   "source": [
    "### Question 3\n",
    "    print the following pattern:\n",
    "    n=5\n",
    "    \n",
    "    *\n",
    "    *2\n",
    "    *2*\n",
    "    *2*4\n",
    "    *2*4*"
   ]
  },
  {
   "cell_type": "code",
   "execution_count": 21,
   "id": "70505bed-7bc1-42c9-97aa-6dfb23443125",
   "metadata": {},
   "outputs": [
    {
     "name": "stdout",
     "output_type": "stream",
     "text": [
      " 5\n",
      "*\n",
      "*2\n",
      "*2*\n",
      "*2*4\n",
      "*2*4*\n"
     ]
    }
   ],
   "source": [
    "x = int(input())\n",
    "for i in range(1,x+1):\n",
    "    for j in range(1,i+1):\n",
    "        if j%2:\n",
    "            print(\"*\", end=\"\")\n",
    "        else:\n",
    "            print(j, end=\"\")\n",
    "    print()"
   ]
  },
  {
   "cell_type": "markdown",
   "id": "9edab4cd-cc55-428d-bb3e-93799334f296",
   "metadata": {
    "jp-MarkdownHeadingCollapsed": true,
    "tags": []
   },
   "source": [
    "### Question 4\n",
    "    print the following pattern:\n",
    "    n=5\n",
    "    Blanks before * are empty spaces\n",
    "    \n",
    "        *\n",
    "       **\n",
    "      ***\n",
    "     ****\n",
    "    *****\n",
    "    \n",
    "    Blanks before * are empty spaces"
   ]
  },
  {
   "cell_type": "code",
   "execution_count": 25,
   "id": "848ea322-55e2-4fe2-a8e3-b09229cc0522",
   "metadata": {},
   "outputs": [
    {
     "name": "stdout",
     "output_type": "stream",
     "text": [
      " 5\n",
      "    *\n",
      "   **\n",
      "  ***\n",
      " ****\n",
      "*****\n"
     ]
    }
   ],
   "source": [
    "n = int(input())\n",
    "for i in range(1,n+1):\n",
    "    for j in range(1,n-i+1):\n",
    "        print(\" \", end=\"\")\n",
    "    for j in range(n-i+1,n+1):\n",
    "        print(\"*\", end=\"\")\n",
    "    print()"
   ]
  },
  {
   "cell_type": "markdown",
   "id": "728993ab-6caf-47b7-a453-4f7b95fd30cf",
   "metadata": {
    "jp-MarkdownHeadingCollapsed": true,
    "tags": []
   },
   "source": [
    "### Question 5\n",
    "    print the following pattern:\n",
    "    n=5\n",
    "    \n",
    "    *****\n",
    "    ****\n",
    "    ***\n",
    "    **\n",
    "    *"
   ]
  },
  {
   "cell_type": "code",
   "execution_count": 28,
   "id": "911f0ed5-2c65-4349-9f85-635580c4dc56",
   "metadata": {},
   "outputs": [
    {
     "name": "stdout",
     "output_type": "stream",
     "text": [
      " 5\n",
      "*****\n",
      "****\n",
      "***\n",
      "**\n",
      "*\n"
     ]
    }
   ],
   "source": [
    "n = int(input())\n",
    "for i in range(n,0,-1):\n",
    "    for j in range(i,0,-1):\n",
    "        print(\"*\", end=\"\")\n",
    "    print()"
   ]
  },
  {
   "cell_type": "markdown",
   "id": "9fef8e19-493a-4eba-a6ca-20bf9fdb9d68",
   "metadata": {
    "tags": []
   },
   "source": [
    "## HW"
   ]
  },
  {
   "cell_type": "markdown",
   "id": "fe6c069e-1216-4d01-98fe-308328a70c9a",
   "metadata": {},
   "source": [
    "Beyond the scope of this class for now. Attempt after 2D List completion or explore and try. Refer to Notion notebook or Lecture Notebook for pattern in question."
   ]
  },
  {
   "cell_type": "markdown",
   "id": "10cd408c-84c1-4ec2-8936-faaeb474c838",
   "metadata": {},
   "source": [
    " Print the following Pattern for n>0 :  \n",
    " For eg: n=5\n",
    " \n",
    "    5 5 5 5 5\n",
    "    5 4 4 4 5\n",
    "    5 4 3 4 5\n",
    "    5 4 4 4 5\n",
    "    5 5 5 5 5\n",
    "    \n",
    "n=6\n",
    "\n",
    "    6 6 6 6 6 6\n",
    "    6 5 5 5 5 6\n",
    "    6 5 4 4 5 6\n",
    "    6 5 4 4 5 6\n",
    "    6 5 5 5 5 6\n",
    "    6 6 6 6 6 6"
   ]
  },
  {
   "cell_type": "markdown",
   "id": "d5819041-e42d-49e2-b4bf-18c50cb9b29b",
   "metadata": {
    "jp-MarkdownHeadingCollapsed": true,
    "tags": []
   },
   "source": [
    "##### Solution using if-else primarily inside for loop"
   ]
  },
  {
   "cell_type": "code",
   "execution_count": 10,
   "id": "d49b779c-713b-46fe-844b-7b318840b172",
   "metadata": {},
   "outputs": [
    {
     "name": "stdin",
     "output_type": "stream",
     "text": [
      "Enter the integer for grid size:  9\n"
     ]
    },
    {
     "name": "stdout",
     "output_type": "stream",
     "text": [
      "\n",
      "9 9 9 9 9 9 9 9 9 \n",
      "9 8 8 8 8 8 8 8 9 \n",
      "9 8 7 7 7 7 7 8 9 \n",
      "9 8 7 6 6 6 7 8 9 \n",
      "9 8 7 6 5 6 7 8 9 \n",
      "9 8 7 6 6 6 7 8 9 \n",
      "9 8 7 7 7 7 7 8 9 \n",
      "9 8 8 8 8 8 8 8 9 \n",
      "9 9 9 9 9 9 9 9 9 "
     ]
    }
   ],
   "source": [
    "n = int(input(\"Enter the integer for grid size: \"))\n",
    "\n",
    "import math\n",
    "ceil_n = math.ceil(n/2)\n",
    "for i in range(n):\n",
    "    print()\n",
    "    temp=n\n",
    "    for j in range(n):\n",
    "        if i>=0 and i<ceil_n:\n",
    "            if j>=0 and j<ceil_n:\n",
    "                print(temp, end=\" \")\n",
    "                if temp>n-i:\n",
    "                    temp-=1\n",
    "            elif j==ceil_n:\n",
    "                if temp==ceil_n:\n",
    "                    temp +=1\n",
    "                    print(temp, end=\" \")\n",
    "                else:\n",
    "                    print(temp, end=\" \")\n",
    "                    #\n",
    "            elif j>ceil_n and j<n:\n",
    "                if j < n-i:\n",
    "                    print(temp, end=\" \")\n",
    "                else:\n",
    "                    temp +=1\n",
    "                    print(temp, end=\" \")\n",
    "        #\n",
    "        elif i>= ceil_n and i<n:\n",
    "            if j>=0 and j<ceil_n:\n",
    "                if temp > i+1:\n",
    "                    print(temp, end=\" \")\n",
    "                    temp-=1                    \n",
    "                else:\n",
    "                    print(temp, end=\" \")\n",
    "            elif j>=ceil_n and j<=n:\n",
    "                if j < i:\n",
    "                    print(temp, end=\" \")\n",
    "                elif j >=i:\n",
    "                    print(temp, end=\" \")\n",
    "                    temp +=1           "
   ]
  },
  {
   "cell_type": "markdown",
   "id": "3074f51d-1170-42bd-a772-9a2d605c390f",
   "metadata": {
    "jp-MarkdownHeadingCollapsed": true,
    "tags": []
   },
   "source": [
    "##### Solution using primarily for loop with if-else"
   ]
  },
  {
   "cell_type": "code",
   "execution_count": 45,
   "id": "8dec4240-fef6-4937-a468-8e4181eeaaf4",
   "metadata": {},
   "outputs": [
    {
     "name": "stdin",
     "output_type": "stream",
     "text": [
      "Enter the integer for grid size:  9\n"
     ]
    },
    {
     "name": "stdout",
     "output_type": "stream",
     "text": [
      "\n",
      "9 9 9 9 9 9 9 9 9 \n",
      "9 8 8 8 8 8 8 8 9 \n",
      "9 8 7 7 7 7 7 8 9 \n",
      "9 8 7 6 6 6 7 8 9 \n",
      "9 8 7 6 5 6 7 8 9 \n",
      "9 8 7 6 6 6 7 8 9 \n",
      "9 8 7 7 7 6 7 8 9 \n",
      "9 8 8 8 8 8 8 8 9 \n",
      "9 9 9 9 9 8 8 8 9 "
     ]
    }
   ],
   "source": [
    "n = int(input(\"Enter the integer for grid size: \"))\n",
    "\n",
    "import math\n",
    "ceil_n = math.ceil(n/2)\n",
    "\n",
    "for i in range(ceil_n):\n",
    "    print()\n",
    "    temp = n\n",
    "    for j in range(ceil_n):\n",
    "        if temp==n-i:\n",
    "            print(temp, end=\" \")\n",
    "        elif temp>n-i:\n",
    "            print(temp, end=\" \")\n",
    "            temp -=1\n",
    "    for j in range(ceil_n,n):\n",
    "        if j<temp:\n",
    "            print(temp, end=\" \")\n",
    "        else:\n",
    "            temp+=1\n",
    "            print(temp, end=\" \")\n",
    "for i in range(ceil_n,n):\n",
    "    print()\n",
    "    temp = n\n",
    "    for j in range(ceil_n):\n",
    "        if temp==i:\n",
    "            temp+=1\n",
    "            print(temp, end=\" \")\n",
    "        elif temp>i:\n",
    "            print(temp, end=\" \")\n",
    "            temp -=1\n",
    "    for j in range(ceil_n,n):\n",
    "        if j<temp:\n",
    "            print(temp, end=\" \")\n",
    "        else:\n",
    "            temp+=1\n",
    "            print(temp, end=\" \")"
   ]
  },
  {
   "cell_type": "code",
   "execution_count": 41,
   "id": "53fa9607-9210-4b1a-b9c7-482677c7ba7d",
   "metadata": {},
   "outputs": [
    {
     "name": "stdin",
     "output_type": "stream",
     "text": [
      "Enter the integer for grid size:  9\n"
     ]
    }
   ],
   "source": [
    "n = int(input(\"Enter the integer for grid size: \"))"
   ]
  },
  {
   "cell_type": "markdown",
   "id": "6fdb03b0-dd02-4432-a0f3-678eb9e6ca35",
   "metadata": {
    "jp-MarkdownHeadingCollapsed": true,
    "tags": []
   },
   "source": [
    "# Functions 1"
   ]
  },
  {
   "cell_type": "markdown",
   "id": "5807e109-0b75-4e86-96e7-b637c7dd9f9e",
   "metadata": {},
   "source": [
    "* Functions with multiple arguments will always take values as per the order  of the arguments.\n",
    "* No of values must match with no of arguments.\n",
    "* Use Docstring to explain the functions or code.\n",
    "* help(function) will print the docstring for that function.\n",
    "* If no value is returned in function then it will return None.\n",
    "* print only displays the output. It never generates an actual output. Use return function for that.\n",
    "* return is the last statement that executes in a function. Functioning very similar to break.\n",
    "* If there is no return in a function then it will return None."
   ]
  },
  {
   "cell_type": "markdown",
   "id": "b19f3c92-90e5-425a-ab1e-0c6e6855660f",
   "metadata": {
    "jp-MarkdownHeadingCollapsed": true,
    "tags": []
   },
   "source": [
    "### Docstring"
   ]
  },
  {
   "cell_type": "code",
   "execution_count": 51,
   "id": "dce3eca3-2c3f-4bbf-a0c0-75db4055f377",
   "metadata": {},
   "outputs": [],
   "source": [
    "def demo_add(a,b):\n",
    "    '''\n",
    "    This is a demo function doing summation and showcasing the\n",
    "    docstring use-case.\n",
    "    \n",
    "    :param a,b int: Two numbers(arguments) which are to be added\n",
    "    \n",
    "    :return sum int: Sum of a & b \n",
    "    '''\n",
    "    sum = a+b\n",
    "    return sum"
   ]
  },
  {
   "cell_type": "code",
   "execution_count": 52,
   "id": "eb785189-5c0b-46d3-8ce3-8c66c1e3ee17",
   "metadata": {},
   "outputs": [
    {
     "data": {
      "text/plain": [
       "10"
      ]
     },
     "execution_count": 52,
     "metadata": {},
     "output_type": "execute_result"
    }
   ],
   "source": [
    "demo_add(4,6)"
   ]
  },
  {
   "cell_type": "code",
   "execution_count": 53,
   "id": "79174ace-a397-4cb4-aed6-0c2e48c8e9de",
   "metadata": {},
   "outputs": [
    {
     "name": "stdout",
     "output_type": "stream",
     "text": [
      "Help on function demo_add in module __main__:\n",
      "\n",
      "demo_add(a, b)\n",
      "    This is a demo function doing summation and showcasing the\n",
      "    docstring use-case.\n",
      "    \n",
      "    :param a,b int: Two numbers(arguments) which are to be added\n",
      "    \n",
      "    :return sum int: Sum of a & b\n",
      "\n"
     ]
    }
   ],
   "source": [
    "help(demo_add)"
   ]
  },
  {
   "cell_type": "code",
   "execution_count": 54,
   "id": "d010af4b-e5ae-427d-a286-32fcf9b5dc76",
   "metadata": {},
   "outputs": [],
   "source": [
    "def add_two(a, b):\n",
    "    '''\n",
    "    Arguments - \n",
    "    a: Int or String\n",
    "    b: Int or String\n",
    "    \n",
    "    Note - Please do not enter mixed data types i.e. both integers or both strings\n",
    "    \n",
    "    Output - \n",
    "    Str + Str -> Concatenation\n",
    "    Int + Int -> Addition\n",
    "    '''\n",
    "    \n",
    "    result = a + b\n",
    "    print(result)"
   ]
  },
  {
   "cell_type": "code",
   "execution_count": 55,
   "id": "d4ee3141-c54d-46eb-8701-f1098def19ad",
   "metadata": {},
   "outputs": [
    {
     "name": "stdout",
     "output_type": "stream",
     "text": [
      "Help on function add_two in module __main__:\n",
      "\n",
      "add_two(a, b)\n",
      "    Arguments - \n",
      "    a: Int or String\n",
      "    b: Int or String\n",
      "    \n",
      "    Note - Please do not enter mixed data types i.e. both integers or both strings\n",
      "    \n",
      "    Output - \n",
      "    Str + Str -> Concatenation\n",
      "    Int + Int -> Addition\n",
      "\n"
     ]
    }
   ],
   "source": [
    "help(add_two)"
   ]
  },
  {
   "cell_type": "markdown",
   "id": "ed6ce9cf",
   "metadata": {
    "tags": []
   },
   "source": [
    "## Questions"
   ]
  },
  {
   "cell_type": "markdown",
   "id": "339d4752",
   "metadata": {
    "jp-MarkdownHeadingCollapsed": true,
    "tags": []
   },
   "source": [
    "### Question 1\n",
    "\n",
    "Write a piece of code which prints \"Making Tea\" five times."
   ]
  },
  {
   "cell_type": "markdown",
   "id": "4d3a03ec-f01a-499b-95ec-8daee6a59349",
   "metadata": {},
   "source": [
    "loop inside the function"
   ]
  },
  {
   "cell_type": "code",
   "execution_count": 3,
   "id": "2e384ff1",
   "metadata": {},
   "outputs": [],
   "source": [
    "def Making_Tea():\n",
    "    for i in range(5):\n",
    "        print(\"Make  Chai\")"
   ]
  },
  {
   "cell_type": "code",
   "execution_count": 4,
   "id": "60c74563",
   "metadata": {},
   "outputs": [
    {
     "name": "stdout",
     "output_type": "stream",
     "text": [
      "Make  Chai\n",
      "Make  Chai\n",
      "Make  Chai\n",
      "Make  Chai\n",
      "Make  Chai\n"
     ]
    }
   ],
   "source": [
    "Making_Tea()"
   ]
  },
  {
   "cell_type": "markdown",
   "id": "b26607e0-1274-4969-9572-1772aef53c06",
   "metadata": {},
   "source": [
    "function inside the loop"
   ]
  },
  {
   "cell_type": "code",
   "execution_count": 17,
   "id": "4e96f0c4-791d-4a57-a10e-61a49f607494",
   "metadata": {},
   "outputs": [
    {
     "name": "stdout",
     "output_type": "stream",
     "text": [
      "Make Tea\n",
      "Make Tea\n",
      "Make Tea\n",
      "Make Tea\n",
      "Make Tea\n"
     ]
    }
   ],
   "source": [
    "for i in range(5):\n",
    "    def Making_Tea1():\n",
    "        print(\"Make Tea\")\n",
    "    Making_Tea1()"
   ]
  },
  {
   "cell_type": "markdown",
   "id": "b4d93d20-e865-430a-914a-900ca5eba1fb",
   "metadata": {
    "jp-MarkdownHeadingCollapsed": true,
    "tags": []
   },
   "source": [
    "### Question 2 \n",
    "#### Sheldon Knock\n",
    "\n",
    "Write a function to print \"knock knock knock, {name}\"  3 times"
   ]
  },
  {
   "cell_type": "code",
   "execution_count": 36,
   "id": "b71ded0d",
   "metadata": {},
   "outputs": [
    {
     "name": "stdin",
     "output_type": "stream",
     "text": [
      "Enter the name:  Penny\n"
     ]
    }
   ],
   "source": [
    "name = input(\"Enter the name: \")\n",
    "\n",
    "def sheldon_knock(name):\n",
    "    for i in range(3):\n",
    "        print(\"Knock! Knock! Knock! \", name,\"!!\", sep=\"\")"
   ]
  },
  {
   "cell_type": "code",
   "execution_count": 37,
   "id": "652e51e8",
   "metadata": {},
   "outputs": [
    {
     "name": "stdout",
     "output_type": "stream",
     "text": [
      "Knock! Knock! Knock! Penny!!\n",
      "Knock! Knock! Knock! Penny!!\n",
      "Knock! Knock! Knock! Penny!!\n"
     ]
    }
   ],
   "source": [
    "sheldon_knock(name)"
   ]
  },
  {
   "cell_type": "code",
   "execution_count": 38,
   "id": "18b989da-36e7-429b-97ec-e5a191318f6d",
   "metadata": {},
   "outputs": [],
   "source": [
    "def sheldon_knock(name):\n",
    "    for i in range(3):\n",
    "        print(\"Knock! Knock! Knock! \", name,\"!!\", sep=\"\")"
   ]
  },
  {
   "cell_type": "code",
   "execution_count": 41,
   "id": "5dc75c3a-19af-4ed0-b164-bf048987ea0f",
   "metadata": {},
   "outputs": [
    {
     "name": "stdout",
     "output_type": "stream",
     "text": [
      "Knock! Knock! Knock! Howard!!\n",
      "Knock! Knock! Knock! Howard!!\n",
      "Knock! Knock! Knock! Howard!!\n"
     ]
    }
   ],
   "source": [
    "name = \"Howard\"\n",
    "sheldon_knock(name)"
   ]
  },
  {
   "cell_type": "markdown",
   "id": "700cbb54-f095-4c33-bb75-e065ef00ca8a",
   "metadata": {
    "jp-MarkdownHeadingCollapsed": true,
    "tags": []
   },
   "source": [
    "# Functions 2"
   ]
  },
  {
   "cell_type": "markdown",
   "id": "039fb44a-58ad-4312-9b36-81b864a3134d",
   "metadata": {
    "jp-MarkdownHeadingCollapsed": true,
    "tags": []
   },
   "source": [
    "### Args"
   ]
  },
  {
   "cell_type": "markdown",
   "id": "daaceafc-ef90-40b4-b7a4-21fad5e31199",
   "metadata": {
    "jp-MarkdownHeadingCollapsed": true,
    "tags": []
   },
   "source": [
    "#### Keyworded and Positional Args"
   ]
  },
  {
   "cell_type": "code",
   "execution_count": 13,
   "id": "f9682c99-a567-4cdb-be4e-0baf773a98a7",
   "metadata": {},
   "outputs": [],
   "source": [
    "def arg_demo(arg1, arg2, arg3):\n",
    "    print(arg1, arg2, arg3)"
   ]
  },
  {
   "cell_type": "markdown",
   "id": "266f0b08-b39a-4e1e-8440-5b131beb4d35",
   "metadata": {},
   "source": [
    "* Positional arg's values must follow the order of the args."
   ]
  },
  {
   "cell_type": "code",
   "execution_count": 18,
   "id": "c09bf018-aba0-4ce6-bd57-a8dbeee5880e",
   "metadata": {},
   "outputs": [
    {
     "name": "stdout",
     "output_type": "stream",
     "text": [
      "value1 value2 value3\n"
     ]
    }
   ],
   "source": [
    "arg_demo(\"value1\", \"value2\", \"value3\")\n",
    "#This is positional arg demo"
   ]
  },
  {
   "cell_type": "markdown",
   "id": "17dd9a55-7f62-471a-b117-a47272df3c8b",
   "metadata": {},
   "source": [
    "* With keyword args you don't necessarily need to follow the order of args."
   ]
  },
  {
   "cell_type": "code",
   "execution_count": 19,
   "id": "e8537624-d45e-4536-84d5-ebc15c4a9ec9",
   "metadata": {},
   "outputs": [
    {
     "name": "stdout",
     "output_type": "stream",
     "text": [
      "value3 value2 value3\n"
     ]
    }
   ],
   "source": [
    "arg_demo(arg2=\"value2\", arg1=\"value3\", arg3=\"value3\")\n",
    "#This is Keyworded arg demo"
   ]
  },
  {
   "cell_type": "markdown",
   "id": "7b9f7611-bc21-44ec-ba89-b6956b6392ef",
   "metadata": {},
   "source": [
    "* positional args after keyworded args is not allowed."
   ]
  },
  {
   "cell_type": "code",
   "execution_count": 27,
   "id": "e1b4a39a-2a97-4d2a-b6b9-e370d5b1d2ef",
   "metadata": {},
   "outputs": [
    {
     "ename": "SyntaxError",
     "evalue": "positional argument follows keyword argument (3555017215.py, line 1)",
     "output_type": "error",
     "traceback": [
      "\u001b[1;36m  Cell \u001b[1;32mIn[27], line 1\u001b[1;36m\u001b[0m\n\u001b[1;33m    arg_demo(arg2=\"value2\", arg1=\"value3\", \"value3\")\u001b[0m\n\u001b[1;37m                                                   ^\u001b[0m\n\u001b[1;31mSyntaxError\u001b[0m\u001b[1;31m:\u001b[0m positional argument follows keyword argument\n"
     ]
    }
   ],
   "source": [
    "arg_demo(arg2=\"value2\", arg1=\"value3\", \"value3\")\n",
    "#value 3 kis keyword arg following positional args, hence not allowed"
   ]
  },
  {
   "cell_type": "markdown",
   "id": "78724830-5191-4e6f-823a-bc90bf33d79d",
   "metadata": {},
   "source": [
    "* Keyworded args after positional arg is allowed. But there shouldn't be any duplication or conflicting values. "
   ]
  },
  {
   "cell_type": "code",
   "execution_count": 28,
   "id": "ed9d4f5e-f740-4bf3-b290-ca2b66360f1d",
   "metadata": {},
   "outputs": [
    {
     "name": "stdout",
     "output_type": "stream",
     "text": [
      "value2 value3 value3\n"
     ]
    }
   ],
   "source": [
    "arg_demo(\"value2\", arg2=\"value3\", arg3=\"value3\")\n",
    "#keywordrd args follows positional args without any duplication of\n",
    "#arguments."
   ]
  },
  {
   "cell_type": "code",
   "execution_count": 29,
   "id": "64bbd310-9aef-47a9-8420-50f340f41fbf",
   "metadata": {},
   "outputs": [
    {
     "ename": "TypeError",
     "evalue": "arg_demo() got multiple values for argument 'arg1'",
     "output_type": "error",
     "traceback": [
      "\u001b[1;31m---------------------------------------------------------------------------\u001b[0m",
      "\u001b[1;31mTypeError\u001b[0m                                 Traceback (most recent call last)",
      "Cell \u001b[1;32mIn[29], line 1\u001b[0m\n\u001b[1;32m----> 1\u001b[0m \u001b[43marg_demo\u001b[49m\u001b[43m(\u001b[49m\u001b[38;5;124;43m\"\u001b[39;49m\u001b[38;5;124;43mvalue2\u001b[39;49m\u001b[38;5;124;43m\"\u001b[39;49m\u001b[43m,\u001b[49m\u001b[43m \u001b[49m\u001b[43marg1\u001b[49m\u001b[38;5;241;43m=\u001b[39;49m\u001b[38;5;124;43m\"\u001b[39;49m\u001b[38;5;124;43mvalue3\u001b[39;49m\u001b[38;5;124;43m\"\u001b[39;49m\u001b[43m,\u001b[49m\u001b[43m \u001b[49m\u001b[43marg3\u001b[49m\u001b[38;5;241;43m=\u001b[39;49m\u001b[38;5;124;43m\"\u001b[39;49m\u001b[38;5;124;43mvalue3\u001b[39;49m\u001b[38;5;124;43m\"\u001b[39;49m\u001b[43m)\u001b[49m\n",
      "\u001b[1;31mTypeError\u001b[0m: arg_demo() got multiple values for argument 'arg1'"
     ]
    }
   ],
   "source": [
    "arg_demo(\"value2\", arg1=\"value3\", arg3=\"value3\")\n",
    "#Duplication of arg1 in keyworded arg after postional arg.\n",
    "#hence not allowed"
   ]
  },
  {
   "cell_type": "markdown",
   "id": "e8338403-e583-4511-9727-d420ddf99001",
   "metadata": {
    "jp-MarkdownHeadingCollapsed": true,
    "tags": []
   },
   "source": [
    "#### Default args (Optional args)"
   ]
  },
  {
   "cell_type": "markdown",
   "id": "6afc9183-368f-4487-83a1-b779b42b6a4a",
   "metadata": {},
   "source": [
    "* args which have already defined values are optional arguments.\n",
    "* If optional arg is not provided then it wll take the default value\n",
    "* default args must always defined at the end. Hence, non-default args must not follow default args."
   ]
  },
  {
   "cell_type": "code",
   "execution_count": 31,
   "id": "2d2f3e7b-2e31-462f-b7d6-f267c0418685",
   "metadata": {},
   "outputs": [],
   "source": [
    "def arg_demo(arg1, arg2, arg3=\"default\"):\n",
    "    print(arg1, arg2, arg3)"
   ]
  },
  {
   "cell_type": "code",
   "execution_count": 33,
   "id": "3071bfe6-aa96-4a86-9631-dd9f5bea885a",
   "metadata": {},
   "outputs": [
    {
     "name": "stdout",
     "output_type": "stream",
     "text": [
      "value2 value3 default\n"
     ]
    }
   ],
   "source": [
    "arg_demo(\"value2\", \"value3\")\n",
    "# will print the default value of arg3 if not provided"
   ]
  },
  {
   "cell_type": "markdown",
   "id": "8c5c0ad3-c88a-4a54-be20-e298f4f3814b",
   "metadata": {
    "tags": []
   },
   "source": [
    "#### Scope"
   ]
  },
  {
   "cell_type": "markdown",
   "id": "d4d7c7fc-9f7b-4e6e-8f76-2a21a200270f",
   "metadata": {},
   "source": [
    "* Once global varaible is declared then any execution on the varaible will affect and modify it globally too."
   ]
  },
  {
   "cell_type": "code",
   "execution_count": 42,
   "id": "524483cd-e13c-473e-bb8d-0919ed30d49e",
   "metadata": {},
   "outputs": [
    {
     "name": "stdout",
     "output_type": "stream",
     "text": [
      "20\n",
      "20\n"
     ]
    }
   ],
   "source": [
    "a = 10\n",
    "\n",
    "def random():\n",
    "    global a\n",
    "    a =20\n",
    "    print(a)\n",
    "\n",
    "random()\n",
    "print(a)"
   ]
  },
  {
   "cell_type": "markdown",
   "id": "26460691-f096-4bef-a8f2-01faa1727426",
   "metadata": {},
   "source": [
    "* Once local variable is declared then you can not invoke global variable inside the function"
   ]
  },
  {
   "cell_type": "code",
   "execution_count": 43,
   "id": "e971dce4-85eb-4cc8-9a39-581321377b07",
   "metadata": {},
   "outputs": [
    {
     "ename": "SyntaxError",
     "evalue": "name 'a' is assigned to before global declaration (3231489549.py, line 5)",
     "output_type": "error",
     "traceback": [
      "\u001b[1;36m  Cell \u001b[1;32mIn[43], line 5\u001b[1;36m\u001b[0m\n\u001b[1;33m    global a\u001b[0m\n\u001b[1;37m    ^\u001b[0m\n\u001b[1;31mSyntaxError\u001b[0m\u001b[1;31m:\u001b[0m name 'a' is assigned to before global declaration\n"
     ]
    }
   ],
   "source": [
    "a = 10\n",
    "\n",
    "def random():\n",
    "    a=20\n",
    "    global a\n",
    "    print(a)\n",
    "\n",
    "random()    "
   ]
  },
  {
   "cell_type": "markdown",
   "id": "c0145de3-f828-4dbd-badd-e06089503941",
   "metadata": {
    "jp-MarkdownHeadingCollapsed": true,
    "tags": []
   },
   "source": [
    "## Questions"
   ]
  },
  {
   "cell_type": "markdown",
   "id": "169c2e7f-e3c6-444e-a76f-15f4d09d6112",
   "metadata": {
    "jp-MarkdownHeadingCollapsed": true,
    "tags": []
   },
   "source": [
    "### Question 1\n",
    "\n",
    "    create a date printing function -\n",
    "    Should take 4 arguments -> day, month, year and style\n",
    "    \n",
    "    Styling Logic —\n",
    "    style -> O -> d/m/y\n",
    "    style 1 -> m/d/y\n",
    "    style -> any other value -> Invalid Style\n",
    "\n",
    "    default style is O.\n"
   ]
  },
  {
   "cell_type": "code",
   "execution_count": 44,
   "id": "34ad2855-3c83-40fc-b911-2d532339cdfc",
   "metadata": {},
   "outputs": [
    {
     "name": "stdout",
     "output_type": "stream",
     "text": [
      "1/12/1997\n"
     ]
    }
   ],
   "source": [
    "def date_print(d, m, y, style=0):\n",
    "    if style==0:\n",
    "        print(d,m,y, sep=\"/\")\n",
    "    elif style==1:\n",
    "         print(m,d,y, sep=\"/\")\n",
    "    else:\n",
    "        print(\"Invalid\")\n",
    "\n",
    "date_print(1,12,1997,0)"
   ]
  },
  {
   "cell_type": "markdown",
   "id": "20eacb1d-6d17-481b-ad92-a1eb19d9cde8",
   "metadata": {
    "tags": []
   },
   "source": [
    "# Lists 1D"
   ]
  },
  {
   "cell_type": "markdown",
   "id": "93728f75-6938-4124-bf21-5cf15ca24214",
   "metadata": {},
   "source": [
    "* Lists are mutable and modifiable.\n",
    "* Lists are heterogenous and ordered collection of data.\n",
    "* Lists supports item assignment.\n",
    "* List, set and tuples(iterable type) are interconvertables(typecasting) with each other."
   ]
  },
  {
   "cell_type": "markdown",
   "id": "7520e31e-747a-4b47-b244-2acee3a3d891",
   "metadata": {},
   "source": [
    "Empty List"
   ]
  },
  {
   "cell_type": "code",
   "execution_count": 58,
   "id": "2daf8c21-d20b-432e-b339-f15bde501bdc",
   "metadata": {},
   "outputs": [
    {
     "data": {
      "text/plain": [
       "[]"
      ]
     },
     "execution_count": 58,
     "metadata": {},
     "output_type": "execute_result"
    }
   ],
   "source": [
    "a = []\n",
    "a"
   ]
  },
  {
   "cell_type": "code",
   "execution_count": 59,
   "id": "90ea2681-79c6-4bb3-a826-4fc1a5cbbb7c",
   "metadata": {},
   "outputs": [
    {
     "data": {
      "text/plain": [
       "list"
      ]
     },
     "execution_count": 59,
     "metadata": {},
     "output_type": "execute_result"
    }
   ],
   "source": [
    "type(a)"
   ]
  },
  {
   "cell_type": "code",
   "execution_count": 119,
   "id": "656afd85-73e3-40e5-a138-edacd4a4338b",
   "metadata": {},
   "outputs": [],
   "source": [
    "a = [1,3,4,5]"
   ]
  },
  {
   "cell_type": "code",
   "execution_count": 120,
   "id": "3281b1e9-43ec-49ff-a9df-750252aef782",
   "metadata": {},
   "outputs": [
    {
     "data": {
      "text/plain": [
       "[1, 3, 4, 5]"
      ]
     },
     "execution_count": 120,
     "metadata": {},
     "output_type": "execute_result"
    }
   ],
   "source": [
    "a"
   ]
  },
  {
   "cell_type": "code",
   "execution_count": 121,
   "id": "61c81f8b-cfe8-45bd-998c-b8473dc63daa",
   "metadata": {},
   "outputs": [],
   "source": [
    "a[0]=2 #changing the value of index 0"
   ]
  },
  {
   "cell_type": "code",
   "execution_count": 122,
   "id": "4a2dbcc1-429f-487e-beb5-d14aca561a39",
   "metadata": {},
   "outputs": [
    {
     "data": {
      "text/plain": [
       "[2, 3, 4, 5]"
      ]
     },
     "execution_count": 122,
     "metadata": {},
     "output_type": "execute_result"
    }
   ],
   "source": [
    "a"
   ]
  },
  {
   "cell_type": "code",
   "execution_count": 90,
   "id": "652b223b-00cc-48d9-b12b-16a17a75984d",
   "metadata": {},
   "outputs": [],
   "source": [
    "runs_virat = [67,54,12,34,77,89,101,123]"
   ]
  },
  {
   "cell_type": "code",
   "execution_count": 4,
   "id": "062fea82-fbae-46dd-b5d3-2aa7cc39c3b8",
   "metadata": {},
   "outputs": [
    {
     "data": {
      "text/plain": [
       "67"
      ]
     },
     "execution_count": 4,
     "metadata": {},
     "output_type": "execute_result"
    }
   ],
   "source": [
    "# Accessing value of a list by its index\n",
    "#If position is n then index in n-1. Pay attention to the language of \n",
    "#Ques.\n",
    "\n",
    "#Position is 1. Index is 0\n",
    "runs_virat[0]"
   ]
  },
  {
   "cell_type": "code",
   "execution_count": 91,
   "id": "dac2156c-0ad6-4021-aea8-5d95b6d7b299",
   "metadata": {},
   "outputs": [
    {
     "data": {
      "text/plain": [
       "8"
      ]
     },
     "execution_count": 91,
     "metadata": {},
     "output_type": "execute_result"
    }
   ],
   "source": [
    "#To get number of values in a list\n",
    "len(runs_virat)"
   ]
  },
  {
   "cell_type": "markdown",
   "id": "1a4d4bd4-f6a0-4c43-88fa-49978f570761",
   "metadata": {
    "tags": []
   },
   "source": [
    "### List functions"
   ]
  },
  {
   "cell_type": "markdown",
   "id": "b2571840-823b-46e9-a7a5-83ea9c466cd4",
   "metadata": {
    "jp-MarkdownHeadingCollapsed": true,
    "tags": []
   },
   "source": [
    "#### Negative Indexing"
   ]
  },
  {
   "cell_type": "code",
   "execution_count": 6,
   "id": "e1521c1d-7681-418b-91ad-320dcb852c77",
   "metadata": {},
   "outputs": [
    {
     "data": {
      "text/plain": [
       "123"
      ]
     },
     "execution_count": 6,
     "metadata": {},
     "output_type": "execute_result"
    }
   ],
   "source": [
    "#Accessing the value of the list using negative Indexing\n",
    "runs_virat[-1]"
   ]
  },
  {
   "cell_type": "code",
   "execution_count": 7,
   "id": "5b20a117-9ff7-4d5b-bc58-deb204cab0a9",
   "metadata": {},
   "outputs": [
    {
     "data": {
      "text/plain": [
       "67"
      ]
     },
     "execution_count": 7,
     "metadata": {},
     "output_type": "execute_result"
    }
   ],
   "source": [
    "runs_virat[-len(runs_virat)]"
   ]
  },
  {
   "cell_type": "markdown",
   "id": "f8a78517-5577-428f-ba79-8f86676b5d26",
   "metadata": {
    "jp-MarkdownHeadingCollapsed": true,
    "tags": []
   },
   "source": [
    "####  Index\n",
    "* Returns the index position of first occurence of value"
   ]
  },
  {
   "cell_type": "code",
   "execution_count": 22,
   "id": "2445a179-bb6d-4db1-a09e-00d15c25cceb",
   "metadata": {},
   "outputs": [
    {
     "data": {
      "text/plain": [
       "3"
      ]
     },
     "execution_count": 22,
     "metadata": {},
     "output_type": "execute_result"
    }
   ],
   "source": [
    "runs = [67,54,34,12,77,89,101,123,12]\n",
    "runs.index(12)"
   ]
  },
  {
   "cell_type": "markdown",
   "id": "8ce7a8ba-ead8-405f-ab99-bb5055d1fbd2",
   "metadata": {
    "jp-MarkdownHeadingCollapsed": true,
    "tags": []
   },
   "source": [
    "#### Count\n",
    "* Returns the no of occurence of element in a list"
   ]
  },
  {
   "cell_type": "code",
   "execution_count": 23,
   "id": "9c9b5cf3-05e9-4612-9921-745d224a6ccb",
   "metadata": {},
   "outputs": [
    {
     "data": {
      "text/plain": [
       "2"
      ]
     },
     "execution_count": 23,
     "metadata": {},
     "output_type": "execute_result"
    }
   ],
   "source": [
    "runs.count(12)"
   ]
  },
  {
   "cell_type": "markdown",
   "id": "ef827480-aefa-4ac8-b54d-7ff16d744a39",
   "metadata": {
    "jp-MarkdownHeadingCollapsed": true,
    "tags": []
   },
   "source": [
    "#### Append\n",
    "* Adds an element to the end of the list"
   ]
  },
  {
   "cell_type": "code",
   "execution_count": null,
   "id": "2e79c2c7-fa65-4355-9fd1-06254fa4b151",
   "metadata": {},
   "outputs": [],
   "source": []
  },
  {
   "cell_type": "code",
   "execution_count": 39,
   "id": "c925f743-d0d3-4d0e-a358-37a832fd80eb",
   "metadata": {},
   "outputs": [],
   "source": [
    "runs = [67,54,12,34,77,89,101,123]\n",
    "runs.append(71)"
   ]
  },
  {
   "cell_type": "code",
   "execution_count": 40,
   "id": "c8c2f3de-809e-4d16-8b35-0eacb83771f5",
   "metadata": {},
   "outputs": [
    {
     "data": {
      "text/plain": [
       "[67, 54, 12, 34, 77, 89, 101, 123, 71]"
      ]
     },
     "execution_count": 40,
     "metadata": {},
     "output_type": "execute_result"
    }
   ],
   "source": [
    "runs"
   ]
  },
  {
   "cell_type": "markdown",
   "id": "7d5b1d04-b4fb-416e-8548-fdf9fbf80888",
   "metadata": {
    "tags": []
   },
   "source": [
    "#### Insert\n",
    "* Adds an element to a list at any index\n",
    "* Changes the index of the list's values by one after the insertion position."
   ]
  },
  {
   "cell_type": "code",
   "execution_count": 41,
   "id": "e2a5b97f-9dae-45a7-ad2d-ad947ab536cd",
   "metadata": {},
   "outputs": [],
   "source": [
    "#Adding a value at 1 index\n",
    "runs.insert(1,15)"
   ]
  },
  {
   "cell_type": "code",
   "execution_count": 42,
   "id": "69a749b1-044e-4e4b-84b1-7ff6fbc356f8",
   "metadata": {},
   "outputs": [
    {
     "data": {
      "text/plain": [
       "[67, 15, 54, 12, 34, 77, 89, 101, 123, 71]"
      ]
     },
     "execution_count": 42,
     "metadata": {},
     "output_type": "execute_result"
    }
   ],
   "source": [
    "runs"
   ]
  },
  {
   "cell_type": "markdown",
   "id": "e6363d8c-d538-48ec-b9be-1ed2e0c442e2",
   "metadata": {
    "tags": []
   },
   "source": [
    "#### Extend\n",
    "* Adding multiple elements to the end of the list simultaneously "
   ]
  },
  {
   "cell_type": "code",
   "execution_count": 43,
   "id": "e1a06447-bc48-42bf-86fc-5f61f590acc7",
   "metadata": {},
   "outputs": [],
   "source": [
    "runs_4=[1,2,3,4]\n",
    "runs.extend(runs_4)"
   ]
  },
  {
   "cell_type": "code",
   "execution_count": 44,
   "id": "5764d254-8400-4969-adf9-26143c8b3aba",
   "metadata": {},
   "outputs": [
    {
     "data": {
      "text/plain": [
       "[67, 15, 54, 12, 34, 77, 89, 101, 123, 71, 1, 2, 3, 4]"
      ]
     },
     "execution_count": 44,
     "metadata": {},
     "output_type": "execute_result"
    }
   ],
   "source": [
    "runs"
   ]
  },
  {
   "cell_type": "code",
   "execution_count": 49,
   "id": "d4ae556f-f691-4f7b-8a0c-2484d5bc20bc",
   "metadata": {},
   "outputs": [],
   "source": [
    "# Concatenating two lists. Same as Extend.\n",
    "runs = [67,54,12,34,77,89,101,123]\n",
    "runs = runs + [56,99]"
   ]
  },
  {
   "cell_type": "code",
   "execution_count": 50,
   "id": "2a026363-9ac4-4e5f-abed-00adf750012a",
   "metadata": {},
   "outputs": [
    {
     "data": {
      "text/plain": [
       "[67, 54, 12, 34, 77, 89, 101, 123, 56, 99]"
      ]
     },
     "execution_count": 50,
     "metadata": {},
     "output_type": "execute_result"
    }
   ],
   "source": [
    "runs"
   ]
  },
  {
   "cell_type": "code",
   "execution_count": 51,
   "id": "55a01e34-cbd1-4a52-8a4e-6226dfc2edf7",
   "metadata": {},
   "outputs": [
    {
     "data": {
      "text/plain": [
       "[1, 2, 3, 4, 5, 6]"
      ]
     },
     "execution_count": 51,
     "metadata": {},
     "output_type": "execute_result"
    }
   ],
   "source": [
    "[1,2,3]+[4,5,6]"
   ]
  },
  {
   "cell_type": "markdown",
   "id": "3ca82771-be23-4367-9da7-9c272406a64a",
   "metadata": {
    "tags": []
   },
   "source": [
    "#### Delete\n",
    "* Pop by the undex and remove by the value\n",
    "##### Pop\n",
    "* Removes an element using an index - last by default\n",
    "##### remove\n",
    "* Delete an elemnt using a value\n",
    "* In case of duplicate values, it will remove the first occurence only\n",
    "* It does not return the deleted value"
   ]
  },
  {
   "cell_type": "markdown",
   "id": "d42ecf69-e006-4dde-abb9-ef9f0070e35b",
   "metadata": {},
   "source": [
    "pop and remove"
   ]
  },
  {
   "cell_type": "code",
   "execution_count": 103,
   "id": "e0661742-35f4-42ec-b341-d49e257daa8c",
   "metadata": {},
   "outputs": [
    {
     "data": {
      "text/plain": [
       "[67, 54, 12, 34, 77, 89, 101, 123, 56, 99]"
      ]
     },
     "execution_count": 103,
     "metadata": {},
     "output_type": "execute_result"
    }
   ],
   "source": [
    "runs"
   ]
  },
  {
   "cell_type": "code",
   "execution_count": 104,
   "id": "66e759fa-3785-46fc-9544-6c61d986b535",
   "metadata": {},
   "outputs": [
    {
     "data": {
      "text/plain": [
       "99"
      ]
     },
     "execution_count": 104,
     "metadata": {},
     "output_type": "execute_result"
    }
   ],
   "source": [
    "#Removing the last element i.e. 99\n",
    "runs.pop()"
   ]
  },
  {
   "cell_type": "code",
   "execution_count": 105,
   "id": "e0b2baaf-3c58-42cf-bf0e-0195c38f2710",
   "metadata": {},
   "outputs": [
    {
     "data": {
      "text/plain": [
       "[67, 54, 12, 34, 77, 89, 101, 123, 56]"
      ]
     },
     "execution_count": 105,
     "metadata": {},
     "output_type": "execute_result"
    }
   ],
   "source": [
    "runs"
   ]
  },
  {
   "cell_type": "code",
   "execution_count": 106,
   "id": "f5c34181-7632-4316-a191-5cd76a4df69b",
   "metadata": {},
   "outputs": [],
   "source": [
    "runs.remove(67)"
   ]
  },
  {
   "cell_type": "code",
   "execution_count": 107,
   "id": "ab40ab1b-f22a-4323-8234-8d7a529b9e86",
   "metadata": {},
   "outputs": [
    {
     "data": {
      "text/plain": [
       "[54, 12, 34, 77, 89, 101, 123, 56]"
      ]
     },
     "execution_count": 107,
     "metadata": {},
     "output_type": "execute_result"
    }
   ],
   "source": [
    "runs"
   ]
  },
  {
   "cell_type": "code",
   "execution_count": 110,
   "id": "83ac4635-9386-49e4-b0a9-6757ed661446",
   "metadata": {},
   "outputs": [
    {
     "data": {
      "text/plain": [
       "[7, 8, 7]"
      ]
     },
     "execution_count": 110,
     "metadata": {},
     "output_type": "execute_result"
    }
   ],
   "source": [
    "remove_list=[7,7,8,7]\n",
    "remove_list.remove(7) #Will remove only the first occurence\n",
    "remove_list"
   ]
  },
  {
   "cell_type": "code",
   "execution_count": null,
   "id": "5695b300-246e-4983-b1d9-3091996a8810",
   "metadata": {},
   "outputs": [],
   "source": []
  },
  {
   "cell_type": "markdown",
   "id": "9fe0c450-626c-4302-8e48-11af609e700f",
   "metadata": {
    "jp-MarkdownHeadingCollapsed": true,
    "tags": []
   },
   "source": [
    "## Questions"
   ]
  },
  {
   "cell_type": "markdown",
   "id": "210189fa-6a67-48c2-89e3-764ba335a91d",
   "metadata": {
    "jp-MarkdownHeadingCollapsed": true,
    "tags": []
   },
   "source": [
    "### Question 1\n",
    "    Print total Of runs scored by Virat Odd numbered matches."
   ]
  },
  {
   "cell_type": "code",
   "execution_count": 78,
   "id": "e3c098fb-9f74-4060-92d2-924fddb95db3",
   "metadata": {},
   "outputs": [
    {
     "name": "stdout",
     "output_type": "stream",
     "text": [
      "257\n"
     ]
    }
   ],
   "source": [
    "sum=0\n",
    "for i in range(0,len(runs_virat),2):\n",
    "    sum+=runs_virat[i]\n",
    "print(sum)"
   ]
  },
  {
   "cell_type": "markdown",
   "id": "e0de32c4-782c-4af4-89bf-b3ab2c200801",
   "metadata": {
    "tags": []
   },
   "source": [
    "### Question 2\n",
    "    runs virat = [67, 54, 12, 34, 77, 89, 101, 123]\n",
    "    In runs_virat, Calculate:\n",
    "    sum, avg, max and min runs without using any internal functions.\n",
    "    You can use the length function."
   ]
  },
  {
   "cell_type": "code",
   "execution_count": 79,
   "id": "ae7e4c0c-5999-4fc4-8a27-4071a74e9138",
   "metadata": {},
   "outputs": [
    {
     "name": "stdout",
     "output_type": "stream",
     "text": [
      "557\n",
      "69.625\n",
      "123\n",
      "12\n"
     ]
    }
   ],
   "source": [
    "runs_virat = [67,54,12,34,77,89,101,123]\n",
    "sum1 = 0\n",
    "avg1 = 0\n",
    "max1 = runs_virat[0]\n",
    "min1= runs_virat[0]\n",
    "\n",
    "for i in range(len(runs_virat)):\n",
    "    sum1 += runs_virat[i]\n",
    "    avg1 = sum1/len(runs_virat)\n",
    "\n",
    "    if max1 < runs_virat[i]:\n",
    "        max1 = runs_virat[i]\n",
    "    if min1 > runs_virat[i]:\n",
    "        min1 = runs_virat[i]\n",
    "        \n",
    "print(sum1)\n",
    "print(avg1)\n",
    "print(max1)\n",
    "print(min1)"
   ]
  },
  {
   "cell_type": "markdown",
   "id": "b7ab8b15-fe70-4729-9550-0da33be6dd22",
   "metadata": {
    "jp-MarkdownHeadingCollapsed": true,
    "tags": []
   },
   "source": [
    "##### Using custom functions"
   ]
  },
  {
   "cell_type": "code",
   "execution_count": 80,
   "id": "4947c192-612e-4201-8869-89ac4c548bb8",
   "metadata": {},
   "outputs": [],
   "source": [
    "def custom_len(a):\n",
    "    n=0\n",
    "    for i in a:\n",
    "        n+=1       \n",
    "    return n"
   ]
  },
  {
   "cell_type": "code",
   "execution_count": 81,
   "id": "ec9e2435-0bcc-4666-90e9-5f7266a73449",
   "metadata": {},
   "outputs": [
    {
     "data": {
      "text/plain": [
       "8"
      ]
     },
     "execution_count": 81,
     "metadata": {},
     "output_type": "execute_result"
    }
   ],
   "source": [
    "custom_len(runs_virat)"
   ]
  },
  {
   "cell_type": "code",
   "execution_count": 82,
   "id": "80d4b273-af4f-4e99-8c96-6bc79bcb98c6",
   "metadata": {},
   "outputs": [],
   "source": [
    "def custom_sum(a):\n",
    "    sum_list=0\n",
    "    \n",
    "    for i in a:\n",
    "        sum_list +=i\n",
    "    return sum_list"
   ]
  },
  {
   "cell_type": "code",
   "execution_count": 83,
   "id": "2dcd594a-b93b-48c0-a949-23136e708057",
   "metadata": {},
   "outputs": [
    {
     "data": {
      "text/plain": [
       "557"
      ]
     },
     "execution_count": 83,
     "metadata": {},
     "output_type": "execute_result"
    }
   ],
   "source": [
    "custom_sum(runs_virat)"
   ]
  },
  {
   "cell_type": "code",
   "execution_count": 84,
   "id": "9782f410-2158-45d5-9c02-c5acc879d36f",
   "metadata": {},
   "outputs": [],
   "source": [
    "def custom_avg(a):\n",
    "    avg = custom_sum(a)/custom_len(a)\n",
    "    return avg"
   ]
  },
  {
   "cell_type": "code",
   "execution_count": 85,
   "id": "2b4c159a-7ad9-4144-b6da-cf54180a1267",
   "metadata": {},
   "outputs": [
    {
     "data": {
      "text/plain": [
       "69.625"
      ]
     },
     "execution_count": 85,
     "metadata": {},
     "output_type": "execute_result"
    }
   ],
   "source": [
    "custom_avg(runs_virat)"
   ]
  },
  {
   "cell_type": "code",
   "execution_count": 86,
   "id": "d49e817a-5828-4a71-94ef-cf9f77a46d7b",
   "metadata": {},
   "outputs": [],
   "source": [
    "def custom_max(a):\n",
    "    max_value = a[0]\n",
    "    for i in range (1,len(a)):\n",
    "        if a[i]> max_value:\n",
    "            max_value=a[i]\n",
    "    return max_value"
   ]
  },
  {
   "cell_type": "code",
   "execution_count": 87,
   "id": "ad9583ce-c7a8-46b8-a632-91d8a2b1f625",
   "metadata": {},
   "outputs": [
    {
     "data": {
      "text/plain": [
       "123"
      ]
     },
     "execution_count": 87,
     "metadata": {},
     "output_type": "execute_result"
    }
   ],
   "source": [
    "custom_max(runs_virat)"
   ]
  },
  {
   "cell_type": "code",
   "execution_count": 88,
   "id": "9349b97c-9135-4e91-87f1-1d7757abe049",
   "metadata": {},
   "outputs": [],
   "source": [
    "def custom_min(a):\n",
    "    min_value = a[0]\n",
    "    for i in range (1,len(a)):\n",
    "        if a[i]< min_value:\n",
    "            min_value=a[i]\n",
    "    return min_value"
   ]
  },
  {
   "cell_type": "code",
   "execution_count": 89,
   "id": "e0b4c684-34fd-4db4-914c-0f8c5e4a306d",
   "metadata": {},
   "outputs": [
    {
     "data": {
      "text/plain": [
       "12"
      ]
     },
     "execution_count": 89,
     "metadata": {},
     "output_type": "execute_result"
    }
   ],
   "source": [
    "custom_min(runs_virat)"
   ]
  },
  {
   "cell_type": "markdown",
   "id": "bc516a07-c9d8-428f-a374-3ca7de2f1b6f",
   "metadata": {
    "jp-MarkdownHeadingCollapsed": true,
    "tags": []
   },
   "source": [
    "### Question 3\n",
    "Print average Of runs scored by Virat in Even numbered matches."
   ]
  },
  {
   "cell_type": "code",
   "execution_count": 102,
   "id": "e53bb2a5-2b26-4674-a3f1-c66cc89d9ce0",
   "metadata": {},
   "outputs": [
    {
     "name": "stdout",
     "output_type": "stream",
     "text": [
      "64.25\n"
     ]
    }
   ],
   "source": [
    "sum_e=0\n",
    "count=0\n",
    "for i in range(0,len(runs_virat),2):\n",
    "        sum_e+=runs_virat[i]\n",
    "        count+=1\n",
    "print(sum_e/count)"
   ]
  },
  {
   "cell_type": "markdown",
   "id": "b4578172-d9a2-4454-b4b0-389851ed7504",
   "metadata": {
    "tags": []
   },
   "source": [
    "# List Slicing"
   ]
  },
  {
   "cell_type": "markdown",
   "id": "66c3867d-3cbf-4585-a9b0-e494d29a9872",
   "metadata": {
    "jp-MarkdownHeadingCollapsed": true,
    "tags": []
   },
   "source": [
    "## Theory"
   ]
  },
  {
   "cell_type": "markdown",
   "id": "9bf39b1e-fb5f-4e6c-9534-575b8687ce17",
   "metadata": {
    "tags": []
   },
   "source": [
    "* start: end: steps/jumps\n",
    "* Positive index values and negative index values can be used together. Indexing is not mathmatical!\n",
    "* step sign decides the direction of jump."
   ]
  },
  {
   "cell_type": "markdown",
   "id": "06866e81-1891-482a-8aee-42ac848d6144",
   "metadata": {
    "tags": []
   },
   "source": [
    "####  Default Values in List Slicing"
   ]
  },
  {
   "cell_type": "markdown",
   "id": "9d991cc7-0ef0-45e8-ba66-6e759104e56e",
   "metadata": {},
   "source": [
    "##### Jump Size is Positive\n",
    "* start = 0, end = end of list, jump = 1\n",
    "* List --> [ : : 1]"
   ]
  },
  {
   "cell_type": "markdown",
   "id": "c3fd08fc-eb38-4e12-9110-2ab9d9829399",
   "metadata": {},
   "source": [
    "##### Jump Size is Negative"
   ]
  },
  {
   "cell_type": "markdown",
   "id": "a83a3ded-c5ad-42c1-979e-e0fe36ca6dc7",
   "metadata": {},
   "source": [
    "* start = len(list), end = start of list , jump = -1\n",
    "* Reverse List --> [ : : -1]"
   ]
  },
  {
   "cell_type": "markdown",
   "id": "546f3618-1e99-4358-9fb5-9787dc3f8579",
   "metadata": {
    "jp-MarkdownHeadingCollapsed": true,
    "tags": []
   },
   "source": [
    "## Questions"
   ]
  },
  {
   "cell_type": "markdown",
   "id": "8a2212f0-19f8-4468-bfe1-4c153f44393c",
   "metadata": {
    "jp-MarkdownHeadingCollapsed": true,
    "tags": []
   },
   "source": [
    "### Question 1 \n",
    "Print runs in odd numbered matches"
   ]
  },
  {
   "cell_type": "code",
   "execution_count": 124,
   "id": "b3d3736e-f1ab-4e83-91ec-3c740deb1b95",
   "metadata": {},
   "outputs": [],
   "source": [
    "runs = [62,85,71,10,12,101,122,99,81,55]"
   ]
  },
  {
   "cell_type": "code",
   "execution_count": 125,
   "id": "226fd528-cb11-427b-8d7c-94a793af1330",
   "metadata": {},
   "outputs": [
    {
     "name": "stdout",
     "output_type": "stream",
     "text": [
      "62 71 12 122 81 "
     ]
    }
   ],
   "source": [
    "for i in range(0,len(runs),2):\n",
    "        print(runs[i], end=\" \")"
   ]
  },
  {
   "cell_type": "markdown",
   "id": "ab13adfe-46ca-4500-a596-a1f362b8a81d",
   "metadata": {
    "jp-MarkdownHeadingCollapsed": true,
    "tags": []
   },
   "source": [
    "### Question 2\n",
    "\n",
    "    Given a list of all runs, make a new list of all runs made in odd numberd matches"
   ]
  },
  {
   "cell_type": "code",
   "execution_count": 128,
   "id": "e9ec39f5-f161-44dd-af47-542c923fd176",
   "metadata": {},
   "outputs": [],
   "source": [
    "run = []\n",
    "for i in range(0,len(runs),2):\n",
    "        run.append(runs[i])"
   ]
  },
  {
   "cell_type": "code",
   "execution_count": 129,
   "id": "06fea29e-f710-40a1-acbd-2b456b9ac031",
   "metadata": {},
   "outputs": [
    {
     "data": {
      "text/plain": [
       "[62, 71, 12, 122, 81]"
      ]
     },
     "execution_count": 129,
     "metadata": {},
     "output_type": "execute_result"
    }
   ],
   "source": [
    "run"
   ]
  },
  {
   "cell_type": "markdown",
   "id": "8f80a61d-c6e9-4b29-9a9c-8b00c8efe93f",
   "metadata": {
    "jp-MarkdownHeadingCollapsed": true,
    "tags": []
   },
   "source": [
    "### Question 3\n",
    "    Create a list of runs made in the last 5 matches\n",
    "    runs = [62,85,71,10,12,101,122,99,81,55]"
   ]
  },
  {
   "cell_type": "code",
   "execution_count": 132,
   "id": "4c78a6a4-a2e0-45e2-b982-b52abee1dd1a",
   "metadata": {},
   "outputs": [],
   "source": [
    "run = []\n",
    "for i in range(len(runs)-5,len(runs),1):\n",
    "        run.append(runs[i])"
   ]
  },
  {
   "cell_type": "code",
   "execution_count": 133,
   "id": "0727d6ba-7c43-4ca1-b51b-d08e5bfe26e7",
   "metadata": {},
   "outputs": [
    {
     "data": {
      "text/plain": [
       "[101, 122, 99, 81, 55]"
      ]
     },
     "execution_count": 133,
     "metadata": {},
     "output_type": "execute_result"
    }
   ],
   "source": [
    "run"
   ]
  },
  {
   "cell_type": "markdown",
   "id": "02c15092-8620-4d7e-bb1f-c02702dc655f",
   "metadata": {},
   "source": [
    "##### Alternative approach"
   ]
  },
  {
   "cell_type": "code",
   "execution_count": 136,
   "id": "c17209ad-4fa9-48eb-bdb3-00c67a407eea",
   "metadata": {},
   "outputs": [],
   "source": [
    "run = []\n",
    "for i in range(-5,0):\n",
    "        run.append(runs[i])"
   ]
  },
  {
   "cell_type": "code",
   "execution_count": 137,
   "id": "a30f56e5-464d-49da-91e9-9cc4c129e928",
   "metadata": {},
   "outputs": [
    {
     "data": {
      "text/plain": [
       "[101, 122, 99, 81, 55]"
      ]
     },
     "execution_count": 137,
     "metadata": {},
     "output_type": "execute_result"
    }
   ],
   "source": [
    "run"
   ]
  },
  {
   "cell_type": "markdown",
   "id": "6f30e37e-2be0-4f80-8fd2-22a4190c9cea",
   "metadata": {
    "jp-MarkdownHeadingCollapsed": true,
    "tags": []
   },
   "source": [
    "### Question 4\n",
    "    Create a list of runs made from the third match to the 7th match"
   ]
  },
  {
   "cell_type": "code",
   "execution_count": 138,
   "id": "2dca5034-fccc-450b-83e7-e9014340a5eb",
   "metadata": {},
   "outputs": [],
   "source": [
    "run = []\n",
    "for i in range(2,7):\n",
    "        run.append(runs[i])"
   ]
  },
  {
   "cell_type": "code",
   "execution_count": 139,
   "id": "257ec710-e278-4f5e-8917-fbe696a88e4f",
   "metadata": {},
   "outputs": [
    {
     "data": {
      "text/plain": [
       "[71, 10, 12, 101, 122]"
      ]
     },
     "execution_count": 139,
     "metadata": {},
     "output_type": "execute_result"
    }
   ],
   "source": [
    "run"
   ]
  },
  {
   "cell_type": "markdown",
   "id": "aad1e152-df6a-4361-8d2a-5aff7296145a",
   "metadata": {
    "jp-MarkdownHeadingCollapsed": true,
    "tags": []
   },
   "source": [
    "## Slicing"
   ]
  },
  {
   "cell_type": "code",
   "execution_count": 53,
   "id": "5557c768-e6e9-474e-833f-9b1d579da974",
   "metadata": {},
   "outputs": [
    {
     "data": {
      "text/plain": [
       "[71, 10, 12, 101, 122]"
      ]
     },
     "execution_count": 53,
     "metadata": {},
     "output_type": "execute_result"
    }
   ],
   "source": [
    "runs[2:7]"
   ]
  },
  {
   "cell_type": "markdown",
   "id": "1c8a27d4-4fed-464c-bee5-60888faac8a8",
   "metadata": {},
   "source": [
    "    a = [10,20,30,40,50,60,70,80,90,100]\n",
    "\n",
    "    1. a[3:5] \n",
    "    2. a[:8] \n",
    "    3. a[:] \n",
    "    4. a[7:] \n",
    "    5. a[-2:-5:-1] \n",
    "    6. a[-2:-7] \n",
    "    7. a[:-5] \n",
    "    8. a[-2:] \n",
    "    9. a[-8:5] \n",
    "    10. a[-8:5:-1]"
   ]
  },
  {
   "cell_type": "code",
   "execution_count": 140,
   "id": "3edf6c47-b8f2-401a-8178-9cf37d1c5b71",
   "metadata": {},
   "outputs": [],
   "source": [
    "a = [10,20,30,40,50,60,70,80,90,100]"
   ]
  },
  {
   "cell_type": "code",
   "execution_count": 141,
   "id": "8cf3913d-c791-4ca4-9b74-9954f383c339",
   "metadata": {},
   "outputs": [
    {
     "data": {
      "text/plain": [
       "[40, 50]"
      ]
     },
     "execution_count": 141,
     "metadata": {},
     "output_type": "execute_result"
    }
   ],
   "source": [
    " a[3:5]"
   ]
  },
  {
   "cell_type": "code",
   "execution_count": 142,
   "id": "3847bdd3-8fe7-4f03-8079-5b595ec3d910",
   "metadata": {},
   "outputs": [
    {
     "data": {
      "text/plain": [
       "[10, 20, 30, 40, 50, 60, 70, 80]"
      ]
     },
     "execution_count": 142,
     "metadata": {},
     "output_type": "execute_result"
    }
   ],
   "source": [
    "a[:8]"
   ]
  },
  {
   "cell_type": "code",
   "execution_count": 148,
   "id": "59f18223-4e80-4ce8-9c77-ec6c956ebbd0",
   "metadata": {},
   "outputs": [
    {
     "data": {
      "text/plain": [
       "[10, 20, 30, 40, 50, 60, 70, 80, 90, 100]"
      ]
     },
     "execution_count": 148,
     "metadata": {},
     "output_type": "execute_result"
    }
   ],
   "source": [
    "a[:]"
   ]
  },
  {
   "cell_type": "code",
   "execution_count": 149,
   "id": "bf696f17-5ffe-4e1d-b3dc-96078b0b9981",
   "metadata": {},
   "outputs": [
    {
     "data": {
      "text/plain": [
       "[80, 90, 100]"
      ]
     },
     "execution_count": 149,
     "metadata": {},
     "output_type": "execute_result"
    }
   ],
   "source": [
    "a[7:]"
   ]
  },
  {
   "cell_type": "code",
   "execution_count": 150,
   "id": "49498475-4ae7-4849-9f02-8120491c3eec",
   "metadata": {},
   "outputs": [
    {
     "data": {
      "text/plain": [
       "[90, 80, 70]"
      ]
     },
     "execution_count": 150,
     "metadata": {},
     "output_type": "execute_result"
    }
   ],
   "source": [
    "a[-2:-5:-1]"
   ]
  },
  {
   "cell_type": "code",
   "execution_count": 151,
   "id": "939cc2b0-cb7b-412a-b85f-f6bd514afbee",
   "metadata": {},
   "outputs": [
    {
     "data": {
      "text/plain": [
       "[]"
      ]
     },
     "execution_count": 151,
     "metadata": {},
     "output_type": "execute_result"
    }
   ],
   "source": [
    "a[-2:-7]"
   ]
  },
  {
   "cell_type": "code",
   "execution_count": 154,
   "id": "2271478e-1a51-4a76-aad4-a0dce4fac050",
   "metadata": {},
   "outputs": [
    {
     "data": {
      "text/plain": [
       "[10, 20, 30, 40, 50]"
      ]
     },
     "execution_count": 154,
     "metadata": {},
     "output_type": "execute_result"
    }
   ],
   "source": [
    "a[:-5]"
   ]
  },
  {
   "cell_type": "code",
   "execution_count": 155,
   "id": "b8a1075c-31e8-4a26-b91d-d1c273860363",
   "metadata": {},
   "outputs": [
    {
     "data": {
      "text/plain": [
       "[90, 100]"
      ]
     },
     "execution_count": 155,
     "metadata": {},
     "output_type": "execute_result"
    }
   ],
   "source": [
    "a[-2:]"
   ]
  },
  {
   "cell_type": "code",
   "execution_count": 156,
   "id": "c0b924f1-1a2d-4afa-b2ba-c0772c72e724",
   "metadata": {},
   "outputs": [
    {
     "data": {
      "text/plain": [
       "[30, 40, 50]"
      ]
     },
     "execution_count": 156,
     "metadata": {},
     "output_type": "execute_result"
    }
   ],
   "source": [
    "a[-8:5]"
   ]
  },
  {
   "cell_type": "code",
   "execution_count": 157,
   "id": "55c18123-b978-4807-8e03-03f6918c79d2",
   "metadata": {},
   "outputs": [
    {
     "data": {
      "text/plain": [
       "[]"
      ]
     },
     "execution_count": 157,
     "metadata": {},
     "output_type": "execute_result"
    }
   ],
   "source": [
    "a[-8:5:-1]"
   ]
  },
  {
   "cell_type": "markdown",
   "id": "7e137493-86c9-412c-a1b1-a87989f7b667",
   "metadata": {
    "tags": []
   },
   "source": [
    "# Lists - 2D"
   ]
  },
  {
   "cell_type": "markdown",
   "id": "847dc35e-e5d7-41ca-bbd9-c8009cb28371",
   "metadata": {
    "tags": []
   },
   "source": [
    "## Theory"
   ]
  },
  {
   "cell_type": "markdown",
   "id": "d4b873f3-11fa-45a6-9bb9-781dab9655f2",
   "metadata": {},
   "source": [
    "* Lists are heterogenous\n",
    "* 2D Lists can have nested lists inside\n",
    "* Set of elements is representing columns.\n",
    "* Elements 1 from all lists will be form column 1 and soon and so forth.\n",
    "* 1,2,3,4 below represents columns 1 of matrix 4X3(ColumnsXrows).\n",
    "* To call a particular nested list, we will call list by indexes. For eg: lists_2d[0].\n",
    "* To call an nested element, we will call index of nested list with the index of elements of list. For eg: list_2d[0][0]\n",
    "* To call an nested element of n: list_2d[0][0][0]......n\n",
    "* No of rows = len(a)\n",
    "* No of columns = len(a[0])"
   ]
  },
  {
   "cell_type": "markdown",
   "id": "93be0077-6f12-46d7-8af8-0862a3621f93",
   "metadata": {},
   "source": [
    "    rows = len(list_2d)\n",
    "    columns= len(list_2d[0])"
   ]
  },
  {
   "cell_type": "markdown",
   "id": "a4dfcf5c-7244-45df-bae7-a378975764eb",
   "metadata": {},
   "source": [
    "Empty 2D List"
   ]
  },
  {
   "cell_type": "code",
   "execution_count": 56,
   "id": "995aa127-cba5-4da3-aa2f-19980944358f",
   "metadata": {},
   "outputs": [
    {
     "data": {
      "text/plain": [
       "[[]]"
      ]
     },
     "execution_count": 56,
     "metadata": {},
     "output_type": "execute_result"
    }
   ],
   "source": [
    "list_2d = [[]]\n",
    "list_2d"
   ]
  },
  {
   "cell_type": "code",
   "execution_count": 57,
   "id": "7717ba28-c23e-46c9-b604-23295c10d472",
   "metadata": {},
   "outputs": [
    {
     "data": {
      "text/plain": [
       "list"
      ]
     },
     "execution_count": 57,
     "metadata": {},
     "output_type": "execute_result"
    }
   ],
   "source": [
    "type(list_2d)"
   ]
  },
  {
   "cell_type": "code",
   "execution_count": 1,
   "id": "a20965af-d22b-424f-a779-0746400e5de0",
   "metadata": {},
   "outputs": [],
   "source": [
    "list_2d = [[1,2,3,4],[5,6,7,8],[9,10,11,12]]"
   ]
  },
  {
   "cell_type": "code",
   "execution_count": 44,
   "id": "45a5f46a-053f-4942-9cd7-af6e9116aa4a",
   "metadata": {},
   "outputs": [
    {
     "data": {
      "text/plain": [
       "[[1, 2, 3, 4], [5, 6, 7, 8], [9, 10, 11, 12]]"
      ]
     },
     "execution_count": 44,
     "metadata": {},
     "output_type": "execute_result"
    }
   ],
   "source": [
    "list_2d"
   ]
  },
  {
   "cell_type": "code",
   "execution_count": 46,
   "id": "95c5f30b-06cc-4e75-8d9d-993dcae62480",
   "metadata": {},
   "outputs": [
    {
     "data": {
      "text/plain": [
       "[1, 2, 3, 4]"
      ]
     },
     "execution_count": 46,
     "metadata": {},
     "output_type": "execute_result"
    }
   ],
   "source": [
    "list_2d[0]"
   ]
  },
  {
   "cell_type": "code",
   "execution_count": 47,
   "id": "5b74b1a4-76d2-49e1-8943-2f36f796bb8e",
   "metadata": {},
   "outputs": [
    {
     "data": {
      "text/plain": [
       "1"
      ]
     },
     "execution_count": 47,
     "metadata": {},
     "output_type": "execute_result"
    }
   ],
   "source": [
    "list_2d[0][0]"
   ]
  },
  {
   "cell_type": "code",
   "execution_count": 49,
   "id": "60b6f918-f3a4-422b-a3df-5c0ab5122f97",
   "metadata": {},
   "outputs": [],
   "source": [
    "rows = len(list_2d)\n",
    "columns= len(list_2d[0])"
   ]
  },
  {
   "cell_type": "code",
   "execution_count": 2,
   "id": "5deeec82-895f-45d3-83ea-2126f16ed1f9",
   "metadata": {},
   "outputs": [
    {
     "data": {
      "text/plain": [
       "3"
      ]
     },
     "execution_count": 2,
     "metadata": {},
     "output_type": "execute_result"
    }
   ],
   "source": [
    "len(list_2d)"
   ]
  },
  {
   "cell_type": "code",
   "execution_count": 3,
   "id": "d16cb432-6bd4-484f-9f85-86a5c64d8c8d",
   "metadata": {},
   "outputs": [
    {
     "data": {
      "text/plain": [
       "4"
      ]
     },
     "execution_count": 3,
     "metadata": {},
     "output_type": "execute_result"
    }
   ],
   "source": [
    "len(list_2d[0])"
   ]
  },
  {
   "cell_type": "markdown",
   "id": "b029ea9a-ef5f-4934-8c1d-8eb71d17a075",
   "metadata": {
    "jp-MarkdownHeadingCollapsed": true,
    "tags": []
   },
   "source": [
    "## Questions"
   ]
  },
  {
   "cell_type": "markdown",
   "id": "c74f146f-37a6-4a32-a3bb-6b0d2289cb9f",
   "metadata": {
    "tags": []
   },
   "source": [
    "### Question 1 \n",
    "    Rotate a given list by 1 element.\n",
    "    \n",
    "    INPUT = [1,2,3,4,5]\n",
    "    OUTPUT = [5,1,2,3,4]"
   ]
  },
  {
   "cell_type": "markdown",
   "id": "1c1252bd-1e1e-45d7-8776-f574efb2f894",
   "metadata": {
    "jp-MarkdownHeadingCollapsed": true,
    "tags": []
   },
   "source": [
    "##### Simplest Solutions"
   ]
  },
  {
   "cell_type": "code",
   "execution_count": 8,
   "id": "bc25d159-41de-42e0-9b12-4f65e7b6422d",
   "metadata": {},
   "outputs": [
    {
     "data": {
      "text/plain": [
       "[5, 1, 2, 3, 4]"
      ]
     },
     "execution_count": 8,
     "metadata": {},
     "output_type": "execute_result"
    }
   ],
   "source": [
    "a = [1,2,3,4,5]\n",
    "b = a[-1]\n",
    "b = [b]+a[:-1]\n",
    "b"
   ]
  },
  {
   "cell_type": "code",
   "execution_count": 10,
   "id": "8ce6e60c-d7b5-4113-8ba9-85a4c768e9a0",
   "metadata": {},
   "outputs": [
    {
     "data": {
      "text/plain": [
       "[5, 1, 2, 3, 4]"
      ]
     },
     "execution_count": 10,
     "metadata": {},
     "output_type": "execute_result"
    }
   ],
   "source": [
    "a = [1,2,3,4,5]\n",
    "b = [a[-1]]+a[:-1]\n",
    "b"
   ]
  },
  {
   "cell_type": "markdown",
   "id": "ff04824d-eca5-474f-84de-ad5e5e6f70c8",
   "metadata": {
    "jp-MarkdownHeadingCollapsed": true,
    "tags": []
   },
   "source": [
    "##### Using Insert"
   ]
  },
  {
   "cell_type": "code",
   "execution_count": 62,
   "id": "f37b30bc-0f5a-4de6-9ecf-58d45c818397",
   "metadata": {},
   "outputs": [
    {
     "data": {
      "text/plain": [
       "[5, 1, 2, 3, 4]"
      ]
     },
     "execution_count": 62,
     "metadata": {},
     "output_type": "execute_result"
    }
   ],
   "source": [
    "a = [1,2,3,4,5]\n",
    "b = a[:-1]\n",
    "b.insert(0,a[-1])\n",
    "b"
   ]
  },
  {
   "cell_type": "markdown",
   "id": "de21c1da-1088-4870-b27d-41d699c4edf0",
   "metadata": {},
   "source": [
    "pop can also be used"
   ]
  },
  {
   "cell_type": "markdown",
   "id": "0963cb1d-afda-4cb6-a07c-7cad53729757",
   "metadata": {
    "jp-MarkdownHeadingCollapsed": true,
    "tags": []
   },
   "source": [
    "##### Fancy Solution"
   ]
  },
  {
   "cell_type": "code",
   "execution_count": 64,
   "id": "1d00eddc-7a61-40d6-b9fb-77fbb1cbcb3e",
   "metadata": {},
   "outputs": [],
   "source": [
    "def list_rotate(x):\n",
    "    \n",
    "    last_x = a[-1]\n",
    "    exclude_lastx = a[:-1]\n",
    "    rotated_list = [last_x]+exclude_lastx\n",
    "    \n",
    "    return rotated_list"
   ]
  },
  {
   "cell_type": "code",
   "execution_count": 65,
   "id": "c92b14ee-a41e-4965-9f8c-f70b67bd8dcf",
   "metadata": {},
   "outputs": [
    {
     "data": {
      "text/plain": [
       "[5, 1, 2, 3, 4]"
      ]
     },
     "execution_count": 65,
     "metadata": {},
     "output_type": "execute_result"
    }
   ],
   "source": [
    "a = [1,2,3,4,5]\n",
    "list_rotate(a)"
   ]
  },
  {
   "cell_type": "markdown",
   "id": "3f1f8a2b-90ec-4146-a04f-cd0366bf08d4",
   "metadata": {
    "tags": []
   },
   "source": [
    "### Question 2\n",
    "    Take a 3x3 matrix as input from the user.\n",
    "\n",
    "    Given this matrix - \n",
    "    1. Calculate the sum of all elements in the matrix\n",
    "    2. Calculate and print sum of each row\n",
    "    3. Calculate and print sum of each column"
   ]
  },
  {
   "cell_type": "markdown",
   "id": "5d5df40a-ae19-4fed-88a1-7b6da512d249",
   "metadata": {
    "jp-MarkdownHeadingCollapsed": true,
    "tags": []
   },
   "source": [
    "##### Solution as a single function with input"
   ]
  },
  {
   "cell_type": "code",
   "execution_count": 7,
   "id": "f6162412-43f5-4c05-ba70-567bdb9354d1",
   "metadata": {},
   "outputs": [],
   "source": [
    "def matrix_combo(x,y):\n",
    "    a =[]\n",
    "    for i in range(x):\n",
    "        list_i = []\n",
    "        for j in range(y):\n",
    "            n = int(input())\n",
    "            list_i.append(n)\n",
    "        a.insert(i,list_i)    \n",
    "    print(a)         \n",
    "        \n",
    "    sum_matrix = 0\n",
    "    for i in range(len(a)):\n",
    "        for j in range(len(a[0])):\n",
    "            sum_matrix +=a[i][j]\n",
    "    print(f\"Sum of all elements of matrix: {sum_matrix}\")\n",
    "    print()\n",
    "    for i in range(len(a)):\n",
    "        sum_row = 0\n",
    "        for j in range(len(a[0])):\n",
    "            sum_row +=a[i][j]\n",
    "        print(f\"Sum of Row {i} of matrix: {sum_row}\")\n",
    "    print()\n",
    "    for j in range(len(a[0])):\n",
    "        sum_col = 0\n",
    "        for i in range(len(a)):\n",
    "            sum_col +=a[i][j]\n",
    "        print(f\"Sum of Column {j} of matrix:{sum_col}\")"
   ]
  },
  {
   "cell_type": "code",
   "execution_count": 8,
   "id": "de762f60-203f-4a7b-97a5-2b76e905c401",
   "metadata": {},
   "outputs": [
    {
     "name": "stdin",
     "output_type": "stream",
     "text": [
      " 1\n",
      " 2\n",
      " 3\n",
      " 4\n",
      " 5\n",
      " 6\n"
     ]
    },
    {
     "name": "stdout",
     "output_type": "stream",
     "text": [
      "[[1, 2, 3], [4, 5, 6]]\n",
      "Sum of all elements of matrix: 21\n",
      "\n",
      "Sum of Row 0 of matrix: 6\n",
      "Sum of Row 1 of matrix: 15\n",
      "\n",
      "Sum of Column 0 of matrix:5\n",
      "Sum of Column 1 of matrix:7\n",
      "Sum of Column 2 of matrix:9\n"
     ]
    }
   ],
   "source": [
    "matrix_combo(2,3)"
   ]
  },
  {
   "cell_type": "markdown",
   "id": "ffb75765-7377-4c6f-8572-c7465b1c1984",
   "metadata": {
    "jp-MarkdownHeadingCollapsed": true,
    "tags": []
   },
   "source": [
    "##### Solution as seperate independent functions with input"
   ]
  },
  {
   "cell_type": "code",
   "execution_count": 1,
   "id": "51057a82-2430-4202-a884-fa728fc1e202",
   "metadata": {},
   "outputs": [],
   "source": [
    "def matrix(x,y):\n",
    "    list_n =[]\n",
    "    for i in range(x):\n",
    "        list_i = []\n",
    "        for j in range(y):\n",
    "            n = int(input())\n",
    "            list_i.append(n)\n",
    "        list_n.insert(i,list_i) \n",
    "        print(list_n)\n",
    "    return list_n"
   ]
  },
  {
   "cell_type": "code",
   "execution_count": 2,
   "id": "4d2cce8a-048c-4b86-bb30-d02e9a00c273",
   "metadata": {},
   "outputs": [
    {
     "name": "stdin",
     "output_type": "stream",
     "text": [
      " 1\n",
      " 2\n",
      " 3\n"
     ]
    },
    {
     "name": "stdout",
     "output_type": "stream",
     "text": [
      "[[1, 2, 3]]\n"
     ]
    },
    {
     "name": "stdin",
     "output_type": "stream",
     "text": [
      " 4\n",
      " 5\n",
      " 6\n"
     ]
    },
    {
     "name": "stdout",
     "output_type": "stream",
     "text": [
      "[[1, 2, 3], [4, 5, 6]]\n"
     ]
    },
    {
     "data": {
      "text/plain": [
       "[[1, 2, 3], [4, 5, 6]]"
      ]
     },
     "execution_count": 2,
     "metadata": {},
     "output_type": "execute_result"
    }
   ],
   "source": [
    "matrix(2,3)"
   ]
  },
  {
   "cell_type": "code",
   "execution_count": 3,
   "id": "03d6fd62-d14a-4e5c-997b-c1b33514071c",
   "metadata": {},
   "outputs": [],
   "source": [
    "def sum_matrix(a):        \n",
    "    sum_matrix = 0\n",
    "    for i in range(len(a)):\n",
    "        for j in range(len(a[0])):\n",
    "            sum_matrix +=a[i][j]\n",
    "    print(f\"Sum of all elements of matrix: {sum_matrix}\")"
   ]
  },
  {
   "cell_type": "code",
   "execution_count": 4,
   "id": "82608435-a65c-414a-af63-03eb04df2ece",
   "metadata": {},
   "outputs": [
    {
     "name": "stdin",
     "output_type": "stream",
     "text": [
      " 1\n",
      " 2\n",
      " 3\n"
     ]
    },
    {
     "name": "stdout",
     "output_type": "stream",
     "text": [
      "[[1, 2, 3]]\n"
     ]
    },
    {
     "name": "stdin",
     "output_type": "stream",
     "text": [
      " 4\n",
      " 5\n",
      " 6\n"
     ]
    },
    {
     "name": "stdout",
     "output_type": "stream",
     "text": [
      "[[1, 2, 3], [4, 5, 6]]\n",
      "Sum of all elements of matrix: 21\n"
     ]
    }
   ],
   "source": [
    "sum_matrix(matrix(2,3))    "
   ]
  },
  {
   "cell_type": "code",
   "execution_count": 6,
   "id": "9427bdbc-3be7-4f55-b3a5-6299a6f87b2c",
   "metadata": {},
   "outputs": [],
   "source": [
    "def sum_row(a):\n",
    "    for i in range(len(a)):\n",
    "        sum_row = 0\n",
    "        for j in range(len(a[0])):\n",
    "            sum_row +=a[i][j]\n",
    "        print(f\"Sum of Row {i} of matrix: {sum_row}\")\n",
    "    print()"
   ]
  },
  {
   "cell_type": "code",
   "execution_count": 7,
   "id": "e55a98d5-03b1-4ce3-abe4-c83aeedc490a",
   "metadata": {},
   "outputs": [
    {
     "name": "stdin",
     "output_type": "stream",
     "text": [
      " 1\n",
      " 2\n",
      " 3\n"
     ]
    },
    {
     "name": "stdout",
     "output_type": "stream",
     "text": [
      "[[1, 2, 3]]\n"
     ]
    },
    {
     "name": "stdin",
     "output_type": "stream",
     "text": [
      " 4\n",
      " 5\n",
      " 6\n"
     ]
    },
    {
     "name": "stdout",
     "output_type": "stream",
     "text": [
      "[[1, 2, 3], [4, 5, 6]]\n",
      "Sum of Row 0 of matrix: 6\n",
      "Sum of Row 1 of matrix: 15\n",
      "\n"
     ]
    }
   ],
   "source": [
    "sum_row(matrix(2,3))    "
   ]
  },
  {
   "cell_type": "code",
   "execution_count": 12,
   "id": "c7defa58-fa28-4346-9190-c982b9c505e5",
   "metadata": {},
   "outputs": [],
   "source": [
    "def sum_col(a):    \n",
    "    for j in range(len(a[0])):\n",
    "        sum_col = 0\n",
    "        for i in range(len(a)):\n",
    "            sum_col +=a[i][j]\n",
    "        print(f\"Sum of Column {j} of matrix: {sum_col}\")"
   ]
  },
  {
   "cell_type": "code",
   "execution_count": 13,
   "id": "dc8aa248-a7fa-4537-b483-55aa1da05881",
   "metadata": {},
   "outputs": [
    {
     "name": "stdin",
     "output_type": "stream",
     "text": [
      " 1\n",
      " 2\n",
      " 3\n"
     ]
    },
    {
     "name": "stdout",
     "output_type": "stream",
     "text": [
      "[[1, 2, 3]]\n"
     ]
    },
    {
     "name": "stdin",
     "output_type": "stream",
     "text": [
      " 4\n",
      " 5\n",
      " 6\n"
     ]
    },
    {
     "name": "stdout",
     "output_type": "stream",
     "text": [
      "[[1, 2, 3], [4, 5, 6]]\n",
      "Sum of Column 0 of matrix: 5\n",
      "Sum of Column 1 of matrix: 7\n",
      "Sum of Column 2 of matrix: 9\n"
     ]
    }
   ],
   "source": [
    "sum_col(matrix(2,3))"
   ]
  },
  {
   "cell_type": "code",
   "execution_count": 18,
   "id": "f300aa22-858a-4dba-9db3-9870c6f529e9",
   "metadata": {},
   "outputs": [
    {
     "name": "stdout",
     "output_type": "stream",
     "text": [
      "Sum of all elements of matrix: 39\n",
      "\n",
      "Sum of Row 0 of matrix: 15\n",
      "Sum of Row 1 of matrix: 24\n",
      "\n",
      "Sum of Column 0 of matrix:11\n",
      "Sum of Column 1 of matrix:13\n",
      "Sum of Column 2 of matrix:15\n"
     ]
    }
   ],
   "source": [
    "a = [[4, 5, 6], [7, 8, 9]]\n",
    "sum_matrix(a)\n",
    "sum_row(a)\n",
    "sum_col(a)"
   ]
  },
  {
   "cell_type": "markdown",
   "id": "f8782456-7d03-44af-ba70-6a549587158e",
   "metadata": {
    "jp-MarkdownHeadingCollapsed": true,
    "tags": []
   },
   "source": [
    "## HW**"
   ]
  },
  {
   "cell_type": "markdown",
   "id": "ad9c578b-64d4-43a5-a471-656d0714b508",
   "metadata": {
    "tags": []
   },
   "source": [
    "### HW 1\n",
    "    Rotate a given list by n element.\n",
    "\n",
    "    INPUT - \n",
    "    a = [1,2,3,4,5]\n",
    "    n = 7\n",
    "\n",
    "    OUTPUT = [4,5,1,2,3]"
   ]
  },
  {
   "cell_type": "markdown",
   "id": "6fbf4702-88db-4b6b-8140-b0f0dc5c45d1",
   "metadata": {
    "jp-MarkdownHeadingCollapsed": true,
    "tags": []
   },
   "source": [
    "##### Solution without input"
   ]
  },
  {
   "cell_type": "code",
   "execution_count": 16,
   "id": "4c405163-e5dd-4137-8fb0-378cfd9fa41a",
   "metadata": {},
   "outputs": [],
   "source": [
    "def list_rotate_n(a,n):\n",
    "    for i in range(n):\n",
    "        a = a[-1:]+a[:-1]\n",
    "        \n",
    "    return a"
   ]
  },
  {
   "cell_type": "code",
   "execution_count": 17,
   "id": "4456a6ab-bf8d-47c4-89e1-dca51cd7cce0",
   "metadata": {},
   "outputs": [
    {
     "data": {
      "text/plain": [
       "[4, 5, 1, 2, 3]"
      ]
     },
     "execution_count": 17,
     "metadata": {},
     "output_type": "execute_result"
    }
   ],
   "source": [
    "x = [1,2,3,4,5]\n",
    "list_rotate_n(x, 7)"
   ]
  },
  {
   "cell_type": "markdown",
   "id": "4011cc53-b854-4a90-98f4-01e659aa3d36",
   "metadata": {
    "jp-MarkdownHeadingCollapsed": true,
    "tags": []
   },
   "source": [
    "##### Solution with input"
   ]
  },
  {
   "cell_type": "code",
   "execution_count": 18,
   "id": "49bc37d1-e402-4a8b-9055-980baaf3229c",
   "metadata": {},
   "outputs": [],
   "source": [
    "def list_rotate_n():\n",
    "    input_list =[]\n",
    "    N = int(input(\"Enter the no of elements of the list: \"))\n",
    "    \n",
    "    n= int(input(\"Enter the no for element rotation: \"))\n",
    "    for i in range(N):\n",
    "        input_n = int(input(\"Enter the values of element for the list: \"))\n",
    "        input_list.append(input_n)\n",
    "    \n",
    "    for i in range(n):\n",
    "        input_list = input_list[-1:]+input_list[:-1]\n",
    "    \n",
    "    return input_list "
   ]
  },
  {
   "cell_type": "code",
   "execution_count": 19,
   "id": "d3898de7-ea37-4527-80b1-712e7247f4dd",
   "metadata": {},
   "outputs": [
    {
     "name": "stdin",
     "output_type": "stream",
     "text": [
      "Enter the no of elements of the list:  5\n",
      "Enter the no for element rotation:  7\n",
      "Enter the values of element for the list:  1\n",
      "Enter the values of element for the list:  2\n",
      "Enter the values of element for the list:  3\n",
      "Enter the values of element for the list:  4\n",
      "Enter the values of element for the list:  5\n"
     ]
    },
    {
     "data": {
      "text/plain": [
       "[4, 5, 1, 2, 3]"
      ]
     },
     "execution_count": 19,
     "metadata": {},
     "output_type": "execute_result"
    }
   ],
   "source": [
    "list_rotate_n()"
   ]
  },
  {
   "cell_type": "code",
   "execution_count": 29,
   "id": "570bf2b7-5015-49da-9aad-2bfdf38c7f72",
   "metadata": {},
   "outputs": [],
   "source": [
    "A = [1,2,3,4,5]"
   ]
  },
  {
   "cell_type": "code",
   "execution_count": 30,
   "id": "ca910243-ad31-412c-981c-4a1560d88e4d",
   "metadata": {},
   "outputs": [],
   "source": [
    "B = A.pop()"
   ]
  },
  {
   "cell_type": "code",
   "execution_count": 36,
   "id": "7dbd9978-0caa-4293-8066-66cd57eeab27",
   "metadata": {},
   "outputs": [
    {
     "data": {
      "text/plain": [
       "[5, 1, 2, 3, 4]"
      ]
     },
     "execution_count": 36,
     "metadata": {},
     "output_type": "execute_result"
    }
   ],
   "source": [
    "C =[]\n",
    "C.insert(0, B)\n",
    "C+A"
   ]
  },
  {
   "cell_type": "markdown",
   "id": "e2804a3b-91cb-4ede-b2a9-21c8ae72cbdf",
   "metadata": {},
   "source": [
    "### HW 2\n",
    "    Take two matrices as input and calculate the sum of two matrices."
   ]
  },
  {
   "cell_type": "markdown",
   "id": "f2e39f1c-f7c9-46cf-b845-63be2f48bd90",
   "metadata": {
    "jp-MarkdownHeadingCollapsed": true,
    "tags": []
   },
   "source": [
    "##### Solution without input"
   ]
  },
  {
   "cell_type": "code",
   "execution_count": 26,
   "id": "12c2e755-09fa-4a04-b1c6-cd1bc54a7c9b",
   "metadata": {},
   "outputs": [],
   "source": [
    "def matrix_sum(x,y):\n",
    "    z=[]\n",
    "    for i in range(len(x)):\n",
    "        temp=[]\n",
    "        for j in range(len(x[0])):\n",
    "            sum_xy = x[i][j]+y[i][j]\n",
    "            temp.append(sum_xy)\n",
    "        z.append(temp)\n",
    "    \n",
    "    return z      "
   ]
  },
  {
   "cell_type": "code",
   "execution_count": 28,
   "id": "708c3ea9-9e8f-4593-8aa4-7d01a1251925",
   "metadata": {},
   "outputs": [
    {
     "data": {
      "text/plain": [
       "[[2, 4, 6], [11, 13, 15]]"
      ]
     },
     "execution_count": 28,
     "metadata": {},
     "output_type": "execute_result"
    }
   ],
   "source": [
    "x = [[1,2,3],[7,8,9]]\n",
    "y = [[1,2,3],[4,5,6]]\n",
    "matrix_sum(x,y)"
   ]
  },
  {
   "cell_type": "markdown",
   "id": "2b9d36d8-451c-45d7-8275-6f015a9838e2",
   "metadata": {
    "jp-MarkdownHeadingCollapsed": true,
    "tags": []
   },
   "source": [
    "##### Solution with  inputs"
   ]
  },
  {
   "cell_type": "code",
   "execution_count": 7,
   "id": "37c51cf7-e98c-4500-8e4e-99737b04aeb3",
   "metadata": {},
   "outputs": [],
   "source": [
    "def matrice_sum(n,x,y):\n",
    "    list_n=[]\n",
    "    for i in range(n):\n",
    "        list_temp=[]\n",
    "        print(f\"Enter the element for Matrix {i+1}: \")\n",
    "        for j in range(x):\n",
    "            temp=[]\n",
    "            print(f\"Enter the values for Row {j+1} of Matrix{i+1}: \")\n",
    "            for k in range(y):\n",
    "                input_n = int(input(f\"Enter the values for Column{k+1} of Row {j+1}: \"))\n",
    "                temp.append(input_n)\n",
    "            list_temp.append(temp)\n",
    "            print(list_temp)\n",
    "        list_n.append(list_temp)\n",
    "    sum_list = []\n",
    "    for j in range(len(list_n[0])):\n",
    "        dummy_list = []\n",
    "        for k in range(len(list_n[0][0])):\n",
    "            sum_n=0\n",
    "            for i in range(len(list_n)):\n",
    "                sum_n += list_n[i][j][k]\n",
    "            dummy_list.append(sum_n)\n",
    "        sum_list.append(dummy_list)\n",
    "    print(\"Sum of matrices:\", sum_list)\n",
    "    return sum_list"
   ]
  },
  {
   "cell_type": "code",
   "execution_count": 8,
   "id": "cc722d0c-0aeb-4eb1-bb01-89607934e11f",
   "metadata": {},
   "outputs": [
    {
     "name": "stdout",
     "output_type": "stream",
     "text": [
      "Enter the element for Matrix 1: \n",
      "Enter the values for Row 1 of Matrix1: \n"
     ]
    },
    {
     "name": "stdin",
     "output_type": "stream",
     "text": [
      "Enter the values for Column1 of Row 1:  1\n",
      "Enter the values for Column2 of Row 1:  2\n",
      "Enter the values for Column3 of Row 1:  3\n"
     ]
    },
    {
     "name": "stdout",
     "output_type": "stream",
     "text": [
      "[[1, 2, 3]]\n",
      "Enter the values for Row 2 of Matrix1: \n"
     ]
    },
    {
     "name": "stdin",
     "output_type": "stream",
     "text": [
      "Enter the values for Column1 of Row 2:  4\n",
      "Enter the values for Column2 of Row 2:  5\n",
      "Enter the values for Column3 of Row 2:  6\n"
     ]
    },
    {
     "name": "stdout",
     "output_type": "stream",
     "text": [
      "[[1, 2, 3], [4, 5, 6]]\n",
      "Enter the element for Matrix 2: \n",
      "Enter the values for Row 1 of Matrix2: \n"
     ]
    },
    {
     "name": "stdin",
     "output_type": "stream",
     "text": [
      "Enter the values for Column1 of Row 1:  7\n",
      "Enter the values for Column2 of Row 1:  8\n",
      "Enter the values for Column3 of Row 1:  9\n"
     ]
    },
    {
     "name": "stdout",
     "output_type": "stream",
     "text": [
      "[[7, 8, 9]]\n",
      "Enter the values for Row 2 of Matrix2: \n"
     ]
    },
    {
     "name": "stdin",
     "output_type": "stream",
     "text": [
      "Enter the values for Column1 of Row 2:  10\n",
      "Enter the values for Column2 of Row 2:  11\n",
      "Enter the values for Column3 of Row 2:  12\n"
     ]
    },
    {
     "name": "stdout",
     "output_type": "stream",
     "text": [
      "[[7, 8, 9], [10, 11, 12]]\n",
      "Sum of matrices: [[8, 10, 12], [14, 16, 18]]\n"
     ]
    },
    {
     "data": {
      "text/plain": [
       "[[8, 10, 12], [14, 16, 18]]"
      ]
     },
     "execution_count": 8,
     "metadata": {},
     "output_type": "execute_result"
    }
   ],
   "source": [
    "matrice_sum(2,2,3)"
   ]
  },
  {
   "cell_type": "markdown",
   "id": "9c8a215f-cad7-471d-a1f6-d5c0efe30c00",
   "metadata": {},
   "source": [
    "### HW 3**\n",
    "    Take N matrices as input and calculate the sum of N matrices."
   ]
  },
  {
   "cell_type": "markdown",
   "id": "0463a5fc-d5c7-46d7-8450-f329bf86f83a",
   "metadata": {
    "jp-MarkdownHeadingCollapsed": true,
    "tags": []
   },
   "source": [
    "##### Solution with inputs"
   ]
  },
  {
   "cell_type": "code",
   "execution_count": 10,
   "id": "a2eac789-0afa-42d5-8a43-f272637f85f5",
   "metadata": {},
   "outputs": [],
   "source": [
    "def matrice_sum(n,x,y):\n",
    "    list_n=[]\n",
    "    for i in range(n):\n",
    "        list_temp=[]\n",
    "        for j in range(x):\n",
    "            temp=[]\n",
    "            for k in range(y):\n",
    "                input_n = int(input())\n",
    "                temp.append(input_n)\n",
    "            list_temp.append(temp)\n",
    "            print(list_temp)\n",
    "        list_n.append(list_temp)\n",
    "    sum_list = []\n",
    "    for j in range(len(list_n[0])):\n",
    "        dummy_list = []\n",
    "        for k in range(len(list_n[0][0])):\n",
    "            sum_n=0\n",
    "            for i in range(len(list_n)):\n",
    "                sum_n += list_n[i][j][k]\n",
    "            dummy_list.append(sum_n)\n",
    "        sum_list.append(dummy_list)\n",
    "    return sum_list"
   ]
  },
  {
   "cell_type": "code",
   "execution_count": 11,
   "id": "ed170e9c-c3c2-45fc-92c8-e963ec108f69",
   "metadata": {},
   "outputs": [
    {
     "name": "stdin",
     "output_type": "stream",
     "text": [
      " 1\n",
      " 2\n",
      " 3\n"
     ]
    },
    {
     "name": "stdout",
     "output_type": "stream",
     "text": [
      "[[1, 2, 3]]\n"
     ]
    },
    {
     "name": "stdin",
     "output_type": "stream",
     "text": [
      " 4\n",
      " 5\n",
      " 6\n"
     ]
    },
    {
     "name": "stdout",
     "output_type": "stream",
     "text": [
      "[[1, 2, 3], [4, 5, 6]]\n"
     ]
    },
    {
     "name": "stdin",
     "output_type": "stream",
     "text": [
      " 6\n",
      " 5\n",
      " 4\n"
     ]
    },
    {
     "name": "stdout",
     "output_type": "stream",
     "text": [
      "[[6, 5, 4]]\n"
     ]
    },
    {
     "name": "stdin",
     "output_type": "stream",
     "text": [
      " 3\n",
      " 2\n",
      " 1\n"
     ]
    },
    {
     "name": "stdout",
     "output_type": "stream",
     "text": [
      "[[6, 5, 4], [3, 2, 1]]\n"
     ]
    },
    {
     "name": "stdin",
     "output_type": "stream",
     "text": [
      " 1\n",
      " 1\n",
      " 1\n"
     ]
    },
    {
     "name": "stdout",
     "output_type": "stream",
     "text": [
      "[[1, 1, 1]]\n"
     ]
    },
    {
     "name": "stdin",
     "output_type": "stream",
     "text": [
      " 1\n",
      " 1\n",
      " 1\n"
     ]
    },
    {
     "name": "stdout",
     "output_type": "stream",
     "text": [
      "[[1, 1, 1], [1, 1, 1]]\n"
     ]
    },
    {
     "data": {
      "text/plain": [
       "[[8, 8, 8], [8, 8, 8]]"
      ]
     },
     "execution_count": 11,
     "metadata": {},
     "output_type": "execute_result"
    }
   ],
   "source": [
    " matrice_sum(3,2,3)"
   ]
  },
  {
   "cell_type": "markdown",
   "id": "67ad0894-3588-4fd8-af1f-36e934769232",
   "metadata": {},
   "source": [
    "### HW 4**\n",
    "\n",
    "    Take a matrix as input and calculate transpose."
   ]
  },
  {
   "cell_type": "markdown",
   "id": "4b64b6a0-ca4c-489a-a4fe-fc62f6ea642d",
   "metadata": {
    "jp-MarkdownHeadingCollapsed": true,
    "tags": []
   },
   "source": [
    "##### Solution without Input"
   ]
  },
  {
   "cell_type": "code",
   "execution_count": 4,
   "id": "7fe4f7a5-df27-424e-a7fd-4ba015d2fbb6",
   "metadata": {},
   "outputs": [],
   "source": [
    "def matrix_transpose(a):\n",
    "    transpose = []\n",
    "    for j in range(len(a[0])):\n",
    "        temp_list=[]\n",
    "        for i in range(len(a)):\n",
    "            temp = a[i][j]\n",
    "            temp_list. append(temp)\n",
    "        transpose.append(temp_list)\n",
    "        \n",
    "    return transpose      "
   ]
  },
  {
   "cell_type": "code",
   "execution_count": 5,
   "id": "8ecfa761-3a51-438e-9893-47cf0c1c39fd",
   "metadata": {},
   "outputs": [
    {
     "data": {
      "text/plain": [
       "[[1, 4, 7], [2, 5, 8], [3, 6, 9]]"
      ]
     },
     "execution_count": 5,
     "metadata": {},
     "output_type": "execute_result"
    }
   ],
   "source": [
    "X = [[1,2,3],[4,5,6],[7,8,9]]\n",
    "matrix_transpose(X)"
   ]
  },
  {
   "cell_type": "markdown",
   "id": "a718b6b6-e58c-4549-9a14-1a41a196080c",
   "metadata": {
    "jp-MarkdownHeadingCollapsed": true,
    "tags": []
   },
   "source": [
    "##### Solution with Input"
   ]
  },
  {
   "cell_type": "code",
   "execution_count": 1,
   "id": "7bc5fe7b-4466-4cac-99d3-6c8aedd89ebc",
   "metadata": {},
   "outputs": [],
   "source": [
    "def matrix_transpose_input(x,y):\n",
    "    input_matrix = []\n",
    "    for i in range(x):\n",
    "        temp_list = []\n",
    "        for j in range(y):\n",
    "            temp_input = int(input(\"Enter the elements of matrix: \"))\n",
    "            temp_list.append(temp_input)\n",
    "        input_matrix.append(temp_list)\n",
    "        print(input_matrix)\n",
    "        \n",
    "    transpose = []\n",
    "    for j in range(len(input_matrix[0])):\n",
    "        temp_list=[]\n",
    "        for i in range(len(input_matrix)):\n",
    "            temp = input_matrix[i][j]\n",
    "            temp_list. append(temp)\n",
    "        transpose.append(temp_list)\n",
    "        \n",
    "    return transpose "
   ]
  },
  {
   "cell_type": "code",
   "execution_count": 2,
   "id": "95495e4c-5900-43af-b3b5-7151c9d65000",
   "metadata": {},
   "outputs": [
    {
     "name": "stdin",
     "output_type": "stream",
     "text": [
      "Enter the elements of matrix:  1\n",
      "Enter the elements of matrix:  2\n",
      "Enter the elements of matrix:  3\n"
     ]
    },
    {
     "name": "stdout",
     "output_type": "stream",
     "text": [
      "[[1, 2, 3]]\n"
     ]
    },
    {
     "name": "stdin",
     "output_type": "stream",
     "text": [
      "Enter the elements of matrix:  4\n",
      "Enter the elements of matrix:  5\n",
      "Enter the elements of matrix:  6\n"
     ]
    },
    {
     "name": "stdout",
     "output_type": "stream",
     "text": [
      "[[1, 2, 3], [4, 5, 6]]\n"
     ]
    },
    {
     "name": "stdin",
     "output_type": "stream",
     "text": [
      "Enter the elements of matrix:  7\n",
      "Enter the elements of matrix:  8\n",
      "Enter the elements of matrix:  9\n"
     ]
    },
    {
     "name": "stdout",
     "output_type": "stream",
     "text": [
      "[[1, 2, 3], [4, 5, 6], [7, 8, 9]]\n"
     ]
    },
    {
     "data": {
      "text/plain": [
       "[[1, 4, 7], [2, 5, 8], [3, 6, 9]]"
      ]
     },
     "execution_count": 2,
     "metadata": {},
     "output_type": "execute_result"
    }
   ],
   "source": [
    "matrix_transpose_input(3,3)"
   ]
  },
  {
   "cell_type": "markdown",
   "id": "c4946cc5-673a-4dce-9a58-81e24f87065b",
   "metadata": {
    "tags": []
   },
   "source": [
    "# Strings"
   ]
  },
  {
   "cell_type": "markdown",
   "id": "7ca64432-f940-4c20-bd73-4187b082689f",
   "metadata": {
    "tags": []
   },
   "source": [
    "## Theory"
   ]
  },
  {
   "cell_type": "markdown",
   "id": "e521dcd6-e9bb-45fe-b0e1-062af70448ea",
   "metadata": {},
   "source": [
    "* strings are immutable and does not support item assignment.\n",
    "* single quotes, double quotes and triple quotes are all valid strings.\n",
    "* triple quotes and triple dobule quotes are used for docstrings.\n",
    "* \\ is escape character\n",
    "* double quotes can be used inside single quotes as escape characters and vice-versa.\n",
    "* (\\) escape charcter needs a valid escape string just afterwards to escape\n",
    "* Strings are lexicographically comparative using ASCII.\n",
    "* Small letters of alphabet are greater than capital letters.\n",
    "* ASCII Mapping\n",
    "    * a-z: 097-122\n",
    "    * A-Z: 065-090\n",
    "    * 0-9: 048-057\n",
    "* ord(a): to get the ascii integer value of a char\n",
    "* chr(98): to get the char value of a ascii code integer"
   ]
  },
  {
   "cell_type": "markdown",
   "id": "d4f38bfa-227b-4b50-85bf-a9ad52be3171",
   "metadata": {},
   "source": [
    "Execute and verify:\n",
    "\n",
    "    a = 'valid_demo_string'\n",
    "    a = \"valid_demo_string\"\n",
    "    a = '''This is Docstring'''\n",
    "    a = \"\"\"This is also Docstring\"\"\"\n",
    "\n",
    "    a = 'In this string demo\\'s the escape character'\n",
    "    a = 'Demonstrating multiple\\'s escape characters\\''\n",
    "    a = 'Here we are not using escape char after \\ hence it is treating \\ as literal and displays it two times to confirm the same'\n",
    "    a = '\"Double quotes inside single quotes works as literal char\"'\n",
    "    a = \"'Single quotes inside double quotes also works as literal char'\"\n",
    "    \n",
    "    a>A #this is lexicographical comparison.\n",
    "    print(f\"This is formatable string printing variable {i} and {j}\")"
   ]
  },
  {
   "cell_type": "markdown",
   "id": "18daf8af-c05e-4ac6-a12d-dd4918b99359",
   "metadata": {},
   "source": [
    "Empty String"
   ]
  },
  {
   "cell_type": "code",
   "execution_count": 53,
   "id": "32d9805c-36df-44bb-92fa-9634b6ce77bc",
   "metadata": {},
   "outputs": [],
   "source": [
    "a = \"\""
   ]
  },
  {
   "cell_type": "code",
   "execution_count": 54,
   "id": "89fe95ac-a599-4bed-915e-97578b3a8807",
   "metadata": {},
   "outputs": [
    {
     "data": {
      "text/plain": [
       "str"
      ]
     },
     "execution_count": 54,
     "metadata": {},
     "output_type": "execute_result"
    }
   ],
   "source": [
    "type(a)"
   ]
  },
  {
   "cell_type": "code",
   "execution_count": 39,
   "id": "1f8c7285-038b-4287-86d7-b1b4dc32fbe2",
   "metadata": {},
   "outputs": [
    {
     "data": {
      "text/plain": [
       "'demostring_1'"
      ]
     },
     "execution_count": 39,
     "metadata": {},
     "output_type": "execute_result"
    }
   ],
   "source": [
    "a = 'demostring_'+'1'\n",
    "a"
   ]
  },
  {
   "cell_type": "code",
   "execution_count": 40,
   "id": "15ab9ebf-4523-4462-a0b3-ebe125eca751",
   "metadata": {},
   "outputs": [
    {
     "data": {
      "text/plain": [
       "'demostring_demostring_'"
      ]
     },
     "execution_count": 40,
     "metadata": {},
     "output_type": "execute_result"
    }
   ],
   "source": [
    "a = 'demostring_' + 'demostring_'\n",
    "a"
   ]
  },
  {
   "cell_type": "code",
   "execution_count": 37,
   "id": "542742a9-f471-4aa5-b18a-767104e5609d",
   "metadata": {},
   "outputs": [
    {
     "data": {
      "text/plain": [
       "'demostring_demostring_demostring_'"
      ]
     },
     "execution_count": 37,
     "metadata": {},
     "output_type": "execute_result"
    }
   ],
   "source": [
    "a = 'demostring_'*3\n",
    "a"
   ]
  },
  {
   "cell_type": "code",
   "execution_count": 42,
   "id": "a5baf556-2123-4cc7-8bdb-88b91446a2c2",
   "metadata": {},
   "outputs": [
    {
     "data": {
      "text/plain": [
       "True"
      ]
     },
     "execution_count": 42,
     "metadata": {},
     "output_type": "execute_result"
    }
   ],
   "source": [
    "'a' > \"A\""
   ]
  },
  {
   "cell_type": "markdown",
   "id": "d425add9-cf84-4916-9b6d-491f543df86d",
   "metadata": {},
   "source": [
    "##### ascii value of any char"
   ]
  },
  {
   "cell_type": "code",
   "execution_count": 63,
   "id": "f8b9e9e8-9d9b-46a2-9323-af0f1eb5b22c",
   "metadata": {},
   "outputs": [
    {
     "data": {
      "text/plain": [
       "97"
      ]
     },
     "execution_count": 63,
     "metadata": {},
     "output_type": "execute_result"
    }
   ],
   "source": [
    "ord (\"a\") #ascii value of a"
   ]
  },
  {
   "cell_type": "markdown",
   "id": "6151de09-16d6-470f-a8b7-b794c924fe36",
   "metadata": {},
   "source": [
    "charcter value of ascii representation"
   ]
  },
  {
   "cell_type": "code",
   "execution_count": 33,
   "id": "0d7fc4b5-40b8-4cfd-9cd2-6a057c326bd0",
   "metadata": {},
   "outputs": [
    {
     "data": {
      "text/plain": [
       "'b'"
      ]
     },
     "execution_count": 33,
     "metadata": {},
     "output_type": "execute_result"
    }
   ],
   "source": [
    "chr(98)"
   ]
  },
  {
   "cell_type": "markdown",
   "id": "b13fba4b-691e-4ab1-8129-2aa06cd595cb",
   "metadata": {},
   "source": [
    "##### order of ascii char matters not length for lexicographical comparison"
   ]
  },
  {
   "cell_type": "code",
   "execution_count": 46,
   "id": "03980638-3c91-492e-b223-aee35a100ada",
   "metadata": {},
   "outputs": [
    {
     "data": {
      "text/plain": [
       "True"
      ]
     },
     "execution_count": 46,
     "metadata": {},
     "output_type": "execute_result"
    }
   ],
   "source": [
    "'z' > 'aaazzzzzzzzzz'"
   ]
  },
  {
   "cell_type": "markdown",
   "id": "362a8519-ddfe-4cae-9d6f-f800a7a0e6eb",
   "metadata": {
    "tags": []
   },
   "source": [
    "## Glossary of string methods"
   ]
  },
  {
   "cell_type": "markdown",
   "id": "71d054d4-1b6a-47c9-99ae-29d75f5aaa2e",
   "metadata": {},
   "source": [
    "\n",
    "1. split -> \"this is a string\".split(\" \") -> string to a list\n",
    "\n",
    "2. join -> \" \".join([\"list\", \"of\", \"strings\"]) -> list of strings to a string\n",
    "\n",
    "3. replace -> \"this is a string\".replace(\" \", \"_\") -> replaces all occurences of the first character by the second character. IMP - CREATES A NEW STRING\n",
    "\n",
    "4. find -> \"this is a string\".find(\" a \") -> Finds the exact sequence or substring in the original string and returns the starting index of that substring.\n",
    "\n",
    "5. count -> \"this is a string\".count(\"a\") -> Counts the number of times a character or substring is present within a string\n",
    "\n",
    "6. isdigit -> True if content inside the string is only digits.\n",
    "\n",
    "7. isalpha -> True if content inside the string is only alphabets.\n",
    "\n",
    "8. islower / isupper -> True if content inside the string is all lower case / all upper case\n",
    "\n",
    "9. isspace -> True if the character is a space\n",
    "\n",
    "10. lower / upper* -> Converts a string to lowercase / uppercase\n",
    "\n",
    "##### Special Mention\n",
    "11. \"random\" in \"this is random!\" -> MEMBERSHIP OPERATOR - True if operand1 is present inside operand2"
   ]
  },
  {
   "cell_type": "markdown",
   "id": "8c7861f6-f6f7-4803-9548-f82141bb1868",
   "metadata": {
    "jp-MarkdownHeadingCollapsed": true,
    "tags": []
   },
   "source": [
    "## Questions"
   ]
  },
  {
   "cell_type": "markdown",
   "id": "4a1702f2-d866-4f1f-a6b4-910ce3cbfad6",
   "metadata": {
    "jp-MarkdownHeadingCollapsed": true,
    "tags": []
   },
   "source": [
    "### Question 1\n",
    "    Take a string as input from the user.\n",
    "    Print the string character by character in new lines.\n",
    "\n",
    "    INPUT - VIRAT\n",
    "    OUTPUT - \n",
    "    V\n",
    "    I\n",
    "    R\n",
    "    A\n",
    "    T"
   ]
  },
  {
   "cell_type": "markdown",
   "id": "fd426501-093f-4755-afcc-9eda4f519241",
   "metadata": {
    "jp-MarkdownHeadingCollapsed": true,
    "tags": []
   },
   "source": [
    "##### Solution"
   ]
  },
  {
   "cell_type": "code",
   "execution_count": null,
   "id": "893334d2-3ac7-42b6-8bc9-2c5145ce7129",
   "metadata": {},
   "outputs": [
    {
     "name": "stdin",
     "output_type": "stream",
     "text": [
      " VIRAT\n"
     ]
    },
    {
     "name": "stdout",
     "output_type": "stream",
     "text": [
      "V\n",
      "I\n",
      "R\n",
      "A\n",
      "T\n"
     ]
    }
   ],
   "source": [
    "n = input()\n",
    "for i in n:\n",
    "    print(f\"{i}\")"
   ]
  },
  {
   "cell_type": "markdown",
   "id": "4e6aeb18-32a9-4873-ad36-3e4cd7c39125",
   "metadata": {
    "jp-MarkdownHeadingCollapsed": true,
    "tags": []
   },
   "source": [
    " ### Question 2\n",
    "     Take a string as input from the user.\n",
    "     \n",
    "     Print the following - \n",
    "    \"First character - f, Last character - l\""
   ]
  },
  {
   "cell_type": "markdown",
   "id": "7d989a7e-dfd1-4090-88bd-74ab67f04bb1",
   "metadata": {
    "jp-MarkdownHeadingCollapsed": true,
    "tags": []
   },
   "source": [
    "##### Solution"
   ]
  },
  {
   "cell_type": "code",
   "execution_count": null,
   "id": "a99dd217-01c6-4440-84e6-c3368913be3b",
   "metadata": {},
   "outputs": [
    {
     "name": "stdin",
     "output_type": "stream",
     "text": [
      " VIRAT\n"
     ]
    },
    {
     "name": "stdout",
     "output_type": "stream",
     "text": [
      "First Character: V, Last Character: T\n"
     ]
    }
   ],
   "source": [
    "n = input()\n",
    "\n",
    "for i in range(len(n)):\n",
    "    pass\n",
    "print(f\"First Character: {n[0]}, Last Character: {n[len(n)-1]}\")\n",
    "    "
   ]
  },
  {
   "cell_type": "markdown",
   "id": "60a3678d-a49c-4787-b974-d978c6c65cbe",
   "metadata": {
    "jp-MarkdownHeadingCollapsed": true,
    "tags": []
   },
   "source": [
    " ### Question 3\n",
    "     Take a string as input. Reverse that string."
   ]
  },
  {
   "cell_type": "markdown",
   "id": "ff682d4e-7f99-405c-8953-48e4e0b511d3",
   "metadata": {
    "jp-MarkdownHeadingCollapsed": true,
    "tags": []
   },
   "source": [
    "##### Solution"
   ]
  },
  {
   "cell_type": "code",
   "execution_count": null,
   "id": "fdc7b034-e1bd-4f4f-a938-6cc983a7249e",
   "metadata": {},
   "outputs": [
    {
     "name": "stdin",
     "output_type": "stream",
     "text": [
      " VIRAT\n"
     ]
    },
    {
     "name": "stdout",
     "output_type": "stream",
     "text": [
      "TARIV"
     ]
    }
   ],
   "source": [
    "n = input()\n",
    "for i in (n[::-1]):\n",
    "    print(i, end=\"\")"
   ]
  },
  {
   "cell_type": "markdown",
   "id": "2df3904a-efce-48d6-a926-cef36e0fdf49",
   "metadata": {},
   "source": [
    "same thing as above"
   ]
  },
  {
   "cell_type": "code",
   "execution_count": null,
   "id": "ab246305-9709-4380-b279-1857078e0316",
   "metadata": {},
   "outputs": [
    {
     "name": "stdin",
     "output_type": "stream",
     "text": [
      " VIRAT\n"
     ]
    },
    {
     "name": "stdout",
     "output_type": "stream",
     "text": [
      "TARIV\n"
     ]
    }
   ],
   "source": [
    "n = input()\n",
    "print(n[::-1])"
   ]
  },
  {
   "cell_type": "markdown",
   "id": "4565c1bc-0cbf-4bca-9d31-59d59a6ad01c",
   "metadata": {
    "tags": []
   },
   "source": [
    " ### Question 4\n",
    " \n",
    "    Take a string as input.\n",
    "    Check whether that string is a palindrome or not.\n",
    "\n",
    "    NAMAN - Palindrome\n",
    "    SHAKER - Not a palindrome"
   ]
  },
  {
   "cell_type": "markdown",
   "id": "b9e8b99c-0230-4cb6-b679-9d6203a3659a",
   "metadata": {
    "jp-MarkdownHeadingCollapsed": true,
    "tags": []
   },
   "source": [
    "##### Solution"
   ]
  },
  {
   "cell_type": "code",
   "execution_count": null,
   "id": "dd10cc80-0449-458d-9ffc-abf9aef27292",
   "metadata": {},
   "outputs": [],
   "source": [
    "def palindrome_check():\n",
    "    n = input()\n",
    "    n = n.lower()\n",
    "\n",
    "    for i in range(len(n)):\n",
    "        if n[i] != n[((len(n)-1)-i)]:\n",
    "            return False\n",
    "    return True"
   ]
  },
  {
   "cell_type": "code",
   "execution_count": null,
   "id": "793be115-0917-45f5-8b78-461897af3668",
   "metadata": {},
   "outputs": [
    {
     "name": "stdin",
     "output_type": "stream",
     "text": [
      " Naman\n"
     ]
    },
    {
     "data": {
      "text/plain": [
       "True"
      ]
     },
     "execution_count": 65,
     "metadata": {},
     "output_type": "execute_result"
    }
   ],
   "source": [
    "palindrome_check()"
   ]
  },
  {
   "cell_type": "markdown",
   "id": "f024029b-9bdd-4454-88a1-dfd999521a67",
   "metadata": {
    "jp-MarkdownHeadingCollapsed": true,
    "tags": []
   },
   "source": [
    "##### Alternative Solution"
   ]
  },
  {
   "cell_type": "markdown",
   "id": "f1a8fab2-cbfb-4a93-af94-9f5ea5822232",
   "metadata": {},
   "source": [
    "Here we are using slicing on string to solve directly and much more efficiently"
   ]
  },
  {
   "cell_type": "code",
   "execution_count": null,
   "id": "81188ea9-1e2c-4459-9d1f-de748c2c646d",
   "metadata": {},
   "outputs": [],
   "source": [
    "def palindrome_check():\n",
    "    n = input()\n",
    "    n = n.lower()\n",
    "    if n != n[::-1]:\n",
    "        return False\n",
    "    else:\n",
    "        return True"
   ]
  },
  {
   "cell_type": "code",
   "execution_count": null,
   "id": "dbde07b1-b9a4-48ed-977f-fa625137df3c",
   "metadata": {},
   "outputs": [
    {
     "name": "stdin",
     "output_type": "stream",
     "text": [
      " Naman\n"
     ]
    },
    {
     "data": {
      "text/plain": [
       "True"
      ]
     },
     "execution_count": 74,
     "metadata": {},
     "output_type": "execute_result"
    }
   ],
   "source": [
    "palindrome_check()"
   ]
  },
  {
   "cell_type": "markdown",
   "id": "4f9aed18-b767-407a-aef2-ef66926cc0b8",
   "metadata": {
    "jp-MarkdownHeadingCollapsed": true,
    "tags": []
   },
   "source": [
    " ### Question 5\n",
    " \n",
    "     Take a string as input from the user.\n",
    "     Print the number of uppercase characters in that string. (alphabets)\n",
    "\n",
    "    INPUT - \"This is a Random%^&*()\"\n",
    "    OUTPUT - 2"
   ]
  },
  {
   "cell_type": "markdown",
   "id": "2019efc3-251d-487e-aa3e-ae3683e3e796",
   "metadata": {
    "jp-MarkdownHeadingCollapsed": true,
    "tags": []
   },
   "source": [
    "##### Solution"
   ]
  },
  {
   "cell_type": "code",
   "execution_count": null,
   "id": "07ddcf1b-966a-4937-8a2c-a04930ae22d2",
   "metadata": {},
   "outputs": [],
   "source": [
    "def uppercase_count():\n",
    "    n = input()\n",
    "    count = 0\n",
    "    for i in n:\n",
    "        if i.isupper():\n",
    "            count +=1\n",
    "    return count   "
   ]
  },
  {
   "cell_type": "code",
   "execution_count": null,
   "id": "e4195e5f-5383-445b-ab22-99466fe01a34",
   "metadata": {},
   "outputs": [
    {
     "name": "stdin",
     "output_type": "stream",
     "text": [
      " This is a Random%^&*(\n"
     ]
    },
    {
     "data": {
      "text/plain": [
       "2"
      ]
     },
     "execution_count": 77,
     "metadata": {},
     "output_type": "execute_result"
    }
   ],
   "source": [
    "uppercase_count()"
   ]
  },
  {
   "cell_type": "markdown",
   "id": "7f6ad1c3-b99b-473d-a48d-53fe8f7eb9c7",
   "metadata": {
    "jp-MarkdownHeadingCollapsed": true,
    "tags": []
   },
   "source": [
    "##### Alternative Solution"
   ]
  },
  {
   "cell_type": "code",
   "execution_count": null,
   "id": "be3640d1-e80c-4b0d-a550-fdbc7935e4a8",
   "metadata": {},
   "outputs": [],
   "source": [
    "def count_uppercase(a):\n",
    "    count = 0\n",
    "    \n",
    "    for i in a:\n",
    "        if ord(i) >= 65 and ord(i) <= 90:\n",
    "            count += 1\n",
    "            \n",
    "    return count"
   ]
  },
  {
   "cell_type": "code",
   "execution_count": null,
   "id": "e9a3567e-5727-4b07-9dff-08d58f5871e1",
   "metadata": {},
   "outputs": [
    {
     "data": {
      "text/plain": [
       "2"
      ]
     },
     "execution_count": 89,
     "metadata": {},
     "output_type": "execute_result"
    }
   ],
   "source": [
    "a = \"This is a Random%^&*()\"\n",
    "count_uppercase(a)"
   ]
  },
  {
   "cell_type": "markdown",
   "id": "4d320080-214d-48d0-a2d5-f23b5996ad02",
   "metadata": {
    "jp-MarkdownHeadingCollapsed": true,
    "tags": []
   },
   "source": [
    " ### Question 6\n",
    "     You are given a list as input to a function. Generate a string from the chr values of the integers in the list.\n",
    "\n",
    "    INPUT = [65, 97, 68]\n",
    "    OUTPUT = \"AaD\"\n",
    "\n",
    "    EXPLANATION - \n",
    "    \"A\" -> 65\n",
    "    \"a\" -> 97\n",
    "    \"D\" -> 68"
   ]
  },
  {
   "cell_type": "markdown",
   "id": "78ed9817-f31a-4c2c-8dc0-93f2d3fedd98",
   "metadata": {
    "jp-MarkdownHeadingCollapsed": true,
    "tags": []
   },
   "source": [
    "##### Solution"
   ]
  },
  {
   "cell_type": "code",
   "execution_count": null,
   "id": "140f28a1-f1fa-4f10-9e3f-5d3fd250cb37",
   "metadata": {},
   "outputs": [],
   "source": [
    "def ascii_string(list_1):\n",
    "    x= \"\"\n",
    "    for i in list_1:\n",
    "        x += chr(i)\n",
    "    return x"
   ]
  },
  {
   "cell_type": "code",
   "execution_count": null,
   "id": "67d40e79-7ad3-4fe3-bc63-dcba8027383b",
   "metadata": {},
   "outputs": [
    {
     "data": {
      "text/plain": [
       "'AaD'"
      ]
     },
     "execution_count": 85,
     "metadata": {},
     "output_type": "execute_result"
    }
   ],
   "source": [
    "list_1 = [65, 97, 68]\n",
    "ascii_string(list_1)"
   ]
  },
  {
   "cell_type": "markdown",
   "id": "23cb14f1-fe9d-4140-8ff0-da86a3a688af",
   "metadata": {
    "jp-MarkdownHeadingCollapsed": true,
    "tags": []
   },
   "source": [
    "##### Solution with input"
   ]
  },
  {
   "cell_type": "code",
   "execution_count": null,
   "id": "d2c2c168-4653-4b31-ba13-807f7eb3b6d7",
   "metadata": {},
   "outputs": [],
   "source": [
    "def ascii_string(n):\n",
    "    list_1 = []\n",
    "    for i in range(n):\n",
    "        x = int(input())\n",
    "        list_1.append(x)\n",
    "    m= \"\"\n",
    "    for i in list_1:\n",
    "        m += chr(i)\n",
    "    return m"
   ]
  },
  {
   "cell_type": "code",
   "execution_count": null,
   "id": "0724f3bf-5404-4227-98b1-ffae60cc5cbc",
   "metadata": {},
   "outputs": [
    {
     "name": "stdin",
     "output_type": "stream",
     "text": [
      " 65\n",
      " 97\n",
      " 68\n"
     ]
    },
    {
     "data": {
      "text/plain": [
       "'AaD'"
      ]
     },
     "execution_count": 87,
     "metadata": {},
     "output_type": "execute_result"
    }
   ],
   "source": [
    "ascii_string(3)"
   ]
  },
  {
   "cell_type": "markdown",
   "id": "097f0a5a-485c-41e2-bb45-ad0457036173",
   "metadata": {
    "tags": []
   },
   "source": [
    "# Strings2"
   ]
  },
  {
   "cell_type": "markdown",
   "id": "77d6f832-a83d-4f61-9776-ce8b81e0265e",
   "metadata": {
    "tags": []
   },
   "source": [
    "### String functions"
   ]
  },
  {
   "cell_type": "markdown",
   "id": "fb7c3288-fead-488c-a67d-04c018cb148c",
   "metadata": {
    "tags": []
   },
   "source": [
    "#### Split"
   ]
  },
  {
   "cell_type": "code",
   "execution_count": 95,
   "id": "c232ee25-abcf-4ac8-a82b-5c13e1887d83",
   "metadata": {},
   "outputs": [],
   "source": [
    "a = \"this is a random string for testing\""
   ]
  },
  {
   "cell_type": "code",
   "execution_count": 96,
   "id": "ba6653ce-f74c-407c-a0da-ef92d87dc202",
   "metadata": {},
   "outputs": [
    {
     "data": {
      "text/plain": [
       "['this', 'is', 'a', 'random', 'string', 'for', 'testing']"
      ]
     },
     "execution_count": 96,
     "metadata": {},
     "output_type": "execute_result"
    }
   ],
   "source": [
    "a.split(\" \") # using whitespace as delimiter"
   ]
  },
  {
   "cell_type": "code",
   "execution_count": 97,
   "id": "9609f4a7-9a89-4766-ac22-507a44ea3e74",
   "metadata": {},
   "outputs": [],
   "source": [
    "a = \" this is a random string for testing \""
   ]
  },
  {
   "cell_type": "code",
   "execution_count": 98,
   "id": "186ff38c-cc2b-4a0a-b096-6a42602169fa",
   "metadata": {},
   "outputs": [
    {
     "data": {
      "text/plain": [
       "['', 'this', 'is', 'a', 'random', 'string', 'for', 'testing', '']"
      ]
     },
     "execution_count": 98,
     "metadata": {},
     "output_type": "execute_result"
    }
   ],
   "source": [
    "a.split(\" \") # using whitespace as delimiter"
   ]
  },
  {
   "cell_type": "code",
   "execution_count": 100,
   "id": "f2356370-3065-47ab-9e90-17418933386c",
   "metadata": {},
   "outputs": [
    {
     "data": {
      "text/plain": [
       "['Using', 'as', 'a', 'delimiter']"
      ]
     },
     "execution_count": 100,
     "metadata": {},
     "output_type": "execute_result"
    }
   ],
   "source": [
    "a = \"Using,as,a,delimiter\"\n",
    "b = a.split(\",\") # , as delimiter\n",
    "b"
   ]
  },
  {
   "cell_type": "markdown",
   "id": "197e0b4c-ff2c-4509-8339-ed26280d5c07",
   "metadata": {},
   "source": [
    "#### Join"
   ]
  },
  {
   "cell_type": "code",
   "execution_count": 146,
   "id": "962badbe-2f62-448a-b0cb-19746ed1339a",
   "metadata": {},
   "outputs": [
    {
     "data": {
      "text/plain": [
       "'Using,as,a,delimiter'"
      ]
     },
     "execution_count": 146,
     "metadata": {},
     "output_type": "execute_result"
    }
   ],
   "source": [
    "\",\".join(b) #again adding the strings using , as delimitor"
   ]
  },
  {
   "cell_type": "markdown",
   "id": "bb3d404e-a774-4e61-8deb-b0695e7cd386",
   "metadata": {
    "jp-MarkdownHeadingCollapsed": true,
    "tags": []
   },
   "source": [
    "#### find\n",
    "* Returns index of the first instance of the character\n",
    "* Returns the starting index of a substring if substring is present\n",
    "* Returns -1 if substring or char is not present in substring"
   ]
  },
  {
   "cell_type": "code",
   "execution_count": 151,
   "id": "4bb071b0-e5f1-4a6e-acfe-61ef00a178a9",
   "metadata": {},
   "outputs": [
    {
     "data": {
      "text/plain": [
       "19"
      ]
     },
     "execution_count": 151,
     "metadata": {},
     "output_type": "execute_result"
    }
   ],
   "source": [
    "a = \"Using,as,a,delimiter\"\n",
    "a.find(\"r\")"
   ]
  },
  {
   "cell_type": "code",
   "execution_count": 154,
   "id": "d7b4aead-ab2e-49b0-aea9-944f25ca4739",
   "metadata": {},
   "outputs": [
    {
     "data": {
      "text/plain": [
       "11"
      ]
     },
     "execution_count": 154,
     "metadata": {},
     "output_type": "execute_result"
    }
   ],
   "source": [
    "a.find(\"delimiter\") #Returns the starting index of a substring if substring is present"
   ]
  },
  {
   "cell_type": "code",
   "execution_count": 155,
   "id": "61bff382-6e3a-4318-a2e6-8d787a1ffb30",
   "metadata": {},
   "outputs": [
    {
     "data": {
      "text/plain": [
       "-1"
      ]
     },
     "execution_count": 155,
     "metadata": {},
     "output_type": "execute_result"
    }
   ],
   "source": [
    "a.find(\"z\") #Returns -1 if substring or char is not present in substring"
   ]
  },
  {
   "cell_type": "markdown",
   "id": "e576d2d6-39e5-4cab-a6fe-6001fe37d650",
   "metadata": {},
   "source": [
    "#### replace\n",
    "* will replace every instance of a substring in a string with the specified words\n",
    "* string.replace(\"current_substring\", \"new substring\")"
   ]
  },
  {
   "cell_type": "code",
   "execution_count": 157,
   "id": "18d54a6b-e617-4cd1-8587-4ecd4a4204d7",
   "metadata": {},
   "outputs": [
    {
     "data": {
      "text/plain": [
       "'Using as a delimiter'"
      ]
     },
     "execution_count": 157,
     "metadata": {},
     "output_type": "execute_result"
    }
   ],
   "source": [
    "a = \"Using,as,a,delimiter\"\n",
    "a.replace(\",\",\" \")"
   ]
  },
  {
   "cell_type": "markdown",
   "id": "30ed278c-8432-480d-b499-003b477b7ebd",
   "metadata": {},
   "source": [
    "#### Membership Operator"
   ]
  },
  {
   "cell_type": "code",
   "execution_count": 158,
   "id": "82101c2e-0e1b-4f04-a784-b200a3d0ba4f",
   "metadata": {},
   "outputs": [
    {
     "data": {
      "text/plain": [
       "False"
      ]
     },
     "execution_count": 158,
     "metadata": {},
     "output_type": "execute_result"
    }
   ],
   "source": [
    "5 in [1,2,3,4]"
   ]
  },
  {
   "cell_type": "code",
   "execution_count": 159,
   "id": "687eb0f4-8261-4a9a-869b-617eb16d3a50",
   "metadata": {},
   "outputs": [
    {
     "data": {
      "text/plain": [
       "True"
      ]
     },
     "execution_count": 159,
     "metadata": {},
     "output_type": "execute_result"
    }
   ],
   "source": [
    "\"test\" in \"This is a test string\""
   ]
  },
  {
   "cell_type": "code",
   "execution_count": 160,
   "id": "b4c82d97-1a7d-4690-adac-71c9f2e911d7",
   "metadata": {},
   "outputs": [
    {
     "data": {
      "text/plain": [
       "False"
      ]
     },
     "execution_count": 160,
     "metadata": {},
     "output_type": "execute_result"
    }
   ],
   "source": [
    "\"test\" in \"This is a Test string\""
   ]
  },
  {
   "cell_type": "markdown",
   "id": "cc844dd2-7c0c-4f26-a24a-6ed5fec9a42d",
   "metadata": {
    "jp-MarkdownHeadingCollapsed": true,
    "tags": []
   },
   "source": [
    "#### Other Functions"
   ]
  },
  {
   "cell_type": "markdown",
   "id": "fa49a694-7675-4375-a6e6-87aa170aa1b6",
   "metadata": {},
   "source": [
    "* isidgit(): returns true if all the characters are positive integer only\n",
    "* isaplha(): returns true if all the characters are only alphabet\n",
    "* islower() & isupper(): returns True for appropiate case of characters\n",
    "* isspace(): return True for only whitespaces"
   ]
  },
  {
   "cell_type": "code",
   "execution_count": 5,
   "id": "50291176-e901-4f01-8e2d-6914e561f7f9",
   "metadata": {},
   "outputs": [
    {
     "data": {
      "text/plain": [
       "True"
      ]
     },
     "execution_count": 5,
     "metadata": {},
     "output_type": "execute_result"
    }
   ],
   "source": [
    "\"78\".isdigit()"
   ]
  },
  {
   "cell_type": "code",
   "execution_count": 7,
   "id": "29c391b3-57c3-4c7c-a91d-e53da7a2e5e0",
   "metadata": {},
   "outputs": [
    {
     "data": {
      "text/plain": [
       "True"
      ]
     },
     "execution_count": 7,
     "metadata": {},
     "output_type": "execute_result"
    }
   ],
   "source": [
    "\"abx\".isalpha()"
   ]
  },
  {
   "cell_type": "code",
   "execution_count": 4,
   "id": "baa4a40d-8a2c-4e2f-8296-945d8aeb3edc",
   "metadata": {},
   "outputs": [
    {
     "data": {
      "text/plain": [
       "False"
      ]
     },
     "execution_count": 4,
     "metadata": {},
     "output_type": "execute_result"
    }
   ],
   "source": [
    "\"78.3\".isdigit()"
   ]
  },
  {
   "cell_type": "code",
   "execution_count": 8,
   "id": "9dfe8855-af66-4a7e-baad-f253ed5dec99",
   "metadata": {},
   "outputs": [
    {
     "data": {
      "text/plain": [
       "False"
      ]
     },
     "execution_count": 8,
     "metadata": {},
     "output_type": "execute_result"
    }
   ],
   "source": [
    "\"abcdx12\".isalpha()"
   ]
  },
  {
   "cell_type": "code",
   "execution_count": 19,
   "id": "8d23210f-7f45-4fa7-bcb5-d4e23aea189c",
   "metadata": {},
   "outputs": [
    {
     "data": {
      "text/plain": [
       "True"
      ]
     },
     "execution_count": 19,
     "metadata": {},
     "output_type": "execute_result"
    }
   ],
   "source": [
    "\"   \".isspace()"
   ]
  },
  {
   "cell_type": "markdown",
   "id": "79f187c9-2798-4cf9-8a71-9d6fcd49794a",
   "metadata": {},
   "source": [
    "## Question"
   ]
  },
  {
   "cell_type": "markdown",
   "id": "fa5d9db0-10de-49af-85bb-1195c8738fc7",
   "metadata": {
    "tags": []
   },
   "source": [
    "### Question 1"
   ]
  },
  {
   "cell_type": "markdown",
   "id": "b8aeeef0-3874-4c57-9646-d1ab59d5a3e5",
   "metadata": {},
   "source": [
    "Write a custom function for joining strings with custom delimiters."
   ]
  },
  {
   "cell_type": "markdown",
   "id": "0e849125-641f-46ed-96b4-cbb1110bc63f",
   "metadata": {
    "jp-MarkdownHeadingCollapsed": true,
    "tags": []
   },
   "source": [
    "##### Solution"
   ]
  },
  {
   "cell_type": "code",
   "execution_count": 142,
   "id": "19ced73d-aa8c-467c-bdfe-de0a7ee5bd13",
   "metadata": {},
   "outputs": [],
   "source": [
    "def custom_join(s, delimiter):\n",
    "    string_combo= \"\"\n",
    "    for i in range(len(s)):\n",
    "        if i != len(s)-1:\n",
    "            string_combo +=s[i]+delimiter\n",
    "        else:\n",
    "            string_combo +=s[i]\n",
    "    return string_combo"
   ]
  },
  {
   "cell_type": "code",
   "execution_count": 145,
   "id": "b24a14ab-8af6-4753-99b0-4945cde4589a",
   "metadata": {},
   "outputs": [
    {
     "data": {
      "text/plain": [
       "'Using,\",\",as,a,delimiter'"
      ]
     },
     "execution_count": 145,
     "metadata": {},
     "output_type": "execute_result"
    }
   ],
   "source": [
    "s = ['Using', '\",\"', 'as', 'a', 'delimiter']\n",
    "custom_join(s,\",\")"
   ]
  },
  {
   "cell_type": "markdown",
   "id": "5823de84-4296-47ba-bd37-f77ce5f61236",
   "metadata": {},
   "source": [
    "### Question 2"
   ]
  },
  {
   "cell_type": "markdown",
   "id": "ed64c66b-9388-4ecc-a2f9-ce6b0b5b5536",
   "metadata": {},
   "source": [
    "Write a custom function for membership operators"
   ]
  },
  {
   "cell_type": "code",
   "execution_count": null,
   "id": "020a521a-4e74-4a47-8594-293c022d30f6",
   "metadata": {},
   "outputs": [],
   "source": []
  },
  {
   "cell_type": "markdown",
   "id": "d89a7403-db52-47da-bcf1-74d83763dfe5",
   "metadata": {
    "tags": []
   },
   "source": [
    "### Question 3"
   ]
  },
  {
   "cell_type": "markdown",
   "id": "f8a25a32-30ac-4caa-96c4-35d9b987663a",
   "metadata": {},
   "source": [
    "    Reverse a sentence. A sentence is a string containing space separated words.\n",
    "\n",
    "    INPUT = \"this is a sentence\"\n",
    "    OUTPUT = \"sentence a is this\""
   ]
  },
  {
   "cell_type": "markdown",
   "id": "62507310-26f5-4ed6-97d0-11dbd192fbb4",
   "metadata": {
    "tags": []
   },
   "source": [
    "##### Solution"
   ]
  },
  {
   "cell_type": "code",
   "execution_count": 196,
   "id": "00d31d0f-72d7-41cd-8b00-ee97cd0dcb85",
   "metadata": {},
   "outputs": [],
   "source": [
    "def reverse_sentence():\n",
    "    n = input()\n",
    "    list_n = n.split(\" \")\n",
    "    reverse_list = list_n[::-1]\n",
    "    reverse_string = \" \".join(reverse_list)      \n",
    "    return reverse_string       "
   ]
  },
  {
   "cell_type": "code",
   "execution_count": 198,
   "id": "ff641b3c-936d-4bf3-b80b-ce222ae9ee9c",
   "metadata": {},
   "outputs": [
    {
     "name": "stdin",
     "output_type": "stream",
     "text": [
      " this is A Sentence\n"
     ]
    },
    {
     "data": {
      "text/plain": [
       "'Sentence A is this'"
      ]
     },
     "execution_count": 198,
     "metadata": {},
     "output_type": "execute_result"
    }
   ],
   "source": [
    "reverse_sentence()"
   ]
  },
  {
   "cell_type": "markdown",
   "id": "5b4aa991-76a6-44e6-b13f-2422aa21705f",
   "metadata": {
    "jp-MarkdownHeadingCollapsed": true,
    "tags": []
   },
   "source": [
    "### Question 4"
   ]
  },
  {
   "cell_type": "markdown",
   "id": "800dba39-1e72-4ca7-877e-a4b4f81bf79e",
   "metadata": {},
   "source": [
    "    Create a isalphanumeric() function. It takes a string as input.\n",
    "    \n",
    "    - If all characters in the string are either digits or alphabets -> TRUE\n",
    "    - If any character is different -> FALSE"
   ]
  },
  {
   "cell_type": "markdown",
   "id": "944bb257-1fe7-4a86-9fcc-fa71d62c25b2",
   "metadata": {
    "jp-MarkdownHeadingCollapsed": true,
    "tags": []
   },
   "source": [
    "##### Solution"
   ]
  },
  {
   "cell_type": "code",
   "execution_count": 16,
   "id": "7ecae343-6f9c-4f8c-a02b-b584cf178d48",
   "metadata": {},
   "outputs": [],
   "source": [
    "def isalphanumeric():\n",
    "    n = input()\n",
    "    for i in n:\n",
    "        if not(i.isalpha() or i.isdigit()):\n",
    "            return False\n",
    "    return True"
   ]
  },
  {
   "cell_type": "code",
   "execution_count": 18,
   "id": "7ea8e364-4171-4080-b3cf-74e3453cd77b",
   "metadata": {},
   "outputs": [
    {
     "name": "stdin",
     "output_type": "stream",
     "text": [
      " 1323dsfds\n"
     ]
    },
    {
     "data": {
      "text/plain": [
       "True"
      ]
     },
     "execution_count": 18,
     "metadata": {},
     "output_type": "execute_result"
    }
   ],
   "source": [
    "isalphanumeric()"
   ]
  },
  {
   "cell_type": "markdown",
   "id": "ff420f9f-98e7-4667-9a31-820c60fb7e34",
   "metadata": {},
   "source": [
    "Above function can also be written with ascii code. Both will be more or less same wrt time complexity"
   ]
  },
  {
   "cell_type": "markdown",
   "id": "7379cc9c-c8dc-4917-9020-4eee311296f7",
   "metadata": {},
   "source": [
    "#### Question 5**"
   ]
  },
  {
   "cell_type": "markdown",
   "id": "4ff6df18-790d-4b85-b203-1d1effcf6bb8",
   "metadata": {},
   "source": [
    "    Custom Replace (Character Only) - \n",
    "    Functions should take 3 arguments: \n",
    "    a string, \n",
    "    a character to be replaced (c) ,and,\n",
    "    a replacement character (r).\n",
    "\n",
    "    It should replace all instances of c with r.\n",
    "\n",
    "    INPUT - \"randomr\", c = \"r\", r = \"m\"\n",
    "    OUTPUT - \"mandomm\""
   ]
  },
  {
   "cell_type": "markdown",
   "id": "ce3a57df-370a-4728-947b-6dfbfa2a7bf7",
   "metadata": {
    "jp-MarkdownHeadingCollapsed": true,
    "tags": []
   },
   "source": [
    "##### Solution"
   ]
  },
  {
   "cell_type": "code",
   "execution_count": 31,
   "id": "c68b45f4-0e67-485e-ae0c-962da56a3709",
   "metadata": {},
   "outputs": [],
   "source": [
    "def custom_replace(a,c,r):\n",
    "    x = \"\"\n",
    "    for i in range(len(a)):\n",
    "        if a[i]==c:\n",
    "            x += r\n",
    "        else:\n",
    "            x += a[i]\n",
    "    return x\n",
    "            "
   ]
  },
  {
   "cell_type": "code",
   "execution_count": 32,
   "id": "b94791d3-ff7e-4ef5-b01a-4147478e68ca",
   "metadata": {},
   "outputs": [
    {
     "data": {
      "text/plain": [
       "'mandomm'"
      ]
     },
     "execution_count": 32,
     "metadata": {},
     "output_type": "execute_result"
    }
   ],
   "source": [
    "custom_replace(a= \"randomr\", c=\"r\", r=\"m\")"
   ]
  },
  {
   "cell_type": "markdown",
   "id": "6354af79-1c80-4ba1-8e62-4d1592b4bbf2",
   "metadata": {},
   "source": [
    "#### HW**"
   ]
  },
  {
   "cell_type": "markdown",
   "id": "6b962b8f-cd54-4fe1-9fc9-631238bcb57e",
   "metadata": {},
   "source": [
    "Write a custom replace function for words and sentences."
   ]
  },
  {
   "cell_type": "markdown",
   "id": "d8e0fc8e-24dd-4204-add9-eddf3f5e7446",
   "metadata": {},
   "source": [
    "##### Solution"
   ]
  },
  {
   "cell_type": "code",
   "execution_count": null,
   "id": "5e7c84d6-7fff-438d-8748-8f932e19d609",
   "metadata": {},
   "outputs": [],
   "source": []
  },
  {
   "cell_type": "markdown",
   "id": "fd655f8d-e4ee-42f9-9ac4-613f9169b688",
   "metadata": {
    "tags": []
   },
   "source": [
    "# Tuples+Sets"
   ]
  },
  {
   "cell_type": "markdown",
   "id": "37af342e-2e59-47ff-8962-de8b911e4d7c",
   "metadata": {},
   "source": [
    "## Tuples"
   ]
  },
  {
   "cell_type": "markdown",
   "id": "2a1a649b-a6a7-4784-97e8-931cd689761a",
   "metadata": {
    "tags": []
   },
   "source": [
    "### Theory"
   ]
  },
  {
   "cell_type": "markdown",
   "id": "69dd8b54-1ade-43e5-80de-12a1c9977314",
   "metadata": {},
   "source": [
    "* Tuples are immutables and fixed.\n",
    "* Tuples does not support item assignment.\n",
    "* Tuple are iterable and ordered(accessible by index).\n",
    "* **Typecasting b/w tuple and list** is possible.\n",
    "* Tuple supports concatenation b/w different tuples.\n",
    "* For single element(int or str), a tuple must contain , for data type to be tuple.\n",
    "* In simple words, lock the size and element of a list and it is now tuple!\n",
    "* List, set and tuples(iterable type) are interconvertables(typecasting) with each other"
   ]
  },
  {
   "cell_type": "markdown",
   "id": "dad6af8f-e34b-40bb-b9e9-4c870bdaec13",
   "metadata": {},
   "source": [
    "Empty Tuple"
   ]
  },
  {
   "cell_type": "code",
   "execution_count": 62,
   "id": "0c794a11-3cd3-4e7c-88ab-20c2d87a21d4",
   "metadata": {},
   "outputs": [
    {
     "data": {
      "text/plain": [
       "()"
      ]
     },
     "execution_count": 62,
     "metadata": {},
     "output_type": "execute_result"
    }
   ],
   "source": [
    "a = ()\n",
    "a"
   ]
  },
  {
   "cell_type": "code",
   "execution_count": 63,
   "id": "49a0e01a-1c20-484f-935f-0038264811f9",
   "metadata": {},
   "outputs": [
    {
     "data": {
      "text/plain": [
       "tuple"
      ]
     },
     "execution_count": 63,
     "metadata": {},
     "output_type": "execute_result"
    }
   ],
   "source": [
    "type(a)"
   ]
  },
  {
   "cell_type": "code",
   "execution_count": 64,
   "id": "6d48bb26-82ae-4057-a1c2-48ad4acf9bc0",
   "metadata": {},
   "outputs": [
    {
     "data": {
      "text/plain": [
       "(10, 20, 'test', 10.5, True)"
      ]
     },
     "execution_count": 64,
     "metadata": {},
     "output_type": "execute_result"
    }
   ],
   "source": [
    "a = (10,20,\"test\",10.5,True)\n",
    "a"
   ]
  },
  {
   "cell_type": "markdown",
   "id": "7f7c64b9-8d14-49ac-a1c9-6048a54177cf",
   "metadata": {},
   "source": [
    "To access the element in a tuple"
   ]
  },
  {
   "cell_type": "code",
   "execution_count": 67,
   "id": "cfdbd13e-2168-4225-8ee4-8b721c984760",
   "metadata": {},
   "outputs": [
    {
     "data": {
      "text/plain": [
       "10"
      ]
     },
     "execution_count": 67,
     "metadata": {},
     "output_type": "execute_result"
    }
   ],
   "source": [
    "a[0]"
   ]
  },
  {
   "cell_type": "markdown",
   "id": "33ed17fc-31ad-4f6e-bf54-67b998929fdc",
   "metadata": {},
   "source": [
    "To create the tuple of a single element, one must include **,** otherwise it will show up as int or str. This is due to discrepency  where python is not sure whether it is int/string or tuple since both use the parenthesis."
   ]
  },
  {
   "cell_type": "code",
   "execution_count": 69,
   "id": "ca6cf458-6aa7-49d0-8860-15224e55179a",
   "metadata": {},
   "outputs": [
    {
     "data": {
      "text/plain": [
       "int"
      ]
     },
     "execution_count": 69,
     "metadata": {},
     "output_type": "execute_result"
    }
   ],
   "source": [
    "a =(45)\n",
    "type(a)"
   ]
  },
  {
   "cell_type": "markdown",
   "id": "88d0e196-fd20-44c8-bae8-adb556d9108a",
   "metadata": {},
   "source": [
    "Tuple of a single element"
   ]
  },
  {
   "cell_type": "code",
   "execution_count": null,
   "id": "bd97ba36-d341-4e22-b533-0a2a5eeb13dc",
   "metadata": {},
   "outputs": [],
   "source": [
    "a =(45,)\n",
    "type(a)"
   ]
  },
  {
   "cell_type": "markdown",
   "id": "18fd9af7-926c-4736-abd1-ebde1647d3b2",
   "metadata": {},
   "source": [
    "Tuple supports concatenation b/w different tuples."
   ]
  },
  {
   "cell_type": "code",
   "execution_count": 71,
   "id": "5108cc3b-858e-4148-883c-db62d8b5edc4",
   "metadata": {},
   "outputs": [
    {
     "data": {
      "text/plain": [
       "(10, 20, 'test', 10.5, True, 'X')"
      ]
     },
     "execution_count": 71,
     "metadata": {},
     "output_type": "execute_result"
    }
   ],
   "source": [
    "a = (10,20,\"test\",10.5,True)\n",
    "b = (\"X\",)\n",
    "c = a+b\n",
    "c"
   ]
  },
  {
   "cell_type": "code",
   "execution_count": 72,
   "id": "8f78aa12-2117-4b27-bfad-1c61695ff3db",
   "metadata": {},
   "outputs": [
    {
     "data": {
      "text/plain": [
       "tuple"
      ]
     },
     "execution_count": 72,
     "metadata": {},
     "output_type": "execute_result"
    }
   ],
   "source": [
    "type(c)"
   ]
  },
  {
   "cell_type": "markdown",
   "id": "e8b5c7e0-ac3c-4c8e-9f29-7664f14168ee",
   "metadata": {
    "jp-MarkdownHeadingCollapsed": true,
    "tags": []
   },
   "source": [
    "##### Tuple does not support any functions like append, pop, insert or remove since tuples are immutable."
   ]
  },
  {
   "cell_type": "code",
   "execution_count": 66,
   "id": "46a3fed2-cbcc-41a9-a81b-392dbfb41dc1",
   "metadata": {},
   "outputs": [
    {
     "ename": "AttributeError",
     "evalue": "'tuple' object has no attribute 'append'",
     "output_type": "error",
     "traceback": [
      "\u001b[1;31m---------------------------------------------------------------------------\u001b[0m",
      "\u001b[1;31mAttributeError\u001b[0m                            Traceback (most recent call last)",
      "Cell \u001b[1;32mIn[66], line 1\u001b[0m\n\u001b[1;32m----> 1\u001b[0m \u001b[43ma\u001b[49m\u001b[38;5;241;43m.\u001b[39;49m\u001b[43mappend\u001b[49m(\u001b[38;5;124m\"\u001b[39m\u001b[38;5;124madd_item\u001b[39m\u001b[38;5;124m\"\u001b[39m)\n",
      "\u001b[1;31mAttributeError\u001b[0m: 'tuple' object has no attribute 'append'"
     ]
    }
   ],
   "source": [
    "a.append(\"add_item\") #will not work as lists are immutable"
   ]
  },
  {
   "cell_type": "markdown",
   "id": "0526d61a-0f6f-4936-837e-59ce568caeb5",
   "metadata": {},
   "source": [
    "#### Packing and Unpacking\n",
    "\n",
    "* In unpacking, all values of a tuple can be assigned to individual variables.\n",
    "* In packing, all values are assigned to a variable with variable typecasted as tuple.\n",
    "* No. of variables assigned and values in a tuple must be equal"
   ]
  },
  {
   "cell_type": "markdown",
   "id": "ff171b80-000f-4f57-8edf-40cf90c39f69",
   "metadata": {},
   "source": [
    "Case of unequal no. of variables and values will be discussed later"
   ]
  },
  {
   "cell_type": "markdown",
   "id": "07e780d3-de6c-4341-b7b3-d42b87d20eae",
   "metadata": {},
   "source": [
    "##### Unpacking"
   ]
  },
  {
   "cell_type": "code",
   "execution_count": 79,
   "id": "9e65d9a0-23cc-4a92-9b9a-d575fddc194e",
   "metadata": {},
   "outputs": [],
   "source": [
    "a = (1,2,3)"
   ]
  },
  {
   "cell_type": "code",
   "execution_count": 80,
   "id": "5c114c99-fa46-4867-810e-67d2f30eed2b",
   "metadata": {},
   "outputs": [],
   "source": [
    "x,y,z = a"
   ]
  },
  {
   "cell_type": "code",
   "execution_count": 82,
   "id": "751a44c5-720d-4d06-9050-016882e80397",
   "metadata": {},
   "outputs": [
    {
     "data": {
      "text/plain": [
       "2"
      ]
     },
     "execution_count": 82,
     "metadata": {},
     "output_type": "execute_result"
    }
   ],
   "source": [
    "y #checking the value assigned to y"
   ]
  },
  {
   "cell_type": "markdown",
   "id": "ec38fffd-2778-4219-aafd-ce3314793188",
   "metadata": {},
   "source": [
    "##### Packing"
   ]
  },
  {
   "cell_type": "code",
   "execution_count": 83,
   "id": "ae105705-f87a-4d6b-bdf8-08ad64c93714",
   "metadata": {},
   "outputs": [],
   "source": [
    "def packing():\n",
    "    return 1,2,3"
   ]
  },
  {
   "cell_type": "code",
   "execution_count": 85,
   "id": "34b9ff2f-d49c-4b2d-b17a-86a3eb5b4fda",
   "metadata": {},
   "outputs": [
    {
     "data": {
      "text/plain": [
       "(1, 2, 3)"
      ]
     },
     "execution_count": 85,
     "metadata": {},
     "output_type": "execute_result"
    }
   ],
   "source": [
    "a = packing() #values being packed into a single variable \"a\" as tuple\n",
    "a"
   ]
  },
  {
   "cell_type": "markdown",
   "id": "817daae7-4dd7-40d9-a912-7299e61c6bc3",
   "metadata": {},
   "source": [
    "Packing and unpacking at the same time"
   ]
  },
  {
   "cell_type": "code",
   "execution_count": 88,
   "id": "6743babd-7b89-4322-9ad7-e7b292ab1f8e",
   "metadata": {},
   "outputs": [
    {
     "data": {
      "text/plain": [
       "1"
      ]
     },
     "execution_count": 88,
     "metadata": {},
     "output_type": "execute_result"
    }
   ],
   "source": [
    "a,b,c = packing()\n",
    "a"
   ]
  },
  {
   "cell_type": "markdown",
   "id": "2a3917dd-b4f9-46ef-bf6b-fbed25085bdc",
   "metadata": {},
   "source": [
    "Unpacking the tuples in roll and name variables and using it directly in print statement rather than using i[0]"
   ]
  },
  {
   "cell_type": "code",
   "execution_count": 89,
   "id": "e5f581d7-4b8f-438a-9271-0ad2800f3657",
   "metadata": {},
   "outputs": [
    {
     "name": "stdout",
     "output_type": "stream",
     "text": [
      "My roll number is 1 and my name is Bipin!\n",
      "My roll number is 2 and my name is Jaybharat!\n",
      "My roll number is 3 and my name is Nikhil!\n",
      "My roll number is 4 and my name is Siva!\n"
     ]
    }
   ],
   "source": [
    "a = [(1, \"Bipin\"), (2, \"Jaybharat\"), (3, \"Nikhil\"), (4, \"Siva\")]\n",
    "\n",
    "for roll, name in a:\n",
    "    print(f\"My roll number is {roll} and my name is {name}!\")"
   ]
  },
  {
   "cell_type": "markdown",
   "id": "d38cd09a-3562-4351-992b-803ca35b2d7e",
   "metadata": {},
   "source": [
    "##### Swapping"
   ]
  },
  {
   "cell_type": "code",
   "execution_count": 94,
   "id": "b00188f7-34ee-4293-8929-73dea538fed2",
   "metadata": {},
   "outputs": [],
   "source": [
    "a = 10\n",
    "b= 20"
   ]
  },
  {
   "cell_type": "code",
   "execution_count": 95,
   "id": "e448ebce-a3a7-4557-b569-86519e6b5dfc",
   "metadata": {},
   "outputs": [],
   "source": [
    "#Only for numbers\n",
    "b = a + b\n",
    "a = b - a\n",
    "b = b - a"
   ]
  },
  {
   "cell_type": "code",
   "execution_count": 96,
   "id": "346664dc-7da5-48a5-bd93-62a51439e3dc",
   "metadata": {},
   "outputs": [
    {
     "name": "stdout",
     "output_type": "stream",
     "text": [
      "20 10\n"
     ]
    }
   ],
   "source": [
    "print(a,b)"
   ]
  },
  {
   "cell_type": "code",
   "execution_count": 101,
   "id": "ad0a0ce2-072d-4881-ba2b-125e40ed04f7",
   "metadata": {},
   "outputs": [],
   "source": [
    "#Simplest swapping\n",
    "a,b = b,a"
   ]
  },
  {
   "cell_type": "code",
   "execution_count": 102,
   "id": "8e8d44fd-79f3-43fd-bf08-231067c7ad9f",
   "metadata": {},
   "outputs": [
    {
     "name": "stdout",
     "output_type": "stream",
     "text": [
      "10 20\n"
     ]
    }
   ],
   "source": [
    "print(a,b)"
   ]
  },
  {
   "cell_type": "markdown",
   "id": "a164bc82-7965-4d31-9dbe-c4d8bbf320c6",
   "metadata": {
    "tags": []
   },
   "source": [
    "## Set"
   ]
  },
  {
   "cell_type": "markdown",
   "id": "bd5ba288-a1a5-4615-ab5e-c7c95a6e664c",
   "metadata": {
    "tags": []
   },
   "source": [
    "### Theory"
   ]
  },
  {
   "cell_type": "markdown",
   "id": "e15d364d-598b-428d-96dc-b0e2d5c684cd",
   "metadata": {},
   "source": [
    "* Collection of distinct elements\n",
    "* Sets are mutable.\n",
    "* Sets are heterogenous(only immutable data types are allowed)\n",
    "* Lists, sets & dictinaries(mutable data-type) within a set are not allwoed (due to hashing).\n",
    "* Sets are **not ordered**(hence no indexing).\n",
    "* Outputs are internally sorted but all work with set must assume sets are not ordered."
   ]
  },
  {
   "cell_type": "markdown",
   "id": "2c88eb37-c91e-4859-ada1-bc8f7fff6b0a",
   "metadata": {},
   "source": [
    "Empty Set"
   ]
  },
  {
   "cell_type": "code",
   "execution_count": 147,
   "id": "150f3fcc-9d39-452d-9c4f-3d6c80b4b737",
   "metadata": {},
   "outputs": [
    {
     "data": {
      "text/plain": [
       "set()"
      ]
     },
     "execution_count": 147,
     "metadata": {},
     "output_type": "execute_result"
    }
   ],
   "source": [
    "a = set()\n",
    "a"
   ]
  },
  {
   "cell_type": "code",
   "execution_count": 148,
   "id": "1cce6775-21c2-43c6-aadd-797d6ff1eb34",
   "metadata": {},
   "outputs": [
    {
     "data": {
      "text/plain": [
       "set"
      ]
     },
     "execution_count": 148,
     "metadata": {},
     "output_type": "execute_result"
    }
   ],
   "source": [
    "type(a)"
   ]
  },
  {
   "cell_type": "markdown",
   "id": "8cc496c3-f18e-4af9-90b4-65f4a1f2ba3c",
   "metadata": {},
   "source": [
    "creating set"
   ]
  },
  {
   "cell_type": "code",
   "execution_count": 149,
   "id": "7de249fb-e78c-4a67-8e92-20fcb032653c",
   "metadata": {},
   "outputs": [
    {
     "data": {
      "text/plain": [
       "{1, 2, 3, 4}"
      ]
     },
     "execution_count": 149,
     "metadata": {},
     "output_type": "execute_result"
    }
   ],
   "source": [
    "a = {4,2,1,3,4,2,3,4}\n",
    "a = set(a)\n",
    "a "
   ]
  },
  {
   "cell_type": "markdown",
   "id": "e21b5541-bc9b-4c9a-a869-4d98b78072fe",
   "metadata": {},
   "source": [
    "adding element to set"
   ]
  },
  {
   "cell_type": "code",
   "execution_count": 150,
   "id": "ce7bd0ea-93c4-4492-8725-9d52cba2c9c8",
   "metadata": {},
   "outputs": [
    {
     "data": {
      "text/plain": [
       "{1, 2, 3, 4, 5}"
      ]
     },
     "execution_count": 150,
     "metadata": {},
     "output_type": "execute_result"
    }
   ],
   "source": [
    "a. add(5)\n",
    "a"
   ]
  },
  {
   "cell_type": "markdown",
   "id": "8dc36d4c-aa8e-41f4-a768-8b32574fd3e3",
   "metadata": {},
   "source": [
    "remove element from set"
   ]
  },
  {
   "cell_type": "code",
   "execution_count": 151,
   "id": "534e4d11-fe77-4b8c-a78e-ed951e276854",
   "metadata": {},
   "outputs": [
    {
     "data": {
      "text/plain": [
       "{1, 2, 3, 4}"
      ]
     },
     "execution_count": 151,
     "metadata": {},
     "output_type": "execute_result"
    }
   ],
   "source": [
    "a.remove(5)\n",
    "a"
   ]
  },
  {
   "cell_type": "markdown",
   "id": "4d69977d-d16d-4262-b6e5-ea00870f8ab5",
   "metadata": {},
   "source": [
    "adding multiple elements to set"
   ]
  },
  {
   "cell_type": "code",
   "execution_count": 152,
   "id": "3889abf5-f154-40c9-b75f-a25278f7fd40",
   "metadata": {},
   "outputs": [
    {
     "data": {
      "text/plain": [
       "{1, 2, 3, 4, 5, 6, 7, 8}"
      ]
     },
     "execution_count": 152,
     "metadata": {},
     "output_type": "execute_result"
    }
   ],
   "source": [
    "a.update([4,5,6,7,8])\n",
    "a"
   ]
  },
  {
   "cell_type": "markdown",
   "id": "6fe074e8-3194-4b7f-beea-8afb119b438e",
   "metadata": {},
   "source": [
    "#### Set Operations"
   ]
  },
  {
   "cell_type": "code",
   "execution_count": 153,
   "id": "6df2a31e-5579-448f-8223-5a08d66d4801",
   "metadata": {},
   "outputs": [],
   "source": [
    "s1 = {1,2,3,7}\n",
    "s2 = {2,4,5,6,7}"
   ]
  },
  {
   "cell_type": "markdown",
   "id": "c3edf6ca-698c-43f1-a2ab-13bb2148ba08",
   "metadata": {
    "tags": []
   },
   "source": [
    "##### Union of sets"
   ]
  },
  {
   "cell_type": "code",
   "execution_count": 154,
   "id": "f649baba-8daf-4429-9f6d-92bc71db44d7",
   "metadata": {},
   "outputs": [
    {
     "data": {
      "text/plain": [
       "{1, 2, 3, 4, 5, 6, 7}"
      ]
     },
     "execution_count": 154,
     "metadata": {},
     "output_type": "execute_result"
    }
   ],
   "source": [
    "s1.union(s2)"
   ]
  },
  {
   "cell_type": "code",
   "execution_count": 155,
   "id": "5c442b83-41e9-4f60-bb0c-84f40b420c55",
   "metadata": {},
   "outputs": [
    {
     "data": {
      "text/plain": [
       "{1, 2, 3, 4, 5, 6, 7}"
      ]
     },
     "execution_count": 155,
     "metadata": {},
     "output_type": "execute_result"
    }
   ],
   "source": [
    "s1|s2"
   ]
  },
  {
   "cell_type": "markdown",
   "id": "c626eb95-780a-485a-8242-f8a6b32f835a",
   "metadata": {
    "tags": []
   },
   "source": [
    "##### Intersection"
   ]
  },
  {
   "cell_type": "code",
   "execution_count": 156,
   "id": "f034d041-5159-47a2-9bde-4ced277f2cc4",
   "metadata": {},
   "outputs": [
    {
     "data": {
      "text/plain": [
       "{2, 7}"
      ]
     },
     "execution_count": 156,
     "metadata": {},
     "output_type": "execute_result"
    }
   ],
   "source": [
    "s1.intersection(s2)"
   ]
  },
  {
   "cell_type": "code",
   "execution_count": 157,
   "id": "85d9df4f-5433-46dc-bd5b-86c0c6a347a1",
   "metadata": {},
   "outputs": [
    {
     "data": {
      "text/plain": [
       "{2, 7}"
      ]
     },
     "execution_count": 157,
     "metadata": {},
     "output_type": "execute_result"
    }
   ],
   "source": [
    "s1 & s2"
   ]
  },
  {
   "cell_type": "markdown",
   "id": "7a1d7d5b-eacd-436f-a320-bd280b2b8e95",
   "metadata": {
    "tags": []
   },
   "source": [
    "##### Difference"
   ]
  },
  {
   "cell_type": "code",
   "execution_count": 158,
   "id": "d8743ec7-05f8-4a57-bc68-cf8b198998c5",
   "metadata": {},
   "outputs": [
    {
     "data": {
      "text/plain": [
       "{1, 3}"
      ]
     },
     "execution_count": 158,
     "metadata": {},
     "output_type": "execute_result"
    }
   ],
   "source": [
    "s1.difference(s2)"
   ]
  },
  {
   "cell_type": "code",
   "execution_count": 159,
   "id": "d6a5458a-d528-4cc4-b26d-eff620d35861",
   "metadata": {},
   "outputs": [
    {
     "data": {
      "text/plain": [
       "{1, 3}"
      ]
     },
     "execution_count": 159,
     "metadata": {},
     "output_type": "execute_result"
    }
   ],
   "source": [
    "s1 - s2"
   ]
  },
  {
   "cell_type": "markdown",
   "id": "92e0978b-04c0-4d8d-83db-01d17152520c",
   "metadata": {
    "tags": []
   },
   "source": [
    "##### Symmetric difference"
   ]
  },
  {
   "cell_type": "code",
   "execution_count": 160,
   "id": "6e59dcd4-5a6d-4e5c-975d-0db29f3a427e",
   "metadata": {},
   "outputs": [
    {
     "data": {
      "text/plain": [
       "{1, 3, 4, 5, 6}"
      ]
     },
     "execution_count": 160,
     "metadata": {},
     "output_type": "execute_result"
    }
   ],
   "source": [
    "s1.symmetric_difference(s2)"
   ]
  },
  {
   "cell_type": "code",
   "execution_count": 161,
   "id": "d95c30f2-aa1d-4b39-85ac-c399632b1ef8",
   "metadata": {},
   "outputs": [
    {
     "data": {
      "text/plain": [
       "{1, 3, 4, 5, 6}"
      ]
     },
     "execution_count": 161,
     "metadata": {},
     "output_type": "execute_result"
    }
   ],
   "source": [
    "s1 ^ s2"
   ]
  },
  {
   "cell_type": "markdown",
   "id": "6e08f06f-47fd-4c22-9c06-ed5940073ab3",
   "metadata": {},
   "source": [
    "## Question"
   ]
  },
  {
   "cell_type": "markdown",
   "id": "2338f214-c63f-4c2e-b8af-98ed81e034b9",
   "metadata": {
    "tags": []
   },
   "source": [
    "### Question 1"
   ]
  },
  {
   "cell_type": "markdown",
   "id": "039a18c6-db74-463c-8d65-3ded7ab3ccd1",
   "metadata": {},
   "source": [
    "What will be the output of the following?\n",
    "\n",
    "    (1,2,3)+(4)"
   ]
  },
  {
   "cell_type": "markdown",
   "id": "332ec098-9e42-4749-9315-1f0ab262fd30",
   "metadata": {
    "jp-MarkdownHeadingCollapsed": true,
    "tags": []
   },
   "source": [
    "##### Solution"
   ]
  },
  {
   "cell_type": "markdown",
   "id": "ad9697cc-48cb-4908-99a0-b9660226ce8f",
   "metadata": {},
   "source": [
    "It will throw  since (4) is not actually tuple."
   ]
  },
  {
   "cell_type": "markdown",
   "id": "98e2121c-62d1-4ab4-b41a-7561e2baf8db",
   "metadata": {
    "jp-MarkdownHeadingCollapsed": true,
    "tags": []
   },
   "source": [
    "### Question 2"
   ]
  },
  {
   "cell_type": "markdown",
   "id": "70dff09a-25ba-449d-90d9-a5d9d0a459e5",
   "metadata": {},
   "source": [
    "What will be the output of the following?\n",
    "\n",
    "    type((\"random?\"))"
   ]
  },
  {
   "cell_type": "markdown",
   "id": "2a7e5d7a-ca2d-4a8f-9bf5-3dd5a619eaec",
   "metadata": {
    "jp-MarkdownHeadingCollapsed": true,
    "tags": []
   },
   "source": [
    "##### Solution"
   ]
  },
  {
   "cell_type": "markdown",
   "id": "bf17d8dd-6471-4bcd-a07d-11a8272920d4",
   "metadata": {},
   "source": [
    "It will be string since it is a single element without any ,"
   ]
  },
  {
   "cell_type": "code",
   "execution_count": 74,
   "id": "10a6d089-8dbc-4a7c-9b5f-a23f802e03de",
   "metadata": {},
   "outputs": [
    {
     "data": {
      "text/plain": [
       "str"
      ]
     },
     "execution_count": 74,
     "metadata": {},
     "output_type": "execute_result"
    }
   ],
   "source": [
    "type((\"random?\"))"
   ]
  },
  {
   "cell_type": "markdown",
   "id": "b14cd52d-b8a0-4d46-8460-da6ee189790f",
   "metadata": {
    "tags": []
   },
   "source": [
    "### Question 3"
   ]
  },
  {
   "cell_type": "markdown",
   "id": "dc58fe46-3e24-4d33-8d82-101a75775321",
   "metadata": {},
   "source": [
    "Given an input string, write a code to generate a list of all it's characters.\n",
    "\n",
    "    INPUT - \"abcc\"\n",
    "    OUTPUT - [\"a\", \"b\", \"c\", \"c\"]"
   ]
  },
  {
   "cell_type": "markdown",
   "id": "f199c9da-273e-4354-9d4a-384887be0e5a",
   "metadata": {
    "jp-MarkdownHeadingCollapsed": true,
    "tags": []
   },
   "source": [
    "##### Simplest Solution"
   ]
  },
  {
   "cell_type": "code",
   "execution_count": 75,
   "id": "c234ea20-8e2f-4dbb-b637-a40037a4b517",
   "metadata": {},
   "outputs": [
    {
     "data": {
      "text/plain": [
       "['a', 'b', 'c', 'c']"
      ]
     },
     "execution_count": 75,
     "metadata": {},
     "output_type": "execute_result"
    }
   ],
   "source": [
    "list(\"abcc\")"
   ]
  },
  {
   "cell_type": "code",
   "execution_count": 77,
   "id": "62b5da54-ccd3-449a-b2da-218a1d9546d8",
   "metadata": {},
   "outputs": [
    {
     "data": {
      "text/plain": [
       "('a', 'b', 'c', 'c')"
      ]
     },
     "execution_count": 77,
     "metadata": {},
     "output_type": "execute_result"
    }
   ],
   "source": [
    "tuple(\"abcc\")"
   ]
  },
  {
   "cell_type": "markdown",
   "id": "51af9386-5539-4e2b-806c-8743beef31f3",
   "metadata": {
    "jp-MarkdownHeadingCollapsed": true,
    "tags": []
   },
   "source": [
    "##### Custom Solution"
   ]
  },
  {
   "cell_type": "code",
   "execution_count": 76,
   "id": "2353e4d0-c813-46ff-abe9-fd9659d6c512",
   "metadata": {},
   "outputs": [
    {
     "name": "stdout",
     "output_type": "stream",
     "text": [
      "['a', 'b', 'c', 'c']\n"
     ]
    }
   ],
   "source": [
    "a = \"abcc\"\n",
    "x = []\n",
    "for i in range(len(a)):\n",
    "    x.append(a[i])\n",
    "print(x)"
   ]
  },
  {
   "cell_type": "markdown",
   "id": "b59492db-d50e-4467-8540-6b875b9cad18",
   "metadata": {
    "tags": []
   },
   "source": [
    "### Question 4"
   ]
  },
  {
   "cell_type": "markdown",
   "id": "24989c4b-f958-4d77-96b7-4400646ed07e",
   "metadata": {},
   "source": [
    "Write a code to swap two elements in python using a third variable."
   ]
  },
  {
   "cell_type": "markdown",
   "id": "800e5de8-938e-40c3-a597-4214b13b5ab9",
   "metadata": {
    "jp-MarkdownHeadingCollapsed": true,
    "tags": []
   },
   "source": [
    "##### Solution"
   ]
  },
  {
   "cell_type": "code",
   "execution_count": 91,
   "id": "3fc9a4cc-718c-4ca3-a6ec-c80972566a09",
   "metadata": {},
   "outputs": [],
   "source": [
    "def swap(a,b):\n",
    "    temp = a\n",
    "    a = b\n",
    "    b = temp\n",
    "    return a,b"
   ]
  },
  {
   "cell_type": "code",
   "execution_count": 92,
   "id": "b9b2d9d0-2da0-4a59-9c89-d543c1e0bfdd",
   "metadata": {},
   "outputs": [
    {
     "data": {
      "text/plain": [
       "(3, 2)"
      ]
     },
     "execution_count": 92,
     "metadata": {},
     "output_type": "execute_result"
    }
   ],
   "source": [
    "swap(2,3)"
   ]
  },
  {
   "cell_type": "markdown",
   "id": "6ce11c5f-1652-4a8c-8833-e7c228fb6a91",
   "metadata": {
    "jp-MarkdownHeadingCollapsed": true,
    "tags": []
   },
   "source": [
    "### Question 5"
   ]
  },
  {
   "cell_type": "markdown",
   "id": "fedb38e2-4596-4be5-a965-7046f4dbc00e",
   "metadata": {},
   "source": [
    "What will be the output of the following?\n",
    "    a = 1,2,3,4,5"
   ]
  },
  {
   "cell_type": "markdown",
   "id": "ca1e509a-20ab-4366-a35f-11a78b42a139",
   "metadata": {
    "jp-MarkdownHeadingCollapsed": true,
    "tags": []
   },
   "source": [
    "##### Solution"
   ]
  },
  {
   "cell_type": "markdown",
   "id": "d5e7b4bc-1b38-4398-b285-3bb82deb194b",
   "metadata": {},
   "source": [
    "CSV values will be automatically packed into a tuple"
   ]
  },
  {
   "cell_type": "markdown",
   "id": "7f404c7a-aab6-40bf-a649-b7dae1844a60",
   "metadata": {
    "jp-MarkdownHeadingCollapsed": true,
    "tags": []
   },
   "source": [
    "### Question 6"
   ]
  },
  {
   "cell_type": "markdown",
   "id": "01ea5407-a033-455f-b83b-dbb195820ec7",
   "metadata": {},
   "source": [
    "Take a string as input.  \n",
    "Print the number of unique characters present inside that string.\n",
    "    \n",
    "    INPUT - \"aabbccccccdde\"\n",
    "    OUTPUT - 5"
   ]
  },
  {
   "cell_type": "code",
   "execution_count": 124,
   "id": "4bab7719-310a-4cd0-915b-cbb0027778a7",
   "metadata": {},
   "outputs": [
    {
     "data": {
      "text/plain": [
       "5"
      ]
     },
     "execution_count": 124,
     "metadata": {},
     "output_type": "execute_result"
    }
   ],
   "source": [
    "a = \"aabbbccccddddeeee\"\n",
    "\n",
    "len(set(a))"
   ]
  },
  {
   "cell_type": "markdown",
   "id": "1db3f179-3e3b-468f-b334-d369825b8766",
   "metadata": {},
   "source": [
    "# Dictionaries"
   ]
  },
  {
   "cell_type": "markdown",
   "id": "e4a67b3c-3dd4-445d-870a-31edd931d1bd",
   "metadata": {
    "jp-MarkdownHeadingCollapsed": true,
    "tags": []
   },
   "source": [
    "### Theory"
   ]
  },
  {
   "cell_type": "markdown",
   "id": "531af414-f433-4c4c-9899-ad398878a68d",
   "metadata": {},
   "source": [
    "* {Keys: Values}\n",
    "* Each item in an dict is key:value pair where keys are unique paired with a object.\n",
    "* Indexing in dict is only possible via keys. Dict are not ordered(ordered internally).\n",
    "* ##### Heterogenity in a dict\n",
    "    * Keys -> Any immutable data type (anything except lists/dict/sets)\n",
    "    * Values -> Any python object"
   ]
  },
  {
   "cell_type": "markdown",
   "id": "9a765cbc-7225-447d-9ffc-9bc53d78f977",
   "metadata": {},
   "source": [
    "Empty Dict"
   ]
  },
  {
   "cell_type": "code",
   "execution_count": 3,
   "id": "952e7b00-5afa-4394-90b2-79447fb7978e",
   "metadata": {},
   "outputs": [
    {
     "data": {
      "text/plain": [
       "{}"
      ]
     },
     "execution_count": 3,
     "metadata": {},
     "output_type": "execute_result"
    }
   ],
   "source": [
    "a = {}\n",
    "a"
   ]
  },
  {
   "cell_type": "code",
   "execution_count": 4,
   "id": "44136386-be62-41c9-b839-93c8c0d51f8b",
   "metadata": {},
   "outputs": [
    {
     "data": {
      "text/plain": [
       "dict"
      ]
     },
     "execution_count": 4,
     "metadata": {},
     "output_type": "execute_result"
    }
   ],
   "source": [
    "type(a)"
   ]
  },
  {
   "cell_type": "markdown",
   "id": "65f27cde-cb15-4c65-b19b-26a329700a6e",
   "metadata": {},
   "source": [
    "Creating a dict"
   ]
  },
  {
   "cell_type": "code",
   "execution_count": 17,
   "id": "e7218cf4-ecff-4490-9ba3-607f64950dc6",
   "metadata": {},
   "outputs": [
    {
     "data": {
      "text/plain": [
       "{'a': 5, 'b': 6, 'c': 7}"
      ]
     },
     "execution_count": 17,
     "metadata": {},
     "output_type": "execute_result"
    }
   ],
   "source": [
    "A = { \"a\": 5, \"b\": 6, \"c\": 7}\n",
    "A"
   ]
  },
  {
   "cell_type": "markdown",
   "id": "fa13bc80-3845-4f5d-a60b-737613e7c16b",
   "metadata": {},
   "source": [
    "Accessing the element of a dict"
   ]
  },
  {
   "cell_type": "code",
   "execution_count": 25,
   "id": "3cfae4a2-490c-4223-87f0-361021c762bf",
   "metadata": {},
   "outputs": [
    {
     "data": {
      "text/plain": [
       "5"
      ]
     },
     "execution_count": 25,
     "metadata": {},
     "output_type": "execute_result"
    }
   ],
   "source": [
    "A[\"a\"] #not preferred use get"
   ]
  },
  {
   "cell_type": "markdown",
   "id": "29acb0f1-1757-449e-80b0-d04aa4e80846",
   "metadata": {},
   "source": [
    "Accessing the element of dict without thorwing error if key doesn't exists"
   ]
  },
  {
   "cell_type": "code",
   "execution_count": 29,
   "id": "e19f8206-a01f-4917-98fe-3f3d65385dcc",
   "metadata": {},
   "outputs": [
    {
     "data": {
      "text/plain": [
       "5"
      ]
     },
     "execution_count": 29,
     "metadata": {},
     "output_type": "execute_result"
    }
   ],
   "source": [
    "result = A.get(\"a\")\n",
    "result"
   ]
  },
  {
   "cell_type": "code",
   "execution_count": 30,
   "id": "b88ebf55-46c9-432c-afaf-4b1a7673fc01",
   "metadata": {},
   "outputs": [
    {
     "name": "stdout",
     "output_type": "stream",
     "text": [
      "None\n"
     ]
    }
   ],
   "source": [
    "result = A.get(\"e\")\n",
    "print(result) #will return None if key doesn't exists in dict"
   ]
  },
  {
   "cell_type": "code",
   "execution_count": 31,
   "id": "5cbde68a-95d8-4a9d-86b5-8a40d777f678",
   "metadata": {},
   "outputs": [
    {
     "data": {
      "text/plain": [
       "\"key doesn't exist\""
      ]
     },
     "execution_count": 31,
     "metadata": {},
     "output_type": "execute_result"
    }
   ],
   "source": [
    "result = A.get(\"e\", \"key doesn't exist\")\n",
    "result #Will return the specified default value if key doesn't exist"
   ]
  },
  {
   "cell_type": "markdown",
   "id": "1f5ce453-a4c7-4ebc-93bb-3b6cb77e4fcf",
   "metadata": {},
   "source": [
    "Adding the new key value pair to dict"
   ]
  },
  {
   "cell_type": "code",
   "execution_count": 32,
   "id": "a5d7e606-cde6-46e5-9f3d-aeb0cd326fb9",
   "metadata": {},
   "outputs": [
    {
     "data": {
      "text/plain": [
       "{'a': 5, 'b': 6, 'c': 7, 'd': 4}"
      ]
     },
     "execution_count": 32,
     "metadata": {},
     "output_type": "execute_result"
    }
   ],
   "source": [
    "A[\"d\"] = 4\n",
    "A"
   ]
  },
  {
   "cell_type": "markdown",
   "id": "5a44d0e2-c143-4e81-a64d-403849542326",
   "metadata": {},
   "source": [
    "Updating the value of existing key pair"
   ]
  },
  {
   "cell_type": "code",
   "execution_count": 33,
   "id": "00e77f10-a088-4ca7-83e4-1d17c15ac35a",
   "metadata": {},
   "outputs": [
    {
     "data": {
      "text/plain": [
       "{'a': 5, 'b': 6, 'c': 7, 'd': 3}"
      ]
     },
     "execution_count": 33,
     "metadata": {},
     "output_type": "execute_result"
    }
   ],
   "source": [
    "A[\"d\"] = 3\n",
    "A"
   ]
  },
  {
   "cell_type": "markdown",
   "id": "3dba8402-004d-4557-8905-411bcf8eb969",
   "metadata": {},
   "source": [
    "Adding and updating values with one operation"
   ]
  },
  {
   "cell_type": "code",
   "execution_count": 34,
   "id": "8a6b2a6d-7c3e-4f80-ae88-e523bb4c2161",
   "metadata": {},
   "outputs": [
    {
     "data": {
      "text/plain": [
       "{'a': 1, 'b': 2, 'c': 7, 'd': 3, 'e': 5, 'f': 6}"
      ]
     },
     "execution_count": 34,
     "metadata": {},
     "output_type": "execute_result"
    }
   ],
   "source": [
    "A = {'a': 1, 'b': 2, 'c': 7, 'd': 3, \"e\": 5, \"f\": 6}\n",
    "A #value of a,b is updated and e,f is added"
   ]
  },
  {
   "cell_type": "code",
   "execution_count": 35,
   "id": "6759adfa-42dc-479b-98e9-118af82bcf31",
   "metadata": {},
   "outputs": [],
   "source": [
    "B = { \"c\": 3, \"d\": 4}"
   ]
  },
  {
   "cell_type": "markdown",
   "id": "9d66c6ae-3925-4e70-991c-5a84ebb10ddc",
   "metadata": {},
   "source": [
    "Adding and updating values with different dict"
   ]
  },
  {
   "cell_type": "code",
   "execution_count": 36,
   "id": "63c6b2b5-1c80-472c-811c-b8d81212fe71",
   "metadata": {},
   "outputs": [
    {
     "data": {
      "text/plain": [
       "{'a': 1, 'b': 2, 'c': 3, 'd': 4, 'e': 5, 'f': 6}"
      ]
     },
     "execution_count": 36,
     "metadata": {},
     "output_type": "execute_result"
    }
   ],
   "source": [
    "A.update(B) #updating values of b on a\n",
    "A"
   ]
  },
  {
   "cell_type": "code",
   "execution_count": 37,
   "id": "f8c31f23-c724-44e9-a414-416a7ed70590",
   "metadata": {},
   "outputs": [
    {
     "data": {
      "text/plain": [
       "{'a': 1, 'b': 2, 'c': 3, 'd': 4, 'e': 5, 'f': 6}"
      ]
     },
     "execution_count": 37,
     "metadata": {},
     "output_type": "execute_result"
    }
   ],
   "source": [
    "A"
   ]
  },
  {
   "cell_type": "code",
   "execution_count": 41,
   "id": "3d4cd46a-9e38-4a7a-944a-76770a038e57",
   "metadata": {},
   "outputs": [],
   "source": [
    "B = { \"c\": 3, \"d\": 4}"
   ]
  },
  {
   "cell_type": "code",
   "execution_count": 42,
   "id": "696ca780-713a-4ec9-874f-4989d88ac8c6",
   "metadata": {},
   "outputs": [],
   "source": [
    "B.update(A)"
   ]
  },
  {
   "cell_type": "code",
   "execution_count": 43,
   "id": "52eb4542-6cb2-4817-85d2-22ddd8b13457",
   "metadata": {},
   "outputs": [
    {
     "data": {
      "text/plain": [
       "{'c': 3, 'd': 4, 'a': 1, 'b': 2, 'e': 5, 'f': 6}"
      ]
     },
     "execution_count": 43,
     "metadata": {},
     "output_type": "execute_result"
    }
   ],
   "source": [
    "B"
   ]
  },
  {
   "cell_type": "markdown",
   "id": "d726f30e-8a4e-4518-95b2-adcd1a792ae0",
   "metadata": {
    "jp-MarkdownHeadingCollapsed": true,
    "tags": []
   },
   "source": [
    "##### Membership Operator"
   ]
  },
  {
   "cell_type": "code",
   "execution_count": 40,
   "id": "bc08d20d-9f42-4184-9866-d79314c47b38",
   "metadata": {},
   "outputs": [
    {
     "data": {
      "text/plain": [
       "True"
      ]
     },
     "execution_count": 40,
     "metadata": {},
     "output_type": "execute_result"
    }
   ],
   "source": [
    "\"a\" in A"
   ]
  },
  {
   "cell_type": "code",
   "execution_count": 71,
   "id": "1bbdb53b-cd4f-43dd-b93b-a6ddf523e357",
   "metadata": {},
   "outputs": [
    {
     "data": {
      "text/plain": [
       "True"
      ]
     },
     "execution_count": 71,
     "metadata": {},
     "output_type": "execute_result"
    }
   ],
   "source": [
    "\"a\" in A.keys()"
   ]
  },
  {
   "cell_type": "code",
   "execution_count": 70,
   "id": "657e575f-ebb4-4017-a30f-c4e9f5cc6243",
   "metadata": {},
   "outputs": [
    {
     "data": {
      "text/plain": [
       "True"
      ]
     },
     "execution_count": 70,
     "metadata": {},
     "output_type": "execute_result"
    }
   ],
   "source": [
    "5 in A.values()"
   ]
  },
  {
   "cell_type": "markdown",
   "id": "e1edbd04-3175-4ab6-8309-3e6fb70889ee",
   "metadata": {
    "jp-MarkdownHeadingCollapsed": true,
    "tags": []
   },
   "source": [
    "##### Iteration in Dict"
   ]
  },
  {
   "cell_type": "code",
   "execution_count": 59,
   "id": "70efbe0a-0f74-497e-a4c3-d8fcd801258b",
   "metadata": {},
   "outputs": [
    {
     "data": {
      "text/plain": [
       "{'a': 1, 'b': 2, 'c': 3, 'd': 4, 'e': 5, 'f': 6}"
      ]
     },
     "execution_count": 59,
     "metadata": {},
     "output_type": "execute_result"
    }
   ],
   "source": [
    "A = {'a': 1, 'b': 2, 'c': 3, 'd': 4, 'e': 5, 'f': 6}\n",
    "A"
   ]
  },
  {
   "cell_type": "markdown",
   "id": "3667f72f-9fa5-4dc0-a6a1-d55372e909ad",
   "metadata": {},
   "source": [
    "by default iteration happens over keys"
   ]
  },
  {
   "cell_type": "code",
   "execution_count": 60,
   "id": "28ce61ec-f74f-4678-af88-f0fefeef8a7f",
   "metadata": {},
   "outputs": [
    {
     "name": "stdout",
     "output_type": "stream",
     "text": [
      "a\n",
      "b\n",
      "c\n",
      "d\n",
      "e\n",
      "f\n"
     ]
    }
   ],
   "source": [
    "for i in A:\n",
    "    print(i)"
   ]
  },
  {
   "cell_type": "markdown",
   "id": "8ea17f7d-6336-43bc-a254-5f22987eaefd",
   "metadata": {},
   "source": [
    "Alternatively"
   ]
  },
  {
   "cell_type": "code",
   "execution_count": 64,
   "id": "632180df-c9bd-4a44-a420-db5a9020e4dd",
   "metadata": {},
   "outputs": [
    {
     "name": "stdout",
     "output_type": "stream",
     "text": [
      "a\n",
      "b\n",
      "c\n",
      "d\n",
      "e\n",
      "f\n"
     ]
    }
   ],
   "source": [
    "for i in A.keys():\n",
    "    print(i)"
   ]
  },
  {
   "cell_type": "markdown",
   "id": "7a175f7a-ad13-4657-ba77-0d3bf4269b93",
   "metadata": {},
   "source": [
    "for iteration over values"
   ]
  },
  {
   "cell_type": "code",
   "execution_count": 62,
   "id": "03123f44-7cbb-4d19-87fe-1a2d7b09664f",
   "metadata": {},
   "outputs": [
    {
     "name": "stdout",
     "output_type": "stream",
     "text": [
      "1\n",
      "2\n",
      "3\n",
      "4\n",
      "5\n",
      "6\n"
     ]
    }
   ],
   "source": [
    "for i in A:\n",
    "    print(A[i])"
   ]
  },
  {
   "cell_type": "markdown",
   "id": "57ebf325-c5e1-469b-ba71-f502a3a66750",
   "metadata": {},
   "source": [
    "Alternatively"
   ]
  },
  {
   "cell_type": "code",
   "execution_count": 65,
   "id": "5c50f412-9edb-447d-a93e-3c989e461730",
   "metadata": {},
   "outputs": [
    {
     "name": "stdout",
     "output_type": "stream",
     "text": [
      "1\n",
      "2\n",
      "3\n",
      "4\n",
      "5\n",
      "6\n"
     ]
    }
   ],
   "source": [
    "for i in A.values():\n",
    "    print(i)"
   ]
  },
  {
   "cell_type": "markdown",
   "id": "64294bc4-87b0-448e-a70d-7f8169f57f8d",
   "metadata": {},
   "source": [
    "Iterating over keys and values both"
   ]
  },
  {
   "cell_type": "code",
   "execution_count": 66,
   "id": "72de9758-f175-440d-b628-c603eb8682d9",
   "metadata": {},
   "outputs": [
    {
     "name": "stdout",
     "output_type": "stream",
     "text": [
      "a : 1\n",
      "b : 2\n",
      "c : 3\n",
      "d : 4\n",
      "e : 5\n",
      "f : 6\n"
     ]
    }
   ],
   "source": [
    "for i in A:\n",
    "    print(f\"{i} : {A[i]}\")"
   ]
  },
  {
   "cell_type": "markdown",
   "id": "f23f4a30-852d-4444-b123-07593b0cca63",
   "metadata": {},
   "source": [
    "Best Way"
   ]
  },
  {
   "cell_type": "code",
   "execution_count": 67,
   "id": "f6e1caad-bc0e-4bcf-8dca-da8a5147c72e",
   "metadata": {},
   "outputs": [
    {
     "name": "stdout",
     "output_type": "stream",
     "text": [
      "('a', 1)\n",
      "('b', 2)\n",
      "('c', 3)\n",
      "('d', 4)\n",
      "('e', 5)\n",
      "('f', 6)\n"
     ]
    }
   ],
   "source": [
    "for i in A.items():\n",
    "    print(i)"
   ]
  },
  {
   "cell_type": "markdown",
   "id": "266c9832-741b-4f10-a8b7-90c8c372a760",
   "metadata": {},
   "source": [
    "Using unpacking to unpack the item's tuples to key and values variable "
   ]
  },
  {
   "cell_type": "code",
   "execution_count": 68,
   "id": "42052f01-fd6f-433f-b2f3-ba1075a3fa8f",
   "metadata": {},
   "outputs": [
    {
     "name": "stdout",
     "output_type": "stream",
     "text": [
      "a: 1\n",
      "b: 2\n",
      "c: 3\n",
      "d: 4\n",
      "e: 5\n",
      "f: 6\n"
     ]
    }
   ],
   "source": [
    "for key, values in A.items():\n",
    "    print(f\"{key}: {values}\")"
   ]
  },
  {
   "cell_type": "markdown",
   "id": "12ea3d20-a0f3-45bb-82f3-2b8a02f4c5c0",
   "metadata": {
    "jp-MarkdownHeadingCollapsed": true,
    "tags": []
   },
   "source": [
    "### Input values in Dict"
   ]
  },
  {
   "cell_type": "code",
   "execution_count": 80,
   "id": "c2812db5-6565-4415-b559-08f3baea2f87",
   "metadata": {},
   "outputs": [
    {
     "name": "stdin",
     "output_type": "stream",
     "text": [
      " a\n",
      " test\n",
      "Do you want to add another key value pair? (N/n if no) -  y\n",
      " b\n",
      " test\n",
      "Do you want to add another key value pair? (N/n if no) -  y\n",
      " c\n",
      " test3\n",
      "Do you want to add another key value pair? (N/n if no) -  n\n"
     ]
    }
   ],
   "source": [
    "result = {}\n",
    "while True:\n",
    "    key = input()\n",
    "    value = input()\n",
    "    result[key] = value\n",
    "    \n",
    "    choice = input(\"Do you want to add another key value pair? (N/n if no) - \")\n",
    "    \n",
    "    if choice in [\"N\", \"n\"]:\n",
    "        break"
   ]
  },
  {
   "cell_type": "code",
   "execution_count": 81,
   "id": "fe9b0baf-1f32-4746-be1b-4839773ae254",
   "metadata": {},
   "outputs": [
    {
     "data": {
      "text/plain": [
       "{'a': 'test', 'b': 'test', 'c': 'test3'}"
      ]
     },
     "execution_count": 81,
     "metadata": {},
     "output_type": "execute_result"
    }
   ],
   "source": [
    "result"
   ]
  },
  {
   "cell_type": "markdown",
   "id": "f3bc4d18-a765-4dce-9cf9-7c5e638ff375",
   "metadata": {
    "jp-MarkdownHeadingCollapsed": true,
    "tags": []
   },
   "source": [
    "## Questions"
   ]
  },
  {
   "cell_type": "markdown",
   "id": "c9575d34-a733-4972-a36e-96404a6c0be8",
   "metadata": {
    "jp-MarkdownHeadingCollapsed": true,
    "tags": []
   },
   "source": [
    "### Question 1"
   ]
  },
  {
   "cell_type": "markdown",
   "id": "167197db-8fe5-4cee-b572-978b339604b0",
   "metadata": {},
   "source": [
    "Given two dictionaries A and B, Write a python program to merge these two dictionaries.\n",
    "\n",
    "    A = {\n",
    "        \"a\": 5,\n",
    "        \"b\": 6\n",
    "    }\n",
    "\n",
    "    B = {\n",
    "        \"b\": 7,\n",
    "        \"d\": 2\n",
    "    }\n",
    "\n",
    "    Result = {\n",
    "        \"a\": 5,\n",
    "        \"b\": 7,\n",
    "        \"d\": 2\n",
    "    }"
   ]
  },
  {
   "cell_type": "markdown",
   "id": "1f7a8796-81bd-47e5-9bf2-ff9a4cd7ee1e",
   "metadata": {
    "jp-MarkdownHeadingCollapsed": true,
    "tags": []
   },
   "source": [
    "##### Solution"
   ]
  },
  {
   "cell_type": "code",
   "execution_count": 51,
   "id": "65228269-4279-4429-9e0d-c661284b5e31",
   "metadata": {},
   "outputs": [
    {
     "data": {
      "text/plain": [
       "{'a': 5, 'b': 7, 'd': 2}"
      ]
     },
     "execution_count": 51,
     "metadata": {},
     "output_type": "execute_result"
    }
   ],
   "source": [
    "A = {\"a\": 5, \"b\": 6}\n",
    "B = {\"b\": 7, \"d\": 2}\n",
    "A.update(B)\n",
    "A # it updates on the same dict will not return anything outside of exisiting dict"
   ]
  },
  {
   "cell_type": "markdown",
   "id": "06de551c-d412-4d65-bf0c-73b88ccd3d4a",
   "metadata": {},
   "source": [
    "##### Alternative better approach"
   ]
  },
  {
   "cell_type": "markdown",
   "id": "2d7cba0a-f5d0-4552-a8d2-be20b52e544a",
   "metadata": {},
   "source": [
    "This is a much better approach as it doesn't modifes the existing list and can return the output to a new variable"
   ]
  },
  {
   "cell_type": "code",
   "execution_count": 53,
   "id": "0bc00121-5dcb-42c0-93e2-be3272acc26f",
   "metadata": {},
   "outputs": [
    {
     "data": {
      "text/plain": [
       "{'a': 5, 'b': 7, 'd': 2}"
      ]
     },
     "execution_count": 53,
     "metadata": {},
     "output_type": "execute_result"
    }
   ],
   "source": [
    "result = A|B\n",
    "result"
   ]
  },
  {
   "cell_type": "markdown",
   "id": "f9ca56d4-2e55-4e4b-ac5f-1ca2064148e1",
   "metadata": {
    "jp-MarkdownHeadingCollapsed": true,
    "tags": []
   },
   "source": [
    "### Question 2"
   ]
  },
  {
   "cell_type": "markdown",
   "id": "ff5a5819-cb72-46fc-ad89-95de13cfd77b",
   "metadata": {},
   "source": [
    "    1. Take a string as input.\n",
    "    2. Create a dictionary acc to the following criteria - \n",
    "    - There will be one key value pair for each unique character - \n",
    "    - Key will be character and value will be the count of character inside the string\n",
    "\n",
    "    INPUT - \"rrsssstttt\"\n",
    "    OUTPUT -\n",
    "    {\n",
    "        \"r\": 2,\n",
    "        \"s\": 4,\n",
    "        \"t\": 4\n",
    "    }"
   ]
  },
  {
   "cell_type": "markdown",
   "id": "d448f733-a3a7-4b21-933e-e9092d200925",
   "metadata": {
    "jp-MarkdownHeadingCollapsed": true,
    "tags": []
   },
   "source": [
    "##### Solution"
   ]
  },
  {
   "cell_type": "code",
   "execution_count": 75,
   "id": "63dae719-aced-4e25-8d27-29806ef784ab",
   "metadata": {},
   "outputs": [],
   "source": [
    "def frequency():\n",
    "    n = input()\n",
    "    set_n = set(n)\n",
    "    dict_1 = {}\n",
    "    for i in set_n:\n",
    "        dict_1[i] = n.count(i)\n",
    "    return dict_1"
   ]
  },
  {
   "cell_type": "code",
   "execution_count": 76,
   "id": "802f128f-3b3d-4f71-80eb-7bf69f9373d3",
   "metadata": {},
   "outputs": [
    {
     "name": "stdin",
     "output_type": "stream",
     "text": [
      " rrsssstttt\n"
     ]
    },
    {
     "data": {
      "text/plain": [
       "{'r': 2, 's': 4, 't': 4}"
      ]
     },
     "execution_count": 76,
     "metadata": {},
     "output_type": "execute_result"
    }
   ],
   "source": [
    "frequency()"
   ]
  }
 ],
 "metadata": {
  "kernelspec": {
   "display_name": "Python 3 (ipykernel)",
   "language": "python",
   "name": "python3"
  },
  "language_info": {
   "codemirror_mode": {
    "name": "ipython",
    "version": 3
   },
   "file_extension": ".py",
   "mimetype": "text/x-python",
   "name": "python",
   "nbconvert_exporter": "python",
   "pygments_lexer": "ipython3",
   "version": "3.9.12"
  },
  "vscode": {
   "interpreter": {
    "hash": "935f14679552b7ed0d9a0235b9885cdb22dc837e42e90f9da9ac0cd3081692a0"
   }
  },
  "widgets": {
   "application/vnd.jupyter.widget-state+json": {
    "state": {},
    "version_major": 2,
    "version_minor": 0
   }
  }
 },
 "nbformat": 4,
 "nbformat_minor": 5
}
