{
 "cells": [
  {
   "cell_type": "markdown",
   "id": "3f0bc9bb-78cb-4cef-81b7-4fa2cb570f7c",
   "metadata": {
    "jp-MarkdownHeadingCollapsed": true,
    "tags": []
   },
   "source": [
    "# Recursion"
   ]
  },
  {
   "cell_type": "markdown",
   "id": "ba2234be-0dbd-4c7a-a327-2c104070f02a",
   "metadata": {
    "jp-MarkdownHeadingCollapsed": true,
    "tags": []
   },
   "source": [
    "\n",
    "    if a function calls itself within the function body, it is called as recursion.\n",
    "\n",
    "#### Pre-requisities of a recursion:\n",
    " * **Recursive Formula**\n",
    " * **Base Condtion**\n"
   ]
  },
  {
   "cell_type": "markdown",
   "id": "cc150d04-bc70-47c4-a847-e3240b314a99",
   "metadata": {
    "jp-MarkdownHeadingCollapsed": true,
    "tags": []
   },
   "source": [
    "## Questions"
   ]
  },
  {
   "cell_type": "markdown",
   "id": "ac3175a8-a5a9-4d6e-8b63-b18918407378",
   "metadata": {
    "jp-MarkdownHeadingCollapsed": true,
    "tags": []
   },
   "source": [
    "### Question 1\n",
    "\n",
    "Print the nth(Fn) element in fibonacci series."
   ]
  },
  {
   "cell_type": "markdown",
   "id": "1412c0b9-bb57-4c60-8266-097bc2bcd4c8",
   "metadata": {
    "jp-MarkdownHeadingCollapsed": true,
    "tags": []
   },
   "source": [
    "##### With recursion"
   ]
  },
  {
   "cell_type": "code",
   "execution_count": 14,
   "id": "add49bbf-c974-4bd1-834e-6986e60e0104",
   "metadata": {},
   "outputs": [
    {
     "data": {
      "text/plain": [
       "55"
      ]
     },
     "execution_count": 14,
     "metadata": {},
     "output_type": "execute_result"
    }
   ],
   "source": [
    "def fibonacci_element(n):\n",
    "    if n == 0:\n",
    "        return 0\n",
    "    elif n == 1:\n",
    "        return 1\n",
    "    return fibonacci_element(n-1)+fibonacci_element(n-2)\n",
    "\n",
    "fibonacci_element(10)"
   ]
  },
  {
   "cell_type": "markdown",
   "id": "cba8d183-0d04-46c0-bfc5-450e5278974e",
   "metadata": {
    "jp-MarkdownHeadingCollapsed": true,
    "tags": []
   },
   "source": [
    "##### With while loop"
   ]
  },
  {
   "cell_type": "code",
   "execution_count": 22,
   "id": "b931c637-8980-40e3-8ce1-14d33f580672",
   "metadata": {},
   "outputs": [
    {
     "data": {
      "text/plain": [
       "55"
      ]
     },
     "execution_count": 22,
     "metadata": {},
     "output_type": "execute_result"
    }
   ],
   "source": [
    "def fibonacci_element(n):\n",
    "    if n == 0:\n",
    "        return 0\n",
    "    if n == 1:\n",
    "        return 1\n",
    "    \n",
    "    n1, n2 = 0, 1\n",
    "    i = 2\n",
    "    while i <= n:\n",
    "        element = n1 + n2\n",
    "        n1 = n2\n",
    "        n2 = element\n",
    "        i +=1\n",
    "    return element\n",
    "\n",
    "fibonacci_element(10)"
   ]
  },
  {
   "cell_type": "markdown",
   "id": "1110eecb-692f-4eb3-8840-a007ab5eeaf1",
   "metadata": {
    "tags": []
   },
   "source": [
    "### Question 2\n",
    "\n",
    "    Print the entire fibonacci series till nth(Fn) term."
   ]
  },
  {
   "cell_type": "markdown",
   "id": "4e2ca009-3ed4-4726-8476-8e7511a3c7f4",
   "metadata": {
    "jp-MarkdownHeadingCollapsed": true,
    "tags": []
   },
   "source": [
    "### Question 3\n",
    "\n",
    "    Calculate the value of number x raised to the power y recursively and draw the stack diagram and dry run it."
   ]
  },
  {
   "cell_type": "code",
   "execution_count": 36,
   "id": "fd549901-0162-410f-8434-8bf9239ec0c4",
   "metadata": {},
   "outputs": [
    {
     "data": {
      "text/plain": [
       "27"
      ]
     },
     "execution_count": 36,
     "metadata": {},
     "output_type": "execute_result"
    }
   ],
   "source": [
    "def pow_recursion(x, y):\n",
    "    if y < 0:\n",
    "        return -1\n",
    "    if y == 0:\n",
    "        return 1\n",
    "    \n",
    "    return (pow_recursion(x, y - 1) * x)\n",
    "\n",
    "pow_recursion(3,3)"
   ]
  },
  {
   "cell_type": "markdown",
   "id": "741254e5-82b3-400d-a848-a2c6570a6f24",
   "metadata": {
    "jp-MarkdownHeadingCollapsed": true,
    "tags": []
   },
   "source": [
    "##### With recursion"
   ]
  },
  {
   "cell_type": "code",
   "execution_count": 15,
   "id": "10a8299e-c4d6-46c4-8bd1-93db35c7e439",
   "metadata": {},
   "outputs": [
    {
     "name": "stdout",
     "output_type": "stream",
     "text": [
      "0 1 1 2 3 5 8 13 21 34 55 "
     ]
    }
   ],
   "source": [
    "def fibonacci_series(n):\n",
    "    def fibonacci_element(n):\n",
    "        if n == 0:\n",
    "            return 0\n",
    "        elif n == 1:\n",
    "            return 1\n",
    "        return fibonacci_element(n-1) + fibonacci_element(n-2)\n",
    "\n",
    "    for i in range(n+1):\n",
    "        print(fibonacci_element(i), end = \" \")\n",
    "\n",
    "fibonacci_series(10)"
   ]
  },
  {
   "cell_type": "markdown",
   "id": "365064f7-64a6-481b-b95d-6bc47657edc3",
   "metadata": {
    "jp-MarkdownHeadingCollapsed": true,
    "tags": []
   },
   "source": [
    "##### With for loop"
   ]
  },
  {
   "cell_type": "code",
   "execution_count": 16,
   "id": "9886b822-c25a-42d3-b380-25ae4481d0a1",
   "metadata": {},
   "outputs": [
    {
     "name": "stdout",
     "output_type": "stream",
     "text": [
      "0 1 1 2 3 5 8 13 21 34 55 "
     ]
    }
   ],
   "source": [
    "def fibonacci_series_(n):\n",
    "    def fibonacci_element(n):\n",
    "        if n == 0:\n",
    "            return 0\n",
    "        if n == 1:\n",
    "            return 1\n",
    "        \n",
    "        n1, n2 = 0, 1\n",
    "        for num in range(2,n+1):\n",
    "            element = n1+n2\n",
    "            n1 = n2\n",
    "            n2 = element\n",
    "        return element\n",
    "    \n",
    "    for i in range(n+1):\n",
    "        print(fibonacci_element(i), end = \" \")\n",
    "        \n",
    "fibonacci_series_(10)"
   ]
  },
  {
   "cell_type": "markdown",
   "id": "f610c2bd-6a57-475d-af79-f31808e39053",
   "metadata": {
    "jp-MarkdownHeadingCollapsed": true,
    "tags": []
   },
   "source": [
    "### Interview Q\n",
    "\n",
    "    You are given a list of numbered cards. In each step, take a card from top as output and place second card from top at the bottom. List will always contain even number of elements.\n",
    "    \n",
    "    X = [1, 2, 3, 4, 5, 6]"
   ]
  },
  {
   "cell_type": "markdown",
   "id": "749e6f56-8410-49fe-bebd-1d318fd050af",
   "metadata": {
    "jp-MarkdownHeadingCollapsed": true,
    "tags": []
   },
   "source": [
    "##### Proper Solution "
   ]
  },
  {
   "cell_type": "code",
   "execution_count": 35,
   "id": "1aaddc1f-5ec3-4459-9059-a73538119a09",
   "metadata": {},
   "outputs": [
    {
     "data": {
      "text/plain": [
       "[1, 3, 5, 2, 6, 4]"
      ]
     },
     "execution_count": 35,
     "metadata": {},
     "output_type": "execute_result"
    }
   ],
   "source": [
    "def card_game_2(x):\n",
    "    if len(x) == 1:\n",
    "        return x\n",
    "    result = x[:1]\n",
    "    x = x[2:]+x[1:2]\n",
    "    return result + card_game_2(x)\n",
    "\n",
    "X = [1, 2, 3, 4, 5, 6]\n",
    "card_game_2(X)        "
   ]
  },
  {
   "cell_type": "markdown",
   "id": "3cc4601e-aed6-4dab-954e-44ac334bc05a",
   "metadata": {
    "jp-MarkdownHeadingCollapsed": true,
    "tags": []
   },
   "source": [
    "##### Using loop "
   ]
  },
  {
   "cell_type": "code",
   "execution_count": 27,
   "id": "e98e3edd-8b84-42f7-aa01-f2cc812ba125",
   "metadata": {},
   "outputs": [
    {
     "data": {
      "text/plain": [
       "[1, 3, 5, 2, 6, 4]"
      ]
     },
     "execution_count": 27,
     "metadata": {},
     "output_type": "execute_result"
    }
   ],
   "source": [
    "def card_game1(x):\n",
    "    result = []\n",
    "    for i in range(len(x)):\n",
    "        result.append(x[0])\n",
    "        x = x[2:]+x[1:2]\n",
    "    return result\n",
    "\n",
    "X = [1, 2, 3, 4, 5, 6]\n",
    "card_game1(X)"
   ]
  },
  {
   "cell_type": "markdown",
   "id": "84068d71-00be-4828-bee9-4de8c01ace80",
   "metadata": {
    "jp-MarkdownHeadingCollapsed": true,
    "tags": []
   },
   "source": [
    "# Combinatorics\n",
    "\n",
    "    the science of counting"
   ]
  },
  {
   "cell_type": "markdown",
   "id": "f72294b9-2b3c-4c9e-aacb-a65bd016f319",
   "metadata": {
    "jp-MarkdownHeadingCollapsed": true,
    "tags": []
   },
   "source": [
    "## Questions"
   ]
  },
  {
   "cell_type": "markdown",
   "id": "c12eb15d-deed-4321-8d28-874391df3242",
   "metadata": {
    "tags": []
   },
   "source": [
    "### Question 1"
   ]
  },
  {
   "cell_type": "markdown",
   "id": "7776046c-1710-4c5c-95f0-73a6110ac399",
   "metadata": {},
   "source": [
    "    Given three T/F questions. \n",
    "    \n",
    "    Count the total number of ways to answer the questions?"
   ]
  },
  {
   "cell_type": "markdown",
   "id": "d48bed56-f46c-45a0-99a0-ef84908c4b52",
   "metadata": {
    "jp-MarkdownHeadingCollapsed": true,
    "tags": []
   },
   "source": [
    "##### Solution"
   ]
  },
  {
   "cell_type": "markdown",
   "id": "71f59923-da3e-4f83-8ac9-e4c03633f152",
   "metadata": {},
   "source": [
    "8"
   ]
  },
  {
   "cell_type": "markdown",
   "id": "be9a03c5-f512-4077-abdf-061e685fd798",
   "metadata": {
    "tags": []
   },
   "source": [
    "### Question 2"
   ]
  },
  {
   "cell_type": "markdown",
   "id": "ec4ac6b8-ea4f-4b37-9756-bbf1540a366a",
   "metadata": {},
   "source": [
    "    If there are 10 girls and 7 boys in a hall. \n",
    "    \n",
    "    Count the total number of ways to pick one 'boy-girl' couple."
   ]
  },
  {
   "cell_type": "markdown",
   "id": "4f3e90c8-52cb-41f5-826d-5eb82af8f9ec",
   "metadata": {
    "jp-MarkdownHeadingCollapsed": true,
    "tags": []
   },
   "source": [
    "##### Solution"
   ]
  },
  {
   "cell_type": "markdown",
   "id": "6aec28da-3df2-437f-9b86-e95d6f213f0e",
   "metadata": {},
   "source": [
    "70"
   ]
  },
  {
   "cell_type": "markdown",
   "id": "18992cc9-18b1-470d-a2f5-119694379682",
   "metadata": {
    "tags": []
   },
   "source": [
    "### Question 3"
   ]
  },
  {
   "cell_type": "markdown",
   "id": "40400bc0-287b-40c7-b2f6-099521930db9",
   "metadata": {},
   "source": [
    "    If there are 3 different paths from Hyderabad to Mumbai & 4 different paths from Mumbai to Delhi. \n",
    "    \n",
    "    Count the total number of paths from Hyderabad to Delhi via Mumbai."
   ]
  },
  {
   "cell_type": "markdown",
   "id": "ca2eb10d-312f-4e47-a5fd-e0cf54b838c3",
   "metadata": {
    "jp-MarkdownHeadingCollapsed": true,
    "tags": []
   },
   "source": [
    "##### Solution"
   ]
  },
  {
   "cell_type": "markdown",
   "id": "2da672fc-8f17-416f-b279-a3923a964b66",
   "metadata": {},
   "source": [
    "12"
   ]
  },
  {
   "cell_type": "markdown",
   "id": "350215d9-f169-4718-8430-abb647c4745b",
   "metadata": {
    "tags": []
   },
   "source": [
    "### Question 4"
   ]
  },
  {
   "cell_type": "markdown",
   "id": "809d1bd1-6cb5-4506-992b-35a82dcb72d2",
   "metadata": {},
   "source": [
    "    If there are 2 different paths from Hyderabad to Nagpur & 3 different paths from Nagpur to Delhi.\n",
    "    \n",
    "    Count the total number of paths from Hyd to Delhi via Nagpur."
   ]
  },
  {
   "cell_type": "markdown",
   "id": "6d3ab01a-0741-4d56-82af-0e8970c87dbc",
   "metadata": {
    "jp-MarkdownHeadingCollapsed": true,
    "tags": []
   },
   "source": [
    "##### Solution"
   ]
  },
  {
   "cell_type": "markdown",
   "id": "fcdf6c2a-5140-4e99-bfcf-9b5413900eb8",
   "metadata": {},
   "source": [
    "6"
   ]
  },
  {
   "cell_type": "markdown",
   "id": "fce680cf-de89-41cb-96e7-29092ed49ff6",
   "metadata": {
    "tags": []
   },
   "source": [
    "### Question 5"
   ]
  },
  {
   "cell_type": "markdown",
   "id": "780e3062-91b8-4613-986f-6655f51fd28a",
   "metadata": {},
   "source": [
    "    Given the following different paths -\n",
    "    Hyd to Mumbai : 3\n",
    "    Hyd to Nagpur : 2\n",
    "    Mumbai to Delhi : 4\n",
    "    Nagpur to Delhi : 3\n",
    "    \n",
    "    Count the total number of paths from Hyderabad to Delhi?"
   ]
  },
  {
   "cell_type": "markdown",
   "id": "e27b651e-e79d-42e2-842e-6b5ea6fd8511",
   "metadata": {
    "jp-MarkdownHeadingCollapsed": true,
    "tags": []
   },
   "source": [
    "##### Solution"
   ]
  },
  {
   "cell_type": "markdown",
   "id": "952b6959-ddf6-489c-ad66-547b24fec617",
   "metadata": {},
   "source": [
    "18"
   ]
  },
  {
   "cell_type": "markdown",
   "id": "ccbfb39a-3856-41cd-b21b-31700935ee07",
   "metadata": {
    "tags": []
   },
   "source": [
    "### Question 6"
   ]
  },
  {
   "cell_type": "markdown",
   "id": "a9582a99-8ecf-4ee9-9ade-8b6f4e734a76",
   "metadata": {},
   "source": [
    "    If you have the following items -\n",
    "    Pens: 3\n",
    "    Books: 5\n",
    "    Flowers: 7\n",
    "    Chocolates: 3\n",
    "    Rings: 3\n",
    "    \n",
    "    You can only gift one of the following combos, count the total number of ways to form gifts.\n",
    "    1 pen & 1 book\n",
    "    1 flower & 1 chhocolate\n",
    "    1 ring"
   ]
  },
  {
   "cell_type": "markdown",
   "id": "f23d8a60-6b51-4894-b8ec-80a128f96261",
   "metadata": {
    "jp-MarkdownHeadingCollapsed": true,
    "tags": []
   },
   "source": [
    "##### Solution"
   ]
  },
  {
   "cell_type": "markdown",
   "id": "0414dc95-4070-48b5-b534-119bbd08fc5f",
   "metadata": {},
   "source": [
    "39"
   ]
  },
  {
   "cell_type": "markdown",
   "id": "0be09280-603e-4ee9-8729-55361f4c51e2",
   "metadata": {
    "tags": []
   },
   "source": [
    "### Question 7"
   ]
  },
  {
   "cell_type": "markdown",
   "id": "442b07a0-2474-483f-a10c-8695b8cda302",
   "metadata": {},
   "source": [
    "    Count the number of ways to arrange 3 characters a, b, & c."
   ]
  },
  {
   "cell_type": "markdown",
   "id": "9f655f14-41b7-46a9-bdde-d18b6a4e2c30",
   "metadata": {
    "jp-MarkdownHeadingCollapsed": true,
    "tags": []
   },
   "source": [
    "##### Solution"
   ]
  },
  {
   "cell_type": "markdown",
   "id": "19f35e49-35eb-4f05-a4cc-921e16e50426",
   "metadata": {},
   "source": [
    "6"
   ]
  },
  {
   "cell_type": "markdown",
   "id": "57df8a70-ee4d-4ae8-b4fe-ca05f9dfc121",
   "metadata": {
    "tags": []
   },
   "source": [
    "### Question 8"
   ]
  },
  {
   "cell_type": "markdown",
   "id": "09232054-e0a2-4e34-a382-0a7e151f6baf",
   "metadata": {},
   "source": [
    "    Count the number of ways to arrange 4 characters a,b,c,d."
   ]
  },
  {
   "cell_type": "markdown",
   "id": "c034152d-5fa7-436f-a889-5246db42db22",
   "metadata": {
    "jp-MarkdownHeadingCollapsed": true,
    "tags": []
   },
   "source": [
    "##### Solution"
   ]
  },
  {
   "cell_type": "markdown",
   "id": "919da663-5b36-476d-9afc-7fd3366f4112",
   "metadata": {},
   "source": [
    "24"
   ]
  },
  {
   "cell_type": "markdown",
   "id": "3ec51650-4bdf-4b7f-8e1a-31f9eca865f5",
   "metadata": {
    "tags": []
   },
   "source": [
    "### Interview Question"
   ]
  },
  {
   "cell_type": "markdown",
   "id": "b4fad03f-fb04-431c-9a6c-f2a8a93e726d",
   "metadata": {},
   "source": [
    "    Count the number of ways to arrange 0 distinct characters?"
   ]
  },
  {
   "cell_type": "markdown",
   "id": "e8d59069-ab9a-4a94-8b88-3e0a625d1ed7",
   "metadata": {
    "jp-MarkdownHeadingCollapsed": true,
    "tags": []
   },
   "source": [
    "##### Solution"
   ]
  },
  {
   "cell_type": "markdown",
   "id": "b9cbc2c1-d63b-4902-982c-eb70a6663a7c",
   "metadata": {},
   "source": [
    "1"
   ]
  },
  {
   "cell_type": "markdown",
   "id": "f1c3b44f-73ab-403c-9e04-56ea5a4babc6",
   "metadata": {
    "tags": []
   },
   "source": [
    "### Question 10"
   ]
  },
  {
   "cell_type": "markdown",
   "id": "e034d4d8-cf5e-4554-9b29-1ac1c0c3d351",
   "metadata": {},
   "source": [
    "    Given 5 different characters, in how many ways can we arrange them in 2 places?"
   ]
  },
  {
   "cell_type": "markdown",
   "id": "893fb8b3-50e7-4cd4-9cd9-e124df9d5c1e",
   "metadata": {
    "jp-MarkdownHeadingCollapsed": true,
    "tags": []
   },
   "source": [
    "##### Solution"
   ]
  },
  {
   "cell_type": "markdown",
   "id": "c848aed4-e830-4858-ab72-45b92eacc905",
   "metadata": {},
   "source": [
    "20"
   ]
  },
  {
   "cell_type": "markdown",
   "id": "76b6a0ce-276d-4207-b0f7-42b32f385eb4",
   "metadata": {
    "tags": []
   },
   "source": [
    "### Question 11"
   ]
  },
  {
   "cell_type": "markdown",
   "id": "e92c675b-6b15-4dc0-8865-55303f7a0861",
   "metadata": {},
   "source": [
    "    In how many ways can we select 3 batsmen from a pool of 4 cricketers."
   ]
  },
  {
   "cell_type": "markdown",
   "id": "62d33f17-0cf6-4ece-afde-80a175638a9b",
   "metadata": {
    "jp-MarkdownHeadingCollapsed": true,
    "tags": []
   },
   "source": [
    "##### Solution"
   ]
  },
  {
   "cell_type": "markdown",
   "id": "fb2efd12-9df1-4031-9413-257cceacc74b",
   "metadata": {},
   "source": [
    "4"
   ]
  },
  {
   "cell_type": "markdown",
   "id": "aaa144c0-045c-4f0a-8621-423461fc19a9",
   "metadata": {},
   "source": [
    "# Hashing"
   ]
  },
  {
   "cell_type": "code",
   "execution_count": null,
   "id": "bca2aab6-da17-43cf-a4b3-b31a1589c781",
   "metadata": {},
   "outputs": [],
   "source": []
  }
 ],
 "metadata": {
  "kernelspec": {
   "display_name": "Python 3 (ipykernel)",
   "language": "python",
   "name": "python3"
  },
  "language_info": {
   "codemirror_mode": {
    "name": "ipython",
    "version": 3
   },
   "file_extension": ".py",
   "mimetype": "text/x-python",
   "name": "python",
   "nbconvert_exporter": "python",
   "pygments_lexer": "ipython3",
   "version": "3.9.12"
  },
  "widgets": {
   "application/vnd.jupyter.widget-state+json": {
    "state": {},
    "version_major": 2,
    "version_minor": 0
   }
  }
 },
 "nbformat": 4,
 "nbformat_minor": 5
}
