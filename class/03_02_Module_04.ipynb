{
 "cells": [
  {
   "cell_type": "markdown",
   "id": "3f0bc9bb-78cb-4cef-81b7-4fa2cb570f7c",
   "metadata": {
    "tags": []
   },
   "source": [
    "# Recursion"
   ]
  },
  {
   "cell_type": "markdown",
   "id": "ba2234be-0dbd-4c7a-a327-2c104070f02a",
   "metadata": {
    "jp-MarkdownHeadingCollapsed": true,
    "tags": []
   },
   "source": [
    "\n",
    "    if a function calls itself within the function body, it is called as recursion.\n",
    "\n",
    "#### Pre-requisities of a recursion:\n",
    " * **Recursive Formula**\n",
    " * **Base Condtion**\n"
   ]
  },
  {
   "cell_type": "markdown",
   "id": "cc150d04-bc70-47c4-a847-e3240b314a99",
   "metadata": {
    "tags": []
   },
   "source": [
    "## Questions"
   ]
  },
  {
   "cell_type": "markdown",
   "id": "ac3175a8-a5a9-4d6e-8b63-b18918407378",
   "metadata": {
    "jp-MarkdownHeadingCollapsed": true,
    "tags": []
   },
   "source": [
    "### Question 1\n",
    "\n",
    "Print the nth(Fn) element in fibonacci series."
   ]
  },
  {
   "cell_type": "markdown",
   "id": "1412c0b9-bb57-4c60-8266-097bc2bcd4c8",
   "metadata": {
    "jp-MarkdownHeadingCollapsed": true,
    "tags": []
   },
   "source": [
    "##### With recursion"
   ]
  },
  {
   "cell_type": "code",
   "execution_count": 14,
   "id": "add49bbf-c974-4bd1-834e-6986e60e0104",
   "metadata": {},
   "outputs": [
    {
     "data": {
      "text/plain": [
       "55"
      ]
     },
     "execution_count": 14,
     "metadata": {},
     "output_type": "execute_result"
    }
   ],
   "source": [
    "def fibonacci_element(n):\n",
    "    if n == 0:\n",
    "        return 0\n",
    "    elif n == 1:\n",
    "        return 1\n",
    "    return fibonacci_element(n-1)+fibonacci_element(n-2)\n",
    "\n",
    "fibonacci_element(10)"
   ]
  },
  {
   "cell_type": "markdown",
   "id": "cba8d183-0d04-46c0-bfc5-450e5278974e",
   "metadata": {
    "jp-MarkdownHeadingCollapsed": true,
    "tags": []
   },
   "source": [
    "##### With while loop"
   ]
  },
  {
   "cell_type": "code",
   "execution_count": 22,
   "id": "b931c637-8980-40e3-8ce1-14d33f580672",
   "metadata": {},
   "outputs": [
    {
     "data": {
      "text/plain": [
       "55"
      ]
     },
     "execution_count": 22,
     "metadata": {},
     "output_type": "execute_result"
    }
   ],
   "source": [
    "def fibonacci_element(n):\n",
    "    if n == 0:\n",
    "        return 0\n",
    "    if n == 1:\n",
    "        return 1\n",
    "    \n",
    "    n1, n2 = 0, 1\n",
    "    i = 2\n",
    "    while i <= n:\n",
    "        element = n1 + n2\n",
    "        n1 = n2\n",
    "        n2 = element\n",
    "        i +=1\n",
    "    return element\n",
    "\n",
    "fibonacci_element(10)"
   ]
  },
  {
   "cell_type": "markdown",
   "id": "1110eecb-692f-4eb3-8840-a007ab5eeaf1",
   "metadata": {
    "tags": []
   },
   "source": [
    "### Question 2\n",
    "\n",
    "    Print the entire fibonacci series till nth(Fn) term."
   ]
  },
  {
   "cell_type": "markdown",
   "id": "4e2ca009-3ed4-4726-8476-8e7511a3c7f4",
   "metadata": {
    "jp-MarkdownHeadingCollapsed": true,
    "tags": []
   },
   "source": [
    "### Question 3\n",
    "\n",
    "    Calculate the value of number x raised to the power y recursively and draw the stack diagram and dry run it."
   ]
  },
  {
   "cell_type": "code",
   "execution_count": 36,
   "id": "fd549901-0162-410f-8434-8bf9239ec0c4",
   "metadata": {},
   "outputs": [
    {
     "data": {
      "text/plain": [
       "27"
      ]
     },
     "execution_count": 36,
     "metadata": {},
     "output_type": "execute_result"
    }
   ],
   "source": [
    "def pow_recursion(x, y):\n",
    "    if y < 0:\n",
    "        return -1\n",
    "    if y == 0:\n",
    "        return 1\n",
    "    \n",
    "    return (pow_recursion(x, y - 1) * x)\n",
    "\n",
    "pow_recursion(3,3)"
   ]
  },
  {
   "cell_type": "markdown",
   "id": "741254e5-82b3-400d-a848-a2c6570a6f24",
   "metadata": {
    "jp-MarkdownHeadingCollapsed": true,
    "tags": []
   },
   "source": [
    "##### With recursion"
   ]
  },
  {
   "cell_type": "code",
   "execution_count": 15,
   "id": "10a8299e-c4d6-46c4-8bd1-93db35c7e439",
   "metadata": {},
   "outputs": [
    {
     "name": "stdout",
     "output_type": "stream",
     "text": [
      "0 1 1 2 3 5 8 13 21 34 55 "
     ]
    }
   ],
   "source": [
    "def fibonacci_series(n):\n",
    "    def fibonacci_element(n):\n",
    "        if n == 0:\n",
    "            return 0\n",
    "        elif n == 1:\n",
    "            return 1\n",
    "        return fibonacci_element(n-1) + fibonacci_element(n-2)\n",
    "\n",
    "    for i in range(n+1):\n",
    "        print(fibonacci_element(i), end = \" \")\n",
    "\n",
    "fibonacci_series(10)"
   ]
  },
  {
   "cell_type": "markdown",
   "id": "365064f7-64a6-481b-b95d-6bc47657edc3",
   "metadata": {
    "jp-MarkdownHeadingCollapsed": true,
    "tags": []
   },
   "source": [
    "##### With for loop"
   ]
  },
  {
   "cell_type": "code",
   "execution_count": 16,
   "id": "9886b822-c25a-42d3-b380-25ae4481d0a1",
   "metadata": {},
   "outputs": [
    {
     "name": "stdout",
     "output_type": "stream",
     "text": [
      "0 1 1 2 3 5 8 13 21 34 55 "
     ]
    }
   ],
   "source": [
    "def fibonacci_series_(n):\n",
    "    def fibonacci_element(n):\n",
    "        if n == 0:\n",
    "            return 0\n",
    "        if n == 1:\n",
    "            return 1\n",
    "        \n",
    "        n1, n2 = 0, 1\n",
    "        for num in range(2,n+1):\n",
    "            element = n1+n2\n",
    "            n1 = n2\n",
    "            n2 = element\n",
    "        return element\n",
    "    \n",
    "    for i in range(n+1):\n",
    "        print(fibonacci_element(i), end = \" \")\n",
    "        \n",
    "fibonacci_series_(10)"
   ]
  },
  {
   "cell_type": "markdown",
   "id": "f610c2bd-6a57-475d-af79-f31808e39053",
   "metadata": {
    "jp-MarkdownHeadingCollapsed": true,
    "tags": []
   },
   "source": [
    "### Interview Q\n",
    "\n",
    "    You are given a list of numbered cards. In each step, take a card from top as output and place second card from top at the bottom. List will always contain even number of elements.\n",
    "    \n",
    "    X = [1, 2, 3, 4, 5, 6]"
   ]
  },
  {
   "cell_type": "markdown",
   "id": "749e6f56-8410-49fe-bebd-1d318fd050af",
   "metadata": {
    "jp-MarkdownHeadingCollapsed": true,
    "tags": []
   },
   "source": [
    "##### Proper Solution "
   ]
  },
  {
   "cell_type": "code",
   "execution_count": 35,
   "id": "1aaddc1f-5ec3-4459-9059-a73538119a09",
   "metadata": {},
   "outputs": [
    {
     "data": {
      "text/plain": [
       "[1, 3, 5, 2, 6, 4]"
      ]
     },
     "execution_count": 35,
     "metadata": {},
     "output_type": "execute_result"
    }
   ],
   "source": [
    "def card_game_2(x):\n",
    "    if len(x) == 1:\n",
    "        return x\n",
    "    result = x[:1]\n",
    "    x = x[2:]+x[1:2]\n",
    "    return result + card_game_2(x)\n",
    "\n",
    "X = [1, 2, 3, 4, 5, 6]\n",
    "card_game_2(X)        "
   ]
  },
  {
   "cell_type": "markdown",
   "id": "3cc4601e-aed6-4dab-954e-44ac334bc05a",
   "metadata": {
    "jp-MarkdownHeadingCollapsed": true,
    "tags": []
   },
   "source": [
    "##### Using loop "
   ]
  },
  {
   "cell_type": "code",
   "execution_count": 27,
   "id": "e98e3edd-8b84-42f7-aa01-f2cc812ba125",
   "metadata": {},
   "outputs": [
    {
     "data": {
      "text/plain": [
       "[1, 3, 5, 2, 6, 4]"
      ]
     },
     "execution_count": 27,
     "metadata": {},
     "output_type": "execute_result"
    }
   ],
   "source": [
    "def card_game1(x):\n",
    "    result = []\n",
    "    for i in range(len(x)):\n",
    "        result.append(x[0])\n",
    "        x = x[2:]+x[1:2]\n",
    "    return result\n",
    "\n",
    "X = [1, 2, 3, 4, 5, 6]\n",
    "card_game1(X)"
   ]
  },
  {
   "cell_type": "code",
   "execution_count": null,
   "id": "bca2aab6-da17-43cf-a4b3-b31a1589c781",
   "metadata": {},
   "outputs": [],
   "source": []
  }
 ],
 "metadata": {
  "kernelspec": {
   "display_name": "Python 3 (ipykernel)",
   "language": "python",
   "name": "python3"
  },
  "language_info": {
   "codemirror_mode": {
    "name": "ipython",
    "version": 3
   },
   "file_extension": ".py",
   "mimetype": "text/x-python",
   "name": "python",
   "nbconvert_exporter": "python",
   "pygments_lexer": "ipython3",
   "version": "3.9.12"
  },
  "widgets": {
   "application/vnd.jupyter.widget-state+json": {
    "state": {},
    "version_major": 2,
    "version_minor": 0
   }
  }
 },
 "nbformat": 4,
 "nbformat_minor": 5
}
