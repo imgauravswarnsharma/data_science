{
 "cells": [
  {
   "cell_type": "markdown",
   "id": "d92747bf-4a89-42a6-9d44-0a7c685b2ee9",
   "metadata": {
    "tags": []
   },
   "source": [
    "# Co-ordinate Geometry\n",
    "       "
   ]
  },
  {
   "cell_type": "markdown",
   "id": "72b68253-d4b7-4fb3-a2f9-32979c763767",
   "metadata": {
    "tags": []
   },
   "source": [
    "## Theory"
   ]
  },
  {
   "cell_type": "markdown",
   "id": "f0fb2200-5cb5-490c-8105-8ed8c5f13cc9",
   "metadata": {},
   "source": [
    "*  working with points in a space (cartesian plane)\n",
    "* measurments of points in that space: Lines, angles, distances, locations, etc."
   ]
  },
  {
   "cell_type": "markdown",
   "id": "320a8115-60e5-410b-a9df-46675177581a",
   "metadata": {},
   "source": [
    "* Eculidian distance = sqrt((y2 - y1)**2) + (x2 - x1)**2))"
   ]
  },
  {
   "cell_type": "markdown",
   "id": "fd223464-2b8e-4d0d-a9b0-a652e7171a4c",
   "metadata": {
    "tags": []
   },
   "source": [
    "## Questions"
   ]
  },
  {
   "cell_type": "markdown",
   "id": "f365134f-e7ac-493e-b36b-5f36c5b0f5f6",
   "metadata": {
    "tags": []
   },
   "source": [
    "### Question 1\n",
    "\n",
    "    You are give 4 points in a order. Determine whether it is a rectangle or not.\n",
    "    \n",
    "    Cooridnates can be anything. Assume following for testing meanwhile:\n",
    "    [(0, -1), (6, 7), (-2, 3), (8,3)]"
   ]
  },
  {
   "cell_type": "markdown",
   "id": "5b54acc4-99b5-4b64-b7ab-bf6666ddb2d0",
   "metadata": {
    "tags": []
   },
   "source": [
    "##### Solution"
   ]
  },
  {
   "cell_type": "code",
   "execution_count": null,
   "id": "eba949a4-c6cd-4a2e-ad0a-001ef1b5dfec",
   "metadata": {},
   "outputs": [],
   "source": [
    "def is_rectangle(a,b,c,d):\n",
    "    "
   ]
  },
  {
   "cell_type": "markdown",
   "id": "33132a08-71a6-4b9c-bac1-9743c63d92cc",
   "metadata": {
    "tags": []
   },
   "source": [
    "# Basic Calculus"
   ]
  },
  {
   "cell_type": "markdown",
   "id": "16907433-c154-4eac-9634-3346914bfbb0",
   "metadata": {
    "jp-MarkdownHeadingCollapsed": true,
    "tags": []
   },
   "source": [
    "## Theory"
   ]
  },
  {
   "cell_type": "markdown",
   "id": "140d8f47-a0ba-40d5-a5e3-eeda7a976c16",
   "metadata": {
    "tags": []
   },
   "source": [
    "## Questions"
   ]
  },
  {
   "cell_type": "markdown",
   "id": "f56933eb-1872-4552-b0dc-8b668b1dca29",
   "metadata": {
    "tags": []
   },
   "source": [
    "### Question 1"
   ]
  },
  {
   "cell_type": "markdown",
   "id": "897c7c71-7789-4b96-b0c7-8b632a756361",
   "metadata": {},
   "source": []
  },
  {
   "cell_type": "markdown",
   "id": "891f4ba6-6dc8-4dbc-a1b9-34b2069b3909",
   "metadata": {
    "jp-MarkdownHeadingCollapsed": true,
    "tags": []
   },
   "source": [
    "##### Solution"
   ]
  }
 ],
 "metadata": {
  "kernelspec": {
   "display_name": "Python 3 (ipykernel)",
   "language": "python",
   "name": "python3"
  },
  "language_info": {
   "codemirror_mode": {
    "name": "ipython",
    "version": 3
   },
   "file_extension": ".py",
   "mimetype": "text/x-python",
   "name": "python",
   "nbconvert_exporter": "python",
   "pygments_lexer": "ipython3",
   "version": "3.9.12"
  },
  "widgets": {
   "application/vnd.jupyter.widget-state+json": {
    "state": {},
    "version_major": 2,
    "version_minor": 0
   }
  }
 },
 "nbformat": 4,
 "nbformat_minor": 5
}
