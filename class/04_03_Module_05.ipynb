{
 "cells": [
  {
   "cell_type": "markdown",
   "id": "d92747bf-4a89-42a6-9d44-0a7c685b2ee9",
   "metadata": {
    "tags": []
   },
   "source": [
    "# Co-ordinate Geometry\n",
    "       "
   ]
  },
  {
   "cell_type": "markdown",
   "id": "72b68253-d4b7-4fb3-a2f9-32979c763767",
   "metadata": {
    "tags": []
   },
   "source": [
    "## Theory\n",
    "*  working with points in a space (cartesian plane)\n",
    "* measurments of points in that space: Lines, angles, distances, locations, etc."
   ]
  },
  {
   "cell_type": "markdown",
   "id": "320a8115-60e5-410b-a9df-46675177581a",
   "metadata": {},
   "source": [
    "* Eculidian distance = sqrt((y2 - y1)**2) + (x2 - x1)**2))\n",
    "* Angles b/w lines:\n",
    "\n",
    "        y = mx+c where, m is the slope of the line and y is point at which line intercepts the x-axis.\n",
    "* Slope is defined as the rate of growth of y wrt x.\n",
    "\n",
    "        tan = m1m2\n",
    "* External angle Property:\n",
    "  * theta = theta1 + theta2"
   ]
  },
  {
   "cell_type": "markdown",
   "id": "fd223464-2b8e-4d0d-a9b0-a652e7171a4c",
   "metadata": {
    "jp-MarkdownHeadingCollapsed": true,
    "tags": []
   },
   "source": [
    "## Questions"
   ]
  },
  {
   "cell_type": "markdown",
   "id": "f365134f-e7ac-493e-b36b-5f36c5b0f5f6",
   "metadata": {
    "jp-MarkdownHeadingCollapsed": true,
    "tags": []
   },
   "source": [
    "### Question 1\n",
    "\n",
    "    You are give 4 points in a order. Determine whether it is a rectangle or not.\n",
    "    \n",
    "    Cooridnates can be anything. Assume following for testing meanwhile:\n",
    "    Input: [(0, -1), (6, 7), (-2, 3), (8,3)]\n",
    "    Output: True/False"
   ]
  },
  {
   "cell_type": "markdown",
   "id": "5b54acc4-99b5-4b64-b7ab-bf6666ddb2d0",
   "metadata": {
    "jp-MarkdownHeadingCollapsed": true,
    "tags": []
   },
   "source": [
    "##### Solution"
   ]
  },
  {
   "cell_type": "code",
   "execution_count": 25,
   "id": "eba949a4-c6cd-4a2e-ad0a-001ef1b5dfec",
   "metadata": {},
   "outputs": [
    {
     "data": {
      "text/plain": [
       "(True, [4.47, 8.94, 4.47, 8.94], [10.0, 10.0])"
      ]
     },
     "execution_count": 25,
     "metadata": {},
     "output_type": "execute_result"
    }
   ],
   "source": [
    "def is_rectangle(x):\n",
    "    distance = []\n",
    "    diagonal = []\n",
    "    for i in range(len(x)):\n",
    "        if i == len(x)-1:\n",
    "            result = ((x[i][1] - x[0][1])**2 + (x[i][0] - x[0][0])**2)**0.5\n",
    "        else:\n",
    "            result = ((x[i][1] - x[i+1][1])**2 + (x[i][0] - x[i+1][0])**2)**0.5\n",
    "        distance.append(round(result, 2))\n",
    "        \n",
    "    for i in range(2):\n",
    "        result = ((x[i][1] - x[i+2][1])**2 + (x[i][0] - x[i+2][0])**2)**0.5\n",
    "        diagonal.append(round(result, 2))\n",
    "    \n",
    "    if distance[0] == distance[2] and distance[1] == distance[3]:\n",
    "        if diagonal[0] == diagonal[1]:\n",
    "            return True, distance, diagonal\n",
    "    return False, distance, diagonal\n",
    "\n",
    "x = [(0, -1), (-2, 3), (6,7), (8,3)]\n",
    "is_rectangle(x)"
   ]
  },
  {
   "cell_type": "markdown",
   "id": "9ba4453d-bd9f-48de-9ffa-96e2a65c0bdd",
   "metadata": {
    "jp-MarkdownHeadingCollapsed": true,
    "tags": []
   },
   "source": [
    "##### Using function for distance b/w 2 points"
   ]
  },
  {
   "cell_type": "markdown",
   "id": "e283ba53-200e-4212-8b60-8373eb00ea7a",
   "metadata": {},
   "source": [
    "Code is more readable and short."
   ]
  },
  {
   "cell_type": "code",
   "execution_count": 24,
   "id": "2dac95a6-8ed3-4667-bdbf-eb31ebe24b85",
   "metadata": {},
   "outputs": [
    {
     "data": {
      "text/plain": [
       "True"
      ]
     },
     "execution_count": 24,
     "metadata": {},
     "output_type": "execute_result"
    }
   ],
   "source": [
    "def distance_2_points(a,b):\n",
    "    distance = ((b[1] - a[1])**2 + (b[0] - a[0])**2)**0.5\n",
    "    return distance\n",
    "\n",
    "def is_rectangle(x):\n",
    "    x10 = distance_2_points(x[0], x[1])\n",
    "    x21 = distance_2_points(x[1], x[2])\n",
    "    x32 = distance_2_points(x[2], x[3])\n",
    "    x30 = distance_2_points(x[0], x[3])\n",
    "    \n",
    "    x20 = distance_2_points(x[0], x[2])\n",
    "    x31 = distance_2_points(x[1], x[3])\n",
    "    \n",
    "    if x10 == x32 and x21 == x30:\n",
    "        if x20 == x31:\n",
    "            return True\n",
    "    return False\n",
    "\n",
    "x = [(0, -1), (-2, 3), (6,7), (8,3)]\n",
    "is_rectangle(x)"
   ]
  },
  {
   "cell_type": "markdown",
   "id": "92c2f218-4d98-46bc-8226-673991bac6af",
   "metadata": {
    "tags": []
   },
   "source": [
    "### Question 2\n",
    "\n",
    "    Given three points in order, determine whether it's a triangle or not.\n",
    "    \n",
    "    Note: Sum of any 2 sides is greater than 3rd side for a traingle."
   ]
  },
  {
   "cell_type": "markdown",
   "id": "79b3ccfb-c0f2-455d-a47b-89d867712261",
   "metadata": {
    "jp-MarkdownHeadingCollapsed": true,
    "tags": []
   },
   "source": [
    "##### Solution"
   ]
  },
  {
   "cell_type": "code",
   "execution_count": 21,
   "id": "5200efae-cce3-449a-83d3-3ce1d76082c7",
   "metadata": {},
   "outputs": [],
   "source": [
    "def distance_2_points(a,b):\n",
    "    distance = ((b[1] - a[1])**2 + (b[0] - a[0])**2)**0.5\n",
    "    return distance"
   ]
  },
  {
   "cell_type": "code",
   "execution_count": 22,
   "id": "b6524463-7869-4d04-982e-cb65f0242a67",
   "metadata": {},
   "outputs": [],
   "source": [
    "def is_triangle(x):\n",
    "    x10 = distance_2_points(x[0], x[1])\n",
    "    x21 = distance_2_points(x[1], x[2])\n",
    "    x20 = distance_2_points(x[2], x[0])\n",
    "    \n",
    "    if x1+x2 > x3 and x2+x3 > x1 and x3+x1 > x2:\n",
    "        return True\n",
    "    return False"
   ]
  },
  {
   "cell_type": "markdown",
   "id": "33132a08-71a6-4b9c-bac1-9743c63d92cc",
   "metadata": {
    "tags": []
   },
   "source": [
    "# Basic Calculus"
   ]
  },
  {
   "cell_type": "markdown",
   "id": "6e42932c-c178-41a2-bc9c-5e668993e999",
   "metadata": {
    "tags": []
   },
   "source": [
    "### Links"
   ]
  },
  {
   "cell_type": "markdown",
   "id": "65c3bdde-26c7-46d6-9bcf-892ca1df2910",
   "metadata": {},
   "source": [
    "* Graphing Tool:\n",
    "    * https://www.desmos.com/calculator\n",
    "* Gradient Descent - Explanantion  \n",
    "    * https://www.youtube.com/watch?v=sDv4f4s2SB8\n",
    "* Calculus:\n",
    "    * https://www.youtube.com/watch?v=WUvTyaaNkzM\n",
    "    *  https://www.mathsisfun.com/calculus/"
   ]
  },
  {
   "cell_type": "markdown",
   "id": "8e1cf353-cae8-467f-b47b-8d06bfa846ac",
   "metadata": {},
   "source": [
    "## Functions"
   ]
  },
  {
   "cell_type": "markdown",
   "id": "70df69dc-3663-44ee-982e-ffb8b8d8d62d",
   "metadata": {},
   "source": [
    "        f(x) = y\n",
    "* **f(x) = y**, where, `x` represents domain of the function i.e ***x*** includes all the possible values of independent variable for which ***y*** is defined for that function.\n",
    "\n",
    "* **Domain**\n",
    "    * Set of all possible inputs\n",
    "    * Indicated on x-axis in cartesian plane  \n",
    "            \n",
    "* **Range**\n",
    "    * Set of all possible outputs\n",
    "    * Indicated on y-axis in cartesian plane"
   ]
  },
  {
   "cell_type": "markdown",
   "id": "ef16cf79-ede8-448e-b466-80e37dec8d1f",
   "metadata": {},
   "source": [
    "* Symbols and their meanings:\n",
    "    * `{}` indicates unique numbers only (not range).\n",
    "    * `[]` indicates range is inclusive.\n",
    "    * `()` indicates range is non-inclusive"
   ]
  },
  {
   "cell_type": "markdown",
   "id": "65dbd3e9-b9d5-484a-ba87-df223d8ff246",
   "metadata": {},
   "source": [
    "Example:\n",
    "        \n",
    "        f(x) = x^2\n",
    "        \n",
    "    Domain: (-inf, inf)\n",
    "    Range: [0, inf)\n",
    "\n",
    "0 is inclusive in the range infinity is not."
   ]
  },
  {
   "cell_type": "markdown",
   "id": "0217ac9c-1dbb-48b1-b3ed-41876fdccdb6",
   "metadata": {
    "tags": []
   },
   "source": [
    "### Types of Function"
   ]
  },
  {
   "cell_type": "markdown",
   "id": "c7f65e76-3c0e-49fe-b3f2-04e2b11d63d0",
   "metadata": {
    "jp-MarkdownHeadingCollapsed": true,
    "tags": []
   },
   "source": [
    "* Step Function\n",
    "* Linear Function\n",
    "* Quadratic Function\n",
    "* Logarithmic function\n",
    "* Exponenetial function\n",
    "* Polynomial function"
   ]
  },
  {
   "cell_type": "markdown",
   "id": "37177080-ae62-456a-9164-8138600deda9",
   "metadata": {},
   "source": [
    "#### Step Function"
   ]
  },
  {
   "cell_type": "markdown",
   "id": "5c9183a4-08b0-4bd7-81e4-aba18f4616e7",
   "metadata": {},
   "source": [
    "        f(x) = {\n",
    "                1: x>0\n",
    "                0: x<=0\n",
    "                }\n",
    "        \n",
    "        Domain: (-inf, inf)\n",
    "         Range: {0, 1}\n",
    "        \n",
    "* Example of step function where for all values of 'x' greater than 0, value of 'y' is 1, and, for all values of 'x' less than or equal to 0, value of 'y' is 0."
   ]
  },
  {
   "cell_type": "markdown",
   "id": "5867d058-07b7-4072-9f34-9ecb490f47b9",
   "metadata": {},
   "source": [
    "    f(x) = {\n",
    "            -2: x<(-1)\n",
    "             0: (-1)<=x<=2\n",
    "             2: x>1\n",
    "            }\n",
    "    \n",
    "    Domain: (-inf, inf)\n",
    "     Range: {-2, 0, 2}\n",
    "\n",
    "* Domain is from -inf to inf and range is -2, 0 & 2.  \n",
    "* Step function where y is 2 for all values of x greater than 1, y is 0 for all values of x less than or equal to 2 and greater than or equal to -1, and, y is -2 for all values of x less than -1.  "
   ]
  },
  {
   "cell_type": "markdown",
   "id": "fd382d50-3c06-479d-88a9-2074ec5523a8",
   "metadata": {},
   "source": [
    "#### Linear Function"
   ]
  },
  {
   "cell_type": "markdown",
   "id": "96d1058b-f1b4-474e-89d9-7ed8a0c3d7cd",
   "metadata": {},
   "source": [
    "General Form: **y = mx+c**"
   ]
  },
  {
   "cell_type": "markdown",
   "id": "4ccf5d18-62fe-4763-ae46-b0d2f7063e09",
   "metadata": {},
   "source": [
    "##### Example 1"
   ]
  },
  {
   "cell_type": "markdown",
   "id": "eca6bddb-d299-42d8-b40f-75a39396af3d",
   "metadata": {},
   "source": [
    "        y = 2x+7\n",
    "        \n",
    "        Domain: (-inf, inf)\n",
    "        Range: (-inf, inf)"
   ]
  },
  {
   "cell_type": "markdown",
   "id": "df8ab0af-5a7d-40ac-beb4-314b31ec124a",
   "metadata": {},
   "source": [
    "#### Quadratic function"
   ]
  },
  {
   "cell_type": "markdown",
   "id": "7b1c2f66-44c5-4251-a191-b485b9000707",
   "metadata": {},
   "source": [
    "General Form: **y = ax^2+bx+c**"
   ]
  },
  {
   "cell_type": "markdown",
   "id": "2f495316-94cf-4507-9e93-eede0a44224c",
   "metadata": {},
   "source": [
    "##### Example 1"
   ]
  },
  {
   "cell_type": "markdown",
   "id": "a2219233-a525-4346-ac20-f6ac134aa773",
   "metadata": {},
   "source": [
    "    y = x^2+2x+4\n",
    "    \n",
    "    Domain: (-inf, inf)\n",
    "    Range: [3, inf)\n",
    "    \n",
    "For x = -1, value of y will be lowest at 3. You can check the same via plotting the graph."
   ]
  },
  {
   "cell_type": "markdown",
   "id": "d046fd26-4be2-477a-8fe1-c6eb477857c9",
   "metadata": {},
   "source": [
    "##### Example 2"
   ]
  },
  {
   "cell_type": "markdown",
   "id": "1c88d5a3-0719-4de9-b108-3de1e1bcd2ca",
   "metadata": {},
   "source": [
    "    y = x^2+2x-4\n",
    "    \n",
    "    Domain: (-inf, inf)\n",
    "    Range: [-5, inf)\n",
    "    \n",
    "For x = -1, value of y will be lowest at -5. You can check the same via plotting the graph."
   ]
  },
  {
   "cell_type": "markdown",
   "id": "61f47e00-ed4b-4e60-b00f-aa9cc1c095f9",
   "metadata": {},
   "source": [
    "##### Question"
   ]
  },
  {
   "cell_type": "markdown",
   "id": "61434b8b-d8f5-4fef-88aa-5d10a716b4b5",
   "metadata": {},
   "source": [
    "    Find the domain and range of f(x) = x^(1/2)+4."
   ]
  },
  {
   "cell_type": "markdown",
   "id": "4663dc68-b396-4221-99d5-983576ff1201",
   "metadata": {},
   "source": [
    "##### Solution"
   ]
  },
  {
   "cell_type": "markdown",
   "id": "016eac59-bb21-4de8-86db-20d62d905dfd",
   "metadata": {},
   "source": [
    "    Domain: (0, inf)\n",
    "    Range: [4, inf)"
   ]
  },
  {
   "cell_type": "markdown",
   "id": "f40b87d3-a255-4bb8-96cb-9584e6b3b493",
   "metadata": {},
   "source": [
    "#### Exponential Function"
   ]
  },
  {
   "cell_type": "markdown",
   "id": "8a54bb5c-7ab2-42ba-a5f1-f143cfc283f0",
   "metadata": {},
   "source": [
    "General Form: **y = a^x**"
   ]
  },
  {
   "cell_type": "markdown",
   "id": "cba22eba-cd6a-4046-9efb-e095213856f4",
   "metadata": {},
   "source": [
    "##### Example 1"
   ]
  },
  {
   "cell_type": "markdown",
   "id": "68dd3a8d-116d-4f5c-917c-53b3077393c5",
   "metadata": {},
   "source": [
    "\n",
    "    y = e^x\n",
    "    \n",
    "    Domain: (-inf, inf)\n",
    "    Range:  (0, inf)"
   ]
  },
  {
   "cell_type": "markdown",
   "id": "5f888af3-d534-4eb3-9d7a-3495859e7157",
   "metadata": {},
   "source": [
    "#### Logarithmic Function"
   ]
  },
  {
   "cell_type": "markdown",
   "id": "ae599025-d729-4e6d-8165-2fc8d5b2b2b2",
   "metadata": {},
   "source": [
    "* Log functions are inverse of exponential function"
   ]
  },
  {
   "cell_type": "markdown",
   "id": "b8c370c5-1c69-48dd-ad17-c580fa3bbf40",
   "metadata": {},
   "source": [
    "    log(e(x)) = ln(x)"
   ]
  },
  {
   "cell_type": "markdown",
   "id": "9f9b4478-1462-495c-b261-54942758e167",
   "metadata": {},
   "source": [
    "    y = ln(x)\n",
    "    \n",
    "    Domain: (0, inf)\n",
    "    Range:  (-inf, inf)"
   ]
  },
  {
   "cell_type": "markdown",
   "id": "08b063ba-8cef-4ac2-a9a0-2de725628df3",
   "metadata": {},
   "source": [
    "**Note:** *If we plot `e^x`, `x` and `ln(x)`, then we are able to see ln(x) is mirror image of e^x with y = x as the reference.*"
   ]
  },
  {
   "cell_type": "markdown",
   "id": "57215dab-76e4-4f2a-9e44-a30f03ae5fe3",
   "metadata": {},
   "source": [
    "### Continuity of a function"
   ]
  },
  {
   "cell_type": "markdown",
   "id": "0543e65a-276c-464d-8742-361df56b3d7f",
   "metadata": {},
   "source": [
    "If we do not lift the pen while plotting the graph of a function, then it is a continous function."
   ]
  },
  {
   "cell_type": "markdown",
   "id": "56a75b11-2e89-4df8-b97f-c5e4e87fa03d",
   "metadata": {},
   "source": [
    "Continutity of a function can also be defined mayhematically, by limits. If **L.H.L and R.H.L are equal** for the all the possible values of *x* then the said function is continous for all possible values of *x*."
   ]
  },
  {
   "cell_type": "markdown",
   "id": "970d52b0-a0a9-42cc-a834-c163df1b731b",
   "metadata": {},
   "source": [
    "### Limits of a function"
   ]
  },
  {
   "cell_type": "markdown",
   "id": "68bdad1f-5a1c-4389-9451-46902a8614fa",
   "metadata": {},
   "source": [
    "    lim f(x) = L\n",
    "    x -> c\n",
    "    \n",
    "Read as: limit of *x* as *x* approaches *c*"
   ]
  },
  {
   "cell_type": "markdown",
   "id": "3a3a1f55-b8e3-4025-a5dd-ec61cb2487f3",
   "metadata": {},
   "source": [
    "Two ways to approach limit:\n",
    "\n",
    "* LHL (Left Hand Limit)\n",
    "\n",
    "        lim f(x) = L  \n",
    "         x -> c-\n",
    "* RHL (Right Hand Limit)\n",
    "    \n",
    "        lim f(x) = L  \n",
    "         x -> c+"
   ]
  },
  {
   "cell_type": "markdown",
   "id": "8557d6b4-329a-4a85-8bfb-721013dd37a7",
   "metadata": {},
   "source": [
    "If L.H.L == R.H.L at some point *x*, the function would be continous at that point 'x'."
   ]
  },
  {
   "cell_type": "markdown",
   "id": "019ba37d-38c1-4ac9-b1f4-55e1ba12dfda",
   "metadata": {},
   "source": [
    "### Derivatives"
   ]
  },
  {
   "cell_type": "markdown",
   "id": "17e9e7ca-a477-495a-8acc-afc10ac9f8e8",
   "metadata": {},
   "source": [
    "Methods to calculate slope:\n",
    "* Mathematical Rules\n",
    "* Ab initio Method (uses limit rules)"
   ]
  },
  {
   "cell_type": "markdown",
   "id": "156d032f-a392-442c-b147-8237421da1de",
   "metadata": {
    "tags": []
   },
   "source": [
    "#### Mathematical Methods"
   ]
  },
  {
   "cell_type": "markdown",
   "id": "8446afc1-f91e-48c6-aba9-59f880242e4c",
   "metadata": {},
   "source": [
    "Rules of derivative for mathematical methods:\n",
    "* Derivatives of monomial\n",
    "* Linearity Rule\n",
    "* Product rule\n",
    "* Chain Rule"
   ]
  },
  {
   "cell_type": "markdown",
   "id": "f41d4e9d-3730-4f61-8836-d389ce0a3fb0",
   "metadata": {},
   "source": [
    "##### Derivatives of monomial"
   ]
  },
  {
   "cell_type": "markdown",
   "id": "bc5229a9-c4e3-4deb-ac0b-0eb13ccd8eae",
   "metadata": {},
   "source": [
    "    f(x)  = ax^n\n",
    "    \n",
    "    Derivative:\n",
    "    f'(x) = a.n.x^(n-1) "
   ]
  },
  {
   "cell_type": "markdown",
   "id": "e6cbf7a3-1ebd-4696-84c2-a52956a6454b",
   "metadata": {},
   "source": [
    "##### Linearity Rule"
   ]
  },
  {
   "cell_type": "markdown",
   "id": "aedb99da-c776-4b35-b263-7c680eb20159",
   "metadata": {},
   "source": [
    "    h(x) = a.f(x) + b.g(x)\n",
    "    \n",
    "    Derivative:\n",
    "    h'(x) = a.f'(x) + b.g'(x)"
   ]
  },
  {
   "cell_type": "markdown",
   "id": "36c1e0dd-c8f1-4429-88e4-ff1197ce52e3",
   "metadata": {},
   "source": [
    "##### Product rule"
   ]
  },
  {
   "cell_type": "markdown",
   "id": "02908deb-bb4b-43e6-bc34-619444e7112e",
   "metadata": {},
   "source": [
    "    h(x) = f(x). g(x)\n",
    "\n",
    "    Derivative:\n",
    "    h'(x) = f'(x).g(x) + g'(x).f(x)"
   ]
  },
  {
   "cell_type": "markdown",
   "id": "2e761b76-b586-4321-887c-ab41b5cf11ac",
   "metadata": {},
   "source": [
    "##### Chain Rule"
   ]
  },
  {
   "cell_type": "markdown",
   "id": "53e74fc1-645b-4ce7-ae40-160bb4e058c3",
   "metadata": {},
   "source": [
    "    h(x) = f(g(x))\n",
    "    \n",
    "    h'(x) = f'g(x).g'(x)"
   ]
  },
  {
   "cell_type": "markdown",
   "id": "bb9738a8-5964-4c0c-97fa-86f0cb2d8d2d",
   "metadata": {},
   "source": [
    "#### Ab inito Method"
   ]
  },
  {
   "cell_type": "markdown",
   "id": "51e77ae0-e24a-4848-8921-f3ba9de4ca13",
   "metadata": {},
   "source": [
    "     f'(x) = lim   f(a+h) - f(a)\n",
    "            h -> 0 -------------\n",
    "                         h\n",
    "Smaller h will lead to more accurate results."
   ]
  },
  {
   "cell_type": "markdown",
   "id": "f2bb1189-b717-44d8-a9bd-37250198cebe",
   "metadata": {},
   "source": [
    "##### Ab initio function to calculate derivative (Code)"
   ]
  },
  {
   "cell_type": "markdown",
   "id": "d961fa40-6e55-4e07-a73c-46113f5400bc",
   "metadata": {},
   "source": [
    "It will return value of derivative (slope) for a given point *x* for a function."
   ]
  },
  {
   "cell_type": "code",
   "execution_count": 1,
   "id": "7621b26c-501a-4513-a0fe-9fb9c61f60ad",
   "metadata": {},
   "outputs": [],
   "source": [
    "def get_derivative(f, a):\n",
    "    h = 0.001\n",
    "    d = (f(a+h)-f(a))/h\n",
    "    return d"
   ]
  },
  {
   "cell_type": "code",
   "execution_count": 4,
   "id": "8a332781-5beb-4348-97b6-be6ba0bef5dc",
   "metadata": {},
   "outputs": [],
   "source": [
    "import math as m\n",
    "def func_to_calculate(x):\n",
    "    return ((m.e**2) * m.log(x))/(x**3)"
   ]
  },
  {
   "cell_type": "markdown",
   "id": "c3d7f985-3268-4640-8efe-3a153cf473c7",
   "metadata": {},
   "source": [
    "    f(x) =  e^2 * log(x)\n",
    "           --------------\n",
    "                x^3"
   ]
  },
  {
   "cell_type": "code",
   "execution_count": 5,
   "id": "fd02b555-6f4d-479f-8342-cd75129f4e9f",
   "metadata": {},
   "outputs": [
    {
     "data": {
      "text/plain": [
       "-0.4983511364081705"
      ]
     },
     "execution_count": 5,
     "metadata": {},
     "output_type": "execute_result"
    }
   ],
   "source": [
    "get_derivative(func_to_calculate, 2)"
   ]
  },
  {
   "cell_type": "code",
   "execution_count": 7,
   "id": "f46ea385-b59a-4b1f-8db4-5f74e1f71022",
   "metadata": {},
   "outputs": [],
   "source": [
    "import math as m\n",
    "def func(x):\n",
    "    return x-(1/x)"
   ]
  },
  {
   "cell_type": "code",
   "execution_count": 8,
   "id": "13f9b92b-7b11-4f8c-9129-8fd5727079dc",
   "metadata": {},
   "outputs": [
    {
     "data": {
      "text/plain": [
       "2.0010010010010904"
      ]
     },
     "execution_count": 8,
     "metadata": {},
     "output_type": "execute_result"
    }
   ],
   "source": [
    "get_derivative(func, -1)"
   ]
  },
  {
   "cell_type": "markdown",
   "id": "555d6615-8dd5-49fe-8b69-5c69eb072672",
   "metadata": {},
   "source": [
    "##### Calculating maxima and minima"
   ]
  },
  {
   "cell_type": "markdown",
   "id": "58a20d05-7f28-49df-89dc-60e10b96d155",
   "metadata": {},
   "source": [
    "Steps:\n",
    "* Calculate *f'(x)*\n",
    "* Find the values of *x* whixh satisfies *f'(x) == 0*.\n",
    "* Calculate *f''(x)*.\n",
    "* Insert the values of *x* in *f''(x)*."
   ]
  }
 ],
 "metadata": {
  "kernelspec": {
   "display_name": "Python 3 (ipykernel)",
   "language": "python",
   "name": "python3"
  },
  "language_info": {
   "codemirror_mode": {
    "name": "ipython",
    "version": 3
   },
   "file_extension": ".py",
   "mimetype": "text/x-python",
   "name": "python",
   "nbconvert_exporter": "python",
   "pygments_lexer": "ipython3",
   "version": "3.9.12"
  },
  "widgets": {
   "application/vnd.jupyter.widget-state+json": {
    "state": {},
    "version_major": 2,
    "version_minor": 0
   }
  }
 },
 "nbformat": 4,
 "nbformat_minor": 5
}
