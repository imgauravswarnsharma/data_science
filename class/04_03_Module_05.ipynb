{
 "cells": [
  {
   "cell_type": "markdown",
   "id": "d92747bf-4a89-42a6-9d44-0a7c685b2ee9",
   "metadata": {
    "tags": []
   },
   "source": [
    "# Co-ordinate Geometry\n",
    "       "
   ]
  },
  {
   "cell_type": "markdown",
   "id": "72b68253-d4b7-4fb3-a2f9-32979c763767",
   "metadata": {
    "tags": []
   },
   "source": [
    "## Theory\n",
    "*  working with points in a space (cartesian plane)\n",
    "* measurments of points in that space: Lines, angles, distances, locations, etc."
   ]
  },
  {
   "cell_type": "markdown",
   "id": "320a8115-60e5-410b-a9df-46675177581a",
   "metadata": {},
   "source": [
    "* Eculidian distance = sqrt((y2 - y1)**2) + (x2 - x1)**2))\n",
    "* Angles b/w lines:\n",
    "\n",
    "        y = mx+c where, m is the slope of the line and y is point at which line intercepts the x-axis.\n",
    "* Slope is defined as the rate of growth of y wrt x.\n",
    "\n",
    "        tan = m1m2\n",
    "* External angle Property:\n",
    "  * theta = theta1 + theta2"
   ]
  },
  {
   "cell_type": "markdown",
   "id": "fd223464-2b8e-4d0d-a9b0-a652e7171a4c",
   "metadata": {
    "jp-MarkdownHeadingCollapsed": true,
    "tags": []
   },
   "source": [
    "## Questions"
   ]
  },
  {
   "cell_type": "markdown",
   "id": "f365134f-e7ac-493e-b36b-5f36c5b0f5f6",
   "metadata": {
    "jp-MarkdownHeadingCollapsed": true,
    "tags": []
   },
   "source": [
    "### Question 1\n",
    "\n",
    "    You are give 4 points in a order. Determine whether it is a rectangle or not.\n",
    "    \n",
    "    Cooridnates can be anything. Assume following for testing meanwhile:\n",
    "    Input: [(0, -1), (6, 7), (-2, 3), (8,3)]\n",
    "    Output: True/False"
   ]
  },
  {
   "cell_type": "markdown",
   "id": "5b54acc4-99b5-4b64-b7ab-bf6666ddb2d0",
   "metadata": {
    "jp-MarkdownHeadingCollapsed": true,
    "tags": []
   },
   "source": [
    "##### Solution"
   ]
  },
  {
   "cell_type": "code",
   "execution_count": 25,
   "id": "eba949a4-c6cd-4a2e-ad0a-001ef1b5dfec",
   "metadata": {},
   "outputs": [
    {
     "data": {
      "text/plain": [
       "(True, [4.47, 8.94, 4.47, 8.94], [10.0, 10.0])"
      ]
     },
     "execution_count": 25,
     "metadata": {},
     "output_type": "execute_result"
    }
   ],
   "source": [
    "def is_rectangle(x):\n",
    "    distance = []\n",
    "    diagonal = []\n",
    "    for i in range(len(x)):\n",
    "        if i == len(x)-1:\n",
    "            result = ((x[i][1] - x[0][1])**2 + (x[i][0] - x[0][0])**2)**0.5\n",
    "        else:\n",
    "            result = ((x[i][1] - x[i+1][1])**2 + (x[i][0] - x[i+1][0])**2)**0.5\n",
    "        distance.append(round(result, 2))\n",
    "        \n",
    "    for i in range(2):\n",
    "        result = ((x[i][1] - x[i+2][1])**2 + (x[i][0] - x[i+2][0])**2)**0.5\n",
    "        diagonal.append(round(result, 2))\n",
    "    \n",
    "    if distance[0] == distance[2] and distance[1] == distance[3]:\n",
    "        if diagonal[0] == diagonal[1]:\n",
    "            return True, distance, diagonal\n",
    "    return False, distance, diagonal\n",
    "\n",
    "x = [(0, -1), (-2, 3), (6,7), (8,3)]\n",
    "is_rectangle(x)"
   ]
  },
  {
   "cell_type": "markdown",
   "id": "9ba4453d-bd9f-48de-9ffa-96e2a65c0bdd",
   "metadata": {
    "jp-MarkdownHeadingCollapsed": true,
    "tags": []
   },
   "source": [
    "##### Using function for distance b/w 2 points"
   ]
  },
  {
   "cell_type": "markdown",
   "id": "e283ba53-200e-4212-8b60-8373eb00ea7a",
   "metadata": {},
   "source": [
    "Code is more readable and short."
   ]
  },
  {
   "cell_type": "code",
   "execution_count": 24,
   "id": "2dac95a6-8ed3-4667-bdbf-eb31ebe24b85",
   "metadata": {},
   "outputs": [
    {
     "data": {
      "text/plain": [
       "True"
      ]
     },
     "execution_count": 24,
     "metadata": {},
     "output_type": "execute_result"
    }
   ],
   "source": [
    "def distance_2_points(a,b):\n",
    "    distance = ((b[1] - a[1])**2 + (b[0] - a[0])**2)**0.5\n",
    "    return distance\n",
    "\n",
    "def is_rectangle(x):\n",
    "    x10 = distance_2_points(x[0], x[1])\n",
    "    x21 = distance_2_points(x[1], x[2])\n",
    "    x32 = distance_2_points(x[2], x[3])\n",
    "    x30 = distance_2_points(x[0], x[3])\n",
    "    \n",
    "    x20 = distance_2_points(x[0], x[2])\n",
    "    x31 = distance_2_points(x[1], x[3])\n",
    "    \n",
    "    if x10 == x32 and x21 == x30:\n",
    "        if x20 == x31:\n",
    "            return True\n",
    "    return False\n",
    "\n",
    "x = [(0, -1), (-2, 3), (6,7), (8,3)]\n",
    "is_rectangle(x)"
   ]
  },
  {
   "cell_type": "markdown",
   "id": "92c2f218-4d98-46bc-8226-673991bac6af",
   "metadata": {
    "tags": []
   },
   "source": [
    "### Question 2\n",
    "\n",
    "    Given three points in order, determine whether it's a triangle or not.\n",
    "    \n",
    "    Note: Sum of any 2 sides is greater than 3rd side for a traingle."
   ]
  },
  {
   "cell_type": "markdown",
   "id": "79b3ccfb-c0f2-455d-a47b-89d867712261",
   "metadata": {
    "jp-MarkdownHeadingCollapsed": true,
    "tags": []
   },
   "source": [
    "##### Solution"
   ]
  },
  {
   "cell_type": "code",
   "execution_count": 21,
   "id": "5200efae-cce3-449a-83d3-3ce1d76082c7",
   "metadata": {},
   "outputs": [],
   "source": [
    "def distance_2_points(a,b):\n",
    "    distance = ((b[1] - a[1])**2 + (b[0] - a[0])**2)**0.5\n",
    "    return distance"
   ]
  },
  {
   "cell_type": "code",
   "execution_count": 22,
   "id": "b6524463-7869-4d04-982e-cb65f0242a67",
   "metadata": {},
   "outputs": [],
   "source": [
    "def is_triangle(x):\n",
    "    x10 = distance_2_points(x[0], x[1])\n",
    "    x21 = distance_2_points(x[1], x[2])\n",
    "    x20 = distance_2_points(x[2], x[0])\n",
    "    \n",
    "    if x1+x2 > x3 and x2+x3 > x1 and x3+x1 > x2:\n",
    "        return True\n",
    "    return False"
   ]
  },
  {
   "cell_type": "markdown",
   "id": "33132a08-71a6-4b9c-bac1-9743c63d92cc",
   "metadata": {
    "tags": []
   },
   "source": [
    "# Basic Calculus"
   ]
  },
  {
   "cell_type": "markdown",
   "id": "16907433-c154-4eac-9634-3346914bfbb0",
   "metadata": {
    "jp-MarkdownHeadingCollapsed": true,
    "tags": []
   },
   "source": [
    "## Theory"
   ]
  },
  {
   "cell_type": "markdown",
   "id": "140d8f47-a0ba-40d5-a5e3-eeda7a976c16",
   "metadata": {
    "tags": []
   },
   "source": [
    "## Questions"
   ]
  },
  {
   "cell_type": "markdown",
   "id": "f56933eb-1872-4552-b0dc-8b668b1dca29",
   "metadata": {
    "tags": []
   },
   "source": [
    "### Question 1"
   ]
  },
  {
   "cell_type": "markdown",
   "id": "897c7c71-7789-4b96-b0c7-8b632a756361",
   "metadata": {},
   "source": []
  },
  {
   "cell_type": "markdown",
   "id": "891f4ba6-6dc8-4dbc-a1b9-34b2069b3909",
   "metadata": {
    "jp-MarkdownHeadingCollapsed": true,
    "tags": []
   },
   "source": [
    "##### Solution"
   ]
  }
 ],
 "metadata": {
  "kernelspec": {
   "display_name": "Python 3 (ipykernel)",
   "language": "python",
   "name": "python3"
  },
  "language_info": {
   "codemirror_mode": {
    "name": "ipython",
    "version": 3
   },
   "file_extension": ".py",
   "mimetype": "text/x-python",
   "name": "python",
   "nbconvert_exporter": "python",
   "pygments_lexer": "ipython3",
   "version": "3.9.12"
  },
  "widgets": {
   "application/vnd.jupyter.widget-state+json": {
    "state": {},
    "version_major": 2,
    "version_minor": 0
   }
  }
 },
 "nbformat": 4,
 "nbformat_minor": 5
}
